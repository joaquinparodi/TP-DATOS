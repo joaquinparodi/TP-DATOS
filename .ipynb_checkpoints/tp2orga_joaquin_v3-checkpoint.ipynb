{
 "cells": [
  {
   "cell_type": "markdown",
   "metadata": {
    "colab_type": "text",
    "id": "view-in-github"
   },
   "source": [
    "<a href=\"https://colab.research.google.com/github/joaquinparodi/TP1-DATOS/blob/main/tp2orga_joaquin_v3.ipynb\" target=\"_parent\"><img src=\"https://colab.research.google.com/assets/colab-badge.svg\" alt=\"Open In Colab\"/></a>"
   ]
  },
  {
   "cell_type": "code",
   "execution_count": 1,
   "metadata": {
    "colab": {
     "base_uri": "https://localhost:8080/"
    },
    "id": "BTDqJL94FYGe",
    "outputId": "1b7572d9-0e86-435b-c28d-753336f48a14"
   },
   "outputs": [
    {
     "name": "stdout",
     "output_type": "stream",
     "text": [
      "Collecting ptitprince\n",
      "  Downloading https://files.pythonhosted.org/packages/4a/da/b7032999bc29a3974ac9c7939d56a669335966d8820356a723be978697fb/ptitprince-0.2.5.tar.gz\n",
      "Requirement already satisfied: seaborn>=0.10 in /usr/local/lib/python3.6/dist-packages (from ptitprince) (0.11.1)\n",
      "Requirement already satisfied: matplotlib in /usr/local/lib/python3.6/dist-packages (from ptitprince) (3.2.2)\n",
      "Requirement already satisfied: numpy>=1.13 in /usr/local/lib/python3.6/dist-packages (from ptitprince) (1.19.5)\n",
      "Requirement already satisfied: scipy in /usr/local/lib/python3.6/dist-packages (from ptitprince) (1.4.1)\n",
      "Collecting PyHamcrest>=1.9.0\n",
      "\u001b[?25l  Downloading https://files.pythonhosted.org/packages/40/16/e54cc65891f01cb62893540f44ffd3e8dab0a22443e1b438f1a9f5574bee/PyHamcrest-2.0.2-py3-none-any.whl (52kB)\n",
      "\u001b[K     |████████████████████████████████| 61kB 5.2MB/s \n",
      "\u001b[?25hRequirement already satisfied: cython in /usr/local/lib/python3.6/dist-packages (from ptitprince) (0.29.21)\n",
      "Requirement already satisfied: pandas>=0.23 in /usr/local/lib/python3.6/dist-packages (from seaborn>=0.10->ptitprince) (1.1.5)\n",
      "Requirement already satisfied: kiwisolver>=1.0.1 in /usr/local/lib/python3.6/dist-packages (from matplotlib->ptitprince) (1.3.1)\n",
      "Requirement already satisfied: python-dateutil>=2.1 in /usr/local/lib/python3.6/dist-packages (from matplotlib->ptitprince) (2.8.1)\n",
      "Requirement already satisfied: pyparsing!=2.0.4,!=2.1.2,!=2.1.6,>=2.0.1 in /usr/local/lib/python3.6/dist-packages (from matplotlib->ptitprince) (2.4.7)\n",
      "Requirement already satisfied: cycler>=0.10 in /usr/local/lib/python3.6/dist-packages (from matplotlib->ptitprince) (0.10.0)\n",
      "Requirement already satisfied: pytz>=2017.2 in /usr/local/lib/python3.6/dist-packages (from pandas>=0.23->seaborn>=0.10->ptitprince) (2018.9)\n",
      "Requirement already satisfied: six>=1.5 in /usr/local/lib/python3.6/dist-packages (from python-dateutil>=2.1->matplotlib->ptitprince) (1.15.0)\n",
      "Building wheels for collected packages: ptitprince\n",
      "  Building wheel for ptitprince (setup.py) ... \u001b[?25l\u001b[?25hdone\n",
      "  Created wheel for ptitprince: filename=ptitprince-0.2.5-cp36-none-any.whl size=8428 sha256=2690213454857c333bb9f99fb3ac4e58aed5e7daa9be4d4ce83b4038770f7c65\n",
      "  Stored in directory: /root/.cache/pip/wheels/fb/c1/75/2ef8da161053bdf8e03f9a360f426accd4fac1ddf7f6ed0029\n",
      "Successfully built ptitprince\n",
      "Installing collected packages: PyHamcrest, ptitprince\n",
      "Successfully installed PyHamcrest-2.0.2 ptitprince-0.2.5\n"
     ]
    }
   ],
   "source": [
    "# importacion general de librerias y de visualizacion (matplotlib y seaborn)\n",
    "!pip install ptitprince\n",
    "import ptitprince as pt\n",
    "import pandas as pd\n",
    "import numpy as np\n"
   ]
  },
  {
   "cell_type": "code",
   "execution_count": 2,
   "metadata": {
    "id": "wtgYMgn_kuPz"
   },
   "outputs": [],
   "source": [
    "import matplotlib.pylab as plt\n",
    "import seaborn as sns"
   ]
  },
  {
   "cell_type": "code",
   "execution_count": 3,
   "metadata": {
    "id": "ycF5SnjfGj4I"
   },
   "outputs": [],
   "source": [
    "from pydrive.auth import GoogleAuth\n",
    "from pydrive.drive import GoogleDrive\n",
    "from google.colab import auth\n",
    "from oauth2client.client import GoogleCredentials"
   ]
  },
  {
   "cell_type": "code",
   "execution_count": 5,
   "metadata": {
    "id": "QJbV2lDrGj-b"
   },
   "outputs": [],
   "source": [
    "auth.authenticate_user()\n",
    "gauth = GoogleAuth()\n",
    "gauth.credentials = GoogleCredentials.get_application_default()\n",
    "drive = GoogleDrive(gauth)"
   ]
  },
  {
   "cell_type": "code",
   "execution_count": 6,
   "metadata": {
    "id": "67yYcLf_GyAO"
   },
   "outputs": [],
   "source": [
    " \n",
    "id='1MfnxlPGSmr-i1up_2iKCkrBIMcDHomnK'\n",
    "downloaded = drive.CreateFile({'id': id})\n",
    "downloaded.GetContentFile('data.csv')"
   ]
  },
  {
   "cell_type": "code",
   "execution_count": 7,
   "metadata": {
    "id": "mWdphOAZwRLl"
   },
   "outputs": [],
   "source": [
    "id='1kZt5ZN2eAyeNEIWLh6lGckgyDIxpHN4f'\n",
    "downloaded = drive.CreateFile({'id': id})\n",
    "downloaded.GetContentFile('test.csv')"
   ]
  },
  {
   "cell_type": "code",
   "execution_count": 8,
   "metadata": {
    "id": "Ia9MlRRywaD7"
   },
   "outputs": [],
   "source": [
    "test=pd.read_csv('test.csv')"
   ]
  },
  {
   "cell_type": "code",
   "execution_count": 9,
   "metadata": {
    "id": "pFeCl82j8PtJ"
   },
   "outputs": [],
   "source": [
    "import xgboost as xgb\n",
    "from sklearn.ensemble import RandomForestRegressor\n",
    "from sklearn.metrics import mean_squared_error\n",
    "import pandas as pd\n",
    "import numpy as np\n",
    "%matplotlib inline\n",
    "import matplotlib.pyplot as plt\n",
    "from sklearn import tree"
   ]
  },
  {
   "cell_type": "code",
   "execution_count": 10,
   "metadata": {
    "id": "jEdxztOrd4Ge"
   },
   "outputs": [],
   "source": [
    "class Modelo():\n",
    "  def __init__(self ):\n",
    "    pass\n",
    "\n",
    "\n",
    "\n",
    "  def splitTrainTarget(self,entrenamientoFeatureTarget):\n",
    "    #separo  mi dataframe en X= feature engineri e y= target\n",
    "    target='Stage'\n",
    "    listColumns=dfNew.columns.to_list()\n",
    "    listColumns.remove('Stage')\n",
    "    listColumns.remove('Opportunity_ID')\n",
    "    listColumns\n",
    "    X,y=entrenamientoFeatureTarget[listColumns], entrenamientoFeatureTarget[target]\n",
    "    print(\"las columnas del train son {} y del target son  {}\".format(X.columns , y.name ))\n",
    "    return X,y\n",
    "\n",
    "  def SplitTrainTest(self,X,y):\n",
    "    from sklearn.model_selection import train_test_split\n",
    "\n",
    "    X_train, X_test, y_train, y_test = \\\n",
    "    train_test_split(X, y, test_size=0.2, random_state=123)\n",
    "\n",
    "    return X_train, X_test, y_train, y_test\n",
    "\n",
    "\n",
    "  def entrenarYPredecirMismoSetEntrenamiento(self,X_train,y_train,X_test): \n",
    "    self.modelo.fit(X_train, y_train)\n",
    "    preds =  self.modelo.predict(X_test)\n",
    "    return preds\n",
    "\n",
    "  def errorSetEntrenamiento( self,X_train,y_train,X_test,y_test):\n",
    "     preds= self.entrenarYPredecirMismoSetEntrenamiento( X_train,y_train,X_test)\n",
    "     rmse = np.sqrt(mean_squared_error(y_test, preds))\n",
    "     print(\"RMSE: %f\" % (rmse)) \n",
    "\n",
    "\n",
    "\n",
    "  def entrenarYPredecirWithTest(self,X_train,y_train,dfFeaturestest):\n",
    "    \n",
    "    \n",
    "    dfFeaturestest=dfFeaturestest[X_train.columns.to_list()]\n",
    "    self.modelo.fit(X_train, y_train)\n",
    "    preds =  self.modelo.predict(dfFeaturestest)\n",
    "    return preds  \n",
    "\n",
    "  \n",
    "\n",
    "  def agregarTargetDfOriginal(self,entrenamiento,df):\n",
    "    #df es un dataframe ya agregado con features nuevos\n",
    "    #entrenamiento es el dataframe orginal sin procesar\n",
    "    target=entrenamiento[(entrenamiento['Stage']=='Closed Lost') | (entrenamiento['Stage']=='Closed Won')]\n",
    "    target=target[['Opportunity_ID','Stage']].groupby(['Opportunity_ID','Stage']).agg(total=('Stage','count')).reset_index()[['Opportunity_ID','Stage']]\n",
    "      \n",
    "    entrenamiento=pd.merge(df,target,on=\"Opportunity_ID\",how=\"inner\") \n",
    "    df=entrenamiento.replace(\"Closed Lost\", \"0\")\n",
    "    df=df.replace(\"Closed Won\", \"1\")\n",
    "  \n",
    "    return df\n",
    "\n",
    "  #feature engnerie\n",
    "  def featureEngeenier(self,df):\n",
    "    \"obsevar que df es el test original\"\n",
    "    #agregamos fecha \n",
    "    df['Month']=pd.to_datetime(df['Month'])\n",
    "    df['anio']=df['Month'].dt.year\n",
    "    df['mes']=df['Month'].dt.month\n",
    "    #agregamos columna totalamount\n",
    "    totalAmount=df.groupby(['Opportunity_ID' ]).agg(totalamount=('Total_Amount','sum'))\n",
    "    #agregamos total trf\n",
    "    totalTrf=df.groupby(['Opportunity_ID' ]).agg(totalTrf=('TRF','sum'))\n",
    "    dfFeatureNew=pd.merge(totalAmount,totalTrf,on=\"Opportunity_ID\",how=\"inner\").reset_index()\n",
    "\n",
    "    df=dfFeatureNew[['Opportunity_ID','totalamount','totalTrf']]\n",
    "    \n",
    "    return df\n",
    "\n",
    "\n",
    "  def formarDfKaggle(self ,preds ):\n",
    "    test=pd.read_csv('test.csv')\n",
    "    testAux2=test.groupby(['Opportunity_ID','Territory' ]).agg(cant=('Opportunity_ID','count')).reset_index()[['Opportunity_ID' ]]\n",
    " \n",
    "    dfkaggle = pd.DataFrame( preds)\n",
    "    dfkaggle['Opportunity_ID']=testAux2['Opportunity_ID']\n",
    "    dfkaggle.columns=['Target','Opportunity_ID']\n",
    "    dfkaggle=dfkaggle[['Opportunity_ID','Target']]\n",
    "    \n",
    "    from google.colab import files\n",
    "    dfkaggle.to_csv('dfKaggle.csv', index=False) \n",
    "    files.download('dfKaggle.csv')\n",
    "   \n",
    "  def featureImportancia(self,X_train):\n",
    "    # Gini importance\n",
    "    self.modelo.feature_importances_\n",
    "    plt.bar(X_train.columns, self.modelo.feature_importances_)\n",
    "    plt.xlabel('Features')\n",
    "    plt.ylabel('Importancia')\n",
    "    plt.title('Importancia Features con RF')\n",
    "    plt.show()\n"
   ]
  },
  {
   "cell_type": "code",
   "execution_count": 11,
   "metadata": {
    "id": "OxQYQZGnVDjg"
   },
   "outputs": [],
   "source": [
    "class RandomForestRegre(Modelo):\n",
    "  def __init__(self,hiperparametros):\n",
    "    super().__init__()\n",
    "    self.modelo= RandomForestRegressor(random_state=1,n_estimators=20)\n",
    "\n",
    "\n",
    "class xgbosst(Modelo):\n",
    "  def __init__(self,hiperparametros):\n",
    "    super().__init__()\n",
    "    self.modelo= xgb.XGBRegressor(objective ='reg:squarederror', \n",
    "                colsample_bytree = 0.3, learning_rate = 0.1,\n",
    "                max_depth = 2, alpha = 10, n_estimators = 500)\n",
    "  \n",
    "\n",
    "\n",
    "  # este polimorfismo es porque pedia el xgboost que y_train sea de tipo int\n",
    "  def entrenarYPredecirMismoSetEntrenamiento(self,X_train,y_train,X_test): \n",
    "    self.modelo.fit(X_train, y_train.astype(int))\n",
    "    preds =  self.modelo.predict(X_test)\n",
    "     \n",
    "    return preds\n",
    "\n",
    "  def errorSetEntrenamiento( self,X_train,y_train,X_test,y_test):\n",
    "    #aca la diferencia es que ytrain debe ser entero\n",
    "     \n",
    "    preds= self.entrenarYPredecirMismoSetEntrenamiento( X_train,y_train,X_test)\n",
    "    rmse = np.sqrt(mean_squared_error(y_test, preds))\n",
    "    print(\"RMSE: %f\" % (rmse))\n",
    "\n",
    "  def entrenarYPredecirWithTest(self,X_train,y_train,dfFeaturestest):\n",
    "     \n",
    "    dfFeaturestest=dfFeaturestest[X_train.columns.to_list()]\n",
    "    self.modelo.fit(X_train, y_train.astype(int))\n",
    "    preds =  self.modelo.predict(dfFeaturestest)\n",
    "    return preds  \n"
   ]
  },
  {
   "cell_type": "code",
   "execution_count": 12,
   "metadata": {
    "id": "GFSXGWcwd5n2"
   },
   "outputs": [],
   "source": [
    "#1)Apertura\n",
    "entrenamiento = pd.read_csv('data.csv')\n",
    "df=entrenamiento "
   ]
  },
  {
   "cell_type": "code",
   "execution_count": 13,
   "metadata": {
    "id": "-qjr5CJgxTuA"
   },
   "outputs": [],
   "source": [
    "random_state=1\n",
    "n_estimators=20\n",
    "#aca agregamos los hiperparametros que estamos probando\n",
    "Hiperparametros=[random_state ,n_estimators ]\n",
    "#por ahora no se usan los hirparametros, se setea dentro de las clase estos,\n",
    "#pero la idea es que se pueda setear desde afuera para probar"
   ]
  },
  {
   "cell_type": "code",
   "execution_count": 14,
   "metadata": {
    "id": "AMAUX3H2rEVK"
   },
   "outputs": [],
   "source": [
    "modelos={\n",
    "         'ramdomForest': RandomForestRegre(Hiperparametros),\n",
    "         'xgboost':xgbosst(Hiperparametros)\n",
    "}"
   ]
  },
  {
   "cell_type": "code",
   "execution_count": 15,
   "metadata": {
    "colab": {
     "base_uri": "https://localhost:8080/",
     "height": 204
    },
    "id": "lNfcK7hOcbPv",
    "outputId": "dd0c051b-00f9-4ca7-a648-dd03fb404936"
   },
   "outputs": [
    {
     "data": {
      "text/html": [
       "<div>\n",
       "<style scoped>\n",
       "    .dataframe tbody tr th:only-of-type {\n",
       "        vertical-align: middle;\n",
       "    }\n",
       "\n",
       "    .dataframe tbody tr th {\n",
       "        vertical-align: top;\n",
       "    }\n",
       "\n",
       "    .dataframe thead th {\n",
       "        text-align: right;\n",
       "    }\n",
       "</style>\n",
       "<table border=\"1\" class=\"dataframe\">\n",
       "  <thead>\n",
       "    <tr style=\"text-align: right;\">\n",
       "      <th></th>\n",
       "      <th>Opportunity_ID</th>\n",
       "      <th>totalamount</th>\n",
       "      <th>totalTrf</th>\n",
       "      <th>Stage</th>\n",
       "    </tr>\n",
       "  </thead>\n",
       "  <tbody>\n",
       "    <tr>\n",
       "      <th>0</th>\n",
       "      <td>0</td>\n",
       "      <td>5272800.0</td>\n",
       "      <td>10</td>\n",
       "      <td>0</td>\n",
       "    </tr>\n",
       "    <tr>\n",
       "      <th>1</th>\n",
       "      <td>1</td>\n",
       "      <td>48230.0</td>\n",
       "      <td>0</td>\n",
       "      <td>1</td>\n",
       "    </tr>\n",
       "    <tr>\n",
       "      <th>2</th>\n",
       "      <td>2</td>\n",
       "      <td>83865.6</td>\n",
       "      <td>0</td>\n",
       "      <td>1</td>\n",
       "    </tr>\n",
       "    <tr>\n",
       "      <th>3</th>\n",
       "      <td>3</td>\n",
       "      <td>7421881.5</td>\n",
       "      <td>14</td>\n",
       "      <td>0</td>\n",
       "    </tr>\n",
       "    <tr>\n",
       "      <th>4</th>\n",
       "      <td>4</td>\n",
       "      <td>13357192.5</td>\n",
       "      <td>25</td>\n",
       "      <td>0</td>\n",
       "    </tr>\n",
       "  </tbody>\n",
       "</table>\n",
       "</div>"
      ],
      "text/plain": [
       "   Opportunity_ID  totalamount  totalTrf Stage\n",
       "0               0    5272800.0        10     0\n",
       "1               1      48230.0         0     1\n",
       "2               2      83865.6         0     1\n",
       "3               3    7421881.5        14     0\n",
       "4               4   13357192.5        25     0"
      ]
     },
     "execution_count": 15,
     "metadata": {
      "tags": []
     },
     "output_type": "execute_result"
    }
   ],
   "source": [
    "\n",
    "\n",
    "modelo=modelos.get('xgboost')\n",
    "#cargamos el modelo \n",
    "modelo=modelo\n",
    "#hacemos feature engierine sobre el df original\n",
    "dfFeature=modelo.featureEngeenier(entrenamiento)\n",
    "dfFeature.head()\n",
    "#le agregamos el target\n",
    "dfFeatureWithTarget=modelo.agregarTargetDfOriginal(entrenamiento,dfFeature)\n",
    "dfFeatureWithTarget.head()"
   ]
  },
  {
   "cell_type": "code",
   "execution_count": 16,
   "metadata": {
    "id": "HX_M3gSx3xi2"
   },
   "outputs": [],
   "source": [
    "def agregarMeanEncoding(dfWithFeatureTarget,columnCategorica):\n",
    "  \"\"\"dfWithFeature es un df de formato ['Opportunity_ID', y columnas nuevas agregadas anteriormente,target]\n",
    "  se hace minencoding columancategoria, retorna un df con opportunity_id, meanencoding,columnas nuevas agregadas anteriormente\n",
    "      \"\"\"\n",
    "  df = pd.read_csv('data.csv')\n",
    "  entrenamiento = pd.read_csv('data.csv')\n",
    "  df = df.replace('Closed Won', '1')\n",
    "  df = df.replace('Closed Lost', '0')\n",
    "  df = df[df['Stage'].isin(['0','1'])]\n",
    "  df.Stage = df.Stage.astype(int)\n",
    "  df = df.groupby([columnCategorica,'Opportunity_ID']).agg({'Stage':['sum','count']})\n",
    "  df = df.reset_index()\n",
    "  df1 = df\n",
    "  df1.columns = [columnCategorica,'Opportunity_ID','Stage_sum','Stage_count']\n",
    "  df1['Stage_sum'] = df1['Stage_sum'].apply(lambda x: 0 if x == 0 else 1)\n",
    "  df2 = df1.groupby([columnCategorica]).agg(meanEncodingTerritory = ('Stage_sum','mean'))\n",
    "  df2 = df2.reset_index()\n",
    "  agruparOportunity=entrenamiento.groupby(['Opportunity_ID',columnCategorica]).agg(cant=(columnCategorica,'count')).reset_index()\n",
    "  result=pd.merge(agruparOportunity,df2,on=columnCategorica,how='inner')\n",
    "  #eliminamos columnas que no sirve, columncategorica porque la reemplazamos por el mean enconding, y cant que \n",
    "  #la usamos para unificar por oportunity_id \n",
    "  del result['cant']\n",
    "  del result['Territory']\n",
    "  result2=pd.merge(dfWithFeatureTarget, result, on='Opportunity_ID' , how='inner')\n",
    "  \n",
    "  dfWithFeatureTarget=result2\n",
    "  dfWithFeatureTarget.Stage = dfWithFeatureTarget.Stage.astype(int)\n",
    "  return dfWithFeatureTarget"
   ]
  },
  {
   "cell_type": "code",
   "execution_count": 17,
   "metadata": {
    "colab": {
     "base_uri": "https://localhost:8080/",
     "height": 204
    },
    "id": "ZT0Kq_wD55jd",
    "outputId": "1c559ae2-6de8-4f38-e34d-bf6278ca8d1a"
   },
   "outputs": [
    {
     "data": {
      "text/html": [
       "<div>\n",
       "<style scoped>\n",
       "    .dataframe tbody tr th:only-of-type {\n",
       "        vertical-align: middle;\n",
       "    }\n",
       "\n",
       "    .dataframe tbody tr th {\n",
       "        vertical-align: top;\n",
       "    }\n",
       "\n",
       "    .dataframe thead th {\n",
       "        text-align: right;\n",
       "    }\n",
       "</style>\n",
       "<table border=\"1\" class=\"dataframe\">\n",
       "  <thead>\n",
       "    <tr style=\"text-align: right;\">\n",
       "      <th></th>\n",
       "      <th>Opportunity_ID</th>\n",
       "      <th>totalamount</th>\n",
       "      <th>totalTrf</th>\n",
       "      <th>Stage</th>\n",
       "      <th>meanEncodingTerritory</th>\n",
       "    </tr>\n",
       "  </thead>\n",
       "  <tbody>\n",
       "    <tr>\n",
       "      <th>0</th>\n",
       "      <td>0</td>\n",
       "      <td>5272800.0</td>\n",
       "      <td>10</td>\n",
       "      <td>0</td>\n",
       "      <td>0.535927</td>\n",
       "    </tr>\n",
       "    <tr>\n",
       "      <th>1</th>\n",
       "      <td>1</td>\n",
       "      <td>48230.0</td>\n",
       "      <td>0</td>\n",
       "      <td>1</td>\n",
       "      <td>0.535927</td>\n",
       "    </tr>\n",
       "    <tr>\n",
       "      <th>2</th>\n",
       "      <td>2</td>\n",
       "      <td>83865.6</td>\n",
       "      <td>0</td>\n",
       "      <td>1</td>\n",
       "      <td>0.632723</td>\n",
       "    </tr>\n",
       "    <tr>\n",
       "      <th>3</th>\n",
       "      <td>3</td>\n",
       "      <td>7421881.5</td>\n",
       "      <td>14</td>\n",
       "      <td>0</td>\n",
       "      <td>0.632723</td>\n",
       "    </tr>\n",
       "    <tr>\n",
       "      <th>4</th>\n",
       "      <td>4</td>\n",
       "      <td>13357192.5</td>\n",
       "      <td>25</td>\n",
       "      <td>0</td>\n",
       "      <td>0.632723</td>\n",
       "    </tr>\n",
       "  </tbody>\n",
       "</table>\n",
       "</div>"
      ],
      "text/plain": [
       "   Opportunity_ID  totalamount  totalTrf  Stage  meanEncodingTerritory\n",
       "0               0    5272800.0        10      0               0.535927\n",
       "1               1      48230.0         0      1               0.535927\n",
       "2               2      83865.6         0      1               0.632723\n",
       "3               3    7421881.5        14      0               0.632723\n",
       "4               4   13357192.5        25      0               0.632723"
      ]
     },
     "execution_count": 17,
     "metadata": {
      "tags": []
     },
     "output_type": "execute_result"
    }
   ],
   "source": [
    "dfNew=agregarMeanEncoding(dfFeatureWithTarget,'Territory')\n",
    "dfNew.head()"
   ]
  },
  {
   "cell_type": "code",
   "execution_count": 18,
   "metadata": {
    "colab": {
     "base_uri": "https://localhost:8080/"
    },
    "id": "YayVZcFN_CEF",
    "outputId": "c9d1bef0-2be2-41be-a9be-2edc3a6bdbac"
   },
   "outputs": [
    {
     "name": "stdout",
     "output_type": "stream",
     "text": [
      "las columnas del train son Index(['totalamount', 'totalTrf', 'meanEncodingTerritory'], dtype='object') y del target son  Stage\n"
     ]
    }
   ],
   "source": [
    "X,y=modelo.splitTrainTarget(dfNew)"
   ]
  },
  {
   "cell_type": "code",
   "execution_count": 19,
   "metadata": {
    "id": "EEpCLBou_ToG"
   },
   "outputs": [],
   "source": [
    "X_train, X_test, y_train, y_test=modelo.SplitTrainTest(X,y)"
   ]
  },
  {
   "cell_type": "code",
   "execution_count": 20,
   "metadata": {
    "colab": {
     "base_uri": "https://localhost:8080/",
     "height": 419
    },
    "id": "0b7mpRqTM2VH",
    "outputId": "ba12fc32-b910-4951-f9d9-a5a7848ffb5e"
   },
   "outputs": [
    {
     "data": {
      "text/html": [
       "<div>\n",
       "<style scoped>\n",
       "    .dataframe tbody tr th:only-of-type {\n",
       "        vertical-align: middle;\n",
       "    }\n",
       "\n",
       "    .dataframe tbody tr th {\n",
       "        vertical-align: top;\n",
       "    }\n",
       "\n",
       "    .dataframe thead th {\n",
       "        text-align: right;\n",
       "    }\n",
       "</style>\n",
       "<table border=\"1\" class=\"dataframe\">\n",
       "  <thead>\n",
       "    <tr style=\"text-align: right;\">\n",
       "      <th></th>\n",
       "      <th>totalamount</th>\n",
       "      <th>totalTrf</th>\n",
       "      <th>meanEncodingTerritory</th>\n",
       "    </tr>\n",
       "  </thead>\n",
       "  <tbody>\n",
       "    <tr>\n",
       "      <th>6509</th>\n",
       "      <td>323212.5</td>\n",
       "      <td>0</td>\n",
       "      <td>0.813953</td>\n",
       "    </tr>\n",
       "    <tr>\n",
       "      <th>6914</th>\n",
       "      <td>463600.0</td>\n",
       "      <td>0</td>\n",
       "      <td>0.535927</td>\n",
       "    </tr>\n",
       "    <tr>\n",
       "      <th>2464</th>\n",
       "      <td>1679730.0</td>\n",
       "      <td>5</td>\n",
       "      <td>0.593750</td>\n",
       "    </tr>\n",
       "    <tr>\n",
       "      <th>913</th>\n",
       "      <td>498771.0</td>\n",
       "      <td>1</td>\n",
       "      <td>0.367953</td>\n",
       "    </tr>\n",
       "    <tr>\n",
       "      <th>4986</th>\n",
       "      <td>52126.0</td>\n",
       "      <td>0</td>\n",
       "      <td>0.379310</td>\n",
       "    </tr>\n",
       "    <tr>\n",
       "      <th>...</th>\n",
       "      <td>...</td>\n",
       "      <td>...</td>\n",
       "      <td>...</td>\n",
       "    </tr>\n",
       "    <tr>\n",
       "      <th>9785</th>\n",
       "      <td>1307775.0</td>\n",
       "      <td>3</td>\n",
       "      <td>0.548148</td>\n",
       "    </tr>\n",
       "    <tr>\n",
       "      <th>7763</th>\n",
       "      <td>103125.0</td>\n",
       "      <td>0</td>\n",
       "      <td>0.593750</td>\n",
       "    </tr>\n",
       "    <tr>\n",
       "      <th>5218</th>\n",
       "      <td>292410.0</td>\n",
       "      <td>1</td>\n",
       "      <td>0.417755</td>\n",
       "    </tr>\n",
       "    <tr>\n",
       "      <th>1346</th>\n",
       "      <td>326340.0</td>\n",
       "      <td>0</td>\n",
       "      <td>0.802326</td>\n",
       "    </tr>\n",
       "    <tr>\n",
       "      <th>3582</th>\n",
       "      <td>3010000.0</td>\n",
       "      <td>0</td>\n",
       "      <td>0.802326</td>\n",
       "    </tr>\n",
       "  </tbody>\n",
       "</table>\n",
       "<p>7832 rows × 3 columns</p>\n",
       "</div>"
      ],
      "text/plain": [
       "      totalamount  totalTrf  meanEncodingTerritory\n",
       "6509     323212.5         0               0.813953\n",
       "6914     463600.0         0               0.535927\n",
       "2464    1679730.0         5               0.593750\n",
       "913      498771.0         1               0.367953\n",
       "4986      52126.0         0               0.379310\n",
       "...           ...       ...                    ...\n",
       "9785    1307775.0         3               0.548148\n",
       "7763     103125.0         0               0.593750\n",
       "5218     292410.0         1               0.417755\n",
       "1346     326340.0         0               0.802326\n",
       "3582    3010000.0         0               0.802326\n",
       "\n",
       "[7832 rows x 3 columns]"
      ]
     },
     "execution_count": 20,
     "metadata": {
      "tags": []
     },
     "output_type": "execute_result"
    }
   ],
   "source": [
    "X_train"
   ]
  },
  {
   "cell_type": "code",
   "execution_count": 21,
   "metadata": {
    "colab": {
     "base_uri": "https://localhost:8080/"
    },
    "id": "mfTKkk-h_tWB",
    "outputId": "da3df1e6-13e9-44bf-81b3-15dc3893ab52"
   },
   "outputs": [
    {
     "name": "stdout",
     "output_type": "stream",
     "text": [
      "RMSE: 0.419838\n"
     ]
    }
   ],
   "source": [
    "#entrenamo y predecimos, y comparamos con el valor real y vemos su error\n",
    "modelo.errorSetEntrenamiento(  X_train,y_train,X_test,y_test) "
   ]
  },
  {
   "cell_type": "markdown",
   "metadata": {
    "id": "PtwFYExZAMXo"
   },
   "source": [
    "# aca vamos a entrenar y predecir con el test para subir a kaggle"
   ]
  },
  {
   "cell_type": "code",
   "execution_count": 22,
   "metadata": {
    "id": "EzKYmGYmUCJ5"
   },
   "outputs": [],
   "source": [
    "test=pd.read_csv('test.csv')"
   ]
  },
  {
   "cell_type": "code",
   "execution_count": 23,
   "metadata": {
    "colab": {
     "base_uri": "https://localhost:8080/",
     "height": 204
    },
    "id": "fNKAbDD9IPVG",
    "outputId": "7c57715b-a076-41e6-f3c8-cc22bfb87181"
   },
   "outputs": [
    {
     "data": {
      "text/html": [
       "<div>\n",
       "<style scoped>\n",
       "    .dataframe tbody tr th:only-of-type {\n",
       "        vertical-align: middle;\n",
       "    }\n",
       "\n",
       "    .dataframe tbody tr th {\n",
       "        vertical-align: top;\n",
       "    }\n",
       "\n",
       "    .dataframe thead th {\n",
       "        text-align: right;\n",
       "    }\n",
       "</style>\n",
       "<table border=\"1\" class=\"dataframe\">\n",
       "  <thead>\n",
       "    <tr style=\"text-align: right;\">\n",
       "      <th></th>\n",
       "      <th>Opportunity_ID</th>\n",
       "      <th>totalamount</th>\n",
       "      <th>totalTrf</th>\n",
       "    </tr>\n",
       "  </thead>\n",
       "  <tbody>\n",
       "    <tr>\n",
       "      <th>0</th>\n",
       "      <td>10689</td>\n",
       "      <td>367419.0</td>\n",
       "      <td>0</td>\n",
       "    </tr>\n",
       "    <tr>\n",
       "      <th>1</th>\n",
       "      <td>10690</td>\n",
       "      <td>757783.5</td>\n",
       "      <td>1</td>\n",
       "    </tr>\n",
       "    <tr>\n",
       "      <th>2</th>\n",
       "      <td>10691</td>\n",
       "      <td>21037.5</td>\n",
       "      <td>0</td>\n",
       "    </tr>\n",
       "    <tr>\n",
       "      <th>3</th>\n",
       "      <td>10692</td>\n",
       "      <td>2169106.5</td>\n",
       "      <td>6</td>\n",
       "    </tr>\n",
       "    <tr>\n",
       "      <th>4</th>\n",
       "      <td>10693</td>\n",
       "      <td>5752.5</td>\n",
       "      <td>0</td>\n",
       "    </tr>\n",
       "  </tbody>\n",
       "</table>\n",
       "</div>"
      ],
      "text/plain": [
       "   Opportunity_ID  totalamount  totalTrf\n",
       "0           10689     367419.0         0\n",
       "1           10690     757783.5         1\n",
       "2           10691      21037.5         0\n",
       "3           10692    2169106.5         6\n",
       "4           10693       5752.5         0"
      ]
     },
     "execution_count": 23,
     "metadata": {
      "tags": []
     },
     "output_type": "execute_result"
    }
   ],
   "source": [
    "testFeature=modelo.featureEngeenier(test)\n",
    "testFeature.head()"
   ]
  },
  {
   "cell_type": "code",
   "execution_count": 24,
   "metadata": {
    "id": "sITRSKzHA_xc"
   },
   "outputs": [],
   "source": [
    "def meanEncodingDejandoColumnaCategorica(columnsCategory):\n",
    "  \"\"\"devuelve un dataframe con el formato [columnscategory,meanencodingcategory]\n",
    "    es porque lo vamos a usar para hacer merge por su columna categorica\"\"\"\n",
    "  df = pd.read_csv('data.csv')\n",
    "  entrenamiento = pd.read_csv('data.csv')\n",
    "  df = df.replace('Closed Won', '1')\n",
    "  df = df.replace('Closed Lost', '0')\n",
    "  df = df[df['Stage'].isin(['0','1'])]\n",
    "  df.Stage = df.Stage.astype(int)\n",
    "  df = df.groupby([columnsCategory,'Opportunity_ID']).agg({'Stage':['sum','count']})\n",
    "  df = df.reset_index()\n",
    "  df1 = df\n",
    "  df1.columns = [columnsCategory,'Opportunity_ID','Stage_sum','Stage_count']\n",
    "  df1['Stage_sum'] = df1['Stage_sum'].apply(lambda x: 0 if x == 0 else 1)\n",
    "  df2 = df1.groupby([columnsCategory]).agg(meanEncodingTerritory = ('Stage_sum','mean'))\n",
    "  df2 = df2.reset_index()\n",
    "  agruparOportunity=entrenamiento.groupby(['Opportunity_ID',columnsCategory]).agg(cant=(columnsCategory,'count')).reset_index()\n",
    "  result=pd.merge(agruparOportunity,df2,on=columnsCategory,how='inner')\n",
    "  result.head()\n",
    "  del result['cant']\n",
    "  result2=result[[columnsCategory,'meanEncodingTerritory']].drop_duplicates()\n",
    "  return  result2"
   ]
  },
  {
   "cell_type": "code",
   "execution_count": 25,
   "metadata": {
    "colab": {
     "base_uri": "https://localhost:8080/",
     "height": 204
    },
    "id": "6sU0DgJaDXZ9",
    "outputId": "99a97841-9b5e-4706-d10d-e5e90e96be0e"
   },
   "outputs": [
    {
     "data": {
      "text/html": [
       "<div>\n",
       "<style scoped>\n",
       "    .dataframe tbody tr th:only-of-type {\n",
       "        vertical-align: middle;\n",
       "    }\n",
       "\n",
       "    .dataframe tbody tr th {\n",
       "        vertical-align: top;\n",
       "    }\n",
       "\n",
       "    .dataframe thead th {\n",
       "        text-align: right;\n",
       "    }\n",
       "</style>\n",
       "<table border=\"1\" class=\"dataframe\">\n",
       "  <thead>\n",
       "    <tr style=\"text-align: right;\">\n",
       "      <th></th>\n",
       "      <th>Territory</th>\n",
       "      <th>meanEncodingTerritory</th>\n",
       "    </tr>\n",
       "  </thead>\n",
       "  <tbody>\n",
       "    <tr>\n",
       "      <th>0</th>\n",
       "      <td>None</td>\n",
       "      <td>0.535927</td>\n",
       "    </tr>\n",
       "    <tr>\n",
       "      <th>1867</th>\n",
       "      <td>NW America</td>\n",
       "      <td>0.632723</td>\n",
       "    </tr>\n",
       "    <tr>\n",
       "      <th>2745</th>\n",
       "      <td>India</td>\n",
       "      <td>0.457227</td>\n",
       "    </tr>\n",
       "    <tr>\n",
       "      <th>3425</th>\n",
       "      <td>Italy</td>\n",
       "      <td>0.432692</td>\n",
       "    </tr>\n",
       "    <tr>\n",
       "      <th>3633</th>\n",
       "      <td>Germany</td>\n",
       "      <td>0.548148</td>\n",
       "    </tr>\n",
       "  </tbody>\n",
       "</table>\n",
       "</div>"
      ],
      "text/plain": [
       "       Territory  meanEncodingTerritory\n",
       "0           None               0.535927\n",
       "1867  NW America               0.632723\n",
       "2745       India               0.457227\n",
       "3425       Italy               0.432692\n",
       "3633     Germany               0.548148"
      ]
     },
     "execution_count": 25,
     "metadata": {
      "tags": []
     },
     "output_type": "execute_result"
    }
   ],
   "source": [
    "dfMeanEncoding=meanEncodingDejandoColumnaCategorica(\"Territory\")\n",
    "dfMeanEncoding.head()"
   ]
  },
  {
   "cell_type": "code",
   "execution_count": 25,
   "metadata": {
    "id": "LslFfiRwS_UF"
   },
   "outputs": [],
   "source": []
  },
  {
   "cell_type": "code",
   "execution_count": 26,
   "metadata": {
    "colab": {
     "base_uri": "https://localhost:8080/",
     "height": 204
    },
    "id": "x_LDypccEjZg",
    "outputId": "c5e2aea7-fa90-4634-a5b9-546264852ea9"
   },
   "outputs": [
    {
     "data": {
      "text/html": [
       "<div>\n",
       "<style scoped>\n",
       "    .dataframe tbody tr th:only-of-type {\n",
       "        vertical-align: middle;\n",
       "    }\n",
       "\n",
       "    .dataframe tbody tr th {\n",
       "        vertical-align: top;\n",
       "    }\n",
       "\n",
       "    .dataframe thead th {\n",
       "        text-align: right;\n",
       "    }\n",
       "</style>\n",
       "<table border=\"1\" class=\"dataframe\">\n",
       "  <thead>\n",
       "    <tr style=\"text-align: right;\">\n",
       "      <th></th>\n",
       "      <th>Opportunity_ID</th>\n",
       "      <th>Territory</th>\n",
       "    </tr>\n",
       "  </thead>\n",
       "  <tbody>\n",
       "    <tr>\n",
       "      <th>0</th>\n",
       "      <td>10689</td>\n",
       "      <td>Germany</td>\n",
       "    </tr>\n",
       "    <tr>\n",
       "      <th>1</th>\n",
       "      <td>10690</td>\n",
       "      <td>Germany</td>\n",
       "    </tr>\n",
       "    <tr>\n",
       "      <th>2</th>\n",
       "      <td>10691</td>\n",
       "      <td>NE America</td>\n",
       "    </tr>\n",
       "    <tr>\n",
       "      <th>3</th>\n",
       "      <td>10692</td>\n",
       "      <td>NW America</td>\n",
       "    </tr>\n",
       "    <tr>\n",
       "      <th>4</th>\n",
       "      <td>10693</td>\n",
       "      <td>NW America</td>\n",
       "    </tr>\n",
       "  </tbody>\n",
       "</table>\n",
       "</div>"
      ],
      "text/plain": [
       "   Opportunity_ID   Territory\n",
       "0           10689     Germany\n",
       "1           10690     Germany\n",
       "2           10691  NE America\n",
       "3           10692  NW America\n",
       "4           10693  NW America"
      ]
     },
     "execution_count": 26,
     "metadata": {
      "tags": []
     },
     "output_type": "execute_result"
    }
   ],
   "source": [
    "testAux=test.groupby(['Opportunity_ID','Territory' ]).agg(cant=('Opportunity_ID','count')).reset_index()[['Opportunity_ID','Territory' ]]\n",
    "testAux.head()"
   ]
  },
  {
   "cell_type": "code",
   "execution_count": 27,
   "metadata": {
    "colab": {
     "base_uri": "https://localhost:8080/",
     "height": 419
    },
    "id": "9-z9Jw9sGZmn",
    "outputId": "4be0fd7a-1ba6-4631-e431-e1ac1a7d2980"
   },
   "outputs": [
    {
     "data": {
      "text/html": [
       "<div>\n",
       "<style scoped>\n",
       "    .dataframe tbody tr th:only-of-type {\n",
       "        vertical-align: middle;\n",
       "    }\n",
       "\n",
       "    .dataframe tbody tr th {\n",
       "        vertical-align: top;\n",
       "    }\n",
       "\n",
       "    .dataframe thead th {\n",
       "        text-align: right;\n",
       "    }\n",
       "</style>\n",
       "<table border=\"1\" class=\"dataframe\">\n",
       "  <thead>\n",
       "    <tr style=\"text-align: right;\">\n",
       "      <th></th>\n",
       "      <th>Opportunity_ID</th>\n",
       "      <th>Territory</th>\n",
       "      <th>meanEncodingTerritory</th>\n",
       "    </tr>\n",
       "  </thead>\n",
       "  <tbody>\n",
       "    <tr>\n",
       "      <th>0</th>\n",
       "      <td>10689</td>\n",
       "      <td>Germany</td>\n",
       "      <td>0.548148</td>\n",
       "    </tr>\n",
       "    <tr>\n",
       "      <th>1</th>\n",
       "      <td>10690</td>\n",
       "      <td>Germany</td>\n",
       "      <td>0.548148</td>\n",
       "    </tr>\n",
       "    <tr>\n",
       "      <th>2</th>\n",
       "      <td>10691</td>\n",
       "      <td>NE America</td>\n",
       "      <td>0.347490</td>\n",
       "    </tr>\n",
       "    <tr>\n",
       "      <th>3</th>\n",
       "      <td>10692</td>\n",
       "      <td>NW America</td>\n",
       "      <td>0.632723</td>\n",
       "    </tr>\n",
       "    <tr>\n",
       "      <th>4</th>\n",
       "      <td>10693</td>\n",
       "      <td>NW America</td>\n",
       "      <td>0.632723</td>\n",
       "    </tr>\n",
       "    <tr>\n",
       "      <th>...</th>\n",
       "      <td>...</td>\n",
       "      <td>...</td>\n",
       "      <td>...</td>\n",
       "    </tr>\n",
       "    <tr>\n",
       "      <th>1562</th>\n",
       "      <td>12364</td>\n",
       "      <td>KSA</td>\n",
       "      <td>0.416667</td>\n",
       "    </tr>\n",
       "    <tr>\n",
       "      <th>1563</th>\n",
       "      <td>12365</td>\n",
       "      <td>SE America</td>\n",
       "      <td>0.367953</td>\n",
       "    </tr>\n",
       "    <tr>\n",
       "      <th>1564</th>\n",
       "      <td>12366</td>\n",
       "      <td>SE America</td>\n",
       "      <td>0.367953</td>\n",
       "    </tr>\n",
       "    <tr>\n",
       "      <th>1565</th>\n",
       "      <td>12367</td>\n",
       "      <td>NE America</td>\n",
       "      <td>0.347490</td>\n",
       "    </tr>\n",
       "    <tr>\n",
       "      <th>1566</th>\n",
       "      <td>12368</td>\n",
       "      <td>Belgium</td>\n",
       "      <td>0.569832</td>\n",
       "    </tr>\n",
       "  </tbody>\n",
       "</table>\n",
       "<p>1567 rows × 3 columns</p>\n",
       "</div>"
      ],
      "text/plain": [
       "      Opportunity_ID   Territory  meanEncodingTerritory\n",
       "0              10689     Germany               0.548148\n",
       "1              10690     Germany               0.548148\n",
       "2              10691  NE America               0.347490\n",
       "3              10692  NW America               0.632723\n",
       "4              10693  NW America               0.632723\n",
       "...              ...         ...                    ...\n",
       "1562           12364         KSA               0.416667\n",
       "1563           12365  SE America               0.367953\n",
       "1564           12366  SE America               0.367953\n",
       "1565           12367  NE America               0.347490\n",
       "1566           12368     Belgium               0.569832\n",
       "\n",
       "[1567 rows x 3 columns]"
      ]
     },
     "execution_count": 27,
     "metadata": {
      "tags": []
     },
     "output_type": "execute_result"
    }
   ],
   "source": [
    "territories=pd.merge(testAux,dfMeanEncoding, on=\"Territory\", how='left') \n",
    "territories"
   ]
  },
  {
   "cell_type": "code",
   "execution_count": 28,
   "metadata": {
    "colab": {
     "base_uri": "https://localhost:8080/",
     "height": 419
    },
    "id": "5bH7bFlvJk0T",
    "outputId": "d2bad546-8094-4ea3-cd73-67ea14de5614"
   },
   "outputs": [
    {
     "data": {
      "text/html": [
       "<div>\n",
       "<style scoped>\n",
       "    .dataframe tbody tr th:only-of-type {\n",
       "        vertical-align: middle;\n",
       "    }\n",
       "\n",
       "    .dataframe tbody tr th {\n",
       "        vertical-align: top;\n",
       "    }\n",
       "\n",
       "    .dataframe thead th {\n",
       "        text-align: right;\n",
       "    }\n",
       "</style>\n",
       "<table border=\"1\" class=\"dataframe\">\n",
       "  <thead>\n",
       "    <tr style=\"text-align: right;\">\n",
       "      <th></th>\n",
       "      <th>Opportunity_ID</th>\n",
       "      <th>totalamount</th>\n",
       "      <th>totalTrf</th>\n",
       "      <th>Territory</th>\n",
       "      <th>meanEncodingTerritory</th>\n",
       "    </tr>\n",
       "  </thead>\n",
       "  <tbody>\n",
       "    <tr>\n",
       "      <th>0</th>\n",
       "      <td>10689</td>\n",
       "      <td>367419.0</td>\n",
       "      <td>0</td>\n",
       "      <td>Germany</td>\n",
       "      <td>0.548148</td>\n",
       "    </tr>\n",
       "    <tr>\n",
       "      <th>1</th>\n",
       "      <td>10690</td>\n",
       "      <td>757783.5</td>\n",
       "      <td>1</td>\n",
       "      <td>Germany</td>\n",
       "      <td>0.548148</td>\n",
       "    </tr>\n",
       "    <tr>\n",
       "      <th>2</th>\n",
       "      <td>10691</td>\n",
       "      <td>21037.5</td>\n",
       "      <td>0</td>\n",
       "      <td>NE America</td>\n",
       "      <td>0.347490</td>\n",
       "    </tr>\n",
       "    <tr>\n",
       "      <th>3</th>\n",
       "      <td>10692</td>\n",
       "      <td>2169106.5</td>\n",
       "      <td>6</td>\n",
       "      <td>NW America</td>\n",
       "      <td>0.632723</td>\n",
       "    </tr>\n",
       "    <tr>\n",
       "      <th>4</th>\n",
       "      <td>10693</td>\n",
       "      <td>5752.5</td>\n",
       "      <td>0</td>\n",
       "      <td>NW America</td>\n",
       "      <td>0.632723</td>\n",
       "    </tr>\n",
       "    <tr>\n",
       "      <th>...</th>\n",
       "      <td>...</td>\n",
       "      <td>...</td>\n",
       "      <td>...</td>\n",
       "      <td>...</td>\n",
       "      <td>...</td>\n",
       "    </tr>\n",
       "    <tr>\n",
       "      <th>1562</th>\n",
       "      <td>12364</td>\n",
       "      <td>147750.0</td>\n",
       "      <td>0</td>\n",
       "      <td>KSA</td>\n",
       "      <td>0.416667</td>\n",
       "    </tr>\n",
       "    <tr>\n",
       "      <th>1563</th>\n",
       "      <td>12365</td>\n",
       "      <td>45054.9</td>\n",
       "      <td>0</td>\n",
       "      <td>SE America</td>\n",
       "      <td>0.367953</td>\n",
       "    </tr>\n",
       "    <tr>\n",
       "      <th>1564</th>\n",
       "      <td>12366</td>\n",
       "      <td>100122.0</td>\n",
       "      <td>0</td>\n",
       "      <td>SE America</td>\n",
       "      <td>0.367953</td>\n",
       "    </tr>\n",
       "    <tr>\n",
       "      <th>1565</th>\n",
       "      <td>12367</td>\n",
       "      <td>143220.0</td>\n",
       "      <td>0</td>\n",
       "      <td>NE America</td>\n",
       "      <td>0.347490</td>\n",
       "    </tr>\n",
       "    <tr>\n",
       "      <th>1566</th>\n",
       "      <td>12368</td>\n",
       "      <td>871020.8</td>\n",
       "      <td>3</td>\n",
       "      <td>Belgium</td>\n",
       "      <td>0.569832</td>\n",
       "    </tr>\n",
       "  </tbody>\n",
       "</table>\n",
       "<p>1567 rows × 5 columns</p>\n",
       "</div>"
      ],
      "text/plain": [
       "      Opportunity_ID  totalamount  totalTrf   Territory  meanEncodingTerritory\n",
       "0              10689     367419.0         0     Germany               0.548148\n",
       "1              10690     757783.5         1     Germany               0.548148\n",
       "2              10691      21037.5         0  NE America               0.347490\n",
       "3              10692    2169106.5         6  NW America               0.632723\n",
       "4              10693       5752.5         0  NW America               0.632723\n",
       "...              ...          ...       ...         ...                    ...\n",
       "1562           12364     147750.0         0         KSA               0.416667\n",
       "1563           12365      45054.9         0  SE America               0.367953\n",
       "1564           12366     100122.0         0  SE America               0.367953\n",
       "1565           12367     143220.0         0  NE America               0.347490\n",
       "1566           12368     871020.8         3     Belgium               0.569832\n",
       "\n",
       "[1567 rows x 5 columns]"
      ]
     },
     "execution_count": 28,
     "metadata": {
      "tags": []
     },
     "output_type": "execute_result"
    }
   ],
   "source": [
    " testFinal=pd.merge(testFeature,territories, on=\"Opportunity_ID\", how='inner') \n",
    " testFinal"
   ]
  },
  {
   "cell_type": "code",
   "execution_count": 29,
   "metadata": {
    "id": "PmP4OclMKpSQ"
   },
   "outputs": [],
   "source": [
    "columnsCategoria=\"Territory\"\n",
    "\n",
    "listColumns=testFinal.columns.to_list()\n",
    "listColumns.remove(columnsCategoria)\n",
    "listColumns.remove('Opportunity_ID')\n",
    "listColumns\n",
    "testFinal=testFinal[listColumns]"
   ]
  },
  {
   "cell_type": "code",
   "execution_count": 30,
   "metadata": {
    "id": "Yz5_hS22Lv4T"
   },
   "outputs": [],
   "source": [
    "#X_train, y_test se sacan del df entrenamiento"
   ]
  },
  {
   "cell_type": "code",
   "execution_count": 31,
   "metadata": {
    "colab": {
     "base_uri": "https://localhost:8080/",
     "height": 419
    },
    "id": "BwwK5vObNosy",
    "outputId": "8b60da71-b54b-4d3f-edf6-ba83119699cb"
   },
   "outputs": [
    {
     "data": {
      "text/html": [
       "<div>\n",
       "<style scoped>\n",
       "    .dataframe tbody tr th:only-of-type {\n",
       "        vertical-align: middle;\n",
       "    }\n",
       "\n",
       "    .dataframe tbody tr th {\n",
       "        vertical-align: top;\n",
       "    }\n",
       "\n",
       "    .dataframe thead th {\n",
       "        text-align: right;\n",
       "    }\n",
       "</style>\n",
       "<table border=\"1\" class=\"dataframe\">\n",
       "  <thead>\n",
       "    <tr style=\"text-align: right;\">\n",
       "      <th></th>\n",
       "      <th>totalamount</th>\n",
       "      <th>totalTrf</th>\n",
       "      <th>meanEncodingTerritory</th>\n",
       "    </tr>\n",
       "  </thead>\n",
       "  <tbody>\n",
       "    <tr>\n",
       "      <th>6509</th>\n",
       "      <td>323212.5</td>\n",
       "      <td>0</td>\n",
       "      <td>0.813953</td>\n",
       "    </tr>\n",
       "    <tr>\n",
       "      <th>6914</th>\n",
       "      <td>463600.0</td>\n",
       "      <td>0</td>\n",
       "      <td>0.535927</td>\n",
       "    </tr>\n",
       "    <tr>\n",
       "      <th>2464</th>\n",
       "      <td>1679730.0</td>\n",
       "      <td>5</td>\n",
       "      <td>0.593750</td>\n",
       "    </tr>\n",
       "    <tr>\n",
       "      <th>913</th>\n",
       "      <td>498771.0</td>\n",
       "      <td>1</td>\n",
       "      <td>0.367953</td>\n",
       "    </tr>\n",
       "    <tr>\n",
       "      <th>4986</th>\n",
       "      <td>52126.0</td>\n",
       "      <td>0</td>\n",
       "      <td>0.379310</td>\n",
       "    </tr>\n",
       "    <tr>\n",
       "      <th>...</th>\n",
       "      <td>...</td>\n",
       "      <td>...</td>\n",
       "      <td>...</td>\n",
       "    </tr>\n",
       "    <tr>\n",
       "      <th>9785</th>\n",
       "      <td>1307775.0</td>\n",
       "      <td>3</td>\n",
       "      <td>0.548148</td>\n",
       "    </tr>\n",
       "    <tr>\n",
       "      <th>7763</th>\n",
       "      <td>103125.0</td>\n",
       "      <td>0</td>\n",
       "      <td>0.593750</td>\n",
       "    </tr>\n",
       "    <tr>\n",
       "      <th>5218</th>\n",
       "      <td>292410.0</td>\n",
       "      <td>1</td>\n",
       "      <td>0.417755</td>\n",
       "    </tr>\n",
       "    <tr>\n",
       "      <th>1346</th>\n",
       "      <td>326340.0</td>\n",
       "      <td>0</td>\n",
       "      <td>0.802326</td>\n",
       "    </tr>\n",
       "    <tr>\n",
       "      <th>3582</th>\n",
       "      <td>3010000.0</td>\n",
       "      <td>0</td>\n",
       "      <td>0.802326</td>\n",
       "    </tr>\n",
       "  </tbody>\n",
       "</table>\n",
       "<p>7832 rows × 3 columns</p>\n",
       "</div>"
      ],
      "text/plain": [
       "      totalamount  totalTrf  meanEncodingTerritory\n",
       "6509     323212.5         0               0.813953\n",
       "6914     463600.0         0               0.535927\n",
       "2464    1679730.0         5               0.593750\n",
       "913      498771.0         1               0.367953\n",
       "4986      52126.0         0               0.379310\n",
       "...           ...       ...                    ...\n",
       "9785    1307775.0         3               0.548148\n",
       "7763     103125.0         0               0.593750\n",
       "5218     292410.0         1               0.417755\n",
       "1346     326340.0         0               0.802326\n",
       "3582    3010000.0         0               0.802326\n",
       "\n",
       "[7832 rows x 3 columns]"
      ]
     },
     "execution_count": 31,
     "metadata": {
      "tags": []
     },
     "output_type": "execute_result"
    }
   ],
   "source": [
    "X_train"
   ]
  },
  {
   "cell_type": "code",
   "execution_count": 32,
   "metadata": {
    "colab": {
     "base_uri": "https://localhost:8080/"
    },
    "id": "RebNOIuxNveb",
    "outputId": "bde7da8c-ca09-4a34-b071-f256bc84d32b"
   },
   "outputs": [
    {
     "data": {
      "text/plain": [
       "6509    1\n",
       "6914    1\n",
       "2464    0\n",
       "913     0\n",
       "4986    1\n",
       "       ..\n",
       "9785    0\n",
       "7763    1\n",
       "5218    0\n",
       "1346    1\n",
       "3582    0\n",
       "Name: Stage, Length: 7832, dtype: int64"
      ]
     },
     "execution_count": 32,
     "metadata": {
      "tags": []
     },
     "output_type": "execute_result"
    }
   ],
   "source": [
    "y_train"
   ]
  },
  {
   "cell_type": "code",
   "execution_count": 33,
   "metadata": {
    "colab": {
     "base_uri": "https://localhost:8080/",
     "height": 419
    },
    "id": "IU89EiMVMmtp",
    "outputId": "79805192-c29a-4864-9085-57449be4742b"
   },
   "outputs": [
    {
     "data": {
      "text/html": [
       "<div>\n",
       "<style scoped>\n",
       "    .dataframe tbody tr th:only-of-type {\n",
       "        vertical-align: middle;\n",
       "    }\n",
       "\n",
       "    .dataframe tbody tr th {\n",
       "        vertical-align: top;\n",
       "    }\n",
       "\n",
       "    .dataframe thead th {\n",
       "        text-align: right;\n",
       "    }\n",
       "</style>\n",
       "<table border=\"1\" class=\"dataframe\">\n",
       "  <thead>\n",
       "    <tr style=\"text-align: right;\">\n",
       "      <th></th>\n",
       "      <th>totalamount</th>\n",
       "      <th>totalTrf</th>\n",
       "      <th>meanEncodingTerritory</th>\n",
       "    </tr>\n",
       "  </thead>\n",
       "  <tbody>\n",
       "    <tr>\n",
       "      <th>0</th>\n",
       "      <td>367419.0</td>\n",
       "      <td>0</td>\n",
       "      <td>0.548148</td>\n",
       "    </tr>\n",
       "    <tr>\n",
       "      <th>1</th>\n",
       "      <td>757783.5</td>\n",
       "      <td>1</td>\n",
       "      <td>0.548148</td>\n",
       "    </tr>\n",
       "    <tr>\n",
       "      <th>2</th>\n",
       "      <td>21037.5</td>\n",
       "      <td>0</td>\n",
       "      <td>0.347490</td>\n",
       "    </tr>\n",
       "    <tr>\n",
       "      <th>3</th>\n",
       "      <td>2169106.5</td>\n",
       "      <td>6</td>\n",
       "      <td>0.632723</td>\n",
       "    </tr>\n",
       "    <tr>\n",
       "      <th>4</th>\n",
       "      <td>5752.5</td>\n",
       "      <td>0</td>\n",
       "      <td>0.632723</td>\n",
       "    </tr>\n",
       "    <tr>\n",
       "      <th>...</th>\n",
       "      <td>...</td>\n",
       "      <td>...</td>\n",
       "      <td>...</td>\n",
       "    </tr>\n",
       "    <tr>\n",
       "      <th>1562</th>\n",
       "      <td>147750.0</td>\n",
       "      <td>0</td>\n",
       "      <td>0.416667</td>\n",
       "    </tr>\n",
       "    <tr>\n",
       "      <th>1563</th>\n",
       "      <td>45054.9</td>\n",
       "      <td>0</td>\n",
       "      <td>0.367953</td>\n",
       "    </tr>\n",
       "    <tr>\n",
       "      <th>1564</th>\n",
       "      <td>100122.0</td>\n",
       "      <td>0</td>\n",
       "      <td>0.367953</td>\n",
       "    </tr>\n",
       "    <tr>\n",
       "      <th>1565</th>\n",
       "      <td>143220.0</td>\n",
       "      <td>0</td>\n",
       "      <td>0.347490</td>\n",
       "    </tr>\n",
       "    <tr>\n",
       "      <th>1566</th>\n",
       "      <td>871020.8</td>\n",
       "      <td>3</td>\n",
       "      <td>0.569832</td>\n",
       "    </tr>\n",
       "  </tbody>\n",
       "</table>\n",
       "<p>1567 rows × 3 columns</p>\n",
       "</div>"
      ],
      "text/plain": [
       "      totalamount  totalTrf  meanEncodingTerritory\n",
       "0        367419.0         0               0.548148\n",
       "1        757783.5         1               0.548148\n",
       "2         21037.5         0               0.347490\n",
       "3       2169106.5         6               0.632723\n",
       "4          5752.5         0               0.632723\n",
       "...           ...       ...                    ...\n",
       "1562     147750.0         0               0.416667\n",
       "1563      45054.9         0               0.367953\n",
       "1564     100122.0         0               0.367953\n",
       "1565     143220.0         0               0.347490\n",
       "1566     871020.8         3               0.569832\n",
       "\n",
       "[1567 rows x 3 columns]"
      ]
     },
     "execution_count": 33,
     "metadata": {
      "tags": []
     },
     "output_type": "execute_result"
    }
   ],
   "source": [
    "testFinal"
   ]
  },
  {
   "cell_type": "code",
   "execution_count": 34,
   "metadata": {
    "id": "XqctymtZJlK7"
   },
   "outputs": [],
   "source": [
    "prediccion=modelo.entrenarYPredecirWithTest(X_train,y_train,testFinal)"
   ]
  },
  {
   "cell_type": "code",
   "execution_count": 35,
   "metadata": {
    "colab": {
     "base_uri": "https://localhost:8080/"
    },
    "id": "KPrGKGNiEVTg",
    "outputId": "35564fd9-f8c8-4964-d537-7aced26d6382"
   },
   "outputs": [
    {
     "data": {
      "text/plain": [
       "1567"
      ]
     },
     "execution_count": 35,
     "metadata": {
      "tags": []
     },
     "output_type": "execute_result"
    }
   ],
   "source": [
    "len(prediccion)"
   ]
  },
  {
   "cell_type": "code",
   "execution_count": 35,
   "metadata": {
    "id": "VXXmQ6UgOKL1"
   },
   "outputs": [],
   "source": []
  },
  {
   "cell_type": "code",
   "execution_count": 35,
   "metadata": {
    "id": "MJT7zZqzP9hL"
   },
   "outputs": [],
   "source": []
  },
  {
   "cell_type": "code",
   "execution_count": 36,
   "metadata": {
    "colab": {
     "base_uri": "https://localhost:8080/",
     "height": 17
    },
    "id": "Zj3qRh7Lmzzh",
    "outputId": "219a62d3-e07f-4d1f-a068-d8b188203cdb"
   },
   "outputs": [
    {
     "data": {
      "application/javascript": [
       "\n",
       "    async function download(id, filename, size) {\n",
       "      if (!google.colab.kernel.accessAllowed) {\n",
       "        return;\n",
       "      }\n",
       "      const div = document.createElement('div');\n",
       "      const label = document.createElement('label');\n",
       "      label.textContent = `Downloading \"${filename}\": `;\n",
       "      div.appendChild(label);\n",
       "      const progress = document.createElement('progress');\n",
       "      progress.max = size;\n",
       "      div.appendChild(progress);\n",
       "      document.body.appendChild(div);\n",
       "\n",
       "      const buffers = [];\n",
       "      let downloaded = 0;\n",
       "\n",
       "      const channel = await google.colab.kernel.comms.open(id);\n",
       "      // Send a message to notify the kernel that we're ready.\n",
       "      channel.send({})\n",
       "\n",
       "      for await (const message of channel.messages) {\n",
       "        // Send a message to notify the kernel that we're ready.\n",
       "        channel.send({})\n",
       "        if (message.buffers) {\n",
       "          for (const buffer of message.buffers) {\n",
       "            buffers.push(buffer);\n",
       "            downloaded += buffer.byteLength;\n",
       "            progress.value = downloaded;\n",
       "          }\n",
       "        }\n",
       "      }\n",
       "      const blob = new Blob(buffers, {type: 'application/binary'});\n",
       "      const a = document.createElement('a');\n",
       "      a.href = window.URL.createObjectURL(blob);\n",
       "      a.download = filename;\n",
       "      div.appendChild(a);\n",
       "      a.click();\n",
       "      div.remove();\n",
       "    }\n",
       "  "
      ],
      "text/plain": [
       "<IPython.core.display.Javascript object>"
      ]
     },
     "metadata": {
      "tags": []
     },
     "output_type": "display_data"
    },
    {
     "data": {
      "application/javascript": [
       "download(\"download_beab1b9e-c37b-4365-963a-3fff9b07e147\", \"dfKaggle.csv\", 26024)"
      ],
      "text/plain": [
       "<IPython.core.display.Javascript object>"
      ]
     },
     "metadata": {
      "tags": []
     },
     "output_type": "display_data"
    }
   ],
   "source": [
    "#se pasa testFinal porque posee\n",
    "modelo.formarDfKaggle(  prediccion)"
   ]
  },
  {
   "cell_type": "code",
   "execution_count": 37,
   "metadata": {
    "colab": {
     "base_uri": "https://localhost:8080/",
     "height": 295
    },
    "id": "bh_v60WMwuLu",
    "outputId": "5d973bc0-6286-480e-d4d2-cb7d1e3765ca"
   },
   "outputs": [
    {
     "data": {
      "image/png": "[encoded data removed]",
      "text/plain": [
       "<Figure size 432x288 with 1 Axes>"
      ]
     },
     "metadata": {
      "needs_background": "light",
      "tags": []
     },
     "output_type": "display_data"
    }
   ],
   "source": [
    "modelo.featureImportancia( X_train)"
   ]
  },
  {
   "cell_type": "code",
   "execution_count": 37,
   "metadata": {
    "id": "Snm7Ff8M0n4_"
   },
   "outputs": [],
   "source": []
  },
  {
   "cell_type": "code",
   "execution_count": 37,
   "metadata": {
    "id": "smtQYKtjWaWh"
   },
   "outputs": [],
   "source": []
  },
  {
   "cell_type": "markdown",
   "metadata": {
    "id": "ZfnJI7RCWdyK"
   },
   "source": [
    "# **AHORA VAMOS A PROBAR CON RANDOM FOREST**"
   ]
  },
  {
   "cell_type": "code",
   "execution_count": 37,
   "metadata": {
    "id": "IhpjpdTjWaal"
   },
   "outputs": [],
   "source": []
  },
  {
   "cell_type": "code",
   "execution_count": 37,
   "metadata": {
    "id": "A7c-ZVKUWadB"
   },
   "outputs": [],
   "source": []
  },
  {
   "cell_type": "code",
   "execution_count": 38,
   "metadata": {
    "id": "kO2YVdJQWbM1"
   },
   "outputs": [],
   "source": [
    "#1)Apertura\n",
    "entrenamiento = pd.read_csv('data.csv')\n",
    "df=entrenamiento "
   ]
  },
  {
   "cell_type": "code",
   "execution_count": 39,
   "metadata": {
    "id": "WvjMgdY8WbM2"
   },
   "outputs": [],
   "source": [
    "random_state=1\n",
    "n_estimators=20\n",
    "#aca agregamos los hiperparametros que estamos probando\n",
    "Hiperparametros=[random_state ,n_estimators ]\n",
    "#por ahora no se usan los hirparametros, se setea dentro de las clase estos,\n",
    "#pero la idea es que se pueda setear desde afuera para probar"
   ]
  },
  {
   "cell_type": "code",
   "execution_count": 40,
   "metadata": {
    "id": "0R8ns3-EWbM2"
   },
   "outputs": [],
   "source": [
    "modelos={\n",
    "         'ramdomForest': RandomForestRegre(Hiperparametros),\n",
    "         'xgboost':xgbosst(Hiperparametros)\n",
    "}"
   ]
  },
  {
   "cell_type": "code",
   "execution_count": 41,
   "metadata": {
    "colab": {
     "base_uri": "https://localhost:8080/",
     "height": 204
    },
    "id": "oV8e5WpWWbM2",
    "outputId": "9c5d4200-c7b6-4aa0-ebae-626115583485"
   },
   "outputs": [
    {
     "data": {
      "text/html": [
       "<div>\n",
       "<style scoped>\n",
       "    .dataframe tbody tr th:only-of-type {\n",
       "        vertical-align: middle;\n",
       "    }\n",
       "\n",
       "    .dataframe tbody tr th {\n",
       "        vertical-align: top;\n",
       "    }\n",
       "\n",
       "    .dataframe thead th {\n",
       "        text-align: right;\n",
       "    }\n",
       "</style>\n",
       "<table border=\"1\" class=\"dataframe\">\n",
       "  <thead>\n",
       "    <tr style=\"text-align: right;\">\n",
       "      <th></th>\n",
       "      <th>Opportunity_ID</th>\n",
       "      <th>totalamount</th>\n",
       "      <th>totalTrf</th>\n",
       "      <th>Stage</th>\n",
       "    </tr>\n",
       "  </thead>\n",
       "  <tbody>\n",
       "    <tr>\n",
       "      <th>0</th>\n",
       "      <td>0</td>\n",
       "      <td>5272800.0</td>\n",
       "      <td>10</td>\n",
       "      <td>0</td>\n",
       "    </tr>\n",
       "    <tr>\n",
       "      <th>1</th>\n",
       "      <td>1</td>\n",
       "      <td>48230.0</td>\n",
       "      <td>0</td>\n",
       "      <td>1</td>\n",
       "    </tr>\n",
       "    <tr>\n",
       "      <th>2</th>\n",
       "      <td>2</td>\n",
       "      <td>83865.6</td>\n",
       "      <td>0</td>\n",
       "      <td>1</td>\n",
       "    </tr>\n",
       "    <tr>\n",
       "      <th>3</th>\n",
       "      <td>3</td>\n",
       "      <td>7421881.5</td>\n",
       "      <td>14</td>\n",
       "      <td>0</td>\n",
       "    </tr>\n",
       "    <tr>\n",
       "      <th>4</th>\n",
       "      <td>4</td>\n",
       "      <td>13357192.5</td>\n",
       "      <td>25</td>\n",
       "      <td>0</td>\n",
       "    </tr>\n",
       "  </tbody>\n",
       "</table>\n",
       "</div>"
      ],
      "text/plain": [
       "   Opportunity_ID  totalamount  totalTrf Stage\n",
       "0               0    5272800.0        10     0\n",
       "1               1      48230.0         0     1\n",
       "2               2      83865.6         0     1\n",
       "3               3    7421881.5        14     0\n",
       "4               4   13357192.5        25     0"
      ]
     },
     "execution_count": 41,
     "metadata": {
      "tags": []
     },
     "output_type": "execute_result"
    }
   ],
   "source": [
    "\n",
    "\n",
    "modelo=modelos.get('ramdomForest')\n",
    "#cargamos el modelo \n",
    "modelo=modelo\n",
    "#hacemos feature engierine sobre el df original\n",
    "dfFeature=modelo.featureEngeenier(entrenamiento)\n",
    "dfFeature.head()\n",
    "#le agregamos el target\n",
    "dfFeatureWithTarget=modelo.agregarTargetDfOriginal(entrenamiento,dfFeature)\n",
    "dfFeatureWithTarget.head()"
   ]
  },
  {
   "cell_type": "code",
   "execution_count": 42,
   "metadata": {
    "id": "6BNhanycWbM3"
   },
   "outputs": [],
   "source": [
    "def agregarMeanEncoding(dfWithFeatureTarget,columnCategorica):\n",
    "  \"\"\"dfWithFeature es un df de formato ['Opportunity_ID', y columnas nuevas agregadas anteriormente,target]\n",
    "  se hace minencoding columancategoria, retorna un df con opportunity_id, meanencoding,columnas nuevas agregadas anteriormente\n",
    "      \"\"\"\n",
    "  df = pd.read_csv('data.csv')\n",
    "  entrenamiento = pd.read_csv('data.csv')\n",
    "  df = df.replace('Closed Won', '1')\n",
    "  df = df.replace('Closed Lost', '0')\n",
    "  df = df[df['Stage'].isin(['0','1'])]\n",
    "  df.Stage = df.Stage.astype(int)\n",
    "  df = df.groupby([columnCategorica,'Opportunity_ID']).agg({'Stage':['sum','count']})\n",
    "  df = df.reset_index()\n",
    "  df1 = df\n",
    "  df1.columns = [columnCategorica,'Opportunity_ID','Stage_sum','Stage_count']\n",
    "  df1['Stage_sum'] = df1['Stage_sum'].apply(lambda x: 0 if x == 0 else 1)\n",
    "  df2 = df1.groupby([columnCategorica]).agg(meanEncodingTerritory = ('Stage_sum','mean'))\n",
    "  df2 = df2.reset_index()\n",
    "  agruparOportunity=entrenamiento.groupby(['Opportunity_ID',columnCategorica]).agg(cant=(columnCategorica,'count')).reset_index()\n",
    "  result=pd.merge(agruparOportunity,df2,on=columnCategorica,how='inner')\n",
    "  #eliminamos columnas que no sirve, columncategorica porque la reemplazamos por el mean enconding, y cant que \n",
    "  #la usamos para unificar por oportunity_id \n",
    "  del result['cant']\n",
    "  del result['Territory']\n",
    "  result2=pd.merge(dfWithFeatureTarget, result, on='Opportunity_ID' , how='inner')\n",
    "  \n",
    "  dfWithFeatureTarget=result2\n",
    "  dfWithFeatureTarget.Stage = dfWithFeatureTarget.Stage.astype(int)\n",
    "  return dfWithFeatureTarget"
   ]
  },
  {
   "cell_type": "code",
   "execution_count": 43,
   "metadata": {
    "colab": {
     "base_uri": "https://localhost:8080/",
     "height": 204
    },
    "id": "S5bFVKHqWbM3",
    "outputId": "025524c6-d656-471f-842b-3d5de181835d"
   },
   "outputs": [
    {
     "data": {
      "text/html": [
       "<div>\n",
       "<style scoped>\n",
       "    .dataframe tbody tr th:only-of-type {\n",
       "        vertical-align: middle;\n",
       "    }\n",
       "\n",
       "    .dataframe tbody tr th {\n",
       "        vertical-align: top;\n",
       "    }\n",
       "\n",
       "    .dataframe thead th {\n",
       "        text-align: right;\n",
       "    }\n",
       "</style>\n",
       "<table border=\"1\" class=\"dataframe\">\n",
       "  <thead>\n",
       "    <tr style=\"text-align: right;\">\n",
       "      <th></th>\n",
       "      <th>Opportunity_ID</th>\n",
       "      <th>totalamount</th>\n",
       "      <th>totalTrf</th>\n",
       "      <th>Stage</th>\n",
       "      <th>meanEncodingTerritory</th>\n",
       "    </tr>\n",
       "  </thead>\n",
       "  <tbody>\n",
       "    <tr>\n",
       "      <th>0</th>\n",
       "      <td>0</td>\n",
       "      <td>5272800.0</td>\n",
       "      <td>10</td>\n",
       "      <td>0</td>\n",
       "      <td>0.535927</td>\n",
       "    </tr>\n",
       "    <tr>\n",
       "      <th>1</th>\n",
       "      <td>1</td>\n",
       "      <td>48230.0</td>\n",
       "      <td>0</td>\n",
       "      <td>1</td>\n",
       "      <td>0.535927</td>\n",
       "    </tr>\n",
       "    <tr>\n",
       "      <th>2</th>\n",
       "      <td>2</td>\n",
       "      <td>83865.6</td>\n",
       "      <td>0</td>\n",
       "      <td>1</td>\n",
       "      <td>0.632723</td>\n",
       "    </tr>\n",
       "    <tr>\n",
       "      <th>3</th>\n",
       "      <td>3</td>\n",
       "      <td>7421881.5</td>\n",
       "      <td>14</td>\n",
       "      <td>0</td>\n",
       "      <td>0.632723</td>\n",
       "    </tr>\n",
       "    <tr>\n",
       "      <th>4</th>\n",
       "      <td>4</td>\n",
       "      <td>13357192.5</td>\n",
       "      <td>25</td>\n",
       "      <td>0</td>\n",
       "      <td>0.632723</td>\n",
       "    </tr>\n",
       "  </tbody>\n",
       "</table>\n",
       "</div>"
      ],
      "text/plain": [
       "   Opportunity_ID  totalamount  totalTrf  Stage  meanEncodingTerritory\n",
       "0               0    5272800.0        10      0               0.535927\n",
       "1               1      48230.0         0      1               0.535927\n",
       "2               2      83865.6         0      1               0.632723\n",
       "3               3    7421881.5        14      0               0.632723\n",
       "4               4   13357192.5        25      0               0.632723"
      ]
     },
     "execution_count": 43,
     "metadata": {
      "tags": []
     },
     "output_type": "execute_result"
    }
   ],
   "source": [
    "dfNew=agregarMeanEncoding(dfFeatureWithTarget,'Territory')\n",
    "dfNew.head()"
   ]
  },
  {
   "cell_type": "code",
   "execution_count": 44,
   "metadata": {
    "colab": {
     "base_uri": "https://localhost:8080/"
    },
    "id": "zWATw6bdWbM3",
    "outputId": "679a34c4-0b3f-4269-8099-4a113bd6aea8"
   },
   "outputs": [
    {
     "name": "stdout",
     "output_type": "stream",
     "text": [
      "las columnas del train son Index(['totalamount', 'totalTrf', 'meanEncodingTerritory'], dtype='object') y del target son  Stage\n"
     ]
    }
   ],
   "source": [
    "X,y=modelo.splitTrainTarget(dfNew)"
   ]
  },
  {
   "cell_type": "code",
   "execution_count": 45,
   "metadata": {
    "id": "bAcIuY7jWbM3"
   },
   "outputs": [],
   "source": [
    "X_train, X_test, y_train, y_test=modelo.SplitTrainTest(X,y)"
   ]
  },
  {
   "cell_type": "code",
   "execution_count": 46,
   "metadata": {
    "colab": {
     "base_uri": "https://localhost:8080/",
     "height": 419
    },
    "id": "SvFrpqETWbM5",
    "outputId": "386ec8e5-ee0c-4553-bd20-fc93ed535922"
   },
   "outputs": [
    {
     "data": {
      "text/html": [
       "<div>\n",
       "<style scoped>\n",
       "    .dataframe tbody tr th:only-of-type {\n",
       "        vertical-align: middle;\n",
       "    }\n",
       "\n",
       "    .dataframe tbody tr th {\n",
       "        vertical-align: top;\n",
       "    }\n",
       "\n",
       "    .dataframe thead th {\n",
       "        text-align: right;\n",
       "    }\n",
       "</style>\n",
       "<table border=\"1\" class=\"dataframe\">\n",
       "  <thead>\n",
       "    <tr style=\"text-align: right;\">\n",
       "      <th></th>\n",
       "      <th>totalamount</th>\n",
       "      <th>totalTrf</th>\n",
       "      <th>meanEncodingTerritory</th>\n",
       "    </tr>\n",
       "  </thead>\n",
       "  <tbody>\n",
       "    <tr>\n",
       "      <th>6509</th>\n",
       "      <td>323212.5</td>\n",
       "      <td>0</td>\n",
       "      <td>0.813953</td>\n",
       "    </tr>\n",
       "    <tr>\n",
       "      <th>6914</th>\n",
       "      <td>463600.0</td>\n",
       "      <td>0</td>\n",
       "      <td>0.535927</td>\n",
       "    </tr>\n",
       "    <tr>\n",
       "      <th>2464</th>\n",
       "      <td>1679730.0</td>\n",
       "      <td>5</td>\n",
       "      <td>0.593750</td>\n",
       "    </tr>\n",
       "    <tr>\n",
       "      <th>913</th>\n",
       "      <td>498771.0</td>\n",
       "      <td>1</td>\n",
       "      <td>0.367953</td>\n",
       "    </tr>\n",
       "    <tr>\n",
       "      <th>4986</th>\n",
       "      <td>52126.0</td>\n",
       "      <td>0</td>\n",
       "      <td>0.379310</td>\n",
       "    </tr>\n",
       "    <tr>\n",
       "      <th>...</th>\n",
       "      <td>...</td>\n",
       "      <td>...</td>\n",
       "      <td>...</td>\n",
       "    </tr>\n",
       "    <tr>\n",
       "      <th>9785</th>\n",
       "      <td>1307775.0</td>\n",
       "      <td>3</td>\n",
       "      <td>0.548148</td>\n",
       "    </tr>\n",
       "    <tr>\n",
       "      <th>7763</th>\n",
       "      <td>103125.0</td>\n",
       "      <td>0</td>\n",
       "      <td>0.593750</td>\n",
       "    </tr>\n",
       "    <tr>\n",
       "      <th>5218</th>\n",
       "      <td>292410.0</td>\n",
       "      <td>1</td>\n",
       "      <td>0.417755</td>\n",
       "    </tr>\n",
       "    <tr>\n",
       "      <th>1346</th>\n",
       "      <td>326340.0</td>\n",
       "      <td>0</td>\n",
       "      <td>0.802326</td>\n",
       "    </tr>\n",
       "    <tr>\n",
       "      <th>3582</th>\n",
       "      <td>3010000.0</td>\n",
       "      <td>0</td>\n",
       "      <td>0.802326</td>\n",
       "    </tr>\n",
       "  </tbody>\n",
       "</table>\n",
       "<p>7832 rows × 3 columns</p>\n",
       "</div>"
      ],
      "text/plain": [
       "      totalamount  totalTrf  meanEncodingTerritory\n",
       "6509     323212.5         0               0.813953\n",
       "6914     463600.0         0               0.535927\n",
       "2464    1679730.0         5               0.593750\n",
       "913      498771.0         1               0.367953\n",
       "4986      52126.0         0               0.379310\n",
       "...           ...       ...                    ...\n",
       "9785    1307775.0         3               0.548148\n",
       "7763     103125.0         0               0.593750\n",
       "5218     292410.0         1               0.417755\n",
       "1346     326340.0         0               0.802326\n",
       "3582    3010000.0         0               0.802326\n",
       "\n",
       "[7832 rows x 3 columns]"
      ]
     },
     "execution_count": 46,
     "metadata": {
      "tags": []
     },
     "output_type": "execute_result"
    }
   ],
   "source": [
    "X_train"
   ]
  },
  {
   "cell_type": "code",
   "execution_count": 47,
   "metadata": {
    "colab": {
     "base_uri": "https://localhost:8080/"
    },
    "id": "h-t8-eCRWbM5",
    "outputId": "1d469543-e6f7-458b-a74b-213cfa52fd4c"
   },
   "outputs": [
    {
     "name": "stdout",
     "output_type": "stream",
     "text": [
      "RMSE: 0.467078\n"
     ]
    }
   ],
   "source": [
    "#entrenamo y predecimos, y comparamos con el valor real y vemos su error\n",
    "modelo.errorSetEntrenamiento(  X_train,y_train,X_test,y_test) "
   ]
  },
  {
   "cell_type": "markdown",
   "metadata": {
    "id": "-WsjAD_PWbM5"
   },
   "source": [
    "# aca vamos a entrenar y predecir con el test para subir a kaggle"
   ]
  },
  {
   "cell_type": "code",
   "execution_count": 48,
   "metadata": {
    "id": "LRA5HslDWbM5"
   },
   "outputs": [],
   "source": [
    "test=pd.read_csv('test.csv')"
   ]
  },
  {
   "cell_type": "code",
   "execution_count": 49,
   "metadata": {
    "colab": {
     "base_uri": "https://localhost:8080/",
     "height": 204
    },
    "id": "D0sd7XniWbM5",
    "outputId": "4a4f30e2-3c19-4346-81a2-744566fd2006"
   },
   "outputs": [
    {
     "data": {
      "text/html": [
       "<div>\n",
       "<style scoped>\n",
       "    .dataframe tbody tr th:only-of-type {\n",
       "        vertical-align: middle;\n",
       "    }\n",
       "\n",
       "    .dataframe tbody tr th {\n",
       "        vertical-align: top;\n",
       "    }\n",
       "\n",
       "    .dataframe thead th {\n",
       "        text-align: right;\n",
       "    }\n",
       "</style>\n",
       "<table border=\"1\" class=\"dataframe\">\n",
       "  <thead>\n",
       "    <tr style=\"text-align: right;\">\n",
       "      <th></th>\n",
       "      <th>Opportunity_ID</th>\n",
       "      <th>totalamount</th>\n",
       "      <th>totalTrf</th>\n",
       "    </tr>\n",
       "  </thead>\n",
       "  <tbody>\n",
       "    <tr>\n",
       "      <th>0</th>\n",
       "      <td>10689</td>\n",
       "      <td>367419.0</td>\n",
       "      <td>0</td>\n",
       "    </tr>\n",
       "    <tr>\n",
       "      <th>1</th>\n",
       "      <td>10690</td>\n",
       "      <td>757783.5</td>\n",
       "      <td>1</td>\n",
       "    </tr>\n",
       "    <tr>\n",
       "      <th>2</th>\n",
       "      <td>10691</td>\n",
       "      <td>21037.5</td>\n",
       "      <td>0</td>\n",
       "    </tr>\n",
       "    <tr>\n",
       "      <th>3</th>\n",
       "      <td>10692</td>\n",
       "      <td>2169106.5</td>\n",
       "      <td>6</td>\n",
       "    </tr>\n",
       "    <tr>\n",
       "      <th>4</th>\n",
       "      <td>10693</td>\n",
       "      <td>5752.5</td>\n",
       "      <td>0</td>\n",
       "    </tr>\n",
       "  </tbody>\n",
       "</table>\n",
       "</div>"
      ],
      "text/plain": [
       "   Opportunity_ID  totalamount  totalTrf\n",
       "0           10689     367419.0         0\n",
       "1           10690     757783.5         1\n",
       "2           10691      21037.5         0\n",
       "3           10692    2169106.5         6\n",
       "4           10693       5752.5         0"
      ]
     },
     "execution_count": 49,
     "metadata": {
      "tags": []
     },
     "output_type": "execute_result"
    }
   ],
   "source": [
    "testFeature=modelo.featureEngeenier(test)\n",
    "testFeature.head()"
   ]
  },
  {
   "cell_type": "code",
   "execution_count": 50,
   "metadata": {
    "id": "ZeHDOLozWbM5"
   },
   "outputs": [],
   "source": [
    "def meanEncodingDejandoColumnaCategorica(columnsCategory):\n",
    "  \"\"\"devuelve un dataframe con el formato [columnscategory,meanencodingcategory]\n",
    "    es porque lo vamos a usar para hacer merge por su columna categorica\"\"\"\n",
    "  df = pd.read_csv('data.csv')\n",
    "  entrenamiento = pd.read_csv('data.csv')\n",
    "  df = df.replace('Closed Won', '1')\n",
    "  df = df.replace('Closed Lost', '0')\n",
    "  df = df[df['Stage'].isin(['0','1'])]\n",
    "  df.Stage = df.Stage.astype(int)\n",
    "  df = df.groupby([columnsCategory,'Opportunity_ID']).agg({'Stage':['sum','count']})\n",
    "  df = df.reset_index()\n",
    "  df1 = df\n",
    "  df1.columns = [columnsCategory,'Opportunity_ID','Stage_sum','Stage_count']\n",
    "  df1['Stage_sum'] = df1['Stage_sum'].apply(lambda x: 0 if x == 0 else 1)\n",
    "  df2 = df1.groupby([columnsCategory]).agg(meanEncodingTerritory = ('Stage_sum','mean'))\n",
    "  df2 = df2.reset_index()\n",
    "  agruparOportunity=entrenamiento.groupby(['Opportunity_ID',columnsCategory]).agg(cant=(columnsCategory,'count')).reset_index()\n",
    "  result=pd.merge(agruparOportunity,df2,on=columnsCategory,how='inner')\n",
    "  result.head()\n",
    "  del result['cant']\n",
    "  result2=result[[columnsCategory,'meanEncodingTerritory']].drop_duplicates()\n",
    "  return  result2"
   ]
  },
  {
   "cell_type": "code",
   "execution_count": 51,
   "metadata": {
    "colab": {
     "base_uri": "https://localhost:8080/",
     "height": 204
    },
    "id": "ckxgt0D4WbM6",
    "outputId": "8ce30b33-165b-4eb0-f32b-d1783ffca1fb"
   },
   "outputs": [
    {
     "data": {
      "text/html": [
       "<div>\n",
       "<style scoped>\n",
       "    .dataframe tbody tr th:only-of-type {\n",
       "        vertical-align: middle;\n",
       "    }\n",
       "\n",
       "    .dataframe tbody tr th {\n",
       "        vertical-align: top;\n",
       "    }\n",
       "\n",
       "    .dataframe thead th {\n",
       "        text-align: right;\n",
       "    }\n",
       "</style>\n",
       "<table border=\"1\" class=\"dataframe\">\n",
       "  <thead>\n",
       "    <tr style=\"text-align: right;\">\n",
       "      <th></th>\n",
       "      <th>Territory</th>\n",
       "      <th>meanEncodingTerritory</th>\n",
       "    </tr>\n",
       "  </thead>\n",
       "  <tbody>\n",
       "    <tr>\n",
       "      <th>0</th>\n",
       "      <td>None</td>\n",
       "      <td>0.535927</td>\n",
       "    </tr>\n",
       "    <tr>\n",
       "      <th>1867</th>\n",
       "      <td>NW America</td>\n",
       "      <td>0.632723</td>\n",
       "    </tr>\n",
       "    <tr>\n",
       "      <th>2745</th>\n",
       "      <td>India</td>\n",
       "      <td>0.457227</td>\n",
       "    </tr>\n",
       "    <tr>\n",
       "      <th>3425</th>\n",
       "      <td>Italy</td>\n",
       "      <td>0.432692</td>\n",
       "    </tr>\n",
       "    <tr>\n",
       "      <th>3633</th>\n",
       "      <td>Germany</td>\n",
       "      <td>0.548148</td>\n",
       "    </tr>\n",
       "  </tbody>\n",
       "</table>\n",
       "</div>"
      ],
      "text/plain": [
       "       Territory  meanEncodingTerritory\n",
       "0           None               0.535927\n",
       "1867  NW America               0.632723\n",
       "2745       India               0.457227\n",
       "3425       Italy               0.432692\n",
       "3633     Germany               0.548148"
      ]
     },
     "execution_count": 51,
     "metadata": {
      "tags": []
     },
     "output_type": "execute_result"
    }
   ],
   "source": [
    "dfMeanEncoding=meanEncodingDejandoColumnaCategorica(\"Territory\")\n",
    "dfMeanEncoding.head()"
   ]
  },
  {
   "cell_type": "code",
   "execution_count": 52,
   "metadata": {
    "colab": {
     "base_uri": "https://localhost:8080/",
     "height": 204
    },
    "id": "Xwf8JW6YWbM6",
    "outputId": "f6ab8e09-e068-4eb6-d1bf-325d2cca7066"
   },
   "outputs": [
    {
     "data": {
      "text/html": [
       "<div>\n",
       "<style scoped>\n",
       "    .dataframe tbody tr th:only-of-type {\n",
       "        vertical-align: middle;\n",
       "    }\n",
       "\n",
       "    .dataframe tbody tr th {\n",
       "        vertical-align: top;\n",
       "    }\n",
       "\n",
       "    .dataframe thead th {\n",
       "        text-align: right;\n",
       "    }\n",
       "</style>\n",
       "<table border=\"1\" class=\"dataframe\">\n",
       "  <thead>\n",
       "    <tr style=\"text-align: right;\">\n",
       "      <th></th>\n",
       "      <th>Opportunity_ID</th>\n",
       "      <th>Territory</th>\n",
       "    </tr>\n",
       "  </thead>\n",
       "  <tbody>\n",
       "    <tr>\n",
       "      <th>0</th>\n",
       "      <td>10689</td>\n",
       "      <td>Germany</td>\n",
       "    </tr>\n",
       "    <tr>\n",
       "      <th>1</th>\n",
       "      <td>10690</td>\n",
       "      <td>Germany</td>\n",
       "    </tr>\n",
       "    <tr>\n",
       "      <th>2</th>\n",
       "      <td>10691</td>\n",
       "      <td>NE America</td>\n",
       "    </tr>\n",
       "    <tr>\n",
       "      <th>3</th>\n",
       "      <td>10692</td>\n",
       "      <td>NW America</td>\n",
       "    </tr>\n",
       "    <tr>\n",
       "      <th>4</th>\n",
       "      <td>10693</td>\n",
       "      <td>NW America</td>\n",
       "    </tr>\n",
       "  </tbody>\n",
       "</table>\n",
       "</div>"
      ],
      "text/plain": [
       "   Opportunity_ID   Territory\n",
       "0           10689     Germany\n",
       "1           10690     Germany\n",
       "2           10691  NE America\n",
       "3           10692  NW America\n",
       "4           10693  NW America"
      ]
     },
     "execution_count": 52,
     "metadata": {
      "tags": []
     },
     "output_type": "execute_result"
    }
   ],
   "source": [
    "testAux=test.groupby(['Opportunity_ID','Territory' ]).agg(cant=('Opportunity_ID','count')).reset_index()[['Opportunity_ID','Territory' ]]\n",
    "testAux.head()"
   ]
  },
  {
   "cell_type": "code",
   "execution_count": 53,
   "metadata": {
    "colab": {
     "base_uri": "https://localhost:8080/",
     "height": 419
    },
    "id": "74Nq7U5tWbM6",
    "outputId": "8d5f2400-c2a7-454c-a5b8-47607581f23a"
   },
   "outputs": [
    {
     "data": {
      "text/html": [
       "<div>\n",
       "<style scoped>\n",
       "    .dataframe tbody tr th:only-of-type {\n",
       "        vertical-align: middle;\n",
       "    }\n",
       "\n",
       "    .dataframe tbody tr th {\n",
       "        vertical-align: top;\n",
       "    }\n",
       "\n",
       "    .dataframe thead th {\n",
       "        text-align: right;\n",
       "    }\n",
       "</style>\n",
       "<table border=\"1\" class=\"dataframe\">\n",
       "  <thead>\n",
       "    <tr style=\"text-align: right;\">\n",
       "      <th></th>\n",
       "      <th>Opportunity_ID</th>\n",
       "      <th>Territory</th>\n",
       "      <th>meanEncodingTerritory</th>\n",
       "    </tr>\n",
       "  </thead>\n",
       "  <tbody>\n",
       "    <tr>\n",
       "      <th>0</th>\n",
       "      <td>10689</td>\n",
       "      <td>Germany</td>\n",
       "      <td>0.548148</td>\n",
       "    </tr>\n",
       "    <tr>\n",
       "      <th>1</th>\n",
       "      <td>10690</td>\n",
       "      <td>Germany</td>\n",
       "      <td>0.548148</td>\n",
       "    </tr>\n",
       "    <tr>\n",
       "      <th>2</th>\n",
       "      <td>10691</td>\n",
       "      <td>NE America</td>\n",
       "      <td>0.347490</td>\n",
       "    </tr>\n",
       "    <tr>\n",
       "      <th>3</th>\n",
       "      <td>10692</td>\n",
       "      <td>NW America</td>\n",
       "      <td>0.632723</td>\n",
       "    </tr>\n",
       "    <tr>\n",
       "      <th>4</th>\n",
       "      <td>10693</td>\n",
       "      <td>NW America</td>\n",
       "      <td>0.632723</td>\n",
       "    </tr>\n",
       "    <tr>\n",
       "      <th>...</th>\n",
       "      <td>...</td>\n",
       "      <td>...</td>\n",
       "      <td>...</td>\n",
       "    </tr>\n",
       "    <tr>\n",
       "      <th>1562</th>\n",
       "      <td>12364</td>\n",
       "      <td>KSA</td>\n",
       "      <td>0.416667</td>\n",
       "    </tr>\n",
       "    <tr>\n",
       "      <th>1563</th>\n",
       "      <td>12365</td>\n",
       "      <td>SE America</td>\n",
       "      <td>0.367953</td>\n",
       "    </tr>\n",
       "    <tr>\n",
       "      <th>1564</th>\n",
       "      <td>12366</td>\n",
       "      <td>SE America</td>\n",
       "      <td>0.367953</td>\n",
       "    </tr>\n",
       "    <tr>\n",
       "      <th>1565</th>\n",
       "      <td>12367</td>\n",
       "      <td>NE America</td>\n",
       "      <td>0.347490</td>\n",
       "    </tr>\n",
       "    <tr>\n",
       "      <th>1566</th>\n",
       "      <td>12368</td>\n",
       "      <td>Belgium</td>\n",
       "      <td>0.569832</td>\n",
       "    </tr>\n",
       "  </tbody>\n",
       "</table>\n",
       "<p>1567 rows × 3 columns</p>\n",
       "</div>"
      ],
      "text/plain": [
       "      Opportunity_ID   Territory  meanEncodingTerritory\n",
       "0              10689     Germany               0.548148\n",
       "1              10690     Germany               0.548148\n",
       "2              10691  NE America               0.347490\n",
       "3              10692  NW America               0.632723\n",
       "4              10693  NW America               0.632723\n",
       "...              ...         ...                    ...\n",
       "1562           12364         KSA               0.416667\n",
       "1563           12365  SE America               0.367953\n",
       "1564           12366  SE America               0.367953\n",
       "1565           12367  NE America               0.347490\n",
       "1566           12368     Belgium               0.569832\n",
       "\n",
       "[1567 rows x 3 columns]"
      ]
     },
     "execution_count": 53,
     "metadata": {
      "tags": []
     },
     "output_type": "execute_result"
    }
   ],
   "source": [
    "territories=pd.merge(testAux,dfMeanEncoding, on=\"Territory\", how='left') \n",
    "territories"
   ]
  },
  {
   "cell_type": "code",
   "execution_count": 54,
   "metadata": {
    "colab": {
     "base_uri": "https://localhost:8080/",
     "height": 419
    },
    "id": "EL9LbmbPWbM6",
    "outputId": "b4f09254-3012-430e-f268-f920af59a51f"
   },
   "outputs": [
    {
     "data": {
      "text/html": [
       "<div>\n",
       "<style scoped>\n",
       "    .dataframe tbody tr th:only-of-type {\n",
       "        vertical-align: middle;\n",
       "    }\n",
       "\n",
       "    .dataframe tbody tr th {\n",
       "        vertical-align: top;\n",
       "    }\n",
       "\n",
       "    .dataframe thead th {\n",
       "        text-align: right;\n",
       "    }\n",
       "</style>\n",
       "<table border=\"1\" class=\"dataframe\">\n",
       "  <thead>\n",
       "    <tr style=\"text-align: right;\">\n",
       "      <th></th>\n",
       "      <th>Opportunity_ID</th>\n",
       "      <th>totalamount</th>\n",
       "      <th>totalTrf</th>\n",
       "      <th>Territory</th>\n",
       "      <th>meanEncodingTerritory</th>\n",
       "    </tr>\n",
       "  </thead>\n",
       "  <tbody>\n",
       "    <tr>\n",
       "      <th>0</th>\n",
       "      <td>10689</td>\n",
       "      <td>367419.0</td>\n",
       "      <td>0</td>\n",
       "      <td>Germany</td>\n",
       "      <td>0.548148</td>\n",
       "    </tr>\n",
       "    <tr>\n",
       "      <th>1</th>\n",
       "      <td>10690</td>\n",
       "      <td>757783.5</td>\n",
       "      <td>1</td>\n",
       "      <td>Germany</td>\n",
       "      <td>0.548148</td>\n",
       "    </tr>\n",
       "    <tr>\n",
       "      <th>2</th>\n",
       "      <td>10691</td>\n",
       "      <td>21037.5</td>\n",
       "      <td>0</td>\n",
       "      <td>NE America</td>\n",
       "      <td>0.347490</td>\n",
       "    </tr>\n",
       "    <tr>\n",
       "      <th>3</th>\n",
       "      <td>10692</td>\n",
       "      <td>2169106.5</td>\n",
       "      <td>6</td>\n",
       "      <td>NW America</td>\n",
       "      <td>0.632723</td>\n",
       "    </tr>\n",
       "    <tr>\n",
       "      <th>4</th>\n",
       "      <td>10693</td>\n",
       "      <td>5752.5</td>\n",
       "      <td>0</td>\n",
       "      <td>NW America</td>\n",
       "      <td>0.632723</td>\n",
       "    </tr>\n",
       "    <tr>\n",
       "      <th>...</th>\n",
       "      <td>...</td>\n",
       "      <td>...</td>\n",
       "      <td>...</td>\n",
       "      <td>...</td>\n",
       "      <td>...</td>\n",
       "    </tr>\n",
       "    <tr>\n",
       "      <th>1562</th>\n",
       "      <td>12364</td>\n",
       "      <td>147750.0</td>\n",
       "      <td>0</td>\n",
       "      <td>KSA</td>\n",
       "      <td>0.416667</td>\n",
       "    </tr>\n",
       "    <tr>\n",
       "      <th>1563</th>\n",
       "      <td>12365</td>\n",
       "      <td>45054.9</td>\n",
       "      <td>0</td>\n",
       "      <td>SE America</td>\n",
       "      <td>0.367953</td>\n",
       "    </tr>\n",
       "    <tr>\n",
       "      <th>1564</th>\n",
       "      <td>12366</td>\n",
       "      <td>100122.0</td>\n",
       "      <td>0</td>\n",
       "      <td>SE America</td>\n",
       "      <td>0.367953</td>\n",
       "    </tr>\n",
       "    <tr>\n",
       "      <th>1565</th>\n",
       "      <td>12367</td>\n",
       "      <td>143220.0</td>\n",
       "      <td>0</td>\n",
       "      <td>NE America</td>\n",
       "      <td>0.347490</td>\n",
       "    </tr>\n",
       "    <tr>\n",
       "      <th>1566</th>\n",
       "      <td>12368</td>\n",
       "      <td>871020.8</td>\n",
       "      <td>3</td>\n",
       "      <td>Belgium</td>\n",
       "      <td>0.569832</td>\n",
       "    </tr>\n",
       "  </tbody>\n",
       "</table>\n",
       "<p>1567 rows × 5 columns</p>\n",
       "</div>"
      ],
      "text/plain": [
       "      Opportunity_ID  totalamount  totalTrf   Territory  meanEncodingTerritory\n",
       "0              10689     367419.0         0     Germany               0.548148\n",
       "1              10690     757783.5         1     Germany               0.548148\n",
       "2              10691      21037.5         0  NE America               0.347490\n",
       "3              10692    2169106.5         6  NW America               0.632723\n",
       "4              10693       5752.5         0  NW America               0.632723\n",
       "...              ...          ...       ...         ...                    ...\n",
       "1562           12364     147750.0         0         KSA               0.416667\n",
       "1563           12365      45054.9         0  SE America               0.367953\n",
       "1564           12366     100122.0         0  SE America               0.367953\n",
       "1565           12367     143220.0         0  NE America               0.347490\n",
       "1566           12368     871020.8         3     Belgium               0.569832\n",
       "\n",
       "[1567 rows x 5 columns]"
      ]
     },
     "execution_count": 54,
     "metadata": {
      "tags": []
     },
     "output_type": "execute_result"
    }
   ],
   "source": [
    " testFinal=pd.merge(testFeature,territories, on=\"Opportunity_ID\", how='inner') \n",
    " testFinal"
   ]
  },
  {
   "cell_type": "code",
   "execution_count": 55,
   "metadata": {
    "id": "djxwCys7WbM6"
   },
   "outputs": [],
   "source": [
    "columnsCategoria=\"Territory\"\n",
    "\n",
    "listColumns=testFinal.columns.to_list()\n",
    "listColumns.remove(columnsCategoria)\n",
    "listColumns.remove('Opportunity_ID')\n",
    "listColumns\n",
    "testFinal=testFinal[listColumns]"
   ]
  },
  {
   "cell_type": "code",
   "execution_count": 56,
   "metadata": {
    "id": "513zyMCAWbM7"
   },
   "outputs": [],
   "source": [
    "#X_train, y_test se sacan del df entrenamiento"
   ]
  },
  {
   "cell_type": "code",
   "execution_count": 57,
   "metadata": {
    "colab": {
     "base_uri": "https://localhost:8080/",
     "height": 419
    },
    "id": "0Aa3uiZTWbM7",
    "outputId": "5f559433-fcea-49ac-edcc-bb4df7addfbb"
   },
   "outputs": [
    {
     "data": {
      "text/html": [
       "<div>\n",
       "<style scoped>\n",
       "    .dataframe tbody tr th:only-of-type {\n",
       "        vertical-align: middle;\n",
       "    }\n",
       "\n",
       "    .dataframe tbody tr th {\n",
       "        vertical-align: top;\n",
       "    }\n",
       "\n",
       "    .dataframe thead th {\n",
       "        text-align: right;\n",
       "    }\n",
       "</style>\n",
       "<table border=\"1\" class=\"dataframe\">\n",
       "  <thead>\n",
       "    <tr style=\"text-align: right;\">\n",
       "      <th></th>\n",
       "      <th>totalamount</th>\n",
       "      <th>totalTrf</th>\n",
       "      <th>meanEncodingTerritory</th>\n",
       "    </tr>\n",
       "  </thead>\n",
       "  <tbody>\n",
       "    <tr>\n",
       "      <th>6509</th>\n",
       "      <td>323212.5</td>\n",
       "      <td>0</td>\n",
       "      <td>0.813953</td>\n",
       "    </tr>\n",
       "    <tr>\n",
       "      <th>6914</th>\n",
       "      <td>463600.0</td>\n",
       "      <td>0</td>\n",
       "      <td>0.535927</td>\n",
       "    </tr>\n",
       "    <tr>\n",
       "      <th>2464</th>\n",
       "      <td>1679730.0</td>\n",
       "      <td>5</td>\n",
       "      <td>0.593750</td>\n",
       "    </tr>\n",
       "    <tr>\n",
       "      <th>913</th>\n",
       "      <td>498771.0</td>\n",
       "      <td>1</td>\n",
       "      <td>0.367953</td>\n",
       "    </tr>\n",
       "    <tr>\n",
       "      <th>4986</th>\n",
       "      <td>52126.0</td>\n",
       "      <td>0</td>\n",
       "      <td>0.379310</td>\n",
       "    </tr>\n",
       "    <tr>\n",
       "      <th>...</th>\n",
       "      <td>...</td>\n",
       "      <td>...</td>\n",
       "      <td>...</td>\n",
       "    </tr>\n",
       "    <tr>\n",
       "      <th>9785</th>\n",
       "      <td>1307775.0</td>\n",
       "      <td>3</td>\n",
       "      <td>0.548148</td>\n",
       "    </tr>\n",
       "    <tr>\n",
       "      <th>7763</th>\n",
       "      <td>103125.0</td>\n",
       "      <td>0</td>\n",
       "      <td>0.593750</td>\n",
       "    </tr>\n",
       "    <tr>\n",
       "      <th>5218</th>\n",
       "      <td>292410.0</td>\n",
       "      <td>1</td>\n",
       "      <td>0.417755</td>\n",
       "    </tr>\n",
       "    <tr>\n",
       "      <th>1346</th>\n",
       "      <td>326340.0</td>\n",
       "      <td>0</td>\n",
       "      <td>0.802326</td>\n",
       "    </tr>\n",
       "    <tr>\n",
       "      <th>3582</th>\n",
       "      <td>3010000.0</td>\n",
       "      <td>0</td>\n",
       "      <td>0.802326</td>\n",
       "    </tr>\n",
       "  </tbody>\n",
       "</table>\n",
       "<p>7832 rows × 3 columns</p>\n",
       "</div>"
      ],
      "text/plain": [
       "      totalamount  totalTrf  meanEncodingTerritory\n",
       "6509     323212.5         0               0.813953\n",
       "6914     463600.0         0               0.535927\n",
       "2464    1679730.0         5               0.593750\n",
       "913      498771.0         1               0.367953\n",
       "4986      52126.0         0               0.379310\n",
       "...           ...       ...                    ...\n",
       "9785    1307775.0         3               0.548148\n",
       "7763     103125.0         0               0.593750\n",
       "5218     292410.0         1               0.417755\n",
       "1346     326340.0         0               0.802326\n",
       "3582    3010000.0         0               0.802326\n",
       "\n",
       "[7832 rows x 3 columns]"
      ]
     },
     "execution_count": 57,
     "metadata": {
      "tags": []
     },
     "output_type": "execute_result"
    }
   ],
   "source": [
    "X_train"
   ]
  },
  {
   "cell_type": "code",
   "execution_count": 58,
   "metadata": {
    "colab": {
     "base_uri": "https://localhost:8080/"
    },
    "id": "U_xSWx8CWbM7",
    "outputId": "062c3d2a-ca50-4b78-bfa1-64180c201c88"
   },
   "outputs": [
    {
     "data": {
      "text/plain": [
       "6509    1\n",
       "6914    1\n",
       "2464    0\n",
       "913     0\n",
       "4986    1\n",
       "       ..\n",
       "9785    0\n",
       "7763    1\n",
       "5218    0\n",
       "1346    1\n",
       "3582    0\n",
       "Name: Stage, Length: 7832, dtype: int64"
      ]
     },
     "execution_count": 58,
     "metadata": {
      "tags": []
     },
     "output_type": "execute_result"
    }
   ],
   "source": [
    "y_train"
   ]
  },
  {
   "cell_type": "code",
   "execution_count": 59,
   "metadata": {
    "colab": {
     "base_uri": "https://localhost:8080/",
     "height": 419
    },
    "id": "M2jvRoMoWbM7",
    "outputId": "5c699865-b902-444a-89a9-deb0d4ab0c0c"
   },
   "outputs": [
    {
     "data": {
      "text/html": [
       "<div>\n",
       "<style scoped>\n",
       "    .dataframe tbody tr th:only-of-type {\n",
       "        vertical-align: middle;\n",
       "    }\n",
       "\n",
       "    .dataframe tbody tr th {\n",
       "        vertical-align: top;\n",
       "    }\n",
       "\n",
       "    .dataframe thead th {\n",
       "        text-align: right;\n",
       "    }\n",
       "</style>\n",
       "<table border=\"1\" class=\"dataframe\">\n",
       "  <thead>\n",
       "    <tr style=\"text-align: right;\">\n",
       "      <th></th>\n",
       "      <th>totalamount</th>\n",
       "      <th>totalTrf</th>\n",
       "      <th>meanEncodingTerritory</th>\n",
       "    </tr>\n",
       "  </thead>\n",
       "  <tbody>\n",
       "    <tr>\n",
       "      <th>0</th>\n",
       "      <td>367419.0</td>\n",
       "      <td>0</td>\n",
       "      <td>0.548148</td>\n",
       "    </tr>\n",
       "    <tr>\n",
       "      <th>1</th>\n",
       "      <td>757783.5</td>\n",
       "      <td>1</td>\n",
       "      <td>0.548148</td>\n",
       "    </tr>\n",
       "    <tr>\n",
       "      <th>2</th>\n",
       "      <td>21037.5</td>\n",
       "      <td>0</td>\n",
       "      <td>0.347490</td>\n",
       "    </tr>\n",
       "    <tr>\n",
       "      <th>3</th>\n",
       "      <td>2169106.5</td>\n",
       "      <td>6</td>\n",
       "      <td>0.632723</td>\n",
       "    </tr>\n",
       "    <tr>\n",
       "      <th>4</th>\n",
       "      <td>5752.5</td>\n",
       "      <td>0</td>\n",
       "      <td>0.632723</td>\n",
       "    </tr>\n",
       "    <tr>\n",
       "      <th>...</th>\n",
       "      <td>...</td>\n",
       "      <td>...</td>\n",
       "      <td>...</td>\n",
       "    </tr>\n",
       "    <tr>\n",
       "      <th>1562</th>\n",
       "      <td>147750.0</td>\n",
       "      <td>0</td>\n",
       "      <td>0.416667</td>\n",
       "    </tr>\n",
       "    <tr>\n",
       "      <th>1563</th>\n",
       "      <td>45054.9</td>\n",
       "      <td>0</td>\n",
       "      <td>0.367953</td>\n",
       "    </tr>\n",
       "    <tr>\n",
       "      <th>1564</th>\n",
       "      <td>100122.0</td>\n",
       "      <td>0</td>\n",
       "      <td>0.367953</td>\n",
       "    </tr>\n",
       "    <tr>\n",
       "      <th>1565</th>\n",
       "      <td>143220.0</td>\n",
       "      <td>0</td>\n",
       "      <td>0.347490</td>\n",
       "    </tr>\n",
       "    <tr>\n",
       "      <th>1566</th>\n",
       "      <td>871020.8</td>\n",
       "      <td>3</td>\n",
       "      <td>0.569832</td>\n",
       "    </tr>\n",
       "  </tbody>\n",
       "</table>\n",
       "<p>1567 rows × 3 columns</p>\n",
       "</div>"
      ],
      "text/plain": [
       "      totalamount  totalTrf  meanEncodingTerritory\n",
       "0        367419.0         0               0.548148\n",
       "1        757783.5         1               0.548148\n",
       "2         21037.5         0               0.347490\n",
       "3       2169106.5         6               0.632723\n",
       "4          5752.5         0               0.632723\n",
       "...           ...       ...                    ...\n",
       "1562     147750.0         0               0.416667\n",
       "1563      45054.9         0               0.367953\n",
       "1564     100122.0         0               0.367953\n",
       "1565     143220.0         0               0.347490\n",
       "1566     871020.8         3               0.569832\n",
       "\n",
       "[1567 rows x 3 columns]"
      ]
     },
     "execution_count": 59,
     "metadata": {
      "tags": []
     },
     "output_type": "execute_result"
    }
   ],
   "source": [
    "testFinal"
   ]
  },
  {
   "cell_type": "code",
   "execution_count": 60,
   "metadata": {
    "id": "ENgA9jIsWuBU"
   },
   "outputs": [],
   "source": [
    "testFinal=testFinal.fillna(0)"
   ]
  },
  {
   "cell_type": "code",
   "execution_count": 61,
   "metadata": {
    "id": "uwqTadw9WbM7"
   },
   "outputs": [],
   "source": [
    "prediccion=modelo.entrenarYPredecirWithTest(X_train,y_train,testFinal)"
   ]
  },
  {
   "cell_type": "code",
   "execution_count": 62,
   "metadata": {
    "colab": {
     "base_uri": "https://localhost:8080/",
     "height": 17
    },
    "id": "VKQN-YmMWbM7",
    "outputId": "23e3409e-05e2-47c2-d212-34a229f1efbf"
   },
   "outputs": [
    {
     "data": {
      "application/javascript": [
       "\n",
       "    async function download(id, filename, size) {\n",
       "      if (!google.colab.kernel.accessAllowed) {\n",
       "        return;\n",
       "      }\n",
       "      const div = document.createElement('div');\n",
       "      const label = document.createElement('label');\n",
       "      label.textContent = `Downloading \"${filename}\": `;\n",
       "      div.appendChild(label);\n",
       "      const progress = document.createElement('progress');\n",
       "      progress.max = size;\n",
       "      div.appendChild(progress);\n",
       "      document.body.appendChild(div);\n",
       "\n",
       "      const buffers = [];\n",
       "      let downloaded = 0;\n",
       "\n",
       "      const channel = await google.colab.kernel.comms.open(id);\n",
       "      // Send a message to notify the kernel that we're ready.\n",
       "      channel.send({})\n",
       "\n",
       "      for await (const message of channel.messages) {\n",
       "        // Send a message to notify the kernel that we're ready.\n",
       "        channel.send({})\n",
       "        if (message.buffers) {\n",
       "          for (const buffer of message.buffers) {\n",
       "            buffers.push(buffer);\n",
       "            downloaded += buffer.byteLength;\n",
       "            progress.value = downloaded;\n",
       "          }\n",
       "        }\n",
       "      }\n",
       "      const blob = new Blob(buffers, {type: 'application/binary'});\n",
       "      const a = document.createElement('a');\n",
       "      a.href = window.URL.createObjectURL(blob);\n",
       "      a.download = filename;\n",
       "      div.appendChild(a);\n",
       "      a.click();\n",
       "      div.remove();\n",
       "    }\n",
       "  "
      ],
      "text/plain": [
       "<IPython.core.display.Javascript object>"
      ]
     },
     "metadata": {
      "tags": []
     },
     "output_type": "display_data"
    },
    {
     "data": {
      "application/javascript": [
       "download(\"download_0648d046-627e-4b2a-9451-ce46c6c5da78\", \"dfKaggle.csv\", 17436)"
      ],
      "text/plain": [
       "<IPython.core.display.Javascript object>"
      ]
     },
     "metadata": {
      "tags": []
     },
     "output_type": "display_data"
    }
   ],
   "source": [
    "#se pasa testFinal porque posee\n",
    "modelo.formarDfKaggle(  prediccion)"
   ]
  },
  {
   "cell_type": "code",
   "execution_count": 63,
   "metadata": {
    "colab": {
     "base_uri": "https://localhost:8080/",
     "height": 295
    },
    "id": "zHeazAmAWbM8",
    "outputId": "600f786c-6116-4128-bde7-f8de8a24c0ad"
   },
   "outputs": [
    {
     "data": {
      "image/png": "[encoded data removed]",
      "text/plain": [
       "<Figure size 432x288 with 1 Axes>"
      ]
     },
     "metadata": {
      "needs_background": "light",
      "tags": []
     },
     "output_type": "display_data"
    }
   ],
   "source": [
    "modelo.featureImportancia( X_train)"
   ]
  },
  {
   "cell_type": "code",
   "execution_count": 63,
   "metadata": {
    "id": "F7F1s9R6WagE"
   },
   "outputs": [],
   "source": []
  },
  {
   "cell_type": "code",
   "execution_count": 63,
   "metadata": {
    "id": "oG7FAEHsWajN"
   },
   "outputs": [],
   "source": []
  },
  {
   "cell_type": "code",
   "execution_count": 63,
   "metadata": {
    "id": "u0n7sy4d0n9Y"
   },
   "outputs": [],
   "source": []
  },
  {
   "cell_type": "code",
   "execution_count": 63,
   "metadata": {
    "id": "NoTbuKxs1Fbj"
   },
   "outputs": [],
   "source": []
  },
  {
   "cell_type": "code",
   "execution_count": 63,
   "metadata": {
    "id": "2bpQRln_1Ffd"
   },
   "outputs": [],
   "source": []
  },
  {
   "cell_type": "code",
   "execution_count": 63,
   "metadata": {
    "id": "xHDpSI0X0oBS"
   },
   "outputs": [],
   "source": []
  },
  {
   "cell_type": "code",
   "execution_count": 63,
   "metadata": {
    "id": "JwhScGPY55ZL"
   },
   "outputs": [],
   "source": []
  },
  {
   "cell_type": "code",
   "execution_count": null,
   "metadata": {
    "id": "qKs8wWPi3OtI"
   },
   "outputs": [],
   "source": []
  },
  {
   "cell_type": "markdown",
   "metadata": {
    "id": "rMP-7BVuw6Jb"
   },
   "source": [
    "### **Mean Encoding con brand**"
   ]
  },
  {
   "cell_type": "code",
   "execution_count": null,
   "metadata": {
    "id": "OlHsQKVSzlvB"
   },
   "outputs": [],
   "source": []
  },
  {
   "cell_type": "code",
   "execution_count": 64,
   "metadata": {
    "id": "42kdaO2Rznc7"
   },
   "outputs": [],
   "source": [
    "#1)Apertura\n",
    "entrenamiento = pd.read_csv('data.csv')\n",
    "df=entrenamiento "
   ]
  },
  {
   "cell_type": "code",
   "execution_count": 65,
   "metadata": {
    "id": "Uf1bbxjvzndF"
   },
   "outputs": [],
   "source": [
    "random_state=1\n",
    "n_estimators=20\n",
    "#aca agregamos los hiperparametros que estamos probando\n",
    "Hiperparametros=[random_state ,n_estimators ]\n",
    "#por ahora no se usan los hirparametros, se setea dentro de las clase estos,\n",
    "#pero la idea es que se pueda setear desde afuera para probar"
   ]
  },
  {
   "cell_type": "code",
   "execution_count": 66,
   "metadata": {
    "id": "niWQYpnHzndF"
   },
   "outputs": [],
   "source": [
    "modelos={\n",
    "         'ramdomForest': RandomForestRegre(Hiperparametros),\n",
    "         'xgboost':xgbosst(Hiperparametros)\n",
    "}"
   ]
  },
  {
   "cell_type": "code",
   "execution_count": 67,
   "metadata": {
    "colab": {
     "base_uri": "https://localhost:8080/",
     "height": 204
    },
    "id": "LVOjy6pWzndF",
    "outputId": "8836df71-3c3c-4dd2-87f5-8a0607b5158a"
   },
   "outputs": [
    {
     "data": {
      "text/html": [
       "<div>\n",
       "<style scoped>\n",
       "    .dataframe tbody tr th:only-of-type {\n",
       "        vertical-align: middle;\n",
       "    }\n",
       "\n",
       "    .dataframe tbody tr th {\n",
       "        vertical-align: top;\n",
       "    }\n",
       "\n",
       "    .dataframe thead th {\n",
       "        text-align: right;\n",
       "    }\n",
       "</style>\n",
       "<table border=\"1\" class=\"dataframe\">\n",
       "  <thead>\n",
       "    <tr style=\"text-align: right;\">\n",
       "      <th></th>\n",
       "      <th>Opportunity_ID</th>\n",
       "      <th>totalamount</th>\n",
       "      <th>totalTrf</th>\n",
       "      <th>Stage</th>\n",
       "    </tr>\n",
       "  </thead>\n",
       "  <tbody>\n",
       "    <tr>\n",
       "      <th>0</th>\n",
       "      <td>0</td>\n",
       "      <td>5272800.0</td>\n",
       "      <td>10</td>\n",
       "      <td>0</td>\n",
       "    </tr>\n",
       "    <tr>\n",
       "      <th>1</th>\n",
       "      <td>1</td>\n",
       "      <td>48230.0</td>\n",
       "      <td>0</td>\n",
       "      <td>1</td>\n",
       "    </tr>\n",
       "    <tr>\n",
       "      <th>2</th>\n",
       "      <td>2</td>\n",
       "      <td>83865.6</td>\n",
       "      <td>0</td>\n",
       "      <td>1</td>\n",
       "    </tr>\n",
       "    <tr>\n",
       "      <th>3</th>\n",
       "      <td>3</td>\n",
       "      <td>7421881.5</td>\n",
       "      <td>14</td>\n",
       "      <td>0</td>\n",
       "    </tr>\n",
       "    <tr>\n",
       "      <th>4</th>\n",
       "      <td>4</td>\n",
       "      <td>13357192.5</td>\n",
       "      <td>25</td>\n",
       "      <td>0</td>\n",
       "    </tr>\n",
       "  </tbody>\n",
       "</table>\n",
       "</div>"
      ],
      "text/plain": [
       "   Opportunity_ID  totalamount  totalTrf Stage\n",
       "0               0    5272800.0        10     0\n",
       "1               1      48230.0         0     1\n",
       "2               2      83865.6         0     1\n",
       "3               3    7421881.5        14     0\n",
       "4               4   13357192.5        25     0"
      ]
     },
     "execution_count": 67,
     "metadata": {
      "tags": []
     },
     "output_type": "execute_result"
    }
   ],
   "source": [
    "\n",
    "\n",
    "modelo=modelos.get('ramdomForest')\n",
    "#cargamos el modelo \n",
    "modelo=modelo\n",
    "#hacemos feature engierine sobre el df original\n",
    "dfFeature=modelo.featureEngeenier(entrenamiento)\n",
    "dfFeature.head()\n",
    "#le agregamos el target\n",
    "dfFeatureWithTarget=modelo.agregarTargetDfOriginal(entrenamiento,dfFeature)\n",
    "dfFeatureWithTarget.head()"
   ]
  },
  {
   "cell_type": "code",
   "execution_count": 70,
   "metadata": {
    "id": "zriKggHBzndH"
   },
   "outputs": [],
   "source": [
    "def agregarMeanEncoding(dfWithFeatureTarget,columnCategorica):\n",
    "  \"\"\"dfWithFeature es un df de formato ['Opportunity_ID', y columnas nuevas agregadas anteriormente,target]\n",
    "  se hace minencoding columancategoria, retorna un df con opportunity_id, meanencoding,columnas nuevas agregadas anteriormente\n",
    "      \"\"\"\n",
    "  df = pd.read_csv('data.csv')\n",
    "  entrenamiento = pd.read_csv('data.csv')\n",
    "  df = df.replace('Closed Won', '1')\n",
    "  df = df.replace('Closed Lost', '0')\n",
    "  df = df[df['Stage'].isin(['0','1'])]\n",
    "  df.Stage = df.Stage.astype(int)\n",
    "  df = df.groupby([columnCategorica,'Opportunity_ID']).agg({'Stage':['sum','count']})\n",
    "  df = df.reset_index()\n",
    "  df1 = df\n",
    "  df1.columns = [columnCategorica,'Opportunity_ID','Stage_sum','Stage_count']\n",
    "  df1['Stage_sum'] = df1['Stage_sum'].apply(lambda x: 0 if x == 0 else 1)\n",
    "  df2 = df1.groupby([columnCategorica]).agg(meanEncodingBrand = ('Stage_sum','mean'))\n",
    "  df2 = df2.reset_index()\n",
    "  agruparOportunity=entrenamiento.groupby(['Opportunity_ID',columnCategorica]).agg(cant=(columnCategorica,'count')).reset_index()\n",
    "  result=pd.merge(agruparOportunity,df2,on=columnCategorica,how='inner')\n",
    "  #eliminamos columnas que no sirve, columncategorica porque la reemplazamos por el mean enconding, y cant que \n",
    "  #la usamos para unificar por oportunity_id \n",
    "  del result['cant']\n",
    "  del result['Brand']\n",
    "  result2=pd.merge(dfWithFeatureTarget, result, on='Opportunity_ID' , how='inner')\n",
    "  \n",
    "  dfWithFeatureTarget=result2\n",
    "  dfWithFeatureTarget.Stage = dfWithFeatureTarget.Stage.astype(int)\n",
    "  return dfWithFeatureTarget"
   ]
  },
  {
   "cell_type": "code",
   "execution_count": 71,
   "metadata": {
    "colab": {
     "base_uri": "https://localhost:8080/",
     "height": 204
    },
    "id": "zCy2-2HSzndH",
    "outputId": "f3c56e8b-d6ad-4d09-ffa4-e07912daf52d"
   },
   "outputs": [
    {
     "data": {
      "text/html": [
       "<div>\n",
       "<style scoped>\n",
       "    .dataframe tbody tr th:only-of-type {\n",
       "        vertical-align: middle;\n",
       "    }\n",
       "\n",
       "    .dataframe tbody tr th {\n",
       "        vertical-align: top;\n",
       "    }\n",
       "\n",
       "    .dataframe thead th {\n",
       "        text-align: right;\n",
       "    }\n",
       "</style>\n",
       "<table border=\"1\" class=\"dataframe\">\n",
       "  <thead>\n",
       "    <tr style=\"text-align: right;\">\n",
       "      <th></th>\n",
       "      <th>Opportunity_ID</th>\n",
       "      <th>totalamount</th>\n",
       "      <th>totalTrf</th>\n",
       "      <th>Stage</th>\n",
       "      <th>meanEncodingBrand</th>\n",
       "    </tr>\n",
       "  </thead>\n",
       "  <tbody>\n",
       "    <tr>\n",
       "      <th>0</th>\n",
       "      <td>0</td>\n",
       "      <td>5272800.0</td>\n",
       "      <td>10</td>\n",
       "      <td>0</td>\n",
       "      <td>0.556018</td>\n",
       "    </tr>\n",
       "    <tr>\n",
       "      <th>1</th>\n",
       "      <td>1</td>\n",
       "      <td>48230.0</td>\n",
       "      <td>0</td>\n",
       "      <td>1</td>\n",
       "      <td>0.556018</td>\n",
       "    </tr>\n",
       "    <tr>\n",
       "      <th>2</th>\n",
       "      <td>2</td>\n",
       "      <td>83865.6</td>\n",
       "      <td>0</td>\n",
       "      <td>1</td>\n",
       "      <td>0.556018</td>\n",
       "    </tr>\n",
       "    <tr>\n",
       "      <th>3</th>\n",
       "      <td>3</td>\n",
       "      <td>7421881.5</td>\n",
       "      <td>14</td>\n",
       "      <td>0</td>\n",
       "      <td>0.000000</td>\n",
       "    </tr>\n",
       "    <tr>\n",
       "      <th>4</th>\n",
       "      <td>4</td>\n",
       "      <td>13357192.5</td>\n",
       "      <td>25</td>\n",
       "      <td>0</td>\n",
       "      <td>0.000000</td>\n",
       "    </tr>\n",
       "  </tbody>\n",
       "</table>\n",
       "</div>"
      ],
      "text/plain": [
       "   Opportunity_ID  totalamount  totalTrf  Stage  meanEncodingBrand\n",
       "0               0    5272800.0        10      0           0.556018\n",
       "1               1      48230.0         0      1           0.556018\n",
       "2               2      83865.6         0      1           0.556018\n",
       "3               3    7421881.5        14      0           0.000000\n",
       "4               4   13357192.5        25      0           0.000000"
      ]
     },
     "execution_count": 71,
     "metadata": {
      "tags": []
     },
     "output_type": "execute_result"
    }
   ],
   "source": [
    "dfNew=agregarMeanEncoding(dfFeatureWithTarget,'Brand')\n",
    "dfNew.head()"
   ]
  },
  {
   "cell_type": "code",
   "execution_count": 72,
   "metadata": {
    "colab": {
     "base_uri": "https://localhost:8080/"
    },
    "id": "XLJdknC_zndI",
    "outputId": "fbdc1b1b-9d2f-4f33-9308-7a414d935fc2"
   },
   "outputs": [
    {
     "name": "stdout",
     "output_type": "stream",
     "text": [
      "las columnas del train son Index(['totalamount', 'totalTrf', 'meanEncodingBrand'], dtype='object') y del target son  Stage\n"
     ]
    }
   ],
   "source": [
    "X,y=modelo.splitTrainTarget(dfNew)"
   ]
  },
  {
   "cell_type": "code",
   "execution_count": 73,
   "metadata": {
    "id": "9lyUS2VmzndI"
   },
   "outputs": [],
   "source": [
    "X_train, X_test, y_train, y_test=modelo.SplitTrainTest(X,y)"
   ]
  },
  {
   "cell_type": "code",
   "execution_count": 74,
   "metadata": {
    "colab": {
     "base_uri": "https://localhost:8080/",
     "height": 419
    },
    "id": "M7hFnKtNzndI",
    "outputId": "cde7efa2-1a6f-4ebe-e06a-0626c3cfb50d"
   },
   "outputs": [
    {
     "data": {
      "text/html": [
       "<div>\n",
       "<style scoped>\n",
       "    .dataframe tbody tr th:only-of-type {\n",
       "        vertical-align: middle;\n",
       "    }\n",
       "\n",
       "    .dataframe tbody tr th {\n",
       "        vertical-align: top;\n",
       "    }\n",
       "\n",
       "    .dataframe thead th {\n",
       "        text-align: right;\n",
       "    }\n",
       "</style>\n",
       "<table border=\"1\" class=\"dataframe\">\n",
       "  <thead>\n",
       "    <tr style=\"text-align: right;\">\n",
       "      <th></th>\n",
       "      <th>totalamount</th>\n",
       "      <th>totalTrf</th>\n",
       "      <th>meanEncodingBrand</th>\n",
       "    </tr>\n",
       "  </thead>\n",
       "  <tbody>\n",
       "    <tr>\n",
       "      <th>6509</th>\n",
       "      <td>323212.5</td>\n",
       "      <td>0</td>\n",
       "      <td>0.556018</td>\n",
       "    </tr>\n",
       "    <tr>\n",
       "      <th>6914</th>\n",
       "      <td>463600.0</td>\n",
       "      <td>0</td>\n",
       "      <td>0.556018</td>\n",
       "    </tr>\n",
       "    <tr>\n",
       "      <th>2464</th>\n",
       "      <td>1679730.0</td>\n",
       "      <td>5</td>\n",
       "      <td>0.556018</td>\n",
       "    </tr>\n",
       "    <tr>\n",
       "      <th>913</th>\n",
       "      <td>498771.0</td>\n",
       "      <td>1</td>\n",
       "      <td>0.556018</td>\n",
       "    </tr>\n",
       "    <tr>\n",
       "      <th>4986</th>\n",
       "      <td>52126.0</td>\n",
       "      <td>0</td>\n",
       "      <td>0.556018</td>\n",
       "    </tr>\n",
       "    <tr>\n",
       "      <th>...</th>\n",
       "      <td>...</td>\n",
       "      <td>...</td>\n",
       "      <td>...</td>\n",
       "    </tr>\n",
       "    <tr>\n",
       "      <th>9785</th>\n",
       "      <td>1307775.0</td>\n",
       "      <td>3</td>\n",
       "      <td>0.556018</td>\n",
       "    </tr>\n",
       "    <tr>\n",
       "      <th>7763</th>\n",
       "      <td>103125.0</td>\n",
       "      <td>0</td>\n",
       "      <td>0.556018</td>\n",
       "    </tr>\n",
       "    <tr>\n",
       "      <th>5218</th>\n",
       "      <td>292410.0</td>\n",
       "      <td>1</td>\n",
       "      <td>0.556018</td>\n",
       "    </tr>\n",
       "    <tr>\n",
       "      <th>1346</th>\n",
       "      <td>326340.0</td>\n",
       "      <td>0</td>\n",
       "      <td>0.556018</td>\n",
       "    </tr>\n",
       "    <tr>\n",
       "      <th>3582</th>\n",
       "      <td>3010000.0</td>\n",
       "      <td>0</td>\n",
       "      <td>0.556018</td>\n",
       "    </tr>\n",
       "  </tbody>\n",
       "</table>\n",
       "<p>7832 rows × 3 columns</p>\n",
       "</div>"
      ],
      "text/plain": [
       "      totalamount  totalTrf  meanEncodingBrand\n",
       "6509     323212.5         0           0.556018\n",
       "6914     463600.0         0           0.556018\n",
       "2464    1679730.0         5           0.556018\n",
       "913      498771.0         1           0.556018\n",
       "4986      52126.0         0           0.556018\n",
       "...           ...       ...                ...\n",
       "9785    1307775.0         3           0.556018\n",
       "7763     103125.0         0           0.556018\n",
       "5218     292410.0         1           0.556018\n",
       "1346     326340.0         0           0.556018\n",
       "3582    3010000.0         0           0.556018\n",
       "\n",
       "[7832 rows x 3 columns]"
      ]
     },
     "execution_count": 74,
     "metadata": {
      "tags": []
     },
     "output_type": "execute_result"
    }
   ],
   "source": [
    "X_train"
   ]
  },
  {
   "cell_type": "code",
   "execution_count": 75,
   "metadata": {
    "colab": {
     "base_uri": "https://localhost:8080/"
    },
    "id": "L2eETDBSzndK",
    "outputId": "9476f6b7-7dbe-4e06-d447-e847b96d2049"
   },
   "outputs": [
    {
     "name": "stdout",
     "output_type": "stream",
     "text": [
      "RMSE: 0.463244\n"
     ]
    }
   ],
   "source": [
    "#entrenamo y predecimos, y comparamos con el valor real y vemos su error\n",
    "modelo.errorSetEntrenamiento(  X_train,y_train,X_test,y_test) "
   ]
  },
  {
   "cell_type": "markdown",
   "metadata": {
    "id": "b0HVXXES0sxJ"
   },
   "source": [
    "### Para subir a Kagle"
   ]
  }
 ],
 "metadata": {
  "colab": {
   "collapsed_sections": [],
   "include_colab_link": true,
   "name": "tp2orga_joaquin_v3.ipynb",
   "provenance": []
  },
  "kernelspec": {
   "display_name": "Python 3",
   "language": "python",
   "name": "python3"
  },
  "language_info": {
   "codemirror_mode": {
    "name": "ipython",
    "version": 3
   },
   "file_extension": ".py",
   "mimetype": "text/x-python",
   "name": "python",
   "nbconvert_exporter": "python",
   "pygments_lexer": "ipython3",
   "version": "3.8.3"
  }
 },
 "nbformat": 4,
 "nbformat_minor": 1
}
