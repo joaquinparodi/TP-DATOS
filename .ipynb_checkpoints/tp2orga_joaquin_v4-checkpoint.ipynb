{
 "cells": [
  {
   "cell_type": "markdown",
   "metadata": {
    "colab_type": "text",
    "id": "view-in-github"
   },
   "source": [
    "<a href=\"https://colab.research.google.com/github/joaquinparodi/TP1-DATOS/blob/main/tp2orga_joaquin_v4.ipynb\" target=\"_parent\"><img src=\"https://colab.research.google.com/assets/colab-badge.svg\" alt=\"Open In Colab\"/></a>"
   ]
  },
  {
   "cell_type": "code",
   "execution_count": 1,
   "metadata": {
    "colab": {
     "base_uri": "https://localhost:8080/"
    },
    "id": "BTDqJL94FYGe",
    "outputId": "bda6d2be-5c7f-4451-b9eb-9262ba016914"
   },
   "outputs": [
    {
     "name": "stdout",
     "output_type": "stream",
     "text": [
      "Collecting ptitprince\n",
      "  Downloading https://files.pythonhosted.org/packages/4a/da/b7032999bc29a3974ac9c7939d56a669335966d8820356a723be978697fb/ptitprince-0.2.5.tar.gz\n",
      "Requirement already satisfied: seaborn>=0.10 in /usr/local/lib/python3.6/dist-packages (from ptitprince) (0.11.1)\n",
      "Requirement already satisfied: matplotlib in /usr/local/lib/python3.6/dist-packages (from ptitprince) (3.2.2)\n",
      "Requirement already satisfied: numpy>=1.13 in /usr/local/lib/python3.6/dist-packages (from ptitprince) (1.19.5)\n",
      "Requirement already satisfied: scipy in /usr/local/lib/python3.6/dist-packages (from ptitprince) (1.4.1)\n",
      "Collecting PyHamcrest>=1.9.0\n",
      "\u001b[?25l  Downloading https://files.pythonhosted.org/packages/40/16/e54cc65891f01cb62893540f44ffd3e8dab0a22443e1b438f1a9f5574bee/PyHamcrest-2.0.2-py3-none-any.whl (52kB)\n",
      "\u001b[K     |████████████████████████████████| 61kB 4.4MB/s \n",
      "\u001b[?25hRequirement already satisfied: cython in /usr/local/lib/python3.6/dist-packages (from ptitprince) (0.29.21)\n",
      "Requirement already satisfied: pandas>=0.23 in /usr/local/lib/python3.6/dist-packages (from seaborn>=0.10->ptitprince) (1.1.5)\n",
      "Requirement already satisfied: cycler>=0.10 in /usr/local/lib/python3.6/dist-packages (from matplotlib->ptitprince) (0.10.0)\n",
      "Requirement already satisfied: python-dateutil>=2.1 in /usr/local/lib/python3.6/dist-packages (from matplotlib->ptitprince) (2.8.1)\n",
      "Requirement already satisfied: kiwisolver>=1.0.1 in /usr/local/lib/python3.6/dist-packages (from matplotlib->ptitprince) (1.3.1)\n",
      "Requirement already satisfied: pyparsing!=2.0.4,!=2.1.2,!=2.1.6,>=2.0.1 in /usr/local/lib/python3.6/dist-packages (from matplotlib->ptitprince) (2.4.7)\n",
      "Requirement already satisfied: pytz>=2017.2 in /usr/local/lib/python3.6/dist-packages (from pandas>=0.23->seaborn>=0.10->ptitprince) (2018.9)\n",
      "Requirement already satisfied: six in /usr/local/lib/python3.6/dist-packages (from cycler>=0.10->matplotlib->ptitprince) (1.15.0)\n",
      "Building wheels for collected packages: ptitprince\n",
      "  Building wheel for ptitprince (setup.py) ... \u001b[?25l\u001b[?25hdone\n",
      "  Created wheel for ptitprince: filename=ptitprince-0.2.5-cp36-none-any.whl size=8428 sha256=ba8f1d39456b9d4ef5ef1724a9ec7a86d291fbf1cb9a9da729575f09fcd45e7d\n",
      "  Stored in directory: /root/.cache/pip/wheels/fb/c1/75/2ef8da161053bdf8e03f9a360f426accd4fac1ddf7f6ed0029\n",
      "Successfully built ptitprince\n",
      "Installing collected packages: PyHamcrest, ptitprince\n",
      "Successfully installed PyHamcrest-2.0.2 ptitprince-0.2.5\n"
     ]
    }
   ],
   "source": [
    "# importacion general de librerias y de visualizacion (matplotlib y seaborn)\n",
    "!pip install ptitprince\n",
    "import ptitprince as pt\n",
    "import pandas as pd\n",
    "import numpy as np\n"
   ]
  },
  {
   "cell_type": "code",
   "execution_count": 2,
   "metadata": {
    "id": "wtgYMgn_kuPz"
   },
   "outputs": [],
   "source": [
    "import matplotlib.pylab as plt\n",
    "import seaborn as sns"
   ]
  },
  {
   "cell_type": "code",
   "execution_count": 3,
   "metadata": {
    "id": "ycF5SnjfGj4I"
   },
   "outputs": [],
   "source": [
    "from pydrive.auth import GoogleAuth\n",
    "from pydrive.drive import GoogleDrive\n",
    "from google.colab import auth\n",
    "from oauth2client.client import GoogleCredentials"
   ]
  },
  {
   "cell_type": "code",
   "execution_count": 4,
   "metadata": {
    "id": "QJbV2lDrGj-b"
   },
   "outputs": [],
   "source": [
    "auth.authenticate_user()\n",
    "gauth = GoogleAuth()\n",
    "gauth.credentials = GoogleCredentials.get_application_default()\n",
    "drive = GoogleDrive(gauth)"
   ]
  },
  {
   "cell_type": "code",
   "execution_count": 5,
   "metadata": {
    "id": "67yYcLf_GyAO"
   },
   "outputs": [],
   "source": [
    " \n",
    "id='1MfnxlPGSmr-i1up_2iKCkrBIMcDHomnK'\n",
    "downloaded = drive.CreateFile({'id': id})\n",
    "downloaded.GetContentFile('data.csv')"
   ]
  },
  {
   "cell_type": "code",
   "execution_count": 6,
   "metadata": {
    "id": "mWdphOAZwRLl"
   },
   "outputs": [],
   "source": [
    "id='1kZt5ZN2eAyeNEIWLh6lGckgyDIxpHN4f'\n",
    "downloaded = drive.CreateFile({'id': id})\n",
    "downloaded.GetContentFile('test.csv')"
   ]
  },
  {
   "cell_type": "code",
   "execution_count": 7,
   "metadata": {
    "id": "Ia9MlRRywaD7"
   },
   "outputs": [],
   "source": [
    "test=pd.read_csv('test.csv')"
   ]
  },
  {
   "cell_type": "code",
   "execution_count": 8,
   "metadata": {
    "id": "pFeCl82j8PtJ"
   },
   "outputs": [],
   "source": [
    "import xgboost as xgb\n",
    "from sklearn.ensemble import RandomForestRegressor\n",
    "from sklearn.metrics import mean_squared_error\n",
    "import pandas as pd\n",
    "import numpy as np\n",
    "%matplotlib inline\n",
    "import matplotlib.pyplot as plt\n",
    "from sklearn import tree"
   ]
  },
  {
   "cell_type": "code",
   "execution_count": 9,
   "metadata": {
    "id": "jEdxztOrd4Ge"
   },
   "outputs": [],
   "source": [
    "class Modelo():\n",
    "  def __init__(self ):\n",
    "    pass\n",
    "\n",
    "\n",
    "\n",
    "  def splitTrainTarget(self,entrenamientoFeatureTarget):\n",
    "    #separo  mi dataframe en X= feature engineri e y= target\n",
    "    target='Stage'\n",
    "    listColumns=dfNew.columns.to_list()\n",
    "    listColumns.remove('Stage')\n",
    "    listColumns.remove('Opportunity_ID')\n",
    "    listColumns\n",
    "    X,y=entrenamientoFeatureTarget[listColumns], entrenamientoFeatureTarget[target]\n",
    "    print(\"las columnas del train son {} y del target son  {}\".format(X.columns , y.name ))\n",
    "    return X,y\n",
    "\n",
    "  def SplitTrainTest(self,X,y):\n",
    "    from sklearn.model_selection import train_test_split\n",
    "\n",
    "    X_train, X_test, y_train, y_test = \\\n",
    "    train_test_split(X, y, test_size=0.2, random_state=123)\n",
    "\n",
    "    return X_train, X_test, y_train, y_test\n",
    "\n",
    "\n",
    "  def entrenarYPredecirMismoSetEntrenamiento(self,X_train,y_train,X_test): \n",
    "    self.modelo.fit(X_train, y_train)\n",
    "    preds =  self.modelo.predict(X_test)\n",
    "    return preds\n",
    "\n",
    "  def errorSetEntrenamiento( self,X_train,y_train,X_test,y_test):\n",
    "     preds= self.entrenarYPredecirMismoSetEntrenamiento( X_train,y_train,X_test)\n",
    "     rmse = np.sqrt(mean_squared_error(y_test, preds))\n",
    "     print(\"RMSE: %f\" % (rmse)) \n",
    "\n",
    "\n",
    "\n",
    "  def entrenarYPredecirWithTest(self,X_train,y_train,dfFeaturestest):\n",
    "    \n",
    "    \n",
    "    dfFeaturestest=dfFeaturestest[X_train.columns.to_list()]\n",
    "    self.modelo.fit(X_train, y_train)\n",
    "    preds =  self.modelo.predict(dfFeaturestest)\n",
    "    return preds  \n",
    "\n",
    "  \n",
    "\n",
    "  def agregarTargetDfOriginal(self,entrenamiento,df):\n",
    "    #df es un dataframe ya agregado con features nuevos\n",
    "    #entrenamiento es el dataframe orginal sin procesar\n",
    "    target=entrenamiento[(entrenamiento['Stage']=='Closed Lost') | (entrenamiento['Stage']=='Closed Won')]\n",
    "    target=target[['Opportunity_ID','Stage']].groupby(['Opportunity_ID','Stage']).agg(total=('Stage','count')).reset_index()[['Opportunity_ID','Stage']]\n",
    "      \n",
    "    entrenamiento=pd.merge(df,target,on=\"Opportunity_ID\",how=\"inner\") \n",
    "    df=entrenamiento.replace(\"Closed Lost\", \"0\")\n",
    "    df=df.replace(\"Closed Won\", \"1\")\n",
    "  \n",
    "    return df\n",
    "\n",
    "  #feature engnerie\n",
    "  def featureEngeenier(self,df):\n",
    "    \"obsevar que df es el test original\"\n",
    "    #agregamos fecha \n",
    "    df['Month']=pd.to_datetime(df['Month'])\n",
    "    df['anio']=df['Month'].dt.year\n",
    "    df['mes']=df['Month'].dt.month\n",
    "    #agregamos columna totalamount\n",
    "    totalAmount=df.groupby(['Opportunity_ID' ]).agg(totalamount=('Total_Amount','sum'))\n",
    "    #agregamos total trf\n",
    "    totalTrf=df.groupby(['Opportunity_ID' ]).agg(totalTrf=('TRF','sum'))\n",
    "    dfFeatureNew=pd.merge(totalAmount,totalTrf,on=\"Opportunity_ID\",how=\"inner\").reset_index()\n",
    "\n",
    "    df=dfFeatureNew[['Opportunity_ID','totalamount','totalTrf']]\n",
    "    \n",
    "    return df\n",
    "\n",
    "\n",
    "  def formarDfKaggle(self ,preds ):\n",
    "    test=pd.read_csv('test.csv')\n",
    "    testAux2=test.groupby(['Opportunity_ID','Territory' ]).agg(cant=('Opportunity_ID','count')).reset_index()[['Opportunity_ID' ]]\n",
    " \n",
    "    dfkaggle = pd.DataFrame( preds)\n",
    "    dfkaggle['Opportunity_ID']=testAux2['Opportunity_ID']\n",
    "    dfkaggle.columns=['Target','Opportunity_ID']\n",
    "    dfkaggle=dfkaggle[['Opportunity_ID','Target']]\n",
    "    \n",
    "    from google.colab import files\n",
    "    dfkaggle.to_csv('dfKaggle.csv', index=False) \n",
    "    files.download('dfKaggle.csv')\n",
    "   \n",
    "  def featureImportancia(self,X_train):\n",
    "    # Gini importance\n",
    "    self.modelo.feature_importances_\n",
    "    plt.bar(X_train.columns, self.modelo.feature_importances_)\n",
    "    plt.xlabel('Features')\n",
    "    plt.ylabel('Importancia')\n",
    "    plt.title('Importancia Features con RF')\n",
    "    plt.show()\n"
   ]
  },
  {
   "cell_type": "code",
   "execution_count": 10,
   "metadata": {
    "id": "OxQYQZGnVDjg"
   },
   "outputs": [],
   "source": [
    "class RandomForestRegre(Modelo):\n",
    "  def __init__(self,hiperparametros):\n",
    "    super().__init__()\n",
    "    self.modelo= RandomForestRegressor(random_state=1,n_estimators=20)\n",
    "\n",
    "\n",
    "class xgbosst(Modelo):\n",
    "  def __init__(self,hiperparametros):\n",
    "    super().__init__()\n",
    "    self.modelo= xgb.XGBRegressor(objective ='reg:squarederror', \n",
    "                colsample_bytree = 0.3, learning_rate = 0.1,\n",
    "                max_depth = 2, alpha = 10, n_estimators = 500)\n",
    "  \n",
    "\n",
    "\n",
    "  # este polimorfismo es porque pedia el xgboost que y_train sea de tipo int\n",
    "  def entrenarYPredecirMismoSetEntrenamiento(self,X_train,y_train,X_test): \n",
    "    self.modelo.fit(X_train, y_train.astype(int))\n",
    "    preds =  self.modelo.predict(X_test)\n",
    "     \n",
    "    return preds\n",
    "\n",
    "  def errorSetEntrenamiento( self,X_train,y_train,X_test,y_test):\n",
    "    #aca la diferencia es que ytrain debe ser entero\n",
    "     \n",
    "    preds= self.entrenarYPredecirMismoSetEntrenamiento( X_train,y_train,X_test)\n",
    "    rmse = np.sqrt(mean_squared_error(y_test, preds))\n",
    "    print(\"RMSE: %f\" % (rmse))\n",
    "\n",
    "  def entrenarYPredecirWithTest(self,X_train,y_train,dfFeaturestest):\n",
    "     \n",
    "    dfFeaturestest=dfFeaturestest[X_train.columns.to_list()]\n",
    "    self.modelo.fit(X_train, y_train.astype(int))\n",
    "    preds =  self.modelo.predict(dfFeaturestest)\n",
    "    return preds  \n"
   ]
  },
  {
   "cell_type": "code",
   "execution_count": 62,
   "metadata": {
    "id": "F7F1s9R6WagE"
   },
   "outputs": [],
   "source": []
  },
  {
   "cell_type": "code",
   "execution_count": null,
   "metadata": {
    "id": "uLZWzx_dzuni"
   },
   "outputs": [],
   "source": []
  },
  {
   "cell_type": "code",
   "execution_count": null,
   "metadata": {
    "id": "6fuO0v-bzutF"
   },
   "outputs": [],
   "source": []
  },
  {
   "cell_type": "code",
   "execution_count": null,
   "metadata": {
    "id": "GJshjA0pzvKr"
   },
   "outputs": [],
   "source": []
  },
  {
   "cell_type": "code",
   "execution_count": null,
   "metadata": {
    "id": "JRmB5R3-zvNX"
   },
   "outputs": [],
   "source": []
  },
  {
   "cell_type": "markdown",
   "metadata": {
    "id": "fXNyWRzJz4Wr"
   },
   "source": [
    "# XGBOOST - Joaquin"
   ]
  },
  {
   "cell_type": "code",
   "execution_count": 426,
   "metadata": {
    "id": "_FxCDNiqzzbT"
   },
   "outputs": [],
   "source": [
    "#1)Apertura\n",
    "entrenamiento = pd.read_csv('data.csv')\n",
    "df=entrenamiento "
   ]
  },
  {
   "cell_type": "code",
   "execution_count": 427,
   "metadata": {
    "id": "wgb2pZI5zzbf"
   },
   "outputs": [],
   "source": [
    "random_state=1\n",
    "n_estimators=50\n",
    "#aca agregamos los hiperparametros que estamos probando\n",
    "Hiperparametros=[random_state ,n_estimators ]\n",
    "#por ahora no se usan los hirparametros, se setea dentro de las clase estos,\n",
    "#pero la idea es que se pueda setear desde afuera para probar"
   ]
  },
  {
   "cell_type": "code",
   "execution_count": 428,
   "metadata": {
    "id": "rgLHtpS5zzbf"
   },
   "outputs": [],
   "source": [
    "modelos={\n",
    "         'ramdomForest': RandomForestRegre(Hiperparametros),\n",
    "         'xgboost':xgbosst(Hiperparametros)\n",
    "}"
   ]
  },
  {
   "cell_type": "code",
   "execution_count": 429,
   "metadata": {
    "colab": {
     "base_uri": "https://localhost:8080/",
     "height": 204
    },
    "id": "2VUDAZoVzzbg",
    "outputId": "b196a4a1-ab25-4e08-ec5c-884a1393baa7"
   },
   "outputs": [
    {
     "data": {
      "text/html": [
       "<div>\n",
       "<style scoped>\n",
       "    .dataframe tbody tr th:only-of-type {\n",
       "        vertical-align: middle;\n",
       "    }\n",
       "\n",
       "    .dataframe tbody tr th {\n",
       "        vertical-align: top;\n",
       "    }\n",
       "\n",
       "    .dataframe thead th {\n",
       "        text-align: right;\n",
       "    }\n",
       "</style>\n",
       "<table border=\"1\" class=\"dataframe\">\n",
       "  <thead>\n",
       "    <tr style=\"text-align: right;\">\n",
       "      <th></th>\n",
       "      <th>Opportunity_ID</th>\n",
       "      <th>totalamount</th>\n",
       "      <th>totalTrf</th>\n",
       "      <th>Stage</th>\n",
       "    </tr>\n",
       "  </thead>\n",
       "  <tbody>\n",
       "    <tr>\n",
       "      <th>0</th>\n",
       "      <td>0</td>\n",
       "      <td>5272800.0</td>\n",
       "      <td>10</td>\n",
       "      <td>0</td>\n",
       "    </tr>\n",
       "    <tr>\n",
       "      <th>1</th>\n",
       "      <td>1</td>\n",
       "      <td>48230.0</td>\n",
       "      <td>0</td>\n",
       "      <td>1</td>\n",
       "    </tr>\n",
       "    <tr>\n",
       "      <th>2</th>\n",
       "      <td>2</td>\n",
       "      <td>83865.6</td>\n",
       "      <td>0</td>\n",
       "      <td>1</td>\n",
       "    </tr>\n",
       "    <tr>\n",
       "      <th>3</th>\n",
       "      <td>3</td>\n",
       "      <td>7421881.5</td>\n",
       "      <td>14</td>\n",
       "      <td>0</td>\n",
       "    </tr>\n",
       "    <tr>\n",
       "      <th>4</th>\n",
       "      <td>4</td>\n",
       "      <td>13357192.5</td>\n",
       "      <td>25</td>\n",
       "      <td>0</td>\n",
       "    </tr>\n",
       "  </tbody>\n",
       "</table>\n",
       "</div>"
      ],
      "text/plain": [
       "   Opportunity_ID  totalamount  totalTrf Stage\n",
       "0               0    5272800.0        10     0\n",
       "1               1      48230.0         0     1\n",
       "2               2      83865.6         0     1\n",
       "3               3    7421881.5        14     0\n",
       "4               4   13357192.5        25     0"
      ]
     },
     "execution_count": 429,
     "metadata": {
      "tags": []
     },
     "output_type": "execute_result"
    }
   ],
   "source": [
    "\n",
    "\n",
    "modelo=modelos.get('xgboost')\n",
    "#cargamos el modelo \n",
    "modelo=modelo\n",
    "#hacemos feature engierine sobre el df original\n",
    "dfFeature=modelo.featureEngeenier(entrenamiento)\n",
    "dfFeature.head()\n",
    "#le agregamos el target\n",
    "dfFeatureWithTarget=modelo.agregarTargetDfOriginal(entrenamiento,dfFeature)\n",
    "dfFeatureWithTarget.head()"
   ]
  },
  {
   "cell_type": "markdown",
   "metadata": {
    "id": "kyq55xyF1IXD"
   },
   "source": [
    "#TERRITORY"
   ]
  },
  {
   "cell_type": "code",
   "execution_count": 430,
   "metadata": {
    "colab": {
     "base_uri": "https://localhost:8080/"
    },
    "id": "yieCgaiC1nC6",
    "outputId": "25bbfa85-0ad7-426a-e33b-62a4af3aefe9"
   },
   "outputs": [
    {
     "data": {
      "text/plain": [
       "None               4999\n",
       "Germany            1682\n",
       "NW America         1568\n",
       "Australia          1208\n",
       "India               809\n",
       "                   ... \n",
       "Georgia               1\n",
       "Solomon Islands       1\n",
       "Egypt                 1\n",
       "Monaco                1\n",
       "Burma                 1\n",
       "Name: Territory, Length: 76, dtype: int64"
      ]
     },
     "execution_count": 430,
     "metadata": {
      "tags": []
     },
     "output_type": "execute_result"
    }
   ],
   "source": [
    "df = pd.read_csv('data.csv')\n",
    "df['Territory'].value_counts()"
   ]
  },
  {
   "cell_type": "code",
   "execution_count": 431,
   "metadata": {
    "id": "hJFzZMi6zzbh"
   },
   "outputs": [],
   "source": [
    "def agregarMeanEncoding(dfWithFeatureTarget,columnCategorica):\n",
    "  \"\"\"dfWithFeature es un df de formato ['Opportunity_ID', y columnas nuevas agregadas anteriormente,target]\n",
    "  se hace minencoding columancategoria, retorna un df con opportunity_id, meanencoding,columnas nuevas agregadas anteriormente\n",
    "      \"\"\"\n",
    "  df = pd.read_csv('data.csv')\n",
    "  entrenamiento = pd.read_csv('data.csv')\n",
    "  df = df.replace('Closed Won', '1')\n",
    "  df = df.replace('Closed Lost', '0')\n",
    "  df = df[df['Stage'].isin(['0','1'])]\n",
    "  df.Stage = df.Stage.astype(int)\n",
    "  df = df.groupby([columnCategorica,'Opportunity_ID']).agg({'Stage':['sum','count']})\n",
    "  df = df.reset_index()\n",
    "  df1 = df\n",
    "  df1.columns = [columnCategorica,'Opportunity_ID','Stage_sum','Stage_count']\n",
    "  df1['Stage_sum'] = df1['Stage_sum'].apply(lambda x: 0 if x == 0 else 1)\n",
    "  df2 = df1.groupby([columnCategorica]).agg(meanEncodingTerritory = ('Stage_sum','mean'))\n",
    "  df2 = df2.reset_index()\n",
    "  agruparOportunity=entrenamiento.groupby(['Opportunity_ID',columnCategorica]).agg(cant=(columnCategorica,'count')).reset_index()\n",
    "  result=pd.merge(agruparOportunity,df2,on=columnCategorica,how='inner')\n",
    "  #eliminamos columnas que no sirve, columncategorica porque la reemplazamos por el mean enconding, y cant que \n",
    "  #la usamos para unificar por oportunity_id \n",
    "  del result['cant']\n",
    "  del result['Territory']\n",
    "  result2=pd.merge(dfWithFeatureTarget, result, on='Opportunity_ID' , how='inner')\n",
    "  \n",
    "  dfWithFeatureTarget=result2\n",
    "  dfWithFeatureTarget.Stage = dfWithFeatureTarget.Stage.astype(int)\n",
    "  return dfWithFeatureTarget"
   ]
  },
  {
   "cell_type": "code",
   "execution_count": 432,
   "metadata": {
    "colab": {
     "base_uri": "https://localhost:8080/",
     "height": 204
    },
    "id": "wvxD6Cypzzbh",
    "outputId": "9f26861d-4422-4cc4-af73-cb57f0937ea7"
   },
   "outputs": [
    {
     "data": {
      "text/html": [
       "<div>\n",
       "<style scoped>\n",
       "    .dataframe tbody tr th:only-of-type {\n",
       "        vertical-align: middle;\n",
       "    }\n",
       "\n",
       "    .dataframe tbody tr th {\n",
       "        vertical-align: top;\n",
       "    }\n",
       "\n",
       "    .dataframe thead th {\n",
       "        text-align: right;\n",
       "    }\n",
       "</style>\n",
       "<table border=\"1\" class=\"dataframe\">\n",
       "  <thead>\n",
       "    <tr style=\"text-align: right;\">\n",
       "      <th></th>\n",
       "      <th>Opportunity_ID</th>\n",
       "      <th>totalamount</th>\n",
       "      <th>totalTrf</th>\n",
       "      <th>Stage</th>\n",
       "      <th>meanEncodingTerritory</th>\n",
       "    </tr>\n",
       "  </thead>\n",
       "  <tbody>\n",
       "    <tr>\n",
       "      <th>0</th>\n",
       "      <td>0</td>\n",
       "      <td>5272800.0</td>\n",
       "      <td>10</td>\n",
       "      <td>0</td>\n",
       "      <td>0.535927</td>\n",
       "    </tr>\n",
       "    <tr>\n",
       "      <th>1</th>\n",
       "      <td>1</td>\n",
       "      <td>48230.0</td>\n",
       "      <td>0</td>\n",
       "      <td>1</td>\n",
       "      <td>0.535927</td>\n",
       "    </tr>\n",
       "    <tr>\n",
       "      <th>2</th>\n",
       "      <td>2</td>\n",
       "      <td>83865.6</td>\n",
       "      <td>0</td>\n",
       "      <td>1</td>\n",
       "      <td>0.632723</td>\n",
       "    </tr>\n",
       "    <tr>\n",
       "      <th>3</th>\n",
       "      <td>3</td>\n",
       "      <td>7421881.5</td>\n",
       "      <td>14</td>\n",
       "      <td>0</td>\n",
       "      <td>0.632723</td>\n",
       "    </tr>\n",
       "    <tr>\n",
       "      <th>4</th>\n",
       "      <td>4</td>\n",
       "      <td>13357192.5</td>\n",
       "      <td>25</td>\n",
       "      <td>0</td>\n",
       "      <td>0.632723</td>\n",
       "    </tr>\n",
       "  </tbody>\n",
       "</table>\n",
       "</div>"
      ],
      "text/plain": [
       "   Opportunity_ID  totalamount  totalTrf  Stage  meanEncodingTerritory\n",
       "0               0    5272800.0        10      0               0.535927\n",
       "1               1      48230.0         0      1               0.535927\n",
       "2               2      83865.6         0      1               0.632723\n",
       "3               3    7421881.5        14      0               0.632723\n",
       "4               4   13357192.5        25      0               0.632723"
      ]
     },
     "execution_count": 432,
     "metadata": {
      "tags": []
     },
     "output_type": "execute_result"
    }
   ],
   "source": [
    "dfNew1=agregarMeanEncoding(dfFeatureWithTarget,'Territory')\n",
    "dfNew1.head()"
   ]
  },
  {
   "cell_type": "markdown",
   "metadata": {
    "id": "d9F_Tv2Q2FHQ"
   },
   "source": [
    "#REGION"
   ]
  },
  {
   "cell_type": "code",
   "execution_count": 433,
   "metadata": {
    "colab": {
     "base_uri": "https://localhost:8080/"
    },
    "id": "m83sohLN2FHf",
    "outputId": "3efde18f-22cf-438f-be9d-516aa6f97b94"
   },
   "outputs": [
    {
     "data": {
      "text/plain": [
       "Japan          4892\n",
       "EMEA           4664\n",
       "Americas       3945\n",
       "APAC           3262\n",
       "Middle East     184\n",
       "Name: Region, dtype: int64"
      ]
     },
     "execution_count": 433,
     "metadata": {
      "tags": []
     },
     "output_type": "execute_result"
    }
   ],
   "source": [
    "df = pd.read_csv('data.csv')\n",
    "df['Region'].value_counts()"
   ]
  },
  {
   "cell_type": "code",
   "execution_count": 434,
   "metadata": {
    "id": "c7jeOsP_2FHg"
   },
   "outputs": [],
   "source": [
    "def agregarMeanEncoding(dfWithFeatureTarget,columnCategorica):\n",
    "  \"\"\"dfWithFeature es un df de formato ['Opportunity_ID', y columnas nuevas agregadas anteriormente,target]\n",
    "  se hace minencoding columancategoria, retorna un df con opportunity_id, meanencoding,columnas nuevas agregadas anteriormente\n",
    "      \"\"\"\n",
    "  df = pd.read_csv('data.csv')\n",
    "  entrenamiento = pd.read_csv('data.csv')\n",
    "  df = df.replace('Closed Won', '1')\n",
    "  df = df.replace('Closed Lost', '0')\n",
    "  df = df[df['Stage'].isin(['0','1'])]\n",
    "  df.Stage = df.Stage.astype(int)\n",
    "  df = df.groupby([columnCategorica,'Opportunity_ID']).agg({'Stage':['sum','count']})\n",
    "  df = df.reset_index()\n",
    "  df1 = df\n",
    "  df1.columns = [columnCategorica,'Opportunity_ID','Stage_sum','Stage_count']\n",
    "  df1['Stage_sum'] = df1['Stage_sum'].apply(lambda x: 0 if x == 0 else 1)\n",
    "  df2 = df1.groupby([columnCategorica]).agg(meanEncodingRegion = ('Stage_sum','mean'))\n",
    "  df2 = df2.reset_index()\n",
    "  agruparOportunity=entrenamiento.groupby(['Opportunity_ID',columnCategorica]).agg(cant=(columnCategorica,'count')).reset_index()\n",
    "  result=pd.merge(agruparOportunity,df2,on=columnCategorica,how='inner')\n",
    "  #eliminamos columnas que no sirve, columncategorica porque la reemplazamos por el mean enconding, y cant que \n",
    "  #la usamos para unificar por oportunity_id \n",
    "  del result['cant']\n",
    "  del result['Region']\n",
    "  result2=pd.merge(dfWithFeatureTarget, result, on='Opportunity_ID' , how='inner')\n",
    "  \n",
    "  dfWithFeatureTarget=result2\n",
    "  dfWithFeatureTarget.Stage = dfWithFeatureTarget.Stage.astype(int)\n",
    "  return dfWithFeatureTarget"
   ]
  },
  {
   "cell_type": "code",
   "execution_count": 435,
   "metadata": {
    "colab": {
     "base_uri": "https://localhost:8080/",
     "height": 204
    },
    "id": "3r6B9rtE2FHg",
    "outputId": "e14ce39d-6201-42d9-dc00-8ae63f6d71f5"
   },
   "outputs": [
    {
     "data": {
      "text/html": [
       "<div>\n",
       "<style scoped>\n",
       "    .dataframe tbody tr th:only-of-type {\n",
       "        vertical-align: middle;\n",
       "    }\n",
       "\n",
       "    .dataframe tbody tr th {\n",
       "        vertical-align: top;\n",
       "    }\n",
       "\n",
       "    .dataframe thead th {\n",
       "        text-align: right;\n",
       "    }\n",
       "</style>\n",
       "<table border=\"1\" class=\"dataframe\">\n",
       "  <thead>\n",
       "    <tr style=\"text-align: right;\">\n",
       "      <th></th>\n",
       "      <th>Opportunity_ID</th>\n",
       "      <th>meanEncodingRegion</th>\n",
       "    </tr>\n",
       "  </thead>\n",
       "  <tbody>\n",
       "    <tr>\n",
       "      <th>0</th>\n",
       "      <td>0</td>\n",
       "      <td>0.463392</td>\n",
       "    </tr>\n",
       "    <tr>\n",
       "      <th>1</th>\n",
       "      <td>1</td>\n",
       "      <td>0.463392</td>\n",
       "    </tr>\n",
       "    <tr>\n",
       "      <th>2</th>\n",
       "      <td>2</td>\n",
       "      <td>0.446166</td>\n",
       "    </tr>\n",
       "    <tr>\n",
       "      <th>3</th>\n",
       "      <td>3</td>\n",
       "      <td>0.446166</td>\n",
       "    </tr>\n",
       "    <tr>\n",
       "      <th>4</th>\n",
       "      <td>4</td>\n",
       "      <td>0.446166</td>\n",
       "    </tr>\n",
       "  </tbody>\n",
       "</table>\n",
       "</div>"
      ],
      "text/plain": [
       "   Opportunity_ID  meanEncodingRegion\n",
       "0               0            0.463392\n",
       "1               1            0.463392\n",
       "2               2            0.446166\n",
       "3               3            0.446166\n",
       "4               4            0.446166"
      ]
     },
     "execution_count": 435,
     "metadata": {
      "tags": []
     },
     "output_type": "execute_result"
    }
   ],
   "source": [
    "dfNew2=agregarMeanEncoding(dfFeatureWithTarget,'Region')\n",
    "dfNew2=dfNew2[['Opportunity_ID','meanEncodingRegion']]\n",
    "dfNew2.head()"
   ]
  },
  {
   "cell_type": "code",
   "execution_count": 436,
   "metadata": {
    "colab": {
     "base_uri": "https://localhost:8080/",
     "height": 204
    },
    "id": "YOYy-MXV4Qnf",
    "outputId": "093e5397-e069-4f1a-939f-4395e907bbd0"
   },
   "outputs": [
    {
     "data": {
      "text/html": [
       "<div>\n",
       "<style scoped>\n",
       "    .dataframe tbody tr th:only-of-type {\n",
       "        vertical-align: middle;\n",
       "    }\n",
       "\n",
       "    .dataframe tbody tr th {\n",
       "        vertical-align: top;\n",
       "    }\n",
       "\n",
       "    .dataframe thead th {\n",
       "        text-align: right;\n",
       "    }\n",
       "</style>\n",
       "<table border=\"1\" class=\"dataframe\">\n",
       "  <thead>\n",
       "    <tr style=\"text-align: right;\">\n",
       "      <th></th>\n",
       "      <th>Opportunity_ID</th>\n",
       "      <th>totalamount</th>\n",
       "      <th>totalTrf</th>\n",
       "      <th>Stage</th>\n",
       "      <th>meanEncodingTerritory</th>\n",
       "      <th>meanEncodingRegion</th>\n",
       "    </tr>\n",
       "  </thead>\n",
       "  <tbody>\n",
       "    <tr>\n",
       "      <th>0</th>\n",
       "      <td>0</td>\n",
       "      <td>5272800.0</td>\n",
       "      <td>10</td>\n",
       "      <td>0</td>\n",
       "      <td>0.535927</td>\n",
       "      <td>0.463392</td>\n",
       "    </tr>\n",
       "    <tr>\n",
       "      <th>1</th>\n",
       "      <td>1</td>\n",
       "      <td>48230.0</td>\n",
       "      <td>0</td>\n",
       "      <td>1</td>\n",
       "      <td>0.535927</td>\n",
       "      <td>0.463392</td>\n",
       "    </tr>\n",
       "    <tr>\n",
       "      <th>2</th>\n",
       "      <td>2</td>\n",
       "      <td>83865.6</td>\n",
       "      <td>0</td>\n",
       "      <td>1</td>\n",
       "      <td>0.632723</td>\n",
       "      <td>0.446166</td>\n",
       "    </tr>\n",
       "    <tr>\n",
       "      <th>3</th>\n",
       "      <td>3</td>\n",
       "      <td>7421881.5</td>\n",
       "      <td>14</td>\n",
       "      <td>0</td>\n",
       "      <td>0.632723</td>\n",
       "      <td>0.446166</td>\n",
       "    </tr>\n",
       "    <tr>\n",
       "      <th>4</th>\n",
       "      <td>4</td>\n",
       "      <td>13357192.5</td>\n",
       "      <td>25</td>\n",
       "      <td>0</td>\n",
       "      <td>0.632723</td>\n",
       "      <td>0.446166</td>\n",
       "    </tr>\n",
       "  </tbody>\n",
       "</table>\n",
       "</div>"
      ],
      "text/plain": [
       "   Opportunity_ID  totalamount  ...  meanEncodingTerritory  meanEncodingRegion\n",
       "0               0    5272800.0  ...               0.535927            0.463392\n",
       "1               1      48230.0  ...               0.535927            0.463392\n",
       "2               2      83865.6  ...               0.632723            0.446166\n",
       "3               3    7421881.5  ...               0.632723            0.446166\n",
       "4               4   13357192.5  ...               0.632723            0.446166\n",
       "\n",
       "[5 rows x 6 columns]"
      ]
     },
     "execution_count": 436,
     "metadata": {
      "tags": []
     },
     "output_type": "execute_result"
    }
   ],
   "source": [
    "dfNew=pd.merge(dfNew1, dfNew2, on='Opportunity_ID' , how='inner')\n",
    "dfNew.head()"
   ]
  },
  {
   "cell_type": "markdown",
   "metadata": {
    "id": "AFklI4IqGqqx"
   },
   "source": [
    "#Delivery_Terms"
   ]
  },
  {
   "cell_type": "code",
   "execution_count": 437,
   "metadata": {
    "colab": {
     "base_uri": "https://localhost:8080/"
    },
    "id": "w8csoxJcGqrB",
    "outputId": "f687c4f1-a6d2-4830-b6a9-17393053d2f6"
   },
   "outputs": [
    {
     "data": {
      "text/plain": [
       "Delivery_Terms_4    7712\n",
       "Delivery_Terms_2    4633\n",
       "Delivery_Terms_1    2936\n",
       "Delivery_Terms_6     781\n",
       "Delivery_Terms_5     636\n",
       "Delivery_Terms_8     164\n",
       "Delivery_Terms_3      41\n",
       "Delivery_Terms_7      38\n",
       "Delivery_Terms_0       6\n",
       "Name: Delivery_Terms, dtype: int64"
      ]
     },
     "execution_count": 437,
     "metadata": {
      "tags": []
     },
     "output_type": "execute_result"
    }
   ],
   "source": [
    "df = pd.read_csv('data.csv')\n",
    "df['Delivery_Terms'].value_counts()"
   ]
  },
  {
   "cell_type": "code",
   "execution_count": 438,
   "metadata": {
    "id": "dvKu__hQGqrC"
   },
   "outputs": [],
   "source": [
    "def agregarMeanEncoding(dfWithFeatureTarget,columnCategorica):\n",
    "  \"\"\"dfWithFeature es un df de formato ['Opportunity_ID', y columnas nuevas agregadas anteriormente,target]\n",
    "  se hace minencoding columancategoria, retorna un df con opportunity_id, meanencoding,columnas nuevas agregadas anteriormente\n",
    "      \"\"\"\n",
    "  df = pd.read_csv('data.csv')\n",
    "  entrenamiento = pd.read_csv('data.csv')\n",
    "  df = df.replace('Closed Won', '1')\n",
    "  df = df.replace('Closed Lost', '0')\n",
    "  df = df[df['Stage'].isin(['0','1'])]\n",
    "  df.Stage = df.Stage.astype(int)\n",
    "  df = df.groupby([columnCategorica,'Opportunity_ID']).agg({'Stage':['sum','count']})\n",
    "  df = df.reset_index()\n",
    "  df1 = df\n",
    "  df1.columns = [columnCategorica,'Opportunity_ID','Stage_sum','Stage_count']\n",
    "  df1['Stage_sum'] = df1['Stage_sum'].apply(lambda x: 0 if x == 0 else 1)\n",
    "  df2 = df1.groupby([columnCategorica]).agg(meanEncodingDelivery_Terms = ('Stage_sum','mean'))\n",
    "  df2 = df2.reset_index()\n",
    "  agruparOportunity=entrenamiento.groupby(['Opportunity_ID',columnCategorica]).agg(cant=(columnCategorica,'count')).reset_index()\n",
    "  result=pd.merge(agruparOportunity,df2,on=columnCategorica,how='inner')\n",
    "  #eliminamos columnas que no sirve, columncategorica porque la reemplazamos por el mean enconding, y cant que \n",
    "  #la usamos para unificar por oportunity_id \n",
    "  del result['cant']\n",
    "  del result['Delivery_Terms']\n",
    "  result2=pd.merge(dfWithFeatureTarget, result, on='Opportunity_ID' , how='inner')\n",
    "  \n",
    "  dfWithFeatureTarget=result2\n",
    "  dfWithFeatureTarget.Stage = dfWithFeatureTarget.Stage.astype(int)\n",
    "  return dfWithFeatureTarget"
   ]
  },
  {
   "cell_type": "code",
   "execution_count": 439,
   "metadata": {
    "colab": {
     "base_uri": "https://localhost:8080/",
     "height": 204
    },
    "id": "N7vXeMtWGqrC",
    "outputId": "d42d2b53-511c-46ce-d128-76c27d2efa81"
   },
   "outputs": [
    {
     "data": {
      "text/html": [
       "<div>\n",
       "<style scoped>\n",
       "    .dataframe tbody tr th:only-of-type {\n",
       "        vertical-align: middle;\n",
       "    }\n",
       "\n",
       "    .dataframe tbody tr th {\n",
       "        vertical-align: top;\n",
       "    }\n",
       "\n",
       "    .dataframe thead th {\n",
       "        text-align: right;\n",
       "    }\n",
       "</style>\n",
       "<table border=\"1\" class=\"dataframe\">\n",
       "  <thead>\n",
       "    <tr style=\"text-align: right;\">\n",
       "      <th></th>\n",
       "      <th>Opportunity_ID</th>\n",
       "      <th>meanEncodingDelivery_Terms</th>\n",
       "    </tr>\n",
       "  </thead>\n",
       "  <tbody>\n",
       "    <tr>\n",
       "      <th>0</th>\n",
       "      <td>0</td>\n",
       "      <td>0.479801</td>\n",
       "    </tr>\n",
       "    <tr>\n",
       "      <th>1</th>\n",
       "      <td>1</td>\n",
       "      <td>0.479801</td>\n",
       "    </tr>\n",
       "    <tr>\n",
       "      <th>2</th>\n",
       "      <td>2</td>\n",
       "      <td>0.547011</td>\n",
       "    </tr>\n",
       "    <tr>\n",
       "      <th>3</th>\n",
       "      <td>3</td>\n",
       "      <td>0.449874</td>\n",
       "    </tr>\n",
       "    <tr>\n",
       "      <th>4</th>\n",
       "      <td>4</td>\n",
       "      <td>0.449874</td>\n",
       "    </tr>\n",
       "  </tbody>\n",
       "</table>\n",
       "</div>"
      ],
      "text/plain": [
       "   Opportunity_ID  meanEncodingDelivery_Terms\n",
       "0               0                    0.479801\n",
       "1               1                    0.479801\n",
       "2               2                    0.547011\n",
       "3               3                    0.449874\n",
       "4               4                    0.449874"
      ]
     },
     "execution_count": 439,
     "metadata": {
      "tags": []
     },
     "output_type": "execute_result"
    }
   ],
   "source": [
    "dfNew2=agregarMeanEncoding(dfFeatureWithTarget,'Delivery_Terms')\n",
    "dfNew2=dfNew2[['Opportunity_ID','meanEncodingDelivery_Terms']]\n",
    "dfNew2.head()"
   ]
  },
  {
   "cell_type": "code",
   "execution_count": 440,
   "metadata": {
    "colab": {
     "base_uri": "https://localhost:8080/",
     "height": 204
    },
    "id": "uc64HuIxGqrD",
    "outputId": "52173be7-a96e-4bb7-b671-7d6ebd715719"
   },
   "outputs": [
    {
     "data": {
      "text/html": [
       "<div>\n",
       "<style scoped>\n",
       "    .dataframe tbody tr th:only-of-type {\n",
       "        vertical-align: middle;\n",
       "    }\n",
       "\n",
       "    .dataframe tbody tr th {\n",
       "        vertical-align: top;\n",
       "    }\n",
       "\n",
       "    .dataframe thead th {\n",
       "        text-align: right;\n",
       "    }\n",
       "</style>\n",
       "<table border=\"1\" class=\"dataframe\">\n",
       "  <thead>\n",
       "    <tr style=\"text-align: right;\">\n",
       "      <th></th>\n",
       "      <th>Opportunity_ID</th>\n",
       "      <th>totalamount</th>\n",
       "      <th>totalTrf</th>\n",
       "      <th>Stage</th>\n",
       "      <th>meanEncodingTerritory</th>\n",
       "      <th>meanEncodingRegion</th>\n",
       "      <th>meanEncodingDelivery_Terms</th>\n",
       "    </tr>\n",
       "  </thead>\n",
       "  <tbody>\n",
       "    <tr>\n",
       "      <th>0</th>\n",
       "      <td>0</td>\n",
       "      <td>5272800.0</td>\n",
       "      <td>10</td>\n",
       "      <td>0</td>\n",
       "      <td>0.535927</td>\n",
       "      <td>0.463392</td>\n",
       "      <td>0.479801</td>\n",
       "    </tr>\n",
       "    <tr>\n",
       "      <th>1</th>\n",
       "      <td>1</td>\n",
       "      <td>48230.0</td>\n",
       "      <td>0</td>\n",
       "      <td>1</td>\n",
       "      <td>0.535927</td>\n",
       "      <td>0.463392</td>\n",
       "      <td>0.479801</td>\n",
       "    </tr>\n",
       "    <tr>\n",
       "      <th>2</th>\n",
       "      <td>2</td>\n",
       "      <td>83865.6</td>\n",
       "      <td>0</td>\n",
       "      <td>1</td>\n",
       "      <td>0.632723</td>\n",
       "      <td>0.446166</td>\n",
       "      <td>0.547011</td>\n",
       "    </tr>\n",
       "    <tr>\n",
       "      <th>3</th>\n",
       "      <td>3</td>\n",
       "      <td>7421881.5</td>\n",
       "      <td>14</td>\n",
       "      <td>0</td>\n",
       "      <td>0.632723</td>\n",
       "      <td>0.446166</td>\n",
       "      <td>0.449874</td>\n",
       "    </tr>\n",
       "    <tr>\n",
       "      <th>4</th>\n",
       "      <td>4</td>\n",
       "      <td>13357192.5</td>\n",
       "      <td>25</td>\n",
       "      <td>0</td>\n",
       "      <td>0.632723</td>\n",
       "      <td>0.446166</td>\n",
       "      <td>0.449874</td>\n",
       "    </tr>\n",
       "  </tbody>\n",
       "</table>\n",
       "</div>"
      ],
      "text/plain": [
       "   Opportunity_ID  totalamount  ...  meanEncodingRegion  meanEncodingDelivery_Terms\n",
       "0               0    5272800.0  ...            0.463392                    0.479801\n",
       "1               1      48230.0  ...            0.463392                    0.479801\n",
       "2               2      83865.6  ...            0.446166                    0.547011\n",
       "3               3    7421881.5  ...            0.446166                    0.449874\n",
       "4               4   13357192.5  ...            0.446166                    0.449874\n",
       "\n",
       "[5 rows x 7 columns]"
      ]
     },
     "execution_count": 440,
     "metadata": {
      "tags": []
     },
     "output_type": "execute_result"
    }
   ],
   "source": [
    "dfNew=pd.merge(dfNew, dfNew2, on='Opportunity_ID' , how='inner')\n",
    "dfNew.head()"
   ]
  },
  {
   "cell_type": "code",
   "execution_count": null,
   "metadata": {
    "id": "KDbCfSB-4Qq4"
   },
   "outputs": [],
   "source": []
  },
  {
   "cell_type": "markdown",
   "metadata": {
    "id": "YDR5wV7RLxYv"
   },
   "source": [
    "#Account_Owner\n"
   ]
  },
  {
   "cell_type": "code",
   "execution_count": 441,
   "metadata": {
    "colab": {
     "base_uri": "https://localhost:8080/"
    },
    "id": "ZCaPLla_LxYx",
    "outputId": "61de62ab-e38a-4e8e-a7d6-cbc069dfa9f2"
   },
   "outputs": [
    {
     "data": {
      "text/plain": [
       "Person_Name_50    3730\n",
       "Person_Name_13    1328\n",
       "Person_Name_8     1286\n",
       "Person_Name_43    1241\n",
       "Person_Name_18    1093\n",
       "Person_Name_3      875\n",
       "Person_Name_32     682\n",
       "Person_Name_4      664\n",
       "Person_Name_65     631\n",
       "Person_Name_64     577\n",
       "Person_Name_16     439\n",
       "Person_Name_46     381\n",
       "Person_Name_45     357\n",
       "Person_Name_2      333\n",
       "Person_Name_38     326\n",
       "Person_Name_42     304\n",
       "Person_Name_66     258\n",
       "Person_Name_60     227\n",
       "Person_Name_49     201\n",
       "Person_Name_59     201\n",
       "Person_Name_62     179\n",
       "Person_Name_54     178\n",
       "Person_Name_52     172\n",
       "Person_Name_21     166\n",
       "Person_Name_5      166\n",
       "Person_Name_63     138\n",
       "Person_Name_55     138\n",
       "Person_Name_51     108\n",
       "Person_Name_39     104\n",
       "Person_Name_33      86\n",
       "Person_Name_14      74\n",
       "Person_Name_61      72\n",
       "Person_Name_44      57\n",
       "Person_Name_41      51\n",
       "Person_Name_9       50\n",
       "Person_Name_58      15\n",
       "Person_Name_26      12\n",
       "Person_Name_11      10\n",
       "Person_Name_29       8\n",
       "Person_Name_25       7\n",
       "Person_Name_36       7\n",
       "Person_Name_23       4\n",
       "Person_Name_34       3\n",
       "Person_Name_35       2\n",
       "Person_Name_47       2\n",
       "Person_Name_17       2\n",
       "Person_Name_10       1\n",
       "Person_Name_20       1\n",
       "Name: Account_Owner, dtype: int64"
      ]
     },
     "execution_count": 441,
     "metadata": {
      "tags": []
     },
     "output_type": "execute_result"
    }
   ],
   "source": [
    "df = pd.read_csv('data.csv')\n",
    "df['Account_Owner'].value_counts()"
   ]
  },
  {
   "cell_type": "code",
   "execution_count": 442,
   "metadata": {
    "id": "V0CE4XxrLxYz"
   },
   "outputs": [],
   "source": [
    "def agregarMeanEncoding(dfWithFeatureTarget,columnCategorica):\n",
    "  \"\"\"dfWithFeature es un df de formato ['Opportunity_ID', y columnas nuevas agregadas anteriormente,target]\n",
    "  se hace minencoding columancategoria, retorna un df con opportunity_id, meanencoding,columnas nuevas agregadas anteriormente\n",
    "      \"\"\"\n",
    "  df = pd.read_csv('data.csv')\n",
    "  entrenamiento = pd.read_csv('data.csv')\n",
    "  df = df.replace('Closed Won', '1')\n",
    "  df = df.replace('Closed Lost', '0')\n",
    "  df = df[df['Stage'].isin(['0','1'])]\n",
    "  df.Stage = df.Stage.astype(int)\n",
    "  df = df.groupby([columnCategorica,'Opportunity_ID']).agg({'Stage':['sum','count']})\n",
    "  df = df.reset_index()\n",
    "  df1 = df\n",
    "  df1.columns = [columnCategorica,'Opportunity_ID','Stage_sum','Stage_count']\n",
    "  df1['Stage_sum'] = df1['Stage_sum'].apply(lambda x: 0 if x == 0 else 1)\n",
    "  df2 = df1.groupby([columnCategorica]).agg(meanEncodingAccount_Owner = ('Stage_sum','mean'))\n",
    "  df2 = df2.reset_index()\n",
    "  agruparOportunity=entrenamiento.groupby(['Opportunity_ID',columnCategorica]).agg(cant=(columnCategorica,'count')).reset_index()\n",
    "  result=pd.merge(agruparOportunity,df2,on=columnCategorica,how='inner')\n",
    "  #eliminamos columnas que no sirve, columncategorica porque la reemplazamos por el mean enconding, y cant que \n",
    "  #la usamos para unificar por oportunity_id \n",
    "  del result['cant']\n",
    "  del result['Account_Owner']\n",
    "  result2=pd.merge(dfWithFeatureTarget, result, on='Opportunity_ID' , how='inner')\n",
    "  \n",
    "  dfWithFeatureTarget=result2\n",
    "  dfWithFeatureTarget.Stage = dfWithFeatureTarget.Stage.astype(int)\n",
    "  return dfWithFeatureTarget"
   ]
  },
  {
   "cell_type": "code",
   "execution_count": 443,
   "metadata": {
    "colab": {
     "base_uri": "https://localhost:8080/",
     "height": 204
    },
    "id": "RgyLdZp4LxYz",
    "outputId": "8f5c9500-6610-4ee8-8905-03eac9c3dc31"
   },
   "outputs": [
    {
     "data": {
      "text/html": [
       "<div>\n",
       "<style scoped>\n",
       "    .dataframe tbody tr th:only-of-type {\n",
       "        vertical-align: middle;\n",
       "    }\n",
       "\n",
       "    .dataframe tbody tr th {\n",
       "        vertical-align: top;\n",
       "    }\n",
       "\n",
       "    .dataframe thead th {\n",
       "        text-align: right;\n",
       "    }\n",
       "</style>\n",
       "<table border=\"1\" class=\"dataframe\">\n",
       "  <thead>\n",
       "    <tr style=\"text-align: right;\">\n",
       "      <th></th>\n",
       "      <th>Opportunity_ID</th>\n",
       "      <th>meanEncodingAccount_Owner</th>\n",
       "    </tr>\n",
       "  </thead>\n",
       "  <tbody>\n",
       "    <tr>\n",
       "      <th>0</th>\n",
       "      <td>0</td>\n",
       "      <td>0.314607</td>\n",
       "    </tr>\n",
       "    <tr>\n",
       "      <th>1</th>\n",
       "      <td>1</td>\n",
       "      <td>0.314607</td>\n",
       "    </tr>\n",
       "    <tr>\n",
       "      <th>2</th>\n",
       "      <td>2</td>\n",
       "      <td>0.689320</td>\n",
       "    </tr>\n",
       "    <tr>\n",
       "      <th>3</th>\n",
       "      <td>3</td>\n",
       "      <td>0.571654</td>\n",
       "    </tr>\n",
       "    <tr>\n",
       "      <th>4</th>\n",
       "      <td>4</td>\n",
       "      <td>0.571654</td>\n",
       "    </tr>\n",
       "  </tbody>\n",
       "</table>\n",
       "</div>"
      ],
      "text/plain": [
       "   Opportunity_ID  meanEncodingAccount_Owner\n",
       "0               0                   0.314607\n",
       "1               1                   0.314607\n",
       "2               2                   0.689320\n",
       "3               3                   0.571654\n",
       "4               4                   0.571654"
      ]
     },
     "execution_count": 443,
     "metadata": {
      "tags": []
     },
     "output_type": "execute_result"
    }
   ],
   "source": [
    "dfNew2=agregarMeanEncoding(dfFeatureWithTarget,'Account_Owner')\n",
    "dfNew2=dfNew2[['Opportunity_ID','meanEncodingAccount_Owner']]\n",
    "dfNew2.head()"
   ]
  },
  {
   "cell_type": "code",
   "execution_count": 444,
   "metadata": {
    "colab": {
     "base_uri": "https://localhost:8080/",
     "height": 204
    },
    "id": "agbX23pvLxY0",
    "outputId": "5cc7241f-cba5-4a0a-ae73-697b8be75472"
   },
   "outputs": [
    {
     "data": {
      "text/html": [
       "<div>\n",
       "<style scoped>\n",
       "    .dataframe tbody tr th:only-of-type {\n",
       "        vertical-align: middle;\n",
       "    }\n",
       "\n",
       "    .dataframe tbody tr th {\n",
       "        vertical-align: top;\n",
       "    }\n",
       "\n",
       "    .dataframe thead th {\n",
       "        text-align: right;\n",
       "    }\n",
       "</style>\n",
       "<table border=\"1\" class=\"dataframe\">\n",
       "  <thead>\n",
       "    <tr style=\"text-align: right;\">\n",
       "      <th></th>\n",
       "      <th>Opportunity_ID</th>\n",
       "      <th>totalamount</th>\n",
       "      <th>totalTrf</th>\n",
       "      <th>Stage</th>\n",
       "      <th>meanEncodingTerritory</th>\n",
       "      <th>meanEncodingRegion</th>\n",
       "      <th>meanEncodingDelivery_Terms</th>\n",
       "      <th>meanEncodingAccount_Owner</th>\n",
       "    </tr>\n",
       "  </thead>\n",
       "  <tbody>\n",
       "    <tr>\n",
       "      <th>0</th>\n",
       "      <td>0</td>\n",
       "      <td>5272800.0</td>\n",
       "      <td>10</td>\n",
       "      <td>0</td>\n",
       "      <td>0.535927</td>\n",
       "      <td>0.463392</td>\n",
       "      <td>0.479801</td>\n",
       "      <td>0.314607</td>\n",
       "    </tr>\n",
       "    <tr>\n",
       "      <th>1</th>\n",
       "      <td>1</td>\n",
       "      <td>48230.0</td>\n",
       "      <td>0</td>\n",
       "      <td>1</td>\n",
       "      <td>0.535927</td>\n",
       "      <td>0.463392</td>\n",
       "      <td>0.479801</td>\n",
       "      <td>0.314607</td>\n",
       "    </tr>\n",
       "    <tr>\n",
       "      <th>2</th>\n",
       "      <td>2</td>\n",
       "      <td>83865.6</td>\n",
       "      <td>0</td>\n",
       "      <td>1</td>\n",
       "      <td>0.632723</td>\n",
       "      <td>0.446166</td>\n",
       "      <td>0.547011</td>\n",
       "      <td>0.689320</td>\n",
       "    </tr>\n",
       "    <tr>\n",
       "      <th>3</th>\n",
       "      <td>3</td>\n",
       "      <td>7421881.5</td>\n",
       "      <td>14</td>\n",
       "      <td>0</td>\n",
       "      <td>0.632723</td>\n",
       "      <td>0.446166</td>\n",
       "      <td>0.449874</td>\n",
       "      <td>0.571654</td>\n",
       "    </tr>\n",
       "    <tr>\n",
       "      <th>4</th>\n",
       "      <td>4</td>\n",
       "      <td>13357192.5</td>\n",
       "      <td>25</td>\n",
       "      <td>0</td>\n",
       "      <td>0.632723</td>\n",
       "      <td>0.446166</td>\n",
       "      <td>0.449874</td>\n",
       "      <td>0.571654</td>\n",
       "    </tr>\n",
       "  </tbody>\n",
       "</table>\n",
       "</div>"
      ],
      "text/plain": [
       "   Opportunity_ID  ...  meanEncodingAccount_Owner\n",
       "0               0  ...                   0.314607\n",
       "1               1  ...                   0.314607\n",
       "2               2  ...                   0.689320\n",
       "3               3  ...                   0.571654\n",
       "4               4  ...                   0.571654\n",
       "\n",
       "[5 rows x 8 columns]"
      ]
     },
     "execution_count": 444,
     "metadata": {
      "tags": []
     },
     "output_type": "execute_result"
    }
   ],
   "source": [
    "dfNew=pd.merge(dfNew, dfNew2, on='Opportunity_ID' , how='inner')\n",
    "dfNew.head()"
   ]
  },
  {
   "cell_type": "code",
   "execution_count": null,
   "metadata": {
    "id": "mUMXBDc14Quo"
   },
   "outputs": [],
   "source": []
  },
  {
   "cell_type": "code",
   "execution_count": null,
   "metadata": {
    "id": "7_5khxF-Ls45"
   },
   "outputs": [],
   "source": []
  },
  {
   "cell_type": "code",
   "execution_count": null,
   "metadata": {
    "id": "CgPS05zoLtA0"
   },
   "outputs": [],
   "source": []
  },
  {
   "cell_type": "code",
   "execution_count": null,
   "metadata": {
    "id": "AfTkGnV84Qx0"
   },
   "outputs": [],
   "source": []
  },
  {
   "cell_type": "code",
   "execution_count": 445,
   "metadata": {
    "colab": {
     "base_uri": "https://localhost:8080/"
    },
    "id": "8P7bAsNbzzbi",
    "outputId": "803e431d-1dbd-443b-ef74-afc4bc6540c0"
   },
   "outputs": [
    {
     "name": "stdout",
     "output_type": "stream",
     "text": [
      "las columnas del train son Index(['totalamount', 'totalTrf', 'meanEncodingTerritory',\n",
      "       'meanEncodingRegion', 'meanEncodingDelivery_Terms',\n",
      "       'meanEncodingAccount_Owner'],\n",
      "      dtype='object') y del target son  Stage\n"
     ]
    }
   ],
   "source": [
    "X,y=modelo.splitTrainTarget(dfNew)"
   ]
  },
  {
   "cell_type": "code",
   "execution_count": 446,
   "metadata": {
    "id": "I0C9yMSdzzbi"
   },
   "outputs": [],
   "source": [
    "X_train, X_test, y_train, y_test=modelo.SplitTrainTest(X,y)"
   ]
  },
  {
   "cell_type": "code",
   "execution_count": 447,
   "metadata": {
    "colab": {
     "base_uri": "https://localhost:8080/",
     "height": 419
    },
    "id": "4r7s20PMzzbi",
    "outputId": "5e3ffe58-9dd1-4954-e6aa-70be0f75c96a"
   },
   "outputs": [
    {
     "data": {
      "text/html": [
       "<div>\n",
       "<style scoped>\n",
       "    .dataframe tbody tr th:only-of-type {\n",
       "        vertical-align: middle;\n",
       "    }\n",
       "\n",
       "    .dataframe tbody tr th {\n",
       "        vertical-align: top;\n",
       "    }\n",
       "\n",
       "    .dataframe thead th {\n",
       "        text-align: right;\n",
       "    }\n",
       "</style>\n",
       "<table border=\"1\" class=\"dataframe\">\n",
       "  <thead>\n",
       "    <tr style=\"text-align: right;\">\n",
       "      <th></th>\n",
       "      <th>totalamount</th>\n",
       "      <th>totalTrf</th>\n",
       "      <th>meanEncodingTerritory</th>\n",
       "      <th>meanEncodingRegion</th>\n",
       "      <th>meanEncodingDelivery_Terms</th>\n",
       "      <th>meanEncodingAccount_Owner</th>\n",
       "    </tr>\n",
       "  </thead>\n",
       "  <tbody>\n",
       "    <tr>\n",
       "      <th>6509</th>\n",
       "      <td>323212.5</td>\n",
       "      <td>0</td>\n",
       "      <td>0.813953</td>\n",
       "      <td>0.463392</td>\n",
       "      <td>0.479801</td>\n",
       "      <td>0.488032</td>\n",
       "    </tr>\n",
       "    <tr>\n",
       "      <th>6914</th>\n",
       "      <td>463600.0</td>\n",
       "      <td>0</td>\n",
       "      <td>0.535927</td>\n",
       "      <td>0.684350</td>\n",
       "      <td>0.547011</td>\n",
       "      <td>0.633037</td>\n",
       "    </tr>\n",
       "    <tr>\n",
       "      <th>2464</th>\n",
       "      <td>1679730.0</td>\n",
       "      <td>5</td>\n",
       "      <td>0.593750</td>\n",
       "      <td>0.463392</td>\n",
       "      <td>0.479801</td>\n",
       "      <td>0.587421</td>\n",
       "    </tr>\n",
       "    <tr>\n",
       "      <th>913</th>\n",
       "      <td>498771.0</td>\n",
       "      <td>1</td>\n",
       "      <td>0.367953</td>\n",
       "      <td>0.446166</td>\n",
       "      <td>0.547011</td>\n",
       "      <td>0.343096</td>\n",
       "    </tr>\n",
       "    <tr>\n",
       "      <th>4986</th>\n",
       "      <td>52126.0</td>\n",
       "      <td>0</td>\n",
       "      <td>0.379310</td>\n",
       "      <td>0.446166</td>\n",
       "      <td>0.547011</td>\n",
       "      <td>0.343096</td>\n",
       "    </tr>\n",
       "    <tr>\n",
       "      <th>...</th>\n",
       "      <td>...</td>\n",
       "      <td>...</td>\n",
       "      <td>...</td>\n",
       "      <td>...</td>\n",
       "      <td>...</td>\n",
       "      <td>...</td>\n",
       "    </tr>\n",
       "    <tr>\n",
       "      <th>9785</th>\n",
       "      <td>1307775.0</td>\n",
       "      <td>3</td>\n",
       "      <td>0.548148</td>\n",
       "      <td>0.463392</td>\n",
       "      <td>0.479801</td>\n",
       "      <td>0.587421</td>\n",
       "    </tr>\n",
       "    <tr>\n",
       "      <th>7763</th>\n",
       "      <td>103125.0</td>\n",
       "      <td>0</td>\n",
       "      <td>0.593750</td>\n",
       "      <td>0.463392</td>\n",
       "      <td>0.479801</td>\n",
       "      <td>0.584211</td>\n",
       "    </tr>\n",
       "    <tr>\n",
       "      <th>5218</th>\n",
       "      <td>292410.0</td>\n",
       "      <td>1</td>\n",
       "      <td>0.417755</td>\n",
       "      <td>0.463392</td>\n",
       "      <td>0.479801</td>\n",
       "      <td>0.314607</td>\n",
       "    </tr>\n",
       "    <tr>\n",
       "      <th>1346</th>\n",
       "      <td>326340.0</td>\n",
       "      <td>0</td>\n",
       "      <td>0.802326</td>\n",
       "      <td>0.684350</td>\n",
       "      <td>0.666667</td>\n",
       "      <td>0.633037</td>\n",
       "    </tr>\n",
       "    <tr>\n",
       "      <th>3582</th>\n",
       "      <td>3010000.0</td>\n",
       "      <td>0</td>\n",
       "      <td>0.802326</td>\n",
       "      <td>0.684350</td>\n",
       "      <td>0.547011</td>\n",
       "      <td>0.783505</td>\n",
       "    </tr>\n",
       "  </tbody>\n",
       "</table>\n",
       "<p>7832 rows × 6 columns</p>\n",
       "</div>"
      ],
      "text/plain": [
       "      totalamount  ...  meanEncodingAccount_Owner\n",
       "6509     323212.5  ...                   0.488032\n",
       "6914     463600.0  ...                   0.633037\n",
       "2464    1679730.0  ...                   0.587421\n",
       "913      498771.0  ...                   0.343096\n",
       "4986      52126.0  ...                   0.343096\n",
       "...           ...  ...                        ...\n",
       "9785    1307775.0  ...                   0.587421\n",
       "7763     103125.0  ...                   0.584211\n",
       "5218     292410.0  ...                   0.314607\n",
       "1346     326340.0  ...                   0.633037\n",
       "3582    3010000.0  ...                   0.783505\n",
       "\n",
       "[7832 rows x 6 columns]"
      ]
     },
     "execution_count": 447,
     "metadata": {
      "tags": []
     },
     "output_type": "execute_result"
    }
   ],
   "source": [
    "X_train"
   ]
  },
  {
   "cell_type": "code",
   "execution_count": 448,
   "metadata": {
    "colab": {
     "base_uri": "https://localhost:8080/"
    },
    "id": "XWToDLyCzzbj",
    "outputId": "ded0e0b7-275e-4341-835d-d41aff13768f"
   },
   "outputs": [
    {
     "name": "stdout",
     "output_type": "stream",
     "text": [
      "RMSE: 0.414981\n"
     ]
    }
   ],
   "source": [
    "#entrenamo y predecimos, y comparamos con el valor real y vemos su error\n",
    "modelo.errorSetEntrenamiento(  X_train,y_train,X_test,y_test) "
   ]
  },
  {
   "cell_type": "markdown",
   "metadata": {
    "id": "scihRxAGzzbj"
   },
   "source": [
    "# aca vamos a entrenar y predecir con el test para subir a kaggle"
   ]
  },
  {
   "cell_type": "markdown",
   "metadata": {
    "id": "DZk3f3uv_Ozk"
   },
   "source": [
    "# TERRITORY"
   ]
  },
  {
   "cell_type": "code",
   "execution_count": 449,
   "metadata": {
    "id": "xrUXg3cKzzbj"
   },
   "outputs": [],
   "source": [
    "test=pd.read_csv('test.csv')"
   ]
  },
  {
   "cell_type": "code",
   "execution_count": 450,
   "metadata": {
    "colab": {
     "base_uri": "https://localhost:8080/",
     "height": 204
    },
    "id": "KOWlTw_yzzbj",
    "outputId": "b41c80e3-4813-42f7-9130-4960a59ddb31"
   },
   "outputs": [
    {
     "data": {
      "text/html": [
       "<div>\n",
       "<style scoped>\n",
       "    .dataframe tbody tr th:only-of-type {\n",
       "        vertical-align: middle;\n",
       "    }\n",
       "\n",
       "    .dataframe tbody tr th {\n",
       "        vertical-align: top;\n",
       "    }\n",
       "\n",
       "    .dataframe thead th {\n",
       "        text-align: right;\n",
       "    }\n",
       "</style>\n",
       "<table border=\"1\" class=\"dataframe\">\n",
       "  <thead>\n",
       "    <tr style=\"text-align: right;\">\n",
       "      <th></th>\n",
       "      <th>Opportunity_ID</th>\n",
       "      <th>totalamount</th>\n",
       "      <th>totalTrf</th>\n",
       "    </tr>\n",
       "  </thead>\n",
       "  <tbody>\n",
       "    <tr>\n",
       "      <th>0</th>\n",
       "      <td>10689</td>\n",
       "      <td>367419.0</td>\n",
       "      <td>0</td>\n",
       "    </tr>\n",
       "    <tr>\n",
       "      <th>1</th>\n",
       "      <td>10690</td>\n",
       "      <td>757783.5</td>\n",
       "      <td>1</td>\n",
       "    </tr>\n",
       "    <tr>\n",
       "      <th>2</th>\n",
       "      <td>10691</td>\n",
       "      <td>21037.5</td>\n",
       "      <td>0</td>\n",
       "    </tr>\n",
       "    <tr>\n",
       "      <th>3</th>\n",
       "      <td>10692</td>\n",
       "      <td>2169106.5</td>\n",
       "      <td>6</td>\n",
       "    </tr>\n",
       "    <tr>\n",
       "      <th>4</th>\n",
       "      <td>10693</td>\n",
       "      <td>5752.5</td>\n",
       "      <td>0</td>\n",
       "    </tr>\n",
       "  </tbody>\n",
       "</table>\n",
       "</div>"
      ],
      "text/plain": [
       "   Opportunity_ID  totalamount  totalTrf\n",
       "0           10689     367419.0         0\n",
       "1           10690     757783.5         1\n",
       "2           10691      21037.5         0\n",
       "3           10692    2169106.5         6\n",
       "4           10693       5752.5         0"
      ]
     },
     "execution_count": 450,
     "metadata": {
      "tags": []
     },
     "output_type": "execute_result"
    }
   ],
   "source": [
    "testFeature=modelo.featureEngeenier(test)\n",
    "testFeature.head()"
   ]
  },
  {
   "cell_type": "code",
   "execution_count": 451,
   "metadata": {
    "id": "L0d1V26wzzbk"
   },
   "outputs": [],
   "source": [
    "def meanEncodingDejandoColumnaCategorica(columnsCategory):\n",
    "  \"\"\"devuelve un dataframe con el formato [columnscategory,meanencodingcategory]\n",
    "    es porque lo vamos a usar para hacer merge por su columna categorica\"\"\"\n",
    "  df = pd.read_csv('data.csv')\n",
    "  entrenamiento = pd.read_csv('data.csv')\n",
    "  df = df.replace('Closed Won', '1')\n",
    "  df = df.replace('Closed Lost', '0')\n",
    "  df = df[df['Stage'].isin(['0','1'])]\n",
    "  df.Stage = df.Stage.astype(int)\n",
    "  df = df.groupby([columnsCategory,'Opportunity_ID']).agg({'Stage':['sum','count']})\n",
    "  df = df.reset_index()\n",
    "  df1 = df\n",
    "  df1.columns = [columnsCategory,'Opportunity_ID','Stage_sum','Stage_count']\n",
    "  df1['Stage_sum'] = df1['Stage_sum'].apply(lambda x: 0 if x == 0 else 1)\n",
    "  df2 = df1.groupby([columnsCategory]).agg(meanEncodingTerritory = ('Stage_sum','mean'))\n",
    "  df2 = df2.reset_index()\n",
    "  agruparOportunity=entrenamiento.groupby(['Opportunity_ID',columnsCategory]).agg(cant=(columnsCategory,'count')).reset_index()\n",
    "  result=pd.merge(agruparOportunity,df2,on=columnsCategory,how='inner')\n",
    "  result.head()\n",
    "  del result['cant']\n",
    "  result2=result[[columnsCategory,'meanEncodingTerritory']].drop_duplicates()\n",
    "  return  result2"
   ]
  },
  {
   "cell_type": "code",
   "execution_count": 452,
   "metadata": {
    "colab": {
     "base_uri": "https://localhost:8080/",
     "height": 204
    },
    "id": "6dA9Pf1Pzzbk",
    "outputId": "47b4fae4-2376-4896-c1d1-dfe61ad7ebbb"
   },
   "outputs": [
    {
     "data": {
      "text/html": [
       "<div>\n",
       "<style scoped>\n",
       "    .dataframe tbody tr th:only-of-type {\n",
       "        vertical-align: middle;\n",
       "    }\n",
       "\n",
       "    .dataframe tbody tr th {\n",
       "        vertical-align: top;\n",
       "    }\n",
       "\n",
       "    .dataframe thead th {\n",
       "        text-align: right;\n",
       "    }\n",
       "</style>\n",
       "<table border=\"1\" class=\"dataframe\">\n",
       "  <thead>\n",
       "    <tr style=\"text-align: right;\">\n",
       "      <th></th>\n",
       "      <th>Territory</th>\n",
       "      <th>meanEncodingTerritory</th>\n",
       "    </tr>\n",
       "  </thead>\n",
       "  <tbody>\n",
       "    <tr>\n",
       "      <th>0</th>\n",
       "      <td>None</td>\n",
       "      <td>0.535927</td>\n",
       "    </tr>\n",
       "    <tr>\n",
       "      <th>1867</th>\n",
       "      <td>NW America</td>\n",
       "      <td>0.632723</td>\n",
       "    </tr>\n",
       "    <tr>\n",
       "      <th>2745</th>\n",
       "      <td>India</td>\n",
       "      <td>0.457227</td>\n",
       "    </tr>\n",
       "    <tr>\n",
       "      <th>3425</th>\n",
       "      <td>Italy</td>\n",
       "      <td>0.432692</td>\n",
       "    </tr>\n",
       "    <tr>\n",
       "      <th>3633</th>\n",
       "      <td>Germany</td>\n",
       "      <td>0.548148</td>\n",
       "    </tr>\n",
       "  </tbody>\n",
       "</table>\n",
       "</div>"
      ],
      "text/plain": [
       "       Territory  meanEncodingTerritory\n",
       "0           None               0.535927\n",
       "1867  NW America               0.632723\n",
       "2745       India               0.457227\n",
       "3425       Italy               0.432692\n",
       "3633     Germany               0.548148"
      ]
     },
     "execution_count": 452,
     "metadata": {
      "tags": []
     },
     "output_type": "execute_result"
    }
   ],
   "source": [
    "dfMeanEncoding=meanEncodingDejandoColumnaCategorica(\"Territory\")\n",
    "dfMeanEncoding.head()"
   ]
  },
  {
   "cell_type": "code",
   "execution_count": 453,
   "metadata": {
    "colab": {
     "base_uri": "https://localhost:8080/",
     "height": 204
    },
    "id": "RL1PTBnGzzbl",
    "outputId": "5faead7d-6419-4317-dfa3-d1e076fb4c47"
   },
   "outputs": [
    {
     "data": {
      "text/html": [
       "<div>\n",
       "<style scoped>\n",
       "    .dataframe tbody tr th:only-of-type {\n",
       "        vertical-align: middle;\n",
       "    }\n",
       "\n",
       "    .dataframe tbody tr th {\n",
       "        vertical-align: top;\n",
       "    }\n",
       "\n",
       "    .dataframe thead th {\n",
       "        text-align: right;\n",
       "    }\n",
       "</style>\n",
       "<table border=\"1\" class=\"dataframe\">\n",
       "  <thead>\n",
       "    <tr style=\"text-align: right;\">\n",
       "      <th></th>\n",
       "      <th>Opportunity_ID</th>\n",
       "      <th>Territory</th>\n",
       "    </tr>\n",
       "  </thead>\n",
       "  <tbody>\n",
       "    <tr>\n",
       "      <th>0</th>\n",
       "      <td>10689</td>\n",
       "      <td>Germany</td>\n",
       "    </tr>\n",
       "    <tr>\n",
       "      <th>1</th>\n",
       "      <td>10690</td>\n",
       "      <td>Germany</td>\n",
       "    </tr>\n",
       "    <tr>\n",
       "      <th>2</th>\n",
       "      <td>10691</td>\n",
       "      <td>NE America</td>\n",
       "    </tr>\n",
       "    <tr>\n",
       "      <th>3</th>\n",
       "      <td>10692</td>\n",
       "      <td>NW America</td>\n",
       "    </tr>\n",
       "    <tr>\n",
       "      <th>4</th>\n",
       "      <td>10693</td>\n",
       "      <td>NW America</td>\n",
       "    </tr>\n",
       "  </tbody>\n",
       "</table>\n",
       "</div>"
      ],
      "text/plain": [
       "   Opportunity_ID   Territory\n",
       "0           10689     Germany\n",
       "1           10690     Germany\n",
       "2           10691  NE America\n",
       "3           10692  NW America\n",
       "4           10693  NW America"
      ]
     },
     "execution_count": 453,
     "metadata": {
      "tags": []
     },
     "output_type": "execute_result"
    }
   ],
   "source": [
    "testAux=test.groupby(['Opportunity_ID','Territory' ]).agg(cant=('Opportunity_ID','count')).reset_index()[['Opportunity_ID','Territory' ]]\n",
    "testAux.head()"
   ]
  },
  {
   "cell_type": "code",
   "execution_count": 454,
   "metadata": {
    "colab": {
     "base_uri": "https://localhost:8080/",
     "height": 419
    },
    "id": "9R4Gb4iZzzbm",
    "outputId": "618880f2-9f6c-4ab5-de65-4d1c82a759e6"
   },
   "outputs": [
    {
     "data": {
      "text/html": [
       "<div>\n",
       "<style scoped>\n",
       "    .dataframe tbody tr th:only-of-type {\n",
       "        vertical-align: middle;\n",
       "    }\n",
       "\n",
       "    .dataframe tbody tr th {\n",
       "        vertical-align: top;\n",
       "    }\n",
       "\n",
       "    .dataframe thead th {\n",
       "        text-align: right;\n",
       "    }\n",
       "</style>\n",
       "<table border=\"1\" class=\"dataframe\">\n",
       "  <thead>\n",
       "    <tr style=\"text-align: right;\">\n",
       "      <th></th>\n",
       "      <th>Opportunity_ID</th>\n",
       "      <th>Territory</th>\n",
       "      <th>meanEncodingTerritory</th>\n",
       "    </tr>\n",
       "  </thead>\n",
       "  <tbody>\n",
       "    <tr>\n",
       "      <th>0</th>\n",
       "      <td>10689</td>\n",
       "      <td>Germany</td>\n",
       "      <td>0.548148</td>\n",
       "    </tr>\n",
       "    <tr>\n",
       "      <th>1</th>\n",
       "      <td>10690</td>\n",
       "      <td>Germany</td>\n",
       "      <td>0.548148</td>\n",
       "    </tr>\n",
       "    <tr>\n",
       "      <th>2</th>\n",
       "      <td>10691</td>\n",
       "      <td>NE America</td>\n",
       "      <td>0.347490</td>\n",
       "    </tr>\n",
       "    <tr>\n",
       "      <th>3</th>\n",
       "      <td>10692</td>\n",
       "      <td>NW America</td>\n",
       "      <td>0.632723</td>\n",
       "    </tr>\n",
       "    <tr>\n",
       "      <th>4</th>\n",
       "      <td>10693</td>\n",
       "      <td>NW America</td>\n",
       "      <td>0.632723</td>\n",
       "    </tr>\n",
       "    <tr>\n",
       "      <th>...</th>\n",
       "      <td>...</td>\n",
       "      <td>...</td>\n",
       "      <td>...</td>\n",
       "    </tr>\n",
       "    <tr>\n",
       "      <th>1562</th>\n",
       "      <td>12364</td>\n",
       "      <td>KSA</td>\n",
       "      <td>0.416667</td>\n",
       "    </tr>\n",
       "    <tr>\n",
       "      <th>1563</th>\n",
       "      <td>12365</td>\n",
       "      <td>SE America</td>\n",
       "      <td>0.367953</td>\n",
       "    </tr>\n",
       "    <tr>\n",
       "      <th>1564</th>\n",
       "      <td>12366</td>\n",
       "      <td>SE America</td>\n",
       "      <td>0.367953</td>\n",
       "    </tr>\n",
       "    <tr>\n",
       "      <th>1565</th>\n",
       "      <td>12367</td>\n",
       "      <td>NE America</td>\n",
       "      <td>0.347490</td>\n",
       "    </tr>\n",
       "    <tr>\n",
       "      <th>1566</th>\n",
       "      <td>12368</td>\n",
       "      <td>Belgium</td>\n",
       "      <td>0.569832</td>\n",
       "    </tr>\n",
       "  </tbody>\n",
       "</table>\n",
       "<p>1567 rows × 3 columns</p>\n",
       "</div>"
      ],
      "text/plain": [
       "      Opportunity_ID   Territory  meanEncodingTerritory\n",
       "0              10689     Germany               0.548148\n",
       "1              10690     Germany               0.548148\n",
       "2              10691  NE America               0.347490\n",
       "3              10692  NW America               0.632723\n",
       "4              10693  NW America               0.632723\n",
       "...              ...         ...                    ...\n",
       "1562           12364         KSA               0.416667\n",
       "1563           12365  SE America               0.367953\n",
       "1564           12366  SE America               0.367953\n",
       "1565           12367  NE America               0.347490\n",
       "1566           12368     Belgium               0.569832\n",
       "\n",
       "[1567 rows x 3 columns]"
      ]
     },
     "execution_count": 454,
     "metadata": {
      "tags": []
     },
     "output_type": "execute_result"
    }
   ],
   "source": [
    "territories=pd.merge(testAux,dfMeanEncoding, on=\"Territory\", how='left') \n",
    "territories"
   ]
  },
  {
   "cell_type": "code",
   "execution_count": 455,
   "metadata": {
    "colab": {
     "base_uri": "https://localhost:8080/",
     "height": 419
    },
    "id": "KUuMgh8Kzzbm",
    "outputId": "1ac63ad6-c4b5-4941-a737-0b347c97392d"
   },
   "outputs": [
    {
     "data": {
      "text/html": [
       "<div>\n",
       "<style scoped>\n",
       "    .dataframe tbody tr th:only-of-type {\n",
       "        vertical-align: middle;\n",
       "    }\n",
       "\n",
       "    .dataframe tbody tr th {\n",
       "        vertical-align: top;\n",
       "    }\n",
       "\n",
       "    .dataframe thead th {\n",
       "        text-align: right;\n",
       "    }\n",
       "</style>\n",
       "<table border=\"1\" class=\"dataframe\">\n",
       "  <thead>\n",
       "    <tr style=\"text-align: right;\">\n",
       "      <th></th>\n",
       "      <th>Opportunity_ID</th>\n",
       "      <th>totalamount</th>\n",
       "      <th>totalTrf</th>\n",
       "      <th>Territory</th>\n",
       "      <th>meanEncodingTerritory</th>\n",
       "    </tr>\n",
       "  </thead>\n",
       "  <tbody>\n",
       "    <tr>\n",
       "      <th>0</th>\n",
       "      <td>10689</td>\n",
       "      <td>367419.0</td>\n",
       "      <td>0</td>\n",
       "      <td>Germany</td>\n",
       "      <td>0.548148</td>\n",
       "    </tr>\n",
       "    <tr>\n",
       "      <th>1</th>\n",
       "      <td>10690</td>\n",
       "      <td>757783.5</td>\n",
       "      <td>1</td>\n",
       "      <td>Germany</td>\n",
       "      <td>0.548148</td>\n",
       "    </tr>\n",
       "    <tr>\n",
       "      <th>2</th>\n",
       "      <td>10691</td>\n",
       "      <td>21037.5</td>\n",
       "      <td>0</td>\n",
       "      <td>NE America</td>\n",
       "      <td>0.347490</td>\n",
       "    </tr>\n",
       "    <tr>\n",
       "      <th>3</th>\n",
       "      <td>10692</td>\n",
       "      <td>2169106.5</td>\n",
       "      <td>6</td>\n",
       "      <td>NW America</td>\n",
       "      <td>0.632723</td>\n",
       "    </tr>\n",
       "    <tr>\n",
       "      <th>4</th>\n",
       "      <td>10693</td>\n",
       "      <td>5752.5</td>\n",
       "      <td>0</td>\n",
       "      <td>NW America</td>\n",
       "      <td>0.632723</td>\n",
       "    </tr>\n",
       "    <tr>\n",
       "      <th>...</th>\n",
       "      <td>...</td>\n",
       "      <td>...</td>\n",
       "      <td>...</td>\n",
       "      <td>...</td>\n",
       "      <td>...</td>\n",
       "    </tr>\n",
       "    <tr>\n",
       "      <th>1562</th>\n",
       "      <td>12364</td>\n",
       "      <td>147750.0</td>\n",
       "      <td>0</td>\n",
       "      <td>KSA</td>\n",
       "      <td>0.416667</td>\n",
       "    </tr>\n",
       "    <tr>\n",
       "      <th>1563</th>\n",
       "      <td>12365</td>\n",
       "      <td>45054.9</td>\n",
       "      <td>0</td>\n",
       "      <td>SE America</td>\n",
       "      <td>0.367953</td>\n",
       "    </tr>\n",
       "    <tr>\n",
       "      <th>1564</th>\n",
       "      <td>12366</td>\n",
       "      <td>100122.0</td>\n",
       "      <td>0</td>\n",
       "      <td>SE America</td>\n",
       "      <td>0.367953</td>\n",
       "    </tr>\n",
       "    <tr>\n",
       "      <th>1565</th>\n",
       "      <td>12367</td>\n",
       "      <td>143220.0</td>\n",
       "      <td>0</td>\n",
       "      <td>NE America</td>\n",
       "      <td>0.347490</td>\n",
       "    </tr>\n",
       "    <tr>\n",
       "      <th>1566</th>\n",
       "      <td>12368</td>\n",
       "      <td>871020.8</td>\n",
       "      <td>3</td>\n",
       "      <td>Belgium</td>\n",
       "      <td>0.569832</td>\n",
       "    </tr>\n",
       "  </tbody>\n",
       "</table>\n",
       "<p>1567 rows × 5 columns</p>\n",
       "</div>"
      ],
      "text/plain": [
       "      Opportunity_ID  totalamount  totalTrf   Territory  meanEncodingTerritory\n",
       "0              10689     367419.0         0     Germany               0.548148\n",
       "1              10690     757783.5         1     Germany               0.548148\n",
       "2              10691      21037.5         0  NE America               0.347490\n",
       "3              10692    2169106.5         6  NW America               0.632723\n",
       "4              10693       5752.5         0  NW America               0.632723\n",
       "...              ...          ...       ...         ...                    ...\n",
       "1562           12364     147750.0         0         KSA               0.416667\n",
       "1563           12365      45054.9         0  SE America               0.367953\n",
       "1564           12366     100122.0         0  SE America               0.367953\n",
       "1565           12367     143220.0         0  NE America               0.347490\n",
       "1566           12368     871020.8         3     Belgium               0.569832\n",
       "\n",
       "[1567 rows x 5 columns]"
      ]
     },
     "execution_count": 455,
     "metadata": {
      "tags": []
     },
     "output_type": "execute_result"
    }
   ],
   "source": [
    " testFinal=pd.merge(testFeature,territories, on=\"Opportunity_ID\", how='inner') \n",
    " testFinal"
   ]
  },
  {
   "cell_type": "code",
   "execution_count": null,
   "metadata": {
    "id": "B64O4SpcAnVx"
   },
   "outputs": [],
   "source": []
  },
  {
   "cell_type": "markdown",
   "metadata": {
    "id": "x1OdGFz4Axur"
   },
   "source": [
    "# REGION"
   ]
  },
  {
   "cell_type": "code",
   "execution_count": 456,
   "metadata": {
    "id": "lz6Ssfs5AoVb"
   },
   "outputs": [],
   "source": [
    "def meanEncodingDejandoColumnaCategorica(columnsCategory):\n",
    "  \"\"\"devuelve un dataframe con el formato [columnscategory,meanencodingcategory]\n",
    "    es porque lo vamos a usar para hacer merge por su columna categorica\"\"\"\n",
    "  df = pd.read_csv('data.csv')\n",
    "  entrenamiento = pd.read_csv('data.csv')\n",
    "  df = df.replace('Closed Won', '1')\n",
    "  df = df.replace('Closed Lost', '0')\n",
    "  df = df[df['Stage'].isin(['0','1'])]\n",
    "  df.Stage = df.Stage.astype(int)\n",
    "  df = df.groupby([columnsCategory,'Opportunity_ID']).agg({'Stage':['sum','count']})\n",
    "  df = df.reset_index()\n",
    "  df1 = df\n",
    "  df1.columns = [columnsCategory,'Opportunity_ID','Stage_sum','Stage_count']\n",
    "  df1['Stage_sum'] = df1['Stage_sum'].apply(lambda x: 0 if x == 0 else 1)\n",
    "  df2 = df1.groupby([columnsCategory]).agg(meanEncodingRegion = ('Stage_sum','mean'))\n",
    "  df2 = df2.reset_index()\n",
    "  agruparOportunity=entrenamiento.groupby(['Opportunity_ID',columnsCategory]).agg(cant=(columnsCategory,'count')).reset_index()\n",
    "  result=pd.merge(agruparOportunity,df2,on=columnsCategory,how='inner')\n",
    "  result.head()\n",
    "  del result['cant']\n",
    "  result2=result[[columnsCategory,'meanEncodingRegion']].drop_duplicates()\n",
    "  return  result2"
   ]
  },
  {
   "cell_type": "code",
   "execution_count": 457,
   "metadata": {
    "colab": {
     "base_uri": "https://localhost:8080/",
     "height": 204
    },
    "id": "jI7IY1QrAoVd",
    "outputId": "4e345859-4263-4e05-b5c9-a20260eb32b7"
   },
   "outputs": [
    {
     "data": {
      "text/html": [
       "<div>\n",
       "<style scoped>\n",
       "    .dataframe tbody tr th:only-of-type {\n",
       "        vertical-align: middle;\n",
       "    }\n",
       "\n",
       "    .dataframe tbody tr th {\n",
       "        vertical-align: top;\n",
       "    }\n",
       "\n",
       "    .dataframe thead th {\n",
       "        text-align: right;\n",
       "    }\n",
       "</style>\n",
       "<table border=\"1\" class=\"dataframe\">\n",
       "  <thead>\n",
       "    <tr style=\"text-align: right;\">\n",
       "      <th></th>\n",
       "      <th>Region</th>\n",
       "      <th>meanEncodingRegion</th>\n",
       "    </tr>\n",
       "  </thead>\n",
       "  <tbody>\n",
       "    <tr>\n",
       "      <th>0</th>\n",
       "      <td>EMEA</td>\n",
       "      <td>0.463392</td>\n",
       "    </tr>\n",
       "    <tr>\n",
       "      <th>3241</th>\n",
       "      <td>Americas</td>\n",
       "      <td>0.446166</td>\n",
       "    </tr>\n",
       "    <tr>\n",
       "      <th>5700</th>\n",
       "      <td>Japan</td>\n",
       "      <td>0.684350</td>\n",
       "    </tr>\n",
       "    <tr>\n",
       "      <th>7606</th>\n",
       "      <td>APAC</td>\n",
       "      <td>0.555556</td>\n",
       "    </tr>\n",
       "    <tr>\n",
       "      <th>9692</th>\n",
       "      <td>Middle East</td>\n",
       "      <td>0.239130</td>\n",
       "    </tr>\n",
       "  </tbody>\n",
       "</table>\n",
       "</div>"
      ],
      "text/plain": [
       "           Region  meanEncodingRegion\n",
       "0            EMEA            0.463392\n",
       "3241     Americas            0.446166\n",
       "5700        Japan            0.684350\n",
       "7606         APAC            0.555556\n",
       "9692  Middle East            0.239130"
      ]
     },
     "execution_count": 457,
     "metadata": {
      "tags": []
     },
     "output_type": "execute_result"
    }
   ],
   "source": [
    "dfMeanEncoding=meanEncodingDejandoColumnaCategorica(\"Region\")\n",
    "dfMeanEncoding.head()"
   ]
  },
  {
   "cell_type": "code",
   "execution_count": 458,
   "metadata": {
    "colab": {
     "base_uri": "https://localhost:8080/",
     "height": 204
    },
    "id": "ccXPiuagAoVf",
    "outputId": "21aa094e-76ea-41ca-86b2-95c0d4181525"
   },
   "outputs": [
    {
     "data": {
      "text/html": [
       "<div>\n",
       "<style scoped>\n",
       "    .dataframe tbody tr th:only-of-type {\n",
       "        vertical-align: middle;\n",
       "    }\n",
       "\n",
       "    .dataframe tbody tr th {\n",
       "        vertical-align: top;\n",
       "    }\n",
       "\n",
       "    .dataframe thead th {\n",
       "        text-align: right;\n",
       "    }\n",
       "</style>\n",
       "<table border=\"1\" class=\"dataframe\">\n",
       "  <thead>\n",
       "    <tr style=\"text-align: right;\">\n",
       "      <th></th>\n",
       "      <th>Opportunity_ID</th>\n",
       "      <th>Region</th>\n",
       "    </tr>\n",
       "  </thead>\n",
       "  <tbody>\n",
       "    <tr>\n",
       "      <th>0</th>\n",
       "      <td>10689</td>\n",
       "      <td>EMEA</td>\n",
       "    </tr>\n",
       "    <tr>\n",
       "      <th>1</th>\n",
       "      <td>10690</td>\n",
       "      <td>EMEA</td>\n",
       "    </tr>\n",
       "    <tr>\n",
       "      <th>2</th>\n",
       "      <td>10691</td>\n",
       "      <td>Americas</td>\n",
       "    </tr>\n",
       "    <tr>\n",
       "      <th>3</th>\n",
       "      <td>10692</td>\n",
       "      <td>Americas</td>\n",
       "    </tr>\n",
       "    <tr>\n",
       "      <th>4</th>\n",
       "      <td>10693</td>\n",
       "      <td>Americas</td>\n",
       "    </tr>\n",
       "  </tbody>\n",
       "</table>\n",
       "</div>"
      ],
      "text/plain": [
       "   Opportunity_ID    Region\n",
       "0           10689      EMEA\n",
       "1           10690      EMEA\n",
       "2           10691  Americas\n",
       "3           10692  Americas\n",
       "4           10693  Americas"
      ]
     },
     "execution_count": 458,
     "metadata": {
      "tags": []
     },
     "output_type": "execute_result"
    }
   ],
   "source": [
    "testAux=test.groupby(['Opportunity_ID','Region' ]).agg(cant=('Opportunity_ID','count')).reset_index()[['Opportunity_ID','Region' ]]\n",
    "testAux.head()"
   ]
  },
  {
   "cell_type": "code",
   "execution_count": 459,
   "metadata": {
    "colab": {
     "base_uri": "https://localhost:8080/",
     "height": 419
    },
    "id": "e2ICua7pAoVf",
    "outputId": "fcbc08ce-a4cc-4957-84d9-07bacb3ecb1c"
   },
   "outputs": [
    {
     "data": {
      "text/html": [
       "<div>\n",
       "<style scoped>\n",
       "    .dataframe tbody tr th:only-of-type {\n",
       "        vertical-align: middle;\n",
       "    }\n",
       "\n",
       "    .dataframe tbody tr th {\n",
       "        vertical-align: top;\n",
       "    }\n",
       "\n",
       "    .dataframe thead th {\n",
       "        text-align: right;\n",
       "    }\n",
       "</style>\n",
       "<table border=\"1\" class=\"dataframe\">\n",
       "  <thead>\n",
       "    <tr style=\"text-align: right;\">\n",
       "      <th></th>\n",
       "      <th>Opportunity_ID</th>\n",
       "      <th>Region</th>\n",
       "      <th>meanEncodingRegion</th>\n",
       "    </tr>\n",
       "  </thead>\n",
       "  <tbody>\n",
       "    <tr>\n",
       "      <th>0</th>\n",
       "      <td>10689</td>\n",
       "      <td>EMEA</td>\n",
       "      <td>0.463392</td>\n",
       "    </tr>\n",
       "    <tr>\n",
       "      <th>1</th>\n",
       "      <td>10690</td>\n",
       "      <td>EMEA</td>\n",
       "      <td>0.463392</td>\n",
       "    </tr>\n",
       "    <tr>\n",
       "      <th>2</th>\n",
       "      <td>10691</td>\n",
       "      <td>Americas</td>\n",
       "      <td>0.446166</td>\n",
       "    </tr>\n",
       "    <tr>\n",
       "      <th>3</th>\n",
       "      <td>10692</td>\n",
       "      <td>Americas</td>\n",
       "      <td>0.446166</td>\n",
       "    </tr>\n",
       "    <tr>\n",
       "      <th>4</th>\n",
       "      <td>10693</td>\n",
       "      <td>Americas</td>\n",
       "      <td>0.446166</td>\n",
       "    </tr>\n",
       "    <tr>\n",
       "      <th>...</th>\n",
       "      <td>...</td>\n",
       "      <td>...</td>\n",
       "      <td>...</td>\n",
       "    </tr>\n",
       "    <tr>\n",
       "      <th>1562</th>\n",
       "      <td>12364</td>\n",
       "      <td>EMEA</td>\n",
       "      <td>0.463392</td>\n",
       "    </tr>\n",
       "    <tr>\n",
       "      <th>1563</th>\n",
       "      <td>12365</td>\n",
       "      <td>Americas</td>\n",
       "      <td>0.446166</td>\n",
       "    </tr>\n",
       "    <tr>\n",
       "      <th>1564</th>\n",
       "      <td>12366</td>\n",
       "      <td>Americas</td>\n",
       "      <td>0.446166</td>\n",
       "    </tr>\n",
       "    <tr>\n",
       "      <th>1565</th>\n",
       "      <td>12367</td>\n",
       "      <td>Americas</td>\n",
       "      <td>0.446166</td>\n",
       "    </tr>\n",
       "    <tr>\n",
       "      <th>1566</th>\n",
       "      <td>12368</td>\n",
       "      <td>EMEA</td>\n",
       "      <td>0.463392</td>\n",
       "    </tr>\n",
       "  </tbody>\n",
       "</table>\n",
       "<p>1567 rows × 3 columns</p>\n",
       "</div>"
      ],
      "text/plain": [
       "      Opportunity_ID    Region  meanEncodingRegion\n",
       "0              10689      EMEA            0.463392\n",
       "1              10690      EMEA            0.463392\n",
       "2              10691  Americas            0.446166\n",
       "3              10692  Americas            0.446166\n",
       "4              10693  Americas            0.446166\n",
       "...              ...       ...                 ...\n",
       "1562           12364      EMEA            0.463392\n",
       "1563           12365  Americas            0.446166\n",
       "1564           12366  Americas            0.446166\n",
       "1565           12367  Americas            0.446166\n",
       "1566           12368      EMEA            0.463392\n",
       "\n",
       "[1567 rows x 3 columns]"
      ]
     },
     "execution_count": 459,
     "metadata": {
      "tags": []
     },
     "output_type": "execute_result"
    }
   ],
   "source": [
    "territories=pd.merge(testAux,dfMeanEncoding, on=\"Region\", how='left') \n",
    "territories"
   ]
  },
  {
   "cell_type": "code",
   "execution_count": 460,
   "metadata": {
    "colab": {
     "base_uri": "https://localhost:8080/",
     "height": 419
    },
    "id": "DQHJZrsIAoVg",
    "outputId": "f18a76ec-3081-45f0-e866-5ef745755712"
   },
   "outputs": [
    {
     "data": {
      "text/html": [
       "<div>\n",
       "<style scoped>\n",
       "    .dataframe tbody tr th:only-of-type {\n",
       "        vertical-align: middle;\n",
       "    }\n",
       "\n",
       "    .dataframe tbody tr th {\n",
       "        vertical-align: top;\n",
       "    }\n",
       "\n",
       "    .dataframe thead th {\n",
       "        text-align: right;\n",
       "    }\n",
       "</style>\n",
       "<table border=\"1\" class=\"dataframe\">\n",
       "  <thead>\n",
       "    <tr style=\"text-align: right;\">\n",
       "      <th></th>\n",
       "      <th>Opportunity_ID</th>\n",
       "      <th>totalamount</th>\n",
       "      <th>totalTrf</th>\n",
       "      <th>Territory</th>\n",
       "      <th>meanEncodingTerritory</th>\n",
       "      <th>Region</th>\n",
       "      <th>meanEncodingRegion</th>\n",
       "    </tr>\n",
       "  </thead>\n",
       "  <tbody>\n",
       "    <tr>\n",
       "      <th>0</th>\n",
       "      <td>10689</td>\n",
       "      <td>367419.0</td>\n",
       "      <td>0</td>\n",
       "      <td>Germany</td>\n",
       "      <td>0.548148</td>\n",
       "      <td>EMEA</td>\n",
       "      <td>0.463392</td>\n",
       "    </tr>\n",
       "    <tr>\n",
       "      <th>1</th>\n",
       "      <td>10690</td>\n",
       "      <td>757783.5</td>\n",
       "      <td>1</td>\n",
       "      <td>Germany</td>\n",
       "      <td>0.548148</td>\n",
       "      <td>EMEA</td>\n",
       "      <td>0.463392</td>\n",
       "    </tr>\n",
       "    <tr>\n",
       "      <th>2</th>\n",
       "      <td>10691</td>\n",
       "      <td>21037.5</td>\n",
       "      <td>0</td>\n",
       "      <td>NE America</td>\n",
       "      <td>0.347490</td>\n",
       "      <td>Americas</td>\n",
       "      <td>0.446166</td>\n",
       "    </tr>\n",
       "    <tr>\n",
       "      <th>3</th>\n",
       "      <td>10692</td>\n",
       "      <td>2169106.5</td>\n",
       "      <td>6</td>\n",
       "      <td>NW America</td>\n",
       "      <td>0.632723</td>\n",
       "      <td>Americas</td>\n",
       "      <td>0.446166</td>\n",
       "    </tr>\n",
       "    <tr>\n",
       "      <th>4</th>\n",
       "      <td>10693</td>\n",
       "      <td>5752.5</td>\n",
       "      <td>0</td>\n",
       "      <td>NW America</td>\n",
       "      <td>0.632723</td>\n",
       "      <td>Americas</td>\n",
       "      <td>0.446166</td>\n",
       "    </tr>\n",
       "    <tr>\n",
       "      <th>...</th>\n",
       "      <td>...</td>\n",
       "      <td>...</td>\n",
       "      <td>...</td>\n",
       "      <td>...</td>\n",
       "      <td>...</td>\n",
       "      <td>...</td>\n",
       "      <td>...</td>\n",
       "    </tr>\n",
       "    <tr>\n",
       "      <th>1562</th>\n",
       "      <td>12364</td>\n",
       "      <td>147750.0</td>\n",
       "      <td>0</td>\n",
       "      <td>KSA</td>\n",
       "      <td>0.416667</td>\n",
       "      <td>EMEA</td>\n",
       "      <td>0.463392</td>\n",
       "    </tr>\n",
       "    <tr>\n",
       "      <th>1563</th>\n",
       "      <td>12365</td>\n",
       "      <td>45054.9</td>\n",
       "      <td>0</td>\n",
       "      <td>SE America</td>\n",
       "      <td>0.367953</td>\n",
       "      <td>Americas</td>\n",
       "      <td>0.446166</td>\n",
       "    </tr>\n",
       "    <tr>\n",
       "      <th>1564</th>\n",
       "      <td>12366</td>\n",
       "      <td>100122.0</td>\n",
       "      <td>0</td>\n",
       "      <td>SE America</td>\n",
       "      <td>0.367953</td>\n",
       "      <td>Americas</td>\n",
       "      <td>0.446166</td>\n",
       "    </tr>\n",
       "    <tr>\n",
       "      <th>1565</th>\n",
       "      <td>12367</td>\n",
       "      <td>143220.0</td>\n",
       "      <td>0</td>\n",
       "      <td>NE America</td>\n",
       "      <td>0.347490</td>\n",
       "      <td>Americas</td>\n",
       "      <td>0.446166</td>\n",
       "    </tr>\n",
       "    <tr>\n",
       "      <th>1566</th>\n",
       "      <td>12368</td>\n",
       "      <td>871020.8</td>\n",
       "      <td>3</td>\n",
       "      <td>Belgium</td>\n",
       "      <td>0.569832</td>\n",
       "      <td>EMEA</td>\n",
       "      <td>0.463392</td>\n",
       "    </tr>\n",
       "  </tbody>\n",
       "</table>\n",
       "<p>1567 rows × 7 columns</p>\n",
       "</div>"
      ],
      "text/plain": [
       "      Opportunity_ID  totalamount  ...    Region meanEncodingRegion\n",
       "0              10689     367419.0  ...      EMEA           0.463392\n",
       "1              10690     757783.5  ...      EMEA           0.463392\n",
       "2              10691      21037.5  ...  Americas           0.446166\n",
       "3              10692    2169106.5  ...  Americas           0.446166\n",
       "4              10693       5752.5  ...  Americas           0.446166\n",
       "...              ...          ...  ...       ...                ...\n",
       "1562           12364     147750.0  ...      EMEA           0.463392\n",
       "1563           12365      45054.9  ...  Americas           0.446166\n",
       "1564           12366     100122.0  ...  Americas           0.446166\n",
       "1565           12367     143220.0  ...  Americas           0.446166\n",
       "1566           12368     871020.8  ...      EMEA           0.463392\n",
       "\n",
       "[1567 rows x 7 columns]"
      ]
     },
     "execution_count": 460,
     "metadata": {
      "tags": []
     },
     "output_type": "execute_result"
    }
   ],
   "source": [
    " testFinal=pd.merge(testFinal,territories, on=\"Opportunity_ID\", how='inner') \n",
    " testFinal"
   ]
  },
  {
   "cell_type": "code",
   "execution_count": null,
   "metadata": {
    "id": "duy-s63MAndB"
   },
   "outputs": [],
   "source": []
  },
  {
   "cell_type": "markdown",
   "metadata": {
    "id": "quXj4OT0I1hV"
   },
   "source": [
    "# Delivery_Terms"
   ]
  },
  {
   "cell_type": "code",
   "execution_count": 461,
   "metadata": {
    "id": "TFvH3w4II1hq"
   },
   "outputs": [],
   "source": [
    "def meanEncodingDejandoColumnaCategorica(columnsCategory):\n",
    "  \"\"\"devuelve un dataframe con el formato [columnscategory,meanencodingcategory]\n",
    "    es porque lo vamos a usar para hacer merge por su columna categorica\"\"\"\n",
    "  df = pd.read_csv('data.csv')\n",
    "  entrenamiento = pd.read_csv('data.csv')\n",
    "  df = df.replace('Closed Won', '1')\n",
    "  df = df.replace('Closed Lost', '0')\n",
    "  df = df[df['Stage'].isin(['0','1'])]\n",
    "  df.Stage = df.Stage.astype(int)\n",
    "  df = df.groupby([columnsCategory,'Opportunity_ID']).agg({'Stage':['sum','count']})\n",
    "  df = df.reset_index()\n",
    "  df1 = df\n",
    "  df1.columns = [columnsCategory,'Opportunity_ID','Stage_sum','Stage_count']\n",
    "  df1['Stage_sum'] = df1['Stage_sum'].apply(lambda x: 0 if x == 0 else 1)\n",
    "  df2 = df1.groupby([columnsCategory]).agg(meanEncodingDelivery_Terms = ('Stage_sum','mean'))\n",
    "  df2 = df2.reset_index()\n",
    "  agruparOportunity=entrenamiento.groupby(['Opportunity_ID',columnsCategory]).agg(cant=(columnsCategory,'count')).reset_index()\n",
    "  result=pd.merge(agruparOportunity,df2,on=columnsCategory,how='inner')\n",
    "  result.head()\n",
    "  del result['cant']\n",
    "  result2=result[[columnsCategory,'meanEncodingDelivery_Terms']].drop_duplicates()\n",
    "  return  result2"
   ]
  },
  {
   "cell_type": "code",
   "execution_count": 462,
   "metadata": {
    "colab": {
     "base_uri": "https://localhost:8080/",
     "height": 204
    },
    "id": "8EEhNSWII1hq",
    "outputId": "5ea418d2-3c4c-48e7-8147-af873d28a0e8"
   },
   "outputs": [
    {
     "data": {
      "text/html": [
       "<div>\n",
       "<style scoped>\n",
       "    .dataframe tbody tr th:only-of-type {\n",
       "        vertical-align: middle;\n",
       "    }\n",
       "\n",
       "    .dataframe tbody tr th {\n",
       "        vertical-align: top;\n",
       "    }\n",
       "\n",
       "    .dataframe thead th {\n",
       "        text-align: right;\n",
       "    }\n",
       "</style>\n",
       "<table border=\"1\" class=\"dataframe\">\n",
       "  <thead>\n",
       "    <tr style=\"text-align: right;\">\n",
       "      <th></th>\n",
       "      <th>Delivery_Terms</th>\n",
       "      <th>meanEncodingDelivery_Terms</th>\n",
       "    </tr>\n",
       "  </thead>\n",
       "  <tbody>\n",
       "    <tr>\n",
       "      <th>0</th>\n",
       "      <td>Delivery_Terms_2</td>\n",
       "      <td>0.479801</td>\n",
       "    </tr>\n",
       "    <tr>\n",
       "      <th>3221</th>\n",
       "      <td>Delivery_Terms_4</td>\n",
       "      <td>0.547011</td>\n",
       "    </tr>\n",
       "    <tr>\n",
       "      <th>6690</th>\n",
       "      <td>Delivery_Terms_1</td>\n",
       "      <td>0.449874</td>\n",
       "    </tr>\n",
       "    <tr>\n",
       "      <th>8694</th>\n",
       "      <td>Delivery_Terms_5</td>\n",
       "      <td>0.666667</td>\n",
       "    </tr>\n",
       "    <tr>\n",
       "      <th>9219</th>\n",
       "      <td>Delivery_Terms_8</td>\n",
       "      <td>0.570175</td>\n",
       "    </tr>\n",
       "  </tbody>\n",
       "</table>\n",
       "</div>"
      ],
      "text/plain": [
       "        Delivery_Terms  meanEncodingDelivery_Terms\n",
       "0     Delivery_Terms_2                    0.479801\n",
       "3221  Delivery_Terms_4                    0.547011\n",
       "6690  Delivery_Terms_1                    0.449874\n",
       "8694  Delivery_Terms_5                    0.666667\n",
       "9219  Delivery_Terms_8                    0.570175"
      ]
     },
     "execution_count": 462,
     "metadata": {
      "tags": []
     },
     "output_type": "execute_result"
    }
   ],
   "source": [
    "dfMeanEncoding=meanEncodingDejandoColumnaCategorica(\"Delivery_Terms\")\n",
    "dfMeanEncoding.head()"
   ]
  },
  {
   "cell_type": "code",
   "execution_count": 463,
   "metadata": {
    "colab": {
     "base_uri": "https://localhost:8080/",
     "height": 204
    },
    "id": "Zv9FCqhDI1hr",
    "outputId": "594ff5f2-cd11-4fe6-d4cd-94c86d5846e9"
   },
   "outputs": [
    {
     "data": {
      "text/html": [
       "<div>\n",
       "<style scoped>\n",
       "    .dataframe tbody tr th:only-of-type {\n",
       "        vertical-align: middle;\n",
       "    }\n",
       "\n",
       "    .dataframe tbody tr th {\n",
       "        vertical-align: top;\n",
       "    }\n",
       "\n",
       "    .dataframe thead th {\n",
       "        text-align: right;\n",
       "    }\n",
       "</style>\n",
       "<table border=\"1\" class=\"dataframe\">\n",
       "  <thead>\n",
       "    <tr style=\"text-align: right;\">\n",
       "      <th></th>\n",
       "      <th>Opportunity_ID</th>\n",
       "      <th>Delivery_Terms</th>\n",
       "    </tr>\n",
       "  </thead>\n",
       "  <tbody>\n",
       "    <tr>\n",
       "      <th>0</th>\n",
       "      <td>10689</td>\n",
       "      <td>Delivery_Terms_2</td>\n",
       "    </tr>\n",
       "    <tr>\n",
       "      <th>1</th>\n",
       "      <td>10690</td>\n",
       "      <td>Delivery_Terms_2</td>\n",
       "    </tr>\n",
       "    <tr>\n",
       "      <th>2</th>\n",
       "      <td>10691</td>\n",
       "      <td>Delivery_Terms_4</td>\n",
       "    </tr>\n",
       "    <tr>\n",
       "      <th>3</th>\n",
       "      <td>10692</td>\n",
       "      <td>Delivery_Terms_4</td>\n",
       "    </tr>\n",
       "    <tr>\n",
       "      <th>4</th>\n",
       "      <td>10693</td>\n",
       "      <td>Delivery_Terms_4</td>\n",
       "    </tr>\n",
       "  </tbody>\n",
       "</table>\n",
       "</div>"
      ],
      "text/plain": [
       "   Opportunity_ID    Delivery_Terms\n",
       "0           10689  Delivery_Terms_2\n",
       "1           10690  Delivery_Terms_2\n",
       "2           10691  Delivery_Terms_4\n",
       "3           10692  Delivery_Terms_4\n",
       "4           10693  Delivery_Terms_4"
      ]
     },
     "execution_count": 463,
     "metadata": {
      "tags": []
     },
     "output_type": "execute_result"
    }
   ],
   "source": [
    "testAux=test.groupby(['Opportunity_ID','Delivery_Terms' ]).agg(cant=('Opportunity_ID','count')).reset_index()[['Opportunity_ID','Delivery_Terms' ]]\n",
    "testAux.head()"
   ]
  },
  {
   "cell_type": "code",
   "execution_count": 464,
   "metadata": {
    "colab": {
     "base_uri": "https://localhost:8080/",
     "height": 419
    },
    "id": "uzoKP3CyI1hs",
    "outputId": "b5ac830c-06f3-4503-a116-1f39a114a7a1"
   },
   "outputs": [
    {
     "data": {
      "text/html": [
       "<div>\n",
       "<style scoped>\n",
       "    .dataframe tbody tr th:only-of-type {\n",
       "        vertical-align: middle;\n",
       "    }\n",
       "\n",
       "    .dataframe tbody tr th {\n",
       "        vertical-align: top;\n",
       "    }\n",
       "\n",
       "    .dataframe thead th {\n",
       "        text-align: right;\n",
       "    }\n",
       "</style>\n",
       "<table border=\"1\" class=\"dataframe\">\n",
       "  <thead>\n",
       "    <tr style=\"text-align: right;\">\n",
       "      <th></th>\n",
       "      <th>Opportunity_ID</th>\n",
       "      <th>Delivery_Terms</th>\n",
       "      <th>meanEncodingDelivery_Terms</th>\n",
       "    </tr>\n",
       "  </thead>\n",
       "  <tbody>\n",
       "    <tr>\n",
       "      <th>0</th>\n",
       "      <td>10689</td>\n",
       "      <td>Delivery_Terms_2</td>\n",
       "      <td>0.479801</td>\n",
       "    </tr>\n",
       "    <tr>\n",
       "      <th>1</th>\n",
       "      <td>10690</td>\n",
       "      <td>Delivery_Terms_2</td>\n",
       "      <td>0.479801</td>\n",
       "    </tr>\n",
       "    <tr>\n",
       "      <th>2</th>\n",
       "      <td>10691</td>\n",
       "      <td>Delivery_Terms_4</td>\n",
       "      <td>0.547011</td>\n",
       "    </tr>\n",
       "    <tr>\n",
       "      <th>3</th>\n",
       "      <td>10692</td>\n",
       "      <td>Delivery_Terms_4</td>\n",
       "      <td>0.547011</td>\n",
       "    </tr>\n",
       "    <tr>\n",
       "      <th>4</th>\n",
       "      <td>10693</td>\n",
       "      <td>Delivery_Terms_4</td>\n",
       "      <td>0.547011</td>\n",
       "    </tr>\n",
       "    <tr>\n",
       "      <th>...</th>\n",
       "      <td>...</td>\n",
       "      <td>...</td>\n",
       "      <td>...</td>\n",
       "    </tr>\n",
       "    <tr>\n",
       "      <th>1562</th>\n",
       "      <td>12364</td>\n",
       "      <td>Delivery_Terms_7</td>\n",
       "      <td>0.527778</td>\n",
       "    </tr>\n",
       "    <tr>\n",
       "      <th>1563</th>\n",
       "      <td>12365</td>\n",
       "      <td>Delivery_Terms_4</td>\n",
       "      <td>0.547011</td>\n",
       "    </tr>\n",
       "    <tr>\n",
       "      <th>1564</th>\n",
       "      <td>12366</td>\n",
       "      <td>Delivery_Terms_4</td>\n",
       "      <td>0.547011</td>\n",
       "    </tr>\n",
       "    <tr>\n",
       "      <th>1565</th>\n",
       "      <td>12367</td>\n",
       "      <td>Delivery_Terms_4</td>\n",
       "      <td>0.547011</td>\n",
       "    </tr>\n",
       "    <tr>\n",
       "      <th>1566</th>\n",
       "      <td>12368</td>\n",
       "      <td>Delivery_Terms_2</td>\n",
       "      <td>0.479801</td>\n",
       "    </tr>\n",
       "  </tbody>\n",
       "</table>\n",
       "<p>1567 rows × 3 columns</p>\n",
       "</div>"
      ],
      "text/plain": [
       "      Opportunity_ID    Delivery_Terms  meanEncodingDelivery_Terms\n",
       "0              10689  Delivery_Terms_2                    0.479801\n",
       "1              10690  Delivery_Terms_2                    0.479801\n",
       "2              10691  Delivery_Terms_4                    0.547011\n",
       "3              10692  Delivery_Terms_4                    0.547011\n",
       "4              10693  Delivery_Terms_4                    0.547011\n",
       "...              ...               ...                         ...\n",
       "1562           12364  Delivery_Terms_7                    0.527778\n",
       "1563           12365  Delivery_Terms_4                    0.547011\n",
       "1564           12366  Delivery_Terms_4                    0.547011\n",
       "1565           12367  Delivery_Terms_4                    0.547011\n",
       "1566           12368  Delivery_Terms_2                    0.479801\n",
       "\n",
       "[1567 rows x 3 columns]"
      ]
     },
     "execution_count": 464,
     "metadata": {
      "tags": []
     },
     "output_type": "execute_result"
    }
   ],
   "source": [
    "territories=pd.merge(testAux,dfMeanEncoding, on=\"Delivery_Terms\", how='left') \n",
    "territories"
   ]
  },
  {
   "cell_type": "code",
   "execution_count": 465,
   "metadata": {
    "colab": {
     "base_uri": "https://localhost:8080/",
     "height": 419
    },
    "id": "5qsqckMlI1hs",
    "outputId": "00c8af20-15eb-4abb-c7cc-5866b1359413"
   },
   "outputs": [
    {
     "data": {
      "text/html": [
       "<div>\n",
       "<style scoped>\n",
       "    .dataframe tbody tr th:only-of-type {\n",
       "        vertical-align: middle;\n",
       "    }\n",
       "\n",
       "    .dataframe tbody tr th {\n",
       "        vertical-align: top;\n",
       "    }\n",
       "\n",
       "    .dataframe thead th {\n",
       "        text-align: right;\n",
       "    }\n",
       "</style>\n",
       "<table border=\"1\" class=\"dataframe\">\n",
       "  <thead>\n",
       "    <tr style=\"text-align: right;\">\n",
       "      <th></th>\n",
       "      <th>Opportunity_ID</th>\n",
       "      <th>totalamount</th>\n",
       "      <th>totalTrf</th>\n",
       "      <th>Territory</th>\n",
       "      <th>meanEncodingTerritory</th>\n",
       "      <th>Region</th>\n",
       "      <th>meanEncodingRegion</th>\n",
       "      <th>Delivery_Terms</th>\n",
       "      <th>meanEncodingDelivery_Terms</th>\n",
       "    </tr>\n",
       "  </thead>\n",
       "  <tbody>\n",
       "    <tr>\n",
       "      <th>0</th>\n",
       "      <td>10689</td>\n",
       "      <td>367419.0</td>\n",
       "      <td>0</td>\n",
       "      <td>Germany</td>\n",
       "      <td>0.548148</td>\n",
       "      <td>EMEA</td>\n",
       "      <td>0.463392</td>\n",
       "      <td>Delivery_Terms_2</td>\n",
       "      <td>0.479801</td>\n",
       "    </tr>\n",
       "    <tr>\n",
       "      <th>1</th>\n",
       "      <td>10690</td>\n",
       "      <td>757783.5</td>\n",
       "      <td>1</td>\n",
       "      <td>Germany</td>\n",
       "      <td>0.548148</td>\n",
       "      <td>EMEA</td>\n",
       "      <td>0.463392</td>\n",
       "      <td>Delivery_Terms_2</td>\n",
       "      <td>0.479801</td>\n",
       "    </tr>\n",
       "    <tr>\n",
       "      <th>2</th>\n",
       "      <td>10691</td>\n",
       "      <td>21037.5</td>\n",
       "      <td>0</td>\n",
       "      <td>NE America</td>\n",
       "      <td>0.347490</td>\n",
       "      <td>Americas</td>\n",
       "      <td>0.446166</td>\n",
       "      <td>Delivery_Terms_4</td>\n",
       "      <td>0.547011</td>\n",
       "    </tr>\n",
       "    <tr>\n",
       "      <th>3</th>\n",
       "      <td>10692</td>\n",
       "      <td>2169106.5</td>\n",
       "      <td>6</td>\n",
       "      <td>NW America</td>\n",
       "      <td>0.632723</td>\n",
       "      <td>Americas</td>\n",
       "      <td>0.446166</td>\n",
       "      <td>Delivery_Terms_4</td>\n",
       "      <td>0.547011</td>\n",
       "    </tr>\n",
       "    <tr>\n",
       "      <th>4</th>\n",
       "      <td>10693</td>\n",
       "      <td>5752.5</td>\n",
       "      <td>0</td>\n",
       "      <td>NW America</td>\n",
       "      <td>0.632723</td>\n",
       "      <td>Americas</td>\n",
       "      <td>0.446166</td>\n",
       "      <td>Delivery_Terms_4</td>\n",
       "      <td>0.547011</td>\n",
       "    </tr>\n",
       "    <tr>\n",
       "      <th>...</th>\n",
       "      <td>...</td>\n",
       "      <td>...</td>\n",
       "      <td>...</td>\n",
       "      <td>...</td>\n",
       "      <td>...</td>\n",
       "      <td>...</td>\n",
       "      <td>...</td>\n",
       "      <td>...</td>\n",
       "      <td>...</td>\n",
       "    </tr>\n",
       "    <tr>\n",
       "      <th>1562</th>\n",
       "      <td>12364</td>\n",
       "      <td>147750.0</td>\n",
       "      <td>0</td>\n",
       "      <td>KSA</td>\n",
       "      <td>0.416667</td>\n",
       "      <td>EMEA</td>\n",
       "      <td>0.463392</td>\n",
       "      <td>Delivery_Terms_7</td>\n",
       "      <td>0.527778</td>\n",
       "    </tr>\n",
       "    <tr>\n",
       "      <th>1563</th>\n",
       "      <td>12365</td>\n",
       "      <td>45054.9</td>\n",
       "      <td>0</td>\n",
       "      <td>SE America</td>\n",
       "      <td>0.367953</td>\n",
       "      <td>Americas</td>\n",
       "      <td>0.446166</td>\n",
       "      <td>Delivery_Terms_4</td>\n",
       "      <td>0.547011</td>\n",
       "    </tr>\n",
       "    <tr>\n",
       "      <th>1564</th>\n",
       "      <td>12366</td>\n",
       "      <td>100122.0</td>\n",
       "      <td>0</td>\n",
       "      <td>SE America</td>\n",
       "      <td>0.367953</td>\n",
       "      <td>Americas</td>\n",
       "      <td>0.446166</td>\n",
       "      <td>Delivery_Terms_4</td>\n",
       "      <td>0.547011</td>\n",
       "    </tr>\n",
       "    <tr>\n",
       "      <th>1565</th>\n",
       "      <td>12367</td>\n",
       "      <td>143220.0</td>\n",
       "      <td>0</td>\n",
       "      <td>NE America</td>\n",
       "      <td>0.347490</td>\n",
       "      <td>Americas</td>\n",
       "      <td>0.446166</td>\n",
       "      <td>Delivery_Terms_4</td>\n",
       "      <td>0.547011</td>\n",
       "    </tr>\n",
       "    <tr>\n",
       "      <th>1566</th>\n",
       "      <td>12368</td>\n",
       "      <td>871020.8</td>\n",
       "      <td>3</td>\n",
       "      <td>Belgium</td>\n",
       "      <td>0.569832</td>\n",
       "      <td>EMEA</td>\n",
       "      <td>0.463392</td>\n",
       "      <td>Delivery_Terms_2</td>\n",
       "      <td>0.479801</td>\n",
       "    </tr>\n",
       "  </tbody>\n",
       "</table>\n",
       "<p>1567 rows × 9 columns</p>\n",
       "</div>"
      ],
      "text/plain": [
       "      Opportunity_ID  totalamount  ...    Delivery_Terms meanEncodingDelivery_Terms\n",
       "0              10689     367419.0  ...  Delivery_Terms_2                   0.479801\n",
       "1              10690     757783.5  ...  Delivery_Terms_2                   0.479801\n",
       "2              10691      21037.5  ...  Delivery_Terms_4                   0.547011\n",
       "3              10692    2169106.5  ...  Delivery_Terms_4                   0.547011\n",
       "4              10693       5752.5  ...  Delivery_Terms_4                   0.547011\n",
       "...              ...          ...  ...               ...                        ...\n",
       "1562           12364     147750.0  ...  Delivery_Terms_7                   0.527778\n",
       "1563           12365      45054.9  ...  Delivery_Terms_4                   0.547011\n",
       "1564           12366     100122.0  ...  Delivery_Terms_4                   0.547011\n",
       "1565           12367     143220.0  ...  Delivery_Terms_4                   0.547011\n",
       "1566           12368     871020.8  ...  Delivery_Terms_2                   0.479801\n",
       "\n",
       "[1567 rows x 9 columns]"
      ]
     },
     "execution_count": 465,
     "metadata": {
      "tags": []
     },
     "output_type": "execute_result"
    }
   ],
   "source": [
    " testFinal=pd.merge(testFinal,territories, on=\"Opportunity_ID\", how='inner') \n",
    " testFinal"
   ]
  },
  {
   "cell_type": "markdown",
   "metadata": {
    "id": "l6oqdJ59M0oc"
   },
   "source": [
    "# Account_Owner"
   ]
  },
  {
   "cell_type": "code",
   "execution_count": 466,
   "metadata": {
    "id": "0Rhz9U4sM0or"
   },
   "outputs": [],
   "source": [
    "def meanEncodingDejandoColumnaCategorica(columnsCategory):\n",
    "  \"\"\"devuelve un dataframe con el formato [columnscategory,meanencodingcategory]\n",
    "    es porque lo vamos a usar para hacer merge por su columna categorica\"\"\"\n",
    "  df = pd.read_csv('data.csv')\n",
    "  entrenamiento = pd.read_csv('data.csv')\n",
    "  df = df.replace('Closed Won', '1')\n",
    "  df = df.replace('Closed Lost', '0')\n",
    "  df = df[df['Stage'].isin(['0','1'])]\n",
    "  df.Stage = df.Stage.astype(int)\n",
    "  df = df.groupby([columnsCategory,'Opportunity_ID']).agg({'Stage':['sum','count']})\n",
    "  df = df.reset_index()\n",
    "  df1 = df\n",
    "  df1.columns = [columnsCategory,'Opportunity_ID','Stage_sum','Stage_count']\n",
    "  df1['Stage_sum'] = df1['Stage_sum'].apply(lambda x: 0 if x == 0 else 1)\n",
    "  df2 = df1.groupby([columnsCategory]).agg(meanEncodingAccount_Owner = ('Stage_sum','mean'))\n",
    "  df2 = df2.reset_index()\n",
    "  agruparOportunity=entrenamiento.groupby(['Opportunity_ID',columnsCategory]).agg(cant=(columnsCategory,'count')).reset_index()\n",
    "  result=pd.merge(agruparOportunity,df2,on=columnsCategory,how='inner')\n",
    "  result.head()\n",
    "  del result['cant']\n",
    "  result2=result[[columnsCategory,'meanEncodingAccount_Owner']].drop_duplicates()\n",
    "  return  result2"
   ]
  },
  {
   "cell_type": "code",
   "execution_count": 467,
   "metadata": {
    "colab": {
     "base_uri": "https://localhost:8080/",
     "height": 204
    },
    "id": "-m4-OyjrM0os",
    "outputId": "f4a27b98-0bd2-4dac-e885-f690f7163a9a"
   },
   "outputs": [
    {
     "data": {
      "text/html": [
       "<div>\n",
       "<style scoped>\n",
       "    .dataframe tbody tr th:only-of-type {\n",
       "        vertical-align: middle;\n",
       "    }\n",
       "\n",
       "    .dataframe tbody tr th {\n",
       "        vertical-align: top;\n",
       "    }\n",
       "\n",
       "    .dataframe thead th {\n",
       "        text-align: right;\n",
       "    }\n",
       "</style>\n",
       "<table border=\"1\" class=\"dataframe\">\n",
       "  <thead>\n",
       "    <tr style=\"text-align: right;\">\n",
       "      <th></th>\n",
       "      <th>Account_Owner</th>\n",
       "      <th>meanEncodingAccount_Owner</th>\n",
       "    </tr>\n",
       "  </thead>\n",
       "  <tbody>\n",
       "    <tr>\n",
       "      <th>0</th>\n",
       "      <td>Person_Name_51</td>\n",
       "      <td>0.314607</td>\n",
       "    </tr>\n",
       "    <tr>\n",
       "      <th>89</th>\n",
       "      <td>Person_Name_64</td>\n",
       "      <td>0.689320</td>\n",
       "    </tr>\n",
       "    <tr>\n",
       "      <th>505</th>\n",
       "      <td>Person_Name_8</td>\n",
       "      <td>0.571654</td>\n",
       "    </tr>\n",
       "    <tr>\n",
       "      <th>1140</th>\n",
       "      <td>Person_Name_50</td>\n",
       "      <td>0.633037</td>\n",
       "    </tr>\n",
       "    <tr>\n",
       "      <th>2158</th>\n",
       "      <td>Person_Name_60</td>\n",
       "      <td>0.288462</td>\n",
       "    </tr>\n",
       "  </tbody>\n",
       "</table>\n",
       "</div>"
      ],
      "text/plain": [
       "       Account_Owner  meanEncodingAccount_Owner\n",
       "0     Person_Name_51                   0.314607\n",
       "89    Person_Name_64                   0.689320\n",
       "505    Person_Name_8                   0.571654\n",
       "1140  Person_Name_50                   0.633037\n",
       "2158  Person_Name_60                   0.288462"
      ]
     },
     "execution_count": 467,
     "metadata": {
      "tags": []
     },
     "output_type": "execute_result"
    }
   ],
   "source": [
    "dfMeanEncoding=meanEncodingDejandoColumnaCategorica(\"Account_Owner\")\n",
    "dfMeanEncoding.head()"
   ]
  },
  {
   "cell_type": "code",
   "execution_count": 468,
   "metadata": {
    "colab": {
     "base_uri": "https://localhost:8080/",
     "height": 204
    },
    "id": "DhZB2cSDM0ot",
    "outputId": "ec87b1e6-335b-4177-c60f-f524aaf4c0b8"
   },
   "outputs": [
    {
     "data": {
      "text/html": [
       "<div>\n",
       "<style scoped>\n",
       "    .dataframe tbody tr th:only-of-type {\n",
       "        vertical-align: middle;\n",
       "    }\n",
       "\n",
       "    .dataframe tbody tr th {\n",
       "        vertical-align: top;\n",
       "    }\n",
       "\n",
       "    .dataframe thead th {\n",
       "        text-align: right;\n",
       "    }\n",
       "</style>\n",
       "<table border=\"1\" class=\"dataframe\">\n",
       "  <thead>\n",
       "    <tr style=\"text-align: right;\">\n",
       "      <th></th>\n",
       "      <th>Opportunity_ID</th>\n",
       "      <th>Account_Owner</th>\n",
       "    </tr>\n",
       "  </thead>\n",
       "  <tbody>\n",
       "    <tr>\n",
       "      <th>0</th>\n",
       "      <td>10689</td>\n",
       "      <td>Person_Name_13</td>\n",
       "    </tr>\n",
       "    <tr>\n",
       "      <th>1</th>\n",
       "      <td>10690</td>\n",
       "      <td>Person_Name_13</td>\n",
       "    </tr>\n",
       "    <tr>\n",
       "      <th>2</th>\n",
       "      <td>10691</td>\n",
       "      <td>Person_Name_9</td>\n",
       "    </tr>\n",
       "    <tr>\n",
       "      <th>3</th>\n",
       "      <td>10692</td>\n",
       "      <td>Person_Name_8</td>\n",
       "    </tr>\n",
       "    <tr>\n",
       "      <th>4</th>\n",
       "      <td>10693</td>\n",
       "      <td>Person_Name_64</td>\n",
       "    </tr>\n",
       "  </tbody>\n",
       "</table>\n",
       "</div>"
      ],
      "text/plain": [
       "   Opportunity_ID   Account_Owner\n",
       "0           10689  Person_Name_13\n",
       "1           10690  Person_Name_13\n",
       "2           10691   Person_Name_9\n",
       "3           10692   Person_Name_8\n",
       "4           10693  Person_Name_64"
      ]
     },
     "execution_count": 468,
     "metadata": {
      "tags": []
     },
     "output_type": "execute_result"
    }
   ],
   "source": [
    "testAux=test.groupby(['Opportunity_ID','Account_Owner' ]).agg(cant=('Opportunity_ID','count')).reset_index()[['Opportunity_ID','Account_Owner' ]]\n",
    "testAux.head()"
   ]
  },
  {
   "cell_type": "code",
   "execution_count": 469,
   "metadata": {
    "colab": {
     "base_uri": "https://localhost:8080/",
     "height": 419
    },
    "id": "NUTe7C0pM0ot",
    "outputId": "25127d95-b019-4380-b026-66609bfee8da"
   },
   "outputs": [
    {
     "data": {
      "text/html": [
       "<div>\n",
       "<style scoped>\n",
       "    .dataframe tbody tr th:only-of-type {\n",
       "        vertical-align: middle;\n",
       "    }\n",
       "\n",
       "    .dataframe tbody tr th {\n",
       "        vertical-align: top;\n",
       "    }\n",
       "\n",
       "    .dataframe thead th {\n",
       "        text-align: right;\n",
       "    }\n",
       "</style>\n",
       "<table border=\"1\" class=\"dataframe\">\n",
       "  <thead>\n",
       "    <tr style=\"text-align: right;\">\n",
       "      <th></th>\n",
       "      <th>Opportunity_ID</th>\n",
       "      <th>Account_Owner</th>\n",
       "      <th>meanEncodingAccount_Owner</th>\n",
       "    </tr>\n",
       "  </thead>\n",
       "  <tbody>\n",
       "    <tr>\n",
       "      <th>0</th>\n",
       "      <td>10689</td>\n",
       "      <td>Person_Name_13</td>\n",
       "      <td>0.587421</td>\n",
       "    </tr>\n",
       "    <tr>\n",
       "      <th>1</th>\n",
       "      <td>10690</td>\n",
       "      <td>Person_Name_13</td>\n",
       "      <td>0.587421</td>\n",
       "    </tr>\n",
       "    <tr>\n",
       "      <th>2</th>\n",
       "      <td>10691</td>\n",
       "      <td>Person_Name_9</td>\n",
       "      <td>0.354839</td>\n",
       "    </tr>\n",
       "    <tr>\n",
       "      <th>3</th>\n",
       "      <td>10692</td>\n",
       "      <td>Person_Name_8</td>\n",
       "      <td>0.571654</td>\n",
       "    </tr>\n",
       "    <tr>\n",
       "      <th>4</th>\n",
       "      <td>10693</td>\n",
       "      <td>Person_Name_64</td>\n",
       "      <td>0.689320</td>\n",
       "    </tr>\n",
       "    <tr>\n",
       "      <th>...</th>\n",
       "      <td>...</td>\n",
       "      <td>...</td>\n",
       "      <td>...</td>\n",
       "    </tr>\n",
       "    <tr>\n",
       "      <th>1562</th>\n",
       "      <td>12364</td>\n",
       "      <td>Person_Name_13</td>\n",
       "      <td>0.587421</td>\n",
       "    </tr>\n",
       "    <tr>\n",
       "      <th>1563</th>\n",
       "      <td>12365</td>\n",
       "      <td>Person_Name_38</td>\n",
       "      <td>0.353211</td>\n",
       "    </tr>\n",
       "    <tr>\n",
       "      <th>1564</th>\n",
       "      <td>12366</td>\n",
       "      <td>Person_Name_38</td>\n",
       "      <td>0.353211</td>\n",
       "    </tr>\n",
       "    <tr>\n",
       "      <th>1565</th>\n",
       "      <td>12367</td>\n",
       "      <td>Person_Name_9</td>\n",
       "      <td>0.354839</td>\n",
       "    </tr>\n",
       "    <tr>\n",
       "      <th>1566</th>\n",
       "      <td>12368</td>\n",
       "      <td>Person_Name_18</td>\n",
       "      <td>0.488032</td>\n",
       "    </tr>\n",
       "  </tbody>\n",
       "</table>\n",
       "<p>1567 rows × 3 columns</p>\n",
       "</div>"
      ],
      "text/plain": [
       "      Opportunity_ID   Account_Owner  meanEncodingAccount_Owner\n",
       "0              10689  Person_Name_13                   0.587421\n",
       "1              10690  Person_Name_13                   0.587421\n",
       "2              10691   Person_Name_9                   0.354839\n",
       "3              10692   Person_Name_8                   0.571654\n",
       "4              10693  Person_Name_64                   0.689320\n",
       "...              ...             ...                        ...\n",
       "1562           12364  Person_Name_13                   0.587421\n",
       "1563           12365  Person_Name_38                   0.353211\n",
       "1564           12366  Person_Name_38                   0.353211\n",
       "1565           12367   Person_Name_9                   0.354839\n",
       "1566           12368  Person_Name_18                   0.488032\n",
       "\n",
       "[1567 rows x 3 columns]"
      ]
     },
     "execution_count": 469,
     "metadata": {
      "tags": []
     },
     "output_type": "execute_result"
    }
   ],
   "source": [
    "territories=pd.merge(testAux,dfMeanEncoding, on=\"Account_Owner\", how='left') \n",
    "territories"
   ]
  },
  {
   "cell_type": "code",
   "execution_count": 470,
   "metadata": {
    "colab": {
     "base_uri": "https://localhost:8080/",
     "height": 419
    },
    "id": "MPwd0hw4M0ot",
    "outputId": "b6826572-927d-4f7f-f510-07c3ee8b9f80"
   },
   "outputs": [
    {
     "data": {
      "text/html": [
       "<div>\n",
       "<style scoped>\n",
       "    .dataframe tbody tr th:only-of-type {\n",
       "        vertical-align: middle;\n",
       "    }\n",
       "\n",
       "    .dataframe tbody tr th {\n",
       "        vertical-align: top;\n",
       "    }\n",
       "\n",
       "    .dataframe thead th {\n",
       "        text-align: right;\n",
       "    }\n",
       "</style>\n",
       "<table border=\"1\" class=\"dataframe\">\n",
       "  <thead>\n",
       "    <tr style=\"text-align: right;\">\n",
       "      <th></th>\n",
       "      <th>Opportunity_ID</th>\n",
       "      <th>totalamount</th>\n",
       "      <th>totalTrf</th>\n",
       "      <th>Territory</th>\n",
       "      <th>meanEncodingTerritory</th>\n",
       "      <th>Region</th>\n",
       "      <th>meanEncodingRegion</th>\n",
       "      <th>Delivery_Terms</th>\n",
       "      <th>meanEncodingDelivery_Terms</th>\n",
       "      <th>Account_Owner</th>\n",
       "      <th>meanEncodingAccount_Owner</th>\n",
       "    </tr>\n",
       "  </thead>\n",
       "  <tbody>\n",
       "    <tr>\n",
       "      <th>0</th>\n",
       "      <td>10689</td>\n",
       "      <td>367419.0</td>\n",
       "      <td>0</td>\n",
       "      <td>Germany</td>\n",
       "      <td>0.548148</td>\n",
       "      <td>EMEA</td>\n",
       "      <td>0.463392</td>\n",
       "      <td>Delivery_Terms_2</td>\n",
       "      <td>0.479801</td>\n",
       "      <td>Person_Name_13</td>\n",
       "      <td>0.587421</td>\n",
       "    </tr>\n",
       "    <tr>\n",
       "      <th>1</th>\n",
       "      <td>10690</td>\n",
       "      <td>757783.5</td>\n",
       "      <td>1</td>\n",
       "      <td>Germany</td>\n",
       "      <td>0.548148</td>\n",
       "      <td>EMEA</td>\n",
       "      <td>0.463392</td>\n",
       "      <td>Delivery_Terms_2</td>\n",
       "      <td>0.479801</td>\n",
       "      <td>Person_Name_13</td>\n",
       "      <td>0.587421</td>\n",
       "    </tr>\n",
       "    <tr>\n",
       "      <th>2</th>\n",
       "      <td>10691</td>\n",
       "      <td>21037.5</td>\n",
       "      <td>0</td>\n",
       "      <td>NE America</td>\n",
       "      <td>0.347490</td>\n",
       "      <td>Americas</td>\n",
       "      <td>0.446166</td>\n",
       "      <td>Delivery_Terms_4</td>\n",
       "      <td>0.547011</td>\n",
       "      <td>Person_Name_9</td>\n",
       "      <td>0.354839</td>\n",
       "    </tr>\n",
       "    <tr>\n",
       "      <th>3</th>\n",
       "      <td>10692</td>\n",
       "      <td>2169106.5</td>\n",
       "      <td>6</td>\n",
       "      <td>NW America</td>\n",
       "      <td>0.632723</td>\n",
       "      <td>Americas</td>\n",
       "      <td>0.446166</td>\n",
       "      <td>Delivery_Terms_4</td>\n",
       "      <td>0.547011</td>\n",
       "      <td>Person_Name_8</td>\n",
       "      <td>0.571654</td>\n",
       "    </tr>\n",
       "    <tr>\n",
       "      <th>4</th>\n",
       "      <td>10693</td>\n",
       "      <td>5752.5</td>\n",
       "      <td>0</td>\n",
       "      <td>NW America</td>\n",
       "      <td>0.632723</td>\n",
       "      <td>Americas</td>\n",
       "      <td>0.446166</td>\n",
       "      <td>Delivery_Terms_4</td>\n",
       "      <td>0.547011</td>\n",
       "      <td>Person_Name_64</td>\n",
       "      <td>0.689320</td>\n",
       "    </tr>\n",
       "    <tr>\n",
       "      <th>...</th>\n",
       "      <td>...</td>\n",
       "      <td>...</td>\n",
       "      <td>...</td>\n",
       "      <td>...</td>\n",
       "      <td>...</td>\n",
       "      <td>...</td>\n",
       "      <td>...</td>\n",
       "      <td>...</td>\n",
       "      <td>...</td>\n",
       "      <td>...</td>\n",
       "      <td>...</td>\n",
       "    </tr>\n",
       "    <tr>\n",
       "      <th>1562</th>\n",
       "      <td>12364</td>\n",
       "      <td>147750.0</td>\n",
       "      <td>0</td>\n",
       "      <td>KSA</td>\n",
       "      <td>0.416667</td>\n",
       "      <td>EMEA</td>\n",
       "      <td>0.463392</td>\n",
       "      <td>Delivery_Terms_7</td>\n",
       "      <td>0.527778</td>\n",
       "      <td>Person_Name_13</td>\n",
       "      <td>0.587421</td>\n",
       "    </tr>\n",
       "    <tr>\n",
       "      <th>1563</th>\n",
       "      <td>12365</td>\n",
       "      <td>45054.9</td>\n",
       "      <td>0</td>\n",
       "      <td>SE America</td>\n",
       "      <td>0.367953</td>\n",
       "      <td>Americas</td>\n",
       "      <td>0.446166</td>\n",
       "      <td>Delivery_Terms_4</td>\n",
       "      <td>0.547011</td>\n",
       "      <td>Person_Name_38</td>\n",
       "      <td>0.353211</td>\n",
       "    </tr>\n",
       "    <tr>\n",
       "      <th>1564</th>\n",
       "      <td>12366</td>\n",
       "      <td>100122.0</td>\n",
       "      <td>0</td>\n",
       "      <td>SE America</td>\n",
       "      <td>0.367953</td>\n",
       "      <td>Americas</td>\n",
       "      <td>0.446166</td>\n",
       "      <td>Delivery_Terms_4</td>\n",
       "      <td>0.547011</td>\n",
       "      <td>Person_Name_38</td>\n",
       "      <td>0.353211</td>\n",
       "    </tr>\n",
       "    <tr>\n",
       "      <th>1565</th>\n",
       "      <td>12367</td>\n",
       "      <td>143220.0</td>\n",
       "      <td>0</td>\n",
       "      <td>NE America</td>\n",
       "      <td>0.347490</td>\n",
       "      <td>Americas</td>\n",
       "      <td>0.446166</td>\n",
       "      <td>Delivery_Terms_4</td>\n",
       "      <td>0.547011</td>\n",
       "      <td>Person_Name_9</td>\n",
       "      <td>0.354839</td>\n",
       "    </tr>\n",
       "    <tr>\n",
       "      <th>1566</th>\n",
       "      <td>12368</td>\n",
       "      <td>871020.8</td>\n",
       "      <td>3</td>\n",
       "      <td>Belgium</td>\n",
       "      <td>0.569832</td>\n",
       "      <td>EMEA</td>\n",
       "      <td>0.463392</td>\n",
       "      <td>Delivery_Terms_2</td>\n",
       "      <td>0.479801</td>\n",
       "      <td>Person_Name_18</td>\n",
       "      <td>0.488032</td>\n",
       "    </tr>\n",
       "  </tbody>\n",
       "</table>\n",
       "<p>1567 rows × 11 columns</p>\n",
       "</div>"
      ],
      "text/plain": [
       "      Opportunity_ID  totalamount  ...   Account_Owner meanEncodingAccount_Owner\n",
       "0              10689     367419.0  ...  Person_Name_13                  0.587421\n",
       "1              10690     757783.5  ...  Person_Name_13                  0.587421\n",
       "2              10691      21037.5  ...   Person_Name_9                  0.354839\n",
       "3              10692    2169106.5  ...   Person_Name_8                  0.571654\n",
       "4              10693       5752.5  ...  Person_Name_64                  0.689320\n",
       "...              ...          ...  ...             ...                       ...\n",
       "1562           12364     147750.0  ...  Person_Name_13                  0.587421\n",
       "1563           12365      45054.9  ...  Person_Name_38                  0.353211\n",
       "1564           12366     100122.0  ...  Person_Name_38                  0.353211\n",
       "1565           12367     143220.0  ...   Person_Name_9                  0.354839\n",
       "1566           12368     871020.8  ...  Person_Name_18                  0.488032\n",
       "\n",
       "[1567 rows x 11 columns]"
      ]
     },
     "execution_count": 470,
     "metadata": {
      "tags": []
     },
     "output_type": "execute_result"
    }
   ],
   "source": [
    " testFinal=pd.merge(testFinal,territories, on=\"Opportunity_ID\", how='inner') \n",
    " testFinal"
   ]
  },
  {
   "cell_type": "code",
   "execution_count": null,
   "metadata": {
    "id": "qr3apt43A2DG"
   },
   "outputs": [],
   "source": []
  },
  {
   "cell_type": "code",
   "execution_count": null,
   "metadata": {
    "id": "9XSXGpVZA2F6"
   },
   "outputs": [],
   "source": []
  },
  {
   "cell_type": "code",
   "execution_count": null,
   "metadata": {
    "id": "f1vGa7fQA2J7"
   },
   "outputs": [],
   "source": []
  },
  {
   "cell_type": "code",
   "execution_count": null,
   "metadata": {
    "id": "yXt9J0IvA2NB"
   },
   "outputs": [],
   "source": []
  },
  {
   "cell_type": "code",
   "execution_count": null,
   "metadata": {
    "id": "ggaugZNkA2QB"
   },
   "outputs": [],
   "source": []
  },
  {
   "cell_type": "code",
   "execution_count": null,
   "metadata": {
    "id": "lR33FxuXA2S7"
   },
   "outputs": [],
   "source": []
  },
  {
   "cell_type": "code",
   "execution_count": 471,
   "metadata": {
    "id": "frxsSxaxzzbm"
   },
   "outputs": [],
   "source": [
    "listColumns=testFinal.columns.to_list()\n",
    "listColumns.remove('Territory')\n",
    "listColumns.remove('Region')\n",
    "listColumns.remove('Delivery_Terms')\n",
    "listColumns.remove('Account_Owner')\n",
    "listColumns.remove('Opportunity_ID')\n",
    "listColumns\n",
    "testFinal=testFinal[listColumns]"
   ]
  },
  {
   "cell_type": "code",
   "execution_count": 188,
   "metadata": {
    "id": "A84mCwkRzzbn"
   },
   "outputs": [],
   "source": [
    "#X_train, y_test se sacan del df entrenamiento"
   ]
  },
  {
   "cell_type": "code",
   "execution_count": 472,
   "metadata": {
    "colab": {
     "base_uri": "https://localhost:8080/",
     "height": 419
    },
    "id": "QbQ8h3GMzzbn",
    "outputId": "e0aa8a21-d908-48f3-fc84-4c01c29b0221"
   },
   "outputs": [
    {
     "data": {
      "text/html": [
       "<div>\n",
       "<style scoped>\n",
       "    .dataframe tbody tr th:only-of-type {\n",
       "        vertical-align: middle;\n",
       "    }\n",
       "\n",
       "    .dataframe tbody tr th {\n",
       "        vertical-align: top;\n",
       "    }\n",
       "\n",
       "    .dataframe thead th {\n",
       "        text-align: right;\n",
       "    }\n",
       "</style>\n",
       "<table border=\"1\" class=\"dataframe\">\n",
       "  <thead>\n",
       "    <tr style=\"text-align: right;\">\n",
       "      <th></th>\n",
       "      <th>totalamount</th>\n",
       "      <th>totalTrf</th>\n",
       "      <th>meanEncodingTerritory</th>\n",
       "      <th>meanEncodingRegion</th>\n",
       "      <th>meanEncodingDelivery_Terms</th>\n",
       "      <th>meanEncodingAccount_Owner</th>\n",
       "    </tr>\n",
       "  </thead>\n",
       "  <tbody>\n",
       "    <tr>\n",
       "      <th>6509</th>\n",
       "      <td>323212.5</td>\n",
       "      <td>0</td>\n",
       "      <td>0.813953</td>\n",
       "      <td>0.463392</td>\n",
       "      <td>0.479801</td>\n",
       "      <td>0.488032</td>\n",
       "    </tr>\n",
       "    <tr>\n",
       "      <th>6914</th>\n",
       "      <td>463600.0</td>\n",
       "      <td>0</td>\n",
       "      <td>0.535927</td>\n",
       "      <td>0.684350</td>\n",
       "      <td>0.547011</td>\n",
       "      <td>0.633037</td>\n",
       "    </tr>\n",
       "    <tr>\n",
       "      <th>2464</th>\n",
       "      <td>1679730.0</td>\n",
       "      <td>5</td>\n",
       "      <td>0.593750</td>\n",
       "      <td>0.463392</td>\n",
       "      <td>0.479801</td>\n",
       "      <td>0.587421</td>\n",
       "    </tr>\n",
       "    <tr>\n",
       "      <th>913</th>\n",
       "      <td>498771.0</td>\n",
       "      <td>1</td>\n",
       "      <td>0.367953</td>\n",
       "      <td>0.446166</td>\n",
       "      <td>0.547011</td>\n",
       "      <td>0.343096</td>\n",
       "    </tr>\n",
       "    <tr>\n",
       "      <th>4986</th>\n",
       "      <td>52126.0</td>\n",
       "      <td>0</td>\n",
       "      <td>0.379310</td>\n",
       "      <td>0.446166</td>\n",
       "      <td>0.547011</td>\n",
       "      <td>0.343096</td>\n",
       "    </tr>\n",
       "    <tr>\n",
       "      <th>...</th>\n",
       "      <td>...</td>\n",
       "      <td>...</td>\n",
       "      <td>...</td>\n",
       "      <td>...</td>\n",
       "      <td>...</td>\n",
       "      <td>...</td>\n",
       "    </tr>\n",
       "    <tr>\n",
       "      <th>9785</th>\n",
       "      <td>1307775.0</td>\n",
       "      <td>3</td>\n",
       "      <td>0.548148</td>\n",
       "      <td>0.463392</td>\n",
       "      <td>0.479801</td>\n",
       "      <td>0.587421</td>\n",
       "    </tr>\n",
       "    <tr>\n",
       "      <th>7763</th>\n",
       "      <td>103125.0</td>\n",
       "      <td>0</td>\n",
       "      <td>0.593750</td>\n",
       "      <td>0.463392</td>\n",
       "      <td>0.479801</td>\n",
       "      <td>0.584211</td>\n",
       "    </tr>\n",
       "    <tr>\n",
       "      <th>5218</th>\n",
       "      <td>292410.0</td>\n",
       "      <td>1</td>\n",
       "      <td>0.417755</td>\n",
       "      <td>0.463392</td>\n",
       "      <td>0.479801</td>\n",
       "      <td>0.314607</td>\n",
       "    </tr>\n",
       "    <tr>\n",
       "      <th>1346</th>\n",
       "      <td>326340.0</td>\n",
       "      <td>0</td>\n",
       "      <td>0.802326</td>\n",
       "      <td>0.684350</td>\n",
       "      <td>0.666667</td>\n",
       "      <td>0.633037</td>\n",
       "    </tr>\n",
       "    <tr>\n",
       "      <th>3582</th>\n",
       "      <td>3010000.0</td>\n",
       "      <td>0</td>\n",
       "      <td>0.802326</td>\n",
       "      <td>0.684350</td>\n",
       "      <td>0.547011</td>\n",
       "      <td>0.783505</td>\n",
       "    </tr>\n",
       "  </tbody>\n",
       "</table>\n",
       "<p>7832 rows × 6 columns</p>\n",
       "</div>"
      ],
      "text/plain": [
       "      totalamount  ...  meanEncodingAccount_Owner\n",
       "6509     323212.5  ...                   0.488032\n",
       "6914     463600.0  ...                   0.633037\n",
       "2464    1679730.0  ...                   0.587421\n",
       "913      498771.0  ...                   0.343096\n",
       "4986      52126.0  ...                   0.343096\n",
       "...           ...  ...                        ...\n",
       "9785    1307775.0  ...                   0.587421\n",
       "7763     103125.0  ...                   0.584211\n",
       "5218     292410.0  ...                   0.314607\n",
       "1346     326340.0  ...                   0.633037\n",
       "3582    3010000.0  ...                   0.783505\n",
       "\n",
       "[7832 rows x 6 columns]"
      ]
     },
     "execution_count": 472,
     "metadata": {
      "tags": []
     },
     "output_type": "execute_result"
    }
   ],
   "source": [
    "X_train"
   ]
  },
  {
   "cell_type": "code",
   "execution_count": 473,
   "metadata": {
    "colab": {
     "base_uri": "https://localhost:8080/"
    },
    "id": "pP8b1Rjczzbn",
    "outputId": "509f5d34-97d0-4227-c5e5-528954458277"
   },
   "outputs": [
    {
     "data": {
      "text/plain": [
       "6509    1\n",
       "6914    1\n",
       "2464    0\n",
       "913     0\n",
       "4986    1\n",
       "       ..\n",
       "9785    0\n",
       "7763    1\n",
       "5218    0\n",
       "1346    1\n",
       "3582    0\n",
       "Name: Stage, Length: 7832, dtype: int64"
      ]
     },
     "execution_count": 473,
     "metadata": {
      "tags": []
     },
     "output_type": "execute_result"
    }
   ],
   "source": [
    "y_train"
   ]
  },
  {
   "cell_type": "code",
   "execution_count": 474,
   "metadata": {
    "colab": {
     "base_uri": "https://localhost:8080/",
     "height": 419
    },
    "id": "3PFjkqHyzzbn",
    "outputId": "942d4f77-c305-48c4-cb0d-e709f6f5103c"
   },
   "outputs": [
    {
     "data": {
      "text/html": [
       "<div>\n",
       "<style scoped>\n",
       "    .dataframe tbody tr th:only-of-type {\n",
       "        vertical-align: middle;\n",
       "    }\n",
       "\n",
       "    .dataframe tbody tr th {\n",
       "        vertical-align: top;\n",
       "    }\n",
       "\n",
       "    .dataframe thead th {\n",
       "        text-align: right;\n",
       "    }\n",
       "</style>\n",
       "<table border=\"1\" class=\"dataframe\">\n",
       "  <thead>\n",
       "    <tr style=\"text-align: right;\">\n",
       "      <th></th>\n",
       "      <th>totalamount</th>\n",
       "      <th>totalTrf</th>\n",
       "      <th>meanEncodingTerritory</th>\n",
       "      <th>meanEncodingRegion</th>\n",
       "      <th>meanEncodingDelivery_Terms</th>\n",
       "      <th>meanEncodingAccount_Owner</th>\n",
       "    </tr>\n",
       "  </thead>\n",
       "  <tbody>\n",
       "    <tr>\n",
       "      <th>0</th>\n",
       "      <td>367419.0</td>\n",
       "      <td>0</td>\n",
       "      <td>0.548148</td>\n",
       "      <td>0.463392</td>\n",
       "      <td>0.479801</td>\n",
       "      <td>0.587421</td>\n",
       "    </tr>\n",
       "    <tr>\n",
       "      <th>1</th>\n",
       "      <td>757783.5</td>\n",
       "      <td>1</td>\n",
       "      <td>0.548148</td>\n",
       "      <td>0.463392</td>\n",
       "      <td>0.479801</td>\n",
       "      <td>0.587421</td>\n",
       "    </tr>\n",
       "    <tr>\n",
       "      <th>2</th>\n",
       "      <td>21037.5</td>\n",
       "      <td>0</td>\n",
       "      <td>0.347490</td>\n",
       "      <td>0.446166</td>\n",
       "      <td>0.547011</td>\n",
       "      <td>0.354839</td>\n",
       "    </tr>\n",
       "    <tr>\n",
       "      <th>3</th>\n",
       "      <td>2169106.5</td>\n",
       "      <td>6</td>\n",
       "      <td>0.632723</td>\n",
       "      <td>0.446166</td>\n",
       "      <td>0.547011</td>\n",
       "      <td>0.571654</td>\n",
       "    </tr>\n",
       "    <tr>\n",
       "      <th>4</th>\n",
       "      <td>5752.5</td>\n",
       "      <td>0</td>\n",
       "      <td>0.632723</td>\n",
       "      <td>0.446166</td>\n",
       "      <td>0.547011</td>\n",
       "      <td>0.689320</td>\n",
       "    </tr>\n",
       "    <tr>\n",
       "      <th>...</th>\n",
       "      <td>...</td>\n",
       "      <td>...</td>\n",
       "      <td>...</td>\n",
       "      <td>...</td>\n",
       "      <td>...</td>\n",
       "      <td>...</td>\n",
       "    </tr>\n",
       "    <tr>\n",
       "      <th>1562</th>\n",
       "      <td>147750.0</td>\n",
       "      <td>0</td>\n",
       "      <td>0.416667</td>\n",
       "      <td>0.463392</td>\n",
       "      <td>0.527778</td>\n",
       "      <td>0.587421</td>\n",
       "    </tr>\n",
       "    <tr>\n",
       "      <th>1563</th>\n",
       "      <td>45054.9</td>\n",
       "      <td>0</td>\n",
       "      <td>0.367953</td>\n",
       "      <td>0.446166</td>\n",
       "      <td>0.547011</td>\n",
       "      <td>0.353211</td>\n",
       "    </tr>\n",
       "    <tr>\n",
       "      <th>1564</th>\n",
       "      <td>100122.0</td>\n",
       "      <td>0</td>\n",
       "      <td>0.367953</td>\n",
       "      <td>0.446166</td>\n",
       "      <td>0.547011</td>\n",
       "      <td>0.353211</td>\n",
       "    </tr>\n",
       "    <tr>\n",
       "      <th>1565</th>\n",
       "      <td>143220.0</td>\n",
       "      <td>0</td>\n",
       "      <td>0.347490</td>\n",
       "      <td>0.446166</td>\n",
       "      <td>0.547011</td>\n",
       "      <td>0.354839</td>\n",
       "    </tr>\n",
       "    <tr>\n",
       "      <th>1566</th>\n",
       "      <td>871020.8</td>\n",
       "      <td>3</td>\n",
       "      <td>0.569832</td>\n",
       "      <td>0.463392</td>\n",
       "      <td>0.479801</td>\n",
       "      <td>0.488032</td>\n",
       "    </tr>\n",
       "  </tbody>\n",
       "</table>\n",
       "<p>1567 rows × 6 columns</p>\n",
       "</div>"
      ],
      "text/plain": [
       "      totalamount  ...  meanEncodingAccount_Owner\n",
       "0        367419.0  ...                   0.587421\n",
       "1        757783.5  ...                   0.587421\n",
       "2         21037.5  ...                   0.354839\n",
       "3       2169106.5  ...                   0.571654\n",
       "4          5752.5  ...                   0.689320\n",
       "...           ...  ...                        ...\n",
       "1562     147750.0  ...                   0.587421\n",
       "1563      45054.9  ...                   0.353211\n",
       "1564     100122.0  ...                   0.353211\n",
       "1565     143220.0  ...                   0.354839\n",
       "1566     871020.8  ...                   0.488032\n",
       "\n",
       "[1567 rows x 6 columns]"
      ]
     },
     "execution_count": 474,
     "metadata": {
      "tags": []
     },
     "output_type": "execute_result"
    }
   ],
   "source": [
    "testFinal"
   ]
  },
  {
   "cell_type": "code",
   "execution_count": 475,
   "metadata": {
    "id": "qZT3RX0Uzzbo"
   },
   "outputs": [],
   "source": [
    "prediccion=modelo.entrenarYPredecirWithTest(X_train,y_train,testFinal)"
   ]
  },
  {
   "cell_type": "code",
   "execution_count": 476,
   "metadata": {
    "colab": {
     "base_uri": "https://localhost:8080/"
    },
    "id": "e8e6sLMczzbo",
    "outputId": "b35f514f-7774-4795-afc9-12e3bf184427"
   },
   "outputs": [
    {
     "data": {
      "text/plain": [
       "1567"
      ]
     },
     "execution_count": 476,
     "metadata": {
      "tags": []
     },
     "output_type": "execute_result"
    }
   ],
   "source": [
    "len(prediccion)"
   ]
  },
  {
   "cell_type": "code",
   "execution_count": 193,
   "metadata": {
    "id": "6vvb5U4izzbo"
   },
   "outputs": [],
   "source": []
  },
  {
   "cell_type": "code",
   "execution_count": 193,
   "metadata": {
    "id": "B1IT6H86zzbo"
   },
   "outputs": [],
   "source": []
  },
  {
   "cell_type": "code",
   "execution_count": 478,
   "metadata": {
    "colab": {
     "base_uri": "https://localhost:8080/",
     "height": 17
    },
    "id": "YrrHy4aKzzbo",
    "outputId": "df21078c-51af-4dcd-e961-6623d10604d5"
   },
   "outputs": [
    {
     "data": {
      "application/javascript": [
       "\n",
       "    async function download(id, filename, size) {\n",
       "      if (!google.colab.kernel.accessAllowed) {\n",
       "        return;\n",
       "      }\n",
       "      const div = document.createElement('div');\n",
       "      const label = document.createElement('label');\n",
       "      label.textContent = `Downloading \"${filename}\": `;\n",
       "      div.appendChild(label);\n",
       "      const progress = document.createElement('progress');\n",
       "      progress.max = size;\n",
       "      div.appendChild(progress);\n",
       "      document.body.appendChild(div);\n",
       "\n",
       "      const buffers = [];\n",
       "      let downloaded = 0;\n",
       "\n",
       "      const channel = await google.colab.kernel.comms.open(id);\n",
       "      // Send a message to notify the kernel that we're ready.\n",
       "      channel.send({})\n",
       "\n",
       "      for await (const message of channel.messages) {\n",
       "        // Send a message to notify the kernel that we're ready.\n",
       "        channel.send({})\n",
       "        if (message.buffers) {\n",
       "          for (const buffer of message.buffers) {\n",
       "            buffers.push(buffer);\n",
       "            downloaded += buffer.byteLength;\n",
       "            progress.value = downloaded;\n",
       "          }\n",
       "        }\n",
       "      }\n",
       "      const blob = new Blob(buffers, {type: 'application/binary'});\n",
       "      const a = document.createElement('a');\n",
       "      a.href = window.URL.createObjectURL(blob);\n",
       "      a.download = filename;\n",
       "      div.appendChild(a);\n",
       "      a.click();\n",
       "      div.remove();\n",
       "    }\n",
       "  "
      ],
      "text/plain": [
       "<IPython.core.display.Javascript object>"
      ]
     },
     "metadata": {
      "tags": []
     },
     "output_type": "display_data"
    },
    {
     "data": {
      "application/javascript": [
       "download(\"download_d46c5b39-ba86-42a1-80da-3d19f26d3b39\", \"dfKaggle.csv\", 25958)"
      ],
      "text/plain": [
       "<IPython.core.display.Javascript object>"
      ]
     },
     "metadata": {
      "tags": []
     },
     "output_type": "display_data"
    }
   ],
   "source": [
    "#se pasa testFinal porque posee\n",
    "modelo.formarDfKaggle(  prediccion)"
   ]
  },
  {
   "cell_type": "code",
   "execution_count": 477,
   "metadata": {
    "colab": {
     "base_uri": "https://localhost:8080/",
     "height": 296
    },
    "id": "z9315aL_zzbp",
    "outputId": "4802a4b5-9f12-4252-94da-d55d79085db0"
   },
   "outputs": [
    {
     "data": {
      "image/png": "[encoded data removed]",
      "text/plain": [
       "<Figure size 432x288 with 1 Axes>"
      ]
     },
     "metadata": {
      "needs_background": "light",
      "tags": []
     },
     "output_type": "display_data"
    }
   ],
   "source": [
    "modelo.featureImportancia( X_train)"
   ]
  }
 ],
 "metadata": {
  "colab": {
   "collapsed_sections": [],
   "include_colab_link": true,
   "name": "tp2orga_joaquin_v3.ipynb",
   "provenance": []
  },
  "kernelspec": {
   "display_name": "Python 3",
   "language": "python",
   "name": "python3"
  },
  "language_info": {
   "codemirror_mode": {
    "name": "ipython",
    "version": 3
   },
   "file_extension": ".py",
   "mimetype": "text/x-python",
   "name": "python",
   "nbconvert_exporter": "python",
   "pygments_lexer": "ipython3",
   "version": "3.8.3"
  }
 },
 "nbformat": 4,
 "nbformat_minor": 1
}
