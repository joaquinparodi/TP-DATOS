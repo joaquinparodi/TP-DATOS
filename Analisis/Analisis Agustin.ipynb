{
  "nbformat": 4,
  "nbformat_minor": 0,
  "metadata": {
    "colab": {
      "name": "Analisis Agustin.ipynb",
      "provenance": [],
      "collapsed_sections": []
    },
    "kernelspec": {
      "name": "python3",
      "display_name": "Python 3"
    }
  },
  "cells": [
    {
      "cell_type": "markdown",
      "metadata": {
        "id": "ySYfCRB31ffz"
      },
      "source": [
        "Instalar Pandas"
      ]
    },
    {
      "cell_type": "code",
      "metadata": {
        "id": "ngoKdHHP1hO2",
        "outputId": "d03acd07-7f45-4539-f2c4-d373eb1361fd",
        "colab": {
          "base_uri": "https://localhost:8080/"
        }
      },
      "source": [
        "!pip install pyspark\n",
        "!pip install -U -q PyDrive\n",
        "!apt install openjdk-8-jdk-headless -qq\n",
        "!pip install chart_studio\n",
        "import pandas as pd\n",
        "import plotly\n",
        "import chart_studio.plotly as py\n",
        "import os\n",
        "os.environ[\"JAVA_HOME\"] = \"/usr/lib/jvm/java-8-openjdk-amd64\""
      ],
      "execution_count": 2,
      "outputs": [
        {
          "output_type": "stream",
          "text": [
            "Collecting pyspark\n",
            "\u001b[?25l  Downloading https://files.pythonhosted.org/packages/f0/26/198fc8c0b98580f617cb03cb298c6056587b8f0447e20fa40c5b634ced77/pyspark-3.0.1.tar.gz (204.2MB)\n",
            "\u001b[K     |████████████████████████████████| 204.2MB 65kB/s \n",
            "\u001b[?25hCollecting py4j==0.10.9\n",
            "\u001b[?25l  Downloading https://files.pythonhosted.org/packages/9e/b6/6a4fb90cd235dc8e265a6a2067f2a2c99f0d91787f06aca4bcf7c23f3f80/py4j-0.10.9-py2.py3-none-any.whl (198kB)\n",
            "\u001b[K     |████████████████████████████████| 204kB 38.8MB/s \n",
            "\u001b[?25hBuilding wheels for collected packages: pyspark\n",
            "  Building wheel for pyspark (setup.py) ... \u001b[?25l\u001b[?25hdone\n",
            "  Created wheel for pyspark: filename=pyspark-3.0.1-py2.py3-none-any.whl size=204612243 sha256=faebabdaf8bd9b08d55f74dc618b236dc96a74a17b9411d2de856b5664dff690\n",
            "  Stored in directory: /root/.cache/pip/wheels/5e/bd/07/031766ca628adec8435bb40f0bd83bb676ce65ff4007f8e73f\n",
            "Successfully built pyspark\n",
            "Installing collected packages: py4j, pyspark\n",
            "Successfully installed py4j-0.10.9 pyspark-3.0.1\n",
            "The following additional packages will be installed:\n",
            "  openjdk-8-jre-headless\n",
            "Suggested packages:\n",
            "  openjdk-8-demo openjdk-8-source libnss-mdns fonts-dejavu-extra\n",
            "  fonts-ipafont-gothic fonts-ipafont-mincho fonts-wqy-microhei\n",
            "  fonts-wqy-zenhei fonts-indic\n",
            "The following NEW packages will be installed:\n",
            "  openjdk-8-jdk-headless openjdk-8-jre-headless\n",
            "0 upgraded, 2 newly installed, 0 to remove and 12 not upgraded.\n",
            "Need to get 36.5 MB of archives.\n",
            "After this operation, 143 MB of additional disk space will be used.\n",
            "E: Failed to fetch http://security.ubuntu.com/ubuntu/pool/universe/o/openjdk-8/openjdk-8-jre-headless_8u272-b10-0ubuntu1~18.04_amd64.deb  404  Not Found [IP: 91.189.88.142 80]\n",
            "E: Failed to fetch http://security.ubuntu.com/ubuntu/pool/universe/o/openjdk-8/openjdk-8-jdk-headless_8u272-b10-0ubuntu1~18.04_amd64.deb  404  Not Found [IP: 91.189.88.142 80]\n",
            "E: Unable to fetch some archives, maybe run apt-get update or try with --fix-missing?\n",
            "Collecting chart_studio\n",
            "\u001b[?25l  Downloading https://files.pythonhosted.org/packages/ca/ce/330794a6b6ca4b9182c38fc69dd2a9cbff60fd49421cb8648ee5fee352dc/chart_studio-1.1.0-py3-none-any.whl (64kB)\n",
            "\u001b[K     |████████████████████████████████| 71kB 4.5MB/s \n",
            "\u001b[?25hRequirement already satisfied: requests in /usr/local/lib/python3.6/dist-packages (from chart_studio) (2.23.0)\n",
            "Requirement already satisfied: six in /usr/local/lib/python3.6/dist-packages (from chart_studio) (1.15.0)\n",
            "Requirement already satisfied: retrying>=1.3.3 in /usr/local/lib/python3.6/dist-packages (from chart_studio) (1.3.3)\n",
            "Requirement already satisfied: plotly in /usr/local/lib/python3.6/dist-packages (from chart_studio) (4.4.1)\n",
            "Requirement already satisfied: chardet<4,>=3.0.2 in /usr/local/lib/python3.6/dist-packages (from requests->chart_studio) (3.0.4)\n",
            "Requirement already satisfied: certifi>=2017.4.17 in /usr/local/lib/python3.6/dist-packages (from requests->chart_studio) (2020.6.20)\n",
            "Requirement already satisfied: idna<3,>=2.5 in /usr/local/lib/python3.6/dist-packages (from requests->chart_studio) (2.10)\n",
            "Requirement already satisfied: urllib3!=1.25.0,!=1.25.1,<1.26,>=1.21.1 in /usr/local/lib/python3.6/dist-packages (from requests->chart_studio) (1.24.3)\n",
            "Installing collected packages: chart-studio\n",
            "Successfully installed chart-studio-1.1.0\n"
          ],
          "name": "stdout"
        }
      ]
    },
    {
      "cell_type": "code",
      "metadata": {
        "id": "yZiPB85BJ2k6"
      },
      "source": [
        "import matplotlib.pylab as plt\n",
        "import seaborn as sns"
      ],
      "execution_count": 3,
      "outputs": []
    },
    {
      "cell_type": "markdown",
      "metadata": {
        "id": "D9dG6l_o1zZ0"
      },
      "source": [
        "Autentificar Usuario"
      ]
    },
    {
      "cell_type": "code",
      "metadata": {
        "id": "508PBhcN11_z"
      },
      "source": [
        "from pydrive.auth import GoogleAuth\n",
        "from pydrive.drive import GoogleDrive\n",
        "from google.colab import auth\n",
        "from oauth2client.client import GoogleCredentials\n",
        "\n",
        "#Authenticate and create the PyDrive client\n",
        "\n",
        "auth.authenticate_user()\n",
        "gauth = GoogleAuth()\n",
        "gauth.credentials = GoogleCredentials.get_application_default()\n",
        "drive = GoogleDrive(gauth)"
      ],
      "execution_count": null,
      "outputs": []
    },
    {
      "cell_type": "markdown",
      "metadata": {
        "id": "CUas2KEP17TF"
      },
      "source": [
        "Pandas"
      ]
    },
    {
      "cell_type": "code",
      "metadata": {
        "id": "xXFbdM3K2Apw"
      },
      "source": [
        "from pyspark.sql import *\n",
        "from pyspark.sql.functions import *\n",
        "from pyspark import SparkContext\n",
        "from pyspark.sql import SQLContext\n",
        "import pandas as pd\n",
        "import numpy as np"
      ],
      "execution_count": 4,
      "outputs": []
    },
    {
      "cell_type": "code",
      "metadata": {
        "id": "3p5ksx9_2C7P",
        "outputId": "55e03f3e-fcf4-43d9-8a05-c010d5cdb367",
        "colab": {
          "base_uri": "https://localhost:8080/"
        }
      },
      "source": [
        "#Abro el archivo de datos\n",
        "archivo_datos = \"/content/drive/My Drive/TP1 Orga de Datos 2020/Entrenamieto_ECI_2020.csv\"\n",
        "df = pd.read_csv(archivo_datos)\n",
        "df.info()"
      ],
      "execution_count": 5,
      "outputs": [
        {
          "output_type": "stream",
          "text": [
            "<class 'pandas.core.frame.DataFrame'>\n",
            "RangeIndex: 16947 entries, 0 to 16946\n",
            "Data columns (total 52 columns):\n",
            " #   Column                              Non-Null Count  Dtype  \n",
            "---  ------                              --------------  -----  \n",
            " 0   ID                                  16947 non-null  int64  \n",
            " 1   Region                              16947 non-null  object \n",
            " 2   Territory                           16947 non-null  object \n",
            " 3   Pricing, Delivery_Terms_Quote_Appr  16947 non-null  int64  \n",
            " 4   Pricing, Delivery_Terms_Approved    16947 non-null  int64  \n",
            " 5   Bureaucratic_Code_0_Approval        16947 non-null  int64  \n",
            " 6   Bureaucratic_Code_0_Approved        16947 non-null  int64  \n",
            " 7   Submitted_for_Approval              16947 non-null  int64  \n",
            " 8   Bureaucratic_Code                   16947 non-null  object \n",
            " 9   Account_Created_Date                16947 non-null  object \n",
            " 10  Source                              16947 non-null  object \n",
            " 11  Billing_Country                     16947 non-null  object \n",
            " 12  Account_Name                        16947 non-null  object \n",
            " 13  Opportunity_Name                    16947 non-null  object \n",
            " 14  Opportunity_ID                      16947 non-null  int64  \n",
            " 15  Sales_Contract_No                   16947 non-null  object \n",
            " 16  Account_Owner                       16947 non-null  object \n",
            " 17  Opportunity_Owner                   16947 non-null  object \n",
            " 18  Account_Type                        16947 non-null  object \n",
            " 19  Opportunity_Type                    16947 non-null  object \n",
            " 20  Quote_Type                          16947 non-null  object \n",
            " 21  Delivery_Terms                      16947 non-null  object \n",
            " 22  Opportunity_Created_Date            16947 non-null  object \n",
            " 23  Brand                               16947 non-null  object \n",
            " 24  Product_Type                        16947 non-null  object \n",
            " 25  Size                                16947 non-null  object \n",
            " 26  Product_Category_B                  16947 non-null  object \n",
            " 27  Price                               16947 non-null  object \n",
            " 28  Currency                            16947 non-null  object \n",
            " 29  Last_Activity                       16947 non-null  object \n",
            " 30  Quote_Expiry_Date                   16947 non-null  object \n",
            " 31  Last_Modified_Date                  16947 non-null  object \n",
            " 32  Last_Modified_By                    16947 non-null  object \n",
            " 33  Product_Family                      16947 non-null  object \n",
            " 34  Product_Name                        16947 non-null  object \n",
            " 35  ASP_Currency                        16947 non-null  object \n",
            " 36  ASP                                 13738 non-null  float64\n",
            " 37  ASP_(converted)_Currency            16947 non-null  object \n",
            " 38  ASP_(converted)                     13738 non-null  float64\n",
            " 39  Planned_Delivery_Start_Date         16947 non-null  object \n",
            " 40  Planned_Delivery_End_Date           16947 non-null  object \n",
            " 41  Month                               16947 non-null  object \n",
            " 42  Delivery_Quarter                    16947 non-null  object \n",
            " 43  Delivery_Year                       16947 non-null  int64  \n",
            " 44  Actual_Delivery_Date                16947 non-null  object \n",
            " 45  TRF                                 16947 non-null  int64  \n",
            " 46  Total_Amount_Currency               16947 non-null  object \n",
            " 47  Total_Amount                        16888 non-null  float64\n",
            " 48  Total_Taxable_Amount_Currency       16947 non-null  object \n",
            " 49  Total_Taxable_Amount                16947 non-null  float64\n",
            " 50  Stage                               16947 non-null  object \n",
            " 51  Prod_Category_A                     16947 non-null  object \n",
            "dtypes: float64(4), int64(9), object(39)\n",
            "memory usage: 6.7+ MB\n"
          ],
          "name": "stdout"
        }
      ]
    },
    {
      "cell_type": "code",
      "metadata": {
        "id": "L_WeIBum667P"
      },
      "source": [
        "df['Month'] = pd.to_datetime(df['Month'])\n",
        "df['anio'] = df['Month'].dt.year\n",
        "df['mes'] = df['Month'].dt.month\n",
        "df['Account_Created_Date'] = pd.to_datetime(df['Account_Created_Date'])\n",
        "df['Opportunity_Created_Date'] = pd.to_datetime(df['Opportunity_Created_Date'])"
      ],
      "execution_count": 6,
      "outputs": []
    },
    {
      "cell_type": "code",
      "metadata": {
        "id": "xKfzYEtg7Hqx"
      },
      "source": [
        "#Me quedo solo con estos 2 stages, el resto tiene muy pocos datos\n",
        "df = df.loc[(df['Stage'] == 'Closed Lost' ) | (df['Stage'] == 'Closed Won'), : ]"
      ],
      "execution_count": 7,
      "outputs": []
    },
    {
      "cell_type": "code",
      "metadata": {
        "id": "-og_4tKc8vOw",
        "outputId": "e9b04ab7-b26f-45fc-9d2b-3725ce554f5a",
        "colab": {
          "base_uri": "https://localhost:8080/"
        }
      },
      "source": [
        "df_brands = df['Brand']\n",
        "df_brands.value_counts()"
      ],
      "execution_count": null,
      "outputs": [
        {
          "output_type": "execute_result",
          "data": {
            "text/plain": [
              "None        15847\n",
              "Other         607\n",
              "Brand_9       140\n",
              "Brand_5        48\n",
              "Brand_24       38\n",
              "Brand_11       34\n",
              "Brand_25       24\n",
              "Brand_10       22\n",
              "Brand_22       20\n",
              "Brand_7        17\n",
              "Brand_13       17\n",
              "Brand_21       17\n",
              "Brand_23       10\n",
              "Brand_20       10\n",
              "Brand_27        5\n",
              "Brand_17        5\n",
              "Brand_4         4\n",
              "Brand_2         4\n",
              "Brand_0         4\n",
              "Brand_12        3\n",
              "Brand_16        2\n",
              "Brand_6         1\n",
              "Brand_3         1\n",
              "Brand_26        1\n",
              "Brand_1         1\n",
              "Brand_19        1\n",
              "Name: Brand, dtype: int64"
            ]
          },
          "metadata": {
            "tags": []
          },
          "execution_count": 7
        }
      ]
    },
    {
      "cell_type": "code",
      "metadata": {
        "id": "T7gcfHGoArLJ",
        "outputId": "ed95c542-1315-4f66-e80e-5156820da173",
        "colab": {
          "base_uri": "https://localhost:8080/"
        }
      },
      "source": [
        "df_ptype = df['Product_Type']\n",
        "df_ptype.value_counts()"
      ],
      "execution_count": null,
      "outputs": [
        {
          "output_type": "execute_result",
          "data": {
            "text/plain": [
              "None              15871\n",
              "Other               515\n",
              "Product_Type_3      179\n",
              "Product_Type_1      142\n",
              "Product_Type_0       94\n",
              "Product_Type_4       73\n",
              "Product_Type_2        9\n",
              "Name: Product_Type, dtype: int64"
            ]
          },
          "metadata": {
            "tags": []
          },
          "execution_count": 85
        }
      ]
    },
    {
      "cell_type": "markdown",
      "metadata": {
        "id": "wi5nGtS-AzJ7"
      },
      "source": [
        "Como podemos ver, la mayoria de las filas del df no tiene datos en la columna de Brand y Product_Type, por ende no se puede sacar informacion respecto a esos campos"
      ]
    },
    {
      "cell_type": "code",
      "metadata": {
        "id": "JUaOZQEbBXCn",
        "outputId": "f27bb435-4938-422d-f2c2-430a92007cfa",
        "colab": {
          "base_uri": "https://localhost:8080/",
          "height": 402
        }
      },
      "source": [
        "df_acount = df\n",
        "df_acount['Acount_Creation_Month'] = pd.DatetimeIndex(df_acount['Account_Created_Date']).month\n",
        "df_valores = df_acount.groupby(['Acount_Creation_Month']).size().reset_index(name='Cantidad_Cuentas_Creadas')\n",
        "df_valores"
      ],
      "execution_count": null,
      "outputs": [
        {
          "output_type": "execute_result",
          "data": {
            "text/html": [
              "<div>\n",
              "<style scoped>\n",
              "    .dataframe tbody tr th:only-of-type {\n",
              "        vertical-align: middle;\n",
              "    }\n",
              "\n",
              "    .dataframe tbody tr th {\n",
              "        vertical-align: top;\n",
              "    }\n",
              "\n",
              "    .dataframe thead th {\n",
              "        text-align: right;\n",
              "    }\n",
              "</style>\n",
              "<table border=\"1\" class=\"dataframe\">\n",
              "  <thead>\n",
              "    <tr style=\"text-align: right;\">\n",
              "      <th></th>\n",
              "      <th>Acount_Creation_Month</th>\n",
              "      <th>Cantidad_Cuentas_Creadas</th>\n",
              "    </tr>\n",
              "  </thead>\n",
              "  <tbody>\n",
              "    <tr>\n",
              "      <th>0</th>\n",
              "      <td>1</td>\n",
              "      <td>777</td>\n",
              "    </tr>\n",
              "    <tr>\n",
              "      <th>1</th>\n",
              "      <td>2</td>\n",
              "      <td>776</td>\n",
              "    </tr>\n",
              "    <tr>\n",
              "      <th>2</th>\n",
              "      <td>3</td>\n",
              "      <td>755</td>\n",
              "    </tr>\n",
              "    <tr>\n",
              "      <th>3</th>\n",
              "      <td>4</td>\n",
              "      <td>3658</td>\n",
              "    </tr>\n",
              "    <tr>\n",
              "      <th>4</th>\n",
              "      <td>5</td>\n",
              "      <td>769</td>\n",
              "    </tr>\n",
              "    <tr>\n",
              "      <th>5</th>\n",
              "      <td>6</td>\n",
              "      <td>1074</td>\n",
              "    </tr>\n",
              "    <tr>\n",
              "      <th>6</th>\n",
              "      <td>7</td>\n",
              "      <td>3745</td>\n",
              "    </tr>\n",
              "    <tr>\n",
              "      <th>7</th>\n",
              "      <td>8</td>\n",
              "      <td>812</td>\n",
              "    </tr>\n",
              "    <tr>\n",
              "      <th>8</th>\n",
              "      <td>9</td>\n",
              "      <td>2032</td>\n",
              "    </tr>\n",
              "    <tr>\n",
              "      <th>9</th>\n",
              "      <td>10</td>\n",
              "      <td>909</td>\n",
              "    </tr>\n",
              "    <tr>\n",
              "      <th>10</th>\n",
              "      <td>11</td>\n",
              "      <td>415</td>\n",
              "    </tr>\n",
              "    <tr>\n",
              "      <th>11</th>\n",
              "      <td>12</td>\n",
              "      <td>1161</td>\n",
              "    </tr>\n",
              "  </tbody>\n",
              "</table>\n",
              "</div>"
            ],
            "text/plain": [
              "    Acount_Creation_Month  Cantidad_Cuentas_Creadas\n",
              "0                       1                       777\n",
              "1                       2                       776\n",
              "2                       3                       755\n",
              "3                       4                      3658\n",
              "4                       5                       769\n",
              "5                       6                      1074\n",
              "6                       7                      3745\n",
              "7                       8                       812\n",
              "8                       9                      2032\n",
              "9                      10                       909\n",
              "10                     11                       415\n",
              "11                     12                      1161"
            ]
          },
          "metadata": {
            "tags": []
          },
          "execution_count": 180
        }
      ]
    },
    {
      "cell_type": "code",
      "metadata": {
        "id": "bDf4859yJkmF",
        "outputId": "3a79898f-e33f-4c52-de39-060448d919d3",
        "colab": {
          "base_uri": "https://localhost:8080/",
          "height": 704
        }
      },
      "source": [
        "fig, ax = plt.subplots(figsize = (12, 11))\n",
        "plt.xticks(np.arange(0, 13, 1)) #np.arange(min, max + 1, step)\n",
        "g=sns.barplot(data=df_valores, x=\"Acount_Creation_Month\", y=\"Cantidad_Cuentas_Creadas\", ax=ax)\n",
        "g.set_title(\"Cantidad de Cuentas Creadas por Mes\", fontsize = 22)\n",
        "g.set_xlabel(\"Mes\",fontsize=15)\n",
        "g.set_ylabel(\"Cantidad De Cuentas Creadas\", fontsize=15)"
      ],
      "execution_count": null,
      "outputs": [
        {
          "output_type": "execute_result",
          "data": {
            "text/plain": [
              "Text(0, 0.5, 'Cantidad De Cuentas Creadas')"
            ]
          },
          "metadata": {
            "tags": []
          },
          "execution_count": 185
        },
        {
          "output_type": "display_data",
          "data": {
            "image/png": "[encoded data removed]",
            "text/plain": [
              "<Figure size 864x792 with 1 Axes>"
            ]
          },
          "metadata": {
            "tags": [],
            "needs_background": "light"
          }
        }
      ]
    },
    {
      "cell_type": "code",
      "metadata": {
        "id": "07TPmJjEKoCX",
        "outputId": "1f55b547-87bb-4a13-ee9d-ca3209e5c621",
        "colab": {
          "base_uri": "https://localhost:8080/",
          "height": 225
        }
      },
      "source": [
        "df_anios = df\n",
        "df_anios['Acount_Creation_Year'] = pd.DatetimeIndex(df_anios['Account_Created_Date']).year\n",
        "df_val = df_anios.groupby(['Acount_Creation_Year']).size().reset_index(name='Cantidad_Cuentas_Creadas')\n",
        "df_val"
      ],
      "execution_count": null,
      "outputs": [
        {
          "output_type": "execute_result",
          "data": {
            "text/html": [
              "<div>\n",
              "<style scoped>\n",
              "    .dataframe tbody tr th:only-of-type {\n",
              "        vertical-align: middle;\n",
              "    }\n",
              "\n",
              "    .dataframe tbody tr th {\n",
              "        vertical-align: top;\n",
              "    }\n",
              "\n",
              "    .dataframe thead th {\n",
              "        text-align: right;\n",
              "    }\n",
              "</style>\n",
              "<table border=\"1\" class=\"dataframe\">\n",
              "  <thead>\n",
              "    <tr style=\"text-align: right;\">\n",
              "      <th></th>\n",
              "      <th>Acount_Creation_Year</th>\n",
              "      <th>Cantidad_Cuentas_Creadas</th>\n",
              "    </tr>\n",
              "  </thead>\n",
              "  <tbody>\n",
              "    <tr>\n",
              "      <th>0</th>\n",
              "      <td>2013</td>\n",
              "      <td>4550</td>\n",
              "    </tr>\n",
              "    <tr>\n",
              "      <th>1</th>\n",
              "      <td>2014</td>\n",
              "      <td>1381</td>\n",
              "    </tr>\n",
              "    <tr>\n",
              "      <th>2</th>\n",
              "      <td>2015</td>\n",
              "      <td>4927</td>\n",
              "    </tr>\n",
              "    <tr>\n",
              "      <th>3</th>\n",
              "      <td>2016</td>\n",
              "      <td>3115</td>\n",
              "    </tr>\n",
              "    <tr>\n",
              "      <th>4</th>\n",
              "      <td>2017</td>\n",
              "      <td>2210</td>\n",
              "    </tr>\n",
              "    <tr>\n",
              "      <th>5</th>\n",
              "      <td>2018</td>\n",
              "      <td>764</td>\n",
              "    </tr>\n",
              "  </tbody>\n",
              "</table>\n",
              "</div>"
            ],
            "text/plain": [
              "   Acount_Creation_Year  Cantidad_Cuentas_Creadas\n",
              "0                  2013                      4550\n",
              "1                  2014                      1381\n",
              "2                  2015                      4927\n",
              "3                  2016                      3115\n",
              "4                  2017                      2210\n",
              "5                  2018                       764"
            ]
          },
          "metadata": {
            "tags": []
          },
          "execution_count": 17
        }
      ]
    },
    {
      "cell_type": "code",
      "metadata": {
        "id": "lC6MuxHqMC-Y",
        "outputId": "e11cb1a1-193e-4ab0-ae63-bfed04925603",
        "colab": {
          "base_uri": "https://localhost:8080/",
          "height": 704
        }
      },
      "source": [
        "fig, ax = plt.subplots(figsize = (12, 11))\n",
        "#plt.xticks(np.arange(0, 13, 1)) #np.arange(min, max + 1, step)\n",
        "g=sns.barplot(data=df_val, x=\"Acount_Creation_Year\", y=\"Cantidad_Cuentas_Creadas\", ax=ax)\n",
        "g.set_title(\"Cantidad de Cuentas Creadas por Anio\", fontsize = 22)\n",
        "g.set_xlabel(\"Anio\", fontsize=15)\n",
        "g.set_ylabel(\"Cantidad De Cuentas Creadas\", fontsize=15)"
      ],
      "execution_count": null,
      "outputs": [
        {
          "output_type": "execute_result",
          "data": {
            "text/plain": [
              "Text(0, 0.5, 'Cantidad De Cuentas Creadas')"
            ]
          },
          "metadata": {
            "tags": []
          },
          "execution_count": 177
        },
        {
          "output_type": "display_data",
          "data": {
            "image/png": "[encoded data removed]",
            "text/plain": [
              "<Figure size 864x792 with 1 Axes>"
            ]
          },
          "metadata": {
            "tags": [],
            "needs_background": "light"
          }
        }
      ]
    },
    {
      "cell_type": "code",
      "metadata": {
        "id": "BwxVsUutNnrF",
        "outputId": "0d84fac7-8b06-457c-faba-d9e85c14ff8a",
        "colab": {
          "base_uri": "https://localhost:8080/",
          "height": 402
        }
      },
      "source": [
        "df_tiempo = df[['Opportunity_Name', 'Account_Created_Date', 'Account_Name', 'Opportunity_Created_Date', 'Stage']]\n",
        "#df_tiempo[\"Tiempo_Desde_Creacion_Hasta_Primera_Oportunidad\"] = df_tiempo[\"Opportunity_Created_Date\"] - df_tiempo[\"Account_Created_Date\"]\n",
        "df_dias = df_tiempo.groupby(['Account_Name', 'Account_Created_Date'])['Opportunity_Created_Date'].min().reset_index()\n",
        "df_dias['Diff'] = df_dias['Opportunity_Created_Date'] - df_dias['Account_Created_Date']\n",
        "df_dias = df_dias.drop(df_dias[df_dias['Diff'].dt.days < 0].index) #Elimino aquellas con dia de creacion menor a primera oportunidad\n",
        "df_dias['Diff'] = df_dias['Diff'].dt.days\n",
        "df_dias = df_dias.value_counts('Diff').reset_index()\n",
        "df_dias = df_dias.rename(columns={0:'Cantidad'})\n",
        "df_dias['Porcentaje'] = (df_dias['Cantidad'] / df_dias['Cantidad'].sum()) * 100\n",
        "df_dias = df_dias.sort_values('Diff')\n",
        "df_dias"
      ],
      "execution_count": null,
      "outputs": [
        {
          "output_type": "execute_result",
          "data": {
            "text/html": [
              "<div>\n",
              "<style scoped>\n",
              "    .dataframe tbody tr th:only-of-type {\n",
              "        vertical-align: middle;\n",
              "    }\n",
              "\n",
              "    .dataframe tbody tr th {\n",
              "        vertical-align: top;\n",
              "    }\n",
              "\n",
              "    .dataframe thead th {\n",
              "        text-align: right;\n",
              "    }\n",
              "</style>\n",
              "<table border=\"1\" class=\"dataframe\">\n",
              "  <thead>\n",
              "    <tr style=\"text-align: right;\">\n",
              "      <th></th>\n",
              "      <th>Diff</th>\n",
              "      <th>Cantidad</th>\n",
              "      <th>Porcentaje</th>\n",
              "    </tr>\n",
              "  </thead>\n",
              "  <tbody>\n",
              "    <tr>\n",
              "      <th>0</th>\n",
              "      <td>0</td>\n",
              "      <td>1065</td>\n",
              "      <td>68.181818</td>\n",
              "    </tr>\n",
              "    <tr>\n",
              "      <th>1</th>\n",
              "      <td>1</td>\n",
              "      <td>23</td>\n",
              "      <td>1.472471</td>\n",
              "    </tr>\n",
              "    <tr>\n",
              "      <th>2</th>\n",
              "      <td>2</td>\n",
              "      <td>8</td>\n",
              "      <td>0.512164</td>\n",
              "    </tr>\n",
              "    <tr>\n",
              "      <th>4</th>\n",
              "      <td>3</td>\n",
              "      <td>6</td>\n",
              "      <td>0.384123</td>\n",
              "    </tr>\n",
              "    <tr>\n",
              "      <th>3</th>\n",
              "      <td>4</td>\n",
              "      <td>7</td>\n",
              "      <td>0.448143</td>\n",
              "    </tr>\n",
              "    <tr>\n",
              "      <th>...</th>\n",
              "      <td>...</td>\n",
              "      <td>...</td>\n",
              "      <td>...</td>\n",
              "    </tr>\n",
              "    <tr>\n",
              "      <th>256</th>\n",
              "      <td>1595</td>\n",
              "      <td>1</td>\n",
              "      <td>0.064020</td>\n",
              "    </tr>\n",
              "    <tr>\n",
              "      <th>257</th>\n",
              "      <td>1623</td>\n",
              "      <td>1</td>\n",
              "      <td>0.064020</td>\n",
              "    </tr>\n",
              "    <tr>\n",
              "      <th>258</th>\n",
              "      <td>1698</td>\n",
              "      <td>1</td>\n",
              "      <td>0.064020</td>\n",
              "    </tr>\n",
              "    <tr>\n",
              "      <th>315</th>\n",
              "      <td>1703</td>\n",
              "      <td>1</td>\n",
              "      <td>0.064020</td>\n",
              "    </tr>\n",
              "    <tr>\n",
              "      <th>196</th>\n",
              "      <td>1705</td>\n",
              "      <td>1</td>\n",
              "      <td>0.064020</td>\n",
              "    </tr>\n",
              "  </tbody>\n",
              "</table>\n",
              "<p>366 rows × 3 columns</p>\n",
              "</div>"
            ],
            "text/plain": [
              "     Diff  Cantidad  Porcentaje\n",
              "0       0      1065   68.181818\n",
              "1       1        23    1.472471\n",
              "2       2         8    0.512164\n",
              "4       3         6    0.384123\n",
              "3       4         7    0.448143\n",
              "..    ...       ...         ...\n",
              "256  1595         1    0.064020\n",
              "257  1623         1    0.064020\n",
              "258  1698         1    0.064020\n",
              "315  1703         1    0.064020\n",
              "196  1705         1    0.064020\n",
              "\n",
              "[366 rows x 3 columns]"
            ]
          },
          "metadata": {
            "tags": []
          },
          "execution_count": 164
        }
      ]
    },
    {
      "cell_type": "code",
      "metadata": {
        "id": "nwvWvl5Aii_G",
        "outputId": "71fafe7e-7f42-44ad-9dda-99ca2982c493",
        "colab": {
          "base_uri": "https://localhost:8080/",
          "height": 704
        }
      },
      "source": [
        "fig, ax = plt.subplots(figsize = (12, 11))\n",
        "g=sns.lineplot(data=df_dias, x=\"Diff\", y=\"Porcentaje\", ax=ax)\n",
        "g.set_title(\"Dias desde que se crea una cuenta hasta su 1ra Oportunidad\", fontsize = 22)\n",
        "g.set_xlabel(\"Dias\",fontsize=15)\n",
        "g.set_ylabel(\"Porcentaje sobre el total\", fontsize=15)"
      ],
      "execution_count": null,
      "outputs": [
        {
          "output_type": "execute_result",
          "data": {
            "text/plain": [
              "Text(0, 0.5, 'Porcentaje sobre el total')"
            ]
          },
          "metadata": {
            "tags": []
          },
          "execution_count": 176
        },
        {
          "output_type": "display_data",
          "data": {
            "image/png": "[encoded data removed]",
            "text/plain": [
              "<Figure size 864x792 with 1 Axes>"
            ]
          },
          "metadata": {
            "tags": [],
            "needs_background": "light"
          }
        }
      ]
    },
    {
      "cell_type": "markdown",
      "metadata": {
        "id": "l7qT67xEnb90"
      },
      "source": [
        "Luego de este analisis podemos ver que la mayoria de cuentas que se crean realizan su primera oportunidad ese mismo dia"
      ]
    },
    {
      "cell_type": "code",
      "metadata": {
        "id": "u3B_XixAnaGU",
        "outputId": "02e8d6b6-f2dd-409c-ce6b-21f9a91c06ee",
        "colab": {
          "base_uri": "https://localhost:8080/",
          "height": 649
        }
      },
      "source": [
        "df_porciento = df[['Opportunity_Name', 'Account_Name', 'Stage']]\n",
        "df_porciento = df_porciento.groupby(['Account_Name', 'Opportunity_Name', 'Stage']).agg(Cant=(\"Stage\", \"count\")).reset_index()\n",
        "df_porciento = df_porciento.drop(['Cant'], axis=1)\n",
        "df_porciento[\"Cantidad\"] = 1\n",
        "#df_porciento = df_porciento.groupby(['Account_Name', 'Opportunity_Name', 'Stage']).first()\n",
        "df_porciento.head(20)"
      ],
      "execution_count": 8,
      "outputs": [
        {
          "output_type": "execute_result",
          "data": {
            "text/html": [
              "<div>\n",
              "<style scoped>\n",
              "    .dataframe tbody tr th:only-of-type {\n",
              "        vertical-align: middle;\n",
              "    }\n",
              "\n",
              "    .dataframe tbody tr th {\n",
              "        vertical-align: top;\n",
              "    }\n",
              "\n",
              "    .dataframe thead th {\n",
              "        text-align: right;\n",
              "    }\n",
              "</style>\n",
              "<table border=\"1\" class=\"dataframe\">\n",
              "  <thead>\n",
              "    <tr style=\"text-align: right;\">\n",
              "      <th></th>\n",
              "      <th>Account_Name</th>\n",
              "      <th>Opportunity_Name</th>\n",
              "      <th>Stage</th>\n",
              "      <th>Cantidad</th>\n",
              "    </tr>\n",
              "  </thead>\n",
              "  <tbody>\n",
              "    <tr>\n",
              "      <th>0</th>\n",
              "      <td>Account_Name_0</td>\n",
              "      <td>Opportunity_Name_7547</td>\n",
              "      <td>Closed Won</td>\n",
              "      <td>1</td>\n",
              "    </tr>\n",
              "    <tr>\n",
              "      <th>1</th>\n",
              "      <td>Account_Name_1</td>\n",
              "      <td>Opportunity_Name_11763</td>\n",
              "      <td>Closed Lost</td>\n",
              "      <td>1</td>\n",
              "    </tr>\n",
              "    <tr>\n",
              "      <th>2</th>\n",
              "      <td>Account_Name_10</td>\n",
              "      <td>Opportunity_Name_870</td>\n",
              "      <td>Closed Lost</td>\n",
              "      <td>1</td>\n",
              "    </tr>\n",
              "    <tr>\n",
              "      <th>3</th>\n",
              "      <td>Account_Name_100</td>\n",
              "      <td>Opportunity_Name_2262</td>\n",
              "      <td>Closed Won</td>\n",
              "      <td>1</td>\n",
              "    </tr>\n",
              "    <tr>\n",
              "      <th>4</th>\n",
              "      <td>Account_Name_1000</td>\n",
              "      <td>Opportunity_Name_1582</td>\n",
              "      <td>Closed Lost</td>\n",
              "      <td>1</td>\n",
              "    </tr>\n",
              "    <tr>\n",
              "      <th>5</th>\n",
              "      <td>Account_Name_1001</td>\n",
              "      <td>Opportunity_Name_6198</td>\n",
              "      <td>Closed Won</td>\n",
              "      <td>1</td>\n",
              "    </tr>\n",
              "    <tr>\n",
              "      <th>6</th>\n",
              "      <td>Account_Name_1002</td>\n",
              "      <td>Opportunity_Name_6163</td>\n",
              "      <td>Closed Won</td>\n",
              "      <td>1</td>\n",
              "    </tr>\n",
              "    <tr>\n",
              "      <th>7</th>\n",
              "      <td>Account_Name_1004</td>\n",
              "      <td>Opportunity_Name_6208</td>\n",
              "      <td>Closed Lost</td>\n",
              "      <td>1</td>\n",
              "    </tr>\n",
              "    <tr>\n",
              "      <th>8</th>\n",
              "      <td>Account_Name_1006</td>\n",
              "      <td>Opportunity_Name_12272</td>\n",
              "      <td>Closed Lost</td>\n",
              "      <td>1</td>\n",
              "    </tr>\n",
              "    <tr>\n",
              "      <th>9</th>\n",
              "      <td>Account_Name_1006</td>\n",
              "      <td>Opportunity_Name_1632</td>\n",
              "      <td>Closed Lost</td>\n",
              "      <td>1</td>\n",
              "    </tr>\n",
              "    <tr>\n",
              "      <th>10</th>\n",
              "      <td>Account_Name_1006</td>\n",
              "      <td>Opportunity_Name_333</td>\n",
              "      <td>Closed Lost</td>\n",
              "      <td>1</td>\n",
              "    </tr>\n",
              "    <tr>\n",
              "      <th>11</th>\n",
              "      <td>Account_Name_1006</td>\n",
              "      <td>Opportunity_Name_618</td>\n",
              "      <td>Closed Won</td>\n",
              "      <td>1</td>\n",
              "    </tr>\n",
              "    <tr>\n",
              "      <th>12</th>\n",
              "      <td>Account_Name_1006</td>\n",
              "      <td>Opportunity_Name_7063</td>\n",
              "      <td>Closed Lost</td>\n",
              "      <td>1</td>\n",
              "    </tr>\n",
              "    <tr>\n",
              "      <th>13</th>\n",
              "      <td>Account_Name_1006</td>\n",
              "      <td>Opportunity_Name_9909</td>\n",
              "      <td>Closed Lost</td>\n",
              "      <td>1</td>\n",
              "    </tr>\n",
              "    <tr>\n",
              "      <th>14</th>\n",
              "      <td>Account_Name_1007</td>\n",
              "      <td>Opportunity_Name_7576</td>\n",
              "      <td>Closed Lost</td>\n",
              "      <td>1</td>\n",
              "    </tr>\n",
              "    <tr>\n",
              "      <th>15</th>\n",
              "      <td>Account_Name_1008</td>\n",
              "      <td>Opportunity_Name_3929</td>\n",
              "      <td>Closed Lost</td>\n",
              "      <td>1</td>\n",
              "    </tr>\n",
              "    <tr>\n",
              "      <th>16</th>\n",
              "      <td>Account_Name_1009</td>\n",
              "      <td>Opportunity_Name_10857</td>\n",
              "      <td>Closed Lost</td>\n",
              "      <td>1</td>\n",
              "    </tr>\n",
              "    <tr>\n",
              "      <th>17</th>\n",
              "      <td>Account_Name_101</td>\n",
              "      <td>Opportunity_Name_2264</td>\n",
              "      <td>Closed Lost</td>\n",
              "      <td>1</td>\n",
              "    </tr>\n",
              "    <tr>\n",
              "      <th>18</th>\n",
              "      <td>Account_Name_101</td>\n",
              "      <td>Opportunity_Name_2265</td>\n",
              "      <td>Closed Lost</td>\n",
              "      <td>1</td>\n",
              "    </tr>\n",
              "    <tr>\n",
              "      <th>19</th>\n",
              "      <td>Account_Name_1010</td>\n",
              "      <td>Opportunity_Name_6218</td>\n",
              "      <td>Closed Lost</td>\n",
              "      <td>1</td>\n",
              "    </tr>\n",
              "  </tbody>\n",
              "</table>\n",
              "</div>"
            ],
            "text/plain": [
              "         Account_Name        Opportunity_Name        Stage  Cantidad\n",
              "0      Account_Name_0   Opportunity_Name_7547   Closed Won         1\n",
              "1      Account_Name_1  Opportunity_Name_11763  Closed Lost         1\n",
              "2     Account_Name_10    Opportunity_Name_870  Closed Lost         1\n",
              "3    Account_Name_100   Opportunity_Name_2262   Closed Won         1\n",
              "4   Account_Name_1000   Opportunity_Name_1582  Closed Lost         1\n",
              "5   Account_Name_1001   Opportunity_Name_6198   Closed Won         1\n",
              "6   Account_Name_1002   Opportunity_Name_6163   Closed Won         1\n",
              "7   Account_Name_1004   Opportunity_Name_6208  Closed Lost         1\n",
              "8   Account_Name_1006  Opportunity_Name_12272  Closed Lost         1\n",
              "9   Account_Name_1006   Opportunity_Name_1632  Closed Lost         1\n",
              "10  Account_Name_1006    Opportunity_Name_333  Closed Lost         1\n",
              "11  Account_Name_1006    Opportunity_Name_618   Closed Won         1\n",
              "12  Account_Name_1006   Opportunity_Name_7063  Closed Lost         1\n",
              "13  Account_Name_1006   Opportunity_Name_9909  Closed Lost         1\n",
              "14  Account_Name_1007   Opportunity_Name_7576  Closed Lost         1\n",
              "15  Account_Name_1008   Opportunity_Name_3929  Closed Lost         1\n",
              "16  Account_Name_1009  Opportunity_Name_10857  Closed Lost         1\n",
              "17   Account_Name_101   Opportunity_Name_2264  Closed Lost         1\n",
              "18   Account_Name_101   Opportunity_Name_2265  Closed Lost         1\n",
              "19  Account_Name_1010   Opportunity_Name_6218  Closed Lost         1"
            ]
          },
          "metadata": {
            "tags": []
          },
          "execution_count": 8
        }
      ]
    },
    {
      "cell_type": "code",
      "metadata": {
        "id": "09rCL9PPsweh",
        "outputId": "0e595e3e-39a1-434e-edc7-d48c45e5a6db",
        "colab": {
          "base_uri": "https://localhost:8080/",
          "height": 138
        }
      },
      "source": [
        "df_ganadas = pd.pivot_table(df_porciento, index=['Account_Name'], columns=['Stage'], fill_value=0)\n",
        "df_ganadas['Gano Mas'] = df_ganadas['Cantidad']['Closed Lost'] <= df_ganadas['Cantidad']['Closed Won']\n",
        "df_ganadas['Gano Mas'] = df_ganadas['Gano Mas'].astype(int)\n",
        "total = df_ganadas['Gano Mas'].size\n",
        "ganadoras = df_ganadas['Gano Mas'].sum()\n",
        "porcentaje = (ganadoras / total) * 100\n",
        "df_porcentaje_cuentas_ganadoras = pd.DataFrame({'Porcentaje': [porcentaje, 100-porcentaje], 'Indice': ['Mas Ganadas', 'Mas Perdidas']})\n",
        "df_porcentaje_cuentas_ganadoras = df_porcentaje_cuentas_ganadoras.set_index('Indice')\n",
        "df_porcentaje_cuentas_ganadoras"
      ],
      "execution_count": 9,
      "outputs": [
        {
          "output_type": "execute_result",
          "data": {
            "text/html": [
              "<div>\n",
              "<style scoped>\n",
              "    .dataframe tbody tr th:only-of-type {\n",
              "        vertical-align: middle;\n",
              "    }\n",
              "\n",
              "    .dataframe tbody tr th {\n",
              "        vertical-align: top;\n",
              "    }\n",
              "\n",
              "    .dataframe thead th {\n",
              "        text-align: right;\n",
              "    }\n",
              "</style>\n",
              "<table border=\"1\" class=\"dataframe\">\n",
              "  <thead>\n",
              "    <tr style=\"text-align: right;\">\n",
              "      <th></th>\n",
              "      <th>Porcentaje</th>\n",
              "    </tr>\n",
              "    <tr>\n",
              "      <th>Indice</th>\n",
              "      <th></th>\n",
              "    </tr>\n",
              "  </thead>\n",
              "  <tbody>\n",
              "    <tr>\n",
              "      <th>Mas Ganadas</th>\n",
              "      <td>41.17284</td>\n",
              "    </tr>\n",
              "    <tr>\n",
              "      <th>Mas Perdidas</th>\n",
              "      <td>58.82716</td>\n",
              "    </tr>\n",
              "  </tbody>\n",
              "</table>\n",
              "</div>"
            ],
            "text/plain": [
              "              Porcentaje\n",
              "Indice                  \n",
              "Mas Ganadas     41.17284\n",
              "Mas Perdidas    58.82716"
            ]
          },
          "metadata": {
            "tags": []
          },
          "execution_count": 9
        }
      ]
    },
    {
      "cell_type": "code",
      "metadata": {
        "id": "yNC1A1BLzb0O",
        "outputId": "5bee552a-5119-47e2-d30a-61b2e363b00e",
        "colab": {
          "base_uri": "https://localhost:8080/",
          "height": 447
        }
      },
      "source": [
        "pie, ax = plt.subplots(figsize=[10,6])\n",
        "label = df_porcentaje_cuentas_ganadoras.index\n",
        "plt.pie(x=df_porcentaje_cuentas_ganadoras, autopct=\"%.1f%%\", labels=label, pctdistance=0.5, textprops={'fontsize': 15})\n",
        "plt.title(\"Porcentaje de Cuentas con mas oportunidades Ganadas que Perdidas\", fontsize=20);"
      ],
      "execution_count": 17,
      "outputs": [
        {
          "output_type": "stream",
          "text": [
            "/usr/local/lib/python3.6/dist-packages/ipykernel_launcher.py:3: MatplotlibDeprecationWarning:\n",
            "\n",
            "Non-1D inputs to pie() are currently squeeze()d, but this behavior is deprecated since 3.1 and will be removed in 3.3; pass a 1D array instead.\n",
            "\n"
          ],
          "name": "stderr"
        },
        {
          "output_type": "display_data",
          "data": {
            "image/png": "[encoded data removed]",
            "text/plain": [
              "<Figure size 720x432 with 1 Axes>"
            ]
          },
          "metadata": {
            "tags": []
          }
        }
      ]
    },
    {
      "cell_type": "code",
      "metadata": {
        "id": "WrpH3M4UMsOh",
        "outputId": "c9b3cb6a-b28b-46b4-b7f6-ac79bb9a1156",
        "colab": {
          "base_uri": "https://localhost:8080/",
          "height": 491
        }
      },
      "source": [
        "df_porciento = df[['Opportunity_Name', 'Account_Name', 'Stage']]\n",
        "df_porciento = df_porciento.groupby(['Account_Name', 'Opportunity_Name', 'Stage']).agg(Cant=(\"Stage\", \"count\")).reset_index()\n",
        "df_porciento = df_porciento.drop(['Cant'], axis=1)\n",
        "df_porciento = df_porciento.drop(['Opportunity_Name'], axis=1)\n",
        "df_porciento[\"Cantidad\"] = 1\n",
        "df_porciento = df_porciento.pivot_table(index='Account_Name', columns='Stage', values='Cantidad', aggfunc='sum', fill_value=0)\n",
        "df_porciento['Total'] = df_porciento['Closed Won'] + df_porciento['Closed Lost']\n",
        "df_porciento = df_porciento[(df_porciento['Total'] >= 50)] #Me quedo con las cuentas que hayan concretado al menos 50 oportunidades\n",
        "df_porciento[\"Porcentaje Won\"] = (df_porciento[\"Closed Won\"] / df_porciento[\"Total\"]) * 100\n",
        "df_porciento[\"Porcentaje Lost\"] = (df_porciento[\"Closed Lost\"] / df_porciento[\"Total\"]) * 100\n",
        "df_porciento = df_porciento.nlargest(15, 'Porcentaje Won')\n",
        "df_porciento = df_porciento.reset_index()\n",
        "df_porciento = df_porciento.sort_values('Porcentaje Won')\n",
        "df_porciento"
      ],
      "execution_count": null,
      "outputs": [
        {
          "output_type": "execute_result",
          "data": {
            "text/html": [
              "<div>\n",
              "<style scoped>\n",
              "    .dataframe tbody tr th:only-of-type {\n",
              "        vertical-align: middle;\n",
              "    }\n",
              "\n",
              "    .dataframe tbody tr th {\n",
              "        vertical-align: top;\n",
              "    }\n",
              "\n",
              "    .dataframe thead th {\n",
              "        text-align: right;\n",
              "    }\n",
              "</style>\n",
              "<table border=\"1\" class=\"dataframe\">\n",
              "  <thead>\n",
              "    <tr style=\"text-align: right;\">\n",
              "      <th>Stage</th>\n",
              "      <th>Account_Name</th>\n",
              "      <th>Closed Lost</th>\n",
              "      <th>Closed Won</th>\n",
              "      <th>Total</th>\n",
              "      <th>Porcentaje Won</th>\n",
              "      <th>Porcentaje Lost</th>\n",
              "    </tr>\n",
              "  </thead>\n",
              "  <tbody>\n",
              "    <tr>\n",
              "      <th>14</th>\n",
              "      <td>Account_Name_263</td>\n",
              "      <td>29</td>\n",
              "      <td>102</td>\n",
              "      <td>131</td>\n",
              "      <td>77.862595</td>\n",
              "      <td>22.137405</td>\n",
              "    </tr>\n",
              "    <tr>\n",
              "      <th>13</th>\n",
              "      <td>Account_Name_25</td>\n",
              "      <td>78</td>\n",
              "      <td>277</td>\n",
              "      <td>355</td>\n",
              "      <td>78.028169</td>\n",
              "      <td>21.971831</td>\n",
              "    </tr>\n",
              "    <tr>\n",
              "      <th>12</th>\n",
              "      <td>Account_Name_702</td>\n",
              "      <td>15</td>\n",
              "      <td>54</td>\n",
              "      <td>69</td>\n",
              "      <td>78.260870</td>\n",
              "      <td>21.739130</td>\n",
              "    </tr>\n",
              "    <tr>\n",
              "      <th>11</th>\n",
              "      <td>Account_Name_1274</td>\n",
              "      <td>16</td>\n",
              "      <td>61</td>\n",
              "      <td>77</td>\n",
              "      <td>79.220779</td>\n",
              "      <td>20.779221</td>\n",
              "    </tr>\n",
              "    <tr>\n",
              "      <th>10</th>\n",
              "      <td>Account_Name_2037</td>\n",
              "      <td>12</td>\n",
              "      <td>46</td>\n",
              "      <td>58</td>\n",
              "      <td>79.310345</td>\n",
              "      <td>20.689655</td>\n",
              "    </tr>\n",
              "    <tr>\n",
              "      <th>9</th>\n",
              "      <td>Account_Name_1075</td>\n",
              "      <td>16</td>\n",
              "      <td>67</td>\n",
              "      <td>83</td>\n",
              "      <td>80.722892</td>\n",
              "      <td>19.277108</td>\n",
              "    </tr>\n",
              "    <tr>\n",
              "      <th>8</th>\n",
              "      <td>Account_Name_1794</td>\n",
              "      <td>14</td>\n",
              "      <td>65</td>\n",
              "      <td>79</td>\n",
              "      <td>82.278481</td>\n",
              "      <td>17.721519</td>\n",
              "    </tr>\n",
              "    <tr>\n",
              "      <th>7</th>\n",
              "      <td>Account_Name_1991</td>\n",
              "      <td>61</td>\n",
              "      <td>329</td>\n",
              "      <td>390</td>\n",
              "      <td>84.358974</td>\n",
              "      <td>15.641026</td>\n",
              "    </tr>\n",
              "    <tr>\n",
              "      <th>6</th>\n",
              "      <td>Account_Name_1994</td>\n",
              "      <td>13</td>\n",
              "      <td>72</td>\n",
              "      <td>85</td>\n",
              "      <td>84.705882</td>\n",
              "      <td>15.294118</td>\n",
              "    </tr>\n",
              "    <tr>\n",
              "      <th>5</th>\n",
              "      <td>Account_Name_1508</td>\n",
              "      <td>19</td>\n",
              "      <td>106</td>\n",
              "      <td>125</td>\n",
              "      <td>84.800000</td>\n",
              "      <td>15.200000</td>\n",
              "    </tr>\n",
              "    <tr>\n",
              "      <th>4</th>\n",
              "      <td>Account_Name_1448</td>\n",
              "      <td>11</td>\n",
              "      <td>63</td>\n",
              "      <td>74</td>\n",
              "      <td>85.135135</td>\n",
              "      <td>14.864865</td>\n",
              "    </tr>\n",
              "    <tr>\n",
              "      <th>3</th>\n",
              "      <td>Account_Name_1836</td>\n",
              "      <td>19</td>\n",
              "      <td>141</td>\n",
              "      <td>160</td>\n",
              "      <td>88.125000</td>\n",
              "      <td>11.875000</td>\n",
              "    </tr>\n",
              "    <tr>\n",
              "      <th>2</th>\n",
              "      <td>Account_Name_1693</td>\n",
              "      <td>7</td>\n",
              "      <td>58</td>\n",
              "      <td>65</td>\n",
              "      <td>89.230769</td>\n",
              "      <td>10.769231</td>\n",
              "    </tr>\n",
              "    <tr>\n",
              "      <th>1</th>\n",
              "      <td>Account_Name_1440</td>\n",
              "      <td>19</td>\n",
              "      <td>177</td>\n",
              "      <td>196</td>\n",
              "      <td>90.306122</td>\n",
              "      <td>9.693878</td>\n",
              "    </tr>\n",
              "    <tr>\n",
              "      <th>0</th>\n",
              "      <td>Account_Name_1411</td>\n",
              "      <td>6</td>\n",
              "      <td>58</td>\n",
              "      <td>64</td>\n",
              "      <td>90.625000</td>\n",
              "      <td>9.375000</td>\n",
              "    </tr>\n",
              "  </tbody>\n",
              "</table>\n",
              "</div>"
            ],
            "text/plain": [
              "Stage       Account_Name  Closed Lost  ...  Porcentaje Won  Porcentaje Lost\n",
              "14      Account_Name_263           29  ...       77.862595        22.137405\n",
              "13       Account_Name_25           78  ...       78.028169        21.971831\n",
              "12      Account_Name_702           15  ...       78.260870        21.739130\n",
              "11     Account_Name_1274           16  ...       79.220779        20.779221\n",
              "10     Account_Name_2037           12  ...       79.310345        20.689655\n",
              "9      Account_Name_1075           16  ...       80.722892        19.277108\n",
              "8      Account_Name_1794           14  ...       82.278481        17.721519\n",
              "7      Account_Name_1991           61  ...       84.358974        15.641026\n",
              "6      Account_Name_1994           13  ...       84.705882        15.294118\n",
              "5      Account_Name_1508           19  ...       84.800000        15.200000\n",
              "4      Account_Name_1448           11  ...       85.135135        14.864865\n",
              "3      Account_Name_1836           19  ...       88.125000        11.875000\n",
              "2      Account_Name_1693            7  ...       89.230769        10.769231\n",
              "1      Account_Name_1440           19  ...       90.306122         9.693878\n",
              "0      Account_Name_1411            6  ...       90.625000         9.375000\n",
              "\n",
              "[15 rows x 6 columns]"
            ]
          },
          "metadata": {
            "tags": []
          },
          "execution_count": 72
        }
      ]
    },
    {
      "cell_type": "code",
      "metadata": {
        "id": "B4dHJ0S7LAL7",
        "outputId": "8ddf7df0-55ac-483b-c48e-0dfa1467f722",
        "colab": {
          "base_uri": "https://localhost:8080/",
          "height": 632
        }
      },
      "source": [
        "ax = df_porciento.plot(stacked=True, kind='barh', y=['Porcentaje Won', 'Porcentaje Lost'], x='Account_Name', figsize=(15,10))\n",
        "ax.set_title(\"15 Cuentas con mayor porcentaje de Closed Won\", fontsize=20)\n",
        "ax.set_xlabel(\"Porcentaje(%)\",fontsize=15)\n",
        "ax.set_ylabel(\"Account Names\", fontsize=15) \n",
        "plt.show()"
      ],
      "execution_count": null,
      "outputs": [
        {
          "output_type": "display_data",
          "data": {
            "image/png": "[encoded data removed]",
            "text/plain": [
              "<Figure size 1080x720 with 1 Axes>"
            ]
          },
          "metadata": {
            "tags": [],
            "needs_background": "light"
          }
        }
      ]
    },
    {
      "cell_type": "code",
      "metadata": {
        "id": "q2_2ML0m5CPi",
        "outputId": "9e40fa9c-a149-4d4b-abce-3de6e8092e89",
        "colab": {
          "base_uri": "https://localhost:8080/",
          "height": 740
        }
      },
      "source": [
        "df_source = df[['Stage', 'Source ', 'Opportunity_Name']]\n",
        "df_source = df_source.drop(df_source[df_source['Source ']=='None'].index) #Borro los que decian None\n",
        "df_source = df_source.groupby(['Source ', 'Stage']).agg(cant=('Stage', 'size')).reset_index()\n",
        "df_source"
      ],
      "execution_count": 19,
      "outputs": [
        {
          "output_type": "execute_result",
          "data": {
            "text/html": [
              "<div>\n",
              "<style scoped>\n",
              "    .dataframe tbody tr th:only-of-type {\n",
              "        vertical-align: middle;\n",
              "    }\n",
              "\n",
              "    .dataframe tbody tr th {\n",
              "        vertical-align: top;\n",
              "    }\n",
              "\n",
              "    .dataframe thead th {\n",
              "        text-align: right;\n",
              "    }\n",
              "</style>\n",
              "<table border=\"1\" class=\"dataframe\">\n",
              "  <thead>\n",
              "    <tr style=\"text-align: right;\">\n",
              "      <th></th>\n",
              "      <th>Source</th>\n",
              "      <th>Stage</th>\n",
              "      <th>cant</th>\n",
              "    </tr>\n",
              "  </thead>\n",
              "  <tbody>\n",
              "    <tr>\n",
              "      <th>0</th>\n",
              "      <td>Source_0</td>\n",
              "      <td>Closed Lost</td>\n",
              "      <td>7</td>\n",
              "    </tr>\n",
              "    <tr>\n",
              "      <th>1</th>\n",
              "      <td>Source_1</td>\n",
              "      <td>Closed Lost</td>\n",
              "      <td>89</td>\n",
              "    </tr>\n",
              "    <tr>\n",
              "      <th>2</th>\n",
              "      <td>Source_1</td>\n",
              "      <td>Closed Won</td>\n",
              "      <td>48</td>\n",
              "    </tr>\n",
              "    <tr>\n",
              "      <th>3</th>\n",
              "      <td>Source_10</td>\n",
              "      <td>Closed Lost</td>\n",
              "      <td>70</td>\n",
              "    </tr>\n",
              "    <tr>\n",
              "      <th>4</th>\n",
              "      <td>Source_10</td>\n",
              "      <td>Closed Won</td>\n",
              "      <td>36</td>\n",
              "    </tr>\n",
              "    <tr>\n",
              "      <th>5</th>\n",
              "      <td>Source_11</td>\n",
              "      <td>Closed Lost</td>\n",
              "      <td>505</td>\n",
              "    </tr>\n",
              "    <tr>\n",
              "      <th>6</th>\n",
              "      <td>Source_11</td>\n",
              "      <td>Closed Won</td>\n",
              "      <td>916</td>\n",
              "    </tr>\n",
              "    <tr>\n",
              "      <th>7</th>\n",
              "      <td>Source_12</td>\n",
              "      <td>Closed Lost</td>\n",
              "      <td>2</td>\n",
              "    </tr>\n",
              "    <tr>\n",
              "      <th>8</th>\n",
              "      <td>Source_13</td>\n",
              "      <td>Closed Lost</td>\n",
              "      <td>196</td>\n",
              "    </tr>\n",
              "    <tr>\n",
              "      <th>9</th>\n",
              "      <td>Source_13</td>\n",
              "      <td>Closed Won</td>\n",
              "      <td>587</td>\n",
              "    </tr>\n",
              "    <tr>\n",
              "      <th>10</th>\n",
              "      <td>Source_2</td>\n",
              "      <td>Closed Lost</td>\n",
              "      <td>56</td>\n",
              "    </tr>\n",
              "    <tr>\n",
              "      <th>11</th>\n",
              "      <td>Source_2</td>\n",
              "      <td>Closed Won</td>\n",
              "      <td>30</td>\n",
              "    </tr>\n",
              "    <tr>\n",
              "      <th>12</th>\n",
              "      <td>Source_3</td>\n",
              "      <td>Closed Lost</td>\n",
              "      <td>205</td>\n",
              "    </tr>\n",
              "    <tr>\n",
              "      <th>13</th>\n",
              "      <td>Source_3</td>\n",
              "      <td>Closed Won</td>\n",
              "      <td>210</td>\n",
              "    </tr>\n",
              "    <tr>\n",
              "      <th>14</th>\n",
              "      <td>Source_4</td>\n",
              "      <td>Closed Lost</td>\n",
              "      <td>24</td>\n",
              "    </tr>\n",
              "    <tr>\n",
              "      <th>15</th>\n",
              "      <td>Source_4</td>\n",
              "      <td>Closed Won</td>\n",
              "      <td>19</td>\n",
              "    </tr>\n",
              "    <tr>\n",
              "      <th>16</th>\n",
              "      <td>Source_5</td>\n",
              "      <td>Closed Lost</td>\n",
              "      <td>1</td>\n",
              "    </tr>\n",
              "    <tr>\n",
              "      <th>17</th>\n",
              "      <td>Source_6</td>\n",
              "      <td>Closed Lost</td>\n",
              "      <td>14</td>\n",
              "    </tr>\n",
              "    <tr>\n",
              "      <th>18</th>\n",
              "      <td>Source_6</td>\n",
              "      <td>Closed Won</td>\n",
              "      <td>5</td>\n",
              "    </tr>\n",
              "    <tr>\n",
              "      <th>19</th>\n",
              "      <td>Source_7</td>\n",
              "      <td>Closed Lost</td>\n",
              "      <td>1559</td>\n",
              "    </tr>\n",
              "    <tr>\n",
              "      <th>20</th>\n",
              "      <td>Source_7</td>\n",
              "      <td>Closed Won</td>\n",
              "      <td>1393</td>\n",
              "    </tr>\n",
              "    <tr>\n",
              "      <th>21</th>\n",
              "      <td>Source_9</td>\n",
              "      <td>Closed Lost</td>\n",
              "      <td>618</td>\n",
              "    </tr>\n",
              "    <tr>\n",
              "      <th>22</th>\n",
              "      <td>Source_9</td>\n",
              "      <td>Closed Won</td>\n",
              "      <td>839</td>\n",
              "    </tr>\n",
              "  </tbody>\n",
              "</table>\n",
              "</div>"
            ],
            "text/plain": [
              "      Source         Stage  cant\n",
              "0    Source_0  Closed Lost     7\n",
              "1    Source_1  Closed Lost    89\n",
              "2    Source_1   Closed Won    48\n",
              "3   Source_10  Closed Lost    70\n",
              "4   Source_10   Closed Won    36\n",
              "5   Source_11  Closed Lost   505\n",
              "6   Source_11   Closed Won   916\n",
              "7   Source_12  Closed Lost     2\n",
              "8   Source_13  Closed Lost   196\n",
              "9   Source_13   Closed Won   587\n",
              "10   Source_2  Closed Lost    56\n",
              "11   Source_2   Closed Won    30\n",
              "12   Source_3  Closed Lost   205\n",
              "13   Source_3   Closed Won   210\n",
              "14   Source_4  Closed Lost    24\n",
              "15   Source_4   Closed Won    19\n",
              "16   Source_5  Closed Lost     1\n",
              "17   Source_6  Closed Lost    14\n",
              "18   Source_6   Closed Won     5\n",
              "19   Source_7  Closed Lost  1559\n",
              "20   Source_7   Closed Won  1393\n",
              "21   Source_9  Closed Lost   618\n",
              "22   Source_9   Closed Won   839"
            ]
          },
          "metadata": {
            "tags": []
          },
          "execution_count": 19
        }
      ]
    },
    {
      "cell_type": "code",
      "metadata": {
        "id": "2yzg5mVC9gcG",
        "outputId": "fd051ac7-1f36-42f8-ed6b-148867450674",
        "colab": {
          "base_uri": "https://localhost:8080/",
          "height": 704
        }
      },
      "source": [
        "fig, ax = plt.subplots(figsize=(14,11))\n",
        "df_graph= df_source\n",
        "g = sns.barplot(x=df_graph['Source '], y=df_graph['cant'], hue='Stage',data=df_graph,ax=ax)\n",
        "g.set_title(\"Cantidad de Closed Won y Lost segun su Source \", fontsize=20)\n",
        "g.set_xlabel(\"Sources\", fontsize=15)\n",
        "g.set_ylabel(\"Cantidad de oportunidades por Source\", fontsize=15)\n",
        "g.plot()"
      ],
      "execution_count": 20,
      "outputs": [
        {
          "output_type": "execute_result",
          "data": {
            "text/plain": [
              "[]"
            ]
          },
          "metadata": {
            "tags": []
          },
          "execution_count": 20
        },
        {
          "output_type": "display_data",
          "data": {
            "image/png": "[encoded data removed]",
            "text/plain": [
              "<Figure size 1008x792 with 1 Axes>"
            ]
          },
          "metadata": {
            "tags": [],
            "needs_background": "light"
          }
        }
      ]
    },
    {
      "cell_type": "code",
      "metadata": {
        "id": "yvplfRzA-8cM",
        "outputId": "04f886c7-650e-4480-e4d1-b3b9cd2ccfbc",
        "colab": {
          "base_uri": "https://localhost:8080/",
          "height": 408
        }
      },
      "source": [
        "df_account_types = df[[\"Account_Type\", \"Opportunity_Name\", \"Stage\"]]\n",
        "index_names = df_account_types[df_account_types['Account_Type'] == 'None' ].index\n",
        "df_account_types = df_account_types.drop(index_names)\n",
        "df_account_types = df_account_types.groupby(['Account_Type']).filter(lambda x: x['Account_Type'].count() > 200)\n",
        "df_account_types = df_account_types.groupby(['Account_Type', 'Opportunity_Name', 'Stage']).agg(Cantid=(\"Stage\", \"count\")).reset_index()\n",
        "df_account_types = df_account_types.drop(['Cantid'], axis=1)\n",
        "df_account_types[\"Cantidad\"] = 1\n",
        "df_account_types"
      ],
      "execution_count": null,
      "outputs": [
        {
          "output_type": "execute_result",
          "data": {
            "text/html": [
              "<div>\n",
              "<style scoped>\n",
              "    .dataframe tbody tr th:only-of-type {\n",
              "        vertical-align: middle;\n",
              "    }\n",
              "\n",
              "    .dataframe tbody tr th {\n",
              "        vertical-align: top;\n",
              "    }\n",
              "\n",
              "    .dataframe thead th {\n",
              "        text-align: right;\n",
              "    }\n",
              "</style>\n",
              "<table border=\"1\" class=\"dataframe\">\n",
              "  <thead>\n",
              "    <tr style=\"text-align: right;\">\n",
              "      <th></th>\n",
              "      <th>Account_Type</th>\n",
              "      <th>Opportunity_Name</th>\n",
              "      <th>Stage</th>\n",
              "      <th>Cantidad</th>\n",
              "    </tr>\n",
              "  </thead>\n",
              "  <tbody>\n",
              "    <tr>\n",
              "      <th>0</th>\n",
              "      <td>Account_Type_0</td>\n",
              "      <td>Opportunity_Name_0</td>\n",
              "      <td>Closed Lost</td>\n",
              "      <td>1</td>\n",
              "    </tr>\n",
              "    <tr>\n",
              "      <th>1</th>\n",
              "      <td>Account_Type_0</td>\n",
              "      <td>Opportunity_Name_10026</td>\n",
              "      <td>Closed Lost</td>\n",
              "      <td>1</td>\n",
              "    </tr>\n",
              "    <tr>\n",
              "      <th>2</th>\n",
              "      <td>Account_Type_0</td>\n",
              "      <td>Opportunity_Name_10035</td>\n",
              "      <td>Closed Lost</td>\n",
              "      <td>1</td>\n",
              "    </tr>\n",
              "    <tr>\n",
              "      <th>3</th>\n",
              "      <td>Account_Type_0</td>\n",
              "      <td>Opportunity_Name_10055</td>\n",
              "      <td>Closed Won</td>\n",
              "      <td>1</td>\n",
              "    </tr>\n",
              "    <tr>\n",
              "      <th>4</th>\n",
              "      <td>Account_Type_0</td>\n",
              "      <td>Opportunity_Name_10103</td>\n",
              "      <td>Closed Won</td>\n",
              "      <td>1</td>\n",
              "    </tr>\n",
              "    <tr>\n",
              "      <th>...</th>\n",
              "      <td>...</td>\n",
              "      <td>...</td>\n",
              "      <td>...</td>\n",
              "      <td>...</td>\n",
              "    </tr>\n",
              "    <tr>\n",
              "      <th>9534</th>\n",
              "      <td>Account_Type_5</td>\n",
              "      <td>Opportunity_Name_9913</td>\n",
              "      <td>Closed Lost</td>\n",
              "      <td>1</td>\n",
              "    </tr>\n",
              "    <tr>\n",
              "      <th>9535</th>\n",
              "      <td>Account_Type_5</td>\n",
              "      <td>Opportunity_Name_9914</td>\n",
              "      <td>Closed Lost</td>\n",
              "      <td>1</td>\n",
              "    </tr>\n",
              "    <tr>\n",
              "      <th>9536</th>\n",
              "      <td>Account_Type_5</td>\n",
              "      <td>Opportunity_Name_9915</td>\n",
              "      <td>Closed Lost</td>\n",
              "      <td>1</td>\n",
              "    </tr>\n",
              "    <tr>\n",
              "      <th>9537</th>\n",
              "      <td>Account_Type_5</td>\n",
              "      <td>Opportunity_Name_992</td>\n",
              "      <td>Closed Won</td>\n",
              "      <td>1</td>\n",
              "    </tr>\n",
              "    <tr>\n",
              "      <th>9538</th>\n",
              "      <td>Account_Type_5</td>\n",
              "      <td>Opportunity_Name_994</td>\n",
              "      <td>Closed Lost</td>\n",
              "      <td>1</td>\n",
              "    </tr>\n",
              "  </tbody>\n",
              "</table>\n",
              "<p>9539 rows × 4 columns</p>\n",
              "</div>"
            ],
            "text/plain": [
              "        Account_Type        Opportunity_Name        Stage  Cantidad\n",
              "0     Account_Type_0      Opportunity_Name_0  Closed Lost         1\n",
              "1     Account_Type_0  Opportunity_Name_10026  Closed Lost         1\n",
              "2     Account_Type_0  Opportunity_Name_10035  Closed Lost         1\n",
              "3     Account_Type_0  Opportunity_Name_10055   Closed Won         1\n",
              "4     Account_Type_0  Opportunity_Name_10103   Closed Won         1\n",
              "...              ...                     ...          ...       ...\n",
              "9534  Account_Type_5   Opportunity_Name_9913  Closed Lost         1\n",
              "9535  Account_Type_5   Opportunity_Name_9914  Closed Lost         1\n",
              "9536  Account_Type_5   Opportunity_Name_9915  Closed Lost         1\n",
              "9537  Account_Type_5    Opportunity_Name_992   Closed Won         1\n",
              "9538  Account_Type_5    Opportunity_Name_994  Closed Lost         1\n",
              "\n",
              "[9539 rows x 4 columns]"
            ]
          },
          "metadata": {
            "tags": []
          },
          "execution_count": 387
        }
      ]
    },
    {
      "cell_type": "code",
      "metadata": {
        "id": "_4Cr5nUVLwpP",
        "outputId": "4c7af056-0d2f-481c-fff7-83d93b9f5987",
        "colab": {
          "base_uri": "https://localhost:8080/",
          "height": 228
        }
      },
      "source": [
        "df_graph = df_account_types.groupby(['Account_Type', 'Stage']).agg(Tot=('Cantidad', 'count'))\n",
        "df_graph = df_graph.reset_index()\n",
        "df_graph"
      ],
      "execution_count": null,
      "outputs": [
        {
          "output_type": "execute_result",
          "data": {
            "text/html": [
              "<div>\n",
              "<style scoped>\n",
              "    .dataframe tbody tr th:only-of-type {\n",
              "        vertical-align: middle;\n",
              "    }\n",
              "\n",
              "    .dataframe tbody tr th {\n",
              "        vertical-align: top;\n",
              "    }\n",
              "\n",
              "    .dataframe thead th {\n",
              "        text-align: right;\n",
              "    }\n",
              "</style>\n",
              "<table border=\"1\" class=\"dataframe\">\n",
              "  <thead>\n",
              "    <tr style=\"text-align: right;\">\n",
              "      <th></th>\n",
              "      <th>Account_Type</th>\n",
              "      <th>Stage</th>\n",
              "      <th>Tot</th>\n",
              "    </tr>\n",
              "  </thead>\n",
              "  <tbody>\n",
              "    <tr>\n",
              "      <th>0</th>\n",
              "      <td>Account_Type_0</td>\n",
              "      <td>Closed Lost</td>\n",
              "      <td>1086</td>\n",
              "    </tr>\n",
              "    <tr>\n",
              "      <th>1</th>\n",
              "      <td>Account_Type_0</td>\n",
              "      <td>Closed Won</td>\n",
              "      <td>2332</td>\n",
              "    </tr>\n",
              "    <tr>\n",
              "      <th>2</th>\n",
              "      <td>Account_Type_2</td>\n",
              "      <td>Closed Lost</td>\n",
              "      <td>2394</td>\n",
              "    </tr>\n",
              "    <tr>\n",
              "      <th>3</th>\n",
              "      <td>Account_Type_2</td>\n",
              "      <td>Closed Won</td>\n",
              "      <td>2282</td>\n",
              "    </tr>\n",
              "    <tr>\n",
              "      <th>4</th>\n",
              "      <td>Account_Type_5</td>\n",
              "      <td>Closed Lost</td>\n",
              "      <td>1013</td>\n",
              "    </tr>\n",
              "    <tr>\n",
              "      <th>5</th>\n",
              "      <td>Account_Type_5</td>\n",
              "      <td>Closed Won</td>\n",
              "      <td>432</td>\n",
              "    </tr>\n",
              "  </tbody>\n",
              "</table>\n",
              "</div>"
            ],
            "text/plain": [
              "     Account_Type        Stage   Tot\n",
              "0  Account_Type_0  Closed Lost  1086\n",
              "1  Account_Type_0   Closed Won  2332\n",
              "2  Account_Type_2  Closed Lost  2394\n",
              "3  Account_Type_2   Closed Won  2282\n",
              "4  Account_Type_5  Closed Lost  1013\n",
              "5  Account_Type_5   Closed Won   432"
            ]
          },
          "metadata": {
            "tags": []
          },
          "execution_count": 388
        }
      ]
    },
    {
      "cell_type": "code",
      "metadata": {
        "id": "gHruFmGyN8Xe",
        "outputId": "d9e63fc0-7f9a-497c-b4e0-376281f59118",
        "colab": {
          "base_uri": "https://localhost:8080/",
          "height": 704
        }
      },
      "source": [
        "fig, ax = plt.subplots(figsize=(14,11))\n",
        "g = sns.barplot(x=df_graph['Account_Type'], y=df_graph['Tot'], hue='Stage',data=df_graph,ax=ax)\n",
        "g.set_title(\"Cantidad de Close Won y Close Lost segun Account_Type\", fontsize=20)\n",
        "g.set_xlabel(\"Account Types\", fontsize=15)\n",
        "g.set_ylabel(\"Cantidad de oportunidades\", fontsize=15)\n",
        "g.plot()"
      ],
      "execution_count": null,
      "outputs": [
        {
          "output_type": "execute_result",
          "data": {
            "text/plain": [
              "[]"
            ]
          },
          "metadata": {
            "tags": []
          },
          "execution_count": 389
        },
        {
          "output_type": "display_data",
          "data": {
            "image/png": "[encoded data removed]",
            "text/plain": [
              "<Figure size 1008x792 with 1 Axes>"
            ]
          },
          "metadata": {
            "tags": [],
            "needs_background": "light"
          }
        }
      ]
    },
    {
      "cell_type": "code",
      "metadata": {
        "id": "uUhew62iX8sw",
        "outputId": "49c6f914-9fc6-422f-b94d-23d7633925cd",
        "colab": {
          "base_uri": "https://localhost:8080/",
          "height": 408
        }
      },
      "source": [
        "df_op_type = df[['Opportunity_Type', 'Stage', 'Opportunity_Name']]\n",
        "df_op_type = df_op_type.groupby(['Opportunity_Type']).filter(lambda x: x['Opportunity_Type'].count() > 500)\n",
        "df_op_type = df_op_type.groupby(['Opportunity_Type', 'Opportunity_Name', 'Stage']).agg(Cantid=('Stage', 'count')).reset_index()\n",
        "df_op_type = df_op_type.drop(['Cantid'], axis=1)\n",
        "df_op_type[\"Cantidad\"] = 1\n",
        "df_op_type = df_op_type[['Opportunity_Type', 'Stage', 'Cantidad']]\n",
        "df_op_type"
      ],
      "execution_count": null,
      "outputs": [
        {
          "output_type": "execute_result",
          "data": {
            "text/html": [
              "<div>\n",
              "<style scoped>\n",
              "    .dataframe tbody tr th:only-of-type {\n",
              "        vertical-align: middle;\n",
              "    }\n",
              "\n",
              "    .dataframe tbody tr th {\n",
              "        vertical-align: top;\n",
              "    }\n",
              "\n",
              "    .dataframe thead th {\n",
              "        text-align: right;\n",
              "    }\n",
              "</style>\n",
              "<table border=\"1\" class=\"dataframe\">\n",
              "  <thead>\n",
              "    <tr style=\"text-align: right;\">\n",
              "      <th></th>\n",
              "      <th>Opportunity_Type</th>\n",
              "      <th>Stage</th>\n",
              "      <th>Cantidad</th>\n",
              "    </tr>\n",
              "  </thead>\n",
              "  <tbody>\n",
              "    <tr>\n",
              "      <th>0</th>\n",
              "      <td>Opportunity_Type_1</td>\n",
              "      <td>Closed Won</td>\n",
              "      <td>1</td>\n",
              "    </tr>\n",
              "    <tr>\n",
              "      <th>1</th>\n",
              "      <td>Opportunity_Type_1</td>\n",
              "      <td>Closed Lost</td>\n",
              "      <td>1</td>\n",
              "    </tr>\n",
              "    <tr>\n",
              "      <th>2</th>\n",
              "      <td>Opportunity_Type_1</td>\n",
              "      <td>Closed Won</td>\n",
              "      <td>1</td>\n",
              "    </tr>\n",
              "    <tr>\n",
              "      <th>3</th>\n",
              "      <td>Opportunity_Type_1</td>\n",
              "      <td>Closed Lost</td>\n",
              "      <td>1</td>\n",
              "    </tr>\n",
              "    <tr>\n",
              "      <th>4</th>\n",
              "      <td>Opportunity_Type_1</td>\n",
              "      <td>Closed Lost</td>\n",
              "      <td>1</td>\n",
              "    </tr>\n",
              "    <tr>\n",
              "      <th>...</th>\n",
              "      <td>...</td>\n",
              "      <td>...</td>\n",
              "      <td>...</td>\n",
              "    </tr>\n",
              "    <tr>\n",
              "      <th>9130</th>\n",
              "      <td>Opportunity_Type_8</td>\n",
              "      <td>Closed Won</td>\n",
              "      <td>1</td>\n",
              "    </tr>\n",
              "    <tr>\n",
              "      <th>9131</th>\n",
              "      <td>Opportunity_Type_8</td>\n",
              "      <td>Closed Won</td>\n",
              "      <td>1</td>\n",
              "    </tr>\n",
              "    <tr>\n",
              "      <th>9132</th>\n",
              "      <td>Opportunity_Type_8</td>\n",
              "      <td>Closed Won</td>\n",
              "      <td>1</td>\n",
              "    </tr>\n",
              "    <tr>\n",
              "      <th>9133</th>\n",
              "      <td>Opportunity_Type_8</td>\n",
              "      <td>Closed Won</td>\n",
              "      <td>1</td>\n",
              "    </tr>\n",
              "    <tr>\n",
              "      <th>9134</th>\n",
              "      <td>Opportunity_Type_8</td>\n",
              "      <td>Closed Won</td>\n",
              "      <td>1</td>\n",
              "    </tr>\n",
              "  </tbody>\n",
              "</table>\n",
              "<p>9135 rows × 3 columns</p>\n",
              "</div>"
            ],
            "text/plain": [
              "        Opportunity_Type        Stage  Cantidad\n",
              "0     Opportunity_Type_1   Closed Won         1\n",
              "1     Opportunity_Type_1  Closed Lost         1\n",
              "2     Opportunity_Type_1   Closed Won         1\n",
              "3     Opportunity_Type_1  Closed Lost         1\n",
              "4     Opportunity_Type_1  Closed Lost         1\n",
              "...                  ...          ...       ...\n",
              "9130  Opportunity_Type_8   Closed Won         1\n",
              "9131  Opportunity_Type_8   Closed Won         1\n",
              "9132  Opportunity_Type_8   Closed Won         1\n",
              "9133  Opportunity_Type_8   Closed Won         1\n",
              "9134  Opportunity_Type_8   Closed Won         1\n",
              "\n",
              "[9135 rows x 3 columns]"
            ]
          },
          "metadata": {
            "tags": []
          },
          "execution_count": 377
        }
      ]
    },
    {
      "cell_type": "code",
      "metadata": {
        "id": "qKo8dyCudTLz",
        "outputId": "4ca62c95-b78d-4f00-9a82-de341b684007",
        "colab": {
          "base_uri": "https://localhost:8080/",
          "height": 168
        }
      },
      "source": [
        "df_graph = df_op_type.groupby(['Opportunity_Type', 'Stage']).agg(Tot=('Cantidad', 'sum'))\n",
        "df_graph = df_graph.reset_index()\n",
        "pivoted = df_graph.pivot(index = 'Opportunity_Type', columns = 'Stage', values = 'Tot')\n",
        "pivoted = pivoted.reset_index()\n",
        "pivoted"
      ],
      "execution_count": null,
      "outputs": [
        {
          "output_type": "execute_result",
          "data": {
            "text/html": [
              "<div>\n",
              "<style scoped>\n",
              "    .dataframe tbody tr th:only-of-type {\n",
              "        vertical-align: middle;\n",
              "    }\n",
              "\n",
              "    .dataframe tbody tr th {\n",
              "        vertical-align: top;\n",
              "    }\n",
              "\n",
              "    .dataframe thead th {\n",
              "        text-align: right;\n",
              "    }\n",
              "</style>\n",
              "<table border=\"1\" class=\"dataframe\">\n",
              "  <thead>\n",
              "    <tr style=\"text-align: right;\">\n",
              "      <th>Stage</th>\n",
              "      <th>Opportunity_Type</th>\n",
              "      <th>Closed Lost</th>\n",
              "      <th>Closed Won</th>\n",
              "    </tr>\n",
              "  </thead>\n",
              "  <tbody>\n",
              "    <tr>\n",
              "      <th>0</th>\n",
              "      <td>Opportunity_Type_1</td>\n",
              "      <td>2460</td>\n",
              "      <td>2668</td>\n",
              "    </tr>\n",
              "    <tr>\n",
              "      <th>1</th>\n",
              "      <td>Opportunity_Type_19</td>\n",
              "      <td>1075</td>\n",
              "      <td>202</td>\n",
              "    </tr>\n",
              "    <tr>\n",
              "      <th>2</th>\n",
              "      <td>Opportunity_Type_7</td>\n",
              "      <td>622</td>\n",
              "      <td>1373</td>\n",
              "    </tr>\n",
              "    <tr>\n",
              "      <th>3</th>\n",
              "      <td>Opportunity_Type_8</td>\n",
              "      <td>219</td>\n",
              "      <td>516</td>\n",
              "    </tr>\n",
              "  </tbody>\n",
              "</table>\n",
              "</div>"
            ],
            "text/plain": [
              "Stage     Opportunity_Type  Closed Lost  Closed Won\n",
              "0       Opportunity_Type_1         2460        2668\n",
              "1      Opportunity_Type_19         1075         202\n",
              "2       Opportunity_Type_7          622        1373\n",
              "3       Opportunity_Type_8          219         516"
            ]
          },
          "metadata": {
            "tags": []
          },
          "execution_count": 378
        }
      ]
    },
    {
      "cell_type": "code",
      "metadata": {
        "id": "87Dqghnzbp7y",
        "outputId": "99f33e5c-545d-4971-ab62-82577f6868b0",
        "colab": {
          "base_uri": "https://localhost:8080/",
          "height": 704
        }
      },
      "source": [
        "ax = pivoted.plot(stacked=True, kind='bar', y=['Closed Won', 'Closed Lost'], x='Opportunity_Type', figsize=(15,10), rot=45)\n",
        "ax.set_title(\"Cantidad de Closed Won y Closed Lost segun Opportunity Type\", fontsize=20)\n",
        "ax.set_xlabel(\"Opportunity Types\",fontsize=15)\n",
        "ax.set_ylabel(\"Cantidad\", fontsize=15) \n",
        "plt.show()"
      ],
      "execution_count": null,
      "outputs": [
        {
          "output_type": "display_data",
          "data": {
            "image/png": "[encoded data removed]",
            "text/plain": [
              "<Figure size 1080x720 with 1 Axes>"
            ]
          },
          "metadata": {
            "tags": [],
            "needs_background": "light"
          }
        }
      ]
    },
    {
      "cell_type": "code",
      "metadata": {
        "id": "zMJSZa1qPR6r",
        "outputId": "cc3ebb5c-3f9a-403b-954f-5859c0092afc",
        "colab": {
          "base_uri": "https://localhost:8080/",
          "height": 108
        }
      },
      "source": [
        "df_tiempo = df[['Account_Name', 'Account_Created_Date', 'Opportunity_Name' , 'Opportunity_Created_Date', 'Stage']]\n",
        "df_tiempo = df_tiempo[df_tiempo['Stage'] == 'Closed Won']\n",
        "df_dias = df_tiempo.groupby(['Account_Name', 'Account_Created_Date']).agg({'Opportunity_Created_Date' : 'min'}).reset_index()\n",
        "df_dias['Diff'] = df_dias['Opportunity_Created_Date'] - df_dias['Account_Created_Date']\n",
        "df_dias = df_dias.drop(df_dias[df_dias['Diff'].dt.days < 0].index) #Elimino aquellas con dia de creacion menor a primera oportunidad\n",
        "df_dias['Diff'] = df_dias['Diff'].dt.days\n",
        "df_dias = df_dias.value_counts('Diff').reset_index()\n",
        "df_dias = df_dias.rename(columns={0:'Cantidad'})\n",
        "df_dias['Porcentaje'] = (df_dias['Cantidad'] / df_dias['Cantidad'].sum()) * 100\n",
        "#df_dias = df_dias.sort_values('Diff')\n",
        "df_dias['Menor a 31 dias'] = df_dias['Diff'] <= 30\n",
        "df_dias = df_dias.groupby('Menor a 31 dias').agg({'Cantidad':'sum'}).reset_index()\n",
        "df_dias = df_dias.replace({True: \"Menor o Igual a 30 dias\", False: \"Mayor a 30 dias\"})\n",
        "df_dias"
      ],
      "execution_count": 21,
      "outputs": [
        {
          "output_type": "execute_result",
          "data": {
            "text/html": [
              "<div>\n",
              "<style scoped>\n",
              "    .dataframe tbody tr th:only-of-type {\n",
              "        vertical-align: middle;\n",
              "    }\n",
              "\n",
              "    .dataframe tbody tr th {\n",
              "        vertical-align: top;\n",
              "    }\n",
              "\n",
              "    .dataframe thead th {\n",
              "        text-align: right;\n",
              "    }\n",
              "</style>\n",
              "<table border=\"1\" class=\"dataframe\">\n",
              "  <thead>\n",
              "    <tr style=\"text-align: right;\">\n",
              "      <th></th>\n",
              "      <th>Menor a 31 dias</th>\n",
              "      <th>Cantidad</th>\n",
              "    </tr>\n",
              "  </thead>\n",
              "  <tbody>\n",
              "    <tr>\n",
              "      <th>0</th>\n",
              "      <td>Mayor a 30 dias</td>\n",
              "      <td>283</td>\n",
              "    </tr>\n",
              "    <tr>\n",
              "      <th>1</th>\n",
              "      <td>Menor o Igual a 30 dias</td>\n",
              "      <td>351</td>\n",
              "    </tr>\n",
              "  </tbody>\n",
              "</table>\n",
              "</div>"
            ],
            "text/plain": [
              "           Menor a 31 dias  Cantidad\n",
              "0          Mayor a 30 dias       283\n",
              "1  Menor o Igual a 30 dias       351"
            ]
          },
          "metadata": {
            "tags": []
          },
          "execution_count": 21
        }
      ]
    },
    {
      "cell_type": "code",
      "metadata": {
        "id": "n2mBAUkVfnBV",
        "outputId": "5f4ebc35-636f-4a76-aa00-a1db88bdae52",
        "colab": {
          "base_uri": "https://localhost:8080/",
          "height": 269
        }
      },
      "source": [
        "labels = df_dias['Menor a 31 dias']\n",
        "sizes = df_dias['Cantidad']\n",
        "explode = [0.01, 0.02]\n",
        "fig1, ax1 = plt.subplots()\n",
        "ax1.pie(sizes, labels=labels, autopct='%1.1f%%',\n",
        "        shadow=True, startangle=90, textprops={'fontsize': 15})\n",
        "ax1.axis('equal')  # Equal aspect ratio ensures that pie is drawn as a circle.\n",
        "ax1.set_title(\"Tiempo que tarda una cuenta desde que se crea hasta que tiene su primer Closed Won\", fontsize=20)\n",
        "plt.show()"
      ],
      "execution_count": 24,
      "outputs": [
        {
          "output_type": "display_data",
          "data": {
            "image/png": "[encoded data removed]",
            "text/plain": [
              "<Figure size 432x288 with 1 Axes>"
            ]
          },
          "metadata": {
            "tags": []
          }
        }
      ]
    },
    {
      "cell_type": "code",
      "metadata": {
        "id": "SrOCv2dflFb_",
        "outputId": "22b19da4-c5fc-40fb-908c-c606bcff23f5",
        "colab": {
          "base_uri": "https://localhost:8080/",
          "height": 168
        }
      },
      "source": [
        "df_product = df[['Product_Name', 'Region','Opportunity_Name', 'Stage']]\n",
        "df_product = df_product.groupby(['Product_Name', 'Region', 'Stage']).agg('count').reset_index().pivot_table(index=['Product_Name', 'Region'], columns='Stage', values='Opportunity_Name', fill_value=0).reset_index()\n",
        "df_product['Total'] = df_product['Closed Won'] + df_product['Closed Lost']\n",
        "df_product = df_product.drop(df_product[df_product['Total'] <= 100].index)\n",
        "df_product['Porcentaje Closed Won'] = (df_product['Closed Won'] / df_product['Total']) * 100\n",
        "df_product = df_product[['Region', 'Product_Name', 'Closed Lost', 'Closed Won', 'Total', 'Porcentaje Closed Won']]\n",
        "df_product_2 = df_product.groupby(['Region']).agg({'Porcentaje Closed Won' : 'max'})\n",
        "df_product = df_product.merge(df_product_2)\n",
        "df_product"
      ],
      "execution_count": null,
      "outputs": [
        {
          "output_type": "execute_result",
          "data": {
            "text/html": [
              "<div>\n",
              "<style scoped>\n",
              "    .dataframe tbody tr th:only-of-type {\n",
              "        vertical-align: middle;\n",
              "    }\n",
              "\n",
              "    .dataframe tbody tr th {\n",
              "        vertical-align: top;\n",
              "    }\n",
              "\n",
              "    .dataframe thead th {\n",
              "        text-align: right;\n",
              "    }\n",
              "</style>\n",
              "<table border=\"1\" class=\"dataframe\">\n",
              "  <thead>\n",
              "    <tr style=\"text-align: right;\">\n",
              "      <th></th>\n",
              "      <th>Region</th>\n",
              "      <th>Product_Name</th>\n",
              "      <th>Closed Lost</th>\n",
              "      <th>Closed Won</th>\n",
              "      <th>Total</th>\n",
              "      <th>Porcentaje Closed Won</th>\n",
              "    </tr>\n",
              "  </thead>\n",
              "  <tbody>\n",
              "    <tr>\n",
              "      <th>0</th>\n",
              "      <td>APAC</td>\n",
              "      <td>Product_Name_192</td>\n",
              "      <td>11</td>\n",
              "      <td>96</td>\n",
              "      <td>107</td>\n",
              "      <td>89.719626</td>\n",
              "    </tr>\n",
              "    <tr>\n",
              "      <th>1</th>\n",
              "      <td>Americas</td>\n",
              "      <td>Product_Name_226</td>\n",
              "      <td>88</td>\n",
              "      <td>245</td>\n",
              "      <td>333</td>\n",
              "      <td>73.573574</td>\n",
              "    </tr>\n",
              "    <tr>\n",
              "      <th>2</th>\n",
              "      <td>EMEA</td>\n",
              "      <td>Product_Name_226</td>\n",
              "      <td>48</td>\n",
              "      <td>284</td>\n",
              "      <td>332</td>\n",
              "      <td>85.542169</td>\n",
              "    </tr>\n",
              "    <tr>\n",
              "      <th>3</th>\n",
              "      <td>Japan</td>\n",
              "      <td>Product_Name_24</td>\n",
              "      <td>2</td>\n",
              "      <td>165</td>\n",
              "      <td>167</td>\n",
              "      <td>98.802395</td>\n",
              "    </tr>\n",
              "  </tbody>\n",
              "</table>\n",
              "</div>"
            ],
            "text/plain": [
              "     Region      Product_Name  ...  Total  Porcentaje Closed Won\n",
              "0      APAC  Product_Name_192  ...    107              89.719626\n",
              "1  Americas  Product_Name_226  ...    333              73.573574\n",
              "2      EMEA  Product_Name_226  ...    332              85.542169\n",
              "3     Japan   Product_Name_24  ...    167              98.802395\n",
              "\n",
              "[4 rows x 6 columns]"
            ]
          },
          "metadata": {
            "tags": []
          },
          "execution_count": 351
        }
      ]
    },
    {
      "cell_type": "code",
      "metadata": {
        "id": "MnBeNxTaI58a",
        "outputId": "5f177513-a2b7-401e-8a43-ecb876079829",
        "colab": {
          "base_uri": "https://localhost:8080/",
          "height": 649
        }
      },
      "source": [
        "label = df_product['Product_Name']\n",
        "ax = df_product.plot(kind='barh', y='Porcentaje Closed Won', x='Region', figsize=(15,10))\n",
        "for i, s in enumerate(label):\n",
        "    ax.text(i + 3, i + .025, str(s), color='black', fontsize='15')\n",
        "ax.set_title(\"Producto con Mayor porcentaje de Closed Won para cada Region\", fontsize=20)\n",
        "ax.set_xlabel(\"Porcentaje(%)\",fontsize=15)\n",
        "ax.set_ylabel(\"Region\", fontsize=15) \n",
        "ax.plot()"
      ],
      "execution_count": null,
      "outputs": [
        {
          "output_type": "execute_result",
          "data": {
            "text/plain": [
              "[]"
            ]
          },
          "metadata": {
            "tags": []
          },
          "execution_count": 352
        },
        {
          "output_type": "display_data",
          "data": {
            "image/png": "[encoded data removed]",
            "text/plain": [
              "<Figure size 1080x720 with 1 Axes>"
            ]
          },
          "metadata": {
            "tags": [],
            "needs_background": "light"
          }
        }
      ]
    },
    {
      "cell_type": "code",
      "metadata": {
        "id": "XGvrV1KoN0V-",
        "outputId": "94939daa-fdfc-4356-e51b-1b6f3a5a506b",
        "colab": {
          "base_uri": "https://localhost:8080/",
          "height": 349
        }
      },
      "source": [
        "df_product_name = df[['Product_Name','Opportunity_Name', 'Stage']]\n",
        "df_product_name = df_product_name.groupby(['Product_Name', 'Stage']).agg('count').reset_index().pivot_table(index=['Product_Name'], columns=['Stage'], values='Opportunity_Name', fill_value=0).reset_index()\n",
        "df_product_name['Total'] = df_product_name['Closed Won'] + df_product_name['Closed Lost']\n",
        "df_product_name = df_product_name.drop(df_product_name[df_product_name['Total'] <= 100].index)\n",
        "df_product_name['Porcentaje'] = (df_product_name['Closed Won'] / df_product_name['Total']) * 100\n",
        "df_product_name = df_product_name.nlargest(10, 'Porcentaje')\n",
        "df_product_name = df_product_name[['Product_Name', 'Porcentaje']]\n",
        "df_product_name"
      ],
      "execution_count": null,
      "outputs": [
        {
          "output_type": "execute_result",
          "data": {
            "text/html": [
              "<div>\n",
              "<style scoped>\n",
              "    .dataframe tbody tr th:only-of-type {\n",
              "        vertical-align: middle;\n",
              "    }\n",
              "\n",
              "    .dataframe tbody tr th {\n",
              "        vertical-align: top;\n",
              "    }\n",
              "\n",
              "    .dataframe thead th {\n",
              "        text-align: right;\n",
              "    }\n",
              "</style>\n",
              "<table border=\"1\" class=\"dataframe\">\n",
              "  <thead>\n",
              "    <tr style=\"text-align: right;\">\n",
              "      <th>Stage</th>\n",
              "      <th>Product_Name</th>\n",
              "      <th>Porcentaje</th>\n",
              "    </tr>\n",
              "  </thead>\n",
              "  <tbody>\n",
              "    <tr>\n",
              "      <th>151</th>\n",
              "      <td>Product_Name_24</td>\n",
              "      <td>98.802395</td>\n",
              "    </tr>\n",
              "    <tr>\n",
              "      <th>110</th>\n",
              "      <td>Product_Name_20</td>\n",
              "      <td>92.857143</td>\n",
              "    </tr>\n",
              "    <tr>\n",
              "      <th>101</th>\n",
              "      <td>Product_Name_192</td>\n",
              "      <td>83.031674</td>\n",
              "    </tr>\n",
              "    <tr>\n",
              "      <th>73</th>\n",
              "      <td>Product_Name_167</td>\n",
              "      <td>81.081081</td>\n",
              "    </tr>\n",
              "    <tr>\n",
              "      <th>138</th>\n",
              "      <td>Product_Name_226</td>\n",
              "      <td>80.980861</td>\n",
              "    </tr>\n",
              "    <tr>\n",
              "      <th>430</th>\n",
              "      <td>Product_Name_85</td>\n",
              "      <td>80.379747</td>\n",
              "    </tr>\n",
              "    <tr>\n",
              "      <th>372</th>\n",
              "      <td>Product_Name_495</td>\n",
              "      <td>79.714286</td>\n",
              "    </tr>\n",
              "    <tr>\n",
              "      <th>120</th>\n",
              "      <td>Product_Name_209</td>\n",
              "      <td>77.700348</td>\n",
              "    </tr>\n",
              "    <tr>\n",
              "      <th>153</th>\n",
              "      <td>Product_Name_241</td>\n",
              "      <td>75.235110</td>\n",
              "    </tr>\n",
              "    <tr>\n",
              "      <th>144</th>\n",
              "      <td>Product_Name_231</td>\n",
              "      <td>74.870017</td>\n",
              "    </tr>\n",
              "  </tbody>\n",
              "</table>\n",
              "</div>"
            ],
            "text/plain": [
              "Stage      Product_Name  Porcentaje\n",
              "151     Product_Name_24   98.802395\n",
              "110     Product_Name_20   92.857143\n",
              "101    Product_Name_192   83.031674\n",
              "73     Product_Name_167   81.081081\n",
              "138    Product_Name_226   80.980861\n",
              "430     Product_Name_85   80.379747\n",
              "372    Product_Name_495   79.714286\n",
              "120    Product_Name_209   77.700348\n",
              "153    Product_Name_241   75.235110\n",
              "144    Product_Name_231   74.870017"
            ]
          },
          "metadata": {
            "tags": []
          },
          "execution_count": 355
        }
      ]
    },
    {
      "cell_type": "code",
      "metadata": {
        "id": "fLS91d2PX9cV",
        "outputId": "c97d18d0-eda3-44b6-b9b2-1c7c975824a6",
        "colab": {
          "base_uri": "https://localhost:8080/",
          "height": 686
        }
      },
      "source": [
        "df_product_name.plot(kind=\"bar\", rot = 35, figsize = (14,10), x = 'Product_Name', y = 'Porcentaje')\n",
        "ax = plt.gca()\n",
        "ax.set_ylabel(\"Porcentaje(%)\", fontsize = 15)\n",
        "ax.set_xlabel(\"Product Names\", fontsize = 15)\n",
        "ax.get_legend().remove()\n",
        "plt.title(\"10 Productos con mayor porcentaje de Closed Won\", fontsize = 20)\n",
        "plt.show()"
      ],
      "execution_count": null,
      "outputs": [
        {
          "output_type": "display_data",
          "data": {
            "image/png": "[encoded data removed]",
            "text/plain": [
              "<Figure size 1008x720 with 1 Axes>"
            ]
          },
          "metadata": {
            "tags": [],
            "needs_background": "light"
          }
        }
      ]
    },
    {
      "cell_type": "code",
      "metadata": {
        "id": "aXfWmfXYbSPi",
        "outputId": "9e5177d3-e3c0-4558-ae7c-b4e4808ce301",
        "colab": {
          "base_uri": "https://localhost:8080/",
          "height": 168
        }
      },
      "source": [
        "df_peor = df[['Territory', 'Account_Name', 'Opportunity_Name', 'Stage']]\n",
        "df_peor = df_peor.drop(df_peor[df_peor['Territory'] == 'None'].index)\n",
        "df_peor = df_peor.groupby(['Territory', 'Account_Name', 'Stage', 'Opportunity_Name']).agg(Cant=('Opportunity_Name', 'count')).reset_index()\n",
        "df_peor = df_peor.drop(['Cant'], axis=1)\n",
        "df_peor[\"Cantidad\"] = 1\n",
        "df_peor = df_peor.pivot_table(index=['Territory', 'Account_Name'], columns='Stage', values='Cantidad', fill_value=0, aggfunc='sum').reset_index()\n",
        "df_peor['Total'] = df_peor['Closed Lost'] + df_peor['Closed Won']\n",
        "df_peor = df_peor.drop(df_peor[df_peor['Total'] <= 100].index)\n",
        "df_peor['Porcentaje'] = (df_peor['Closed Won'] / df_peor['Total']) * 100\n",
        "df_peor_2 = df_peor.groupby(['Territory']).agg({'Porcentaje' : 'min'})\n",
        "df_peor = df_peor.merge(df_peor_2)\n",
        "df_peor = df_peor.sort_values('Porcentaje')\n",
        "df_peor"
      ],
      "execution_count": null,
      "outputs": [
        {
          "output_type": "execute_result",
          "data": {
            "text/html": [
              "<div>\n",
              "<style scoped>\n",
              "    .dataframe tbody tr th:only-of-type {\n",
              "        vertical-align: middle;\n",
              "    }\n",
              "\n",
              "    .dataframe tbody tr th {\n",
              "        vertical-align: top;\n",
              "    }\n",
              "\n",
              "    .dataframe thead th {\n",
              "        text-align: right;\n",
              "    }\n",
              "</style>\n",
              "<table border=\"1\" class=\"dataframe\">\n",
              "  <thead>\n",
              "    <tr style=\"text-align: right;\">\n",
              "      <th></th>\n",
              "      <th>Territory</th>\n",
              "      <th>Account_Name</th>\n",
              "      <th>Closed Lost</th>\n",
              "      <th>Closed Won</th>\n",
              "      <th>Total</th>\n",
              "      <th>Porcentaje</th>\n",
              "    </tr>\n",
              "  </thead>\n",
              "  <tbody>\n",
              "    <tr>\n",
              "      <th>1</th>\n",
              "      <td>Germany</td>\n",
              "      <td>Account_Name_533</td>\n",
              "      <td>65</td>\n",
              "      <td>95</td>\n",
              "      <td>160</td>\n",
              "      <td>59.375000</td>\n",
              "    </tr>\n",
              "    <tr>\n",
              "      <th>0</th>\n",
              "      <td>Australia</td>\n",
              "      <td>Account_Name_1642</td>\n",
              "      <td>51</td>\n",
              "      <td>111</td>\n",
              "      <td>162</td>\n",
              "      <td>68.518519</td>\n",
              "    </tr>\n",
              "    <tr>\n",
              "      <th>3</th>\n",
              "      <td>NW America</td>\n",
              "      <td>Account_Name_25</td>\n",
              "      <td>56</td>\n",
              "      <td>212</td>\n",
              "      <td>268</td>\n",
              "      <td>79.104478</td>\n",
              "    </tr>\n",
              "    <tr>\n",
              "      <th>2</th>\n",
              "      <td>Japan</td>\n",
              "      <td>Account_Name_1991</td>\n",
              "      <td>52</td>\n",
              "      <td>284</td>\n",
              "      <td>336</td>\n",
              "      <td>84.523810</td>\n",
              "    </tr>\n",
              "  </tbody>\n",
              "</table>\n",
              "</div>"
            ],
            "text/plain": [
              "    Territory       Account_Name  Closed Lost  Closed Won  Total  Porcentaje\n",
              "1     Germany   Account_Name_533           65          95    160   59.375000\n",
              "0   Australia  Account_Name_1642           51         111    162   68.518519\n",
              "3  NW America    Account_Name_25           56         212    268   79.104478\n",
              "2       Japan  Account_Name_1991           52         284    336   84.523810"
            ]
          },
          "metadata": {
            "tags": []
          },
          "execution_count": 492
        }
      ]
    },
    {
      "cell_type": "code",
      "metadata": {
        "id": "m2bKwnqRotRw",
        "outputId": "5399b6ca-a50e-4156-edbe-697a1d6ead67",
        "colab": {
          "base_uri": "https://localhost:8080/",
          "height": 649
        }
      },
      "source": [
        "label = df_peor['Account_Name']\n",
        "label2 = df_peor['Porcentaje']\n",
        "ax = df_peor.plot(kind='barh', y='Porcentaje', x='Territory', figsize=(16,10))\n",
        "for i, s in enumerate(label):\n",
        "    ax.text(i + 3, i + .0125, str(s), color='white', fontsize='15')\n",
        "for i, s in enumerate(label2):\n",
        "    ax.text(i + 25, i + .0125, str(np.round(s, 2)) + '%', color='white', fontsize='15')\n",
        "ax.set_title(\"Cuentas con Menor porcentaje de Closed Won en cada Territorio\", fontsize=20)\n",
        "ax.set_xlabel(\"Porcentaje(%)\",fontsize=15)\n",
        "ax.set_ylabel(\"Territory\", fontsize=15) \n",
        "ax.plot()"
      ],
      "execution_count": null,
      "outputs": [
        {
          "output_type": "execute_result",
          "data": {
            "text/plain": [
              "[]"
            ]
          },
          "metadata": {
            "tags": []
          },
          "execution_count": 493
        },
        {
          "output_type": "display_data",
          "data": {
            "image/png": "[encoded data removed]",
            "text/plain": [
              "<Figure size 1152x720 with 1 Axes>"
            ]
          },
          "metadata": {
            "tags": [],
            "needs_background": "light"
          }
        }
      ]
    },
    {
      "cell_type": "code",
      "metadata": {
        "id": "LcIipifBspfk",
        "outputId": "6567d24e-7ed4-4730-fd9d-fb0a32059f92",
        "colab": {
          "base_uri": "https://localhost:8080/",
          "height": 108
        }
      },
      "source": [
        "test = df[['Opportunity_Name', 'Stage', 'Pricing, Delivery_Terms_Quote_Appr']]\n",
        "test = test.groupby(['Pricing, Delivery_Terms_Quote_Appr', 'Stage', 'Opportunity_Name']).agg(Cant=('Opportunity_Name', 'count')).reset_index()\n",
        "test = test.drop(['Cant'], axis=1)\n",
        "test[\"Cantidad\"] = 1\n",
        "test = test = test.groupby(['Pricing, Delivery_Terms_Quote_Appr', 'Stage']).agg(Cant=('Cantidad', 'count')).reset_index()\n",
        "test = test.replace({0: \"NO necesita aprobacion especial\", 1: \"Necesita aprobacion especial\"})\n",
        "test = test.pivot(index='Pricing, Delivery_Terms_Quote_Appr', columns='Stage', values='Cant').reset_index()\n",
        "test"
      ],
      "execution_count": 25,
      "outputs": [
        {
          "output_type": "execute_result",
          "data": {
            "text/html": [
              "<div>\n",
              "<style scoped>\n",
              "    .dataframe tbody tr th:only-of-type {\n",
              "        vertical-align: middle;\n",
              "    }\n",
              "\n",
              "    .dataframe tbody tr th {\n",
              "        vertical-align: top;\n",
              "    }\n",
              "\n",
              "    .dataframe thead th {\n",
              "        text-align: right;\n",
              "    }\n",
              "</style>\n",
              "<table border=\"1\" class=\"dataframe\">\n",
              "  <thead>\n",
              "    <tr style=\"text-align: right;\">\n",
              "      <th>Stage</th>\n",
              "      <th>Pricing, Delivery_Terms_Quote_Appr</th>\n",
              "      <th>Closed Lost</th>\n",
              "      <th>Closed Won</th>\n",
              "    </tr>\n",
              "  </thead>\n",
              "  <tbody>\n",
              "    <tr>\n",
              "      <th>0</th>\n",
              "      <td>NO necesita aprobacion especial</td>\n",
              "      <td>880</td>\n",
              "      <td>1447</td>\n",
              "    </tr>\n",
              "    <tr>\n",
              "      <th>1</th>\n",
              "      <td>Necesita aprobacion especial</td>\n",
              "      <td>3839</td>\n",
              "      <td>3625</td>\n",
              "    </tr>\n",
              "  </tbody>\n",
              "</table>\n",
              "</div>"
            ],
            "text/plain": [
              "Stage Pricing, Delivery_Terms_Quote_Appr  Closed Lost  Closed Won\n",
              "0        NO necesita aprobacion especial          880        1447\n",
              "1           Necesita aprobacion especial         3839        3625"
            ]
          },
          "metadata": {
            "tags": []
          },
          "execution_count": 25
        }
      ]
    },
    {
      "cell_type": "code",
      "metadata": {
        "id": "tNETnnPE4tut",
        "outputId": "27afb1b7-090a-4360-98aa-4de45bbd8c3d",
        "colab": {
          "base_uri": "https://localhost:8080/",
          "height": 632
        }
      },
      "source": [
        "ax = test.plot(stacked=True, kind='bar', y=['Closed Won', 'Closed Lost'], x='Pricing, Delivery_Terms_Quote_Appr', figsize=(15,10), rot=0)\n",
        "ax.set_title(\"Cantidad de Closed Won y Closed Lost segun necesite Aprobacion Especial\", fontsize=20)\n",
        "ax.set_ylabel(\"Cantidad de Opportunities\",fontsize=15)\n",
        "ax.set_xlabel(\"Approval\",fontsize=15)\n",
        "plt.show()"
      ],
      "execution_count": 26,
      "outputs": [
        {
          "output_type": "display_data",
          "data": {
            "image/png": "[encoded data removed]",
            "text/plain": [
              "<Figure size 1080x720 with 1 Axes>"
            ]
          },
          "metadata": {
            "tags": [],
            "needs_background": "light"
          }
        }
      ]
    }
  ]
}