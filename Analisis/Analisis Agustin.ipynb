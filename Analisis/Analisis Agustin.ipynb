{
  "nbformat": 4,
  "nbformat_minor": 0,
  "metadata": {
    "colab": {
      "name": "Analisis Agustin.ipynb",
      "provenance": [],
      "collapsed_sections": []
    },
    "kernelspec": {
      "name": "python3",
      "display_name": "Python 3"
    }
  },
  "cells": [
    {
      "cell_type": "markdown",
      "metadata": {
        "id": "ySYfCRB31ffz"
      },
      "source": [
        "Instalar Pandas"
      ]
    },
    {
      "cell_type": "code",
      "metadata": {
        "id": "ngoKdHHP1hO2"
      },
      "source": [
        "!pip install pyspark\n",
        "!pip install -U -q PyDrive\n",
        "!apt install openjdk-8-jdk-headless -qq\n",
        "import os\n",
        "os.environ[\"JAVA_HOME\"] = \"/usr/lib/jvm/java-8-openjdk-amd64\""
      ],
      "execution_count": null,
      "outputs": []
    },
    {
      "cell_type": "code",
      "metadata": {
        "id": "yZiPB85BJ2k6"
      },
      "source": [
        "import matplotlib.pylab as plt\n",
        "import seaborn as sns"
      ],
      "execution_count": null,
      "outputs": []
    },
    {
      "cell_type": "markdown",
      "metadata": {
        "id": "D9dG6l_o1zZ0"
      },
      "source": [
        "Autentificar Usuario"
      ]
    },
    {
      "cell_type": "code",
      "metadata": {
        "id": "508PBhcN11_z"
      },
      "source": [
        "from pydrive.auth import GoogleAuth\n",
        "from pydrive.drive import GoogleDrive\n",
        "from google.colab import auth\n",
        "from oauth2client.client import GoogleCredentials\n",
        "\n",
        "#Authenticate and create the PyDrive client\n",
        "\n",
        "auth.authenticate_user()\n",
        "gauth = GoogleAuth()\n",
        "gauth.credentials = GoogleCredentials.get_application_default()\n",
        "drive = GoogleDrive(gauth)"
      ],
      "execution_count": null,
      "outputs": []
    },
    {
      "cell_type": "markdown",
      "metadata": {
        "id": "CUas2KEP17TF"
      },
      "source": [
        "Pandas"
      ]
    },
    {
      "cell_type": "code",
      "metadata": {
        "id": "xXFbdM3K2Apw"
      },
      "source": [
        "from pyspark.sql import *\n",
        "from pyspark.sql.functions import *\n",
        "from pyspark import SparkContext\n",
        "from pyspark.sql import SQLContext\n",
        "import pandas as pd\n",
        "import numpy as np"
      ],
      "execution_count": null,
      "outputs": []
    },
    {
      "cell_type": "code",
      "metadata": {
        "id": "3p5ksx9_2C7P",
        "outputId": "461f9446-59fd-4308-a181-4ecef7f90e00",
        "colab": {
          "base_uri": "https://localhost:8080/"
        }
      },
      "source": [
        "#Abro el archivo de datos\n",
        "archivo_datos = \"/content/drive/My Drive/TP1 Orga de Datos 2020/Entrenamieto_ECI_2020.csv\"\n",
        "df = pd.read_csv(archivo_datos)\n",
        "df.info()"
      ],
      "execution_count": null,
      "outputs": [
        {
          "output_type": "stream",
          "text": [
            "<class 'pandas.core.frame.DataFrame'>\n",
            "RangeIndex: 16947 entries, 0 to 16946\n",
            "Data columns (total 52 columns):\n",
            " #   Column                              Non-Null Count  Dtype  \n",
            "---  ------                              --------------  -----  \n",
            " 0   ID                                  16947 non-null  int64  \n",
            " 1   Region                              16947 non-null  object \n",
            " 2   Territory                           16947 non-null  object \n",
            " 3   Pricing, Delivery_Terms_Quote_Appr  16947 non-null  int64  \n",
            " 4   Pricing, Delivery_Terms_Approved    16947 non-null  int64  \n",
            " 5   Bureaucratic_Code_0_Approval        16947 non-null  int64  \n",
            " 6   Bureaucratic_Code_0_Approved        16947 non-null  int64  \n",
            " 7   Submitted_for_Approval              16947 non-null  int64  \n",
            " 8   Bureaucratic_Code                   16947 non-null  object \n",
            " 9   Account_Created_Date                16947 non-null  object \n",
            " 10  Source                              16947 non-null  object \n",
            " 11  Billing_Country                     16947 non-null  object \n",
            " 12  Account_Name                        16947 non-null  object \n",
            " 13  Opportunity_Name                    16947 non-null  object \n",
            " 14  Opportunity_ID                      16947 non-null  int64  \n",
            " 15  Sales_Contract_No                   16947 non-null  object \n",
            " 16  Account_Owner                       16947 non-null  object \n",
            " 17  Opportunity_Owner                   16947 non-null  object \n",
            " 18  Account_Type                        16947 non-null  object \n",
            " 19  Opportunity_Type                    16947 non-null  object \n",
            " 20  Quote_Type                          16947 non-null  object \n",
            " 21  Delivery_Terms                      16947 non-null  object \n",
            " 22  Opportunity_Created_Date            16947 non-null  object \n",
            " 23  Brand                               16947 non-null  object \n",
            " 24  Product_Type                        16947 non-null  object \n",
            " 25  Size                                16947 non-null  object \n",
            " 26  Product_Category_B                  16947 non-null  object \n",
            " 27  Price                               16947 non-null  object \n",
            " 28  Currency                            16947 non-null  object \n",
            " 29  Last_Activity                       16947 non-null  object \n",
            " 30  Quote_Expiry_Date                   16947 non-null  object \n",
            " 31  Last_Modified_Date                  16947 non-null  object \n",
            " 32  Last_Modified_By                    16947 non-null  object \n",
            " 33  Product_Family                      16947 non-null  object \n",
            " 34  Product_Name                        16947 non-null  object \n",
            " 35  ASP_Currency                        16947 non-null  object \n",
            " 36  ASP                                 13738 non-null  float64\n",
            " 37  ASP_(converted)_Currency            16947 non-null  object \n",
            " 38  ASP_(converted)                     13738 non-null  float64\n",
            " 39  Planned_Delivery_Start_Date         16947 non-null  object \n",
            " 40  Planned_Delivery_End_Date           16947 non-null  object \n",
            " 41  Month                               16947 non-null  object \n",
            " 42  Delivery_Quarter                    16947 non-null  object \n",
            " 43  Delivery_Year                       16947 non-null  int64  \n",
            " 44  Actual_Delivery_Date                16947 non-null  object \n",
            " 45  TRF                                 16947 non-null  int64  \n",
            " 46  Total_Amount_Currency               16947 non-null  object \n",
            " 47  Total_Amount                        16888 non-null  float64\n",
            " 48  Total_Taxable_Amount_Currency       16947 non-null  object \n",
            " 49  Total_Taxable_Amount                16947 non-null  float64\n",
            " 50  Stage                               16947 non-null  object \n",
            " 51  Prod_Category_A                     16947 non-null  object \n",
            "dtypes: float64(4), int64(9), object(39)\n",
            "memory usage: 6.7+ MB\n"
          ],
          "name": "stdout"
        }
      ]
    },
    {
      "cell_type": "code",
      "metadata": {
        "id": "L_WeIBum667P"
      },
      "source": [
        "df['Month'] = pd.to_datetime(df['Month'])\n",
        "df['anio'] = df['Month'].dt.year\n",
        "df['mes'] = df['Month'].dt.month\n",
        "df['Account_Created_Date'] = pd.to_datetime(df['Account_Created_Date'])\n",
        "df['Opportunity_Created_Date'] = pd.to_datetime(df['Opportunity_Created_Date'])"
      ],
      "execution_count": null,
      "outputs": []
    },
    {
      "cell_type": "code",
      "metadata": {
        "id": "xKfzYEtg7Hqx"
      },
      "source": [
        "#Me quedo solo con estos 2 stages, el resto tiene muy pocos datos\n",
        "df = df.loc[(df['Stage'] == 'Closed Lost' ) | (df['Stage'] == 'Closed Won'), : ]"
      ],
      "execution_count": null,
      "outputs": []
    },
    {
      "cell_type": "code",
      "metadata": {
        "id": "-og_4tKc8vOw",
        "outputId": "e9b04ab7-b26f-45fc-9d2b-3725ce554f5a",
        "colab": {
          "base_uri": "https://localhost:8080/"
        }
      },
      "source": [
        "df_brands = df['Brand']\n",
        "df_brands.value_counts()"
      ],
      "execution_count": null,
      "outputs": [
        {
          "output_type": "execute_result",
          "data": {
            "text/plain": [
              "None        15847\n",
              "Other         607\n",
              "Brand_9       140\n",
              "Brand_5        48\n",
              "Brand_24       38\n",
              "Brand_11       34\n",
              "Brand_25       24\n",
              "Brand_10       22\n",
              "Brand_22       20\n",
              "Brand_7        17\n",
              "Brand_13       17\n",
              "Brand_21       17\n",
              "Brand_23       10\n",
              "Brand_20       10\n",
              "Brand_27        5\n",
              "Brand_17        5\n",
              "Brand_4         4\n",
              "Brand_2         4\n",
              "Brand_0         4\n",
              "Brand_12        3\n",
              "Brand_16        2\n",
              "Brand_6         1\n",
              "Brand_3         1\n",
              "Brand_26        1\n",
              "Brand_1         1\n",
              "Brand_19        1\n",
              "Name: Brand, dtype: int64"
            ]
          },
          "metadata": {
            "tags": []
          },
          "execution_count": 7
        }
      ]
    },
    {
      "cell_type": "code",
      "metadata": {
        "id": "T7gcfHGoArLJ",
        "outputId": "ed95c542-1315-4f66-e80e-5156820da173",
        "colab": {
          "base_uri": "https://localhost:8080/"
        }
      },
      "source": [
        "df_ptype = df['Product_Type']\n",
        "df_ptype.value_counts()"
      ],
      "execution_count": null,
      "outputs": [
        {
          "output_type": "execute_result",
          "data": {
            "text/plain": [
              "None              15871\n",
              "Other               515\n",
              "Product_Type_3      179\n",
              "Product_Type_1      142\n",
              "Product_Type_0       94\n",
              "Product_Type_4       73\n",
              "Product_Type_2        9\n",
              "Name: Product_Type, dtype: int64"
            ]
          },
          "metadata": {
            "tags": []
          },
          "execution_count": 85
        }
      ]
    },
    {
      "cell_type": "markdown",
      "metadata": {
        "id": "wi5nGtS-AzJ7"
      },
      "source": [
        "Como podemos ver, la mayoria de las filas del df no tiene datos en la columna de Brand y Product_Type, por ende no se puede sacar informacion respecto a esos campos"
      ]
    },
    {
      "cell_type": "code",
      "metadata": {
        "id": "JUaOZQEbBXCn",
        "outputId": "f27bb435-4938-422d-f2c2-430a92007cfa",
        "colab": {
          "base_uri": "https://localhost:8080/",
          "height": 402
        }
      },
      "source": [
        "df_acount = df\n",
        "df_acount['Acount_Creation_Month'] = pd.DatetimeIndex(df_acount['Account_Created_Date']).month\n",
        "df_valores = df_acount.groupby(['Acount_Creation_Month']).size().reset_index(name='Cantidad_Cuentas_Creadas')\n",
        "df_valores"
      ],
      "execution_count": null,
      "outputs": [
        {
          "output_type": "execute_result",
          "data": {
            "text/html": [
              "<div>\n",
              "<style scoped>\n",
              "    .dataframe tbody tr th:only-of-type {\n",
              "        vertical-align: middle;\n",
              "    }\n",
              "\n",
              "    .dataframe tbody tr th {\n",
              "        vertical-align: top;\n",
              "    }\n",
              "\n",
              "    .dataframe thead th {\n",
              "        text-align: right;\n",
              "    }\n",
              "</style>\n",
              "<table border=\"1\" class=\"dataframe\">\n",
              "  <thead>\n",
              "    <tr style=\"text-align: right;\">\n",
              "      <th></th>\n",
              "      <th>Acount_Creation_Month</th>\n",
              "      <th>Cantidad_Cuentas_Creadas</th>\n",
              "    </tr>\n",
              "  </thead>\n",
              "  <tbody>\n",
              "    <tr>\n",
              "      <th>0</th>\n",
              "      <td>1</td>\n",
              "      <td>777</td>\n",
              "    </tr>\n",
              "    <tr>\n",
              "      <th>1</th>\n",
              "      <td>2</td>\n",
              "      <td>776</td>\n",
              "    </tr>\n",
              "    <tr>\n",
              "      <th>2</th>\n",
              "      <td>3</td>\n",
              "      <td>755</td>\n",
              "    </tr>\n",
              "    <tr>\n",
              "      <th>3</th>\n",
              "      <td>4</td>\n",
              "      <td>3658</td>\n",
              "    </tr>\n",
              "    <tr>\n",
              "      <th>4</th>\n",
              "      <td>5</td>\n",
              "      <td>769</td>\n",
              "    </tr>\n",
              "    <tr>\n",
              "      <th>5</th>\n",
              "      <td>6</td>\n",
              "      <td>1074</td>\n",
              "    </tr>\n",
              "    <tr>\n",
              "      <th>6</th>\n",
              "      <td>7</td>\n",
              "      <td>3745</td>\n",
              "    </tr>\n",
              "    <tr>\n",
              "      <th>7</th>\n",
              "      <td>8</td>\n",
              "      <td>812</td>\n",
              "    </tr>\n",
              "    <tr>\n",
              "      <th>8</th>\n",
              "      <td>9</td>\n",
              "      <td>2032</td>\n",
              "    </tr>\n",
              "    <tr>\n",
              "      <th>9</th>\n",
              "      <td>10</td>\n",
              "      <td>909</td>\n",
              "    </tr>\n",
              "    <tr>\n",
              "      <th>10</th>\n",
              "      <td>11</td>\n",
              "      <td>415</td>\n",
              "    </tr>\n",
              "    <tr>\n",
              "      <th>11</th>\n",
              "      <td>12</td>\n",
              "      <td>1161</td>\n",
              "    </tr>\n",
              "  </tbody>\n",
              "</table>\n",
              "</div>"
            ],
            "text/plain": [
              "    Acount_Creation_Month  Cantidad_Cuentas_Creadas\n",
              "0                       1                       777\n",
              "1                       2                       776\n",
              "2                       3                       755\n",
              "3                       4                      3658\n",
              "4                       5                       769\n",
              "5                       6                      1074\n",
              "6                       7                      3745\n",
              "7                       8                       812\n",
              "8                       9                      2032\n",
              "9                      10                       909\n",
              "10                     11                       415\n",
              "11                     12                      1161"
            ]
          },
          "metadata": {
            "tags": []
          },
          "execution_count": 180
        }
      ]
    },
    {
      "cell_type": "code",
      "metadata": {
        "id": "bDf4859yJkmF",
        "outputId": "3a79898f-e33f-4c52-de39-060448d919d3",
        "colab": {
          "base_uri": "https://localhost:8080/",
          "height": 704
        }
      },
      "source": [
        "fig, ax = plt.subplots(figsize = (12, 11))\n",
        "plt.xticks(np.arange(0, 13, 1)) #np.arange(min, max + 1, step)\n",
        "g=sns.barplot(data=df_valores, x=\"Acount_Creation_Month\", y=\"Cantidad_Cuentas_Creadas\", ax=ax)\n",
        "g.set_title(\"Cantidad de Cuentas Creadas por Mes\", fontsize = 22)\n",
        "g.set_xlabel(\"Mes\",fontsize=15)\n",
        "g.set_ylabel(\"Cantidad De Cuentas Creadas\", fontsize=15)"
      ],
      "execution_count": null,
      "outputs": [
        {
          "output_type": "execute_result",
          "data": {
            "text/plain": [
              "Text(0, 0.5, 'Cantidad De Cuentas Creadas')"
            ]
          },
          "metadata": {
            "tags": []
          },
          "execution_count": 185
        },
        {
          "output_type": "display_data",
          "data": {
            "image/png": "[encoded data removed]",
            "text/plain": [
              "<Figure size 864x792 with 1 Axes>"
            ]
          },
          "metadata": {
            "tags": [],
            "needs_background": "light"
          }
        }
      ]
    },
    {
      "cell_type": "code",
      "metadata": {
        "id": "07TPmJjEKoCX",
        "outputId": "1f55b547-87bb-4a13-ee9d-ca3209e5c621",
        "colab": {
          "base_uri": "https://localhost:8080/",
          "height": 225
        }
      },
      "source": [
        "df_anios = df\n",
        "df_anios['Acount_Creation_Year'] = pd.DatetimeIndex(df_anios['Account_Created_Date']).year\n",
        "df_val = df_anios.groupby(['Acount_Creation_Year']).size().reset_index(name='Cantidad_Cuentas_Creadas')\n",
        "df_val"
      ],
      "execution_count": null,
      "outputs": [
        {
          "output_type": "execute_result",
          "data": {
            "text/html": [
              "<div>\n",
              "<style scoped>\n",
              "    .dataframe tbody tr th:only-of-type {\n",
              "        vertical-align: middle;\n",
              "    }\n",
              "\n",
              "    .dataframe tbody tr th {\n",
              "        vertical-align: top;\n",
              "    }\n",
              "\n",
              "    .dataframe thead th {\n",
              "        text-align: right;\n",
              "    }\n",
              "</style>\n",
              "<table border=\"1\" class=\"dataframe\">\n",
              "  <thead>\n",
              "    <tr style=\"text-align: right;\">\n",
              "      <th></th>\n",
              "      <th>Acount_Creation_Year</th>\n",
              "      <th>Cantidad_Cuentas_Creadas</th>\n",
              "    </tr>\n",
              "  </thead>\n",
              "  <tbody>\n",
              "    <tr>\n",
              "      <th>0</th>\n",
              "      <td>2013</td>\n",
              "      <td>4550</td>\n",
              "    </tr>\n",
              "    <tr>\n",
              "      <th>1</th>\n",
              "      <td>2014</td>\n",
              "      <td>1381</td>\n",
              "    </tr>\n",
              "    <tr>\n",
              "      <th>2</th>\n",
              "      <td>2015</td>\n",
              "      <td>4927</td>\n",
              "    </tr>\n",
              "    <tr>\n",
              "      <th>3</th>\n",
              "      <td>2016</td>\n",
              "      <td>3115</td>\n",
              "    </tr>\n",
              "    <tr>\n",
              "      <th>4</th>\n",
              "      <td>2017</td>\n",
              "      <td>2210</td>\n",
              "    </tr>\n",
              "    <tr>\n",
              "      <th>5</th>\n",
              "      <td>2018</td>\n",
              "      <td>764</td>\n",
              "    </tr>\n",
              "  </tbody>\n",
              "</table>\n",
              "</div>"
            ],
            "text/plain": [
              "   Acount_Creation_Year  Cantidad_Cuentas_Creadas\n",
              "0                  2013                      4550\n",
              "1                  2014                      1381\n",
              "2                  2015                      4927\n",
              "3                  2016                      3115\n",
              "4                  2017                      2210\n",
              "5                  2018                       764"
            ]
          },
          "metadata": {
            "tags": []
          },
          "execution_count": 17
        }
      ]
    },
    {
      "cell_type": "code",
      "metadata": {
        "id": "lC6MuxHqMC-Y",
        "outputId": "e11cb1a1-193e-4ab0-ae63-bfed04925603",
        "colab": {
          "base_uri": "https://localhost:8080/",
          "height": 704
        }
      },
      "source": [
        "fig, ax = plt.subplots(figsize = (12, 11))\n",
        "#plt.xticks(np.arange(0, 13, 1)) #np.arange(min, max + 1, step)\n",
        "g=sns.barplot(data=df_val, x=\"Acount_Creation_Year\", y=\"Cantidad_Cuentas_Creadas\", ax=ax)\n",
        "g.set_title(\"Cantidad de Cuentas Creadas por Anio\", fontsize = 22)\n",
        "g.set_xlabel(\"Anio\", fontsize=15)\n",
        "g.set_ylabel(\"Cantidad De Cuentas Creadas\", fontsize=15)"
      ],
      "execution_count": null,
      "outputs": [
        {
          "output_type": "execute_result",
          "data": {
            "text/plain": [
              "Text(0, 0.5, 'Cantidad De Cuentas Creadas')"
            ]
          },
          "metadata": {
            "tags": []
          },
          "execution_count": 177
        },
        {
          "output_type": "display_data",
          "data": {
            "image/png": "[encoded data removed]",
            "text/plain": [
              "<Figure size 864x792 with 1 Axes>"
            ]
          },
          "metadata": {
            "tags": [],
            "needs_background": "light"
          }
        }
      ]
    },
    {
      "cell_type": "code",
      "metadata": {
        "id": "BwxVsUutNnrF",
        "outputId": "0d84fac7-8b06-457c-faba-d9e85c14ff8a",
        "colab": {
          "base_uri": "https://localhost:8080/",
          "height": 402
        }
      },
      "source": [
        "df_tiempo = df[['Opportunity_Name', 'Account_Created_Date', 'Account_Name', 'Opportunity_Created_Date', 'Stage']]\n",
        "#df_tiempo[\"Tiempo_Desde_Creacion_Hasta_Primera_Oportunidad\"] = df_tiempo[\"Opportunity_Created_Date\"] - df_tiempo[\"Account_Created_Date\"]\n",
        "df_dias = df_tiempo.groupby(['Account_Name', 'Account_Created_Date'])['Opportunity_Created_Date'].min().reset_index()\n",
        "df_dias['Diff'] = df_dias['Opportunity_Created_Date'] - df_dias['Account_Created_Date']\n",
        "df_dias = df_dias.drop(df_dias[df_dias['Diff'].dt.days < 0].index) #Elimino aquellas con dia de creacion menor a primera oportunidad\n",
        "df_dias['Diff'] = df_dias['Diff'].dt.days\n",
        "df_dias = df_dias.value_counts('Diff').reset_index()\n",
        "df_dias = df_dias.rename(columns={0:'Cantidad'})\n",
        "df_dias['Porcentaje'] = (df_dias['Cantidad'] / df_dias['Cantidad'].sum()) * 100\n",
        "df_dias = df_dias.sort_values('Diff')\n",
        "df_dias"
      ],
      "execution_count": null,
      "outputs": [
        {
          "output_type": "execute_result",
          "data": {
            "text/html": [
              "<div>\n",
              "<style scoped>\n",
              "    .dataframe tbody tr th:only-of-type {\n",
              "        vertical-align: middle;\n",
              "    }\n",
              "\n",
              "    .dataframe tbody tr th {\n",
              "        vertical-align: top;\n",
              "    }\n",
              "\n",
              "    .dataframe thead th {\n",
              "        text-align: right;\n",
              "    }\n",
              "</style>\n",
              "<table border=\"1\" class=\"dataframe\">\n",
              "  <thead>\n",
              "    <tr style=\"text-align: right;\">\n",
              "      <th></th>\n",
              "      <th>Diff</th>\n",
              "      <th>Cantidad</th>\n",
              "      <th>Porcentaje</th>\n",
              "    </tr>\n",
              "  </thead>\n",
              "  <tbody>\n",
              "    <tr>\n",
              "      <th>0</th>\n",
              "      <td>0</td>\n",
              "      <td>1065</td>\n",
              "      <td>68.181818</td>\n",
              "    </tr>\n",
              "    <tr>\n",
              "      <th>1</th>\n",
              "      <td>1</td>\n",
              "      <td>23</td>\n",
              "      <td>1.472471</td>\n",
              "    </tr>\n",
              "    <tr>\n",
              "      <th>2</th>\n",
              "      <td>2</td>\n",
              "      <td>8</td>\n",
              "      <td>0.512164</td>\n",
              "    </tr>\n",
              "    <tr>\n",
              "      <th>4</th>\n",
              "      <td>3</td>\n",
              "      <td>6</td>\n",
              "      <td>0.384123</td>\n",
              "    </tr>\n",
              "    <tr>\n",
              "      <th>3</th>\n",
              "      <td>4</td>\n",
              "      <td>7</td>\n",
              "      <td>0.448143</td>\n",
              "    </tr>\n",
              "    <tr>\n",
              "      <th>...</th>\n",
              "      <td>...</td>\n",
              "      <td>...</td>\n",
              "      <td>...</td>\n",
              "    </tr>\n",
              "    <tr>\n",
              "      <th>256</th>\n",
              "      <td>1595</td>\n",
              "      <td>1</td>\n",
              "      <td>0.064020</td>\n",
              "    </tr>\n",
              "    <tr>\n",
              "      <th>257</th>\n",
              "      <td>1623</td>\n",
              "      <td>1</td>\n",
              "      <td>0.064020</td>\n",
              "    </tr>\n",
              "    <tr>\n",
              "      <th>258</th>\n",
              "      <td>1698</td>\n",
              "      <td>1</td>\n",
              "      <td>0.064020</td>\n",
              "    </tr>\n",
              "    <tr>\n",
              "      <th>315</th>\n",
              "      <td>1703</td>\n",
              "      <td>1</td>\n",
              "      <td>0.064020</td>\n",
              "    </tr>\n",
              "    <tr>\n",
              "      <th>196</th>\n",
              "      <td>1705</td>\n",
              "      <td>1</td>\n",
              "      <td>0.064020</td>\n",
              "    </tr>\n",
              "  </tbody>\n",
              "</table>\n",
              "<p>366 rows × 3 columns</p>\n",
              "</div>"
            ],
            "text/plain": [
              "     Diff  Cantidad  Porcentaje\n",
              "0       0      1065   68.181818\n",
              "1       1        23    1.472471\n",
              "2       2         8    0.512164\n",
              "4       3         6    0.384123\n",
              "3       4         7    0.448143\n",
              "..    ...       ...         ...\n",
              "256  1595         1    0.064020\n",
              "257  1623         1    0.064020\n",
              "258  1698         1    0.064020\n",
              "315  1703         1    0.064020\n",
              "196  1705         1    0.064020\n",
              "\n",
              "[366 rows x 3 columns]"
            ]
          },
          "metadata": {
            "tags": []
          },
          "execution_count": 164
        }
      ]
    },
    {
      "cell_type": "code",
      "metadata": {
        "id": "nwvWvl5Aii_G",
        "outputId": "71fafe7e-7f42-44ad-9dda-99ca2982c493",
        "colab": {
          "base_uri": "https://localhost:8080/",
          "height": 704
        }
      },
      "source": [
        "fig, ax = plt.subplots(figsize = (12, 11))\n",
        "g=sns.lineplot(data=df_dias, x=\"Diff\", y=\"Porcentaje\", ax=ax)\n",
        "g.set_title(\"Dias desde que se crea una cuenta hasta su 1ra Oportunidad\", fontsize = 22)\n",
        "g.set_xlabel(\"Dias\",fontsize=15)\n",
        "g.set_ylabel(\"Porcentaje sobre el total\", fontsize=15)"
      ],
      "execution_count": null,
      "outputs": [
        {
          "output_type": "execute_result",
          "data": {
            "text/plain": [
              "Text(0, 0.5, 'Porcentaje sobre el total')"
            ]
          },
          "metadata": {
            "tags": []
          },
          "execution_count": 176
        },
        {
          "output_type": "display_data",
          "data": {
            "image/png": "[encoded data removed]",
            "text/plain": [
              "<Figure size 864x792 with 1 Axes>"
            ]
          },
          "metadata": {
            "tags": [],
            "needs_background": "light"
          }
        }
      ]
    },
    {
      "cell_type": "markdown",
      "metadata": {
        "id": "l7qT67xEnb90"
      },
      "source": [
        "Luego de este analisis podemos ver que la mayoria de cuentas que se crean realizan su primera oportunidad ese mismo dia"
      ]
    },
    {
      "cell_type": "code",
      "metadata": {
        "id": "u3B_XixAnaGU",
        "outputId": "625880b5-4d16-4c11-cb90-542a318b7200",
        "colab": {
          "base_uri": "https://localhost:8080/",
          "height": 639
        }
      },
      "source": [
        "df_porciento = df[['Opportunity_Name', 'Account_Name', 'Stage']]\n",
        "df_porciento = df_porciento.groupby(['Account_Name', 'Opportunity_Name', 'Stage']).agg(Cant=(\"Stage\", \"count\")).reset_index()\n",
        "df_porciento = df_porciento.drop(['Cant'], axis=1)\n",
        "df_porciento[\"Cantidad\"] = 1\n",
        "#df_porciento = df_porciento.groupby(['Account_Name', 'Opportunity_Name', 'Stage']).first()\n",
        "df_porciento.head(20)"
      ],
      "execution_count": null,
      "outputs": [
        {
          "output_type": "execute_result",
          "data": {
            "text/html": [
              "<div>\n",
              "<style scoped>\n",
              "    .dataframe tbody tr th:only-of-type {\n",
              "        vertical-align: middle;\n",
              "    }\n",
              "\n",
              "    .dataframe tbody tr th {\n",
              "        vertical-align: top;\n",
              "    }\n",
              "\n",
              "    .dataframe thead th {\n",
              "        text-align: right;\n",
              "    }\n",
              "</style>\n",
              "<table border=\"1\" class=\"dataframe\">\n",
              "  <thead>\n",
              "    <tr style=\"text-align: right;\">\n",
              "      <th></th>\n",
              "      <th>Account_Name</th>\n",
              "      <th>Opportunity_Name</th>\n",
              "      <th>Stage</th>\n",
              "      <th>Cantidad</th>\n",
              "    </tr>\n",
              "  </thead>\n",
              "  <tbody>\n",
              "    <tr>\n",
              "      <th>0</th>\n",
              "      <td>Account_Name_0</td>\n",
              "      <td>Opportunity_Name_7547</td>\n",
              "      <td>Closed Won</td>\n",
              "      <td>1</td>\n",
              "    </tr>\n",
              "    <tr>\n",
              "      <th>1</th>\n",
              "      <td>Account_Name_1</td>\n",
              "      <td>Opportunity_Name_11763</td>\n",
              "      <td>Closed Lost</td>\n",
              "      <td>1</td>\n",
              "    </tr>\n",
              "    <tr>\n",
              "      <th>2</th>\n",
              "      <td>Account_Name_10</td>\n",
              "      <td>Opportunity_Name_870</td>\n",
              "      <td>Closed Lost</td>\n",
              "      <td>1</td>\n",
              "    </tr>\n",
              "    <tr>\n",
              "      <th>3</th>\n",
              "      <td>Account_Name_100</td>\n",
              "      <td>Opportunity_Name_2262</td>\n",
              "      <td>Closed Won</td>\n",
              "      <td>1</td>\n",
              "    </tr>\n",
              "    <tr>\n",
              "      <th>4</th>\n",
              "      <td>Account_Name_1000</td>\n",
              "      <td>Opportunity_Name_1582</td>\n",
              "      <td>Closed Lost</td>\n",
              "      <td>1</td>\n",
              "    </tr>\n",
              "    <tr>\n",
              "      <th>5</th>\n",
              "      <td>Account_Name_1001</td>\n",
              "      <td>Opportunity_Name_6198</td>\n",
              "      <td>Closed Won</td>\n",
              "      <td>1</td>\n",
              "    </tr>\n",
              "    <tr>\n",
              "      <th>6</th>\n",
              "      <td>Account_Name_1002</td>\n",
              "      <td>Opportunity_Name_6163</td>\n",
              "      <td>Closed Won</td>\n",
              "      <td>1</td>\n",
              "    </tr>\n",
              "    <tr>\n",
              "      <th>7</th>\n",
              "      <td>Account_Name_1004</td>\n",
              "      <td>Opportunity_Name_6208</td>\n",
              "      <td>Closed Lost</td>\n",
              "      <td>1</td>\n",
              "    </tr>\n",
              "    <tr>\n",
              "      <th>8</th>\n",
              "      <td>Account_Name_1006</td>\n",
              "      <td>Opportunity_Name_12272</td>\n",
              "      <td>Closed Lost</td>\n",
              "      <td>1</td>\n",
              "    </tr>\n",
              "    <tr>\n",
              "      <th>9</th>\n",
              "      <td>Account_Name_1006</td>\n",
              "      <td>Opportunity_Name_1632</td>\n",
              "      <td>Closed Lost</td>\n",
              "      <td>1</td>\n",
              "    </tr>\n",
              "    <tr>\n",
              "      <th>10</th>\n",
              "      <td>Account_Name_1006</td>\n",
              "      <td>Opportunity_Name_333</td>\n",
              "      <td>Closed Lost</td>\n",
              "      <td>1</td>\n",
              "    </tr>\n",
              "    <tr>\n",
              "      <th>11</th>\n",
              "      <td>Account_Name_1006</td>\n",
              "      <td>Opportunity_Name_618</td>\n",
              "      <td>Closed Won</td>\n",
              "      <td>1</td>\n",
              "    </tr>\n",
              "    <tr>\n",
              "      <th>12</th>\n",
              "      <td>Account_Name_1006</td>\n",
              "      <td>Opportunity_Name_7063</td>\n",
              "      <td>Closed Lost</td>\n",
              "      <td>1</td>\n",
              "    </tr>\n",
              "    <tr>\n",
              "      <th>13</th>\n",
              "      <td>Account_Name_1006</td>\n",
              "      <td>Opportunity_Name_9909</td>\n",
              "      <td>Closed Lost</td>\n",
              "      <td>1</td>\n",
              "    </tr>\n",
              "    <tr>\n",
              "      <th>14</th>\n",
              "      <td>Account_Name_1007</td>\n",
              "      <td>Opportunity_Name_7576</td>\n",
              "      <td>Closed Lost</td>\n",
              "      <td>1</td>\n",
              "    </tr>\n",
              "    <tr>\n",
              "      <th>15</th>\n",
              "      <td>Account_Name_1008</td>\n",
              "      <td>Opportunity_Name_3929</td>\n",
              "      <td>Closed Lost</td>\n",
              "      <td>1</td>\n",
              "    </tr>\n",
              "    <tr>\n",
              "      <th>16</th>\n",
              "      <td>Account_Name_1009</td>\n",
              "      <td>Opportunity_Name_10857</td>\n",
              "      <td>Closed Lost</td>\n",
              "      <td>1</td>\n",
              "    </tr>\n",
              "    <tr>\n",
              "      <th>17</th>\n",
              "      <td>Account_Name_101</td>\n",
              "      <td>Opportunity_Name_2264</td>\n",
              "      <td>Closed Lost</td>\n",
              "      <td>1</td>\n",
              "    </tr>\n",
              "    <tr>\n",
              "      <th>18</th>\n",
              "      <td>Account_Name_101</td>\n",
              "      <td>Opportunity_Name_2265</td>\n",
              "      <td>Closed Lost</td>\n",
              "      <td>1</td>\n",
              "    </tr>\n",
              "    <tr>\n",
              "      <th>19</th>\n",
              "      <td>Account_Name_1010</td>\n",
              "      <td>Opportunity_Name_6218</td>\n",
              "      <td>Closed Lost</td>\n",
              "      <td>1</td>\n",
              "    </tr>\n",
              "  </tbody>\n",
              "</table>\n",
              "</div>"
            ],
            "text/plain": [
              "         Account_Name        Opportunity_Name        Stage  Cantidad\n",
              "0      Account_Name_0   Opportunity_Name_7547   Closed Won         1\n",
              "1      Account_Name_1  Opportunity_Name_11763  Closed Lost         1\n",
              "2     Account_Name_10    Opportunity_Name_870  Closed Lost         1\n",
              "3    Account_Name_100   Opportunity_Name_2262   Closed Won         1\n",
              "4   Account_Name_1000   Opportunity_Name_1582  Closed Lost         1\n",
              "5   Account_Name_1001   Opportunity_Name_6198   Closed Won         1\n",
              "6   Account_Name_1002   Opportunity_Name_6163   Closed Won         1\n",
              "7   Account_Name_1004   Opportunity_Name_6208  Closed Lost         1\n",
              "8   Account_Name_1006  Opportunity_Name_12272  Closed Lost         1\n",
              "9   Account_Name_1006   Opportunity_Name_1632  Closed Lost         1\n",
              "10  Account_Name_1006    Opportunity_Name_333  Closed Lost         1\n",
              "11  Account_Name_1006    Opportunity_Name_618   Closed Won         1\n",
              "12  Account_Name_1006   Opportunity_Name_7063  Closed Lost         1\n",
              "13  Account_Name_1006   Opportunity_Name_9909  Closed Lost         1\n",
              "14  Account_Name_1007   Opportunity_Name_7576  Closed Lost         1\n",
              "15  Account_Name_1008   Opportunity_Name_3929  Closed Lost         1\n",
              "16  Account_Name_1009  Opportunity_Name_10857  Closed Lost         1\n",
              "17   Account_Name_101   Opportunity_Name_2264  Closed Lost         1\n",
              "18   Account_Name_101   Opportunity_Name_2265  Closed Lost         1\n",
              "19  Account_Name_1010   Opportunity_Name_6218  Closed Lost         1"
            ]
          },
          "metadata": {
            "tags": []
          },
          "execution_count": 41
        }
      ]
    },
    {
      "cell_type": "code",
      "metadata": {
        "id": "09rCL9PPsweh",
        "outputId": "112520a1-9512-425a-c469-c1ca8a424ed4",
        "colab": {
          "base_uri": "https://localhost:8080/",
          "height": 136
        }
      },
      "source": [
        "df_ganadas = pd.pivot_table(df_porciento, index=['Account_Name'], columns=['Stage'], fill_value=0)\n",
        "df_ganadas['Gano Mas'] = df_ganadas['Cantidad']['Closed Lost'] <= df_ganadas['Cantidad']['Closed Won']\n",
        "df_ganadas['Gano Mas'] = df_ganadas['Gano Mas'].astype(int)\n",
        "total = df_ganadas['Gano Mas'].size\n",
        "ganadoras = df_ganadas['Gano Mas'].sum()\n",
        "porcentaje = (ganadoras / total) * 100\n",
        "df_porcentaje_cuentas_ganadoras = pd.DataFrame({'Porcentaje': [porcentaje, 100-porcentaje], 'Indice': ['Mas Ganadas', 'Mas Perdidas']})\n",
        "df_porcentaje_cuentas_ganadoras = df_porcentaje_cuentas_ganadoras.set_index('Indice')\n",
        "df_porcentaje_cuentas_ganadoras"
      ],
      "execution_count": null,
      "outputs": [
        {
          "output_type": "execute_result",
          "data": {
            "text/html": [
              "<div>\n",
              "<style scoped>\n",
              "    .dataframe tbody tr th:only-of-type {\n",
              "        vertical-align: middle;\n",
              "    }\n",
              "\n",
              "    .dataframe tbody tr th {\n",
              "        vertical-align: top;\n",
              "    }\n",
              "\n",
              "    .dataframe thead th {\n",
              "        text-align: right;\n",
              "    }\n",
              "</style>\n",
              "<table border=\"1\" class=\"dataframe\">\n",
              "  <thead>\n",
              "    <tr style=\"text-align: right;\">\n",
              "      <th></th>\n",
              "      <th>Porcentaje</th>\n",
              "    </tr>\n",
              "    <tr>\n",
              "      <th>Indice</th>\n",
              "      <th></th>\n",
              "    </tr>\n",
              "  </thead>\n",
              "  <tbody>\n",
              "    <tr>\n",
              "      <th>Mas Ganadas</th>\n",
              "      <td>41.17284</td>\n",
              "    </tr>\n",
              "    <tr>\n",
              "      <th>Mas Perdidas</th>\n",
              "      <td>58.82716</td>\n",
              "    </tr>\n",
              "  </tbody>\n",
              "</table>\n",
              "</div>"
            ],
            "text/plain": [
              "              Porcentaje\n",
              "Indice                  \n",
              "Mas Ganadas     41.17284\n",
              "Mas Perdidas    58.82716"
            ]
          },
          "metadata": {
            "tags": []
          },
          "execution_count": 42
        }
      ]
    },
    {
      "cell_type": "code",
      "metadata": {
        "id": "yNC1A1BLzb0O",
        "outputId": "99d3ed38-17d3-49fc-f365-f822196676d8",
        "colab": {
          "base_uri": "https://localhost:8080/",
          "height": 428
        }
      },
      "source": [
        "pie, ax = plt.subplots(figsize=[10,6])\n",
        "label = df_porcentaje_cuentas_ganadoras.index\n",
        "plt.pie(x=df_porcentaje_cuentas_ganadoras, autopct=\"%.1f%%\", labels=label, pctdistance=0.5)\n",
        "plt.title(\"Porcentaje de Cuentas con mas oportunidades Ganadas que Perdidas\", fontsize=14);"
      ],
      "execution_count": null,
      "outputs": [
        {
          "output_type": "stream",
          "text": [
            "/usr/local/lib/python3.6/dist-packages/ipykernel_launcher.py:3: MatplotlibDeprecationWarning: Non-1D inputs to pie() are currently squeeze()d, but this behavior is deprecated since 3.1 and will be removed in 3.3; pass a 1D array instead.\n",
            "  This is separate from the ipykernel package so we can avoid doing imports until\n"
          ],
          "name": "stderr"
        },
        {
          "output_type": "display_data",
          "data": {
            "image/png": "[encoded data removed]",
            "text/plain": [
              "<Figure size 720x432 with 1 Axes>"
            ]
          },
          "metadata": {
            "tags": []
          }
        }
      ]
    },
    {
      "cell_type": "code",
      "metadata": {
        "id": "q2_2ML0m5CPi",
        "outputId": "8ddd1f23-ae3f-4158-bb22-31e13741a2ad",
        "colab": {
          "base_uri": "https://localhost:8080/",
          "height": 728
        }
      },
      "source": [
        "df_source = df[['Stage', 'Source ', 'Opportunity_Name']]\n",
        "df_source = df_source.drop(df_source[df_source['Source ']=='None'].index) #Borro los que decian None\n",
        "df_source = df_source.groupby(['Source ', 'Stage']).agg(cant=('Stage', 'size')).reset_index()\n",
        "df_source"
      ],
      "execution_count": null,
      "outputs": [
        {
          "output_type": "execute_result",
          "data": {
            "text/html": [
              "<div>\n",
              "<style scoped>\n",
              "    .dataframe tbody tr th:only-of-type {\n",
              "        vertical-align: middle;\n",
              "    }\n",
              "\n",
              "    .dataframe tbody tr th {\n",
              "        vertical-align: top;\n",
              "    }\n",
              "\n",
              "    .dataframe thead th {\n",
              "        text-align: right;\n",
              "    }\n",
              "</style>\n",
              "<table border=\"1\" class=\"dataframe\">\n",
              "  <thead>\n",
              "    <tr style=\"text-align: right;\">\n",
              "      <th></th>\n",
              "      <th>Source</th>\n",
              "      <th>Stage</th>\n",
              "      <th>cant</th>\n",
              "    </tr>\n",
              "  </thead>\n",
              "  <tbody>\n",
              "    <tr>\n",
              "      <th>0</th>\n",
              "      <td>Source_0</td>\n",
              "      <td>Closed Lost</td>\n",
              "      <td>7</td>\n",
              "    </tr>\n",
              "    <tr>\n",
              "      <th>1</th>\n",
              "      <td>Source_1</td>\n",
              "      <td>Closed Lost</td>\n",
              "      <td>89</td>\n",
              "    </tr>\n",
              "    <tr>\n",
              "      <th>2</th>\n",
              "      <td>Source_1</td>\n",
              "      <td>Closed Won</td>\n",
              "      <td>48</td>\n",
              "    </tr>\n",
              "    <tr>\n",
              "      <th>3</th>\n",
              "      <td>Source_10</td>\n",
              "      <td>Closed Lost</td>\n",
              "      <td>70</td>\n",
              "    </tr>\n",
              "    <tr>\n",
              "      <th>4</th>\n",
              "      <td>Source_10</td>\n",
              "      <td>Closed Won</td>\n",
              "      <td>36</td>\n",
              "    </tr>\n",
              "    <tr>\n",
              "      <th>5</th>\n",
              "      <td>Source_11</td>\n",
              "      <td>Closed Lost</td>\n",
              "      <td>505</td>\n",
              "    </tr>\n",
              "    <tr>\n",
              "      <th>6</th>\n",
              "      <td>Source_11</td>\n",
              "      <td>Closed Won</td>\n",
              "      <td>916</td>\n",
              "    </tr>\n",
              "    <tr>\n",
              "      <th>7</th>\n",
              "      <td>Source_12</td>\n",
              "      <td>Closed Lost</td>\n",
              "      <td>2</td>\n",
              "    </tr>\n",
              "    <tr>\n",
              "      <th>8</th>\n",
              "      <td>Source_13</td>\n",
              "      <td>Closed Lost</td>\n",
              "      <td>196</td>\n",
              "    </tr>\n",
              "    <tr>\n",
              "      <th>9</th>\n",
              "      <td>Source_13</td>\n",
              "      <td>Closed Won</td>\n",
              "      <td>587</td>\n",
              "    </tr>\n",
              "    <tr>\n",
              "      <th>10</th>\n",
              "      <td>Source_2</td>\n",
              "      <td>Closed Lost</td>\n",
              "      <td>56</td>\n",
              "    </tr>\n",
              "    <tr>\n",
              "      <th>11</th>\n",
              "      <td>Source_2</td>\n",
              "      <td>Closed Won</td>\n",
              "      <td>30</td>\n",
              "    </tr>\n",
              "    <tr>\n",
              "      <th>12</th>\n",
              "      <td>Source_3</td>\n",
              "      <td>Closed Lost</td>\n",
              "      <td>205</td>\n",
              "    </tr>\n",
              "    <tr>\n",
              "      <th>13</th>\n",
              "      <td>Source_3</td>\n",
              "      <td>Closed Won</td>\n",
              "      <td>210</td>\n",
              "    </tr>\n",
              "    <tr>\n",
              "      <th>14</th>\n",
              "      <td>Source_4</td>\n",
              "      <td>Closed Lost</td>\n",
              "      <td>24</td>\n",
              "    </tr>\n",
              "    <tr>\n",
              "      <th>15</th>\n",
              "      <td>Source_4</td>\n",
              "      <td>Closed Won</td>\n",
              "      <td>19</td>\n",
              "    </tr>\n",
              "    <tr>\n",
              "      <th>16</th>\n",
              "      <td>Source_5</td>\n",
              "      <td>Closed Lost</td>\n",
              "      <td>1</td>\n",
              "    </tr>\n",
              "    <tr>\n",
              "      <th>17</th>\n",
              "      <td>Source_6</td>\n",
              "      <td>Closed Lost</td>\n",
              "      <td>14</td>\n",
              "    </tr>\n",
              "    <tr>\n",
              "      <th>18</th>\n",
              "      <td>Source_6</td>\n",
              "      <td>Closed Won</td>\n",
              "      <td>5</td>\n",
              "    </tr>\n",
              "    <tr>\n",
              "      <th>19</th>\n",
              "      <td>Source_7</td>\n",
              "      <td>Closed Lost</td>\n",
              "      <td>1559</td>\n",
              "    </tr>\n",
              "    <tr>\n",
              "      <th>20</th>\n",
              "      <td>Source_7</td>\n",
              "      <td>Closed Won</td>\n",
              "      <td>1393</td>\n",
              "    </tr>\n",
              "    <tr>\n",
              "      <th>21</th>\n",
              "      <td>Source_9</td>\n",
              "      <td>Closed Lost</td>\n",
              "      <td>618</td>\n",
              "    </tr>\n",
              "    <tr>\n",
              "      <th>22</th>\n",
              "      <td>Source_9</td>\n",
              "      <td>Closed Won</td>\n",
              "      <td>839</td>\n",
              "    </tr>\n",
              "  </tbody>\n",
              "</table>\n",
              "</div>"
            ],
            "text/plain": [
              "      Source         Stage  cant\n",
              "0    Source_0  Closed Lost     7\n",
              "1    Source_1  Closed Lost    89\n",
              "2    Source_1   Closed Won    48\n",
              "3   Source_10  Closed Lost    70\n",
              "4   Source_10   Closed Won    36\n",
              "5   Source_11  Closed Lost   505\n",
              "6   Source_11   Closed Won   916\n",
              "7   Source_12  Closed Lost     2\n",
              "8   Source_13  Closed Lost   196\n",
              "9   Source_13   Closed Won   587\n",
              "10   Source_2  Closed Lost    56\n",
              "11   Source_2   Closed Won    30\n",
              "12   Source_3  Closed Lost   205\n",
              "13   Source_3   Closed Won   210\n",
              "14   Source_4  Closed Lost    24\n",
              "15   Source_4   Closed Won    19\n",
              "16   Source_5  Closed Lost     1\n",
              "17   Source_6  Closed Lost    14\n",
              "18   Source_6   Closed Won     5\n",
              "19   Source_7  Closed Lost  1559\n",
              "20   Source_7   Closed Won  1393\n",
              "21   Source_9  Closed Lost   618\n",
              "22   Source_9   Closed Won   839"
            ]
          },
          "metadata": {
            "tags": []
          },
          "execution_count": 380
        }
      ]
    },
    {
      "cell_type": "code",
      "metadata": {
        "id": "2yzg5mVC9gcG",
        "outputId": "a935c292-517e-457f-dd32-b85076b921cf",
        "colab": {
          "base_uri": "https://localhost:8080/",
          "height": 707
        }
      },
      "source": [
        "fig, ax = plt.subplots(figsize=(14,11))\n",
        "df_graph= df_source\n",
        "g = sns.barplot(x=df_graph['Source '], y=df_graph['cant'], hue='Stage',data=df_graph,ax=ax)\n",
        "g.set_title(\"Cantidad de oportuniddades ganadas y perdidas segun su Source \", fontsize=20)\n",
        "g.set_xlabel(\"Sources\", fontsize=18)\n",
        "g.set_ylabel(\"Cantidad de oportunidades por Source\", fontsize=18)"
      ],
      "execution_count": null,
      "outputs": [
        {
          "output_type": "execute_result",
          "data": {
            "text/plain": [
              "Text(0, 0.5, 'Cantidad de oportunidades por Source')"
            ]
          },
          "metadata": {
            "tags": []
          },
          "execution_count": 383
        },
        {
          "output_type": "display_data",
          "data": {
            "image/png": "[encoded data removed]",
            "text/plain": [
              "<Figure size 1008x792 with 1 Axes>"
            ]
          },
          "metadata": {
            "tags": [],
            "needs_background": "light"
          }
        }
      ]
    },
    {
      "cell_type": "code",
      "metadata": {
        "id": "yvplfRzA-8cM",
        "outputId": "a26e3ecc-466a-4716-b3bc-ead207b0eb3a",
        "colab": {
          "base_uri": "https://localhost:8080/",
          "height": 402
        }
      },
      "source": [
        "df_account_types = df[[\"Account_Type\", \"Opportunity_Name\", \"Stage\"]]\n",
        "index_names = df_account_types[df_account_types['Account_Type'] == 'None' ].index\n",
        "df_account_types = df_account_types.drop(index_names)\n",
        "df_account_types = df_account_types.groupby(['Account_Type']).filter(lambda x: x['Account_Type'].count() > 200)\n",
        "df_account_types = df_account_types.groupby(['Account_Type', 'Opportunity_Name', 'Stage']).agg(Cantid=(\"Stage\", \"count\")).reset_index()\n",
        "df_account_types = df_account_types.drop(['Cantid'], axis=1)\n",
        "df_account_types[\"Cantidad\"] = 1\n",
        "df_account_types"
      ],
      "execution_count": null,
      "outputs": [
        {
          "output_type": "execute_result",
          "data": {
            "text/html": [
              "<div>\n",
              "<style scoped>\n",
              "    .dataframe tbody tr th:only-of-type {\n",
              "        vertical-align: middle;\n",
              "    }\n",
              "\n",
              "    .dataframe tbody tr th {\n",
              "        vertical-align: top;\n",
              "    }\n",
              "\n",
              "    .dataframe thead th {\n",
              "        text-align: right;\n",
              "    }\n",
              "</style>\n",
              "<table border=\"1\" class=\"dataframe\">\n",
              "  <thead>\n",
              "    <tr style=\"text-align: right;\">\n",
              "      <th></th>\n",
              "      <th>Account_Type</th>\n",
              "      <th>Opportunity_Name</th>\n",
              "      <th>Stage</th>\n",
              "      <th>Cantidad</th>\n",
              "    </tr>\n",
              "  </thead>\n",
              "  <tbody>\n",
              "    <tr>\n",
              "      <th>0</th>\n",
              "      <td>Account_Type_0</td>\n",
              "      <td>Opportunity_Name_0</td>\n",
              "      <td>Closed Lost</td>\n",
              "      <td>1</td>\n",
              "    </tr>\n",
              "    <tr>\n",
              "      <th>1</th>\n",
              "      <td>Account_Type_0</td>\n",
              "      <td>Opportunity_Name_10026</td>\n",
              "      <td>Closed Lost</td>\n",
              "      <td>1</td>\n",
              "    </tr>\n",
              "    <tr>\n",
              "      <th>2</th>\n",
              "      <td>Account_Type_0</td>\n",
              "      <td>Opportunity_Name_10035</td>\n",
              "      <td>Closed Lost</td>\n",
              "      <td>1</td>\n",
              "    </tr>\n",
              "    <tr>\n",
              "      <th>3</th>\n",
              "      <td>Account_Type_0</td>\n",
              "      <td>Opportunity_Name_10055</td>\n",
              "      <td>Closed Won</td>\n",
              "      <td>1</td>\n",
              "    </tr>\n",
              "    <tr>\n",
              "      <th>4</th>\n",
              "      <td>Account_Type_0</td>\n",
              "      <td>Opportunity_Name_10103</td>\n",
              "      <td>Closed Won</td>\n",
              "      <td>1</td>\n",
              "    </tr>\n",
              "    <tr>\n",
              "      <th>...</th>\n",
              "      <td>...</td>\n",
              "      <td>...</td>\n",
              "      <td>...</td>\n",
              "      <td>...</td>\n",
              "    </tr>\n",
              "    <tr>\n",
              "      <th>9534</th>\n",
              "      <td>Account_Type_5</td>\n",
              "      <td>Opportunity_Name_9913</td>\n",
              "      <td>Closed Lost</td>\n",
              "      <td>1</td>\n",
              "    </tr>\n",
              "    <tr>\n",
              "      <th>9535</th>\n",
              "      <td>Account_Type_5</td>\n",
              "      <td>Opportunity_Name_9914</td>\n",
              "      <td>Closed Lost</td>\n",
              "      <td>1</td>\n",
              "    </tr>\n",
              "    <tr>\n",
              "      <th>9536</th>\n",
              "      <td>Account_Type_5</td>\n",
              "      <td>Opportunity_Name_9915</td>\n",
              "      <td>Closed Lost</td>\n",
              "      <td>1</td>\n",
              "    </tr>\n",
              "    <tr>\n",
              "      <th>9537</th>\n",
              "      <td>Account_Type_5</td>\n",
              "      <td>Opportunity_Name_992</td>\n",
              "      <td>Closed Won</td>\n",
              "      <td>1</td>\n",
              "    </tr>\n",
              "    <tr>\n",
              "      <th>9538</th>\n",
              "      <td>Account_Type_5</td>\n",
              "      <td>Opportunity_Name_994</td>\n",
              "      <td>Closed Lost</td>\n",
              "      <td>1</td>\n",
              "    </tr>\n",
              "  </tbody>\n",
              "</table>\n",
              "<p>9539 rows × 4 columns</p>\n",
              "</div>"
            ],
            "text/plain": [
              "        Account_Type        Opportunity_Name        Stage  Cantidad\n",
              "0     Account_Type_0      Opportunity_Name_0  Closed Lost         1\n",
              "1     Account_Type_0  Opportunity_Name_10026  Closed Lost         1\n",
              "2     Account_Type_0  Opportunity_Name_10035  Closed Lost         1\n",
              "3     Account_Type_0  Opportunity_Name_10055   Closed Won         1\n",
              "4     Account_Type_0  Opportunity_Name_10103   Closed Won         1\n",
              "...              ...                     ...          ...       ...\n",
              "9534  Account_Type_5   Opportunity_Name_9913  Closed Lost         1\n",
              "9535  Account_Type_5   Opportunity_Name_9914  Closed Lost         1\n",
              "9536  Account_Type_5   Opportunity_Name_9915  Closed Lost         1\n",
              "9537  Account_Type_5    Opportunity_Name_992   Closed Won         1\n",
              "9538  Account_Type_5    Opportunity_Name_994  Closed Lost         1\n",
              "\n",
              "[9539 rows x 4 columns]"
            ]
          },
          "metadata": {
            "tags": []
          },
          "execution_count": 67
        }
      ]
    },
    {
      "cell_type": "code",
      "metadata": {
        "id": "_4Cr5nUVLwpP",
        "outputId": "64630ff1-ad3d-4416-8c39-88d0f69d6934",
        "colab": {
          "base_uri": "https://localhost:8080/",
          "height": 225
        }
      },
      "source": [
        "df_graph = df_account_types.groupby(['Account_Type', 'Stage']).agg(Tot=('Cantidad', 'count'))\n",
        "df_graph = df_graph.reset_index()\n",
        "df_graph"
      ],
      "execution_count": null,
      "outputs": [
        {
          "output_type": "execute_result",
          "data": {
            "text/html": [
              "<div>\n",
              "<style scoped>\n",
              "    .dataframe tbody tr th:only-of-type {\n",
              "        vertical-align: middle;\n",
              "    }\n",
              "\n",
              "    .dataframe tbody tr th {\n",
              "        vertical-align: top;\n",
              "    }\n",
              "\n",
              "    .dataframe thead th {\n",
              "        text-align: right;\n",
              "    }\n",
              "</style>\n",
              "<table border=\"1\" class=\"dataframe\">\n",
              "  <thead>\n",
              "    <tr style=\"text-align: right;\">\n",
              "      <th></th>\n",
              "      <th>Account_Type</th>\n",
              "      <th>Stage</th>\n",
              "      <th>Tot</th>\n",
              "    </tr>\n",
              "  </thead>\n",
              "  <tbody>\n",
              "    <tr>\n",
              "      <th>0</th>\n",
              "      <td>Account_Type_0</td>\n",
              "      <td>Closed Lost</td>\n",
              "      <td>1086</td>\n",
              "    </tr>\n",
              "    <tr>\n",
              "      <th>1</th>\n",
              "      <td>Account_Type_0</td>\n",
              "      <td>Closed Won</td>\n",
              "      <td>2332</td>\n",
              "    </tr>\n",
              "    <tr>\n",
              "      <th>2</th>\n",
              "      <td>Account_Type_2</td>\n",
              "      <td>Closed Lost</td>\n",
              "      <td>2394</td>\n",
              "    </tr>\n",
              "    <tr>\n",
              "      <th>3</th>\n",
              "      <td>Account_Type_2</td>\n",
              "      <td>Closed Won</td>\n",
              "      <td>2282</td>\n",
              "    </tr>\n",
              "    <tr>\n",
              "      <th>4</th>\n",
              "      <td>Account_Type_5</td>\n",
              "      <td>Closed Lost</td>\n",
              "      <td>1013</td>\n",
              "    </tr>\n",
              "    <tr>\n",
              "      <th>5</th>\n",
              "      <td>Account_Type_5</td>\n",
              "      <td>Closed Won</td>\n",
              "      <td>432</td>\n",
              "    </tr>\n",
              "  </tbody>\n",
              "</table>\n",
              "</div>"
            ],
            "text/plain": [
              "     Account_Type        Stage   Tot\n",
              "0  Account_Type_0  Closed Lost  1086\n",
              "1  Account_Type_0   Closed Won  2332\n",
              "2  Account_Type_2  Closed Lost  2394\n",
              "3  Account_Type_2   Closed Won  2282\n",
              "4  Account_Type_5  Closed Lost  1013\n",
              "5  Account_Type_5   Closed Won   432"
            ]
          },
          "metadata": {
            "tags": []
          },
          "execution_count": 79
        }
      ]
    },
    {
      "cell_type": "code",
      "metadata": {
        "id": "gHruFmGyN8Xe",
        "outputId": "27c2749b-e639-407e-acb9-8910bfd71f74",
        "colab": {
          "base_uri": "https://localhost:8080/",
          "height": 707
        }
      },
      "source": [
        "fig, ax = plt.subplots(figsize=(14,11))\n",
        "g = sns.barplot(x=df_graph['Account_Type'], y=df_graph['Tot'], hue='Stage',data=df_graph,ax=ax)\n",
        "g.set_title(\"Cantidad de Close Won y Close Lost segun Account_Type\", fontsize=20)\n",
        "g.set_xlabel(\"Account Types\", fontsize=18)\n",
        "g.set_ylabel(\"Cantidad de oportunidades\", fontsize=18)"
      ],
      "execution_count": 84,
      "outputs": [
        {
          "output_type": "execute_result",
          "data": {
            "text/plain": [
              "Text(0, 0.5, 'Cantidad de oportunidades')"
            ]
          },
          "metadata": {
            "tags": []
          },
          "execution_count": 84
        },
        {
          "output_type": "display_data",
          "data": {
            "image/png": "[encoded data removed]",
            "text/plain": [
              "<Figure size 1008x792 with 1 Axes>"
            ]
          },
          "metadata": {
            "tags": [],
            "needs_background": "light"
          }
        }
      ]
    },
    {
      "cell_type": "code",
      "metadata": {
        "id": "uUhew62iX8sw",
        "outputId": "0c058840-06b2-4e49-ee3b-1b748d2d6b9a",
        "colab": {
          "base_uri": "https://localhost:8080/",
          "height": 402
        }
      },
      "source": [
        "df_op_type = df[['Opportunity_Type', 'Stage', 'Opportunity_Name']]\n",
        "df_op_type = df_op_type.groupby(['Opportunity_Type']).filter(lambda x: x['Opportunity_Type'].count() > 500)\n",
        "df_op_type = df_op_type.groupby(['Opportunity_Type', 'Opportunity_Name', 'Stage']).agg(Cantid=('Stage', 'count')).reset_index()\n",
        "df_op_type = df_op_type.drop(['Cantid'], axis=1)\n",
        "df_op_type[\"Cantidad\"] = 1\n",
        "df_op_type = df_op_type[['Opportunity_Type', 'Stage', 'Cantidad']]\n",
        "df_op_type"
      ],
      "execution_count": 147,
      "outputs": [
        {
          "output_type": "execute_result",
          "data": {
            "text/html": [
              "<div>\n",
              "<style scoped>\n",
              "    .dataframe tbody tr th:only-of-type {\n",
              "        vertical-align: middle;\n",
              "    }\n",
              "\n",
              "    .dataframe tbody tr th {\n",
              "        vertical-align: top;\n",
              "    }\n",
              "\n",
              "    .dataframe thead th {\n",
              "        text-align: right;\n",
              "    }\n",
              "</style>\n",
              "<table border=\"1\" class=\"dataframe\">\n",
              "  <thead>\n",
              "    <tr style=\"text-align: right;\">\n",
              "      <th></th>\n",
              "      <th>Opportunity_Type</th>\n",
              "      <th>Stage</th>\n",
              "      <th>Cantidad</th>\n",
              "    </tr>\n",
              "  </thead>\n",
              "  <tbody>\n",
              "    <tr>\n",
              "      <th>0</th>\n",
              "      <td>Opportunity_Type_1</td>\n",
              "      <td>Closed Won</td>\n",
              "      <td>1</td>\n",
              "    </tr>\n",
              "    <tr>\n",
              "      <th>1</th>\n",
              "      <td>Opportunity_Type_1</td>\n",
              "      <td>Closed Lost</td>\n",
              "      <td>1</td>\n",
              "    </tr>\n",
              "    <tr>\n",
              "      <th>2</th>\n",
              "      <td>Opportunity_Type_1</td>\n",
              "      <td>Closed Won</td>\n",
              "      <td>1</td>\n",
              "    </tr>\n",
              "    <tr>\n",
              "      <th>3</th>\n",
              "      <td>Opportunity_Type_1</td>\n",
              "      <td>Closed Lost</td>\n",
              "      <td>1</td>\n",
              "    </tr>\n",
              "    <tr>\n",
              "      <th>4</th>\n",
              "      <td>Opportunity_Type_1</td>\n",
              "      <td>Closed Lost</td>\n",
              "      <td>1</td>\n",
              "    </tr>\n",
              "    <tr>\n",
              "      <th>...</th>\n",
              "      <td>...</td>\n",
              "      <td>...</td>\n",
              "      <td>...</td>\n",
              "    </tr>\n",
              "    <tr>\n",
              "      <th>9130</th>\n",
              "      <td>Opportunity_Type_8</td>\n",
              "      <td>Closed Won</td>\n",
              "      <td>1</td>\n",
              "    </tr>\n",
              "    <tr>\n",
              "      <th>9131</th>\n",
              "      <td>Opportunity_Type_8</td>\n",
              "      <td>Closed Won</td>\n",
              "      <td>1</td>\n",
              "    </tr>\n",
              "    <tr>\n",
              "      <th>9132</th>\n",
              "      <td>Opportunity_Type_8</td>\n",
              "      <td>Closed Won</td>\n",
              "      <td>1</td>\n",
              "    </tr>\n",
              "    <tr>\n",
              "      <th>9133</th>\n",
              "      <td>Opportunity_Type_8</td>\n",
              "      <td>Closed Won</td>\n",
              "      <td>1</td>\n",
              "    </tr>\n",
              "    <tr>\n",
              "      <th>9134</th>\n",
              "      <td>Opportunity_Type_8</td>\n",
              "      <td>Closed Won</td>\n",
              "      <td>1</td>\n",
              "    </tr>\n",
              "  </tbody>\n",
              "</table>\n",
              "<p>9135 rows × 3 columns</p>\n",
              "</div>"
            ],
            "text/plain": [
              "        Opportunity_Type        Stage  Cantidad\n",
              "0     Opportunity_Type_1   Closed Won         1\n",
              "1     Opportunity_Type_1  Closed Lost         1\n",
              "2     Opportunity_Type_1   Closed Won         1\n",
              "3     Opportunity_Type_1  Closed Lost         1\n",
              "4     Opportunity_Type_1  Closed Lost         1\n",
              "...                  ...          ...       ...\n",
              "9130  Opportunity_Type_8   Closed Won         1\n",
              "9131  Opportunity_Type_8   Closed Won         1\n",
              "9132  Opportunity_Type_8   Closed Won         1\n",
              "9133  Opportunity_Type_8   Closed Won         1\n",
              "9134  Opportunity_Type_8   Closed Won         1\n",
              "\n",
              "[9135 rows x 3 columns]"
            ]
          },
          "metadata": {
            "tags": []
          },
          "execution_count": 147
        }
      ]
    },
    {
      "cell_type": "code",
      "metadata": {
        "id": "qKo8dyCudTLz",
        "outputId": "b3de4bfc-179d-43cf-fe2d-d50a485e4fd3",
        "colab": {
          "base_uri": "https://localhost:8080/",
          "height": 166
        }
      },
      "source": [
        "df_graph = df_op_type.groupby(['Opportunity_Type', 'Stage']).agg(Tot=('Cantidad', 'sum'))\n",
        "df_graph = df_graph.reset_index()\n",
        "pivoted = df_graph.pivot(index = 'Opportunity_Type', columns = 'Stage', values = 'Tot')\n",
        "pivoted = pivoted.reset_index()\n",
        "pivoted"
      ],
      "execution_count": 153,
      "outputs": [
        {
          "output_type": "execute_result",
          "data": {
            "text/html": [
              "<div>\n",
              "<style scoped>\n",
              "    .dataframe tbody tr th:only-of-type {\n",
              "        vertical-align: middle;\n",
              "    }\n",
              "\n",
              "    .dataframe tbody tr th {\n",
              "        vertical-align: top;\n",
              "    }\n",
              "\n",
              "    .dataframe thead th {\n",
              "        text-align: right;\n",
              "    }\n",
              "</style>\n",
              "<table border=\"1\" class=\"dataframe\">\n",
              "  <thead>\n",
              "    <tr style=\"text-align: right;\">\n",
              "      <th>Stage</th>\n",
              "      <th>Opportunity_Type</th>\n",
              "      <th>Closed Lost</th>\n",
              "      <th>Closed Won</th>\n",
              "    </tr>\n",
              "  </thead>\n",
              "  <tbody>\n",
              "    <tr>\n",
              "      <th>0</th>\n",
              "      <td>Opportunity_Type_1</td>\n",
              "      <td>2460</td>\n",
              "      <td>2668</td>\n",
              "    </tr>\n",
              "    <tr>\n",
              "      <th>1</th>\n",
              "      <td>Opportunity_Type_19</td>\n",
              "      <td>1075</td>\n",
              "      <td>202</td>\n",
              "    </tr>\n",
              "    <tr>\n",
              "      <th>2</th>\n",
              "      <td>Opportunity_Type_7</td>\n",
              "      <td>622</td>\n",
              "      <td>1373</td>\n",
              "    </tr>\n",
              "    <tr>\n",
              "      <th>3</th>\n",
              "      <td>Opportunity_Type_8</td>\n",
              "      <td>219</td>\n",
              "      <td>516</td>\n",
              "    </tr>\n",
              "  </tbody>\n",
              "</table>\n",
              "</div>"
            ],
            "text/plain": [
              "Stage     Opportunity_Type  Closed Lost  Closed Won\n",
              "0       Opportunity_Type_1         2460        2668\n",
              "1      Opportunity_Type_19         1075         202\n",
              "2       Opportunity_Type_7          622        1373\n",
              "3       Opportunity_Type_8          219         516"
            ]
          },
          "metadata": {
            "tags": []
          },
          "execution_count": 153
        }
      ]
    },
    {
      "cell_type": "code",
      "metadata": {
        "id": "87Dqghnzbp7y",
        "outputId": "af4c8262-9c3a-4476-c305-ff67568b6c7e",
        "colab": {
          "base_uri": "https://localhost:8080/",
          "height": 749
        }
      },
      "source": [
        "ax = pivoted.plot(stacked=True, kind='bar', y=['Closed Won', 'Closed Lost'], x='Opportunity_Type', figsize=(15,10))\n",
        "ax.set_title(\"Cantidad de Closed Won y Closed Lost segun Opportunity Type\", fontsize=30)\n",
        "ax.set_xlabel(\"Opportunity Types\",fontsize=30)\n",
        "ax.set_ylabel(\"Cantidad\", fontsize=30) \n",
        "plt.show()"
      ],
      "execution_count": 155,
      "outputs": [
        {
          "output_type": "display_data",
          "data": {
            "image/png": "[encoded data removed]",
            "text/plain": [
              "<Figure size 1080x720 with 1 Axes>"
            ]
          },
          "metadata": {
            "tags": [],
            "needs_background": "light"
          }
        }
      ]
    }
  ]
}