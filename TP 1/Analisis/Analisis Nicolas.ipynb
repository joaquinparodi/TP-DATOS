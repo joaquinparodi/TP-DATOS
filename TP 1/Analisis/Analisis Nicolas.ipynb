{
 "cells": [
  {
   "cell_type": "code",
   "execution_count": 1,
   "metadata": {},
   "outputs": [],
   "source": [
    "import pandas as pd\n",
    "import numpy as np\n",
    "import matplotlib.pyplot as plt\n",
    "import re\n",
    "import nltk\n",
    "from nltk.stem import PorterStemmer\n",
    "import matplotlib.ticker as mtick\n",
    "from urllib.parse import urlparse\n",
    "import seaborn as sns\n",
    "from matplotlib.ticker import FuncFormatter"
   ]
  },
  {
   "cell_type": "code",
   "execution_count": 2,
   "metadata": {},
   "outputs": [],
   "source": [
    "pd.set_option('display.float_format', '{:.2f}'.format)"
   ]
  },
  {
   "cell_type": "code",
   "execution_count": 3,
   "metadata": {},
   "outputs": [],
   "source": [
    "df_original = pd.read_csv('Entrenamieto_ECI_2020.csv')\n",
    "df = df_original"
   ]
  },
  {
   "cell_type": "code",
   "execution_count": 4,
   "metadata": {},
   "outputs": [
    {
     "data": {
      "text/html": [
       "<div>\n",
       "<style scoped>\n",
       "    .dataframe tbody tr th:only-of-type {\n",
       "        vertical-align: middle;\n",
       "    }\n",
       "\n",
       "    .dataframe tbody tr th {\n",
       "        vertical-align: top;\n",
       "    }\n",
       "\n",
       "    .dataframe thead th {\n",
       "        text-align: right;\n",
       "    }\n",
       "</style>\n",
       "<table border=\"1\" class=\"dataframe\">\n",
       "  <thead>\n",
       "    <tr style=\"text-align: right;\">\n",
       "      <th></th>\n",
       "      <th>ID</th>\n",
       "      <th>Region</th>\n",
       "      <th>Territory</th>\n",
       "      <th>Pricing, Delivery_Terms_Quote_Appr</th>\n",
       "      <th>Pricing, Delivery_Terms_Approved</th>\n",
       "      <th>Bureaucratic_Code_0_Approval</th>\n",
       "      <th>Bureaucratic_Code_0_Approved</th>\n",
       "      <th>Submitted_for_Approval</th>\n",
       "      <th>Bureaucratic_Code</th>\n",
       "      <th>Account_Created_Date</th>\n",
       "      <th>...</th>\n",
       "      <th>Delivery_Quarter</th>\n",
       "      <th>Delivery_Year</th>\n",
       "      <th>Actual_Delivery_Date</th>\n",
       "      <th>TRF</th>\n",
       "      <th>Total_Amount_Currency</th>\n",
       "      <th>Total_Amount</th>\n",
       "      <th>Total_Taxable_Amount_Currency</th>\n",
       "      <th>Total_Taxable_Amount</th>\n",
       "      <th>Stage</th>\n",
       "      <th>Prod_Category_A</th>\n",
       "    </tr>\n",
       "  </thead>\n",
       "  <tbody>\n",
       "    <tr>\n",
       "      <th>0</th>\n",
       "      <td>27761</td>\n",
       "      <td>EMEA</td>\n",
       "      <td>None</td>\n",
       "      <td>1</td>\n",
       "      <td>1</td>\n",
       "      <td>1</td>\n",
       "      <td>1</td>\n",
       "      <td>0</td>\n",
       "      <td>Bureaucratic_Code_4</td>\n",
       "      <td>6/16/2015</td>\n",
       "      <td>...</td>\n",
       "      <td>Q2</td>\n",
       "      <td>2016</td>\n",
       "      <td>NaT</td>\n",
       "      <td>10</td>\n",
       "      <td>EUR</td>\n",
       "      <td>5272800.00</td>\n",
       "      <td>EUR</td>\n",
       "      <td>5272800.00</td>\n",
       "      <td>Closed Lost</td>\n",
       "      <td>Prod_Category_A_None</td>\n",
       "    </tr>\n",
       "    <tr>\n",
       "      <th>1</th>\n",
       "      <td>27760</td>\n",
       "      <td>EMEA</td>\n",
       "      <td>None</td>\n",
       "      <td>0</td>\n",
       "      <td>0</td>\n",
       "      <td>0</td>\n",
       "      <td>0</td>\n",
       "      <td>0</td>\n",
       "      <td>Bureaucratic_Code_4</td>\n",
       "      <td>6/16/2015</td>\n",
       "      <td>...</td>\n",
       "      <td>Q1</td>\n",
       "      <td>2016</td>\n",
       "      <td>NaT</td>\n",
       "      <td>0</td>\n",
       "      <td>EUR</td>\n",
       "      <td>48230.00</td>\n",
       "      <td>EUR</td>\n",
       "      <td>48230.00</td>\n",
       "      <td>Closed Won</td>\n",
       "      <td>Prod_Category_A_None</td>\n",
       "    </tr>\n",
       "    <tr>\n",
       "      <th>2</th>\n",
       "      <td>27446</td>\n",
       "      <td>Americas</td>\n",
       "      <td>NW America</td>\n",
       "      <td>0</td>\n",
       "      <td>0</td>\n",
       "      <td>0</td>\n",
       "      <td>0</td>\n",
       "      <td>0</td>\n",
       "      <td>Bureaucratic_Code_4</td>\n",
       "      <td>4/21/2015</td>\n",
       "      <td>...</td>\n",
       "      <td>Q1</td>\n",
       "      <td>2016</td>\n",
       "      <td>NaT</td>\n",
       "      <td>0</td>\n",
       "      <td>USD</td>\n",
       "      <td>83865.60</td>\n",
       "      <td>USD</td>\n",
       "      <td>83865.60</td>\n",
       "      <td>Closed Won</td>\n",
       "      <td>Prod_Category_A_None</td>\n",
       "    </tr>\n",
       "    <tr>\n",
       "      <th>3</th>\n",
       "      <td>16808</td>\n",
       "      <td>Americas</td>\n",
       "      <td>NW America</td>\n",
       "      <td>1</td>\n",
       "      <td>0</td>\n",
       "      <td>1</td>\n",
       "      <td>0</td>\n",
       "      <td>0</td>\n",
       "      <td>Bureaucratic_Code_5</td>\n",
       "      <td>7/27/2013</td>\n",
       "      <td>...</td>\n",
       "      <td>Q1</td>\n",
       "      <td>2018</td>\n",
       "      <td>NaT</td>\n",
       "      <td>14</td>\n",
       "      <td>USD</td>\n",
       "      <td>7421881.50</td>\n",
       "      <td>USD</td>\n",
       "      <td>7421881.50</td>\n",
       "      <td>Closed Lost</td>\n",
       "      <td>Prod_Category_A_None</td>\n",
       "    </tr>\n",
       "    <tr>\n",
       "      <th>4</th>\n",
       "      <td>16805</td>\n",
       "      <td>Americas</td>\n",
       "      <td>NW America</td>\n",
       "      <td>1</td>\n",
       "      <td>0</td>\n",
       "      <td>1</td>\n",
       "      <td>0</td>\n",
       "      <td>0</td>\n",
       "      <td>Bureaucratic_Code_5</td>\n",
       "      <td>7/27/2013</td>\n",
       "      <td>...</td>\n",
       "      <td>Q1</td>\n",
       "      <td>2018</td>\n",
       "      <td>NaT</td>\n",
       "      <td>25</td>\n",
       "      <td>USD</td>\n",
       "      <td>13357192.50</td>\n",
       "      <td>USD</td>\n",
       "      <td>13357192.50</td>\n",
       "      <td>Closed Lost</td>\n",
       "      <td>Prod_Category_A_None</td>\n",
       "    </tr>\n",
       "  </tbody>\n",
       "</table>\n",
       "<p>5 rows × 52 columns</p>\n",
       "</div>"
      ],
      "text/plain": [
       "      ID    Region   Territory  Pricing, Delivery_Terms_Quote_Appr  \\\n",
       "0  27761      EMEA        None                                   1   \n",
       "1  27760      EMEA        None                                   0   \n",
       "2  27446  Americas  NW America                                   0   \n",
       "3  16808  Americas  NW America                                   1   \n",
       "4  16805  Americas  NW America                                   1   \n",
       "\n",
       "   Pricing, Delivery_Terms_Approved  Bureaucratic_Code_0_Approval  \\\n",
       "0                                 1                             1   \n",
       "1                                 0                             0   \n",
       "2                                 0                             0   \n",
       "3                                 0                             1   \n",
       "4                                 0                             1   \n",
       "\n",
       "   Bureaucratic_Code_0_Approved  Submitted_for_Approval    Bureaucratic_Code  \\\n",
       "0                             1                       0  Bureaucratic_Code_4   \n",
       "1                             0                       0  Bureaucratic_Code_4   \n",
       "2                             0                       0  Bureaucratic_Code_4   \n",
       "3                             0                       0  Bureaucratic_Code_5   \n",
       "4                             0                       0  Bureaucratic_Code_5   \n",
       "\n",
       "  Account_Created_Date  ... Delivery_Quarter Delivery_Year  \\\n",
       "0            6/16/2015  ...               Q2          2016   \n",
       "1            6/16/2015  ...               Q1          2016   \n",
       "2            4/21/2015  ...               Q1          2016   \n",
       "3            7/27/2013  ...               Q1          2018   \n",
       "4            7/27/2013  ...               Q1          2018   \n",
       "\n",
       "  Actual_Delivery_Date TRF  Total_Amount_Currency Total_Amount  \\\n",
       "0                  NaT  10                    EUR   5272800.00   \n",
       "1                  NaT   0                    EUR     48230.00   \n",
       "2                  NaT   0                    USD     83865.60   \n",
       "3                  NaT  14                    USD   7421881.50   \n",
       "4                  NaT  25                    USD  13357192.50   \n",
       "\n",
       "  Total_Taxable_Amount_Currency Total_Taxable_Amount        Stage  \\\n",
       "0                           EUR           5272800.00  Closed Lost   \n",
       "1                           EUR             48230.00   Closed Won   \n",
       "2                           USD             83865.60   Closed Won   \n",
       "3                           USD           7421881.50  Closed Lost   \n",
       "4                           USD          13357192.50  Closed Lost   \n",
       "\n",
       "        Prod_Category_A  \n",
       "0  Prod_Category_A_None  \n",
       "1  Prod_Category_A_None  \n",
       "2  Prod_Category_A_None  \n",
       "3  Prod_Category_A_None  \n",
       "4  Prod_Category_A_None  \n",
       "\n",
       "[5 rows x 52 columns]"
      ]
     },
     "execution_count": 4,
     "metadata": {},
     "output_type": "execute_result"
    }
   ],
   "source": [
    "df.head()"
   ]
  },
  {
   "cell_type": "markdown",
   "metadata": {},
   "source": [
    "# Relacion entre Opportunity_Owner y Stages"
   ]
  },
  {
   "cell_type": "code",
   "execution_count": 5,
   "metadata": {},
   "outputs": [
    {
     "data": {
      "text/html": [
       "<div>\n",
       "<style scoped>\n",
       "    .dataframe tbody tr th:only-of-type {\n",
       "        vertical-align: middle;\n",
       "    }\n",
       "\n",
       "    .dataframe tbody tr th {\n",
       "        vertical-align: top;\n",
       "    }\n",
       "\n",
       "    .dataframe thead th {\n",
       "        text-align: right;\n",
       "    }\n",
       "</style>\n",
       "<table border=\"1\" class=\"dataframe\">\n",
       "  <thead>\n",
       "    <tr style=\"text-align: right;\">\n",
       "      <th></th>\n",
       "      <th>Opportunity_Owner</th>\n",
       "      <th>Account_Owner</th>\n",
       "      <th>Stage</th>\n",
       "    </tr>\n",
       "    <tr>\n",
       "      <th>Opportunity_Name</th>\n",
       "      <th></th>\n",
       "      <th></th>\n",
       "      <th></th>\n",
       "    </tr>\n",
       "  </thead>\n",
       "  <tbody>\n",
       "  </tbody>\n",
       "</table>\n",
       "</div>"
      ],
      "text/plain": [
       "Empty DataFrame\n",
       "Columns: [Opportunity_Owner, Account_Owner, Stage]\n",
       "Index: []"
      ]
     },
     "execution_count": 5,
     "metadata": {},
     "output_type": "execute_result"
    }
   ],
   "source": [
    "df_opportunity = df[[\"Opportunity_Owner\", \"Account_Owner\", \"Stage\", \"Opportunity_Name\"]].groupby(\"Opportunity_Name\").agg(pd.Series.nunique)\n",
    "df_opportunity[(df_opportunity[\"Opportunity_Owner\"] != 1) | (df_opportunity[\"Stage\"] != 1) | df_opportunity[\"Account_Owner\"] != 1]"
   ]
  },
  {
   "cell_type": "markdown",
   "metadata": {},
   "source": [
    "Esto significa que cada entrada del df es un item de una oportunidad, y todo los items tienen el mismo desenlace (valor Stage) y las oportunidades son manejadas por un único Opportunity_Owner y Account_Owner."
   ]
  },
  {
   "cell_type": "code",
   "execution_count": 6,
   "metadata": {},
   "outputs": [
    {
     "data": {
      "text/html": [
       "<div>\n",
       "<style scoped>\n",
       "    .dataframe tbody tr th:only-of-type {\n",
       "        vertical-align: middle;\n",
       "    }\n",
       "\n",
       "    .dataframe tbody tr th {\n",
       "        vertical-align: top;\n",
       "    }\n",
       "\n",
       "    .dataframe thead th {\n",
       "        text-align: right;\n",
       "    }\n",
       "</style>\n",
       "<table border=\"1\" class=\"dataframe\">\n",
       "  <thead>\n",
       "    <tr style=\"text-align: right;\">\n",
       "      <th></th>\n",
       "      <th>Stage</th>\n",
       "      <th>Opportunity_Owner</th>\n",
       "    </tr>\n",
       "  </thead>\n",
       "  <tbody>\n",
       "    <tr>\n",
       "      <th>0</th>\n",
       "      <td>Closed Lost</td>\n",
       "      <td>Person_Name_18</td>\n",
       "    </tr>\n",
       "    <tr>\n",
       "      <th>1</th>\n",
       "      <td>Closed Won</td>\n",
       "      <td>Person_Name_20</td>\n",
       "    </tr>\n",
       "    <tr>\n",
       "      <th>2</th>\n",
       "      <td>Closed Won</td>\n",
       "      <td>Person_Name_8</td>\n",
       "    </tr>\n",
       "    <tr>\n",
       "      <th>3</th>\n",
       "      <td>Closed Lost</td>\n",
       "      <td>Person_Name_8</td>\n",
       "    </tr>\n",
       "    <tr>\n",
       "      <th>4</th>\n",
       "      <td>Closed Lost</td>\n",
       "      <td>Person_Name_8</td>\n",
       "    </tr>\n",
       "  </tbody>\n",
       "</table>\n",
       "</div>"
      ],
      "text/plain": [
       "         Stage Opportunity_Owner\n",
       "0  Closed Lost    Person_Name_18\n",
       "1   Closed Won    Person_Name_20\n",
       "2   Closed Won     Person_Name_8\n",
       "3  Closed Lost     Person_Name_8\n",
       "4  Closed Lost     Person_Name_8"
      ]
     },
     "execution_count": 6,
     "metadata": {},
     "output_type": "execute_result"
    }
   ],
   "source": [
    "df_owners = df[[\"Opportunity_Owner\", \"Stage\", \"Opportunity_Name\"]].drop_duplicates()\n",
    "df_owners = df_owners[[\"Stage\", \"Opportunity_Owner\"]]\n",
    "df_owners.head()"
   ]
  },
  {
   "cell_type": "code",
   "execution_count": 7,
   "metadata": {},
   "outputs": [
    {
     "data": {
      "text/plain": [
       "Stage                category\n",
       "Opportunity_Owner    category\n",
       "dtype: object"
      ]
     },
     "execution_count": 7,
     "metadata": {},
     "output_type": "execute_result"
    }
   ],
   "source": [
    "df_owners = df_owners.astype({\"Opportunity_Owner\" : \"category\", \"Stage\" : \"category\"})\n",
    "df_owners.dtypes"
   ]
  },
  {
   "cell_type": "code",
   "execution_count": 8,
   "metadata": {},
   "outputs": [
    {
     "data": {
      "text/html": [
       "<div>\n",
       "<style scoped>\n",
       "    .dataframe tbody tr th:only-of-type {\n",
       "        vertical-align: middle;\n",
       "    }\n",
       "\n",
       "    .dataframe tbody tr th {\n",
       "        vertical-align: top;\n",
       "    }\n",
       "\n",
       "    .dataframe thead th {\n",
       "        text-align: right;\n",
       "    }\n",
       "</style>\n",
       "<table border=\"1\" class=\"dataframe\">\n",
       "  <thead>\n",
       "    <tr style=\"text-align: right;\">\n",
       "      <th></th>\n",
       "      <th>Stage</th>\n",
       "      <th>Opportunity_Owner</th>\n",
       "    </tr>\n",
       "  </thead>\n",
       "  <tbody>\n",
       "    <tr>\n",
       "      <th>count</th>\n",
       "      <td>9841</td>\n",
       "      <td>9841</td>\n",
       "    </tr>\n",
       "    <tr>\n",
       "      <th>unique</th>\n",
       "      <td>5</td>\n",
       "      <td>53</td>\n",
       "    </tr>\n",
       "    <tr>\n",
       "      <th>top</th>\n",
       "      <td>Closed Won</td>\n",
       "      <td>Person_Name_50</td>\n",
       "    </tr>\n",
       "    <tr>\n",
       "      <th>freq</th>\n",
       "      <td>5072</td>\n",
       "      <td>958</td>\n",
       "    </tr>\n",
       "  </tbody>\n",
       "</table>\n",
       "</div>"
      ],
      "text/plain": [
       "             Stage Opportunity_Owner\n",
       "count         9841              9841\n",
       "unique           5                53\n",
       "top     Closed Won    Person_Name_50\n",
       "freq          5072               958"
      ]
     },
     "execution_count": 8,
     "metadata": {},
     "output_type": "execute_result"
    }
   ],
   "source": [
    "df_owners.describe()"
   ]
  },
  {
   "cell_type": "code",
   "execution_count": 9,
   "metadata": {},
   "outputs": [
    {
     "data": {
      "text/html": [
       "<div>\n",
       "<style scoped>\n",
       "    .dataframe tbody tr th:only-of-type {\n",
       "        vertical-align: middle;\n",
       "    }\n",
       "\n",
       "    .dataframe tbody tr th {\n",
       "        vertical-align: top;\n",
       "    }\n",
       "\n",
       "    .dataframe thead th {\n",
       "        text-align: right;\n",
       "    }\n",
       "</style>\n",
       "<table border=\"1\" class=\"dataframe\">\n",
       "  <thead>\n",
       "    <tr style=\"text-align: right;\">\n",
       "      <th></th>\n",
       "      <th>Stage</th>\n",
       "      <th>Opportunity_Owner</th>\n",
       "    </tr>\n",
       "  </thead>\n",
       "  <tbody>\n",
       "    <tr>\n",
       "      <th>count</th>\n",
       "      <td>9791</td>\n",
       "      <td>9791</td>\n",
       "    </tr>\n",
       "    <tr>\n",
       "      <th>unique</th>\n",
       "      <td>2</td>\n",
       "      <td>53</td>\n",
       "    </tr>\n",
       "    <tr>\n",
       "      <th>top</th>\n",
       "      <td>Closed Won</td>\n",
       "      <td>Person_Name_50</td>\n",
       "    </tr>\n",
       "    <tr>\n",
       "      <th>freq</th>\n",
       "      <td>5072</td>\n",
       "      <td>951</td>\n",
       "    </tr>\n",
       "  </tbody>\n",
       "</table>\n",
       "</div>"
      ],
      "text/plain": [
       "             Stage Opportunity_Owner\n",
       "count         9791              9791\n",
       "unique           2                53\n",
       "top     Closed Won    Person_Name_50\n",
       "freq          5072               951"
      ]
     },
     "execution_count": 9,
     "metadata": {},
     "output_type": "execute_result"
    }
   ],
   "source": [
    "df_owners = df_owners[(df_owners[\"Stage\"] == \"Closed Won\") | (df_owners[\"Stage\"] == \"Closed Lost\")]\n",
    "df_owners.describe()"
   ]
  },
  {
   "cell_type": "code",
   "execution_count": 10,
   "metadata": {},
   "outputs": [],
   "source": [
    "def mean_closed_wons(x):\n",
    "    return (x == \"Closed Won\").mean()"
   ]
  },
  {
   "cell_type": "code",
   "execution_count": 11,
   "metadata": {},
   "outputs": [
    {
     "data": {
      "text/html": [
       "<div>\n",
       "<style scoped>\n",
       "    .dataframe tbody tr th:only-of-type {\n",
       "        vertical-align: middle;\n",
       "    }\n",
       "\n",
       "    .dataframe tbody tr th {\n",
       "        vertical-align: top;\n",
       "    }\n",
       "\n",
       "    .dataframe thead th {\n",
       "        text-align: right;\n",
       "    }\n",
       "</style>\n",
       "<table border=\"1\" class=\"dataframe\">\n",
       "  <thead>\n",
       "    <tr style=\"text-align: right;\">\n",
       "      <th></th>\n",
       "      <th>Stage</th>\n",
       "      <th>Opportunity_Owner</th>\n",
       "    </tr>\n",
       "  </thead>\n",
       "  <tbody>\n",
       "    <tr>\n",
       "      <th>0</th>\n",
       "      <td>Closed Lost</td>\n",
       "      <td>Person_Name_18</td>\n",
       "    </tr>\n",
       "    <tr>\n",
       "      <th>1</th>\n",
       "      <td>Closed Won</td>\n",
       "      <td>Person_Name_20</td>\n",
       "    </tr>\n",
       "    <tr>\n",
       "      <th>2</th>\n",
       "      <td>Closed Won</td>\n",
       "      <td>Person_Name_8</td>\n",
       "    </tr>\n",
       "    <tr>\n",
       "      <th>3</th>\n",
       "      <td>Closed Lost</td>\n",
       "      <td>Person_Name_8</td>\n",
       "    </tr>\n",
       "    <tr>\n",
       "      <th>4</th>\n",
       "      <td>Closed Lost</td>\n",
       "      <td>Person_Name_8</td>\n",
       "    </tr>\n",
       "    <tr>\n",
       "      <th>...</th>\n",
       "      <td>...</td>\n",
       "      <td>...</td>\n",
       "    </tr>\n",
       "    <tr>\n",
       "      <th>16939</th>\n",
       "      <td>Closed Won</td>\n",
       "      <td>Person_Name_13</td>\n",
       "    </tr>\n",
       "    <tr>\n",
       "      <th>16940</th>\n",
       "      <td>Closed Lost</td>\n",
       "      <td>Person_Name_13</td>\n",
       "    </tr>\n",
       "    <tr>\n",
       "      <th>16942</th>\n",
       "      <td>Closed Won</td>\n",
       "      <td>Person_Name_13</td>\n",
       "    </tr>\n",
       "    <tr>\n",
       "      <th>16945</th>\n",
       "      <td>Closed Lost</td>\n",
       "      <td>Person_Name_3</td>\n",
       "    </tr>\n",
       "    <tr>\n",
       "      <th>16946</th>\n",
       "      <td>Closed Lost</td>\n",
       "      <td>Person_Name_3</td>\n",
       "    </tr>\n",
       "  </tbody>\n",
       "</table>\n",
       "<p>9791 rows × 2 columns</p>\n",
       "</div>"
      ],
      "text/plain": [
       "             Stage Opportunity_Owner\n",
       "0      Closed Lost    Person_Name_18\n",
       "1       Closed Won    Person_Name_20\n",
       "2       Closed Won     Person_Name_8\n",
       "3      Closed Lost     Person_Name_8\n",
       "4      Closed Lost     Person_Name_8\n",
       "...            ...               ...\n",
       "16939   Closed Won    Person_Name_13\n",
       "16940  Closed Lost    Person_Name_13\n",
       "16942   Closed Won    Person_Name_13\n",
       "16945  Closed Lost     Person_Name_3\n",
       "16946  Closed Lost     Person_Name_3\n",
       "\n",
       "[9791 rows x 2 columns]"
      ]
     },
     "execution_count": 11,
     "metadata": {},
     "output_type": "execute_result"
    }
   ],
   "source": [
    "df_owners"
   ]
  },
  {
   "cell_type": "code",
   "execution_count": 12,
   "metadata": {},
   "outputs": [
    {
     "data": {
      "text/html": [
       "<div>\n",
       "<style scoped>\n",
       "    .dataframe tbody tr th:only-of-type {\n",
       "        vertical-align: middle;\n",
       "    }\n",
       "\n",
       "    .dataframe tbody tr th {\n",
       "        vertical-align: top;\n",
       "    }\n",
       "\n",
       "    .dataframe thead th {\n",
       "        text-align: right;\n",
       "    }\n",
       "</style>\n",
       "<table border=\"1\" class=\"dataframe\">\n",
       "  <thead>\n",
       "    <tr style=\"text-align: right;\">\n",
       "      <th></th>\n",
       "      <th>Stage</th>\n",
       "      <th>Opportunity_Owner</th>\n",
       "    </tr>\n",
       "  </thead>\n",
       "  <tbody>\n",
       "    <tr>\n",
       "      <th>0</th>\n",
       "      <td>0</td>\n",
       "      <td>Person_Name_18</td>\n",
       "    </tr>\n",
       "    <tr>\n",
       "      <th>2</th>\n",
       "      <td>1</td>\n",
       "      <td>Person_Name_8</td>\n",
       "    </tr>\n",
       "    <tr>\n",
       "      <th>3</th>\n",
       "      <td>0</td>\n",
       "      <td>Person_Name_8</td>\n",
       "    </tr>\n",
       "    <tr>\n",
       "      <th>4</th>\n",
       "      <td>0</td>\n",
       "      <td>Person_Name_8</td>\n",
       "    </tr>\n",
       "    <tr>\n",
       "      <th>5</th>\n",
       "      <td>0</td>\n",
       "      <td>Person_Name_8</td>\n",
       "    </tr>\n",
       "    <tr>\n",
       "      <th>...</th>\n",
       "      <td>...</td>\n",
       "      <td>...</td>\n",
       "    </tr>\n",
       "    <tr>\n",
       "      <th>16939</th>\n",
       "      <td>1</td>\n",
       "      <td>Person_Name_13</td>\n",
       "    </tr>\n",
       "    <tr>\n",
       "      <th>16940</th>\n",
       "      <td>0</td>\n",
       "      <td>Person_Name_13</td>\n",
       "    </tr>\n",
       "    <tr>\n",
       "      <th>16942</th>\n",
       "      <td>1</td>\n",
       "      <td>Person_Name_13</td>\n",
       "    </tr>\n",
       "    <tr>\n",
       "      <th>16945</th>\n",
       "      <td>0</td>\n",
       "      <td>Person_Name_3</td>\n",
       "    </tr>\n",
       "    <tr>\n",
       "      <th>16946</th>\n",
       "      <td>0</td>\n",
       "      <td>Person_Name_3</td>\n",
       "    </tr>\n",
       "  </tbody>\n",
       "</table>\n",
       "<p>9453 rows × 2 columns</p>\n",
       "</div>"
      ],
      "text/plain": [
       "       Stage Opportunity_Owner\n",
       "0          0    Person_Name_18\n",
       "2          1     Person_Name_8\n",
       "3          0     Person_Name_8\n",
       "4          0     Person_Name_8\n",
       "5          0     Person_Name_8\n",
       "...      ...               ...\n",
       "16939      1    Person_Name_13\n",
       "16940      0    Person_Name_13\n",
       "16942      1    Person_Name_13\n",
       "16945      0     Person_Name_3\n",
       "16946      0     Person_Name_3\n",
       "\n",
       "[9453 rows x 2 columns]"
      ]
     },
     "execution_count": 12,
     "metadata": {},
     "output_type": "execute_result"
    }
   ],
   "source": [
    "df_owners_mean_wins = df_owners.groupby(\"Opportunity_Owner\").filter(lambda x: x[\"Stage\"].count() > 50)\n",
    "\n",
    "df_owners_mean_wins[\"Stage\"] = df_owners_mean_wins[\"Stage\"].apply(lambda x: 1 if (x == \"Closed Won\") else 0)\n",
    "\n",
    "df_owners_mean_wins"
   ]
  },
  {
   "cell_type": "code",
   "execution_count": 13,
   "metadata": {},
   "outputs": [
    {
     "data": {
      "text/html": [
       "<div>\n",
       "<style scoped>\n",
       "    .dataframe tbody tr th:only-of-type {\n",
       "        vertical-align: middle;\n",
       "    }\n",
       "\n",
       "    .dataframe tbody tr th {\n",
       "        vertical-align: top;\n",
       "    }\n",
       "\n",
       "    .dataframe thead th {\n",
       "        text-align: right;\n",
       "    }\n",
       "</style>\n",
       "<table border=\"1\" class=\"dataframe\">\n",
       "  <thead>\n",
       "    <tr style=\"text-align: right;\">\n",
       "      <th></th>\n",
       "      <th>Percentage Closed Wons</th>\n",
       "    </tr>\n",
       "    <tr>\n",
       "      <th>Opportunity_Owner</th>\n",
       "      <th></th>\n",
       "    </tr>\n",
       "  </thead>\n",
       "  <tbody>\n",
       "    <tr>\n",
       "      <th>Person_Name_19</th>\n",
       "      <td>0.97</td>\n",
       "    </tr>\n",
       "    <tr>\n",
       "      <th>Person_Name_52</th>\n",
       "      <td>0.78</td>\n",
       "    </tr>\n",
       "    <tr>\n",
       "      <th>Person_Name_32</th>\n",
       "      <td>0.77</td>\n",
       "    </tr>\n",
       "    <tr>\n",
       "      <th>Person_Name_64</th>\n",
       "      <td>0.68</td>\n",
       "    </tr>\n",
       "    <tr>\n",
       "      <th>Person_Name_65</th>\n",
       "      <td>0.68</td>\n",
       "    </tr>\n",
       "    <tr>\n",
       "      <th>Person_Name_66</th>\n",
       "      <td>0.66</td>\n",
       "    </tr>\n",
       "    <tr>\n",
       "      <th>Person_Name_55</th>\n",
       "      <td>0.65</td>\n",
       "    </tr>\n",
       "    <tr>\n",
       "      <th>Person_Name_50</th>\n",
       "      <td>0.63</td>\n",
       "    </tr>\n",
       "    <tr>\n",
       "      <th>Person_Name_33</th>\n",
       "      <td>0.60</td>\n",
       "    </tr>\n",
       "    <tr>\n",
       "      <th>Person_Name_13</th>\n",
       "      <td>0.57</td>\n",
       "    </tr>\n",
       "    <tr>\n",
       "      <th>Person_Name_8</th>\n",
       "      <td>0.56</td>\n",
       "    </tr>\n",
       "    <tr>\n",
       "      <th>Person_Name_23</th>\n",
       "      <td>0.56</td>\n",
       "    </tr>\n",
       "    <tr>\n",
       "      <th>Person_Name_49</th>\n",
       "      <td>0.54</td>\n",
       "    </tr>\n",
       "    <tr>\n",
       "      <th>Person_Name_54</th>\n",
       "      <td>0.53</td>\n",
       "    </tr>\n",
       "    <tr>\n",
       "      <th>Person_Name_2</th>\n",
       "      <td>0.48</td>\n",
       "    </tr>\n",
       "  </tbody>\n",
       "</table>\n",
       "</div>"
      ],
      "text/plain": [
       "                   Percentage Closed Wons\n",
       "Opportunity_Owner                        \n",
       "Person_Name_19                       0.97\n",
       "Person_Name_52                       0.78\n",
       "Person_Name_32                       0.77\n",
       "Person_Name_64                       0.68\n",
       "Person_Name_65                       0.68\n",
       "Person_Name_66                       0.66\n",
       "Person_Name_55                       0.65\n",
       "Person_Name_50                       0.63\n",
       "Person_Name_33                       0.60\n",
       "Person_Name_13                       0.57\n",
       "Person_Name_8                        0.56\n",
       "Person_Name_23                       0.56\n",
       "Person_Name_49                       0.54\n",
       "Person_Name_54                       0.53\n",
       "Person_Name_2                        0.48"
      ]
     },
     "execution_count": 13,
     "metadata": {},
     "output_type": "execute_result"
    }
   ],
   "source": [
    "df_owners_top15_best = df_owners_mean_wins.groupby(\"Opportunity_Owner\").agg({\"Stage\" : \"mean\"}).dropna()[\"Stage\"].nlargest(15).to_frame().rename(columns = {\"Stage\": \"Percentage Closed Wons\"})\n",
    "df_owners_top15_best"
   ]
  },
  {
   "cell_type": "markdown",
   "metadata": {},
   "source": [
    "Grafico el resultado"
   ]
  },
  {
   "cell_type": "code",
   "execution_count": 14,
   "metadata": {},
   "outputs": [
    {
     "data": {
      "text/plain": [
       "Text(0, 0.5, 'Opportunity Owner')"
      ]
     },
     "execution_count": 14,
     "metadata": {},
     "output_type": "execute_result"
    },
    {
     "data": {
      "image/png": "[encoded data removed]",
      "text/plain": [
       "<Figure size 864x576 with 1 Axes>"
      ]
     },
     "metadata": {
      "needs_background": "light"
     },
     "output_type": "display_data"
    }
   ],
   "source": [
    "df_owners_top15_best = df_owners_top15_best.sort_values(\"Percentage Closed Wons\", ascending = True)\n",
    "df_owners_top15_best.index = df_owners_top15_best.index.str.replace(\"_Name_\", \" \", regex = True)\n",
    "\n",
    "plt.subplots(figsize=(12,8))\n",
    "\n",
    "plt.hlines(y = df_owners_top15_best.index, xmin = 0, xmax = df_owners_top15_best['Percentage Closed Wons'], color = 'skyblue')\n",
    "plt.plot(df_owners_top15_best['Percentage Closed Wons'], df_owners_top15_best.index, \"o\")\n",
    " \n",
    "# Add titles and axis names\n",
    "plt.grid(True, axis = \"x\", ls = '--')\n",
    "plt.yticks(rotation = 0)\n",
    "plt.title(\"Top 15 Opportunity Owners con mayor procentaje de Closed Won sobre Closed Opportunity\", loc = 'center', fontsize = 15)\n",
    "plt.xlabel('% Closed Won sobre Closed Opportunity', fontsize = 15)\n",
    "plt.ylabel('Opportunity Owner', fontsize = 15)\n"
   ]
  },
  {
   "cell_type": "markdown",
   "metadata": {},
   "source": [
    "De la misma forma podemos ver los 15 peores Opportunity Owners "
   ]
  },
  {
   "cell_type": "code",
   "execution_count": 15,
   "metadata": {},
   "outputs": [
    {
     "data": {
      "text/html": [
       "<div>\n",
       "<style scoped>\n",
       "    .dataframe tbody tr th:only-of-type {\n",
       "        vertical-align: middle;\n",
       "    }\n",
       "\n",
       "    .dataframe tbody tr th {\n",
       "        vertical-align: top;\n",
       "    }\n",
       "\n",
       "    .dataframe thead th {\n",
       "        text-align: right;\n",
       "    }\n",
       "</style>\n",
       "<table border=\"1\" class=\"dataframe\">\n",
       "  <thead>\n",
       "    <tr style=\"text-align: right;\">\n",
       "      <th></th>\n",
       "      <th>Percentage Closed Wons</th>\n",
       "    </tr>\n",
       "    <tr>\n",
       "      <th>Opportunity_Owner</th>\n",
       "      <th></th>\n",
       "    </tr>\n",
       "  </thead>\n",
       "  <tbody>\n",
       "    <tr>\n",
       "      <th>Person_Name_45</th>\n",
       "      <td>0.21</td>\n",
       "    </tr>\n",
       "    <tr>\n",
       "      <th>Person_Name_5</th>\n",
       "      <td>0.23</td>\n",
       "    </tr>\n",
       "    <tr>\n",
       "      <th>Person_Name_60</th>\n",
       "      <td>0.25</td>\n",
       "    </tr>\n",
       "    <tr>\n",
       "      <th>Person_Name_39</th>\n",
       "      <td>0.25</td>\n",
       "    </tr>\n",
       "    <tr>\n",
       "      <th>Person_Name_16</th>\n",
       "      <td>0.27</td>\n",
       "    </tr>\n",
       "    <tr>\n",
       "      <th>Person_Name_3</th>\n",
       "      <td>0.29</td>\n",
       "    </tr>\n",
       "    <tr>\n",
       "      <th>Person_Name_59</th>\n",
       "      <td>0.30</td>\n",
       "    </tr>\n",
       "    <tr>\n",
       "      <th>Person_Name_43</th>\n",
       "      <td>0.31</td>\n",
       "    </tr>\n",
       "    <tr>\n",
       "      <th>Person_Name_63</th>\n",
       "      <td>0.32</td>\n",
       "    </tr>\n",
       "    <tr>\n",
       "      <th>Person_Name_51</th>\n",
       "      <td>0.33</td>\n",
       "    </tr>\n",
       "    <tr>\n",
       "      <th>Person_Name_38</th>\n",
       "      <td>0.35</td>\n",
       "    </tr>\n",
       "    <tr>\n",
       "      <th>Person_Name_46</th>\n",
       "      <td>0.35</td>\n",
       "    </tr>\n",
       "    <tr>\n",
       "      <th>Person_Name_11</th>\n",
       "      <td>0.37</td>\n",
       "    </tr>\n",
       "    <tr>\n",
       "      <th>Person_Name_14</th>\n",
       "      <td>0.40</td>\n",
       "    </tr>\n",
       "    <tr>\n",
       "      <th>Person_Name_48</th>\n",
       "      <td>0.41</td>\n",
       "    </tr>\n",
       "  </tbody>\n",
       "</table>\n",
       "</div>"
      ],
      "text/plain": [
       "                   Percentage Closed Wons\n",
       "Opportunity_Owner                        \n",
       "Person_Name_45                       0.21\n",
       "Person_Name_5                        0.23\n",
       "Person_Name_60                       0.25\n",
       "Person_Name_39                       0.25\n",
       "Person_Name_16                       0.27\n",
       "Person_Name_3                        0.29\n",
       "Person_Name_59                       0.30\n",
       "Person_Name_43                       0.31\n",
       "Person_Name_63                       0.32\n",
       "Person_Name_51                       0.33\n",
       "Person_Name_38                       0.35\n",
       "Person_Name_46                       0.35\n",
       "Person_Name_11                       0.37\n",
       "Person_Name_14                       0.40\n",
       "Person_Name_48                       0.41"
      ]
     },
     "execution_count": 15,
     "metadata": {},
     "output_type": "execute_result"
    }
   ],
   "source": [
    "df_owners_top15_worst = df_owners_mean_wins.groupby(\"Opportunity_Owner\").agg({\"Stage\" : \"mean\"}).dropna()[\"Stage\"].nsmallest(15).to_frame().rename(columns = {\"Stage\": \"Percentage Closed Wons\"})\n",
    "df_owners_top15_worst"
   ]
  },
  {
   "cell_type": "code",
   "execution_count": 16,
   "metadata": {},
   "outputs": [
    {
     "data": {
      "text/plain": [
       "(-0.05, 1.05)"
      ]
     },
     "execution_count": 16,
     "metadata": {},
     "output_type": "execute_result"
    },
    {
     "data": {
      "image/png": "[encoded data removed]",
      "text/plain": [
       "<Figure size 864x576 with 1 Axes>"
      ]
     },
     "metadata": {
      "needs_background": "light"
     },
     "output_type": "display_data"
    }
   ],
   "source": [
    "df_owners_top15_worst = df_owners_top15_worst.sort_values(\"Percentage Closed Wons\", ascending = False)\n",
    "df_owners_top15_worst.index = df_owners_top15_worst.index.str.replace(\"_Name_\", \" \", regex = True)\n",
    "\n",
    "plt.subplots(figsize=(12,8))\n",
    "\n",
    "plt.hlines(y = df_owners_top15_worst.index, xmin = 0, xmax = df_owners_top15_worst['Percentage Closed Wons'], color = 'indianred')\n",
    "plt.plot(df_owners_top15_worst['Percentage Closed Wons'], df_owners_top15_worst.index, \"o\", c = \"r\", scalex = False)\n",
    " \n",
    "# Add titles and axis names\n",
    "plt.grid(True, axis = \"x\", ls = '--')\n",
    "plt.yticks(rotation = 0)\n",
    "plt.title(\"Top 15 Opportunity Owners con menor procentaje de Closed Won sobre Closed Opportunity\", loc = 'center', fontsize = 15)\n",
    "plt.xlabel('% Closed Won sobre Closed Opportunity', fontsize = 15)\n",
    "plt.ylabel('Opportunity Owner', fontsize = 15)\n",
    "plt.xlim(-0.05, 1.05)"
   ]
  },
  {
   "cell_type": "markdown",
   "metadata": {},
   "source": [
    "### Verificacion Total_Taxable_Ammount"
   ]
  },
  {
   "cell_type": "code",
   "execution_count": 17,
   "metadata": {},
   "outputs": [],
   "source": [
    "df_taxable = df[[\"Opportunity_Name\", \"Total_Amount\", \"Total_Taxable_Amount\"]]"
   ]
  },
  {
   "cell_type": "code",
   "execution_count": 18,
   "metadata": {},
   "outputs": [
    {
     "data": {
      "text/html": [
       "<div>\n",
       "<style scoped>\n",
       "    .dataframe tbody tr th:only-of-type {\n",
       "        vertical-align: middle;\n",
       "    }\n",
       "\n",
       "    .dataframe tbody tr th {\n",
       "        vertical-align: top;\n",
       "    }\n",
       "\n",
       "    .dataframe thead th {\n",
       "        text-align: right;\n",
       "    }\n",
       "</style>\n",
       "<table border=\"1\" class=\"dataframe\">\n",
       "  <thead>\n",
       "    <tr style=\"text-align: right;\">\n",
       "      <th></th>\n",
       "      <th>Total_Amount</th>\n",
       "      <th>Total_Taxable_Amount</th>\n",
       "      <th>Difference</th>\n",
       "    </tr>\n",
       "    <tr>\n",
       "      <th>Opportunity_Name</th>\n",
       "      <th></th>\n",
       "      <th></th>\n",
       "      <th></th>\n",
       "    </tr>\n",
       "  </thead>\n",
       "  <tbody>\n",
       "    <tr>\n",
       "      <th>Opportunity_Name_0</th>\n",
       "      <td>3494400.00</td>\n",
       "      <td>3494400.00</td>\n",
       "      <td>0.00</td>\n",
       "    </tr>\n",
       "    <tr>\n",
       "      <th>Opportunity_Name_1</th>\n",
       "      <td>2193100.00</td>\n",
       "      <td>2193100.00</td>\n",
       "      <td>0.00</td>\n",
       "    </tr>\n",
       "    <tr>\n",
       "      <th>Opportunity_Name_100</th>\n",
       "      <td>543780.00</td>\n",
       "      <td>543780.00</td>\n",
       "      <td>0.00</td>\n",
       "    </tr>\n",
       "    <tr>\n",
       "      <th>Opportunity_Name_1000</th>\n",
       "      <td>142142000.00</td>\n",
       "      <td>142142000.00</td>\n",
       "      <td>0.00</td>\n",
       "    </tr>\n",
       "    <tr>\n",
       "      <th>Opportunity_Name_10000</th>\n",
       "      <td>19600.00</td>\n",
       "      <td>0.00</td>\n",
       "      <td>19600.00</td>\n",
       "    </tr>\n",
       "    <tr>\n",
       "      <th>...</th>\n",
       "      <td>...</td>\n",
       "      <td>...</td>\n",
       "      <td>...</td>\n",
       "    </tr>\n",
       "    <tr>\n",
       "      <th>Opportunity_Name_9992</th>\n",
       "      <td>175190.40</td>\n",
       "      <td>0.00</td>\n",
       "      <td>175190.40</td>\n",
       "    </tr>\n",
       "    <tr>\n",
       "      <th>Opportunity_Name_9995</th>\n",
       "      <td>1043490.00</td>\n",
       "      <td>1043490.00</td>\n",
       "      <td>0.00</td>\n",
       "    </tr>\n",
       "    <tr>\n",
       "      <th>Opportunity_Name_9996</th>\n",
       "      <td>790246.88</td>\n",
       "      <td>790246.88</td>\n",
       "      <td>0.00</td>\n",
       "    </tr>\n",
       "    <tr>\n",
       "      <th>Opportunity_Name_9997</th>\n",
       "      <td>3799810.00</td>\n",
       "      <td>3799810.00</td>\n",
       "      <td>0.00</td>\n",
       "    </tr>\n",
       "    <tr>\n",
       "      <th>Opportunity_Name_9998</th>\n",
       "      <td>362610.00</td>\n",
       "      <td>362610.00</td>\n",
       "      <td>0.00</td>\n",
       "    </tr>\n",
       "  </tbody>\n",
       "</table>\n",
       "<p>9841 rows × 3 columns</p>\n",
       "</div>"
      ],
      "text/plain": [
       "                        Total_Amount  Total_Taxable_Amount  Difference\n",
       "Opportunity_Name                                                      \n",
       "Opportunity_Name_0        3494400.00            3494400.00        0.00\n",
       "Opportunity_Name_1        2193100.00            2193100.00        0.00\n",
       "Opportunity_Name_100       543780.00             543780.00        0.00\n",
       "Opportunity_Name_1000   142142000.00          142142000.00        0.00\n",
       "Opportunity_Name_10000      19600.00                  0.00    19600.00\n",
       "...                              ...                   ...         ...\n",
       "Opportunity_Name_9992      175190.40                  0.00   175190.40\n",
       "Opportunity_Name_9995     1043490.00            1043490.00        0.00\n",
       "Opportunity_Name_9996      790246.88             790246.88        0.00\n",
       "Opportunity_Name_9997     3799810.00            3799810.00        0.00\n",
       "Opportunity_Name_9998      362610.00             362610.00        0.00\n",
       "\n",
       "[9841 rows x 3 columns]"
      ]
     },
     "execution_count": 18,
     "metadata": {},
     "output_type": "execute_result"
    }
   ],
   "source": [
    "df_grouped = df_taxable.groupby(\"Opportunity_Name\").agg({\"Total_Amount\" : \"sum\", \"Total_Taxable_Amount\" : \"mean\"})\n",
    "\n",
    "df_grouped[\"Difference\"] = df_grouped[\"Total_Amount\"] - df_grouped[\"Total_Taxable_Amount\"]\n",
    "df_grouped"
   ]
  },
  {
   "cell_type": "code",
   "execution_count": 19,
   "metadata": {},
   "outputs": [
    {
     "data": {
      "text/html": [
       "<div>\n",
       "<style scoped>\n",
       "    .dataframe tbody tr th:only-of-type {\n",
       "        vertical-align: middle;\n",
       "    }\n",
       "\n",
       "    .dataframe tbody tr th {\n",
       "        vertical-align: top;\n",
       "    }\n",
       "\n",
       "    .dataframe thead th {\n",
       "        text-align: right;\n",
       "    }\n",
       "</style>\n",
       "<table border=\"1\" class=\"dataframe\">\n",
       "  <thead>\n",
       "    <tr style=\"text-align: right;\">\n",
       "      <th></th>\n",
       "      <th>Total_Amount</th>\n",
       "      <th>Total_Taxable_Amount</th>\n",
       "      <th>Difference</th>\n",
       "    </tr>\n",
       "    <tr>\n",
       "      <th>Opportunity_Name</th>\n",
       "      <th></th>\n",
       "      <th></th>\n",
       "      <th></th>\n",
       "    </tr>\n",
       "  </thead>\n",
       "  <tbody>\n",
       "    <tr>\n",
       "      <th>Opportunity_Name_10374</th>\n",
       "      <td>61755.05</td>\n",
       "      <td>61755.05</td>\n",
       "      <td>0.00</td>\n",
       "    </tr>\n",
       "    <tr>\n",
       "      <th>Opportunity_Name_10398</th>\n",
       "      <td>14120268.80</td>\n",
       "      <td>14120268.80</td>\n",
       "      <td>-0.00</td>\n",
       "    </tr>\n",
       "    <tr>\n",
       "      <th>Opportunity_Name_10429</th>\n",
       "      <td>167706.00</td>\n",
       "      <td>118671.10</td>\n",
       "      <td>49034.90</td>\n",
       "    </tr>\n",
       "    <tr>\n",
       "      <th>Opportunity_Name_10434</th>\n",
       "      <td>3440056.90</td>\n",
       "      <td>3440056.90</td>\n",
       "      <td>0.00</td>\n",
       "    </tr>\n",
       "    <tr>\n",
       "      <th>Opportunity_Name_10437</th>\n",
       "      <td>2273949.30</td>\n",
       "      <td>2273949.30</td>\n",
       "      <td>-0.00</td>\n",
       "    </tr>\n",
       "    <tr>\n",
       "      <th>...</th>\n",
       "      <td>...</td>\n",
       "      <td>...</td>\n",
       "      <td>...</td>\n",
       "    </tr>\n",
       "    <tr>\n",
       "      <th>Opportunity_Name_9735</th>\n",
       "      <td>1065049.70</td>\n",
       "      <td>1065049.70</td>\n",
       "      <td>0.00</td>\n",
       "    </tr>\n",
       "    <tr>\n",
       "      <th>Opportunity_Name_9806</th>\n",
       "      <td>972370.35</td>\n",
       "      <td>972370.35</td>\n",
       "      <td>0.00</td>\n",
       "    </tr>\n",
       "    <tr>\n",
       "      <th>Opportunity_Name_9843</th>\n",
       "      <td>964092.15</td>\n",
       "      <td>964092.15</td>\n",
       "      <td>-0.00</td>\n",
       "    </tr>\n",
       "    <tr>\n",
       "      <th>Opportunity_Name_9848</th>\n",
       "      <td>180338.40</td>\n",
       "      <td>180338.40</td>\n",
       "      <td>0.00</td>\n",
       "    </tr>\n",
       "    <tr>\n",
       "      <th>Opportunity_Name_9989</th>\n",
       "      <td>229914.30</td>\n",
       "      <td>229914.30</td>\n",
       "      <td>0.00</td>\n",
       "    </tr>\n",
       "  </tbody>\n",
       "</table>\n",
       "<p>139 rows × 3 columns</p>\n",
       "</div>"
      ],
      "text/plain": [
       "                        Total_Amount  Total_Taxable_Amount  Difference\n",
       "Opportunity_Name                                                      \n",
       "Opportunity_Name_10374      61755.05              61755.05        0.00\n",
       "Opportunity_Name_10398   14120268.80           14120268.80       -0.00\n",
       "Opportunity_Name_10429     167706.00             118671.10    49034.90\n",
       "Opportunity_Name_10434    3440056.90            3440056.90        0.00\n",
       "Opportunity_Name_10437    2273949.30            2273949.30       -0.00\n",
       "...                              ...                   ...         ...\n",
       "Opportunity_Name_9735     1065049.70            1065049.70        0.00\n",
       "Opportunity_Name_9806      972370.35             972370.35        0.00\n",
       "Opportunity_Name_9843      964092.15             964092.15       -0.00\n",
       "Opportunity_Name_9848      180338.40             180338.40        0.00\n",
       "Opportunity_Name_9989      229914.30             229914.30        0.00\n",
       "\n",
       "[139 rows x 3 columns]"
      ]
     },
     "execution_count": 19,
     "metadata": {},
     "output_type": "execute_result"
    }
   ],
   "source": [
    "df_true = df_grouped[(df_grouped[\"Difference\"] != 0) & (df_grouped[\"Total_Taxable_Amount\"] != 0)]\n",
    "df_true"
   ]
  },
  {
   "cell_type": "markdown",
   "metadata": {},
   "source": [
    "Estos son los que no tienen sentido"
   ]
  },
  {
   "cell_type": "code",
   "execution_count": 20,
   "metadata": {},
   "outputs": [
    {
     "data": {
      "text/html": [
       "<div>\n",
       "<style scoped>\n",
       "    .dataframe tbody tr th:only-of-type {\n",
       "        vertical-align: middle;\n",
       "    }\n",
       "\n",
       "    .dataframe tbody tr th {\n",
       "        vertical-align: top;\n",
       "    }\n",
       "\n",
       "    .dataframe thead th {\n",
       "        text-align: right;\n",
       "    }\n",
       "</style>\n",
       "<table border=\"1\" class=\"dataframe\">\n",
       "  <thead>\n",
       "    <tr style=\"text-align: right;\">\n",
       "      <th></th>\n",
       "      <th>Opportunity_Name</th>\n",
       "      <th>Total_Amount</th>\n",
       "      <th>Total_Taxable_Amount</th>\n",
       "      <th>Difference</th>\n",
       "    </tr>\n",
       "  </thead>\n",
       "  <tbody>\n",
       "    <tr>\n",
       "      <th>0</th>\n",
       "      <td>Opportunity_Name_11024</td>\n",
       "      <td>51408.00</td>\n",
       "      <td>51512.40</td>\n",
       "      <td>-104.40</td>\n",
       "    </tr>\n",
       "    <tr>\n",
       "      <th>1</th>\n",
       "      <td>Opportunity_Name_11864</td>\n",
       "      <td>43972.50</td>\n",
       "      <td>4891061.00</td>\n",
       "      <td>-4847088.50</td>\n",
       "    </tr>\n",
       "    <tr>\n",
       "      <th>2</th>\n",
       "      <td>Opportunity_Name_12137</td>\n",
       "      <td>317625.00</td>\n",
       "      <td>420750.00</td>\n",
       "      <td>-103125.00</td>\n",
       "    </tr>\n",
       "    <tr>\n",
       "      <th>3</th>\n",
       "      <td>Opportunity_Name_12362</td>\n",
       "      <td>71456.25</td>\n",
       "      <td>86418.75</td>\n",
       "      <td>-14962.50</td>\n",
       "    </tr>\n",
       "    <tr>\n",
       "      <th>4</th>\n",
       "      <td>Opportunity_Name_1308</td>\n",
       "      <td>11111133.92</td>\n",
       "      <td>28944810.10</td>\n",
       "      <td>-17833676.18</td>\n",
       "    </tr>\n",
       "    <tr>\n",
       "      <th>5</th>\n",
       "      <td>Opportunity_Name_2214</td>\n",
       "      <td>539956.80</td>\n",
       "      <td>60059395.00</td>\n",
       "      <td>-59519438.20</td>\n",
       "    </tr>\n",
       "    <tr>\n",
       "      <th>6</th>\n",
       "      <td>Opportunity_Name_2215</td>\n",
       "      <td>539956.80</td>\n",
       "      <td>60059395.00</td>\n",
       "      <td>-59519438.20</td>\n",
       "    </tr>\n",
       "    <tr>\n",
       "      <th>7</th>\n",
       "      <td>Opportunity_Name_224</td>\n",
       "      <td>12432.00</td>\n",
       "      <td>14061.76</td>\n",
       "      <td>-1629.76</td>\n",
       "    </tr>\n",
       "    <tr>\n",
       "      <th>8</th>\n",
       "      <td>Opportunity_Name_2802</td>\n",
       "      <td>310050.00</td>\n",
       "      <td>620100.00</td>\n",
       "      <td>-310050.00</td>\n",
       "    </tr>\n",
       "    <tr>\n",
       "      <th>9</th>\n",
       "      <td>Opportunity_Name_3463</td>\n",
       "      <td>776081.25</td>\n",
       "      <td>904354.07</td>\n",
       "      <td>-128272.82</td>\n",
       "    </tr>\n",
       "    <tr>\n",
       "      <th>10</th>\n",
       "      <td>Opportunity_Name_4540</td>\n",
       "      <td>3213000.00</td>\n",
       "      <td>5221125.00</td>\n",
       "      <td>-2008125.00</td>\n",
       "    </tr>\n",
       "    <tr>\n",
       "      <th>11</th>\n",
       "      <td>Opportunity_Name_4713</td>\n",
       "      <td>12615483.00</td>\n",
       "      <td>31637686.20</td>\n",
       "      <td>-19022203.20</td>\n",
       "    </tr>\n",
       "    <tr>\n",
       "      <th>12</th>\n",
       "      <td>Opportunity_Name_4854</td>\n",
       "      <td>6282156.00</td>\n",
       "      <td>31410780.00</td>\n",
       "      <td>-25128624.00</td>\n",
       "    </tr>\n",
       "    <tr>\n",
       "      <th>13</th>\n",
       "      <td>Opportunity_Name_6177</td>\n",
       "      <td>1521000.00</td>\n",
       "      <td>3042000.00</td>\n",
       "      <td>-1521000.00</td>\n",
       "    </tr>\n",
       "    <tr>\n",
       "      <th>14</th>\n",
       "      <td>Opportunity_Name_6550</td>\n",
       "      <td>12194000.00</td>\n",
       "      <td>1356338620.00</td>\n",
       "      <td>-1344144620.00</td>\n",
       "    </tr>\n",
       "    <tr>\n",
       "      <th>15</th>\n",
       "      <td>Opportunity_Name_7751</td>\n",
       "      <td>4968.60</td>\n",
       "      <td>552657.00</td>\n",
       "      <td>-547688.40</td>\n",
       "    </tr>\n",
       "    <tr>\n",
       "      <th>16</th>\n",
       "      <td>Opportunity_Name_7932</td>\n",
       "      <td>150100.00</td>\n",
       "      <td>16695623.00</td>\n",
       "      <td>-16545523.00</td>\n",
       "    </tr>\n",
       "    <tr>\n",
       "      <th>17</th>\n",
       "      <td>Opportunity_Name_7957</td>\n",
       "      <td>10335.00</td>\n",
       "      <td>54015.00</td>\n",
       "      <td>-43680.00</td>\n",
       "    </tr>\n",
       "    <tr>\n",
       "      <th>18</th>\n",
       "      <td>Opportunity_Name_844</td>\n",
       "      <td>51599056.57</td>\n",
       "      <td>177627662.70</td>\n",
       "      <td>-126028606.13</td>\n",
       "    </tr>\n",
       "  </tbody>\n",
       "</table>\n",
       "</div>"
      ],
      "text/plain": [
       "          Opportunity_Name  Total_Amount  Total_Taxable_Amount     Difference\n",
       "0   Opportunity_Name_11024      51408.00              51512.40        -104.40\n",
       "1   Opportunity_Name_11864      43972.50            4891061.00    -4847088.50\n",
       "2   Opportunity_Name_12137     317625.00             420750.00     -103125.00\n",
       "3   Opportunity_Name_12362      71456.25              86418.75      -14962.50\n",
       "4    Opportunity_Name_1308   11111133.92           28944810.10   -17833676.18\n",
       "5    Opportunity_Name_2214     539956.80           60059395.00   -59519438.20\n",
       "6    Opportunity_Name_2215     539956.80           60059395.00   -59519438.20\n",
       "7     Opportunity_Name_224      12432.00              14061.76       -1629.76\n",
       "8    Opportunity_Name_2802     310050.00             620100.00     -310050.00\n",
       "9    Opportunity_Name_3463     776081.25             904354.07     -128272.82\n",
       "10   Opportunity_Name_4540    3213000.00            5221125.00    -2008125.00\n",
       "11   Opportunity_Name_4713   12615483.00           31637686.20   -19022203.20\n",
       "12   Opportunity_Name_4854    6282156.00           31410780.00   -25128624.00\n",
       "13   Opportunity_Name_6177    1521000.00            3042000.00    -1521000.00\n",
       "14   Opportunity_Name_6550   12194000.00         1356338620.00 -1344144620.00\n",
       "15   Opportunity_Name_7751       4968.60             552657.00     -547688.40\n",
       "16   Opportunity_Name_7932     150100.00           16695623.00   -16545523.00\n",
       "17   Opportunity_Name_7957      10335.00              54015.00      -43680.00\n",
       "18    Opportunity_Name_844   51599056.57          177627662.70  -126028606.13"
      ]
     },
     "execution_count": 20,
     "metadata": {},
     "output_type": "execute_result"
    }
   ],
   "source": [
    "df_true = df_true[round(df_true[\"Difference\"])  < 0]\n",
    "df_true = df_true.reset_index()\n",
    "df_true"
   ]
  },
  {
   "cell_type": "markdown",
   "metadata": {},
   "source": [
    "### Relación entre Quote Type y Stages"
   ]
  },
  {
   "cell_type": "code",
   "execution_count": 21,
   "metadata": {},
   "outputs": [
    {
     "data": {
      "text/plain": [
       "Non Binding    16777\n",
       "Binding          170\n",
       "Name: Quote_Type, dtype: int64"
      ]
     },
     "execution_count": 21,
     "metadata": {},
     "output_type": "execute_result"
    }
   ],
   "source": [
    "df[\"Quote_Type\"].value_counts()"
   ]
  },
  {
   "cell_type": "markdown",
   "metadata": {},
   "source": [
    "Hay mayor cantidad de coutas Non Binding que Binding"
   ]
  },
  {
   "cell_type": "code",
   "execution_count": 22,
   "metadata": {},
   "outputs": [
    {
     "data": {
      "text/html": [
       "<div>\n",
       "<style scoped>\n",
       "    .dataframe tbody tr th:only-of-type {\n",
       "        vertical-align: middle;\n",
       "    }\n",
       "\n",
       "    .dataframe tbody tr th {\n",
       "        vertical-align: top;\n",
       "    }\n",
       "\n",
       "    .dataframe thead th {\n",
       "        text-align: right;\n",
       "    }\n",
       "</style>\n",
       "<table border=\"1\" class=\"dataframe\">\n",
       "  <thead>\n",
       "    <tr style=\"text-align: right;\">\n",
       "      <th></th>\n",
       "      <th>Quote_Type</th>\n",
       "    </tr>\n",
       "    <tr>\n",
       "      <th>Opportunity_Name</th>\n",
       "      <th></th>\n",
       "    </tr>\n",
       "  </thead>\n",
       "  <tbody>\n",
       "  </tbody>\n",
       "</table>\n",
       "</div>"
      ],
      "text/plain": [
       "Empty DataFrame\n",
       "Columns: [Quote_Type]\n",
       "Index: []"
      ]
     },
     "execution_count": 22,
     "metadata": {},
     "output_type": "execute_result"
    }
   ],
   "source": [
    "df_filter = df[[\"Quote_Type\", \"Total_Amount\", \"Stage\", \"Opportunity_Name\"]].groupby(\"Opportunity_Name\").agg({\"Quote_Type\" : pd.Series.nunique})\n",
    "df_filter[df_filter[\"Quote_Type\"] != 1]"
   ]
  },
  {
   "cell_type": "markdown",
   "metadata": {},
   "source": [
    "Con esto se prueba que a cada Oportunidad le corresponde un único tipo de cuota a todos los productos. Por lo tanto mi analisis lo voy a hacer pensando en oportunidades"
   ]
  },
  {
   "cell_type": "code",
   "execution_count": 23,
   "metadata": {},
   "outputs": [
    {
     "data": {
      "text/plain": [
       "Quote_Type          category\n",
       "Total_Amount         float64\n",
       "Stage               category\n",
       "Opportunity_Name    category\n",
       "dtype: object"
      ]
     },
     "execution_count": 23,
     "metadata": {},
     "output_type": "execute_result"
    }
   ],
   "source": [
    "df_quotes = df[[\"Quote_Type\", \"Total_Amount\", \"Stage\", \"Opportunity_Name\"]]\n",
    "df_quotes = df_quotes.astype({\"Opportunity_Name\" : \"category\", \"Stage\" : \"category\", \"Quote_Type\" : \"category\"})\n",
    "df_quotes.dtypes"
   ]
  },
  {
   "cell_type": "code",
   "execution_count": 24,
   "metadata": {},
   "outputs": [
    {
     "data": {
      "text/html": [
       "<div>\n",
       "<style scoped>\n",
       "    .dataframe tbody tr th:only-of-type {\n",
       "        vertical-align: middle;\n",
       "    }\n",
       "\n",
       "    .dataframe tbody tr th {\n",
       "        vertical-align: top;\n",
       "    }\n",
       "\n",
       "    .dataframe thead th {\n",
       "        text-align: right;\n",
       "    }\n",
       "</style>\n",
       "<table border=\"1\" class=\"dataframe\">\n",
       "  <thead>\n",
       "    <tr style=\"text-align: right;\">\n",
       "      <th></th>\n",
       "      <th>Quote_Type</th>\n",
       "      <th>Total_Amount</th>\n",
       "      <th>Stage</th>\n",
       "      <th>Opportunity_Name</th>\n",
       "      <th>Total_Amount_By_Opportunity</th>\n",
       "    </tr>\n",
       "  </thead>\n",
       "  <tbody>\n",
       "    <tr>\n",
       "      <th>0</th>\n",
       "      <td>Non Binding</td>\n",
       "      <td>5272800.00</td>\n",
       "      <td>Closed Lost</td>\n",
       "      <td>Opportunity_Name_12598</td>\n",
       "      <td>5272800.00</td>\n",
       "    </tr>\n",
       "    <tr>\n",
       "      <th>1</th>\n",
       "      <td>Non Binding</td>\n",
       "      <td>48230.00</td>\n",
       "      <td>Closed Won</td>\n",
       "      <td>Opportunity_Name_12600</td>\n",
       "      <td>48230.00</td>\n",
       "    </tr>\n",
       "    <tr>\n",
       "      <th>2</th>\n",
       "      <td>Non Binding</td>\n",
       "      <td>83865.60</td>\n",
       "      <td>Closed Won</td>\n",
       "      <td>Opportunity_Name_469</td>\n",
       "      <td>83865.60</td>\n",
       "    </tr>\n",
       "    <tr>\n",
       "      <th>3</th>\n",
       "      <td>Non Binding</td>\n",
       "      <td>7421881.50</td>\n",
       "      <td>Closed Lost</td>\n",
       "      <td>Opportunity_Name_415</td>\n",
       "      <td>7421881.50</td>\n",
       "    </tr>\n",
       "    <tr>\n",
       "      <th>4</th>\n",
       "      <td>Non Binding</td>\n",
       "      <td>13357192.50</td>\n",
       "      <td>Closed Lost</td>\n",
       "      <td>Opportunity_Name_851</td>\n",
       "      <td>13357192.50</td>\n",
       "    </tr>\n",
       "  </tbody>\n",
       "</table>\n",
       "</div>"
      ],
      "text/plain": [
       "    Quote_Type  Total_Amount        Stage        Opportunity_Name  \\\n",
       "0  Non Binding    5272800.00  Closed Lost  Opportunity_Name_12598   \n",
       "1  Non Binding      48230.00   Closed Won  Opportunity_Name_12600   \n",
       "2  Non Binding      83865.60   Closed Won    Opportunity_Name_469   \n",
       "3  Non Binding    7421881.50  Closed Lost    Opportunity_Name_415   \n",
       "4  Non Binding   13357192.50  Closed Lost    Opportunity_Name_851   \n",
       "\n",
       "   Total_Amount_By_Opportunity  \n",
       "0                   5272800.00  \n",
       "1                     48230.00  \n",
       "2                     83865.60  \n",
       "3                   7421881.50  \n",
       "4                  13357192.50  "
      ]
     },
     "execution_count": 24,
     "metadata": {},
     "output_type": "execute_result"
    }
   ],
   "source": [
    "df_quotes[\"Total_Amount_By_Opportunity\"] = df_quotes.groupby(\"Opportunity_Name\")[\"Total_Amount\"].transform(\"sum\")\n",
    "df_quotes.head()"
   ]
  },
  {
   "cell_type": "code",
   "execution_count": 25,
   "metadata": {},
   "outputs": [
    {
     "data": {
      "text/html": [
       "<div>\n",
       "<style scoped>\n",
       "    .dataframe tbody tr th:only-of-type {\n",
       "        vertical-align: middle;\n",
       "    }\n",
       "\n",
       "    .dataframe tbody tr th {\n",
       "        vertical-align: top;\n",
       "    }\n",
       "\n",
       "    .dataframe thead th {\n",
       "        text-align: right;\n",
       "    }\n",
       "</style>\n",
       "<table border=\"1\" class=\"dataframe\">\n",
       "  <thead>\n",
       "    <tr style=\"text-align: right;\">\n",
       "      <th></th>\n",
       "      <th>Quote_Type</th>\n",
       "      <th>Stage</th>\n",
       "      <th>Opportunity_Name</th>\n",
       "      <th>Total_Amount_By_Opportunity</th>\n",
       "    </tr>\n",
       "  </thead>\n",
       "  <tbody>\n",
       "    <tr>\n",
       "      <th>0</th>\n",
       "      <td>Non Binding</td>\n",
       "      <td>Closed Lost</td>\n",
       "      <td>Opportunity_Name_12598</td>\n",
       "      <td>5272800.00</td>\n",
       "    </tr>\n",
       "    <tr>\n",
       "      <th>1</th>\n",
       "      <td>Non Binding</td>\n",
       "      <td>Closed Won</td>\n",
       "      <td>Opportunity_Name_12600</td>\n",
       "      <td>48230.00</td>\n",
       "    </tr>\n",
       "    <tr>\n",
       "      <th>2</th>\n",
       "      <td>Non Binding</td>\n",
       "      <td>Closed Won</td>\n",
       "      <td>Opportunity_Name_469</td>\n",
       "      <td>83865.60</td>\n",
       "    </tr>\n",
       "    <tr>\n",
       "      <th>3</th>\n",
       "      <td>Non Binding</td>\n",
       "      <td>Closed Lost</td>\n",
       "      <td>Opportunity_Name_415</td>\n",
       "      <td>7421881.50</td>\n",
       "    </tr>\n",
       "    <tr>\n",
       "      <th>4</th>\n",
       "      <td>Non Binding</td>\n",
       "      <td>Closed Lost</td>\n",
       "      <td>Opportunity_Name_851</td>\n",
       "      <td>13357192.50</td>\n",
       "    </tr>\n",
       "  </tbody>\n",
       "</table>\n",
       "</div>"
      ],
      "text/plain": [
       "    Quote_Type        Stage        Opportunity_Name  \\\n",
       "0  Non Binding  Closed Lost  Opportunity_Name_12598   \n",
       "1  Non Binding   Closed Won  Opportunity_Name_12600   \n",
       "2  Non Binding   Closed Won    Opportunity_Name_469   \n",
       "3  Non Binding  Closed Lost    Opportunity_Name_415   \n",
       "4  Non Binding  Closed Lost    Opportunity_Name_851   \n",
       "\n",
       "   Total_Amount_By_Opportunity  \n",
       "0                   5272800.00  \n",
       "1                     48230.00  \n",
       "2                     83865.60  \n",
       "3                   7421881.50  \n",
       "4                  13357192.50  "
      ]
     },
     "execution_count": 25,
     "metadata": {},
     "output_type": "execute_result"
    }
   ],
   "source": [
    "del df_quotes[\"Total_Amount\"]\n",
    "df_quotes.head()"
   ]
  },
  {
   "cell_type": "code",
   "execution_count": 26,
   "metadata": {},
   "outputs": [
    {
     "name": "stdout",
     "output_type": "stream",
     "text": [
      "<class 'pandas.core.frame.DataFrame'>\n",
      "RangeIndex: 16947 entries, 0 to 16946\n",
      "Data columns (total 4 columns):\n",
      " #   Column                       Non-Null Count  Dtype   \n",
      "---  ------                       --------------  -----   \n",
      " 0   Quote_Type                   16947 non-null  category\n",
      " 1   Stage                        16947 non-null  category\n",
      " 2   Opportunity_Name             16947 non-null  category\n",
      " 3   Total_Amount_By_Opportunity  16947 non-null  float64 \n",
      "dtypes: category(3), float64(1)\n",
      "memory usage: 595.9 KB\n"
     ]
    }
   ],
   "source": [
    "df_quotes.info()"
   ]
  },
  {
   "cell_type": "code",
   "execution_count": 27,
   "metadata": {},
   "outputs": [
    {
     "name": "stdout",
     "output_type": "stream",
     "text": [
      "<class 'pandas.core.frame.DataFrame'>\n",
      "Int64Index: 9841 entries, 0 to 16946\n",
      "Data columns (total 4 columns):\n",
      " #   Column                       Non-Null Count  Dtype   \n",
      "---  ------                       --------------  -----   \n",
      " 0   Quote_Type                   9841 non-null   category\n",
      " 1   Stage                        9841 non-null   category\n",
      " 2   Opportunity_Name             9841 non-null   category\n",
      " 3   Total_Amount_By_Opportunity  9841 non-null   float64 \n",
      "dtypes: category(3), float64(1)\n",
      "memory usage: 589.4 KB\n"
     ]
    }
   ],
   "source": [
    "df_quotes = df_quotes.drop_duplicates()\n",
    "df_quotes.info()"
   ]
  },
  {
   "cell_type": "markdown",
   "metadata": {},
   "source": [
    "Ahora que tenemos el total por oportunidad, vamos a ver cual es la media por tipo de quota y tipo de stage\n"
   ]
  },
  {
   "cell_type": "code",
   "execution_count": 28,
   "metadata": {},
   "outputs": [
    {
     "data": {
      "text/html": [
       "<div>\n",
       "<style scoped>\n",
       "    .dataframe tbody tr th:only-of-type {\n",
       "        vertical-align: middle;\n",
       "    }\n",
       "\n",
       "    .dataframe tbody tr th {\n",
       "        vertical-align: top;\n",
       "    }\n",
       "\n",
       "    .dataframe thead th {\n",
       "        text-align: right;\n",
       "    }\n",
       "</style>\n",
       "<table border=\"1\" class=\"dataframe\">\n",
       "  <thead>\n",
       "    <tr style=\"text-align: right;\">\n",
       "      <th></th>\n",
       "      <th></th>\n",
       "      <th>Total_Amount_By_Opportunity</th>\n",
       "    </tr>\n",
       "    <tr>\n",
       "      <th>Stage</th>\n",
       "      <th>Quote_Type</th>\n",
       "      <th></th>\n",
       "    </tr>\n",
       "  </thead>\n",
       "  <tbody>\n",
       "    <tr>\n",
       "      <th rowspan=\"2\" valign=\"top\">Closed Lost</th>\n",
       "      <th>Binding</th>\n",
       "      <td>3089022.94</td>\n",
       "    </tr>\n",
       "    <tr>\n",
       "      <th>Non Binding</th>\n",
       "      <td>4693484.21</td>\n",
       "    </tr>\n",
       "    <tr>\n",
       "      <th rowspan=\"2\" valign=\"top\">Closed Won</th>\n",
       "      <th>Binding</th>\n",
       "      <td>6152164.26</td>\n",
       "    </tr>\n",
       "    <tr>\n",
       "      <th>Non Binding</th>\n",
       "      <td>1514894.97</td>\n",
       "    </tr>\n",
       "    <tr>\n",
       "      <th rowspan=\"2\" valign=\"top\">Negotiation</th>\n",
       "      <th>Binding</th>\n",
       "      <td>0.00</td>\n",
       "    </tr>\n",
       "    <tr>\n",
       "      <th>Non Binding</th>\n",
       "      <td>1119482.83</td>\n",
       "    </tr>\n",
       "    <tr>\n",
       "      <th rowspan=\"2\" valign=\"top\">Proposal</th>\n",
       "      <th>Binding</th>\n",
       "      <td>0.00</td>\n",
       "    </tr>\n",
       "    <tr>\n",
       "      <th>Non Binding</th>\n",
       "      <td>96069097.46</td>\n",
       "    </tr>\n",
       "    <tr>\n",
       "      <th rowspan=\"2\" valign=\"top\">Qualification</th>\n",
       "      <th>Binding</th>\n",
       "      <td>0.00</td>\n",
       "    </tr>\n",
       "    <tr>\n",
       "      <th>Non Binding</th>\n",
       "      <td>83504393.44</td>\n",
       "    </tr>\n",
       "  </tbody>\n",
       "</table>\n",
       "</div>"
      ],
      "text/plain": [
       "                           Total_Amount_By_Opportunity\n",
       "Stage         Quote_Type                              \n",
       "Closed Lost   Binding                       3089022.94\n",
       "              Non Binding                   4693484.21\n",
       "Closed Won    Binding                       6152164.26\n",
       "              Non Binding                   1514894.97\n",
       "Negotiation   Binding                             0.00\n",
       "              Non Binding                   1119482.83\n",
       "Proposal      Binding                             0.00\n",
       "              Non Binding                  96069097.46\n",
       "Qualification Binding                             0.00\n",
       "              Non Binding                  83504393.44"
      ]
     },
     "execution_count": 28,
     "metadata": {},
     "output_type": "execute_result"
    }
   ],
   "source": [
    "df_quotes_mean = df_quotes.groupby([\"Stage\", \"Quote_Type\"]).agg({\"Total_Amount_By_Opportunity\" : \"mean\"}).fillna(0)\n",
    "df_quotes_mean\n"
   ]
  },
  {
   "cell_type": "code",
   "execution_count": 29,
   "metadata": {},
   "outputs": [
    {
     "data": {
      "text/html": [
       "<div>\n",
       "<style scoped>\n",
       "    .dataframe tbody tr th:only-of-type {\n",
       "        vertical-align: middle;\n",
       "    }\n",
       "\n",
       "    .dataframe tbody tr th {\n",
       "        vertical-align: top;\n",
       "    }\n",
       "\n",
       "    .dataframe thead th {\n",
       "        text-align: right;\n",
       "    }\n",
       "</style>\n",
       "<table border=\"1\" class=\"dataframe\">\n",
       "  <thead>\n",
       "    <tr style=\"text-align: right;\">\n",
       "      <th></th>\n",
       "      <th>Stage</th>\n",
       "      <th>Quote_Type</th>\n",
       "      <th>Total_Amount_By_Opportunity</th>\n",
       "    </tr>\n",
       "  </thead>\n",
       "  <tbody>\n",
       "    <tr>\n",
       "      <th>0</th>\n",
       "      <td>Closed Lost</td>\n",
       "      <td>Binding</td>\n",
       "      <td>3089022.94</td>\n",
       "    </tr>\n",
       "    <tr>\n",
       "      <th>1</th>\n",
       "      <td>Closed Lost</td>\n",
       "      <td>Non Binding</td>\n",
       "      <td>4693484.21</td>\n",
       "    </tr>\n",
       "    <tr>\n",
       "      <th>2</th>\n",
       "      <td>Closed Won</td>\n",
       "      <td>Binding</td>\n",
       "      <td>6152164.26</td>\n",
       "    </tr>\n",
       "    <tr>\n",
       "      <th>3</th>\n",
       "      <td>Closed Won</td>\n",
       "      <td>Non Binding</td>\n",
       "      <td>1514894.97</td>\n",
       "    </tr>\n",
       "    <tr>\n",
       "      <th>4</th>\n",
       "      <td>Negotiation</td>\n",
       "      <td>Binding</td>\n",
       "      <td>0.00</td>\n",
       "    </tr>\n",
       "    <tr>\n",
       "      <th>5</th>\n",
       "      <td>Negotiation</td>\n",
       "      <td>Non Binding</td>\n",
       "      <td>1119482.83</td>\n",
       "    </tr>\n",
       "    <tr>\n",
       "      <th>6</th>\n",
       "      <td>Proposal</td>\n",
       "      <td>Binding</td>\n",
       "      <td>0.00</td>\n",
       "    </tr>\n",
       "    <tr>\n",
       "      <th>7</th>\n",
       "      <td>Proposal</td>\n",
       "      <td>Non Binding</td>\n",
       "      <td>96069097.46</td>\n",
       "    </tr>\n",
       "    <tr>\n",
       "      <th>8</th>\n",
       "      <td>Qualification</td>\n",
       "      <td>Binding</td>\n",
       "      <td>0.00</td>\n",
       "    </tr>\n",
       "    <tr>\n",
       "      <th>9</th>\n",
       "      <td>Qualification</td>\n",
       "      <td>Non Binding</td>\n",
       "      <td>83504393.44</td>\n",
       "    </tr>\n",
       "  </tbody>\n",
       "</table>\n",
       "</div>"
      ],
      "text/plain": [
       "           Stage   Quote_Type  Total_Amount_By_Opportunity\n",
       "0    Closed Lost      Binding                   3089022.94\n",
       "1    Closed Lost  Non Binding                   4693484.21\n",
       "2     Closed Won      Binding                   6152164.26\n",
       "3     Closed Won  Non Binding                   1514894.97\n",
       "4    Negotiation      Binding                         0.00\n",
       "5    Negotiation  Non Binding                   1119482.83\n",
       "6       Proposal      Binding                         0.00\n",
       "7       Proposal  Non Binding                  96069097.46\n",
       "8  Qualification      Binding                         0.00\n",
       "9  Qualification  Non Binding                  83504393.44"
      ]
     },
     "execution_count": 29,
     "metadata": {},
     "output_type": "execute_result"
    }
   ],
   "source": [
    "df_quotes_mean2 = df_quotes_mean.reset_index()\n",
    "df_quotes_mean2"
   ]
  },
  {
   "cell_type": "code",
   "execution_count": 30,
   "metadata": {},
   "outputs": [
    {
     "data": {
      "text/html": [
       "<div>\n",
       "<style scoped>\n",
       "    .dataframe tbody tr th:only-of-type {\n",
       "        vertical-align: middle;\n",
       "    }\n",
       "\n",
       "    .dataframe tbody tr th {\n",
       "        vertical-align: top;\n",
       "    }\n",
       "\n",
       "    .dataframe thead th {\n",
       "        text-align: right;\n",
       "    }\n",
       "</style>\n",
       "<table border=\"1\" class=\"dataframe\">\n",
       "  <thead>\n",
       "    <tr style=\"text-align: right;\">\n",
       "      <th>Stage</th>\n",
       "      <th>Quote_Type</th>\n",
       "      <th>Closed Lost</th>\n",
       "      <th>Closed Won</th>\n",
       "      <th>Negotiation</th>\n",
       "      <th>Proposal</th>\n",
       "      <th>Qualification</th>\n",
       "    </tr>\n",
       "  </thead>\n",
       "  <tbody>\n",
       "    <tr>\n",
       "      <th>0</th>\n",
       "      <td>Binding</td>\n",
       "      <td>3089022.94</td>\n",
       "      <td>6152164.26</td>\n",
       "      <td>0.00</td>\n",
       "      <td>0.00</td>\n",
       "      <td>0.00</td>\n",
       "    </tr>\n",
       "    <tr>\n",
       "      <th>1</th>\n",
       "      <td>Non Binding</td>\n",
       "      <td>4693484.21</td>\n",
       "      <td>1514894.97</td>\n",
       "      <td>1119482.83</td>\n",
       "      <td>96069097.46</td>\n",
       "      <td>83504393.44</td>\n",
       "    </tr>\n",
       "  </tbody>\n",
       "</table>\n",
       "</div>"
      ],
      "text/plain": [
       "Stage   Quote_Type  Closed Lost  Closed Won  Negotiation    Proposal  \\\n",
       "0          Binding   3089022.94  6152164.26         0.00        0.00   \n",
       "1      Non Binding   4693484.21  1514894.97   1119482.83 96069097.46   \n",
       "\n",
       "Stage  Qualification  \n",
       "0               0.00  \n",
       "1        83504393.44  "
      ]
     },
     "execution_count": 30,
     "metadata": {},
     "output_type": "execute_result"
    }
   ],
   "source": [
    "df_prueba = df_quotes.pivot_table(index = \"Quote_Type\", columns = \"Stage\", values = \"Total_Amount_By_Opportunity\", aggfunc = np.mean).fillna(0)\n",
    "df_prueba.columns = df_prueba.columns.astype(list)\n",
    "df_prueba = df_prueba.reset_index()\n",
    "df_prueba"
   ]
  },
  {
   "cell_type": "code",
   "execution_count": 31,
   "metadata": {
    "scrolled": false
   },
   "outputs": [
    {
     "data": {
      "image/png": "[encoded data removed]",
      "text/plain": [
       "<Figure size 1152x576 with 1 Axes>"
      ]
     },
     "metadata": {
      "needs_background": "light"
     },
     "output_type": "display_data"
    }
   ],
   "source": [
    "ax = df_prueba.plot(kind = \"bar\", x = 'Quote_Type', y = ['Closed Lost','Closed Won','Negotiation','Proposal','Qualification'], figsize = (16,8))\n",
    "ax.set_title(\"Precio promedio por tipo de Stage y Quote Type\", fontsize=22)\n",
    "ax.set_xlabel(\"Quote Type\",fontsize=15)\n",
    "ax.set_ylabel(\"Precio promedio\", fontsize=15)\n",
    "ax.yaxis.set_major_formatter(FuncFormatter(lambda x, pos:(\"{:.1f}*e8\".format(x/1e8)) if x != 0 else (\"{:.0f}\".format(x))))\n",
    "plt.xticks(rotation = 0)\n",
    "ax.legend(loc='center left', bbox_to_anchor=(1, 0.5))\n",
    "plt.show()"
   ]
  },
  {
   "cell_type": "code",
   "execution_count": 32,
   "metadata": {
    "scrolled": false
   },
   "outputs": [
    {
     "data": {
      "image/png": "[encoded data removed]",
      "text/plain": [
       "<Figure size 1152x576 with 1 Axes>"
      ]
     },
     "metadata": {
      "needs_background": "light"
     },
     "output_type": "display_data"
    }
   ],
   "source": [
    "ax = df_prueba.plot(kind = \"bar\", x = 'Quote_Type', y = ['Closed Lost','Closed Won'], figsize = (16,8))\n",
    "ax.set_title(\"Precio promedio por tipo de Stage y Quote Type\", fontsize=22)\n",
    "ax.set_xlabel(\"Quote Type\",fontsize=15)\n",
    "ax.set_ylabel(\"Precio promedio\", fontsize=15)\n",
    "ax.yaxis.set_major_formatter(FuncFormatter(lambda x, pos:(\"{:.1f}*e7\".format(x/1e7)) if x != 0 else (\"{:.0f}\".format(x))))\n",
    "plt.xticks(rotation = 0)\n",
    "ax.legend(loc='center left', bbox_to_anchor=(1, 0.5))\n",
    "plt.show()"
   ]
  },
  {
   "cell_type": "markdown",
   "metadata": {},
   "source": [
    "Analizo cantidad de closed wins y closed wins por tipo de cuota"
   ]
  },
  {
   "cell_type": "code",
   "execution_count": 33,
   "metadata": {
    "scrolled": true
   },
   "outputs": [
    {
     "data": {
      "text/html": [
       "<div>\n",
       "<style scoped>\n",
       "    .dataframe tbody tr th:only-of-type {\n",
       "        vertical-align: middle;\n",
       "    }\n",
       "\n",
       "    .dataframe tbody tr th {\n",
       "        vertical-align: top;\n",
       "    }\n",
       "\n",
       "    .dataframe thead th {\n",
       "        text-align: right;\n",
       "    }\n",
       "</style>\n",
       "<table border=\"1\" class=\"dataframe\">\n",
       "  <thead>\n",
       "    <tr style=\"text-align: right;\">\n",
       "      <th></th>\n",
       "      <th>Quote_Type</th>\n",
       "      <th>Stage</th>\n",
       "      <th>Opportunity_Name</th>\n",
       "      <th>Total_Amount_By_Opportunity</th>\n",
       "      <th>Cuantity</th>\n",
       "    </tr>\n",
       "  </thead>\n",
       "  <tbody>\n",
       "    <tr>\n",
       "      <th>0</th>\n",
       "      <td>Non Binding</td>\n",
       "      <td>Closed Lost</td>\n",
       "      <td>Opportunity_Name_12598</td>\n",
       "      <td>5272800.00</td>\n",
       "      <td>1</td>\n",
       "    </tr>\n",
       "    <tr>\n",
       "      <th>1</th>\n",
       "      <td>Non Binding</td>\n",
       "      <td>Closed Won</td>\n",
       "      <td>Opportunity_Name_12600</td>\n",
       "      <td>48230.00</td>\n",
       "      <td>1</td>\n",
       "    </tr>\n",
       "    <tr>\n",
       "      <th>2</th>\n",
       "      <td>Non Binding</td>\n",
       "      <td>Closed Won</td>\n",
       "      <td>Opportunity_Name_469</td>\n",
       "      <td>83865.60</td>\n",
       "      <td>1</td>\n",
       "    </tr>\n",
       "    <tr>\n",
       "      <th>3</th>\n",
       "      <td>Non Binding</td>\n",
       "      <td>Closed Lost</td>\n",
       "      <td>Opportunity_Name_415</td>\n",
       "      <td>7421881.50</td>\n",
       "      <td>1</td>\n",
       "    </tr>\n",
       "    <tr>\n",
       "      <th>4</th>\n",
       "      <td>Non Binding</td>\n",
       "      <td>Closed Lost</td>\n",
       "      <td>Opportunity_Name_851</td>\n",
       "      <td>13357192.50</td>\n",
       "      <td>1</td>\n",
       "    </tr>\n",
       "  </tbody>\n",
       "</table>\n",
       "</div>"
      ],
      "text/plain": [
       "    Quote_Type        Stage        Opportunity_Name  \\\n",
       "0  Non Binding  Closed Lost  Opportunity_Name_12598   \n",
       "1  Non Binding   Closed Won  Opportunity_Name_12600   \n",
       "2  Non Binding   Closed Won    Opportunity_Name_469   \n",
       "3  Non Binding  Closed Lost    Opportunity_Name_415   \n",
       "4  Non Binding  Closed Lost    Opportunity_Name_851   \n",
       "\n",
       "   Total_Amount_By_Opportunity  Cuantity  \n",
       "0                   5272800.00         1  \n",
       "1                     48230.00         1  \n",
       "2                     83865.60         1  \n",
       "3                   7421881.50         1  \n",
       "4                  13357192.50         1  "
      ]
     },
     "execution_count": 33,
     "metadata": {},
     "output_type": "execute_result"
    }
   ],
   "source": [
    "df_quotes[\"Cuantity\"] = 1\n",
    "df_quotes.head()"
   ]
  },
  {
   "cell_type": "code",
   "execution_count": 34,
   "metadata": {
    "scrolled": true
   },
   "outputs": [
    {
     "data": {
      "text/html": [
       "<div>\n",
       "<style scoped>\n",
       "    .dataframe tbody tr th:only-of-type {\n",
       "        vertical-align: middle;\n",
       "    }\n",
       "\n",
       "    .dataframe tbody tr th {\n",
       "        vertical-align: top;\n",
       "    }\n",
       "\n",
       "    .dataframe thead th {\n",
       "        text-align: right;\n",
       "    }\n",
       "</style>\n",
       "<table border=\"1\" class=\"dataframe\">\n",
       "  <thead>\n",
       "    <tr style=\"text-align: right;\">\n",
       "      <th>Stage</th>\n",
       "      <th>Quote_Type</th>\n",
       "      <th>Closed Lost</th>\n",
       "      <th>Closed Won</th>\n",
       "      <th>Negotiation</th>\n",
       "      <th>Proposal</th>\n",
       "      <th>Qualification</th>\n",
       "    </tr>\n",
       "  </thead>\n",
       "  <tbody>\n",
       "    <tr>\n",
       "      <th>0</th>\n",
       "      <td>Binding</td>\n",
       "      <td>66.00</td>\n",
       "      <td>64.00</td>\n",
       "      <td>0.00</td>\n",
       "      <td>0.00</td>\n",
       "      <td>0.00</td>\n",
       "    </tr>\n",
       "    <tr>\n",
       "      <th>1</th>\n",
       "      <td>Non Binding</td>\n",
       "      <td>4653.00</td>\n",
       "      <td>5008.00</td>\n",
       "      <td>11.00</td>\n",
       "      <td>30.00</td>\n",
       "      <td>9.00</td>\n",
       "    </tr>\n",
       "  </tbody>\n",
       "</table>\n",
       "</div>"
      ],
      "text/plain": [
       "Stage   Quote_Type  Closed Lost  Closed Won  Negotiation  Proposal  \\\n",
       "0          Binding        66.00       64.00         0.00      0.00   \n",
       "1      Non Binding      4653.00     5008.00        11.00     30.00   \n",
       "\n",
       "Stage  Qualification  \n",
       "0               0.00  \n",
       "1               9.00  "
      ]
     },
     "execution_count": 34,
     "metadata": {},
     "output_type": "execute_result"
    }
   ],
   "source": [
    "df_pivot_quotes = df_quotes.pivot_table(index = \"Quote_Type\", columns = \"Stage\", values = \"Cuantity\", aggfunc = np.sum).fillna(0)\n",
    "df_pivot_quotes.columns = df_pivot_quotes.columns.astype(list)\n",
    "df_pivot_quotes = df_pivot_quotes.reset_index()\n",
    "df_pivot_quotes"
   ]
  },
  {
   "cell_type": "code",
   "execution_count": 35,
   "metadata": {
    "scrolled": false
   },
   "outputs": [
    {
     "data": {
      "image/png": "[encoded data removed]",
      "text/plain": [
       "<Figure size 1080x720 with 1 Axes>"
      ]
     },
     "metadata": {
      "needs_background": "light"
     },
     "output_type": "display_data"
    }
   ],
   "source": [
    "ax=df_pivot_quotes.plot(kind ='bar', y = ['Closed Lost', 'Closed Won', 'Negotiation', 'Proposal', 'Qualification'], x = 'Quote_Type' , figsize=(15,10))\n",
    "ax.set_title(\"Cantidad de Stages por Quote Types\", fontsize=30)\n",
    "ax.set_xlabel(\"Quote Types\",fontsize=30)\n",
    "ax.set_ylabel(\"Cantidad de Stages\", fontsize=30) \n",
    "plt.legend(prop={'size': 20})\n",
    "plt.xticks(rotation = 0)\n",
    "ax.legend(loc='center left', bbox_to_anchor=(1, 0.5))\n",
    "plt.show()"
   ]
  },
  {
   "cell_type": "markdown",
   "metadata": {},
   "source": [
    "### Relacion Product Type con Stage por region"
   ]
  },
  {
   "cell_type": "code",
   "execution_count": 36,
   "metadata": {},
   "outputs": [
    {
     "data": {
      "text/html": [
       "<div>\n",
       "<style scoped>\n",
       "    .dataframe tbody tr th:only-of-type {\n",
       "        vertical-align: middle;\n",
       "    }\n",
       "\n",
       "    .dataframe tbody tr th {\n",
       "        vertical-align: top;\n",
       "    }\n",
       "\n",
       "    .dataframe thead th {\n",
       "        text-align: right;\n",
       "    }\n",
       "</style>\n",
       "<table border=\"1\" class=\"dataframe\">\n",
       "  <thead>\n",
       "    <tr style=\"text-align: right;\">\n",
       "      <th></th>\n",
       "      <th>Product_Type</th>\n",
       "      <th>Stage</th>\n",
       "      <th>Region</th>\n",
       "    </tr>\n",
       "  </thead>\n",
       "  <tbody>\n",
       "    <tr>\n",
       "      <th>count</th>\n",
       "      <td>16947</td>\n",
       "      <td>16947</td>\n",
       "      <td>16947</td>\n",
       "    </tr>\n",
       "    <tr>\n",
       "      <th>unique</th>\n",
       "      <td>7</td>\n",
       "      <td>5</td>\n",
       "      <td>5</td>\n",
       "    </tr>\n",
       "    <tr>\n",
       "      <th>top</th>\n",
       "      <td>None</td>\n",
       "      <td>Closed Won</td>\n",
       "      <td>Japan</td>\n",
       "    </tr>\n",
       "    <tr>\n",
       "      <th>freq</th>\n",
       "      <td>15935</td>\n",
       "      <td>9533</td>\n",
       "      <td>4892</td>\n",
       "    </tr>\n",
       "  </tbody>\n",
       "</table>\n",
       "</div>"
      ],
      "text/plain": [
       "       Product_Type       Stage Region\n",
       "count         16947       16947  16947\n",
       "unique            7           5      5\n",
       "top            None  Closed Won  Japan\n",
       "freq          15935        9533   4892"
      ]
     },
     "execution_count": 36,
     "metadata": {},
     "output_type": "execute_result"
    }
   ],
   "source": [
    "df_type = df[[\"Product_Type\", \"Stage\", \"Region\"]]\n",
    "df_type.describe()"
   ]
  },
  {
   "cell_type": "code",
   "execution_count": 37,
   "metadata": {},
   "outputs": [
    {
     "data": {
      "text/html": [
       "<div>\n",
       "<style scoped>\n",
       "    .dataframe tbody tr th:only-of-type {\n",
       "        vertical-align: middle;\n",
       "    }\n",
       "\n",
       "    .dataframe tbody tr th {\n",
       "        vertical-align: top;\n",
       "    }\n",
       "\n",
       "    .dataframe thead th {\n",
       "        text-align: right;\n",
       "    }\n",
       "</style>\n",
       "<table border=\"1\" class=\"dataframe\">\n",
       "  <thead>\n",
       "    <tr style=\"text-align: right;\">\n",
       "      <th></th>\n",
       "      <th>Product_Type</th>\n",
       "      <th>Stage</th>\n",
       "      <th>Region</th>\n",
       "    </tr>\n",
       "  </thead>\n",
       "  <tbody>\n",
       "    <tr>\n",
       "      <th>count</th>\n",
       "      <td>497</td>\n",
       "      <td>497</td>\n",
       "      <td>497</td>\n",
       "    </tr>\n",
       "    <tr>\n",
       "      <th>unique</th>\n",
       "      <td>5</td>\n",
       "      <td>1</td>\n",
       "      <td>5</td>\n",
       "    </tr>\n",
       "    <tr>\n",
       "      <th>top</th>\n",
       "      <td>Product_Type_3</td>\n",
       "      <td>Closed Lost</td>\n",
       "      <td>EMEA</td>\n",
       "    </tr>\n",
       "    <tr>\n",
       "      <th>freq</th>\n",
       "      <td>179</td>\n",
       "      <td>497</td>\n",
       "      <td>282</td>\n",
       "    </tr>\n",
       "  </tbody>\n",
       "</table>\n",
       "</div>"
      ],
      "text/plain": [
       "          Product_Type        Stage Region\n",
       "count              497          497    497\n",
       "unique               5            1      5\n",
       "top     Product_Type_3  Closed Lost   EMEA\n",
       "freq               179          497    282"
      ]
     },
     "execution_count": 37,
     "metadata": {},
     "output_type": "execute_result"
    }
   ],
   "source": [
    "df_filtered = df_type[(df_type[\"Product_Type\"] != \"None\") & (df_type[\"Product_Type\"] != \"Other\")]\n",
    "df_filtered.describe()"
   ]
  },
  {
   "cell_type": "code",
   "execution_count": 38,
   "metadata": {},
   "outputs": [
    {
     "data": {
      "text/html": [
       "<div>\n",
       "<style scoped>\n",
       "    .dataframe tbody tr th:only-of-type {\n",
       "        vertical-align: middle;\n",
       "    }\n",
       "\n",
       "    .dataframe tbody tr th {\n",
       "        vertical-align: top;\n",
       "    }\n",
       "\n",
       "    .dataframe thead th {\n",
       "        text-align: right;\n",
       "    }\n",
       "</style>\n",
       "<table border=\"1\" class=\"dataframe\">\n",
       "  <thead>\n",
       "    <tr style=\"text-align: right;\">\n",
       "      <th></th>\n",
       "      <th>Region</th>\n",
       "      <th>Product_Type_0</th>\n",
       "      <th>Product_Type_1</th>\n",
       "      <th>Product_Type_2</th>\n",
       "      <th>Product_Type_3</th>\n",
       "      <th>Product_Type_4</th>\n",
       "    </tr>\n",
       "  </thead>\n",
       "  <tbody>\n",
       "    <tr>\n",
       "      <th>0</th>\n",
       "      <td>APAC</td>\n",
       "      <td>18.00</td>\n",
       "      <td>19.00</td>\n",
       "      <td>2.00</td>\n",
       "      <td>41.00</td>\n",
       "      <td>25.00</td>\n",
       "    </tr>\n",
       "    <tr>\n",
       "      <th>1</th>\n",
       "      <td>Americas</td>\n",
       "      <td>26.00</td>\n",
       "      <td>15.00</td>\n",
       "      <td>2.00</td>\n",
       "      <td>29.00</td>\n",
       "      <td>10.00</td>\n",
       "    </tr>\n",
       "    <tr>\n",
       "      <th>2</th>\n",
       "      <td>EMEA</td>\n",
       "      <td>45.00</td>\n",
       "      <td>90.00</td>\n",
       "      <td>5.00</td>\n",
       "      <td>105.00</td>\n",
       "      <td>37.00</td>\n",
       "    </tr>\n",
       "    <tr>\n",
       "      <th>3</th>\n",
       "      <td>Japan</td>\n",
       "      <td>4.00</td>\n",
       "      <td>10.00</td>\n",
       "      <td>0.00</td>\n",
       "      <td>1.00</td>\n",
       "      <td>1.00</td>\n",
       "    </tr>\n",
       "    <tr>\n",
       "      <th>4</th>\n",
       "      <td>Middle East</td>\n",
       "      <td>1.00</td>\n",
       "      <td>8.00</td>\n",
       "      <td>0.00</td>\n",
       "      <td>3.00</td>\n",
       "      <td>0.00</td>\n",
       "    </tr>\n",
       "  </tbody>\n",
       "</table>\n",
       "</div>"
      ],
      "text/plain": [
       "        Region  Product_Type_0  Product_Type_1  Product_Type_2  \\\n",
       "0         APAC           18.00           19.00            2.00   \n",
       "1     Americas           26.00           15.00            2.00   \n",
       "2         EMEA           45.00           90.00            5.00   \n",
       "3        Japan            4.00           10.00            0.00   \n",
       "4  Middle East            1.00            8.00            0.00   \n",
       "\n",
       "   Product_Type_3  Product_Type_4  \n",
       "0           41.00           25.00  \n",
       "1           29.00           10.00  \n",
       "2          105.00           37.00  \n",
       "3            1.00            1.00  \n",
       "4            3.00            0.00  "
      ]
     },
     "execution_count": 38,
     "metadata": {},
     "output_type": "execute_result"
    }
   ],
   "source": [
    "df_grouped = df_filtered.groupby([\"Region\", \"Product_Type\"]).agg({\"Stage\" : \"count\"})\n",
    "df_grouped = df_grouped.unstack().fillna(0)\n",
    "df_grouped.columns = df_grouped.columns.get_level_values(1)\n",
    "df_grouped.columns.name = \"\"\n",
    "df_grouped = df_grouped.reset_index()\n",
    "df_grouped"
   ]
  },
  {
   "cell_type": "code",
   "execution_count": 39,
   "metadata": {},
   "outputs": [
    {
     "data": {
      "text/plain": [
       "<Figure size 2520x2520 with 0 Axes>"
      ]
     },
     "execution_count": 39,
     "metadata": {},
     "output_type": "execute_result"
    },
    {
     "data": {
      "image/png": "[encoded data removed]",
      "text/plain": [
       "<Figure size 1080x864 with 1 Axes>"
      ]
     },
     "metadata": {},
     "output_type": "display_data"
    },
    {
     "data": {
      "text/plain": [
       "<Figure size 2520x2520 with 0 Axes>"
      ]
     },
     "metadata": {},
     "output_type": "display_data"
    }
   ],
   "source": [
    "plt.figure(figsize=(15,12))\n",
    "# ------- PART 1: Create background\n",
    " \n",
    "# number of variable\n",
    "categories = [x.replace(\"_Type_\", \" \") for x in (list(df_grouped)[1:])]\n",
    "N = len(categories)\n",
    " \n",
    "# What will be the angle of each axis in the plot? (we divide the plot / number of variable)\n",
    "angles = [n / float(N) * 2 * np.pi for n in range(N)]\n",
    "angles += angles[:1]\n",
    " \n",
    "# Initialise the spider plot\n",
    "ax = plt.subplot(111, polar=True)\n",
    "my_dpi=96\n",
    "#plt.figure(figsize=(1000/my_dpi, 1000/my_dpi), dpi=my_dpi)\n",
    " \n",
    "# If you want the first axis to be on top:\n",
    "ax.set_theta_offset(np.pi / 2)\n",
    "ax.set_theta_direction(-1)\n",
    " \n",
    "# Draw one axe per variable + add labels labels yet\n",
    "plt.xticks(angles[:-1], categories)\n",
    " \n",
    "# Draw ylabels\n",
    "ax.set_rlabel_position(0)\n",
    "plt.yticks([25, 50, 75, 100], [\"25\",\"50\",\"75\", \"100\"], color=\"grey\", size=10)\n",
    "plt.ylim(0,125)\n",
    " \n",
    "# ------- PART 2: Add plots\n",
    " \n",
    "# Plot each individual = each line of the data\n",
    "# I don't do a loop, because plotting more than 3 groups makes the chart unreadable\n",
    " \n",
    "# Ind1\n",
    "values=df_grouped.loc[0].drop('Region').values.flatten().tolist()\n",
    "values += values[:1]\n",
    "ax.plot(angles, values, linewidth=1, linestyle='solid', label=\"APAC\",)\n",
    "ax.fill(angles, values, 'tab:blue', alpha=0.1)\n",
    " \n",
    "# Ind2\n",
    "values=df_grouped.loc[1].drop('Region').values.flatten().tolist()\n",
    "values += values[:1]\n",
    "ax.plot(angles, values, linewidth=1, linestyle='solid', label=\"Americas\")\n",
    "ax.fill(angles, values, 'tab:orange', alpha=0.1)\n",
    "\n",
    "# Ind3\n",
    "values=df_grouped.loc[2].drop('Region').values.flatten().tolist()\n",
    "values += values[:1]\n",
    "ax.plot(angles, values, linewidth=1, linestyle='solid', label=\"EMEA\")\n",
    "ax.fill(angles, values, 'tab:green', alpha=0.1)\n",
    "\n",
    "# Ind4\n",
    "values=df_grouped.loc[3].drop('Region').values.flatten().tolist()\n",
    "values += values[:1]\n",
    "ax.plot(angles, values, linewidth=1, linestyle='solid', label=\"Japan\")\n",
    "ax.fill(angles, values, 'tab:red', alpha=0.1)\n",
    "\n",
    "# Ind5\n",
    "values=df_grouped.loc[4].drop('Region').values.flatten().tolist()\n",
    "values += values[:1]\n",
    "ax.plot(angles, values, linewidth=1, linestyle='solid', label=\"Middle East\")\n",
    "ax.fill(angles, values, 'tab:purple', alpha=0.1)\n",
    " \n",
    "# Add legend\n",
    "ax.legend(loc='center left', bbox_to_anchor=(1, 0.2))\n",
    "\n",
    "#Add title\n",
    "plt.title(\"Cantidad de productos vendidos por region\", size=16, y=1.1)\n",
    "\n",
    "#Change size\n",
    "plt.figure(figsize = (35,35))\n"
   ]
  },
  {
   "cell_type": "markdown",
   "metadata": {},
   "source": [
    "Ahora analizo su relacion con stage"
   ]
  },
  {
   "cell_type": "code",
   "execution_count": 40,
   "metadata": {},
   "outputs": [
    {
     "data": {
      "text/html": [
       "<div>\n",
       "<style scoped>\n",
       "    .dataframe tbody tr th:only-of-type {\n",
       "        vertical-align: middle;\n",
       "    }\n",
       "\n",
       "    .dataframe tbody tr th {\n",
       "        vertical-align: top;\n",
       "    }\n",
       "\n",
       "    .dataframe thead th {\n",
       "        text-align: right;\n",
       "    }\n",
       "</style>\n",
       "<table border=\"1\" class=\"dataframe\">\n",
       "  <thead>\n",
       "    <tr style=\"text-align: right;\">\n",
       "      <th></th>\n",
       "      <th>Percentage Closed Wons</th>\n",
       "    </tr>\n",
       "    <tr>\n",
       "      <th>Region</th>\n",
       "      <th></th>\n",
       "    </tr>\n",
       "  </thead>\n",
       "  <tbody>\n",
       "    <tr>\n",
       "      <th>APAC</th>\n",
       "      <td>0</td>\n",
       "    </tr>\n",
       "    <tr>\n",
       "      <th>Americas</th>\n",
       "      <td>0</td>\n",
       "    </tr>\n",
       "    <tr>\n",
       "      <th>EMEA</th>\n",
       "      <td>0</td>\n",
       "    </tr>\n",
       "    <tr>\n",
       "      <th>Japan</th>\n",
       "      <td>0</td>\n",
       "    </tr>\n",
       "    <tr>\n",
       "      <th>Middle East</th>\n",
       "      <td>0</td>\n",
       "    </tr>\n",
       "  </tbody>\n",
       "</table>\n",
       "</div>"
      ],
      "text/plain": [
       "             Percentage Closed Wons\n",
       "Region                             \n",
       "APAC                              0\n",
       "Americas                          0\n",
       "EMEA                              0\n",
       "Japan                             0\n",
       "Middle East                       0"
      ]
     },
     "execution_count": 40,
     "metadata": {},
     "output_type": "execute_result"
    }
   ],
   "source": [
    "df_region_type = df_filtered[df_filtered[\"Stage\"] == \"Closed Lost\"]\n",
    "df_region_type[\"Percentage Closed Wons\"] = df_region_type[\"Stage\"].apply(lambda x: 1 if (x == \"Closed Won\") else 0)\n",
    "del df_region_type[\"Stage\"]\n",
    "df_region_type = df_region_type.groupby(\"Region\").agg({\"Percentage Closed Wons\" : \"mean\"})\n",
    "# df_region_type = df_grouped.unstack().fillna(0)\n",
    "# df_region_type.columns = df_grouped.columns.get_level_values(1)\n",
    "# df_region_type.columns.name = \"\"\n",
    "# df_region_type = df_grouped.reset_index()\n",
    "df_region_type"
   ]
  },
  {
   "cell_type": "code",
   "execution_count": 41,
   "metadata": {},
   "outputs": [
    {
     "data": {
      "text/plain": [
       "(-0.05, 1.05)"
      ]
     },
     "execution_count": 41,
     "metadata": {},
     "output_type": "execute_result"
    },
    {
     "data": {
      "image/png": "[encoded data removed]",
      "text/plain": [
       "<Figure size 576x360 with 1 Axes>"
      ]
     },
     "metadata": {
      "needs_background": "light"
     },
     "output_type": "display_data"
    }
   ],
   "source": [
    "\n",
    "plt.figure(figsize=(8,5))\n",
    "plt.hlines(y = df_region_type.index, xmin = 0, xmax = df_region_type['Percentage Closed Wons'], color = 'indianred')\n",
    "plt.plot(df_region_type['Percentage Closed Wons'], df_region_type.index, \"o\", c = \"r\", scalex = False)\n",
    "    \n",
    "# Add titles and axis names\n",
    "plt.grid(True, axis = \"x\", ls = '--')\n",
    "plt.yticks(rotation = 0)\n",
    "plt.title(\"Porcentaje Stages Closed Won de Productos válidos por Region\", loc = 'center', fontsize = 15)\n",
    "plt.xlabel('% Stages Closed Won', fontsize = 15)\n",
    "plt.ylabel('Region', fontsize = 15)\n",
    "plt.xlim(-0.05, 1.05)\n",
    "\n",
    "# df_owners_top15_worst = df_owners_top15_worst.sort_values(\"Percentage Closed Wons\", ascending = False)\n",
    "# df_owners_top15_worst.index = df_owners_top15_worst.index.str.replace(\"_Name_\", \" \", regex = True)\n",
    "\n",
    "# plt.subplots(figsize=(12,8))\n",
    "\n",
    "# plt.hlines(y = df_owners_top15_worst.index, xmin = 0, xmax = df_owners_top15_worst['Percentage Closed Wons'], color = 'indianred')\n",
    "# plt.plot(df_owners_top15_worst['Percentage Closed Wons'], df_owners_top15_worst.index, \"o\", c = \"r\", scalex = False)\n",
    " \n",
    "# # Add titles and axis names\n",
    "# plt.grid(True, axis = \"x\", ls = '--')\n",
    "# plt.yticks(rotation = 0)\n",
    "# plt.title(\"Top 15 Opportunity Owners con menor procentaje de Closed Won sobre Closed Opportunity\", loc = 'center', fontsize = 15)\n",
    "# plt.xlabel('% Closed Won sobre Closed Opportunity', fontsize = 15)\n",
    "# plt.ylabel('Opportunity Owner', fontsize = 15)\n",
    "# plt.xlim(-0.05, 1.05)\n"
   ]
  },
  {
   "cell_type": "markdown",
   "metadata": {},
   "source": [
    "Todos los Closed Lost tienen un tipo de producto asociado?"
   ]
  },
  {
   "cell_type": "code",
   "execution_count": 42,
   "metadata": {},
   "outputs": [
    {
     "data": {
      "text/html": [
       "<div>\n",
       "<style scoped>\n",
       "    .dataframe tbody tr th:only-of-type {\n",
       "        vertical-align: middle;\n",
       "    }\n",
       "\n",
       "    .dataframe tbody tr th {\n",
       "        vertical-align: top;\n",
       "    }\n",
       "\n",
       "    .dataframe thead th {\n",
       "        text-align: right;\n",
       "    }\n",
       "</style>\n",
       "<table border=\"1\" class=\"dataframe\">\n",
       "  <thead>\n",
       "    <tr style=\"text-align: right;\">\n",
       "      <th></th>\n",
       "      <th>Product_Type</th>\n",
       "    </tr>\n",
       "  </thead>\n",
       "  <tbody>\n",
       "    <tr>\n",
       "      <th>None</th>\n",
       "      <td>6338</td>\n",
       "    </tr>\n",
       "    <tr>\n",
       "      <th>Other</th>\n",
       "      <td>515</td>\n",
       "    </tr>\n",
       "    <tr>\n",
       "      <th>Product_Type_3</th>\n",
       "      <td>179</td>\n",
       "    </tr>\n",
       "    <tr>\n",
       "      <th>Product_Type_1</th>\n",
       "      <td>142</td>\n",
       "    </tr>\n",
       "    <tr>\n",
       "      <th>Product_Type_0</th>\n",
       "      <td>94</td>\n",
       "    </tr>\n",
       "    <tr>\n",
       "      <th>Product_Type_4</th>\n",
       "      <td>73</td>\n",
       "    </tr>\n",
       "    <tr>\n",
       "      <th>Product_Type_2</th>\n",
       "      <td>9</td>\n",
       "    </tr>\n",
       "  </tbody>\n",
       "</table>\n",
       "</div>"
      ],
      "text/plain": [
       "                Product_Type\n",
       "None                    6338\n",
       "Other                    515\n",
       "Product_Type_3           179\n",
       "Product_Type_1           142\n",
       "Product_Type_0            94\n",
       "Product_Type_4            73\n",
       "Product_Type_2             9"
      ]
     },
     "execution_count": 42,
     "metadata": {},
     "output_type": "execute_result"
    }
   ],
   "source": [
    "df_lost_type = df_type[df_type[\"Stage\"] == \"Closed Lost\"][\"Product_Type\"].value_counts().to_frame()\n",
    "df_lost_type"
   ]
  },
  {
   "cell_type": "code",
   "execution_count": 43,
   "metadata": {},
   "outputs": [
    {
     "data": {
      "text/plain": [
       "Text(0.5, 1.0, 'Cantidad de tipos de productos de items de oportunidades Closed Lost')"
      ]
     },
     "execution_count": 43,
     "metadata": {},
     "output_type": "execute_result"
    },
    {
     "data": {
      "image/png": "[encoded data removed]",
      "text/plain": [
       "<Figure size 1008x720 with 1 Axes>"
      ]
     },
     "metadata": {
      "needs_background": "light"
     },
     "output_type": "display_data"
    }
   ],
   "source": [
    "df_lost_type.index = [x.replace(\"_Type_\", \" \") for x in df_lost_type.index.astype(list)]\n",
    "\n",
    "df_lost_type.plot(kind = \"bar\", rot = 35, figsize =  (14,10))\n",
    "ax = plt.gca()\n",
    "ax.set_ylabel(\"Cantidad\", fontsize = 18)\n",
    "ax.set_xlabel(\"Tipo de producto\", fontsize = 18)\n",
    "ax.get_legend().remove()\n",
    "plt.title(\"Cantidad de tipos de productos de items de oportunidades Closed Lost\", fontsize = 18, fontweight = \"bold\")"
   ]
  },
  {
   "cell_type": "markdown",
   "metadata": {},
   "source": [
    "### Los que el taxable amount supera el 50% del precio total, tiene mas probabilidades de ser closed lost?"
   ]
  },
  {
   "cell_type": "code",
   "execution_count": 45,
   "metadata": {},
   "outputs": [
    {
     "data": {
      "text/plain": [
       "Opportunity_Name_5036     36\n",
       "Opportunity_Name_9795     36\n",
       "Opportunity_Name_12179    26\n",
       "Opportunity_Name_11461    26\n",
       "Opportunity_Name_6835     24\n",
       "                          ..\n",
       "Opportunity_Name_6755      1\n",
       "Opportunity_Name_6638      1\n",
       "Opportunity_Name_9203      1\n",
       "Opportunity_Name_8005      1\n",
       "Opportunity_Name_10560     1\n",
       "Name: Opportunity_Name, Length: 9841, dtype: int64"
      ]
     },
     "execution_count": 45,
     "metadata": {},
     "output_type": "execute_result"
    }
   ],
   "source": [
    "df[\"Opportunity_Name\"].value_counts()"
   ]
  },
  {
   "cell_type": "code",
   "execution_count": 63,
   "metadata": {},
   "outputs": [
    {
     "data": {
      "text/plain": [
       "Opportunity_Name_5036     36\n",
       "Opportunity_Name_9795     36\n",
       "Opportunity_Name_12179    26\n",
       "Opportunity_Name_11461    26\n",
       "Opportunity_Name_6835     24\n",
       "                          ..\n",
       "Opportunity_Name_7729      1\n",
       "Opportunity_Name_6755      1\n",
       "Opportunity_Name_6638      1\n",
       "Opportunity_Name_9203      1\n",
       "Opportunity_Name_10560     1\n",
       "Name: Opportunity_Name, Length: 9822, dtype: int64"
      ]
     },
     "execution_count": 63,
     "metadata": {},
     "output_type": "execute_result"
    }
   ],
   "source": [
    "df_logico = pd.merge(df, df_true, on = ['Opportunity_Name','Opportunity_Name'], how = \"outer\", indicator = True)\n",
    "df_logico = df_logico[df_logico['_merge'] == 'left_only']\n",
    "df_logico[\"Opportunity_Name\"].value_counts()"
   ]
  },
  {
   "cell_type": "code",
   "execution_count": 64,
   "metadata": {},
   "outputs": [
    {
     "data": {
      "text/plain": [
       "Index(['ID', 'Region', 'Territory', 'Pricing, Delivery_Terms_Quote_Appr',\n",
       "       'Pricing, Delivery_Terms_Approved', 'Bureaucratic_Code_0_Approval',\n",
       "       'Bureaucratic_Code_0_Approved', 'Submitted_for_Approval',\n",
       "       'Bureaucratic_Code', 'Account_Created_Date', 'Source ',\n",
       "       'Billing_Country', 'Account_Name', 'Opportunity_Name', 'Opportunity_ID',\n",
       "       'Sales_Contract_No', 'Account_Owner', 'Opportunity_Owner',\n",
       "       'Account_Type', 'Opportunity_Type', 'Quote_Type', 'Delivery_Terms',\n",
       "       'Opportunity_Created_Date', 'Brand', 'Product_Type', 'Size',\n",
       "       'Product_Category_B', 'Price', 'Currency', 'Last_Activity',\n",
       "       'Quote_Expiry_Date', 'Last_Modified_Date', 'Last_Modified_By',\n",
       "       'Product_Family', 'Product_Name', 'ASP_Currency', 'ASP',\n",
       "       'ASP_(converted)_Currency', 'ASP_(converted)',\n",
       "       'Planned_Delivery_Start_Date', 'Planned_Delivery_End_Date', 'Month',\n",
       "       'Delivery_Quarter', 'Delivery_Year', 'Actual_Delivery_Date', 'TRF',\n",
       "       'Total_Amount_Currency', 'Total_Amount_x',\n",
       "       'Total_Taxable_Amount_Currency', 'Total_Taxable_Amount_x', 'Stage',\n",
       "       'Prod_Category_A', 'Total_Amount_y', 'Total_Taxable_Amount_y',\n",
       "       'Difference', '_merge'],\n",
       "      dtype='object')"
      ]
     },
     "execution_count": 64,
     "metadata": {},
     "output_type": "execute_result"
    }
   ],
   "source": [
    "df_logico.columns"
   ]
  },
  {
   "cell_type": "code",
   "execution_count": 65,
   "metadata": {},
   "outputs": [
    {
     "name": "stdout",
     "output_type": "stream",
     "text": [
      "<class 'pandas.core.frame.DataFrame'>\n",
      "Int64Index: 16913 entries, 0 to 16946\n",
      "Data columns (total 56 columns):\n",
      " #   Column                              Non-Null Count  Dtype   \n",
      "---  ------                              --------------  -----   \n",
      " 0   ID                                  16913 non-null  int64   \n",
      " 1   Region                              16913 non-null  object  \n",
      " 2   Territory                           16913 non-null  object  \n",
      " 3   Pricing, Delivery_Terms_Quote_Appr  16913 non-null  int64   \n",
      " 4   Pricing, Delivery_Terms_Approved    16913 non-null  int64   \n",
      " 5   Bureaucratic_Code_0_Approval        16913 non-null  int64   \n",
      " 6   Bureaucratic_Code_0_Approved        16913 non-null  int64   \n",
      " 7   Submitted_for_Approval              16913 non-null  int64   \n",
      " 8   Bureaucratic_Code                   16913 non-null  object  \n",
      " 9   Account_Created_Date                16913 non-null  object  \n",
      " 10  Source                              16913 non-null  object  \n",
      " 11  Billing_Country                     16913 non-null  object  \n",
      " 12  Account_Name                        16913 non-null  object  \n",
      " 13  Opportunity_Name                    16913 non-null  object  \n",
      " 14  Opportunity_ID                      16913 non-null  int64   \n",
      " 15  Sales_Contract_No                   16913 non-null  object  \n",
      " 16  Account_Owner                       16913 non-null  object  \n",
      " 17  Opportunity_Owner                   16913 non-null  object  \n",
      " 18  Account_Type                        16913 non-null  object  \n",
      " 19  Opportunity_Type                    16913 non-null  object  \n",
      " 20  Quote_Type                          16913 non-null  object  \n",
      " 21  Delivery_Terms                      16913 non-null  object  \n",
      " 22  Opportunity_Created_Date            16913 non-null  object  \n",
      " 23  Brand                               16913 non-null  object  \n",
      " 24  Product_Type                        16913 non-null  object  \n",
      " 25  Size                                16913 non-null  object  \n",
      " 26  Product_Category_B                  16913 non-null  object  \n",
      " 27  Price                               16913 non-null  object  \n",
      " 28  Currency                            16913 non-null  object  \n",
      " 29  Last_Activity                       16913 non-null  object  \n",
      " 30  Quote_Expiry_Date                   16913 non-null  object  \n",
      " 31  Last_Modified_Date                  16913 non-null  object  \n",
      " 32  Last_Modified_By                    16913 non-null  object  \n",
      " 33  Product_Family                      16913 non-null  object  \n",
      " 34  Product_Name                        16913 non-null  object  \n",
      " 35  ASP_Currency                        16913 non-null  object  \n",
      " 36  ASP                                 13706 non-null  float64 \n",
      " 37  ASP_(converted)_Currency            16913 non-null  object  \n",
      " 38  ASP_(converted)                     13706 non-null  float64 \n",
      " 39  Planned_Delivery_Start_Date         16913 non-null  object  \n",
      " 40  Planned_Delivery_End_Date           16913 non-null  object  \n",
      " 41  Month                               16913 non-null  object  \n",
      " 42  Delivery_Quarter                    16913 non-null  object  \n",
      " 43  Delivery_Year                       16913 non-null  int64   \n",
      " 44  Actual_Delivery_Date                16913 non-null  object  \n",
      " 45  TRF                                 16913 non-null  int64   \n",
      " 46  Total_Amount_Currency               16913 non-null  object  \n",
      " 47  Total_Amount_x                      16854 non-null  float64 \n",
      " 48  Total_Taxable_Amount_Currency       16913 non-null  object  \n",
      " 49  Total_Taxable_Amount_x              16913 non-null  float64 \n",
      " 50  Stage                               16913 non-null  object  \n",
      " 51  Prod_Category_A                     16913 non-null  object  \n",
      " 52  Total_Amount_y                      0 non-null      float64 \n",
      " 53  Total_Taxable_Amount_y              0 non-null      float64 \n",
      " 54  Difference                          0 non-null      float64 \n",
      " 55  _merge                              16913 non-null  category\n",
      "dtypes: category(1), float64(7), int64(9), object(39)\n",
      "memory usage: 7.2+ MB\n"
     ]
    }
   ],
   "source": [
    "df_logico.info()"
   ]
  },
  {
   "cell_type": "code",
   "execution_count": 66,
   "metadata": {},
   "outputs": [],
   "source": [
    "del df_logico[\"Total_Amount_y\"]\n",
    "del df_logico[\"Total_Taxable_Amount_y\"]\n",
    "del df_logico[\"Difference\"]\n",
    "del df_logico[\"_merge\"]"
   ]
  },
  {
   "cell_type": "code",
   "execution_count": 67,
   "metadata": {},
   "outputs": [
    {
     "name": "stdout",
     "output_type": "stream",
     "text": [
      "<class 'pandas.core.frame.DataFrame'>\n",
      "Int64Index: 16913 entries, 0 to 16946\n",
      "Data columns (total 52 columns):\n",
      " #   Column                              Non-Null Count  Dtype  \n",
      "---  ------                              --------------  -----  \n",
      " 0   ID                                  16913 non-null  int64  \n",
      " 1   Region                              16913 non-null  object \n",
      " 2   Territory                           16913 non-null  object \n",
      " 3   Pricing, Delivery_Terms_Quote_Appr  16913 non-null  int64  \n",
      " 4   Pricing, Delivery_Terms_Approved    16913 non-null  int64  \n",
      " 5   Bureaucratic_Code_0_Approval        16913 non-null  int64  \n",
      " 6   Bureaucratic_Code_0_Approved        16913 non-null  int64  \n",
      " 7   Submitted_for_Approval              16913 non-null  int64  \n",
      " 8   Bureaucratic_Code                   16913 non-null  object \n",
      " 9   Account_Created_Date                16913 non-null  object \n",
      " 10  Source                              16913 non-null  object \n",
      " 11  Billing_Country                     16913 non-null  object \n",
      " 12  Account_Name                        16913 non-null  object \n",
      " 13  Opportunity_Name                    16913 non-null  object \n",
      " 14  Opportunity_ID                      16913 non-null  int64  \n",
      " 15  Sales_Contract_No                   16913 non-null  object \n",
      " 16  Account_Owner                       16913 non-null  object \n",
      " 17  Opportunity_Owner                   16913 non-null  object \n",
      " 18  Account_Type                        16913 non-null  object \n",
      " 19  Opportunity_Type                    16913 non-null  object \n",
      " 20  Quote_Type                          16913 non-null  object \n",
      " 21  Delivery_Terms                      16913 non-null  object \n",
      " 22  Opportunity_Created_Date            16913 non-null  object \n",
      " 23  Brand                               16913 non-null  object \n",
      " 24  Product_Type                        16913 non-null  object \n",
      " 25  Size                                16913 non-null  object \n",
      " 26  Product_Category_B                  16913 non-null  object \n",
      " 27  Price                               16913 non-null  object \n",
      " 28  Currency                            16913 non-null  object \n",
      " 29  Last_Activity                       16913 non-null  object \n",
      " 30  Quote_Expiry_Date                   16913 non-null  object \n",
      " 31  Last_Modified_Date                  16913 non-null  object \n",
      " 32  Last_Modified_By                    16913 non-null  object \n",
      " 33  Product_Family                      16913 non-null  object \n",
      " 34  Product_Name                        16913 non-null  object \n",
      " 35  ASP_Currency                        16913 non-null  object \n",
      " 36  ASP                                 13706 non-null  float64\n",
      " 37  ASP_(converted)_Currency            16913 non-null  object \n",
      " 38  ASP_(converted)                     13706 non-null  float64\n",
      " 39  Planned_Delivery_Start_Date         16913 non-null  object \n",
      " 40  Planned_Delivery_End_Date           16913 non-null  object \n",
      " 41  Month                               16913 non-null  object \n",
      " 42  Delivery_Quarter                    16913 non-null  object \n",
      " 43  Delivery_Year                       16913 non-null  int64  \n",
      " 44  Actual_Delivery_Date                16913 non-null  object \n",
      " 45  TRF                                 16913 non-null  int64  \n",
      " 46  Total_Amount_Currency               16913 non-null  object \n",
      " 47  Total_Amount_x                      16854 non-null  float64\n",
      " 48  Total_Taxable_Amount_Currency       16913 non-null  object \n",
      " 49  Total_Taxable_Amount_x              16913 non-null  float64\n",
      " 50  Stage                               16913 non-null  object \n",
      " 51  Prod_Category_A                     16913 non-null  object \n",
      "dtypes: float64(4), int64(9), object(39)\n",
      "memory usage: 6.8+ MB\n"
     ]
    }
   ],
   "source": [
    "df_logico.info()"
   ]
  },
  {
   "cell_type": "code",
   "execution_count": 74,
   "metadata": {
    "scrolled": false
   },
   "outputs": [
    {
     "name": "stderr",
     "output_type": "stream",
     "text": [
      "<ipython-input-74-e92cc778f4d3>:2: SettingWithCopyWarning: \n",
      "A value is trying to be set on a copy of a slice from a DataFrame.\n",
      "Try using .loc[row_indexer,col_indexer] = value instead\n",
      "\n",
      "See the caveats in the documentation: https://pandas.pydata.org/pandas-docs/stable/user_guide/indexing.html#returning-a-view-versus-a-copy\n",
      "  df_logico_2[\"Stage\"] = df_logico_2[\"Stage\"].apply(lambda x: 1 if (x == \"Closed Won\") else 0)\n"
     ]
    },
    {
     "data": {
      "text/html": [
       "<div>\n",
       "<style scoped>\n",
       "    .dataframe tbody tr th:only-of-type {\n",
       "        vertical-align: middle;\n",
       "    }\n",
       "\n",
       "    .dataframe tbody tr th {\n",
       "        vertical-align: top;\n",
       "    }\n",
       "\n",
       "    .dataframe thead th {\n",
       "        text-align: right;\n",
       "    }\n",
       "</style>\n",
       "<table border=\"1\" class=\"dataframe\">\n",
       "  <thead>\n",
       "    <tr style=\"text-align: right;\">\n",
       "      <th></th>\n",
       "      <th>Opportunity_Name</th>\n",
       "      <th>Total_Amount_x</th>\n",
       "      <th>Total_Taxable_Amount_x</th>\n",
       "      <th>Stage</th>\n",
       "    </tr>\n",
       "  </thead>\n",
       "  <tbody>\n",
       "    <tr>\n",
       "      <th>0</th>\n",
       "      <td>Opportunity_Name_0</td>\n",
       "      <td>3494400.00</td>\n",
       "      <td>3494400.00</td>\n",
       "      <td>0</td>\n",
       "    </tr>\n",
       "    <tr>\n",
       "      <th>1</th>\n",
       "      <td>Opportunity_Name_1</td>\n",
       "      <td>2193100.00</td>\n",
       "      <td>2193100.00</td>\n",
       "      <td>0</td>\n",
       "    </tr>\n",
       "    <tr>\n",
       "      <th>2</th>\n",
       "      <td>Opportunity_Name_100</td>\n",
       "      <td>543780.00</td>\n",
       "      <td>543780.00</td>\n",
       "      <td>1</td>\n",
       "    </tr>\n",
       "    <tr>\n",
       "      <th>3</th>\n",
       "      <td>Opportunity_Name_1000</td>\n",
       "      <td>142142000.00</td>\n",
       "      <td>142142000.00</td>\n",
       "      <td>0</td>\n",
       "    </tr>\n",
       "    <tr>\n",
       "      <th>5</th>\n",
       "      <td>Opportunity_Name_10001</td>\n",
       "      <td>43352.70</td>\n",
       "      <td>43352.70</td>\n",
       "      <td>1</td>\n",
       "    </tr>\n",
       "    <tr>\n",
       "      <th>...</th>\n",
       "      <td>...</td>\n",
       "      <td>...</td>\n",
       "      <td>...</td>\n",
       "      <td>...</td>\n",
       "    </tr>\n",
       "    <tr>\n",
       "      <th>9816</th>\n",
       "      <td>Opportunity_Name_9991</td>\n",
       "      <td>323190.00</td>\n",
       "      <td>323190.00</td>\n",
       "      <td>1</td>\n",
       "    </tr>\n",
       "    <tr>\n",
       "      <th>9818</th>\n",
       "      <td>Opportunity_Name_9995</td>\n",
       "      <td>1043490.00</td>\n",
       "      <td>1043490.00</td>\n",
       "      <td>0</td>\n",
       "    </tr>\n",
       "    <tr>\n",
       "      <th>9819</th>\n",
       "      <td>Opportunity_Name_9996</td>\n",
       "      <td>790246.88</td>\n",
       "      <td>790246.88</td>\n",
       "      <td>0</td>\n",
       "    </tr>\n",
       "    <tr>\n",
       "      <th>9820</th>\n",
       "      <td>Opportunity_Name_9997</td>\n",
       "      <td>3799810.00</td>\n",
       "      <td>3799810.00</td>\n",
       "      <td>0</td>\n",
       "    </tr>\n",
       "    <tr>\n",
       "      <th>9821</th>\n",
       "      <td>Opportunity_Name_9998</td>\n",
       "      <td>362610.00</td>\n",
       "      <td>362610.00</td>\n",
       "      <td>0</td>\n",
       "    </tr>\n",
       "  </tbody>\n",
       "</table>\n",
       "<p>9071 rows × 4 columns</p>\n",
       "</div>"
      ],
      "text/plain": [
       "            Opportunity_Name  Total_Amount_x  Total_Taxable_Amount_x  Stage\n",
       "0         Opportunity_Name_0      3494400.00              3494400.00      0\n",
       "1         Opportunity_Name_1      2193100.00              2193100.00      0\n",
       "2       Opportunity_Name_100       543780.00               543780.00      1\n",
       "3      Opportunity_Name_1000    142142000.00            142142000.00      0\n",
       "5     Opportunity_Name_10001        43352.70                43352.70      1\n",
       "...                      ...             ...                     ...    ...\n",
       "9816   Opportunity_Name_9991       323190.00               323190.00      1\n",
       "9818   Opportunity_Name_9995      1043490.00              1043490.00      0\n",
       "9819   Opportunity_Name_9996       790246.88               790246.88      0\n",
       "9820   Opportunity_Name_9997      3799810.00              3799810.00      0\n",
       "9821   Opportunity_Name_9998       362610.00               362610.00      0\n",
       "\n",
       "[9071 rows x 4 columns]"
      ]
     },
     "execution_count": 74,
     "metadata": {},
     "output_type": "execute_result"
    }
   ],
   "source": [
    "df_logico_2 = df_logico[[\"Opportunity_Name\", \"Total_Amount_x\", \"Total_Taxable_Amount_x\", \"Stage\"]]\n",
    "df_logico_2[\"Stage\"] = df_logico_2[\"Stage\"].apply(lambda x: 1 if (x == \"Closed Won\") else 0)\n",
    "df_logico_2 = df_logico_2.groupby(\"Opportunity_Name\").agg({\"Total_Amount_x\" : \"sum\", \"Total_Taxable_Amount_x\" : \"mean\", \"Stage\" : \"mean\"})\n",
    "df_logico_2 =  df_logico_2.reset_index()\n",
    "df_logico_2 = df_logico_2.groupby(\"Opportunity_Name\").filter(lambda x : x[\"Total_Taxable_Amount_x\"] > x[\"Total_Amount_x\"] / 2)\n",
    "df_logico_2"
   ]
  },
  {
   "cell_type": "code",
   "execution_count": 77,
   "metadata": {},
   "outputs": [
    {
     "data": {
      "text/plain": [
       "0.5357733436225334"
      ]
     },
     "execution_count": 77,
     "metadata": {},
     "output_type": "execute_result"
    }
   ],
   "source": [
    "porcentaje_won = df_logico_2[\"Stage\"].mean()\n",
    "porcentaje_won"
   ]
  },
  {
   "cell_type": "code",
   "execution_count": 83,
   "metadata": {},
   "outputs": [
    {
     "data": {
      "text/plain": [
       "Text(0.5, 1.0, 'Probabilidades de Closed Opportunity para oportunidades con alto valor impositivo')"
      ]
     },
     "execution_count": 83,
     "metadata": {},
     "output_type": "execute_result"
    },
    {
     "data": {
      "image/png": "[encoded data removed]",
      "text/plain": [
       "<Figure size 1008x720 with 1 Axes>"
      ]
     },
     "metadata": {},
     "output_type": "display_data"
    }
   ],
   "source": [
    "df_porcentaje = pd.DataFrame({'Percentage' : [porcentaje_won, 1 - porcentaje_won]}, index = [\"Closed Won\", \"Closed Lost\"])\n",
    "df_porcentaje.plot(kind = \"pie\", y = \"Percentage\", figsize = (14, 10), subplots = True)\n",
    "plt.title(\"Probabilidades de Closed Opportunity para oportunidades con alto valor impositivo\", fontsize = 16)"
   ]
  },
  {
   "cell_type": "code",
   "execution_count": 84,
   "metadata": {},
   "outputs": [
    {
     "name": "stderr",
     "output_type": "stream",
     "text": [
      "<ipython-input-84-4b6dac2dfe56>:2: SettingWithCopyWarning: \n",
      "A value is trying to be set on a copy of a slice from a DataFrame.\n",
      "Try using .loc[row_indexer,col_indexer] = value instead\n",
      "\n",
      "See the caveats in the documentation: https://pandas.pydata.org/pandas-docs/stable/user_guide/indexing.html#returning-a-view-versus-a-copy\n",
      "  df_logico_3[\"Stage\"] = df_logico_3[\"Stage\"].apply(lambda x: 1 if (x == \"Closed Won\") else 0)\n"
     ]
    },
    {
     "data": {
      "text/html": [
       "<div>\n",
       "<style scoped>\n",
       "    .dataframe tbody tr th:only-of-type {\n",
       "        vertical-align: middle;\n",
       "    }\n",
       "\n",
       "    .dataframe tbody tr th {\n",
       "        vertical-align: top;\n",
       "    }\n",
       "\n",
       "    .dataframe thead th {\n",
       "        text-align: right;\n",
       "    }\n",
       "</style>\n",
       "<table border=\"1\" class=\"dataframe\">\n",
       "  <thead>\n",
       "    <tr style=\"text-align: right;\">\n",
       "      <th></th>\n",
       "      <th>Opportunity_Name</th>\n",
       "      <th>Total_Amount_x</th>\n",
       "      <th>Total_Taxable_Amount_x</th>\n",
       "      <th>Stage</th>\n",
       "    </tr>\n",
       "  </thead>\n",
       "  <tbody>\n",
       "    <tr>\n",
       "      <th>4</th>\n",
       "      <td>Opportunity_Name_10000</td>\n",
       "      <td>19600.00</td>\n",
       "      <td>0.00</td>\n",
       "      <td>0</td>\n",
       "    </tr>\n",
       "    <tr>\n",
       "      <th>316</th>\n",
       "      <td>Opportunity_Name_10308</td>\n",
       "      <td>3700695.60</td>\n",
       "      <td>0.00</td>\n",
       "      <td>0</td>\n",
       "    </tr>\n",
       "    <tr>\n",
       "      <th>317</th>\n",
       "      <td>Opportunity_Name_10309</td>\n",
       "      <td>741607.65</td>\n",
       "      <td>0.00</td>\n",
       "      <td>0</td>\n",
       "    </tr>\n",
       "    <tr>\n",
       "      <th>428</th>\n",
       "      <td>Opportunity_Name_10445</td>\n",
       "      <td>104328.00</td>\n",
       "      <td>0.00</td>\n",
       "      <td>0</td>\n",
       "    </tr>\n",
       "    <tr>\n",
       "      <th>429</th>\n",
       "      <td>Opportunity_Name_10446</td>\n",
       "      <td>93024.00</td>\n",
       "      <td>0.00</td>\n",
       "      <td>0</td>\n",
       "    </tr>\n",
       "    <tr>\n",
       "      <th>...</th>\n",
       "      <td>...</td>\n",
       "      <td>...</td>\n",
       "      <td>...</td>\n",
       "      <td>...</td>\n",
       "    </tr>\n",
       "    <tr>\n",
       "      <th>9737</th>\n",
       "      <td>Opportunity_Name_9911</td>\n",
       "      <td>25603200.00</td>\n",
       "      <td>0.00</td>\n",
       "      <td>0</td>\n",
       "    </tr>\n",
       "    <tr>\n",
       "      <th>9738</th>\n",
       "      <td>Opportunity_Name_9912</td>\n",
       "      <td>38700000.00</td>\n",
       "      <td>0.00</td>\n",
       "      <td>0</td>\n",
       "    </tr>\n",
       "    <tr>\n",
       "      <th>9739</th>\n",
       "      <td>Opportunity_Name_9913</td>\n",
       "      <td>12801600.00</td>\n",
       "      <td>0.00</td>\n",
       "      <td>0</td>\n",
       "    </tr>\n",
       "    <tr>\n",
       "      <th>9740</th>\n",
       "      <td>Opportunity_Name_9914</td>\n",
       "      <td>10660557.60</td>\n",
       "      <td>0.00</td>\n",
       "      <td>0</td>\n",
       "    </tr>\n",
       "    <tr>\n",
       "      <th>9817</th>\n",
       "      <td>Opportunity_Name_9992</td>\n",
       "      <td>175190.40</td>\n",
       "      <td>0.00</td>\n",
       "      <td>0</td>\n",
       "    </tr>\n",
       "  </tbody>\n",
       "</table>\n",
       "<p>667 rows × 4 columns</p>\n",
       "</div>"
      ],
      "text/plain": [
       "            Opportunity_Name  Total_Amount_x  Total_Taxable_Amount_x  Stage\n",
       "4     Opportunity_Name_10000        19600.00                    0.00      0\n",
       "316   Opportunity_Name_10308      3700695.60                    0.00      0\n",
       "317   Opportunity_Name_10309       741607.65                    0.00      0\n",
       "428   Opportunity_Name_10445       104328.00                    0.00      0\n",
       "429   Opportunity_Name_10446        93024.00                    0.00      0\n",
       "...                      ...             ...                     ...    ...\n",
       "9737   Opportunity_Name_9911     25603200.00                    0.00      0\n",
       "9738   Opportunity_Name_9912     38700000.00                    0.00      0\n",
       "9739   Opportunity_Name_9913     12801600.00                    0.00      0\n",
       "9740   Opportunity_Name_9914     10660557.60                    0.00      0\n",
       "9817   Opportunity_Name_9992       175190.40                    0.00      0\n",
       "\n",
       "[667 rows x 4 columns]"
      ]
     },
     "execution_count": 84,
     "metadata": {},
     "output_type": "execute_result"
    }
   ],
   "source": [
    "df_logico_3 = df_logico[[\"Opportunity_Name\", \"Total_Amount_x\", \"Total_Taxable_Amount_x\", \"Stage\"]]\n",
    "df_logico_3[\"Stage\"] = df_logico_3[\"Stage\"].apply(lambda x: 1 if (x == \"Closed Won\") else 0)\n",
    "df_logico_3 = df_logico_3.groupby(\"Opportunity_Name\").agg({\"Total_Amount_x\" : \"sum\", \"Total_Taxable_Amount_x\" : \"mean\", \"Stage\" : \"mean\"})\n",
    "df_logico_3 =  df_logico_3.reset_index()\n",
    "df_logico_3 = df_logico_3.groupby(\"Opportunity_Name\").filter(lambda x : x[\"Total_Taxable_Amount_x\"] < x[\"Total_Amount_x\"] / 2)\n",
    "df_logico_3"
   ]
  },
  {
   "cell_type": "code",
   "execution_count": 85,
   "metadata": {},
   "outputs": [
    {
     "data": {
      "text/plain": [
       "0.29235382308845576"
      ]
     },
     "execution_count": 85,
     "metadata": {},
     "output_type": "execute_result"
    }
   ],
   "source": [
    "porcentaje_won_2 = df_logico_3[\"Stage\"].mean()\n",
    "porcentaje_won_2"
   ]
  },
  {
   "cell_type": "code",
   "execution_count": 86,
   "metadata": {},
   "outputs": [
    {
     "data": {
      "text/plain": [
       "Text(0.5, 1.0, 'Probabilidades de Closed Opportunity para oportunidades con alto valor impositivo')"
      ]
     },
     "execution_count": 86,
     "metadata": {},
     "output_type": "execute_result"
    },
    {
     "data": {
      "image/png": "[encoded data removed]",
      "text/plain": [
       "<Figure size 1008x720 with 1 Axes>"
      ]
     },
     "metadata": {},
     "output_type": "display_data"
    }
   ],
   "source": [
    "df_porcentaje_2 = pd.DataFrame({'Percentage' : [porcentaje_won_2, 1 - porcentaje_won_2]}, index = [\"Closed Won\", \"Closed Lost\"])\n",
    "df_porcentaje_2.plot(kind = \"pie\", y = \"Percentage\", figsize = (14, 10), subplots = True)\n",
    "plt.title(\"Probabilidades de Closed Opportunity para oportunidades con alto valor impositivo\", fontsize = 16)"
   ]
  },
  {
   "cell_type": "markdown",
   "metadata": {},
   "source": [
    "Tener mas del promedio de total amount, da probabilidades altas de closed won?"
   ]
  }
 ],
 "metadata": {
  "kernelspec": {
   "display_name": "Python 3",
   "language": "python",
   "name": "python3"
  },
  "language_info": {
   "codemirror_mode": {
    "name": "ipython",
    "version": 3
   },
   "file_extension": ".py",
   "mimetype": "text/x-python",
   "name": "python",
   "nbconvert_exporter": "python",
   "pygments_lexer": "ipython3",
   "version": "3.8.3"
  }
 },
 "nbformat": 4,
 "nbformat_minor": 4
}
