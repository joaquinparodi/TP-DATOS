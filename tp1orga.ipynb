{
  "nbformat": 4,
  "nbformat_minor": 0,
  "metadata": {
    "colab": {
      "name": "tp1orga.ipynb",
      "provenance": [],
      "collapsed_sections": [],
      "authorship_tag": "ABX9TyPNLkHKCdhMEgpTPGQtpr4r",
      "include_colab_link": true
    },
    "kernelspec": {
      "name": "python3",
      "display_name": "Python 3"
    }
  },
  "cells": [
    {
      "cell_type": "markdown",
      "metadata": {
        "id": "view-in-github",
        "colab_type": "text"
      },
      "source": [
        "<a href=\"https://colab.research.google.com/github/joaquinparodi/TP1-DATOS/blob/main/tp1orga.ipynb\" target=\"_parent\"><img src=\"https://colab.research.google.com/assets/colab-badge.svg\" alt=\"Open In Colab\"/></a>"
      ]
    },
    {
      "cell_type": "code",
      "metadata": {
        "id": "BTDqJL94FYGe",
        "colab": {
          "base_uri": "https://localhost:8080/"
        },
        "outputId": "bf671106-357f-4b44-becf-bdad595688a3"
      },
      "source": [
        "# importacion general de librerias y de visualizacion (matplotlib y seaborn)\n",
        "!pip install ptitprince\n",
        "import ptitprince as pt\n",
        "import pandas as pd\n",
        "import numpy as np\n"
      ],
      "execution_count": 1,
      "outputs": [
        {
          "output_type": "stream",
          "text": [
            "Collecting ptitprince\n",
            "  Downloading https://files.pythonhosted.org/packages/4a/da/b7032999bc29a3974ac9c7939d56a669335966d8820356a723be978697fb/ptitprince-0.2.5.tar.gz\n",
            "Requirement already satisfied: seaborn>=0.10 in /usr/local/lib/python3.6/dist-packages (from ptitprince) (0.11.1)\n",
            "Requirement already satisfied: matplotlib in /usr/local/lib/python3.6/dist-packages (from ptitprince) (3.2.2)\n",
            "Requirement already satisfied: numpy>=1.13 in /usr/local/lib/python3.6/dist-packages (from ptitprince) (1.19.5)\n",
            "Requirement already satisfied: scipy in /usr/local/lib/python3.6/dist-packages (from ptitprince) (1.4.1)\n",
            "Collecting PyHamcrest>=1.9.0\n",
            "\u001b[?25l  Downloading https://files.pythonhosted.org/packages/40/16/e54cc65891f01cb62893540f44ffd3e8dab0a22443e1b438f1a9f5574bee/PyHamcrest-2.0.2-py3-none-any.whl (52kB)\n",
            "\u001b[K     |████████████████████████████████| 61kB 2.8MB/s \n",
            "\u001b[?25hRequirement already satisfied: cython in /usr/local/lib/python3.6/dist-packages (from ptitprince) (0.29.21)\n",
            "Requirement already satisfied: pandas>=0.23 in /usr/local/lib/python3.6/dist-packages (from seaborn>=0.10->ptitprince) (1.1.5)\n",
            "Requirement already satisfied: python-dateutil>=2.1 in /usr/local/lib/python3.6/dist-packages (from matplotlib->ptitprince) (2.8.1)\n",
            "Requirement already satisfied: kiwisolver>=1.0.1 in /usr/local/lib/python3.6/dist-packages (from matplotlib->ptitprince) (1.3.1)\n",
            "Requirement already satisfied: pyparsing!=2.0.4,!=2.1.2,!=2.1.6,>=2.0.1 in /usr/local/lib/python3.6/dist-packages (from matplotlib->ptitprince) (2.4.7)\n",
            "Requirement already satisfied: cycler>=0.10 in /usr/local/lib/python3.6/dist-packages (from matplotlib->ptitprince) (0.10.0)\n",
            "Requirement already satisfied: pytz>=2017.2 in /usr/local/lib/python3.6/dist-packages (from pandas>=0.23->seaborn>=0.10->ptitprince) (2018.9)\n",
            "Requirement already satisfied: six>=1.5 in /usr/local/lib/python3.6/dist-packages (from python-dateutil>=2.1->matplotlib->ptitprince) (1.15.0)\n",
            "Building wheels for collected packages: ptitprince\n",
            "  Building wheel for ptitprince (setup.py) ... \u001b[?25l\u001b[?25hdone\n",
            "  Created wheel for ptitprince: filename=ptitprince-0.2.5-cp36-none-any.whl size=8428 sha256=897d010b41ad7eb84860823a826970d7c89c06790770608b2e21f185d4a0c980\n",
            "  Stored in directory: /root/.cache/pip/wheels/fb/c1/75/2ef8da161053bdf8e03f9a360f426accd4fac1ddf7f6ed0029\n",
            "Successfully built ptitprince\n",
            "Installing collected packages: PyHamcrest, ptitprince\n",
            "Successfully installed PyHamcrest-2.0.2 ptitprince-0.2.5\n"
          ],
          "name": "stdout"
        }
      ]
    },
    {
      "cell_type": "code",
      "metadata": {
        "id": "wtgYMgn_kuPz"
      },
      "source": [
        "import matplotlib.pylab as plt\n",
        "import seaborn as sns"
      ],
      "execution_count": 2,
      "outputs": []
    },
    {
      "cell_type": "code",
      "metadata": {
        "id": "ycF5SnjfGj4I"
      },
      "source": [
        "from pydrive.auth import GoogleAuth\n",
        "from pydrive.drive import GoogleDrive\n",
        "from google.colab import auth\n",
        "from oauth2client.client import GoogleCredentials"
      ],
      "execution_count": 3,
      "outputs": []
    },
    {
      "cell_type": "code",
      "metadata": {
        "id": "QJbV2lDrGj-b"
      },
      "source": [
        "auth.authenticate_user()\n",
        "gauth = GoogleAuth()\n",
        "gauth.credentials = GoogleCredentials.get_application_default()\n",
        "drive = GoogleDrive(gauth)"
      ],
      "execution_count": 4,
      "outputs": []
    },
    {
      "cell_type": "code",
      "metadata": {
        "id": "67yYcLf_GyAO"
      },
      "source": [
        " \n",
        "id='1aIyEwjxvHeljU-gu-iQMlHI596nZRPFJ'\n",
        "downloaded = drive.CreateFile({'id': id})\n",
        "downloaded.GetContentFile('data.csv')"
      ],
      "execution_count": 5,
      "outputs": []
    },
    {
      "cell_type": "code",
      "metadata": {
        "id": "mWdphOAZwRLl"
      },
      "source": [
        "id='1P7Ks8VYeeTpQ7xvpSSYXM_9X4aKAEcGC'\r\n",
        "downloaded = drive.CreateFile({'id': id})\r\n",
        "downloaded.GetContentFile('test.csv')"
      ],
      "execution_count": 6,
      "outputs": []
    },
    {
      "cell_type": "code",
      "metadata": {
        "id": "Ia9MlRRywaD7"
      },
      "source": [
        "test=pd.read_csv('test.csv')"
      ],
      "execution_count": 8,
      "outputs": []
    },
    {
      "cell_type": "code",
      "metadata": {
        "id": "Kp9dL5kfws8U",
        "colab": {
          "base_uri": "https://localhost:8080/",
          "height": 635
        },
        "outputId": "09663ca3-5008-45af-9678-a3820d084073"
      },
      "source": [
        "test"
      ],
      "execution_count": 9,
      "outputs": [
        {
          "output_type": "execute_result",
          "data": {
            "text/html": [
              "<div>\n",
              "<style scoped>\n",
              "    .dataframe tbody tr th:only-of-type {\n",
              "        vertical-align: middle;\n",
              "    }\n",
              "\n",
              "    .dataframe tbody tr th {\n",
              "        vertical-align: top;\n",
              "    }\n",
              "\n",
              "    .dataframe thead th {\n",
              "        text-align: right;\n",
              "    }\n",
              "</style>\n",
              "<table border=\"1\" class=\"dataframe\">\n",
              "  <thead>\n",
              "    <tr style=\"text-align: right;\">\n",
              "      <th></th>\n",
              "      <th>ID</th>\n",
              "      <th>Region</th>\n",
              "      <th>Territory</th>\n",
              "      <th>Pricing, Delivery_Terms_Quote_Appr</th>\n",
              "      <th>Pricing, Delivery_Terms_Approved</th>\n",
              "      <th>Bureaucratic_Code_0_Approval</th>\n",
              "      <th>Bureaucratic_Code_0_Approved</th>\n",
              "      <th>Submitted_for_Approval</th>\n",
              "      <th>Bureaucratic_Code</th>\n",
              "      <th>Account_Created_Date</th>\n",
              "      <th>Source</th>\n",
              "      <th>Billing_Country</th>\n",
              "      <th>Account_Name</th>\n",
              "      <th>Opportunity_Name</th>\n",
              "      <th>Opportunity_ID</th>\n",
              "      <th>Sales_Contract_No</th>\n",
              "      <th>Account_Owner</th>\n",
              "      <th>Opportunity_Owner</th>\n",
              "      <th>Account_Type</th>\n",
              "      <th>Opportunity_Type</th>\n",
              "      <th>Quote_Type</th>\n",
              "      <th>Delivery_Terms</th>\n",
              "      <th>Opportunity_Created_Date</th>\n",
              "      <th>Brand</th>\n",
              "      <th>Product_Type</th>\n",
              "      <th>Size</th>\n",
              "      <th>Product_Category_B</th>\n",
              "      <th>Price</th>\n",
              "      <th>Currency</th>\n",
              "      <th>Last_Activity</th>\n",
              "      <th>Quote_Expiry_Date</th>\n",
              "      <th>Last_Modified_Date</th>\n",
              "      <th>Last_Modified_By</th>\n",
              "      <th>Product_Family</th>\n",
              "      <th>Product_Name</th>\n",
              "      <th>ASP_Currency</th>\n",
              "      <th>ASP</th>\n",
              "      <th>ASP_(converted)_Currency</th>\n",
              "      <th>ASP_(converted)</th>\n",
              "      <th>Planned_Delivery_Start_Date</th>\n",
              "      <th>Planned_Delivery_End_Date</th>\n",
              "      <th>Month</th>\n",
              "      <th>Delivery_Quarter</th>\n",
              "      <th>Delivery_Year</th>\n",
              "      <th>Actual_Delivery_Date</th>\n",
              "      <th>TRF</th>\n",
              "      <th>Total_Amount_Currency</th>\n",
              "      <th>Total_Amount</th>\n",
              "      <th>Total_Taxable_Amount_Currency</th>\n",
              "      <th>Total_Taxable_Amount</th>\n",
              "      <th>Prod_Category_A</th>\n",
              "    </tr>\n",
              "  </thead>\n",
              "  <tbody>\n",
              "    <tr>\n",
              "      <th>0</th>\n",
              "      <td>6140</td>\n",
              "      <td>EMEA</td>\n",
              "      <td>Germany</td>\n",
              "      <td>1</td>\n",
              "      <td>1</td>\n",
              "      <td>1</td>\n",
              "      <td>1</td>\n",
              "      <td>0</td>\n",
              "      <td>Bureaucratic_Code_4</td>\n",
              "      <td>7/5/2017</td>\n",
              "      <td>Source_7</td>\n",
              "      <td>Germany</td>\n",
              "      <td>Account_Name_978</td>\n",
              "      <td>Opportunity_Name_6118</td>\n",
              "      <td>10689</td>\n",
              "      <td>6436</td>\n",
              "      <td>Person_Name_13</td>\n",
              "      <td>Person_Name_13</td>\n",
              "      <td>Account_Type_0</td>\n",
              "      <td>Opportunity_Type_8</td>\n",
              "      <td>Non Binding</td>\n",
              "      <td>Delivery_Terms_2</td>\n",
              "      <td>4/12/2019</td>\n",
              "      <td>None</td>\n",
              "      <td>None</td>\n",
              "      <td>None</td>\n",
              "      <td>None</td>\n",
              "      <td>None</td>\n",
              "      <td>None</td>\n",
              "      <td>NaT</td>\n",
              "      <td>4/30/2019</td>\n",
              "      <td>4/12/2019</td>\n",
              "      <td>Person_Name_13</td>\n",
              "      <td>Product_Family_171</td>\n",
              "      <td>Product_Name_332</td>\n",
              "      <td>EUR</td>\n",
              "      <td>0.325</td>\n",
              "      <td>USD</td>\n",
              "      <td>0.36761</td>\n",
              "      <td>5/1/2019</td>\n",
              "      <td>5/31/2019</td>\n",
              "      <td>2019 - 5</td>\n",
              "      <td>Q2</td>\n",
              "      <td>2019</td>\n",
              "      <td>NaT</td>\n",
              "      <td>0</td>\n",
              "      <td>EUR</td>\n",
              "      <td>162240.0</td>\n",
              "      <td>EUR</td>\n",
              "      <td>367419.0</td>\n",
              "      <td>Prod_Category_A_None</td>\n",
              "    </tr>\n",
              "    <tr>\n",
              "      <th>1</th>\n",
              "      <td>6146</td>\n",
              "      <td>EMEA</td>\n",
              "      <td>Germany</td>\n",
              "      <td>1</td>\n",
              "      <td>1</td>\n",
              "      <td>1</td>\n",
              "      <td>1</td>\n",
              "      <td>0</td>\n",
              "      <td>Bureaucratic_Code_4</td>\n",
              "      <td>7/5/2017</td>\n",
              "      <td>Source_7</td>\n",
              "      <td>Germany</td>\n",
              "      <td>Account_Name_978</td>\n",
              "      <td>Opportunity_Name_6118</td>\n",
              "      <td>10689</td>\n",
              "      <td>6436</td>\n",
              "      <td>Person_Name_13</td>\n",
              "      <td>Person_Name_13</td>\n",
              "      <td>Account_Type_0</td>\n",
              "      <td>Opportunity_Type_8</td>\n",
              "      <td>Non Binding</td>\n",
              "      <td>Delivery_Terms_2</td>\n",
              "      <td>4/12/2019</td>\n",
              "      <td>None</td>\n",
              "      <td>None</td>\n",
              "      <td>None</td>\n",
              "      <td>None</td>\n",
              "      <td>None</td>\n",
              "      <td>None</td>\n",
              "      <td>NaT</td>\n",
              "      <td>4/30/2019</td>\n",
              "      <td>4/12/2019</td>\n",
              "      <td>Person_Name_13</td>\n",
              "      <td>Product_Family_167</td>\n",
              "      <td>Product_Name_315</td>\n",
              "      <td>EUR</td>\n",
              "      <td>0.320</td>\n",
              "      <td>USD</td>\n",
              "      <td>0.36195</td>\n",
              "      <td>5/1/2019</td>\n",
              "      <td>5/31/2019</td>\n",
              "      <td>2019 - 5</td>\n",
              "      <td>Q2</td>\n",
              "      <td>2019</td>\n",
              "      <td>NaT</td>\n",
              "      <td>0</td>\n",
              "      <td>EUR</td>\n",
              "      <td>78624.0</td>\n",
              "      <td>EUR</td>\n",
              "      <td>367419.0</td>\n",
              "      <td>Prod_Category_A_None</td>\n",
              "    </tr>\n",
              "    <tr>\n",
              "      <th>2</th>\n",
              "      <td>6151</td>\n",
              "      <td>EMEA</td>\n",
              "      <td>Germany</td>\n",
              "      <td>1</td>\n",
              "      <td>1</td>\n",
              "      <td>1</td>\n",
              "      <td>1</td>\n",
              "      <td>0</td>\n",
              "      <td>Bureaucratic_Code_4</td>\n",
              "      <td>7/5/2017</td>\n",
              "      <td>Source_7</td>\n",
              "      <td>Germany</td>\n",
              "      <td>Account_Name_978</td>\n",
              "      <td>Opportunity_Name_6118</td>\n",
              "      <td>10689</td>\n",
              "      <td>6436</td>\n",
              "      <td>Person_Name_13</td>\n",
              "      <td>Person_Name_13</td>\n",
              "      <td>Account_Type_0</td>\n",
              "      <td>Opportunity_Type_8</td>\n",
              "      <td>Non Binding</td>\n",
              "      <td>Delivery_Terms_2</td>\n",
              "      <td>4/12/2019</td>\n",
              "      <td>None</td>\n",
              "      <td>None</td>\n",
              "      <td>None</td>\n",
              "      <td>None</td>\n",
              "      <td>None</td>\n",
              "      <td>None</td>\n",
              "      <td>NaT</td>\n",
              "      <td>4/30/2019</td>\n",
              "      <td>4/12/2019</td>\n",
              "      <td>Person_Name_13</td>\n",
              "      <td>Product_Family_140</td>\n",
              "      <td>Product_Name_241</td>\n",
              "      <td>EUR</td>\n",
              "      <td>0.275</td>\n",
              "      <td>USD</td>\n",
              "      <td>0.31105</td>\n",
              "      <td>5/1/2019</td>\n",
              "      <td>5/31/2019</td>\n",
              "      <td>2019 - 5</td>\n",
              "      <td>Q2</td>\n",
              "      <td>2019</td>\n",
              "      <td>NaT</td>\n",
              "      <td>0</td>\n",
              "      <td>EUR</td>\n",
              "      <td>126555.0</td>\n",
              "      <td>EUR</td>\n",
              "      <td>367419.0</td>\n",
              "      <td>Prod_Category_A_None</td>\n",
              "    </tr>\n",
              "    <tr>\n",
              "      <th>3</th>\n",
              "      <td>6118</td>\n",
              "      <td>EMEA</td>\n",
              "      <td>Germany</td>\n",
              "      <td>1</td>\n",
              "      <td>1</td>\n",
              "      <td>1</td>\n",
              "      <td>1</td>\n",
              "      <td>0</td>\n",
              "      <td>Bureaucratic_Code_4</td>\n",
              "      <td>7/5/2017</td>\n",
              "      <td>Source_7</td>\n",
              "      <td>Germany</td>\n",
              "      <td>Account_Name_978</td>\n",
              "      <td>Opportunity_Name_6117</td>\n",
              "      <td>10690</td>\n",
              "      <td>6504</td>\n",
              "      <td>Person_Name_13</td>\n",
              "      <td>Person_Name_13</td>\n",
              "      <td>Account_Type_0</td>\n",
              "      <td>Opportunity_Type_8</td>\n",
              "      <td>Non Binding</td>\n",
              "      <td>Delivery_Terms_2</td>\n",
              "      <td>4/12/2019</td>\n",
              "      <td>None</td>\n",
              "      <td>None</td>\n",
              "      <td>None</td>\n",
              "      <td>None</td>\n",
              "      <td>None</td>\n",
              "      <td>None</td>\n",
              "      <td>NaT</td>\n",
              "      <td>4/30/2019</td>\n",
              "      <td>4/25/2019</td>\n",
              "      <td>Person_Name_13</td>\n",
              "      <td>Product_Family_171</td>\n",
              "      <td>Product_Name_328</td>\n",
              "      <td>EUR</td>\n",
              "      <td>0.325</td>\n",
              "      <td>USD</td>\n",
              "      <td>0.36761</td>\n",
              "      <td>6/1/2019</td>\n",
              "      <td>6/28/2019</td>\n",
              "      <td>2019 - 6</td>\n",
              "      <td>Q2</td>\n",
              "      <td>2019</td>\n",
              "      <td>NaT</td>\n",
              "      <td>1</td>\n",
              "      <td>EUR</td>\n",
              "      <td>243360.0</td>\n",
              "      <td>EUR</td>\n",
              "      <td>757783.5</td>\n",
              "      <td>Prod_Category_A_None</td>\n",
              "    </tr>\n",
              "    <tr>\n",
              "      <th>4</th>\n",
              "      <td>6124</td>\n",
              "      <td>EMEA</td>\n",
              "      <td>Germany</td>\n",
              "      <td>1</td>\n",
              "      <td>1</td>\n",
              "      <td>1</td>\n",
              "      <td>1</td>\n",
              "      <td>0</td>\n",
              "      <td>Bureaucratic_Code_4</td>\n",
              "      <td>7/5/2017</td>\n",
              "      <td>Source_7</td>\n",
              "      <td>Germany</td>\n",
              "      <td>Account_Name_978</td>\n",
              "      <td>Opportunity_Name_6117</td>\n",
              "      <td>10690</td>\n",
              "      <td>6504</td>\n",
              "      <td>Person_Name_13</td>\n",
              "      <td>Person_Name_13</td>\n",
              "      <td>Account_Type_0</td>\n",
              "      <td>Opportunity_Type_8</td>\n",
              "      <td>Non Binding</td>\n",
              "      <td>Delivery_Terms_2</td>\n",
              "      <td>4/12/2019</td>\n",
              "      <td>None</td>\n",
              "      <td>None</td>\n",
              "      <td>None</td>\n",
              "      <td>None</td>\n",
              "      <td>None</td>\n",
              "      <td>None</td>\n",
              "      <td>NaT</td>\n",
              "      <td>4/30/2019</td>\n",
              "      <td>4/25/2019</td>\n",
              "      <td>Person_Name_13</td>\n",
              "      <td>Product_Family_167</td>\n",
              "      <td>Product_Name_315</td>\n",
              "      <td>EUR</td>\n",
              "      <td>0.320</td>\n",
              "      <td>USD</td>\n",
              "      <td>0.36195</td>\n",
              "      <td>6/1/2019</td>\n",
              "      <td>6/29/2019</td>\n",
              "      <td>2019 - 6</td>\n",
              "      <td>Q2</td>\n",
              "      <td>2019</td>\n",
              "      <td>NaT</td>\n",
              "      <td>0</td>\n",
              "      <td>EUR</td>\n",
              "      <td>157248.0</td>\n",
              "      <td>EUR</td>\n",
              "      <td>757783.5</td>\n",
              "      <td>Prod_Category_A_None</td>\n",
              "    </tr>\n",
              "    <tr>\n",
              "      <th>...</th>\n",
              "      <td>...</td>\n",
              "      <td>...</td>\n",
              "      <td>...</td>\n",
              "      <td>...</td>\n",
              "      <td>...</td>\n",
              "      <td>...</td>\n",
              "      <td>...</td>\n",
              "      <td>...</td>\n",
              "      <td>...</td>\n",
              "      <td>...</td>\n",
              "      <td>...</td>\n",
              "      <td>...</td>\n",
              "      <td>...</td>\n",
              "      <td>...</td>\n",
              "      <td>...</td>\n",
              "      <td>...</td>\n",
              "      <td>...</td>\n",
              "      <td>...</td>\n",
              "      <td>...</td>\n",
              "      <td>...</td>\n",
              "      <td>...</td>\n",
              "      <td>...</td>\n",
              "      <td>...</td>\n",
              "      <td>...</td>\n",
              "      <td>...</td>\n",
              "      <td>...</td>\n",
              "      <td>...</td>\n",
              "      <td>...</td>\n",
              "      <td>...</td>\n",
              "      <td>...</td>\n",
              "      <td>...</td>\n",
              "      <td>...</td>\n",
              "      <td>...</td>\n",
              "      <td>...</td>\n",
              "      <td>...</td>\n",
              "      <td>...</td>\n",
              "      <td>...</td>\n",
              "      <td>...</td>\n",
              "      <td>...</td>\n",
              "      <td>...</td>\n",
              "      <td>...</td>\n",
              "      <td>...</td>\n",
              "      <td>...</td>\n",
              "      <td>...</td>\n",
              "      <td>...</td>\n",
              "      <td>...</td>\n",
              "      <td>...</td>\n",
              "      <td>...</td>\n",
              "      <td>...</td>\n",
              "      <td>...</td>\n",
              "      <td>...</td>\n",
              "    </tr>\n",
              "    <tr>\n",
              "      <th>2546</th>\n",
              "      <td>16345</td>\n",
              "      <td>EMEA</td>\n",
              "      <td>KSA</td>\n",
              "      <td>1</td>\n",
              "      <td>1</td>\n",
              "      <td>0</td>\n",
              "      <td>0</td>\n",
              "      <td>0</td>\n",
              "      <td>Bureaucratic_Code_4</td>\n",
              "      <td>6/12/2017</td>\n",
              "      <td>Source_3</td>\n",
              "      <td>South Africa</td>\n",
              "      <td>Account_Name_1686</td>\n",
              "      <td>Opportunity_Name_11120</td>\n",
              "      <td>12364</td>\n",
              "      <td>6508</td>\n",
              "      <td>Person_Name_13</td>\n",
              "      <td>Person_Name_13</td>\n",
              "      <td>Account_Type_0</td>\n",
              "      <td>Opportunity_Type_1</td>\n",
              "      <td>Non Binding</td>\n",
              "      <td>Delivery_Terms_7</td>\n",
              "      <td>4/26/2019</td>\n",
              "      <td>None</td>\n",
              "      <td>None</td>\n",
              "      <td>None</td>\n",
              "      <td>None</td>\n",
              "      <td>None</td>\n",
              "      <td>None</td>\n",
              "      <td>NaT</td>\n",
              "      <td>5/24/2019</td>\n",
              "      <td>4/26/2019</td>\n",
              "      <td>Person_Name_13</td>\n",
              "      <td>Product_Family_213</td>\n",
              "      <td>Product_Name_447</td>\n",
              "      <td>USD</td>\n",
              "      <td>0.300</td>\n",
              "      <td>USD</td>\n",
              "      <td>0.30000</td>\n",
              "      <td>5/1/2019</td>\n",
              "      <td>5/10/2019</td>\n",
              "      <td>2019 - 5</td>\n",
              "      <td>Q2</td>\n",
              "      <td>2019</td>\n",
              "      <td>NaT</td>\n",
              "      <td>0</td>\n",
              "      <td>USD</td>\n",
              "      <td>124740.0</td>\n",
              "      <td>USD</td>\n",
              "      <td>147750.0</td>\n",
              "      <td>Prod_Category_A_None</td>\n",
              "    </tr>\n",
              "    <tr>\n",
              "      <th>2547</th>\n",
              "      <td>15218</td>\n",
              "      <td>Americas</td>\n",
              "      <td>SE America</td>\n",
              "      <td>1</td>\n",
              "      <td>1</td>\n",
              "      <td>0</td>\n",
              "      <td>0</td>\n",
              "      <td>0</td>\n",
              "      <td>Bureaucratic_Code_4</td>\n",
              "      <td>6/8/2018</td>\n",
              "      <td>None</td>\n",
              "      <td>United States</td>\n",
              "      <td>Account_Name_768</td>\n",
              "      <td>Opportunity_Name_9694</td>\n",
              "      <td>12365</td>\n",
              "      <td>6510</td>\n",
              "      <td>Person_Name_38</td>\n",
              "      <td>Person_Name_38</td>\n",
              "      <td>Account_Type_2</td>\n",
              "      <td>Opportunity_Type_1</td>\n",
              "      <td>Non Binding</td>\n",
              "      <td>Delivery_Terms_4</td>\n",
              "      <td>4/26/2019</td>\n",
              "      <td>None</td>\n",
              "      <td>None</td>\n",
              "      <td>None</td>\n",
              "      <td>None</td>\n",
              "      <td>None</td>\n",
              "      <td>None</td>\n",
              "      <td>NaT</td>\n",
              "      <td>5/24/2019</td>\n",
              "      <td>4/27/2019</td>\n",
              "      <td>Person_Name_38</td>\n",
              "      <td>Product_Family_221</td>\n",
              "      <td>Product_Name_477</td>\n",
              "      <td>USD</td>\n",
              "      <td>0.410</td>\n",
              "      <td>USD</td>\n",
              "      <td>0.41000</td>\n",
              "      <td>10/1/2019</td>\n",
              "      <td>12/31/2019</td>\n",
              "      <td>2019 - 10</td>\n",
              "      <td>Q4</td>\n",
              "      <td>2019</td>\n",
              "      <td>NaT</td>\n",
              "      <td>0</td>\n",
              "      <td>USD</td>\n",
              "      <td>45054.9</td>\n",
              "      <td>USD</td>\n",
              "      <td>45054.9</td>\n",
              "      <td>Prod_Category_A_None</td>\n",
              "    </tr>\n",
              "    <tr>\n",
              "      <th>2548</th>\n",
              "      <td>15224</td>\n",
              "      <td>Americas</td>\n",
              "      <td>SE America</td>\n",
              "      <td>1</td>\n",
              "      <td>1</td>\n",
              "      <td>1</td>\n",
              "      <td>1</td>\n",
              "      <td>0</td>\n",
              "      <td>Bureaucratic_Code_4</td>\n",
              "      <td>6/8/2018</td>\n",
              "      <td>None</td>\n",
              "      <td>United States</td>\n",
              "      <td>Account_Name_768</td>\n",
              "      <td>Opportunity_Name_9693</td>\n",
              "      <td>12366</td>\n",
              "      <td>6511</td>\n",
              "      <td>Person_Name_38</td>\n",
              "      <td>Person_Name_38</td>\n",
              "      <td>Account_Type_2</td>\n",
              "      <td>Opportunity_Type_1</td>\n",
              "      <td>Non Binding</td>\n",
              "      <td>Delivery_Terms_4</td>\n",
              "      <td>4/26/2019</td>\n",
              "      <td>None</td>\n",
              "      <td>None</td>\n",
              "      <td>None</td>\n",
              "      <td>None</td>\n",
              "      <td>None</td>\n",
              "      <td>None</td>\n",
              "      <td>NaT</td>\n",
              "      <td>5/24/2019</td>\n",
              "      <td>4/27/2019</td>\n",
              "      <td>Person_Name_38</td>\n",
              "      <td>Product_Family_221</td>\n",
              "      <td>Product_Name_477</td>\n",
              "      <td>USD</td>\n",
              "      <td>0.410</td>\n",
              "      <td>USD</td>\n",
              "      <td>0.41000</td>\n",
              "      <td>10/1/2019</td>\n",
              "      <td>12/31/2019</td>\n",
              "      <td>2019 - 10</td>\n",
              "      <td>Q4</td>\n",
              "      <td>2019</td>\n",
              "      <td>NaT</td>\n",
              "      <td>0</td>\n",
              "      <td>USD</td>\n",
              "      <td>100122.0</td>\n",
              "      <td>USD</td>\n",
              "      <td>100122.0</td>\n",
              "      <td>Prod_Category_A_None</td>\n",
              "    </tr>\n",
              "    <tr>\n",
              "      <th>2549</th>\n",
              "      <td>7286</td>\n",
              "      <td>Americas</td>\n",
              "      <td>NE America</td>\n",
              "      <td>1</td>\n",
              "      <td>1</td>\n",
              "      <td>0</td>\n",
              "      <td>0</td>\n",
              "      <td>0</td>\n",
              "      <td>Bureaucratic_Code_4</td>\n",
              "      <td>8/29/2018</td>\n",
              "      <td>None</td>\n",
              "      <td>United States</td>\n",
              "      <td>Account_Name_1635</td>\n",
              "      <td>Opportunity_Name_1676</td>\n",
              "      <td>12367</td>\n",
              "      <td>None</td>\n",
              "      <td>Person_Name_9</td>\n",
              "      <td>Person_Name_9</td>\n",
              "      <td>Account_Type_2</td>\n",
              "      <td>Opportunity_Type_7</td>\n",
              "      <td>Non Binding</td>\n",
              "      <td>Delivery_Terms_4</td>\n",
              "      <td>4/26/2019</td>\n",
              "      <td>None</td>\n",
              "      <td>None</td>\n",
              "      <td>None</td>\n",
              "      <td>None</td>\n",
              "      <td>None</td>\n",
              "      <td>None</td>\n",
              "      <td>NaT</td>\n",
              "      <td>5/26/2019</td>\n",
              "      <td>4/26/2019</td>\n",
              "      <td>Person_Name_9</td>\n",
              "      <td>Product_Family_156</td>\n",
              "      <td>Product_Name_281</td>\n",
              "      <td>USD</td>\n",
              "      <td>0.500</td>\n",
              "      <td>USD</td>\n",
              "      <td>0.50000</td>\n",
              "      <td>8/1/2019</td>\n",
              "      <td>8/1/2019</td>\n",
              "      <td>2019 - 8</td>\n",
              "      <td>Q3</td>\n",
              "      <td>2019</td>\n",
              "      <td>NaT</td>\n",
              "      <td>0</td>\n",
              "      <td>USD</td>\n",
              "      <td>143220.0</td>\n",
              "      <td>USD</td>\n",
              "      <td>143220.0</td>\n",
              "      <td>Prod_Category_A_None</td>\n",
              "    </tr>\n",
              "    <tr>\n",
              "      <th>2550</th>\n",
              "      <td>11263</td>\n",
              "      <td>EMEA</td>\n",
              "      <td>Belgium</td>\n",
              "      <td>1</td>\n",
              "      <td>0</td>\n",
              "      <td>0</td>\n",
              "      <td>0</td>\n",
              "      <td>0</td>\n",
              "      <td>Bureaucratic_Code_5</td>\n",
              "      <td>3/3/2016</td>\n",
              "      <td>None</td>\n",
              "      <td>Luxembourg</td>\n",
              "      <td>Account_Name_271</td>\n",
              "      <td>Opportunity_Name_3187</td>\n",
              "      <td>12368</td>\n",
              "      <td>None</td>\n",
              "      <td>Person_Name_18</td>\n",
              "      <td>Person_Name_16</td>\n",
              "      <td>Account_Type_0</td>\n",
              "      <td>Opportunity_Type_1</td>\n",
              "      <td>Non Binding</td>\n",
              "      <td>Delivery_Terms_2</td>\n",
              "      <td>4/27/2019</td>\n",
              "      <td>None</td>\n",
              "      <td>None</td>\n",
              "      <td>None</td>\n",
              "      <td>None</td>\n",
              "      <td>None</td>\n",
              "      <td>None</td>\n",
              "      <td>NaT</td>\n",
              "      <td>2/8/2019</td>\n",
              "      <td>4/27/2019</td>\n",
              "      <td>Person_Name_16</td>\n",
              "      <td>Product_Family_171</td>\n",
              "      <td>Product_Name_331</td>\n",
              "      <td>EUR</td>\n",
              "      <td>0.290</td>\n",
              "      <td>USD</td>\n",
              "      <td>0.32802</td>\n",
              "      <td>10/21/2019</td>\n",
              "      <td>12/13/2019</td>\n",
              "      <td>2019 - 10</td>\n",
              "      <td>Q4</td>\n",
              "      <td>2019</td>\n",
              "      <td>NaT</td>\n",
              "      <td>3</td>\n",
              "      <td>EUR</td>\n",
              "      <td>871020.8</td>\n",
              "      <td>EUR</td>\n",
              "      <td>871020.8</td>\n",
              "      <td>Prod_Category_A_None</td>\n",
              "    </tr>\n",
              "  </tbody>\n",
              "</table>\n",
              "<p>2551 rows × 51 columns</p>\n",
              "</div>"
            ],
            "text/plain": [
              "         ID    Region  ... Total_Taxable_Amount       Prod_Category_A\n",
              "0      6140      EMEA  ...             367419.0  Prod_Category_A_None\n",
              "1      6146      EMEA  ...             367419.0  Prod_Category_A_None\n",
              "2      6151      EMEA  ...             367419.0  Prod_Category_A_None\n",
              "3      6118      EMEA  ...             757783.5  Prod_Category_A_None\n",
              "4      6124      EMEA  ...             757783.5  Prod_Category_A_None\n",
              "...     ...       ...  ...                  ...                   ...\n",
              "2546  16345      EMEA  ...             147750.0  Prod_Category_A_None\n",
              "2547  15218  Americas  ...              45054.9  Prod_Category_A_None\n",
              "2548  15224  Americas  ...             100122.0  Prod_Category_A_None\n",
              "2549   7286  Americas  ...             143220.0  Prod_Category_A_None\n",
              "2550  11263      EMEA  ...             871020.8  Prod_Category_A_None\n",
              "\n",
              "[2551 rows x 51 columns]"
            ]
          },
          "metadata": {
            "tags": []
          },
          "execution_count": 9
        }
      ]
    },
    {
      "cell_type": "code",
      "metadata": {
        "colab": {
          "base_uri": "https://localhost:8080/"
        },
        "id": "XURI4rW1wd38",
        "outputId": "1cd78093-30b9-49ab-e6cf-bf4c0f41aac0"
      },
      "source": [
        "test.info()"
      ],
      "execution_count": 10,
      "outputs": [
        {
          "output_type": "stream",
          "text": [
            "<class 'pandas.core.frame.DataFrame'>\n",
            "RangeIndex: 2551 entries, 0 to 2550\n",
            "Data columns (total 51 columns):\n",
            " #   Column                              Non-Null Count  Dtype  \n",
            "---  ------                              --------------  -----  \n",
            " 0   ID                                  2551 non-null   int64  \n",
            " 1   Region                              2551 non-null   object \n",
            " 2   Territory                           2551 non-null   object \n",
            " 3   Pricing, Delivery_Terms_Quote_Appr  2551 non-null   int64  \n",
            " 4   Pricing, Delivery_Terms_Approved    2551 non-null   int64  \n",
            " 5   Bureaucratic_Code_0_Approval        2551 non-null   int64  \n",
            " 6   Bureaucratic_Code_0_Approved        2551 non-null   int64  \n",
            " 7   Submitted_for_Approval              2551 non-null   int64  \n",
            " 8   Bureaucratic_Code                   2551 non-null   object \n",
            " 9   Account_Created_Date                2551 non-null   object \n",
            " 10  Source                              2551 non-null   object \n",
            " 11  Billing_Country                     2551 non-null   object \n",
            " 12  Account_Name                        2551 non-null   object \n",
            " 13  Opportunity_Name                    2551 non-null   object \n",
            " 14  Opportunity_ID                      2551 non-null   int64  \n",
            " 15  Sales_Contract_No                   2551 non-null   object \n",
            " 16  Account_Owner                       2551 non-null   object \n",
            " 17  Opportunity_Owner                   2551 non-null   object \n",
            " 18  Account_Type                        2551 non-null   object \n",
            " 19  Opportunity_Type                    2551 non-null   object \n",
            " 20  Quote_Type                          2551 non-null   object \n",
            " 21  Delivery_Terms                      2551 non-null   object \n",
            " 22  Opportunity_Created_Date            2551 non-null   object \n",
            " 23  Brand                               2551 non-null   object \n",
            " 24  Product_Type                        2551 non-null   object \n",
            " 25  Size                                2551 non-null   object \n",
            " 26  Product_Category_B                  2551 non-null   object \n",
            " 27  Price                               2551 non-null   object \n",
            " 28  Currency                            2551 non-null   object \n",
            " 29  Last_Activity                       2551 non-null   object \n",
            " 30  Quote_Expiry_Date                   2551 non-null   object \n",
            " 31  Last_Modified_Date                  2551 non-null   object \n",
            " 32  Last_Modified_By                    2551 non-null   object \n",
            " 33  Product_Family                      2551 non-null   object \n",
            " 34  Product_Name                        2551 non-null   object \n",
            " 35  ASP_Currency                        2551 non-null   object \n",
            " 36  ASP                                 2467 non-null   float64\n",
            " 37  ASP_(converted)_Currency            2551 non-null   object \n",
            " 38  ASP_(converted)                     2467 non-null   float64\n",
            " 39  Planned_Delivery_Start_Date         2551 non-null   object \n",
            " 40  Planned_Delivery_End_Date           2551 non-null   object \n",
            " 41  Month                               2551 non-null   object \n",
            " 42  Delivery_Quarter                    2551 non-null   object \n",
            " 43  Delivery_Year                       2551 non-null   int64  \n",
            " 44  Actual_Delivery_Date                2551 non-null   object \n",
            " 45  TRF                                 2551 non-null   int64  \n",
            " 46  Total_Amount_Currency               2551 non-null   object \n",
            " 47  Total_Amount                        2551 non-null   float64\n",
            " 48  Total_Taxable_Amount_Currency       2551 non-null   object \n",
            " 49  Total_Taxable_Amount                2551 non-null   float64\n",
            " 50  Prod_Category_A                     2551 non-null   object \n",
            "dtypes: float64(4), int64(9), object(38)\n",
            "memory usage: 1016.5+ KB\n"
          ],
          "name": "stdout"
        }
      ]
    },
    {
      "cell_type": "code",
      "metadata": {
        "id": "0ArqLnSGHq_o",
        "colab": {
          "base_uri": "https://localhost:8080/",
          "height": 330
        },
        "outputId": "470b0c15-6ccc-49ac-92a2-f07ad8fdaabb"
      },
      "source": [
        "#1)Apertura\n",
        "entrenamiento = pd.read_csv('data.csv')\n",
        "entrenamiento.tail(5)"
      ],
      "execution_count": 11,
      "outputs": [
        {
          "output_type": "execute_result",
          "data": {
            "text/html": [
              "<div>\n",
              "<style scoped>\n",
              "    .dataframe tbody tr th:only-of-type {\n",
              "        vertical-align: middle;\n",
              "    }\n",
              "\n",
              "    .dataframe tbody tr th {\n",
              "        vertical-align: top;\n",
              "    }\n",
              "\n",
              "    .dataframe thead th {\n",
              "        text-align: right;\n",
              "    }\n",
              "</style>\n",
              "<table border=\"1\" class=\"dataframe\">\n",
              "  <thead>\n",
              "    <tr style=\"text-align: right;\">\n",
              "      <th></th>\n",
              "      <th>ID</th>\n",
              "      <th>Region</th>\n",
              "      <th>Territory</th>\n",
              "      <th>Pricing, Delivery_Terms_Quote_Appr</th>\n",
              "      <th>Pricing, Delivery_Terms_Approved</th>\n",
              "      <th>Bureaucratic_Code_0_Approval</th>\n",
              "      <th>Bureaucratic_Code_0_Approved</th>\n",
              "      <th>Submitted_for_Approval</th>\n",
              "      <th>Bureaucratic_Code</th>\n",
              "      <th>Account_Created_Date</th>\n",
              "      <th>Source</th>\n",
              "      <th>Billing_Country</th>\n",
              "      <th>Account_Name</th>\n",
              "      <th>Opportunity_Name</th>\n",
              "      <th>Opportunity_ID</th>\n",
              "      <th>Sales_Contract_No</th>\n",
              "      <th>Account_Owner</th>\n",
              "      <th>Opportunity_Owner</th>\n",
              "      <th>Account_Type</th>\n",
              "      <th>Opportunity_Type</th>\n",
              "      <th>Quote_Type</th>\n",
              "      <th>Delivery_Terms</th>\n",
              "      <th>Opportunity_Created_Date</th>\n",
              "      <th>Brand</th>\n",
              "      <th>Product_Type</th>\n",
              "      <th>Size</th>\n",
              "      <th>Product_Category_B</th>\n",
              "      <th>Price</th>\n",
              "      <th>Currency</th>\n",
              "      <th>Last_Activity</th>\n",
              "      <th>Quote_Expiry_Date</th>\n",
              "      <th>Last_Modified_Date</th>\n",
              "      <th>Last_Modified_By</th>\n",
              "      <th>Product_Family</th>\n",
              "      <th>Product_Name</th>\n",
              "      <th>ASP_Currency</th>\n",
              "      <th>ASP</th>\n",
              "      <th>ASP_(converted)_Currency</th>\n",
              "      <th>ASP_(converted)</th>\n",
              "      <th>Planned_Delivery_Start_Date</th>\n",
              "      <th>Planned_Delivery_End_Date</th>\n",
              "      <th>Month</th>\n",
              "      <th>Delivery_Quarter</th>\n",
              "      <th>Delivery_Year</th>\n",
              "      <th>Actual_Delivery_Date</th>\n",
              "      <th>TRF</th>\n",
              "      <th>Total_Amount_Currency</th>\n",
              "      <th>Total_Amount</th>\n",
              "      <th>Total_Taxable_Amount_Currency</th>\n",
              "      <th>Total_Taxable_Amount</th>\n",
              "      <th>Stage</th>\n",
              "      <th>Prod_Category_A</th>\n",
              "    </tr>\n",
              "  </thead>\n",
              "  <tbody>\n",
              "    <tr>\n",
              "      <th>16942</th>\n",
              "      <td>8781</td>\n",
              "      <td>EMEA</td>\n",
              "      <td>Austria</td>\n",
              "      <td>1</td>\n",
              "      <td>1</td>\n",
              "      <td>1</td>\n",
              "      <td>1</td>\n",
              "      <td>0</td>\n",
              "      <td>Bureaucratic_Code_4</td>\n",
              "      <td>1/15/2016</td>\n",
              "      <td>Source_7</td>\n",
              "      <td>Austria</td>\n",
              "      <td>Account_Name_726</td>\n",
              "      <td>Opportunity_Name_9245</td>\n",
              "      <td>12801</td>\n",
              "      <td>44</td>\n",
              "      <td>Person_Name_13</td>\n",
              "      <td>Person_Name_13</td>\n",
              "      <td>Account_Type_5</td>\n",
              "      <td>Opportunity_Type_1</td>\n",
              "      <td>Non Binding</td>\n",
              "      <td>Delivery_Terms_2</td>\n",
              "      <td>12/4/2015</td>\n",
              "      <td>None</td>\n",
              "      <td>None</td>\n",
              "      <td>None</td>\n",
              "      <td>None</td>\n",
              "      <td>None</td>\n",
              "      <td>None</td>\n",
              "      <td>NaT</td>\n",
              "      <td>NaT</td>\n",
              "      <td>1/19/2016</td>\n",
              "      <td>Person_Name_13</td>\n",
              "      <td>Product_Family_85</td>\n",
              "      <td>Product_Name_111</td>\n",
              "      <td>EUR</td>\n",
              "      <td>0.5200</td>\n",
              "      <td>USD</td>\n",
              "      <td>0.58817</td>\n",
              "      <td>3/21/2016</td>\n",
              "      <td>3/25/2016</td>\n",
              "      <td>2016 - 3</td>\n",
              "      <td>Q1</td>\n",
              "      <td>2016</td>\n",
              "      <td>NaT</td>\n",
              "      <td>0</td>\n",
              "      <td>EUR</td>\n",
              "      <td>103350.00</td>\n",
              "      <td>EUR</td>\n",
              "      <td>299715.0</td>\n",
              "      <td>Closed Won</td>\n",
              "      <td>Prod_Category_A_None</td>\n",
              "    </tr>\n",
              "    <tr>\n",
              "      <th>16943</th>\n",
              "      <td>8786</td>\n",
              "      <td>EMEA</td>\n",
              "      <td>Austria</td>\n",
              "      <td>1</td>\n",
              "      <td>1</td>\n",
              "      <td>1</td>\n",
              "      <td>1</td>\n",
              "      <td>0</td>\n",
              "      <td>Bureaucratic_Code_4</td>\n",
              "      <td>1/15/2016</td>\n",
              "      <td>Source_7</td>\n",
              "      <td>Austria</td>\n",
              "      <td>Account_Name_726</td>\n",
              "      <td>Opportunity_Name_9245</td>\n",
              "      <td>12801</td>\n",
              "      <td>44</td>\n",
              "      <td>Person_Name_13</td>\n",
              "      <td>Person_Name_13</td>\n",
              "      <td>Account_Type_5</td>\n",
              "      <td>Opportunity_Type_1</td>\n",
              "      <td>Non Binding</td>\n",
              "      <td>Delivery_Terms_2</td>\n",
              "      <td>12/4/2015</td>\n",
              "      <td>None</td>\n",
              "      <td>None</td>\n",
              "      <td>None</td>\n",
              "      <td>None</td>\n",
              "      <td>None</td>\n",
              "      <td>None</td>\n",
              "      <td>NaT</td>\n",
              "      <td>NaT</td>\n",
              "      <td>1/19/2016</td>\n",
              "      <td>Person_Name_13</td>\n",
              "      <td>Product_Family_85</td>\n",
              "      <td>Product_Name_111</td>\n",
              "      <td>EUR</td>\n",
              "      <td>0.5200</td>\n",
              "      <td>USD</td>\n",
              "      <td>0.58817</td>\n",
              "      <td>4/4/2016</td>\n",
              "      <td>4/8/2016</td>\n",
              "      <td>2016 - 4</td>\n",
              "      <td>Q2</td>\n",
              "      <td>2016</td>\n",
              "      <td>NaT</td>\n",
              "      <td>0</td>\n",
              "      <td>EUR</td>\n",
              "      <td>93015.00</td>\n",
              "      <td>EUR</td>\n",
              "      <td>299715.0</td>\n",
              "      <td>Closed Won</td>\n",
              "      <td>Prod_Category_A_None</td>\n",
              "    </tr>\n",
              "    <tr>\n",
              "      <th>16944</th>\n",
              "      <td>8792</td>\n",
              "      <td>EMEA</td>\n",
              "      <td>Austria</td>\n",
              "      <td>1</td>\n",
              "      <td>1</td>\n",
              "      <td>1</td>\n",
              "      <td>1</td>\n",
              "      <td>0</td>\n",
              "      <td>Bureaucratic_Code_4</td>\n",
              "      <td>1/15/2016</td>\n",
              "      <td>Source_7</td>\n",
              "      <td>Austria</td>\n",
              "      <td>Account_Name_726</td>\n",
              "      <td>Opportunity_Name_9245</td>\n",
              "      <td>12801</td>\n",
              "      <td>44</td>\n",
              "      <td>Person_Name_13</td>\n",
              "      <td>Person_Name_13</td>\n",
              "      <td>Account_Type_5</td>\n",
              "      <td>Opportunity_Type_1</td>\n",
              "      <td>Non Binding</td>\n",
              "      <td>Delivery_Terms_2</td>\n",
              "      <td>12/4/2015</td>\n",
              "      <td>None</td>\n",
              "      <td>None</td>\n",
              "      <td>None</td>\n",
              "      <td>None</td>\n",
              "      <td>None</td>\n",
              "      <td>None</td>\n",
              "      <td>NaT</td>\n",
              "      <td>NaT</td>\n",
              "      <td>1/19/2016</td>\n",
              "      <td>Person_Name_13</td>\n",
              "      <td>Product_Family_85</td>\n",
              "      <td>Product_Name_111</td>\n",
              "      <td>EUR</td>\n",
              "      <td>0.5200</td>\n",
              "      <td>USD</td>\n",
              "      <td>0.58817</td>\n",
              "      <td>3/28/2016</td>\n",
              "      <td>3/31/2016</td>\n",
              "      <td>2016 - 3</td>\n",
              "      <td>Q1</td>\n",
              "      <td>2016</td>\n",
              "      <td>NaT</td>\n",
              "      <td>0</td>\n",
              "      <td>EUR</td>\n",
              "      <td>103350.00</td>\n",
              "      <td>EUR</td>\n",
              "      <td>299715.0</td>\n",
              "      <td>Closed Won</td>\n",
              "      <td>Prod_Category_A_None</td>\n",
              "    </tr>\n",
              "    <tr>\n",
              "      <th>16945</th>\n",
              "      <td>28561</td>\n",
              "      <td>Americas</td>\n",
              "      <td>NE America</td>\n",
              "      <td>1</td>\n",
              "      <td>1</td>\n",
              "      <td>1</td>\n",
              "      <td>1</td>\n",
              "      <td>0</td>\n",
              "      <td>Bureaucratic_Code_4</td>\n",
              "      <td>10/20/2015</td>\n",
              "      <td>None</td>\n",
              "      <td>United States</td>\n",
              "      <td>Account_Name_944</td>\n",
              "      <td>Opportunity_Name_5843</td>\n",
              "      <td>12802</td>\n",
              "      <td>None</td>\n",
              "      <td>Person_Name_3</td>\n",
              "      <td>Person_Name_3</td>\n",
              "      <td>Account_Type_5</td>\n",
              "      <td>Opportunity_Type_1</td>\n",
              "      <td>Non Binding</td>\n",
              "      <td>Delivery_Terms_4</td>\n",
              "      <td>12/5/2015</td>\n",
              "      <td>None</td>\n",
              "      <td>None</td>\n",
              "      <td>None</td>\n",
              "      <td>None</td>\n",
              "      <td>None</td>\n",
              "      <td>None</td>\n",
              "      <td>NaT</td>\n",
              "      <td>2/29/2016</td>\n",
              "      <td>1/22/2016</td>\n",
              "      <td>Person_Name_3</td>\n",
              "      <td>Product_Family_158</td>\n",
              "      <td>Product_Name_287</td>\n",
              "      <td>USD</td>\n",
              "      <td>0.6375</td>\n",
              "      <td>USD</td>\n",
              "      <td>0.63750</td>\n",
              "      <td>4/25/2016</td>\n",
              "      <td>4/29/2016</td>\n",
              "      <td>2016 - 4</td>\n",
              "      <td>Q2</td>\n",
              "      <td>2016</td>\n",
              "      <td>NaT</td>\n",
              "      <td>4</td>\n",
              "      <td>USD</td>\n",
              "      <td>2346796.88</td>\n",
              "      <td>USD</td>\n",
              "      <td>0.0</td>\n",
              "      <td>Closed Lost</td>\n",
              "      <td>Prod_Category_A_None</td>\n",
              "    </tr>\n",
              "    <tr>\n",
              "      <th>16946</th>\n",
              "      <td>28318</td>\n",
              "      <td>Americas</td>\n",
              "      <td>NE America</td>\n",
              "      <td>1</td>\n",
              "      <td>1</td>\n",
              "      <td>1</td>\n",
              "      <td>1</td>\n",
              "      <td>0</td>\n",
              "      <td>Bureaucratic_Code_4</td>\n",
              "      <td>9/3/2015</td>\n",
              "      <td>None</td>\n",
              "      <td>United States</td>\n",
              "      <td>Account_Name_1401</td>\n",
              "      <td>Opportunity_Name_9911</td>\n",
              "      <td>12803</td>\n",
              "      <td>None</td>\n",
              "      <td>Person_Name_3</td>\n",
              "      <td>Person_Name_3</td>\n",
              "      <td>Account_Type_5</td>\n",
              "      <td>Opportunity_Type_19</td>\n",
              "      <td>Non Binding</td>\n",
              "      <td>Delivery_Terms_4</td>\n",
              "      <td>12/5/2015</td>\n",
              "      <td>None</td>\n",
              "      <td>None</td>\n",
              "      <td>None</td>\n",
              "      <td>None</td>\n",
              "      <td>None</td>\n",
              "      <td>None</td>\n",
              "      <td>NaT</td>\n",
              "      <td>1/6/2016</td>\n",
              "      <td>9/28/2016</td>\n",
              "      <td>Person_Name_3</td>\n",
              "      <td>Product_Family_164</td>\n",
              "      <td>Product_Name_307</td>\n",
              "      <td>USD</td>\n",
              "      <td>0.6400</td>\n",
              "      <td>USD</td>\n",
              "      <td>0.64000</td>\n",
              "      <td>7/1/2016</td>\n",
              "      <td>8/31/2016</td>\n",
              "      <td>2016 - 7</td>\n",
              "      <td>Q3</td>\n",
              "      <td>2016</td>\n",
              "      <td>NaT</td>\n",
              "      <td>40</td>\n",
              "      <td>USD</td>\n",
              "      <td>25603200.00</td>\n",
              "      <td>USD</td>\n",
              "      <td>0.0</td>\n",
              "      <td>Closed Lost</td>\n",
              "      <td>Prod_Category_A_None</td>\n",
              "    </tr>\n",
              "  </tbody>\n",
              "</table>\n",
              "</div>"
            ],
            "text/plain": [
              "          ID    Region  ...        Stage       Prod_Category_A\n",
              "16942   8781      EMEA  ...   Closed Won  Prod_Category_A_None\n",
              "16943   8786      EMEA  ...   Closed Won  Prod_Category_A_None\n",
              "16944   8792      EMEA  ...   Closed Won  Prod_Category_A_None\n",
              "16945  28561  Americas  ...  Closed Lost  Prod_Category_A_None\n",
              "16946  28318  Americas  ...  Closed Lost  Prod_Category_A_None\n",
              "\n",
              "[5 rows x 52 columns]"
            ]
          },
          "metadata": {
            "tags": []
          },
          "execution_count": 11
        }
      ]
    },
    {
      "cell_type": "code",
      "metadata": {
        "id": "HFkpqfRCTRWU",
        "colab": {
          "base_uri": "https://localhost:8080/"
        },
        "outputId": "c52ed515-9781-4dce-cb06-8d0c4c882e31"
      },
      "source": [
        "entrenamiento.info()"
      ],
      "execution_count": 12,
      "outputs": [
        {
          "output_type": "stream",
          "text": [
            "<class 'pandas.core.frame.DataFrame'>\n",
            "RangeIndex: 16947 entries, 0 to 16946\n",
            "Data columns (total 52 columns):\n",
            " #   Column                              Non-Null Count  Dtype  \n",
            "---  ------                              --------------  -----  \n",
            " 0   ID                                  16947 non-null  int64  \n",
            " 1   Region                              16947 non-null  object \n",
            " 2   Territory                           16947 non-null  object \n",
            " 3   Pricing, Delivery_Terms_Quote_Appr  16947 non-null  int64  \n",
            " 4   Pricing, Delivery_Terms_Approved    16947 non-null  int64  \n",
            " 5   Bureaucratic_Code_0_Approval        16947 non-null  int64  \n",
            " 6   Bureaucratic_Code_0_Approved        16947 non-null  int64  \n",
            " 7   Submitted_for_Approval              16947 non-null  int64  \n",
            " 8   Bureaucratic_Code                   16947 non-null  object \n",
            " 9   Account_Created_Date                16947 non-null  object \n",
            " 10  Source                              16947 non-null  object \n",
            " 11  Billing_Country                     16947 non-null  object \n",
            " 12  Account_Name                        16947 non-null  object \n",
            " 13  Opportunity_Name                    16947 non-null  object \n",
            " 14  Opportunity_ID                      16947 non-null  int64  \n",
            " 15  Sales_Contract_No                   16947 non-null  object \n",
            " 16  Account_Owner                       16947 non-null  object \n",
            " 17  Opportunity_Owner                   16947 non-null  object \n",
            " 18  Account_Type                        16947 non-null  object \n",
            " 19  Opportunity_Type                    16947 non-null  object \n",
            " 20  Quote_Type                          16947 non-null  object \n",
            " 21  Delivery_Terms                      16947 non-null  object \n",
            " 22  Opportunity_Created_Date            16947 non-null  object \n",
            " 23  Brand                               16947 non-null  object \n",
            " 24  Product_Type                        16947 non-null  object \n",
            " 25  Size                                16947 non-null  object \n",
            " 26  Product_Category_B                  16947 non-null  object \n",
            " 27  Price                               16947 non-null  object \n",
            " 28  Currency                            16947 non-null  object \n",
            " 29  Last_Activity                       16947 non-null  object \n",
            " 30  Quote_Expiry_Date                   16947 non-null  object \n",
            " 31  Last_Modified_Date                  16947 non-null  object \n",
            " 32  Last_Modified_By                    16947 non-null  object \n",
            " 33  Product_Family                      16947 non-null  object \n",
            " 34  Product_Name                        16947 non-null  object \n",
            " 35  ASP_Currency                        16947 non-null  object \n",
            " 36  ASP                                 13738 non-null  float64\n",
            " 37  ASP_(converted)_Currency            16947 non-null  object \n",
            " 38  ASP_(converted)                     13738 non-null  float64\n",
            " 39  Planned_Delivery_Start_Date         16947 non-null  object \n",
            " 40  Planned_Delivery_End_Date           16947 non-null  object \n",
            " 41  Month                               16947 non-null  object \n",
            " 42  Delivery_Quarter                    16947 non-null  object \n",
            " 43  Delivery_Year                       16947 non-null  int64  \n",
            " 44  Actual_Delivery_Date                16947 non-null  object \n",
            " 45  TRF                                 16947 non-null  int64  \n",
            " 46  Total_Amount_Currency               16947 non-null  object \n",
            " 47  Total_Amount                        16888 non-null  float64\n",
            " 48  Total_Taxable_Amount_Currency       16947 non-null  object \n",
            " 49  Total_Taxable_Amount                16947 non-null  float64\n",
            " 50  Stage                               16947 non-null  object \n",
            " 51  Prod_Category_A                     16947 non-null  object \n",
            "dtypes: float64(4), int64(9), object(39)\n",
            "memory usage: 6.7+ MB\n"
          ],
          "name": "stdout"
        }
      ]
    },
    {
      "cell_type": "code",
      "metadata": {
        "colab": {
          "base_uri": "https://localhost:8080/"
        },
        "id": "3NUfQIkotsnv",
        "outputId": "61d915bc-7371-4735-e853-fcf46854aac4"
      },
      "source": [
        "entrenamiento['Size'].value_counts()"
      ],
      "execution_count": 177,
      "outputs": [
        {
          "output_type": "execute_result",
          "data": {
            "text/plain": [
              "None          4999\n",
              "Germany       1682\n",
              "NW America    1568\n",
              "Australia     1208\n",
              "India          809\n",
              "              ... \n",
              "Croatia          1\n",
              "Burma            1\n",
              "Monaco           1\n",
              "Slovenia         1\n",
              "Egypt            1\n",
              "Name: Territory, Length: 76, dtype: int64"
            ]
          },
          "metadata": {
            "tags": []
          },
          "execution_count": 177
        }
      ]
    },
    {
      "cell_type": "code",
      "metadata": {
        "id": "LYrAiLj9unx5"
      },
      "source": [
        ""
      ],
      "execution_count": null,
      "outputs": []
    },
    {
      "cell_type": "code",
      "metadata": {
        "id": "zcv8qmoP3GX5"
      },
      "source": [
        ""
      ],
      "execution_count": null,
      "outputs": []
    },
    {
      "cell_type": "code",
      "metadata": {
        "id": "pFeCl82j8PtJ"
      },
      "source": [
        "import xgboost as xgb\r\n",
        "from sklearn.ensemble import RandomForestRegressor\r\n",
        "from sklearn.metrics import mean_squared_error\r\n",
        "import pandas as pd\r\n",
        "import numpy as np\r\n",
        "%matplotlib inline\r\n",
        "import matplotlib.pyplot as plt\r\n",
        "from sklearn import tree"
      ],
      "execution_count": 14,
      "outputs": []
    },
    {
      "cell_type": "code",
      "metadata": {
        "colab": {
          "base_uri": "https://localhost:8080/",
          "height": 330
        },
        "id": "iLjpnRwaIy-F",
        "outputId": "0b1d8088-0899-43a3-dc60-4f96a2ec6868"
      },
      "source": [
        "#1)Apertura\r\n",
        "entrenamiento = pd.read_csv('data.csv')\r\n",
        "entrenamiento.tail(5)"
      ],
      "execution_count": 15,
      "outputs": [
        {
          "output_type": "execute_result",
          "data": {
            "text/html": [
              "<div>\n",
              "<style scoped>\n",
              "    .dataframe tbody tr th:only-of-type {\n",
              "        vertical-align: middle;\n",
              "    }\n",
              "\n",
              "    .dataframe tbody tr th {\n",
              "        vertical-align: top;\n",
              "    }\n",
              "\n",
              "    .dataframe thead th {\n",
              "        text-align: right;\n",
              "    }\n",
              "</style>\n",
              "<table border=\"1\" class=\"dataframe\">\n",
              "  <thead>\n",
              "    <tr style=\"text-align: right;\">\n",
              "      <th></th>\n",
              "      <th>ID</th>\n",
              "      <th>Region</th>\n",
              "      <th>Territory</th>\n",
              "      <th>Pricing, Delivery_Terms_Quote_Appr</th>\n",
              "      <th>Pricing, Delivery_Terms_Approved</th>\n",
              "      <th>Bureaucratic_Code_0_Approval</th>\n",
              "      <th>Bureaucratic_Code_0_Approved</th>\n",
              "      <th>Submitted_for_Approval</th>\n",
              "      <th>Bureaucratic_Code</th>\n",
              "      <th>Account_Created_Date</th>\n",
              "      <th>Source</th>\n",
              "      <th>Billing_Country</th>\n",
              "      <th>Account_Name</th>\n",
              "      <th>Opportunity_Name</th>\n",
              "      <th>Opportunity_ID</th>\n",
              "      <th>Sales_Contract_No</th>\n",
              "      <th>Account_Owner</th>\n",
              "      <th>Opportunity_Owner</th>\n",
              "      <th>Account_Type</th>\n",
              "      <th>Opportunity_Type</th>\n",
              "      <th>Quote_Type</th>\n",
              "      <th>Delivery_Terms</th>\n",
              "      <th>Opportunity_Created_Date</th>\n",
              "      <th>Brand</th>\n",
              "      <th>Product_Type</th>\n",
              "      <th>Size</th>\n",
              "      <th>Product_Category_B</th>\n",
              "      <th>Price</th>\n",
              "      <th>Currency</th>\n",
              "      <th>Last_Activity</th>\n",
              "      <th>Quote_Expiry_Date</th>\n",
              "      <th>Last_Modified_Date</th>\n",
              "      <th>Last_Modified_By</th>\n",
              "      <th>Product_Family</th>\n",
              "      <th>Product_Name</th>\n",
              "      <th>ASP_Currency</th>\n",
              "      <th>ASP</th>\n",
              "      <th>ASP_(converted)_Currency</th>\n",
              "      <th>ASP_(converted)</th>\n",
              "      <th>Planned_Delivery_Start_Date</th>\n",
              "      <th>Planned_Delivery_End_Date</th>\n",
              "      <th>Month</th>\n",
              "      <th>Delivery_Quarter</th>\n",
              "      <th>Delivery_Year</th>\n",
              "      <th>Actual_Delivery_Date</th>\n",
              "      <th>TRF</th>\n",
              "      <th>Total_Amount_Currency</th>\n",
              "      <th>Total_Amount</th>\n",
              "      <th>Total_Taxable_Amount_Currency</th>\n",
              "      <th>Total_Taxable_Amount</th>\n",
              "      <th>Stage</th>\n",
              "      <th>Prod_Category_A</th>\n",
              "    </tr>\n",
              "  </thead>\n",
              "  <tbody>\n",
              "    <tr>\n",
              "      <th>16942</th>\n",
              "      <td>8781</td>\n",
              "      <td>EMEA</td>\n",
              "      <td>Austria</td>\n",
              "      <td>1</td>\n",
              "      <td>1</td>\n",
              "      <td>1</td>\n",
              "      <td>1</td>\n",
              "      <td>0</td>\n",
              "      <td>Bureaucratic_Code_4</td>\n",
              "      <td>1/15/2016</td>\n",
              "      <td>Source_7</td>\n",
              "      <td>Austria</td>\n",
              "      <td>Account_Name_726</td>\n",
              "      <td>Opportunity_Name_9245</td>\n",
              "      <td>12801</td>\n",
              "      <td>44</td>\n",
              "      <td>Person_Name_13</td>\n",
              "      <td>Person_Name_13</td>\n",
              "      <td>Account_Type_5</td>\n",
              "      <td>Opportunity_Type_1</td>\n",
              "      <td>Non Binding</td>\n",
              "      <td>Delivery_Terms_2</td>\n",
              "      <td>12/4/2015</td>\n",
              "      <td>None</td>\n",
              "      <td>None</td>\n",
              "      <td>None</td>\n",
              "      <td>None</td>\n",
              "      <td>None</td>\n",
              "      <td>None</td>\n",
              "      <td>NaT</td>\n",
              "      <td>NaT</td>\n",
              "      <td>1/19/2016</td>\n",
              "      <td>Person_Name_13</td>\n",
              "      <td>Product_Family_85</td>\n",
              "      <td>Product_Name_111</td>\n",
              "      <td>EUR</td>\n",
              "      <td>0.5200</td>\n",
              "      <td>USD</td>\n",
              "      <td>0.58817</td>\n",
              "      <td>3/21/2016</td>\n",
              "      <td>3/25/2016</td>\n",
              "      <td>2016 - 3</td>\n",
              "      <td>Q1</td>\n",
              "      <td>2016</td>\n",
              "      <td>NaT</td>\n",
              "      <td>0</td>\n",
              "      <td>EUR</td>\n",
              "      <td>103350.00</td>\n",
              "      <td>EUR</td>\n",
              "      <td>299715.0</td>\n",
              "      <td>Closed Won</td>\n",
              "      <td>Prod_Category_A_None</td>\n",
              "    </tr>\n",
              "    <tr>\n",
              "      <th>16943</th>\n",
              "      <td>8786</td>\n",
              "      <td>EMEA</td>\n",
              "      <td>Austria</td>\n",
              "      <td>1</td>\n",
              "      <td>1</td>\n",
              "      <td>1</td>\n",
              "      <td>1</td>\n",
              "      <td>0</td>\n",
              "      <td>Bureaucratic_Code_4</td>\n",
              "      <td>1/15/2016</td>\n",
              "      <td>Source_7</td>\n",
              "      <td>Austria</td>\n",
              "      <td>Account_Name_726</td>\n",
              "      <td>Opportunity_Name_9245</td>\n",
              "      <td>12801</td>\n",
              "      <td>44</td>\n",
              "      <td>Person_Name_13</td>\n",
              "      <td>Person_Name_13</td>\n",
              "      <td>Account_Type_5</td>\n",
              "      <td>Opportunity_Type_1</td>\n",
              "      <td>Non Binding</td>\n",
              "      <td>Delivery_Terms_2</td>\n",
              "      <td>12/4/2015</td>\n",
              "      <td>None</td>\n",
              "      <td>None</td>\n",
              "      <td>None</td>\n",
              "      <td>None</td>\n",
              "      <td>None</td>\n",
              "      <td>None</td>\n",
              "      <td>NaT</td>\n",
              "      <td>NaT</td>\n",
              "      <td>1/19/2016</td>\n",
              "      <td>Person_Name_13</td>\n",
              "      <td>Product_Family_85</td>\n",
              "      <td>Product_Name_111</td>\n",
              "      <td>EUR</td>\n",
              "      <td>0.5200</td>\n",
              "      <td>USD</td>\n",
              "      <td>0.58817</td>\n",
              "      <td>4/4/2016</td>\n",
              "      <td>4/8/2016</td>\n",
              "      <td>2016 - 4</td>\n",
              "      <td>Q2</td>\n",
              "      <td>2016</td>\n",
              "      <td>NaT</td>\n",
              "      <td>0</td>\n",
              "      <td>EUR</td>\n",
              "      <td>93015.00</td>\n",
              "      <td>EUR</td>\n",
              "      <td>299715.0</td>\n",
              "      <td>Closed Won</td>\n",
              "      <td>Prod_Category_A_None</td>\n",
              "    </tr>\n",
              "    <tr>\n",
              "      <th>16944</th>\n",
              "      <td>8792</td>\n",
              "      <td>EMEA</td>\n",
              "      <td>Austria</td>\n",
              "      <td>1</td>\n",
              "      <td>1</td>\n",
              "      <td>1</td>\n",
              "      <td>1</td>\n",
              "      <td>0</td>\n",
              "      <td>Bureaucratic_Code_4</td>\n",
              "      <td>1/15/2016</td>\n",
              "      <td>Source_7</td>\n",
              "      <td>Austria</td>\n",
              "      <td>Account_Name_726</td>\n",
              "      <td>Opportunity_Name_9245</td>\n",
              "      <td>12801</td>\n",
              "      <td>44</td>\n",
              "      <td>Person_Name_13</td>\n",
              "      <td>Person_Name_13</td>\n",
              "      <td>Account_Type_5</td>\n",
              "      <td>Opportunity_Type_1</td>\n",
              "      <td>Non Binding</td>\n",
              "      <td>Delivery_Terms_2</td>\n",
              "      <td>12/4/2015</td>\n",
              "      <td>None</td>\n",
              "      <td>None</td>\n",
              "      <td>None</td>\n",
              "      <td>None</td>\n",
              "      <td>None</td>\n",
              "      <td>None</td>\n",
              "      <td>NaT</td>\n",
              "      <td>NaT</td>\n",
              "      <td>1/19/2016</td>\n",
              "      <td>Person_Name_13</td>\n",
              "      <td>Product_Family_85</td>\n",
              "      <td>Product_Name_111</td>\n",
              "      <td>EUR</td>\n",
              "      <td>0.5200</td>\n",
              "      <td>USD</td>\n",
              "      <td>0.58817</td>\n",
              "      <td>3/28/2016</td>\n",
              "      <td>3/31/2016</td>\n",
              "      <td>2016 - 3</td>\n",
              "      <td>Q1</td>\n",
              "      <td>2016</td>\n",
              "      <td>NaT</td>\n",
              "      <td>0</td>\n",
              "      <td>EUR</td>\n",
              "      <td>103350.00</td>\n",
              "      <td>EUR</td>\n",
              "      <td>299715.0</td>\n",
              "      <td>Closed Won</td>\n",
              "      <td>Prod_Category_A_None</td>\n",
              "    </tr>\n",
              "    <tr>\n",
              "      <th>16945</th>\n",
              "      <td>28561</td>\n",
              "      <td>Americas</td>\n",
              "      <td>NE America</td>\n",
              "      <td>1</td>\n",
              "      <td>1</td>\n",
              "      <td>1</td>\n",
              "      <td>1</td>\n",
              "      <td>0</td>\n",
              "      <td>Bureaucratic_Code_4</td>\n",
              "      <td>10/20/2015</td>\n",
              "      <td>None</td>\n",
              "      <td>United States</td>\n",
              "      <td>Account_Name_944</td>\n",
              "      <td>Opportunity_Name_5843</td>\n",
              "      <td>12802</td>\n",
              "      <td>None</td>\n",
              "      <td>Person_Name_3</td>\n",
              "      <td>Person_Name_3</td>\n",
              "      <td>Account_Type_5</td>\n",
              "      <td>Opportunity_Type_1</td>\n",
              "      <td>Non Binding</td>\n",
              "      <td>Delivery_Terms_4</td>\n",
              "      <td>12/5/2015</td>\n",
              "      <td>None</td>\n",
              "      <td>None</td>\n",
              "      <td>None</td>\n",
              "      <td>None</td>\n",
              "      <td>None</td>\n",
              "      <td>None</td>\n",
              "      <td>NaT</td>\n",
              "      <td>2/29/2016</td>\n",
              "      <td>1/22/2016</td>\n",
              "      <td>Person_Name_3</td>\n",
              "      <td>Product_Family_158</td>\n",
              "      <td>Product_Name_287</td>\n",
              "      <td>USD</td>\n",
              "      <td>0.6375</td>\n",
              "      <td>USD</td>\n",
              "      <td>0.63750</td>\n",
              "      <td>4/25/2016</td>\n",
              "      <td>4/29/2016</td>\n",
              "      <td>2016 - 4</td>\n",
              "      <td>Q2</td>\n",
              "      <td>2016</td>\n",
              "      <td>NaT</td>\n",
              "      <td>4</td>\n",
              "      <td>USD</td>\n",
              "      <td>2346796.88</td>\n",
              "      <td>USD</td>\n",
              "      <td>0.0</td>\n",
              "      <td>Closed Lost</td>\n",
              "      <td>Prod_Category_A_None</td>\n",
              "    </tr>\n",
              "    <tr>\n",
              "      <th>16946</th>\n",
              "      <td>28318</td>\n",
              "      <td>Americas</td>\n",
              "      <td>NE America</td>\n",
              "      <td>1</td>\n",
              "      <td>1</td>\n",
              "      <td>1</td>\n",
              "      <td>1</td>\n",
              "      <td>0</td>\n",
              "      <td>Bureaucratic_Code_4</td>\n",
              "      <td>9/3/2015</td>\n",
              "      <td>None</td>\n",
              "      <td>United States</td>\n",
              "      <td>Account_Name_1401</td>\n",
              "      <td>Opportunity_Name_9911</td>\n",
              "      <td>12803</td>\n",
              "      <td>None</td>\n",
              "      <td>Person_Name_3</td>\n",
              "      <td>Person_Name_3</td>\n",
              "      <td>Account_Type_5</td>\n",
              "      <td>Opportunity_Type_19</td>\n",
              "      <td>Non Binding</td>\n",
              "      <td>Delivery_Terms_4</td>\n",
              "      <td>12/5/2015</td>\n",
              "      <td>None</td>\n",
              "      <td>None</td>\n",
              "      <td>None</td>\n",
              "      <td>None</td>\n",
              "      <td>None</td>\n",
              "      <td>None</td>\n",
              "      <td>NaT</td>\n",
              "      <td>1/6/2016</td>\n",
              "      <td>9/28/2016</td>\n",
              "      <td>Person_Name_3</td>\n",
              "      <td>Product_Family_164</td>\n",
              "      <td>Product_Name_307</td>\n",
              "      <td>USD</td>\n",
              "      <td>0.6400</td>\n",
              "      <td>USD</td>\n",
              "      <td>0.64000</td>\n",
              "      <td>7/1/2016</td>\n",
              "      <td>8/31/2016</td>\n",
              "      <td>2016 - 7</td>\n",
              "      <td>Q3</td>\n",
              "      <td>2016</td>\n",
              "      <td>NaT</td>\n",
              "      <td>40</td>\n",
              "      <td>USD</td>\n",
              "      <td>25603200.00</td>\n",
              "      <td>USD</td>\n",
              "      <td>0.0</td>\n",
              "      <td>Closed Lost</td>\n",
              "      <td>Prod_Category_A_None</td>\n",
              "    </tr>\n",
              "  </tbody>\n",
              "</table>\n",
              "</div>"
            ],
            "text/plain": [
              "          ID    Region  ...        Stage       Prod_Category_A\n",
              "16942   8781      EMEA  ...   Closed Won  Prod_Category_A_None\n",
              "16943   8786      EMEA  ...   Closed Won  Prod_Category_A_None\n",
              "16944   8792      EMEA  ...   Closed Won  Prod_Category_A_None\n",
              "16945  28561  Americas  ...  Closed Lost  Prod_Category_A_None\n",
              "16946  28318  Americas  ...  Closed Lost  Prod_Category_A_None\n",
              "\n",
              "[5 rows x 52 columns]"
            ]
          },
          "metadata": {
            "tags": []
          },
          "execution_count": 15
        }
      ]
    },
    {
      "cell_type": "code",
      "metadata": {
        "id": "BCcRVVUzdEGG"
      },
      "source": [
        ""
      ],
      "execution_count": null,
      "outputs": []
    },
    {
      "cell_type": "code",
      "metadata": {
        "id": "OLZzrCWhCt8Y"
      },
      "source": [
        "X,y=df.iloc[:,1:-1], df.iloc[:,-1]"
      ],
      "execution_count": 22,
      "outputs": []
    },
    {
      "cell_type": "code",
      "metadata": {
        "id": "B5A4wfVc8Q4m"
      },
      "source": [
        "from sklearn.model_selection import train_test_split\r\n",
        "\r\n",
        "X_train, X_test, y_train, y_test = \\\r\n",
        "    train_test_split(X, y, test_size=0.2, random_state=123)"
      ],
      "execution_count": 23,
      "outputs": []
    },
    {
      "cell_type": "code",
      "metadata": {
        "colab": {
          "base_uri": "https://localhost:8080/"
        },
        "id": "klDd0AgQ8Q7m",
        "outputId": "03cf5ed6-dcbb-4784-caa1-46e43262348d"
      },
      "source": [
        "rf_model = RandomForestRegressor(random_state=1,n_estimators=20) \r\n",
        "rf_model.fit(X_train, y_train)\r\n",
        "preds = rf_model.predict(X_test)\r\n",
        " \r\n",
        "rmse = np.sqrt(mean_squared_error(y_test, preds))\r\n",
        "print(\"RMSE: %f\" % (rmse))"
      ],
      "execution_count": 24,
      "outputs": [
        {
          "output_type": "stream",
          "text": [
            "RMSE: 0.500696\n"
          ],
          "name": "stdout"
        }
      ]
    },
    {
      "cell_type": "code",
      "metadata": {
        "colab": {
          "base_uri": "https://localhost:8080/",
          "height": 295
        },
        "id": "xdbJdp2xJrKB",
        "outputId": "f89f2a5b-b27d-4342-ffa1-c34c93b79cff"
      },
      "source": [
        "# Gini importance\r\n",
        "rf_model.feature_importances_\r\n",
        "plt.bar(X_train.columns, rf_model.feature_importances_)\r\n",
        "plt.xlabel('Features')\r\n",
        "plt.ylabel('Importancia')\r\n",
        "plt.title('Importancia Features con RF')\r\n",
        "plt.show()"
      ],
      "execution_count": 25,
      "outputs": [
        {
          "output_type": "display_data",
          "data": {
            "image/png": "[encoded data removed]",
            "text/plain": [
              "<Figure size 432x288 with 1 Axes>"
            ]
          },
          "metadata": {
            "tags": [],
            "needs_background": "light"
          }
        }
      ]
    },
    {
      "cell_type": "code",
      "metadata": {
        "id": "mpVyYNMn8Pww"
      },
      "source": [
        "#xgboost"
      ],
      "execution_count": 26,
      "outputs": []
    },
    {
      "cell_type": "code",
      "metadata": {
        "id": "2TDv4GLd8Pzq"
      },
      "source": [
        "xg_reg = xgb.XGBRegressor(objective ='reg:squarederror', \r\n",
        "                colsample_bytree = 0.3, learning_rate = 0.1,\r\n",
        "                max_depth = 2, alpha = 10, n_estimators = 10)"
      ],
      "execution_count": 27,
      "outputs": []
    },
    {
      "cell_type": "code",
      "metadata": {
        "colab": {
          "base_uri": "https://localhost:8080/"
        },
        "id": "HqYN6N9s8P2g",
        "outputId": "8b7c2a30-bf61-4788-fda4-9d8bf84e53d4"
      },
      "source": [
        "xg_reg.fit(X_train, y_train.astype(int))\r\n",
        "preds = xg_reg.predict(X_test)\r\n",
        "rmse = np.sqrt(mean_squared_error(y_test, preds))\r\n",
        "print(\"RMSE: %f\" % (rmse))"
      ],
      "execution_count": 28,
      "outputs": [
        {
          "output_type": "stream",
          "text": [
            "RMSE: 0.458571\n"
          ],
          "name": "stdout"
        }
      ]
    },
    {
      "cell_type": "code",
      "metadata": {
        "colab": {
          "base_uri": "https://localhost:8080/",
          "height": 295
        },
        "id": "ehHt9Mua8P5o",
        "outputId": "c4984d36-9916-4aeb-b3ed-76a4e106983d"
      },
      "source": [
        "xg_reg.feature_importances_\r\n",
        "plt.bar(X_train.columns, xg_reg.feature_importances_)\r\n",
        "plt.xlabel('Features')\r\n",
        "plt.ylabel('Importancia')\r\n",
        "plt.title('Importancia Features con RF')\r\n",
        "plt.show()"
      ],
      "execution_count": 29,
      "outputs": [
        {
          "output_type": "display_data",
          "data": {
            "image/png": "[encoded data removed]",
            "text/plain": [
              "<Figure size 432x288 with 1 Axes>"
            ]
          },
          "metadata": {
            "tags": [],
            "needs_background": "light"
          }
        }
      ]
    },
    {
      "cell_type": "code",
      "metadata": {
        "id": "u74U6Ccv8P9r"
      },
      "source": [
        "#predecimos enserio con el dataframe test de kaggle"
      ],
      "execution_count": null,
      "outputs": []
    },
    {
      "cell_type": "code",
      "metadata": {
        "colab": {
          "base_uri": "https://localhost:8080/",
          "height": 184
        },
        "id": "OIFcyqFqTS-C",
        "outputId": "4801b460-dafd-48b3-deb4-9472ea4dd129"
      },
      "source": [
        "test.head(2)"
      ],
      "execution_count": 30,
      "outputs": [
        {
          "output_type": "execute_result",
          "data": {
            "text/html": [
              "<div>\n",
              "<style scoped>\n",
              "    .dataframe tbody tr th:only-of-type {\n",
              "        vertical-align: middle;\n",
              "    }\n",
              "\n",
              "    .dataframe tbody tr th {\n",
              "        vertical-align: top;\n",
              "    }\n",
              "\n",
              "    .dataframe thead th {\n",
              "        text-align: right;\n",
              "    }\n",
              "</style>\n",
              "<table border=\"1\" class=\"dataframe\">\n",
              "  <thead>\n",
              "    <tr style=\"text-align: right;\">\n",
              "      <th></th>\n",
              "      <th>ID</th>\n",
              "      <th>Region</th>\n",
              "      <th>Territory</th>\n",
              "      <th>Pricing, Delivery_Terms_Quote_Appr</th>\n",
              "      <th>Pricing, Delivery_Terms_Approved</th>\n",
              "      <th>Bureaucratic_Code_0_Approval</th>\n",
              "      <th>Bureaucratic_Code_0_Approved</th>\n",
              "      <th>Submitted_for_Approval</th>\n",
              "      <th>Bureaucratic_Code</th>\n",
              "      <th>Account_Created_Date</th>\n",
              "      <th>Source</th>\n",
              "      <th>Billing_Country</th>\n",
              "      <th>Account_Name</th>\n",
              "      <th>Opportunity_Name</th>\n",
              "      <th>Opportunity_ID</th>\n",
              "      <th>Sales_Contract_No</th>\n",
              "      <th>Account_Owner</th>\n",
              "      <th>Opportunity_Owner</th>\n",
              "      <th>Account_Type</th>\n",
              "      <th>Opportunity_Type</th>\n",
              "      <th>Quote_Type</th>\n",
              "      <th>Delivery_Terms</th>\n",
              "      <th>Opportunity_Created_Date</th>\n",
              "      <th>Brand</th>\n",
              "      <th>Product_Type</th>\n",
              "      <th>Size</th>\n",
              "      <th>Product_Category_B</th>\n",
              "      <th>Price</th>\n",
              "      <th>Currency</th>\n",
              "      <th>Last_Activity</th>\n",
              "      <th>Quote_Expiry_Date</th>\n",
              "      <th>Last_Modified_Date</th>\n",
              "      <th>Last_Modified_By</th>\n",
              "      <th>Product_Family</th>\n",
              "      <th>Product_Name</th>\n",
              "      <th>ASP_Currency</th>\n",
              "      <th>ASP</th>\n",
              "      <th>ASP_(converted)_Currency</th>\n",
              "      <th>ASP_(converted)</th>\n",
              "      <th>Planned_Delivery_Start_Date</th>\n",
              "      <th>Planned_Delivery_End_Date</th>\n",
              "      <th>Month</th>\n",
              "      <th>Delivery_Quarter</th>\n",
              "      <th>Delivery_Year</th>\n",
              "      <th>Actual_Delivery_Date</th>\n",
              "      <th>TRF</th>\n",
              "      <th>Total_Amount_Currency</th>\n",
              "      <th>Total_Amount</th>\n",
              "      <th>Total_Taxable_Amount_Currency</th>\n",
              "      <th>Total_Taxable_Amount</th>\n",
              "      <th>Prod_Category_A</th>\n",
              "    </tr>\n",
              "  </thead>\n",
              "  <tbody>\n",
              "    <tr>\n",
              "      <th>0</th>\n",
              "      <td>6140</td>\n",
              "      <td>EMEA</td>\n",
              "      <td>Germany</td>\n",
              "      <td>1</td>\n",
              "      <td>1</td>\n",
              "      <td>1</td>\n",
              "      <td>1</td>\n",
              "      <td>0</td>\n",
              "      <td>Bureaucratic_Code_4</td>\n",
              "      <td>7/5/2017</td>\n",
              "      <td>Source_7</td>\n",
              "      <td>Germany</td>\n",
              "      <td>Account_Name_978</td>\n",
              "      <td>Opportunity_Name_6118</td>\n",
              "      <td>10689</td>\n",
              "      <td>6436</td>\n",
              "      <td>Person_Name_13</td>\n",
              "      <td>Person_Name_13</td>\n",
              "      <td>Account_Type_0</td>\n",
              "      <td>Opportunity_Type_8</td>\n",
              "      <td>Non Binding</td>\n",
              "      <td>Delivery_Terms_2</td>\n",
              "      <td>4/12/2019</td>\n",
              "      <td>None</td>\n",
              "      <td>None</td>\n",
              "      <td>None</td>\n",
              "      <td>None</td>\n",
              "      <td>None</td>\n",
              "      <td>None</td>\n",
              "      <td>NaT</td>\n",
              "      <td>4/30/2019</td>\n",
              "      <td>4/12/2019</td>\n",
              "      <td>Person_Name_13</td>\n",
              "      <td>Product_Family_171</td>\n",
              "      <td>Product_Name_332</td>\n",
              "      <td>EUR</td>\n",
              "      <td>0.325</td>\n",
              "      <td>USD</td>\n",
              "      <td>0.36761</td>\n",
              "      <td>5/1/2019</td>\n",
              "      <td>5/31/2019</td>\n",
              "      <td>2019 - 5</td>\n",
              "      <td>Q2</td>\n",
              "      <td>2019</td>\n",
              "      <td>NaT</td>\n",
              "      <td>0</td>\n",
              "      <td>EUR</td>\n",
              "      <td>162240.0</td>\n",
              "      <td>EUR</td>\n",
              "      <td>367419.0</td>\n",
              "      <td>Prod_Category_A_None</td>\n",
              "    </tr>\n",
              "    <tr>\n",
              "      <th>1</th>\n",
              "      <td>6146</td>\n",
              "      <td>EMEA</td>\n",
              "      <td>Germany</td>\n",
              "      <td>1</td>\n",
              "      <td>1</td>\n",
              "      <td>1</td>\n",
              "      <td>1</td>\n",
              "      <td>0</td>\n",
              "      <td>Bureaucratic_Code_4</td>\n",
              "      <td>7/5/2017</td>\n",
              "      <td>Source_7</td>\n",
              "      <td>Germany</td>\n",
              "      <td>Account_Name_978</td>\n",
              "      <td>Opportunity_Name_6118</td>\n",
              "      <td>10689</td>\n",
              "      <td>6436</td>\n",
              "      <td>Person_Name_13</td>\n",
              "      <td>Person_Name_13</td>\n",
              "      <td>Account_Type_0</td>\n",
              "      <td>Opportunity_Type_8</td>\n",
              "      <td>Non Binding</td>\n",
              "      <td>Delivery_Terms_2</td>\n",
              "      <td>4/12/2019</td>\n",
              "      <td>None</td>\n",
              "      <td>None</td>\n",
              "      <td>None</td>\n",
              "      <td>None</td>\n",
              "      <td>None</td>\n",
              "      <td>None</td>\n",
              "      <td>NaT</td>\n",
              "      <td>4/30/2019</td>\n",
              "      <td>4/12/2019</td>\n",
              "      <td>Person_Name_13</td>\n",
              "      <td>Product_Family_167</td>\n",
              "      <td>Product_Name_315</td>\n",
              "      <td>EUR</td>\n",
              "      <td>0.320</td>\n",
              "      <td>USD</td>\n",
              "      <td>0.36195</td>\n",
              "      <td>5/1/2019</td>\n",
              "      <td>5/31/2019</td>\n",
              "      <td>2019 - 5</td>\n",
              "      <td>Q2</td>\n",
              "      <td>2019</td>\n",
              "      <td>NaT</td>\n",
              "      <td>0</td>\n",
              "      <td>EUR</td>\n",
              "      <td>78624.0</td>\n",
              "      <td>EUR</td>\n",
              "      <td>367419.0</td>\n",
              "      <td>Prod_Category_A_None</td>\n",
              "    </tr>\n",
              "  </tbody>\n",
              "</table>\n",
              "</div>"
            ],
            "text/plain": [
              "     ID Region  ... Total_Taxable_Amount       Prod_Category_A\n",
              "0  6140   EMEA  ...             367419.0  Prod_Category_A_None\n",
              "1  6146   EMEA  ...             367419.0  Prod_Category_A_None\n",
              "\n",
              "[2 rows x 51 columns]"
            ]
          },
          "metadata": {
            "tags": []
          },
          "execution_count": 30
        }
      ]
    },
    {
      "cell_type": "code",
      "metadata": {
        "id": "wJTi_WYeTC67"
      },
      "source": [
        "#xgboost\r\n",
        "preds = xg_reg.predict(X_test)\r\n",
        "rmse = np.sqrt(mean_squared_error(y_test, preds))"
      ],
      "execution_count": null,
      "outputs": []
    },
    {
      "cell_type": "code",
      "metadata": {
        "id": "wWlQOTSBTDJi"
      },
      "source": [
        ""
      ],
      "execution_count": null,
      "outputs": []
    },
    {
      "cell_type": "code",
      "metadata": {
        "id": "4mksP3Fu8QIj"
      },
      "source": [
        "# para recupera el df para subir"
      ],
      "execution_count": null,
      "outputs": []
    },
    {
      "cell_type": "code",
      "metadata": {
        "id": "GMRm1uyOXY8R"
      },
      "source": [
        "  "
      ],
      "execution_count": null,
      "outputs": []
    },
    {
      "cell_type": "code",
      "metadata": {
        "id": "nn-61oMSYopW"
      },
      "source": [
        "entrenamiento = pd.read_csv('data.csv')\r\n",
        " "
      ],
      "execution_count": 185,
      "outputs": []
    },
    {
      "cell_type": "code",
      "metadata": {
        "id": "3hb6dtytdJUW"
      },
      "source": [
        "#formamos el dataframe entrenamiento con feature engienri y su target"
      ],
      "execution_count": 98,
      "outputs": []
    },
    {
      "cell_type": "code",
      "metadata": {
        "id": "Sms0kr5tZxZj"
      },
      "source": [
        "def agregarTargetDfOriginal(entrenamiento,df):\r\n",
        "  target=entrenamiento[(entrenamiento['Stage']=='Closed Lost') | (entrenamiento['Stage']=='Closed Won')]\r\n",
        "  target=target[['Opportunity_ID','Stage']].groupby(['Opportunity_ID','Stage']).agg(total=('Stage','count')).reset_index()[['Opportunity_ID','Stage']]\r\n",
        "    \r\n",
        "  entrenamiento=pd.merge(df,target,on=\"Opportunity_ID\",how=\"inner\") \r\n",
        "  df=entrenamiento.replace(\"Closed Lost\", \"0\")\r\n",
        "  df=df.replace(\"Closed Won\", \"1\")\r\n",
        " \r\n",
        "   \r\n",
        "  return df"
      ],
      "execution_count": 140,
      "outputs": []
    },
    {
      "cell_type": "code",
      "metadata": {
        "id": "Wv4jQxCliTSV"
      },
      "source": [
        "#feature engnerie\r\n",
        "def featureEngeenier(df):\r\n",
        "  #agregamos fecha \r\n",
        "  df['Month']=pd.to_datetime(df['Month'])\r\n",
        "  df['anio']=df['Month'].dt.year\r\n",
        "  df['mes']=df['Month'].dt.month\r\n",
        "  #agregamos columna totalamount\r\n",
        "  totalAmount=df.groupby(['Opportunity_ID' ]).agg(totalamount=('Total_Amount','sum'))\r\n",
        "  #agregamos total trf\r\n",
        "  totalTrf=df.groupby(['Opportunity_ID' ]).agg(totalTrf=('TRF','sum'))\r\n",
        "  dfFeatureNew=pd.merge(totalAmount,totalTrf,on=\"Opportunity_ID\",how=\"inner\").reset_index()\r\n",
        "\r\n",
        "  df=dfFeatureNew[['Opportunity_ID','totalamount','totalTrf']]\r\n",
        "   \r\n",
        "  \r\n",
        "\r\n",
        "  return df\r\n",
        " "
      ],
      "execution_count": 141,
      "outputs": []
    },
    {
      "cell_type": "code",
      "metadata": {
        "id": "lTdlyNdluxYj"
      },
      "source": [
        "entrenamientoFeatureTarget=agregarTargetDfOriginal(entrenamiento,entrenamiento) "
      ],
      "execution_count": 186,
      "outputs": []
    },
    {
      "cell_type": "code",
      "metadata": {
        "colab": {
          "base_uri": "https://localhost:8080/",
          "height": 206
        },
        "id": "lMms4KMju2Um",
        "outputId": "bbb0bce4-6427-43a1-848f-fede38d906bb"
      },
      "source": [
        "dfentrenami=entrenamientoFeatureTarget[['Opportunity_ID','Territory','Stage_x']]\r\n",
        "dfentrenami.columns=['Opportunity_ID','Territory','Stage']\r\n",
        "dfentrenami.head(5)"
      ],
      "execution_count": 212,
      "outputs": [
        {
          "output_type": "execute_result",
          "data": {
            "text/html": [
              "<div>\n",
              "<style scoped>\n",
              "    .dataframe tbody tr th:only-of-type {\n",
              "        vertical-align: middle;\n",
              "    }\n",
              "\n",
              "    .dataframe tbody tr th {\n",
              "        vertical-align: top;\n",
              "    }\n",
              "\n",
              "    .dataframe thead th {\n",
              "        text-align: right;\n",
              "    }\n",
              "</style>\n",
              "<table border=\"1\" class=\"dataframe\">\n",
              "  <thead>\n",
              "    <tr style=\"text-align: right;\">\n",
              "      <th></th>\n",
              "      <th>Opportunity_ID</th>\n",
              "      <th>Territory</th>\n",
              "      <th>Stage</th>\n",
              "    </tr>\n",
              "  </thead>\n",
              "  <tbody>\n",
              "    <tr>\n",
              "      <th>0</th>\n",
              "      <td>0</td>\n",
              "      <td>None</td>\n",
              "      <td>0</td>\n",
              "    </tr>\n",
              "    <tr>\n",
              "      <th>1</th>\n",
              "      <td>1</td>\n",
              "      <td>None</td>\n",
              "      <td>1</td>\n",
              "    </tr>\n",
              "    <tr>\n",
              "      <th>2</th>\n",
              "      <td>2</td>\n",
              "      <td>NW America</td>\n",
              "      <td>1</td>\n",
              "    </tr>\n",
              "    <tr>\n",
              "      <th>3</th>\n",
              "      <td>3</td>\n",
              "      <td>NW America</td>\n",
              "      <td>0</td>\n",
              "    </tr>\n",
              "    <tr>\n",
              "      <th>4</th>\n",
              "      <td>4</td>\n",
              "      <td>NW America</td>\n",
              "      <td>0</td>\n",
              "    </tr>\n",
              "  </tbody>\n",
              "</table>\n",
              "</div>"
            ],
            "text/plain": [
              "   Opportunity_ID   Territory Stage\n",
              "0               0        None     0\n",
              "1               1        None     1\n",
              "2               2  NW America     1\n",
              "3               3  NW America     0\n",
              "4               4  NW America     0"
            ]
          },
          "metadata": {
            "tags": []
          },
          "execution_count": 212
        }
      ]
    },
    {
      "cell_type": "code",
      "metadata": {
        "colab": {
          "base_uri": "https://localhost:8080/"
        },
        "id": "osKWwsH8xe2u",
        "outputId": "601cecde-d0d4-4a4f-8862-e76688b06319"
      },
      "source": [
        "dfentrenami['Stage']=dfentrenami['Stage'].astype('int')"
      ],
      "execution_count": 213,
      "outputs": [
        {
          "output_type": "stream",
          "text": [
            "/usr/local/lib/python3.6/dist-packages/ipykernel_launcher.py:1: SettingWithCopyWarning: \n",
            "A value is trying to be set on a copy of a slice from a DataFrame.\n",
            "Try using .loc[row_indexer,col_indexer] = value instead\n",
            "\n",
            "See the caveats in the documentation: https://pandas.pydata.org/pandas-docs/stable/user_guide/indexing.html#returning-a-view-versus-a-copy\n",
            "  \"\"\"Entry point for launching an IPython kernel.\n"
          ],
          "name": "stderr"
        }
      ]
    },
    {
      "cell_type": "code",
      "metadata": {
        "colab": {
          "base_uri": "https://localhost:8080/",
          "height": 423
        },
        "id": "EHsffSDdzyEN",
        "outputId": "c26cb75f-6166-462e-d0b7-8e204a892e2b"
      },
      "source": [
        "dfentrenami"
      ],
      "execution_count": 215,
      "outputs": [
        {
          "output_type": "execute_result",
          "data": {
            "text/html": [
              "<div>\n",
              "<style scoped>\n",
              "    .dataframe tbody tr th:only-of-type {\n",
              "        vertical-align: middle;\n",
              "    }\n",
              "\n",
              "    .dataframe tbody tr th {\n",
              "        vertical-align: top;\n",
              "    }\n",
              "\n",
              "    .dataframe thead th {\n",
              "        text-align: right;\n",
              "    }\n",
              "</style>\n",
              "<table border=\"1\" class=\"dataframe\">\n",
              "  <thead>\n",
              "    <tr style=\"text-align: right;\">\n",
              "      <th></th>\n",
              "      <th>Opportunity_ID</th>\n",
              "      <th>Territory</th>\n",
              "      <th>Stage</th>\n",
              "    </tr>\n",
              "  </thead>\n",
              "  <tbody>\n",
              "    <tr>\n",
              "      <th>0</th>\n",
              "      <td>0</td>\n",
              "      <td>None</td>\n",
              "      <td>0</td>\n",
              "    </tr>\n",
              "    <tr>\n",
              "      <th>1</th>\n",
              "      <td>1</td>\n",
              "      <td>None</td>\n",
              "      <td>1</td>\n",
              "    </tr>\n",
              "    <tr>\n",
              "      <th>2</th>\n",
              "      <td>2</td>\n",
              "      <td>NW America</td>\n",
              "      <td>1</td>\n",
              "    </tr>\n",
              "    <tr>\n",
              "      <th>3</th>\n",
              "      <td>3</td>\n",
              "      <td>NW America</td>\n",
              "      <td>0</td>\n",
              "    </tr>\n",
              "    <tr>\n",
              "      <th>4</th>\n",
              "      <td>4</td>\n",
              "      <td>NW America</td>\n",
              "      <td>0</td>\n",
              "    </tr>\n",
              "    <tr>\n",
              "      <th>...</th>\n",
              "      <td>...</td>\n",
              "      <td>...</td>\n",
              "      <td>...</td>\n",
              "    </tr>\n",
              "    <tr>\n",
              "      <th>16878</th>\n",
              "      <td>12801</td>\n",
              "      <td>Austria</td>\n",
              "      <td>1</td>\n",
              "    </tr>\n",
              "    <tr>\n",
              "      <th>16879</th>\n",
              "      <td>12801</td>\n",
              "      <td>Austria</td>\n",
              "      <td>1</td>\n",
              "    </tr>\n",
              "    <tr>\n",
              "      <th>16880</th>\n",
              "      <td>12801</td>\n",
              "      <td>Austria</td>\n",
              "      <td>1</td>\n",
              "    </tr>\n",
              "    <tr>\n",
              "      <th>16881</th>\n",
              "      <td>12802</td>\n",
              "      <td>NE America</td>\n",
              "      <td>0</td>\n",
              "    </tr>\n",
              "    <tr>\n",
              "      <th>16882</th>\n",
              "      <td>12803</td>\n",
              "      <td>NE America</td>\n",
              "      <td>0</td>\n",
              "    </tr>\n",
              "  </tbody>\n",
              "</table>\n",
              "<p>16883 rows × 3 columns</p>\n",
              "</div>"
            ],
            "text/plain": [
              "       Opportunity_ID   Territory  Stage\n",
              "0                   0        None      0\n",
              "1                   1        None      1\n",
              "2                   2  NW America      1\n",
              "3                   3  NW America      0\n",
              "4                   4  NW America      0\n",
              "...               ...         ...    ...\n",
              "16878           12801     Austria      1\n",
              "16879           12801     Austria      1\n",
              "16880           12801     Austria      1\n",
              "16881           12802  NE America      0\n",
              "16882           12803  NE America      0\n",
              "\n",
              "[16883 rows x 3 columns]"
            ]
          },
          "metadata": {
            "tags": []
          },
          "execution_count": 215
        }
      ]
    },
    {
      "cell_type": "code",
      "metadata": {
        "colab": {
          "base_uri": "https://localhost:8080/",
          "height": 423
        },
        "id": "cIzEYIBn3G1v",
        "outputId": "f813f4a2-b1cc-4d31-ca82-0c94d8fe86b1"
      },
      "source": [
        "dfentrenami"
      ],
      "execution_count": 234,
      "outputs": [
        {
          "output_type": "execute_result",
          "data": {
            "text/html": [
              "<div>\n",
              "<style scoped>\n",
              "    .dataframe tbody tr th:only-of-type {\n",
              "        vertical-align: middle;\n",
              "    }\n",
              "\n",
              "    .dataframe tbody tr th {\n",
              "        vertical-align: top;\n",
              "    }\n",
              "\n",
              "    .dataframe thead th {\n",
              "        text-align: right;\n",
              "    }\n",
              "</style>\n",
              "<table border=\"1\" class=\"dataframe\">\n",
              "  <thead>\n",
              "    <tr style=\"text-align: right;\">\n",
              "      <th></th>\n",
              "      <th>Opportunity_ID</th>\n",
              "      <th>Territory</th>\n",
              "      <th>Stage</th>\n",
              "    </tr>\n",
              "  </thead>\n",
              "  <tbody>\n",
              "    <tr>\n",
              "      <th>0</th>\n",
              "      <td>0</td>\n",
              "      <td>None</td>\n",
              "      <td>0</td>\n",
              "    </tr>\n",
              "    <tr>\n",
              "      <th>1</th>\n",
              "      <td>1</td>\n",
              "      <td>None</td>\n",
              "      <td>1</td>\n",
              "    </tr>\n",
              "    <tr>\n",
              "      <th>2</th>\n",
              "      <td>2</td>\n",
              "      <td>NW America</td>\n",
              "      <td>1</td>\n",
              "    </tr>\n",
              "    <tr>\n",
              "      <th>3</th>\n",
              "      <td>3</td>\n",
              "      <td>NW America</td>\n",
              "      <td>0</td>\n",
              "    </tr>\n",
              "    <tr>\n",
              "      <th>4</th>\n",
              "      <td>4</td>\n",
              "      <td>NW America</td>\n",
              "      <td>0</td>\n",
              "    </tr>\n",
              "    <tr>\n",
              "      <th>...</th>\n",
              "      <td>...</td>\n",
              "      <td>...</td>\n",
              "      <td>...</td>\n",
              "    </tr>\n",
              "    <tr>\n",
              "      <th>16878</th>\n",
              "      <td>12801</td>\n",
              "      <td>Austria</td>\n",
              "      <td>1</td>\n",
              "    </tr>\n",
              "    <tr>\n",
              "      <th>16879</th>\n",
              "      <td>12801</td>\n",
              "      <td>Austria</td>\n",
              "      <td>1</td>\n",
              "    </tr>\n",
              "    <tr>\n",
              "      <th>16880</th>\n",
              "      <td>12801</td>\n",
              "      <td>Austria</td>\n",
              "      <td>1</td>\n",
              "    </tr>\n",
              "    <tr>\n",
              "      <th>16881</th>\n",
              "      <td>12802</td>\n",
              "      <td>NE America</td>\n",
              "      <td>0</td>\n",
              "    </tr>\n",
              "    <tr>\n",
              "      <th>16882</th>\n",
              "      <td>12803</td>\n",
              "      <td>NE America</td>\n",
              "      <td>0</td>\n",
              "    </tr>\n",
              "  </tbody>\n",
              "</table>\n",
              "<p>16883 rows × 3 columns</p>\n",
              "</div>"
            ],
            "text/plain": [
              "       Opportunity_ID   Territory  Stage\n",
              "0                   0        None      0\n",
              "1                   1        None      1\n",
              "2                   2  NW America      1\n",
              "3                   3  NW America      0\n",
              "4                   4  NW America      0\n",
              "...               ...         ...    ...\n",
              "16878           12801     Austria      1\n",
              "16879           12801     Austria      1\n",
              "16880           12801     Austria      1\n",
              "16881           12802  NE America      0\n",
              "16882           12803  NE America      0\n",
              "\n",
              "[16883 rows x 3 columns]"
            ]
          },
          "metadata": {
            "tags": []
          },
          "execution_count": 234
        }
      ]
    },
    {
      "cell_type": "code",
      "metadata": {
        "colab": {
          "base_uri": "https://localhost:8080/",
          "height": 423
        },
        "id": "FLxI4qAA2yJQ",
        "outputId": "73fd4b22-4c9b-4a65-8206-9b66d7ded041"
      },
      "source": [
        "dfentrenami.drop_duplicates( )"
      ],
      "execution_count": 233,
      "outputs": [
        {
          "output_type": "execute_result",
          "data": {
            "text/html": [
              "<div>\n",
              "<style scoped>\n",
              "    .dataframe tbody tr th:only-of-type {\n",
              "        vertical-align: middle;\n",
              "    }\n",
              "\n",
              "    .dataframe tbody tr th {\n",
              "        vertical-align: top;\n",
              "    }\n",
              "\n",
              "    .dataframe thead th {\n",
              "        text-align: right;\n",
              "    }\n",
              "</style>\n",
              "<table border=\"1\" class=\"dataframe\">\n",
              "  <thead>\n",
              "    <tr style=\"text-align: right;\">\n",
              "      <th></th>\n",
              "      <th>Opportunity_ID</th>\n",
              "      <th>Territory</th>\n",
              "      <th>Stage</th>\n",
              "    </tr>\n",
              "  </thead>\n",
              "  <tbody>\n",
              "    <tr>\n",
              "      <th>0</th>\n",
              "      <td>0</td>\n",
              "      <td>None</td>\n",
              "      <td>0</td>\n",
              "    </tr>\n",
              "    <tr>\n",
              "      <th>1</th>\n",
              "      <td>1</td>\n",
              "      <td>None</td>\n",
              "      <td>1</td>\n",
              "    </tr>\n",
              "    <tr>\n",
              "      <th>2</th>\n",
              "      <td>2</td>\n",
              "      <td>NW America</td>\n",
              "      <td>1</td>\n",
              "    </tr>\n",
              "    <tr>\n",
              "      <th>3</th>\n",
              "      <td>3</td>\n",
              "      <td>NW America</td>\n",
              "      <td>0</td>\n",
              "    </tr>\n",
              "    <tr>\n",
              "      <th>4</th>\n",
              "      <td>4</td>\n",
              "      <td>NW America</td>\n",
              "      <td>0</td>\n",
              "    </tr>\n",
              "    <tr>\n",
              "      <th>...</th>\n",
              "      <td>...</td>\n",
              "      <td>...</td>\n",
              "      <td>...</td>\n",
              "    </tr>\n",
              "    <tr>\n",
              "      <th>16875</th>\n",
              "      <td>12799</td>\n",
              "      <td>Norway</td>\n",
              "      <td>1</td>\n",
              "    </tr>\n",
              "    <tr>\n",
              "      <th>16876</th>\n",
              "      <td>12800</td>\n",
              "      <td>NE America</td>\n",
              "      <td>0</td>\n",
              "    </tr>\n",
              "    <tr>\n",
              "      <th>16878</th>\n",
              "      <td>12801</td>\n",
              "      <td>Austria</td>\n",
              "      <td>1</td>\n",
              "    </tr>\n",
              "    <tr>\n",
              "      <th>16881</th>\n",
              "      <td>12802</td>\n",
              "      <td>NE America</td>\n",
              "      <td>0</td>\n",
              "    </tr>\n",
              "    <tr>\n",
              "      <th>16882</th>\n",
              "      <td>12803</td>\n",
              "      <td>NE America</td>\n",
              "      <td>0</td>\n",
              "    </tr>\n",
              "  </tbody>\n",
              "</table>\n",
              "<p>9791 rows × 3 columns</p>\n",
              "</div>"
            ],
            "text/plain": [
              "       Opportunity_ID   Territory  Stage\n",
              "0                   0        None      0\n",
              "1                   1        None      1\n",
              "2                   2  NW America      1\n",
              "3                   3  NW America      0\n",
              "4                   4  NW America      0\n",
              "...               ...         ...    ...\n",
              "16875           12799      Norway      1\n",
              "16876           12800  NE America      0\n",
              "16878           12801     Austria      1\n",
              "16881           12802  NE America      0\n",
              "16882           12803  NE America      0\n",
              "\n",
              "[9791 rows x 3 columns]"
            ]
          },
          "metadata": {
            "tags": []
          },
          "execution_count": 233
        }
      ]
    },
    {
      "cell_type": "code",
      "metadata": {
        "id": "17PreZ1Zv93O"
      },
      "source": [
        "nwameria= cantitotaldeunos/cantitadtotaldefilas=1/3=0.333"
      ],
      "execution_count": null,
      "outputs": []
    },
    {
      "cell_type": "code",
      "metadata": {
        "colab": {
          "base_uri": "https://localhost:8080/"
        },
        "id": "7oEjvKr40vBZ",
        "outputId": "674ab329-67e2-4dea-917f-7891b4cf8010"
      },
      "source": [
        "dfentrenami.groupby(['Territory','Opportunity_ID' ]).agg(ta=('Stage','count')).reset_index()['Opportunity_ID']"
      ],
      "execution_count": 229,
      "outputs": [
        {
          "output_type": "execute_result",
          "data": {
            "text/plain": [
              "0           0\n",
              "1           1\n",
              "2           2\n",
              "3           3\n",
              "4           4\n",
              "        ...  \n",
              "9786    12799\n",
              "9787    12800\n",
              "9788    12801\n",
              "9789    12802\n",
              "9790    12803\n",
              "Name: Opportunity_ID, Length: 9791, dtype: int64"
            ]
          },
          "metadata": {
            "tags": []
          },
          "execution_count": 229
        }
      ]
    },
    {
      "cell_type": "code",
      "metadata": {
        "id": "FYcvl4X6wpG6"
      },
      "source": [
        "df_mean=dfentrenami.groupby(['Territory','Opportunity_ID']).agg(meanEncoding=('Stage','mean')).reset_index()"
      ],
      "execution_count": 230,
      "outputs": []
    },
    {
      "cell_type": "code",
      "metadata": {
        "colab": {
          "base_uri": "https://localhost:8080/",
          "height": 423
        },
        "id": "5Ol7ohk1z-dF",
        "outputId": "c4f0483d-2c0c-4577-8da0-62ac56f40b0e"
      },
      "source": [
        "df_mean"
      ],
      "execution_count": 231,
      "outputs": [
        {
          "output_type": "execute_result",
          "data": {
            "text/html": [
              "<div>\n",
              "<style scoped>\n",
              "    .dataframe tbody tr th:only-of-type {\n",
              "        vertical-align: middle;\n",
              "    }\n",
              "\n",
              "    .dataframe tbody tr th {\n",
              "        vertical-align: top;\n",
              "    }\n",
              "\n",
              "    .dataframe thead th {\n",
              "        text-align: right;\n",
              "    }\n",
              "</style>\n",
              "<table border=\"1\" class=\"dataframe\">\n",
              "  <thead>\n",
              "    <tr style=\"text-align: right;\">\n",
              "      <th></th>\n",
              "      <th>Territory</th>\n",
              "      <th>Opportunity_ID</th>\n",
              "      <th>meanEncoding</th>\n",
              "    </tr>\n",
              "  </thead>\n",
              "  <tbody>\n",
              "    <tr>\n",
              "      <th>0</th>\n",
              "      <td>Albania</td>\n",
              "      <td>6766</td>\n",
              "      <td>0</td>\n",
              "    </tr>\n",
              "    <tr>\n",
              "      <th>1</th>\n",
              "      <td>Albania</td>\n",
              "      <td>6848</td>\n",
              "      <td>0</td>\n",
              "    </tr>\n",
              "    <tr>\n",
              "      <th>2</th>\n",
              "      <td>Armenia</td>\n",
              "      <td>3323</td>\n",
              "      <td>0</td>\n",
              "    </tr>\n",
              "    <tr>\n",
              "      <th>3</th>\n",
              "      <td>Australia</td>\n",
              "      <td>271</td>\n",
              "      <td>1</td>\n",
              "    </tr>\n",
              "    <tr>\n",
              "      <th>4</th>\n",
              "      <td>Australia</td>\n",
              "      <td>272</td>\n",
              "      <td>1</td>\n",
              "    </tr>\n",
              "    <tr>\n",
              "      <th>...</th>\n",
              "      <td>...</td>\n",
              "      <td>...</td>\n",
              "      <td>...</td>\n",
              "    </tr>\n",
              "    <tr>\n",
              "      <th>9786</th>\n",
              "      <td>Vietnam</td>\n",
              "      <td>8728</td>\n",
              "      <td>0</td>\n",
              "    </tr>\n",
              "    <tr>\n",
              "      <th>9787</th>\n",
              "      <td>Vietnam</td>\n",
              "      <td>8867</td>\n",
              "      <td>1</td>\n",
              "    </tr>\n",
              "    <tr>\n",
              "      <th>9788</th>\n",
              "      <td>Vietnam</td>\n",
              "      <td>8972</td>\n",
              "      <td>1</td>\n",
              "    </tr>\n",
              "    <tr>\n",
              "      <th>9789</th>\n",
              "      <td>Vietnam</td>\n",
              "      <td>9026</td>\n",
              "      <td>1</td>\n",
              "    </tr>\n",
              "    <tr>\n",
              "      <th>9790</th>\n",
              "      <td>Vietnam</td>\n",
              "      <td>9869</td>\n",
              "      <td>1</td>\n",
              "    </tr>\n",
              "  </tbody>\n",
              "</table>\n",
              "<p>9791 rows × 3 columns</p>\n",
              "</div>"
            ],
            "text/plain": [
              "      Territory  Opportunity_ID  meanEncoding\n",
              "0       Albania            6766             0\n",
              "1       Albania            6848             0\n",
              "2       Armenia            3323             0\n",
              "3     Australia             271             1\n",
              "4     Australia             272             1\n",
              "...         ...             ...           ...\n",
              "9786    Vietnam            8728             0\n",
              "9787    Vietnam            8867             1\n",
              "9788    Vietnam            8972             1\n",
              "9789    Vietnam            9026             1\n",
              "9790    Vietnam            9869             1\n",
              "\n",
              "[9791 rows x 3 columns]"
            ]
          },
          "metadata": {
            "tags": []
          },
          "execution_count": 231
        }
      ]
    },
    {
      "cell_type": "code",
      "metadata": {
        "colab": {
          "base_uri": "https://localhost:8080/",
          "height": 423
        },
        "id": "0jf-_5cvyd96",
        "outputId": "d89e31ea-afad-4846-a70f-b6d2defec93c"
      },
      "source": [
        "pd.merge(dfentrenami,df_mean, on='Territory', how='left')"
      ],
      "execution_count": 217,
      "outputs": [
        {
          "output_type": "execute_result",
          "data": {
            "text/html": [
              "<div>\n",
              "<style scoped>\n",
              "    .dataframe tbody tr th:only-of-type {\n",
              "        vertical-align: middle;\n",
              "    }\n",
              "\n",
              "    .dataframe tbody tr th {\n",
              "        vertical-align: top;\n",
              "    }\n",
              "\n",
              "    .dataframe thead th {\n",
              "        text-align: right;\n",
              "    }\n",
              "</style>\n",
              "<table border=\"1\" class=\"dataframe\">\n",
              "  <thead>\n",
              "    <tr style=\"text-align: right;\">\n",
              "      <th></th>\n",
              "      <th>Opportunity_ID_x</th>\n",
              "      <th>Territory</th>\n",
              "      <th>Stage</th>\n",
              "      <th>Opportunity_ID_y</th>\n",
              "      <th>cantSumUno</th>\n",
              "    </tr>\n",
              "  </thead>\n",
              "  <tbody>\n",
              "    <tr>\n",
              "      <th>0</th>\n",
              "      <td>0</td>\n",
              "      <td>None</td>\n",
              "      <td>0</td>\n",
              "      <td>0</td>\n",
              "      <td>0</td>\n",
              "    </tr>\n",
              "    <tr>\n",
              "      <th>1</th>\n",
              "      <td>0</td>\n",
              "      <td>None</td>\n",
              "      <td>0</td>\n",
              "      <td>1</td>\n",
              "      <td>1</td>\n",
              "    </tr>\n",
              "    <tr>\n",
              "      <th>2</th>\n",
              "      <td>0</td>\n",
              "      <td>None</td>\n",
              "      <td>0</td>\n",
              "      <td>8</td>\n",
              "      <td>0</td>\n",
              "    </tr>\n",
              "    <tr>\n",
              "      <th>3</th>\n",
              "      <td>0</td>\n",
              "      <td>None</td>\n",
              "      <td>0</td>\n",
              "      <td>9</td>\n",
              "      <td>0</td>\n",
              "    </tr>\n",
              "    <tr>\n",
              "      <th>4</th>\n",
              "      <td>0</td>\n",
              "      <td>None</td>\n",
              "      <td>0</td>\n",
              "      <td>10</td>\n",
              "      <td>0</td>\n",
              "    </tr>\n",
              "    <tr>\n",
              "      <th>...</th>\n",
              "      <td>...</td>\n",
              "      <td>...</td>\n",
              "      <td>...</td>\n",
              "      <td>...</td>\n",
              "      <td>...</td>\n",
              "    </tr>\n",
              "    <tr>\n",
              "      <th>15506636</th>\n",
              "      <td>12803</td>\n",
              "      <td>NE America</td>\n",
              "      <td>0</td>\n",
              "      <td>12724</td>\n",
              "      <td>0</td>\n",
              "    </tr>\n",
              "    <tr>\n",
              "      <th>15506637</th>\n",
              "      <td>12803</td>\n",
              "      <td>NE America</td>\n",
              "      <td>0</td>\n",
              "      <td>12725</td>\n",
              "      <td>0</td>\n",
              "    </tr>\n",
              "    <tr>\n",
              "      <th>15506638</th>\n",
              "      <td>12803</td>\n",
              "      <td>NE America</td>\n",
              "      <td>0</td>\n",
              "      <td>12800</td>\n",
              "      <td>0</td>\n",
              "    </tr>\n",
              "    <tr>\n",
              "      <th>15506639</th>\n",
              "      <td>12803</td>\n",
              "      <td>NE America</td>\n",
              "      <td>0</td>\n",
              "      <td>12802</td>\n",
              "      <td>0</td>\n",
              "    </tr>\n",
              "    <tr>\n",
              "      <th>15506640</th>\n",
              "      <td>12803</td>\n",
              "      <td>NE America</td>\n",
              "      <td>0</td>\n",
              "      <td>12803</td>\n",
              "      <td>0</td>\n",
              "    </tr>\n",
              "  </tbody>\n",
              "</table>\n",
              "<p>15506641 rows × 5 columns</p>\n",
              "</div>"
            ],
            "text/plain": [
              "          Opportunity_ID_x   Territory  Stage  Opportunity_ID_y  cantSumUno\n",
              "0                        0        None      0                 0           0\n",
              "1                        0        None      0                 1           1\n",
              "2                        0        None      0                 8           0\n",
              "3                        0        None      0                 9           0\n",
              "4                        0        None      0                10           0\n",
              "...                    ...         ...    ...               ...         ...\n",
              "15506636             12803  NE America      0             12724           0\n",
              "15506637             12803  NE America      0             12725           0\n",
              "15506638             12803  NE America      0             12800           0\n",
              "15506639             12803  NE America      0             12802           0\n",
              "15506640             12803  NE America      0             12803           0\n",
              "\n",
              "[15506641 rows x 5 columns]"
            ]
          },
          "metadata": {
            "tags": []
          },
          "execution_count": 217
        }
      ]
    },
    {
      "cell_type": "code",
      "metadata": {
        "id": "naz-mBvcRRru"
      },
      "source": [
        "\r\n",
        "entrenamientoFeature=featureEngeenier(entrenamiento)\r\n",
        "entrenamientoFeatureTarget=agregarTargetDfOriginal(entrenamiento,entrenamientoFeature) "
      ],
      "execution_count": 142,
      "outputs": []
    },
    {
      "cell_type": "code",
      "metadata": {
        "colab": {
          "base_uri": "https://localhost:8080/",
          "height": 423
        },
        "id": "TiCdkTw1eD_o",
        "outputId": "560699cd-441b-445b-eecf-80ca60397142"
      },
      "source": [
        "entrenamientoFeatureTarget"
      ],
      "execution_count": 143,
      "outputs": [
        {
          "output_type": "execute_result",
          "data": {
            "text/html": [
              "<div>\n",
              "<style scoped>\n",
              "    .dataframe tbody tr th:only-of-type {\n",
              "        vertical-align: middle;\n",
              "    }\n",
              "\n",
              "    .dataframe tbody tr th {\n",
              "        vertical-align: top;\n",
              "    }\n",
              "\n",
              "    .dataframe thead th {\n",
              "        text-align: right;\n",
              "    }\n",
              "</style>\n",
              "<table border=\"1\" class=\"dataframe\">\n",
              "  <thead>\n",
              "    <tr style=\"text-align: right;\">\n",
              "      <th></th>\n",
              "      <th>Opportunity_ID</th>\n",
              "      <th>totalamount</th>\n",
              "      <th>totalTrf</th>\n",
              "      <th>Stage</th>\n",
              "    </tr>\n",
              "  </thead>\n",
              "  <tbody>\n",
              "    <tr>\n",
              "      <th>0</th>\n",
              "      <td>0</td>\n",
              "      <td>5272800.00</td>\n",
              "      <td>10</td>\n",
              "      <td>0</td>\n",
              "    </tr>\n",
              "    <tr>\n",
              "      <th>1</th>\n",
              "      <td>1</td>\n",
              "      <td>48230.00</td>\n",
              "      <td>0</td>\n",
              "      <td>1</td>\n",
              "    </tr>\n",
              "    <tr>\n",
              "      <th>2</th>\n",
              "      <td>2</td>\n",
              "      <td>83865.60</td>\n",
              "      <td>0</td>\n",
              "      <td>1</td>\n",
              "    </tr>\n",
              "    <tr>\n",
              "      <th>3</th>\n",
              "      <td>3</td>\n",
              "      <td>7421881.50</td>\n",
              "      <td>14</td>\n",
              "      <td>0</td>\n",
              "    </tr>\n",
              "    <tr>\n",
              "      <th>4</th>\n",
              "      <td>4</td>\n",
              "      <td>13357192.50</td>\n",
              "      <td>25</td>\n",
              "      <td>0</td>\n",
              "    </tr>\n",
              "    <tr>\n",
              "      <th>...</th>\n",
              "      <td>...</td>\n",
              "      <td>...</td>\n",
              "      <td>...</td>\n",
              "      <td>...</td>\n",
              "    </tr>\n",
              "    <tr>\n",
              "      <th>9786</th>\n",
              "      <td>12799</td>\n",
              "      <td>401700.00</td>\n",
              "      <td>1</td>\n",
              "      <td>1</td>\n",
              "    </tr>\n",
              "    <tr>\n",
              "      <th>9787</th>\n",
              "      <td>12800</td>\n",
              "      <td>21332500.00</td>\n",
              "      <td>40</td>\n",
              "      <td>0</td>\n",
              "    </tr>\n",
              "    <tr>\n",
              "      <th>9788</th>\n",
              "      <td>12801</td>\n",
              "      <td>299715.00</td>\n",
              "      <td>0</td>\n",
              "      <td>1</td>\n",
              "    </tr>\n",
              "    <tr>\n",
              "      <th>9789</th>\n",
              "      <td>12802</td>\n",
              "      <td>2346796.88</td>\n",
              "      <td>4</td>\n",
              "      <td>0</td>\n",
              "    </tr>\n",
              "    <tr>\n",
              "      <th>9790</th>\n",
              "      <td>12803</td>\n",
              "      <td>25603200.00</td>\n",
              "      <td>40</td>\n",
              "      <td>0</td>\n",
              "    </tr>\n",
              "  </tbody>\n",
              "</table>\n",
              "<p>9791 rows × 4 columns</p>\n",
              "</div>"
            ],
            "text/plain": [
              "      Opportunity_ID  totalamount  totalTrf Stage\n",
              "0                  0   5272800.00        10     0\n",
              "1                  1     48230.00         0     1\n",
              "2                  2     83865.60         0     1\n",
              "3                  3   7421881.50        14     0\n",
              "4                  4  13357192.50        25     0\n",
              "...              ...          ...       ...   ...\n",
              "9786           12799    401700.00         1     1\n",
              "9787           12800  21332500.00        40     0\n",
              "9788           12801    299715.00         0     1\n",
              "9789           12802   2346796.88         4     0\n",
              "9790           12803  25603200.00        40     0\n",
              "\n",
              "[9791 rows x 4 columns]"
            ]
          },
          "metadata": {
            "tags": []
          },
          "execution_count": 143
        }
      ]
    },
    {
      "cell_type": "code",
      "metadata": {
        "id": "CDBwZ1H-cT4q"
      },
      "source": [
        "#formamos feature enginerie al test"
      ],
      "execution_count": null,
      "outputs": []
    },
    {
      "cell_type": "code",
      "metadata": {
        "colab": {
          "base_uri": "https://localhost:8080/",
          "height": 423
        },
        "id": "JH-N7UFWZwYL",
        "outputId": "c256f7ee-d22b-4031-ed01-fa61b949b9d9"
      },
      "source": [
        "dfTest=featureEngeenier(test)\r\n",
        "dfTest"
      ],
      "execution_count": 154,
      "outputs": [
        {
          "output_type": "execute_result",
          "data": {
            "text/html": [
              "<div>\n",
              "<style scoped>\n",
              "    .dataframe tbody tr th:only-of-type {\n",
              "        vertical-align: middle;\n",
              "    }\n",
              "\n",
              "    .dataframe tbody tr th {\n",
              "        vertical-align: top;\n",
              "    }\n",
              "\n",
              "    .dataframe thead th {\n",
              "        text-align: right;\n",
              "    }\n",
              "</style>\n",
              "<table border=\"1\" class=\"dataframe\">\n",
              "  <thead>\n",
              "    <tr style=\"text-align: right;\">\n",
              "      <th></th>\n",
              "      <th>Opportunity_ID</th>\n",
              "      <th>totalamount</th>\n",
              "      <th>totalTrf</th>\n",
              "    </tr>\n",
              "  </thead>\n",
              "  <tbody>\n",
              "    <tr>\n",
              "      <th>0</th>\n",
              "      <td>10689</td>\n",
              "      <td>367419.0</td>\n",
              "      <td>0</td>\n",
              "    </tr>\n",
              "    <tr>\n",
              "      <th>1</th>\n",
              "      <td>10690</td>\n",
              "      <td>757783.5</td>\n",
              "      <td>1</td>\n",
              "    </tr>\n",
              "    <tr>\n",
              "      <th>2</th>\n",
              "      <td>10691</td>\n",
              "      <td>21037.5</td>\n",
              "      <td>0</td>\n",
              "    </tr>\n",
              "    <tr>\n",
              "      <th>3</th>\n",
              "      <td>10692</td>\n",
              "      <td>2169106.5</td>\n",
              "      <td>6</td>\n",
              "    </tr>\n",
              "    <tr>\n",
              "      <th>4</th>\n",
              "      <td>10693</td>\n",
              "      <td>5752.5</td>\n",
              "      <td>0</td>\n",
              "    </tr>\n",
              "    <tr>\n",
              "      <th>...</th>\n",
              "      <td>...</td>\n",
              "      <td>...</td>\n",
              "      <td>...</td>\n",
              "    </tr>\n",
              "    <tr>\n",
              "      <th>1562</th>\n",
              "      <td>12364</td>\n",
              "      <td>147750.0</td>\n",
              "      <td>0</td>\n",
              "    </tr>\n",
              "    <tr>\n",
              "      <th>1563</th>\n",
              "      <td>12365</td>\n",
              "      <td>45054.9</td>\n",
              "      <td>0</td>\n",
              "    </tr>\n",
              "    <tr>\n",
              "      <th>1564</th>\n",
              "      <td>12366</td>\n",
              "      <td>100122.0</td>\n",
              "      <td>0</td>\n",
              "    </tr>\n",
              "    <tr>\n",
              "      <th>1565</th>\n",
              "      <td>12367</td>\n",
              "      <td>143220.0</td>\n",
              "      <td>0</td>\n",
              "    </tr>\n",
              "    <tr>\n",
              "      <th>1566</th>\n",
              "      <td>12368</td>\n",
              "      <td>871020.8</td>\n",
              "      <td>3</td>\n",
              "    </tr>\n",
              "  </tbody>\n",
              "</table>\n",
              "<p>1567 rows × 3 columns</p>\n",
              "</div>"
            ],
            "text/plain": [
              "      Opportunity_ID  totalamount  totalTrf\n",
              "0              10689     367419.0         0\n",
              "1              10690     757783.5         1\n",
              "2              10691      21037.5         0\n",
              "3              10692    2169106.5         6\n",
              "4              10693       5752.5         0\n",
              "...              ...          ...       ...\n",
              "1562           12364     147750.0         0\n",
              "1563           12365      45054.9         0\n",
              "1564           12366     100122.0         0\n",
              "1565           12367     143220.0         0\n",
              "1566           12368     871020.8         3\n",
              "\n",
              "[1567 rows x 3 columns]"
            ]
          },
          "metadata": {
            "tags": []
          },
          "execution_count": 154
        }
      ]
    },
    {
      "cell_type": "code",
      "metadata": {
        "id": "IFCjOoFBmdwt"
      },
      "source": [
        "#¿Cuál es el formato de subida del archivo?\r\n",
        "#Un csv con dos columnas (con header): el ID_Opportunity y el Target, siendo este último un número asociado\r\n",
        "#a la probabilidad de Closed Won. Recordar que los ID_Opportunity del test son 1 567, porque hay líneas del\r\n",
        "#set que contienen mismos ID pero montos diferentes (aunque asociados al mismo resultado de Won o Lose)."
      ],
      "execution_count": null,
      "outputs": []
    },
    {
      "cell_type": "code",
      "metadata": {
        "id": "j8EslSS1e-Ol"
      },
      "source": [
        "# separa en train and test\r\n"
      ],
      "execution_count": null,
      "outputs": []
    },
    {
      "cell_type": "code",
      "metadata": {
        "id": "1JZUE_t9fABO"
      },
      "source": [
        "X,y=entrenamientoFeatureTarget.iloc[:,1:-1], entrenamientoFeatureTarget.iloc[:,-1]"
      ],
      "execution_count": 145,
      "outputs": []
    },
    {
      "cell_type": "code",
      "metadata": {
        "id": "e1wMMsQ_fABP"
      },
      "source": [
        "from sklearn.model_selection import train_test_split\r\n",
        "\r\n",
        "X_train, X_test, y_train, y_test = \\\r\n",
        "    train_test_split(X, y, test_size=0.2, random_state=123)"
      ],
      "execution_count": 146,
      "outputs": []
    },
    {
      "cell_type": "code",
      "metadata": {
        "id": "KX2iLMhKe0Cj"
      },
      "source": [
        "#probar modelos"
      ],
      "execution_count": null,
      "outputs": []
    },
    {
      "cell_type": "code",
      "metadata": {
        "id": "xKSWL_tee1vH"
      },
      "source": [
        "xg_reg = xgb.XGBRegressor(objective ='reg:squarederror', \r\n",
        "                colsample_bytree = 0.3, learning_rate = 0.1,\r\n",
        "                max_depth = 2, alpha = 10, n_estimators = 10)"
      ],
      "execution_count": 147,
      "outputs": []
    },
    {
      "cell_type": "code",
      "metadata": {
        "colab": {
          "base_uri": "https://localhost:8080/"
        },
        "id": "z5T3OrdXe1vI",
        "outputId": "14802bc5-3087-4b3f-f5ba-f9247e9b5566"
      },
      "source": [
        "xg_reg.fit(X_train, y_train.astype(int))\r\n",
        "preds = xg_reg.predict(X_test)\r\n",
        "rmse = np.sqrt(mean_squared_error(y_test, preds))\r\n",
        "print(\"RMSE: %f\" % (rmse))"
      ],
      "execution_count": 148,
      "outputs": [
        {
          "output_type": "stream",
          "text": [
            "RMSE: 0.455257\n"
          ],
          "name": "stdout"
        }
      ]
    },
    {
      "cell_type": "code",
      "metadata": {
        "colab": {
          "base_uri": "https://localhost:8080/",
          "height": 295
        },
        "id": "4v29poI4e1vI",
        "outputId": "0f622436-52e4-468f-b945-99de041f025f"
      },
      "source": [
        "xg_reg.feature_importances_\r\n",
        "plt.bar(X_train.columns, xg_reg.feature_importances_)\r\n",
        "plt.xlabel('Features')\r\n",
        "plt.ylabel('Importancia')\r\n",
        "plt.title('Importancia Features con RF')\r\n",
        "plt.show()"
      ],
      "execution_count": 149,
      "outputs": [
        {
          "output_type": "display_data",
          "data": {
            "image/png": "[encoded data removed]",
            "text/plain": [
              "<Figure size 432x288 with 1 Axes>"
            ]
          },
          "metadata": {
            "tags": [],
            "needs_background": "light"
          }
        }
      ]
    },
    {
      "cell_type": "code",
      "metadata": {
        "id": "p-dp765SrjSY"
      },
      "source": [
        "def formarDfKaggle(testWithFeature,preds ):\r\n",
        "  dfkaggle = pd.DataFrame( preds)\r\n",
        "  dfkaggle['Opportunity_ID']=testWithFeature['Opportunity_ID']\r\n",
        "  dfkaggle.columns=['Target','Opportunity_ID']\r\n",
        "  dfkaggle=dfkaggle[['Opportunity_ID','Target']]\r\n",
        "  \r\n",
        "  from google.colab import files\r\n",
        "  dfkaggle.to_csv('dfKaggle.csv', index=False) \r\n",
        "  files.download('dfKaggle.csv')\r\n",
        " "
      ],
      "execution_count": 174,
      "outputs": []
    },
    {
      "cell_type": "code",
      "metadata": {
        "id": "Z2GcYkIosTd0"
      },
      "source": [
        ""
      ],
      "execution_count": null,
      "outputs": []
    },
    {
      "cell_type": "code",
      "metadata": {
        "colab": {
          "base_uri": "https://localhost:8080/",
          "height": 423
        },
        "id": "BpPhj14SgHKi",
        "outputId": "2e61368a-8ef5-40e7-9f6f-9184c50be5b7"
      },
      "source": [
        "dftestt=dfTest.iloc[:,1:3]\r\n",
        "dftestt"
      ],
      "execution_count": 150,
      "outputs": [
        {
          "output_type": "execute_result",
          "data": {
            "text/html": [
              "<div>\n",
              "<style scoped>\n",
              "    .dataframe tbody tr th:only-of-type {\n",
              "        vertical-align: middle;\n",
              "    }\n",
              "\n",
              "    .dataframe tbody tr th {\n",
              "        vertical-align: top;\n",
              "    }\n",
              "\n",
              "    .dataframe thead th {\n",
              "        text-align: right;\n",
              "    }\n",
              "</style>\n",
              "<table border=\"1\" class=\"dataframe\">\n",
              "  <thead>\n",
              "    <tr style=\"text-align: right;\">\n",
              "      <th></th>\n",
              "      <th>totalamount</th>\n",
              "      <th>totalTrf</th>\n",
              "    </tr>\n",
              "  </thead>\n",
              "  <tbody>\n",
              "    <tr>\n",
              "      <th>0</th>\n",
              "      <td>367419.0</td>\n",
              "      <td>0</td>\n",
              "    </tr>\n",
              "    <tr>\n",
              "      <th>1</th>\n",
              "      <td>757783.5</td>\n",
              "      <td>1</td>\n",
              "    </tr>\n",
              "    <tr>\n",
              "      <th>2</th>\n",
              "      <td>21037.5</td>\n",
              "      <td>0</td>\n",
              "    </tr>\n",
              "    <tr>\n",
              "      <th>3</th>\n",
              "      <td>2169106.5</td>\n",
              "      <td>6</td>\n",
              "    </tr>\n",
              "    <tr>\n",
              "      <th>4</th>\n",
              "      <td>5752.5</td>\n",
              "      <td>0</td>\n",
              "    </tr>\n",
              "    <tr>\n",
              "      <th>...</th>\n",
              "      <td>...</td>\n",
              "      <td>...</td>\n",
              "    </tr>\n",
              "    <tr>\n",
              "      <th>1562</th>\n",
              "      <td>147750.0</td>\n",
              "      <td>0</td>\n",
              "    </tr>\n",
              "    <tr>\n",
              "      <th>1563</th>\n",
              "      <td>45054.9</td>\n",
              "      <td>0</td>\n",
              "    </tr>\n",
              "    <tr>\n",
              "      <th>1564</th>\n",
              "      <td>100122.0</td>\n",
              "      <td>0</td>\n",
              "    </tr>\n",
              "    <tr>\n",
              "      <th>1565</th>\n",
              "      <td>143220.0</td>\n",
              "      <td>0</td>\n",
              "    </tr>\n",
              "    <tr>\n",
              "      <th>1566</th>\n",
              "      <td>871020.8</td>\n",
              "      <td>3</td>\n",
              "    </tr>\n",
              "  </tbody>\n",
              "</table>\n",
              "<p>1567 rows × 2 columns</p>\n",
              "</div>"
            ],
            "text/plain": [
              "      totalamount  totalTrf\n",
              "0        367419.0         0\n",
              "1        757783.5         1\n",
              "2         21037.5         0\n",
              "3       2169106.5         6\n",
              "4          5752.5         0\n",
              "...           ...       ...\n",
              "1562     147750.0         0\n",
              "1563      45054.9         0\n",
              "1564     100122.0         0\n",
              "1565     143220.0         0\n",
              "1566     871020.8         3\n",
              "\n",
              "[1567 rows x 2 columns]"
            ]
          },
          "metadata": {
            "tags": []
          },
          "execution_count": 150
        }
      ]
    },
    {
      "cell_type": "code",
      "metadata": {
        "colab": {
          "base_uri": "https://localhost:8080/"
        },
        "id": "MpEdkey2e0IT",
        "outputId": "91ecd26f-4668-49c2-cf2b-a0bebf5561a2"
      },
      "source": [
        "#con el test de kaglle\r\n",
        "preds = xg_reg.predict(dftestt)\r\n",
        "preds "
      ],
      "execution_count": 151,
      "outputs": [
        {
          "output_type": "execute_result",
          "data": {
            "text/plain": [
              "array([0.534768  , 0.39591077, 0.6522572 , ..., 0.6522572 , 0.55602616,\n",
              "       0.3828056 ], dtype=float32)"
            ]
          },
          "metadata": {
            "tags": []
          },
          "execution_count": 151
        }
      ]
    },
    {
      "cell_type": "code",
      "metadata": {
        "colab": {
          "base_uri": "https://localhost:8080/",
          "height": 17
        },
        "id": "r52MTcs-jwBd",
        "outputId": "13ecfc64-2a80-47e5-e1ef-83a68047aca6"
      },
      "source": [
        "#formar dataframe kaggle\r\n",
        "formarDfKaggle(dfTest,preds )"
      ],
      "execution_count": 175,
      "outputs": [
        {
          "output_type": "display_data",
          "data": {
            "application/javascript": [
              "\n",
              "    async function download(id, filename, size) {\n",
              "      if (!google.colab.kernel.accessAllowed) {\n",
              "        return;\n",
              "      }\n",
              "      const div = document.createElement('div');\n",
              "      const label = document.createElement('label');\n",
              "      label.textContent = `Downloading \"${filename}\": `;\n",
              "      div.appendChild(label);\n",
              "      const progress = document.createElement('progress');\n",
              "      progress.max = size;\n",
              "      div.appendChild(progress);\n",
              "      document.body.appendChild(div);\n",
              "\n",
              "      const buffers = [];\n",
              "      let downloaded = 0;\n",
              "\n",
              "      const channel = await google.colab.kernel.comms.open(id);\n",
              "      // Send a message to notify the kernel that we're ready.\n",
              "      channel.send({})\n",
              "\n",
              "      for await (const message of channel.messages) {\n",
              "        // Send a message to notify the kernel that we're ready.\n",
              "        channel.send({})\n",
              "        if (message.buffers) {\n",
              "          for (const buffer of message.buffers) {\n",
              "            buffers.push(buffer);\n",
              "            downloaded += buffer.byteLength;\n",
              "            progress.value = downloaded;\n",
              "          }\n",
              "        }\n",
              "      }\n",
              "      const blob = new Blob(buffers, {type: 'application/binary'});\n",
              "      const a = document.createElement('a');\n",
              "      a.href = window.URL.createObjectURL(blob);\n",
              "      a.download = filename;\n",
              "      div.appendChild(a);\n",
              "      a.click();\n",
              "      div.remove();\n",
              "    }\n",
              "  "
            ],
            "text/plain": [
              "<IPython.core.display.Javascript object>"
            ]
          },
          "metadata": {
            "tags": []
          }
        },
        {
          "output_type": "display_data",
          "data": {
            "application/javascript": [
              "download(\"download_93160f65-7019-48ed-90f1-41edaed037d1\", \"dfKaggle.csv\", 25707)"
            ],
            "text/plain": [
              "<IPython.core.display.Javascript object>"
            ]
          },
          "metadata": {
            "tags": []
          }
        }
      ]
    },
    {
      "cell_type": "code",
      "metadata": {
        "id": "LratTXltsau7"
      },
      "source": [
        ""
      ],
      "execution_count": null,
      "outputs": []
    },
    {
      "cell_type": "code",
      "metadata": {
        "id": "uqo4mrXOghEJ"
      },
      "source": [
        " #YA NO LEER"
      ],
      "execution_count": 169,
      "outputs": []
    },
    {
      "cell_type": "code",
      "metadata": {
        "colab": {
          "base_uri": "https://localhost:8080/"
        },
        "id": "chTner_g01xY",
        "outputId": "6d9c009f-67e4-4378-899e-f172cfadb11f"
      },
      "source": [
        "dfTest.groupby('target')['target'].value_counts()"
      ],
      "execution_count": null,
      "outputs": [
        {
          "output_type": "execute_result",
          "data": {
            "text/plain": [
              "target  target\n",
              "0.0     0.0       2530\n",
              "0.5     0.5         21\n",
              "Name: target, dtype: int64"
            ]
          },
          "metadata": {
            "tags": []
          },
          "execution_count": 33
        }
      ]
    },
    {
      "cell_type": "code",
      "metadata": {
        "colab": {
          "base_uri": "https://localhost:8080/"
        },
        "id": "Z9sSoYsZ2X05",
        "outputId": "3a3a8139-afc0-462f-9bb6-acb5b3220812"
      },
      "source": [
        "from google.colab import  drive\r\n",
        "drive.mount('/drive')\r\n",
        "\r\n",
        "dfTest.to_csv('kaggletest.csv') "
      ],
      "execution_count": null,
      "outputs": [
        {
          "output_type": "stream",
          "text": [
            "Drive already mounted at /drive; to attempt to forcibly remount, call drive.mount(\"/drive\", force_remount=True).\n"
          ],
          "name": "stdout"
        }
      ]
    },
    {
      "cell_type": "code",
      "metadata": {
        "colab": {
          "base_uri": "https://localhost:8080/"
        },
        "id": "wEekbMq41Sdk",
        "outputId": "9c99d8d9-6134-481b-f32a-8a85bdb06eef"
      },
      "source": [
        "!ls"
      ],
      "execution_count": null,
      "outputs": [
        {
          "output_type": "stream",
          "text": [
            "adc.json  data.csv  kaggletest.csv  sample_data  test.csv\n"
          ],
          "name": "stdout"
        }
      ]
    },
    {
      "cell_type": "code",
      "metadata": {
        "colab": {
          "base_uri": "https://localhost:8080/",
          "height": 229
        },
        "id": "knr6GfrI0Bf8",
        "outputId": "8c1dd89a-3238-4590-8e46-8983fe0ec987"
      },
      "source": [
        "dfTest = pd.DataFrame( diccionario)\r\n",
        "\r\n",
        "\r\n",
        " "
      ],
      "execution_count": null,
      "outputs": [
        {
          "output_type": "error",
          "ename": "NameError",
          "evalue": "ignored",
          "traceback": [
            "\u001b[0;31m---------------------------------------------------------------------------\u001b[0m",
            "\u001b[0;31mNameError\u001b[0m                                 Traceback (most recent call last)",
            "\u001b[0;32m<ipython-input-167-9b41ceab8874>\u001b[0m in \u001b[0;36m<module>\u001b[0;34m()\u001b[0m\n\u001b[0;32m----> 1\u001b[0;31m \u001b[0mdfTest\u001b[0m \u001b[0;34m=\u001b[0m \u001b[0mpd\u001b[0m\u001b[0;34m.\u001b[0m\u001b[0mDataFrame\u001b[0m\u001b[0;34m(\u001b[0m \u001b[0mdiccionario\u001b[0m\u001b[0;34m)\u001b[0m\u001b[0;34m\u001b[0m\u001b[0;34m\u001b[0m\u001b[0m\n\u001b[0m\u001b[1;32m      2\u001b[0m \u001b[0;34m\u001b[0m\u001b[0m\n\u001b[1;32m      3\u001b[0m \u001b[0;34m\u001b[0m\u001b[0m\n\u001b[1;32m      4\u001b[0m \u001b[0;34m\u001b[0m\u001b[0m\n",
            "\u001b[0;31mNameError\u001b[0m: name 'diccionario' is not defined"
          ]
        }
      ]
    },
    {
      "cell_type": "code",
      "metadata": {
        "id": "7vYuxnL_1I8j"
      },
      "source": [
        "df.to_csv(index=False)"
      ],
      "execution_count": null,
      "outputs": []
    },
    {
      "cell_type": "code",
      "metadata": {
        "id": "0Blx3mgbkZDq"
      },
      "source": [
        "entrenamiento[['stage2']].value_counts()"
      ],
      "execution_count": null,
      "outputs": []
    },
    {
      "cell_type": "code",
      "metadata": {
        "id": "EzPVzSdOvggJ"
      },
      "source": [
        "test[['Total_Amount','TRF']]"
      ],
      "execution_count": null,
      "outputs": []
    },
    {
      "cell_type": "code",
      "metadata": {
        "id": "T0MDt1SFvgrt"
      },
      "source": [
        ""
      ],
      "execution_count": null,
      "outputs": []
    },
    {
      "cell_type": "code",
      "metadata": {
        "id": "R5S_uxy3kZRH"
      },
      "source": [
        "from sklearn.datasets import make_hastie_10_2\r\n",
        "from sklearn.ensemble import GradientBoostingClassifier"
      ],
      "execution_count": null,
      "outputs": []
    },
    {
      "cell_type": "code",
      "metadata": {
        "id": "i3SyIMRnvVru"
      },
      "source": [
        "X, y = make_hastie_10_2(random_state=0)\r\n",
        "X_train, X_test = X[:2000], X[2000:]\r\n",
        "y_train, y_test = y[:2000], y[2000:]"
      ],
      "execution_count": null,
      "outputs": []
    },
    {
      "cell_type": "code",
      "metadata": {
        "id": "FhoLE10tkXCn"
      },
      "source": [
        " "
      ],
      "execution_count": null,
      "outputs": []
    },
    {
      "cell_type": "code",
      "metadata": {
        "id": "NXKAJsNTktqK"
      },
      "source": [
        "entrenamiento=entrenamiento.loc[(entrenamiento['Stage']=='Closed Lost' ) | (entrenamiento['Stage']=='Closed Won'),: ]"
      ],
      "execution_count": null,
      "outputs": []
    },
    {
      "cell_type": "code",
      "metadata": {
        "id": "JRiKVap3BXrQ"
      },
      "source": [
        "#vemos que por cada oportunidad tenemos un solo termino de envio\n",
        "entrenamiento.groupby(['Opportunity_Name','Delivery_Terms','Stage']).agg(cantidad=('Stage','count')).sample(2)"
      ],
      "execution_count": null,
      "outputs": []
    },
    {
      "cell_type": "code",
      "metadata": {
        "id": "eIHqRsbePyVA"
      },
      "source": [
        ""
      ],
      "execution_count": null,
      "outputs": []
    },
    {
      "cell_type": "markdown",
      "metadata": {
        "id": "IlroQew8fgmA"
      },
      "source": [
        "#cantidad de oportunidades por termino de envio"
      ]
    },
    {
      "cell_type": "code",
      "metadata": {
        "id": "H2_SCTqLCJrw"
      },
      "source": [
        "opportunity_deliverTerms_stage=entrenamiento.groupby(['Opportunity_Name','Delivery_Terms','Stage']).agg(cantidad=('Stage','count'))\\\n",
        ".reset_index()[['Opportunity_Name','Delivery_Terms','Stage']]\n",
        "opportunity_deliverTerms_stage.head(2)"
      ],
      "execution_count": null,
      "outputs": []
    },
    {
      "cell_type": "code",
      "metadata": {
        "id": "V_unt4MKIyaP"
      },
      "source": [
        "#voy a filtrar por los terminos que tengan mas de 40 casos de oportunidad dentro de cada termino\n",
        "opportunity_deliverTerms_stage.groupby(['Delivery_Terms']).size()"
      ],
      "execution_count": null,
      "outputs": []
    },
    {
      "cell_type": "code",
      "metadata": {
        "id": "JUgzwhcRJLZZ"
      },
      "source": [
        "#ya filtrado\n",
        "opportunity_deliverTerms_stage=opportunity_deliverTerms_stage.groupby(['Delivery_Terms']).filter(lambda x: x['Opportunity_Name'].count()>40)\n",
        "opportunity_deliverTerms_stage.head(1)"
      ],
      "execution_count": null,
      "outputs": []
    },
    {
      "cell_type": "code",
      "metadata": {
        "id": "PPxYB3jMMidf"
      },
      "source": [
        "opportunity_deliverTerms=opportunity_deliverTerms_stage.groupby( 'Delivery_Terms').agg(cantidad_oportunidades=('Delivery_Terms','count')).reset_index()\n",
        "opportunity_deliverTerms.head(10)"
      ],
      "execution_count": null,
      "outputs": []
    },
    {
      "cell_type": "code",
      "metadata": {
        "id": "yoy2sbl0m5W_"
      },
      "source": [
        "opportunity_deliverTerms.replace({'Delivery_Terms_1': 'Delivery Terms 1' \t}, inplace=True)\n",
        "opportunity_deliverTerms.replace({'Delivery_Terms_2': 'Delivery Terms 2' \t}, inplace=True)\n",
        "opportunity_deliverTerms.replace({'Delivery_Terms_4': 'Delivery Terms 4' \t}, inplace=True)\n",
        "opportunity_deliverTerms.replace({'Delivery_Terms_5': 'Delivery Terms 5' \t}, inplace=True)\n",
        "opportunity_deliverTerms.replace({'Delivery_Terms_6': 'Delivery Terms 6' \t}, inplace=True)\n",
        "opportunity_deliverTerms.replace({'Delivery_Terms_8': 'Delivery Terms 8' \t}, inplace=True)"
      ],
      "execution_count": null,
      "outputs": []
    },
    {
      "cell_type": "code",
      "metadata": {
        "id": "FccJZl2SoYy7"
      },
      "source": [
        ""
      ],
      "execution_count": null,
      "outputs": []
    },
    {
      "cell_type": "markdown",
      "metadata": {
        "id": "1L1-Rd5iocvP"
      },
      "source": [
        "#Hay alguna preferencia en cuanto a la cantidad de oportunidades de acuerdo al termino de envio?"
      ]
    },
    {
      "cell_type": "code",
      "metadata": {
        "id": "ul33oGkVNimK"
      },
      "source": [
        "fig, ax = plt.subplots(figsize=(12,11))\n",
        "g=sns.barplot(data=opportunity_deliverTerms.nlargest(10,'cantidad_oportunidades'), x=\"Delivery_Terms\", y=\"cantidad_oportunidades\",ax=ax)\n",
        "g.set_title(\"Cantidad de Oportunidades por Termino de Envio\", fontsize=22)\n",
        "g.set_xlabel(\"Terminos de Envio\",fontsize=15)\n",
        "g.set_ylabel(\" Cantidad de Oportunidades\"\t, fontsize=15)"
      ],
      "execution_count": null,
      "outputs": []
    },
    {
      "cell_type": "markdown",
      "metadata": {
        "id": "XqswpNCaon5C"
      },
      "source": [
        "#Conclusion: El termino de envio 4 , 2 y 1 son los que tienen mas oportunidades, esto debe ser alguna facilidad o ventaja en el envio que provee estos con respecto a los otros."
      ]
    },
    {
      "cell_type": "markdown",
      "metadata": {
        "id": "--ITLpnzQI0j"
      },
      "source": [
        ""
      ]
    },
    {
      "cell_type": "markdown",
      "metadata": {
        "id": "3NQaF0s2d7eI"
      },
      "source": [
        ""
      ]
    },
    {
      "cell_type": "markdown",
      "metadata": {
        "id": "MSV9zWc2d7ov"
      },
      "source": [
        "#tasa de closed won por termino de envio y Cantidad de stage por tipo de termino de delivery\n",
        "\n"
      ]
    },
    {
      "cell_type": "code",
      "metadata": {
        "id": "XiGXAYGPhutg"
      },
      "source": [
        "opportunity_deliverTerms_stage=entrenamiento.groupby(['Opportunity_Name','Delivery_Terms','Stage']).agg(cantidad=('Stage','count'))\\\n",
        ".reset_index()[['Opportunity_Name','Delivery_Terms','Stage']]\n",
        " \n"
      ],
      "execution_count": null,
      "outputs": []
    },
    {
      "cell_type": "code",
      "metadata": {
        "id": "WsaMA8k4ecL0"
      },
      "source": [
        "entrenamiento.groupby(['Opportunity_Name','Delivery_Terms','Stage']).agg(cantidad=('Stage','count'))\\\n",
        ".reset_index()[['Opportunity_Name','Delivery_Terms','Stage']]"
      ],
      "execution_count": null,
      "outputs": []
    },
    {
      "cell_type": "code",
      "metadata": {
        "id": "cf1l5FQDh-xG"
      },
      "source": [
        "opportunity_deliverTerms_stage=opportunity_deliverTerms_stage.groupby(['Delivery_Terms']).filter(lambda x: x['Opportunity_Name'].count()>40)\n"
      ],
      "execution_count": null,
      "outputs": []
    },
    {
      "cell_type": "code",
      "metadata": {
        "id": "V4tWNoQqHHWM"
      },
      "source": [
        "opportunity_deliverTerms_stage.groupby(['Delivery_Terms'])['Delivery_Terms'].transform('size')"
      ],
      "execution_count": null,
      "outputs": []
    },
    {
      "cell_type": "code",
      "metadata": {
        "id": "BtuhhMjBHcI1"
      },
      "source": [
        "opportunity_deliverTerms_stage.groupby(['Delivery_Terms','Stage'])['Stage'].size()"
      ],
      "execution_count": null,
      "outputs": []
    },
    {
      "cell_type": "code",
      "metadata": {
        "id": "19WB_oI6Qb6_"
      },
      "source": [
        "cant_opportunity_deliverTerms=opportunity_deliverTerms_stage.groupby(['Delivery_Terms','Stage'])\\\n",
        ".agg(cantidad=('Stage','count')).unstack()\n",
        "cant_opportunity_deliverTerms.columns=cant_opportunity_deliverTerms.columns.droplevel()"
      ],
      "execution_count": null,
      "outputs": []
    },
    {
      "cell_type": "code",
      "metadata": {
        "id": "IEV1a5VLRWFa"
      },
      "source": [
        "#conseguimos tasa por delivery terms\n",
        "cant_opportunity_deliverTerms['tasa_won']=cant_opportunity_deliverTerms['Closed Won'] /(cant_opportunity_deliverTerms['Closed Lost']\\\n",
        "                                                                                        +cant_opportunity_deliverTerms[ 'Closed Won' ] )\n",
        "cant_opportunity_deliverTerms=cant_opportunity_deliverTerms.reset_index()"
      ],
      "execution_count": null,
      "outputs": []
    },
    {
      "cell_type": "code",
      "metadata": {
        "id": "QwtiyxpFzWBL"
      },
      "source": [
        "cant_opportunity_deliverTerms.replace({'Delivery_Terms_1': 'Delivery Terms 1' \t}, inplace=True)\n",
        "cant_opportunity_deliverTerms.replace({'Delivery_Terms_2': 'Delivery Terms 2' \t}, inplace=True)\n",
        "cant_opportunity_deliverTerms.replace({'Delivery_Terms_4': 'Delivery Terms 4' \t}, inplace=True)\n",
        "cant_opportunity_deliverTerms.replace({'Delivery_Terms_5': 'Delivery Terms 5' \t}, inplace=True)\n",
        "cant_opportunity_deliverTerms.replace({'Delivery_Terms_6': 'Delivery Terms 6' \t}, inplace=True)\n",
        "cant_opportunity_deliverTerms.replace({'Delivery_Terms_8': 'Delivery Terms 8' \t}, inplace=True)"
      ],
      "execution_count": null,
      "outputs": []
    },
    {
      "cell_type": "code",
      "metadata": {
        "id": "M6b2DICpuZaD"
      },
      "source": [
        "cant_opportunity_deliverTerms"
      ],
      "execution_count": null,
      "outputs": []
    },
    {
      "cell_type": "markdown",
      "metadata": {
        "id": "Vpy8uit009ez"
      },
      "source": [
        ""
      ]
    },
    {
      "cell_type": "code",
      "metadata": {
        "id": "zzstpv0waJT2"
      },
      "source": [
        "df=cant_opportunity_deliverTerms\n",
        "df2=cant_opportunity_deliverTerms[['Delivery_Terms','Closed Lost','Closed Won']].set_index('Delivery_Terms')\n",
        "\n",
        "fig, ax = plt.subplots(figsize=(15,12))\n",
        "\n",
        "\n",
        "#fig = plt.figure()\n",
        "#fig.subplots_adjust(bottom=0.025, left=0.025, top = 0.975, right=0.975)\n",
        "#ax1=plt.subplot(2, 3, 4)\n",
        "\n",
        " \n",
        "#g = sns.barplot(x=df['Opportunity_Name'], y=df['total_trf_with_opportunity'],hue=\"Stage\",data=df,ax=ax)\n",
        "g = sns.heatmap(  data=df2,vmin=0, cmap=\"YlGnBu\",ax=ax)\n",
        "g.set_title(\"Cantidad de Estados  por Tipo de Termino de Envio \", fontsize=20)\n",
        "g.set_ylabel(\"Termino de envio\", fontsize=18)\n",
        "g.set_xlabel(\"Tipo de Estado \", fontsize=18)\n",
        "\n",
        "#ax1=plt.xticks(())\n",
        "#ax1=plt.yticks(()) \n",
        "\n",
        "\n",
        "#ax2=plt.subplot(2, 3, 5)\n",
        "#g = sns.barplot(x='Delivery_Terms', y='tasa_won',palette=[\"lightblue\", \"lightpink\"] ,data=df,ax=ax2)\n",
        "#g.set_title(\"Tasa de Closed Won por Termino de Envio\", fontsize=20)\n",
        "#g.set_xlabel(\"Termino de Envio\", fontsize=15)\n",
        "#g.set_ylabel(\"Tasa de Closed Won\", fontsize=15)\n",
        "#ax1=plt.xticks(())\n",
        "#ax1=plt.yticks(())\n",
        "\n",
        " \n",
        "\n",
        "plt.show()"
      ],
      "execution_count": null,
      "outputs": []
    },
    {
      "cell_type": "code",
      "metadata": {
        "id": "mgISmlVC2BdP"
      },
      "source": [
        "df=cant_opportunity_deliverTerms\n",
        "df2=cant_opportunity_deliverTerms[['Delivery_Terms','Closed Lost','Closed Won']].set_index('Delivery_Terms')\n",
        "\n",
        "fig, ax = plt.subplots(figsize=(15,12))\n",
        "\n",
        "\n",
        "#fig = plt.figure()\n",
        "#fig.subplots_adjust(bottom=0.025, left=0.025, top = 0.975, right=0.975)\n",
        "\n",
        "\n",
        "#ax2=plt.subplot(2, 3, 5)\n",
        "g = sns.barplot(x='Delivery_Terms', y='tasa_won',palette=[\"lightblue\", \"lightpink\"] ,data=df,ax=ax)\n",
        "g.set_title(\"Tasa de Closed Won por Termino de Envio\", fontsize=20)\n",
        "g.set_xlabel(\"Termino de Envio\", fontsize=15)\n",
        "g.set_ylabel(\"Tasa de Closed Won\", fontsize=15)\n",
        "#ax1=plt.xticks(())\n",
        "#ax1=plt.yticks(())\n",
        "\n",
        " \n",
        "\n",
        "plt.show()"
      ],
      "execution_count": null,
      "outputs": []
    },
    {
      "cell_type": "markdown",
      "metadata": {
        "id": "8i1d5XOT2pQX"
      },
      "source": [
        "#Conclusion: La mayor cantidad de closed Won se situan en los Terminos de Envio 2,4,1 , pero la mayor tasa de conversion se situa en los Terminos de Envio 6,5 , entonces es mas probable qure convierta con closed won si el termino de envio es 6, y quizas habria que incentivar a usar al cliente este termino de envio, ya que al final vamos al vender mas."
      ]
    },
    {
      "cell_type": "markdown",
      "metadata": {
        "id": "LmBIaHVv1cwB"
      },
      "source": [
        "##tasa de won por delivery term  por territory"
      ]
    },
    {
      "cell_type": "code",
      "metadata": {
        "id": "PUYSfLbOpKqU"
      },
      "source": [
        "opportunity_territory_deliverTerms_stage=entrenamiento.groupby(['Territory','Opportunity_Name','Delivery_Terms','Stage']).agg(cantidad=('Stage','count'))\\\n",
        ".reset_index()[['Territory','Opportunity_Name','Delivery_Terms','Stage']]\n",
        " \n"
      ],
      "execution_count": null,
      "outputs": []
    },
    {
      "cell_type": "code",
      "metadata": {
        "id": "70KWIymldcEr"
      },
      "source": [
        "entrenamiento.groupby(['Territory','Opportunity_Name','Delivery_Terms','Stage']).agg(cantidad=('Stage','count'))\\\n",
        ".reset_index()"
      ],
      "execution_count": null,
      "outputs": []
    },
    {
      "cell_type": "code",
      "metadata": {
        "id": "i-QH_b22plJh"
      },
      "source": [
        "opportunity_territory_deliverTerms_stage"
      ],
      "execution_count": null,
      "outputs": []
    },
    {
      "cell_type": "code",
      "metadata": {
        "id": "Ooq8ElqGp37-"
      },
      "source": [
        "#opportunity_deliverTerms_stage['cantidad_casos']=opportunity_deliverTerms_stage.groupby(['Territory' ])['Territory'].transform('size')\n",
        "#opportunity_deliverTerms_stage['cantidad_casos'].value_counts()\n",
        "#mayor a 80 casos por territorio para tomar la muestra confiable"
      ],
      "execution_count": null,
      "outputs": []
    },
    {
      "cell_type": "markdown",
      "metadata": {
        "id": "R7DMmz5xrCzB"
      },
      "source": [
        ""
      ]
    },
    {
      "cell_type": "code",
      "metadata": {
        "id": "ioNnP6cIpKqb"
      },
      "source": [
        "opportunity_territory_deliverTerms_stage=opportunity_territory_deliverTerms_stage.groupby(['Territory']).filter(lambda x: x['Territory'].count()>80)\n"
      ],
      "execution_count": null,
      "outputs": []
    },
    {
      "cell_type": "code",
      "metadata": {
        "id": "pOa2JtyRpKqh"
      },
      "source": [
        "opportunity_territory_deliverTerms_stage.groupby(['Delivery_Terms'])['Delivery_Terms'].transform('size')"
      ],
      "execution_count": null,
      "outputs": []
    },
    {
      "cell_type": "code",
      "metadata": {
        "id": "8s8FiBy4pKqm"
      },
      "source": [
        "opportunity_territory_deliverTerms_stage.groupby(['Territory','Delivery_Terms','Stage'])['Stage'].size()"
      ],
      "execution_count": null,
      "outputs": []
    },
    {
      "cell_type": "code",
      "metadata": {
        "id": "G162jnbwpKq0"
      },
      "source": [
        "cant_opportunity_territory__deliverTerms=opportunity_territory_deliverTerms_stage.groupby(['Territory','Delivery_Terms','Stage'])\\\n",
        ".agg(cantidad=('Stage','count')).unstack()\n",
        "cant_opportunity_territory__deliverTerms.columns=cant_opportunity_territory__deliverTerms.columns.droplevel()"
      ],
      "execution_count": null,
      "outputs": []
    },
    {
      "cell_type": "code",
      "metadata": {
        "id": "hgmt2_BtpKq4"
      },
      "source": [
        "#conseguimos tasa por delivery terms\n",
        "cant_opportunity_territory__deliverTerms['tasa_won']=cant_opportunity_territory__deliverTerms['Closed Won'] /(cant_opportunity_territory__deliverTerms['Closed Lost']\\\n",
        "                                                                                        +cant_opportunity_territory__deliverTerms[ 'Closed Won' ] )\n",
        "cant_opportunity_territory__deliverTerms=cant_opportunity_territory__deliverTerms.reset_index()"
      ],
      "execution_count": null,
      "outputs": []
    },
    {
      "cell_type": "code",
      "metadata": {
        "id": "RWgQT6sMuIm1"
      },
      "source": [
        "cant_opportunity_territory__deliverTerms.groupby('Territory').size()"
      ],
      "execution_count": null,
      "outputs": []
    },
    {
      "cell_type": "code",
      "metadata": {
        "id": "PDKIbCCTpKq7"
      },
      "source": [
        "#aca agarramos los  que tienen mas casos para mostrar\n",
        "top_7_territory_ca=cant_opportunity_territory__deliverTerms.fillna(0).groupby('Territory').agg(cantidad=('Territory','count')).nlargest(7,'cantidad').reset_index()"
      ],
      "execution_count": null,
      "outputs": []
    },
    {
      "cell_type": "code",
      "metadata": {
        "id": "LDwuIvLBxvfy"
      },
      "source": [
        "top_7_territory_ca"
      ],
      "execution_count": null,
      "outputs": []
    },
    {
      "cell_type": "code",
      "metadata": {
        "id": "uP8-GIh9xf51"
      },
      "source": [
        "list_top7_territory=top_7_territory_ca['Territory'].to_list()"
      ],
      "execution_count": null,
      "outputs": []
    },
    {
      "cell_type": "code",
      "metadata": {
        "id": "aTfYecPXx54Z"
      },
      "source": [
        "cant_opportunity_territory__deliverTerms=cant_opportunity_territory__deliverTerms.loc[cant_opportunity_territory__deliverTerms['Territory'].isin(list_top7_territory),:]"
      ],
      "execution_count": null,
      "outputs": []
    },
    {
      "cell_type": "code",
      "metadata": {
        "id": "rGMSpVyjpKOI"
      },
      "source": [
        "cant_opportunity_territory__deliverTerms=cant_opportunity_territory__deliverTerms.fillna(0)"
      ],
      "execution_count": null,
      "outputs": []
    },
    {
      "cell_type": "code",
      "metadata": {
        "id": "jsuK62wwtZWq"
      },
      "source": [
        "df=cant_opportunity_territory__deliverTerms "
      ],
      "execution_count": null,
      "outputs": []
    },
    {
      "cell_type": "code",
      "metadata": {
        "id": "hsX8gBYEtzm6"
      },
      "source": [
        "df"
      ],
      "execution_count": null,
      "outputs": []
    },
    {
      "cell_type": "code",
      "metadata": {
        "id": "qDjKQrf26elO"
      },
      "source": [
        "df=df.loc[  df['Territory']!=\"None\",: ]"
      ],
      "execution_count": null,
      "outputs": []
    },
    {
      "cell_type": "markdown",
      "metadata": {
        "id": "kYfqf_cyFXCW"
      },
      "source": [
        ""
      ]
    },
    {
      "cell_type": "markdown",
      "metadata": {
        "id": "DeqQ9bVO-ejB"
      },
      "source": [
        "Cual son los territorios con mayor tasa de Closed Won de Termino de Envio? "
      ]
    },
    {
      "cell_type": "code",
      "metadata": {
        "id": "EqZgKbjvtdit"
      },
      "source": [
        "fig, ax = plt.subplots(figsize=(12,11))\n",
        "\n",
        "g= sns.boxplot(y='tasa_won', x='Territory', \n",
        "                 data=df, \n",
        "                 width=0.5,\n",
        "                 palette=\"colorblind\", ax=ax)\n",
        "\n",
        "\n",
        "g.set_title(\"Top 6 Tasa de Closed Won por Termino de Envio  por Territorio \", fontsize=20)\n",
        "g.set_xlabel(\"Territorio\", fontsize=18)\n",
        "g.set_ylabel(\"Tasa de Closed Won por Termino de Envio\", fontsize=18)\n",
        "plt.show()"
      ],
      "execution_count": null,
      "outputs": []
    },
    {
      "cell_type": "markdown",
      "metadata": {
        "id": "ElMooAeQ-9Eu"
      },
      "source": [
        "Vemos que el Territorio con mayor tasa de won promedio por termino de envio e Germany  pero  sus tasas de closed won  es muy dispersa. NW America  no tendra la tasa promedio de closed won mas alta pero  no es tan dispersa.Por lo tanto un oportunidad que se envia por tipo termino de envio en alguno de estos territorios tendra mayor tasa de closed won."
      ]
    },
    {
      "cell_type": "code",
      "metadata": {
        "id": "mtFXrvCK-Vrh"
      },
      "source": [
        ""
      ],
      "execution_count": null,
      "outputs": []
    },
    {
      "cell_type": "markdown",
      "metadata": {
        "id": "PAgSULJ36aWm"
      },
      "source": [
        ""
      ]
    },
    {
      "cell_type": "code",
      "metadata": {
        "id": "9DJmPulPoMkF"
      },
      "source": [
        ""
      ],
      "execution_count": null,
      "outputs": []
    },
    {
      "cell_type": "markdown",
      "metadata": {
        "id": "qV3cWdLTmW_z"
      },
      "source": [
        "## Afecta  el mes  para la tasa de negociacion de la venta  ?\n",
        "\n",
        "\n",
        "\n"
      ]
    },
    {
      "cell_type": "code",
      "metadata": {
        "id": "CwlpExxM8Q-m"
      },
      "source": [
        "entrenamiento.groupby(['mes','Stage']).agg(cant=('ID','count'))"
      ],
      "execution_count": null,
      "outputs": []
    },
    {
      "cell_type": "code",
      "metadata": {
        "id": "UWr_gaRW8dCj"
      },
      "source": [
        "#vemos que cada mes puede tener muchas oportunidades- por lo tanto su stagte segun la oportunidad\n",
        "entrenamiento[['mes','Opportunity_Owner','TRF','Stage','Opportunity_Name','Account_Type']]\\\n",
        ".groupby(['mes','Opportunity_Name','Stage'])\\\n",
        ".agg(cantidad=('Stage','count')).head(10)"
      ],
      "execution_count": null,
      "outputs": []
    },
    {
      "cell_type": "code",
      "metadata": {
        "id": "FF3DT_jq-bt0"
      },
      "source": [
        "\n",
        "mes_opportunity_stage=entrenamiento[['mes','Opportunity_Owner','TRF','Stage','Opportunity_Name','Account_Type']]\\\n",
        ".groupby(['mes','Opportunity_Name','Stage'])\\\n",
        ".agg(cantidad=('Stage','count'))"
      ],
      "execution_count": null,
      "outputs": []
    },
    {
      "cell_type": "code",
      "metadata": {
        "id": "Y70kR4_M-u2S"
      },
      "source": [
        "mes_opportunity_stage=mes_opportunity_stage.reset_index()[['mes','Opportunity_Name','Stage']]"
      ],
      "execution_count": null,
      "outputs": []
    },
    {
      "cell_type": "code",
      "metadata": {
        "id": "_0HFHezr-8j0"
      },
      "source": [
        "mes_cant_stage=mes_opportunity_stage.groupby(['mes','Stage']).agg(cantidad=('Stage','count')).unstack()\n",
        "mes_cant_stage.columns=['Closed Lost','Closed Won']"
      ],
      "execution_count": null,
      "outputs": []
    },
    {
      "cell_type": "code",
      "metadata": {
        "id": "iSP1h4V5AzFf"
      },
      "source": [
        "tasa_mes_cant_stage= mes_cant_stage['Closed Won'] / (mes_cant_stage['Closed Lost'] + mes_cant_stage['Closed Won'])"
      ],
      "execution_count": null,
      "outputs": []
    },
    {
      "cell_type": "code",
      "metadata": {
        "id": "YT0f2eGaBSg9"
      },
      "source": [
        "tasa_mes_cant_stage=tasa_mes_cant_stage.to_frame()"
      ],
      "execution_count": null,
      "outputs": []
    },
    {
      "cell_type": "code",
      "metadata": {
        "id": "NHkGqCmpBuXQ"
      },
      "source": [
        "tasa_mes_cant_stage.columns=['tasa_won']"
      ],
      "execution_count": null,
      "outputs": []
    },
    {
      "cell_type": "code",
      "metadata": {
        "id": "GDYm6fOKBht2"
      },
      "source": [
        "tasa_mes_cant_stage=tasa_mes_cant_stage.reset_index()"
      ],
      "execution_count": null,
      "outputs": []
    },
    {
      "cell_type": "code",
      "metadata": {
        "id": "qsC0GAhyQonw"
      },
      "source": [
        "Como es la Tasa de Closed Won por Mes?"
      ],
      "execution_count": null,
      "outputs": []
    },
    {
      "cell_type": "markdown",
      "metadata": {
        "id": "W6diVg_lQv36"
      },
      "source": [
        "#Como es la Tasa de Closed Won por Mes?"
      ]
    },
    {
      "cell_type": "code",
      "metadata": {
        "id": "h3jboy8Y2BdZ"
      },
      "source": [
        "fig, ax = plt.subplots(figsize=(12,11))\n",
        "g=sns.lineplot(data=tasa_mes_cant_stage, x=\"mes\", y=\"tasa_won\",ax=ax)\n",
        "g.set_title(\"Tasa de Closed Won por Mes\", fontsize=22)\n",
        "g.set_xlabel(\"Mes\",fontsize=15)\n",
        "g.set_ylabel(\" Tasa de Closed Won \", fontsize=15)"
      ],
      "execution_count": null,
      "outputs": []
    },
    {
      "cell_type": "markdown",
      "metadata": {
        "id": "aMyfkh9FmkMD"
      },
      "source": [
        "Se observa que la tasa de Closed Won en especial vemos desde el mes 10 a 12 aumenta hasta llegar a un pico de 0.62 en el mes diciembre, si queremos mas closed won , este mes es el indicado"
      ]
    },
    {
      "cell_type": "code",
      "metadata": {
        "id": "o-FIDoQqTrS8"
      },
      "source": [
        ""
      ],
      "execution_count": null,
      "outputs": []
    },
    {
      "cell_type": "markdown",
      "metadata": {
        "id": "0u1DDlucTro_"
      },
      "source": [
        ""
      ]
    },
    {
      "cell_type": "markdown",
      "metadata": {
        "id": "y0Wor2xNTr7_"
      },
      "source": [
        "## Afecta  el mes  para la negociacion(Stage) de la venta de la oportunidad?\n",
        "\n",
        "\n",
        "\n"
      ]
    },
    {
      "cell_type": "code",
      "metadata": {
        "id": "xzYSO1NgCxlD"
      },
      "source": [
        "mes_opportunity_stage=entrenamiento[['mes','Opportunity_Owner','TRF','Stage','Opportunity_Name','Account_Type']]\\\n",
        ".groupby(['mes','Opportunity_Name','Stage'])\\\n",
        ".agg(cantidad=('Stage','count'))\\\n"
      ],
      "execution_count": null,
      "outputs": []
    },
    {
      "cell_type": "code",
      "metadata": {
        "id": "nYxLpwveDkNK"
      },
      "source": [
        "mes_opportunity_stage=mes_opportunity_stage.reset_index()[['mes','Opportunity_Name','Stage']].groupby(['mes','Stage']).agg(cantidad=('Stage','count')).reset_index()"
      ],
      "execution_count": null,
      "outputs": []
    },
    {
      "cell_type": "code",
      "metadata": {
        "id": "fsHcBiVZQM-3"
      },
      "source": [
        "mes_opportunity_stage.head(2)"
      ],
      "execution_count": null,
      "outputs": []
    },
    {
      "cell_type": "code",
      "metadata": {
        "id": "nHtJ-ppyO5O-"
      },
      "source": [
        ""
      ],
      "execution_count": null,
      "outputs": []
    },
    {
      "cell_type": "markdown",
      "metadata": {
        "id": "g-Ee1sqCXq1_"
      },
      "source": [
        "## Afecta  el mes  para la negociacion(Stage) de la venta de la oportunidad?\n"
      ]
    },
    {
      "cell_type": "code",
      "metadata": {
        "id": "e-SfM9lXQG8l"
      },
      "source": [
        "fig, ax = plt.subplots(figsize=(17,11))\n",
        "df= mes_opportunity_stage\n",
        "g = sns.barplot(x=df['mes'], y=df['cantidad'] ,hue='Stage',data=df,ax=ax)\n",
        "g.set_title(\"Cantidad de Oportunidades por Etapa por Mes \", fontsize=20)\n",
        "g.set_xlabel(\"Mes\", fontsize=18)\n",
        "g.set_ylabel(\"Cantidad de Oportunidades por Etapa\", fontsize=18)\n",
        "plt.show"
      ],
      "execution_count": null,
      "outputs": []
    },
    {
      "cell_type": "markdown",
      "metadata": {
        "id": "2_VJkIIHW4NM"
      },
      "source": [
        "Vemos en particular que en el mes 12 la cantidad de closed won sobre lost es mayor al 30 por ciento, esto es porque la tasa de conversion de closed won es mayor en diciembre, es el mes donde se mas se realiza closed won, se tendria que conseguir mas oportunidades para ese mes en especial. "
      ]
    },
    {
      "cell_type": "code",
      "metadata": {
        "id": "FLNt4OuFTKqN"
      },
      "source": [
        ""
      ],
      "execution_count": null,
      "outputs": []
    },
    {
      "cell_type": "markdown",
      "metadata": {
        "id": "4Iwl5C2ahQvv"
      },
      "source": [
        ""
      ]
    },
    {
      "cell_type": "code",
      "metadata": {
        "id": "Ark8azYoiPyh"
      },
      "source": [
        ""
      ],
      "execution_count": null,
      "outputs": []
    },
    {
      "cell_type": "code",
      "metadata": {
        "id": "jfHCxVlyiP1O"
      },
      "source": [
        ""
      ],
      "execution_count": null,
      "outputs": []
    },
    {
      "cell_type": "code",
      "metadata": {
        "id": "Rv92-FSkiP37"
      },
      "source": [
        ""
      ],
      "execution_count": null,
      "outputs": []
    },
    {
      "cell_type": "markdown",
      "metadata": {
        "id": "M-jdU49MmdNA"
      },
      "source": [
        "#Cantidad de oportunidades por stage por anio  y Tasa de closed_won por Anio"
      ]
    },
    {
      "cell_type": "code",
      "metadata": {
        "id": "JfL6hN9SS4U-"
      },
      "source": [
        "entrenamiento = pd.read_csv('data.csv')\n",
        "entrenamiento['Month']=pd.to_datetime(entrenamiento['Month'])\n",
        "entrenamiento['anio']=entrenamiento['Month'].dt.year\n",
        "entrenamiento['mes']=entrenamiento['Month'].dt.month"
      ],
      "execution_count": null,
      "outputs": []
    },
    {
      "cell_type": "code",
      "metadata": {
        "id": "__wLqW6_iQKK"
      },
      "source": [
        "anio_opportunity_stage=entrenamiento.groupby(['anio','Opportunity_Name','Stage']).agg(cantidad=('Stage','count'))\\\n",
        ".reset_index()[['anio','Opportunity_Name','Stage']]\n",
        " \n"
      ],
      "execution_count": null,
      "outputs": []
    },
    {
      "cell_type": "code",
      "metadata": {
        "id": "sFzmdbD5i2dF"
      },
      "source": [
        "opportunity_deliverTerms_stage"
      ],
      "execution_count": null,
      "outputs": []
    },
    {
      "cell_type": "code",
      "metadata": {
        "id": "TJVmqCpGi9Um"
      },
      "source": [
        "anio_opportunity_stage.groupby(['anio']).size()\n",
        "#se saca 2019 por pocos datos"
      ],
      "execution_count": null,
      "outputs": []
    },
    {
      "cell_type": "code",
      "metadata": {
        "id": "s9miKvkGjLDx"
      },
      "source": [
        "anio_opportunity_stage=anio_opportunity_stage.groupby(['anio']).filter(lambda x: x['Opportunity_Name'].count()>240)\n"
      ],
      "execution_count": null,
      "outputs": []
    },
    {
      "cell_type": "code",
      "metadata": {
        "id": "bNUPVRpfiQKR"
      },
      "source": [
        " anio_opportunity_stage.head(2)"
      ],
      "execution_count": null,
      "outputs": []
    },
    {
      "cell_type": "code",
      "metadata": {
        "id": "LTRvFib6iQKg"
      },
      "source": [
        "cant_anio_opportunity_stage=anio_opportunity_stage.groupby(['anio','Stage'])\\\n",
        ".agg(cantidad=('Stage','count')).unstack()\n",
        "cant_anio_opportunity_stage.columns=cant_anio_opportunity_stage.columns.droplevel()"
      ],
      "execution_count": null,
      "outputs": []
    },
    {
      "cell_type": "code",
      "metadata": {
        "id": "kAHnOnDSiQKk"
      },
      "source": [
        "#conseguimos tasa por delivery terms\n",
        "cant_anio_opportunity_stage['tasa_won']=cant_anio_opportunity_stage['Closed Won'] /(cant_anio_opportunity_stage['Closed Lost']\\\n",
        "                                                                                        +cant_anio_opportunity_stage[ 'Closed Won' ] )\n",
        "cant_anio_opportunity_stage=cant_anio_opportunity_stage.reset_index()"
      ],
      "execution_count": null,
      "outputs": []
    },
    {
      "cell_type": "code",
      "metadata": {
        "id": "vOR_pAr6iQKo"
      },
      "source": [
        "cant_anio_opportunity_stage"
      ],
      "execution_count": null,
      "outputs": []
    },
    {
      "cell_type": "code",
      "metadata": {
        "id": "7H-aHyKXPqQr"
      },
      "source": [
        "#sns.violinplot(\"gender\", \"split_frac\", data=data,\n",
        "               palette=[\"lightblue\", \"lightpink\"]);"
      ],
      "execution_count": null,
      "outputs": []
    },
    {
      "cell_type": "code",
      "metadata": {
        "id": "DdmNPl60ksqy"
      },
      "source": [
        "df2=cant_anio_opportunity_stage[['anio','Closed Lost', \t'Closed Won']].set_index('anio')"
      ],
      "execution_count": null,
      "outputs": []
    },
    {
      "cell_type": "markdown",
      "metadata": {
        "id": "A0Cfx9W6VWdz"
      },
      "source": [
        "Como es la cantidad de oportunidades por Stage por Año?"
      ]
    },
    {
      "cell_type": "code",
      "metadata": {
        "id": "Quoej-dLlW6j"
      },
      "source": [
        "\n",
        "fig, ax = plt.subplots(figsize=(20,11))\n",
        "\n",
        "\n",
        "#fig = plt.figure()\n",
        "#fig.subplots_adjust(bottom=0.025, left=0.025, top = 0.975, right=0.975)\n",
        "\n",
        "#ax1=plt.subplot(2, 3, 4)\n",
        "\n",
        " \n",
        "#g = sns.barplot(x=df['Opportunity_Name'], y=df['total_trf_with_opportunity'],hue=\"Stage\",data=df,ax=ax)\n",
        "g = sns.heatmap(  data=df2,vmin=0,ax=ax)\n",
        "g.set_title(\"Cantidad de oportunidades por Etapa por Año \", fontsize=20)\n",
        "g.set_xlabel(\"Etapa\", fontsize=18)\n",
        "g.set_ylabel(\" Año\", fontsize=18)"
      ],
      "execution_count": null,
      "outputs": []
    },
    {
      "cell_type": "markdown",
      "metadata": {
        "id": "UKepmWcxUsib"
      },
      "source": [
        "**Vemos que la cantidad de oportunidades tuvo su pico mas alto de closed won en  2017 pero a partir de ese Año baja la cantidad de oportunidades de items, esto podria ser un mal manejo de la empresa .**"
      ]
    },
    {
      "cell_type": "code",
      "metadata": {
        "id": "YDbbfqfzRRx3"
      },
      "source": [
        "cant_anio_opportunity_stage['anio'].astype(int)"
      ],
      "execution_count": null,
      "outputs": []
    },
    {
      "cell_type": "markdown",
      "metadata": {
        "id": "wjU_t0wpXPh4"
      },
      "source": [
        "#Como es la Tasa de Closed Won por Año?"
      ]
    },
    {
      "cell_type": "code",
      "metadata": {
        "id": "0W4Gnans8v7p"
      },
      "source": [
        "fig, ax = plt.subplots(figsize=(12,11))\n",
        "g=sns.barplot(data=cant_anio_opportunity_stage, x=cant_anio_opportunity_stage['anio'].astype(int), y=\"tasa_won\",ax=ax)\n",
        "g.set_title(\"Tasa de Closed Won por  Año\", fontsize=22)\n",
        "g.set_xlabel(\"Año\",fontsize=15)\n",
        "g.set_ylabel(\"Tasa de Closed Won \", fontsize=15)"
      ],
      "execution_count": null,
      "outputs": []
    },
    {
      "cell_type": "markdown",
      "metadata": {
        "id": "2QLzMrP8qgwu"
      },
      "source": [
        "#Vemos que la tasa de closed won baja a casi la mitad en 2019 con respecto a 2018, posiblemente algo grave estaba pasando la empresa en ese anio."
      ]
    },
    {
      "cell_type": "code",
      "metadata": {
        "id": "CNqoYsBx7dhg"
      },
      "source": [
        ""
      ],
      "execution_count": null,
      "outputs": []
    },
    {
      "cell_type": "markdown",
      "metadata": {
        "id": "jzoL5Kt97eRr"
      },
      "source": [
        "#tasa de stage won segun tipo de cuenta\n",
        "\n",
        "---\n",
        "\n"
      ]
    },
    {
      "cell_type": "code",
      "metadata": {
        "id": "W8aAdlZyewnz"
      },
      "source": [
        "#vemos que cada oportunidad tiene una cuenta type, entonces saco repetidos\n",
        "entrenamiento[['Opportunity_Owner','TRF','Stage','Opportunity_Name','Account_Type']]\\\n",
        ".groupby(['Opportunity_Name','Account_Type','Stage','Opportunity_Owner'])\\\n",
        ".agg(cantidad=('Stage','count')).sample(2)"
      ],
      "execution_count": null,
      "outputs": []
    },
    {
      "cell_type": "code",
      "metadata": {
        "id": "orcsykihoMvE"
      },
      "source": [
        "stage_opportunity_typeaccount=entrenamiento[['Opportunity_Owner','TRF','Stage','Opportunity_Name','Account_Type']]\\\n",
        ".groupby(['Opportunity_Name','Account_Type','Stage','Opportunity_Owner'])\\\n",
        ".agg(cantidad=('Stage','count')).reset_index()[[ 'Stage','Opportunity_Name','Account_Type']]"
      ],
      "execution_count": null,
      "outputs": []
    },
    {
      "cell_type": "code",
      "metadata": {
        "id": "5scNWqHEqpEx"
      },
      "source": [
        "#tasa de closed won / closed lost + closed won\n",
        "count_stage_opportunity_typeaccount=stage_opportunity_typeaccount\\\n",
        ".groupby(['Account_Type','Stage']).agg(cantidad=('Stage','count')).unstack()"
      ],
      "execution_count": null,
      "outputs": []
    },
    {
      "cell_type": "code",
      "metadata": {
        "id": "c4JDt75_sEm7"
      },
      "source": [
        "count_stage_opportunity_typeaccount.columns=count_stage_opportunity_typeaccount.columns.droplevel()\n"
      ],
      "execution_count": null,
      "outputs": []
    },
    {
      "cell_type": "code",
      "metadata": {
        "id": "OnDIBhuIsnF4"
      },
      "source": [
        "tasa_acountType_stage=count_stage_opportunity_typeaccount['Closed Won']/( count_stage_opportunity_typeaccount['Closed Lost'] + count_stage_opportunity_typeaccount['Closed Won'] )"
      ],
      "execution_count": null,
      "outputs": []
    },
    {
      "cell_type": "code",
      "metadata": {
        "id": "EWM3UClxtbU8"
      },
      "source": [
        "tasa_acountType_stage=tasa_acountType_stage.to_frame().reset_index()\n",
        " "
      ],
      "execution_count": null,
      "outputs": []
    },
    {
      "cell_type": "code",
      "metadata": {
        "id": "BnKbZZLCuisi"
      },
      "source": [
        "tasa_acountType_stage.columns=['Account_Type', 'tasa_won_over_lost']"
      ],
      "execution_count": null,
      "outputs": []
    },
    {
      "cell_type": "code",
      "metadata": {
        "id": "fJ0ZkCK7uCxD"
      },
      "source": [
        "top_tasa_acountType_stage=tasa_acountType_stage.nlargest(10,'tasa_won_over_lost')"
      ],
      "execution_count": null,
      "outputs": []
    },
    {
      "cell_type": "code",
      "metadata": {
        "id": "Rd9H07LiYkfX"
      },
      "source": [
        "top_tasa_acountType_stage"
      ],
      "execution_count": null,
      "outputs": []
    },
    {
      "cell_type": "code",
      "metadata": {
        "id": "4Z98aR_UYrpC"
      },
      "source": [
        ""
      ],
      "execution_count": null,
      "outputs": []
    },
    {
      "cell_type": "code",
      "metadata": {
        "id": "I_JrSKlvYZGV"
      },
      "source": [
        "top_tasa_acountType_stage.replace({'Account_Type_0': 'Account Type 0' \t}, inplace=True)\n",
        "top_tasa_acountType_stage.replace({'Account_Type_2': 'Account Type 2' \t}, inplace=True)\n",
        "top_tasa_acountType_stage.replace({'Account_Type_4': 'Account Type 4' \t}, inplace=True)\n",
        "top_tasa_acountType_stage.replace({'Account_Type_5 \t': 'Account Type 5' \t}, inplace=True)\n",
        "top_tasa_acountType_stage.replace({'Account_Type_1': 'Account Type 1' \t}, inplace=True)\n",
        "top_tasa_acountType_stage.replace({'Account_Type_6': 'Account Type 6' \t}, inplace=True)"
      ],
      "execution_count": null,
      "outputs": []
    },
    {
      "cell_type": "code",
      "metadata": {
        "id": "beGx-dMmahZT"
      },
      "source": [
        "top_tasa_acountType_stage=top_tasa_acountType_stage.loc[top_tasa_acountType_stage['Account_Type']!='None',:]"
      ],
      "execution_count": null,
      "outputs": []
    },
    {
      "cell_type": "code",
      "metadata": {
        "id": "pAnmZX7mak56"
      },
      "source": [
        "top_tasa_acountType_stage"
      ],
      "execution_count": null,
      "outputs": []
    },
    {
      "cell_type": "markdown",
      "metadata": {
        "id": "HM_bgVj4Xr91"
      },
      "source": [
        "#Como es la Tasa de Closed Won segun Tipo de Cuenta?\n"
      ]
    },
    {
      "cell_type": "code",
      "metadata": {
        "id": "CMjn9EiopJXU"
      },
      "source": [
        "fig, ax = plt.subplots(figsize=(12,11))\n",
        "g=sns.barplot(\"tasa_won_over_lost\", \"Account_Type\", data=top_tasa_acountType_stage,palette=[\"lightpink\"],ax=ax);\n",
        "g.set_title(\"Tasa de Closed Won segun Tipo de Cuenta\", fontsize=20)\n",
        "g.set_xlabel(\"Tasa de Closed Won \", fontsize=18)\n",
        "g.set_ylabel(\"Tipo de  Cuentas\", fontsize=18)"
      ],
      "execution_count": null,
      "outputs": []
    },
    {
      "cell_type": "markdown",
      "metadata": {
        "id": "fQc7EpMAaTty"
      },
      "source": [
        "#Vemos que el tipo de Cuenta 0 es la que tiene una tasa de closed won mas alta."
      ]
    },
    {
      "cell_type": "markdown",
      "metadata": {
        "id": "mWOqgfxoYWey"
      },
      "source": [
        ""
      ]
    },
    {
      "cell_type": "code",
      "metadata": {
        "id": "ArQTCI8_WteW"
      },
      "source": [
        ""
      ],
      "execution_count": null,
      "outputs": []
    },
    {
      "cell_type": "markdown",
      "metadata": {
        "id": "SPatM8xYWuH9"
      },
      "source": [
        "##Hay preferencias por la eleccion de algun tipo de cuenta con su relacion de cantidad de oportunidades?"
      ]
    },
    {
      "cell_type": "code",
      "metadata": {
        "id": "flROz7R2ewth"
      },
      "source": [
        "#vemos que cada oportunidad tiene una cuenta type, entonces saco repetidos\n",
        "entrenamiento[['TRF','Stage','Opportunity_Name','Account_Type']].groupby(['Opportunity_Name','Account_Type'])\\\n",
        ".agg(cantidad=('Stage','count')).head(2)\n"
      ],
      "execution_count": null,
      "outputs": []
    },
    {
      "cell_type": "code",
      "metadata": {
        "id": "f8I8mATNgVNk"
      },
      "source": [
        "opportinty_name_account_type=entrenamiento[['TRF','Stage','Opportunity_Name','Account_Type']].groupby(['Opportunity_Name','Account_Type'])\\\n",
        ".agg(cantidad=('Stage','count'))\n",
        "opportinty_name_account_type= opportinty_name_account_type.reset_index().drop('cantidad', 1)\n"
      ],
      "execution_count": null,
      "outputs": []
    },
    {
      "cell_type": "code",
      "metadata": {
        "id": "A_662InuYn3L"
      },
      "source": [
        ""
      ],
      "execution_count": null,
      "outputs": []
    },
    {
      "cell_type": "code",
      "metadata": {
        "id": "_lTJm8zmg6KG"
      },
      "source": [
        "#ahora vamos a ver la cantidad de oportunidades que hay por typo de cuenta\n",
        "top10_opportinty_name_account_type=opportinty_name_account_type.groupby('Account_Type')\\\n",
        ".agg(cantidad_oportunidades=('Opportunity_Name','count')).nlargest(10,'cantidad_oportunidades')\n",
        "top10_opportinty_name_account_type=top10_opportinty_name_account_type.reset_index()"
      ],
      "execution_count": null,
      "outputs": []
    },
    {
      "cell_type": "code",
      "metadata": {
        "id": "r1PJuotIcnbk"
      },
      "source": [
        "top10_opportinty_name_account_type.replace({'Account_Type_0': 'Account Type 0' \t}, inplace=True)\n",
        "top10_opportinty_name_account_type.replace({'Account_Type_2': 'Account Type 2' \t}, inplace=True)\n",
        "top10_opportinty_name_account_type.replace({'Account_Type_4': 'Account Type 4' \t}, inplace=True)\n",
        "top10_opportinty_name_account_type.replace({'Account_Type_5 \t': 'Account Type 5' \t}, inplace=True)\n",
        "top10_opportinty_name_account_type.replace({'Account_Type_1': 'Account Type 1' \t}, inplace=True)\n",
        "top10_opportinty_name_account_type.replace({'Account_Type_6': 'Account Type 6' \t}, inplace=True)"
      ],
      "execution_count": null,
      "outputs": []
    },
    {
      "cell_type": "code",
      "metadata": {
        "id": "lKwIKSeAhDJp"
      },
      "source": [
        "top10_opportinty_name_account_type=top10_opportinty_name_account_type.loc[top10_opportinty_name_account_type['Account_Type']!='None',:]"
      ],
      "execution_count": null,
      "outputs": []
    },
    {
      "cell_type": "markdown",
      "metadata": {
        "id": "Oom4DFphcu3P"
      },
      "source": [
        "#Cual es la tipo de cuenta elegida para generar oportunidades?"
      ]
    },
    {
      "cell_type": "code",
      "metadata": {
        "id": "_mXPbL9thwMe"
      },
      "source": [
        "df=top10_opportinty_name_account_type\n",
        " \n",
        "#top10_opportinty_name_account_type\n",
        "fig, ax = plt.subplots(figsize=(12,11))\n",
        " \n",
        "g = sns.barplot(x=df['Account_Type'], y=df['cantidad_oportunidades'],data=df,ax=ax)\n",
        "g.set_title(\"Cantidad de Oportunidades por Tipo de Cuenta \", fontsize=20)\n",
        "g.set_xlabel(\"Tipo de cuenta\", fontsize=18)\n",
        "g.set_ylabel(\"Cantidad de Oportunidades\", fontsize=18)"
      ],
      "execution_count": null,
      "outputs": []
    },
    {
      "cell_type": "markdown",
      "metadata": {
        "id": "R3j93zAYsrcT"
      },
      "source": [
        "**Vemos que los tipos de cuenta mas usadas son del tipo 0,2, y 5 esto debe ser posiblemente por por los terminos y condiciones que proveen estos tipos de cuenta**"
      ]
    },
    {
      "cell_type": "code",
      "metadata": {
        "id": "oHGibqsW7xr9"
      },
      "source": [
        " "
      ],
      "execution_count": null,
      "outputs": []
    },
    {
      "cell_type": "code",
      "metadata": {
        "id": "XLKKtRQILfaA"
      },
      "source": [
        "entrenamiento[['Territory','TRF','Stage','Opportunity_Name']].groupby(['Territory','Opportunity_Name','Stage','TRF']).agg(cantidad_trf=('TRF','sum'))"
      ],
      "execution_count": null,
      "outputs": []
    },
    {
      "cell_type": "code",
      "metadata": {
        "id": "N--XfwBDSnBr"
      },
      "source": [
        ""
      ],
      "execution_count": null,
      "outputs": []
    },
    {
      "cell_type": "code",
      "metadata": {
        "id": "AavkAUHnPBj-"
      },
      "source": [
        "data_set=entrenamiento[['Territory','TRF','Stage','Opportunity_Name']].groupby(['Territory','Opportunity_Name','Stage','TRF'])\\\n",
        ".agg(cantidad_trf=('TRF','sum')).reset_index()[['Territory','Opportunity_Name','Stage','TRF']]\n",
        "data_set=data_set.loc[data_set['Territory']!='None',:]"
      ],
      "execution_count": null,
      "outputs": []
    },
    {
      "cell_type": "code",
      "metadata": {
        "id": "M6UToIEySo6D"
      },
      "source": [
        "territory_top10_casos=data_set.groupby(['Territory']).agg(cantidad_casos=('Territory','count')).nlargest(10,'cantidad_casos').reset_index()\n",
        "territory_top10_casos"
      ],
      "execution_count": null,
      "outputs": []
    },
    {
      "cell_type": "code",
      "metadata": {
        "id": "NG_4wrGGgCem"
      },
      "source": [
        "###"
      ],
      "execution_count": null,
      "outputs": []
    },
    {
      "cell_type": "code",
      "metadata": {
        "id": "RiyDzbeMgCzh"
      },
      "source": [
        "data_set"
      ],
      "execution_count": null,
      "outputs": []
    },
    {
      "cell_type": "code",
      "metadata": {
        "id": "Cn1V_WiCgC8s"
      },
      "source": [
        ""
      ],
      "execution_count": null,
      "outputs": []
    },
    {
      "cell_type": "code",
      "metadata": {
        "id": "nLydJfHQgDFH"
      },
      "source": [
        "###"
      ],
      "execution_count": null,
      "outputs": []
    },
    {
      "cell_type": "code",
      "metadata": {
        "id": "eZjwoIULh4B3"
      },
      "source": [
        "###"
      ],
      "execution_count": null,
      "outputs": []
    },
    {
      "cell_type": "code",
      "metadata": {
        "id": "SIxuuNgeUj6G"
      },
      "source": [
        "lista_territory=territory_top10_casos['Territory'].to_list()"
      ],
      "execution_count": null,
      "outputs": []
    },
    {
      "cell_type": "code",
      "metadata": {
        "id": "0gj0M4h8Lffi"
      },
      "source": [
        "tasa_data_set=data_set.groupby(['Territory','Stage'])\\\n",
        ".agg(cantidad=('Stage','count')).unstack()\n",
        "tasa_data_set.columns=tasa_data_set.columns.droplevel()\n",
        "tasa_data_set= tasa_data_set.reset_index()\n",
        "tasa_data_set['tasa']= tasa_data_set['Closed Won'] / (tasa_data_set['Closed Lost'] + tasa_data_set['Closed Won'])\n",
        "tasa_data_set=tasa_data_set.fillna(0)\n",
        "tasa_data_set"
      ],
      "execution_count": null,
      "outputs": []
    },
    {
      "cell_type": "code",
      "metadata": {
        "id": "v-UDG3LkgfBC"
      },
      "source": [
        "total_trf=data_set.groupby(['Territory'])\\\n",
        ".agg(total_trf=('TRF','sum')).reset_index()\n",
        "total_trf"
      ],
      "execution_count": null,
      "outputs": []
    },
    {
      "cell_type": "code",
      "metadata": {
        "id": "fQGM4saRgfPu"
      },
      "source": [
        "data_set"
      ],
      "execution_count": null,
      "outputs": []
    },
    {
      "cell_type": "code",
      "metadata": {
        "id": "cUohtejPh9qv"
      },
      "source": [
        "trf_tasa=pd.merge(total_trf,tasa_data_set,on='Territory',how='inner')\n",
        "trf_tasa.head(2)"
      ],
      "execution_count": null,
      "outputs": []
    },
    {
      "cell_type": "code",
      "metadata": {
        "id": "XWf9jYDXiAKa"
      },
      "source": [
        "trf_tasa['total_won_trf']=trf_tasa['tasa']*trf_tasa['total_trf']\n",
        "trf_tasa['total_lost_trf']=(1-trf_tasa['tasa'])*trf_tasa['total_trf']"
      ],
      "execution_count": null,
      "outputs": []
    },
    {
      "cell_type": "markdown",
      "metadata": {
        "id": "kXEkfep5kEK-"
      },
      "source": [
        "#Hay correlacion entre la cantidad de TRF WON Y LOST por Territorio?"
      ]
    },
    {
      "cell_type": "code",
      "metadata": {
        "id": "lzstHzzVm-jW"
      },
      "source": [
        "fig, ax = plt.subplots(figsize=(35,11))\n",
        "\n",
        "ax1=plt.subplot(2, 3,2)\n",
        "\n",
        "\n",
        "g=sns.scatterplot(data=trf_tasa, x=\"total_won_trf\", y=\"total_lost_trf\",ax=ax1)\n",
        "g.set_title(\" Cantidad de TRF Won y Lost por Territorio\", fontsize=22)\n",
        "g.set_xlabel(\"Cantidad de TRF Won\",fontsize=15)\n",
        "g.set_ylabel(\"Cantidad de TRF Lost\", fontsize=15)\n",
        "\n",
        "ax2=plt.subplot(2, 3, 3)\n",
        "ax2.set(ylim=(0, 500))\n",
        "ax2.set(xlim=(0,500))\n",
        "\n",
        "g=sns.scatterplot(data=trf_tasa, x=\"total_won_trf\", y=\"total_lost_trf\",ax=ax2)\n",
        "g.set_title(\"(ZOOM)Cantidad de TRF Won y Lost por Territorio\", fontsize=22)\n",
        "g.set_xlabel(\"Cantidad de TRF Won\",fontsize=15)\n",
        "g.set_ylabel(\"Cantidad de TRF Lost\", fontsize=15)\n",
        "\n",
        "\n",
        "plt.show()"
      ],
      "execution_count": null,
      "outputs": []
    },
    {
      "cell_type": "markdown",
      "metadata": {
        "id": "SJ3zhzXHkLTN"
      },
      "source": [
        "#Vemos que una muy pequenia correlacion positiva ( 0.5 a 0.8  aproximadamente) entre cantidad de TRF WON y  TRF LOST por territorio, esta bueno esto, porque  tenemos como es la tendencia aproximada entre estas dos variables, y su similar comportamiento independientemente del territorio en especial entre canidades de rango y,x de 0 a 500."
      ]
    },
    {
      "cell_type": "code",
      "metadata": {
        "id": "iicpkR-MgfS9"
      },
      "source": [
        "##"
      ],
      "execution_count": null,
      "outputs": []
    },
    {
      "cell_type": "markdown",
      "metadata": {
        "id": "cZkWblDbmh0i"
      },
      "source": [
        ""
      ]
    },
    {
      "cell_type": "code",
      "metadata": {
        "id": "VPWuxEf1gfWv"
      },
      "source": [
        "##"
      ],
      "execution_count": null,
      "outputs": []
    },
    {
      "cell_type": "code",
      "metadata": {
        "id": "eHT6TSp8QqlD"
      },
      "source": [
        "total_trf=data_set.loc[data_set['Territory'].isin(lista_territory),:].groupby(['Territory'])\\\n",
        ".agg(total_trf=('TRF','sum')).reset_index()\n",
        "total_trf"
      ],
      "execution_count": null,
      "outputs": []
    },
    {
      "cell_type": "code",
      "metadata": {
        "id": "auLa73ohYEVe"
      },
      "source": [
        "trf_tasa=pd.merge(total_trf,tasa_data_set,on='Territory',how='inner')\n",
        "trf_tasa.head(2)"
      ],
      "execution_count": null,
      "outputs": []
    },
    {
      "cell_type": "code",
      "metadata": {
        "id": "OhtSaVduYU61"
      },
      "source": [
        "trf_tasa['total_won_trf']=trf_tasa['tasa']*trf_tasa['total_trf']\n",
        "trf_tasa['total_lost_trf']=(1-trf_tasa['tasa'])*trf_tasa['total_trf']"
      ],
      "execution_count": null,
      "outputs": []
    },
    {
      "cell_type": "code",
      "metadata": {
        "id": "pyQ2VMVtn7YW"
      },
      "source": [
        "trf_tasa.rename(columns={'total_lost_trf': 'Total Lost Trf', 'total_won_trf': 'Total Won TRF', 'total_trf': 'Total TRF'}, inplace=True)"
      ],
      "execution_count": null,
      "outputs": []
    },
    {
      "cell_type": "code",
      "metadata": {
        "id": "Bk6KJ6QJY7uQ"
      },
      "source": [
        "trf_tasa"
      ],
      "execution_count": null,
      "outputs": []
    },
    {
      "cell_type": "markdown",
      "metadata": {
        "id": "lHGAmgZxm7IQ"
      },
      "source": [
        "#Cuales son los Territorios con mas cantidad  de TRF ofrecida y que cantidad es vendida y cual no?  "
      ]
    },
    {
      "cell_type": "code",
      "metadata": {
        "id": "4Qx5N9b2fjnO"
      },
      "source": [
        "fig, ax = plt.subplots(figsize=(15,11))\n",
        "\n",
        "\n",
        "#fig = plt.figure()\n",
        "#fig.subplots_adjust(bottom=0.025, left=0.025, top = 0.975, right=0.975)\n",
        "#ax1=plt.subplot(2, 3, 4)\n",
        "\n",
        " \n",
        "#g = sns.barplot(x=df['Opportunity_Name'], y=df['total_trf_with_opportunity'],hue=\"Stage\",data=df,ax=ax)\n",
        "g = sns.heatmap(  data=trf_tasa.set_index('Territory')[['total trf','total won trf','total lost trf']] ,cmap=\"YlGnBu\",ax=ax)\n",
        "g.set_title(\"Cantidades Total, Won, Lost de TRF por Territorio\", fontsize=20)\n",
        "g.set_xlabel(\"TRF\", fontsize=18)\n",
        "g.set_ylabel(\"Top 10 Territorio con mas TRF  \", fontsize=18)"
      ],
      "execution_count": null,
      "outputs": []
    },
    {
      "cell_type": "markdown",
      "metadata": {
        "id": "zhUcFIHCpnp1"
      },
      "source": [
        "Vemos que la mayoria de territorios son de Europa, se debe usar mucho esos \n",
        "\n",
        "*   Elemento de lista\n",
        "*   Elemento de lista\n",
        "\n",
        "productos"
      ]
    },
    {
      "cell_type": "code",
      "metadata": {
        "id": "raa4QKW_PzyC"
      },
      "source": [
        ""
      ],
      "execution_count": null,
      "outputs": []
    },
    {
      "cell_type": "code",
      "metadata": {
        "id": "YUi0dYpsPz_y"
      },
      "source": [
        ""
      ],
      "execution_count": null,
      "outputs": []
    },
    {
      "cell_type": "code",
      "metadata": {
        "id": "2iQeK_743CMz"
      },
      "source": [
        "trf_tasa.set_index('Territory')"
      ],
      "execution_count": null,
      "outputs": []
    },
    {
      "cell_type": "markdown",
      "metadata": {
        "id": "yW5bNYtFvSsP"
      },
      "source": [
        ""
      ]
    },
    {
      "cell_type": "markdown",
      "metadata": {
        "id": "VIXHuYxgwq5u"
      },
      "source": [
        "Relacion entre tasa, cantidad de Closed WON y cantidad total de TRF por Territorio?"
      ]
    },
    {
      "cell_type": "code",
      "metadata": {
        "id": "sJyAXwrw3CPh"
      },
      "source": [
        " \n",
        "\n",
        "df=trf_tasa.set_index('Territory')\n",
        "\n",
        "axes=sns.relplot(x=\"tasa\", y=\"total trf\", hue=\"Territory\", size=\"Closed Won\",\n",
        "            sizes=(40, 400), alpha=.5, palette=\"muted\",\n",
        "            height=7, data=df, ax=ax)\n",
        "\n",
        "#axes.fig.suptitle(\"My Title\", x=0.4, y=0.98)\n",
        "\n",
        "plt.subplots_adjust(top=0.9)\n",
        "axes.fig.suptitle('Tasa,cantidad closed Won y Cantidad Total de TRF Por Territorio', fontsize=20)\n",
        "plt.xlabel('xlabel', fontsize=18)\n",
        "plt.ylabel('ylabel', fontsize=16)\n",
        "axes.set(xlabel='Tasa de Closed Won', ylabel='Total de TRF')\n"
      ],
      "execution_count": null,
      "outputs": []
    },
    {
      "cell_type": "markdown",
      "metadata": {
        "id": "l2HPeX8Sw0Kf"
      },
      "source": [
        "#Vemos que en Australia y NW America tiene una tasa alta de closed won y el total de TRF ofrecido son los dos mas altos. "
      ]
    },
    {
      "cell_type": "code",
      "metadata": {
        "id": "W7xtvp6zxqOU"
      },
      "source": [
        ""
      ],
      "execution_count": null,
      "outputs": []
    },
    {
      "cell_type": "code",
      "metadata": {
        "id": "_oXVpPGjxqSW"
      },
      "source": [
        ""
      ],
      "execution_count": null,
      "outputs": []
    },
    {
      "cell_type": "code",
      "metadata": {
        "id": "VsBmLoXGxqVO"
      },
      "source": [
        ""
      ],
      "execution_count": null,
      "outputs": []
    },
    {
      "cell_type": "code",
      "metadata": {
        "id": "vE51q9VaxqYP"
      },
      "source": [
        ""
      ],
      "execution_count": null,
      "outputs": []
    },
    {
      "cell_type": "code",
      "metadata": {
        "id": "nPvsNgF-xqa-"
      },
      "source": [
        ""
      ],
      "execution_count": null,
      "outputs": []
    },
    {
      "cell_type": "markdown",
      "metadata": {
        "id": "nFkLFOTsxgt_"
      },
      "source": [
        "#SE TERMINO ACA------------------------------------------------------------------"
      ]
    },
    {
      "cell_type": "code",
      "metadata": {
        "id": "IV15wMj-xf_G"
      },
      "source": [
        ""
      ],
      "execution_count": null,
      "outputs": []
    },
    {
      "cell_type": "code",
      "metadata": {
        "id": "HaoePK3LxgCA"
      },
      "source": [
        ""
      ],
      "execution_count": null,
      "outputs": []
    },
    {
      "cell_type": "code",
      "metadata": {
        "id": "dpngyCa4xgHj"
      },
      "source": [
        ""
      ],
      "execution_count": null,
      "outputs": []
    },
    {
      "cell_type": "code",
      "metadata": {
        "id": "EFiKjvPSxgKp"
      },
      "source": [
        ""
      ],
      "execution_count": null,
      "outputs": []
    },
    {
      "cell_type": "code",
      "metadata": {
        "id": "5FgR4HXIxgNT"
      },
      "source": [
        ""
      ],
      "execution_count": null,
      "outputs": []
    },
    {
      "cell_type": "code",
      "metadata": {
        "id": "a-xzTW0KxgQz"
      },
      "source": [
        ""
      ],
      "execution_count": null,
      "outputs": []
    },
    {
      "cell_type": "code",
      "metadata": {
        "id": "VxNadTKcxgTb"
      },
      "source": [
        ""
      ],
      "execution_count": null,
      "outputs": []
    },
    {
      "cell_type": "code",
      "metadata": {
        "id": "1Zoc08HGxgGE"
      },
      "source": [
        ""
      ],
      "execution_count": null,
      "outputs": []
    },
    {
      "cell_type": "markdown",
      "metadata": {
        "id": "HkAZ0SYAUBWZ"
      },
      "source": [
        "#Cantidad de Trf won por mes"
      ]
    },
    {
      "cell_type": "code",
      "metadata": {
        "id": "AOeCMLdmokbo"
      },
      "source": [
        "#por cada oportuniti name, tengo un solo tipo de stage\n",
        "entrenamiento[['TRF','Stage','Opportunity_Name']].groupby(['Opportunity_Name','Stage']).agg(cantidad=('Stage','count'))"
      ],
      "execution_count": null,
      "outputs": []
    },
    {
      "cell_type": "code",
      "metadata": {
        "id": "8eqCNK3xA595"
      },
      "source": [
        "#aca vemos que por cada oportunidad tenemos muchas trf distintos, ojo no hablamos de la cantida\n",
        "#sino de que en un oportunity name tenemos ejemplo en opoortunity_name_1 y dentro de el trf con un valor 0 y otro\n",
        "# en 1, la columna cantidad es irrelevante,solo se mira los repetidos que tiene.\n",
        "entrenamiento[['TRF','mes','Stage','Opportunity_Name']].groupby(['mes','Opportunity_Name','TRF'])\\\n",
        ".agg(cantidad=('Stage','count')).head(3)"
      ],
      "execution_count": null,
      "outputs": []
    },
    {
      "cell_type": "code",
      "metadata": {
        "id": "fc-yTsD0B10j"
      },
      "source": [
        "#truco si lo agrupamos hasta el valor trf, entonces ya no tenemos repetidos\n",
        "df_opportunity_trf=entrenamiento[['mes','TRF','Stage','Opportunity_Name']]\\\n",
        ".groupby(['mes','Opportunity_Name','Stage','TRF']).agg(cantidad=('Stage','count'))\\\n",
        ".reset_index()[['mes','Opportunity_Name','Stage','TRF']]"
      ],
      "execution_count": null,
      "outputs": []
    },
    {
      "cell_type": "code",
      "metadata": {
        "id": "cCZhqTwRDHCI"
      },
      "source": [
        "#ahoro si puedo sumar los trf\n",
        "df_opportunity_trf.head(3)"
      ],
      "execution_count": null,
      "outputs": []
    },
    {
      "cell_type": "code",
      "metadata": {
        "id": "jEdWe-gVDxJE"
      },
      "source": [
        "oppornity_total_trf=df_opportunity_trf.groupby('mes')\\\n",
        ".agg(total_trf_with_opportunity=('TRF','sum')).reset_index()\n",
        "oppornity_total_trf.head(3)"
      ],
      "execution_count": null,
      "outputs": []
    },
    {
      "cell_type": "code",
      "metadata": {
        "id": "ijAGSDb5FRgi"
      },
      "source": [
        "#agrupo por oportuniy y stage, ya qu con este truco, me va a dar todo distinto, sin repetir.\n",
        "opportunity_stage=entrenamiento[['mes','Opportunity_Name','Stage']]\\\n",
        ".groupby( ['mes','Opportunity_Name','Stage' ]).agg(canti=('Stage','count')).reset_index()[['mes','Stage']]\n",
        "opportunity_stage=opportunity_stage.loc[\\\n",
        "                                        (opportunity_stage['Stage']=='Closed Lost') |  (opportunity_stage['Stage']=='Closed Won'),:]\n",
        "opportunity_stage.head(2)                                        "
      ],
      "execution_count": null,
      "outputs": []
    },
    {
      "cell_type": "code",
      "metadata": {
        "id": "uKiDiTV9RpG6"
      },
      "source": [
        "df=opportunity_stage.groupby(['mes','Stage']).agg(cantidad=('Stage','count')).unstack()\n",
        "df.columns=df.columns.droplevel()"
      ],
      "execution_count": null,
      "outputs": []
    },
    {
      "cell_type": "code",
      "metadata": {
        "id": "34iV3m21SL8D"
      },
      "source": [
        "opportunity_stage=df"
      ],
      "execution_count": null,
      "outputs": []
    },
    {
      "cell_type": "code",
      "metadata": {
        "id": "zW6KXSxbGeJX"
      },
      "source": [
        "mes_trf_stage=pd.merge(opportunity_stage, oppornity_total_trf, on='mes', how='inner')\n",
        "mes_trf_stage.head(2)"
      ],
      "execution_count": null,
      "outputs": []
    },
    {
      "cell_type": "code",
      "metadata": {
        "id": "8_zexEBKSXFV"
      },
      "source": [
        "mes_trf_stage['tasa']=mes_trf_stage['Closed Won'] / (mes_trf_stage['Closed Won'] + mes_trf_stage['Closed Lost'])\n"
      ],
      "execution_count": null,
      "outputs": []
    },
    {
      "cell_type": "code",
      "metadata": {
        "id": "51tG9_NOTAOH"
      },
      "source": [
        "mes_trf_stage['cantidad_trf_won']=mes_trf_stage['tasa']*mes_trf_stage['total_trf_with_opportunity']"
      ],
      "execution_count": null,
      "outputs": []
    },
    {
      "cell_type": "code",
      "metadata": {
        "id": "aLhZn7RpNfzH"
      },
      "source": [
        "sns.violinplot(\"gender\", \"split_frac\", data=data,\n",
        "               palette=[\"lightblue\", \"lightpink\"]);"
      ],
      "execution_count": null,
      "outputs": []
    },
    {
      "cell_type": "code",
      "metadata": {
        "id": "N-qFRIhoshFw"
      },
      "source": [
        "fig, ax = plt.subplots(figsize=(28,11))\n",
        "\n",
        "\n",
        "#fig = plt.figure()\n",
        "#fig.subplots_adjust(bottom=0.025, left=0.025, top = 0.975, right=0.975)\n",
        "ax1=plt.subplot(2, 3, 4)\n",
        "\n",
        " \n",
        "#g = sns.barplot(x=df['Opportunity_Name'], y=df['total_trf_with_opportunity'],hue=\"Stage\",data=df,ax=ax)\n",
        "g = sns.barplot(x='mes', y='cantidad_trf_won',palette=[\"red\"],data=mes_trf_stage,ax=ax1)\n",
        "g.set_title(\"Cantidad de Trf won por mes\", fontsize=20)\n",
        "g.set_xlabel(\"mes\", fontsize=18)\n",
        "g.set_ylabel(\"Cantidad de TRF\", fontsize=18)\n",
        "\n",
        "\n",
        " \n",
        "\n",
        "plt.show()f\n",
        "##### ver###"
      ],
      "execution_count": null,
      "outputs": []
    },
    {
      "cell_type": "markdown",
      "metadata": {
        "id": "qxkJfaf8wleg"
      },
      "source": [
        ""
      ]
    },
    {
      "cell_type": "markdown",
      "metadata": {
        "id": "S-T0HAEAwln5"
      },
      "source": [
        ""
      ]
    },
    {
      "cell_type": "code",
      "metadata": {
        "id": "WwyqpKmg7x0L"
      },
      "source": [
        "# de aca para abajo no leer."
      ],
      "execution_count": null,
      "outputs": []
    },
    {
      "cell_type": "code",
      "metadata": {
        "id": "-ELZ1Hpi7x5D"
      },
      "source": [
        ""
      ],
      "execution_count": null,
      "outputs": []
    },
    {
      "cell_type": "code",
      "metadata": {
        "id": "Uhg8DNIa7x8P"
      },
      "source": [
        ""
      ],
      "execution_count": null,
      "outputs": []
    },
    {
      "cell_type": "code",
      "metadata": {
        "id": "naCK2mqO7yCD"
      },
      "source": [
        ""
      ],
      "execution_count": null,
      "outputs": []
    },
    {
      "cell_type": "code",
      "metadata": {
        "id": "icqPgVBq7yFi"
      },
      "source": [
        ""
      ],
      "execution_count": null,
      "outputs": []
    },
    {
      "cell_type": "code",
      "metadata": {
        "id": "36h56ynt7yJL"
      },
      "source": [
        "import pylab as pl\n",
        "import numpy as np\n",
        "\n",
        "# Crear una figura de 8x6 puntos de tamaño, 80 puntos por pulgada\n",
        "pl.figure(figsize=(8, 6), dpi=80)\n",
        "\n",
        "# Crear una nueva subgráfica en una rejilla de 1x1\n",
        "pl.subplot(1, 1, 1)\n",
        "\n",
        "#aca creamos la linEA, eje x\n",
        "X = np.linspace(-np.pi, np.pi, 256, endpoint=True)\n",
        "#aca modelamos que forma tendra la linea por eso se les pasa el x.\n",
        "C, S = np.cos(X), np.sin(X)\n",
        "  #es el ejex y c el eje y\n",
        "# Graficar la función coseno con una línea continua azul de 1 pixel de grosor\n",
        "pl.plot(X, C, color=\"blue\", linewidth=1.0, linestyle=\"-\")\n",
        "\n",
        "# Graficar la función coseno con una línea continua verde de 1 pixel de grosor\n",
        "pl.plot(X, S, color=\"green\", linewidth=1.0, linestyle=\"-\")\n",
        "\n",
        "# Establecer límites del eje x\n",
        "pl.xlim(-4.0, 4.0)\n",
        "\n",
        "# Ticks en x\n",
        "pl.xticks(np.linspace(-4, 4, 9, endpoint=True))\n",
        "\n",
        "# Establecer límites del eje y\n",
        "pl.ylim(-1.0, 1.0)\n",
        "\n",
        "# Ticks en y\n",
        "pl.yticks(np.linspace(-1, 1, 5, endpoint=True))\n",
        "\n",
        "# Guardar la figura usando 72 puntos por pulgada\n",
        "# savefig(\"exercice_2.png\", dpi=72)\n",
        "\n",
        "# Mostrar resultado en pantalla\n",
        "pl.show()"
      ],
      "execution_count": null,
      "outputs": []
    },
    {
      "cell_type": "markdown",
      "metadata": {
        "id": "hYZYoL1Z0Pjm"
      },
      "source": [
        "![image.png](data:image/png;base64,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)"
      ]
    },
    {
      "cell_type": "markdown",
      "metadata": {
        "id": "RDwRkXhX0QQJ"
      },
      "source": [
        ""
      ]
    },
    {
      "cell_type": "code",
      "metadata": {
        "id": "Atg1r7f-7yMe"
      },
      "source": [
        ""
      ],
      "execution_count": null,
      "outputs": []
    },
    {
      "cell_type": "code",
      "metadata": {
        "id": "zORHglugKloK"
      },
      "source": [
        "#¿Por qué Total_Taxable_Amount es a veces mayor que Total_Amount?\n",
        "no es mayor"
      ],
      "execution_count": null,
      "outputs": []
    },
    {
      "cell_type": "code",
      "metadata": {
        "id": "dI3iU72aLUU7"
      },
      "source": [
        ""
      ],
      "execution_count": null,
      "outputs": []
    },
    {
      "cell_type": "code",
      "metadata": {
        "id": "UUpP5qGxLUha"
      },
      "source": [
        ""
      ],
      "execution_count": null,
      "outputs": []
    },
    {
      "cell_type": "code",
      "metadata": {
        "id": "Vic3XpYHKlw_"
      },
      "source": [
        ""
      ],
      "execution_count": null,
      "outputs": []
    },
    {
      "cell_type": "code",
      "metadata": {
        "id": "4Lb4WzDJPQ4J"
      },
      "source": [
        "amount=entrenamiento\n",
        "amount['total_amount_taxable_aux']=entrenamiento.groupby('Opportunity_Name')['Total_Amount'].transform('sum')\n",
        "a=amount[(amount['total_amount_taxable_aux']-amount['Total_Taxable_Amount'])>0]#.head(10)#[['total_amount_taxable_aux','Total_Taxable_Amount']]\n",
        "#.agg(cant_total_amount=('Total_Amount','sum')).reset_index()\n",
        "#amount['delta_amount_with_amoun_taxable']=amount['cant_total_amount'] - amount['total_taxable']\n",
        "#amount[amount['delta_amount_with_amoun_taxable'] >0]\n",
        "a"
      ],
      "execution_count": null,
      "outputs": []
    },
    {
      "cell_type": "code",
      "metadata": {
        "id": "IbNOz0SXHFCh"
      },
      "source": [
        "df=opportunity_trf_stage.nlargest(50,'closed_won')"
      ],
      "execution_count": null,
      "outputs": []
    },
    {
      "cell_type": "markdown",
      "metadata": {
        "id": "QLuBg23BB1Jn"
      },
      "source": [
        ""
      ]
    },
    {
      "cell_type": "code",
      "metadata": {
        "id": "ea5amsM826Lv"
      },
      "source": [
        "fig, ax = plt.subplots(figsize=(12,11))\n",
        " \n",
        "g = sns.barplot(x=df['Opportunity_Name'], y=df['total_trf_with_opportunity'],hue=\"Stage\",data=df,ax=ax)\n",
        "g.set_title(\"Cantidad de Cuentas por Tipo de Cuenta por  Stage\", fontsize=20)\n",
        "g.set_xlabel(\"Tipo de Stage\", fontsize=18)\n",
        "g.set_ylabel(\"Cantidad de Cuentas\", fontsize=18)"
      ],
      "execution_count": null,
      "outputs": []
    },
    {
      "cell_type": "code",
      "metadata": {
        "id": "MV6o3oLLyh9x"
      },
      "source": [
        "df_owners_mean_wins = entrenamiento.groupby(\"Opportunity_Owner\")\\\n",
        ".filter(lambda x: (x[\"Stage\"].count() > 50 ))\n",
        "\n"
      ],
      "execution_count": null,
      "outputs": []
    },
    {
      "cell_type": "code",
      "metadata": {
        "id": "hjrjBAHVzBAu"
      },
      "source": [
        "df_owners_mean_wins"
      ],
      "execution_count": null,
      "outputs": []
    },
    {
      "cell_type": "code",
      "metadata": {
        "id": "r2PxbRUZy1NR"
      },
      "source": [
        "df_owners_mean_wins[\"Stage\"] = df_owners_mean_wins[\"Stage\"].apply(lambda x: 1 if (x == \"Closed Won\") else 0)\n",
        "\n",
        "df_owners_mean_wins"
      ],
      "execution_count": null,
      "outputs": []
    },
    {
      "cell_type": "code",
      "metadata": {
        "id": "nJO0xEH2yOM7"
      },
      "source": [
        "entrenamiento.groupby[\"Opportunity_Owner\"]"
      ],
      "execution_count": null,
      "outputs": []
    },
    {
      "cell_type": "code",
      "metadata": {
        "id": "h9nUR3JJoslR"
      },
      "source": [
        "#acount y trf\n",
        "accountName_sum_trf=entrenamiento.groupby(['Account_Name','TRF']).agg(sum_trf=('TRF','sum')).reset_index().nlargest(10,'sum_trf')\n",
        "accountName_sum_trf"
      ],
      "execution_count": null,
      "outputs": []
    },
    {
      "cell_type": "code",
      "metadata": {
        "id": "G-uK-bv6t3vu"
      },
      "source": [
        "#acount y trf\n",
        "account_sum_trf=entrenamiento.groupby(['Account_Name']).agg(sum_trf=('TRF','sum')).reset_index()\n"
      ],
      "execution_count": null,
      "outputs": []
    },
    {
      "cell_type": "code",
      "metadata": {
        "id": "n7RPQsYxowwS"
      },
      "source": [
        "account_cant_won=entrenamiento.loc[entrenamiento['Stage']=='Closed Won'].groupby(['Account_Name']).agg(cant_stage_won=('ID','count'))"
      ],
      "execution_count": null,
      "outputs": []
    },
    {
      "cell_type": "code",
      "metadata": {
        "id": "w88rLH-7wtcc"
      },
      "source": [
        "relacion_account_sum_trf_with_cant_won=pd.merge(account_sum_trf, account_cant_won,on='Account_Name', how='inner')"
      ],
      "execution_count": null,
      "outputs": []
    },
    {
      "cell_type": "code",
      "metadata": {
        "id": "wxKXMa4_x5Wj"
      },
      "source": [
        "relacion_account_sum_trf_with_cant_won"
      ],
      "execution_count": null,
      "outputs": []
    },
    {
      "cell_type": "code",
      "metadata": {
        "id": "lJ0A96s9UeDD"
      },
      "source": [
        "#acount y trf\n",
        "account_sum_trf=entrenamiento.groupby(['Account_Name']).agg(sum_trf=('TRF','sum')).reset_index()\n",
        "account_cant_losed=entrenamiento.loc[entrenamiento['Stage']=='Closed Lost'].groupby(['Account_Name']).agg(cant_stage_losed=('ID','count'))\n",
        "relacion_account_sum_trf_with_cant_losed=pd.merge(account_sum_trf, account_cant_losed,on='Account_Name', how='inner')\n",
        "relacion_account_sum_trf_with_cant_losed"
      ],
      "execution_count": null,
      "outputs": []
    },
    {
      "cell_type": "code",
      "metadata": {
        "id": "dWses7xjVQZP"
      },
      "source": [
        "sns.scatterplot(data=relacion_account_sum_trf_with_cant_losed, x=\"sum_trf\", y=\"cant_stage_losed\")"
      ],
      "execution_count": null,
      "outputs": []
    },
    {
      "cell_type": "code",
      "metadata": {
        "id": "hUXkkGt0x9Lk"
      },
      "source": [
        ""
      ],
      "execution_count": null,
      "outputs": []
    },
    {
      "cell_type": "code",
      "metadata": {
        "id": "GB98Ksq7xVHF"
      },
      "source": [
        "fig, ax = plt.subplots()\n",
        "\n",
        "sns.scatterplot(data=relacion_account_sum_trf_with_cant_won, x=\"sum_trf\", y=\"cant_stage_won\", ax=ax)\n",
        "ax2 = plt.axes([0.2, 0.6, .2, .2], facecolor='y')\n",
        "sns.boxplot(data=relacion_account_sum_trf_with_cant_won,x=\"sum_trf\", y=\"cant_stage_won\",ax=ax2)\n",
        "ax2.set_title('zoom')\n",
        "ax2.set_xlim([0,50])\n",
        "ax2.set_ylim([0,50])"
      ],
      "execution_count": null,
      "outputs": []
    },
    {
      "cell_type": "code",
      "metadata": {
        "id": "xnxhQtPcCKqu"
      },
      "source": [
        "relacion_account_sum_trf_with_cant_won['tipo']='stage_won'"
      ],
      "execution_count": null,
      "outputs": []
    },
    {
      "cell_type": "code",
      "metadata": {
        "id": "cvXMCj15Ys7o"
      },
      "source": [
        ""
      ],
      "execution_count": null,
      "outputs": []
    },
    {
      "cell_type": "code",
      "metadata": {
        "id": "KmVqMGh2Xc5-"
      },
      "source": [
        "fig, ax = plt.subplots()\n",
        "\n",
        "ax = sns.boxplot(x=\"tipo\", y=\"cant_stage_won\" , data=relacion_account_sum_trf_with_cant_won,ax=ax)\n",
        "ax2 = plt.axes([0.2, 0.6, .2, .2], facecolor='y')\n",
        "sns.boxplot( ax=ax2)\n",
        "ax2.set_title('zoom')\n",
        "ax2.set_xlim([0.9,1.])"
      ],
      "execution_count": null,
      "outputs": []
    },
    {
      "cell_type": "code",
      "metadata": {
        "id": "e_gkN4WIXc80"
      },
      "source": [
        "fig, ax = plt.subplots()\n",
        "sns.boxplot(d, ax=ax)\n",
        "\n",
        "ax2 = plt.axes([0.2, 0.6, .2, .2], facecolor='y')\n",
        "sns.boxplot, ax=ax2)\n",
        "ax2.set_title('zoom')\n",
        "ax2.set_xlim([0.9,1.])"
      ],
      "execution_count": null,
      "outputs": []
    },
    {
      "cell_type": "code",
      "metadata": {
        "id": "3rwbtKynCKuK"
      },
      "source": [
        "entrenamiento.groupby(['Account_Name','Stage'])['Stage'].agg()"
      ],
      "execution_count": null,
      "outputs": []
    },
    {
      "cell_type": "code",
      "metadata": {
        "id": "7Pu2_z_XF3qF"
      },
      "source": [
        "entrenamiento.loc[(entrenamiento['Stage']=='Closed Lost' )| (entrenamiento['Stage']=='Closed Won')].agg({'Stage':lambda x: x.sum()})\n"
      ],
      "execution_count": null,
      "outputs": []
    },
    {
      "cell_type": "code",
      "metadata": {
        "id": "AevrieLZ0Ayv"
      },
      "source": [
        "entrenamiento.loc[(entrenamiento['Stage']=='Closed Lost' )| (entrenamiento['Stage']=='Closed Won')]\\\n",
        ".groupby(['Account_Name','Stage'])['Stage'].transform(lambda x: 1 if x=='Closed Lost' else 0)"
      ],
      "execution_count": null,
      "outputs": []
    },
    {
      "cell_type": "code",
      "metadata": {
        "id": "Fjxb1tZA0A2E"
      },
      "source": [
        "entrenamiento.loc[(entrenamiento['Stage']=='Closed Lost' )| (entrenamiento['Stage']=='Closed Won')]\\\n",
        ".groupby(['Account_Name','Stage']).agg(cant_stage_won=('ID','count'),cant_stage_loss=('ID','count')).head(50)"
      ],
      "execution_count": null,
      "outputs": []
    },
    {
      "cell_type": "code",
      "metadata": {
        "id": "RY-NpQCY_T1J"
      },
      "source": [
        "df=entrenamiento.loc[(entrenamiento['Stage']=='Closed Lost' )| (entrenamiento['Stage']=='Closed Won')]\\\n",
        ".groupby(['Account_Name','Stage']).agg(cant_stage_won=('ID','count'),cant_stage_loss=('ID','count')).reset_index()\n",
        "sns.scatterplot(data=df, x=\"cant_stage_won\", y=\"cant_stage_loss\", hue=\"Stage\")"
      ],
      "execution_count": null,
      "outputs": []
    },
    {
      "cell_type": "code",
      "metadata": {
        "id": "LQW6YDrG_T9a"
      },
      "source": [
        ""
      ],
      "execution_count": null,
      "outputs": []
    },
    {
      "cell_type": "code",
      "metadata": {
        "id": "rjgJiWUv0A5Y"
      },
      "source": [
        "entrenamiento.loc[(entrenamiento['Stage']=='Closed Lost' )| (entrenamiento['Stage']=='Closed Won')]\\\n",
        ".groupby(['Account_Name','Stage']).agg(cant_stage_won=('ID','count'),cant_stage_loss=('ID','count')).reset_index()"
      ],
      "execution_count": null,
      "outputs": []
    },
    {
      "cell_type": "code",
      "metadata": {
        "id": "X5s1_pbM3PzO"
      },
      "source": [
        ""
      ],
      "execution_count": null,
      "outputs": []
    },
    {
      "cell_type": "code",
      "metadata": {
        "id": "exS-oaQ33P2S"
      },
      "source": [
        ""
      ],
      "execution_count": null,
      "outputs": []
    },
    {
      "cell_type": "code",
      "metadata": {
        "id": "yhrIeTZtLAO1"
      },
      "source": [
        "prod=entrenamiento.groupby(['Product_Name','ASP_Currency']).agg(cant=('ID','count')).reset_index()\n",
        "prod['Product_Name'].value_counts()"
      ],
      "execution_count": null,
      "outputs": []
    },
    {
      "cell_type": "code",
      "metadata": {
        "id": "RAJldYgEojts"
      },
      "source": [
        ""
      ],
      "execution_count": null,
      "outputs": []
    },
    {
      "cell_type": "code",
      "metadata": {
        "id": "Is8r9XjFojxR"
      },
      "source": [
        ""
      ],
      "execution_count": null,
      "outputs": []
    },
    {
      "cell_type": "code",
      "metadata": {
        "id": "7qeUMTVvTRZg"
      },
      "source": [
        "prod=entrenamiento.groupby(['Product_Name','ASP_Currency']).agg(cant=('ID','count')).reset_index()\n",
        "prod['Product_Name'].value_counts()"
      ],
      "execution_count": null,
      "outputs": []
    },
    {
      "cell_type": "code",
      "metadata": {
        "id": "EEExKXz7R58H"
      },
      "source": [
        "#un producto tiene distintos "
      ],
      "execution_count": null,
      "outputs": []
    },
    {
      "cell_type": "code",
      "metadata": {
        "id": "TmhaImQBQO9Z"
      },
      "source": [
        "prod=entrenamiento.groupby(['Product_Name','ASP_Currency']).agg(cant=('ID','count')).reset_index()\n",
        "prod['Product_Name'].value_counts()"
      ],
      "execution_count": null,
      "outputs": []
    },
    {
      "cell_type": "code",
      "metadata": {
        "id": "aYi-R15cQ1M8"
      },
      "source": [
        "prod.loc[prod['Product_Name']=='Product_Name_85',['Product_Name','ASP_Currency']]"
      ],
      "execution_count": null,
      "outputs": []
    },
    {
      "cell_type": "code",
      "metadata": {
        "id": "u9jopfnMUcom"
      },
      "source": [
        "# product name no se relaciona con ASP, parece que crece a medida que pasa el tiempo\n",
        "\n",
        "(Average Selling Price) precio promedio a la venta (Decimal)."
      ],
      "execution_count": null,
      "outputs": []
    },
    {
      "cell_type": "code",
      "metadata": {
        "id": "9y5KFVRpUcu5"
      },
      "source": [
        "prod=entrenamiento.groupby(['Product_Name','ASP']).agg(cant=('ID','count')).reset_index()\n",
        "prod['Product_Name'].value_counts()"
      ],
      "execution_count": null,
      "outputs": []
    },
    {
      "cell_type": "code",
      "metadata": {
        "id": "LQ3D5JkxUcnS"
      },
      "source": [
        "prod.loc[prod['Product_Name']=='Product_Name_85',['Product_Name','ASP']]"
      ],
      "execution_count": null,
      "outputs": []
    },
    {
      "cell_type": "code",
      "metadata": {
        "id": "OEv4aeBoWsjV"
      },
      "source": [
        "prod.drop_duplicates('VC_CODASI', keep=\"last\", inplace=True)"
      ],
      "execution_count": null,
      "outputs": []
    },
    {
      "cell_type": "code",
      "metadata": {
        "id": "FY6P02S0YD10"
      },
      "source": [
        "prod=entrenamiento.groupby(['Account_Name','ASP']).agg(cant=('ID','count')).reset_index()\n",
        "prod.nlargest(10,'cant')"
      ],
      "execution_count": null,
      "outputs": []
    },
    {
      "cell_type": "code",
      "metadata": {
        "id": "Da2_R3ouYD4i"
      },
      "source": [
        "entrenamiento.loc[entrenamiento['Account_Name']=='Account_Name_25',['Account_Name','ASP']]"
      ],
      "execution_count": null,
      "outputs": []
    },
    {
      "cell_type": "code",
      "metadata": {
        "id": "Ovhi3XPwYD7p"
      },
      "source": [
        "entrenamiento.groupby([''])"
      ],
      "execution_count": null,
      "outputs": []
    },
    {
      "cell_type": "code",
      "metadata": {
        "id": "wTf6pgpf_D78"
      },
      "source": [
        "#tiempo de vida promedio de una cuenta\n"
      ],
      "execution_count": null,
      "outputs": []
    },
    {
      "cell_type": "code",
      "metadata": {
        "id": "r9TX5KmQ_D-3"
      },
      "source": [
        "entrenamiento['Account_Created_Date']= pd.to_datetime(entrenamiento['Account_Created_Date'])\n",
        "entrenamiento['Year_Account_Created_Date']= entrenamiento['Account_Created_Date'].dt.year\n",
        "\n",
        "entrenamiento['Month_Account_Created_Date']= entrenamiento['Account_Created_Date'].dt.month\n",
        "entrenamiento['Day_Account_Created_Date']= entrenamiento['Account_Created_Date'].dt.day"
      ],
      "execution_count": null,
      "outputs": []
    },
    {
      "cell_type": "code",
      "metadata": {
        "id": "0-zE-0np_kyD"
      },
      "source": [
        "account_year_created=entrenamiento.groupby(['Account_Name','Year_Account_Created_Date']).agg(cant=('ID','count')).reset_index()#.nlargest(20,'cant')"
      ],
      "execution_count": null,
      "outputs": []
    },
    {
      "cell_type": "code",
      "metadata": {
        "id": "so4LUjYaHhAm"
      },
      "source": [
        "entrenamiento[['Account_Name','Planned_Delivery_Start_Date','Stage','Product_Name']].head(60)"
      ],
      "execution_count": null,
      "outputs": []
    },
    {
      "cell_type": "code",
      "metadata": {
        "id": "TKVE8pCZDiOz"
      },
      "source": [
        "df=entrenamiento\n",
        "df['delta_tiempo']=entrenamiento.groupby('Account_Name')['Account_Created_Date'].transform(lambda x: x.min()-x.max())\n",
        "df['Account_Name'].value_counts()"
      ],
      "execution_count": null,
      "outputs": []
    },
    {
      "cell_type": "code",
      "metadata": {
        "id": "2y1-Fyv3_kw8"
      },
      "source": [
        "account_year_created['Account_Name'].value_counts()"
      ],
      "execution_count": null,
      "outputs": []
    },
    {
      "cell_type": "code",
      "metadata": {
        "id": "EtWLYWwH8g4f"
      },
      "source": [
        "ax = sns.boxplot(x=\"day\", y=\"total_bill\", data=tips)"
      ],
      "execution_count": null,
      "outputs": []
    },
    {
      "cell_type": "code",
      "metadata": {
        "id": "TTAtLl4w7j3S"
      },
      "source": [
        "entrenamiento['Planned_Delivery_End_Date'].value_counts()"
      ],
      "execution_count": null,
      "outputs": []
    },
    {
      "cell_type": "code",
      "metadata": {
        "id": "If_40Bzl9OuV"
      },
      "source": [
        "entrenamiento['Planned_Delivery_End_Date'].value_counts()"
      ],
      "execution_count": null,
      "outputs": []
    },
    {
      "cell_type": "code",
      "metadata": {
        "id": "tssW0p69cWv9"
      },
      "source": [
        ""
      ],
      "execution_count": null,
      "outputs": []
    },
    {
      "cell_type": "code",
      "metadata": {
        "id": "GwoLPM4y_EJR"
      },
      "source": [
        ""
      ],
      "execution_count": null,
      "outputs": []
    },
    {
      "cell_type": "code",
      "metadata": {
        "id": "xZhzTntR5jVm"
      },
      "source": [
        ""
      ],
      "execution_count": null,
      "outputs": []
    },
    {
      "cell_type": "code",
      "metadata": {
        "id": "saqzqSVa4XCA"
      },
      "source": [
        "La cantidad de items de oportunidad varia por Año?"
      ],
      "execution_count": null,
      "outputs": []
    },
    {
      "cell_type": "code",
      "metadata": {
        "id": "ox0Cmhh3_bqn"
      },
      "source": [
        ""
      ],
      "execution_count": null,
      "outputs": []
    },
    {
      "cell_type": "code",
      "metadata": {
        "id": "l0kbH8o2JDHz"
      },
      "source": [
        ""
      ],
      "execution_count": null,
      "outputs": []
    },
    {
      "cell_type": "code",
      "metadata": {
        "id": "ODLvDPiJB_Is"
      },
      "source": [
        "#aca empese a nalizar cuenta por pais"
      ],
      "execution_count": null,
      "outputs": []
    },
    {
      "cell_type": "code",
      "metadata": {
        "id": "lJ1XRbP4JGny"
      },
      "source": [
        "entrenamiento['Region','Account_Type'].agg(cantidad_type_account=('ID','count'))"
      ],
      "execution_count": null,
      "outputs": []
    },
    {
      "cell_type": "code",
      "metadata": {
        "id": "plcX-_PNuHd5"
      },
      "source": [
        "entrenamiento.groupby(['Account_Type','Territory']).agg(cantidad_type_account=('ID','count'))"
      ],
      "execution_count": null,
      "outputs": []
    },
    {
      "cell_type": "code",
      "metadata": {
        "id": "VtTgmj3I5oea"
      },
      "source": [
        "entrenamiento.groupby(['Account_Type','Territory']).agg(cantidad_type_account=('ID','count')).nlargest(10,'cantidad_type_account')"
      ],
      "execution_count": null,
      "outputs": []
    },
    {
      "cell_type": "code",
      "metadata": {
        "id": "NsFG1m8V6D9f"
      },
      "source": [
        "df=entrenamiento.groupby(['Account_Type','Territory']).agg(cantidad_type_account=('ID','count'))\n",
        "df.nlargest(10,'cantidad_type_account')"
      ],
      "execution_count": null,
      "outputs": []
    },
    {
      "cell_type": "code",
      "metadata": {
        "id": "Bf6fw-786D7f"
      },
      "source": [
        ""
      ],
      "execution_count": null,
      "outputs": []
    },
    {
      "cell_type": "code",
      "metadata": {
        "id": "ktaGXdGL068w"
      },
      "source": [
        "def asf(x):\n",
        "  for pos,item in enumerate(x):\n",
        "    if (pos<10 and item< x.mean()):\n",
        "      return True\n",
        "    else:\n",
        "      return False \n",
        "  return False      \n",
        "      "
      ],
      "execution_count": null,
      "outputs": []
    },
    {
      "cell_type": "code",
      "metadata": {
        "id": "o9qATK293QTL"
      },
      "source": [
        "def asf(x):\n",
        "  if (x< x.mean()).all():\n",
        "      return 'true'\n",
        "  else:\n",
        "      return 'false'\n"
      ],
      "execution_count": null,
      "outputs": []
    },
    {
      "cell_type": "code",
      "metadata": {
        "id": "wMnTvgYuJGtf"
      },
      "source": [
        "at=entrenamiento.groupby(['Account_Type','Territory']).agg(cantidad_type_account=('ID','count'))\\\n",
        ".transform(lambda x: x>x.mean()).reset_index()\n"
      ],
      "execution_count": null,
      "outputs": []
    },
    {
      "cell_type": "code",
      "metadata": {
        "id": "7oj9JBVgwDoP"
      },
      "source": [
        "at.loc[at['cantidad_type_account']==True ,:].groupby(['Account_Type','Territory'])"
      ],
      "execution_count": null,
      "outputs": []
    },
    {
      "cell_type": "code",
      "metadata": {
        "id": "PMD4LkK0JGxQ"
      },
      "source": [
        ""
      ],
      "execution_count": null,
      "outputs": []
    },
    {
      "cell_type": "markdown",
      "metadata": {
        "id": "_5t6sJrjJHPI"
      },
      "source": [
        "-------------------------------------------------\n",
        "####PRUEBAS, NO VEAN LOQUE SIGUE"
      ]
    },
    {
      "cell_type": "code",
      "metadata": {
        "id": "N7AY-705JDLM"
      },
      "source": [
        ""
      ],
      "execution_count": null,
      "outputs": []
    },
    {
      "cell_type": "code",
      "metadata": {
        "id": "g5F_JwPs_byp"
      },
      "source": [
        ""
      ],
      "execution_count": null,
      "outputs": []
    },
    {
      "cell_type": "code",
      "metadata": {
        "id": "UwmFPnWCJOAa"
      },
      "source": [
        ""
      ],
      "execution_count": null,
      "outputs": []
    },
    {
      "cell_type": "code",
      "metadata": {
        "id": "dleaiWwlJOD1"
      },
      "source": [
        ""
      ],
      "execution_count": null,
      "outputs": []
    },
    {
      "cell_type": "code",
      "metadata": {
        "id": "6F0gZAhoJOHL"
      },
      "source": [
        ""
      ],
      "execution_count": null,
      "outputs": []
    },
    {
      "cell_type": "code",
      "metadata": {
        "id": "iQq6jr-yJOKp"
      },
      "source": [
        ""
      ],
      "execution_count": null,
      "outputs": []
    },
    {
      "cell_type": "code",
      "metadata": {
        "id": "W-KLvpe48c90"
      },
      "source": [
        "entrenamiento.groupby(['Region','Territory']).agg(cantidad_muestra=('ID','count'))['cantidad_muestra'].transform(lambda x: x> (x.mean()-1100))"
      ],
      "execution_count": null,
      "outputs": []
    },
    {
      "cell_type": "code",
      "metadata": {
        "id": "0aFrtPZo_izz"
      },
      "source": [
        "lugares_cantidad_casos=entrenamiento.groupby(['Region'])['ID'].transform(lambda)"
      ],
      "execution_count": null,
      "outputs": []
    },
    {
      "cell_type": "code",
      "metadata": {
        "id": "r97GFWna-IDT"
      },
      "source": [
        "lugares_cantidad_casos=entrenamiento.groupby(['Region','Territory']).agg(cantidad_muestra=('ID','count'))\n",
        "lugares_cantidad_casos.groupby(['Region'])['cantidad_muestra'].transform('mean')"
      ],
      "execution_count": null,
      "outputs": []
    },
    {
      "cell_type": "code",
      "metadata": {
        "id": "Vjn09UXJ_DQx"
      },
      "source": [
        "entrenamiento.groupby(['Region'])['ID'].transform('sum')"
      ],
      "execution_count": null,
      "outputs": []
    },
    {
      "cell_type": "code",
      "metadata": {
        "id": "FmXMvc82AZrG"
      },
      "source": [
        "entrenamiento.groupby(['Region'])['ID'].transform('mean')"
      ],
      "execution_count": null,
      "outputs": []
    },
    {
      "cell_type": "code",
      "metadata": {
        "id": "Ujo4aVzBAfBM"
      },
      "source": [
        ""
      ],
      "execution_count": null,
      "outputs": []
    },
    {
      "cell_type": "code",
      "metadata": {
        "id": "vH_VGRoA9Okl"
      },
      "source": [
        "lugares_cantidad_casos=entrenamiento.groupby(['Region','Territory']).agg(cantidad_muestra=('ID','count')).reset_index()\n",
        "lugares_cantidad_casos.groupby(['Region','Territory']).transform(lambda x:x>x.mean())"
      ],
      "execution_count": null,
      "outputs": []
    },
    {
      "cell_type": "code",
      "metadata": {
        "id": "ZFFzDYvhu2K1"
      },
      "source": [
        ""
      ],
      "execution_count": null,
      "outputs": []
    },
    {
      "cell_type": "code",
      "metadata": {
        "id": "uU2YcfvEFm54"
      },
      "source": [
        "lugares_cantidad_casos=entrenamiento.groupby(['Region','Territory']).agg(cantidad_muestra=('ID','count')).reset_index()\n",
        "lugares_cantidad_casos"
      ],
      "execution_count": null,
      "outputs": []
    },
    {
      "cell_type": "code",
      "metadata": {
        "id": "3hVC9SW2l8aC"
      },
      "source": [
        "lugares_cantidad_casos=lugares_cantidad_casos"
      ],
      "execution_count": null,
      "outputs": []
    },
    {
      "cell_type": "code",
      "metadata": {
        "id": "Ib3ogNkgt18u"
      },
      "source": [
        "plt.figure(figsize=(12,6))\n",
        "squarify.plot(sizes=[(25,50),(75,100),(125,56),(25,34),(15,98)],\n",
        "              color=['red','blue','yellow','green','orange']*2,\n",
        "              label=['A\\n25','B\\n50','C\\n75','D\\n100','E\\n125']*2,\n",
        "              pad )\n",
        "\n",
        "plt.title('Treemap')\n",
        "plt.axis('off');\n",
        "# ; gets rid of extra text\n",
        "# some IDEs/text editors may require plt.show()"
      ],
      "execution_count": null,
      "outputs": []
    },
    {
      "cell_type": "code",
      "metadata": {
        "id": "EaLK776Th0ri"
      },
      "source": [
        "plt.figure(figsize=(12,6))\n",
        "squarify.plot(sizes=[25,50,75,100,125],\n",
        "              color=['red','blue','yellow','green','orange'],\n",
        "              label=['A\\n25','B\\n50','C\\n75','D\\n100','E\\n125'],\n",
        "              pad=True)\n",
        "\n",
        "plt.title('Treemap')\n",
        "plt.axis('off');\n",
        "# ; gets rid of extra text\n",
        "# some IDEs/text editors may require plt.show()"
      ],
      "execution_count": null,
      "outputs": []
    },
    {
      "cell_type": "code",
      "metadata": {
        "id": "h8mXzrVlwFra"
      },
      "source": [
        "lugares_cantidad_casos=entrenamiento.groupby(['Region']).agg(cantidad_muestra=('ID','count')).reset_index()\n"
      ],
      "execution_count": null,
      "outputs": []
    },
    {
      "cell_type": "code",
      "metadata": {
        "id": "sFewxrLnj8wh"
      },
      "source": [
        "#Utilise matplotlib to scale our goal numbers between the min and max, then assign this scale to our values.\n",
        "norm = matplotlib.colors.Normalize(vmin=min(lugares_cantidad_casos.cantidad_muestra), vmax=max(lugares_cantidad_casos.cantidad_muestra))\n",
        "colors = [matplotlib.cm.Blues(norm(value)) for value in lugares_cantidad_casos.cantidad_muestra]"
      ],
      "execution_count": null,
      "outputs": []
    },
    {
      "cell_type": "code",
      "metadata": {
        "id": "dsRNDdrZkoNf"
      },
      "source": [
        "#Create our plot and resize it.\n",
        "fig = plt.gcf()\n",
        "ax = fig.add_subplot()\n",
        "fig.set_size_inches(16, 4.5)"
      ],
      "execution_count": null,
      "outputs": []
    },
    {
      "cell_type": "code",
      "metadata": {
        "id": "GR_RFTr-lBVz"
      },
      "source": [
        "#Create our plot and resize it.\n",
        "fig = plt.gcf()\n",
        "ax = fig.add_subplot()\n",
        "fig.set_size_inches(16, 4.5)\n",
        "#Use squarify to plot our data, label it and add colours. We add an alpha layer to ensure black labels show through\n",
        "squarify.plot(label=lugares_cantidad_casos.Region ,sizes=lugares_cantidad_casos.cantidad_muestra, color = colors, alpha=.6)\n",
        "plt.title(\"Man City Goals\",fontsize=23,fontweight=\"bold\")"
      ],
      "execution_count": null,
      "outputs": []
    },
    {
      "cell_type": "code",
      "metadata": {
        "id": "zvypB6aMj80B"
      },
      "source": [
        "#Create our plot and resize it.\n",
        "fig = plt.gcf()\n",
        "ax = fig.add_subplot()\n",
        "fig.set_size_inches(16, 4.5)\n",
        "#Use squarify to plot our data, label it and add colours. We add an alpha layer to ensure black labels show through\n",
        "squarify.plot(label=lugares_cantidad_casos.Region ,sizes=lugares_cantidad_casos.cantidad_muestra, color = colors, alpha=.6)\n",
        "plt.title(\"Man City Goals\",fontsize=23,fontweight=\"bold\")"
      ],
      "execution_count": null,
      "outputs": []
    },
    {
      "cell_type": "code",
      "metadata": {
        "id": "StRiUXdiks7i"
      },
      "source": [
        ""
      ],
      "execution_count": null,
      "outputs": []
    },
    {
      "cell_type": "code",
      "metadata": {
        "id": "EtGlAtbgktEY"
      },
      "source": [
        ""
      ],
      "execution_count": null,
      "outputs": []
    },
    {
      "cell_type": "code",
      "metadata": {
        "id": "0NbawJj-IQI8"
      },
      "source": [
        " \n",
        "vendors = [\"A\", \"B\", \"C\", \"D\", None, \"E\", \"F\", \"G\", \"H\", None]\n",
        "sectors = [\"Tech\", \"Tech\", \"Finance\", \"Finance\", \"Other\",\n",
        "        \"Tech\", \"Tech\", \"Finance\", \"Finance\", \"Other\"]\n",
        "regions = [\"North\", \"North\", \"North\", \"North\", \"North\",\n",
        "        \"South\", \"South\", \"South\", \"South\", \"South\"]\n",
        "sales = [1, 3, 2, 4, 1, 2, 2, 1, 4, 1]\n",
        "df = pd.DataFrame(\n",
        "    dict(vendors=vendors, sectors=sectors, regions=regions, sales=sales)\n",
        ")\n",
        "df[\"all\"] = \"all\"  # in order to have a single root node\n",
        "\n",
        "print(df)\n",
        "fig = px.treemap(df, path=['all', 'regions',\n",
        "                        'sectors', 'vendors'], values='sales')\n",
        "fig.show()"
      ],
      "execution_count": null,
      "outputs": []
    },
    {
      "cell_type": "code",
      "metadata": {
        "id": "_nbw9q8MMt_D"
      },
      "source": [
        "import treemap.render_to_file('treemap.html')"
      ],
      "execution_count": null,
      "outputs": []
    },
    {
      "cell_type": "code",
      "metadata": {
        "id": "ltXsbWcvI4XD"
      },
      "source": [
        "!pip install squarify\n",
        "!pip install pygal\n",
        "import matplotlib\n",
        "import matplotlib.pyplot as plt\n",
        "import pandas as pd\n",
        "import squarify\n",
        "import pygal\n",
        "\n"
      ],
      "execution_count": null,
      "outputs": []
    },
    {
      "cell_type": "code",
      "metadata": {
        "id": "K2qnFuMkM9Am"
      },
      "source": [
        "#!pip install cairosvg\n",
        "#import cairosvg\n",
        "treemap = pygal.Treemap()\n",
        "treemap.title = 'Binary TreeMap'\n",
        "treemap.add('A', [2, 1, 12, 4, 2, 1, 1, 3, 12, 3, 4, None, 9])\n",
        "treemap.add('B', [4, 2, 5, 10, 3, 4, 2, 7, 4, -10, None, 8, 3, 1])\n",
        "treemap.add('C', [3, 8, 3, 3, 5, 3, 3, 5, 4, 12])\n",
        "treemap.add('D', [23, 18])\n",
        "treemap.add('E', [1, 2, 1, 2, 3, 3, 1, 2, 3,\n",
        "      4, 3, 1, 2, 1, 1, 1, 1, 1])\n",
        "treemap.add('F', [31])\n",
        "treemap.add('G', [5, 9.3, 8.1, 12, 4, 3, 2])\n",
        "treemap.add('H', [12, 3, 3])\n",
        "treemap.add_squares()\n",
        "treemap"
      ],
      "execution_count": null,
      "outputs": []
    },
    {
      "cell_type": "code",
      "metadata": {
        "id": "bxvjIkE3QSnq"
      },
      "source": [
        "plt.figure(figsize=(12,6))\n",
        "squarify.plot(sizes=[25,50,75,100,125],\n",
        "              color=['red','blue','yellow','green','orange'],\n",
        "              label=['A\\n25','B\\n50','C\\n75','D\\n100','E\\n125'],\n",
        "              pad=True)\n",
        "\n",
        "plt.title('Treemap')\n",
        "plt.axis('off');\n",
        "# ; gets rid of extra text\n",
        "# some IDEs/text editors may require plt.show()"
      ],
      "execution_count": null,
      "outputs": []
    },
    {
      "cell_type": "code",
      "metadata": {
        "id": "cLnvYtb3KjAd"
      },
      "source": [
        "import squarify\n",
        "import matplotlib.pyplot as plt\n",
        "import numpy as np\n",
        "from vega_datasets import data as vds\n",
        "import pygal"
      ],
      "execution_count": null,
      "outputs": []
    },
    {
      "cell_type": "code",
      "metadata": {
        "id": "NX2fNnG8LO2z"
      },
      "source": [
        "squarify.plot?"
      ],
      "execution_count": null,
      "outputs": []
    },
    {
      "cell_type": "code",
      "metadata": {
        "id": "RxChLNQmLR7r"
      },
      "source": [
        "plt.figure(figsize=(12,6))\n",
        "squarify.plot(sizes=[25,50,75,100,125],\n",
        "              color=['red','blue','yellow','green','orange'],\n",
        "              label=['A\\n25','B\\n50','C\\n75','D\\n100','E\\n125'],\n",
        "              pad=True)\n",
        "\n",
        "plt.title('Treemap')\n",
        "plt.axis('off');\n",
        "# ; gets rid of extra text\n",
        "# some IDEs/text editors may require plt.show()"
      ],
      "execution_count": null,
      "outputs": []
    },
    {
      "cell_type": "code",
      "metadata": {
        "id": "Z0cMVqjqLi91"
      },
      "source": [
        "import plotly.express as pxfig = px.treemap(df, \n",
        "                 path=['Platform', 'Genre'], \n",
        "                 values='Global_Sales',\n",
        "                 color='NA_Sales'\n",
        "                )fig.show()"
      ],
      "execution_count": null,
      "outputs": []
    },
    {
      "cell_type": "code",
      "metadata": {
        "id": "hBnH85Iu8R9P"
      },
      "source": [
        " import plotly.express as px\n",
        " fig = px.treemap(df, \n",
        "                 path=['Platform', 'Genre'], \n",
        "                 values='Global_Sales',\n",
        "                 color='NA_Sales'\n",
        "                )\n",
        " fig.show()"
      ],
      "execution_count": null,
      "outputs": []
    },
    {
      "cell_type": "code",
      "metadata": {
        "id": "OETDYX2L5_ex"
      },
      "source": [
        "# If you have a data frame?\n",
        "\n",
        "df = pd.DataFrame({'nb_people':[8,3,4,2], 'group':[\"group A\", \"group B\", \"group C\", \"group D\"] })\n",
        "squarify.plot(sizes=df['nb_people'], label=df['group'], alpha=.8 )\n",
        "plt.axis('off')\n",
        "plt.show() "
      ],
      "execution_count": null,
      "outputs": []
    },
    {
      "cell_type": "code",
      "metadata": {
        "id": "lzWLuQBA6tLO"
      },
      "source": [
        "import plotly.express as px\n",
        "import pandas as pd\n",
        "from collections import defaultdict\n",
        "\n",
        "data = defaultdict()\n",
        "\n",
        "data['level_1'] = ['A', 'A', 'A', 'B', 'B', 'B']\n",
        "data['level_2'] = ['X', 'X', 'Y', 'Z', 'Z', 'X']\n",
        "data['level_3'] = ['1', '2', '2', '1', '1', '2']\n",
        "\n",
        "data =  pd.DataFrame.from_dict(data)\n",
        "fig = px.treemap(data, path=['level_1', 'level_2', 'level_3'])\n",
        "fig.show()\n"
      ],
      "execution_count": null,
      "outputs": []
    },
    {
      "cell_type": "code",
      "metadata": {
        "id": "3TjityVQmrnQ"
      },
      "source": [
        "entrenamiento.ASP.value_counts()"
      ],
      "execution_count": null,
      "outputs": []
    },
    {
      "cell_type": "code",
      "metadata": {
        "id": "Kty5r_ilHvDv"
      },
      "source": [
        "entrenamiento.Stage.value_counts()"
      ],
      "execution_count": null,
      "outputs": []
    },
    {
      "cell_type": "code",
      "metadata": {
        "id": "UMu8PtPktLUB"
      },
      "source": [
        "entrenamiento.columns"
      ],
      "execution_count": null,
      "outputs": []
    },
    {
      "cell_type": "code",
      "metadata": {
        "id": "z41I3m7-uDod"
      },
      "source": [
        "entrenamiento.info()"
      ],
      "execution_count": null,
      "outputs": []
    },
    {
      "cell_type": "code",
      "metadata": {
        "id": "6KTHwmzpyO2A"
      },
      "source": [
        "entrenamiento[['Total_Amount_Currency','Total_Taxable_Amount_Currency']]"
      ],
      "execution_count": null,
      "outputs": []
    },
    {
      "cell_type": "code",
      "metadata": {
        "id": "byUoXvNG1YnC"
      },
      "source": [
        "entrenamiento[['Stage','Month']]"
      ],
      "execution_count": null,
      "outputs": []
    },
    {
      "cell_type": "code",
      "metadata": {
        "id": "TZOk6dxC3nQT"
      },
      "source": [
        "data.plot(x='year', y='ct', ax=ax, label=key)"
      ],
      "execution_count": null,
      "outputs": []
    },
    {
      "cell_type": "code",
      "metadata": {
        "id": "Os9yBzrc2oFP"
      },
      "source": [
        "df.groupby(['mes','Stage']).agg(cantidad_muestra=())"
      ],
      "execution_count": null,
      "outputs": []
    },
    {
      "cell_type": "code",
      "metadata": {
        "id": "5nLQCfUZzmdo"
      },
      "source": [
        "from matplotlib import pyplot as plt\n",
        "fig, ax = plt.subplots()\n",
        "\n",
        "# key gives the group name (i.e. category), data gives the actual values\n",
        "for key, data in entrenamiento.groupby('Stage'):\n",
        "    data.plot(x='Stage', y='Month', ax=ax, label=key)"
      ],
      "execution_count": null,
      "outputs": []
    },
    {
      "cell_type": "code",
      "metadata": {
        "id": "vb-TZ4Gm1XwU"
      },
      "source": [
        ""
      ],
      "execution_count": null,
      "outputs": []
    },
    {
      "cell_type": "code",
      "metadata": {
        "id": "VplMv27ipUwq"
      },
      "source": [
        "entrenamiento['Total_Amount'].value_counts()"
      ],
      "execution_count": null,
      "outputs": []
    },
    {
      "cell_type": "code",
      "metadata": {
        "id": "TRbUinKtrxKe"
      },
      "source": [
        ""
      ],
      "execution_count": null,
      "outputs": []
    },
    {
      "cell_type": "code",
      "metadata": {
        "id": "oaqollPTrJhv"
      },
      "source": [
        "fig, ax = plt.subplots(figsize=(12,11))\n",
        "ax = pt.RainCloud(data = entrenamiento, x = 'Stage', y = 'ASP', \n",
        "                  orient='h',\n",
        "                 bw=.8, ax=ax\n",
        "                 )\n",
        "sns.despine()\n"
      ],
      "execution_count": null,
      "outputs": []
    },
    {
      "cell_type": "code",
      "metadata": {
        "id": "1ZWCOob7wUvu"
      },
      "source": [
        "entrenamiento.groupby(['Billing_Country'])['Billing_Country'].transform('count')"
      ],
      "execution_count": null,
      "outputs": []
    },
    {
      "cell_type": "code",
      "metadata": {
        "id": "vjmezB8cw4cw"
      },
      "source": [
        "entrenamiento['Billing_Country'].value_counts()"
      ],
      "execution_count": null,
      "outputs": []
    },
    {
      "cell_type": "code",
      "metadata": {
        "id": "bUXPJCU-xRGP"
      },
      "source": [
        "entrenamiento['Billing_Country'].describe()\n"
      ],
      "execution_count": null,
      "outputs": []
    },
    {
      "cell_type": "code",
      "metadata": {
        "id": "JO9WIKjeuU_0"
      },
      "source": [
        "billing_country_stage=entrenamiento.groupby(['Billing_Country','Stage']).agg(cantidad=('Stage','count')).unstack(level='Stage')"
      ],
      "execution_count": null,
      "outputs": []
    },
    {
      "cell_type": "code",
      "metadata": {
        "id": "_vjcqmGhzaFS"
      },
      "source": [
        "billing_country_stage.columns=['Closed Lost'   ,'Closed Won',  'Negotiation',     'Proposal','Qualification']"
      ],
      "execution_count": null,
      "outputs": []
    },
    {
      "cell_type": "code",
      "metadata": {
        "id": "wgiSyi3dxCQY"
      },
      "source": [
        "billing_country_stage"
      ],
      "execution_count": null,
      "outputs": []
    },
    {
      "cell_type": "code",
      "metadata": {
        "id": "_TISSa8sxAC-"
      },
      "source": [
        "\n",
        "\n",
        "g = sns.heatmap(billing_country_stage, linewidths=.5, cmap=\"YlGnBu\") # annot=True\n",
        "g.set_title(\"Cantidad de Proyectos por combinacion de Año y Mes\", fontsize=22)\n",
        "g.set_xlabel(\"Mes de Lanzamiento del Proyecto\",fontsize=15)\n",
        "g.set_ylabel(\"Año de Lanzamiento del Proyecto\", fontsize=15)\n",
        "\n"
      ],
      "execution_count": null,
      "outputs": []
    },
    {
      "cell_type": "code",
      "metadata": {
        "id": "uTaPA_wqyVGK"
      },
      "source": [
        "billing_country_stage.nlargest(10,'Closed Lost')"
      ],
      "execution_count": null,
      "outputs": []
    },
    {
      "cell_type": "code",
      "metadata": {
        "id": "Dm7zEIIXxTAK"
      },
      "source": [
        "fig, ax = plt.subplots(figsize=(12,10) )\n",
        "g = sns.heatmap(billing_country_stage.nlargest(10,'Closed Lost'), ax=ax, linewidths=.9, cmap=\"YlGnBu\") # annot=True\n",
        "g.set_title(\"Cantidad de Proyectos por combinacion de Año y Mes\", fontsize=22)\n",
        "g.set_xlabel(\"Mes de Lanzamiento del Proyecto\",fontsize=15)\n",
        "g.set_ylabel(\"Año de Lanzamiento del Proyecto\", fontsize=15)\n"
      ],
      "execution_count": null,
      "outputs": []
    },
    {
      "cell_type": "code",
      "metadata": {
        "id": "EnFHdY6i0Oyp"
      },
      "source": [
        "billing_country_stage.nlargest(10,'Closed Won')"
      ],
      "execution_count": null,
      "outputs": []
    },
    {
      "cell_type": "code",
      "metadata": {
        "id": "cDpENiF3ktVk"
      },
      "source": [
        ""
      ],
      "execution_count": null,
      "outputs": []
    },
    {
      "cell_type": "code",
      "metadata": {
        "id": "0uworCU1HvM_"
      },
      "source": [
        "entrenamiento.groupby(['Month','entrenamiento']).agg(stage_by_month=('Delivery_Year','count'))"
      ],
      "execution_count": null,
      "outputs": []
    },
    {
      "cell_type": "code",
      "metadata": {
        "id": "5PDP2IszHvQZ"
      },
      "source": [
        ""
      ],
      "execution_count": null,
      "outputs": []
    },
    {
      "cell_type": "markdown",
      "metadata": {
        "id": "oKCcpnNKmdlq"
      },
      "source": [
        "Acountype y su relacion"
      ]
    },
    {
      "cell_type": "code",
      "metadata": {
        "id": "XnLbPyqrHvS_"
      },
      "source": [
        "entrenamiento.info()"
      ],
      "execution_count": null,
      "outputs": []
    },
    {
      "cell_type": "code",
      "metadata": {
        "id": "KKrW7_2pHvXm"
      },
      "source": [
        "entrenamiento['Account_Type'].value_counts()"
      ],
      "execution_count": null,
      "outputs": []
    },
    {
      "cell_type": "code",
      "metadata": {
        "id": "rqB67j-anHLF"
      },
      "source": [
        "account_stage=entrenamiento.groupby(['Account_Type','Stage']).agg(cantidad=('Stage','count')).unstack(level='Stage').fillna(0)\n",
        "account_stage.columns=['Closed Lost','Closed Won','Negotiation','Proposal',' \tQualification']\n",
        "account_stage"
      ],
      "execution_count": null,
      "outputs": []
    },
    {
      "cell_type": "code",
      "metadata": {
        "id": "mGeE30tcDpoN"
      },
      "source": [
        "penguins"
      ],
      "execution_count": null,
      "outputs": []
    },
    {
      "cell_type": "code",
      "metadata": {
        "id": "HrlYrRcQEmME"
      },
      "source": [
        "#fig, ax = plt.subplots(figsize=(12,11))\n",
        " \n",
        "\n",
        " \n",
        "\n",
        "# Draw a nested barplot by species and sex\n",
        "g = sns.catplot(\n",
        "    data=cuenta_estado, kind=\"bar\",\n",
        "    x=\"Account_Type\", y=\"cantidad\", hue=\"Stage\",\n",
        "    ci=\"sd\", palette=\"dark\", alpha=.6, height=12\n",
        ")\n",
        "\n",
        "#g.set_title(\"Cantidad de Estados por Tipo y Anio\", fontsize=22)\n",
        "#g.set_xlabel(\"Cantidad por Estado\",fontsize=15)\n",
        "#g.set_ylabel(\"Anio\", fontsize=15)\n",
        "\n",
        "\n",
        "g.despine(left=True)\n",
        "g.set_axis_labels(\"\", \"Body mass (g)\")\n",
        "g.legend.set_title(\"\")"
      ],
      "execution_count": null,
      "outputs": []
    },
    {
      "cell_type": "code",
      "metadata": {
        "id": "w0DPWckaDnNF"
      },
      "source": [
        "fig, ax = plt.subplots(figsize=(12,11))\n",
        "g=sns.lineplot(data=df2, x=\"anio\", y=\"cant\", hue=\"Stage\",ax=ax)\n",
        "g.set_title(\"Cantidad de Estados por Tipo y Anio\", fontsize=22)\n",
        "g.set_xlabel(\"Cantidad por Estado\",fontsize=15)\n",
        "g.set_ylabel(\"Anio\", fontsize=15)\n",
        "\n",
        "sns.set_theme(style=\"whitegrid\")\n",
        "\n",
        "penguins = sns.load_dataset(\"penguins\")\n",
        "\n",
        "# Draw a nested barplot by species and sex\n",
        "g = sns.catplot(\n",
        "    data=cuenta_estado, kind=\"bar\",\n",
        "    x=\"Account_Type\", y=\"cantidad\", hue=\"Stage\",\n",
        "    ci=\"sd\", palette=\"dark\", alpha=.6, height=6\n",
        ")\n",
        "g.despine(left=True)\n",
        "g.set_axis_labels(\"\", \"Body mass (g)\")\n",
        "g.legend.set_title(\"\")"
      ],
      "execution_count": null,
      "outputs": []
    },
    {
      "cell_type": "code",
      "metadata": {
        "id": "9LvRL9YWBy3D"
      },
      "source": [
        "l=account_stage.columns.to_list()"
      ],
      "execution_count": null,
      "outputs": []
    },
    {
      "cell_type": "code",
      "metadata": {
        "id": "3WeihqlOApH-"
      },
      "source": [
        "g = sns.barplot(x=account_stage.Account_Type, y=account_stage.index,  hue=l,orient='h')\n",
        "g.set_title(\"Canciones por Genero Principal\", fontsize=15)\n",
        "g.set_xlabel(\"Numero de canciones\", fontsize=12)\n",
        "g.set_ylabel(\"Genero\", fontsize=12)"
      ],
      "execution_count": null,
      "outputs": []
    },
    {
      "cell_type": "code",
      "metadata": {
        "id": "aR8LvmQpxTLm"
      },
      "source": [
        "fig, ax = plt.subplots(figsize=(12,10) )\n",
        "g = sns.heatmap(account_stage, ax=ax, linewidths=.9, cmap=\"YlGnBu\") # annot=True\n",
        "g.set_title(\"Cantidad de cuentas por combinacion de tipo de cuenta y stage\", fontsize=22)\n",
        "g.set_xlabel(\"Tipo de Stage\",fontsize=15)\n",
        "g.set_ylabel(\"Tipo de Cuenta\", fontsize=15)\n"
      ],
      "execution_count": null,
      "outputs": []
    },
    {
      "cell_type": "code",
      "metadata": {
        "id": "7BlZElBDoO_b"
      },
      "source": [
        "relacion=entrenamiento.groupby(['Account_Type','Territory']).agg(cantidadTerritorio=('Stage','count'))\n",
        "relacion.columns=['cantidad_cuentas_territorio']\n",
        "relacion.head()"
      ],
      "execution_count": null,
      "outputs": []
    },
    {
      "cell_type": "code",
      "metadata": {
        "id": "Zr-1AGjTptdo"
      },
      "source": [
        "relacion['account_territory_media']=relacion['cantidad_cuentas_territorio'].transform(lambda x: x> x.mean())"
      ],
      "execution_count": null,
      "outputs": []
    },
    {
      "cell_type": "code",
      "metadata": {
        "id": "a3mCeLZOq1ao"
      },
      "source": [
        "acount_territory=relacion[relacion['account_territory_media']]\n",
        "acount_territory.head()\n"
      ],
      "execution_count": null,
      "outputs": []
    },
    {
      "cell_type": "code",
      "metadata": {
        "id": "uCz-0mb7uJ4U"
      },
      "source": [
        "acount_territory=acount_territory.reset_index()\n",
        "acount_territory[['Account_Type','cantidad_cuentas_territorio']]"
      ],
      "execution_count": null,
      "outputs": []
    },
    {
      "cell_type": "code",
      "metadata": {
        "id": "pPJ1JdjwtpUH"
      },
      "source": [
        "fig, ax = plt.subplots(figsize=(12,10) )\n",
        "g = sns.heatmap(acount_territory, ax=ax, linewidths=.9, cmap=\"YlGnBu\") # annot=True\n",
        "g.set_title(\"Cantidad de Proyectos por combinacion de Año y Mes\", fontsize=22)\n",
        "g.set_xlabel(\"Mes de Lanzamiento del Proyecto\",fontsize=15)\n",
        "g.set_ylabel(\"Año de Lanzamiento del Proyecto\", fontsize=15)\n"
      ],
      "execution_count": null,
      "outputs": []
    },
    {
      "cell_type": "code",
      "metadata": {
        "id": "xP2gx2oRtBpw"
      },
      "source": [
        " \n"
      ],
      "execution_count": null,
      "outputs": []
    },
    {
      "cell_type": "code",
      "metadata": {
        "id": "hxlQPkpLtCCH"
      },
      "source": [
        "fig, ax = plt.subplots(figsize=(12,11))\n",
        "ax = pt.RainCloud(data = entrenamiento, x = 'Stage', y = 'ASP', \n",
        "                  orient='h',\n",
        "                 bw=.8, ax=ax\n",
        "                 )\n",
        "sns.despine()\n"
      ],
      "execution_count": null,
      "outputs": []
    },
    {
      "cell_type": "code",
      "metadata": {
        "id": "Hnn22GhEtRyE"
      },
      "source": [
        "entrenamiento.info()"
      ],
      "execution_count": null,
      "outputs": []
    },
    {
      "cell_type": "code",
      "metadata": {
        "id": "W_MkD0S31YoE"
      },
      "source": [
        "entrenamiento[['Stage','Opportunity_Created_Date']]"
      ],
      "execution_count": null,
      "outputs": []
    },
    {
      "cell_type": "code",
      "metadata": {
        "id": "_LMPw-cu1-Ww"
      },
      "source": [
        ""
      ],
      "execution_count": null,
      "outputs": []
    },
    {
      "cell_type": "code",
      "metadata": {
        "id": "OiudyVQ52vGb"
      },
      "source": [
        "df=entrenamiento[['Stage','Opportunity_Created_Date']]\n",
        "df['opportunity_created_year']=pd.to_datetime(entrenamiento['Opportunity_Created_Date'])\n",
        "df['year']=df['opportunity_created_year'].dt.year"
      ],
      "execution_count": null,
      "outputs": []
    },
    {
      "cell_type": "code",
      "metadata": {
        "id": "2PnY-TAP35bW"
      },
      "source": [
        "df.plot.scatter('opportunity_created_year', 'Stage' , title='Relationship between Year of Award and Age',alpha=0.25,figsize=(12,8));"
      ],
      "execution_count": null,
      "outputs": []
    },
    {
      "cell_type": "code",
      "metadata": {
        "id": "8asWblPP5XeN"
      },
      "source": [
        "df.info()"
      ],
      "execution_count": null,
      "outputs": []
    },
    {
      "cell_type": "code",
      "metadata": {
        "id": "Uyzu8rWX4zzP"
      },
      "source": [
        "g = sns.boxplot(x=\"Stage\",y=\"year\", \n",
        "                     data=df, palette=\"hls\")\n",
        "g.set_title(\"BPM segun Artista Mas Frecuente\", fontsize=18)\n",
        "g.set_xlabel(\"Artista\", fontsize=14)\n",
        "g.set_ylabel(\"BPM\", fontsize=14)"
      ],
      "execution_count": null,
      "outputs": []
    },
    {
      "cell_type": "code",
      "metadata": {
        "id": "1pFZabBI2bk9"
      },
      "source": [
        "entrenamiento.plot.scatter('Opportunity_Created_Date', 'Stage' , title='Relationship between Year of Award and Age',alpha=0.25,figsize=(12,8));"
      ],
      "execution_count": null,
      "outputs": []
    },
    {
      "cell_type": "markdown",
      "metadata": {
        "id": "sPQzDdkzsVQ2"
      },
      "source": [
        "delibery terms y su relacion con stage"
      ]
    },
    {
      "cell_type": "code",
      "metadata": {
        "id": "xHLXjpb2scmf"
      },
      "source": [
        "entrenamiento['Opportunity_Created_Date ''Delivery_Terms'].value_counts()"
      ],
      "execution_count": null,
      "outputs": []
    },
    {
      "cell_type": "code",
      "metadata": {
        "id": "nvI3UoFkqJSN"
      },
      "source": [
        "fig, ax = plt.subplots(figsize=(12,10) )\n",
        "g = sns.heatmap(acount_territory, ax=ax, linewidths=.9, cmap=\"YlGnBu\") # annot=True\n",
        "g.set_title(\"Cantidad de Proyectos por combinacion de Año y Mes\", fontsize=22)\n",
        "g.set_xlabel(\"Mes de Lanzamiento del Proyecto\",fontsize=15)\n",
        "g.set_ylabel(\"Año de Lanzamiento del Proyecto\", fontsize=15)"
      ],
      "execution_count": null,
      "outputs": []
    },
    {
      "cell_type": "code",
      "metadata": {
        "id": "WbMXyxPCocmU"
      },
      "source": [
        "fig, ax = plt.subplots(figsize=(12,10) ) \n",
        "ax = delivery_terms_stage.plot(x=\"Delivery_Terms\", y=\"Closed Lost\", kind=\"bar\", ax=ax)\n",
        "ax.set_title(\"Cantidad segun el Termino de Envio segun el tipo de Stage\", fontsize=22)\n",
        "ax.set_xlabel(\"Stage\",fontsize=15)\n",
        "ax.set_ylabel(\"Cantidad\", fontsize=15)  \n",
        "delivery_terms_stage.plot(x=\"Delivery_Terms\", y=\"Closed Won\", kind=\"bar\", ax=ax, color=\"C2\")\n",
        "delivery_terms_stage.plot(x=\"Delivery_Terms\", y=\"Negotiation\", kind=\"bar\", ax=ax, color=\"C3\")\n",
        "delivery_terms_stage.plot(x=\"Delivery_Terms\", y=\"Proposal\", kind=\"bar\", ax=ax, color=\"C4\")\n",
        "delivery_terms_stage.plot(x=\"Delivery_Terms\", y=\"Qualification\", kind=\"bar\", ax=ax, color=\"C5\")\n",
        " \n",
        "plt.show()"
      ],
      "execution_count": null,
      "outputs": []
    },
    {
      "cell_type": "code",
      "metadata": {
        "id": "9V_bb_6Ymc32"
      },
      "source": [
        "y = np.random.rand(10,4)\n",
        "y[:,0]= np.arange(10)\n",
        "df = pd.DataFrame(y, columns=[\"X\", \"A\", \"B\", \"C\"])\n",
        "\n",
        "ax = df.plot(x=\"X\", y=\"A\", kind=\"bar\")\n",
        "df.plot(x=\"X\", y=\"B\", kind=\"bar\", ax=ax, color=\"C2\")\n",
        "df.plot(x=\"X\", y=\"C\", kind=\"bar\", ax=ax, color=\"C3\")\n",
        "\n",
        "plt.show()"
      ],
      "execution_count": null,
      "outputs": []
    },
    {
      "cell_type": "code",
      "metadata": {
        "id": "J2kRqTilsrpR"
      },
      "source": [
        "fig, ax = plt.subplots(figsize=(12,11))\n",
        "ax = pt.RainCloud(data = entrenamiento, x = 'Stage', y = 'ASP', \n",
        "                  orient='h',\n",
        "                 bw=.8, ax=ax\n",
        "                 )\n",
        "sns.despine()\n"
      ],
      "execution_count": null,
      "outputs": []
    },
    {
      "cell_type": "code",
      "metadata": {
        "id": "ITFk_lKw_7qP"
      },
      "source": [
        "entrenamiento.info()"
      ],
      "execution_count": null,
      "outputs": []
    },
    {
      "cell_type": "code",
      "metadata": {
        "id": "7qNuwFpnASpU"
      },
      "source": [
        "entrenamiento['Account_Name'].value_counts()"
      ],
      "execution_count": null,
      "outputs": []
    },
    {
      "cell_type": "code",
      "metadata": {
        "id": "m8pi1DlmBKP-"
      },
      "source": [
        "entrenamiento['Pricing, Delivery_Terms_Approved'].value_counts()"
      ],
      "execution_count": null,
      "outputs": []
    },
    {
      "cell_type": "code",
      "metadata": {
        "id": "d6JeiBTfBUPy"
      },
      "source": [
        "entrenamiento.groupby(['Account_Name','Pricing, Delivery_Terms_Approved']).agg(cant=('Stage','count')).nlargest(10,'cant')"
      ],
      "execution_count": null,
      "outputs": []
    },
    {
      "cell_type": "code",
      "metadata": {
        "id": "MZWNVpNAClWx"
      },
      "source": [
        "entrenamiento.loc[entrenamiento['Stage']=='Closed Won',:].groupby(['Account_Name','Stage']).agg(cant=('Stage','count')).nlargest(20,'cant')"
      ],
      "execution_count": null,
      "outputs": []
    },
    {
      "cell_type": "code",
      "metadata": {
        "id": "QFcNhrXhDeKl"
      },
      "source": [
        "#Europa, Oriente Medio y África.\n",
        "entrenamiento.groupby(['Account_Name','Region']).agg(cant=('Stage','count')).nlargest(20,'cant')"
      ],
      "execution_count": null,
      "outputs": []
    },
    {
      "cell_type": "code",
      "metadata": {
        "id": "g5NjF3BBZskn"
      },
      "source": [
        "ka=entrenamiento.groupby(['Region','Account_Name']).agg(cant=('Stage','count')).nlargest(20,'cant').groupby(['Region','Account_Name'],level='Region')"
      ],
      "execution_count": null,
      "outputs": []
    },
    {
      "cell_type": "code",
      "metadata": {
        "id": "TtWHsoV0pz77"
      },
      "source": [
        "#for key, item in ka:\n",
        "#    print(ka.get_group(key), \"\\n\\n\")"
      ],
      "execution_count": null,
      "outputs": []
    },
    {
      "cell_type": "code",
      "metadata": {
        "id": "uW0TK3EUEnJo"
      },
      "source": [
        "z=entrenamiento.loc[entrenamiento['Stage']=='Closed Won',:].groupby(['Region','Account_Name']).agg(cant=('Account_Name','count'))\\\n",
        ".nlargest(20,'cant').reset_index()\n",
        "z\n",
        "\n"
      ],
      "execution_count": null,
      "outputs": []
    },
    {
      "cell_type": "code",
      "metadata": {
        "id": "FVmbzfrsqrOZ"
      },
      "source": [
        "sns.scatterplot(z, x=\"Account_Name\", y=\"Region\")"
      ],
      "execution_count": null,
      "outputs": []
    },
    {
      "cell_type": "code",
      "metadata": {
        "id": "rPkS8WkZjeIK"
      },
      "source": [
        "entrenamiento['acount_amount_mayor_media']=entrenamiento.loc[entrenamiento['Stage']=='Closed Won',:].groupby(['Region','Account_Name']).agg(cant=('Account_Name','count'))\\\n",
        ".reset_index().groupby('Region')['cant'].transform(lambda x: x>x.mean())"
      ],
      "execution_count": null,
      "outputs": []
    },
    {
      "cell_type": "code",
      "metadata": {
        "id": "a2koEm7Sm8Tc"
      },
      "source": [
        "entrenamiento['acount_amount_mayor_media'].value_counts()"
      ],
      "execution_count": null,
      "outputs": []
    },
    {
      "cell_type": "code",
      "metadata": {
        "id": "pvIxObs1kqZ7"
      },
      "source": [
        "entrenamiento.loc[entrenamiento['acount_amount_mayor_media']==True,:].groupby(['Region','Account_Name']).agg(cant=('Account_Name','count'))\\\n"
      ],
      "execution_count": null,
      "outputs": []
    },
    {
      "cell_type": "code",
      "metadata": {
        "id": "zx0Edf9yjeLs"
      },
      "source": [
        ""
      ],
      "execution_count": null,
      "outputs": []
    },
    {
      "cell_type": "code",
      "metadata": {
        "id": "XKKw3d_HjeRA"
      },
      "source": [
        ""
      ],
      "execution_count": null,
      "outputs": []
    },
    {
      "cell_type": "code",
      "metadata": {
        "id": "muygYRz7d1T5"
      },
      "source": [
        "entrenamiento.loc[entrenamiento['Stage']=='Closed Won',:].groupby(['Region','Account_Name']).agg(cant=('Account_Name','count'))\\\n",
        ".nlargest(20,'cant').reset_index()\n"
      ],
      "execution_count": null,
      "outputs": []
    },
    {
      "cell_type": "code",
      "metadata": {
        "id": "U1G2dqo_bFmW"
      },
      "source": [
        "entrenamiento['Region'].value_counts()"
      ],
      "execution_count": null,
      "outputs": []
    }
  ]
}