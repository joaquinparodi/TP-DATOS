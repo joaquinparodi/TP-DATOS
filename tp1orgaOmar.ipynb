{
  "nbformat": 4,
  "nbformat_minor": 0,
  "metadata": {
    "colab": {
      "name": "tp1orga.ipynb",
      "provenance": [],
      "collapsed_sections": [],
      "authorship_tag": "ABX9TyO3Pz57X1I/pkNWp1qbTnH4",
      "include_colab_link": true
    },
    "kernelspec": {
      "name": "python3",
      "display_name": "Python 3"
    }
  },
  "cells": [
    {
      "cell_type": "markdown",
      "metadata": {
        "id": "view-in-github",
        "colab_type": "text"
      },
      "source": [
        "<a href=\"https://colab.research.google.com/github/joaquinparodi/TP1-DATOS/blob/main/tp1orgaOmar.ipynb\" target=\"_parent\"><img src=\"https://colab.research.google.com/assets/colab-badge.svg\" alt=\"Open In Colab\"/></a>"
      ]
    },
    {
      "cell_type": "code",
      "metadata": {
        "id": "BTDqJL94FYGe",
        "outputId": "24e72b7d-a8f1-40d8-d0af-3c3988a5d6e3",
        "colab": {
          "base_uri": "https://localhost:8080/"
        }
      },
      "source": [
        "# importacion general de librerias y de visualizacion (matplotlib y seaborn)\n",
        "!pip install ptitprince\n",
        "import ptitprince as pt\n",
        "import pandas as pd\n",
        "import numpy as np\n"
      ],
      "execution_count": 1,
      "outputs": [
        {
          "output_type": "stream",
          "text": [
            "Collecting ptitprince\n",
            "  Downloading https://files.pythonhosted.org/packages/4a/da/b7032999bc29a3974ac9c7939d56a669335966d8820356a723be978697fb/ptitprince-0.2.5.tar.gz\n",
            "Requirement already satisfied: seaborn>=0.10 in /usr/local/lib/python3.6/dist-packages (from ptitprince) (0.11.0)\n",
            "Requirement already satisfied: matplotlib in /usr/local/lib/python3.6/dist-packages (from ptitprince) (3.2.2)\n",
            "Requirement already satisfied: numpy>=1.13 in /usr/local/lib/python3.6/dist-packages (from ptitprince) (1.18.5)\n",
            "Requirement already satisfied: scipy in /usr/local/lib/python3.6/dist-packages (from ptitprince) (1.4.1)\n",
            "Collecting PyHamcrest>=1.9.0\n",
            "\u001b[?25l  Downloading https://files.pythonhosted.org/packages/40/16/e54cc65891f01cb62893540f44ffd3e8dab0a22443e1b438f1a9f5574bee/PyHamcrest-2.0.2-py3-none-any.whl (52kB)\n",
            "\u001b[K     |████████████████████████████████| 61kB 2.8MB/s \n",
            "\u001b[?25hRequirement already satisfied: cython in /usr/local/lib/python3.6/dist-packages (from ptitprince) (0.29.21)\n",
            "Requirement already satisfied: pandas>=0.23 in /usr/local/lib/python3.6/dist-packages (from seaborn>=0.10->ptitprince) (1.1.3)\n",
            "Requirement already satisfied: pyparsing!=2.0.4,!=2.1.2,!=2.1.6,>=2.0.1 in /usr/local/lib/python3.6/dist-packages (from matplotlib->ptitprince) (2.4.7)\n",
            "Requirement already satisfied: cycler>=0.10 in /usr/local/lib/python3.6/dist-packages (from matplotlib->ptitprince) (0.10.0)\n",
            "Requirement already satisfied: kiwisolver>=1.0.1 in /usr/local/lib/python3.6/dist-packages (from matplotlib->ptitprince) (1.2.0)\n",
            "Requirement already satisfied: python-dateutil>=2.1 in /usr/local/lib/python3.6/dist-packages (from matplotlib->ptitprince) (2.8.1)\n",
            "Requirement already satisfied: pytz>=2017.2 in /usr/local/lib/python3.6/dist-packages (from pandas>=0.23->seaborn>=0.10->ptitprince) (2018.9)\n",
            "Requirement already satisfied: six in /usr/local/lib/python3.6/dist-packages (from cycler>=0.10->matplotlib->ptitprince) (1.15.0)\n",
            "Building wheels for collected packages: ptitprince\n",
            "  Building wheel for ptitprince (setup.py) ... \u001b[?25l\u001b[?25hdone\n",
            "  Created wheel for ptitprince: filename=ptitprince-0.2.5-cp36-none-any.whl size=8427 sha256=274256044d7403b31ac99e283746f838f987f4b886e988043d76cad2f1596bda\n",
            "  Stored in directory: /root/.cache/pip/wheels/fb/c1/75/2ef8da161053bdf8e03f9a360f426accd4fac1ddf7f6ed0029\n",
            "Successfully built ptitprince\n",
            "Installing collected packages: PyHamcrest, ptitprince\n",
            "Successfully installed PyHamcrest-2.0.2 ptitprince-0.2.5\n"
          ],
          "name": "stdout"
        }
      ]
    },
    {
      "cell_type": "code",
      "metadata": {
        "id": "wtgYMgn_kuPz"
      },
      "source": [
        "import matplotlib.pylab as plt\n",
        "import seaborn as sns"
      ],
      "execution_count": 2,
      "outputs": []
    },
    {
      "cell_type": "code",
      "metadata": {
        "id": "ycF5SnjfGj4I"
      },
      "source": [
        "from pydrive.auth import GoogleAuth\n",
        "from pydrive.drive import GoogleDrive\n",
        "from google.colab import auth\n",
        "from oauth2client.client import GoogleCredentials"
      ],
      "execution_count": 3,
      "outputs": []
    },
    {
      "cell_type": "code",
      "metadata": {
        "id": "QJbV2lDrGj-b"
      },
      "source": [
        "auth.authenticate_user()\n",
        "gauth = GoogleAuth()\n",
        "gauth.credentials = GoogleCredentials.get_application_default()\n",
        "drive = GoogleDrive(gauth)"
      ],
      "execution_count": 4,
      "outputs": []
    },
    {
      "cell_type": "code",
      "metadata": {
        "id": "67yYcLf_GyAO"
      },
      "source": [
        " \n",
        "id='1aIyEwjxvHeljU-gu-iQMlHI596nZRPFJ'\n",
        "downloaded = drive.CreateFile({'id': id})\n",
        "downloaded.GetContentFile('data.csv')"
      ],
      "execution_count": 5,
      "outputs": []
    },
    {
      "cell_type": "code",
      "metadata": {
        "id": "0ArqLnSGHq_o",
        "outputId": "7326d978-0e3c-455a-caaa-ba5f935aa163",
        "colab": {
          "base_uri": "https://localhost:8080/",
          "height": 331
        }
      },
      "source": [
        "#1)Apertura\n",
        "entrenamiento = pd.read_csv('data.csv')\n",
        "entrenamiento.tail(5)"
      ],
      "execution_count": 7,
      "outputs": [
        {
          "output_type": "execute_result",
          "data": {
            "text/html": [
              "<div>\n",
              "<style scoped>\n",
              "    .dataframe tbody tr th:only-of-type {\n",
              "        vertical-align: middle;\n",
              "    }\n",
              "\n",
              "    .dataframe tbody tr th {\n",
              "        vertical-align: top;\n",
              "    }\n",
              "\n",
              "    .dataframe thead th {\n",
              "        text-align: right;\n",
              "    }\n",
              "</style>\n",
              "<table border=\"1\" class=\"dataframe\">\n",
              "  <thead>\n",
              "    <tr style=\"text-align: right;\">\n",
              "      <th></th>\n",
              "      <th>ID</th>\n",
              "      <th>Region</th>\n",
              "      <th>Territory</th>\n",
              "      <th>Pricing, Delivery_Terms_Quote_Appr</th>\n",
              "      <th>Pricing, Delivery_Terms_Approved</th>\n",
              "      <th>Bureaucratic_Code_0_Approval</th>\n",
              "      <th>Bureaucratic_Code_0_Approved</th>\n",
              "      <th>Submitted_for_Approval</th>\n",
              "      <th>Bureaucratic_Code</th>\n",
              "      <th>Account_Created_Date</th>\n",
              "      <th>Source</th>\n",
              "      <th>Billing_Country</th>\n",
              "      <th>Account_Name</th>\n",
              "      <th>Opportunity_Name</th>\n",
              "      <th>Opportunity_ID</th>\n",
              "      <th>Sales_Contract_No</th>\n",
              "      <th>Account_Owner</th>\n",
              "      <th>Opportunity_Owner</th>\n",
              "      <th>Account_Type</th>\n",
              "      <th>Opportunity_Type</th>\n",
              "      <th>Quote_Type</th>\n",
              "      <th>Delivery_Terms</th>\n",
              "      <th>Opportunity_Created_Date</th>\n",
              "      <th>Brand</th>\n",
              "      <th>Product_Type</th>\n",
              "      <th>Size</th>\n",
              "      <th>Product_Category_B</th>\n",
              "      <th>Price</th>\n",
              "      <th>Currency</th>\n",
              "      <th>Last_Activity</th>\n",
              "      <th>Quote_Expiry_Date</th>\n",
              "      <th>Last_Modified_Date</th>\n",
              "      <th>Last_Modified_By</th>\n",
              "      <th>Product_Family</th>\n",
              "      <th>Product_Name</th>\n",
              "      <th>ASP_Currency</th>\n",
              "      <th>ASP</th>\n",
              "      <th>ASP_(converted)_Currency</th>\n",
              "      <th>ASP_(converted)</th>\n",
              "      <th>Planned_Delivery_Start_Date</th>\n",
              "      <th>Planned_Delivery_End_Date</th>\n",
              "      <th>Month</th>\n",
              "      <th>Delivery_Quarter</th>\n",
              "      <th>Delivery_Year</th>\n",
              "      <th>Actual_Delivery_Date</th>\n",
              "      <th>TRF</th>\n",
              "      <th>Total_Amount_Currency</th>\n",
              "      <th>Total_Amount</th>\n",
              "      <th>Total_Taxable_Amount_Currency</th>\n",
              "      <th>Total_Taxable_Amount</th>\n",
              "      <th>Stage</th>\n",
              "      <th>Prod_Category_A</th>\n",
              "    </tr>\n",
              "  </thead>\n",
              "  <tbody>\n",
              "    <tr>\n",
              "      <th>16942</th>\n",
              "      <td>8781</td>\n",
              "      <td>EMEA</td>\n",
              "      <td>Austria</td>\n",
              "      <td>1</td>\n",
              "      <td>1</td>\n",
              "      <td>1</td>\n",
              "      <td>1</td>\n",
              "      <td>0</td>\n",
              "      <td>Bureaucratic_Code_4</td>\n",
              "      <td>1/15/2016</td>\n",
              "      <td>Source_7</td>\n",
              "      <td>Austria</td>\n",
              "      <td>Account_Name_726</td>\n",
              "      <td>Opportunity_Name_9245</td>\n",
              "      <td>12801</td>\n",
              "      <td>44</td>\n",
              "      <td>Person_Name_13</td>\n",
              "      <td>Person_Name_13</td>\n",
              "      <td>Account_Type_5</td>\n",
              "      <td>Opportunity_Type_1</td>\n",
              "      <td>Non Binding</td>\n",
              "      <td>Delivery_Terms_2</td>\n",
              "      <td>12/4/2015</td>\n",
              "      <td>None</td>\n",
              "      <td>None</td>\n",
              "      <td>None</td>\n",
              "      <td>None</td>\n",
              "      <td>None</td>\n",
              "      <td>None</td>\n",
              "      <td>NaT</td>\n",
              "      <td>NaT</td>\n",
              "      <td>1/19/2016</td>\n",
              "      <td>Person_Name_13</td>\n",
              "      <td>Product_Family_85</td>\n",
              "      <td>Product_Name_111</td>\n",
              "      <td>EUR</td>\n",
              "      <td>0.5200</td>\n",
              "      <td>USD</td>\n",
              "      <td>0.58817</td>\n",
              "      <td>3/21/2016</td>\n",
              "      <td>3/25/2016</td>\n",
              "      <td>2016 - 3</td>\n",
              "      <td>Q1</td>\n",
              "      <td>2016</td>\n",
              "      <td>NaT</td>\n",
              "      <td>0</td>\n",
              "      <td>EUR</td>\n",
              "      <td>103350.00</td>\n",
              "      <td>EUR</td>\n",
              "      <td>299715.0</td>\n",
              "      <td>Closed Won</td>\n",
              "      <td>Prod_Category_A_None</td>\n",
              "    </tr>\n",
              "    <tr>\n",
              "      <th>16943</th>\n",
              "      <td>8786</td>\n",
              "      <td>EMEA</td>\n",
              "      <td>Austria</td>\n",
              "      <td>1</td>\n",
              "      <td>1</td>\n",
              "      <td>1</td>\n",
              "      <td>1</td>\n",
              "      <td>0</td>\n",
              "      <td>Bureaucratic_Code_4</td>\n",
              "      <td>1/15/2016</td>\n",
              "      <td>Source_7</td>\n",
              "      <td>Austria</td>\n",
              "      <td>Account_Name_726</td>\n",
              "      <td>Opportunity_Name_9245</td>\n",
              "      <td>12801</td>\n",
              "      <td>44</td>\n",
              "      <td>Person_Name_13</td>\n",
              "      <td>Person_Name_13</td>\n",
              "      <td>Account_Type_5</td>\n",
              "      <td>Opportunity_Type_1</td>\n",
              "      <td>Non Binding</td>\n",
              "      <td>Delivery_Terms_2</td>\n",
              "      <td>12/4/2015</td>\n",
              "      <td>None</td>\n",
              "      <td>None</td>\n",
              "      <td>None</td>\n",
              "      <td>None</td>\n",
              "      <td>None</td>\n",
              "      <td>None</td>\n",
              "      <td>NaT</td>\n",
              "      <td>NaT</td>\n",
              "      <td>1/19/2016</td>\n",
              "      <td>Person_Name_13</td>\n",
              "      <td>Product_Family_85</td>\n",
              "      <td>Product_Name_111</td>\n",
              "      <td>EUR</td>\n",
              "      <td>0.5200</td>\n",
              "      <td>USD</td>\n",
              "      <td>0.58817</td>\n",
              "      <td>4/4/2016</td>\n",
              "      <td>4/8/2016</td>\n",
              "      <td>2016 - 4</td>\n",
              "      <td>Q2</td>\n",
              "      <td>2016</td>\n",
              "      <td>NaT</td>\n",
              "      <td>0</td>\n",
              "      <td>EUR</td>\n",
              "      <td>93015.00</td>\n",
              "      <td>EUR</td>\n",
              "      <td>299715.0</td>\n",
              "      <td>Closed Won</td>\n",
              "      <td>Prod_Category_A_None</td>\n",
              "    </tr>\n",
              "    <tr>\n",
              "      <th>16944</th>\n",
              "      <td>8792</td>\n",
              "      <td>EMEA</td>\n",
              "      <td>Austria</td>\n",
              "      <td>1</td>\n",
              "      <td>1</td>\n",
              "      <td>1</td>\n",
              "      <td>1</td>\n",
              "      <td>0</td>\n",
              "      <td>Bureaucratic_Code_4</td>\n",
              "      <td>1/15/2016</td>\n",
              "      <td>Source_7</td>\n",
              "      <td>Austria</td>\n",
              "      <td>Account_Name_726</td>\n",
              "      <td>Opportunity_Name_9245</td>\n",
              "      <td>12801</td>\n",
              "      <td>44</td>\n",
              "      <td>Person_Name_13</td>\n",
              "      <td>Person_Name_13</td>\n",
              "      <td>Account_Type_5</td>\n",
              "      <td>Opportunity_Type_1</td>\n",
              "      <td>Non Binding</td>\n",
              "      <td>Delivery_Terms_2</td>\n",
              "      <td>12/4/2015</td>\n",
              "      <td>None</td>\n",
              "      <td>None</td>\n",
              "      <td>None</td>\n",
              "      <td>None</td>\n",
              "      <td>None</td>\n",
              "      <td>None</td>\n",
              "      <td>NaT</td>\n",
              "      <td>NaT</td>\n",
              "      <td>1/19/2016</td>\n",
              "      <td>Person_Name_13</td>\n",
              "      <td>Product_Family_85</td>\n",
              "      <td>Product_Name_111</td>\n",
              "      <td>EUR</td>\n",
              "      <td>0.5200</td>\n",
              "      <td>USD</td>\n",
              "      <td>0.58817</td>\n",
              "      <td>3/28/2016</td>\n",
              "      <td>3/31/2016</td>\n",
              "      <td>2016 - 3</td>\n",
              "      <td>Q1</td>\n",
              "      <td>2016</td>\n",
              "      <td>NaT</td>\n",
              "      <td>0</td>\n",
              "      <td>EUR</td>\n",
              "      <td>103350.00</td>\n",
              "      <td>EUR</td>\n",
              "      <td>299715.0</td>\n",
              "      <td>Closed Won</td>\n",
              "      <td>Prod_Category_A_None</td>\n",
              "    </tr>\n",
              "    <tr>\n",
              "      <th>16945</th>\n",
              "      <td>28561</td>\n",
              "      <td>Americas</td>\n",
              "      <td>NE America</td>\n",
              "      <td>1</td>\n",
              "      <td>1</td>\n",
              "      <td>1</td>\n",
              "      <td>1</td>\n",
              "      <td>0</td>\n",
              "      <td>Bureaucratic_Code_4</td>\n",
              "      <td>10/20/2015</td>\n",
              "      <td>None</td>\n",
              "      <td>United States</td>\n",
              "      <td>Account_Name_944</td>\n",
              "      <td>Opportunity_Name_5843</td>\n",
              "      <td>12802</td>\n",
              "      <td>None</td>\n",
              "      <td>Person_Name_3</td>\n",
              "      <td>Person_Name_3</td>\n",
              "      <td>Account_Type_5</td>\n",
              "      <td>Opportunity_Type_1</td>\n",
              "      <td>Non Binding</td>\n",
              "      <td>Delivery_Terms_4</td>\n",
              "      <td>12/5/2015</td>\n",
              "      <td>None</td>\n",
              "      <td>None</td>\n",
              "      <td>None</td>\n",
              "      <td>None</td>\n",
              "      <td>None</td>\n",
              "      <td>None</td>\n",
              "      <td>NaT</td>\n",
              "      <td>2/29/2016</td>\n",
              "      <td>1/22/2016</td>\n",
              "      <td>Person_Name_3</td>\n",
              "      <td>Product_Family_158</td>\n",
              "      <td>Product_Name_287</td>\n",
              "      <td>USD</td>\n",
              "      <td>0.6375</td>\n",
              "      <td>USD</td>\n",
              "      <td>0.63750</td>\n",
              "      <td>4/25/2016</td>\n",
              "      <td>4/29/2016</td>\n",
              "      <td>2016 - 4</td>\n",
              "      <td>Q2</td>\n",
              "      <td>2016</td>\n",
              "      <td>NaT</td>\n",
              "      <td>4</td>\n",
              "      <td>USD</td>\n",
              "      <td>2346796.88</td>\n",
              "      <td>USD</td>\n",
              "      <td>0.0</td>\n",
              "      <td>Closed Lost</td>\n",
              "      <td>Prod_Category_A_None</td>\n",
              "    </tr>\n",
              "    <tr>\n",
              "      <th>16946</th>\n",
              "      <td>28318</td>\n",
              "      <td>Americas</td>\n",
              "      <td>NE America</td>\n",
              "      <td>1</td>\n",
              "      <td>1</td>\n",
              "      <td>1</td>\n",
              "      <td>1</td>\n",
              "      <td>0</td>\n",
              "      <td>Bureaucratic_Code_4</td>\n",
              "      <td>9/3/2015</td>\n",
              "      <td>None</td>\n",
              "      <td>United States</td>\n",
              "      <td>Account_Name_1401</td>\n",
              "      <td>Opportunity_Name_9911</td>\n",
              "      <td>12803</td>\n",
              "      <td>None</td>\n",
              "      <td>Person_Name_3</td>\n",
              "      <td>Person_Name_3</td>\n",
              "      <td>Account_Type_5</td>\n",
              "      <td>Opportunity_Type_19</td>\n",
              "      <td>Non Binding</td>\n",
              "      <td>Delivery_Terms_4</td>\n",
              "      <td>12/5/2015</td>\n",
              "      <td>None</td>\n",
              "      <td>None</td>\n",
              "      <td>None</td>\n",
              "      <td>None</td>\n",
              "      <td>None</td>\n",
              "      <td>None</td>\n",
              "      <td>NaT</td>\n",
              "      <td>1/6/2016</td>\n",
              "      <td>9/28/2016</td>\n",
              "      <td>Person_Name_3</td>\n",
              "      <td>Product_Family_164</td>\n",
              "      <td>Product_Name_307</td>\n",
              "      <td>USD</td>\n",
              "      <td>0.6400</td>\n",
              "      <td>USD</td>\n",
              "      <td>0.64000</td>\n",
              "      <td>7/1/2016</td>\n",
              "      <td>8/31/2016</td>\n",
              "      <td>2016 - 7</td>\n",
              "      <td>Q3</td>\n",
              "      <td>2016</td>\n",
              "      <td>NaT</td>\n",
              "      <td>40</td>\n",
              "      <td>USD</td>\n",
              "      <td>25603200.00</td>\n",
              "      <td>USD</td>\n",
              "      <td>0.0</td>\n",
              "      <td>Closed Lost</td>\n",
              "      <td>Prod_Category_A_None</td>\n",
              "    </tr>\n",
              "  </tbody>\n",
              "</table>\n",
              "</div>"
            ],
            "text/plain": [
              "          ID    Region  ...        Stage       Prod_Category_A\n",
              "16942   8781      EMEA  ...   Closed Won  Prod_Category_A_None\n",
              "16943   8786      EMEA  ...   Closed Won  Prod_Category_A_None\n",
              "16944   8792      EMEA  ...   Closed Won  Prod_Category_A_None\n",
              "16945  28561  Americas  ...  Closed Lost  Prod_Category_A_None\n",
              "16946  28318  Americas  ...  Closed Lost  Prod_Category_A_None\n",
              "\n",
              "[5 rows x 52 columns]"
            ]
          },
          "metadata": {
            "tags": []
          },
          "execution_count": 7
        }
      ]
    },
    {
      "cell_type": "code",
      "metadata": {
        "id": "wTf6pgpf_D78"
      },
      "source": [
        ""
      ],
      "execution_count": null,
      "outputs": []
    },
    {
      "cell_type": "code",
      "metadata": {
        "id": "r9TX5KmQ_D-3"
      },
      "source": [
        ""
      ],
      "execution_count": null,
      "outputs": []
    },
    {
      "cell_type": "code",
      "metadata": {
        "id": "IBvDV8IAsUL7",
        "outputId": "3402fa67-4e05-4bc7-d7a7-6917c5ae59d2",
        "colab": {
          "base_uri": "https://localhost:8080/",
          "height": 711
        }
      },
      "source": [
        "delivery_terms_stage=entrenamiento.groupby(['Delivery_Terms','Stage']).agg(cantidad=('Stage','count'))\n",
        "delivery_terms_stage=delivery_terms_stage.unstack(level='Stage').fillna(0)\n",
        "delivery_terms_stage.columns=['Closed Lost' ,\t'Closed Won', \t'Negotiation' ,\t'Proposal', \t'Qualification']\n",
        "delivery_terms_stage=delivery_terms_stage.reset_index()\n",
        "fig, ax = plt.subplots(figsize=(12,10) ) \n",
        "ax = delivery_terms_stage.plot(x=\"Delivery_Terms\", y=\"Closed Lost\", kind=\"bar\", ax=ax)\n",
        "ax.set_title(\"Cantidad segun el Termino de Envio segun el tipo de Stage\", fontsize=22)\n",
        "ax.set_xlabel(\"Stage\",fontsize=15)\n",
        "ax.set_ylabel(\"Cantidad\", fontsize=15)  \n",
        "delivery_terms_stage.plot(x=\"Delivery_Terms\", y=\"Closed Won\", kind=\"bar\", ax=ax, color=\"C2\")\n",
        "delivery_terms_stage.plot(x=\"Delivery_Terms\", y=\"Negotiation\", kind=\"bar\", ax=ax, color=\"C3\")\n",
        "delivery_terms_stage.plot(x=\"Delivery_Terms\", y=\"Proposal\", kind=\"bar\", ax=ax, color=\"C4\")\n",
        "delivery_terms_stage.plot(x=\"Delivery_Terms\", y=\"Qualification\", kind=\"bar\", ax=ax, color=\"C5\")\n",
        " \n",
        "plt.show()"
      ],
      "execution_count": null,
      "outputs": [
        {
          "output_type": "display_data",
          "data": {
            "image/png": "[encoded data removed]",
            "text/plain": [
              "<Figure size 864x720 with 1 Axes>"
            ]
          },
          "metadata": {
            "tags": [],
            "needs_background": "light"
          }
        }
      ]
    },
    {
      "cell_type": "code",
      "metadata": {
        "id": "GwoLPM4y_EJR"
      },
      "source": [
        ""
      ],
      "execution_count": null,
      "outputs": []
    },
    {
      "cell_type": "code",
      "metadata": {
        "id": "h3jboy8Y2BdZ"
      },
      "source": [
        "df=entrenamiento\n",
        "df['Month']=pd.to_datetime(entrenamiento['Month'])\n",
        "df['anio']=df['Month'].dt.year\n",
        "df['mes']=df['Month'].dt.month"
      ],
      "execution_count": null,
      "outputs": []
    },
    {
      "cell_type": "code",
      "metadata": {
        "id": "xZhzTntR5jVm"
      },
      "source": [
        "df=df.groupby(['mes','Stage']).agg(cant=('ID','count'))"
      ],
      "execution_count": null,
      "outputs": []
    },
    {
      "cell_type": "code",
      "metadata": {
        "id": "esup-Wxf6Ali",
        "outputId": "e6135d40-4ae8-4587-99e9-4deb75f9ee8d",
        "colab": {
          "base_uri": "https://localhost:8080/",
          "height": 1000
        }
      },
      "source": [
        "df"
      ],
      "execution_count": null,
      "outputs": [
        {
          "output_type": "execute_result",
          "data": {
            "text/html": [
              "<div>\n",
              "<style scoped>\n",
              "    .dataframe tbody tr th:only-of-type {\n",
              "        vertical-align: middle;\n",
              "    }\n",
              "\n",
              "    .dataframe tbody tr th {\n",
              "        vertical-align: top;\n",
              "    }\n",
              "\n",
              "    .dataframe thead th {\n",
              "        text-align: right;\n",
              "    }\n",
              "</style>\n",
              "<table border=\"1\" class=\"dataframe\">\n",
              "  <thead>\n",
              "    <tr style=\"text-align: right;\">\n",
              "      <th></th>\n",
              "      <th></th>\n",
              "      <th>cant</th>\n",
              "    </tr>\n",
              "    <tr>\n",
              "      <th>mes</th>\n",
              "      <th>Stage</th>\n",
              "      <th></th>\n",
              "    </tr>\n",
              "  </thead>\n",
              "  <tbody>\n",
              "    <tr>\n",
              "      <th rowspan=\"5\" valign=\"top\">1</th>\n",
              "      <th>Closed Lost</th>\n",
              "      <td>613</td>\n",
              "    </tr>\n",
              "    <tr>\n",
              "      <th>Closed Won</th>\n",
              "      <td>672</td>\n",
              "    </tr>\n",
              "    <tr>\n",
              "      <th>Negotiation</th>\n",
              "      <td>5</td>\n",
              "    </tr>\n",
              "    <tr>\n",
              "      <th>Proposal</th>\n",
              "      <td>8</td>\n",
              "    </tr>\n",
              "    <tr>\n",
              "      <th>Qualification</th>\n",
              "      <td>1</td>\n",
              "    </tr>\n",
              "    <tr>\n",
              "      <th rowspan=\"4\" valign=\"top\">2</th>\n",
              "      <th>Closed Lost</th>\n",
              "      <td>688</td>\n",
              "    </tr>\n",
              "    <tr>\n",
              "      <th>Closed Won</th>\n",
              "      <td>695</td>\n",
              "    </tr>\n",
              "    <tr>\n",
              "      <th>Negotiation</th>\n",
              "      <td>3</td>\n",
              "    </tr>\n",
              "    <tr>\n",
              "      <th>Proposal</th>\n",
              "      <td>2</td>\n",
              "    </tr>\n",
              "    <tr>\n",
              "      <th rowspan=\"3\" valign=\"top\">3</th>\n",
              "      <th>Closed Lost</th>\n",
              "      <td>800</td>\n",
              "    </tr>\n",
              "    <tr>\n",
              "      <th>Closed Won</th>\n",
              "      <td>827</td>\n",
              "    </tr>\n",
              "    <tr>\n",
              "      <th>Proposal</th>\n",
              "      <td>3</td>\n",
              "    </tr>\n",
              "    <tr>\n",
              "      <th rowspan=\"5\" valign=\"top\">4</th>\n",
              "      <th>Closed Lost</th>\n",
              "      <td>651</td>\n",
              "    </tr>\n",
              "    <tr>\n",
              "      <th>Closed Won</th>\n",
              "      <td>825</td>\n",
              "    </tr>\n",
              "    <tr>\n",
              "      <th>Negotiation</th>\n",
              "      <td>2</td>\n",
              "    </tr>\n",
              "    <tr>\n",
              "      <th>Proposal</th>\n",
              "      <td>4</td>\n",
              "    </tr>\n",
              "    <tr>\n",
              "      <th>Qualification</th>\n",
              "      <td>2</td>\n",
              "    </tr>\n",
              "    <tr>\n",
              "      <th rowspan=\"4\" valign=\"top\">5</th>\n",
              "      <th>Closed Lost</th>\n",
              "      <td>574</td>\n",
              "    </tr>\n",
              "    <tr>\n",
              "      <th>Closed Won</th>\n",
              "      <td>816</td>\n",
              "    </tr>\n",
              "    <tr>\n",
              "      <th>Negotiation</th>\n",
              "      <td>4</td>\n",
              "    </tr>\n",
              "    <tr>\n",
              "      <th>Proposal</th>\n",
              "      <td>2</td>\n",
              "    </tr>\n",
              "    <tr>\n",
              "      <th rowspan=\"5\" valign=\"top\">6</th>\n",
              "      <th>Closed Lost</th>\n",
              "      <td>680</td>\n",
              "    </tr>\n",
              "    <tr>\n",
              "      <th>Closed Won</th>\n",
              "      <td>877</td>\n",
              "    </tr>\n",
              "    <tr>\n",
              "      <th>Negotiation</th>\n",
              "      <td>3</td>\n",
              "    </tr>\n",
              "    <tr>\n",
              "      <th>Proposal</th>\n",
              "      <td>2</td>\n",
              "    </tr>\n",
              "    <tr>\n",
              "      <th>Qualification</th>\n",
              "      <td>1</td>\n",
              "    </tr>\n",
              "    <tr>\n",
              "      <th rowspan=\"4\" valign=\"top\">7</th>\n",
              "      <th>Closed Lost</th>\n",
              "      <td>690</td>\n",
              "    </tr>\n",
              "    <tr>\n",
              "      <th>Closed Won</th>\n",
              "      <td>796</td>\n",
              "    </tr>\n",
              "    <tr>\n",
              "      <th>Proposal</th>\n",
              "      <td>5</td>\n",
              "    </tr>\n",
              "    <tr>\n",
              "      <th>Qualification</th>\n",
              "      <td>1</td>\n",
              "    </tr>\n",
              "    <tr>\n",
              "      <th rowspan=\"4\" valign=\"top\">8</th>\n",
              "      <th>Closed Lost</th>\n",
              "      <td>601</td>\n",
              "    </tr>\n",
              "    <tr>\n",
              "      <th>Closed Won</th>\n",
              "      <td>668</td>\n",
              "    </tr>\n",
              "    <tr>\n",
              "      <th>Negotiation</th>\n",
              "      <td>1</td>\n",
              "    </tr>\n",
              "    <tr>\n",
              "      <th>Proposal</th>\n",
              "      <td>1</td>\n",
              "    </tr>\n",
              "    <tr>\n",
              "      <th rowspan=\"3\" valign=\"top\">9</th>\n",
              "      <th>Closed Lost</th>\n",
              "      <td>522</td>\n",
              "    </tr>\n",
              "    <tr>\n",
              "      <th>Closed Won</th>\n",
              "      <td>754</td>\n",
              "    </tr>\n",
              "    <tr>\n",
              "      <th>Proposal</th>\n",
              "      <td>4</td>\n",
              "    </tr>\n",
              "    <tr>\n",
              "      <th rowspan=\"4\" valign=\"top\">10</th>\n",
              "      <th>Closed Lost</th>\n",
              "      <td>710</td>\n",
              "    </tr>\n",
              "    <tr>\n",
              "      <th>Closed Won</th>\n",
              "      <td>958</td>\n",
              "    </tr>\n",
              "    <tr>\n",
              "      <th>Proposal</th>\n",
              "      <td>2</td>\n",
              "    </tr>\n",
              "    <tr>\n",
              "      <th>Qualification</th>\n",
              "      <td>6</td>\n",
              "    </tr>\n",
              "    <tr>\n",
              "      <th rowspan=\"3\" valign=\"top\">11</th>\n",
              "      <th>Closed Lost</th>\n",
              "      <td>462</td>\n",
              "    </tr>\n",
              "    <tr>\n",
              "      <th>Closed Won</th>\n",
              "      <td>828</td>\n",
              "    </tr>\n",
              "    <tr>\n",
              "      <th>Proposal</th>\n",
              "      <td>1</td>\n",
              "    </tr>\n",
              "    <tr>\n",
              "      <th rowspan=\"3\" valign=\"top\">12</th>\n",
              "      <th>Closed Lost</th>\n",
              "      <td>359</td>\n",
              "    </tr>\n",
              "    <tr>\n",
              "      <th>Closed Won</th>\n",
              "      <td>817</td>\n",
              "    </tr>\n",
              "    <tr>\n",
              "      <th>Proposal</th>\n",
              "      <td>1</td>\n",
              "    </tr>\n",
              "  </tbody>\n",
              "</table>\n",
              "</div>"
            ],
            "text/plain": [
              "                   cant\n",
              "mes Stage              \n",
              "1   Closed Lost     613\n",
              "    Closed Won      672\n",
              "    Negotiation       5\n",
              "    Proposal          8\n",
              "    Qualification     1\n",
              "2   Closed Lost     688\n",
              "    Closed Won      695\n",
              "    Negotiation       3\n",
              "    Proposal          2\n",
              "3   Closed Lost     800\n",
              "    Closed Won      827\n",
              "    Proposal          3\n",
              "4   Closed Lost     651\n",
              "    Closed Won      825\n",
              "    Negotiation       2\n",
              "    Proposal          4\n",
              "    Qualification     2\n",
              "5   Closed Lost     574\n",
              "    Closed Won      816\n",
              "    Negotiation       4\n",
              "    Proposal          2\n",
              "6   Closed Lost     680\n",
              "    Closed Won      877\n",
              "    Negotiation       3\n",
              "    Proposal          2\n",
              "    Qualification     1\n",
              "7   Closed Lost     690\n",
              "    Closed Won      796\n",
              "    Proposal          5\n",
              "    Qualification     1\n",
              "8   Closed Lost     601\n",
              "    Closed Won      668\n",
              "    Negotiation       1\n",
              "    Proposal          1\n",
              "9   Closed Lost     522\n",
              "    Closed Won      754\n",
              "    Proposal          4\n",
              "10  Closed Lost     710\n",
              "    Closed Won      958\n",
              "    Proposal          2\n",
              "    Qualification     6\n",
              "11  Closed Lost     462\n",
              "    Closed Won      828\n",
              "    Proposal          1\n",
              "12  Closed Lost     359\n",
              "    Closed Won      817\n",
              "    Proposal          1"
            ]
          },
          "metadata": {
            "tags": []
          },
          "execution_count": 138
        }
      ]
    },
    {
      "cell_type": "code",
      "metadata": {
        "id": "lDma3Eqy5Mym",
        "outputId": "99121807-e28e-4d74-a774-72153b228e2f",
        "colab": {
          "base_uri": "https://localhost:8080/",
          "height": 704
        }
      },
      "source": [
        "fig, ax = plt.subplots(figsize=(12,11))\n",
        "g=sns.lineplot(data=df, x=\"mes\", y=\"cant\", hue=\"Stage\",ax=ax)\n",
        "g.set_title(\"Cantidad de Estados por Tipo y Mes\", fontsize=22)\n",
        "g.set_xlabel(\"Cantidad por Estado\",fontsize=15)\n",
        "g.set_ylabel(\"Mes\", fontsize=15)"
      ],
      "execution_count": null,
      "outputs": [
        {
          "output_type": "execute_result",
          "data": {
            "text/plain": [
              "Text(0, 0.5, 'Mes')"
            ]
          },
          "metadata": {
            "tags": []
          },
          "execution_count": 142
        },
        {
          "output_type": "display_data",
          "data": {
            "image/png": "[encoded data removed]",
            "text/plain": [
              "<Figure size 864x792 with 1 Axes>"
            ]
          },
          "metadata": {
            "tags": [],
            "needs_background": "light"
          }
        }
      ]
    },
    {
      "cell_type": "code",
      "metadata": {
        "id": "0W4Gnans8v7p",
        "outputId": "933a0374-e6a2-4b5a-923f-70f5e495bf05",
        "colab": {
          "base_uri": "https://localhost:8080/",
          "height": 704
        }
      },
      "source": [
        "df2=entrenamiento.groupby(['anio','Stage']).agg(cant=('ID','count'))\n",
        "fig, ax = plt.subplots(figsize=(12,11))\n",
        "g=sns.lineplot(data=df2, x=\"anio\", y=\"cant\", hue=\"Stage\",ax=ax)\n",
        "g.set_title(\"Cantidad de Estados por Tipo y Anio\", fontsize=22)\n",
        "g.set_xlabel(\"Cantidad por Estado\",fontsize=15)\n",
        "g.set_ylabel(\"Anio\", fontsize=15)"
      ],
      "execution_count": null,
      "outputs": [
        {
          "output_type": "execute_result",
          "data": {
            "text/plain": [
              "Text(0, 0.5, 'Anio')"
            ]
          },
          "metadata": {
            "tags": []
          },
          "execution_count": 147
        },
        {
          "output_type": "display_data",
          "data": {
            "image/png": "[encoded data removed]",
            "text/plain": [
              "<Figure size 864x792 with 1 Axes>"
            ]
          },
          "metadata": {
            "tags": [],
            "needs_background": "light"
          }
        }
      ]
    },
    {
      "cell_type": "code",
      "metadata": {
        "id": "ox0Cmhh3_bqn"
      },
      "source": [
        ""
      ],
      "execution_count": null,
      "outputs": []
    },
    {
      "cell_type": "code",
      "metadata": {
        "id": "l0kbH8o2JDHz"
      },
      "source": [
        ""
      ],
      "execution_count": null,
      "outputs": []
    },
    {
      "cell_type": "code",
      "metadata": {
        "id": "ODLvDPiJB_Is"
      },
      "source": [
        "account_stage=entrenamiento.groupby(['Account_Type','Stage']).agg(cantidad=('Stage','count')).fillna(0)\n",
        "cuenta_estado=account_stage.reset_index()"
      ],
      "execution_count": 189,
      "outputs": []
    },
    {
      "cell_type": "code",
      "metadata": {
        "id": "9mL_hFwyHBNC",
        "outputId": "b57450dc-d448-4b5d-fefd-2edae3046dae",
        "colab": {
          "base_uri": "https://localhost:8080/",
          "height": 709
        }
      },
      "source": [
        "fig, ax = plt.subplots(figsize=(12,11))\n",
        " \n",
        "g = sns.barplot(x=cuenta_estado['Account_Type'], y=cuenta_estado['cantidad'],hue=\"Stage\",data=cuenta_estado,ax=ax)\n",
        "g.set_title(\"Cantidad de Cuentas por Stage\", fontsize=20)\n",
        "g.set_xlabel(\"Stage\", fontsize=18)\n",
        "g.set_ylabel(\"Cantidad\", fontsize=18)"
      ],
      "execution_count": 190,
      "outputs": [
        {
          "output_type": "execute_result",
          "data": {
            "text/plain": [
              "Text(0, 0.5, 'Cantidad')"
            ]
          },
          "metadata": {
            "tags": []
          },
          "execution_count": 190
        },
        {
          "output_type": "display_data",
          "data": {
            "image/png": "[encoded data removed]",
            "text/plain": [
              "<Figure size 864x792 with 1 Axes>"
            ]
          },
          "metadata": {
            "tags": []
          }
        }
      ]
    },
    {
      "cell_type": "code",
      "metadata": {
        "id": "lJ1XRbP4JGny"
      },
      "source": [
        ""
      ],
      "execution_count": null,
      "outputs": []
    },
    {
      "cell_type": "code",
      "metadata": {
        "id": "wMnTvgYuJGtf"
      },
      "source": [
        ""
      ],
      "execution_count": null,
      "outputs": []
    },
    {
      "cell_type": "code",
      "metadata": {
        "id": "PMD4LkK0JGxQ"
      },
      "source": [
        ""
      ],
      "execution_count": null,
      "outputs": []
    },
    {
      "cell_type": "markdown",
      "metadata": {
        "id": "_5t6sJrjJHPI"
      },
      "source": [
        "-------------------------------------------------\n",
        "####PRUEBAS, NO VEAN LOQUE SIGUE"
      ]
    },
    {
      "cell_type": "code",
      "metadata": {
        "id": "N7AY-705JDLM"
      },
      "source": [
        ""
      ],
      "execution_count": null,
      "outputs": []
    },
    {
      "cell_type": "code",
      "metadata": {
        "id": "g5F_JwPs_byp"
      },
      "source": [
        ""
      ],
      "execution_count": null,
      "outputs": []
    },
    {
      "cell_type": "code",
      "metadata": {
        "id": "UwmFPnWCJOAa"
      },
      "source": [
        ""
      ],
      "execution_count": null,
      "outputs": []
    },
    {
      "cell_type": "code",
      "metadata": {
        "id": "dleaiWwlJOD1"
      },
      "source": [
        ""
      ],
      "execution_count": null,
      "outputs": []
    },
    {
      "cell_type": "code",
      "metadata": {
        "id": "6F0gZAhoJOHL"
      },
      "source": [
        ""
      ],
      "execution_count": null,
      "outputs": []
    },
    {
      "cell_type": "code",
      "metadata": {
        "id": "iQq6jr-yJOKp"
      },
      "source": [
        ""
      ],
      "execution_count": null,
      "outputs": []
    },
    {
      "cell_type": "code",
      "metadata": {
        "id": "W-KLvpe48c90",
        "outputId": "66584f1c-38ec-40c1-f3d0-92938e3abbcb",
        "colab": {
          "base_uri": "https://localhost:8080/"
        }
      },
      "source": [
        "entrenamiento.groupby(['Region','Territory']).agg(cantidad_muestra=('ID','count'))['cantidad_muestra'].transform(lambda x: x> (x.mean()-1100))"
      ],
      "execution_count": 19,
      "outputs": [
        {
          "output_type": "execute_result",
          "data": {
            "text/plain": [
              "Region       Territory   \n",
              "APAC         Australia       True\n",
              "             Burma           True\n",
              "             Cambodia        True\n",
              "             China (PRC)     True\n",
              "             India           True\n",
              "                             ... \n",
              "Middle East  Oman            True\n",
              "             Pakistan        True\n",
              "             Saudi Arabia    True\n",
              "             UAE (Dubai)     True\n",
              "             UAE (Others)    True\n",
              "Name: cantidad_muestra, Length: 85, dtype: bool"
            ]
          },
          "metadata": {
            "tags": []
          },
          "execution_count": 19
        }
      ]
    },
    {
      "cell_type": "code",
      "metadata": {
        "id": "0aFrtPZo_izz"
      },
      "source": [
        "lugares_cantidad_casos=entrenamiento.groupby(['Region'])['ID'].transform(lambda)"
      ],
      "execution_count": null,
      "outputs": []
    },
    {
      "cell_type": "code",
      "metadata": {
        "id": "r97GFWna-IDT",
        "outputId": "9a9a4991-d789-4b69-b939-0e23e4359198",
        "colab": {
          "base_uri": "https://localhost:8080/"
        }
      },
      "source": [
        "lugares_cantidad_casos=entrenamiento.groupby(['Region','Territory']).agg(cantidad_muestra=('ID','count'))\n",
        "lugares_cantidad_casos.groupby(['Region'])['cantidad_muestra'].transform('mean')"
      ],
      "execution_count": 28,
      "outputs": [
        {
          "output_type": "execute_result",
          "data": {
            "text/plain": [
              "Region       Territory   \n",
              "APAC         Australia       203.875\n",
              "             Burma           203.875\n",
              "             Cambodia        203.875\n",
              "             China (PRC)     203.875\n",
              "             India           203.875\n",
              "                              ...   \n",
              "Middle East  Oman             18.400\n",
              "             Pakistan         18.400\n",
              "             Saudi Arabia     18.400\n",
              "             UAE (Dubai)      18.400\n",
              "             UAE (Others)     18.400\n",
              "Name: cantidad_muestra, Length: 85, dtype: float64"
            ]
          },
          "metadata": {
            "tags": []
          },
          "execution_count": 28
        }
      ]
    },
    {
      "cell_type": "code",
      "metadata": {
        "id": "Vjn09UXJ_DQx",
        "outputId": "c0390173-99b9-4736-8877-edcb22333d7e",
        "colab": {
          "base_uri": "https://localhost:8080/"
        }
      },
      "source": [
        "entrenamiento.groupby(['Region'])['ID'].transform('sum')"
      ],
      "execution_count": 36,
      "outputs": [
        {
          "output_type": "execute_result",
          "data": {
            "text/plain": [
              "0        70941823\n",
              "1        70941823\n",
              "2        68497466\n",
              "3        68497466\n",
              "4        68497466\n",
              "           ...   \n",
              "16942    70941823\n",
              "16943    70941823\n",
              "16944    70941823\n",
              "16945    68497466\n",
              "16946    68497466\n",
              "Name: ID, Length: 16947, dtype: int64"
            ]
          },
          "metadata": {
            "tags": []
          },
          "execution_count": 36
        }
      ]
    },
    {
      "cell_type": "code",
      "metadata": {
        "id": "FmXMvc82AZrG",
        "outputId": "7b3143aa-a064-443d-dcf7-5bc69aa3fed7",
        "colab": {
          "base_uri": "https://localhost:8080/"
        }
      },
      "source": [
        "entrenamiento.groupby(['Region'])['ID'].transform('mean')"
      ],
      "execution_count": 90,
      "outputs": [
        {
          "output_type": "execute_result",
          "data": {
            "text/plain": [
              "0        15210.510935\n",
              "1        15210.510935\n",
              "2        17363.109252\n",
              "3        17363.109252\n",
              "4        17363.109252\n",
              "             ...     \n",
              "16942    15210.510935\n",
              "16943    15210.510935\n",
              "16944    15210.510935\n",
              "16945    17363.109252\n",
              "16946    17363.109252\n",
              "Name: ID, Length: 16947, dtype: float64"
            ]
          },
          "metadata": {
            "tags": []
          },
          "execution_count": 90
        }
      ]
    },
    {
      "cell_type": "code",
      "metadata": {
        "id": "Ujo4aVzBAfBM"
      },
      "source": [
        ""
      ],
      "execution_count": null,
      "outputs": []
    },
    {
      "cell_type": "code",
      "metadata": {
        "id": "vH_VGRoA9Okl",
        "outputId": "df42424f-1c02-4afa-95ce-28142842c819",
        "colab": {
          "base_uri": "https://localhost:8080/",
          "height": 424
        }
      },
      "source": [
        "lugares_cantidad_casos=entrenamiento.groupby(['Region','Territory']).agg(cantidad_muestra=('ID','count')).reset_index()\n",
        "lugares_cantidad_casos.groupby(['Region','Territory']).transform(lambda x:x>x.mean())"
      ],
      "execution_count": 15,
      "outputs": [
        {
          "output_type": "execute_result",
          "data": {
            "text/html": [
              "<div>\n",
              "<style scoped>\n",
              "    .dataframe tbody tr th:only-of-type {\n",
              "        vertical-align: middle;\n",
              "    }\n",
              "\n",
              "    .dataframe tbody tr th {\n",
              "        vertical-align: top;\n",
              "    }\n",
              "\n",
              "    .dataframe thead th {\n",
              "        text-align: right;\n",
              "    }\n",
              "</style>\n",
              "<table border=\"1\" class=\"dataframe\">\n",
              "  <thead>\n",
              "    <tr style=\"text-align: right;\">\n",
              "      <th></th>\n",
              "      <th>cantidad_muestra</th>\n",
              "    </tr>\n",
              "  </thead>\n",
              "  <tbody>\n",
              "    <tr>\n",
              "      <th>0</th>\n",
              "      <td>False</td>\n",
              "    </tr>\n",
              "    <tr>\n",
              "      <th>1</th>\n",
              "      <td>False</td>\n",
              "    </tr>\n",
              "    <tr>\n",
              "      <th>2</th>\n",
              "      <td>False</td>\n",
              "    </tr>\n",
              "    <tr>\n",
              "      <th>3</th>\n",
              "      <td>False</td>\n",
              "    </tr>\n",
              "    <tr>\n",
              "      <th>4</th>\n",
              "      <td>False</td>\n",
              "    </tr>\n",
              "    <tr>\n",
              "      <th>...</th>\n",
              "      <td>...</td>\n",
              "    </tr>\n",
              "    <tr>\n",
              "      <th>80</th>\n",
              "      <td>False</td>\n",
              "    </tr>\n",
              "    <tr>\n",
              "      <th>81</th>\n",
              "      <td>False</td>\n",
              "    </tr>\n",
              "    <tr>\n",
              "      <th>82</th>\n",
              "      <td>False</td>\n",
              "    </tr>\n",
              "    <tr>\n",
              "      <th>83</th>\n",
              "      <td>False</td>\n",
              "    </tr>\n",
              "    <tr>\n",
              "      <th>84</th>\n",
              "      <td>False</td>\n",
              "    </tr>\n",
              "  </tbody>\n",
              "</table>\n",
              "<p>85 rows × 1 columns</p>\n",
              "</div>"
            ],
            "text/plain": [
              "    cantidad_muestra\n",
              "0              False\n",
              "1              False\n",
              "2              False\n",
              "3              False\n",
              "4              False\n",
              "..               ...\n",
              "80             False\n",
              "81             False\n",
              "82             False\n",
              "83             False\n",
              "84             False\n",
              "\n",
              "[85 rows x 1 columns]"
            ]
          },
          "metadata": {
            "tags": []
          },
          "execution_count": 15
        }
      ]
    },
    {
      "cell_type": "code",
      "metadata": {
        "id": "ZFFzDYvhu2K1"
      },
      "source": [
        ""
      ],
      "execution_count": 115,
      "outputs": []
    },
    {
      "cell_type": "code",
      "metadata": {
        "id": "uU2YcfvEFm54",
        "outputId": "2efe8a8c-50bd-4f23-89f6-7d5ac5067b73",
        "colab": {
          "base_uri": "https://localhost:8080/",
          "height": 424
        }
      },
      "source": [
        "lugares_cantidad_casos=entrenamiento.groupby(['Region','Territory']).agg(cantidad_muestra=('ID','count')).reset_index()\n",
        "lugares_cantidad_casos"
      ],
      "execution_count": 106,
      "outputs": [
        {
          "output_type": "execute_result",
          "data": {
            "text/html": [
              "<div>\n",
              "<style scoped>\n",
              "    .dataframe tbody tr th:only-of-type {\n",
              "        vertical-align: middle;\n",
              "    }\n",
              "\n",
              "    .dataframe tbody tr th {\n",
              "        vertical-align: top;\n",
              "    }\n",
              "\n",
              "    .dataframe thead th {\n",
              "        text-align: right;\n",
              "    }\n",
              "</style>\n",
              "<table border=\"1\" class=\"dataframe\">\n",
              "  <thead>\n",
              "    <tr style=\"text-align: right;\">\n",
              "      <th></th>\n",
              "      <th>Region</th>\n",
              "      <th>Territory</th>\n",
              "      <th>cantidad_muestra</th>\n",
              "    </tr>\n",
              "  </thead>\n",
              "  <tbody>\n",
              "    <tr>\n",
              "      <th>0</th>\n",
              "      <td>APAC</td>\n",
              "      <td>Australia</td>\n",
              "      <td>1208</td>\n",
              "    </tr>\n",
              "    <tr>\n",
              "      <th>1</th>\n",
              "      <td>APAC</td>\n",
              "      <td>Burma</td>\n",
              "      <td>1</td>\n",
              "    </tr>\n",
              "    <tr>\n",
              "      <th>2</th>\n",
              "      <td>APAC</td>\n",
              "      <td>Cambodia</td>\n",
              "      <td>4</td>\n",
              "    </tr>\n",
              "    <tr>\n",
              "      <th>3</th>\n",
              "      <td>APAC</td>\n",
              "      <td>China (PRC)</td>\n",
              "      <td>218</td>\n",
              "    </tr>\n",
              "    <tr>\n",
              "      <th>4</th>\n",
              "      <td>APAC</td>\n",
              "      <td>India</td>\n",
              "      <td>809</td>\n",
              "    </tr>\n",
              "    <tr>\n",
              "      <th>...</th>\n",
              "      <td>...</td>\n",
              "      <td>...</td>\n",
              "      <td>...</td>\n",
              "    </tr>\n",
              "    <tr>\n",
              "      <th>80</th>\n",
              "      <td>Middle East</td>\n",
              "      <td>Oman</td>\n",
              "      <td>4</td>\n",
              "    </tr>\n",
              "    <tr>\n",
              "      <th>81</th>\n",
              "      <td>Middle East</td>\n",
              "      <td>Pakistan</td>\n",
              "      <td>6</td>\n",
              "    </tr>\n",
              "    <tr>\n",
              "      <th>82</th>\n",
              "      <td>Middle East</td>\n",
              "      <td>Saudi Arabia</td>\n",
              "      <td>6</td>\n",
              "    </tr>\n",
              "    <tr>\n",
              "      <th>83</th>\n",
              "      <td>Middle East</td>\n",
              "      <td>UAE (Dubai)</td>\n",
              "      <td>19</td>\n",
              "    </tr>\n",
              "    <tr>\n",
              "      <th>84</th>\n",
              "      <td>Middle East</td>\n",
              "      <td>UAE (Others)</td>\n",
              "      <td>2</td>\n",
              "    </tr>\n",
              "  </tbody>\n",
              "</table>\n",
              "<p>85 rows × 3 columns</p>\n",
              "</div>"
            ],
            "text/plain": [
              "         Region     Territory  cantidad_muestra\n",
              "0          APAC     Australia              1208\n",
              "1          APAC         Burma                 1\n",
              "2          APAC      Cambodia                 4\n",
              "3          APAC   China (PRC)               218\n",
              "4          APAC         India               809\n",
              "..          ...           ...               ...\n",
              "80  Middle East          Oman                 4\n",
              "81  Middle East      Pakistan                 6\n",
              "82  Middle East  Saudi Arabia                 6\n",
              "83  Middle East   UAE (Dubai)                19\n",
              "84  Middle East  UAE (Others)                 2\n",
              "\n",
              "[85 rows x 3 columns]"
            ]
          },
          "metadata": {
            "tags": []
          },
          "execution_count": 106
        }
      ]
    },
    {
      "cell_type": "code",
      "metadata": {
        "id": "3hVC9SW2l8aC"
      },
      "source": [
        "lugares_cantidad_casos=lugares_cantidad_casos"
      ],
      "execution_count": 107,
      "outputs": []
    },
    {
      "cell_type": "code",
      "metadata": {
        "id": "Ib3ogNkgt18u",
        "outputId": "e2b3bec5-858b-4dcb-a121-94f60ce70bc7",
        "colab": {
          "base_uri": "https://localhost:8080/",
          "height": 743
        }
      },
      "source": [
        "plt.figure(figsize=(12,6))\n",
        "squarify.plot(sizes=[(25,50),(75,100),(125,56),(25,34),(15,98)],\n",
        "              color=['red','blue','yellow','green','orange']*2,\n",
        "              label=['A\\n25','B\\n50','C\\n75','D\\n100','E\\n125']*2,\n",
        "              pad )\n",
        "\n",
        "plt.title('Treemap')\n",
        "plt.axis('off');\n",
        "# ; gets rid of extra text\n",
        "# some IDEs/text editors may require plt.show()"
      ],
      "execution_count": 114,
      "outputs": [
        {
          "output_type": "error",
          "ename": "TypeError",
          "evalue": "ignored",
          "traceback": [
            "\u001b[0;31m---------------------------------------------------------------------------\u001b[0m",
            "\u001b[0;31mTypeError\u001b[0m                                 Traceback (most recent call last)",
            "\u001b[0;32m<ipython-input-114-87effe4af4b5>\u001b[0m in \u001b[0;36m<module>\u001b[0;34m()\u001b[0m\n\u001b[1;32m      3\u001b[0m               \u001b[0mcolor\u001b[0m\u001b[0;34m=\u001b[0m\u001b[0;34m[\u001b[0m\u001b[0;34m'red'\u001b[0m\u001b[0;34m,\u001b[0m\u001b[0;34m'blue'\u001b[0m\u001b[0;34m,\u001b[0m\u001b[0;34m'yellow'\u001b[0m\u001b[0;34m,\u001b[0m\u001b[0;34m'green'\u001b[0m\u001b[0;34m,\u001b[0m\u001b[0;34m'orange'\u001b[0m\u001b[0;34m]\u001b[0m\u001b[0;34m*\u001b[0m\u001b[0;36m2\u001b[0m\u001b[0;34m,\u001b[0m\u001b[0;34m\u001b[0m\u001b[0;34m\u001b[0m\u001b[0m\n\u001b[1;32m      4\u001b[0m               \u001b[0mlabel\u001b[0m\u001b[0;34m=\u001b[0m\u001b[0;34m[\u001b[0m\u001b[0;34m'A\\n25'\u001b[0m\u001b[0;34m,\u001b[0m\u001b[0;34m'B\\n50'\u001b[0m\u001b[0;34m,\u001b[0m\u001b[0;34m'C\\n75'\u001b[0m\u001b[0;34m,\u001b[0m\u001b[0;34m'D\\n100'\u001b[0m\u001b[0;34m,\u001b[0m\u001b[0;34m'E\\n125'\u001b[0m\u001b[0;34m]\u001b[0m\u001b[0;34m*\u001b[0m\u001b[0;36m2\u001b[0m\u001b[0;34m,\u001b[0m\u001b[0;34m\u001b[0m\u001b[0;34m\u001b[0m\u001b[0m\n\u001b[0;32m----> 5\u001b[0;31m               pad=True)\n\u001b[0m\u001b[1;32m      6\u001b[0m \u001b[0;34m\u001b[0m\u001b[0m\n\u001b[1;32m      7\u001b[0m \u001b[0mplt\u001b[0m\u001b[0;34m.\u001b[0m\u001b[0mtitle\u001b[0m\u001b[0;34m(\u001b[0m\u001b[0;34m'Treemap'\u001b[0m\u001b[0;34m)\u001b[0m\u001b[0;34m\u001b[0m\u001b[0;34m\u001b[0m\u001b[0m\n",
            "\u001b[0;32m/usr/local/lib/python3.6/dist-packages/squarify/__init__.py\u001b[0m in \u001b[0;36mplot\u001b[0;34m(sizes, norm_x, norm_y, color, label, value, ax, pad, bar_kwargs, text_kwargs, **kwargs)\u001b[0m\n\u001b[1;32m    239\u001b[0m         \u001b[0mbar_kwargs\u001b[0m\u001b[0;34m.\u001b[0m\u001b[0mupdate\u001b[0m\u001b[0;34m(\u001b[0m\u001b[0mkwargs\u001b[0m\u001b[0;34m)\u001b[0m\u001b[0;34m\u001b[0m\u001b[0;34m\u001b[0m\u001b[0m\n\u001b[1;32m    240\u001b[0m \u001b[0;34m\u001b[0m\u001b[0m\n\u001b[0;32m--> 241\u001b[0;31m     \u001b[0mnormed\u001b[0m \u001b[0;34m=\u001b[0m \u001b[0mnormalize_sizes\u001b[0m\u001b[0;34m(\u001b[0m\u001b[0msizes\u001b[0m\u001b[0;34m,\u001b[0m \u001b[0mnorm_x\u001b[0m\u001b[0;34m,\u001b[0m \u001b[0mnorm_y\u001b[0m\u001b[0;34m)\u001b[0m\u001b[0;34m\u001b[0m\u001b[0;34m\u001b[0m\u001b[0m\n\u001b[0m\u001b[1;32m    242\u001b[0m \u001b[0;34m\u001b[0m\u001b[0m\n\u001b[1;32m    243\u001b[0m     \u001b[0;32mif\u001b[0m \u001b[0mpad\u001b[0m\u001b[0;34m:\u001b[0m\u001b[0;34m\u001b[0m\u001b[0;34m\u001b[0m\u001b[0m\n",
            "\u001b[0;32m/usr/local/lib/python3.6/dist-packages/squarify/__init__.py\u001b[0m in \u001b[0;36mnormalize_sizes\u001b[0;34m(sizes, dx, dy)\u001b[0m\n\u001b[1;32m    168\u001b[0m         \u001b[0mThe\u001b[0m \u001b[0mnormalized\u001b[0m \u001b[0mvalues\u001b[0m\u001b[0;34m.\u001b[0m\u001b[0;34m\u001b[0m\u001b[0;34m\u001b[0m\u001b[0m\n\u001b[1;32m    169\u001b[0m     \"\"\"\n\u001b[0;32m--> 170\u001b[0;31m     \u001b[0mtotal_size\u001b[0m \u001b[0;34m=\u001b[0m \u001b[0msum\u001b[0m\u001b[0;34m(\u001b[0m\u001b[0msizes\u001b[0m\u001b[0;34m)\u001b[0m\u001b[0;34m\u001b[0m\u001b[0;34m\u001b[0m\u001b[0m\n\u001b[0m\u001b[1;32m    171\u001b[0m     \u001b[0mtotal_area\u001b[0m \u001b[0;34m=\u001b[0m \u001b[0mdx\u001b[0m \u001b[0;34m*\u001b[0m \u001b[0mdy\u001b[0m\u001b[0;34m\u001b[0m\u001b[0;34m\u001b[0m\u001b[0m\n\u001b[1;32m    172\u001b[0m     \u001b[0msizes\u001b[0m \u001b[0;34m=\u001b[0m \u001b[0mmap\u001b[0m\u001b[0;34m(\u001b[0m\u001b[0mfloat\u001b[0m\u001b[0;34m,\u001b[0m \u001b[0msizes\u001b[0m\u001b[0;34m)\u001b[0m\u001b[0;34m\u001b[0m\u001b[0;34m\u001b[0m\u001b[0m\n",
            "\u001b[0;31mTypeError\u001b[0m: unsupported operand type(s) for +: 'int' and 'tuple'"
          ]
        },
        {
          "output_type": "display_data",
          "data": {
            "image/png": "[encoded data removed]",
            "text/plain": [
              "<Figure size 864x432 with 1 Axes>"
            ]
          },
          "metadata": {
            "tags": [],
            "needs_background": "light"
          }
        }
      ]
    },
    {
      "cell_type": "code",
      "metadata": {
        "id": "EaLK776Th0ri",
        "outputId": "1b40b821-2b7b-4714-d6c7-8998b902fd55",
        "colab": {
          "base_uri": "https://localhost:8080/",
          "height": 373
        }
      },
      "source": [
        "plt.figure(figsize=(12,6))\n",
        "squarify.plot(sizes=[25,50,75,100,125],\n",
        "              color=['red','blue','yellow','green','orange'],\n",
        "              label=['A\\n25','B\\n50','C\\n75','D\\n100','E\\n125'],\n",
        "              pad=True)\n",
        "\n",
        "plt.title('Treemap')\n",
        "plt.axis('off');\n",
        "# ; gets rid of extra text\n",
        "# some IDEs/text editors may require plt.show()"
      ],
      "execution_count": 99,
      "outputs": [
        {
          "output_type": "display_data",
          "data": {
            "image/png": "[encoded data removed]",
            "text/plain": [
              "<Figure size 864x432 with 1 Axes>"
            ]
          },
          "metadata": {
            "tags": [],
            "needs_background": "light"
          }
        }
      ]
    },
    {
      "cell_type": "code",
      "metadata": {
        "id": "h8mXzrVlwFra"
      },
      "source": [
        "lugares_cantidad_casos=entrenamiento.groupby(['Region']).agg(cantidad_muestra=('ID','count')).reset_index()\n"
      ],
      "execution_count": 116,
      "outputs": []
    },
    {
      "cell_type": "code",
      "metadata": {
        "id": "sFewxrLnj8wh"
      },
      "source": [
        "#Utilise matplotlib to scale our goal numbers between the min and max, then assign this scale to our values.\n",
        "norm = matplotlib.colors.Normalize(vmin=min(lugares_cantidad_casos.cantidad_muestra), vmax=max(lugares_cantidad_casos.cantidad_muestra))\n",
        "colors = [matplotlib.cm.Blues(norm(value)) for value in lugares_cantidad_casos.cantidad_muestra]"
      ],
      "execution_count": 117,
      "outputs": []
    },
    {
      "cell_type": "code",
      "metadata": {
        "id": "dsRNDdrZkoNf",
        "outputId": "b1fb1dcb-9657-45a4-fbf1-61712e808fc8",
        "colab": {
          "base_uri": "https://localhost:8080/",
          "height": 297
        }
      },
      "source": [
        "#Create our plot and resize it.\n",
        "fig = plt.gcf()\n",
        "ax = fig.add_subplot()\n",
        "fig.set_size_inches(16, 4.5)"
      ],
      "execution_count": 101,
      "outputs": [
        {
          "output_type": "display_data",
          "data": {
            "image/png": "[encoded data removed]",
            "text/plain": [
              "<Figure size 1152x324 with 1 Axes>"
            ]
          },
          "metadata": {
            "tags": [],
            "needs_background": "light"
          }
        }
      ]
    },
    {
      "cell_type": "code",
      "metadata": {
        "id": "GR_RFTr-lBVz"
      },
      "source": [
        "#Create our plot and resize it.\n",
        "fig = plt.gcf()\n",
        "ax = fig.add_subplot()\n",
        "fig.set_size_inches(16, 4.5)\n",
        "#Use squarify to plot our data, label it and add colours. We add an alpha layer to ensure black labels show through\n",
        "squarify.plot(label=lugares_cantidad_casos.Region ,sizes=lugares_cantidad_casos.cantidad_muestra, color = colors, alpha=.6)\n",
        "plt.title(\"Man City Goals\",fontsize=23,fontweight=\"bold\")"
      ],
      "execution_count": null,
      "outputs": []
    },
    {
      "cell_type": "code",
      "metadata": {
        "id": "zvypB6aMj80B",
        "outputId": "8102d769-9e7d-415b-8c4a-16e4bfb9db52",
        "colab": {
          "base_uri": "https://localhost:8080/",
          "height": 334
        }
      },
      "source": [
        "#Create our plot and resize it.\n",
        "fig = plt.gcf()\n",
        "ax = fig.add_subplot()\n",
        "fig.set_size_inches(16, 4.5)\n",
        "#Use squarify to plot our data, label it and add colours. We add an alpha layer to ensure black labels show through\n",
        "squarify.plot(label=lugares_cantidad_casos.Region ,sizes=lugares_cantidad_casos.cantidad_muestra, color = colors, alpha=.6)\n",
        "plt.title(\"Man City Goals\",fontsize=23,fontweight=\"bold\")"
      ],
      "execution_count": 118,
      "outputs": [
        {
          "output_type": "execute_result",
          "data": {
            "text/plain": [
              "Text(0.5, 1.0, 'Man City Goals')"
            ]
          },
          "metadata": {
            "tags": []
          },
          "execution_count": 118
        },
        {
          "output_type": "display_data",
          "data": {
            "image/png": "[encoded data removed]",
            "text/plain": [
              "<Figure size 1152x324 with 1 Axes>"
            ]
          },
          "metadata": {
            "tags": [],
            "needs_background": "light"
          }
        }
      ]
    },
    {
      "cell_type": "code",
      "metadata": {
        "id": "StRiUXdiks7i"
      },
      "source": [
        ""
      ],
      "execution_count": null,
      "outputs": []
    },
    {
      "cell_type": "code",
      "metadata": {
        "id": "EtGlAtbgktEY"
      },
      "source": [
        ""
      ],
      "execution_count": null,
      "outputs": []
    },
    {
      "cell_type": "code",
      "metadata": {
        "id": "0NbawJj-IQI8",
        "outputId": "96c759b9-bf5a-4e01-ac23-f5eb2e6b6841",
        "colab": {
          "base_uri": "https://localhost:8080/",
          "height": 410
        }
      },
      "source": [
        " \n",
        "vendors = [\"A\", \"B\", \"C\", \"D\", None, \"E\", \"F\", \"G\", \"H\", None]\n",
        "sectors = [\"Tech\", \"Tech\", \"Finance\", \"Finance\", \"Other\",\n",
        "        \"Tech\", \"Tech\", \"Finance\", \"Finance\", \"Other\"]\n",
        "regions = [\"North\", \"North\", \"North\", \"North\", \"North\",\n",
        "        \"South\", \"South\", \"South\", \"South\", \"South\"]\n",
        "sales = [1, 3, 2, 4, 1, 2, 2, 1, 4, 1]\n",
        "df = pd.DataFrame(\n",
        "    dict(vendors=vendors, sectors=sectors, regions=regions, sales=sales)\n",
        ")\n",
        "df[\"all\"] = \"all\"  # in order to have a single root node\n",
        "\n",
        "print(df)\n",
        "fig = px.treemap(df, path=['all', 'regions',\n",
        "                        'sectors', 'vendors'], values='sales')\n",
        "fig.show()"
      ],
      "execution_count": 66,
      "outputs": [
        {
          "output_type": "stream",
          "text": [
            "  vendors  sectors regions  sales  all\n",
            "0       A     Tech   North      1  all\n",
            "1       B     Tech   North      3  all\n",
            "2       C  Finance   North      2  all\n",
            "3       D  Finance   North      4  all\n",
            "4    None    Other   North      1  all\n",
            "5       E     Tech   South      2  all\n",
            "6       F     Tech   South      2  all\n",
            "7       G  Finance   South      1  all\n",
            "8       H  Finance   South      4  all\n",
            "9    None    Other   South      1  all\n"
          ],
          "name": "stdout"
        },
        {
          "output_type": "error",
          "ename": "TypeError",
          "evalue": "ignored",
          "traceback": [
            "\u001b[0;31m---------------------------------------------------------------------------\u001b[0m",
            "\u001b[0;31mTypeError\u001b[0m                                 Traceback (most recent call last)",
            "\u001b[0;32m<ipython-input-66-72284f9edf94>\u001b[0m in \u001b[0;36m<module>\u001b[0;34m()\u001b[0m\n\u001b[1;32m     13\u001b[0m \u001b[0mprint\u001b[0m\u001b[0;34m(\u001b[0m\u001b[0mdf\u001b[0m\u001b[0;34m)\u001b[0m\u001b[0;34m\u001b[0m\u001b[0;34m\u001b[0m\u001b[0m\n\u001b[1;32m     14\u001b[0m fig = px.treemap(df, path=['all', 'regions',\n\u001b[0;32m---> 15\u001b[0;31m                        'sectors', 'vendors'], values='sales')\n\u001b[0m\u001b[1;32m     16\u001b[0m \u001b[0mfig\u001b[0m\u001b[0;34m.\u001b[0m\u001b[0mshow\u001b[0m\u001b[0;34m(\u001b[0m\u001b[0;34m)\u001b[0m\u001b[0;34m\u001b[0m\u001b[0;34m\u001b[0m\u001b[0m\n",
            "\u001b[0;31mTypeError\u001b[0m: treemap() got an unexpected keyword argument 'path'"
          ]
        }
      ]
    },
    {
      "cell_type": "code",
      "metadata": {
        "id": "_nbw9q8MMt_D",
        "outputId": "ffe2fc42-778c-4d00-a312-091700230187",
        "colab": {
          "base_uri": "https://localhost:8080/",
          "height": 132
        }
      },
      "source": [
        "import treemap.render_to_file('treemap.html')"
      ],
      "execution_count": 70,
      "outputs": [
        {
          "output_type": "error",
          "ename": "SyntaxError",
          "evalue": "ignored",
          "traceback": [
            "\u001b[0;36m  File \u001b[0;32m\"<ipython-input-70-d54df89b8a8e>\"\u001b[0;36m, line \u001b[0;32m1\u001b[0m\n\u001b[0;31m    import treemap.render_to_file('treemap.html')\u001b[0m\n\u001b[0m                                 ^\u001b[0m\n\u001b[0;31mSyntaxError\u001b[0m\u001b[0;31m:\u001b[0m invalid syntax\n"
          ]
        }
      ]
    },
    {
      "cell_type": "code",
      "metadata": {
        "id": "ltXsbWcvI4XD",
        "outputId": "9a90aa2d-764a-4ba1-e637-65487d67538c",
        "colab": {
          "base_uri": "https://localhost:8080/"
        }
      },
      "source": [
        "!pip install squarify\n",
        "!pip install pygal\n",
        "import matplotlib\n",
        "import matplotlib.pyplot as plt\n",
        "import pandas as pd\n",
        "import squarify\n",
        "import pygal\n",
        "\n"
      ],
      "execution_count": 60,
      "outputs": [
        {
          "output_type": "stream",
          "text": [
            "Requirement already satisfied: squarify in /usr/local/lib/python3.6/dist-packages (0.4.3)\n",
            "Collecting pygal\n",
            "\u001b[?25l  Downloading https://files.pythonhosted.org/packages/5f/b7/201c9254ac0d2b8ffa3bb2d528d23a4130876d9ba90bc28e99633f323f17/pygal-2.4.0-py2.py3-none-any.whl (127kB)\n",
            "\u001b[K     |████████████████████████████████| 133kB 1.4MB/s \n",
            "\u001b[?25hInstalling collected packages: pygal\n",
            "Successfully installed pygal-2.4.0\n"
          ],
          "name": "stdout"
        },
        {
          "output_type": "execute_result",
          "data": {
            "text/plain": [
              "b'<?xml version=\\'1.0\\' encoding=\\'utf-8\\'?>\\n<svg xmlns:xlink=\"http://www.w3.org/1999/xlink\" xmlns=\"http://www.w3.org/2000/svg\" id=\"chart-b5a57839-5a37-4afc-a0b2-0d96451e142d\" class=\"pygal-chart\" viewBox=\"0 0 800 600\"><!--Generated with pygal 2.4.0 (lxml) \\xc2\\xa9Kozea 2012-2016 on 2020-10-30--><!--http://pygal.org--><!--http://github.com/Kozea/pygal--><defs><style type=\"text/css\">#chart-b5a57839-5a37-4afc-a0b2-0d96451e142d{-webkit-user-select:none;-webkit-font-smoothing:antialiased;font-family:Consolas,\"Liberation Mono\",Menlo,Courier,monospace}#chart-b5a57839-5a37-4afc-a0b2-0d96451e142d .title{font-family:Consolas,\"Liberation Mono\",Menlo,Courier,monospace;font-size:16px}#chart-b5a57839-5a37-4afc-a0b2-0d96451e142d .legends .legend text{font-family:Consolas,\"Liberation Mono\",Menlo,Courier,monospace;font-size:14px}#chart-b5a57839-5a37-4afc-a0b2-0d96451e142d .axis text{font-family:Consolas,\"Liberation Mono\",Menlo,Courier,monospace;font-size:10px}#chart-b5a57839-5a37-4afc-a0b2-0d96451e142d .axis text.major{font-family:Consolas,\"Liberation Mono\",Menlo,Courier,monospace;font-size:10px}#chart-b5a57839-5a37-4afc-a0b2-0d96451e142d .text-overlay text.value{font-family:Consolas,\"Liberation Mono\",Menlo,Courier,monospace;font-size:16px}#chart-b5a57839-5a37-4afc-a0b2-0d96451e142d .text-overlay text.label{font-family:Consolas,\"Liberation Mono\",Menlo,Courier,monospace;font-size:10px}#chart-b5a57839-5a37-4afc-a0b2-0d96451e142d .tooltip{font-family:Consolas,\"Liberation Mono\",Menlo,Courier,monospace;font-size:14px}#chart-b5a57839-5a37-4afc-a0b2-0d96451e142d text.no_data{font-family:Consolas,\"Liberation Mono\",Menlo,Courier,monospace;font-size:64px}\\n#chart-b5a57839-5a37-4afc-a0b2-0d96451e142d{background-color:rgba(249,249,249,1)}#chart-b5a57839-5a37-4afc-a0b2-0d96451e142d path,#chart-b5a57839-5a37-4afc-a0b2-0d96451e142d line,#chart-b5a57839-5a37-4afc-a0b2-0d96451e142d rect,#chart-b5a57839-5a37-4afc-a0b2-0d96451e142d circle{-webkit-transition:150ms;-moz-transition:150ms;transition:150ms}#chart-b5a57839-5a37-4afc-a0b2-0d96451e142d .graph &gt; .background{fill:rgba(249,249,249,1)}#chart-b5a57839-5a37-4afc-a0b2-0d96451e142d .plot &gt; .background{fill:rgba(255,255,255,1)}#chart-b5a57839-5a37-4afc-a0b2-0d96451e142d .graph{fill:rgba(0,0,0,.87)}#chart-b5a57839-5a37-4afc-a0b2-0d96451e142d text.no_data{fill:rgba(0,0,0,1)}#chart-b5a57839-5a37-4afc-a0b2-0d96451e142d .title{fill:rgba(0,0,0,1)}#chart-b5a57839-5a37-4afc-a0b2-0d96451e142d .legends .legend text{fill:rgba(0,0,0,.87)}#chart-b5a57839-5a37-4afc-a0b2-0d96451e142d .legends .legend:hover text{fill:rgba(0,0,0,1)}#chart-b5a57839-5a37-4afc-a0b2-0d96451e142d .axis .line{stroke:rgba(0,0,0,1)}#chart-b5a57839-5a37-4afc-a0b2-0d96451e142d .axis .guide.line{stroke:rgba(0,0,0,.54)}#chart-b5a57839-5a37-4afc-a0b2-0d96451e142d .axis .major.line{stroke:rgba(0,0,0,.87)}#chart-b5a57839-5a37-4afc-a0b2-0d96451e142d .axis text.major{fill:rgba(0,0,0,1)}#chart-b5a57839-5a37-4afc-a0b2-0d96451e142d .axis.y .guides:hover .guide.line,#chart-b5a57839-5a37-4afc-a0b2-0d96451e142d .line-graph .axis.x .guides:hover .guide.line,#chart-b5a57839-5a37-4afc-a0b2-0d96451e142d .stackedline-graph .axis.x .guides:hover .guide.line,#chart-b5a57839-5a37-4afc-a0b2-0d96451e142d .xy-graph .axis.x .guides:hover .guide.line{stroke:rgba(0,0,0,1)}#chart-b5a57839-5a37-4afc-a0b2-0d96451e142d .axis .guides:hover text{fill:rgba(0,0,0,1)}#chart-b5a57839-5a37-4afc-a0b2-0d96451e142d .reactive{fill-opacity:.7;stroke-opacity:.8}#chart-b5a57839-5a37-4afc-a0b2-0d96451e142d .ci{stroke:rgba(0,0,0,.87)}#chart-b5a57839-5a37-4afc-a0b2-0d96451e142d .reactive.active,#chart-b5a57839-5a37-4afc-a0b2-0d96451e142d .active .reactive{fill-opacity:.8;stroke-opacity:.9;stroke-width:4}#chart-b5a57839-5a37-4afc-a0b2-0d96451e142d .ci .reactive.active{stroke-width:1.5}#chart-b5a57839-5a37-4afc-a0b2-0d96451e142d .series text{fill:rgba(0,0,0,1)}#chart-b5a57839-5a37-4afc-a0b2-0d96451e142d .tooltip rect{fill:rgba(255,255,255,1);stroke:rgba(0,0,0,1);-webkit-transition:opacity 150ms;-moz-transition:opacity 150ms;transition:opacity 150ms}#chart-b5a57839-5a37-4afc-a0b2-0d96451e142d .tooltip .label{fill:rgba(0,0,0,.87)}#chart-b5a57839-5a37-4afc-a0b2-0d96451e142d .tooltip .label{fill:rgba(0,0,0,.87)}#chart-b5a57839-5a37-4afc-a0b2-0d96451e142d .tooltip .legend{font-size:.8em;fill:rgba(0,0,0,.54)}#chart-b5a57839-5a37-4afc-a0b2-0d96451e142d .tooltip .x_label{font-size:.6em;fill:rgba(0,0,0,1)}#chart-b5a57839-5a37-4afc-a0b2-0d96451e142d .tooltip .xlink{font-size:.5em;text-decoration:underline}#chart-b5a57839-5a37-4afc-a0b2-0d96451e142d .tooltip .value{font-size:1.5em}#chart-b5a57839-5a37-4afc-a0b2-0d96451e142d .bound{font-size:.5em}#chart-b5a57839-5a37-4afc-a0b2-0d96451e142d .max-value{font-size:.75em;fill:rgba(0,0,0,.54)}#chart-b5a57839-5a37-4afc-a0b2-0d96451e142d .map-element{fill:rgba(255,255,255,1);stroke:rgba(0,0,0,.54) !important}#chart-b5a57839-5a37-4afc-a0b2-0d96451e142d .map-element .reactive{fill-opacity:inherit;stroke-opacity:inherit}#chart-b5a57839-5a37-4afc-a0b2-0d96451e142d .color-0,#chart-b5a57839-5a37-4afc-a0b2-0d96451e142d .color-0 a:visited{stroke:#F44336;fill:#F44336}#chart-b5a57839-5a37-4afc-a0b2-0d96451e142d .color-1,#chart-b5a57839-5a37-4afc-a0b2-0d96451e142d .color-1 a:visited{stroke:#3F51B5;fill:#3F51B5}#chart-b5a57839-5a37-4afc-a0b2-0d96451e142d .color-2,#chart-b5a57839-5a37-4afc-a0b2-0d96451e142d .color-2 a:visited{stroke:#009688;fill:#009688}#chart-b5a57839-5a37-4afc-a0b2-0d96451e142d .color-3,#chart-b5a57839-5a37-4afc-a0b2-0d96451e142d .color-3 a:visited{stroke:#FFC107;fill:#FFC107}#chart-b5a57839-5a37-4afc-a0b2-0d96451e142d .color-4,#chart-b5a57839-5a37-4afc-a0b2-0d96451e142d .color-4 a:visited{stroke:#FF5722;fill:#FF5722}#chart-b5a57839-5a37-4afc-a0b2-0d96451e142d .color-5,#chart-b5a57839-5a37-4afc-a0b2-0d96451e142d .color-5 a:visited{stroke:#9C27B0;fill:#9C27B0}#chart-b5a57839-5a37-4afc-a0b2-0d96451e142d .color-6,#chart-b5a57839-5a37-4afc-a0b2-0d96451e142d .color-6 a:visited{stroke:#03A9F4;fill:#03A9F4}#chart-b5a57839-5a37-4afc-a0b2-0d96451e142d .color-7,#chart-b5a57839-5a37-4afc-a0b2-0d96451e142d .color-7 a:visited{stroke:#8BC34A;fill:#8BC34A}#chart-b5a57839-5a37-4afc-a0b2-0d96451e142d .text-overlay .color-0 text{fill:black}#chart-b5a57839-5a37-4afc-a0b2-0d96451e142d .text-overlay .color-1 text{fill:black}#chart-b5a57839-5a37-4afc-a0b2-0d96451e142d .text-overlay .color-2 text{fill:black}#chart-b5a57839-5a37-4afc-a0b2-0d96451e142d .text-overlay .color-3 text{fill:black}#chart-b5a57839-5a37-4afc-a0b2-0d96451e142d .text-overlay .color-4 text{fill:black}#chart-b5a57839-5a37-4afc-a0b2-0d96451e142d .text-overlay .color-5 text{fill:black}#chart-b5a57839-5a37-4afc-a0b2-0d96451e142d .text-overlay .color-6 text{fill:black}#chart-b5a57839-5a37-4afc-a0b2-0d96451e142d .text-overlay .color-7 text{fill:black}\\n#chart-b5a57839-5a37-4afc-a0b2-0d96451e142d text.no_data{text-anchor:middle}#chart-b5a57839-5a37-4afc-a0b2-0d96451e142d .guide.line{fill:none}#chart-b5a57839-5a37-4afc-a0b2-0d96451e142d .centered{text-anchor:middle}#chart-b5a57839-5a37-4afc-a0b2-0d96451e142d .title{text-anchor:middle}#chart-b5a57839-5a37-4afc-a0b2-0d96451e142d .legends .legend text{fill-opacity:1}#chart-b5a57839-5a37-4afc-a0b2-0d96451e142d .axis.x text{text-anchor:middle}#chart-b5a57839-5a37-4afc-a0b2-0d96451e142d .axis.x:not(.web) text[transform]{text-anchor:start}#chart-b5a57839-5a37-4afc-a0b2-0d96451e142d .axis.x:not(.web) text[transform].backwards{text-anchor:end}#chart-b5a57839-5a37-4afc-a0b2-0d96451e142d .axis.y text{text-anchor:end}#chart-b5a57839-5a37-4afc-a0b2-0d96451e142d .axis.y text[transform].backwards{text-anchor:start}#chart-b5a57839-5a37-4afc-a0b2-0d96451e142d .axis.y2 text{text-anchor:start}#chart-b5a57839-5a37-4afc-a0b2-0d96451e142d .axis.y2 text[transform].backwards{text-anchor:end}#chart-b5a57839-5a37-4afc-a0b2-0d96451e142d .axis .guide.line{stroke-dasharray:4,4}#chart-b5a57839-5a37-4afc-a0b2-0d96451e142d .axis .major.guide.line{stroke-dasharray:6,6}#chart-b5a57839-5a37-4afc-a0b2-0d96451e142d .horizontal .axis.y .guide.line,#chart-b5a57839-5a37-4afc-a0b2-0d96451e142d .horizontal .axis.y2 .guide.line,#chart-b5a57839-5a37-4afc-a0b2-0d96451e142d .vertical .axis.x .guide.line{opacity:0}#chart-b5a57839-5a37-4afc-a0b2-0d96451e142d .horizontal .axis.always_show .guide.line,#chart-b5a57839-5a37-4afc-a0b2-0d96451e142d .vertical .axis.always_show .guide.line{opacity:1 !important}#chart-b5a57839-5a37-4afc-a0b2-0d96451e142d .axis.y .guides:hover .guide.line,#chart-b5a57839-5a37-4afc-a0b2-0d96451e142d .axis.y2 .guides:hover .guide.line,#chart-b5a57839-5a37-4afc-a0b2-0d96451e142d .axis.x .guides:hover .guide.line{opacity:1}#chart-b5a57839-5a37-4afc-a0b2-0d96451e142d .axis .guides:hover text{opacity:1}#chart-b5a57839-5a37-4afc-a0b2-0d96451e142d .nofill{fill:none}#chart-b5a57839-5a37-4afc-a0b2-0d96451e142d .subtle-fill{fill-opacity:.2}#chart-b5a57839-5a37-4afc-a0b2-0d96451e142d .dot{stroke-width:1px;fill-opacity:1}#chart-b5a57839-5a37-4afc-a0b2-0d96451e142d .dot.active{stroke-width:5px}#chart-b5a57839-5a37-4afc-a0b2-0d96451e142d .dot.negative{fill:transparent}#chart-b5a57839-5a37-4afc-a0b2-0d96451e142d text,#chart-b5a57839-5a37-4afc-a0b2-0d96451e142d tspan{stroke:none !important}#chart-b5a57839-5a37-4afc-a0b2-0d96451e142d .series text.active{opacity:1}#chart-b5a57839-5a37-4afc-a0b2-0d96451e142d .tooltip rect{fill-opacity:.95;stroke-width:.5}#chart-b5a57839-5a37-4afc-a0b2-0d96451e142d .tooltip text{fill-opacity:1}#chart-b5a57839-5a37-4afc-a0b2-0d96451e142d .showable{visibility:hidden}#chart-b5a57839-5a37-4afc-a0b2-0d96451e142d .showable.shown{visibility:visible}#chart-b5a57839-5a37-4afc-a0b2-0d96451e142d .gauge-background{fill:rgba(229,229,229,1);stroke:none}#chart-b5a57839-5a37-4afc-a0b2-0d96451e142d .bg-lines{stroke:rgba(249,249,249,1);stroke-width:2px}</style><script type=\"text/javascript\">window.pygal = window.pygal || {};window.pygal.config = window.pygal.config || {};window.pygal.config[\\'b5a57839-5a37-4afc-a0b2-0d96451e142d\\'] = {\"allow_interruptions\": false, \"box_mode\": \"extremes\", \"classes\": [\"pygal-chart\"], \"css\": [\"file://style.css\", \"file://graph.css\"], \"defs\": [], \"disable_xml_declaration\": false, \"dots_size\": 2.5, \"dynamic_print_values\": false, \"explicit_size\": false, \"fill\": false, \"force_uri_protocol\": \"https\", \"formatter\": null, \"half_pie\": false, \"height\": 600, \"include_x_axis\": false, \"inner_radius\": 0, \"interpolate\": null, \"interpolation_parameters\": {}, \"interpolation_precision\": 250, \"inverse_y_axis\": false, \"js\": [\"//kozea.github.io/pygal.js/2.0.x/pygal-tooltips.min.js\"], \"legend_at_bottom\": false, \"legend_at_bottom_columns\": null, \"legend_box_size\": 12, \"logarithmic\": false, \"margin\": 20, \"margin_bottom\": null, \"margin_left\": null, \"margin_right\": null, \"margin_top\": null, \"max_scale\": 16, \"min_scale\": 4, \"missing_value_fill_truncation\": \"x\", \"no_data_text\": \"No data\", \"no_prefix\": false, \"order_min\": null, \"pretty_print\": false, \"print_labels\": false, \"print_values\": false, \"print_values_position\": \"center\", \"print_zeroes\": true, \"range\": null, \"rounded_bars\": null, \"secondary_range\": null, \"show_dots\": true, \"show_legend\": true, \"show_minor_x_labels\": true, \"show_minor_y_labels\": true, \"show_only_major_dots\": false, \"show_x_guides\": false, \"show_x_labels\": true, \"show_y_guides\": true, \"show_y_labels\": true, \"spacing\": 10, \"stack_from_top\": false, \"strict\": false, \"stroke\": true, \"stroke_style\": null, \"style\": {\"background\": \"rgba(249, 249, 249, 1)\", \"ci_colors\": [], \"colors\": [\"#F44336\", \"#3F51B5\", \"#009688\", \"#FFC107\", \"#FF5722\", \"#9C27B0\", \"#03A9F4\", \"#8BC34A\", \"#FF9800\", \"#E91E63\", \"#2196F3\", \"#4CAF50\", \"#FFEB3B\", \"#673AB7\", \"#00BCD4\", \"#CDDC39\", \"#9E9E9E\", \"#607D8B\"], \"font_family\": \"Consolas, \\\\\"Liberation Mono\\\\\", Menlo, Courier, monospace\", \"foreground\": \"rgba(0, 0, 0, .87)\", \"foreground_strong\": \"rgba(0, 0, 0, 1)\", \"foreground_subtle\": \"rgba(0, 0, 0, .54)\", \"guide_stroke_dasharray\": \"4,4\", \"label_font_family\": \"Consolas, \\\\\"Liberation Mono\\\\\", Menlo, Courier, monospace\", \"label_font_size\": 10, \"legend_font_family\": \"Consolas, \\\\\"Liberation Mono\\\\\", Menlo, Courier, monospace\", \"legend_font_size\": 14, \"major_guide_stroke_dasharray\": \"6,6\", \"major_label_font_family\": \"Consolas, \\\\\"Liberation Mono\\\\\", Menlo, Courier, monospace\", \"major_label_font_size\": 10, \"no_data_font_family\": \"Consolas, \\\\\"Liberation Mono\\\\\", Menlo, Courier, monospace\", \"no_data_font_size\": 64, \"opacity\": \".7\", \"opacity_hover\": \".8\", \"plot_background\": \"rgba(255, 255, 255, 1)\", \"stroke_opacity\": \".8\", \"stroke_opacity_hover\": \".9\", \"title_font_family\": \"Consolas, \\\\\"Liberation Mono\\\\\", Menlo, Courier, monospace\", \"title_font_size\": 16, \"tooltip_font_family\": \"Consolas, \\\\\"Liberation Mono\\\\\", Menlo, Courier, monospace\", \"tooltip_font_size\": 14, \"transition\": \"150ms\", \"value_background\": \"rgba(229, 229, 229, 1)\", \"value_colors\": [], \"value_font_family\": \"Consolas, \\\\\"Liberation Mono\\\\\", Menlo, Courier, monospace\", \"value_font_size\": 16, \"value_label_font_family\": \"Consolas, \\\\\"Liberation Mono\\\\\", Menlo, Courier, monospace\", \"value_label_font_size\": 10}, \"title\": \"Binary TreeMap\", \"tooltip_border_radius\": 0, \"tooltip_fancy_mode\": true, \"truncate_label\": null, \"truncate_legend\": null, \"width\": 800, \"x_label_rotation\": 0, \"x_labels\": null, \"x_labels_major\": null, \"x_labels_major_count\": null, \"x_labels_major_every\": null, \"x_title\": null, \"xrange\": null, \"y_label_rotation\": 0, \"y_labels\": null, \"y_labels_major\": null, \"y_labels_major_count\": null, \"y_labels_major_every\": null, \"y_title\": null, \"zero\": 0, \"legends\": [\"A\", \"B\", \"C\", \"D\", \"E\", \"F\", \"G\", \"H\"]}</script><script type=\"text/javascript\" xlink:href=\"https://kozea.github.io/pygal.js/2.0.x/pygal-tooltips.min.js\"/></defs><title>Binary TreeMap</title><g class=\"graph treemap-graph vertical\"><rect class=\"background\" height=\"600\" width=\"800\" x=\"0\" y=\"0\"/><g class=\"plot\" transform=\"translate(50, 46)\"><rect class=\"background\" height=\"534\" width=\"729.6\" x=\"0\" y=\"0\"/><g class=\"series serie-0 color-0\"><g class=\"rects\"><g class=\"rect\"><rect class=\"rect reactive tooltip-trigger\" height=\"20.658163043949912\" width=\"108.16896282910521\" x=\"14.030769230769232\" y=\"503.07260618681937\"/><desc class=\"value\">2</desc><desc class=\"x centered\">68.11525064532184</desc><desc class=\"y centered\">513.4016877087943</desc></g><g class=\"rect\"><rect class=\"rect reactive tooltip-trigger\" height=\"10.3290815219749\" width=\"108.16896282910521\" x=\"14.030769230769232\" y=\"492.7435246648445\"/><desc class=\"value\">1</desc><desc class=\"x centered\">68.11525064532184</desc><desc class=\"y centered\">497.9080654258319</desc></g><g class=\"rect\"><rect class=\"rect reactive tooltip-trigger\" height=\"123.94897826369913\" width=\"108.16896282910521\" x=\"14.030769230769232\" y=\"368.79454640114534\"/><desc class=\"value\">12</desc><desc class=\"x centered\">68.11525064532184</desc><desc class=\"y centered\">430.7690355329949</desc></g><g class=\"rect\"><rect class=\"rect reactive tooltip-trigger\" height=\"41.316326087899654\" width=\"108.16896282910521\" x=\"14.030769230769232\" y=\"327.4782203132457\"/><desc class=\"value\">4</desc><desc class=\"x centered\">68.11525064532184</desc><desc class=\"y centered\">348.13638335719554</desc></g><g class=\"rect\"><rect class=\"rect reactive tooltip-trigger\" height=\"20.658163043949912\" width=\"108.16896282910527\" x=\"122.19973205987445\" y=\"503.07260618681937\"/><desc class=\"value\">2</desc><desc class=\"x centered\">176.28421347442708</desc><desc class=\"y centered\">513.4016877087943</desc></g><g class=\"rect\"><rect class=\"rect reactive tooltip-trigger\" height=\"10.3290815219749\" width=\"108.16896282910527\" x=\"122.19973205987445\" y=\"492.7435246648445\"/><desc class=\"value\">1</desc><desc class=\"x centered\">176.28421347442708</desc><desc class=\"y centered\">497.9080654258319</desc></g><g class=\"rect\"><rect class=\"rect reactive tooltip-trigger\" height=\"10.329081521974956\" width=\"108.16896282910527\" x=\"122.19973205987445\" y=\"482.4144431428695\"/><desc class=\"value\">1</desc><desc class=\"x centered\">176.28421347442708</desc><desc class=\"y centered\">487.57898390385697</desc></g><g class=\"rect\"><rect class=\"rect reactive tooltip-trigger\" height=\"30.987244565924755\" width=\"108.16896282910527\" x=\"122.19973205987445\" y=\"451.42719857694476\"/><desc class=\"value\">3</desc><desc class=\"x centered\">176.28421347442708</desc><desc class=\"y centered\">466.92082085990717</desc></g><g class=\"rect\"><rect class=\"rect reactive tooltip-trigger\" height=\"123.94897826369908\" width=\"108.16896282910527\" x=\"122.19973205987445\" y=\"327.4782203132457\"/><desc class=\"value\">12</desc><desc class=\"x centered\">176.28421347442708</desc><desc class=\"y centered\">389.45270944509525</desc></g><g class=\"rect\"><rect class=\"rect reactive tooltip-trigger\" height=\"82.63265217579936\" width=\"40.56336106091447\" x=\"14.030769230769232\" y=\"244.84556813744632\"/><desc class=\"value\">3</desc><desc class=\"x centered\">34.31244976122647</desc><desc class=\"y centered\">286.16189422534603</desc></g><g class=\"rect\"><rect class=\"rect reactive tooltip-trigger\" height=\"82.63265217579936\" width=\"54.08448141455261\" x=\"54.5941302916837\" y=\"244.84556813744632\"/><desc class=\"value\">4</desc><desc class=\"x centered\">81.63637099896</desc><desc class=\"y centered\">286.16189422534603</desc></g><g class=\"rect\"><rect class=\"rect reactive tooltip-trigger\" height=\"82.63265217579936\" width=\"121.69008318274341\" x=\"108.67861170623631\" y=\"244.84556813744632\"/><desc class=\"value\">9</desc><desc class=\"x centered\">169.523653297608</desc><desc class=\"y centered\">286.16189422534603</desc></g></g></g><g class=\"series serie-1 color-1\"><g class=\"rects\"><g class=\"rect\"><rect class=\"rect reactive tooltip-trigger\" height=\"80.36486069241556\" width=\"55.61067489362287\" x=\"230.36869488897972\" y=\"443.3659085383537\"/><desc class=\"value\">4</desc><desc class=\"x centered\">258.17403233579114</desc><desc class=\"y centered\">483.54833888456153</desc></g><g class=\"rect\"><rect class=\"rect reactive tooltip-trigger\" height=\"80.36486069241556\" width=\"27.80533744681145\" x=\"285.9793697826026\" y=\"443.3659085383537\"/><desc class=\"value\">2</desc><desc class=\"x centered\">299.8820385060083</desc><desc class=\"y centered\">483.54833888456153</desc></g><g class=\"rect\"><rect class=\"rect reactive tooltip-trigger\" height=\"66.97071724367964\" width=\"83.41601234043432\" x=\"230.36869488897972\" y=\"376.3951912946741\"/><desc class=\"value\">5</desc><desc class=\"x centered\">272.07670105919686</desc><desc class=\"y centered\">409.8805499165139</desc></g><g class=\"rect\"><rect class=\"rect reactive tooltip-trigger\" height=\"147.3355779360952\" width=\"75.83273849130393\" x=\"313.78470722941404\" y=\"376.3951912946741\"/><desc class=\"value\">10</desc><desc class=\"x centered\">351.701076475066</desc><desc class=\"y centered\">450.0629802627217</desc></g><g class=\"rect\"><rect class=\"rect reactive tooltip-trigger\" height=\"63.1438191154694\" width=\"53.082916943912835\" x=\"389.61744572071797\" y=\"460.5869501152999\"/><desc class=\"value\">3</desc><desc class=\"x centered\">416.1589041926744</desc><desc class=\"y centered\">492.1588596730346</desc></g><g class=\"rect\"><rect class=\"rect reactive tooltip-trigger\" height=\"84.19175882062581\" width=\"53.082916943912835\" x=\"389.61744572071797\" y=\"376.3951912946741\"/><desc class=\"value\">4</desc><desc class=\"x centered\">416.1589041926744</desc><desc class=\"y centered\">418.491070704987</desc></g><g class=\"rect\"><rect class=\"rect reactive tooltip-trigger\" height=\"91.07281603192689\" width=\"24.536103831852955\" x=\"230.36869488897972\" y=\"285.3223752627472\"/><desc class=\"value\">2</desc><desc class=\"x centered\">242.63674680490618</desc><desc class=\"y centered\">330.85878327871063</desc></g><g class=\"rect\"><rect class=\"rect reactive tooltip-trigger\" height=\"91.07281603192689\" width=\"85.87636341148561\" x=\"254.90479872083267\" y=\"285.3223752627472\"/><desc class=\"value\">7</desc><desc class=\"x centered\">297.8429804265755</desc><desc class=\"y centered\">330.85878327871063</desc></g><g class=\"rect\"><rect class=\"rect reactive tooltip-trigger\" height=\"40.476807125300866\" width=\"110.41246724333857\" x=\"230.36869488897972\" y=\"244.84556813744632\"/><desc class=\"value\">4</desc><desc class=\"x centered\">285.574928510649</desc><desc class=\"y centered\">265.08397170009675</desc></g><g class=\"rect\"><rect class=\"rect reactive tooltip-trigger\" height=\"87.69974877148513\" width=\"101.91920053231252\" x=\"340.7811621323183\" y=\"288.69544252318894\"/><desc class=\"value\">8</desc><desc class=\"x centered\">391.74076239847454</desc><desc class=\"y centered\">332.5453169089315</desc></g><g class=\"rect\"><rect class=\"rect reactive tooltip-trigger\" height=\"43.84987438574262\" width=\"76.43940039923433\" x=\"340.7811621323183\" y=\"244.84556813744632\"/><desc class=\"value\">3</desc><desc class=\"x centered\">379.0008623319354</desc><desc class=\"y centered\">266.77050533031763</desc></g><g class=\"rect\"><rect class=\"rect reactive tooltip-trigger\" height=\"43.84987438574262\" width=\"25.479800133078186\" x=\"417.2205625315526\" y=\"244.84556813744632\"/><desc class=\"value\">1</desc><desc class=\"x centered\">429.9604625980917</desc><desc class=\"y centered\">266.77050533031763</desc></g></g></g><g class=\"series serie-2 color-2\"><g class=\"rects\"><g class=\"rect\"><rect class=\"rect reactive tooltip-trigger\" height=\"32.64049221264594\" width=\"102.69018260482282\" x=\"14.030769230769232\" y=\"212.20507592480038\"/><desc class=\"value\">3</desc><desc class=\"x centered\">65.37586053318064</desc><desc class=\"y centered\">228.52532203112335</desc></g><g class=\"rect\"><rect class=\"rect reactive tooltip-trigger\" height=\"87.04131256705585\" width=\"102.69018260482282\" x=\"14.030769230769232\" y=\"125.16376335774453\"/><desc class=\"value\">8</desc><desc class=\"x centered\">65.37586053318064</desc><desc class=\"y centered\">168.68441964127246</desc></g><g class=\"rect\"><rect class=\"rect reactive tooltip-trigger\" height=\"119.68180477970179\" width=\"28.006413437678944\" x=\"116.72095183559206\" y=\"125.16376335774453\"/><desc class=\"value\">3</desc><desc class=\"x centered\">130.72415855443154</desc><desc class=\"y centered\">185.00466574759542</desc></g><g class=\"rect\"><rect class=\"rect reactive tooltip-trigger\" height=\"87.04131256705585\" width=\"38.50881847680856\" x=\"144.727365273271\" y=\"157.80425557039047\"/><desc class=\"value\">3</desc><desc class=\"x centered\">163.98177451167527</desc><desc class=\"y centered\">201.3249118539184</desc></g><g class=\"rect\"><rect class=\"rect reactive tooltip-trigger\" height=\"87.04131256705585\" width=\"64.18136412801422\" x=\"183.23618375007956\" y=\"157.80425557039047\"/><desc class=\"value\">5</desc><desc class=\"x centered\">215.32686581408666</desc><desc class=\"y centered\">201.3249118539184</desc></g><g class=\"rect\"><rect class=\"rect reactive tooltip-trigger\" height=\"32.64049221264594\" width=\"102.69018260482278\" x=\"144.727365273271\" y=\"125.16376335774453\"/><desc class=\"value\">3</desc><desc class=\"x centered\">196.0724565756824</desc><desc class=\"y centered\">141.4840094640675</desc></g><g class=\"rect\"><rect class=\"rect reactive tooltip-trigger\" height=\"43.08544972069268\" width=\"77.79559288244153\" x=\"14.030769230769232\" y=\"82.07831363705185\"/><desc class=\"value\">3</desc><desc class=\"x centered\">52.92856567198999</desc><desc class=\"y centered\">103.62103849739819</desc></g><g class=\"rect\"><rect class=\"rect reactive tooltip-trigger\" height=\"71.80908286782102\" width=\"77.79559288244153\" x=\"14.030769230769232\" y=\"10.26923076923083\"/><desc class=\"value\">5</desc><desc class=\"x centered\">52.92856567198999</desc><desc class=\"y centered\">46.17377220314134</desc></g><g class=\"rect\"><rect class=\"rect reactive tooltip-trigger\" height=\"114.8945325885137\" width=\"38.89779644122078\" x=\"91.82636211321076\" y=\"10.26923076923083\"/><desc class=\"value\">4</desc><desc class=\"x centered\">111.27526033382115</desc><desc class=\"y centered\">67.71649706348768</desc></g><g class=\"rect\"><rect class=\"rect reactive tooltip-trigger\" height=\"114.8945325885137\" width=\"116.69338932366225\" x=\"130.72415855443154\" y=\"10.26923076923083\"/><desc class=\"value\">12</desc><desc class=\"x centered\">189.07085321626266</desc><desc class=\"y centered\">67.71649706348768</desc></g></g></g><g class=\"series serie-3 color-3\"><g class=\"rects\"><g class=\"rect\"><rect class=\"rect reactive tooltip-trigger\" height=\"131.59160388948675\" width=\"195.28281478653702\" x=\"247.41754787809379\" y=\"113.25396424795957\"/><desc class=\"value\">23</desc><desc class=\"x centered\">345.05895527136227</desc><desc class=\"y centered\">179.04976619270295</desc></g><g class=\"rect\"><rect class=\"rect reactive tooltip-trigger\" height=\"102.98473347872874\" width=\"195.28281478653702\" x=\"247.41754787809379\" y=\"10.26923076923083\"/><desc class=\"value\">18</desc><desc class=\"x centered\">345.05895527136227</desc><desc class=\"y centered\">61.7615975085952</desc></g></g></g><g class=\"series serie-4 color-4\"><g class=\"rects\"><g class=\"rect\"><rect class=\"rect reactive tooltip-trigger\" height=\"23.823066885267906\" width=\"46.89933670547805\" x=\"442.7003626646308\" y=\"499.9077023455014\"/><desc class=\"value\">1</desc><desc class=\"x centered\">466.1500310173698</desc><desc class=\"y centered\">511.8192357881353</desc></g><g class=\"rect\"><rect class=\"rect reactive tooltip-trigger\" height=\"47.64613377053564\" width=\"46.89933670547805\" x=\"442.7003626646308\" y=\"452.26156857496574\"/><desc class=\"value\">2</desc><desc class=\"x centered\">466.1500310173698</desc><desc class=\"y centered\">476.0846354602336</desc></g><g class=\"rect\"><rect class=\"rect reactive tooltip-trigger\" height=\"23.823066885267906\" width=\"46.89933670547816\" x=\"489.59969937010885\" y=\"499.9077023455014\"/><desc class=\"value\">1</desc><desc class=\"x centered\">513.0493677228479</desc><desc class=\"y centered\">511.8192357881353</desc></g><g class=\"rect\"><rect class=\"rect reactive tooltip-trigger\" height=\"47.64613377053564\" width=\"46.89933670547816\" x=\"489.59969937010885\" y=\"452.26156857496574\"/><desc class=\"value\">2</desc><desc class=\"x centered\">513.0493677228479</desc><desc class=\"y centered\">476.0846354602336</desc></g><g class=\"rect\"><rect class=\"rect reactive tooltip-trigger\" height=\"71.46920065580355\" width=\"46.89933670547828\" x=\"536.499036075587\" y=\"452.26156857496574\"/><desc class=\"value\">3</desc><desc class=\"x centered\">559.9487044283262</desc><desc class=\"y centered\">487.9961689028675</desc></g><g class=\"rect\"><rect class=\"rect reactive tooltip-trigger\" height=\"71.46920065580355\" width=\"46.89933670547805\" x=\"442.7003626646308\" y=\"380.7923679191622\"/><desc class=\"value\">3</desc><desc class=\"x centered\">466.1500310173698</desc><desc class=\"y centered\">416.52696824706396</desc></g><g class=\"rect\"><rect class=\"rect reactive tooltip-trigger\" height=\"23.82306688526785\" width=\"46.89933670547816\" x=\"489.59969937010885\" y=\"428.4385016896979\"/><desc class=\"value\">1</desc><desc class=\"x centered\">513.0493677228479</desc><desc class=\"y centered\">440.3500351323318</desc></g><g class=\"rect\"><rect class=\"rect reactive tooltip-trigger\" height=\"47.6461337705357\" width=\"46.89933670547816\" x=\"489.59969937010885\" y=\"380.7923679191622\"/><desc class=\"value\">2</desc><desc class=\"x centered\">513.0493677228479</desc><desc class=\"y centered\">404.61543480443004</desc></g><g class=\"rect\"><rect class=\"rect reactive tooltip-trigger\" height=\"71.46920065580355\" width=\"46.89933670547828\" x=\"536.499036075587\" y=\"380.7923679191622\"/><desc class=\"value\">3</desc><desc class=\"x centered\">559.9487044283262</desc><desc class=\"y centered\">416.52696824706396</desc></g><g class=\"rect\"><rect class=\"rect reactive tooltip-trigger\" height=\"59.55766721316962\" width=\"75.03893872876495\" x=\"442.7003626646308\" y=\"321.23470070599257\"/><desc class=\"value\">4</desc><desc class=\"x centered\">480.2198320290133</desc><desc class=\"y centered\">351.01353431257735</desc></g><g class=\"rect\"><rect class=\"rect reactive tooltip-trigger\" height=\"59.557667213169566\" width=\"56.27920404657368\" x=\"442.7003626646308\" y=\"261.677033492823\"/><desc class=\"value\">3</desc><desc class=\"x centered\">470.83996468791764</desc><desc class=\"y centered\">291.4558670994078</desc></g><g class=\"rect\"><rect class=\"rect reactive tooltip-trigger\" height=\"59.557667213169566\" width=\"18.759734682191265\" x=\"498.9795667112045\" y=\"261.677033492823\"/><desc class=\"value\">1</desc><desc class=\"x centered\">508.3594340523001</desc><desc class=\"y centered\">291.4558670994078</desc></g><g class=\"rect\"><rect class=\"rect reactive tooltip-trigger\" height=\"34.03295269323979\" width=\"65.65907138766954\" x=\"517.7393013933957\" y=\"346.7594152259224\"/><desc class=\"value\">2</desc><desc class=\"x centered\">550.5688370872306</desc><desc class=\"y centered\">363.77589157254226</desc></g><g class=\"rect\"><rect class=\"rect reactive tooltip-trigger\" height=\"34.03295269323979\" width=\"32.8295356938346\" x=\"517.7393013933957\" y=\"312.7264625326826\"/><desc class=\"value\">1</desc><desc class=\"x centered\">534.154069240313</desc><desc class=\"y centered\">329.7429388793025</desc></g><g class=\"rect\"><rect class=\"rect reactive tooltip-trigger\" height=\"34.03295269323979\" width=\"32.829535693834714\" x=\"550.5688370872303\" y=\"312.7264625326826\"/><desc class=\"value\">1</desc><desc class=\"x centered\">566.9836049341477</desc><desc class=\"y centered\">329.7429388793025</desc></g><g class=\"rect\"><rect class=\"rect reactive tooltip-trigger\" height=\"25.524714519929887\" width=\"43.772714258446285\" x=\"517.7393013933957\" y=\"287.2017480127528\"/><desc class=\"value\">1</desc><desc class=\"x centered\">539.6256585226189</desc><desc class=\"y centered\">299.9641052727177</desc></g><g class=\"rect\"><rect class=\"rect reactive tooltip-trigger\" height=\"25.524714519929773\" width=\"43.772714258446285\" x=\"517.7393013933957\" y=\"261.677033492823\"/><desc class=\"value\">1</desc><desc class=\"x centered\">539.6256585226189</desc><desc class=\"y centered\">274.43939075278786</desc></g><g class=\"rect\"><rect class=\"rect reactive tooltip-trigger\" height=\"51.04942903985966\" width=\"21.886357129223256\" x=\"561.512015651842\" y=\"261.677033492823\"/><desc class=\"value\">1</desc><desc class=\"x centered\">572.4551942164537</desc><desc class=\"y centered\">287.20174801275283</desc></g></g></g><g class=\"series serie-5 color-5\"><g class=\"rects\"><g class=\"rect\"><rect class=\"rect reactive tooltip-trigger\" height=\"262.0537357379463\" width=\"132.17085798816572\" x=\"583.3983727810651\" y=\"261.677033492823\"/><desc class=\"value\">31</desc><desc class=\"x centered\">649.4838017751479</desc><desc class=\"y centered\">392.70390136179617</desc></g></g></g><g class=\"series serie-6 color-6\"><g class=\"rects\"><g class=\"rect\"><rect class=\"rect reactive tooltip-trigger\" height=\"45.37023283980909\" width=\"123.12985467301417\" x=\"442.7003626646308\" y=\"216.3068006530139\"/><desc class=\"value\">5</desc><desc class=\"x centered\">504.2652900011379</desc><desc class=\"y centered\">238.99191707291845</desc></g><g class=\"rect\"><rect class=\"rect reactive tooltip-trigger\" height=\"84.38863308204492\" width=\"123.12985467301417\" x=\"442.7003626646308\" y=\"131.918167570969\"/><desc class=\"value\">9.3</desc><desc class=\"x centered\">504.2652900011379</desc><desc class=\"y centered\">174.11248411199145</desc></g><g class=\"rect\"><rect class=\"rect reactive tooltip-trigger\" height=\"129.758865921854\" width=\"69.74488271688222\" x=\"565.830217337645\" y=\"131.918167570969\"/><desc class=\"value\">8.1</desc><desc class=\"x centered\">600.702658696086</desc><desc class=\"y centered\">196.797600531896</desc></g><g class=\"rect\"><rect class=\"rect reactive tooltip-trigger\" height=\"121.64893680173816\" width=\"110.21413565136936\" x=\"442.7003626646308\" y=\"10.26923076923083\"/><desc class=\"value\">12</desc><desc class=\"x centered\">497.8074304903155</desc><desc class=\"y centered\">71.09369917009991</desc></g><g class=\"rect\"><rect class=\"rect reactive tooltip-trigger\" height=\"54.06619413410584\" width=\"82.66060173852702\" x=\"552.9144983160002\" y=\"77.85197343686315\"/><desc class=\"value\">4</desc><desc class=\"x centered\">594.2447991852637</desc><desc class=\"y centered\">104.88507050391607</desc></g><g class=\"rect\"><rect class=\"rect reactive tooltip-trigger\" height=\"40.549645600579424\" width=\"82.66060173852702\" x=\"552.9144983160002\" y=\"37.30232783628372\"/><desc class=\"value\">3</desc><desc class=\"x centered\">594.2447991852637</desc><desc class=\"y centered\">57.577150636573435</desc></g><g class=\"rect\"><rect class=\"rect reactive tooltip-trigger\" height=\"27.033097067052893\" width=\"82.66060173852702\" x=\"552.9144983160002\" y=\"10.26923076923083\"/><desc class=\"value\">2</desc><desc class=\"x centered\">594.2447991852637</desc><desc class=\"y centered\">23.785779302757277</desc></g></g></g><g class=\"series serie-7 color-7\"><g class=\"rects\"><g class=\"rect\"><rect class=\"rect reactive tooltip-trigger\" height=\"167.60520181572815\" width=\"79.9941307147036\" x=\"635.5751000545272\" y=\"94.07183167709485\"/><desc class=\"value\">12</desc><desc class=\"x centered\">675.572165411879</desc><desc class=\"y centered\">177.87443258495892</desc></g><g class=\"rect\"><rect class=\"rect reactive tooltip-trigger\" height=\"41.90130045393204\" width=\"79.9941307147036\" x=\"635.5751000545272\" y=\"52.17053122316281\"/><desc class=\"value\">3</desc><desc class=\"x centered\">675.572165411879</desc><desc class=\"y centered\">73.12118145012883</desc></g><g class=\"rect\"><rect class=\"rect reactive tooltip-trigger\" height=\"41.90130045393198\" width=\"79.9941307147036\" x=\"635.5751000545272\" y=\"10.26923076923083\"/><desc class=\"value\">3</desc><desc class=\"x centered\">675.572165411879</desc><desc class=\"y centered\">31.21988099619682</desc></g></g></g></g><g class=\"titles\"><text class=\"title plot_title\" x=\"400.0\" y=\"26\">Binary TreeMap</text></g><g class=\"plot overlay\" transform=\"translate(50, 46)\"><g class=\"series serie-0 color-0\"/><g class=\"series serie-1 color-1\"/><g class=\"series serie-2 color-2\"/><g class=\"series serie-3 color-3\"/><g class=\"series serie-4 color-4\"/><g class=\"series serie-5 color-5\"/><g class=\"series serie-6 color-6\"/><g class=\"series serie-7 color-7\"/></g><g class=\"plot text-overlay\" transform=\"translate(50, 46)\"><g class=\"series serie-0 color-0\"/><g class=\"series serie-1 color-1\"/><g class=\"series serie-2 color-2\"/><g class=\"series serie-3 color-3\"/><g class=\"series serie-4 color-4\"/><g class=\"series serie-5 color-5\"/><g class=\"series serie-6 color-6\"/><g class=\"series serie-7 color-7\"/></g><g class=\"plot tooltip-overlay\" transform=\"translate(50, 46)\"><g class=\"tooltip\" style=\"opacity: 0\" transform=\"translate(0 0)\"><rect class=\"tooltip-box\" height=\"0\" rx=\"0\" ry=\"0\" width=\"0\"/><g class=\"text\"/></g></g><g class=\"legends\" transform=\"translate(10, 56)\"><g class=\"legend reactive activate-serie\" id=\"activate-serie-0\"><rect class=\"color-0 reactive\" height=\"12\" width=\"12\" x=\"0.0\" y=\"1.0\"/><text x=\"17.0\" y=\"11.2\">A</text></g><g class=\"legend reactive activate-serie\" id=\"activate-serie-1\"><rect class=\"color-1 reactive\" height=\"12\" width=\"12\" x=\"0.0\" y=\"22.0\"/><text x=\"17.0\" y=\"32.2\">B</text></g><g class=\"legend reactive activate-serie\" id=\"activate-serie-2\"><rect class=\"color-2 reactive\" height=\"12\" width=\"12\" x=\"0.0\" y=\"43.0\"/><text x=\"17.0\" y=\"53.2\">C</text></g><g class=\"legend reactive activate-serie\" id=\"activate-serie-3\"><rect class=\"color-3 reactive\" height=\"12\" width=\"12\" x=\"0.0\" y=\"64.0\"/><text x=\"17.0\" y=\"74.2\">D</text></g><g class=\"legend reactive activate-serie\" id=\"activate-serie-4\"><rect class=\"color-4 reactive\" height=\"12\" width=\"12\" x=\"0.0\" y=\"85.0\"/><text x=\"17.0\" y=\"95.2\">E</text></g><g class=\"legend reactive activate-serie\" id=\"activate-serie-5\"><rect class=\"color-5 reactive\" height=\"12\" width=\"12\" x=\"0.0\" y=\"106.0\"/><text x=\"17.0\" y=\"116.2\">F</text></g><g class=\"legend reactive activate-serie\" id=\"activate-serie-6\"><rect class=\"color-6 reactive\" height=\"12\" width=\"12\" x=\"0.0\" y=\"127.0\"/><text x=\"17.0\" y=\"137.2\">G</text></g><g class=\"legend reactive activate-serie\" id=\"activate-serie-7\"><rect class=\"color-7 reactive\" height=\"12\" width=\"12\" x=\"0.0\" y=\"148.0\"/><text x=\"17.0\" y=\"158.2\">H</text></g></g><g class=\"legends\" transform=\"translate(790, 56)\"/></g></svg>'"
            ]
          },
          "metadata": {
            "tags": []
          },
          "execution_count": 60
        }
      ]
    },
    {
      "cell_type": "code",
      "metadata": {
        "id": "K2qnFuMkM9Am",
        "outputId": "f9cf9f75-4ec4-47c5-fac7-b4001305321e",
        "colab": {
          "base_uri": "https://localhost:8080/",
          "height": 996
        }
      },
      "source": [
        "#!pip install cairosvg\n",
        "#import cairosvg\n",
        "treemap = pygal.Treemap()\n",
        "treemap.title = 'Binary TreeMap'\n",
        "treemap.add('A', [2, 1, 12, 4, 2, 1, 1, 3, 12, 3, 4, None, 9])\n",
        "treemap.add('B', [4, 2, 5, 10, 3, 4, 2, 7, 4, -10, None, 8, 3, 1])\n",
        "treemap.add('C', [3, 8, 3, 3, 5, 3, 3, 5, 4, 12])\n",
        "treemap.add('D', [23, 18])\n",
        "treemap.add('E', [1, 2, 1, 2, 3, 3, 1, 2, 3,\n",
        "      4, 3, 1, 2, 1, 1, 1, 1, 1])\n",
        "treemap.add('F', [31])\n",
        "treemap.add('G', [5, 9.3, 8.1, 12, 4, 3, 2])\n",
        "treemap.add('H', [12, 3, 3])\n",
        "treemap.add_squares()\n",
        "treemap"
      ],
      "execution_count": 77,
      "outputs": [
        {
          "output_type": "execute_result",
          "data": {
            "image/png": "[encoded data removed]",
            "text/plain": [
              "<pygal.graph.treemap.Treemap at 0x7ff74808b630>"
            ],
            "image/svg+xml": "<svg xmlns:xlink=\"http://www.w3.org/1999/xlink\" xmlns=\"http://www.w3.org/2000/svg\" id=\"chart-31304c50-3d39-40f9-9f05-a7ec56fbf11b\" class=\"pygal-chart\" viewBox=\"0 0 800 600\"><!--Generated with pygal 2.4.0 (lxml) ©Kozea 2012-2016 on 2020-10-30--><!--http://pygal.org--><!--http://github.com/Kozea/pygal--><defs><style type=\"text/css\">#chart-31304c50-3d39-40f9-9f05-a7ec56fbf11b{-webkit-user-select:none;-webkit-font-smoothing:antialiased;font-family:Consolas,\"Liberation Mono\",Menlo,Courier,monospace}#chart-31304c50-3d39-40f9-9f05-a7ec56fbf11b .title{font-family:Consolas,\"Liberation Mono\",Menlo,Courier,monospace;font-size:16px}#chart-31304c50-3d39-40f9-9f05-a7ec56fbf11b .legends .legend text{font-family:Consolas,\"Liberation Mono\",Menlo,Courier,monospace;font-size:14px}#chart-31304c50-3d39-40f9-9f05-a7ec56fbf11b .axis text{font-family:Consolas,\"Liberation Mono\",Menlo,Courier,monospace;font-size:10px}#chart-31304c50-3d39-40f9-9f05-a7ec56fbf11b .axis text.major{font-family:Consolas,\"Liberation Mono\",Menlo,Courier,monospace;font-size:10px}#chart-31304c50-3d39-40f9-9f05-a7ec56fbf11b .text-overlay text.value{font-family:Consolas,\"Liberation Mono\",Menlo,Courier,monospace;font-size:16px}#chart-31304c50-3d39-40f9-9f05-a7ec56fbf11b .text-overlay text.label{font-family:Consolas,\"Liberation Mono\",Menlo,Courier,monospace;font-size:10px}#chart-31304c50-3d39-40f9-9f05-a7ec56fbf11b .tooltip{font-family:Consolas,\"Liberation Mono\",Menlo,Courier,monospace;font-size:14px}#chart-31304c50-3d39-40f9-9f05-a7ec56fbf11b text.no_data{font-family:Consolas,\"Liberation Mono\",Menlo,Courier,monospace;font-size:64px}\n#chart-31304c50-3d39-40f9-9f05-a7ec56fbf11b{background-color:rgba(249,249,249,1)}#chart-31304c50-3d39-40f9-9f05-a7ec56fbf11b path,#chart-31304c50-3d39-40f9-9f05-a7ec56fbf11b line,#chart-31304c50-3d39-40f9-9f05-a7ec56fbf11b rect,#chart-31304c50-3d39-40f9-9f05-a7ec56fbf11b circle{-webkit-transition:150ms;-moz-transition:150ms;transition:150ms}#chart-31304c50-3d39-40f9-9f05-a7ec56fbf11b .graph &gt; .background{fill:rgba(249,249,249,1)}#chart-31304c50-3d39-40f9-9f05-a7ec56fbf11b .plot &gt; .background{fill:rgba(255,255,255,1)}#chart-31304c50-3d39-40f9-9f05-a7ec56fbf11b .graph{fill:rgba(0,0,0,.87)}#chart-31304c50-3d39-40f9-9f05-a7ec56fbf11b text.no_data{fill:rgba(0,0,0,1)}#chart-31304c50-3d39-40f9-9f05-a7ec56fbf11b .title{fill:rgba(0,0,0,1)}#chart-31304c50-3d39-40f9-9f05-a7ec56fbf11b .legends .legend text{fill:rgba(0,0,0,.87)}#chart-31304c50-3d39-40f9-9f05-a7ec56fbf11b .legends .legend:hover text{fill:rgba(0,0,0,1)}#chart-31304c50-3d39-40f9-9f05-a7ec56fbf11b .axis .line{stroke:rgba(0,0,0,1)}#chart-31304c50-3d39-40f9-9f05-a7ec56fbf11b .axis .guide.line{stroke:rgba(0,0,0,.54)}#chart-31304c50-3d39-40f9-9f05-a7ec56fbf11b .axis .major.line{stroke:rgba(0,0,0,.87)}#chart-31304c50-3d39-40f9-9f05-a7ec56fbf11b .axis text.major{fill:rgba(0,0,0,1)}#chart-31304c50-3d39-40f9-9f05-a7ec56fbf11b .axis.y .guides:hover .guide.line,#chart-31304c50-3d39-40f9-9f05-a7ec56fbf11b .line-graph .axis.x .guides:hover .guide.line,#chart-31304c50-3d39-40f9-9f05-a7ec56fbf11b .stackedline-graph .axis.x .guides:hover .guide.line,#chart-31304c50-3d39-40f9-9f05-a7ec56fbf11b .xy-graph .axis.x .guides:hover .guide.line{stroke:rgba(0,0,0,1)}#chart-31304c50-3d39-40f9-9f05-a7ec56fbf11b .axis .guides:hover text{fill:rgba(0,0,0,1)}#chart-31304c50-3d39-40f9-9f05-a7ec56fbf11b .reactive{fill-opacity:.7;stroke-opacity:.8}#chart-31304c50-3d39-40f9-9f05-a7ec56fbf11b .ci{stroke:rgba(0,0,0,.87)}#chart-31304c50-3d39-40f9-9f05-a7ec56fbf11b .reactive.active,#chart-31304c50-3d39-40f9-9f05-a7ec56fbf11b .active .reactive{fill-opacity:.8;stroke-opacity:.9;stroke-width:4}#chart-31304c50-3d39-40f9-9f05-a7ec56fbf11b .ci .reactive.active{stroke-width:1.5}#chart-31304c50-3d39-40f9-9f05-a7ec56fbf11b .series text{fill:rgba(0,0,0,1)}#chart-31304c50-3d39-40f9-9f05-a7ec56fbf11b .tooltip rect{fill:rgba(255,255,255,1);stroke:rgba(0,0,0,1);-webkit-transition:opacity 150ms;-moz-transition:opacity 150ms;transition:opacity 150ms}#chart-31304c50-3d39-40f9-9f05-a7ec56fbf11b .tooltip .label{fill:rgba(0,0,0,.87)}#chart-31304c50-3d39-40f9-9f05-a7ec56fbf11b .tooltip .label{fill:rgba(0,0,0,.87)}#chart-31304c50-3d39-40f9-9f05-a7ec56fbf11b .tooltip .legend{font-size:.8em;fill:rgba(0,0,0,.54)}#chart-31304c50-3d39-40f9-9f05-a7ec56fbf11b .tooltip .x_label{font-size:.6em;fill:rgba(0,0,0,1)}#chart-31304c50-3d39-40f9-9f05-a7ec56fbf11b .tooltip .xlink{font-size:.5em;text-decoration:underline}#chart-31304c50-3d39-40f9-9f05-a7ec56fbf11b .tooltip .value{font-size:1.5em}#chart-31304c50-3d39-40f9-9f05-a7ec56fbf11b .bound{font-size:.5em}#chart-31304c50-3d39-40f9-9f05-a7ec56fbf11b .max-value{font-size:.75em;fill:rgba(0,0,0,.54)}#chart-31304c50-3d39-40f9-9f05-a7ec56fbf11b .map-element{fill:rgba(255,255,255,1);stroke:rgba(0,0,0,.54) !important}#chart-31304c50-3d39-40f9-9f05-a7ec56fbf11b .map-element .reactive{fill-opacity:inherit;stroke-opacity:inherit}#chart-31304c50-3d39-40f9-9f05-a7ec56fbf11b .color-0,#chart-31304c50-3d39-40f9-9f05-a7ec56fbf11b .color-0 a:visited{stroke:#F44336;fill:#F44336}#chart-31304c50-3d39-40f9-9f05-a7ec56fbf11b .color-1,#chart-31304c50-3d39-40f9-9f05-a7ec56fbf11b .color-1 a:visited{stroke:#3F51B5;fill:#3F51B5}#chart-31304c50-3d39-40f9-9f05-a7ec56fbf11b .color-2,#chart-31304c50-3d39-40f9-9f05-a7ec56fbf11b .color-2 a:visited{stroke:#009688;fill:#009688}#chart-31304c50-3d39-40f9-9f05-a7ec56fbf11b .color-3,#chart-31304c50-3d39-40f9-9f05-a7ec56fbf11b .color-3 a:visited{stroke:#FFC107;fill:#FFC107}#chart-31304c50-3d39-40f9-9f05-a7ec56fbf11b .color-4,#chart-31304c50-3d39-40f9-9f05-a7ec56fbf11b .color-4 a:visited{stroke:#FF5722;fill:#FF5722}#chart-31304c50-3d39-40f9-9f05-a7ec56fbf11b .color-5,#chart-31304c50-3d39-40f9-9f05-a7ec56fbf11b .color-5 a:visited{stroke:#9C27B0;fill:#9C27B0}#chart-31304c50-3d39-40f9-9f05-a7ec56fbf11b .color-6,#chart-31304c50-3d39-40f9-9f05-a7ec56fbf11b .color-6 a:visited{stroke:#03A9F4;fill:#03A9F4}#chart-31304c50-3d39-40f9-9f05-a7ec56fbf11b .color-7,#chart-31304c50-3d39-40f9-9f05-a7ec56fbf11b .color-7 a:visited{stroke:#8BC34A;fill:#8BC34A}#chart-31304c50-3d39-40f9-9f05-a7ec56fbf11b .text-overlay .color-0 text{fill:black}#chart-31304c50-3d39-40f9-9f05-a7ec56fbf11b .text-overlay .color-1 text{fill:black}#chart-31304c50-3d39-40f9-9f05-a7ec56fbf11b .text-overlay .color-2 text{fill:black}#chart-31304c50-3d39-40f9-9f05-a7ec56fbf11b .text-overlay .color-3 text{fill:black}#chart-31304c50-3d39-40f9-9f05-a7ec56fbf11b .text-overlay .color-4 text{fill:black}#chart-31304c50-3d39-40f9-9f05-a7ec56fbf11b .text-overlay .color-5 text{fill:black}#chart-31304c50-3d39-40f9-9f05-a7ec56fbf11b .text-overlay .color-6 text{fill:black}#chart-31304c50-3d39-40f9-9f05-a7ec56fbf11b .text-overlay .color-7 text{fill:black}\n#chart-31304c50-3d39-40f9-9f05-a7ec56fbf11b text.no_data{text-anchor:middle}#chart-31304c50-3d39-40f9-9f05-a7ec56fbf11b .guide.line{fill:none}#chart-31304c50-3d39-40f9-9f05-a7ec56fbf11b .centered{text-anchor:middle}#chart-31304c50-3d39-40f9-9f05-a7ec56fbf11b .title{text-anchor:middle}#chart-31304c50-3d39-40f9-9f05-a7ec56fbf11b .legends .legend text{fill-opacity:1}#chart-31304c50-3d39-40f9-9f05-a7ec56fbf11b .axis.x text{text-anchor:middle}#chart-31304c50-3d39-40f9-9f05-a7ec56fbf11b .axis.x:not(.web) text[transform]{text-anchor:start}#chart-31304c50-3d39-40f9-9f05-a7ec56fbf11b .axis.x:not(.web) text[transform].backwards{text-anchor:end}#chart-31304c50-3d39-40f9-9f05-a7ec56fbf11b .axis.y text{text-anchor:end}#chart-31304c50-3d39-40f9-9f05-a7ec56fbf11b .axis.y text[transform].backwards{text-anchor:start}#chart-31304c50-3d39-40f9-9f05-a7ec56fbf11b .axis.y2 text{text-anchor:start}#chart-31304c50-3d39-40f9-9f05-a7ec56fbf11b .axis.y2 text[transform].backwards{text-anchor:end}#chart-31304c50-3d39-40f9-9f05-a7ec56fbf11b .axis .guide.line{stroke-dasharray:4,4}#chart-31304c50-3d39-40f9-9f05-a7ec56fbf11b .axis .major.guide.line{stroke-dasharray:6,6}#chart-31304c50-3d39-40f9-9f05-a7ec56fbf11b .horizontal .axis.y .guide.line,#chart-31304c50-3d39-40f9-9f05-a7ec56fbf11b .horizontal .axis.y2 .guide.line,#chart-31304c50-3d39-40f9-9f05-a7ec56fbf11b .vertical .axis.x .guide.line{opacity:0}#chart-31304c50-3d39-40f9-9f05-a7ec56fbf11b .horizontal .axis.always_show .guide.line,#chart-31304c50-3d39-40f9-9f05-a7ec56fbf11b .vertical .axis.always_show .guide.line{opacity:1 !important}#chart-31304c50-3d39-40f9-9f05-a7ec56fbf11b .axis.y .guides:hover .guide.line,#chart-31304c50-3d39-40f9-9f05-a7ec56fbf11b .axis.y2 .guides:hover .guide.line,#chart-31304c50-3d39-40f9-9f05-a7ec56fbf11b .axis.x .guides:hover .guide.line{opacity:1}#chart-31304c50-3d39-40f9-9f05-a7ec56fbf11b .axis .guides:hover text{opacity:1}#chart-31304c50-3d39-40f9-9f05-a7ec56fbf11b .nofill{fill:none}#chart-31304c50-3d39-40f9-9f05-a7ec56fbf11b .subtle-fill{fill-opacity:.2}#chart-31304c50-3d39-40f9-9f05-a7ec56fbf11b .dot{stroke-width:1px;fill-opacity:1}#chart-31304c50-3d39-40f9-9f05-a7ec56fbf11b .dot.active{stroke-width:5px}#chart-31304c50-3d39-40f9-9f05-a7ec56fbf11b .dot.negative{fill:transparent}#chart-31304c50-3d39-40f9-9f05-a7ec56fbf11b text,#chart-31304c50-3d39-40f9-9f05-a7ec56fbf11b tspan{stroke:none !important}#chart-31304c50-3d39-40f9-9f05-a7ec56fbf11b .series text.active{opacity:1}#chart-31304c50-3d39-40f9-9f05-a7ec56fbf11b .tooltip rect{fill-opacity:.95;stroke-width:.5}#chart-31304c50-3d39-40f9-9f05-a7ec56fbf11b .tooltip text{fill-opacity:1}#chart-31304c50-3d39-40f9-9f05-a7ec56fbf11b .showable{visibility:hidden}#chart-31304c50-3d39-40f9-9f05-a7ec56fbf11b .showable.shown{visibility:visible}#chart-31304c50-3d39-40f9-9f05-a7ec56fbf11b .gauge-background{fill:rgba(229,229,229,1);stroke:none}#chart-31304c50-3d39-40f9-9f05-a7ec56fbf11b .bg-lines{stroke:rgba(249,249,249,1);stroke-width:2px}</style><script type=\"text/javascript\">window.pygal = window.pygal || {};window.pygal.config = window.pygal.config || {};window.pygal.config['31304c50-3d39-40f9-9f05-a7ec56fbf11b'] = {\"allow_interruptions\": false, \"box_mode\": \"extremes\", \"classes\": [\"pygal-chart\"], \"css\": [\"file://style.css\", \"file://graph.css\"], \"defs\": [], \"disable_xml_declaration\": true, \"dots_size\": 2.5, \"dynamic_print_values\": false, \"explicit_size\": false, \"fill\": false, \"force_uri_protocol\": \"https\", \"formatter\": null, \"half_pie\": false, \"height\": 600, \"include_x_axis\": false, \"inner_radius\": 0, \"interpolate\": null, \"interpolation_parameters\": {}, \"interpolation_precision\": 250, \"inverse_y_axis\": false, \"js\": [\"//kozea.github.io/pygal.js/2.0.x/pygal-tooltips.min.js\"], \"legend_at_bottom\": false, \"legend_at_bottom_columns\": null, \"legend_box_size\": 12, \"logarithmic\": false, \"margin\": 20, \"margin_bottom\": null, \"margin_left\": null, \"margin_right\": null, \"margin_top\": null, \"max_scale\": 16, \"min_scale\": 4, \"missing_value_fill_truncation\": \"x\", \"no_data_text\": \"No data\", \"no_prefix\": false, \"order_min\": null, \"pretty_print\": false, \"print_labels\": false, \"print_values\": false, \"print_values_position\": \"center\", \"print_zeroes\": true, \"range\": null, \"rounded_bars\": null, \"secondary_range\": null, \"show_dots\": true, \"show_legend\": true, \"show_minor_x_labels\": true, \"show_minor_y_labels\": true, \"show_only_major_dots\": false, \"show_x_guides\": false, \"show_x_labels\": true, \"show_y_guides\": true, \"show_y_labels\": true, \"spacing\": 10, \"stack_from_top\": false, \"strict\": false, \"stroke\": true, \"stroke_style\": null, \"style\": {\"background\": \"rgba(249, 249, 249, 1)\", \"ci_colors\": [], \"colors\": [\"#F44336\", \"#3F51B5\", \"#009688\", \"#FFC107\", \"#FF5722\", \"#9C27B0\", \"#03A9F4\", \"#8BC34A\", \"#FF9800\", \"#E91E63\", \"#2196F3\", \"#4CAF50\", \"#FFEB3B\", \"#673AB7\", \"#00BCD4\", \"#CDDC39\", \"#9E9E9E\", \"#607D8B\"], \"font_family\": \"Consolas, \\\"Liberation Mono\\\", Menlo, Courier, monospace\", \"foreground\": \"rgba(0, 0, 0, .87)\", \"foreground_strong\": \"rgba(0, 0, 0, 1)\", \"foreground_subtle\": \"rgba(0, 0, 0, .54)\", \"guide_stroke_dasharray\": \"4,4\", \"label_font_family\": \"Consolas, \\\"Liberation Mono\\\", Menlo, Courier, monospace\", \"label_font_size\": 10, \"legend_font_family\": \"Consolas, \\\"Liberation Mono\\\", Menlo, Courier, monospace\", \"legend_font_size\": 14, \"major_guide_stroke_dasharray\": \"6,6\", \"major_label_font_family\": \"Consolas, \\\"Liberation Mono\\\", Menlo, Courier, monospace\", \"major_label_font_size\": 10, \"no_data_font_family\": \"Consolas, \\\"Liberation Mono\\\", Menlo, Courier, monospace\", \"no_data_font_size\": 64, \"opacity\": \".7\", \"opacity_hover\": \".8\", \"plot_background\": \"rgba(255, 255, 255, 1)\", \"stroke_opacity\": \".8\", \"stroke_opacity_hover\": \".9\", \"title_font_family\": \"Consolas, \\\"Liberation Mono\\\", Menlo, Courier, monospace\", \"title_font_size\": 16, \"tooltip_font_family\": \"Consolas, \\\"Liberation Mono\\\", Menlo, Courier, monospace\", \"tooltip_font_size\": 14, \"transition\": \"150ms\", \"value_background\": \"rgba(229, 229, 229, 1)\", \"value_colors\": [], \"value_font_family\": \"Consolas, \\\"Liberation Mono\\\", Menlo, Courier, monospace\", \"value_font_size\": 16, \"value_label_font_family\": \"Consolas, \\\"Liberation Mono\\\", Menlo, Courier, monospace\", \"value_label_font_size\": 10}, \"title\": \"Binary TreeMap\", \"tooltip_border_radius\": 0, \"tooltip_fancy_mode\": true, \"truncate_label\": null, \"truncate_legend\": null, \"width\": 800, \"x_label_rotation\": 0, \"x_labels\": null, \"x_labels_major\": null, \"x_labels_major_count\": null, \"x_labels_major_every\": null, \"x_title\": null, \"xrange\": null, \"y_label_rotation\": 0, \"y_labels\": null, \"y_labels_major\": null, \"y_labels_major_count\": null, \"y_labels_major_every\": null, \"y_title\": null, \"zero\": 0, \"legends\": [\"A\", \"B\", \"C\", \"D\", \"E\", \"F\", \"G\", \"H\"]}</script><script type=\"text/javascript\" xlink:href=\"https://kozea.github.io/pygal.js/2.0.x/pygal-tooltips.min.js\"/></defs><title>Binary TreeMap</title><g class=\"graph treemap-graph vertical\"><rect class=\"background\" height=\"600\" width=\"800\" x=\"0\" y=\"0\"/><g class=\"plot\" transform=\"translate(50, 46)\"><rect class=\"background\" height=\"534\" width=\"729.6\" x=\"0\" y=\"0\"/><g class=\"series serie-0 color-0\"><g class=\"rects\"><g class=\"rect\"><rect class=\"rect reactive tooltip-trigger\" height=\"20.658163043949912\" width=\"108.16896282910521\" x=\"14.030769230769232\" y=\"503.07260618681937\"/><desc class=\"value\">2</desc><desc class=\"x centered\">68.11525064532184</desc><desc class=\"y centered\">513.4016877087943</desc></g><g class=\"rect\"><rect class=\"rect reactive tooltip-trigger\" height=\"10.3290815219749\" width=\"108.16896282910521\" x=\"14.030769230769232\" y=\"492.7435246648445\"/><desc class=\"value\">1</desc><desc class=\"x centered\">68.11525064532184</desc><desc class=\"y centered\">497.9080654258319</desc></g><g class=\"rect\"><rect class=\"rect reactive tooltip-trigger\" height=\"123.94897826369913\" width=\"108.16896282910521\" x=\"14.030769230769232\" y=\"368.79454640114534\"/><desc class=\"value\">12</desc><desc class=\"x centered\">68.11525064532184</desc><desc class=\"y centered\">430.7690355329949</desc></g><g class=\"rect\"><rect class=\"rect reactive tooltip-trigger\" height=\"41.316326087899654\" width=\"108.16896282910521\" x=\"14.030769230769232\" y=\"327.4782203132457\"/><desc class=\"value\">4</desc><desc class=\"x centered\">68.11525064532184</desc><desc class=\"y centered\">348.13638335719554</desc></g><g class=\"rect\"><rect class=\"rect reactive tooltip-trigger\" height=\"20.658163043949912\" width=\"108.16896282910527\" x=\"122.19973205987445\" y=\"503.07260618681937\"/><desc class=\"value\">2</desc><desc class=\"x centered\">176.28421347442708</desc><desc class=\"y centered\">513.4016877087943</desc></g><g class=\"rect\"><rect class=\"rect reactive tooltip-trigger\" height=\"10.3290815219749\" width=\"108.16896282910527\" x=\"122.19973205987445\" y=\"492.7435246648445\"/><desc class=\"value\">1</desc><desc class=\"x centered\">176.28421347442708</desc><desc class=\"y centered\">497.9080654258319</desc></g><g class=\"rect\"><rect class=\"rect reactive tooltip-trigger\" height=\"10.329081521974956\" width=\"108.16896282910527\" x=\"122.19973205987445\" y=\"482.4144431428695\"/><desc class=\"value\">1</desc><desc class=\"x centered\">176.28421347442708</desc><desc class=\"y centered\">487.57898390385697</desc></g><g class=\"rect\"><rect class=\"rect reactive tooltip-trigger\" height=\"30.987244565924755\" width=\"108.16896282910527\" x=\"122.19973205987445\" y=\"451.42719857694476\"/><desc class=\"value\">3</desc><desc class=\"x centered\">176.28421347442708</desc><desc class=\"y centered\">466.92082085990717</desc></g><g class=\"rect\"><rect class=\"rect reactive tooltip-trigger\" height=\"123.94897826369908\" width=\"108.16896282910527\" x=\"122.19973205987445\" y=\"327.4782203132457\"/><desc class=\"value\">12</desc><desc class=\"x centered\">176.28421347442708</desc><desc class=\"y centered\">389.45270944509525</desc></g><g class=\"rect\"><rect class=\"rect reactive tooltip-trigger\" height=\"82.63265217579936\" width=\"40.56336106091447\" x=\"14.030769230769232\" y=\"244.84556813744632\"/><desc class=\"value\">3</desc><desc class=\"x centered\">34.31244976122647</desc><desc class=\"y centered\">286.16189422534603</desc></g><g class=\"rect\"><rect class=\"rect reactive tooltip-trigger\" height=\"82.63265217579936\" width=\"54.08448141455261\" x=\"54.5941302916837\" y=\"244.84556813744632\"/><desc class=\"value\">4</desc><desc class=\"x centered\">81.63637099896</desc><desc class=\"y centered\">286.16189422534603</desc></g><g class=\"rect\"><rect class=\"rect reactive tooltip-trigger\" height=\"82.63265217579936\" width=\"121.69008318274341\" x=\"108.67861170623631\" y=\"244.84556813744632\"/><desc class=\"value\">9</desc><desc class=\"x centered\">169.523653297608</desc><desc class=\"y centered\">286.16189422534603</desc></g></g></g><g class=\"series serie-1 color-1\"><g class=\"rects\"><g class=\"rect\"><rect class=\"rect reactive tooltip-trigger\" height=\"80.36486069241556\" width=\"55.61067489362287\" x=\"230.36869488897972\" y=\"443.3659085383537\"/><desc class=\"value\">4</desc><desc class=\"x centered\">258.17403233579114</desc><desc class=\"y centered\">483.54833888456153</desc></g><g class=\"rect\"><rect class=\"rect reactive tooltip-trigger\" height=\"80.36486069241556\" width=\"27.80533744681145\" x=\"285.9793697826026\" y=\"443.3659085383537\"/><desc class=\"value\">2</desc><desc class=\"x centered\">299.8820385060083</desc><desc class=\"y centered\">483.54833888456153</desc></g><g class=\"rect\"><rect class=\"rect reactive tooltip-trigger\" height=\"66.97071724367964\" width=\"83.41601234043432\" x=\"230.36869488897972\" y=\"376.3951912946741\"/><desc class=\"value\">5</desc><desc class=\"x centered\">272.07670105919686</desc><desc class=\"y centered\">409.8805499165139</desc></g><g class=\"rect\"><rect class=\"rect reactive tooltip-trigger\" height=\"147.3355779360952\" width=\"75.83273849130393\" x=\"313.78470722941404\" y=\"376.3951912946741\"/><desc class=\"value\">10</desc><desc class=\"x centered\">351.701076475066</desc><desc class=\"y centered\">450.0629802627217</desc></g><g class=\"rect\"><rect class=\"rect reactive tooltip-trigger\" height=\"63.1438191154694\" width=\"53.082916943912835\" x=\"389.61744572071797\" y=\"460.5869501152999\"/><desc class=\"value\">3</desc><desc class=\"x centered\">416.1589041926744</desc><desc class=\"y centered\">492.1588596730346</desc></g><g class=\"rect\"><rect class=\"rect reactive tooltip-trigger\" height=\"84.19175882062581\" width=\"53.082916943912835\" x=\"389.61744572071797\" y=\"376.3951912946741\"/><desc class=\"value\">4</desc><desc class=\"x centered\">416.1589041926744</desc><desc class=\"y centered\">418.491070704987</desc></g><g class=\"rect\"><rect class=\"rect reactive tooltip-trigger\" height=\"91.07281603192689\" width=\"24.536103831852955\" x=\"230.36869488897972\" y=\"285.3223752627472\"/><desc class=\"value\">2</desc><desc class=\"x centered\">242.63674680490618</desc><desc class=\"y centered\">330.85878327871063</desc></g><g class=\"rect\"><rect class=\"rect reactive tooltip-trigger\" height=\"91.07281603192689\" width=\"85.87636341148561\" x=\"254.90479872083267\" y=\"285.3223752627472\"/><desc class=\"value\">7</desc><desc class=\"x centered\">297.8429804265755</desc><desc class=\"y centered\">330.85878327871063</desc></g><g class=\"rect\"><rect class=\"rect reactive tooltip-trigger\" height=\"40.476807125300866\" width=\"110.41246724333857\" x=\"230.36869488897972\" y=\"244.84556813744632\"/><desc class=\"value\">4</desc><desc class=\"x centered\">285.574928510649</desc><desc class=\"y centered\">265.08397170009675</desc></g><g class=\"rect\"><rect class=\"rect reactive tooltip-trigger\" height=\"87.69974877148513\" width=\"101.91920053231252\" x=\"340.7811621323183\" y=\"288.69544252318894\"/><desc class=\"value\">8</desc><desc class=\"x centered\">391.74076239847454</desc><desc class=\"y centered\">332.5453169089315</desc></g><g class=\"rect\"><rect class=\"rect reactive tooltip-trigger\" height=\"43.84987438574262\" width=\"76.43940039923433\" x=\"340.7811621323183\" y=\"244.84556813744632\"/><desc class=\"value\">3</desc><desc class=\"x centered\">379.0008623319354</desc><desc class=\"y centered\">266.77050533031763</desc></g><g class=\"rect\"><rect class=\"rect reactive tooltip-trigger\" height=\"43.84987438574262\" width=\"25.479800133078186\" x=\"417.2205625315526\" y=\"244.84556813744632\"/><desc class=\"value\">1</desc><desc class=\"x centered\">429.9604625980917</desc><desc class=\"y centered\">266.77050533031763</desc></g></g></g><g class=\"series serie-2 color-2\"><g class=\"rects\"><g class=\"rect\"><rect class=\"rect reactive tooltip-trigger\" height=\"32.64049221264594\" width=\"102.69018260482282\" x=\"14.030769230769232\" y=\"212.20507592480038\"/><desc class=\"value\">3</desc><desc class=\"x centered\">65.37586053318064</desc><desc class=\"y centered\">228.52532203112335</desc></g><g class=\"rect\"><rect class=\"rect reactive tooltip-trigger\" height=\"87.04131256705585\" width=\"102.69018260482282\" x=\"14.030769230769232\" y=\"125.16376335774453\"/><desc class=\"value\">8</desc><desc class=\"x centered\">65.37586053318064</desc><desc class=\"y centered\">168.68441964127246</desc></g><g class=\"rect\"><rect class=\"rect reactive tooltip-trigger\" height=\"119.68180477970179\" width=\"28.006413437678944\" x=\"116.72095183559206\" y=\"125.16376335774453\"/><desc class=\"value\">3</desc><desc class=\"x centered\">130.72415855443154</desc><desc class=\"y centered\">185.00466574759542</desc></g><g class=\"rect\"><rect class=\"rect reactive tooltip-trigger\" height=\"87.04131256705585\" width=\"38.50881847680856\" x=\"144.727365273271\" y=\"157.80425557039047\"/><desc class=\"value\">3</desc><desc class=\"x centered\">163.98177451167527</desc><desc class=\"y centered\">201.3249118539184</desc></g><g class=\"rect\"><rect class=\"rect reactive tooltip-trigger\" height=\"87.04131256705585\" width=\"64.18136412801422\" x=\"183.23618375007956\" y=\"157.80425557039047\"/><desc class=\"value\">5</desc><desc class=\"x centered\">215.32686581408666</desc><desc class=\"y centered\">201.3249118539184</desc></g><g class=\"rect\"><rect class=\"rect reactive tooltip-trigger\" height=\"32.64049221264594\" width=\"102.69018260482278\" x=\"144.727365273271\" y=\"125.16376335774453\"/><desc class=\"value\">3</desc><desc class=\"x centered\">196.0724565756824</desc><desc class=\"y centered\">141.4840094640675</desc></g><g class=\"rect\"><rect class=\"rect reactive tooltip-trigger\" height=\"43.08544972069268\" width=\"77.79559288244153\" x=\"14.030769230769232\" y=\"82.07831363705185\"/><desc class=\"value\">3</desc><desc class=\"x centered\">52.92856567198999</desc><desc class=\"y centered\">103.62103849739819</desc></g><g class=\"rect\"><rect class=\"rect reactive tooltip-trigger\" height=\"71.80908286782102\" width=\"77.79559288244153\" x=\"14.030769230769232\" y=\"10.26923076923083\"/><desc class=\"value\">5</desc><desc class=\"x centered\">52.92856567198999</desc><desc class=\"y centered\">46.17377220314134</desc></g><g class=\"rect\"><rect class=\"rect reactive tooltip-trigger\" height=\"114.8945325885137\" width=\"38.89779644122078\" x=\"91.82636211321076\" y=\"10.26923076923083\"/><desc class=\"value\">4</desc><desc class=\"x centered\">111.27526033382115</desc><desc class=\"y centered\">67.71649706348768</desc></g><g class=\"rect\"><rect class=\"rect reactive tooltip-trigger\" height=\"114.8945325885137\" width=\"116.69338932366225\" x=\"130.72415855443154\" y=\"10.26923076923083\"/><desc class=\"value\">12</desc><desc class=\"x centered\">189.07085321626266</desc><desc class=\"y centered\">67.71649706348768</desc></g></g></g><g class=\"series serie-3 color-3\"><g class=\"rects\"><g class=\"rect\"><rect class=\"rect reactive tooltip-trigger\" height=\"131.59160388948675\" width=\"195.28281478653702\" x=\"247.41754787809379\" y=\"113.25396424795957\"/><desc class=\"value\">23</desc><desc class=\"x centered\">345.05895527136227</desc><desc class=\"y centered\">179.04976619270295</desc></g><g class=\"rect\"><rect class=\"rect reactive tooltip-trigger\" height=\"102.98473347872874\" width=\"195.28281478653702\" x=\"247.41754787809379\" y=\"10.26923076923083\"/><desc class=\"value\">18</desc><desc class=\"x centered\">345.05895527136227</desc><desc class=\"y centered\">61.7615975085952</desc></g></g></g><g class=\"series serie-4 color-4\"><g class=\"rects\"><g class=\"rect\"><rect class=\"rect reactive tooltip-trigger\" height=\"23.823066885267906\" width=\"46.89933670547805\" x=\"442.7003626646308\" y=\"499.9077023455014\"/><desc class=\"value\">1</desc><desc class=\"x centered\">466.1500310173698</desc><desc class=\"y centered\">511.8192357881353</desc></g><g class=\"rect\"><rect class=\"rect reactive tooltip-trigger\" height=\"47.64613377053564\" width=\"46.89933670547805\" x=\"442.7003626646308\" y=\"452.26156857496574\"/><desc class=\"value\">2</desc><desc class=\"x centered\">466.1500310173698</desc><desc class=\"y centered\">476.0846354602336</desc></g><g class=\"rect\"><rect class=\"rect reactive tooltip-trigger\" height=\"23.823066885267906\" width=\"46.89933670547816\" x=\"489.59969937010885\" y=\"499.9077023455014\"/><desc class=\"value\">1</desc><desc class=\"x centered\">513.0493677228479</desc><desc class=\"y centered\">511.8192357881353</desc></g><g class=\"rect\"><rect class=\"rect reactive tooltip-trigger\" height=\"47.64613377053564\" width=\"46.89933670547816\" x=\"489.59969937010885\" y=\"452.26156857496574\"/><desc class=\"value\">2</desc><desc class=\"x centered\">513.0493677228479</desc><desc class=\"y centered\">476.0846354602336</desc></g><g class=\"rect\"><rect class=\"rect reactive tooltip-trigger\" height=\"71.46920065580355\" width=\"46.89933670547828\" x=\"536.499036075587\" y=\"452.26156857496574\"/><desc class=\"value\">3</desc><desc class=\"x centered\">559.9487044283262</desc><desc class=\"y centered\">487.9961689028675</desc></g><g class=\"rect\"><rect class=\"rect reactive tooltip-trigger\" height=\"71.46920065580355\" width=\"46.89933670547805\" x=\"442.7003626646308\" y=\"380.7923679191622\"/><desc class=\"value\">3</desc><desc class=\"x centered\">466.1500310173698</desc><desc class=\"y centered\">416.52696824706396</desc></g><g class=\"rect\"><rect class=\"rect reactive tooltip-trigger\" height=\"23.82306688526785\" width=\"46.89933670547816\" x=\"489.59969937010885\" y=\"428.4385016896979\"/><desc class=\"value\">1</desc><desc class=\"x centered\">513.0493677228479</desc><desc class=\"y centered\">440.3500351323318</desc></g><g class=\"rect\"><rect class=\"rect reactive tooltip-trigger\" height=\"47.6461337705357\" width=\"46.89933670547816\" x=\"489.59969937010885\" y=\"380.7923679191622\"/><desc class=\"value\">2</desc><desc class=\"x centered\">513.0493677228479</desc><desc class=\"y centered\">404.61543480443004</desc></g><g class=\"rect\"><rect class=\"rect reactive tooltip-trigger\" height=\"71.46920065580355\" width=\"46.89933670547828\" x=\"536.499036075587\" y=\"380.7923679191622\"/><desc class=\"value\">3</desc><desc class=\"x centered\">559.9487044283262</desc><desc class=\"y centered\">416.52696824706396</desc></g><g class=\"rect\"><rect class=\"rect reactive tooltip-trigger\" height=\"59.55766721316962\" width=\"75.03893872876495\" x=\"442.7003626646308\" y=\"321.23470070599257\"/><desc class=\"value\">4</desc><desc class=\"x centered\">480.2198320290133</desc><desc class=\"y centered\">351.01353431257735</desc></g><g class=\"rect\"><rect class=\"rect reactive tooltip-trigger\" height=\"59.557667213169566\" width=\"56.27920404657368\" x=\"442.7003626646308\" y=\"261.677033492823\"/><desc class=\"value\">3</desc><desc class=\"x centered\">470.83996468791764</desc><desc class=\"y centered\">291.4558670994078</desc></g><g class=\"rect\"><rect class=\"rect reactive tooltip-trigger\" height=\"59.557667213169566\" width=\"18.759734682191265\" x=\"498.9795667112045\" y=\"261.677033492823\"/><desc class=\"value\">1</desc><desc class=\"x centered\">508.3594340523001</desc><desc class=\"y centered\">291.4558670994078</desc></g><g class=\"rect\"><rect class=\"rect reactive tooltip-trigger\" height=\"34.03295269323979\" width=\"65.65907138766954\" x=\"517.7393013933957\" y=\"346.7594152259224\"/><desc class=\"value\">2</desc><desc class=\"x centered\">550.5688370872306</desc><desc class=\"y centered\">363.77589157254226</desc></g><g class=\"rect\"><rect class=\"rect reactive tooltip-trigger\" height=\"34.03295269323979\" width=\"32.8295356938346\" x=\"517.7393013933957\" y=\"312.7264625326826\"/><desc class=\"value\">1</desc><desc class=\"x centered\">534.154069240313</desc><desc class=\"y centered\">329.7429388793025</desc></g><g class=\"rect\"><rect class=\"rect reactive tooltip-trigger\" height=\"34.03295269323979\" width=\"32.829535693834714\" x=\"550.5688370872303\" y=\"312.7264625326826\"/><desc class=\"value\">1</desc><desc class=\"x centered\">566.9836049341477</desc><desc class=\"y centered\">329.7429388793025</desc></g><g class=\"rect\"><rect class=\"rect reactive tooltip-trigger\" height=\"25.524714519929887\" width=\"43.772714258446285\" x=\"517.7393013933957\" y=\"287.2017480127528\"/><desc class=\"value\">1</desc><desc class=\"x centered\">539.6256585226189</desc><desc class=\"y centered\">299.9641052727177</desc></g><g class=\"rect\"><rect class=\"rect reactive tooltip-trigger\" height=\"25.524714519929773\" width=\"43.772714258446285\" x=\"517.7393013933957\" y=\"261.677033492823\"/><desc class=\"value\">1</desc><desc class=\"x centered\">539.6256585226189</desc><desc class=\"y centered\">274.43939075278786</desc></g><g class=\"rect\"><rect class=\"rect reactive tooltip-trigger\" height=\"51.04942903985966\" width=\"21.886357129223256\" x=\"561.512015651842\" y=\"261.677033492823\"/><desc class=\"value\">1</desc><desc class=\"x centered\">572.4551942164537</desc><desc class=\"y centered\">287.20174801275283</desc></g></g></g><g class=\"series serie-5 color-5\"><g class=\"rects\"><g class=\"rect\"><rect class=\"rect reactive tooltip-trigger\" height=\"262.0537357379463\" width=\"132.17085798816572\" x=\"583.3983727810651\" y=\"261.677033492823\"/><desc class=\"value\">31</desc><desc class=\"x centered\">649.4838017751479</desc><desc class=\"y centered\">392.70390136179617</desc></g></g></g><g class=\"series serie-6 color-6\"><g class=\"rects\"><g class=\"rect\"><rect class=\"rect reactive tooltip-trigger\" height=\"45.37023283980909\" width=\"123.12985467301417\" x=\"442.7003626646308\" y=\"216.3068006530139\"/><desc class=\"value\">5</desc><desc class=\"x centered\">504.2652900011379</desc><desc class=\"y centered\">238.99191707291845</desc></g><g class=\"rect\"><rect class=\"rect reactive tooltip-trigger\" height=\"84.38863308204492\" width=\"123.12985467301417\" x=\"442.7003626646308\" y=\"131.918167570969\"/><desc class=\"value\">9.3</desc><desc class=\"x centered\">504.2652900011379</desc><desc class=\"y centered\">174.11248411199145</desc></g><g class=\"rect\"><rect class=\"rect reactive tooltip-trigger\" height=\"129.758865921854\" width=\"69.74488271688222\" x=\"565.830217337645\" y=\"131.918167570969\"/><desc class=\"value\">8.1</desc><desc class=\"x centered\">600.702658696086</desc><desc class=\"y centered\">196.797600531896</desc></g><g class=\"rect\"><rect class=\"rect reactive tooltip-trigger\" height=\"121.64893680173816\" width=\"110.21413565136936\" x=\"442.7003626646308\" y=\"10.26923076923083\"/><desc class=\"value\">12</desc><desc class=\"x centered\">497.8074304903155</desc><desc class=\"y centered\">71.09369917009991</desc></g><g class=\"rect\"><rect class=\"rect reactive tooltip-trigger\" height=\"54.06619413410584\" width=\"82.66060173852702\" x=\"552.9144983160002\" y=\"77.85197343686315\"/><desc class=\"value\">4</desc><desc class=\"x centered\">594.2447991852637</desc><desc class=\"y centered\">104.88507050391607</desc></g><g class=\"rect\"><rect class=\"rect reactive tooltip-trigger\" height=\"40.549645600579424\" width=\"82.66060173852702\" x=\"552.9144983160002\" y=\"37.30232783628372\"/><desc class=\"value\">3</desc><desc class=\"x centered\">594.2447991852637</desc><desc class=\"y centered\">57.577150636573435</desc></g><g class=\"rect\"><rect class=\"rect reactive tooltip-trigger\" height=\"27.033097067052893\" width=\"82.66060173852702\" x=\"552.9144983160002\" y=\"10.26923076923083\"/><desc class=\"value\">2</desc><desc class=\"x centered\">594.2447991852637</desc><desc class=\"y centered\">23.785779302757277</desc></g></g></g><g class=\"series serie-7 color-7\"><g class=\"rects\"><g class=\"rect\"><rect class=\"rect reactive tooltip-trigger\" height=\"167.60520181572815\" width=\"79.9941307147036\" x=\"635.5751000545272\" y=\"94.07183167709485\"/><desc class=\"value\">12</desc><desc class=\"x centered\">675.572165411879</desc><desc class=\"y centered\">177.87443258495892</desc></g><g class=\"rect\"><rect class=\"rect reactive tooltip-trigger\" height=\"41.90130045393204\" width=\"79.9941307147036\" x=\"635.5751000545272\" y=\"52.17053122316281\"/><desc class=\"value\">3</desc><desc class=\"x centered\">675.572165411879</desc><desc class=\"y centered\">73.12118145012883</desc></g><g class=\"rect\"><rect class=\"rect reactive tooltip-trigger\" height=\"41.90130045393198\" width=\"79.9941307147036\" x=\"635.5751000545272\" y=\"10.26923076923083\"/><desc class=\"value\">3</desc><desc class=\"x centered\">675.572165411879</desc><desc class=\"y centered\">31.21988099619682</desc></g></g></g></g><g class=\"titles\"><text class=\"title plot_title\" x=\"400.0\" y=\"26\">Binary TreeMap</text></g><g class=\"plot overlay\" transform=\"translate(50, 46)\"><g class=\"series serie-0 color-0\"/><g class=\"series serie-1 color-1\"/><g class=\"series serie-2 color-2\"/><g class=\"series serie-3 color-3\"/><g class=\"series serie-4 color-4\"/><g class=\"series serie-5 color-5\"/><g class=\"series serie-6 color-6\"/><g class=\"series serie-7 color-7\"/></g><g class=\"plot text-overlay\" transform=\"translate(50, 46)\"><g class=\"series serie-0 color-0\"/><g class=\"series serie-1 color-1\"/><g class=\"series serie-2 color-2\"/><g class=\"series serie-3 color-3\"/><g class=\"series serie-4 color-4\"/><g class=\"series serie-5 color-5\"/><g class=\"series serie-6 color-6\"/><g class=\"series serie-7 color-7\"/></g><g class=\"plot tooltip-overlay\" transform=\"translate(50, 46)\"><g class=\"tooltip\" style=\"opacity: 0\" transform=\"translate(0 0)\"><rect class=\"tooltip-box\" height=\"0\" rx=\"0\" ry=\"0\" width=\"0\"/><g class=\"text\"/></g></g><g class=\"legends\" transform=\"translate(10, 56)\"><g class=\"legend reactive activate-serie\" id=\"activate-serie-0\"><rect class=\"color-0 reactive\" height=\"12\" width=\"12\" x=\"0.0\" y=\"1.0\"/><text x=\"17.0\" y=\"11.2\">A</text></g><g class=\"legend reactive activate-serie\" id=\"activate-serie-1\"><rect class=\"color-1 reactive\" height=\"12\" width=\"12\" x=\"0.0\" y=\"22.0\"/><text x=\"17.0\" y=\"32.2\">B</text></g><g class=\"legend reactive activate-serie\" id=\"activate-serie-2\"><rect class=\"color-2 reactive\" height=\"12\" width=\"12\" x=\"0.0\" y=\"43.0\"/><text x=\"17.0\" y=\"53.2\">C</text></g><g class=\"legend reactive activate-serie\" id=\"activate-serie-3\"><rect class=\"color-3 reactive\" height=\"12\" width=\"12\" x=\"0.0\" y=\"64.0\"/><text x=\"17.0\" y=\"74.2\">D</text></g><g class=\"legend reactive activate-serie\" id=\"activate-serie-4\"><rect class=\"color-4 reactive\" height=\"12\" width=\"12\" x=\"0.0\" y=\"85.0\"/><text x=\"17.0\" y=\"95.2\">E</text></g><g class=\"legend reactive activate-serie\" id=\"activate-serie-5\"><rect class=\"color-5 reactive\" height=\"12\" width=\"12\" x=\"0.0\" y=\"106.0\"/><text x=\"17.0\" y=\"116.2\">F</text></g><g class=\"legend reactive activate-serie\" id=\"activate-serie-6\"><rect class=\"color-6 reactive\" height=\"12\" width=\"12\" x=\"0.0\" y=\"127.0\"/><text x=\"17.0\" y=\"137.2\">G</text></g><g class=\"legend reactive activate-serie\" id=\"activate-serie-7\"><rect class=\"color-7 reactive\" height=\"12\" width=\"12\" x=\"0.0\" y=\"148.0\"/><text x=\"17.0\" y=\"158.2\">H</text></g></g><g class=\"legends\" transform=\"translate(790, 56)\"/></g></svg>"
          },
          "metadata": {
            "tags": []
          },
          "execution_count": 77
        }
      ]
    },
    {
      "cell_type": "code",
      "metadata": {
        "id": "bxvjIkE3QSnq",
        "outputId": "316bce78-ab83-4af1-bd46-03d6f09cfc8d",
        "colab": {
          "base_uri": "https://localhost:8080/",
          "height": 373
        }
      },
      "source": [
        "plt.figure(figsize=(12,6))\n",
        "squarify.plot(sizes=[25,50,75,100,125],\n",
        "              color=['red','blue','yellow','green','orange'],\n",
        "              label=['A\\n25','B\\n50','C\\n75','D\\n100','E\\n125'],\n",
        "              pad=True)\n",
        "\n",
        "plt.title('Treemap')\n",
        "plt.axis('off');\n",
        "# ; gets rid of extra text\n",
        "# some IDEs/text editors may require plt.show()"
      ],
      "execution_count": 89,
      "outputs": [
        {
          "output_type": "display_data",
          "data": {
            "image/png": "[encoded data removed]",
            "text/plain": [
              "<Figure size 864x432 with 1 Axes>"
            ]
          },
          "metadata": {
            "tags": [],
            "needs_background": "light"
          }
        }
      ]
    },
    {
      "cell_type": "code",
      "metadata": {
        "id": "cLnvYtb3KjAd"
      },
      "source": [
        "import squarify\n",
        "import matplotlib.pyplot as plt\n",
        "import numpy as np\n",
        "from vega_datasets import data as vds\n",
        "import pygal"
      ],
      "execution_count": 62,
      "outputs": []
    },
    {
      "cell_type": "code",
      "metadata": {
        "id": "NX2fNnG8LO2z"
      },
      "source": [
        "squarify.plot?"
      ],
      "execution_count": 63,
      "outputs": []
    },
    {
      "cell_type": "code",
      "metadata": {
        "id": "RxChLNQmLR7r",
        "outputId": "37167177-42fe-4d3f-d3ee-4923faf48bcf",
        "colab": {
          "base_uri": "https://localhost:8080/",
          "height": 373
        }
      },
      "source": [
        "plt.figure(figsize=(12,6))\n",
        "squarify.plot(sizes=[25,50,75,100,125],\n",
        "              color=['red','blue','yellow','green','orange'],\n",
        "              label=['A\\n25','B\\n50','C\\n75','D\\n100','E\\n125'],\n",
        "              pad=True)\n",
        "\n",
        "plt.title('Treemap')\n",
        "plt.axis('off');\n",
        "# ; gets rid of extra text\n",
        "# some IDEs/text editors may require plt.show()"
      ],
      "execution_count": 64,
      "outputs": [
        {
          "output_type": "display_data",
          "data": {
            "image/png": "[encoded data removed]",
            "text/plain": [
              "<Figure size 864x432 with 1 Axes>"
            ]
          },
          "metadata": {
            "tags": [],
            "needs_background": "light"
          }
        }
      ]
    },
    {
      "cell_type": "code",
      "metadata": {
        "id": "Z0cMVqjqLi91"
      },
      "source": [
        "import plotly.express as pxfig = px.treemap(df, \n",
        "                 path=['Platform', 'Genre'], \n",
        "                 values='Global_Sales',\n",
        "                 color='NA_Sales'\n",
        "                )fig.show()"
      ],
      "execution_count": null,
      "outputs": []
    },
    {
      "cell_type": "code",
      "metadata": {
        "id": "hBnH85Iu8R9P",
        "outputId": "4902e583-b175-44ab-e1e9-32a80693c480",
        "colab": {
          "base_uri": "https://localhost:8080/",
          "height": 236
        }
      },
      "source": [
        " import plotly.express as px\n",
        " fig = px.treemap(df, \n",
        "                 path=['Platform', 'Genre'], \n",
        "                 values='Global_Sales',\n",
        "                 color='NA_Sales'\n",
        "                )\n",
        " fig.show()"
      ],
      "execution_count": 68,
      "outputs": [
        {
          "output_type": "error",
          "ename": "TypeError",
          "evalue": "ignored",
          "traceback": [
            "\u001b[0;31m---------------------------------------------------------------------------\u001b[0m",
            "\u001b[0;31mTypeError\u001b[0m                                 Traceback (most recent call last)",
            "\u001b[0;32m<ipython-input-68-488da46d13e7>\u001b[0m in \u001b[0;36m<module>\u001b[0;34m()\u001b[0m\n\u001b[1;32m      3\u001b[0m                 \u001b[0mpath\u001b[0m\u001b[0;34m=\u001b[0m\u001b[0;34m[\u001b[0m\u001b[0;34m'Platform'\u001b[0m\u001b[0;34m,\u001b[0m \u001b[0;34m'Genre'\u001b[0m\u001b[0;34m]\u001b[0m\u001b[0;34m,\u001b[0m\u001b[0;34m\u001b[0m\u001b[0;34m\u001b[0m\u001b[0m\n\u001b[1;32m      4\u001b[0m                 \u001b[0mvalues\u001b[0m\u001b[0;34m=\u001b[0m\u001b[0;34m'Global_Sales'\u001b[0m\u001b[0;34m,\u001b[0m\u001b[0;34m\u001b[0m\u001b[0;34m\u001b[0m\u001b[0m\n\u001b[0;32m----> 5\u001b[0;31m                 \u001b[0mcolor\u001b[0m\u001b[0;34m=\u001b[0m\u001b[0;34m'NA_Sales'\u001b[0m\u001b[0;34m\u001b[0m\u001b[0;34m\u001b[0m\u001b[0m\n\u001b[0m\u001b[1;32m      6\u001b[0m                )\n\u001b[1;32m      7\u001b[0m \u001b[0mfig\u001b[0m\u001b[0;34m.\u001b[0m\u001b[0mshow\u001b[0m\u001b[0;34m(\u001b[0m\u001b[0;34m)\u001b[0m\u001b[0;34m\u001b[0m\u001b[0;34m\u001b[0m\u001b[0m\n",
            "\u001b[0;31mTypeError\u001b[0m: treemap() got an unexpected keyword argument 'path'"
          ]
        }
      ]
    },
    {
      "cell_type": "code",
      "metadata": {
        "id": "OETDYX2L5_ex"
      },
      "source": [
        "# If you have a data frame?\n",
        "\n",
        "df = pd.DataFrame({'nb_people':[8,3,4,2], 'group':[\"group A\", \"group B\", \"group C\", \"group D\"] })\n",
        "squarify.plot(sizes=df['nb_people'], label=df['group'], alpha=.8 )\n",
        "plt.axis('off')\n",
        "plt.show() "
      ],
      "execution_count": null,
      "outputs": []
    },
    {
      "cell_type": "code",
      "metadata": {
        "id": "lzWLuQBA6tLO"
      },
      "source": [
        "import plotly.express as px\n",
        "import pandas as pd\n",
        "from collections import defaultdict\n",
        "\n",
        "data = defaultdict()\n",
        "\n",
        "data['level_1'] = ['A', 'A', 'A', 'B', 'B', 'B']\n",
        "data['level_2'] = ['X', 'X', 'Y', 'Z', 'Z', 'X']\n",
        "data['level_3'] = ['1', '2', '2', '1', '1', '2']\n",
        "\n",
        "data =  pd.DataFrame.from_dict(data)\n",
        "fig = px.treemap(data, path=['level_1', 'level_2', 'level_3'])\n",
        "fig.show()\n"
      ],
      "execution_count": null,
      "outputs": []
    },
    {
      "cell_type": "code",
      "metadata": {
        "id": "3TjityVQmrnQ",
        "outputId": "21d9e0cf-f9fb-4888-b74e-0d5556b77292",
        "colab": {
          "base_uri": "https://localhost:8080/",
          "height": 225
        }
      },
      "source": [
        "entrenamiento.ASP.value_counts()"
      ],
      "execution_count": null,
      "outputs": [
        {
          "output_type": "execute_result",
          "data": {
            "text/plain": [
              "0.38000    801\n",
              "0.40000    712\n",
              "0.36000    564\n",
              "0.42000    510\n",
              "0.39000    465\n",
              "          ... \n",
              "0.34730      1\n",
              "0.27400      1\n",
              "0.25300      1\n",
              "0.45789      1\n",
              "0.24400      1\n",
              "Name: ASP, Length: 301, dtype: int64"
            ]
          },
          "metadata": {
            "tags": []
          },
          "execution_count": 9
        }
      ]
    },
    {
      "cell_type": "code",
      "metadata": {
        "id": "Kty5r_ilHvDv",
        "outputId": "c1c68012-1c50-453e-b920-a36cee2c39ae",
        "colab": {
          "base_uri": "https://localhost:8080/",
          "height": 121
        }
      },
      "source": [
        "entrenamiento.Stage.value_counts()"
      ],
      "execution_count": null,
      "outputs": [
        {
          "output_type": "execute_result",
          "data": {
            "text/plain": [
              "Closed Won       9533\n",
              "Closed Lost      7350\n",
              "Proposal           35\n",
              "Negotiation        18\n",
              "Qualification      11\n",
              "Name: Stage, dtype: int64"
            ]
          },
          "metadata": {
            "tags": []
          },
          "execution_count": 10
        }
      ]
    },
    {
      "cell_type": "code",
      "metadata": {
        "id": "UMu8PtPktLUB",
        "outputId": "21225391-96b3-4b0f-b29b-2a2d4cf6da2c",
        "colab": {
          "base_uri": "https://localhost:8080/",
          "height": 330
        }
      },
      "source": [
        "entrenamiento.columns"
      ],
      "execution_count": null,
      "outputs": [
        {
          "output_type": "execute_result",
          "data": {
            "text/plain": [
              "Index(['ID', 'Region', 'Territory', 'Pricing, Delivery_Terms_Quote_Appr',\n",
              "       'Pricing, Delivery_Terms_Approved', 'Bureaucratic_Code_0_Approval',\n",
              "       'Bureaucratic_Code_0_Approved', 'Submitted_for_Approval',\n",
              "       'Bureaucratic_Code', 'Account_Created_Date', 'Source ',\n",
              "       'Billing_Country', 'Account_Name', 'Opportunity_Name', 'Opportunity_ID',\n",
              "       'Sales_Contract_No', 'Account_Owner', 'Opportunity_Owner',\n",
              "       'Account_Type', 'Opportunity_Type', 'Quote_Type', 'Delivery_Terms',\n",
              "       'Opportunity_Created_Date', 'Brand', 'Product_Type', 'Size',\n",
              "       'Product_Category_B', 'Price', 'Currency', 'Last_Activity',\n",
              "       'Quote_Expiry_Date', 'Last_Modified_Date', 'Last_Modified_By',\n",
              "       'Product_Family', 'Product_Name', 'ASP_Currency', 'ASP',\n",
              "       'ASP_(converted)_Currency', 'ASP_(converted)',\n",
              "       'Planned_Delivery_Start_Date', 'Planned_Delivery_End_Date', 'Month',\n",
              "       'Delivery_Quarter', 'Delivery_Year', 'Actual_Delivery_Date', 'TRF',\n",
              "       'Total_Amount_Currency', 'Total_Amount',\n",
              "       'Total_Taxable_Amount_Currency', 'Total_Taxable_Amount', 'Stage',\n",
              "       'Prod_Category_A'],\n",
              "      dtype='object')"
            ]
          },
          "metadata": {
            "tags": []
          },
          "execution_count": 11
        }
      ]
    },
    {
      "cell_type": "code",
      "metadata": {
        "id": "z41I3m7-uDod",
        "outputId": "4b4630d3-174a-4fbe-d1cb-21c595e6bd41",
        "colab": {
          "base_uri": "https://localhost:8080/",
          "height": 1000
        }
      },
      "source": [
        "entrenamiento.info()"
      ],
      "execution_count": null,
      "outputs": [
        {
          "output_type": "stream",
          "text": [
            "<class 'pandas.core.frame.DataFrame'>\n",
            "RangeIndex: 16947 entries, 0 to 16946\n",
            "Data columns (total 52 columns):\n",
            " #   Column                              Non-Null Count  Dtype  \n",
            "---  ------                              --------------  -----  \n",
            " 0   ID                                  16947 non-null  int64  \n",
            " 1   Region                              16947 non-null  object \n",
            " 2   Territory                           16947 non-null  object \n",
            " 3   Pricing, Delivery_Terms_Quote_Appr  16947 non-null  int64  \n",
            " 4   Pricing, Delivery_Terms_Approved    16947 non-null  int64  \n",
            " 5   Bureaucratic_Code_0_Approval        16947 non-null  int64  \n",
            " 6   Bureaucratic_Code_0_Approved        16947 non-null  int64  \n",
            " 7   Submitted_for_Approval              16947 non-null  int64  \n",
            " 8   Bureaucratic_Code                   16947 non-null  object \n",
            " 9   Account_Created_Date                16947 non-null  object \n",
            " 10  Source                              16947 non-null  object \n",
            " 11  Billing_Country                     16947 non-null  object \n",
            " 12  Account_Name                        16947 non-null  object \n",
            " 13  Opportunity_Name                    16947 non-null  object \n",
            " 14  Opportunity_ID                      16947 non-null  int64  \n",
            " 15  Sales_Contract_No                   16947 non-null  object \n",
            " 16  Account_Owner                       16947 non-null  object \n",
            " 17  Opportunity_Owner                   16947 non-null  object \n",
            " 18  Account_Type                        16947 non-null  object \n",
            " 19  Opportunity_Type                    16947 non-null  object \n",
            " 20  Quote_Type                          16947 non-null  object \n",
            " 21  Delivery_Terms                      16947 non-null  object \n",
            " 22  Opportunity_Created_Date            16947 non-null  object \n",
            " 23  Brand                               16947 non-null  object \n",
            " 24  Product_Type                        16947 non-null  object \n",
            " 25  Size                                16947 non-null  object \n",
            " 26  Product_Category_B                  16947 non-null  object \n",
            " 27  Price                               16947 non-null  object \n",
            " 28  Currency                            16947 non-null  object \n",
            " 29  Last_Activity                       16947 non-null  object \n",
            " 30  Quote_Expiry_Date                   16947 non-null  object \n",
            " 31  Last_Modified_Date                  16947 non-null  object \n",
            " 32  Last_Modified_By                    16947 non-null  object \n",
            " 33  Product_Family                      16947 non-null  object \n",
            " 34  Product_Name                        16947 non-null  object \n",
            " 35  ASP_Currency                        16947 non-null  object \n",
            " 36  ASP                                 13738 non-null  float64\n",
            " 37  ASP_(converted)_Currency            16947 non-null  object \n",
            " 38  ASP_(converted)                     13738 non-null  float64\n",
            " 39  Planned_Delivery_Start_Date         16947 non-null  object \n",
            " 40  Planned_Delivery_End_Date           16947 non-null  object \n",
            " 41  Month                               16947 non-null  object \n",
            " 42  Delivery_Quarter                    16947 non-null  object \n",
            " 43  Delivery_Year                       16947 non-null  int64  \n",
            " 44  Actual_Delivery_Date                16947 non-null  object \n",
            " 45  TRF                                 16947 non-null  int64  \n",
            " 46  Total_Amount_Currency               16947 non-null  object \n",
            " 47  Total_Amount                        16888 non-null  float64\n",
            " 48  Total_Taxable_Amount_Currency       16947 non-null  object \n",
            " 49  Total_Taxable_Amount                16947 non-null  float64\n",
            " 50  Stage                               16947 non-null  object \n",
            " 51  Prod_Category_A                     16947 non-null  object \n",
            "dtypes: float64(4), int64(9), object(39)\n",
            "memory usage: 6.7+ MB\n"
          ],
          "name": "stdout"
        }
      ]
    },
    {
      "cell_type": "code",
      "metadata": {
        "id": "6KTHwmzpyO2A",
        "outputId": "a9b86c9d-9568-412a-e92a-b3a29631a77f",
        "colab": {
          "base_uri": "https://localhost:8080/",
          "height": 424
        }
      },
      "source": [
        "entrenamiento[['Total_Amount_Currency','Total_Taxable_Amount_Currency']]"
      ],
      "execution_count": 120,
      "outputs": [
        {
          "output_type": "execute_result",
          "data": {
            "text/html": [
              "<div>\n",
              "<style scoped>\n",
              "    .dataframe tbody tr th:only-of-type {\n",
              "        vertical-align: middle;\n",
              "    }\n",
              "\n",
              "    .dataframe tbody tr th {\n",
              "        vertical-align: top;\n",
              "    }\n",
              "\n",
              "    .dataframe thead th {\n",
              "        text-align: right;\n",
              "    }\n",
              "</style>\n",
              "<table border=\"1\" class=\"dataframe\">\n",
              "  <thead>\n",
              "    <tr style=\"text-align: right;\">\n",
              "      <th></th>\n",
              "      <th>Total_Amount_Currency</th>\n",
              "      <th>Total_Taxable_Amount_Currency</th>\n",
              "    </tr>\n",
              "  </thead>\n",
              "  <tbody>\n",
              "    <tr>\n",
              "      <th>0</th>\n",
              "      <td>EUR</td>\n",
              "      <td>EUR</td>\n",
              "    </tr>\n",
              "    <tr>\n",
              "      <th>1</th>\n",
              "      <td>EUR</td>\n",
              "      <td>EUR</td>\n",
              "    </tr>\n",
              "    <tr>\n",
              "      <th>2</th>\n",
              "      <td>USD</td>\n",
              "      <td>USD</td>\n",
              "    </tr>\n",
              "    <tr>\n",
              "      <th>3</th>\n",
              "      <td>USD</td>\n",
              "      <td>USD</td>\n",
              "    </tr>\n",
              "    <tr>\n",
              "      <th>4</th>\n",
              "      <td>USD</td>\n",
              "      <td>USD</td>\n",
              "    </tr>\n",
              "    <tr>\n",
              "      <th>...</th>\n",
              "      <td>...</td>\n",
              "      <td>...</td>\n",
              "    </tr>\n",
              "    <tr>\n",
              "      <th>16942</th>\n",
              "      <td>EUR</td>\n",
              "      <td>EUR</td>\n",
              "    </tr>\n",
              "    <tr>\n",
              "      <th>16943</th>\n",
              "      <td>EUR</td>\n",
              "      <td>EUR</td>\n",
              "    </tr>\n",
              "    <tr>\n",
              "      <th>16944</th>\n",
              "      <td>EUR</td>\n",
              "      <td>EUR</td>\n",
              "    </tr>\n",
              "    <tr>\n",
              "      <th>16945</th>\n",
              "      <td>USD</td>\n",
              "      <td>USD</td>\n",
              "    </tr>\n",
              "    <tr>\n",
              "      <th>16946</th>\n",
              "      <td>USD</td>\n",
              "      <td>USD</td>\n",
              "    </tr>\n",
              "  </tbody>\n",
              "</table>\n",
              "<p>16947 rows × 2 columns</p>\n",
              "</div>"
            ],
            "text/plain": [
              "      Total_Amount_Currency Total_Taxable_Amount_Currency\n",
              "0                       EUR                           EUR\n",
              "1                       EUR                           EUR\n",
              "2                       USD                           USD\n",
              "3                       USD                           USD\n",
              "4                       USD                           USD\n",
              "...                     ...                           ...\n",
              "16942                   EUR                           EUR\n",
              "16943                   EUR                           EUR\n",
              "16944                   EUR                           EUR\n",
              "16945                   USD                           USD\n",
              "16946                   USD                           USD\n",
              "\n",
              "[16947 rows x 2 columns]"
            ]
          },
          "metadata": {
            "tags": []
          },
          "execution_count": 120
        }
      ]
    },
    {
      "cell_type": "code",
      "metadata": {
        "id": "byUoXvNG1YnC",
        "outputId": "08e9d3b5-72f7-462d-c59c-f5fbbc5f4ba4",
        "colab": {
          "base_uri": "https://localhost:8080/",
          "height": 424
        }
      },
      "source": [
        "entrenamiento[['Stage','Month']]"
      ],
      "execution_count": 123,
      "outputs": [
        {
          "output_type": "execute_result",
          "data": {
            "text/html": [
              "<div>\n",
              "<style scoped>\n",
              "    .dataframe tbody tr th:only-of-type {\n",
              "        vertical-align: middle;\n",
              "    }\n",
              "\n",
              "    .dataframe tbody tr th {\n",
              "        vertical-align: top;\n",
              "    }\n",
              "\n",
              "    .dataframe thead th {\n",
              "        text-align: right;\n",
              "    }\n",
              "</style>\n",
              "<table border=\"1\" class=\"dataframe\">\n",
              "  <thead>\n",
              "    <tr style=\"text-align: right;\">\n",
              "      <th></th>\n",
              "      <th>Stage</th>\n",
              "      <th>Month</th>\n",
              "    </tr>\n",
              "  </thead>\n",
              "  <tbody>\n",
              "    <tr>\n",
              "      <th>0</th>\n",
              "      <td>Closed Lost</td>\n",
              "      <td>2016 - 5</td>\n",
              "    </tr>\n",
              "    <tr>\n",
              "      <th>1</th>\n",
              "      <td>Closed Won</td>\n",
              "      <td>2016 - 1</td>\n",
              "    </tr>\n",
              "    <tr>\n",
              "      <th>2</th>\n",
              "      <td>Closed Won</td>\n",
              "      <td>2016 - 1</td>\n",
              "    </tr>\n",
              "    <tr>\n",
              "      <th>3</th>\n",
              "      <td>Closed Lost</td>\n",
              "      <td>2018 - 2</td>\n",
              "    </tr>\n",
              "    <tr>\n",
              "      <th>4</th>\n",
              "      <td>Closed Lost</td>\n",
              "      <td>2018 - 2</td>\n",
              "    </tr>\n",
              "    <tr>\n",
              "      <th>...</th>\n",
              "      <td>...</td>\n",
              "      <td>...</td>\n",
              "    </tr>\n",
              "    <tr>\n",
              "      <th>16942</th>\n",
              "      <td>Closed Won</td>\n",
              "      <td>2016 - 3</td>\n",
              "    </tr>\n",
              "    <tr>\n",
              "      <th>16943</th>\n",
              "      <td>Closed Won</td>\n",
              "      <td>2016 - 4</td>\n",
              "    </tr>\n",
              "    <tr>\n",
              "      <th>16944</th>\n",
              "      <td>Closed Won</td>\n",
              "      <td>2016 - 3</td>\n",
              "    </tr>\n",
              "    <tr>\n",
              "      <th>16945</th>\n",
              "      <td>Closed Lost</td>\n",
              "      <td>2016 - 4</td>\n",
              "    </tr>\n",
              "    <tr>\n",
              "      <th>16946</th>\n",
              "      <td>Closed Lost</td>\n",
              "      <td>2016 - 7</td>\n",
              "    </tr>\n",
              "  </tbody>\n",
              "</table>\n",
              "<p>16947 rows × 2 columns</p>\n",
              "</div>"
            ],
            "text/plain": [
              "             Stage     Month\n",
              "0      Closed Lost  2016 - 5\n",
              "1       Closed Won  2016 - 1\n",
              "2       Closed Won  2016 - 1\n",
              "3      Closed Lost  2018 - 2\n",
              "4      Closed Lost  2018 - 2\n",
              "...            ...       ...\n",
              "16942   Closed Won  2016 - 3\n",
              "16943   Closed Won  2016 - 4\n",
              "16944   Closed Won  2016 - 3\n",
              "16945  Closed Lost  2016 - 4\n",
              "16946  Closed Lost  2016 - 7\n",
              "\n",
              "[16947 rows x 2 columns]"
            ]
          },
          "metadata": {
            "tags": []
          },
          "execution_count": 123
        }
      ]
    },
    {
      "cell_type": "code",
      "metadata": {
        "id": "TZOk6dxC3nQT"
      },
      "source": [
        "data.plot(x='year', y='ct', ax=ax, label=key)"
      ],
      "execution_count": null,
      "outputs": []
    },
    {
      "cell_type": "code",
      "metadata": {
        "id": "Os9yBzrc2oFP",
        "outputId": "04d5e80c-f494-45c7-c3f5-45e78e516403",
        "colab": {
          "base_uri": "https://localhost:8080/"
        }
      },
      "source": [
        "df.groupby(['mes','Stage']).agg(cantidad_muestra=())"
      ],
      "execution_count": 131,
      "outputs": [
        {
          "output_type": "execute_result",
          "data": {
            "text/plain": [
              "10    1676\n",
              "3     1630\n",
              "6     1563\n",
              "7     1492\n",
              "4     1484\n",
              "5     1396\n",
              "2     1388\n",
              "1     1299\n",
              "11    1291\n",
              "9     1280\n",
              "8     1271\n",
              "12    1177\n",
              "Name: mes, dtype: int64"
            ]
          },
          "metadata": {
            "tags": []
          },
          "execution_count": 131
        }
      ]
    },
    {
      "cell_type": "code",
      "metadata": {
        "id": "5nLQCfUZzmdo",
        "outputId": "ac4fa4a6-9b5b-49f2-9a97-873ccb6e655a",
        "colab": {
          "base_uri": "https://localhost:8080/",
          "height": 599
        }
      },
      "source": [
        "from matplotlib import pyplot as plt\n",
        "fig, ax = plt.subplots()\n",
        "\n",
        "# key gives the group name (i.e. category), data gives the actual values\n",
        "for key, data in entrenamiento.groupby('Stage'):\n",
        "    data.plot(x='Stage', y='Month', ax=ax, label=key)"
      ],
      "execution_count": 124,
      "outputs": [
        {
          "output_type": "error",
          "ename": "TypeError",
          "evalue": "ignored",
          "traceback": [
            "\u001b[0;31m---------------------------------------------------------------------------\u001b[0m",
            "\u001b[0;31mTypeError\u001b[0m                                 Traceback (most recent call last)",
            "\u001b[0;32m<ipython-input-124-9b28c52235e6>\u001b[0m in \u001b[0;36m<module>\u001b[0;34m()\u001b[0m\n\u001b[1;32m      4\u001b[0m \u001b[0;31m# key gives the group name (i.e. category), data gives the actual values\u001b[0m\u001b[0;34m\u001b[0m\u001b[0;34m\u001b[0m\u001b[0;34m\u001b[0m\u001b[0m\n\u001b[1;32m      5\u001b[0m \u001b[0;32mfor\u001b[0m \u001b[0mkey\u001b[0m\u001b[0;34m,\u001b[0m \u001b[0mdata\u001b[0m \u001b[0;32min\u001b[0m \u001b[0mentrenamiento\u001b[0m\u001b[0;34m.\u001b[0m\u001b[0mgroupby\u001b[0m\u001b[0;34m(\u001b[0m\u001b[0;34m'Stage'\u001b[0m\u001b[0;34m)\u001b[0m\u001b[0;34m:\u001b[0m\u001b[0;34m\u001b[0m\u001b[0;34m\u001b[0m\u001b[0m\n\u001b[0;32m----> 6\u001b[0;31m     \u001b[0mdata\u001b[0m\u001b[0;34m.\u001b[0m\u001b[0mplot\u001b[0m\u001b[0;34m(\u001b[0m\u001b[0mx\u001b[0m\u001b[0;34m=\u001b[0m\u001b[0;34m'Stage'\u001b[0m\u001b[0;34m,\u001b[0m \u001b[0my\u001b[0m\u001b[0;34m=\u001b[0m\u001b[0;34m'Month'\u001b[0m\u001b[0;34m,\u001b[0m \u001b[0max\u001b[0m\u001b[0;34m=\u001b[0m\u001b[0max\u001b[0m\u001b[0;34m,\u001b[0m \u001b[0mlabel\u001b[0m\u001b[0;34m=\u001b[0m\u001b[0mkey\u001b[0m\u001b[0;34m)\u001b[0m\u001b[0;34m\u001b[0m\u001b[0;34m\u001b[0m\u001b[0m\n\u001b[0m",
            "\u001b[0;32m/usr/local/lib/python3.6/dist-packages/pandas/plotting/_core.py\u001b[0m in \u001b[0;36m__call__\u001b[0;34m(self, *args, **kwargs)\u001b[0m\n\u001b[1;32m    947\u001b[0m                     \u001b[0mdata\u001b[0m\u001b[0;34m.\u001b[0m\u001b[0mcolumns\u001b[0m \u001b[0;34m=\u001b[0m \u001b[0mlabel_name\u001b[0m\u001b[0;34m\u001b[0m\u001b[0;34m\u001b[0m\u001b[0m\n\u001b[1;32m    948\u001b[0m \u001b[0;34m\u001b[0m\u001b[0m\n\u001b[0;32m--> 949\u001b[0;31m         \u001b[0;32mreturn\u001b[0m \u001b[0mplot_backend\u001b[0m\u001b[0;34m.\u001b[0m\u001b[0mplot\u001b[0m\u001b[0;34m(\u001b[0m\u001b[0mdata\u001b[0m\u001b[0;34m,\u001b[0m \u001b[0mkind\u001b[0m\u001b[0;34m=\u001b[0m\u001b[0mkind\u001b[0m\u001b[0;34m,\u001b[0m \u001b[0;34m**\u001b[0m\u001b[0mkwargs\u001b[0m\u001b[0;34m)\u001b[0m\u001b[0;34m\u001b[0m\u001b[0;34m\u001b[0m\u001b[0m\n\u001b[0m\u001b[1;32m    950\u001b[0m \u001b[0;34m\u001b[0m\u001b[0m\n\u001b[1;32m    951\u001b[0m     \u001b[0m__call__\u001b[0m\u001b[0;34m.\u001b[0m\u001b[0m__doc__\u001b[0m \u001b[0;34m=\u001b[0m \u001b[0m__doc__\u001b[0m\u001b[0;34m\u001b[0m\u001b[0;34m\u001b[0m\u001b[0m\n",
            "\u001b[0;32m/usr/local/lib/python3.6/dist-packages/pandas/plotting/_matplotlib/__init__.py\u001b[0m in \u001b[0;36mplot\u001b[0;34m(data, kind, **kwargs)\u001b[0m\n\u001b[1;32m     59\u001b[0m             \u001b[0mkwargs\u001b[0m\u001b[0;34m[\u001b[0m\u001b[0;34m\"ax\"\u001b[0m\u001b[0;34m]\u001b[0m \u001b[0;34m=\u001b[0m \u001b[0mgetattr\u001b[0m\u001b[0;34m(\u001b[0m\u001b[0max\u001b[0m\u001b[0;34m,\u001b[0m \u001b[0;34m\"left_ax\"\u001b[0m\u001b[0;34m,\u001b[0m \u001b[0max\u001b[0m\u001b[0;34m)\u001b[0m\u001b[0;34m\u001b[0m\u001b[0;34m\u001b[0m\u001b[0m\n\u001b[1;32m     60\u001b[0m     \u001b[0mplot_obj\u001b[0m \u001b[0;34m=\u001b[0m \u001b[0mPLOT_CLASSES\u001b[0m\u001b[0;34m[\u001b[0m\u001b[0mkind\u001b[0m\u001b[0;34m]\u001b[0m\u001b[0;34m(\u001b[0m\u001b[0mdata\u001b[0m\u001b[0;34m,\u001b[0m \u001b[0;34m**\u001b[0m\u001b[0mkwargs\u001b[0m\u001b[0;34m)\u001b[0m\u001b[0;34m\u001b[0m\u001b[0;34m\u001b[0m\u001b[0m\n\u001b[0;32m---> 61\u001b[0;31m     \u001b[0mplot_obj\u001b[0m\u001b[0;34m.\u001b[0m\u001b[0mgenerate\u001b[0m\u001b[0;34m(\u001b[0m\u001b[0;34m)\u001b[0m\u001b[0;34m\u001b[0m\u001b[0;34m\u001b[0m\u001b[0m\n\u001b[0m\u001b[1;32m     62\u001b[0m     \u001b[0mplot_obj\u001b[0m\u001b[0;34m.\u001b[0m\u001b[0mdraw\u001b[0m\u001b[0;34m(\u001b[0m\u001b[0;34m)\u001b[0m\u001b[0;34m\u001b[0m\u001b[0;34m\u001b[0m\u001b[0m\n\u001b[1;32m     63\u001b[0m     \u001b[0;32mreturn\u001b[0m \u001b[0mplot_obj\u001b[0m\u001b[0;34m.\u001b[0m\u001b[0mresult\u001b[0m\u001b[0;34m\u001b[0m\u001b[0;34m\u001b[0m\u001b[0m\n",
            "\u001b[0;32m/usr/local/lib/python3.6/dist-packages/pandas/plotting/_matplotlib/core.py\u001b[0m in \u001b[0;36mgenerate\u001b[0;34m(self)\u001b[0m\n\u001b[1;32m    267\u001b[0m     \u001b[0;32mdef\u001b[0m \u001b[0mgenerate\u001b[0m\u001b[0;34m(\u001b[0m\u001b[0mself\u001b[0m\u001b[0;34m)\u001b[0m\u001b[0;34m:\u001b[0m\u001b[0;34m\u001b[0m\u001b[0;34m\u001b[0m\u001b[0m\n\u001b[1;32m    268\u001b[0m         \u001b[0mself\u001b[0m\u001b[0;34m.\u001b[0m\u001b[0m_args_adjust\u001b[0m\u001b[0;34m(\u001b[0m\u001b[0;34m)\u001b[0m\u001b[0;34m\u001b[0m\u001b[0;34m\u001b[0m\u001b[0m\n\u001b[0;32m--> 269\u001b[0;31m         \u001b[0mself\u001b[0m\u001b[0;34m.\u001b[0m\u001b[0m_compute_plot_data\u001b[0m\u001b[0;34m(\u001b[0m\u001b[0;34m)\u001b[0m\u001b[0;34m\u001b[0m\u001b[0;34m\u001b[0m\u001b[0m\n\u001b[0m\u001b[1;32m    270\u001b[0m         \u001b[0mself\u001b[0m\u001b[0;34m.\u001b[0m\u001b[0m_setup_subplots\u001b[0m\u001b[0;34m(\u001b[0m\u001b[0;34m)\u001b[0m\u001b[0;34m\u001b[0m\u001b[0;34m\u001b[0m\u001b[0m\n\u001b[1;32m    271\u001b[0m         \u001b[0mself\u001b[0m\u001b[0;34m.\u001b[0m\u001b[0m_make_plot\u001b[0m\u001b[0;34m(\u001b[0m\u001b[0;34m)\u001b[0m\u001b[0;34m\u001b[0m\u001b[0;34m\u001b[0m\u001b[0m\n",
            "\u001b[0;32m/usr/local/lib/python3.6/dist-packages/pandas/plotting/_matplotlib/core.py\u001b[0m in \u001b[0;36m_compute_plot_data\u001b[0;34m(self)\u001b[0m\n\u001b[1;32m    416\u001b[0m         \u001b[0;31m# no non-numeric frames or series allowed\u001b[0m\u001b[0;34m\u001b[0m\u001b[0;34m\u001b[0m\u001b[0;34m\u001b[0m\u001b[0m\n\u001b[1;32m    417\u001b[0m         \u001b[0;32mif\u001b[0m \u001b[0mis_empty\u001b[0m\u001b[0;34m:\u001b[0m\u001b[0;34m\u001b[0m\u001b[0;34m\u001b[0m\u001b[0m\n\u001b[0;32m--> 418\u001b[0;31m             \u001b[0;32mraise\u001b[0m \u001b[0mTypeError\u001b[0m\u001b[0;34m(\u001b[0m\u001b[0;34m\"no numeric data to plot\"\u001b[0m\u001b[0;34m)\u001b[0m\u001b[0;34m\u001b[0m\u001b[0;34m\u001b[0m\u001b[0m\n\u001b[0m\u001b[1;32m    419\u001b[0m \u001b[0;34m\u001b[0m\u001b[0m\n\u001b[1;32m    420\u001b[0m         \u001b[0;31m# GH25587: cast ExtensionArray of pandas (IntegerArray, etc.) to\u001b[0m\u001b[0;34m\u001b[0m\u001b[0;34m\u001b[0m\u001b[0;34m\u001b[0m\u001b[0m\n",
            "\u001b[0;31mTypeError\u001b[0m: no numeric data to plot"
          ]
        },
        {
          "output_type": "display_data",
          "data": {
            "image/png": "[encoded data removed]",
            "text/plain": [
              "<Figure size 432x288 with 1 Axes>"
            ]
          },
          "metadata": {
            "tags": [],
            "needs_background": "light"
          }
        }
      ]
    },
    {
      "cell_type": "code",
      "metadata": {
        "id": "vb-TZ4Gm1XwU"
      },
      "source": [
        ""
      ],
      "execution_count": null,
      "outputs": []
    },
    {
      "cell_type": "code",
      "metadata": {
        "id": "VplMv27ipUwq",
        "outputId": "57108921-20ab-424d-dba5-97ef2621d5eb",
        "colab": {
          "base_uri": "https://localhost:8080/",
          "height": 225
        }
      },
      "source": [
        "entrenamiento['Total_Amount'].value_counts()"
      ],
      "execution_count": null,
      "outputs": [
        {
          "output_type": "execute_result",
          "data": {
            "text/plain": [
              "6200.0        513\n",
              "4400.0        461\n",
              "18000.0       353\n",
              "140000.0      272\n",
              "1600.0        204\n",
              "             ... \n",
              "193600.0        1\n",
              "4972.8          1\n",
              "8001840.0       1\n",
              "12333750.0      1\n",
              "11960.0         1\n",
              "Name: Total_Amount, Length: 8872, dtype: int64"
            ]
          },
          "metadata": {
            "tags": []
          },
          "execution_count": 13
        }
      ]
    },
    {
      "cell_type": "code",
      "metadata": {
        "id": "TRbUinKtrxKe"
      },
      "source": [
        ""
      ],
      "execution_count": null,
      "outputs": []
    },
    {
      "cell_type": "code",
      "metadata": {
        "id": "oaqollPTrJhv",
        "outputId": "7337f739-949f-48c1-d9ad-75a6277c62d4",
        "colab": {
          "base_uri": "https://localhost:8080/",
          "height": 660
        }
      },
      "source": [
        "fig, ax = plt.subplots(figsize=(12,11))\n",
        "ax = pt.RainCloud(data = entrenamiento, x = 'Stage', y = 'ASP', \n",
        "                  orient='h',\n",
        "                 bw=.8, ax=ax\n",
        "                 )\n",
        "sns.despine()\n"
      ],
      "execution_count": null,
      "outputs": [
        {
          "output_type": "display_data",
          "data": {
            "image/png": "[encoded data removed]",
            "text/plain": [
              "<Figure size 864x792 with 1 Axes>"
            ]
          },
          "metadata": {
            "tags": [],
            "needs_background": "light"
          }
        }
      ]
    },
    {
      "cell_type": "code",
      "metadata": {
        "id": "1ZWCOob7wUvu",
        "outputId": "dab8d109-474f-4e34-d6de-093172e19c51",
        "colab": {
          "base_uri": "https://localhost:8080/",
          "height": 225
        }
      },
      "source": [
        "entrenamiento.groupby(['Billing_Country'])['Billing_Country'].transform('count')"
      ],
      "execution_count": null,
      "outputs": [
        {
          "output_type": "execute_result",
          "data": {
            "text/plain": [
              "0         563\n",
              "1         563\n",
              "2        3802\n",
              "3        3802\n",
              "4        3802\n",
              "         ... \n",
              "16942     145\n",
              "16943     145\n",
              "16944     145\n",
              "16945    3802\n",
              "16946    3802\n",
              "Name: Billing_Country, Length: 16947, dtype: int64"
            ]
          },
          "metadata": {
            "tags": []
          },
          "execution_count": 26
        }
      ]
    },
    {
      "cell_type": "code",
      "metadata": {
        "id": "vjmezB8cw4cw",
        "outputId": "119e99ad-eb83-4b3d-da27-ef930ab5bc0d",
        "colab": {
          "base_uri": "https://localhost:8080/",
          "height": 225
        }
      },
      "source": [
        "entrenamiento['Billing_Country'].value_counts()"
      ],
      "execution_count": null,
      "outputs": [
        {
          "output_type": "execute_result",
          "data": {
            "text/plain": [
              "Japan                     4879\n",
              "United States             3802\n",
              "Germany                   1979\n",
              "Australia                 1169\n",
              "India                      672\n",
              "                          ... \n",
              "Dominican Republic           1\n",
              "Ecuador                      1\n",
              "Bosnia and Herzegovina       1\n",
              "Libya                        1\n",
              "Peru                         1\n",
              "Name: Billing_Country, Length: 80, dtype: int64"
            ]
          },
          "metadata": {
            "tags": []
          },
          "execution_count": 31
        }
      ]
    },
    {
      "cell_type": "code",
      "metadata": {
        "id": "bUXPJCU-xRGP",
        "outputId": "448f2b37-7afb-4c0d-97e7-6737238bc28d",
        "colab": {
          "base_uri": "https://localhost:8080/",
          "height": 104
        }
      },
      "source": [
        "entrenamiento['Billing_Country'].describe()\n"
      ],
      "execution_count": null,
      "outputs": [
        {
          "output_type": "execute_result",
          "data": {
            "text/plain": [
              "count     16947\n",
              "unique       80\n",
              "top       Japan\n",
              "freq       4879\n",
              "Name: Billing_Country, dtype: object"
            ]
          },
          "metadata": {
            "tags": []
          },
          "execution_count": 32
        }
      ]
    },
    {
      "cell_type": "code",
      "metadata": {
        "id": "JO9WIKjeuU_0"
      },
      "source": [
        "billing_country_stage=entrenamiento.groupby(['Billing_Country','Stage']).agg(cantidad=('Stage','count')).unstack(level='Stage')"
      ],
      "execution_count": null,
      "outputs": []
    },
    {
      "cell_type": "code",
      "metadata": {
        "id": "_vjcqmGhzaFS"
      },
      "source": [
        "billing_country_stage.columns=['Closed Lost'   ,'Closed Won',  'Negotiation',     'Proposal','Qualification']"
      ],
      "execution_count": null,
      "outputs": []
    },
    {
      "cell_type": "code",
      "metadata": {
        "id": "wgiSyi3dxCQY",
        "outputId": "bd9b2e03-bea7-4c7f-b44a-c64f53e59738",
        "colab": {
          "base_uri": "https://localhost:8080/",
          "height": 456
        }
      },
      "source": [
        "billing_country_stage"
      ],
      "execution_count": null,
      "outputs": [
        {
          "output_type": "execute_result",
          "data": {
            "text/html": [
              "<div>\n",
              "<style scoped>\n",
              "    .dataframe tbody tr th:only-of-type {\n",
              "        vertical-align: middle;\n",
              "    }\n",
              "\n",
              "    .dataframe tbody tr th {\n",
              "        vertical-align: top;\n",
              "    }\n",
              "\n",
              "    .dataframe thead th {\n",
              "        text-align: right;\n",
              "    }\n",
              "</style>\n",
              "<table border=\"1\" class=\"dataframe\">\n",
              "  <thead>\n",
              "    <tr style=\"text-align: right;\">\n",
              "      <th></th>\n",
              "      <th>Closed Lost</th>\n",
              "      <th>Closed Won</th>\n",
              "      <th>Negotiation</th>\n",
              "      <th>Proposal</th>\n",
              "      <th>Qualification</th>\n",
              "    </tr>\n",
              "    <tr>\n",
              "      <th>Billing_Country</th>\n",
              "      <th></th>\n",
              "      <th></th>\n",
              "      <th></th>\n",
              "      <th></th>\n",
              "      <th></th>\n",
              "    </tr>\n",
              "  </thead>\n",
              "  <tbody>\n",
              "    <tr>\n",
              "      <th>Albania</th>\n",
              "      <td>2.0</td>\n",
              "      <td>NaN</td>\n",
              "      <td>NaN</td>\n",
              "      <td>NaN</td>\n",
              "      <td>NaN</td>\n",
              "    </tr>\n",
              "    <tr>\n",
              "      <th>Argentina</th>\n",
              "      <td>1.0</td>\n",
              "      <td>NaN</td>\n",
              "      <td>NaN</td>\n",
              "      <td>NaN</td>\n",
              "      <td>NaN</td>\n",
              "    </tr>\n",
              "    <tr>\n",
              "      <th>Armenia</th>\n",
              "      <td>2.0</td>\n",
              "      <td>NaN</td>\n",
              "      <td>NaN</td>\n",
              "      <td>NaN</td>\n",
              "      <td>NaN</td>\n",
              "    </tr>\n",
              "    <tr>\n",
              "      <th>Australia</th>\n",
              "      <td>470.0</td>\n",
              "      <td>695.0</td>\n",
              "      <td>NaN</td>\n",
              "      <td>4.0</td>\n",
              "      <td>NaN</td>\n",
              "    </tr>\n",
              "    <tr>\n",
              "      <th>Austria</th>\n",
              "      <td>23.0</td>\n",
              "      <td>122.0</td>\n",
              "      <td>NaN</td>\n",
              "      <td>NaN</td>\n",
              "      <td>NaN</td>\n",
              "    </tr>\n",
              "    <tr>\n",
              "      <th>...</th>\n",
              "      <td>...</td>\n",
              "      <td>...</td>\n",
              "      <td>...</td>\n",
              "      <td>...</td>\n",
              "      <td>...</td>\n",
              "    </tr>\n",
              "    <tr>\n",
              "      <th>Turkey</th>\n",
              "      <td>10.0</td>\n",
              "      <td>7.0</td>\n",
              "      <td>NaN</td>\n",
              "      <td>NaN</td>\n",
              "      <td>NaN</td>\n",
              "    </tr>\n",
              "    <tr>\n",
              "      <th>United Arab Emirates</th>\n",
              "      <td>33.0</td>\n",
              "      <td>5.0</td>\n",
              "      <td>1.0</td>\n",
              "      <td>2.0</td>\n",
              "      <td>NaN</td>\n",
              "    </tr>\n",
              "    <tr>\n",
              "      <th>United Kingdom</th>\n",
              "      <td>157.0</td>\n",
              "      <td>127.0</td>\n",
              "      <td>NaN</td>\n",
              "      <td>NaN</td>\n",
              "      <td>NaN</td>\n",
              "    </tr>\n",
              "    <tr>\n",
              "      <th>United States</th>\n",
              "      <td>2035.0</td>\n",
              "      <td>1755.0</td>\n",
              "      <td>8.0</td>\n",
              "      <td>4.0</td>\n",
              "      <td>NaN</td>\n",
              "    </tr>\n",
              "    <tr>\n",
              "      <th>Viet Nam</th>\n",
              "      <td>21.0</td>\n",
              "      <td>16.0</td>\n",
              "      <td>NaN</td>\n",
              "      <td>NaN</td>\n",
              "      <td>NaN</td>\n",
              "    </tr>\n",
              "  </tbody>\n",
              "</table>\n",
              "<p>80 rows × 5 columns</p>\n",
              "</div>"
            ],
            "text/plain": [
              "                      Closed Lost  Closed Won  ...  Proposal  Qualification\n",
              "Billing_Country                                ...                         \n",
              "Albania                       2.0         NaN  ...       NaN            NaN\n",
              "Argentina                     1.0         NaN  ...       NaN            NaN\n",
              "Armenia                       2.0         NaN  ...       NaN            NaN\n",
              "Australia                   470.0       695.0  ...       4.0            NaN\n",
              "Austria                      23.0       122.0  ...       NaN            NaN\n",
              "...                           ...         ...  ...       ...            ...\n",
              "Turkey                       10.0         7.0  ...       NaN            NaN\n",
              "United Arab Emirates         33.0         5.0  ...       2.0            NaN\n",
              "United Kingdom              157.0       127.0  ...       NaN            NaN\n",
              "United States              2035.0      1755.0  ...       4.0            NaN\n",
              "Viet Nam                     21.0        16.0  ...       NaN            NaN\n",
              "\n",
              "[80 rows x 5 columns]"
            ]
          },
          "metadata": {
            "tags": []
          },
          "execution_count": 42
        }
      ]
    },
    {
      "cell_type": "code",
      "metadata": {
        "id": "_TISSa8sxAC-",
        "outputId": "efa6ce44-773c-48b2-e43f-b7886100c846",
        "colab": {
          "base_uri": "https://localhost:8080/",
          "height": 377
        }
      },
      "source": [
        "\n",
        "\n",
        "g = sns.heatmap(billing_country_stage, linewidths=.5, cmap=\"YlGnBu\") # annot=True\n",
        "g.set_title(\"Cantidad de Proyectos por combinacion de Año y Mes\", fontsize=22)\n",
        "g.set_xlabel(\"Mes de Lanzamiento del Proyecto\",fontsize=15)\n",
        "g.set_ylabel(\"Año de Lanzamiento del Proyecto\", fontsize=15)\n",
        "\n"
      ],
      "execution_count": null,
      "outputs": [
        {
          "output_type": "execute_result",
          "data": {
            "text/plain": [
              "Text(32.99999999999999, 0.5, 'Año de Lanzamiento del Proyecto')"
            ]
          },
          "metadata": {
            "tags": []
          },
          "execution_count": 43
        },
        {
          "output_type": "display_data",
          "data": {
            "image/png": "[encoded data removed]",
            "text/plain": [
              "<Figure size 432x288 with 2 Axes>"
            ]
          },
          "metadata": {
            "tags": [],
            "needs_background": "light"
          }
        }
      ]
    },
    {
      "cell_type": "code",
      "metadata": {
        "id": "uTaPA_wqyVGK",
        "outputId": "8a839890-d4fb-4757-9852-b8cc355f732b",
        "colab": {
          "base_uri": "https://localhost:8080/",
          "height": 395
        }
      },
      "source": [
        "billing_country_stage.nlargest(10,'Closed Lost')"
      ],
      "execution_count": null,
      "outputs": [
        {
          "output_type": "execute_result",
          "data": {
            "text/html": [
              "<div>\n",
              "<style scoped>\n",
              "    .dataframe tbody tr th:only-of-type {\n",
              "        vertical-align: middle;\n",
              "    }\n",
              "\n",
              "    .dataframe tbody tr th {\n",
              "        vertical-align: top;\n",
              "    }\n",
              "\n",
              "    .dataframe thead th {\n",
              "        text-align: right;\n",
              "    }\n",
              "</style>\n",
              "<table border=\"1\" class=\"dataframe\">\n",
              "  <thead>\n",
              "    <tr style=\"text-align: right;\">\n",
              "      <th></th>\n",
              "      <th>Closed Lost</th>\n",
              "      <th>Closed Won</th>\n",
              "      <th>Negotiation</th>\n",
              "      <th>Proposal</th>\n",
              "      <th>Qualification</th>\n",
              "    </tr>\n",
              "    <tr>\n",
              "      <th>Billing_Country</th>\n",
              "      <th></th>\n",
              "      <th></th>\n",
              "      <th></th>\n",
              "      <th></th>\n",
              "      <th></th>\n",
              "    </tr>\n",
              "  </thead>\n",
              "  <tbody>\n",
              "    <tr>\n",
              "      <th>United States</th>\n",
              "      <td>2035.0</td>\n",
              "      <td>1755.0</td>\n",
              "      <td>8.0</td>\n",
              "      <td>4.0</td>\n",
              "      <td>NaN</td>\n",
              "    </tr>\n",
              "    <tr>\n",
              "      <th>Japan</th>\n",
              "      <td>1533.0</td>\n",
              "      <td>3323.0</td>\n",
              "      <td>1.0</td>\n",
              "      <td>14.0</td>\n",
              "      <td>8.0</td>\n",
              "    </tr>\n",
              "    <tr>\n",
              "      <th>Germany</th>\n",
              "      <td>855.0</td>\n",
              "      <td>1122.0</td>\n",
              "      <td>1.0</td>\n",
              "      <td>1.0</td>\n",
              "      <td>NaN</td>\n",
              "    </tr>\n",
              "    <tr>\n",
              "      <th>Australia</th>\n",
              "      <td>470.0</td>\n",
              "      <td>695.0</td>\n",
              "      <td>NaN</td>\n",
              "      <td>4.0</td>\n",
              "      <td>NaN</td>\n",
              "    </tr>\n",
              "    <tr>\n",
              "      <th>India</th>\n",
              "      <td>387.0</td>\n",
              "      <td>284.0</td>\n",
              "      <td>NaN</td>\n",
              "      <td>NaN</td>\n",
              "      <td>1.0</td>\n",
              "    </tr>\n",
              "    <tr>\n",
              "      <th>France</th>\n",
              "      <td>285.0</td>\n",
              "      <td>111.0</td>\n",
              "      <td>NaN</td>\n",
              "      <td>NaN</td>\n",
              "      <td>NaN</td>\n",
              "    </tr>\n",
              "    <tr>\n",
              "      <th>Netherlands</th>\n",
              "      <td>248.0</td>\n",
              "      <td>315.0</td>\n",
              "      <td>NaN</td>\n",
              "      <td>NaN</td>\n",
              "      <td>NaN</td>\n",
              "    </tr>\n",
              "    <tr>\n",
              "      <th>United Kingdom</th>\n",
              "      <td>157.0</td>\n",
              "      <td>127.0</td>\n",
              "      <td>NaN</td>\n",
              "      <td>NaN</td>\n",
              "      <td>NaN</td>\n",
              "    </tr>\n",
              "    <tr>\n",
              "      <th>Italy</th>\n",
              "      <td>143.0</td>\n",
              "      <td>152.0</td>\n",
              "      <td>NaN</td>\n",
              "      <td>NaN</td>\n",
              "      <td>NaN</td>\n",
              "    </tr>\n",
              "    <tr>\n",
              "      <th>Spain</th>\n",
              "      <td>125.0</td>\n",
              "      <td>192.0</td>\n",
              "      <td>NaN</td>\n",
              "      <td>NaN</td>\n",
              "      <td>NaN</td>\n",
              "    </tr>\n",
              "  </tbody>\n",
              "</table>\n",
              "</div>"
            ],
            "text/plain": [
              "                 Closed Lost  Closed Won  Negotiation  Proposal  Qualification\n",
              "Billing_Country                                                               \n",
              "United States         2035.0      1755.0          8.0       4.0            NaN\n",
              "Japan                 1533.0      3323.0          1.0      14.0            8.0\n",
              "Germany                855.0      1122.0          1.0       1.0            NaN\n",
              "Australia              470.0       695.0          NaN       4.0            NaN\n",
              "India                  387.0       284.0          NaN       NaN            1.0\n",
              "France                 285.0       111.0          NaN       NaN            NaN\n",
              "Netherlands            248.0       315.0          NaN       NaN            NaN\n",
              "United Kingdom         157.0       127.0          NaN       NaN            NaN\n",
              "Italy                  143.0       152.0          NaN       NaN            NaN\n",
              "Spain                  125.0       192.0          NaN       NaN            NaN"
            ]
          },
          "metadata": {
            "tags": []
          },
          "execution_count": 12
        }
      ]
    },
    {
      "cell_type": "code",
      "metadata": {
        "id": "Dm7zEIIXxTAK",
        "outputId": "8241dd75-ad33-4cc5-e342-c97eecb2d7a5",
        "colab": {
          "base_uri": "https://localhost:8080/",
          "height": 650
        }
      },
      "source": [
        "fig, ax = plt.subplots(figsize=(12,10) )\n",
        "g = sns.heatmap(billing_country_stage.nlargest(10,'Closed Lost'), ax=ax, linewidths=.9, cmap=\"YlGnBu\") # annot=True\n",
        "g.set_title(\"Cantidad de Proyectos por combinacion de Año y Mes\", fontsize=22)\n",
        "g.set_xlabel(\"Mes de Lanzamiento del Proyecto\",fontsize=15)\n",
        "g.set_ylabel(\"Año de Lanzamiento del Proyecto\", fontsize=15)\n"
      ],
      "execution_count": null,
      "outputs": [
        {
          "output_type": "execute_result",
          "data": {
            "text/plain": [
              "Text(87.0, 0.5, 'Año de Lanzamiento del Proyecto')"
            ]
          },
          "metadata": {
            "tags": []
          },
          "execution_count": 47
        },
        {
          "output_type": "display_data",
          "data": {
            "image/png": "[encoded data removed]",
            "text/plain": [
              "<Figure size 864x720 with 2 Axes>"
            ]
          },
          "metadata": {
            "tags": [],
            "needs_background": "light"
          }
        }
      ]
    },
    {
      "cell_type": "code",
      "metadata": {
        "id": "EnFHdY6i0Oyp",
        "outputId": "b68e1b28-90be-424e-b017-3b404a74f479",
        "colab": {
          "base_uri": "https://localhost:8080/",
          "height": 395
        }
      },
      "source": [
        "billing_country_stage.nlargest(10,'Closed Won')"
      ],
      "execution_count": null,
      "outputs": [
        {
          "output_type": "execute_result",
          "data": {
            "text/html": [
              "<div>\n",
              "<style scoped>\n",
              "    .dataframe tbody tr th:only-of-type {\n",
              "        vertical-align: middle;\n",
              "    }\n",
              "\n",
              "    .dataframe tbody tr th {\n",
              "        vertical-align: top;\n",
              "    }\n",
              "\n",
              "    .dataframe thead th {\n",
              "        text-align: right;\n",
              "    }\n",
              "</style>\n",
              "<table border=\"1\" class=\"dataframe\">\n",
              "  <thead>\n",
              "    <tr style=\"text-align: right;\">\n",
              "      <th></th>\n",
              "      <th>Closed Lost</th>\n",
              "      <th>Closed Won</th>\n",
              "      <th>Negotiation</th>\n",
              "      <th>Proposal</th>\n",
              "      <th>Qualification</th>\n",
              "    </tr>\n",
              "    <tr>\n",
              "      <th>Billing_Country</th>\n",
              "      <th></th>\n",
              "      <th></th>\n",
              "      <th></th>\n",
              "      <th></th>\n",
              "      <th></th>\n",
              "    </tr>\n",
              "  </thead>\n",
              "  <tbody>\n",
              "    <tr>\n",
              "      <th>Japan</th>\n",
              "      <td>1533.0</td>\n",
              "      <td>3323.0</td>\n",
              "      <td>1.0</td>\n",
              "      <td>14.0</td>\n",
              "      <td>8.0</td>\n",
              "    </tr>\n",
              "    <tr>\n",
              "      <th>United States</th>\n",
              "      <td>2035.0</td>\n",
              "      <td>1755.0</td>\n",
              "      <td>8.0</td>\n",
              "      <td>4.0</td>\n",
              "      <td>NaN</td>\n",
              "    </tr>\n",
              "    <tr>\n",
              "      <th>Germany</th>\n",
              "      <td>855.0</td>\n",
              "      <td>1122.0</td>\n",
              "      <td>1.0</td>\n",
              "      <td>1.0</td>\n",
              "      <td>NaN</td>\n",
              "    </tr>\n",
              "    <tr>\n",
              "      <th>Australia</th>\n",
              "      <td>470.0</td>\n",
              "      <td>695.0</td>\n",
              "      <td>NaN</td>\n",
              "      <td>4.0</td>\n",
              "      <td>NaN</td>\n",
              "    </tr>\n",
              "    <tr>\n",
              "      <th>Singapore</th>\n",
              "      <td>114.0</td>\n",
              "      <td>318.0</td>\n",
              "      <td>NaN</td>\n",
              "      <td>NaN</td>\n",
              "      <td>NaN</td>\n",
              "    </tr>\n",
              "    <tr>\n",
              "      <th>Netherlands</th>\n",
              "      <td>248.0</td>\n",
              "      <td>315.0</td>\n",
              "      <td>NaN</td>\n",
              "      <td>NaN</td>\n",
              "      <td>NaN</td>\n",
              "    </tr>\n",
              "    <tr>\n",
              "      <th>India</th>\n",
              "      <td>387.0</td>\n",
              "      <td>284.0</td>\n",
              "      <td>NaN</td>\n",
              "      <td>NaN</td>\n",
              "      <td>1.0</td>\n",
              "    </tr>\n",
              "    <tr>\n",
              "      <th>China</th>\n",
              "      <td>19.0</td>\n",
              "      <td>203.0</td>\n",
              "      <td>NaN</td>\n",
              "      <td>NaN</td>\n",
              "      <td>NaN</td>\n",
              "    </tr>\n",
              "    <tr>\n",
              "      <th>Spain</th>\n",
              "      <td>125.0</td>\n",
              "      <td>192.0</td>\n",
              "      <td>NaN</td>\n",
              "      <td>NaN</td>\n",
              "      <td>NaN</td>\n",
              "    </tr>\n",
              "    <tr>\n",
              "      <th>Italy</th>\n",
              "      <td>143.0</td>\n",
              "      <td>152.0</td>\n",
              "      <td>NaN</td>\n",
              "      <td>NaN</td>\n",
              "      <td>NaN</td>\n",
              "    </tr>\n",
              "  </tbody>\n",
              "</table>\n",
              "</div>"
            ],
            "text/plain": [
              "                 Closed Lost  Closed Won  Negotiation  Proposal  Qualification\n",
              "Billing_Country                                                               \n",
              "Japan                 1533.0      3323.0          1.0      14.0            8.0\n",
              "United States         2035.0      1755.0          8.0       4.0            NaN\n",
              "Germany                855.0      1122.0          1.0       1.0            NaN\n",
              "Australia              470.0       695.0          NaN       4.0            NaN\n",
              "Singapore              114.0       318.0          NaN       NaN            NaN\n",
              "Netherlands            248.0       315.0          NaN       NaN            NaN\n",
              "India                  387.0       284.0          NaN       NaN            1.0\n",
              "China                   19.0       203.0          NaN       NaN            NaN\n",
              "Spain                  125.0       192.0          NaN       NaN            NaN\n",
              "Italy                  143.0       152.0          NaN       NaN            NaN"
            ]
          },
          "metadata": {
            "tags": []
          },
          "execution_count": 13
        }
      ]
    },
    {
      "cell_type": "code",
      "metadata": {
        "id": "cDpENiF3ktVk"
      },
      "source": [
        ""
      ],
      "execution_count": null,
      "outputs": []
    },
    {
      "cell_type": "code",
      "metadata": {
        "id": "0uworCU1HvM_",
        "outputId": "a6d22f81-c0f5-445c-898f-78d5c3d3f230",
        "colab": {
          "base_uri": "https://localhost:8080/",
          "height": 312
        }
      },
      "source": [
        "entrenamiento.groupby(['Month','entrenamiento']).agg(stage_by_month=('Delivery_Year','count'))"
      ],
      "execution_count": null,
      "outputs": [
        {
          "output_type": "error",
          "ename": "KeyError",
          "evalue": "ignored",
          "traceback": [
            "\u001b[0;31m---------------------------------------------------------------------------\u001b[0m",
            "\u001b[0;31mKeyError\u001b[0m                                  Traceback (most recent call last)",
            "\u001b[0;32m<ipython-input-7-a8562dba7cfa>\u001b[0m in \u001b[0;36m<module>\u001b[0;34m()\u001b[0m\n\u001b[0;32m----> 1\u001b[0;31m \u001b[0mentrenamiento\u001b[0m\u001b[0;34m.\u001b[0m\u001b[0mgroupby\u001b[0m\u001b[0;34m(\u001b[0m\u001b[0;34m[\u001b[0m\u001b[0;34m'Month'\u001b[0m\u001b[0;34m,\u001b[0m\u001b[0;34m'entrenamiento'\u001b[0m\u001b[0;34m]\u001b[0m\u001b[0;34m)\u001b[0m\u001b[0;34m.\u001b[0m\u001b[0magg\u001b[0m\u001b[0;34m(\u001b[0m\u001b[0mstage_by_month\u001b[0m\u001b[0;34m=\u001b[0m\u001b[0;34m(\u001b[0m\u001b[0;34m'Delivery_Year'\u001b[0m\u001b[0;34m,\u001b[0m\u001b[0;34m'count'\u001b[0m\u001b[0;34m)\u001b[0m\u001b[0;34m)\u001b[0m\u001b[0;34m\u001b[0m\u001b[0;34m\u001b[0m\u001b[0m\n\u001b[0m",
            "\u001b[0;32m/usr/local/lib/python3.6/dist-packages/pandas/core/frame.py\u001b[0m in \u001b[0;36mgroupby\u001b[0;34m(self, by, axis, level, as_index, sort, group_keys, squeeze, observed, dropna)\u001b[0m\n\u001b[1;32m   6518\u001b[0m             \u001b[0msqueeze\u001b[0m\u001b[0;34m=\u001b[0m\u001b[0msqueeze\u001b[0m\u001b[0;34m,\u001b[0m\u001b[0;34m\u001b[0m\u001b[0;34m\u001b[0m\u001b[0m\n\u001b[1;32m   6519\u001b[0m             \u001b[0mobserved\u001b[0m\u001b[0;34m=\u001b[0m\u001b[0mobserved\u001b[0m\u001b[0;34m,\u001b[0m\u001b[0;34m\u001b[0m\u001b[0;34m\u001b[0m\u001b[0m\n\u001b[0;32m-> 6520\u001b[0;31m             \u001b[0mdropna\u001b[0m\u001b[0;34m=\u001b[0m\u001b[0mdropna\u001b[0m\u001b[0;34m,\u001b[0m\u001b[0;34m\u001b[0m\u001b[0;34m\u001b[0m\u001b[0m\n\u001b[0m\u001b[1;32m   6521\u001b[0m         )\n\u001b[1;32m   6522\u001b[0m \u001b[0;34m\u001b[0m\u001b[0m\n",
            "\u001b[0;32m/usr/local/lib/python3.6/dist-packages/pandas/core/groupby/groupby.py\u001b[0m in \u001b[0;36m__init__\u001b[0;34m(self, obj, keys, axis, level, grouper, exclusions, selection, as_index, sort, group_keys, squeeze, observed, mutated, dropna)\u001b[0m\n\u001b[1;32m    531\u001b[0m                 \u001b[0mobserved\u001b[0m\u001b[0;34m=\u001b[0m\u001b[0mobserved\u001b[0m\u001b[0;34m,\u001b[0m\u001b[0;34m\u001b[0m\u001b[0;34m\u001b[0m\u001b[0m\n\u001b[1;32m    532\u001b[0m                 \u001b[0mmutated\u001b[0m\u001b[0;34m=\u001b[0m\u001b[0mself\u001b[0m\u001b[0;34m.\u001b[0m\u001b[0mmutated\u001b[0m\u001b[0;34m,\u001b[0m\u001b[0;34m\u001b[0m\u001b[0;34m\u001b[0m\u001b[0m\n\u001b[0;32m--> 533\u001b[0;31m                 \u001b[0mdropna\u001b[0m\u001b[0;34m=\u001b[0m\u001b[0mself\u001b[0m\u001b[0;34m.\u001b[0m\u001b[0mdropna\u001b[0m\u001b[0;34m,\u001b[0m\u001b[0;34m\u001b[0m\u001b[0;34m\u001b[0m\u001b[0m\n\u001b[0m\u001b[1;32m    534\u001b[0m             )\n\u001b[1;32m    535\u001b[0m \u001b[0;34m\u001b[0m\u001b[0m\n",
            "\u001b[0;32m/usr/local/lib/python3.6/dist-packages/pandas/core/groupby/grouper.py\u001b[0m in \u001b[0;36mget_grouper\u001b[0;34m(obj, key, axis, level, sort, observed, mutated, validate, dropna)\u001b[0m\n\u001b[1;32m    779\u001b[0m                 \u001b[0min_axis\u001b[0m\u001b[0;34m,\u001b[0m \u001b[0mname\u001b[0m\u001b[0;34m,\u001b[0m \u001b[0mlevel\u001b[0m\u001b[0;34m,\u001b[0m \u001b[0mgpr\u001b[0m \u001b[0;34m=\u001b[0m \u001b[0;32mFalse\u001b[0m\u001b[0;34m,\u001b[0m \u001b[0;32mNone\u001b[0m\u001b[0;34m,\u001b[0m \u001b[0mgpr\u001b[0m\u001b[0;34m,\u001b[0m \u001b[0;32mNone\u001b[0m\u001b[0;34m\u001b[0m\u001b[0;34m\u001b[0m\u001b[0m\n\u001b[1;32m    780\u001b[0m             \u001b[0;32melse\u001b[0m\u001b[0;34m:\u001b[0m\u001b[0;34m\u001b[0m\u001b[0;34m\u001b[0m\u001b[0m\n\u001b[0;32m--> 781\u001b[0;31m                 \u001b[0;32mraise\u001b[0m \u001b[0mKeyError\u001b[0m\u001b[0;34m(\u001b[0m\u001b[0mgpr\u001b[0m\u001b[0;34m)\u001b[0m\u001b[0;34m\u001b[0m\u001b[0;34m\u001b[0m\u001b[0m\n\u001b[0m\u001b[1;32m    782\u001b[0m         \u001b[0;32melif\u001b[0m \u001b[0misinstance\u001b[0m\u001b[0;34m(\u001b[0m\u001b[0mgpr\u001b[0m\u001b[0;34m,\u001b[0m \u001b[0mGrouper\u001b[0m\u001b[0;34m)\u001b[0m \u001b[0;32mand\u001b[0m \u001b[0mgpr\u001b[0m\u001b[0;34m.\u001b[0m\u001b[0mkey\u001b[0m \u001b[0;32mis\u001b[0m \u001b[0;32mnot\u001b[0m \u001b[0;32mNone\u001b[0m\u001b[0;34m:\u001b[0m\u001b[0;34m\u001b[0m\u001b[0;34m\u001b[0m\u001b[0m\n\u001b[1;32m    783\u001b[0m             \u001b[0;31m# Add key to exclusions\u001b[0m\u001b[0;34m\u001b[0m\u001b[0;34m\u001b[0m\u001b[0;34m\u001b[0m\u001b[0m\n",
            "\u001b[0;31mKeyError\u001b[0m: 'entrenamiento'"
          ]
        }
      ]
    },
    {
      "cell_type": "code",
      "metadata": {
        "id": "5PDP2IszHvQZ"
      },
      "source": [
        ""
      ],
      "execution_count": null,
      "outputs": []
    },
    {
      "cell_type": "markdown",
      "metadata": {
        "id": "oKCcpnNKmdlq"
      },
      "source": [
        "Acountype y su relacion"
      ]
    },
    {
      "cell_type": "code",
      "metadata": {
        "id": "XnLbPyqrHvS_",
        "outputId": "80b706fb-e27f-478a-b0bf-10f092c972d8",
        "colab": {
          "base_uri": "https://localhost:8080/",
          "height": 1000
        }
      },
      "source": [
        "entrenamiento.info()"
      ],
      "execution_count": null,
      "outputs": [
        {
          "output_type": "stream",
          "text": [
            "<class 'pandas.core.frame.DataFrame'>\n",
            "RangeIndex: 16947 entries, 0 to 16946\n",
            "Data columns (total 52 columns):\n",
            " #   Column                              Non-Null Count  Dtype  \n",
            "---  ------                              --------------  -----  \n",
            " 0   ID                                  16947 non-null  int64  \n",
            " 1   Region                              16947 non-null  object \n",
            " 2   Territory                           16947 non-null  object \n",
            " 3   Pricing, Delivery_Terms_Quote_Appr  16947 non-null  int64  \n",
            " 4   Pricing, Delivery_Terms_Approved    16947 non-null  int64  \n",
            " 5   Bureaucratic_Code_0_Approval        16947 non-null  int64  \n",
            " 6   Bureaucratic_Code_0_Approved        16947 non-null  int64  \n",
            " 7   Submitted_for_Approval              16947 non-null  int64  \n",
            " 8   Bureaucratic_Code                   16947 non-null  object \n",
            " 9   Account_Created_Date                16947 non-null  object \n",
            " 10  Source                              16947 non-null  object \n",
            " 11  Billing_Country                     16947 non-null  object \n",
            " 12  Account_Name                        16947 non-null  object \n",
            " 13  Opportunity_Name                    16947 non-null  object \n",
            " 14  Opportunity_ID                      16947 non-null  int64  \n",
            " 15  Sales_Contract_No                   16947 non-null  object \n",
            " 16  Account_Owner                       16947 non-null  object \n",
            " 17  Opportunity_Owner                   16947 non-null  object \n",
            " 18  Account_Type                        16947 non-null  object \n",
            " 19  Opportunity_Type                    16947 non-null  object \n",
            " 20  Quote_Type                          16947 non-null  object \n",
            " 21  Delivery_Terms                      16947 non-null  object \n",
            " 22  Opportunity_Created_Date            16947 non-null  object \n",
            " 23  Brand                               16947 non-null  object \n",
            " 24  Product_Type                        16947 non-null  object \n",
            " 25  Size                                16947 non-null  object \n",
            " 26  Product_Category_B                  16947 non-null  object \n",
            " 27  Price                               16947 non-null  object \n",
            " 28  Currency                            16947 non-null  object \n",
            " 29  Last_Activity                       16947 non-null  object \n",
            " 30  Quote_Expiry_Date                   16947 non-null  object \n",
            " 31  Last_Modified_Date                  16947 non-null  object \n",
            " 32  Last_Modified_By                    16947 non-null  object \n",
            " 33  Product_Family                      16947 non-null  object \n",
            " 34  Product_Name                        16947 non-null  object \n",
            " 35  ASP_Currency                        16947 non-null  object \n",
            " 36  ASP                                 13738 non-null  float64\n",
            " 37  ASP_(converted)_Currency            16947 non-null  object \n",
            " 38  ASP_(converted)                     13738 non-null  float64\n",
            " 39  Planned_Delivery_Start_Date         16947 non-null  object \n",
            " 40  Planned_Delivery_End_Date           16947 non-null  object \n",
            " 41  Month                               16947 non-null  object \n",
            " 42  Delivery_Quarter                    16947 non-null  object \n",
            " 43  Delivery_Year                       16947 non-null  int64  \n",
            " 44  Actual_Delivery_Date                16947 non-null  object \n",
            " 45  TRF                                 16947 non-null  int64  \n",
            " 46  Total_Amount_Currency               16947 non-null  object \n",
            " 47  Total_Amount                        16888 non-null  float64\n",
            " 48  Total_Taxable_Amount_Currency       16947 non-null  object \n",
            " 49  Total_Taxable_Amount                16947 non-null  float64\n",
            " 50  Stage                               16947 non-null  object \n",
            " 51  Prod_Category_A                     16947 non-null  object \n",
            "dtypes: float64(4), int64(9), object(39)\n",
            "memory usage: 6.7+ MB\n"
          ],
          "name": "stdout"
        }
      ]
    },
    {
      "cell_type": "code",
      "metadata": {
        "id": "KKrW7_2pHvXm",
        "outputId": "096bb004-6e95-42a2-9393-5d2d031df578",
        "colab": {
          "base_uri": "https://localhost:8080/",
          "height": 156
        }
      },
      "source": [
        "entrenamiento['Account_Type'].value_counts()"
      ],
      "execution_count": null,
      "outputs": [
        {
          "output_type": "execute_result",
          "data": {
            "text/plain": [
              "Account_Type_2    8832\n",
              "Account_Type_0    5868\n",
              "Account_Type_5    1943\n",
              "Account_Type_1     165\n",
              "None               112\n",
              "Account_Type_6      17\n",
              "Account_Type_4      10\n",
              "Name: Account_Type, dtype: int64"
            ]
          },
          "metadata": {
            "tags": []
          },
          "execution_count": 17
        }
      ]
    },
    {
      "cell_type": "code",
      "metadata": {
        "id": "rqB67j-anHLF",
        "outputId": "7a967e4f-4fbe-4953-914c-249e6f99f1c3",
        "colab": {
          "base_uri": "https://localhost:8080/",
          "height": 301
        }
      },
      "source": [
        "account_stage=entrenamiento.groupby(['Account_Type','Stage']).agg(cantidad=('Stage','count')).unstack(level='Stage').fillna(0)\n",
        "account_stage.columns=['Closed Lost','Closed Won','Negotiation','Proposal',' \tQualification']\n",
        "account_stage"
      ],
      "execution_count": 148,
      "outputs": [
        {
          "output_type": "execute_result",
          "data": {
            "text/html": [
              "<div>\n",
              "<style scoped>\n",
              "    .dataframe tbody tr th:only-of-type {\n",
              "        vertical-align: middle;\n",
              "    }\n",
              "\n",
              "    .dataframe tbody tr th {\n",
              "        vertical-align: top;\n",
              "    }\n",
              "\n",
              "    .dataframe thead th {\n",
              "        text-align: right;\n",
              "    }\n",
              "</style>\n",
              "<table border=\"1\" class=\"dataframe\">\n",
              "  <thead>\n",
              "    <tr style=\"text-align: right;\">\n",
              "      <th></th>\n",
              "      <th>Closed Lost</th>\n",
              "      <th>Closed Won</th>\n",
              "      <th>Negotiation</th>\n",
              "      <th>Proposal</th>\n",
              "      <th>\\tQualification</th>\n",
              "    </tr>\n",
              "    <tr>\n",
              "      <th>Account_Type</th>\n",
              "      <th></th>\n",
              "      <th></th>\n",
              "      <th></th>\n",
              "      <th></th>\n",
              "      <th></th>\n",
              "    </tr>\n",
              "  </thead>\n",
              "  <tbody>\n",
              "    <tr>\n",
              "      <th>Account_Type_0</th>\n",
              "      <td>1718.0</td>\n",
              "      <td>4148.0</td>\n",
              "      <td>0.0</td>\n",
              "      <td>2.0</td>\n",
              "      <td>0.0</td>\n",
              "    </tr>\n",
              "    <tr>\n",
              "      <th>Account_Type_1</th>\n",
              "      <td>133.0</td>\n",
              "      <td>31.0</td>\n",
              "      <td>0.0</td>\n",
              "      <td>1.0</td>\n",
              "      <td>0.0</td>\n",
              "    </tr>\n",
              "    <tr>\n",
              "      <th>Account_Type_2</th>\n",
              "      <td>4021.0</td>\n",
              "      <td>4765.0</td>\n",
              "      <td>17.0</td>\n",
              "      <td>21.0</td>\n",
              "      <td>8.0</td>\n",
              "    </tr>\n",
              "    <tr>\n",
              "      <th>Account_Type_4</th>\n",
              "      <td>6.0</td>\n",
              "      <td>4.0</td>\n",
              "      <td>0.0</td>\n",
              "      <td>0.0</td>\n",
              "      <td>0.0</td>\n",
              "    </tr>\n",
              "    <tr>\n",
              "      <th>Account_Type_5</th>\n",
              "      <td>1351.0</td>\n",
              "      <td>577.0</td>\n",
              "      <td>1.0</td>\n",
              "      <td>11.0</td>\n",
              "      <td>3.0</td>\n",
              "    </tr>\n",
              "    <tr>\n",
              "      <th>Account_Type_6</th>\n",
              "      <td>16.0</td>\n",
              "      <td>1.0</td>\n",
              "      <td>0.0</td>\n",
              "      <td>0.0</td>\n",
              "      <td>0.0</td>\n",
              "    </tr>\n",
              "    <tr>\n",
              "      <th>None</th>\n",
              "      <td>105.0</td>\n",
              "      <td>7.0</td>\n",
              "      <td>0.0</td>\n",
              "      <td>0.0</td>\n",
              "      <td>0.0</td>\n",
              "    </tr>\n",
              "  </tbody>\n",
              "</table>\n",
              "</div>"
            ],
            "text/plain": [
              "                Closed Lost  Closed Won  ...  Proposal   \\tQualification\n",
              "Account_Type                             ...                            \n",
              "Account_Type_0       1718.0      4148.0  ...       2.0               0.0\n",
              "Account_Type_1        133.0        31.0  ...       1.0               0.0\n",
              "Account_Type_2       4021.0      4765.0  ...      21.0               8.0\n",
              "Account_Type_4          6.0         4.0  ...       0.0               0.0\n",
              "Account_Type_5       1351.0       577.0  ...      11.0               3.0\n",
              "Account_Type_6         16.0         1.0  ...       0.0               0.0\n",
              "None                  105.0         7.0  ...       0.0               0.0\n",
              "\n",
              "[7 rows x 5 columns]"
            ]
          },
          "metadata": {
            "tags": []
          },
          "execution_count": 148
        }
      ]
    },
    {
      "cell_type": "code",
      "metadata": {
        "id": "mGeE30tcDpoN",
        "outputId": "fba45e7f-a395-4dab-9297-7a53a2abdc2d",
        "colab": {
          "base_uri": "https://localhost:8080/",
          "height": 424
        }
      },
      "source": [
        "penguins"
      ],
      "execution_count": 159,
      "outputs": [
        {
          "output_type": "execute_result",
          "data": {
            "text/html": [
              "<div>\n",
              "<style scoped>\n",
              "    .dataframe tbody tr th:only-of-type {\n",
              "        vertical-align: middle;\n",
              "    }\n",
              "\n",
              "    .dataframe tbody tr th {\n",
              "        vertical-align: top;\n",
              "    }\n",
              "\n",
              "    .dataframe thead th {\n",
              "        text-align: right;\n",
              "    }\n",
              "</style>\n",
              "<table border=\"1\" class=\"dataframe\">\n",
              "  <thead>\n",
              "    <tr style=\"text-align: right;\">\n",
              "      <th></th>\n",
              "      <th>species</th>\n",
              "      <th>island</th>\n",
              "      <th>bill_length_mm</th>\n",
              "      <th>bill_depth_mm</th>\n",
              "      <th>flipper_length_mm</th>\n",
              "      <th>body_mass_g</th>\n",
              "      <th>sex</th>\n",
              "    </tr>\n",
              "  </thead>\n",
              "  <tbody>\n",
              "    <tr>\n",
              "      <th>0</th>\n",
              "      <td>Adelie</td>\n",
              "      <td>Torgersen</td>\n",
              "      <td>39.1</td>\n",
              "      <td>18.7</td>\n",
              "      <td>181.0</td>\n",
              "      <td>3750.0</td>\n",
              "      <td>Male</td>\n",
              "    </tr>\n",
              "    <tr>\n",
              "      <th>1</th>\n",
              "      <td>Adelie</td>\n",
              "      <td>Torgersen</td>\n",
              "      <td>39.5</td>\n",
              "      <td>17.4</td>\n",
              "      <td>186.0</td>\n",
              "      <td>3800.0</td>\n",
              "      <td>Female</td>\n",
              "    </tr>\n",
              "    <tr>\n",
              "      <th>2</th>\n",
              "      <td>Adelie</td>\n",
              "      <td>Torgersen</td>\n",
              "      <td>40.3</td>\n",
              "      <td>18.0</td>\n",
              "      <td>195.0</td>\n",
              "      <td>3250.0</td>\n",
              "      <td>Female</td>\n",
              "    </tr>\n",
              "    <tr>\n",
              "      <th>3</th>\n",
              "      <td>Adelie</td>\n",
              "      <td>Torgersen</td>\n",
              "      <td>NaN</td>\n",
              "      <td>NaN</td>\n",
              "      <td>NaN</td>\n",
              "      <td>NaN</td>\n",
              "      <td>NaN</td>\n",
              "    </tr>\n",
              "    <tr>\n",
              "      <th>4</th>\n",
              "      <td>Adelie</td>\n",
              "      <td>Torgersen</td>\n",
              "      <td>36.7</td>\n",
              "      <td>19.3</td>\n",
              "      <td>193.0</td>\n",
              "      <td>3450.0</td>\n",
              "      <td>Female</td>\n",
              "    </tr>\n",
              "    <tr>\n",
              "      <th>...</th>\n",
              "      <td>...</td>\n",
              "      <td>...</td>\n",
              "      <td>...</td>\n",
              "      <td>...</td>\n",
              "      <td>...</td>\n",
              "      <td>...</td>\n",
              "      <td>...</td>\n",
              "    </tr>\n",
              "    <tr>\n",
              "      <th>339</th>\n",
              "      <td>Gentoo</td>\n",
              "      <td>Biscoe</td>\n",
              "      <td>NaN</td>\n",
              "      <td>NaN</td>\n",
              "      <td>NaN</td>\n",
              "      <td>NaN</td>\n",
              "      <td>NaN</td>\n",
              "    </tr>\n",
              "    <tr>\n",
              "      <th>340</th>\n",
              "      <td>Gentoo</td>\n",
              "      <td>Biscoe</td>\n",
              "      <td>46.8</td>\n",
              "      <td>14.3</td>\n",
              "      <td>215.0</td>\n",
              "      <td>4850.0</td>\n",
              "      <td>Female</td>\n",
              "    </tr>\n",
              "    <tr>\n",
              "      <th>341</th>\n",
              "      <td>Gentoo</td>\n",
              "      <td>Biscoe</td>\n",
              "      <td>50.4</td>\n",
              "      <td>15.7</td>\n",
              "      <td>222.0</td>\n",
              "      <td>5750.0</td>\n",
              "      <td>Male</td>\n",
              "    </tr>\n",
              "    <tr>\n",
              "      <th>342</th>\n",
              "      <td>Gentoo</td>\n",
              "      <td>Biscoe</td>\n",
              "      <td>45.2</td>\n",
              "      <td>14.8</td>\n",
              "      <td>212.0</td>\n",
              "      <td>5200.0</td>\n",
              "      <td>Female</td>\n",
              "    </tr>\n",
              "    <tr>\n",
              "      <th>343</th>\n",
              "      <td>Gentoo</td>\n",
              "      <td>Biscoe</td>\n",
              "      <td>49.9</td>\n",
              "      <td>16.1</td>\n",
              "      <td>213.0</td>\n",
              "      <td>5400.0</td>\n",
              "      <td>Male</td>\n",
              "    </tr>\n",
              "  </tbody>\n",
              "</table>\n",
              "<p>344 rows × 7 columns</p>\n",
              "</div>"
            ],
            "text/plain": [
              "    species     island  bill_length_mm  ...  flipper_length_mm  body_mass_g     sex\n",
              "0    Adelie  Torgersen            39.1  ...              181.0       3750.0    Male\n",
              "1    Adelie  Torgersen            39.5  ...              186.0       3800.0  Female\n",
              "2    Adelie  Torgersen            40.3  ...              195.0       3250.0  Female\n",
              "3    Adelie  Torgersen             NaN  ...                NaN          NaN     NaN\n",
              "4    Adelie  Torgersen            36.7  ...              193.0       3450.0  Female\n",
              "..      ...        ...             ...  ...                ...          ...     ...\n",
              "339  Gentoo     Biscoe             NaN  ...                NaN          NaN     NaN\n",
              "340  Gentoo     Biscoe            46.8  ...              215.0       4850.0  Female\n",
              "341  Gentoo     Biscoe            50.4  ...              222.0       5750.0    Male\n",
              "342  Gentoo     Biscoe            45.2  ...              212.0       5200.0  Female\n",
              "343  Gentoo     Biscoe            49.9  ...              213.0       5400.0    Male\n",
              "\n",
              "[344 rows x 7 columns]"
            ]
          },
          "metadata": {
            "tags": []
          },
          "execution_count": 159
        }
      ]
    },
    {
      "cell_type": "code",
      "metadata": {
        "id": "HrlYrRcQEmME",
        "outputId": "90a9bbc6-440b-4b32-f49b-5078d65aa9e7",
        "colab": {
          "base_uri": "https://localhost:8080/",
          "height": 1000
        }
      },
      "source": [
        "#fig, ax = plt.subplots(figsize=(12,11))\n",
        " \n",
        "\n",
        " \n",
        "\n",
        "# Draw a nested barplot by species and sex\n",
        "g = sns.catplot(\n",
        "    data=cuenta_estado, kind=\"bar\",\n",
        "    x=\"Account_Type\", y=\"cantidad\", hue=\"Stage\",\n",
        "    ci=\"sd\", palette=\"dark\", alpha=.6, height=12\n",
        ")\n",
        "\n",
        "#g.set_title(\"Cantidad de Estados por Tipo y Anio\", fontsize=22)\n",
        "#g.set_xlabel(\"Cantidad por Estado\",fontsize=15)\n",
        "#g.set_ylabel(\"Anio\", fontsize=15)\n",
        "\n",
        "\n",
        "g.despine(left=True)\n",
        "g.set_axis_labels(\"\", \"Body mass (g)\")\n",
        "g.legend.set_title(\"\")"
      ],
      "execution_count": 177,
      "outputs": [
        {
          "output_type": "error",
          "ename": "AttributeError",
          "evalue": "ignored",
          "traceback": [
            "\u001b[0;31m---------------------------------------------------------------------------\u001b[0m",
            "\u001b[0;31mAttributeError\u001b[0m                            Traceback (most recent call last)",
            "\u001b[0;32m<ipython-input-177-77c4af885916>\u001b[0m in \u001b[0;36m<module>\u001b[0;34m()\u001b[0m\n\u001b[1;32m     11\u001b[0m )\n\u001b[1;32m     12\u001b[0m \u001b[0;34m\u001b[0m\u001b[0m\n\u001b[0;32m---> 13\u001b[0;31m \u001b[0mg\u001b[0m\u001b[0;34m.\u001b[0m\u001b[0mset_title\u001b[0m\u001b[0;34m(\u001b[0m\u001b[0;34m\"Cantidad de Estados por Tipo y Anio\"\u001b[0m\u001b[0;34m,\u001b[0m \u001b[0mfontsize\u001b[0m\u001b[0;34m=\u001b[0m\u001b[0;36m22\u001b[0m\u001b[0;34m)\u001b[0m\u001b[0;34m\u001b[0m\u001b[0;34m\u001b[0m\u001b[0m\n\u001b[0m\u001b[1;32m     14\u001b[0m \u001b[0mg\u001b[0m\u001b[0;34m.\u001b[0m\u001b[0mset_xlabel\u001b[0m\u001b[0;34m(\u001b[0m\u001b[0;34m\"Cantidad por Estado\"\u001b[0m\u001b[0;34m,\u001b[0m\u001b[0mfontsize\u001b[0m\u001b[0;34m=\u001b[0m\u001b[0;36m15\u001b[0m\u001b[0;34m)\u001b[0m\u001b[0;34m\u001b[0m\u001b[0;34m\u001b[0m\u001b[0m\n\u001b[1;32m     15\u001b[0m \u001b[0mg\u001b[0m\u001b[0;34m.\u001b[0m\u001b[0mset_ylabel\u001b[0m\u001b[0;34m(\u001b[0m\u001b[0;34m\"Anio\"\u001b[0m\u001b[0;34m,\u001b[0m \u001b[0mfontsize\u001b[0m\u001b[0;34m=\u001b[0m\u001b[0;36m15\u001b[0m\u001b[0;34m)\u001b[0m\u001b[0;34m\u001b[0m\u001b[0;34m\u001b[0m\u001b[0m\n",
            "\u001b[0;31mAttributeError\u001b[0m: 'FacetGrid' object has no attribute 'set_title'"
          ]
        },
        {
          "output_type": "display_data",
          "data": {
            "image/png": "[encoded data removed]",
            "text/plain": [
              "<Figure size 973.35x864 with 1 Axes>"
            ]
          },
          "metadata": {
            "tags": []
          }
        }
      ]
    },
    {
      "cell_type": "code",
      "metadata": {
        "id": "w0DPWckaDnNF",
        "outputId": "ae2de7fd-869e-426e-db6f-ba528bb8f093",
        "colab": {
          "base_uri": "https://localhost:8080/",
          "height": 437
        }
      },
      "source": [
        "fig, ax = plt.subplots(figsize=(12,11))\n",
        "g=sns.lineplot(data=df2, x=\"anio\", y=\"cant\", hue=\"Stage\",ax=ax)\n",
        "g.set_title(\"Cantidad de Estados por Tipo y Anio\", fontsize=22)\n",
        "g.set_xlabel(\"Cantidad por Estado\",fontsize=15)\n",
        "g.set_ylabel(\"Anio\", fontsize=15)\n",
        "\n",
        "sns.set_theme(style=\"whitegrid\")\n",
        "\n",
        "penguins = sns.load_dataset(\"penguins\")\n",
        "\n",
        "# Draw a nested barplot by species and sex\n",
        "g = sns.catplot(\n",
        "    data=cuenta_estado, kind=\"bar\",\n",
        "    x=\"Account_Type\", y=\"cantidad\", hue=\"Stage\",\n",
        "    ci=\"sd\", palette=\"dark\", alpha=.6, height=6\n",
        ")\n",
        "g.despine(left=True)\n",
        "g.set_axis_labels(\"\", \"Body mass (g)\")\n",
        "g.legend.set_title(\"\")"
      ],
      "execution_count": 164,
      "outputs": [
        {
          "output_type": "display_data",
          "data": {
            "image/png": "[encoded data removed]",
            "text/plain": [
              "<Figure size 541.35x432 with 1 Axes>"
            ]
          },
          "metadata": {
            "tags": []
          }
        }
      ]
    },
    {
      "cell_type": "code",
      "metadata": {
        "id": "9LvRL9YWBy3D"
      },
      "source": [
        "l=account_stage.columns.to_list()"
      ],
      "execution_count": 153,
      "outputs": []
    },
    {
      "cell_type": "code",
      "metadata": {
        "id": "3WeihqlOApH-",
        "outputId": "e18ee5d5-bf36-4376-d6d8-de94275aa396",
        "colab": {
          "base_uri": "https://localhost:8080/",
          "height": 364
        }
      },
      "source": [
        "g = sns.barplot(x=account_stage.Account_Type, y=account_stage.index,  hue=l,orient='h')\n",
        "g.set_title(\"Canciones por Genero Principal\", fontsize=15)\n",
        "g.set_xlabel(\"Numero de canciones\", fontsize=12)\n",
        "g.set_ylabel(\"Genero\", fontsize=12)"
      ],
      "execution_count": 154,
      "outputs": [
        {
          "output_type": "error",
          "ename": "Exception",
          "evalue": "ignored",
          "traceback": [
            "\u001b[0;31m---------------------------------------------------------------------------\u001b[0m",
            "\u001b[0;31mException\u001b[0m                                 Traceback (most recent call last)",
            "\u001b[0;32m<ipython-input-154-7e5bd013cdf9>\u001b[0m in \u001b[0;36m<module>\u001b[0;34m()\u001b[0m\n\u001b[0;32m----> 1\u001b[0;31m \u001b[0mg\u001b[0m \u001b[0;34m=\u001b[0m \u001b[0msns\u001b[0m\u001b[0;34m.\u001b[0m\u001b[0mbarplot\u001b[0m\u001b[0;34m(\u001b[0m\u001b[0mx\u001b[0m\u001b[0;34m=\u001b[0m\u001b[0maccount_stage\u001b[0m\u001b[0;34m.\u001b[0m\u001b[0mvalues\u001b[0m\u001b[0;34m,\u001b[0m \u001b[0my\u001b[0m\u001b[0;34m=\u001b[0m\u001b[0maccount_stage\u001b[0m\u001b[0;34m.\u001b[0m\u001b[0mindex\u001b[0m\u001b[0;34m,\u001b[0m  \u001b[0mhue\u001b[0m\u001b[0;34m=\u001b[0m\u001b[0ml\u001b[0m\u001b[0;34m,\u001b[0m\u001b[0morient\u001b[0m\u001b[0;34m=\u001b[0m\u001b[0;34m'h'\u001b[0m\u001b[0;34m)\u001b[0m\u001b[0;34m\u001b[0m\u001b[0;34m\u001b[0m\u001b[0m\n\u001b[0m\u001b[1;32m      2\u001b[0m \u001b[0mg\u001b[0m\u001b[0;34m.\u001b[0m\u001b[0mset_title\u001b[0m\u001b[0;34m(\u001b[0m\u001b[0;34m\"Canciones por Genero Principal\"\u001b[0m\u001b[0;34m,\u001b[0m \u001b[0mfontsize\u001b[0m\u001b[0;34m=\u001b[0m\u001b[0;36m15\u001b[0m\u001b[0;34m)\u001b[0m\u001b[0;34m\u001b[0m\u001b[0;34m\u001b[0m\u001b[0m\n\u001b[1;32m      3\u001b[0m \u001b[0mg\u001b[0m\u001b[0;34m.\u001b[0m\u001b[0mset_xlabel\u001b[0m\u001b[0;34m(\u001b[0m\u001b[0;34m\"Numero de canciones\"\u001b[0m\u001b[0;34m,\u001b[0m \u001b[0mfontsize\u001b[0m\u001b[0;34m=\u001b[0m\u001b[0;36m12\u001b[0m\u001b[0;34m)\u001b[0m\u001b[0;34m\u001b[0m\u001b[0;34m\u001b[0m\u001b[0m\n\u001b[1;32m      4\u001b[0m \u001b[0mg\u001b[0m\u001b[0;34m.\u001b[0m\u001b[0mset_ylabel\u001b[0m\u001b[0;34m(\u001b[0m\u001b[0;34m\"Genero\"\u001b[0m\u001b[0;34m,\u001b[0m \u001b[0mfontsize\u001b[0m\u001b[0;34m=\u001b[0m\u001b[0;36m12\u001b[0m\u001b[0;34m)\u001b[0m\u001b[0;34m\u001b[0m\u001b[0;34m\u001b[0m\u001b[0m\n",
            "\u001b[0;32m/usr/local/lib/python3.6/dist-packages/seaborn/_decorators.py\u001b[0m in \u001b[0;36minner_f\u001b[0;34m(*args, **kwargs)\u001b[0m\n\u001b[1;32m     44\u001b[0m             )\n\u001b[1;32m     45\u001b[0m         \u001b[0mkwargs\u001b[0m\u001b[0;34m.\u001b[0m\u001b[0mupdate\u001b[0m\u001b[0;34m(\u001b[0m\u001b[0;34m{\u001b[0m\u001b[0mk\u001b[0m\u001b[0;34m:\u001b[0m \u001b[0marg\u001b[0m \u001b[0;32mfor\u001b[0m \u001b[0mk\u001b[0m\u001b[0;34m,\u001b[0m \u001b[0marg\u001b[0m \u001b[0;32min\u001b[0m \u001b[0mzip\u001b[0m\u001b[0;34m(\u001b[0m\u001b[0msig\u001b[0m\u001b[0;34m.\u001b[0m\u001b[0mparameters\u001b[0m\u001b[0;34m,\u001b[0m \u001b[0margs\u001b[0m\u001b[0;34m)\u001b[0m\u001b[0;34m}\u001b[0m\u001b[0;34m)\u001b[0m\u001b[0;34m\u001b[0m\u001b[0;34m\u001b[0m\u001b[0m\n\u001b[0;32m---> 46\u001b[0;31m         \u001b[0;32mreturn\u001b[0m \u001b[0mf\u001b[0m\u001b[0;34m(\u001b[0m\u001b[0;34m**\u001b[0m\u001b[0mkwargs\u001b[0m\u001b[0;34m)\u001b[0m\u001b[0;34m\u001b[0m\u001b[0;34m\u001b[0m\u001b[0m\n\u001b[0m\u001b[1;32m     47\u001b[0m     \u001b[0;32mreturn\u001b[0m \u001b[0minner_f\u001b[0m\u001b[0;34m\u001b[0m\u001b[0;34m\u001b[0m\u001b[0m\n\u001b[1;32m     48\u001b[0m \u001b[0;34m\u001b[0m\u001b[0m\n",
            "\u001b[0;32m/usr/local/lib/python3.6/dist-packages/seaborn/categorical.py\u001b[0m in \u001b[0;36mbarplot\u001b[0;34m(x, y, hue, data, order, hue_order, estimator, ci, n_boot, units, seed, orient, color, palette, saturation, errcolor, errwidth, capsize, dodge, ax, **kwargs)\u001b[0m\n\u001b[1;32m   3170\u001b[0m                           \u001b[0mestimator\u001b[0m\u001b[0;34m,\u001b[0m \u001b[0mci\u001b[0m\u001b[0;34m,\u001b[0m \u001b[0mn_boot\u001b[0m\u001b[0;34m,\u001b[0m \u001b[0munits\u001b[0m\u001b[0;34m,\u001b[0m \u001b[0mseed\u001b[0m\u001b[0;34m,\u001b[0m\u001b[0;34m\u001b[0m\u001b[0;34m\u001b[0m\u001b[0m\n\u001b[1;32m   3171\u001b[0m                           \u001b[0morient\u001b[0m\u001b[0;34m,\u001b[0m \u001b[0mcolor\u001b[0m\u001b[0;34m,\u001b[0m \u001b[0mpalette\u001b[0m\u001b[0;34m,\u001b[0m \u001b[0msaturation\u001b[0m\u001b[0;34m,\u001b[0m\u001b[0;34m\u001b[0m\u001b[0;34m\u001b[0m\u001b[0m\n\u001b[0;32m-> 3172\u001b[0;31m                           errcolor, errwidth, capsize, dodge)\n\u001b[0m\u001b[1;32m   3173\u001b[0m \u001b[0;34m\u001b[0m\u001b[0m\n\u001b[1;32m   3174\u001b[0m     \u001b[0;32mif\u001b[0m \u001b[0max\u001b[0m \u001b[0;32mis\u001b[0m \u001b[0;32mNone\u001b[0m\u001b[0;34m:\u001b[0m\u001b[0;34m\u001b[0m\u001b[0;34m\u001b[0m\u001b[0m\n",
            "\u001b[0;32m/usr/local/lib/python3.6/dist-packages/seaborn/categorical.py\u001b[0m in \u001b[0;36m__init__\u001b[0;34m(self, x, y, hue, data, order, hue_order, estimator, ci, n_boot, units, seed, orient, color, palette, saturation, errcolor, errwidth, capsize, dodge)\u001b[0m\n\u001b[1;32m   1583\u001b[0m         \u001b[0;34m\"\"\"Initialize the plotter.\"\"\"\u001b[0m\u001b[0;34m\u001b[0m\u001b[0;34m\u001b[0m\u001b[0m\n\u001b[1;32m   1584\u001b[0m         self.establish_variables(x, y, hue, data, orient,\n\u001b[0;32m-> 1585\u001b[0;31m                                  order, hue_order, units)\n\u001b[0m\u001b[1;32m   1586\u001b[0m         \u001b[0mself\u001b[0m\u001b[0;34m.\u001b[0m\u001b[0mestablish_colors\u001b[0m\u001b[0;34m(\u001b[0m\u001b[0mcolor\u001b[0m\u001b[0;34m,\u001b[0m \u001b[0mpalette\u001b[0m\u001b[0;34m,\u001b[0m \u001b[0msaturation\u001b[0m\u001b[0;34m)\u001b[0m\u001b[0;34m\u001b[0m\u001b[0;34m\u001b[0m\u001b[0m\n\u001b[1;32m   1587\u001b[0m         \u001b[0mself\u001b[0m\u001b[0;34m.\u001b[0m\u001b[0mestimate_statistic\u001b[0m\u001b[0;34m(\u001b[0m\u001b[0mestimator\u001b[0m\u001b[0;34m,\u001b[0m \u001b[0mci\u001b[0m\u001b[0;34m,\u001b[0m \u001b[0mn_boot\u001b[0m\u001b[0;34m,\u001b[0m \u001b[0mseed\u001b[0m\u001b[0;34m)\u001b[0m\u001b[0;34m\u001b[0m\u001b[0;34m\u001b[0m\u001b[0m\n",
            "\u001b[0;32m/usr/local/lib/python3.6/dist-packages/seaborn/categorical.py\u001b[0m in \u001b[0;36mestablish_variables\u001b[0;34m(self, x, y, hue, data, orient, order, hue_order, units)\u001b[0m\n\u001b[1;32m    205\u001b[0m                 \u001b[0;31m# Group the numeric data\u001b[0m\u001b[0;34m\u001b[0m\u001b[0;34m\u001b[0m\u001b[0;34m\u001b[0m\u001b[0m\n\u001b[1;32m    206\u001b[0m                 plot_data, value_label = self._group_longform(vals, groups,\n\u001b[0;32m--> 207\u001b[0;31m                                                               group_names)\n\u001b[0m\u001b[1;32m    208\u001b[0m \u001b[0;34m\u001b[0m\u001b[0m\n\u001b[1;32m    209\u001b[0m                 \u001b[0;31m# Now handle the hue levels for nested ordering\u001b[0m\u001b[0;34m\u001b[0m\u001b[0;34m\u001b[0m\u001b[0;34m\u001b[0m\u001b[0m\n",
            "\u001b[0;32m/usr/local/lib/python3.6/dist-packages/seaborn/categorical.py\u001b[0m in \u001b[0;36m_group_longform\u001b[0;34m(self, vals, grouper, order)\u001b[0m\n\u001b[1;32m    248\u001b[0m             \u001b[0;32melse\u001b[0m\u001b[0;34m:\u001b[0m\u001b[0;34m\u001b[0m\u001b[0;34m\u001b[0m\u001b[0m\n\u001b[1;32m    249\u001b[0m                 \u001b[0mindex\u001b[0m \u001b[0;34m=\u001b[0m \u001b[0;32mNone\u001b[0m\u001b[0;34m\u001b[0m\u001b[0;34m\u001b[0m\u001b[0m\n\u001b[0;32m--> 250\u001b[0;31m             \u001b[0mvals\u001b[0m \u001b[0;34m=\u001b[0m \u001b[0mpd\u001b[0m\u001b[0;34m.\u001b[0m\u001b[0mSeries\u001b[0m\u001b[0;34m(\u001b[0m\u001b[0mvals\u001b[0m\u001b[0;34m,\u001b[0m \u001b[0mindex\u001b[0m\u001b[0;34m=\u001b[0m\u001b[0mindex\u001b[0m\u001b[0;34m)\u001b[0m\u001b[0;34m\u001b[0m\u001b[0;34m\u001b[0m\u001b[0m\n\u001b[0m\u001b[1;32m    251\u001b[0m \u001b[0;34m\u001b[0m\u001b[0m\n\u001b[1;32m    252\u001b[0m         \u001b[0;31m# Group the val data\u001b[0m\u001b[0;34m\u001b[0m\u001b[0;34m\u001b[0m\u001b[0;34m\u001b[0m\u001b[0m\n",
            "\u001b[0;32m/usr/local/lib/python3.6/dist-packages/pandas/core/series.py\u001b[0m in \u001b[0;36m__init__\u001b[0;34m(self, data, index, dtype, name, copy, fastpath)\u001b[0m\n\u001b[1;32m    325\u001b[0m                     \u001b[0mdata\u001b[0m \u001b[0;34m=\u001b[0m \u001b[0mdata\u001b[0m\u001b[0;34m.\u001b[0m\u001b[0mcopy\u001b[0m\u001b[0;34m(\u001b[0m\u001b[0;34m)\u001b[0m\u001b[0;34m\u001b[0m\u001b[0;34m\u001b[0m\u001b[0m\n\u001b[1;32m    326\u001b[0m             \u001b[0;32melse\u001b[0m\u001b[0;34m:\u001b[0m\u001b[0;34m\u001b[0m\u001b[0;34m\u001b[0m\u001b[0m\n\u001b[0;32m--> 327\u001b[0;31m                 \u001b[0mdata\u001b[0m \u001b[0;34m=\u001b[0m \u001b[0msanitize_array\u001b[0m\u001b[0;34m(\u001b[0m\u001b[0mdata\u001b[0m\u001b[0;34m,\u001b[0m \u001b[0mindex\u001b[0m\u001b[0;34m,\u001b[0m \u001b[0mdtype\u001b[0m\u001b[0;34m,\u001b[0m \u001b[0mcopy\u001b[0m\u001b[0;34m,\u001b[0m \u001b[0mraise_cast_failure\u001b[0m\u001b[0;34m=\u001b[0m\u001b[0;32mTrue\u001b[0m\u001b[0;34m)\u001b[0m\u001b[0;34m\u001b[0m\u001b[0;34m\u001b[0m\u001b[0m\n\u001b[0m\u001b[1;32m    328\u001b[0m \u001b[0;34m\u001b[0m\u001b[0m\n\u001b[1;32m    329\u001b[0m                 \u001b[0mdata\u001b[0m \u001b[0;34m=\u001b[0m \u001b[0mSingleBlockManager\u001b[0m\u001b[0;34m.\u001b[0m\u001b[0mfrom_array\u001b[0m\u001b[0;34m(\u001b[0m\u001b[0mdata\u001b[0m\u001b[0;34m,\u001b[0m \u001b[0mindex\u001b[0m\u001b[0;34m)\u001b[0m\u001b[0;34m\u001b[0m\u001b[0;34m\u001b[0m\u001b[0m\n",
            "\u001b[0;32m/usr/local/lib/python3.6/dist-packages/pandas/core/construction.py\u001b[0m in \u001b[0;36msanitize_array\u001b[0;34m(data, index, dtype, copy, raise_cast_failure)\u001b[0m\n\u001b[1;32m    494\u001b[0m     \u001b[0;32melif\u001b[0m \u001b[0msubarr\u001b[0m\u001b[0;34m.\u001b[0m\u001b[0mndim\u001b[0m \u001b[0;34m>\u001b[0m \u001b[0;36m1\u001b[0m\u001b[0;34m:\u001b[0m\u001b[0;34m\u001b[0m\u001b[0;34m\u001b[0m\u001b[0m\n\u001b[1;32m    495\u001b[0m         \u001b[0;32mif\u001b[0m \u001b[0misinstance\u001b[0m\u001b[0;34m(\u001b[0m\u001b[0mdata\u001b[0m\u001b[0;34m,\u001b[0m \u001b[0mnp\u001b[0m\u001b[0;34m.\u001b[0m\u001b[0mndarray\u001b[0m\u001b[0;34m)\u001b[0m\u001b[0;34m:\u001b[0m\u001b[0;34m\u001b[0m\u001b[0;34m\u001b[0m\u001b[0m\n\u001b[0;32m--> 496\u001b[0;31m             \u001b[0;32mraise\u001b[0m \u001b[0mException\u001b[0m\u001b[0;34m(\u001b[0m\u001b[0;34m\"Data must be 1-dimensional\"\u001b[0m\u001b[0;34m)\u001b[0m\u001b[0;34m\u001b[0m\u001b[0;34m\u001b[0m\u001b[0m\n\u001b[0m\u001b[1;32m    497\u001b[0m         \u001b[0;32melse\u001b[0m\u001b[0;34m:\u001b[0m\u001b[0;34m\u001b[0m\u001b[0;34m\u001b[0m\u001b[0m\n\u001b[1;32m    498\u001b[0m             \u001b[0msubarr\u001b[0m \u001b[0;34m=\u001b[0m \u001b[0mcom\u001b[0m\u001b[0;34m.\u001b[0m\u001b[0masarray_tuplesafe\u001b[0m\u001b[0;34m(\u001b[0m\u001b[0mdata\u001b[0m\u001b[0;34m,\u001b[0m \u001b[0mdtype\u001b[0m\u001b[0;34m=\u001b[0m\u001b[0mdtype\u001b[0m\u001b[0;34m)\u001b[0m\u001b[0;34m\u001b[0m\u001b[0;34m\u001b[0m\u001b[0m\n",
            "\u001b[0;31mException\u001b[0m: Data must be 1-dimensional"
          ]
        }
      ]
    },
    {
      "cell_type": "code",
      "metadata": {
        "id": "aR8LvmQpxTLm",
        "outputId": "df13d4e9-ce20-4813-9a49-02adb8a6fa8a",
        "colab": {
          "base_uri": "https://localhost:8080/",
          "height": 720
        }
      },
      "source": [
        "fig, ax = plt.subplots(figsize=(12,10) )\n",
        "g = sns.heatmap(account_stage, ax=ax, linewidths=.9, cmap=\"YlGnBu\") # annot=True\n",
        "g.set_title(\"Cantidad de cuentas por combinacion de tipo de cuenta y stage\", fontsize=22)\n",
        "g.set_xlabel(\"Tipo de Stage\",fontsize=15)\n",
        "g.set_ylabel(\"Tipo de Cuenta\", fontsize=15)\n"
      ],
      "execution_count": null,
      "outputs": [
        {
          "output_type": "stream",
          "text": [
            "/usr/local/lib/python3.6/dist-packages/matplotlib/backends/backend_agg.py:214: RuntimeWarning: Glyph 9 missing from current font.\n",
            "  font.set_text(s, 0.0, flags=flags)\n",
            "/usr/local/lib/python3.6/dist-packages/matplotlib/backends/backend_agg.py:183: RuntimeWarning: Glyph 9 missing from current font.\n",
            "  font.set_text(s, 0, flags=flags)\n"
          ],
          "name": "stderr"
        },
        {
          "output_type": "execute_result",
          "data": {
            "text/plain": [
              "Text(86.09375, 0.5, 'Tipo de Cuenta')"
            ]
          },
          "metadata": {
            "tags": []
          },
          "execution_count": 43
        },
        {
          "output_type": "display_data",
          "data": {
            "image/png": "[encoded data removed]",
            "text/plain": [
              "<Figure size 864x720 with 2 Axes>"
            ]
          },
          "metadata": {
            "tags": [],
            "needs_background": "light"
          }
        }
      ]
    },
    {
      "cell_type": "code",
      "metadata": {
        "id": "7BlZElBDoO_b",
        "outputId": "389dd555-3637-42f0-8c6e-966c37d6434a",
        "colab": {
          "base_uri": "https://localhost:8080/",
          "height": 238
        }
      },
      "source": [
        "relacion=entrenamiento.groupby(['Account_Type','Territory']).agg(cantidadTerritorio=('Stage','count'))\n",
        "relacion.columns=['cantidad_cuentas_territorio']\n",
        "relacion.head()"
      ],
      "execution_count": null,
      "outputs": [
        {
          "output_type": "execute_result",
          "data": {
            "text/html": [
              "<div>\n",
              "<style scoped>\n",
              "    .dataframe tbody tr th:only-of-type {\n",
              "        vertical-align: middle;\n",
              "    }\n",
              "\n",
              "    .dataframe tbody tr th {\n",
              "        vertical-align: top;\n",
              "    }\n",
              "\n",
              "    .dataframe thead th {\n",
              "        text-align: right;\n",
              "    }\n",
              "</style>\n",
              "<table border=\"1\" class=\"dataframe\">\n",
              "  <thead>\n",
              "    <tr style=\"text-align: right;\">\n",
              "      <th></th>\n",
              "      <th></th>\n",
              "      <th>cantidad_cuentas_territorio</th>\n",
              "    </tr>\n",
              "    <tr>\n",
              "      <th>Account_Type</th>\n",
              "      <th>Territory</th>\n",
              "      <th></th>\n",
              "    </tr>\n",
              "  </thead>\n",
              "  <tbody>\n",
              "    <tr>\n",
              "      <th rowspan=\"5\" valign=\"top\">Account_Type_0</th>\n",
              "      <th>Australia</th>\n",
              "      <td>870</td>\n",
              "    </tr>\n",
              "    <tr>\n",
              "      <th>Austria</th>\n",
              "      <td>139</td>\n",
              "    </tr>\n",
              "    <tr>\n",
              "      <th>Belgium</th>\n",
              "      <td>133</td>\n",
              "    </tr>\n",
              "    <tr>\n",
              "      <th>Bosnia &amp; Herzegovina</th>\n",
              "      <td>3</td>\n",
              "    </tr>\n",
              "    <tr>\n",
              "      <th>Bulgaria</th>\n",
              "      <td>1</td>\n",
              "    </tr>\n",
              "  </tbody>\n",
              "</table>\n",
              "</div>"
            ],
            "text/plain": [
              "                                     cantidad_cuentas_territorio\n",
              "Account_Type   Territory                                        \n",
              "Account_Type_0 Australia                                     870\n",
              "               Austria                                       139\n",
              "               Belgium                                       133\n",
              "               Bosnia & Herzegovina                            3\n",
              "               Bulgaria                                        1"
            ]
          },
          "metadata": {
            "tags": []
          },
          "execution_count": 8
        }
      ]
    },
    {
      "cell_type": "code",
      "metadata": {
        "id": "Zr-1AGjTptdo"
      },
      "source": [
        "relacion['account_territory_media']=relacion['cantidad_cuentas_territorio'].transform(lambda x: x> x.mean())"
      ],
      "execution_count": null,
      "outputs": []
    },
    {
      "cell_type": "code",
      "metadata": {
        "id": "a3mCeLZOq1ao",
        "outputId": "959dfeca-b47f-4235-8ef1-76ebfbff84d9",
        "colab": {
          "base_uri": "https://localhost:8080/",
          "height": 238
        }
      },
      "source": [
        "acount_territory=relacion[relacion['account_territory_media']]\n",
        "acount_territory.head()\n"
      ],
      "execution_count": null,
      "outputs": [
        {
          "output_type": "execute_result",
          "data": {
            "text/html": [
              "<div>\n",
              "<style scoped>\n",
              "    .dataframe tbody tr th:only-of-type {\n",
              "        vertical-align: middle;\n",
              "    }\n",
              "\n",
              "    .dataframe tbody tr th {\n",
              "        vertical-align: top;\n",
              "    }\n",
              "\n",
              "    .dataframe thead th {\n",
              "        text-align: right;\n",
              "    }\n",
              "</style>\n",
              "<table border=\"1\" class=\"dataframe\">\n",
              "  <thead>\n",
              "    <tr style=\"text-align: right;\">\n",
              "      <th></th>\n",
              "      <th></th>\n",
              "      <th>cantidad_cuentas_territorio</th>\n",
              "      <th>account_territory_media</th>\n",
              "    </tr>\n",
              "    <tr>\n",
              "      <th>Account_Type</th>\n",
              "      <th>Territory</th>\n",
              "      <th></th>\n",
              "      <th></th>\n",
              "    </tr>\n",
              "  </thead>\n",
              "  <tbody>\n",
              "    <tr>\n",
              "      <th rowspan=\"5\" valign=\"top\">Account_Type_0</th>\n",
              "      <th>Australia</th>\n",
              "      <td>870</td>\n",
              "      <td>True</td>\n",
              "    </tr>\n",
              "    <tr>\n",
              "      <th>Austria</th>\n",
              "      <td>139</td>\n",
              "      <td>True</td>\n",
              "    </tr>\n",
              "    <tr>\n",
              "      <th>Belgium</th>\n",
              "      <td>133</td>\n",
              "      <td>True</td>\n",
              "    </tr>\n",
              "    <tr>\n",
              "      <th>China (PRC)</th>\n",
              "      <td>213</td>\n",
              "      <td>True</td>\n",
              "    </tr>\n",
              "    <tr>\n",
              "      <th>France</th>\n",
              "      <td>127</td>\n",
              "      <td>True</td>\n",
              "    </tr>\n",
              "  </tbody>\n",
              "</table>\n",
              "</div>"
            ],
            "text/plain": [
              "                            cantidad_cuentas_territorio  account_territory_media\n",
              "Account_Type   Territory                                                        \n",
              "Account_Type_0 Australia                            870                     True\n",
              "               Austria                              139                     True\n",
              "               Belgium                              133                     True\n",
              "               China (PRC)                          213                     True\n",
              "               France                               127                     True"
            ]
          },
          "metadata": {
            "tags": []
          },
          "execution_count": 30
        }
      ]
    },
    {
      "cell_type": "code",
      "metadata": {
        "id": "uCz-0mb7uJ4U",
        "outputId": "166d0201-c6a3-4b57-e405-7cb556b0622b",
        "colab": {
          "base_uri": "https://localhost:8080/",
          "height": 1000
        }
      },
      "source": [
        "acount_territory=acount_territory.reset_index()\n",
        "acount_territory[['Account_Type','cantidad_cuentas_territorio']]"
      ],
      "execution_count": null,
      "outputs": [
        {
          "output_type": "execute_result",
          "data": {
            "text/html": [
              "<div>\n",
              "<style scoped>\n",
              "    .dataframe tbody tr th:only-of-type {\n",
              "        vertical-align: middle;\n",
              "    }\n",
              "\n",
              "    .dataframe tbody tr th {\n",
              "        vertical-align: top;\n",
              "    }\n",
              "\n",
              "    .dataframe thead th {\n",
              "        text-align: right;\n",
              "    }\n",
              "</style>\n",
              "<table border=\"1\" class=\"dataframe\">\n",
              "  <thead>\n",
              "    <tr style=\"text-align: right;\">\n",
              "      <th></th>\n",
              "      <th>Account_Type</th>\n",
              "      <th>cantidad_cuentas_territorio</th>\n",
              "    </tr>\n",
              "  </thead>\n",
              "  <tbody>\n",
              "    <tr>\n",
              "      <th>0</th>\n",
              "      <td>Account_Type_0</td>\n",
              "      <td>870</td>\n",
              "    </tr>\n",
              "    <tr>\n",
              "      <th>1</th>\n",
              "      <td>Account_Type_0</td>\n",
              "      <td>139</td>\n",
              "    </tr>\n",
              "    <tr>\n",
              "      <th>2</th>\n",
              "      <td>Account_Type_0</td>\n",
              "      <td>133</td>\n",
              "    </tr>\n",
              "    <tr>\n",
              "      <th>3</th>\n",
              "      <td>Account_Type_0</td>\n",
              "      <td>213</td>\n",
              "    </tr>\n",
              "    <tr>\n",
              "      <th>4</th>\n",
              "      <td>Account_Type_0</td>\n",
              "      <td>127</td>\n",
              "    </tr>\n",
              "    <tr>\n",
              "      <th>5</th>\n",
              "      <td>Account_Type_0</td>\n",
              "      <td>928</td>\n",
              "    </tr>\n",
              "    <tr>\n",
              "      <th>6</th>\n",
              "      <td>Account_Type_0</td>\n",
              "      <td>110</td>\n",
              "    </tr>\n",
              "    <tr>\n",
              "      <th>7</th>\n",
              "      <td>Account_Type_0</td>\n",
              "      <td>248</td>\n",
              "    </tr>\n",
              "    <tr>\n",
              "      <th>8</th>\n",
              "      <td>Account_Type_0</td>\n",
              "      <td>464</td>\n",
              "    </tr>\n",
              "    <tr>\n",
              "      <th>9</th>\n",
              "      <td>Account_Type_0</td>\n",
              "      <td>109</td>\n",
              "    </tr>\n",
              "    <tr>\n",
              "      <th>10</th>\n",
              "      <td>Account_Type_0</td>\n",
              "      <td>845</td>\n",
              "    </tr>\n",
              "    <tr>\n",
              "      <th>11</th>\n",
              "      <td>Account_Type_0</td>\n",
              "      <td>280</td>\n",
              "    </tr>\n",
              "    <tr>\n",
              "      <th>12</th>\n",
              "      <td>Account_Type_0</td>\n",
              "      <td>454</td>\n",
              "    </tr>\n",
              "    <tr>\n",
              "      <th>13</th>\n",
              "      <td>Account_Type_0</td>\n",
              "      <td>245</td>\n",
              "    </tr>\n",
              "    <tr>\n",
              "      <th>14</th>\n",
              "      <td>Account_Type_0</td>\n",
              "      <td>168</td>\n",
              "    </tr>\n",
              "    <tr>\n",
              "      <th>15</th>\n",
              "      <td>Account_Type_2</td>\n",
              "      <td>272</td>\n",
              "    </tr>\n",
              "    <tr>\n",
              "      <th>16</th>\n",
              "      <td>Account_Type_2</td>\n",
              "      <td>152</td>\n",
              "    </tr>\n",
              "    <tr>\n",
              "      <th>17</th>\n",
              "      <td>Account_Type_2</td>\n",
              "      <td>199</td>\n",
              "    </tr>\n",
              "    <tr>\n",
              "      <th>18</th>\n",
              "      <td>Account_Type_2</td>\n",
              "      <td>130</td>\n",
              "    </tr>\n",
              "    <tr>\n",
              "      <th>19</th>\n",
              "      <td>Account_Type_2</td>\n",
              "      <td>449</td>\n",
              "    </tr>\n",
              "    <tr>\n",
              "      <th>20</th>\n",
              "      <td>Account_Type_2</td>\n",
              "      <td>511</td>\n",
              "    </tr>\n",
              "    <tr>\n",
              "      <th>21</th>\n",
              "      <td>Account_Type_2</td>\n",
              "      <td>181</td>\n",
              "    </tr>\n",
              "    <tr>\n",
              "      <th>22</th>\n",
              "      <td>Account_Type_2</td>\n",
              "      <td>92</td>\n",
              "    </tr>\n",
              "    <tr>\n",
              "      <th>23</th>\n",
              "      <td>Account_Type_2</td>\n",
              "      <td>543</td>\n",
              "    </tr>\n",
              "    <tr>\n",
              "      <th>24</th>\n",
              "      <td>Account_Type_2</td>\n",
              "      <td>459</td>\n",
              "    </tr>\n",
              "    <tr>\n",
              "      <th>25</th>\n",
              "      <td>Account_Type_2</td>\n",
              "      <td>127</td>\n",
              "    </tr>\n",
              "    <tr>\n",
              "      <th>26</th>\n",
              "      <td>Account_Type_2</td>\n",
              "      <td>4315</td>\n",
              "    </tr>\n",
              "    <tr>\n",
              "      <th>27</th>\n",
              "      <td>Account_Type_2</td>\n",
              "      <td>227</td>\n",
              "    </tr>\n",
              "    <tr>\n",
              "      <th>28</th>\n",
              "      <td>Account_Type_2</td>\n",
              "      <td>109</td>\n",
              "    </tr>\n",
              "    <tr>\n",
              "      <th>29</th>\n",
              "      <td>Account_Type_2</td>\n",
              "      <td>390</td>\n",
              "    </tr>\n",
              "    <tr>\n",
              "      <th>30</th>\n",
              "      <td>Account_Type_2</td>\n",
              "      <td>127</td>\n",
              "    </tr>\n",
              "    <tr>\n",
              "      <th>31</th>\n",
              "      <td>Account_Type_2</td>\n",
              "      <td>91</td>\n",
              "    </tr>\n",
              "    <tr>\n",
              "      <th>32</th>\n",
              "      <td>Account_Type_5</td>\n",
              "      <td>189</td>\n",
              "    </tr>\n",
              "    <tr>\n",
              "      <th>33</th>\n",
              "      <td>Account_Type_5</td>\n",
              "      <td>302</td>\n",
              "    </tr>\n",
              "    <tr>\n",
              "      <th>34</th>\n",
              "      <td>Account_Type_5</td>\n",
              "      <td>184</td>\n",
              "    </tr>\n",
              "    <tr>\n",
              "      <th>35</th>\n",
              "      <td>Account_Type_5</td>\n",
              "      <td>99</td>\n",
              "    </tr>\n",
              "    <tr>\n",
              "      <th>36</th>\n",
              "      <td>Account_Type_5</td>\n",
              "      <td>229</td>\n",
              "    </tr>\n",
              "    <tr>\n",
              "      <th>37</th>\n",
              "      <td>Account_Type_5</td>\n",
              "      <td>126</td>\n",
              "    </tr>\n",
              "    <tr>\n",
              "      <th>38</th>\n",
              "      <td>Account_Type_5</td>\n",
              "      <td>207</td>\n",
              "    </tr>\n",
              "    <tr>\n",
              "      <th>39</th>\n",
              "      <td>Account_Type_5</td>\n",
              "      <td>129</td>\n",
              "    </tr>\n",
              "  </tbody>\n",
              "</table>\n",
              "</div>"
            ],
            "text/plain": [
              "      Account_Type  cantidad_cuentas_territorio\n",
              "0   Account_Type_0                          870\n",
              "1   Account_Type_0                          139\n",
              "2   Account_Type_0                          133\n",
              "3   Account_Type_0                          213\n",
              "4   Account_Type_0                          127\n",
              "5   Account_Type_0                          928\n",
              "6   Account_Type_0                          110\n",
              "7   Account_Type_0                          248\n",
              "8   Account_Type_0                          464\n",
              "9   Account_Type_0                          109\n",
              "10  Account_Type_0                          845\n",
              "11  Account_Type_0                          280\n",
              "12  Account_Type_0                          454\n",
              "13  Account_Type_0                          245\n",
              "14  Account_Type_0                          168\n",
              "15  Account_Type_2                          272\n",
              "16  Account_Type_2                          152\n",
              "17  Account_Type_2                          199\n",
              "18  Account_Type_2                          130\n",
              "19  Account_Type_2                          449\n",
              "20  Account_Type_2                          511\n",
              "21  Account_Type_2                          181\n",
              "22  Account_Type_2                           92\n",
              "23  Account_Type_2                          543\n",
              "24  Account_Type_2                          459\n",
              "25  Account_Type_2                          127\n",
              "26  Account_Type_2                         4315\n",
              "27  Account_Type_2                          227\n",
              "28  Account_Type_2                          109\n",
              "29  Account_Type_2                          390\n",
              "30  Account_Type_2                          127\n",
              "31  Account_Type_2                           91\n",
              "32  Account_Type_5                          189\n",
              "33  Account_Type_5                          302\n",
              "34  Account_Type_5                          184\n",
              "35  Account_Type_5                           99\n",
              "36  Account_Type_5                          229\n",
              "37  Account_Type_5                          126\n",
              "38  Account_Type_5                          207\n",
              "39  Account_Type_5                          129"
            ]
          },
          "metadata": {
            "tags": []
          },
          "execution_count": 33
        }
      ]
    },
    {
      "cell_type": "code",
      "metadata": {
        "id": "pPJ1JdjwtpUH",
        "outputId": "394956ce-b388-482c-e085-8f1bd4cfa94d",
        "colab": {
          "base_uri": "https://localhost:8080/",
          "height": 1000
        }
      },
      "source": [
        "fig, ax = plt.subplots(figsize=(12,10) )\n",
        "g = sns.heatmap(acount_territory, ax=ax, linewidths=.9, cmap=\"YlGnBu\") # annot=True\n",
        "g.set_title(\"Cantidad de Proyectos por combinacion de Año y Mes\", fontsize=22)\n",
        "g.set_xlabel(\"Mes de Lanzamiento del Proyecto\",fontsize=15)\n",
        "g.set_ylabel(\"Año de Lanzamiento del Proyecto\", fontsize=15)\n"
      ],
      "execution_count": null,
      "outputs": [
        {
          "output_type": "error",
          "ename": "TypeError",
          "evalue": "ignored",
          "traceback": [
            "\u001b[0;31m---------------------------------------------------------------------------\u001b[0m",
            "\u001b[0;31mTypeError\u001b[0m                                 Traceback (most recent call last)",
            "\u001b[0;32m<ipython-input-17-3c49faac1c5c>\u001b[0m in \u001b[0;36m<module>\u001b[0;34m()\u001b[0m\n\u001b[1;32m      1\u001b[0m \u001b[0mfig\u001b[0m\u001b[0;34m,\u001b[0m \u001b[0max\u001b[0m \u001b[0;34m=\u001b[0m \u001b[0mplt\u001b[0m\u001b[0;34m.\u001b[0m\u001b[0msubplots\u001b[0m\u001b[0;34m(\u001b[0m\u001b[0mfigsize\u001b[0m\u001b[0;34m=\u001b[0m\u001b[0;34m(\u001b[0m\u001b[0;36m12\u001b[0m\u001b[0;34m,\u001b[0m\u001b[0;36m10\u001b[0m\u001b[0;34m)\u001b[0m \u001b[0;34m)\u001b[0m\u001b[0;34m\u001b[0m\u001b[0;34m\u001b[0m\u001b[0m\n\u001b[0;32m----> 2\u001b[0;31m \u001b[0mg\u001b[0m \u001b[0;34m=\u001b[0m \u001b[0msns\u001b[0m\u001b[0;34m.\u001b[0m\u001b[0mheatmap\u001b[0m\u001b[0;34m(\u001b[0m\u001b[0macount_territory\u001b[0m\u001b[0;34m,\u001b[0m \u001b[0max\u001b[0m\u001b[0;34m=\u001b[0m\u001b[0max\u001b[0m\u001b[0;34m,\u001b[0m \u001b[0mlinewidths\u001b[0m\u001b[0;34m=\u001b[0m\u001b[0;36m.9\u001b[0m\u001b[0;34m,\u001b[0m \u001b[0mcmap\u001b[0m\u001b[0;34m=\u001b[0m\u001b[0;34m\"YlGnBu\"\u001b[0m\u001b[0;34m)\u001b[0m \u001b[0;31m# annot=True\u001b[0m\u001b[0;34m\u001b[0m\u001b[0;34m\u001b[0m\u001b[0m\n\u001b[0m\u001b[1;32m      3\u001b[0m \u001b[0mg\u001b[0m\u001b[0;34m.\u001b[0m\u001b[0mset_title\u001b[0m\u001b[0;34m(\u001b[0m\u001b[0;34m\"Cantidad de Proyectos por combinacion de Año y Mes\"\u001b[0m\u001b[0;34m,\u001b[0m \u001b[0mfontsize\u001b[0m\u001b[0;34m=\u001b[0m\u001b[0;36m22\u001b[0m\u001b[0;34m)\u001b[0m\u001b[0;34m\u001b[0m\u001b[0;34m\u001b[0m\u001b[0m\n\u001b[1;32m      4\u001b[0m \u001b[0mg\u001b[0m\u001b[0;34m.\u001b[0m\u001b[0mset_xlabel\u001b[0m\u001b[0;34m(\u001b[0m\u001b[0;34m\"Mes de Lanzamiento del Proyecto\"\u001b[0m\u001b[0;34m,\u001b[0m\u001b[0mfontsize\u001b[0m\u001b[0;34m=\u001b[0m\u001b[0;36m15\u001b[0m\u001b[0;34m)\u001b[0m\u001b[0;34m\u001b[0m\u001b[0;34m\u001b[0m\u001b[0m\n\u001b[1;32m      5\u001b[0m \u001b[0mg\u001b[0m\u001b[0;34m.\u001b[0m\u001b[0mset_ylabel\u001b[0m\u001b[0;34m(\u001b[0m\u001b[0;34m\"Año de Lanzamiento del Proyecto\"\u001b[0m\u001b[0;34m,\u001b[0m \u001b[0mfontsize\u001b[0m\u001b[0;34m=\u001b[0m\u001b[0;36m15\u001b[0m\u001b[0;34m)\u001b[0m\u001b[0;34m\u001b[0m\u001b[0;34m\u001b[0m\u001b[0m\n",
            "\u001b[0;32m/usr/local/lib/python3.6/dist-packages/seaborn/_decorators.py\u001b[0m in \u001b[0;36minner_f\u001b[0;34m(*args, **kwargs)\u001b[0m\n\u001b[1;32m     44\u001b[0m             )\n\u001b[1;32m     45\u001b[0m         \u001b[0mkwargs\u001b[0m\u001b[0;34m.\u001b[0m\u001b[0mupdate\u001b[0m\u001b[0;34m(\u001b[0m\u001b[0;34m{\u001b[0m\u001b[0mk\u001b[0m\u001b[0;34m:\u001b[0m \u001b[0marg\u001b[0m \u001b[0;32mfor\u001b[0m \u001b[0mk\u001b[0m\u001b[0;34m,\u001b[0m \u001b[0marg\u001b[0m \u001b[0;32min\u001b[0m \u001b[0mzip\u001b[0m\u001b[0;34m(\u001b[0m\u001b[0msig\u001b[0m\u001b[0;34m.\u001b[0m\u001b[0mparameters\u001b[0m\u001b[0;34m,\u001b[0m \u001b[0margs\u001b[0m\u001b[0;34m)\u001b[0m\u001b[0;34m}\u001b[0m\u001b[0;34m)\u001b[0m\u001b[0;34m\u001b[0m\u001b[0;34m\u001b[0m\u001b[0m\n\u001b[0;32m---> 46\u001b[0;31m         \u001b[0;32mreturn\u001b[0m \u001b[0mf\u001b[0m\u001b[0;34m(\u001b[0m\u001b[0;34m**\u001b[0m\u001b[0mkwargs\u001b[0m\u001b[0;34m)\u001b[0m\u001b[0;34m\u001b[0m\u001b[0;34m\u001b[0m\u001b[0m\n\u001b[0m\u001b[1;32m     47\u001b[0m     \u001b[0;32mreturn\u001b[0m \u001b[0minner_f\u001b[0m\u001b[0;34m\u001b[0m\u001b[0;34m\u001b[0m\u001b[0m\n\u001b[1;32m     48\u001b[0m \u001b[0;34m\u001b[0m\u001b[0m\n",
            "\u001b[0;32m/usr/local/lib/python3.6/dist-packages/seaborn/matrix.py\u001b[0m in \u001b[0;36mheatmap\u001b[0;34m(data, vmin, vmax, cmap, center, robust, annot, fmt, annot_kws, linewidths, linecolor, cbar, cbar_kws, cbar_ax, square, xticklabels, yticklabels, mask, ax, **kwargs)\u001b[0m\n\u001b[1;32m    556\u001b[0m     \u001b[0;32mif\u001b[0m \u001b[0msquare\u001b[0m\u001b[0;34m:\u001b[0m\u001b[0;34m\u001b[0m\u001b[0;34m\u001b[0m\u001b[0m\n\u001b[1;32m    557\u001b[0m         \u001b[0max\u001b[0m\u001b[0;34m.\u001b[0m\u001b[0mset_aspect\u001b[0m\u001b[0;34m(\u001b[0m\u001b[0;34m\"equal\"\u001b[0m\u001b[0;34m)\u001b[0m\u001b[0;34m\u001b[0m\u001b[0;34m\u001b[0m\u001b[0m\n\u001b[0;32m--> 558\u001b[0;31m     \u001b[0mplotter\u001b[0m\u001b[0;34m.\u001b[0m\u001b[0mplot\u001b[0m\u001b[0;34m(\u001b[0m\u001b[0max\u001b[0m\u001b[0;34m,\u001b[0m \u001b[0mcbar_ax\u001b[0m\u001b[0;34m,\u001b[0m \u001b[0mkwargs\u001b[0m\u001b[0;34m)\u001b[0m\u001b[0;34m\u001b[0m\u001b[0;34m\u001b[0m\u001b[0m\n\u001b[0m\u001b[1;32m    559\u001b[0m     \u001b[0;32mreturn\u001b[0m \u001b[0max\u001b[0m\u001b[0;34m\u001b[0m\u001b[0;34m\u001b[0m\u001b[0m\n\u001b[1;32m    560\u001b[0m \u001b[0;34m\u001b[0m\u001b[0m\n",
            "\u001b[0;32m/usr/local/lib/python3.6/dist-packages/seaborn/matrix.py\u001b[0m in \u001b[0;36mplot\u001b[0;34m(self, ax, cax, kws)\u001b[0m\n\u001b[1;32m    340\u001b[0m         \u001b[0;31m# Possibly rotate them if they overlap\u001b[0m\u001b[0;34m\u001b[0m\u001b[0;34m\u001b[0m\u001b[0;34m\u001b[0m\u001b[0m\n\u001b[1;32m    341\u001b[0m         \u001b[0;32mif\u001b[0m \u001b[0mhasattr\u001b[0m\u001b[0;34m(\u001b[0m\u001b[0max\u001b[0m\u001b[0;34m.\u001b[0m\u001b[0mfigure\u001b[0m\u001b[0;34m.\u001b[0m\u001b[0mcanvas\u001b[0m\u001b[0;34m,\u001b[0m \u001b[0;34m\"get_renderer\"\u001b[0m\u001b[0;34m)\u001b[0m\u001b[0;34m:\u001b[0m\u001b[0;34m\u001b[0m\u001b[0;34m\u001b[0m\u001b[0m\n\u001b[0;32m--> 342\u001b[0;31m             \u001b[0max\u001b[0m\u001b[0;34m.\u001b[0m\u001b[0mfigure\u001b[0m\u001b[0;34m.\u001b[0m\u001b[0mdraw\u001b[0m\u001b[0;34m(\u001b[0m\u001b[0max\u001b[0m\u001b[0;34m.\u001b[0m\u001b[0mfigure\u001b[0m\u001b[0;34m.\u001b[0m\u001b[0mcanvas\u001b[0m\u001b[0;34m.\u001b[0m\u001b[0mget_renderer\u001b[0m\u001b[0;34m(\u001b[0m\u001b[0;34m)\u001b[0m\u001b[0;34m)\u001b[0m\u001b[0;34m\u001b[0m\u001b[0;34m\u001b[0m\u001b[0m\n\u001b[0m\u001b[1;32m    343\u001b[0m         \u001b[0;32mif\u001b[0m \u001b[0maxis_ticklabels_overlap\u001b[0m\u001b[0;34m(\u001b[0m\u001b[0mxtl\u001b[0m\u001b[0;34m)\u001b[0m\u001b[0;34m:\u001b[0m\u001b[0;34m\u001b[0m\u001b[0;34m\u001b[0m\u001b[0m\n\u001b[1;32m    344\u001b[0m             \u001b[0mplt\u001b[0m\u001b[0;34m.\u001b[0m\u001b[0msetp\u001b[0m\u001b[0;34m(\u001b[0m\u001b[0mxtl\u001b[0m\u001b[0;34m,\u001b[0m \u001b[0mrotation\u001b[0m\u001b[0;34m=\u001b[0m\u001b[0;34m\"vertical\"\u001b[0m\u001b[0;34m)\u001b[0m\u001b[0;34m\u001b[0m\u001b[0;34m\u001b[0m\u001b[0m\n",
            "\u001b[0;32m/usr/local/lib/python3.6/dist-packages/matplotlib/artist.py\u001b[0m in \u001b[0;36mdraw_wrapper\u001b[0;34m(artist, renderer, *args, **kwargs)\u001b[0m\n\u001b[1;32m     36\u001b[0m                 \u001b[0mrenderer\u001b[0m\u001b[0;34m.\u001b[0m\u001b[0mstart_filter\u001b[0m\u001b[0;34m(\u001b[0m\u001b[0;34m)\u001b[0m\u001b[0;34m\u001b[0m\u001b[0;34m\u001b[0m\u001b[0m\n\u001b[1;32m     37\u001b[0m \u001b[0;34m\u001b[0m\u001b[0m\n\u001b[0;32m---> 38\u001b[0;31m             \u001b[0;32mreturn\u001b[0m \u001b[0mdraw\u001b[0m\u001b[0;34m(\u001b[0m\u001b[0martist\u001b[0m\u001b[0;34m,\u001b[0m \u001b[0mrenderer\u001b[0m\u001b[0;34m,\u001b[0m \u001b[0;34m*\u001b[0m\u001b[0margs\u001b[0m\u001b[0;34m,\u001b[0m \u001b[0;34m**\u001b[0m\u001b[0mkwargs\u001b[0m\u001b[0;34m)\u001b[0m\u001b[0;34m\u001b[0m\u001b[0;34m\u001b[0m\u001b[0m\n\u001b[0m\u001b[1;32m     39\u001b[0m         \u001b[0;32mfinally\u001b[0m\u001b[0;34m:\u001b[0m\u001b[0;34m\u001b[0m\u001b[0;34m\u001b[0m\u001b[0m\n\u001b[1;32m     40\u001b[0m             \u001b[0;32mif\u001b[0m \u001b[0martist\u001b[0m\u001b[0;34m.\u001b[0m\u001b[0mget_agg_filter\u001b[0m\u001b[0;34m(\u001b[0m\u001b[0;34m)\u001b[0m \u001b[0;32mis\u001b[0m \u001b[0;32mnot\u001b[0m \u001b[0;32mNone\u001b[0m\u001b[0;34m:\u001b[0m\u001b[0;34m\u001b[0m\u001b[0;34m\u001b[0m\u001b[0m\n",
            "\u001b[0;32m/usr/local/lib/python3.6/dist-packages/matplotlib/figure.py\u001b[0m in \u001b[0;36mdraw\u001b[0;34m(self, renderer)\u001b[0m\n\u001b[1;32m   1734\u001b[0m             \u001b[0mself\u001b[0m\u001b[0;34m.\u001b[0m\u001b[0mpatch\u001b[0m\u001b[0;34m.\u001b[0m\u001b[0mdraw\u001b[0m\u001b[0;34m(\u001b[0m\u001b[0mrenderer\u001b[0m\u001b[0;34m)\u001b[0m\u001b[0;34m\u001b[0m\u001b[0;34m\u001b[0m\u001b[0m\n\u001b[1;32m   1735\u001b[0m             mimage._draw_list_compositing_images(\n\u001b[0;32m-> 1736\u001b[0;31m                 renderer, self, artists, self.suppressComposite)\n\u001b[0m\u001b[1;32m   1737\u001b[0m \u001b[0;34m\u001b[0m\u001b[0m\n\u001b[1;32m   1738\u001b[0m             \u001b[0mrenderer\u001b[0m\u001b[0;34m.\u001b[0m\u001b[0mclose_group\u001b[0m\u001b[0;34m(\u001b[0m\u001b[0;34m'figure'\u001b[0m\u001b[0;34m)\u001b[0m\u001b[0;34m\u001b[0m\u001b[0;34m\u001b[0m\u001b[0m\n",
            "\u001b[0;32m/usr/local/lib/python3.6/dist-packages/matplotlib/image.py\u001b[0m in \u001b[0;36m_draw_list_compositing_images\u001b[0;34m(renderer, parent, artists, suppress_composite)\u001b[0m\n\u001b[1;32m    135\u001b[0m     \u001b[0;32mif\u001b[0m \u001b[0mnot_composite\u001b[0m \u001b[0;32mor\u001b[0m \u001b[0;32mnot\u001b[0m \u001b[0mhas_images\u001b[0m\u001b[0;34m:\u001b[0m\u001b[0;34m\u001b[0m\u001b[0;34m\u001b[0m\u001b[0m\n\u001b[1;32m    136\u001b[0m         \u001b[0;32mfor\u001b[0m \u001b[0ma\u001b[0m \u001b[0;32min\u001b[0m \u001b[0martists\u001b[0m\u001b[0;34m:\u001b[0m\u001b[0;34m\u001b[0m\u001b[0;34m\u001b[0m\u001b[0m\n\u001b[0;32m--> 137\u001b[0;31m             \u001b[0ma\u001b[0m\u001b[0;34m.\u001b[0m\u001b[0mdraw\u001b[0m\u001b[0;34m(\u001b[0m\u001b[0mrenderer\u001b[0m\u001b[0;34m)\u001b[0m\u001b[0;34m\u001b[0m\u001b[0;34m\u001b[0m\u001b[0m\n\u001b[0m\u001b[1;32m    138\u001b[0m     \u001b[0;32melse\u001b[0m\u001b[0;34m:\u001b[0m\u001b[0;34m\u001b[0m\u001b[0;34m\u001b[0m\u001b[0m\n\u001b[1;32m    139\u001b[0m         \u001b[0;31m# Composite any adjacent images together\u001b[0m\u001b[0;34m\u001b[0m\u001b[0;34m\u001b[0m\u001b[0;34m\u001b[0m\u001b[0m\n",
            "\u001b[0;32m/usr/local/lib/python3.6/dist-packages/matplotlib/artist.py\u001b[0m in \u001b[0;36mdraw_wrapper\u001b[0;34m(artist, renderer, *args, **kwargs)\u001b[0m\n\u001b[1;32m     36\u001b[0m                 \u001b[0mrenderer\u001b[0m\u001b[0;34m.\u001b[0m\u001b[0mstart_filter\u001b[0m\u001b[0;34m(\u001b[0m\u001b[0;34m)\u001b[0m\u001b[0;34m\u001b[0m\u001b[0;34m\u001b[0m\u001b[0m\n\u001b[1;32m     37\u001b[0m \u001b[0;34m\u001b[0m\u001b[0m\n\u001b[0;32m---> 38\u001b[0;31m             \u001b[0;32mreturn\u001b[0m \u001b[0mdraw\u001b[0m\u001b[0;34m(\u001b[0m\u001b[0martist\u001b[0m\u001b[0;34m,\u001b[0m \u001b[0mrenderer\u001b[0m\u001b[0;34m,\u001b[0m \u001b[0;34m*\u001b[0m\u001b[0margs\u001b[0m\u001b[0;34m,\u001b[0m \u001b[0;34m**\u001b[0m\u001b[0mkwargs\u001b[0m\u001b[0;34m)\u001b[0m\u001b[0;34m\u001b[0m\u001b[0;34m\u001b[0m\u001b[0m\n\u001b[0m\u001b[1;32m     39\u001b[0m         \u001b[0;32mfinally\u001b[0m\u001b[0;34m:\u001b[0m\u001b[0;34m\u001b[0m\u001b[0;34m\u001b[0m\u001b[0m\n\u001b[1;32m     40\u001b[0m             \u001b[0;32mif\u001b[0m \u001b[0martist\u001b[0m\u001b[0;34m.\u001b[0m\u001b[0mget_agg_filter\u001b[0m\u001b[0;34m(\u001b[0m\u001b[0;34m)\u001b[0m \u001b[0;32mis\u001b[0m \u001b[0;32mnot\u001b[0m \u001b[0;32mNone\u001b[0m\u001b[0;34m:\u001b[0m\u001b[0;34m\u001b[0m\u001b[0;34m\u001b[0m\u001b[0m\n",
            "\u001b[0;32m/usr/local/lib/python3.6/dist-packages/matplotlib/axes/_base.py\u001b[0m in \u001b[0;36mdraw\u001b[0;34m(self, renderer, inframe)\u001b[0m\n\u001b[1;32m   2628\u001b[0m             \u001b[0mrenderer\u001b[0m\u001b[0;34m.\u001b[0m\u001b[0mstop_rasterizing\u001b[0m\u001b[0;34m(\u001b[0m\u001b[0;34m)\u001b[0m\u001b[0;34m\u001b[0m\u001b[0;34m\u001b[0m\u001b[0m\n\u001b[1;32m   2629\u001b[0m \u001b[0;34m\u001b[0m\u001b[0m\n\u001b[0;32m-> 2630\u001b[0;31m         \u001b[0mmimage\u001b[0m\u001b[0;34m.\u001b[0m\u001b[0m_draw_list_compositing_images\u001b[0m\u001b[0;34m(\u001b[0m\u001b[0mrenderer\u001b[0m\u001b[0;34m,\u001b[0m \u001b[0mself\u001b[0m\u001b[0;34m,\u001b[0m \u001b[0martists\u001b[0m\u001b[0;34m)\u001b[0m\u001b[0;34m\u001b[0m\u001b[0;34m\u001b[0m\u001b[0m\n\u001b[0m\u001b[1;32m   2631\u001b[0m \u001b[0;34m\u001b[0m\u001b[0m\n\u001b[1;32m   2632\u001b[0m         \u001b[0mrenderer\u001b[0m\u001b[0;34m.\u001b[0m\u001b[0mclose_group\u001b[0m\u001b[0;34m(\u001b[0m\u001b[0;34m'axes'\u001b[0m\u001b[0;34m)\u001b[0m\u001b[0;34m\u001b[0m\u001b[0;34m\u001b[0m\u001b[0m\n",
            "\u001b[0;32m/usr/local/lib/python3.6/dist-packages/matplotlib/image.py\u001b[0m in \u001b[0;36m_draw_list_compositing_images\u001b[0;34m(renderer, parent, artists, suppress_composite)\u001b[0m\n\u001b[1;32m    135\u001b[0m     \u001b[0;32mif\u001b[0m \u001b[0mnot_composite\u001b[0m \u001b[0;32mor\u001b[0m \u001b[0;32mnot\u001b[0m \u001b[0mhas_images\u001b[0m\u001b[0;34m:\u001b[0m\u001b[0;34m\u001b[0m\u001b[0;34m\u001b[0m\u001b[0m\n\u001b[1;32m    136\u001b[0m         \u001b[0;32mfor\u001b[0m \u001b[0ma\u001b[0m \u001b[0;32min\u001b[0m \u001b[0martists\u001b[0m\u001b[0;34m:\u001b[0m\u001b[0;34m\u001b[0m\u001b[0;34m\u001b[0m\u001b[0m\n\u001b[0;32m--> 137\u001b[0;31m             \u001b[0ma\u001b[0m\u001b[0;34m.\u001b[0m\u001b[0mdraw\u001b[0m\u001b[0;34m(\u001b[0m\u001b[0mrenderer\u001b[0m\u001b[0;34m)\u001b[0m\u001b[0;34m\u001b[0m\u001b[0;34m\u001b[0m\u001b[0m\n\u001b[0m\u001b[1;32m    138\u001b[0m     \u001b[0;32melse\u001b[0m\u001b[0;34m:\u001b[0m\u001b[0;34m\u001b[0m\u001b[0;34m\u001b[0m\u001b[0m\n\u001b[1;32m    139\u001b[0m         \u001b[0;31m# Composite any adjacent images together\u001b[0m\u001b[0;34m\u001b[0m\u001b[0;34m\u001b[0m\u001b[0;34m\u001b[0m\u001b[0m\n",
            "\u001b[0;32m/usr/local/lib/python3.6/dist-packages/matplotlib/artist.py\u001b[0m in \u001b[0;36mdraw_wrapper\u001b[0;34m(artist, renderer, *args, **kwargs)\u001b[0m\n\u001b[1;32m     36\u001b[0m                 \u001b[0mrenderer\u001b[0m\u001b[0;34m.\u001b[0m\u001b[0mstart_filter\u001b[0m\u001b[0;34m(\u001b[0m\u001b[0;34m)\u001b[0m\u001b[0;34m\u001b[0m\u001b[0;34m\u001b[0m\u001b[0m\n\u001b[1;32m     37\u001b[0m \u001b[0;34m\u001b[0m\u001b[0m\n\u001b[0;32m---> 38\u001b[0;31m             \u001b[0;32mreturn\u001b[0m \u001b[0mdraw\u001b[0m\u001b[0;34m(\u001b[0m\u001b[0martist\u001b[0m\u001b[0;34m,\u001b[0m \u001b[0mrenderer\u001b[0m\u001b[0;34m,\u001b[0m \u001b[0;34m*\u001b[0m\u001b[0margs\u001b[0m\u001b[0;34m,\u001b[0m \u001b[0;34m**\u001b[0m\u001b[0mkwargs\u001b[0m\u001b[0;34m)\u001b[0m\u001b[0;34m\u001b[0m\u001b[0;34m\u001b[0m\u001b[0m\n\u001b[0m\u001b[1;32m     39\u001b[0m         \u001b[0;32mfinally\u001b[0m\u001b[0;34m:\u001b[0m\u001b[0;34m\u001b[0m\u001b[0;34m\u001b[0m\u001b[0m\n\u001b[1;32m     40\u001b[0m             \u001b[0;32mif\u001b[0m \u001b[0martist\u001b[0m\u001b[0;34m.\u001b[0m\u001b[0mget_agg_filter\u001b[0m\u001b[0;34m(\u001b[0m\u001b[0;34m)\u001b[0m \u001b[0;32mis\u001b[0m \u001b[0;32mnot\u001b[0m \u001b[0;32mNone\u001b[0m\u001b[0;34m:\u001b[0m\u001b[0;34m\u001b[0m\u001b[0;34m\u001b[0m\u001b[0m\n",
            "\u001b[0;32m/usr/local/lib/python3.6/dist-packages/matplotlib/collections.py\u001b[0m in \u001b[0;36mdraw\u001b[0;34m(self, renderer)\u001b[0m\n\u001b[1;32m   2044\u001b[0m                 \u001b[0moffsets\u001b[0m \u001b[0;34m=\u001b[0m \u001b[0mnp\u001b[0m\u001b[0;34m.\u001b[0m\u001b[0mcolumn_stack\u001b[0m\u001b[0;34m(\u001b[0m\u001b[0;34m[\u001b[0m\u001b[0mxs\u001b[0m\u001b[0;34m,\u001b[0m \u001b[0mys\u001b[0m\u001b[0;34m]\u001b[0m\u001b[0;34m)\u001b[0m\u001b[0;34m\u001b[0m\u001b[0;34m\u001b[0m\u001b[0m\n\u001b[1;32m   2045\u001b[0m \u001b[0;34m\u001b[0m\u001b[0m\n\u001b[0;32m-> 2046\u001b[0;31m         \u001b[0mself\u001b[0m\u001b[0;34m.\u001b[0m\u001b[0mupdate_scalarmappable\u001b[0m\u001b[0;34m(\u001b[0m\u001b[0;34m)\u001b[0m\u001b[0;34m\u001b[0m\u001b[0;34m\u001b[0m\u001b[0m\n\u001b[0m\u001b[1;32m   2047\u001b[0m \u001b[0;34m\u001b[0m\u001b[0m\n\u001b[1;32m   2048\u001b[0m         \u001b[0;32mif\u001b[0m \u001b[0;32mnot\u001b[0m \u001b[0mtransform\u001b[0m\u001b[0;34m.\u001b[0m\u001b[0mis_affine\u001b[0m\u001b[0;34m:\u001b[0m\u001b[0;34m\u001b[0m\u001b[0;34m\u001b[0m\u001b[0m\n",
            "\u001b[0;32m/usr/local/lib/python3.6/dist-packages/matplotlib/collections.py\u001b[0m in \u001b[0;36mupdate_scalarmappable\u001b[0;34m(self)\u001b[0m\n\u001b[1;32m    789\u001b[0m             \u001b[0;32mreturn\u001b[0m\u001b[0;34m\u001b[0m\u001b[0;34m\u001b[0m\u001b[0m\n\u001b[1;32m    790\u001b[0m         \u001b[0;32mif\u001b[0m \u001b[0mself\u001b[0m\u001b[0;34m.\u001b[0m\u001b[0m_is_filled\u001b[0m\u001b[0;34m:\u001b[0m\u001b[0;34m\u001b[0m\u001b[0;34m\u001b[0m\u001b[0m\n\u001b[0;32m--> 791\u001b[0;31m             \u001b[0mself\u001b[0m\u001b[0;34m.\u001b[0m\u001b[0m_facecolors\u001b[0m \u001b[0;34m=\u001b[0m \u001b[0mself\u001b[0m\u001b[0;34m.\u001b[0m\u001b[0mto_rgba\u001b[0m\u001b[0;34m(\u001b[0m\u001b[0mself\u001b[0m\u001b[0;34m.\u001b[0m\u001b[0m_A\u001b[0m\u001b[0;34m,\u001b[0m \u001b[0mself\u001b[0m\u001b[0;34m.\u001b[0m\u001b[0m_alpha\u001b[0m\u001b[0;34m)\u001b[0m\u001b[0;34m\u001b[0m\u001b[0;34m\u001b[0m\u001b[0m\n\u001b[0m\u001b[1;32m    792\u001b[0m         \u001b[0;32melif\u001b[0m \u001b[0mself\u001b[0m\u001b[0;34m.\u001b[0m\u001b[0m_is_stroked\u001b[0m\u001b[0;34m:\u001b[0m\u001b[0;34m\u001b[0m\u001b[0;34m\u001b[0m\u001b[0m\n\u001b[1;32m    793\u001b[0m             \u001b[0mself\u001b[0m\u001b[0;34m.\u001b[0m\u001b[0m_edgecolors\u001b[0m \u001b[0;34m=\u001b[0m \u001b[0mself\u001b[0m\u001b[0;34m.\u001b[0m\u001b[0mto_rgba\u001b[0m\u001b[0;34m(\u001b[0m\u001b[0mself\u001b[0m\u001b[0;34m.\u001b[0m\u001b[0m_A\u001b[0m\u001b[0;34m,\u001b[0m \u001b[0mself\u001b[0m\u001b[0;34m.\u001b[0m\u001b[0m_alpha\u001b[0m\u001b[0;34m)\u001b[0m\u001b[0;34m\u001b[0m\u001b[0;34m\u001b[0m\u001b[0m\n",
            "\u001b[0;32m/usr/local/lib/python3.6/dist-packages/matplotlib/cm.py\u001b[0m in \u001b[0;36mto_rgba\u001b[0;34m(self, x, alpha, bytes, norm)\u001b[0m\n\u001b[1;32m    243\u001b[0m         \u001b[0;32mif\u001b[0m \u001b[0mnorm\u001b[0m\u001b[0;34m:\u001b[0m\u001b[0;34m\u001b[0m\u001b[0;34m\u001b[0m\u001b[0m\n\u001b[1;32m    244\u001b[0m             \u001b[0mx\u001b[0m \u001b[0;34m=\u001b[0m \u001b[0mself\u001b[0m\u001b[0;34m.\u001b[0m\u001b[0mnorm\u001b[0m\u001b[0;34m(\u001b[0m\u001b[0mx\u001b[0m\u001b[0;34m)\u001b[0m\u001b[0;34m\u001b[0m\u001b[0;34m\u001b[0m\u001b[0m\n\u001b[0;32m--> 245\u001b[0;31m         \u001b[0mrgba\u001b[0m \u001b[0;34m=\u001b[0m \u001b[0mself\u001b[0m\u001b[0;34m.\u001b[0m\u001b[0mcmap\u001b[0m\u001b[0;34m(\u001b[0m\u001b[0mx\u001b[0m\u001b[0;34m,\u001b[0m \u001b[0malpha\u001b[0m\u001b[0;34m=\u001b[0m\u001b[0malpha\u001b[0m\u001b[0;34m,\u001b[0m \u001b[0mbytes\u001b[0m\u001b[0;34m=\u001b[0m\u001b[0mbytes\u001b[0m\u001b[0;34m)\u001b[0m\u001b[0;34m\u001b[0m\u001b[0;34m\u001b[0m\u001b[0m\n\u001b[0m\u001b[1;32m    246\u001b[0m         \u001b[0;32mreturn\u001b[0m \u001b[0mrgba\u001b[0m\u001b[0;34m\u001b[0m\u001b[0;34m\u001b[0m\u001b[0m\n\u001b[1;32m    247\u001b[0m \u001b[0;34m\u001b[0m\u001b[0m\n",
            "\u001b[0;32m/usr/local/lib/python3.6/dist-packages/matplotlib/colors.py\u001b[0m in \u001b[0;36m__call__\u001b[0;34m(self, X, alpha, bytes)\u001b[0m\n\u001b[1;32m    559\u001b[0m         \u001b[0;32mif\u001b[0m \u001b[0mnp\u001b[0m\u001b[0;34m.\u001b[0m\u001b[0mma\u001b[0m\u001b[0;34m.\u001b[0m\u001b[0mis_masked\u001b[0m\u001b[0;34m(\u001b[0m\u001b[0mX\u001b[0m\u001b[0;34m)\u001b[0m\u001b[0;34m:\u001b[0m\u001b[0;34m\u001b[0m\u001b[0;34m\u001b[0m\u001b[0m\n\u001b[1;32m    560\u001b[0m             \u001b[0mmask_bad\u001b[0m \u001b[0;34m=\u001b[0m \u001b[0mX\u001b[0m\u001b[0;34m.\u001b[0m\u001b[0mmask\u001b[0m\u001b[0;34m\u001b[0m\u001b[0;34m\u001b[0m\u001b[0m\n\u001b[0;32m--> 561\u001b[0;31m         \u001b[0;32melif\u001b[0m \u001b[0mnp\u001b[0m\u001b[0;34m.\u001b[0m\u001b[0many\u001b[0m\u001b[0;34m(\u001b[0m\u001b[0mnp\u001b[0m\u001b[0;34m.\u001b[0m\u001b[0misnan\u001b[0m\u001b[0;34m(\u001b[0m\u001b[0mX\u001b[0m\u001b[0;34m)\u001b[0m\u001b[0;34m)\u001b[0m\u001b[0;34m:\u001b[0m\u001b[0;34m\u001b[0m\u001b[0;34m\u001b[0m\u001b[0m\n\u001b[0m\u001b[1;32m    562\u001b[0m             \u001b[0;31m# mask nan's\u001b[0m\u001b[0;34m\u001b[0m\u001b[0;34m\u001b[0m\u001b[0;34m\u001b[0m\u001b[0m\n\u001b[1;32m    563\u001b[0m             \u001b[0mmask_bad\u001b[0m \u001b[0;34m=\u001b[0m \u001b[0mnp\u001b[0m\u001b[0;34m.\u001b[0m\u001b[0misnan\u001b[0m\u001b[0;34m(\u001b[0m\u001b[0mX\u001b[0m\u001b[0;34m)\u001b[0m\u001b[0;34m\u001b[0m\u001b[0;34m\u001b[0m\u001b[0m\n",
            "\u001b[0;31mTypeError\u001b[0m: ufunc 'isnan' not supported for the input types, and the inputs could not be safely coerced to any supported types according to the casting rule ''safe''"
          ]
        },
        {
          "output_type": "display_data",
          "data": {
            "image/png": "[encoded data removed]",
            "text/plain": [
              "<Figure size 864x720 with 2 Axes>"
            ]
          },
          "metadata": {
            "tags": [],
            "needs_background": "light"
          }
        }
      ]
    },
    {
      "cell_type": "code",
      "metadata": {
        "id": "xP2gx2oRtBpw",
        "outputId": "ae636d81-3da9-4300-a20d-8dad41b6c5ad",
        "colab": {
          "base_uri": "https://localhost:8080/",
          "height": 1000
        }
      },
      "source": [
        " \n"
      ],
      "execution_count": null,
      "outputs": [
        {
          "output_type": "execute_result",
          "data": {
            "text/html": [
              "<div>\n",
              "<style scoped>\n",
              "    .dataframe tbody tr th:only-of-type {\n",
              "        vertical-align: middle;\n",
              "    }\n",
              "\n",
              "    .dataframe tbody tr th {\n",
              "        vertical-align: top;\n",
              "    }\n",
              "\n",
              "    .dataframe thead th {\n",
              "        text-align: right;\n",
              "    }\n",
              "</style>\n",
              "<table border=\"1\" class=\"dataframe\">\n",
              "  <thead>\n",
              "    <tr style=\"text-align: right;\">\n",
              "      <th></th>\n",
              "      <th>Account_Type</th>\n",
              "      <th>Territory</th>\n",
              "      <th>cantidad_cuentas_territorio</th>\n",
              "      <th>account_territory_media</th>\n",
              "    </tr>\n",
              "  </thead>\n",
              "  <tbody>\n",
              "    <tr>\n",
              "      <th>0</th>\n",
              "      <td>Account_Type_0</td>\n",
              "      <td>Australia</td>\n",
              "      <td>870</td>\n",
              "      <td>True</td>\n",
              "    </tr>\n",
              "    <tr>\n",
              "      <th>1</th>\n",
              "      <td>Account_Type_0</td>\n",
              "      <td>Austria</td>\n",
              "      <td>139</td>\n",
              "      <td>True</td>\n",
              "    </tr>\n",
              "    <tr>\n",
              "      <th>2</th>\n",
              "      <td>Account_Type_0</td>\n",
              "      <td>Belgium</td>\n",
              "      <td>133</td>\n",
              "      <td>True</td>\n",
              "    </tr>\n",
              "    <tr>\n",
              "      <th>3</th>\n",
              "      <td>Account_Type_0</td>\n",
              "      <td>China (PRC)</td>\n",
              "      <td>213</td>\n",
              "      <td>True</td>\n",
              "    </tr>\n",
              "    <tr>\n",
              "      <th>4</th>\n",
              "      <td>Account_Type_0</td>\n",
              "      <td>France</td>\n",
              "      <td>127</td>\n",
              "      <td>True</td>\n",
              "    </tr>\n",
              "    <tr>\n",
              "      <th>5</th>\n",
              "      <td>Account_Type_0</td>\n",
              "      <td>Germany</td>\n",
              "      <td>928</td>\n",
              "      <td>True</td>\n",
              "    </tr>\n",
              "    <tr>\n",
              "      <th>6</th>\n",
              "      <td>Account_Type_0</td>\n",
              "      <td>India</td>\n",
              "      <td>110</td>\n",
              "      <td>True</td>\n",
              "    </tr>\n",
              "    <tr>\n",
              "      <th>7</th>\n",
              "      <td>Account_Type_0</td>\n",
              "      <td>Italy</td>\n",
              "      <td>248</td>\n",
              "      <td>True</td>\n",
              "    </tr>\n",
              "    <tr>\n",
              "      <th>8</th>\n",
              "      <td>Account_Type_0</td>\n",
              "      <td>Japan</td>\n",
              "      <td>464</td>\n",
              "      <td>True</td>\n",
              "    </tr>\n",
              "    <tr>\n",
              "      <th>9</th>\n",
              "      <td>Account_Type_0</td>\n",
              "      <td>NE America</td>\n",
              "      <td>109</td>\n",
              "      <td>True</td>\n",
              "    </tr>\n",
              "    <tr>\n",
              "      <th>10</th>\n",
              "      <td>Account_Type_0</td>\n",
              "      <td>NW America</td>\n",
              "      <td>845</td>\n",
              "      <td>True</td>\n",
              "    </tr>\n",
              "    <tr>\n",
              "      <th>11</th>\n",
              "      <td>Account_Type_0</td>\n",
              "      <td>Netherlands</td>\n",
              "      <td>280</td>\n",
              "      <td>True</td>\n",
              "    </tr>\n",
              "    <tr>\n",
              "      <th>12</th>\n",
              "      <td>Account_Type_0</td>\n",
              "      <td>None</td>\n",
              "      <td>454</td>\n",
              "      <td>True</td>\n",
              "    </tr>\n",
              "    <tr>\n",
              "      <th>13</th>\n",
              "      <td>Account_Type_0</td>\n",
              "      <td>Spain</td>\n",
              "      <td>245</td>\n",
              "      <td>True</td>\n",
              "    </tr>\n",
              "    <tr>\n",
              "      <th>14</th>\n",
              "      <td>Account_Type_0</td>\n",
              "      <td>United Kingdom</td>\n",
              "      <td>168</td>\n",
              "      <td>True</td>\n",
              "    </tr>\n",
              "    <tr>\n",
              "      <th>15</th>\n",
              "      <td>Account_Type_2</td>\n",
              "      <td>Australia</td>\n",
              "      <td>272</td>\n",
              "      <td>True</td>\n",
              "    </tr>\n",
              "    <tr>\n",
              "      <th>16</th>\n",
              "      <td>Account_Type_2</td>\n",
              "      <td>Belgium</td>\n",
              "      <td>152</td>\n",
              "      <td>True</td>\n",
              "    </tr>\n",
              "    <tr>\n",
              "      <th>17</th>\n",
              "      <td>Account_Type_2</td>\n",
              "      <td>Central US</td>\n",
              "      <td>199</td>\n",
              "      <td>True</td>\n",
              "    </tr>\n",
              "    <tr>\n",
              "      <th>18</th>\n",
              "      <td>Account_Type_2</td>\n",
              "      <td>France</td>\n",
              "      <td>130</td>\n",
              "      <td>True</td>\n",
              "    </tr>\n",
              "    <tr>\n",
              "      <th>19</th>\n",
              "      <td>Account_Type_2</td>\n",
              "      <td>Germany</td>\n",
              "      <td>449</td>\n",
              "      <td>True</td>\n",
              "    </tr>\n",
              "    <tr>\n",
              "      <th>20</th>\n",
              "      <td>Account_Type_2</td>\n",
              "      <td>India</td>\n",
              "      <td>511</td>\n",
              "      <td>True</td>\n",
              "    </tr>\n",
              "    <tr>\n",
              "      <th>21</th>\n",
              "      <td>Account_Type_2</td>\n",
              "      <td>Japan</td>\n",
              "      <td>181</td>\n",
              "      <td>True</td>\n",
              "    </tr>\n",
              "    <tr>\n",
              "      <th>22</th>\n",
              "      <td>Account_Type_2</td>\n",
              "      <td>Jordan</td>\n",
              "      <td>92</td>\n",
              "      <td>True</td>\n",
              "    </tr>\n",
              "    <tr>\n",
              "      <th>23</th>\n",
              "      <td>Account_Type_2</td>\n",
              "      <td>NE America</td>\n",
              "      <td>543</td>\n",
              "      <td>True</td>\n",
              "    </tr>\n",
              "    <tr>\n",
              "      <th>24</th>\n",
              "      <td>Account_Type_2</td>\n",
              "      <td>NW America</td>\n",
              "      <td>459</td>\n",
              "      <td>True</td>\n",
              "    </tr>\n",
              "    <tr>\n",
              "      <th>25</th>\n",
              "      <td>Account_Type_2</td>\n",
              "      <td>Netherlands</td>\n",
              "      <td>127</td>\n",
              "      <td>True</td>\n",
              "    </tr>\n",
              "    <tr>\n",
              "      <th>26</th>\n",
              "      <td>Account_Type_2</td>\n",
              "      <td>None</td>\n",
              "      <td>4315</td>\n",
              "      <td>True</td>\n",
              "    </tr>\n",
              "    <tr>\n",
              "      <th>27</th>\n",
              "      <td>Account_Type_2</td>\n",
              "      <td>SE America</td>\n",
              "      <td>227</td>\n",
              "      <td>True</td>\n",
              "    </tr>\n",
              "    <tr>\n",
              "      <th>28</th>\n",
              "      <td>Account_Type_2</td>\n",
              "      <td>SW America</td>\n",
              "      <td>109</td>\n",
              "      <td>True</td>\n",
              "    </tr>\n",
              "    <tr>\n",
              "      <th>29</th>\n",
              "      <td>Account_Type_2</td>\n",
              "      <td>Singapore</td>\n",
              "      <td>390</td>\n",
              "      <td>True</td>\n",
              "    </tr>\n",
              "    <tr>\n",
              "      <th>30</th>\n",
              "      <td>Account_Type_2</td>\n",
              "      <td>Thailand</td>\n",
              "      <td>127</td>\n",
              "      <td>True</td>\n",
              "    </tr>\n",
              "    <tr>\n",
              "      <th>31</th>\n",
              "      <td>Account_Type_2</td>\n",
              "      <td>United Kingdom</td>\n",
              "      <td>91</td>\n",
              "      <td>True</td>\n",
              "    </tr>\n",
              "    <tr>\n",
              "      <th>32</th>\n",
              "      <td>Account_Type_5</td>\n",
              "      <td>France</td>\n",
              "      <td>189</td>\n",
              "      <td>True</td>\n",
              "    </tr>\n",
              "    <tr>\n",
              "      <th>33</th>\n",
              "      <td>Account_Type_5</td>\n",
              "      <td>Germany</td>\n",
              "      <td>302</td>\n",
              "      <td>True</td>\n",
              "    </tr>\n",
              "    <tr>\n",
              "      <th>34</th>\n",
              "      <td>Account_Type_5</td>\n",
              "      <td>India</td>\n",
              "      <td>184</td>\n",
              "      <td>True</td>\n",
              "    </tr>\n",
              "    <tr>\n",
              "      <th>35</th>\n",
              "      <td>Account_Type_5</td>\n",
              "      <td>NE America</td>\n",
              "      <td>99</td>\n",
              "      <td>True</td>\n",
              "    </tr>\n",
              "    <tr>\n",
              "      <th>36</th>\n",
              "      <td>Account_Type_5</td>\n",
              "      <td>NW America</td>\n",
              "      <td>229</td>\n",
              "      <td>True</td>\n",
              "    </tr>\n",
              "    <tr>\n",
              "      <th>37</th>\n",
              "      <td>Account_Type_5</td>\n",
              "      <td>Netherlands</td>\n",
              "      <td>126</td>\n",
              "      <td>True</td>\n",
              "    </tr>\n",
              "    <tr>\n",
              "      <th>38</th>\n",
              "      <td>Account_Type_5</td>\n",
              "      <td>None</td>\n",
              "      <td>207</td>\n",
              "      <td>True</td>\n",
              "    </tr>\n",
              "    <tr>\n",
              "      <th>39</th>\n",
              "      <td>Account_Type_5</td>\n",
              "      <td>SE America</td>\n",
              "      <td>129</td>\n",
              "      <td>True</td>\n",
              "    </tr>\n",
              "  </tbody>\n",
              "</table>\n",
              "</div>"
            ],
            "text/plain": [
              "      Account_Type  ... account_territory_media\n",
              "0   Account_Type_0  ...                    True\n",
              "1   Account_Type_0  ...                    True\n",
              "2   Account_Type_0  ...                    True\n",
              "3   Account_Type_0  ...                    True\n",
              "4   Account_Type_0  ...                    True\n",
              "5   Account_Type_0  ...                    True\n",
              "6   Account_Type_0  ...                    True\n",
              "7   Account_Type_0  ...                    True\n",
              "8   Account_Type_0  ...                    True\n",
              "9   Account_Type_0  ...                    True\n",
              "10  Account_Type_0  ...                    True\n",
              "11  Account_Type_0  ...                    True\n",
              "12  Account_Type_0  ...                    True\n",
              "13  Account_Type_0  ...                    True\n",
              "14  Account_Type_0  ...                    True\n",
              "15  Account_Type_2  ...                    True\n",
              "16  Account_Type_2  ...                    True\n",
              "17  Account_Type_2  ...                    True\n",
              "18  Account_Type_2  ...                    True\n",
              "19  Account_Type_2  ...                    True\n",
              "20  Account_Type_2  ...                    True\n",
              "21  Account_Type_2  ...                    True\n",
              "22  Account_Type_2  ...                    True\n",
              "23  Account_Type_2  ...                    True\n",
              "24  Account_Type_2  ...                    True\n",
              "25  Account_Type_2  ...                    True\n",
              "26  Account_Type_2  ...                    True\n",
              "27  Account_Type_2  ...                    True\n",
              "28  Account_Type_2  ...                    True\n",
              "29  Account_Type_2  ...                    True\n",
              "30  Account_Type_2  ...                    True\n",
              "31  Account_Type_2  ...                    True\n",
              "32  Account_Type_5  ...                    True\n",
              "33  Account_Type_5  ...                    True\n",
              "34  Account_Type_5  ...                    True\n",
              "35  Account_Type_5  ...                    True\n",
              "36  Account_Type_5  ...                    True\n",
              "37  Account_Type_5  ...                    True\n",
              "38  Account_Type_5  ...                    True\n",
              "39  Account_Type_5  ...                    True\n",
              "\n",
              "[40 rows x 4 columns]"
            ]
          },
          "metadata": {
            "tags": []
          },
          "execution_count": 13
        }
      ]
    },
    {
      "cell_type": "code",
      "metadata": {
        "id": "hxlQPkpLtCCH"
      },
      "source": [
        "fig, ax = plt.subplots(figsize=(12,11))\n",
        "ax = pt.RainCloud(data = entrenamiento, x = 'Stage', y = 'ASP', \n",
        "                  orient='h',\n",
        "                 bw=.8, ax=ax\n",
        "                 )\n",
        "sns.despine()\n"
      ],
      "execution_count": null,
      "outputs": []
    },
    {
      "cell_type": "code",
      "metadata": {
        "id": "Hnn22GhEtRyE",
        "outputId": "388b4cd8-5f5d-4247-d858-34420d01ac58",
        "colab": {
          "base_uri": "https://localhost:8080/",
          "height": 1000
        }
      },
      "source": [
        "entrenamiento.info()"
      ],
      "execution_count": null,
      "outputs": [
        {
          "output_type": "stream",
          "text": [
            "<class 'pandas.core.frame.DataFrame'>\n",
            "RangeIndex: 16947 entries, 0 to 16946\n",
            "Data columns (total 52 columns):\n",
            " #   Column                              Non-Null Count  Dtype  \n",
            "---  ------                              --------------  -----  \n",
            " 0   ID                                  16947 non-null  int64  \n",
            " 1   Region                              16947 non-null  object \n",
            " 2   Territory                           16947 non-null  object \n",
            " 3   Pricing, Delivery_Terms_Quote_Appr  16947 non-null  int64  \n",
            " 4   Pricing, Delivery_Terms_Approved    16947 non-null  int64  \n",
            " 5   Bureaucratic_Code_0_Approval        16947 non-null  int64  \n",
            " 6   Bureaucratic_Code_0_Approved        16947 non-null  int64  \n",
            " 7   Submitted_for_Approval              16947 non-null  int64  \n",
            " 8   Bureaucratic_Code                   16947 non-null  object \n",
            " 9   Account_Created_Date                16947 non-null  object \n",
            " 10  Source                              16947 non-null  object \n",
            " 11  Billing_Country                     16947 non-null  object \n",
            " 12  Account_Name                        16947 non-null  object \n",
            " 13  Opportunity_Name                    16947 non-null  object \n",
            " 14  Opportunity_ID                      16947 non-null  int64  \n",
            " 15  Sales_Contract_No                   16947 non-null  object \n",
            " 16  Account_Owner                       16947 non-null  object \n",
            " 17  Opportunity_Owner                   16947 non-null  object \n",
            " 18  Account_Type                        16947 non-null  object \n",
            " 19  Opportunity_Type                    16947 non-null  object \n",
            " 20  Quote_Type                          16947 non-null  object \n",
            " 21  Delivery_Terms                      16947 non-null  object \n",
            " 22  Opportunity_Created_Date            16947 non-null  object \n",
            " 23  Brand                               16947 non-null  object \n",
            " 24  Product_Type                        16947 non-null  object \n",
            " 25  Size                                16947 non-null  object \n",
            " 26  Product_Category_B                  16947 non-null  object \n",
            " 27  Price                               16947 non-null  object \n",
            " 28  Currency                            16947 non-null  object \n",
            " 29  Last_Activity                       16947 non-null  object \n",
            " 30  Quote_Expiry_Date                   16947 non-null  object \n",
            " 31  Last_Modified_Date                  16947 non-null  object \n",
            " 32  Last_Modified_By                    16947 non-null  object \n",
            " 33  Product_Family                      16947 non-null  object \n",
            " 34  Product_Name                        16947 non-null  object \n",
            " 35  ASP_Currency                        16947 non-null  object \n",
            " 36  ASP                                 13738 non-null  float64\n",
            " 37  ASP_(converted)_Currency            16947 non-null  object \n",
            " 38  ASP_(converted)                     13738 non-null  float64\n",
            " 39  Planned_Delivery_Start_Date         16947 non-null  object \n",
            " 40  Planned_Delivery_End_Date           16947 non-null  object \n",
            " 41  Month                               16947 non-null  object \n",
            " 42  Delivery_Quarter                    16947 non-null  object \n",
            " 43  Delivery_Year                       16947 non-null  int64  \n",
            " 44  Actual_Delivery_Date                16947 non-null  object \n",
            " 45  TRF                                 16947 non-null  int64  \n",
            " 46  Total_Amount_Currency               16947 non-null  object \n",
            " 47  Total_Amount                        16888 non-null  float64\n",
            " 48  Total_Taxable_Amount_Currency       16947 non-null  object \n",
            " 49  Total_Taxable_Amount                16947 non-null  float64\n",
            " 50  Stage                               16947 non-null  object \n",
            " 51  Prod_Category_A                     16947 non-null  object \n",
            "dtypes: float64(4), int64(9), object(39)\n",
            "memory usage: 6.7+ MB\n"
          ],
          "name": "stdout"
        }
      ]
    },
    {
      "cell_type": "code",
      "metadata": {
        "id": "W_MkD0S31YoE",
        "outputId": "7767e7e2-72db-4d6b-cf14-77c34aa48829",
        "colab": {
          "base_uri": "https://localhost:8080/",
          "height": 312
        }
      },
      "source": [
        "entrenamiento[['Stage','Opportunity_Created_Date']]"
      ],
      "execution_count": null,
      "outputs": [
        {
          "output_type": "error",
          "ename": "KeyError",
          "evalue": "ignored",
          "traceback": [
            "\u001b[0;31m---------------------------------------------------------------------------\u001b[0m",
            "\u001b[0;31mKeyError\u001b[0m                                  Traceback (most recent call last)",
            "\u001b[0;32m<ipython-input-47-3b2e6398b244>\u001b[0m in \u001b[0;36m<module>\u001b[0;34m()\u001b[0m\n\u001b[0;32m----> 1\u001b[0;31m \u001b[0mentrenamiento\u001b[0m\u001b[0;34m[\u001b[0m\u001b[0;34m[\u001b[0m\u001b[0;34m'Stage'\u001b[0m\u001b[0;34m,\u001b[0m\u001b[0;34m'Opportunity_Created_Date '\u001b[0m\u001b[0;34m]\u001b[0m\u001b[0;34m]\u001b[0m\u001b[0;34m\u001b[0m\u001b[0;34m\u001b[0m\u001b[0m\n\u001b[0m",
            "\u001b[0;32m/usr/local/lib/python3.6/dist-packages/pandas/core/frame.py\u001b[0m in \u001b[0;36m__getitem__\u001b[0;34m(self, key)\u001b[0m\n\u001b[1;32m   2906\u001b[0m             \u001b[0;32mif\u001b[0m \u001b[0mis_iterator\u001b[0m\u001b[0;34m(\u001b[0m\u001b[0mkey\u001b[0m\u001b[0;34m)\u001b[0m\u001b[0;34m:\u001b[0m\u001b[0;34m\u001b[0m\u001b[0;34m\u001b[0m\u001b[0m\n\u001b[1;32m   2907\u001b[0m                 \u001b[0mkey\u001b[0m \u001b[0;34m=\u001b[0m \u001b[0mlist\u001b[0m\u001b[0;34m(\u001b[0m\u001b[0mkey\u001b[0m\u001b[0;34m)\u001b[0m\u001b[0;34m\u001b[0m\u001b[0;34m\u001b[0m\u001b[0m\n\u001b[0;32m-> 2908\u001b[0;31m             \u001b[0mindexer\u001b[0m \u001b[0;34m=\u001b[0m \u001b[0mself\u001b[0m\u001b[0;34m.\u001b[0m\u001b[0mloc\u001b[0m\u001b[0;34m.\u001b[0m\u001b[0m_get_listlike_indexer\u001b[0m\u001b[0;34m(\u001b[0m\u001b[0mkey\u001b[0m\u001b[0;34m,\u001b[0m \u001b[0maxis\u001b[0m\u001b[0;34m=\u001b[0m\u001b[0;36m1\u001b[0m\u001b[0;34m,\u001b[0m \u001b[0mraise_missing\u001b[0m\u001b[0;34m=\u001b[0m\u001b[0;32mTrue\u001b[0m\u001b[0;34m)\u001b[0m\u001b[0;34m[\u001b[0m\u001b[0;36m1\u001b[0m\u001b[0;34m]\u001b[0m\u001b[0;34m\u001b[0m\u001b[0;34m\u001b[0m\u001b[0m\n\u001b[0m\u001b[1;32m   2909\u001b[0m \u001b[0;34m\u001b[0m\u001b[0m\n\u001b[1;32m   2910\u001b[0m         \u001b[0;31m# take() does not accept boolean indexers\u001b[0m\u001b[0;34m\u001b[0m\u001b[0;34m\u001b[0m\u001b[0;34m\u001b[0m\u001b[0m\n",
            "\u001b[0;32m/usr/local/lib/python3.6/dist-packages/pandas/core/indexing.py\u001b[0m in \u001b[0;36m_get_listlike_indexer\u001b[0;34m(self, key, axis, raise_missing)\u001b[0m\n\u001b[1;32m   1252\u001b[0m             \u001b[0mkeyarr\u001b[0m\u001b[0;34m,\u001b[0m \u001b[0mindexer\u001b[0m\u001b[0;34m,\u001b[0m \u001b[0mnew_indexer\u001b[0m \u001b[0;34m=\u001b[0m \u001b[0max\u001b[0m\u001b[0;34m.\u001b[0m\u001b[0m_reindex_non_unique\u001b[0m\u001b[0;34m(\u001b[0m\u001b[0mkeyarr\u001b[0m\u001b[0;34m)\u001b[0m\u001b[0;34m\u001b[0m\u001b[0;34m\u001b[0m\u001b[0m\n\u001b[1;32m   1253\u001b[0m \u001b[0;34m\u001b[0m\u001b[0m\n\u001b[0;32m-> 1254\u001b[0;31m         \u001b[0mself\u001b[0m\u001b[0;34m.\u001b[0m\u001b[0m_validate_read_indexer\u001b[0m\u001b[0;34m(\u001b[0m\u001b[0mkeyarr\u001b[0m\u001b[0;34m,\u001b[0m \u001b[0mindexer\u001b[0m\u001b[0;34m,\u001b[0m \u001b[0maxis\u001b[0m\u001b[0;34m,\u001b[0m \u001b[0mraise_missing\u001b[0m\u001b[0;34m=\u001b[0m\u001b[0mraise_missing\u001b[0m\u001b[0;34m)\u001b[0m\u001b[0;34m\u001b[0m\u001b[0;34m\u001b[0m\u001b[0m\n\u001b[0m\u001b[1;32m   1255\u001b[0m         \u001b[0;32mreturn\u001b[0m \u001b[0mkeyarr\u001b[0m\u001b[0;34m,\u001b[0m \u001b[0mindexer\u001b[0m\u001b[0;34m\u001b[0m\u001b[0;34m\u001b[0m\u001b[0m\n\u001b[1;32m   1256\u001b[0m \u001b[0;34m\u001b[0m\u001b[0m\n",
            "\u001b[0;32m/usr/local/lib/python3.6/dist-packages/pandas/core/indexing.py\u001b[0m in \u001b[0;36m_validate_read_indexer\u001b[0;34m(self, key, indexer, axis, raise_missing)\u001b[0m\n\u001b[1;32m   1302\u001b[0m             \u001b[0;32mif\u001b[0m \u001b[0mraise_missing\u001b[0m\u001b[0;34m:\u001b[0m\u001b[0;34m\u001b[0m\u001b[0;34m\u001b[0m\u001b[0m\n\u001b[1;32m   1303\u001b[0m                 \u001b[0mnot_found\u001b[0m \u001b[0;34m=\u001b[0m \u001b[0mlist\u001b[0m\u001b[0;34m(\u001b[0m\u001b[0mset\u001b[0m\u001b[0;34m(\u001b[0m\u001b[0mkey\u001b[0m\u001b[0;34m)\u001b[0m \u001b[0;34m-\u001b[0m \u001b[0mset\u001b[0m\u001b[0;34m(\u001b[0m\u001b[0max\u001b[0m\u001b[0;34m)\u001b[0m\u001b[0;34m)\u001b[0m\u001b[0;34m\u001b[0m\u001b[0;34m\u001b[0m\u001b[0m\n\u001b[0;32m-> 1304\u001b[0;31m                 \u001b[0;32mraise\u001b[0m \u001b[0mKeyError\u001b[0m\u001b[0;34m(\u001b[0m\u001b[0;34mf\"{not_found} not in index\"\u001b[0m\u001b[0;34m)\u001b[0m\u001b[0;34m\u001b[0m\u001b[0;34m\u001b[0m\u001b[0m\n\u001b[0m\u001b[1;32m   1305\u001b[0m \u001b[0;34m\u001b[0m\u001b[0m\n\u001b[1;32m   1306\u001b[0m             \u001b[0;31m# we skip the warning on Categorical\u001b[0m\u001b[0;34m\u001b[0m\u001b[0;34m\u001b[0m\u001b[0;34m\u001b[0m\u001b[0m\n",
            "\u001b[0;31mKeyError\u001b[0m: \"['Opportunity_Created_Date '] not in index\""
          ]
        }
      ]
    },
    {
      "cell_type": "code",
      "metadata": {
        "id": "_LMPw-cu1-Ww"
      },
      "source": [
        ""
      ],
      "execution_count": null,
      "outputs": []
    },
    {
      "cell_type": "code",
      "metadata": {
        "id": "OiudyVQ52vGb",
        "outputId": "b3afddf8-7922-48e4-f5ec-dd9e19422ea7",
        "colab": {
          "base_uri": "https://localhost:8080/",
          "height": 225
        }
      },
      "source": [
        "df=entrenamiento[['Stage','Opportunity_Created_Date']]\n",
        "df['opportunity_created_year']=pd.to_datetime(entrenamiento['Opportunity_Created_Date'])\n",
        "df['year']=df['opportunity_created_year'].dt.year"
      ],
      "execution_count": null,
      "outputs": [
        {
          "output_type": "stream",
          "text": [
            "/usr/local/lib/python3.6/dist-packages/ipykernel_launcher.py:2: SettingWithCopyWarning: \n",
            "A value is trying to be set on a copy of a slice from a DataFrame.\n",
            "Try using .loc[row_indexer,col_indexer] = value instead\n",
            "\n",
            "See the caveats in the documentation: https://pandas.pydata.org/pandas-docs/stable/user_guide/indexing.html#returning-a-view-versus-a-copy\n",
            "  \n",
            "/usr/local/lib/python3.6/dist-packages/ipykernel_launcher.py:3: SettingWithCopyWarning: \n",
            "A value is trying to be set on a copy of a slice from a DataFrame.\n",
            "Try using .loc[row_indexer,col_indexer] = value instead\n",
            "\n",
            "See the caveats in the documentation: https://pandas.pydata.org/pandas-docs/stable/user_guide/indexing.html#returning-a-view-versus-a-copy\n",
            "  This is separate from the ipykernel package so we can avoid doing imports until\n"
          ],
          "name": "stderr"
        }
      ]
    },
    {
      "cell_type": "code",
      "metadata": {
        "id": "2PnY-TAP35bW",
        "outputId": "df486d46-c575-438c-d76e-c8d3ed4ef5c6",
        "colab": {
          "base_uri": "https://localhost:8080/",
          "height": 514
        }
      },
      "source": [
        "df.plot.scatter('opportunity_created_year', 'Stage' , title='Relationship between Year of Award and Age',alpha=0.25,figsize=(12,8));"
      ],
      "execution_count": null,
      "outputs": [
        {
          "output_type": "display_data",
          "data": {
            "image/png": "[encoded data removed]",
            "text/plain": [
              "<Figure size 864x576 with 1 Axes>"
            ]
          },
          "metadata": {
            "tags": [],
            "needs_background": "light"
          }
        }
      ]
    },
    {
      "cell_type": "code",
      "metadata": {
        "id": "8asWblPP5XeN",
        "outputId": "42f2b348-7ed3-4225-deda-9bd710b7ccfd",
        "colab": {
          "base_uri": "https://localhost:8080/",
          "height": 208
        }
      },
      "source": [
        "df.info()"
      ],
      "execution_count": null,
      "outputs": [
        {
          "output_type": "stream",
          "text": [
            "<class 'pandas.core.frame.DataFrame'>\n",
            "RangeIndex: 16947 entries, 0 to 16946\n",
            "Data columns (total 4 columns):\n",
            " #   Column                    Non-Null Count  Dtype         \n",
            "---  ------                    --------------  -----         \n",
            " 0   Stage                     16947 non-null  object        \n",
            " 1   Opportunity_Created_Date  16947 non-null  object        \n",
            " 2   opportunity_created_year  16947 non-null  datetime64[ns]\n",
            " 3   year                      16947 non-null  int64         \n",
            "dtypes: datetime64[ns](1), int64(1), object(2)\n",
            "memory usage: 529.7+ KB\n"
          ],
          "name": "stdout"
        }
      ]
    },
    {
      "cell_type": "code",
      "metadata": {
        "id": "Uyzu8rWX4zzP",
        "outputId": "2a3cc98c-1575-4213-802e-b7c6b4ea346e",
        "colab": {
          "base_uri": "https://localhost:8080/",
          "height": 320
        }
      },
      "source": [
        "g = sns.boxplot(x=\"Stage\",y=\"year\", \n",
        "                     data=df, palette=\"hls\")\n",
        "g.set_title(\"BPM segun Artista Mas Frecuente\", fontsize=18)\n",
        "g.set_xlabel(\"Artista\", fontsize=14)\n",
        "g.set_ylabel(\"BPM\", fontsize=14)"
      ],
      "execution_count": null,
      "outputs": [
        {
          "output_type": "execute_result",
          "data": {
            "text/plain": [
              "Text(0, 0.5, 'BPM')"
            ]
          },
          "metadata": {
            "tags": []
          },
          "execution_count": 64
        },
        {
          "output_type": "display_data",
          "data": {
            "image/png": "[encoded data removed]",
            "text/plain": [
              "<Figure size 432x288 with 1 Axes>"
            ]
          },
          "metadata": {
            "tags": [],
            "needs_background": "light"
          }
        }
      ]
    },
    {
      "cell_type": "code",
      "metadata": {
        "id": "1pFZabBI2bk9",
        "outputId": "99ef764e-ff56-4b6f-8799-935f3ca79070",
        "colab": {
          "base_uri": "https://localhost:8080/",
          "height": 514
        }
      },
      "source": [
        "entrenamiento.plot.scatter('Opportunity_Created_Date', 'Stage' , title='Relationship between Year of Award and Age',alpha=0.25,figsize=(12,8));"
      ],
      "execution_count": null,
      "outputs": [
        {
          "output_type": "display_data",
          "data": {
            "image/png": "[encoded data removed]",
            "text/plain": [
              "<Figure size 864x576 with 1 Axes>"
            ]
          },
          "metadata": {
            "tags": [],
            "needs_background": "light"
          }
        }
      ]
    },
    {
      "cell_type": "markdown",
      "metadata": {
        "id": "sPQzDdkzsVQ2"
      },
      "source": [
        "delibery terms y su relacion con stage"
      ]
    },
    {
      "cell_type": "code",
      "metadata": {
        "id": "xHLXjpb2scmf",
        "outputId": "5f61f4c7-3b3f-4e26-9751-ff0a64a973e0",
        "colab": {
          "base_uri": "https://localhost:8080/",
          "height": 573
        }
      },
      "source": [
        "entrenamiento['Opportunity_Created_Date ''Delivery_Terms'].value_counts()"
      ],
      "execution_count": null,
      "outputs": [
        {
          "output_type": "error",
          "ename": "KeyError",
          "evalue": "ignored",
          "traceback": [
            "\u001b[0;31m---------------------------------------------------------------------------\u001b[0m",
            "\u001b[0;31mKeyError\u001b[0m                                  Traceback (most recent call last)",
            "\u001b[0;32m/usr/local/lib/python3.6/dist-packages/pandas/core/indexes/base.py\u001b[0m in \u001b[0;36mget_loc\u001b[0;34m(self, key, method, tolerance)\u001b[0m\n\u001b[1;32m   2894\u001b[0m             \u001b[0;32mtry\u001b[0m\u001b[0;34m:\u001b[0m\u001b[0;34m\u001b[0m\u001b[0;34m\u001b[0m\u001b[0m\n\u001b[0;32m-> 2895\u001b[0;31m                 \u001b[0;32mreturn\u001b[0m \u001b[0mself\u001b[0m\u001b[0;34m.\u001b[0m\u001b[0m_engine\u001b[0m\u001b[0;34m.\u001b[0m\u001b[0mget_loc\u001b[0m\u001b[0;34m(\u001b[0m\u001b[0mcasted_key\u001b[0m\u001b[0;34m)\u001b[0m\u001b[0;34m\u001b[0m\u001b[0;34m\u001b[0m\u001b[0m\n\u001b[0m\u001b[1;32m   2896\u001b[0m             \u001b[0;32mexcept\u001b[0m \u001b[0mKeyError\u001b[0m \u001b[0;32mas\u001b[0m \u001b[0merr\u001b[0m\u001b[0;34m:\u001b[0m\u001b[0;34m\u001b[0m\u001b[0;34m\u001b[0m\u001b[0m\n",
            "\u001b[0;32mpandas/_libs/index.pyx\u001b[0m in \u001b[0;36mpandas._libs.index.IndexEngine.get_loc\u001b[0;34m()\u001b[0m\n",
            "\u001b[0;32mpandas/_libs/index.pyx\u001b[0m in \u001b[0;36mpandas._libs.index.IndexEngine.get_loc\u001b[0;34m()\u001b[0m\n",
            "\u001b[0;32mpandas/_libs/hashtable_class_helper.pxi\u001b[0m in \u001b[0;36mpandas._libs.hashtable.PyObjectHashTable.get_item\u001b[0;34m()\u001b[0m\n",
            "\u001b[0;32mpandas/_libs/hashtable_class_helper.pxi\u001b[0m in \u001b[0;36mpandas._libs.hashtable.PyObjectHashTable.get_item\u001b[0;34m()\u001b[0m\n",
            "\u001b[0;31mKeyError\u001b[0m: ('Opportunity_Created_Date ', 'Delivery_Terms')",
            "\nThe above exception was the direct cause of the following exception:\n",
            "\u001b[0;31mKeyError\u001b[0m                                  Traceback (most recent call last)",
            "\u001b[0;32m<ipython-input-45-40a568d92583>\u001b[0m in \u001b[0;36m<module>\u001b[0;34m()\u001b[0m\n\u001b[0;32m----> 1\u001b[0;31m \u001b[0mentrenamiento\u001b[0m\u001b[0;34m[\u001b[0m\u001b[0;34m'Opportunity_Created_Date '\u001b[0m\u001b[0;34m,\u001b[0m\u001b[0;34m'Delivery_Terms'\u001b[0m\u001b[0;34m]\u001b[0m\u001b[0;34m.\u001b[0m\u001b[0mvalue_counts\u001b[0m\u001b[0;34m(\u001b[0m\u001b[0;34m)\u001b[0m\u001b[0;34m\u001b[0m\u001b[0;34m\u001b[0m\u001b[0m\n\u001b[0m",
            "\u001b[0;32m/usr/local/lib/python3.6/dist-packages/pandas/core/frame.py\u001b[0m in \u001b[0;36m__getitem__\u001b[0;34m(self, key)\u001b[0m\n\u001b[1;32m   2900\u001b[0m             \u001b[0;32mif\u001b[0m \u001b[0mself\u001b[0m\u001b[0;34m.\u001b[0m\u001b[0mcolumns\u001b[0m\u001b[0;34m.\u001b[0m\u001b[0mnlevels\u001b[0m \u001b[0;34m>\u001b[0m \u001b[0;36m1\u001b[0m\u001b[0;34m:\u001b[0m\u001b[0;34m\u001b[0m\u001b[0;34m\u001b[0m\u001b[0m\n\u001b[1;32m   2901\u001b[0m                 \u001b[0;32mreturn\u001b[0m \u001b[0mself\u001b[0m\u001b[0;34m.\u001b[0m\u001b[0m_getitem_multilevel\u001b[0m\u001b[0;34m(\u001b[0m\u001b[0mkey\u001b[0m\u001b[0;34m)\u001b[0m\u001b[0;34m\u001b[0m\u001b[0;34m\u001b[0m\u001b[0m\n\u001b[0;32m-> 2902\u001b[0;31m             \u001b[0mindexer\u001b[0m \u001b[0;34m=\u001b[0m \u001b[0mself\u001b[0m\u001b[0;34m.\u001b[0m\u001b[0mcolumns\u001b[0m\u001b[0;34m.\u001b[0m\u001b[0mget_loc\u001b[0m\u001b[0;34m(\u001b[0m\u001b[0mkey\u001b[0m\u001b[0;34m)\u001b[0m\u001b[0;34m\u001b[0m\u001b[0;34m\u001b[0m\u001b[0m\n\u001b[0m\u001b[1;32m   2903\u001b[0m             \u001b[0;32mif\u001b[0m \u001b[0mis_integer\u001b[0m\u001b[0;34m(\u001b[0m\u001b[0mindexer\u001b[0m\u001b[0;34m)\u001b[0m\u001b[0;34m:\u001b[0m\u001b[0;34m\u001b[0m\u001b[0;34m\u001b[0m\u001b[0m\n\u001b[1;32m   2904\u001b[0m                 \u001b[0mindexer\u001b[0m \u001b[0;34m=\u001b[0m \u001b[0;34m[\u001b[0m\u001b[0mindexer\u001b[0m\u001b[0;34m]\u001b[0m\u001b[0;34m\u001b[0m\u001b[0;34m\u001b[0m\u001b[0m\n",
            "\u001b[0;32m/usr/local/lib/python3.6/dist-packages/pandas/core/indexes/base.py\u001b[0m in \u001b[0;36mget_loc\u001b[0;34m(self, key, method, tolerance)\u001b[0m\n\u001b[1;32m   2895\u001b[0m                 \u001b[0;32mreturn\u001b[0m \u001b[0mself\u001b[0m\u001b[0;34m.\u001b[0m\u001b[0m_engine\u001b[0m\u001b[0;34m.\u001b[0m\u001b[0mget_loc\u001b[0m\u001b[0;34m(\u001b[0m\u001b[0mcasted_key\u001b[0m\u001b[0;34m)\u001b[0m\u001b[0;34m\u001b[0m\u001b[0;34m\u001b[0m\u001b[0m\n\u001b[1;32m   2896\u001b[0m             \u001b[0;32mexcept\u001b[0m \u001b[0mKeyError\u001b[0m \u001b[0;32mas\u001b[0m \u001b[0merr\u001b[0m\u001b[0;34m:\u001b[0m\u001b[0;34m\u001b[0m\u001b[0;34m\u001b[0m\u001b[0m\n\u001b[0;32m-> 2897\u001b[0;31m                 \u001b[0;32mraise\u001b[0m \u001b[0mKeyError\u001b[0m\u001b[0;34m(\u001b[0m\u001b[0mkey\u001b[0m\u001b[0;34m)\u001b[0m \u001b[0;32mfrom\u001b[0m \u001b[0merr\u001b[0m\u001b[0;34m\u001b[0m\u001b[0;34m\u001b[0m\u001b[0m\n\u001b[0m\u001b[1;32m   2898\u001b[0m \u001b[0;34m\u001b[0m\u001b[0m\n\u001b[1;32m   2899\u001b[0m         \u001b[0;32mif\u001b[0m \u001b[0mtolerance\u001b[0m \u001b[0;32mis\u001b[0m \u001b[0;32mnot\u001b[0m \u001b[0;32mNone\u001b[0m\u001b[0;34m:\u001b[0m\u001b[0;34m\u001b[0m\u001b[0;34m\u001b[0m\u001b[0m\n",
            "\u001b[0;31mKeyError\u001b[0m: ('Opportunity_Created_Date ', 'Delivery_Terms')"
          ]
        }
      ]
    },
    {
      "cell_type": "code",
      "metadata": {
        "id": "nvI3UoFkqJSN"
      },
      "source": [
        "fig, ax = plt.subplots(figsize=(12,10) )\n",
        "g = sns.heatmap(acount_territory, ax=ax, linewidths=.9, cmap=\"YlGnBu\") # annot=True\n",
        "g.set_title(\"Cantidad de Proyectos por combinacion de Año y Mes\", fontsize=22)\n",
        "g.set_xlabel(\"Mes de Lanzamiento del Proyecto\",fontsize=15)\n",
        "g.set_ylabel(\"Año de Lanzamiento del Proyecto\", fontsize=15)"
      ],
      "execution_count": null,
      "outputs": []
    },
    {
      "cell_type": "code",
      "metadata": {
        "id": "WbMXyxPCocmU",
        "outputId": "18de42d5-188b-4891-9cd4-7ed038c79ecc",
        "colab": {
          "base_uri": "https://localhost:8080/",
          "height": 711
        }
      },
      "source": [
        "fig, ax = plt.subplots(figsize=(12,10) ) \n",
        "ax = delivery_terms_stage.plot(x=\"Delivery_Terms\", y=\"Closed Lost\", kind=\"bar\", ax=ax)\n",
        "ax.set_title(\"Cantidad segun el Termino de Envio segun el tipo de Stage\", fontsize=22)\n",
        "ax.set_xlabel(\"Stage\",fontsize=15)\n",
        "ax.set_ylabel(\"Cantidad\", fontsize=15)  \n",
        "delivery_terms_stage.plot(x=\"Delivery_Terms\", y=\"Closed Won\", kind=\"bar\", ax=ax, color=\"C2\")\n",
        "delivery_terms_stage.plot(x=\"Delivery_Terms\", y=\"Negotiation\", kind=\"bar\", ax=ax, color=\"C3\")\n",
        "delivery_terms_stage.plot(x=\"Delivery_Terms\", y=\"Proposal\", kind=\"bar\", ax=ax, color=\"C4\")\n",
        "delivery_terms_stage.plot(x=\"Delivery_Terms\", y=\"Qualification\", kind=\"bar\", ax=ax, color=\"C5\")\n",
        " \n",
        "plt.show()"
      ],
      "execution_count": null,
      "outputs": [
        {
          "output_type": "display_data",
          "data": {
            "image/png": "[encoded data removed]",
            "text/plain": [
              "<Figure size 864x720 with 1 Axes>"
            ]
          },
          "metadata": {
            "tags": [],
            "needs_background": "light"
          }
        }
      ]
    },
    {
      "cell_type": "code",
      "metadata": {
        "id": "9V_bb_6Ymc32"
      },
      "source": [
        "y = np.random.rand(10,4)\n",
        "y[:,0]= np.arange(10)\n",
        "df = pd.DataFrame(y, columns=[\"X\", \"A\", \"B\", \"C\"])\n",
        "\n",
        "ax = df.plot(x=\"X\", y=\"A\", kind=\"bar\")\n",
        "df.plot(x=\"X\", y=\"B\", kind=\"bar\", ax=ax, color=\"C2\")\n",
        "df.plot(x=\"X\", y=\"C\", kind=\"bar\", ax=ax, color=\"C3\")\n",
        "\n",
        "plt.show()"
      ],
      "execution_count": null,
      "outputs": []
    },
    {
      "cell_type": "code",
      "metadata": {
        "id": "J2kRqTilsrpR"
      },
      "source": [
        "fig, ax = plt.subplots(figsize=(12,11))\n",
        "ax = pt.RainCloud(data = entrenamiento, x = 'Stage', y = 'ASP', \n",
        "                  orient='h',\n",
        "                 bw=.8, ax=ax\n",
        "                 )\n",
        "sns.despine()\n"
      ],
      "execution_count": null,
      "outputs": []
    },
    {
      "cell_type": "code",
      "metadata": {
        "id": "ITFk_lKw_7qP",
        "outputId": "569c6a41-486b-493b-e3c5-5ea056cf9517",
        "colab": {
          "base_uri": "https://localhost:8080/",
          "height": 1000
        }
      },
      "source": [
        "entrenamiento.info()"
      ],
      "execution_count": null,
      "outputs": [
        {
          "output_type": "stream",
          "text": [
            "<class 'pandas.core.frame.DataFrame'>\n",
            "RangeIndex: 16947 entries, 0 to 16946\n",
            "Data columns (total 52 columns):\n",
            " #   Column                              Non-Null Count  Dtype  \n",
            "---  ------                              --------------  -----  \n",
            " 0   ID                                  16947 non-null  int64  \n",
            " 1   Region                              16947 non-null  object \n",
            " 2   Territory                           16947 non-null  object \n",
            " 3   Pricing, Delivery_Terms_Quote_Appr  16947 non-null  int64  \n",
            " 4   Pricing, Delivery_Terms_Approved    16947 non-null  int64  \n",
            " 5   Bureaucratic_Code_0_Approval        16947 non-null  int64  \n",
            " 6   Bureaucratic_Code_0_Approved        16947 non-null  int64  \n",
            " 7   Submitted_for_Approval              16947 non-null  int64  \n",
            " 8   Bureaucratic_Code                   16947 non-null  object \n",
            " 9   Account_Created_Date                16947 non-null  object \n",
            " 10  Source                              16947 non-null  object \n",
            " 11  Billing_Country                     16947 non-null  object \n",
            " 12  Account_Name                        16947 non-null  object \n",
            " 13  Opportunity_Name                    16947 non-null  object \n",
            " 14  Opportunity_ID                      16947 non-null  int64  \n",
            " 15  Sales_Contract_No                   16947 non-null  object \n",
            " 16  Account_Owner                       16947 non-null  object \n",
            " 17  Opportunity_Owner                   16947 non-null  object \n",
            " 18  Account_Type                        16947 non-null  object \n",
            " 19  Opportunity_Type                    16947 non-null  object \n",
            " 20  Quote_Type                          16947 non-null  object \n",
            " 21  Delivery_Terms                      16947 non-null  object \n",
            " 22  Opportunity_Created_Date            16947 non-null  object \n",
            " 23  Brand                               16947 non-null  object \n",
            " 24  Product_Type                        16947 non-null  object \n",
            " 25  Size                                16947 non-null  object \n",
            " 26  Product_Category_B                  16947 non-null  object \n",
            " 27  Price                               16947 non-null  object \n",
            " 28  Currency                            16947 non-null  object \n",
            " 29  Last_Activity                       16947 non-null  object \n",
            " 30  Quote_Expiry_Date                   16947 non-null  object \n",
            " 31  Last_Modified_Date                  16947 non-null  object \n",
            " 32  Last_Modified_By                    16947 non-null  object \n",
            " 33  Product_Family                      16947 non-null  object \n",
            " 34  Product_Name                        16947 non-null  object \n",
            " 35  ASP_Currency                        16947 non-null  object \n",
            " 36  ASP                                 13738 non-null  float64\n",
            " 37  ASP_(converted)_Currency            16947 non-null  object \n",
            " 38  ASP_(converted)                     13738 non-null  float64\n",
            " 39  Planned_Delivery_Start_Date         16947 non-null  object \n",
            " 40  Planned_Delivery_End_Date           16947 non-null  object \n",
            " 41  Month                               16947 non-null  object \n",
            " 42  Delivery_Quarter                    16947 non-null  object \n",
            " 43  Delivery_Year                       16947 non-null  int64  \n",
            " 44  Actual_Delivery_Date                16947 non-null  object \n",
            " 45  TRF                                 16947 non-null  int64  \n",
            " 46  Total_Amount_Currency               16947 non-null  object \n",
            " 47  Total_Amount                        16888 non-null  float64\n",
            " 48  Total_Taxable_Amount_Currency       16947 non-null  object \n",
            " 49  Total_Taxable_Amount                16947 non-null  float64\n",
            " 50  Stage                               16947 non-null  object \n",
            " 51  Prod_Category_A                     16947 non-null  object \n",
            "dtypes: float64(4), int64(9), object(39)\n",
            "memory usage: 6.7+ MB\n"
          ],
          "name": "stdout"
        }
      ]
    },
    {
      "cell_type": "code",
      "metadata": {
        "id": "7qNuwFpnASpU",
        "outputId": "d9a060e7-f34f-4c26-c7c3-c8946229b2b7",
        "colab": {
          "base_uri": "https://localhost:8080/",
          "height": 225
        }
      },
      "source": [
        "entrenamiento['Account_Name'].value_counts()"
      ],
      "execution_count": null,
      "outputs": [
        {
          "output_type": "execute_result",
          "data": {
            "text/plain": [
              "Account_Name_1888    2124\n",
              "Account_Name_1836     886\n",
              "Account_Name_25       752\n",
              "Account_Name_1991     586\n",
              "Account_Name_1642     397\n",
              "                     ... \n",
              "Account_Name_1960       1\n",
              "Account_Name_1718       1\n",
              "Account_Name_343        1\n",
              "Account_Name_819        1\n",
              "Account_Name_310        1\n",
              "Name: Account_Name, Length: 1635, dtype: int64"
            ]
          },
          "metadata": {
            "tags": []
          },
          "execution_count": 10
        }
      ]
    },
    {
      "cell_type": "code",
      "metadata": {
        "id": "m8pi1DlmBKP-",
        "outputId": "cfb2e0b3-2d88-4004-c2f1-fdaec4f60bc4",
        "colab": {
          "base_uri": "https://localhost:8080/",
          "height": 69
        }
      },
      "source": [
        "entrenamiento['Pricing, Delivery_Terms_Approved'].value_counts()"
      ],
      "execution_count": null,
      "outputs": [
        {
          "output_type": "execute_result",
          "data": {
            "text/plain": [
              "1    9890\n",
              "0    7057\n",
              "Name: Pricing, Delivery_Terms_Approved, dtype: int64"
            ]
          },
          "metadata": {
            "tags": []
          },
          "execution_count": 12
        }
      ]
    },
    {
      "cell_type": "code",
      "metadata": {
        "id": "d6JeiBTfBUPy",
        "outputId": "f3c7a4e8-e7ec-4651-8fe0-294c4e645d79",
        "colab": {
          "base_uri": "https://localhost:8080/",
          "height": 395
        }
      },
      "source": [
        "entrenamiento.groupby(['Account_Name','Pricing, Delivery_Terms_Approved']).agg(cant=('Stage','count')).nlargest(10,'cant')"
      ],
      "execution_count": null,
      "outputs": [
        {
          "output_type": "execute_result",
          "data": {
            "text/html": [
              "<div>\n",
              "<style scoped>\n",
              "    .dataframe tbody tr th:only-of-type {\n",
              "        vertical-align: middle;\n",
              "    }\n",
              "\n",
              "    .dataframe tbody tr th {\n",
              "        vertical-align: top;\n",
              "    }\n",
              "\n",
              "    .dataframe thead th {\n",
              "        text-align: right;\n",
              "    }\n",
              "</style>\n",
              "<table border=\"1\" class=\"dataframe\">\n",
              "  <thead>\n",
              "    <tr style=\"text-align: right;\">\n",
              "      <th></th>\n",
              "      <th></th>\n",
              "      <th>cant</th>\n",
              "    </tr>\n",
              "    <tr>\n",
              "      <th>Account_Name</th>\n",
              "      <th>Pricing, Delivery_Terms_Approved</th>\n",
              "      <th></th>\n",
              "    </tr>\n",
              "  </thead>\n",
              "  <tbody>\n",
              "    <tr>\n",
              "      <th rowspan=\"2\" valign=\"top\">Account_Name_1888</th>\n",
              "      <th>0</th>\n",
              "      <td>1088</td>\n",
              "    </tr>\n",
              "    <tr>\n",
              "      <th>1</th>\n",
              "      <td>1036</td>\n",
              "    </tr>\n",
              "    <tr>\n",
              "      <th>Account_Name_1836</th>\n",
              "      <th>1</th>\n",
              "      <td>802</td>\n",
              "    </tr>\n",
              "    <tr>\n",
              "      <th>Account_Name_1991</th>\n",
              "      <th>1</th>\n",
              "      <td>488</td>\n",
              "    </tr>\n",
              "    <tr>\n",
              "      <th>Account_Name_25</th>\n",
              "      <th>1</th>\n",
              "      <td>455</td>\n",
              "    </tr>\n",
              "    <tr>\n",
              "      <th>Account_Name_1508</th>\n",
              "      <th>1</th>\n",
              "      <td>340</td>\n",
              "    </tr>\n",
              "    <tr>\n",
              "      <th>Account_Name_25</th>\n",
              "      <th>0</th>\n",
              "      <td>297</td>\n",
              "    </tr>\n",
              "    <tr>\n",
              "      <th>Account_Name_1642</th>\n",
              "      <th>1</th>\n",
              "      <td>246</td>\n",
              "    </tr>\n",
              "    <tr>\n",
              "      <th>Account_Name_1440</th>\n",
              "      <th>1</th>\n",
              "      <td>214</td>\n",
              "    </tr>\n",
              "    <tr>\n",
              "      <th>Account_Name_931</th>\n",
              "      <th>1</th>\n",
              "      <td>188</td>\n",
              "    </tr>\n",
              "  </tbody>\n",
              "</table>\n",
              "</div>"
            ],
            "text/plain": [
              "                                                    cant\n",
              "Account_Name      Pricing, Delivery_Terms_Approved      \n",
              "Account_Name_1888 0                                 1088\n",
              "                  1                                 1036\n",
              "Account_Name_1836 1                                  802\n",
              "Account_Name_1991 1                                  488\n",
              "Account_Name_25   1                                  455\n",
              "Account_Name_1508 1                                  340\n",
              "Account_Name_25   0                                  297\n",
              "Account_Name_1642 1                                  246\n",
              "Account_Name_1440 1                                  214\n",
              "Account_Name_931  1                                  188"
            ]
          },
          "metadata": {
            "tags": []
          },
          "execution_count": 18
        }
      ]
    },
    {
      "cell_type": "code",
      "metadata": {
        "id": "MZWNVpNAClWx",
        "outputId": "4127ee47-6c3b-4868-9b83-279f3b20f1be",
        "colab": {
          "base_uri": "https://localhost:8080/",
          "height": 709
        }
      },
      "source": [
        "entrenamiento.loc[entrenamiento['Stage']=='Closed Won',:].groupby(['Account_Name','Stage']).agg(cant=('Stage','count')).nlargest(20,'cant')"
      ],
      "execution_count": null,
      "outputs": [
        {
          "output_type": "execute_result",
          "data": {
            "text/html": [
              "<div>\n",
              "<style scoped>\n",
              "    .dataframe tbody tr th:only-of-type {\n",
              "        vertical-align: middle;\n",
              "    }\n",
              "\n",
              "    .dataframe tbody tr th {\n",
              "        vertical-align: top;\n",
              "    }\n",
              "\n",
              "    .dataframe thead th {\n",
              "        text-align: right;\n",
              "    }\n",
              "</style>\n",
              "<table border=\"1\" class=\"dataframe\">\n",
              "  <thead>\n",
              "    <tr style=\"text-align: right;\">\n",
              "      <th></th>\n",
              "      <th></th>\n",
              "      <th>cant</th>\n",
              "    </tr>\n",
              "    <tr>\n",
              "      <th>Account_Name</th>\n",
              "      <th>Stage</th>\n",
              "      <th></th>\n",
              "    </tr>\n",
              "  </thead>\n",
              "  <tbody>\n",
              "    <tr>\n",
              "      <th>Account_Name_1888</th>\n",
              "      <th>Closed Won</th>\n",
              "      <td>1018</td>\n",
              "    </tr>\n",
              "    <tr>\n",
              "      <th>Account_Name_1836</th>\n",
              "      <th>Closed Won</th>\n",
              "      <td>795</td>\n",
              "    </tr>\n",
              "    <tr>\n",
              "      <th>Account_Name_25</th>\n",
              "      <th>Closed Won</th>\n",
              "      <td>539</td>\n",
              "    </tr>\n",
              "    <tr>\n",
              "      <th>Account_Name_1991</th>\n",
              "      <th>Closed Won</th>\n",
              "      <td>520</td>\n",
              "    </tr>\n",
              "    <tr>\n",
              "      <th>Account_Name_1508</th>\n",
              "      <th>Closed Won</th>\n",
              "      <td>323</td>\n",
              "    </tr>\n",
              "    <tr>\n",
              "      <th>Account_Name_1440</th>\n",
              "      <th>Closed Won</th>\n",
              "      <td>267</td>\n",
              "    </tr>\n",
              "    <tr>\n",
              "      <th>Account_Name_263</th>\n",
              "      <th>Closed Won</th>\n",
              "      <td>205</td>\n",
              "    </tr>\n",
              "    <tr>\n",
              "      <th>Account_Name_1642</th>\n",
              "      <th>Closed Won</th>\n",
              "      <td>204</td>\n",
              "    </tr>\n",
              "    <tr>\n",
              "      <th>Account_Name_931</th>\n",
              "      <th>Closed Won</th>\n",
              "      <td>203</td>\n",
              "    </tr>\n",
              "    <tr>\n",
              "      <th>Account_Name_533</th>\n",
              "      <th>Closed Won</th>\n",
              "      <td>190</td>\n",
              "    </tr>\n",
              "    <tr>\n",
              "      <th>Account_Name_660</th>\n",
              "      <th>Closed Won</th>\n",
              "      <td>150</td>\n",
              "    </tr>\n",
              "    <tr>\n",
              "      <th>Account_Name_1994</th>\n",
              "      <th>Closed Won</th>\n",
              "      <td>139</td>\n",
              "    </tr>\n",
              "    <tr>\n",
              "      <th>Account_Name_1274</th>\n",
              "      <th>Closed Won</th>\n",
              "      <td>124</td>\n",
              "    </tr>\n",
              "    <tr>\n",
              "      <th>Account_Name_1693</th>\n",
              "      <th>Closed Won</th>\n",
              "      <td>118</td>\n",
              "    </tr>\n",
              "    <tr>\n",
              "      <th>Account_Name_1757</th>\n",
              "      <th>Closed Won</th>\n",
              "      <td>96</td>\n",
              "    </tr>\n",
              "    <tr>\n",
              "      <th>Account_Name_501</th>\n",
              "      <th>Closed Won</th>\n",
              "      <td>90</td>\n",
              "    </tr>\n",
              "    <tr>\n",
              "      <th>Account_Name_1411</th>\n",
              "      <th>Closed Won</th>\n",
              "      <td>87</td>\n",
              "    </tr>\n",
              "    <tr>\n",
              "      <th>Account_Name_271</th>\n",
              "      <th>Closed Won</th>\n",
              "      <td>87</td>\n",
              "    </tr>\n",
              "    <tr>\n",
              "      <th>Account_Name_1075</th>\n",
              "      <th>Closed Won</th>\n",
              "      <td>86</td>\n",
              "    </tr>\n",
              "    <tr>\n",
              "      <th>Account_Name_1448</th>\n",
              "      <th>Closed Won</th>\n",
              "      <td>85</td>\n",
              "    </tr>\n",
              "  </tbody>\n",
              "</table>\n",
              "</div>"
            ],
            "text/plain": [
              "                              cant\n",
              "Account_Name      Stage           \n",
              "Account_Name_1888 Closed Won  1018\n",
              "Account_Name_1836 Closed Won   795\n",
              "Account_Name_25   Closed Won   539\n",
              "Account_Name_1991 Closed Won   520\n",
              "Account_Name_1508 Closed Won   323\n",
              "Account_Name_1440 Closed Won   267\n",
              "Account_Name_263  Closed Won   205\n",
              "Account_Name_1642 Closed Won   204\n",
              "Account_Name_931  Closed Won   203\n",
              "Account_Name_533  Closed Won   190\n",
              "Account_Name_660  Closed Won   150\n",
              "Account_Name_1994 Closed Won   139\n",
              "Account_Name_1274 Closed Won   124\n",
              "Account_Name_1693 Closed Won   118\n",
              "Account_Name_1757 Closed Won    96\n",
              "Account_Name_501  Closed Won    90\n",
              "Account_Name_1411 Closed Won    87\n",
              "Account_Name_271  Closed Won    87\n",
              "Account_Name_1075 Closed Won    86\n",
              "Account_Name_1448 Closed Won    85"
            ]
          },
          "metadata": {
            "tags": []
          },
          "execution_count": 24
        }
      ]
    },
    {
      "cell_type": "code",
      "metadata": {
        "id": "QFcNhrXhDeKl",
        "outputId": "5c0b7f5f-1433-4f7f-d70e-37cb8ca50c67",
        "colab": {
          "base_uri": "https://localhost:8080/",
          "height": 709
        }
      },
      "source": [
        "#Europa, Oriente Medio y África.\n",
        "entrenamiento.groupby(['Account_Name','Region']).agg(cant=('Stage','count')).nlargest(20,'cant')"
      ],
      "execution_count": null,
      "outputs": [
        {
          "output_type": "execute_result",
          "data": {
            "text/html": [
              "<div>\n",
              "<style scoped>\n",
              "    .dataframe tbody tr th:only-of-type {\n",
              "        vertical-align: middle;\n",
              "    }\n",
              "\n",
              "    .dataframe tbody tr th {\n",
              "        vertical-align: top;\n",
              "    }\n",
              "\n",
              "    .dataframe thead th {\n",
              "        text-align: right;\n",
              "    }\n",
              "</style>\n",
              "<table border=\"1\" class=\"dataframe\">\n",
              "  <thead>\n",
              "    <tr style=\"text-align: right;\">\n",
              "      <th></th>\n",
              "      <th></th>\n",
              "      <th>cant</th>\n",
              "    </tr>\n",
              "    <tr>\n",
              "      <th>Account_Name</th>\n",
              "      <th>Region</th>\n",
              "      <th></th>\n",
              "    </tr>\n",
              "  </thead>\n",
              "  <tbody>\n",
              "    <tr>\n",
              "      <th>Account_Name_1888</th>\n",
              "      <th>Japan</th>\n",
              "      <td>2124</td>\n",
              "    </tr>\n",
              "    <tr>\n",
              "      <th>Account_Name_1836</th>\n",
              "      <th>Japan</th>\n",
              "      <td>886</td>\n",
              "    </tr>\n",
              "    <tr>\n",
              "      <th>Account_Name_25</th>\n",
              "      <th>Americas</th>\n",
              "      <td>752</td>\n",
              "    </tr>\n",
              "    <tr>\n",
              "      <th>Account_Name_1991</th>\n",
              "      <th>Japan</th>\n",
              "      <td>586</td>\n",
              "    </tr>\n",
              "    <tr>\n",
              "      <th>Account_Name_1642</th>\n",
              "      <th>APAC</th>\n",
              "      <td>397</td>\n",
              "    </tr>\n",
              "    <tr>\n",
              "      <th>Account_Name_1508</th>\n",
              "      <th>Japan</th>\n",
              "      <td>355</td>\n",
              "    </tr>\n",
              "    <tr>\n",
              "      <th>Account_Name_1440</th>\n",
              "      <th>APAC</th>\n",
              "      <td>317</td>\n",
              "    </tr>\n",
              "    <tr>\n",
              "      <th>Account_Name_533</th>\n",
              "      <th>EMEA</th>\n",
              "      <td>283</td>\n",
              "    </tr>\n",
              "    <tr>\n",
              "      <th>Account_Name_263</th>\n",
              "      <th>EMEA</th>\n",
              "      <td>249</td>\n",
              "    </tr>\n",
              "    <tr>\n",
              "      <th>Account_Name_660</th>\n",
              "      <th>APAC</th>\n",
              "      <td>231</td>\n",
              "    </tr>\n",
              "    <tr>\n",
              "      <th>Account_Name_931</th>\n",
              "      <th>APAC</th>\n",
              "      <td>215</td>\n",
              "    </tr>\n",
              "    <tr>\n",
              "      <th>Account_Name_1994</th>\n",
              "      <th>EMEA</th>\n",
              "      <td>152</td>\n",
              "    </tr>\n",
              "    <tr>\n",
              "      <th>Account_Name_1274</th>\n",
              "      <th>EMEA</th>\n",
              "      <td>144</td>\n",
              "    </tr>\n",
              "    <tr>\n",
              "      <th>Account_Name_271</th>\n",
              "      <th>EMEA</th>\n",
              "      <td>131</td>\n",
              "    </tr>\n",
              "    <tr>\n",
              "      <th>Account_Name_1757</th>\n",
              "      <th>EMEA</th>\n",
              "      <td>127</td>\n",
              "    </tr>\n",
              "    <tr>\n",
              "      <th>Account_Name_1693</th>\n",
              "      <th>EMEA</th>\n",
              "      <td>125</td>\n",
              "    </tr>\n",
              "    <tr>\n",
              "      <th>Account_Name_501</th>\n",
              "      <th>Japan</th>\n",
              "      <td>117</td>\n",
              "    </tr>\n",
              "    <tr>\n",
              "      <th>Account_Name_1067</th>\n",
              "      <th>EMEA</th>\n",
              "      <td>116</td>\n",
              "    </tr>\n",
              "    <tr>\n",
              "      <th>Account_Name_1075</th>\n",
              "      <th>Japan</th>\n",
              "      <td>105</td>\n",
              "    </tr>\n",
              "    <tr>\n",
              "      <th>Account_Name_1448</th>\n",
              "      <th>Americas</th>\n",
              "      <td>101</td>\n",
              "    </tr>\n",
              "  </tbody>\n",
              "</table>\n",
              "</div>"
            ],
            "text/plain": [
              "                            cant\n",
              "Account_Name      Region        \n",
              "Account_Name_1888 Japan     2124\n",
              "Account_Name_1836 Japan      886\n",
              "Account_Name_25   Americas   752\n",
              "Account_Name_1991 Japan      586\n",
              "Account_Name_1642 APAC       397\n",
              "Account_Name_1508 Japan      355\n",
              "Account_Name_1440 APAC       317\n",
              "Account_Name_533  EMEA       283\n",
              "Account_Name_263  EMEA       249\n",
              "Account_Name_660  APAC       231\n",
              "Account_Name_931  APAC       215\n",
              "Account_Name_1994 EMEA       152\n",
              "Account_Name_1274 EMEA       144\n",
              "Account_Name_271  EMEA       131\n",
              "Account_Name_1757 EMEA       127\n",
              "Account_Name_1693 EMEA       125\n",
              "Account_Name_501  Japan      117\n",
              "Account_Name_1067 EMEA       116\n",
              "Account_Name_1075 Japan      105\n",
              "Account_Name_1448 Americas   101"
            ]
          },
          "metadata": {
            "tags": []
          },
          "execution_count": 22
        }
      ]
    },
    {
      "cell_type": "code",
      "metadata": {
        "id": "g5NjF3BBZskn"
      },
      "source": [
        "ka=entrenamiento.groupby(['Region','Account_Name']).agg(cant=('Stage','count')).nlargest(20,'cant').groupby(['Region','Account_Name'],level='Region')"
      ],
      "execution_count": null,
      "outputs": []
    },
    {
      "cell_type": "code",
      "metadata": {
        "id": "TtWHsoV0pz77"
      },
      "source": [
        "#for key, item in ka:\n",
        "#    print(ka.get_group(key), \"\\n\\n\")"
      ],
      "execution_count": null,
      "outputs": []
    },
    {
      "cell_type": "code",
      "metadata": {
        "id": "uW0TK3EUEnJo",
        "outputId": "f9b5dadb-1379-462a-db7f-a35959516502",
        "colab": {
          "base_uri": "https://localhost:8080/",
          "height": 677
        }
      },
      "source": [
        "z=entrenamiento.loc[entrenamiento['Stage']=='Closed Won',:].groupby(['Region','Account_Name']).agg(cant=('Account_Name','count'))\\\n",
        ".nlargest(20,'cant').reset_index()\n",
        "z\n",
        "\n"
      ],
      "execution_count": null,
      "outputs": [
        {
          "output_type": "execute_result",
          "data": {
            "text/html": [
              "<div>\n",
              "<style scoped>\n",
              "    .dataframe tbody tr th:only-of-type {\n",
              "        vertical-align: middle;\n",
              "    }\n",
              "\n",
              "    .dataframe tbody tr th {\n",
              "        vertical-align: top;\n",
              "    }\n",
              "\n",
              "    .dataframe thead th {\n",
              "        text-align: right;\n",
              "    }\n",
              "</style>\n",
              "<table border=\"1\" class=\"dataframe\">\n",
              "  <thead>\n",
              "    <tr style=\"text-align: right;\">\n",
              "      <th></th>\n",
              "      <th>Region</th>\n",
              "      <th>Account_Name</th>\n",
              "      <th>cant</th>\n",
              "    </tr>\n",
              "  </thead>\n",
              "  <tbody>\n",
              "    <tr>\n",
              "      <th>0</th>\n",
              "      <td>Japan</td>\n",
              "      <td>Account_Name_1888</td>\n",
              "      <td>1018</td>\n",
              "    </tr>\n",
              "    <tr>\n",
              "      <th>1</th>\n",
              "      <td>Japan</td>\n",
              "      <td>Account_Name_1836</td>\n",
              "      <td>795</td>\n",
              "    </tr>\n",
              "    <tr>\n",
              "      <th>2</th>\n",
              "      <td>Americas</td>\n",
              "      <td>Account_Name_25</td>\n",
              "      <td>539</td>\n",
              "    </tr>\n",
              "    <tr>\n",
              "      <th>3</th>\n",
              "      <td>Japan</td>\n",
              "      <td>Account_Name_1991</td>\n",
              "      <td>520</td>\n",
              "    </tr>\n",
              "    <tr>\n",
              "      <th>4</th>\n",
              "      <td>Japan</td>\n",
              "      <td>Account_Name_1508</td>\n",
              "      <td>323</td>\n",
              "    </tr>\n",
              "    <tr>\n",
              "      <th>5</th>\n",
              "      <td>APAC</td>\n",
              "      <td>Account_Name_1440</td>\n",
              "      <td>267</td>\n",
              "    </tr>\n",
              "    <tr>\n",
              "      <th>6</th>\n",
              "      <td>EMEA</td>\n",
              "      <td>Account_Name_263</td>\n",
              "      <td>205</td>\n",
              "    </tr>\n",
              "    <tr>\n",
              "      <th>7</th>\n",
              "      <td>APAC</td>\n",
              "      <td>Account_Name_1642</td>\n",
              "      <td>204</td>\n",
              "    </tr>\n",
              "    <tr>\n",
              "      <th>8</th>\n",
              "      <td>APAC</td>\n",
              "      <td>Account_Name_931</td>\n",
              "      <td>203</td>\n",
              "    </tr>\n",
              "    <tr>\n",
              "      <th>9</th>\n",
              "      <td>EMEA</td>\n",
              "      <td>Account_Name_533</td>\n",
              "      <td>190</td>\n",
              "    </tr>\n",
              "    <tr>\n",
              "      <th>10</th>\n",
              "      <td>APAC</td>\n",
              "      <td>Account_Name_660</td>\n",
              "      <td>150</td>\n",
              "    </tr>\n",
              "    <tr>\n",
              "      <th>11</th>\n",
              "      <td>EMEA</td>\n",
              "      <td>Account_Name_1994</td>\n",
              "      <td>139</td>\n",
              "    </tr>\n",
              "    <tr>\n",
              "      <th>12</th>\n",
              "      <td>EMEA</td>\n",
              "      <td>Account_Name_1274</td>\n",
              "      <td>124</td>\n",
              "    </tr>\n",
              "    <tr>\n",
              "      <th>13</th>\n",
              "      <td>EMEA</td>\n",
              "      <td>Account_Name_1693</td>\n",
              "      <td>118</td>\n",
              "    </tr>\n",
              "    <tr>\n",
              "      <th>14</th>\n",
              "      <td>EMEA</td>\n",
              "      <td>Account_Name_1757</td>\n",
              "      <td>96</td>\n",
              "    </tr>\n",
              "    <tr>\n",
              "      <th>15</th>\n",
              "      <td>Japan</td>\n",
              "      <td>Account_Name_501</td>\n",
              "      <td>90</td>\n",
              "    </tr>\n",
              "    <tr>\n",
              "      <th>16</th>\n",
              "      <td>APAC</td>\n",
              "      <td>Account_Name_1411</td>\n",
              "      <td>87</td>\n",
              "    </tr>\n",
              "    <tr>\n",
              "      <th>17</th>\n",
              "      <td>EMEA</td>\n",
              "      <td>Account_Name_271</td>\n",
              "      <td>87</td>\n",
              "    </tr>\n",
              "    <tr>\n",
              "      <th>18</th>\n",
              "      <td>Japan</td>\n",
              "      <td>Account_Name_1075</td>\n",
              "      <td>86</td>\n",
              "    </tr>\n",
              "    <tr>\n",
              "      <th>19</th>\n",
              "      <td>Americas</td>\n",
              "      <td>Account_Name_1448</td>\n",
              "      <td>85</td>\n",
              "    </tr>\n",
              "  </tbody>\n",
              "</table>\n",
              "</div>"
            ],
            "text/plain": [
              "      Region       Account_Name  cant\n",
              "0      Japan  Account_Name_1888  1018\n",
              "1      Japan  Account_Name_1836   795\n",
              "2   Americas    Account_Name_25   539\n",
              "3      Japan  Account_Name_1991   520\n",
              "4      Japan  Account_Name_1508   323\n",
              "5       APAC  Account_Name_1440   267\n",
              "6       EMEA   Account_Name_263   205\n",
              "7       APAC  Account_Name_1642   204\n",
              "8       APAC   Account_Name_931   203\n",
              "9       EMEA   Account_Name_533   190\n",
              "10      APAC   Account_Name_660   150\n",
              "11      EMEA  Account_Name_1994   139\n",
              "12      EMEA  Account_Name_1274   124\n",
              "13      EMEA  Account_Name_1693   118\n",
              "14      EMEA  Account_Name_1757    96\n",
              "15     Japan   Account_Name_501    90\n",
              "16      APAC  Account_Name_1411    87\n",
              "17      EMEA   Account_Name_271    87\n",
              "18     Japan  Account_Name_1075    86\n",
              "19  Americas  Account_Name_1448    85"
            ]
          },
          "metadata": {
            "tags": []
          },
          "execution_count": 57
        }
      ]
    },
    {
      "cell_type": "code",
      "metadata": {
        "id": "FVmbzfrsqrOZ",
        "outputId": "cb18f158-f105-4abe-dfc7-b5526d59ced8",
        "colab": {
          "base_uri": "https://localhost:8080/",
          "height": 368
        }
      },
      "source": [
        "sns.scatterplot(z, x=\"Account_Name\", y=\"Region\")"
      ],
      "execution_count": null,
      "outputs": [
        {
          "output_type": "stream",
          "text": [
            "/usr/local/lib/python3.6/dist-packages/seaborn/_decorators.py:43: FutureWarning: Pass the following variable as a keyword arg: x. From version 0.12, the only valid positional argument will be `data`, and passing other arguments without an explicit keyword will result in an error or misinterpretation.\n",
            "  FutureWarning\n"
          ],
          "name": "stderr"
        },
        {
          "output_type": "error",
          "ename": "ValueError",
          "evalue": "ignored",
          "traceback": [
            "\u001b[0;31m---------------------------------------------------------------------------\u001b[0m",
            "\u001b[0;31mValueError\u001b[0m                                Traceback (most recent call last)",
            "\u001b[0;32m<ipython-input-58-ee86b1b6c2c6>\u001b[0m in \u001b[0;36m<module>\u001b[0;34m()\u001b[0m\n\u001b[0;32m----> 1\u001b[0;31m \u001b[0msns\u001b[0m\u001b[0;34m.\u001b[0m\u001b[0mscatterplot\u001b[0m\u001b[0;34m(\u001b[0m\u001b[0mz\u001b[0m\u001b[0;34m,\u001b[0m \u001b[0mx\u001b[0m\u001b[0;34m=\u001b[0m\u001b[0;34m\"Account_Name\"\u001b[0m\u001b[0;34m,\u001b[0m \u001b[0my\u001b[0m\u001b[0;34m=\u001b[0m\u001b[0;34m\"Region\"\u001b[0m\u001b[0;34m)\u001b[0m\u001b[0;34m\u001b[0m\u001b[0;34m\u001b[0m\u001b[0m\n\u001b[0m",
            "\u001b[0;32m/usr/local/lib/python3.6/dist-packages/seaborn/_decorators.py\u001b[0m in \u001b[0;36minner_f\u001b[0;34m(*args, **kwargs)\u001b[0m\n\u001b[1;32m     44\u001b[0m             )\n\u001b[1;32m     45\u001b[0m         \u001b[0mkwargs\u001b[0m\u001b[0;34m.\u001b[0m\u001b[0mupdate\u001b[0m\u001b[0;34m(\u001b[0m\u001b[0;34m{\u001b[0m\u001b[0mk\u001b[0m\u001b[0;34m:\u001b[0m \u001b[0marg\u001b[0m \u001b[0;32mfor\u001b[0m \u001b[0mk\u001b[0m\u001b[0;34m,\u001b[0m \u001b[0marg\u001b[0m \u001b[0;32min\u001b[0m \u001b[0mzip\u001b[0m\u001b[0;34m(\u001b[0m\u001b[0msig\u001b[0m\u001b[0;34m.\u001b[0m\u001b[0mparameters\u001b[0m\u001b[0;34m,\u001b[0m \u001b[0margs\u001b[0m\u001b[0;34m)\u001b[0m\u001b[0;34m}\u001b[0m\u001b[0;34m)\u001b[0m\u001b[0;34m\u001b[0m\u001b[0;34m\u001b[0m\u001b[0m\n\u001b[0;32m---> 46\u001b[0;31m         \u001b[0;32mreturn\u001b[0m \u001b[0mf\u001b[0m\u001b[0;34m(\u001b[0m\u001b[0;34m**\u001b[0m\u001b[0mkwargs\u001b[0m\u001b[0;34m)\u001b[0m\u001b[0;34m\u001b[0m\u001b[0;34m\u001b[0m\u001b[0m\n\u001b[0m\u001b[1;32m     47\u001b[0m     \u001b[0;32mreturn\u001b[0m \u001b[0minner_f\u001b[0m\u001b[0;34m\u001b[0m\u001b[0;34m\u001b[0m\u001b[0m\n\u001b[1;32m     48\u001b[0m \u001b[0;34m\u001b[0m\u001b[0m\n",
            "\u001b[0;32m/usr/local/lib/python3.6/dist-packages/seaborn/relational.py\u001b[0m in \u001b[0;36mscatterplot\u001b[0;34m(x, y, hue, style, size, data, palette, hue_order, hue_norm, sizes, size_order, size_norm, markers, style_order, x_bins, y_bins, units, estimator, ci, n_boot, alpha, x_jitter, y_jitter, legend, ax, **kwargs)\u001b[0m\n\u001b[1;32m    796\u001b[0m         \u001b[0mx_bins\u001b[0m\u001b[0;34m=\u001b[0m\u001b[0mx_bins\u001b[0m\u001b[0;34m,\u001b[0m \u001b[0my_bins\u001b[0m\u001b[0;34m=\u001b[0m\u001b[0my_bins\u001b[0m\u001b[0;34m,\u001b[0m\u001b[0;34m\u001b[0m\u001b[0;34m\u001b[0m\u001b[0m\n\u001b[1;32m    797\u001b[0m         \u001b[0mestimator\u001b[0m\u001b[0;34m=\u001b[0m\u001b[0mestimator\u001b[0m\u001b[0;34m,\u001b[0m \u001b[0mci\u001b[0m\u001b[0;34m=\u001b[0m\u001b[0mci\u001b[0m\u001b[0;34m,\u001b[0m \u001b[0mn_boot\u001b[0m\u001b[0;34m=\u001b[0m\u001b[0mn_boot\u001b[0m\u001b[0;34m,\u001b[0m\u001b[0;34m\u001b[0m\u001b[0;34m\u001b[0m\u001b[0m\n\u001b[0;32m--> 798\u001b[0;31m         \u001b[0malpha\u001b[0m\u001b[0;34m=\u001b[0m\u001b[0malpha\u001b[0m\u001b[0;34m,\u001b[0m \u001b[0mx_jitter\u001b[0m\u001b[0;34m=\u001b[0m\u001b[0mx_jitter\u001b[0m\u001b[0;34m,\u001b[0m \u001b[0my_jitter\u001b[0m\u001b[0;34m=\u001b[0m\u001b[0my_jitter\u001b[0m\u001b[0;34m,\u001b[0m \u001b[0mlegend\u001b[0m\u001b[0;34m=\u001b[0m\u001b[0mlegend\u001b[0m\u001b[0;34m,\u001b[0m\u001b[0;34m\u001b[0m\u001b[0;34m\u001b[0m\u001b[0m\n\u001b[0m\u001b[1;32m    799\u001b[0m     )\n\u001b[1;32m    800\u001b[0m \u001b[0;34m\u001b[0m\u001b[0m\n",
            "\u001b[0;32m/usr/local/lib/python3.6/dist-packages/seaborn/relational.py\u001b[0m in \u001b[0;36m__init__\u001b[0;34m(self, data, variables, x_bins, y_bins, estimator, ci, n_boot, alpha, x_jitter, y_jitter, legend)\u001b[0m\n\u001b[1;32m    578\u001b[0m         )\n\u001b[1;32m    579\u001b[0m \u001b[0;34m\u001b[0m\u001b[0m\n\u001b[0;32m--> 580\u001b[0;31m         \u001b[0msuper\u001b[0m\u001b[0;34m(\u001b[0m\u001b[0;34m)\u001b[0m\u001b[0;34m.\u001b[0m\u001b[0m__init__\u001b[0m\u001b[0;34m(\u001b[0m\u001b[0mdata\u001b[0m\u001b[0;34m=\u001b[0m\u001b[0mdata\u001b[0m\u001b[0;34m,\u001b[0m \u001b[0mvariables\u001b[0m\u001b[0;34m=\u001b[0m\u001b[0mvariables\u001b[0m\u001b[0;34m)\u001b[0m\u001b[0;34m\u001b[0m\u001b[0;34m\u001b[0m\u001b[0m\n\u001b[0m\u001b[1;32m    581\u001b[0m \u001b[0;34m\u001b[0m\u001b[0m\n\u001b[1;32m    582\u001b[0m         \u001b[0mself\u001b[0m\u001b[0;34m.\u001b[0m\u001b[0malpha\u001b[0m \u001b[0;34m=\u001b[0m \u001b[0malpha\u001b[0m\u001b[0;34m\u001b[0m\u001b[0;34m\u001b[0m\u001b[0m\n",
            "\u001b[0;32m/usr/local/lib/python3.6/dist-packages/seaborn/_core.py\u001b[0m in \u001b[0;36m__init__\u001b[0;34m(self, data, variables)\u001b[0m\n\u001b[1;32m    602\u001b[0m     \u001b[0;32mdef\u001b[0m \u001b[0m__init__\u001b[0m\u001b[0;34m(\u001b[0m\u001b[0mself\u001b[0m\u001b[0;34m,\u001b[0m \u001b[0mdata\u001b[0m\u001b[0;34m=\u001b[0m\u001b[0;32mNone\u001b[0m\u001b[0;34m,\u001b[0m \u001b[0mvariables\u001b[0m\u001b[0;34m=\u001b[0m\u001b[0;34m{\u001b[0m\u001b[0;34m}\u001b[0m\u001b[0;34m)\u001b[0m\u001b[0;34m:\u001b[0m\u001b[0;34m\u001b[0m\u001b[0;34m\u001b[0m\u001b[0m\n\u001b[1;32m    603\u001b[0m \u001b[0;34m\u001b[0m\u001b[0m\n\u001b[0;32m--> 604\u001b[0;31m         \u001b[0mself\u001b[0m\u001b[0;34m.\u001b[0m\u001b[0massign_variables\u001b[0m\u001b[0;34m(\u001b[0m\u001b[0mdata\u001b[0m\u001b[0;34m,\u001b[0m \u001b[0mvariables\u001b[0m\u001b[0;34m)\u001b[0m\u001b[0;34m\u001b[0m\u001b[0;34m\u001b[0m\u001b[0m\n\u001b[0m\u001b[1;32m    605\u001b[0m \u001b[0;34m\u001b[0m\u001b[0m\n\u001b[1;32m    606\u001b[0m         \u001b[0;32mfor\u001b[0m \u001b[0mvar\u001b[0m\u001b[0;34m,\u001b[0m \u001b[0mcls\u001b[0m \u001b[0;32min\u001b[0m \u001b[0mself\u001b[0m\u001b[0;34m.\u001b[0m\u001b[0m_semantic_mappings\u001b[0m\u001b[0;34m.\u001b[0m\u001b[0mitems\u001b[0m\u001b[0;34m(\u001b[0m\u001b[0;34m)\u001b[0m\u001b[0;34m:\u001b[0m\u001b[0;34m\u001b[0m\u001b[0;34m\u001b[0m\u001b[0m\n",
            "\u001b[0;32m/usr/local/lib/python3.6/dist-packages/seaborn/_core.py\u001b[0m in \u001b[0;36massign_variables\u001b[0;34m(self, data, variables)\u001b[0m\n\u001b[1;32m    666\u001b[0m             \u001b[0mself\u001b[0m\u001b[0;34m.\u001b[0m\u001b[0minput_format\u001b[0m \u001b[0;34m=\u001b[0m \u001b[0;34m\"long\"\u001b[0m\u001b[0;34m\u001b[0m\u001b[0;34m\u001b[0m\u001b[0m\n\u001b[1;32m    667\u001b[0m             plot_data, variables = self._assign_variables_longform(\n\u001b[0;32m--> 668\u001b[0;31m                 \u001b[0mdata\u001b[0m\u001b[0;34m,\u001b[0m \u001b[0;34m**\u001b[0m\u001b[0mvariables\u001b[0m\u001b[0;34m,\u001b[0m\u001b[0;34m\u001b[0m\u001b[0;34m\u001b[0m\u001b[0m\n\u001b[0m\u001b[1;32m    669\u001b[0m             )\n\u001b[1;32m    670\u001b[0m \u001b[0;34m\u001b[0m\u001b[0m\n",
            "\u001b[0;32m/usr/local/lib/python3.6/dist-packages/seaborn/_core.py\u001b[0m in \u001b[0;36m_assign_variables_longform\u001b[0;34m(self, data, **kwargs)\u001b[0m\n\u001b[1;32m    885\u001b[0m                     \u001b[0;31m# We don't know what this name means\u001b[0m\u001b[0;34m\u001b[0m\u001b[0;34m\u001b[0m\u001b[0;34m\u001b[0m\u001b[0m\n\u001b[1;32m    886\u001b[0m                     \u001b[0merr\u001b[0m \u001b[0;34m=\u001b[0m \u001b[0;34mf\"Could not interpret value `{val}` for parameter `{key}`\"\u001b[0m\u001b[0;34m\u001b[0m\u001b[0;34m\u001b[0m\u001b[0m\n\u001b[0;32m--> 887\u001b[0;31m                     \u001b[0;32mraise\u001b[0m \u001b[0mValueError\u001b[0m\u001b[0;34m(\u001b[0m\u001b[0merr\u001b[0m\u001b[0;34m)\u001b[0m\u001b[0;34m\u001b[0m\u001b[0;34m\u001b[0m\u001b[0m\n\u001b[0m\u001b[1;32m    888\u001b[0m \u001b[0;34m\u001b[0m\u001b[0m\n\u001b[1;32m    889\u001b[0m             \u001b[0;32melse\u001b[0m\u001b[0;34m:\u001b[0m\u001b[0;34m\u001b[0m\u001b[0;34m\u001b[0m\u001b[0m\n",
            "\u001b[0;31mValueError\u001b[0m: Could not interpret value `Region` for parameter `y`"
          ]
        }
      ]
    },
    {
      "cell_type": "code",
      "metadata": {
        "id": "rPkS8WkZjeIK"
      },
      "source": [
        "entrenamiento['acount_amount_mayor_media']=entrenamiento.loc[entrenamiento['Stage']=='Closed Won',:].groupby(['Region','Account_Name']).agg(cant=('Account_Name','count'))\\\n",
        ".reset_index().groupby('Region')['cant'].transform(lambda x: x>x.mean())"
      ],
      "execution_count": null,
      "outputs": []
    },
    {
      "cell_type": "code",
      "metadata": {
        "id": "a2koEm7Sm8Tc",
        "outputId": "1bf30871-072c-420b-c91f-54e3dd5b0498",
        "colab": {
          "base_uri": "https://localhost:8080/",
          "height": 69
        }
      },
      "source": [
        "entrenamiento['acount_amount_mayor_media'].value_counts()"
      ],
      "execution_count": null,
      "outputs": [
        {
          "output_type": "execute_result",
          "data": {
            "text/plain": [
              "False    556\n",
              "True     115\n",
              "Name: acount_amount_mayor_media, dtype: int64"
            ]
          },
          "metadata": {
            "tags": []
          },
          "execution_count": 47
        }
      ]
    },
    {
      "cell_type": "code",
      "metadata": {
        "id": "pvIxObs1kqZ7",
        "outputId": "7d9fb47f-0e7e-4d89-a95f-1c4c4db43809",
        "colab": {
          "base_uri": "https://localhost:8080/",
          "height": 1000
        }
      },
      "source": [
        "entrenamiento.loc[entrenamiento['acount_amount_mayor_media']==True,:].groupby(['Region','Account_Name']).agg(cant=('Account_Name','count'))\\\n"
      ],
      "execution_count": null,
      "outputs": [
        {
          "output_type": "execute_result",
          "data": {
            "text/html": [
              "<div>\n",
              "<style scoped>\n",
              "    .dataframe tbody tr th:only-of-type {\n",
              "        vertical-align: middle;\n",
              "    }\n",
              "\n",
              "    .dataframe tbody tr th {\n",
              "        vertical-align: top;\n",
              "    }\n",
              "\n",
              "    .dataframe thead th {\n",
              "        text-align: right;\n",
              "    }\n",
              "</style>\n",
              "<table border=\"1\" class=\"dataframe\">\n",
              "  <thead>\n",
              "    <tr style=\"text-align: right;\">\n",
              "      <th></th>\n",
              "      <th></th>\n",
              "      <th>cant</th>\n",
              "    </tr>\n",
              "    <tr>\n",
              "      <th>Region</th>\n",
              "      <th>Account_Name</th>\n",
              "      <th></th>\n",
              "    </tr>\n",
              "  </thead>\n",
              "  <tbody>\n",
              "    <tr>\n",
              "      <th rowspan=\"6\" valign=\"top\">APAC</th>\n",
              "      <th>Account_Name_1041</th>\n",
              "      <td>1</td>\n",
              "    </tr>\n",
              "    <tr>\n",
              "      <th>Account_Name_1394</th>\n",
              "      <td>1</td>\n",
              "    </tr>\n",
              "    <tr>\n",
              "      <th>Account_Name_1440</th>\n",
              "      <td>2</td>\n",
              "    </tr>\n",
              "    <tr>\n",
              "      <th>Account_Name_1920</th>\n",
              "      <td>1</td>\n",
              "    </tr>\n",
              "    <tr>\n",
              "      <th>Account_Name_461</th>\n",
              "      <td>1</td>\n",
              "    </tr>\n",
              "    <tr>\n",
              "      <th>Account_Name_993</th>\n",
              "      <td>1</td>\n",
              "    </tr>\n",
              "    <tr>\n",
              "      <th rowspan=\"11\" valign=\"top\">Americas</th>\n",
              "      <th>Account_Name_1159</th>\n",
              "      <td>1</td>\n",
              "    </tr>\n",
              "    <tr>\n",
              "      <th>Account_Name_1226</th>\n",
              "      <td>1</td>\n",
              "    </tr>\n",
              "    <tr>\n",
              "      <th>Account_Name_1428</th>\n",
              "      <td>1</td>\n",
              "    </tr>\n",
              "    <tr>\n",
              "      <th>Account_Name_1547</th>\n",
              "      <td>1</td>\n",
              "    </tr>\n",
              "    <tr>\n",
              "      <th>Account_Name_1662</th>\n",
              "      <td>1</td>\n",
              "    </tr>\n",
              "    <tr>\n",
              "      <th>Account_Name_1794</th>\n",
              "      <td>1</td>\n",
              "    </tr>\n",
              "    <tr>\n",
              "      <th>Account_Name_1808</th>\n",
              "      <td>1</td>\n",
              "    </tr>\n",
              "    <tr>\n",
              "      <th>Account_Name_1866</th>\n",
              "      <td>1</td>\n",
              "    </tr>\n",
              "    <tr>\n",
              "      <th>Account_Name_1925</th>\n",
              "      <td>1</td>\n",
              "    </tr>\n",
              "    <tr>\n",
              "      <th>Account_Name_217</th>\n",
              "      <td>1</td>\n",
              "    </tr>\n",
              "    <tr>\n",
              "      <th>Account_Name_961</th>\n",
              "      <td>3</td>\n",
              "    </tr>\n",
              "    <tr>\n",
              "      <th rowspan=\"13\" valign=\"top\">EMEA</th>\n",
              "      <th>Account_Name_1274</th>\n",
              "      <td>1</td>\n",
              "    </tr>\n",
              "    <tr>\n",
              "      <th>Account_Name_1374</th>\n",
              "      <td>1</td>\n",
              "    </tr>\n",
              "    <tr>\n",
              "      <th>Account_Name_1459</th>\n",
              "      <td>1</td>\n",
              "    </tr>\n",
              "    <tr>\n",
              "      <th>Account_Name_1826</th>\n",
              "      <td>1</td>\n",
              "    </tr>\n",
              "    <tr>\n",
              "      <th>Account_Name_2021</th>\n",
              "      <td>2</td>\n",
              "    </tr>\n",
              "    <tr>\n",
              "      <th>Account_Name_2060</th>\n",
              "      <td>1</td>\n",
              "    </tr>\n",
              "    <tr>\n",
              "      <th>Account_Name_446</th>\n",
              "      <td>1</td>\n",
              "    </tr>\n",
              "    <tr>\n",
              "      <th>Account_Name_459</th>\n",
              "      <td>1</td>\n",
              "    </tr>\n",
              "    <tr>\n",
              "      <th>Account_Name_533</th>\n",
              "      <td>3</td>\n",
              "    </tr>\n",
              "    <tr>\n",
              "      <th>Account_Name_59</th>\n",
              "      <td>1</td>\n",
              "    </tr>\n",
              "    <tr>\n",
              "      <th>Account_Name_673</th>\n",
              "      <td>1</td>\n",
              "    </tr>\n",
              "    <tr>\n",
              "      <th>Account_Name_686</th>\n",
              "      <td>2</td>\n",
              "    </tr>\n",
              "    <tr>\n",
              "      <th>Account_Name_951</th>\n",
              "      <td>1</td>\n",
              "    </tr>\n",
              "    <tr>\n",
              "      <th rowspan=\"4\" valign=\"top\">Japan</th>\n",
              "      <th>Account_Name_1522</th>\n",
              "      <td>3</td>\n",
              "    </tr>\n",
              "    <tr>\n",
              "      <th>Account_Name_1836</th>\n",
              "      <td>1</td>\n",
              "    </tr>\n",
              "    <tr>\n",
              "      <th>Account_Name_1888</th>\n",
              "      <td>71</td>\n",
              "    </tr>\n",
              "    <tr>\n",
              "      <th>Account_Name_1991</th>\n",
              "      <td>3</td>\n",
              "    </tr>\n",
              "  </tbody>\n",
              "</table>\n",
              "</div>"
            ],
            "text/plain": [
              "                            cant\n",
              "Region   Account_Name           \n",
              "APAC     Account_Name_1041     1\n",
              "         Account_Name_1394     1\n",
              "         Account_Name_1440     2\n",
              "         Account_Name_1920     1\n",
              "         Account_Name_461      1\n",
              "         Account_Name_993      1\n",
              "Americas Account_Name_1159     1\n",
              "         Account_Name_1226     1\n",
              "         Account_Name_1428     1\n",
              "         Account_Name_1547     1\n",
              "         Account_Name_1662     1\n",
              "         Account_Name_1794     1\n",
              "         Account_Name_1808     1\n",
              "         Account_Name_1866     1\n",
              "         Account_Name_1925     1\n",
              "         Account_Name_217      1\n",
              "         Account_Name_961      3\n",
              "EMEA     Account_Name_1274     1\n",
              "         Account_Name_1374     1\n",
              "         Account_Name_1459     1\n",
              "         Account_Name_1826     1\n",
              "         Account_Name_2021     2\n",
              "         Account_Name_2060     1\n",
              "         Account_Name_446      1\n",
              "         Account_Name_459      1\n",
              "         Account_Name_533      3\n",
              "         Account_Name_59       1\n",
              "         Account_Name_673      1\n",
              "         Account_Name_686      2\n",
              "         Account_Name_951      1\n",
              "Japan    Account_Name_1522     3\n",
              "         Account_Name_1836     1\n",
              "         Account_Name_1888    71\n",
              "         Account_Name_1991     3"
            ]
          },
          "metadata": {
            "tags": []
          },
          "execution_count": 48
        }
      ]
    },
    {
      "cell_type": "code",
      "metadata": {
        "id": "zx0Edf9yjeLs"
      },
      "source": [
        ""
      ],
      "execution_count": null,
      "outputs": []
    },
    {
      "cell_type": "code",
      "metadata": {
        "id": "XKKw3d_HjeRA"
      },
      "source": [
        ""
      ],
      "execution_count": null,
      "outputs": []
    },
    {
      "cell_type": "code",
      "metadata": {
        "id": "muygYRz7d1T5",
        "outputId": "5c677ee7-1dea-4a71-c17b-74921605217c",
        "colab": {
          "base_uri": "https://localhost:8080/",
          "height": 677
        }
      },
      "source": [
        "entrenamiento.loc[entrenamiento['Stage']=='Closed Won',:].groupby(['Region','Account_Name']).agg(cant=('Account_Name','count'))\\\n",
        ".nlargest(20,'cant').reset_index()\n"
      ],
      "execution_count": null,
      "outputs": [
        {
          "output_type": "execute_result",
          "data": {
            "text/html": [
              "<div>\n",
              "<style scoped>\n",
              "    .dataframe tbody tr th:only-of-type {\n",
              "        vertical-align: middle;\n",
              "    }\n",
              "\n",
              "    .dataframe tbody tr th {\n",
              "        vertical-align: top;\n",
              "    }\n",
              "\n",
              "    .dataframe thead th {\n",
              "        text-align: right;\n",
              "    }\n",
              "</style>\n",
              "<table border=\"1\" class=\"dataframe\">\n",
              "  <thead>\n",
              "    <tr style=\"text-align: right;\">\n",
              "      <th></th>\n",
              "      <th>Region</th>\n",
              "      <th>Account_Name</th>\n",
              "      <th>cant</th>\n",
              "    </tr>\n",
              "  </thead>\n",
              "  <tbody>\n",
              "    <tr>\n",
              "      <th>0</th>\n",
              "      <td>Japan</td>\n",
              "      <td>Account_Name_1888</td>\n",
              "      <td>1018</td>\n",
              "    </tr>\n",
              "    <tr>\n",
              "      <th>1</th>\n",
              "      <td>Japan</td>\n",
              "      <td>Account_Name_1836</td>\n",
              "      <td>795</td>\n",
              "    </tr>\n",
              "    <tr>\n",
              "      <th>2</th>\n",
              "      <td>Americas</td>\n",
              "      <td>Account_Name_25</td>\n",
              "      <td>539</td>\n",
              "    </tr>\n",
              "    <tr>\n",
              "      <th>3</th>\n",
              "      <td>Japan</td>\n",
              "      <td>Account_Name_1991</td>\n",
              "      <td>520</td>\n",
              "    </tr>\n",
              "    <tr>\n",
              "      <th>4</th>\n",
              "      <td>Japan</td>\n",
              "      <td>Account_Name_1508</td>\n",
              "      <td>323</td>\n",
              "    </tr>\n",
              "    <tr>\n",
              "      <th>5</th>\n",
              "      <td>APAC</td>\n",
              "      <td>Account_Name_1440</td>\n",
              "      <td>267</td>\n",
              "    </tr>\n",
              "    <tr>\n",
              "      <th>6</th>\n",
              "      <td>EMEA</td>\n",
              "      <td>Account_Name_263</td>\n",
              "      <td>205</td>\n",
              "    </tr>\n",
              "    <tr>\n",
              "      <th>7</th>\n",
              "      <td>APAC</td>\n",
              "      <td>Account_Name_1642</td>\n",
              "      <td>204</td>\n",
              "    </tr>\n",
              "    <tr>\n",
              "      <th>8</th>\n",
              "      <td>APAC</td>\n",
              "      <td>Account_Name_931</td>\n",
              "      <td>203</td>\n",
              "    </tr>\n",
              "    <tr>\n",
              "      <th>9</th>\n",
              "      <td>EMEA</td>\n",
              "      <td>Account_Name_533</td>\n",
              "      <td>190</td>\n",
              "    </tr>\n",
              "    <tr>\n",
              "      <th>10</th>\n",
              "      <td>APAC</td>\n",
              "      <td>Account_Name_660</td>\n",
              "      <td>150</td>\n",
              "    </tr>\n",
              "    <tr>\n",
              "      <th>11</th>\n",
              "      <td>EMEA</td>\n",
              "      <td>Account_Name_1994</td>\n",
              "      <td>139</td>\n",
              "    </tr>\n",
              "    <tr>\n",
              "      <th>12</th>\n",
              "      <td>EMEA</td>\n",
              "      <td>Account_Name_1274</td>\n",
              "      <td>124</td>\n",
              "    </tr>\n",
              "    <tr>\n",
              "      <th>13</th>\n",
              "      <td>EMEA</td>\n",
              "      <td>Account_Name_1693</td>\n",
              "      <td>118</td>\n",
              "    </tr>\n",
              "    <tr>\n",
              "      <th>14</th>\n",
              "      <td>EMEA</td>\n",
              "      <td>Account_Name_1757</td>\n",
              "      <td>96</td>\n",
              "    </tr>\n",
              "    <tr>\n",
              "      <th>15</th>\n",
              "      <td>Japan</td>\n",
              "      <td>Account_Name_501</td>\n",
              "      <td>90</td>\n",
              "    </tr>\n",
              "    <tr>\n",
              "      <th>16</th>\n",
              "      <td>APAC</td>\n",
              "      <td>Account_Name_1411</td>\n",
              "      <td>87</td>\n",
              "    </tr>\n",
              "    <tr>\n",
              "      <th>17</th>\n",
              "      <td>EMEA</td>\n",
              "      <td>Account_Name_271</td>\n",
              "      <td>87</td>\n",
              "    </tr>\n",
              "    <tr>\n",
              "      <th>18</th>\n",
              "      <td>Japan</td>\n",
              "      <td>Account_Name_1075</td>\n",
              "      <td>86</td>\n",
              "    </tr>\n",
              "    <tr>\n",
              "      <th>19</th>\n",
              "      <td>Americas</td>\n",
              "      <td>Account_Name_1448</td>\n",
              "      <td>85</td>\n",
              "    </tr>\n",
              "  </tbody>\n",
              "</table>\n",
              "</div>"
            ],
            "text/plain": [
              "      Region       Account_Name  cant\n",
              "0      Japan  Account_Name_1888  1018\n",
              "1      Japan  Account_Name_1836   795\n",
              "2   Americas    Account_Name_25   539\n",
              "3      Japan  Account_Name_1991   520\n",
              "4      Japan  Account_Name_1508   323\n",
              "5       APAC  Account_Name_1440   267\n",
              "6       EMEA   Account_Name_263   205\n",
              "7       APAC  Account_Name_1642   204\n",
              "8       APAC   Account_Name_931   203\n",
              "9       EMEA   Account_Name_533   190\n",
              "10      APAC   Account_Name_660   150\n",
              "11      EMEA  Account_Name_1994   139\n",
              "12      EMEA  Account_Name_1274   124\n",
              "13      EMEA  Account_Name_1693   118\n",
              "14      EMEA  Account_Name_1757    96\n",
              "15     Japan   Account_Name_501    90\n",
              "16      APAC  Account_Name_1411    87\n",
              "17      EMEA   Account_Name_271    87\n",
              "18     Japan  Account_Name_1075    86\n",
              "19  Americas  Account_Name_1448    85"
            ]
          },
          "metadata": {
            "tags": []
          },
          "execution_count": 27
        }
      ]
    },
    {
      "cell_type": "code",
      "metadata": {
        "id": "U1G2dqo_bFmW",
        "outputId": "39686f91-6297-45f6-e627-b5beb1e56917",
        "colab": {
          "base_uri": "https://localhost:8080/",
          "height": 121
        }
      },
      "source": [
        "entrenamiento['Region'].value_counts()"
      ],
      "execution_count": null,
      "outputs": [
        {
          "output_type": "execute_result",
          "data": {
            "text/plain": [
              "Japan          4892\n",
              "EMEA           4664\n",
              "Americas       3945\n",
              "APAC           3262\n",
              "Middle East     184\n",
              "Name: Region, dtype: int64"
            ]
          },
          "metadata": {
            "tags": []
          },
          "execution_count": 12
        }
      ]
    }
  ]
}