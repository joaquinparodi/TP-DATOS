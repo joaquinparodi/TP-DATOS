{
  "nbformat": 4,
  "nbformat_minor": 0,
  "metadata": {
    "colab": {
      "name": "Copia de tp2orga_joaquin_v3.ipynb",
      "provenance": [],
      "collapsed_sections": []
    },
    "kernelspec": {
      "name": "python3",
      "display_name": "Python 3"
    }
  },
  "cells": [
    {
      "cell_type": "code",
      "metadata": {
        "id": "BTDqJL94FYGe",
        "colab": {
          "base_uri": "https://localhost:8080/"
        },
        "outputId": "1eafca07-6947-4af8-db16-c6e6175e9dca"
      },
      "source": [
        "# importacion general de librerias y de visualizacion (matplotlib y seaborn)\n",
        "!pip install ptitprince\n",
        "import ptitprince as pt\n",
        "import pandas as pd\n",
        "import numpy as np\n"
      ],
      "execution_count": 272,
      "outputs": [
        {
          "output_type": "stream",
          "text": [
            "Requirement already satisfied: ptitprince in /usr/local/lib/python3.7/dist-packages (0.2.5)\n",
            "Requirement already satisfied: PyHamcrest>=1.9.0 in /usr/local/lib/python3.7/dist-packages (from ptitprince) (2.0.2)\n",
            "Requirement already satisfied: numpy>=1.13 in /usr/local/lib/python3.7/dist-packages (from ptitprince) (1.19.5)\n",
            "Requirement already satisfied: cython in /usr/local/lib/python3.7/dist-packages (from ptitprince) (0.29.21)\n",
            "Requirement already satisfied: scipy in /usr/local/lib/python3.7/dist-packages (from ptitprince) (1.4.1)\n",
            "Requirement already satisfied: matplotlib in /usr/local/lib/python3.7/dist-packages (from ptitprince) (3.2.2)\n",
            "Requirement already satisfied: seaborn>=0.10 in /usr/local/lib/python3.7/dist-packages (from ptitprince) (0.11.1)\n",
            "Requirement already satisfied: kiwisolver>=1.0.1 in /usr/local/lib/python3.7/dist-packages (from matplotlib->ptitprince) (1.3.1)\n",
            "Requirement already satisfied: pyparsing!=2.0.4,!=2.1.2,!=2.1.6,>=2.0.1 in /usr/local/lib/python3.7/dist-packages (from matplotlib->ptitprince) (2.4.7)\n",
            "Requirement already satisfied: python-dateutil>=2.1 in /usr/local/lib/python3.7/dist-packages (from matplotlib->ptitprince) (2.8.1)\n",
            "Requirement already satisfied: cycler>=0.10 in /usr/local/lib/python3.7/dist-packages (from matplotlib->ptitprince) (0.10.0)\n",
            "Requirement already satisfied: pandas>=0.23 in /usr/local/lib/python3.7/dist-packages (from seaborn>=0.10->ptitprince) (1.1.5)\n",
            "Requirement already satisfied: six>=1.5 in /usr/local/lib/python3.7/dist-packages (from python-dateutil>=2.1->matplotlib->ptitprince) (1.15.0)\n",
            "Requirement already satisfied: pytz>=2017.2 in /usr/local/lib/python3.7/dist-packages (from pandas>=0.23->seaborn>=0.10->ptitprince) (2018.9)\n"
          ],
          "name": "stdout"
        }
      ]
    },
    {
      "cell_type": "code",
      "metadata": {
        "id": "wtgYMgn_kuPz"
      },
      "source": [
        "import matplotlib.pylab as plt\n",
        "import seaborn as sns"
      ],
      "execution_count": 273,
      "outputs": []
    },
    {
      "cell_type": "code",
      "metadata": {
        "id": "_YKmqeTbfXHV"
      },
      "source": [
        "\n",
        "from datetime import datetime\n",
        "#para buscar los mejores hiperarametros\n",
        "from sklearn.model_selection import RandomizedSearchCV, GridSearchCV\n",
        " \n",
        "#con esto se hace kflod\n",
        "from sklearn.model_selection import StratifiedKFold"
      ],
      "execution_count": 274,
      "outputs": []
    },
    {
      "cell_type": "code",
      "metadata": {
        "id": "ycF5SnjfGj4I"
      },
      "source": [
        "from pydrive.auth import GoogleAuth\n",
        "from pydrive.drive import GoogleDrive\n",
        "from google.colab import auth\n",
        "from oauth2client.client import GoogleCredentials"
      ],
      "execution_count": 275,
      "outputs": []
    },
    {
      "cell_type": "code",
      "metadata": {
        "id": "QJbV2lDrGj-b"
      },
      "source": [
        "auth.authenticate_user()\n",
        "gauth = GoogleAuth()\n",
        "gauth.credentials = GoogleCredentials.get_application_default()\n",
        "drive = GoogleDrive(gauth)"
      ],
      "execution_count": 276,
      "outputs": []
    },
    {
      "cell_type": "code",
      "metadata": {
        "id": "67yYcLf_GyAO"
      },
      "source": [
        " \n",
        "id='1MfnxlPGSmr-i1up_2iKCkrBIMcDHomnK'\n",
        "downloaded = drive.CreateFile({'id': id})\n",
        "downloaded.GetContentFile('data.csv')"
      ],
      "execution_count": 277,
      "outputs": []
    },
    {
      "cell_type": "code",
      "metadata": {
        "id": "mWdphOAZwRLl"
      },
      "source": [
        "id='1kZt5ZN2eAyeNEIWLh6lGckgyDIxpHN4f'\r\n",
        "downloaded = drive.CreateFile({'id': id})\r\n",
        "downloaded.GetContentFile('test.csv')"
      ],
      "execution_count": 278,
      "outputs": []
    },
    {
      "cell_type": "code",
      "metadata": {
        "id": "Ia9MlRRywaD7"
      },
      "source": [
        "test=pd.read_csv('test.csv')"
      ],
      "execution_count": 279,
      "outputs": []
    },
    {
      "cell_type": "code",
      "metadata": {
        "id": "ExeDqCt3m4oE"
      },
      "source": [
        ""
      ],
      "execution_count": 279,
      "outputs": []
    },
    {
      "cell_type": "code",
      "metadata": {
        "id": "pFeCl82j8PtJ"
      },
      "source": [
        "import xgboost as xgb\r\n",
        "from sklearn.ensemble import RandomForestRegressor\r\n",
        "from sklearn.metrics import mean_squared_error\r\n",
        "import pandas as pd\r\n",
        "import numpy as np\r\n",
        "%matplotlib inline\r\n",
        "import matplotlib.pyplot as plt\r\n",
        "from sklearn import tree"
      ],
      "execution_count": 280,
      "outputs": []
    },
    {
      "cell_type": "code",
      "metadata": {
        "id": "-ARI9_xsfmdX"
      },
      "source": [
        ""
      ],
      "execution_count": 280,
      "outputs": []
    },
    {
      "cell_type": "code",
      "metadata": {
        "id": "t4FMRGC3fv46"
      },
      "source": [
        "def timer(start_time=None):\n",
        "    if not start_time:\n",
        "        start_time = datetime.now()\n",
        "        return start_time\n",
        "    elif start_time:\n",
        "        thour, temp_sec = divmod((datetime.now() - start_time).total_seconds(), 3600)\n",
        "        tmin, tsec = divmod(temp_sec, 60)\n",
        "        print('\\n Time taken: %i hours %i minutes and %s seconds.' % (thour, tmin, round(tsec, 2)))\n"
      ],
      "execution_count": 281,
      "outputs": []
    },
    {
      "cell_type": "code",
      "metadata": {
        "id": "1Yavyvd9gEkE"
      },
      "source": [
        "\n",
        "\n"
      ],
      "execution_count": 281,
      "outputs": []
    },
    {
      "cell_type": "code",
      "metadata": {
        "id": "xN_pcwD4gI3o"
      },
      "source": [
        "#y_test = random_search.predict_proba(test)\n",
        "#results_df = pd.DataFrame(data={'id':test_df['id'], 'target':y_test[:,1]})\n",
        "#results_df.to_csv('submission-random-grid-search-xgb-porto-01.csv', index=False)\n"
      ],
      "execution_count": 282,
      "outputs": []
    },
    {
      "cell_type": "code",
      "metadata": {
        "id": "jEdxztOrd4Ge"
      },
      "source": [
        "class Modelo():\r\n",
        "  def __init__(self ):\r\n",
        "    pass\r\n",
        "\r\n",
        "\r\n",
        "\r\n",
        "  def splitTrainTarget(self,entrenamientoFeatureTarget):\r\n",
        "    #separo  mi dataframe en X= feature engineri e y= target\r\n",
        "    target='Stage'\r\n",
        "    listColumns=entrenamientoFeatureTarget.columns.to_list()\r\n",
        "    listColumns.remove('Stage')\r\n",
        "    listColumns.remove('Opportunity_ID')\r\n",
        "    listColumns\r\n",
        "    X,y=entrenamientoFeatureTarget[listColumns], entrenamientoFeatureTarget[target]\r\n",
        "    print(\"las columnas del train son {} y del target son  {}\".format(X.columns , y.name ))\r\n",
        "    return X,y\r\n",
        "\r\n",
        "  def SplitTrainTest(self,X,y):\r\n",
        "    from sklearn.model_selection import train_test_split\r\n",
        "\r\n",
        "    X_train, X_test, y_train, y_test = \\\r\n",
        "    train_test_split(X, y, test_size=0.3, random_state=123 )\r\n",
        "\r\n",
        "    return X_train, X_test, y_train, y_test\r\n",
        "\r\n",
        "\r\n",
        "  def entrenarYPredecirMismoSetEntrenamiento(self,X_train,y_train,X_test): \r\n",
        "    self.modelo.fit(X_train, y_train)\r\n",
        "    preds =  self.modelo.predict(X_test)\r\n",
        "    return preds\r\n",
        "\r\n",
        "  def errorSetEntrenamiento( self,X_train,y_train,X_test,y_test):\r\n",
        "     preds= self.entrenarYPredecirMismoSetEntrenamiento( X_train,y_train,X_test)\r\n",
        "     rmse = np.sqrt(mean_squared_error(y_test, preds))\r\n",
        "     print(\"RMSE: %f\" % (rmse)) \r\n",
        "\r\n",
        "\r\n",
        "\r\n",
        "  def entrenarYPredecirWithTest(self,X_train,y_train,dfFeaturestest):\r\n",
        "    \r\n",
        "    \r\n",
        "    dfFeaturestest=dfFeaturestest[X_train.columns.to_list()]\r\n",
        "    self.modelo.fit(X_train, y_train)\r\n",
        "    preds =  self.modelo.predict(dfFeaturestest)\r\n",
        "    return preds  \r\n",
        "\r\n",
        "  \r\n",
        "\r\n",
        "  def agregarTargetDfOriginal(self,entrenamiento,df):\r\n",
        "    #df es un dataframe ya agregado con features nuevos\r\n",
        "    #entrenamiento es el dataframe orginal sin procesar\r\n",
        "    target=entrenamiento[(entrenamiento['Stage']=='Closed Lost') | (entrenamiento['Stage']=='Closed Won')]\r\n",
        "    target=target[['Opportunity_ID','Stage']].groupby(['Opportunity_ID','Stage']).agg(total=('Stage','count')).reset_index()[['Opportunity_ID','Stage']]\r\n",
        "      \r\n",
        "    entrenamiento=pd.merge(df,target,on=\"Opportunity_ID\",how=\"inner\") \r\n",
        "    df=entrenamiento.replace(\"Closed Lost\", \"0\")\r\n",
        "    df=df.replace(\"Closed Won\", \"1\")\r\n",
        "  \r\n",
        "    return df\r\n",
        "\r\n",
        "  #feature engnerie\r\n",
        "  def featureEngeenier(self,df):\r\n",
        "    \"obsevar que df es el test original\"\r\n",
        "    #agregamos fecha \r\n",
        "    df['Month']=pd.to_datetime(df['Month'])\r\n",
        "    df['anio']=df['Month'].dt.year\r\n",
        "    df['mes']=df['Month'].dt.month\r\n",
        "    #agregamos columna totalamount\r\n",
        "    totalAmount=df.groupby(['Opportunity_ID' ]).agg(totalamount=('Total_Amount','sum'))\r\n",
        "    #agregamos total trf\r\n",
        "    totalTrf=df.groupby(['Opportunity_ID' ]).agg(totalTrf=('TRF','sum'))\r\n",
        "    #cantidad total de trf\r\n",
        "    cantTrf=df.groupby(['Opportunity_ID' ]).agg(cantTrf=('TRF','count'))\r\n",
        "    #agregamos mean trf\r\n",
        "    meanTrf=df.groupby(['Opportunity_ID' ]).agg(meanTrf=('TRF','mean'))\r\n",
        "    #agreamos el cantproductfamilia\r\n",
        "    cantProducFamilias=df[['Opportunity_ID','Product_Family']].groupby(['Opportunity_ID']).agg(cantProducFamilias=('Product_Family','count')) \r\n",
        "    #agregamos max trf\r\n",
        "    maxTrf=df.groupby(['Opportunity_ID' ]).agg(maxTrf=('TRF','max'))\r\n",
        "    #agreamos promedio entre distancia entre planned estar and planned end\r\n",
        "    df['Planned_Delivery_Start_Date'] =pd.to_datetime(df['Planned_Delivery_Start_Date'])\r\n",
        "    df['Planned_Delivery_End_Date'] =pd.to_datetime(df['Planned_Delivery_End_Date'])\r\n",
        "    df['disPlannedStarAndPlannedEnd']=df[ 'Planned_Delivery_End_Date' ]-  df[ 'Planned_Delivery_Start_Date' ]\r\n",
        "    df['disPlannedStarAndPlannedEnd']=df['disPlannedStarAndPlannedEnd'].dt.total_seconds().fillna(0)\r\n",
        "\r\n",
        "    meanDisPlannedStarAndPlannedEnd=df.groupby('Opportunity_ID').agg(meanDisPlannedStarAndPlannedEnd=('disPlannedStarAndPlannedEnd','mean'))\r\n",
        "\r\n",
        "    dfFeatureNew=pd.merge(totalAmount,totalTrf,on=\"Opportunity_ID\",how=\"inner\") \r\n",
        "    dfFeatureNew1=pd.merge(dfFeatureNew,meanTrf,on=\"Opportunity_ID\",how=\"inner\") \r\n",
        "    dfFeatureNew2=pd.merge(dfFeatureNew1,cantTrf,on=\"Opportunity_ID\",how=\"inner\") \r\n",
        "    dfFeatureNew2=pd.merge(dfFeatureNew2,maxTrf,on=\"Opportunity_ID\",how=\"inner\") \r\n",
        "    dfFeatureNew3=pd.merge(dfFeatureNew2,cantProducFamilias,on=\"Opportunity_ID\",how=\"inner\") \r\n",
        "    dfFeatureNew3=pd.merge(dfFeatureNew3,meanDisPlannedStarAndPlannedEnd,on=\"Opportunity_ID\",how=\"inner\").reset_index()\r\n",
        "    \r\n",
        "    df=dfFeatureNew3[['Opportunity_ID','totalamount','totalTrf','meanTrf','cantTrf','cantProducFamilias','maxTrf','meanDisPlannedStarAndPlannedEnd' ]]\r\n",
        "\r\n",
        "\r\n",
        "    #agregamos productos\r\n",
        "\r\n",
        "    df['meanTrfporTotalTrf']=df['meanTrf']*df['totalTrf']\r\n",
        "    df['cantProducFamiliasporTotalTrf']=df['cantProducFamilias']*df['totalTrf']\r\n",
        "    \r\n",
        "    return df\r\n",
        "\r\n",
        "\r\n",
        "  def formarDfKaggle(self ,preds ):\r\n",
        "    test=pd.read_csv('test.csv')\r\n",
        "    testAux2=test.groupby(['Opportunity_ID','Territory' ]).agg(cant=('Opportunity_ID','count')).reset_index()[['Opportunity_ID' ]]\r\n",
        " \r\n",
        "    dfkaggle = pd.DataFrame( preds)\r\n",
        "    dfkaggle['Opportunity_ID']=testAux2['Opportunity_ID']\r\n",
        "    dfkaggle.columns=['Target','Opportunity_ID']\r\n",
        "    dfkaggle=dfkaggle[['Opportunity_ID','Target']]\r\n",
        "    \r\n",
        "    from google.colab import files\r\n",
        "    dfkaggle.to_csv('dfKaggle.csv', index=False) \r\n",
        "    files.download('dfKaggle.csv')\r\n",
        "    return dfkaggle\r\n",
        "\r\n",
        "  def featureImportancia(self,X_train):\r\n",
        "    # Gini importance\r\n",
        "    self.modelo.feature_importances_\r\n",
        "    # get importance\r\n",
        "    # summarize feature importance\r\n",
        "     \r\n",
        "    for i,v in enumerate(self.modelo.feature_importances_):\r\n",
        "      print('Feature: %0d, Score: %.5f' % (i,v))\r\n",
        "      print(X_train.columns.to_list()[i])\r\n",
        "    plt.bar(X_train.columns , self.modelo.feature_importances_)\r\n",
        "    plt.xlabel('Features')\r\n",
        "    plt.ylabel('Importancia')\r\n",
        "    plt.title('Importancia Features con RF')\r\n",
        "    plt.show()\r\n"
      ],
      "execution_count": 283,
      "outputs": []
    },
    {
      "cell_type": "code",
      "metadata": {
        "id": "OxQYQZGnVDjg"
      },
      "source": [
        "class RandomForestRegre(Modelo):\r\n",
        "  def __init__(self,hiperparametros):\r\n",
        "    super().__init__()\r\n",
        "    self.modelo= RandomForestRegressor(random_state=1,n_estimators=2000,max_depth = 9)\r\n",
        "    self.nombre='RAMDOM'\r\n",
        "\r\n",
        "\r\n",
        "class xgbosst(Modelo):\r\n",
        "  def __init__(self,hiperparametros):\r\n",
        "    super().__init__()\r\n",
        "    self.modelo= xgb.XGBRegressor(objective ='reg:squarederror', \r\n",
        "                colsample_bytree = 0.3, learning_rate = 0.05,\r\n",
        "                max_depth = 2, alpha = 10, n_estimators = 300)\r\n",
        "    self.nombre='XGBOOST'\r\n",
        "\r\n",
        "\r\n",
        "  # este polimorfismo es porque pedia el xgboost que y_train sea de tipo int\r\n",
        "  def entrenarYPredecirMismoSetEntrenamiento(self,X_train,y_train,X_test): \r\n",
        "    self.modelo.fit(X_train, y_train.astype(int))\r\n",
        "    preds =  self.modelo.predict(X_test)\r\n",
        "     \r\n",
        "    return preds\r\n",
        "\r\n",
        "  def errorSetEntrenamiento( self,X_train,y_train,X_test,y_test):\r\n",
        "    #aca la diferencia es que ytrain debe ser entero\r\n",
        "     \r\n",
        "    preds= self.entrenarYPredecirMismoSetEntrenamiento( X_train,y_train,X_test)\r\n",
        "    rmse = np.sqrt(mean_squared_error(y_test, preds))\r\n",
        "    print(\"RMSE: %f\" % (rmse))\r\n",
        "\r\n",
        "  def entrenarYPredecirWithTest(self,X_train,y_train,dfFeaturestest):\r\n",
        "     \r\n",
        "    dfFeaturestest=dfFeaturestest[X_train.columns.to_list()]\r\n",
        "    self.modelo.fit(X_train, y_train.astype(int))\r\n",
        "    preds =  self.modelo.predict(dfFeaturestest)\r\n",
        "    return preds  \r\n",
        "\r\n",
        "   \r\n",
        "\r\n",
        "\r\n",
        "class xgbosstOptimizado(Modelo):\r\n",
        "  def __init__(self,hiperparametros):\r\n",
        "    super().__init__()\r\n",
        "    self.modelo= xgb.XGBRegressor(objective ='reg:squarederror', \r\n",
        "                 learning_rate = 0.05,\r\n",
        "                  n_estimators = 500)\r\n",
        "    self.nombre='XGBOOSTopti'\r\n",
        "\r\n",
        "\r\n",
        "   \r\n",
        "\r\n",
        "  def entrenarYPredecirWithTest(self,dfFeaturestest):\r\n",
        "     \r\n",
        "    dfFeaturestest=dfFeaturestest[X_train.columns.to_list()]\r\n",
        "    \r\n",
        "    preds =  self.modelo.predict(dfFeaturestest)\r\n",
        "    return preds  \r\n",
        "\r\n",
        "  def buscaMejorHiperparametroAndTrainModeloWithKfold(self,X,Y):\r\n",
        "    #esto devuelve un modelo ya entrenado.\r\n",
        "    #X es el train\r\n",
        "    #Y es la validacion\r\n",
        "    \r\n",
        "     \r\n",
        "    # A parameter grid for XGBoost\r\n",
        "    params = {\r\n",
        "            'min_child_weight': [1, 5, 10],\r\n",
        "            'gamma': [0.5, 1, 1.5, 2, 5],\r\n",
        "            'subsample': [0.6, 0.8, 1.0],\r\n",
        "            'colsample_bytree': [0.6, 0.8, 1.0],\r\n",
        "            'max_depth': [3, 4, 5]\r\n",
        "            }\r\n",
        "\r\n",
        "\r\n",
        "    #https://scikit-learn.org/stable/modules/model_evaluation.html#scoring-parameter\r\n",
        "    folds = 3\r\n",
        "    param_comb = 5\r\n",
        "    #seteo cuantos folds va a tener el set entrendamiento (x_train y su x_validadcion, sus slpit al azar seteado por random_state)\r\n",
        "    skf = StratifiedKFold(n_splits=folds, shuffle = True, random_state = 1001)\r\n",
        "\r\n",
        "\r\n",
        "    #aca las combinaciones de los hiperametros. para buscar el mejor\r\n",
        "    #seteo el skf\r\n",
        "    random_search = RandomizedSearchCV(self.modelo, param_distributions=params, n_iter=param_comb, scoring='neg_root_mean_squared_error', n_jobs=4, cv=skf.split(X,Y), verbose=3, random_state=1001 )\r\n",
        "\r\n",
        "    # Here we go\r\n",
        "    start_time = timer(None) # timing starts from this point for \"start_time\" variable\r\n",
        "    #entreno y busco los mejores hiperparametros\r\n",
        "    random_search.fit(X, Y)\r\n",
        "    timer(start_time) # timing ends here for \"start_time\" variable\r\n",
        "\r\n",
        "\r\n",
        "\r\n",
        "    print('\\n All results:')\r\n",
        "    print(random_search.cv_results_)\r\n",
        "    print('\\n Best estimator:')\r\n",
        "    print(random_search.best_estimator_)\r\n",
        "    print('\\n Best   %d-fold search with %d parameter combinations:' % (folds, param_comb))\r\n",
        "    print(random_search.best_score_  )\r\n",
        "    print('\\n Best hyperparameters:')\r\n",
        "    print(random_search.best_params_)\r\n",
        "    results = pd.DataFrame(random_search.cv_results_)\r\n",
        "    results.to_csv('xgb-random-grid-search-results-01.csv', index=False) \r\n",
        "\r\n",
        "    #ahora el modelo que se va usar para predecir es el random_search , ya q tiene los mejores hiperparametros\r\n",
        "    self.modelo= random_search\r\n",
        "\r\n",
        "    return  self.modelo\r\n",
        "\r\n",
        "    \r\n",
        "\r\n",
        "class RandomForestRegreOptimizado(Modelo):\r\n",
        "  def __init__(self,hiperparametros):\r\n",
        "    super().__init__()\r\n",
        "    self.modelo= RandomForestRegressor(random_state=1 )\r\n",
        "    self.nombre='RAMDOMOptimizado'\r\n",
        "\r\n",
        "\r\n",
        "    \r\n",
        "\r\n",
        "\r\n",
        "  def entrenarYPredecirWithTest(self,dfFeaturestest):\r\n",
        "      \r\n",
        "      dfFeaturestest=dfFeaturestest[X_train.columns.to_list()]\r\n",
        "      \r\n",
        "      preds =  self.modelo.predict(dfFeaturestest)\r\n",
        "      return preds  \r\n",
        "\r\n",
        "  def buscaMejorHiperparametroAndTrainModeloWithKfold(self,X,Y):\r\n",
        "      #esto devuelve un modelo ya entrenado.\r\n",
        "      #X es el train\r\n",
        "      #Y es la validacion\r\n",
        "      \r\n",
        "      \r\n",
        "      # A parameter grid for XGBoost\r\n",
        "      params = {\r\n",
        "              'min_samples_leaf': [1, 2],\r\n",
        "              'min_samples_split': [2, 3, 4,5],\r\n",
        "              'max_features': [10, 7, 8],\r\n",
        "              'n_estimators': [50, 500, 1000],\r\n",
        "              'max_depth': [3, 4, 5,8]\r\n",
        "              }\r\n",
        "\r\n",
        "\r\n",
        "      #https://scikit-learn.org/stable/modules/model_evaluation.html#scoring-parameter\r\n",
        "      folds = 3\r\n",
        "      param_comb = 5\r\n",
        "      #seteo cuantos folds va a tener el set entrendamiento (x_train y su x_validadcion, sus slpit al azar seteado por random_state)\r\n",
        "      skf = StratifiedKFold(n_splits=folds, shuffle = True, random_state = 1001)\r\n",
        "\r\n",
        "\r\n",
        "      #aca las combinaciones de los hiperametros. para buscar el mejor\r\n",
        "      #seteo el skf\r\n",
        "      random_search = RandomizedSearchCV(self.modelo, param_distributions=params, n_iter=param_comb, scoring='neg_root_mean_squared_error', n_jobs=4, cv=skf.split(X,Y), verbose=3, random_state=1001 )\r\n",
        "\r\n",
        "      # Here we go\r\n",
        "      start_time = timer(None) # timing starts from this point for \"start_time\" variable\r\n",
        "      #entreno y busco los mejores hiperparametros\r\n",
        "      random_search.fit(X, Y)\r\n",
        "      timer(start_time) # timing ends here for \"start_time\" variable\r\n",
        "\r\n",
        "\r\n",
        "\r\n",
        "      print('\\n All results:')\r\n",
        "      print(random_search.cv_results_)\r\n",
        "      print('\\n Best estimator:')\r\n",
        "      print(random_search.best_estimator_)\r\n",
        "      print('\\n Best   %d-fold search with %d parameter combinations:' % (folds, param_comb))\r\n",
        "      print(random_search.best_score_  )\r\n",
        "      print('\\n Best hyperparameters:')\r\n",
        "      print(random_search.best_params_)\r\n",
        "      results = pd.DataFrame(random_search.cv_results_)\r\n",
        "      results.to_csv('xgb-random-grid-search-results-01.csv', index=False) \r\n",
        "\r\n",
        "      #ahora el modelo que se va usar para predecir es el random_search , ya q tiene los mejores hiperparametros\r\n",
        "      self.modelo= random_search\r\n",
        "\r\n",
        "      return  self.modelo    \r\n"
      ],
      "execution_count": 284,
      "outputs": []
    },
    {
      "cell_type": "code",
      "metadata": {
        "id": "on-VR59lf05p"
      },
      "source": [
        "\n",
        "\n"
      ],
      "execution_count": 284,
      "outputs": []
    },
    {
      "cell_type": "code",
      "metadata": {
        "id": "ZEvRPXYzR63H"
      },
      "source": [
        " #para hacer el ensamble de modelos\n",
        " dicAcumulaDfKaggle={}\n",
        " #para guardar los dataframe train y test en la primer pasada\n",
        " dicAcumTrainAndTest={}"
      ],
      "execution_count": 285,
      "outputs": []
    },
    {
      "cell_type": "markdown",
      "metadata": {
        "id": "fXNyWRzJz4Wr"
      },
      "source": [
        "# XGBOOST - Joaquin"
      ]
    },
    {
      "cell_type": "code",
      "metadata": {
        "id": "_FxCDNiqzzbT"
      },
      "source": [
        "#1)Apertura\r\n",
        "entrenamiento = pd.read_csv('data.csv')\r\n",
        "df=entrenamiento "
      ],
      "execution_count": 286,
      "outputs": []
    },
    {
      "cell_type": "code",
      "metadata": {
        "colab": {
          "base_uri": "https://localhost:8080/"
        },
        "id": "0czVKEWXQhIH",
        "outputId": "edd690f9-d55d-441e-9fa5-aa2603006ad5"
      },
      "source": [
        "entrenamiento.info()"
      ],
      "execution_count": 287,
      "outputs": [
        {
          "output_type": "stream",
          "text": [
            "<class 'pandas.core.frame.DataFrame'>\n",
            "RangeIndex: 16947 entries, 0 to 16946\n",
            "Data columns (total 52 columns):\n",
            " #   Column                              Non-Null Count  Dtype  \n",
            "---  ------                              --------------  -----  \n",
            " 0   ID                                  16947 non-null  int64  \n",
            " 1   Region                              16947 non-null  object \n",
            " 2   Territory                           16947 non-null  object \n",
            " 3   Pricing, Delivery_Terms_Quote_Appr  16947 non-null  int64  \n",
            " 4   Pricing, Delivery_Terms_Approved    16947 non-null  int64  \n",
            " 5   Bureaucratic_Code_0_Approval        16947 non-null  int64  \n",
            " 6   Bureaucratic_Code_0_Approved        16947 non-null  int64  \n",
            " 7   Submitted_for_Approval              16947 non-null  int64  \n",
            " 8   Bureaucratic_Code                   16947 non-null  object \n",
            " 9   Account_Created_Date                16947 non-null  object \n",
            " 10  Source                              16947 non-null  object \n",
            " 11  Billing_Country                     16947 non-null  object \n",
            " 12  Account_Name                        16947 non-null  object \n",
            " 13  Opportunity_Name                    16947 non-null  object \n",
            " 14  Opportunity_ID                      16947 non-null  int64  \n",
            " 15  Sales_Contract_No                   16947 non-null  object \n",
            " 16  Account_Owner                       16947 non-null  object \n",
            " 17  Opportunity_Owner                   16947 non-null  object \n",
            " 18  Account_Type                        16947 non-null  object \n",
            " 19  Opportunity_Type                    16947 non-null  object \n",
            " 20  Quote_Type                          16947 non-null  object \n",
            " 21  Delivery_Terms                      16947 non-null  object \n",
            " 22  Opportunity_Created_Date            16947 non-null  object \n",
            " 23  Brand                               16947 non-null  object \n",
            " 24  Product_Type                        16947 non-null  object \n",
            " 25  Size                                16947 non-null  object \n",
            " 26  Product_Category_B                  16947 non-null  object \n",
            " 27  Price                               16947 non-null  object \n",
            " 28  Currency                            16947 non-null  object \n",
            " 29  Last_Activity                       16947 non-null  object \n",
            " 30  Quote_Expiry_Date                   16947 non-null  object \n",
            " 31  Last_Modified_Date                  16947 non-null  object \n",
            " 32  Last_Modified_By                    16947 non-null  object \n",
            " 33  Product_Family                      16947 non-null  object \n",
            " 34  Product_Name                        16947 non-null  object \n",
            " 35  ASP_Currency                        16947 non-null  object \n",
            " 36  ASP                                 13738 non-null  float64\n",
            " 37  ASP_(converted)_Currency            16947 non-null  object \n",
            " 38  ASP_(converted)                     13738 non-null  float64\n",
            " 39  Planned_Delivery_Start_Date         16947 non-null  object \n",
            " 40  Planned_Delivery_End_Date           16947 non-null  object \n",
            " 41  Month                               16947 non-null  object \n",
            " 42  Delivery_Quarter                    16947 non-null  object \n",
            " 43  Delivery_Year                       16947 non-null  int64  \n",
            " 44  Actual_Delivery_Date                16947 non-null  object \n",
            " 45  TRF                                 16947 non-null  int64  \n",
            " 46  Total_Amount_Currency               16947 non-null  object \n",
            " 47  Total_Amount                        16888 non-null  float64\n",
            " 48  Total_Taxable_Amount_Currency       16947 non-null  object \n",
            " 49  Total_Taxable_Amount                16947 non-null  float64\n",
            " 50  Stage                               16947 non-null  object \n",
            " 51  Prod_Category_A                     16947 non-null  object \n",
            "dtypes: float64(4), int64(9), object(39)\n",
            "memory usage: 6.7+ MB\n"
          ],
          "name": "stdout"
        }
      ]
    },
    {
      "cell_type": "code",
      "metadata": {
        "id": "wgb2pZI5zzbf"
      },
      "source": [
        "random_state=1\r\n",
        "n_estimators=50\r\n",
        "#aca agregamos los hiperparametros que estamos probando\r\n",
        "Hiperparametros=[random_state ,n_estimators ]\r\n",
        "#por ahora no se usan los hirparametros, se setea dentro de las clase estos,\r\n",
        "#pero la idea es que se pueda setear desde afuera para probar"
      ],
      "execution_count": 288,
      "outputs": []
    },
    {
      "cell_type": "code",
      "metadata": {
        "id": "rgLHtpS5zzbf"
      },
      "source": [
        "modelos={\r\n",
        "         'ramdomForest': RandomForestRegre(Hiperparametros),\r\n",
        "         'xgboost':xgbosst(Hiperparametros),\r\n",
        "         'xgboostOptimo':xgbosstOptimizado(Hiperparametros),\r\n",
        "         'RandomForestRegreOptimo':RandomForestRegreOptimizado(Hiperparametros)\r\n",
        "}"
      ],
      "execution_count": 289,
      "outputs": []
    },
    {
      "cell_type": "code",
      "metadata": {
        "colab": {
          "base_uri": "https://localhost:8080/",
          "height": 429
        },
        "id": "2VUDAZoVzzbg",
        "outputId": "f7e79c45-186a-4456-ff59-fe6453f5bffb"
      },
      "source": [
        "\r\n",
        "\r\n",
        "modelo=modelos.get('xgboost')\r\n",
        "\r\n",
        "#cargamos el modelo \r\n",
        "modelo=modelo\r\n",
        "print(modelo.nombre)\r\n",
        "#hacemos feature engierine sobre el df original\r\n",
        "dfFeature=modelo.featureEngeenier(entrenamiento)\r\n",
        "dfFeature.head()\r\n",
        "#le agregamos el target\r\n",
        "dfFeatureWithTarget=modelo.agregarTargetDfOriginal(entrenamiento,dfFeature)\r\n",
        "dfFeatureWithTarget.head()"
      ],
      "execution_count": 290,
      "outputs": [
        {
          "output_type": "stream",
          "text": [
            "XGBOOST\n"
          ],
          "name": "stdout"
        },
        {
          "output_type": "stream",
          "text": [
            "/usr/local/lib/python3.7/dist-packages/ipykernel_launcher.py:99: SettingWithCopyWarning: \n",
            "A value is trying to be set on a copy of a slice from a DataFrame.\n",
            "Try using .loc[row_indexer,col_indexer] = value instead\n",
            "\n",
            "See the caveats in the documentation: https://pandas.pydata.org/pandas-docs/stable/user_guide/indexing.html#returning-a-view-versus-a-copy\n",
            "/usr/local/lib/python3.7/dist-packages/ipykernel_launcher.py:100: SettingWithCopyWarning: \n",
            "A value is trying to be set on a copy of a slice from a DataFrame.\n",
            "Try using .loc[row_indexer,col_indexer] = value instead\n",
            "\n",
            "See the caveats in the documentation: https://pandas.pydata.org/pandas-docs/stable/user_guide/indexing.html#returning-a-view-versus-a-copy\n"
          ],
          "name": "stderr"
        },
        {
          "output_type": "execute_result",
          "data": {
            "text/html": [
              "<div>\n",
              "<style scoped>\n",
              "    .dataframe tbody tr th:only-of-type {\n",
              "        vertical-align: middle;\n",
              "    }\n",
              "\n",
              "    .dataframe tbody tr th {\n",
              "        vertical-align: top;\n",
              "    }\n",
              "\n",
              "    .dataframe thead th {\n",
              "        text-align: right;\n",
              "    }\n",
              "</style>\n",
              "<table border=\"1\" class=\"dataframe\">\n",
              "  <thead>\n",
              "    <tr style=\"text-align: right;\">\n",
              "      <th></th>\n",
              "      <th>Opportunity_ID</th>\n",
              "      <th>totalamount</th>\n",
              "      <th>totalTrf</th>\n",
              "      <th>meanTrf</th>\n",
              "      <th>cantTrf</th>\n",
              "      <th>cantProducFamilias</th>\n",
              "      <th>maxTrf</th>\n",
              "      <th>meanDisPlannedStarAndPlannedEnd</th>\n",
              "      <th>meanTrfporTotalTrf</th>\n",
              "      <th>cantProducFamiliasporTotalTrf</th>\n",
              "      <th>Stage</th>\n",
              "    </tr>\n",
              "  </thead>\n",
              "  <tbody>\n",
              "    <tr>\n",
              "      <th>0</th>\n",
              "      <td>0</td>\n",
              "      <td>5272800.0</td>\n",
              "      <td>10</td>\n",
              "      <td>10.0</td>\n",
              "      <td>1</td>\n",
              "      <td>1</td>\n",
              "      <td>10</td>\n",
              "      <td>5184000.0</td>\n",
              "      <td>100.0</td>\n",
              "      <td>10</td>\n",
              "      <td>0</td>\n",
              "    </tr>\n",
              "    <tr>\n",
              "      <th>1</th>\n",
              "      <td>1</td>\n",
              "      <td>48230.0</td>\n",
              "      <td>0</td>\n",
              "      <td>0.0</td>\n",
              "      <td>1</td>\n",
              "      <td>1</td>\n",
              "      <td>0</td>\n",
              "      <td>172800.0</td>\n",
              "      <td>0.0</td>\n",
              "      <td>0</td>\n",
              "      <td>1</td>\n",
              "    </tr>\n",
              "    <tr>\n",
              "      <th>2</th>\n",
              "      <td>2</td>\n",
              "      <td>83865.6</td>\n",
              "      <td>0</td>\n",
              "      <td>0.0</td>\n",
              "      <td>1</td>\n",
              "      <td>1</td>\n",
              "      <td>0</td>\n",
              "      <td>0.0</td>\n",
              "      <td>0.0</td>\n",
              "      <td>0</td>\n",
              "      <td>1</td>\n",
              "    </tr>\n",
              "    <tr>\n",
              "      <th>3</th>\n",
              "      <td>3</td>\n",
              "      <td>7421881.5</td>\n",
              "      <td>14</td>\n",
              "      <td>14.0</td>\n",
              "      <td>1</td>\n",
              "      <td>1</td>\n",
              "      <td>14</td>\n",
              "      <td>5011200.0</td>\n",
              "      <td>196.0</td>\n",
              "      <td>14</td>\n",
              "      <td>0</td>\n",
              "    </tr>\n",
              "    <tr>\n",
              "      <th>4</th>\n",
              "      <td>4</td>\n",
              "      <td>13357192.5</td>\n",
              "      <td>25</td>\n",
              "      <td>25.0</td>\n",
              "      <td>1</td>\n",
              "      <td>1</td>\n",
              "      <td>25</td>\n",
              "      <td>2332800.0</td>\n",
              "      <td>625.0</td>\n",
              "      <td>25</td>\n",
              "      <td>0</td>\n",
              "    </tr>\n",
              "  </tbody>\n",
              "</table>\n",
              "</div>"
            ],
            "text/plain": [
              "   Opportunity_ID  totalamount  ...  cantProducFamiliasporTotalTrf  Stage\n",
              "0               0    5272800.0  ...                             10      0\n",
              "1               1      48230.0  ...                              0      1\n",
              "2               2      83865.6  ...                              0      1\n",
              "3               3    7421881.5  ...                             14      0\n",
              "4               4   13357192.5  ...                             25      0\n",
              "\n",
              "[5 rows x 11 columns]"
            ]
          },
          "metadata": {
            "tags": []
          },
          "execution_count": 290
        }
      ]
    },
    {
      "cell_type": "markdown",
      "metadata": {
        "id": "kyq55xyF1IXD"
      },
      "source": [
        "#TERRITORY"
      ]
    },
    {
      "cell_type": "code",
      "metadata": {
        "colab": {
          "base_uri": "https://localhost:8080/"
        },
        "id": "yieCgaiC1nC6",
        "outputId": "f25b4af5-c57d-41f2-ffd8-1d23f4afa63c"
      },
      "source": [
        "df = pd.read_csv('data.csv')\n",
        "df['Territory'].value_counts()"
      ],
      "execution_count": 291,
      "outputs": [
        {
          "output_type": "execute_result",
          "data": {
            "text/plain": [
              "None              4999\n",
              "Germany           1682\n",
              "NW America        1568\n",
              "Australia         1208\n",
              "India              809\n",
              "                  ... \n",
              "Monaco               1\n",
              "Slovenia             1\n",
              "Croatia              1\n",
              "Czech Republic       1\n",
              "Egypt                1\n",
              "Name: Territory, Length: 76, dtype: int64"
            ]
          },
          "metadata": {
            "tags": []
          },
          "execution_count": 291
        }
      ]
    },
    {
      "cell_type": "code",
      "metadata": {
        "id": "hJFzZMi6zzbh"
      },
      "source": [
        "def agregarMeanEncoding(dfWithFeatureTarget,columnCategorica):\r\n",
        "  \"\"\"dfWithFeature es un df de formato ['Opportunity_ID', y columnas nuevas agregadas anteriormente,target]\r\n",
        "  se hace minencoding columancategoria, retorna un df con opportunity_id, meanencoding,columnas nuevas agregadas anteriormente\r\n",
        "      \"\"\"\r\n",
        "  df = pd.read_csv('data.csv')\r\n",
        "  entrenamiento = pd.read_csv('data.csv')\r\n",
        "  df = df.replace('Closed Won', '1')\r\n",
        "  df = df.replace('Closed Lost', '0')\r\n",
        "  df = df[df['Stage'].isin(['0','1'])]\r\n",
        "  df.Stage = df.Stage.astype(int)\r\n",
        "  df = df.groupby([columnCategorica,'Opportunity_ID']).agg({'Stage':['sum','count']})\r\n",
        "  df = df.reset_index()\r\n",
        "  df1 = df\r\n",
        "  df1.columns = [columnCategorica,'Opportunity_ID','Stage_sum','Stage_count']\r\n",
        "  df1['Stage_sum'] = df1['Stage_sum'].apply(lambda x: 0 if x == 0 else 1)\r\n",
        "  df2 = df1.groupby([columnCategorica]).agg(meanEncodingTerritory = ('Stage_sum','mean'))\r\n",
        "  df2 = df2.reset_index()\r\n",
        "  agruparOportunity=entrenamiento.groupby(['Opportunity_ID',columnCategorica]).agg(cant=(columnCategorica,'count')).reset_index()\r\n",
        "  result=pd.merge(agruparOportunity,df2,on=columnCategorica,how='inner')\r\n",
        "  #eliminamos columnas que no sirve, columncategorica porque la reemplazamos por el mean enconding, y cant que \r\n",
        "  #la usamos para unificar por oportunity_id \r\n",
        "  del result['cant']\r\n",
        "  del result['Territory']\r\n",
        "  result2=pd.merge(dfWithFeatureTarget, result, on='Opportunity_ID' , how='inner')\r\n",
        "  \r\n",
        "  dfWithFeatureTarget=result2\r\n",
        "  dfWithFeatureTarget.Stage = dfWithFeatureTarget.Stage.astype(int)\r\n",
        "  return dfWithFeatureTarget"
      ],
      "execution_count": 292,
      "outputs": []
    },
    {
      "cell_type": "code",
      "metadata": {
        "colab": {
          "base_uri": "https://localhost:8080/",
          "height": 226
        },
        "id": "wvxD6Cypzzbh",
        "outputId": "8158e0ba-21f9-4b2a-bf86-40180abc6879"
      },
      "source": [
        "dfNew1=agregarMeanEncoding(dfFeatureWithTarget,'Territory')\r\n",
        "dfNew1.head()"
      ],
      "execution_count": 293,
      "outputs": [
        {
          "output_type": "execute_result",
          "data": {
            "text/html": [
              "<div>\n",
              "<style scoped>\n",
              "    .dataframe tbody tr th:only-of-type {\n",
              "        vertical-align: middle;\n",
              "    }\n",
              "\n",
              "    .dataframe tbody tr th {\n",
              "        vertical-align: top;\n",
              "    }\n",
              "\n",
              "    .dataframe thead th {\n",
              "        text-align: right;\n",
              "    }\n",
              "</style>\n",
              "<table border=\"1\" class=\"dataframe\">\n",
              "  <thead>\n",
              "    <tr style=\"text-align: right;\">\n",
              "      <th></th>\n",
              "      <th>Opportunity_ID</th>\n",
              "      <th>totalamount</th>\n",
              "      <th>totalTrf</th>\n",
              "      <th>meanTrf</th>\n",
              "      <th>cantTrf</th>\n",
              "      <th>cantProducFamilias</th>\n",
              "      <th>maxTrf</th>\n",
              "      <th>meanDisPlannedStarAndPlannedEnd</th>\n",
              "      <th>meanTrfporTotalTrf</th>\n",
              "      <th>cantProducFamiliasporTotalTrf</th>\n",
              "      <th>Stage</th>\n",
              "      <th>meanEncodingTerritory</th>\n",
              "    </tr>\n",
              "  </thead>\n",
              "  <tbody>\n",
              "    <tr>\n",
              "      <th>0</th>\n",
              "      <td>0</td>\n",
              "      <td>5272800.0</td>\n",
              "      <td>10</td>\n",
              "      <td>10.0</td>\n",
              "      <td>1</td>\n",
              "      <td>1</td>\n",
              "      <td>10</td>\n",
              "      <td>5184000.0</td>\n",
              "      <td>100.0</td>\n",
              "      <td>10</td>\n",
              "      <td>0</td>\n",
              "      <td>0.535927</td>\n",
              "    </tr>\n",
              "    <tr>\n",
              "      <th>1</th>\n",
              "      <td>1</td>\n",
              "      <td>48230.0</td>\n",
              "      <td>0</td>\n",
              "      <td>0.0</td>\n",
              "      <td>1</td>\n",
              "      <td>1</td>\n",
              "      <td>0</td>\n",
              "      <td>172800.0</td>\n",
              "      <td>0.0</td>\n",
              "      <td>0</td>\n",
              "      <td>1</td>\n",
              "      <td>0.535927</td>\n",
              "    </tr>\n",
              "    <tr>\n",
              "      <th>2</th>\n",
              "      <td>2</td>\n",
              "      <td>83865.6</td>\n",
              "      <td>0</td>\n",
              "      <td>0.0</td>\n",
              "      <td>1</td>\n",
              "      <td>1</td>\n",
              "      <td>0</td>\n",
              "      <td>0.0</td>\n",
              "      <td>0.0</td>\n",
              "      <td>0</td>\n",
              "      <td>1</td>\n",
              "      <td>0.632723</td>\n",
              "    </tr>\n",
              "    <tr>\n",
              "      <th>3</th>\n",
              "      <td>3</td>\n",
              "      <td>7421881.5</td>\n",
              "      <td>14</td>\n",
              "      <td>14.0</td>\n",
              "      <td>1</td>\n",
              "      <td>1</td>\n",
              "      <td>14</td>\n",
              "      <td>5011200.0</td>\n",
              "      <td>196.0</td>\n",
              "      <td>14</td>\n",
              "      <td>0</td>\n",
              "      <td>0.632723</td>\n",
              "    </tr>\n",
              "    <tr>\n",
              "      <th>4</th>\n",
              "      <td>4</td>\n",
              "      <td>13357192.5</td>\n",
              "      <td>25</td>\n",
              "      <td>25.0</td>\n",
              "      <td>1</td>\n",
              "      <td>1</td>\n",
              "      <td>25</td>\n",
              "      <td>2332800.0</td>\n",
              "      <td>625.0</td>\n",
              "      <td>25</td>\n",
              "      <td>0</td>\n",
              "      <td>0.632723</td>\n",
              "    </tr>\n",
              "  </tbody>\n",
              "</table>\n",
              "</div>"
            ],
            "text/plain": [
              "   Opportunity_ID  totalamount  ...  Stage  meanEncodingTerritory\n",
              "0               0    5272800.0  ...      0               0.535927\n",
              "1               1      48230.0  ...      1               0.535927\n",
              "2               2      83865.6  ...      1               0.632723\n",
              "3               3    7421881.5  ...      0               0.632723\n",
              "4               4   13357192.5  ...      0               0.632723\n",
              "\n",
              "[5 rows x 12 columns]"
            ]
          },
          "metadata": {
            "tags": []
          },
          "execution_count": 293
        }
      ]
    },
    {
      "cell_type": "markdown",
      "metadata": {
        "id": "d9F_Tv2Q2FHQ"
      },
      "source": [
        "#REGION"
      ]
    },
    {
      "cell_type": "code",
      "metadata": {
        "colab": {
          "base_uri": "https://localhost:8080/"
        },
        "id": "m83sohLN2FHf",
        "outputId": "425210a1-cc72-4d0c-d622-f7e8f7fcf724"
      },
      "source": [
        "df = pd.read_csv('data.csv')\n",
        "df['Region'].value_counts()"
      ],
      "execution_count": 294,
      "outputs": [
        {
          "output_type": "execute_result",
          "data": {
            "text/plain": [
              "Japan          4892\n",
              "EMEA           4664\n",
              "Americas       3945\n",
              "APAC           3262\n",
              "Middle East     184\n",
              "Name: Region, dtype: int64"
            ]
          },
          "metadata": {
            "tags": []
          },
          "execution_count": 294
        }
      ]
    },
    {
      "cell_type": "code",
      "metadata": {
        "id": "c7jeOsP_2FHg"
      },
      "source": [
        "def agregarMeanEncoding(dfWithFeatureTarget,columnCategorica):\r\n",
        "  \"\"\"dfWithFeature es un df de formato ['Opportunity_ID', y columnas nuevas agregadas anteriormente,target]\r\n",
        "  se hace minencoding columancategoria, retorna un df con opportunity_id, meanencoding,columnas nuevas agregadas anteriormente\r\n",
        "      \"\"\"\r\n",
        "  df = pd.read_csv('data.csv')\r\n",
        "  entrenamiento = pd.read_csv('data.csv')\r\n",
        "  df = df.replace('Closed Won', '1')\r\n",
        "  df = df.replace('Closed Lost', '0')\r\n",
        "  df = df[df['Stage'].isin(['0','1'])]\r\n",
        "  df.Stage = df.Stage.astype(int)\r\n",
        "  df = df.groupby([columnCategorica,'Opportunity_ID']).agg({'Stage':['sum','count']})\r\n",
        "  df = df.reset_index()\r\n",
        "  df1 = df\r\n",
        "  df1.columns = [columnCategorica,'Opportunity_ID','Stage_sum','Stage_count']\r\n",
        "  df1['Stage_sum'] = df1['Stage_sum'].apply(lambda x: 0 if x == 0 else 1)\r\n",
        "  df2 = df1.groupby([columnCategorica]).agg(meanEncodingRegion = ('Stage_sum','mean'))\r\n",
        "  df2 = df2.reset_index()\r\n",
        "  agruparOportunity=entrenamiento.groupby(['Opportunity_ID',columnCategorica]).agg(cant=(columnCategorica,'count')).reset_index()\r\n",
        "  result=pd.merge(agruparOportunity,df2,on=columnCategorica,how='inner')\r\n",
        "  #eliminamos columnas que no sirve, columncategorica porque la reemplazamos por el mean enconding, y cant que \r\n",
        "  #la usamos para unificar por oportunity_id \r\n",
        "  del result['cant']\r\n",
        "  del result['Region']\r\n",
        "  result2=pd.merge(dfWithFeatureTarget, result, on='Opportunity_ID' , how='inner')\r\n",
        "  \r\n",
        "  dfWithFeatureTarget=result2\r\n",
        "  dfWithFeatureTarget.Stage = dfWithFeatureTarget.Stage.astype(int)\r\n",
        "  return dfWithFeatureTarget"
      ],
      "execution_count": 295,
      "outputs": []
    },
    {
      "cell_type": "code",
      "metadata": {
        "colab": {
          "base_uri": "https://localhost:8080/",
          "height": 206
        },
        "id": "3r6B9rtE2FHg",
        "outputId": "3d5ac745-9e7a-4e2d-c504-ec9459f762ac"
      },
      "source": [
        "dfNew2=agregarMeanEncoding(dfFeatureWithTarget,'Region')\r\n",
        "dfNew2=dfNew2[['Opportunity_ID','meanEncodingRegion']]\r\n",
        "dfNew2.head()"
      ],
      "execution_count": 296,
      "outputs": [
        {
          "output_type": "execute_result",
          "data": {
            "text/html": [
              "<div>\n",
              "<style scoped>\n",
              "    .dataframe tbody tr th:only-of-type {\n",
              "        vertical-align: middle;\n",
              "    }\n",
              "\n",
              "    .dataframe tbody tr th {\n",
              "        vertical-align: top;\n",
              "    }\n",
              "\n",
              "    .dataframe thead th {\n",
              "        text-align: right;\n",
              "    }\n",
              "</style>\n",
              "<table border=\"1\" class=\"dataframe\">\n",
              "  <thead>\n",
              "    <tr style=\"text-align: right;\">\n",
              "      <th></th>\n",
              "      <th>Opportunity_ID</th>\n",
              "      <th>meanEncodingRegion</th>\n",
              "    </tr>\n",
              "  </thead>\n",
              "  <tbody>\n",
              "    <tr>\n",
              "      <th>0</th>\n",
              "      <td>0</td>\n",
              "      <td>0.463392</td>\n",
              "    </tr>\n",
              "    <tr>\n",
              "      <th>1</th>\n",
              "      <td>1</td>\n",
              "      <td>0.463392</td>\n",
              "    </tr>\n",
              "    <tr>\n",
              "      <th>2</th>\n",
              "      <td>2</td>\n",
              "      <td>0.446166</td>\n",
              "    </tr>\n",
              "    <tr>\n",
              "      <th>3</th>\n",
              "      <td>3</td>\n",
              "      <td>0.446166</td>\n",
              "    </tr>\n",
              "    <tr>\n",
              "      <th>4</th>\n",
              "      <td>4</td>\n",
              "      <td>0.446166</td>\n",
              "    </tr>\n",
              "  </tbody>\n",
              "</table>\n",
              "</div>"
            ],
            "text/plain": [
              "   Opportunity_ID  meanEncodingRegion\n",
              "0               0            0.463392\n",
              "1               1            0.463392\n",
              "2               2            0.446166\n",
              "3               3            0.446166\n",
              "4               4            0.446166"
            ]
          },
          "metadata": {
            "tags": []
          },
          "execution_count": 296
        }
      ]
    },
    {
      "cell_type": "code",
      "metadata": {
        "colab": {
          "base_uri": "https://localhost:8080/",
          "height": 226
        },
        "id": "YOYy-MXV4Qnf",
        "outputId": "bd9a8888-29db-45a7-af04-f90df1f63c2a"
      },
      "source": [
        "dfNew=pd.merge(dfNew1, dfNew2, on='Opportunity_ID' , how='inner')\n",
        "dfNew.head()"
      ],
      "execution_count": 297,
      "outputs": [
        {
          "output_type": "execute_result",
          "data": {
            "text/html": [
              "<div>\n",
              "<style scoped>\n",
              "    .dataframe tbody tr th:only-of-type {\n",
              "        vertical-align: middle;\n",
              "    }\n",
              "\n",
              "    .dataframe tbody tr th {\n",
              "        vertical-align: top;\n",
              "    }\n",
              "\n",
              "    .dataframe thead th {\n",
              "        text-align: right;\n",
              "    }\n",
              "</style>\n",
              "<table border=\"1\" class=\"dataframe\">\n",
              "  <thead>\n",
              "    <tr style=\"text-align: right;\">\n",
              "      <th></th>\n",
              "      <th>Opportunity_ID</th>\n",
              "      <th>totalamount</th>\n",
              "      <th>totalTrf</th>\n",
              "      <th>meanTrf</th>\n",
              "      <th>cantTrf</th>\n",
              "      <th>cantProducFamilias</th>\n",
              "      <th>maxTrf</th>\n",
              "      <th>meanDisPlannedStarAndPlannedEnd</th>\n",
              "      <th>meanTrfporTotalTrf</th>\n",
              "      <th>cantProducFamiliasporTotalTrf</th>\n",
              "      <th>Stage</th>\n",
              "      <th>meanEncodingTerritory</th>\n",
              "      <th>meanEncodingRegion</th>\n",
              "    </tr>\n",
              "  </thead>\n",
              "  <tbody>\n",
              "    <tr>\n",
              "      <th>0</th>\n",
              "      <td>0</td>\n",
              "      <td>5272800.0</td>\n",
              "      <td>10</td>\n",
              "      <td>10.0</td>\n",
              "      <td>1</td>\n",
              "      <td>1</td>\n",
              "      <td>10</td>\n",
              "      <td>5184000.0</td>\n",
              "      <td>100.0</td>\n",
              "      <td>10</td>\n",
              "      <td>0</td>\n",
              "      <td>0.535927</td>\n",
              "      <td>0.463392</td>\n",
              "    </tr>\n",
              "    <tr>\n",
              "      <th>1</th>\n",
              "      <td>1</td>\n",
              "      <td>48230.0</td>\n",
              "      <td>0</td>\n",
              "      <td>0.0</td>\n",
              "      <td>1</td>\n",
              "      <td>1</td>\n",
              "      <td>0</td>\n",
              "      <td>172800.0</td>\n",
              "      <td>0.0</td>\n",
              "      <td>0</td>\n",
              "      <td>1</td>\n",
              "      <td>0.535927</td>\n",
              "      <td>0.463392</td>\n",
              "    </tr>\n",
              "    <tr>\n",
              "      <th>2</th>\n",
              "      <td>2</td>\n",
              "      <td>83865.6</td>\n",
              "      <td>0</td>\n",
              "      <td>0.0</td>\n",
              "      <td>1</td>\n",
              "      <td>1</td>\n",
              "      <td>0</td>\n",
              "      <td>0.0</td>\n",
              "      <td>0.0</td>\n",
              "      <td>0</td>\n",
              "      <td>1</td>\n",
              "      <td>0.632723</td>\n",
              "      <td>0.446166</td>\n",
              "    </tr>\n",
              "    <tr>\n",
              "      <th>3</th>\n",
              "      <td>3</td>\n",
              "      <td>7421881.5</td>\n",
              "      <td>14</td>\n",
              "      <td>14.0</td>\n",
              "      <td>1</td>\n",
              "      <td>1</td>\n",
              "      <td>14</td>\n",
              "      <td>5011200.0</td>\n",
              "      <td>196.0</td>\n",
              "      <td>14</td>\n",
              "      <td>0</td>\n",
              "      <td>0.632723</td>\n",
              "      <td>0.446166</td>\n",
              "    </tr>\n",
              "    <tr>\n",
              "      <th>4</th>\n",
              "      <td>4</td>\n",
              "      <td>13357192.5</td>\n",
              "      <td>25</td>\n",
              "      <td>25.0</td>\n",
              "      <td>1</td>\n",
              "      <td>1</td>\n",
              "      <td>25</td>\n",
              "      <td>2332800.0</td>\n",
              "      <td>625.0</td>\n",
              "      <td>25</td>\n",
              "      <td>0</td>\n",
              "      <td>0.632723</td>\n",
              "      <td>0.446166</td>\n",
              "    </tr>\n",
              "  </tbody>\n",
              "</table>\n",
              "</div>"
            ],
            "text/plain": [
              "   Opportunity_ID  totalamount  ...  meanEncodingTerritory  meanEncodingRegion\n",
              "0               0    5272800.0  ...               0.535927            0.463392\n",
              "1               1      48230.0  ...               0.535927            0.463392\n",
              "2               2      83865.6  ...               0.632723            0.446166\n",
              "3               3    7421881.5  ...               0.632723            0.446166\n",
              "4               4   13357192.5  ...               0.632723            0.446166\n",
              "\n",
              "[5 rows x 13 columns]"
            ]
          },
          "metadata": {
            "tags": []
          },
          "execution_count": 297
        }
      ]
    },
    {
      "cell_type": "markdown",
      "metadata": {
        "id": "AFklI4IqGqqx"
      },
      "source": [
        "#Delivery_Terms"
      ]
    },
    {
      "cell_type": "code",
      "metadata": {
        "colab": {
          "base_uri": "https://localhost:8080/"
        },
        "id": "w8csoxJcGqrB",
        "outputId": "4759c1ec-9625-446e-9659-1c2f9be40e6d"
      },
      "source": [
        "df = pd.read_csv('data.csv')\n",
        "df['Delivery_Terms'].value_counts()"
      ],
      "execution_count": 298,
      "outputs": [
        {
          "output_type": "execute_result",
          "data": {
            "text/plain": [
              "Delivery_Terms_4    7712\n",
              "Delivery_Terms_2    4633\n",
              "Delivery_Terms_1    2936\n",
              "Delivery_Terms_6     781\n",
              "Delivery_Terms_5     636\n",
              "Delivery_Terms_8     164\n",
              "Delivery_Terms_3      41\n",
              "Delivery_Terms_7      38\n",
              "Delivery_Terms_0       6\n",
              "Name: Delivery_Terms, dtype: int64"
            ]
          },
          "metadata": {
            "tags": []
          },
          "execution_count": 298
        }
      ]
    },
    {
      "cell_type": "code",
      "metadata": {
        "id": "dvKu__hQGqrC"
      },
      "source": [
        "def agregarMeanEncoding(dfWithFeatureTarget,columnCategorica):\r\n",
        "  \"\"\"dfWithFeature es un df de formato ['Opportunity_ID', y columnas nuevas agregadas anteriormente,target]\r\n",
        "  se hace minencoding columancategoria, retorna un df con opportunity_id, meanencoding,columnas nuevas agregadas anteriormente\r\n",
        "      \"\"\"\r\n",
        "  df = pd.read_csv('data.csv')\r\n",
        "  entrenamiento = pd.read_csv('data.csv')\r\n",
        "  df = df.replace('Closed Won', '1')\r\n",
        "  df = df.replace('Closed Lost', '0')\r\n",
        "  df = df[df['Stage'].isin(['0','1'])]\r\n",
        "  df.Stage = df.Stage.astype(int)\r\n",
        "  df = df.groupby([columnCategorica,'Opportunity_ID']).agg({'Stage':['sum','count']})\r\n",
        "  df = df.reset_index()\r\n",
        "  df1 = df\r\n",
        "  df1.columns = [columnCategorica,'Opportunity_ID','Stage_sum','Stage_count']\r\n",
        "  df1['Stage_sum'] = df1['Stage_sum'].apply(lambda x: 0 if x == 0 else 1)\r\n",
        "  df2 = df1.groupby([columnCategorica]).agg(meanEncodingDelivery_Terms = ('Stage_sum','mean'))\r\n",
        "  df2 = df2.reset_index()\r\n",
        "  agruparOportunity=entrenamiento.groupby(['Opportunity_ID',columnCategorica]).agg(cant=(columnCategorica,'count')).reset_index()\r\n",
        "  result=pd.merge(agruparOportunity,df2,on=columnCategorica,how='inner')\r\n",
        "  #eliminamos columnas que no sirve, columncategorica porque la reemplazamos por el mean enconding, y cant que \r\n",
        "  #la usamos para unificar por oportunity_id \r\n",
        "  del result['cant']\r\n",
        "  del result['Delivery_Terms']\r\n",
        "  result2=pd.merge(dfWithFeatureTarget, result, on='Opportunity_ID' , how='inner')\r\n",
        "  \r\n",
        "  dfWithFeatureTarget=result2\r\n",
        "  dfWithFeatureTarget.Stage = dfWithFeatureTarget.Stage.astype(int)\r\n",
        "  return dfWithFeatureTarget"
      ],
      "execution_count": 299,
      "outputs": []
    },
    {
      "cell_type": "code",
      "metadata": {
        "colab": {
          "base_uri": "https://localhost:8080/",
          "height": 206
        },
        "id": "N7vXeMtWGqrC",
        "outputId": "19dc439f-6316-4771-c8ef-78502b045b92"
      },
      "source": [
        "dfNew2=agregarMeanEncoding(dfFeatureWithTarget,'Delivery_Terms')\r\n",
        "dfNew2=dfNew2[['Opportunity_ID','meanEncodingDelivery_Terms']]\r\n",
        "dfNew2.head()"
      ],
      "execution_count": 300,
      "outputs": [
        {
          "output_type": "execute_result",
          "data": {
            "text/html": [
              "<div>\n",
              "<style scoped>\n",
              "    .dataframe tbody tr th:only-of-type {\n",
              "        vertical-align: middle;\n",
              "    }\n",
              "\n",
              "    .dataframe tbody tr th {\n",
              "        vertical-align: top;\n",
              "    }\n",
              "\n",
              "    .dataframe thead th {\n",
              "        text-align: right;\n",
              "    }\n",
              "</style>\n",
              "<table border=\"1\" class=\"dataframe\">\n",
              "  <thead>\n",
              "    <tr style=\"text-align: right;\">\n",
              "      <th></th>\n",
              "      <th>Opportunity_ID</th>\n",
              "      <th>meanEncodingDelivery_Terms</th>\n",
              "    </tr>\n",
              "  </thead>\n",
              "  <tbody>\n",
              "    <tr>\n",
              "      <th>0</th>\n",
              "      <td>0</td>\n",
              "      <td>0.479801</td>\n",
              "    </tr>\n",
              "    <tr>\n",
              "      <th>1</th>\n",
              "      <td>1</td>\n",
              "      <td>0.479801</td>\n",
              "    </tr>\n",
              "    <tr>\n",
              "      <th>2</th>\n",
              "      <td>2</td>\n",
              "      <td>0.547011</td>\n",
              "    </tr>\n",
              "    <tr>\n",
              "      <th>3</th>\n",
              "      <td>3</td>\n",
              "      <td>0.449874</td>\n",
              "    </tr>\n",
              "    <tr>\n",
              "      <th>4</th>\n",
              "      <td>4</td>\n",
              "      <td>0.449874</td>\n",
              "    </tr>\n",
              "  </tbody>\n",
              "</table>\n",
              "</div>"
            ],
            "text/plain": [
              "   Opportunity_ID  meanEncodingDelivery_Terms\n",
              "0               0                    0.479801\n",
              "1               1                    0.479801\n",
              "2               2                    0.547011\n",
              "3               3                    0.449874\n",
              "4               4                    0.449874"
            ]
          },
          "metadata": {
            "tags": []
          },
          "execution_count": 300
        }
      ]
    },
    {
      "cell_type": "code",
      "metadata": {
        "colab": {
          "base_uri": "https://localhost:8080/",
          "height": 226
        },
        "id": "uc64HuIxGqrD",
        "outputId": "14f68744-66ef-49f2-e901-00da108e678d"
      },
      "source": [
        "dfNew=pd.merge(dfNew, dfNew2, on='Opportunity_ID' , how='inner')\n",
        "dfNew.head()"
      ],
      "execution_count": 301,
      "outputs": [
        {
          "output_type": "execute_result",
          "data": {
            "text/html": [
              "<div>\n",
              "<style scoped>\n",
              "    .dataframe tbody tr th:only-of-type {\n",
              "        vertical-align: middle;\n",
              "    }\n",
              "\n",
              "    .dataframe tbody tr th {\n",
              "        vertical-align: top;\n",
              "    }\n",
              "\n",
              "    .dataframe thead th {\n",
              "        text-align: right;\n",
              "    }\n",
              "</style>\n",
              "<table border=\"1\" class=\"dataframe\">\n",
              "  <thead>\n",
              "    <tr style=\"text-align: right;\">\n",
              "      <th></th>\n",
              "      <th>Opportunity_ID</th>\n",
              "      <th>totalamount</th>\n",
              "      <th>totalTrf</th>\n",
              "      <th>meanTrf</th>\n",
              "      <th>cantTrf</th>\n",
              "      <th>cantProducFamilias</th>\n",
              "      <th>maxTrf</th>\n",
              "      <th>meanDisPlannedStarAndPlannedEnd</th>\n",
              "      <th>meanTrfporTotalTrf</th>\n",
              "      <th>cantProducFamiliasporTotalTrf</th>\n",
              "      <th>Stage</th>\n",
              "      <th>meanEncodingTerritory</th>\n",
              "      <th>meanEncodingRegion</th>\n",
              "      <th>meanEncodingDelivery_Terms</th>\n",
              "    </tr>\n",
              "  </thead>\n",
              "  <tbody>\n",
              "    <tr>\n",
              "      <th>0</th>\n",
              "      <td>0</td>\n",
              "      <td>5272800.0</td>\n",
              "      <td>10</td>\n",
              "      <td>10.0</td>\n",
              "      <td>1</td>\n",
              "      <td>1</td>\n",
              "      <td>10</td>\n",
              "      <td>5184000.0</td>\n",
              "      <td>100.0</td>\n",
              "      <td>10</td>\n",
              "      <td>0</td>\n",
              "      <td>0.535927</td>\n",
              "      <td>0.463392</td>\n",
              "      <td>0.479801</td>\n",
              "    </tr>\n",
              "    <tr>\n",
              "      <th>1</th>\n",
              "      <td>1</td>\n",
              "      <td>48230.0</td>\n",
              "      <td>0</td>\n",
              "      <td>0.0</td>\n",
              "      <td>1</td>\n",
              "      <td>1</td>\n",
              "      <td>0</td>\n",
              "      <td>172800.0</td>\n",
              "      <td>0.0</td>\n",
              "      <td>0</td>\n",
              "      <td>1</td>\n",
              "      <td>0.535927</td>\n",
              "      <td>0.463392</td>\n",
              "      <td>0.479801</td>\n",
              "    </tr>\n",
              "    <tr>\n",
              "      <th>2</th>\n",
              "      <td>2</td>\n",
              "      <td>83865.6</td>\n",
              "      <td>0</td>\n",
              "      <td>0.0</td>\n",
              "      <td>1</td>\n",
              "      <td>1</td>\n",
              "      <td>0</td>\n",
              "      <td>0.0</td>\n",
              "      <td>0.0</td>\n",
              "      <td>0</td>\n",
              "      <td>1</td>\n",
              "      <td>0.632723</td>\n",
              "      <td>0.446166</td>\n",
              "      <td>0.547011</td>\n",
              "    </tr>\n",
              "    <tr>\n",
              "      <th>3</th>\n",
              "      <td>3</td>\n",
              "      <td>7421881.5</td>\n",
              "      <td>14</td>\n",
              "      <td>14.0</td>\n",
              "      <td>1</td>\n",
              "      <td>1</td>\n",
              "      <td>14</td>\n",
              "      <td>5011200.0</td>\n",
              "      <td>196.0</td>\n",
              "      <td>14</td>\n",
              "      <td>0</td>\n",
              "      <td>0.632723</td>\n",
              "      <td>0.446166</td>\n",
              "      <td>0.449874</td>\n",
              "    </tr>\n",
              "    <tr>\n",
              "      <th>4</th>\n",
              "      <td>4</td>\n",
              "      <td>13357192.5</td>\n",
              "      <td>25</td>\n",
              "      <td>25.0</td>\n",
              "      <td>1</td>\n",
              "      <td>1</td>\n",
              "      <td>25</td>\n",
              "      <td>2332800.0</td>\n",
              "      <td>625.0</td>\n",
              "      <td>25</td>\n",
              "      <td>0</td>\n",
              "      <td>0.632723</td>\n",
              "      <td>0.446166</td>\n",
              "      <td>0.449874</td>\n",
              "    </tr>\n",
              "  </tbody>\n",
              "</table>\n",
              "</div>"
            ],
            "text/plain": [
              "   Opportunity_ID  totalamount  ...  meanEncodingRegion  meanEncodingDelivery_Terms\n",
              "0               0    5272800.0  ...            0.463392                    0.479801\n",
              "1               1      48230.0  ...            0.463392                    0.479801\n",
              "2               2      83865.6  ...            0.446166                    0.547011\n",
              "3               3    7421881.5  ...            0.446166                    0.449874\n",
              "4               4   13357192.5  ...            0.446166                    0.449874\n",
              "\n",
              "[5 rows x 14 columns]"
            ]
          },
          "metadata": {
            "tags": []
          },
          "execution_count": 301
        }
      ]
    },
    {
      "cell_type": "code",
      "metadata": {
        "id": "KDbCfSB-4Qq4"
      },
      "source": [
        ""
      ],
      "execution_count": 301,
      "outputs": []
    },
    {
      "cell_type": "markdown",
      "metadata": {
        "id": "YDR5wV7RLxYv"
      },
      "source": [
        "#Account_Owner\n"
      ]
    },
    {
      "cell_type": "code",
      "metadata": {
        "id": "ZCaPLla_LxYx"
      },
      "source": [
        "#df = pd.read_csv('data.csv')\n",
        "#df['Account_Owner'].value_counts()"
      ],
      "execution_count": 302,
      "outputs": []
    },
    {
      "cell_type": "code",
      "metadata": {
        "id": "V0CE4XxrLxYz"
      },
      "source": [
        "def agregarMeanEncoding(dfWithFeatureTarget,columnCategorica):\r\n",
        "  \"\"\"dfWithFeature es un df de formato ['Opportunity_ID', y columnas nuevas agregadas anteriormente,target]\r\n",
        "  se hace minencoding columancategoria, retorna un df con opportunity_id, meanencoding,columnas nuevas agregadas anteriormente\r\n",
        "      \"\"\"\r\n",
        "  df = pd.read_csv('data.csv')\r\n",
        "  entrenamiento = pd.read_csv('data.csv')\r\n",
        "  df = df.replace('Closed Won', '1')\r\n",
        "  df = df.replace('Closed Lost', '0')\r\n",
        "  df = df[df['Stage'].isin(['0','1'])]\r\n",
        "  df.Stage = df.Stage.astype(int)\r\n",
        "  df = df.groupby([columnCategorica,'Opportunity_ID']).agg({'Stage':['sum','count']})\r\n",
        "  df = df.reset_index()\r\n",
        "  df1 = df\r\n",
        "  df1.columns = [columnCategorica,'Opportunity_ID','Stage_sum','Stage_count']\r\n",
        "  df1['Stage_sum'] = df1['Stage_sum'].apply(lambda x: 0 if x == 0 else 1)\r\n",
        "  df2 = df1.groupby([columnCategorica]).agg(meanEncodingAccount_Owner = ('Stage_sum','mean'))\r\n",
        "  df2 = df2.reset_index()\r\n",
        "  agruparOportunity=entrenamiento.groupby(['Opportunity_ID',columnCategorica]).agg(cant=(columnCategorica,'count')).reset_index()\r\n",
        "  result=pd.merge(agruparOportunity,df2,on=columnCategorica,how='inner')\r\n",
        "  #eliminamos columnas que no sirve, columncategorica porque la reemplazamos por el mean enconding, y cant que \r\n",
        "  #la usamos para unificar por oportunity_id \r\n",
        "  del result['cant']\r\n",
        "  del result['Account_Owner']\r\n",
        "  result2=pd.merge(dfWithFeatureTarget, result, on='Opportunity_ID' , how='inner')\r\n",
        "  \r\n",
        "  dfWithFeatureTarget=result2\r\n",
        "  dfWithFeatureTarget.Stage = dfWithFeatureTarget.Stage.astype(int)\r\n",
        "  return dfWithFeatureTarget"
      ],
      "execution_count": 303,
      "outputs": []
    },
    {
      "cell_type": "code",
      "metadata": {
        "id": "RgyLdZp4LxYz"
      },
      "source": [
        "#dfNew2=agregarMeanEncoding(dfFeatureWithTarget,'Account_Owner')\r\n",
        "#dfNew2=dfNew2[['Opportunity_ID','meanEncodingAccount_Owner']]\r\n",
        "#dfNew2.head()"
      ],
      "execution_count": 304,
      "outputs": []
    },
    {
      "cell_type": "code",
      "metadata": {
        "id": "agbX23pvLxY0"
      },
      "source": [
        "#dfNew=pd.merge(dfNew, dfNew2, on='Opportunity_ID' , how='inner')\n",
        "#dfNew.head()"
      ],
      "execution_count": 305,
      "outputs": []
    },
    {
      "cell_type": "code",
      "metadata": {
        "id": "pZrZaF_9wZF7"
      },
      "source": [
        "#mer2=mer2.astype(int)"
      ],
      "execution_count": 306,
      "outputs": []
    },
    {
      "cell_type": "code",
      "metadata": {
        "id": "mUMXBDc14Quo"
      },
      "source": [
        "#dfNew3=pd.merge(dfNew, mer2, on='Opportunity_ID' , how='inner')\r\n",
        "#dfNew3"
      ],
      "execution_count": 307,
      "outputs": []
    },
    {
      "cell_type": "code",
      "metadata": {
        "id": "7_5khxF-Ls45"
      },
      "source": [
        "#dfNew3.info()"
      ],
      "execution_count": 308,
      "outputs": []
    },
    {
      "cell_type": "code",
      "metadata": {
        "id": "CgPS05zoLtA0"
      },
      "source": [
        ""
      ],
      "execution_count": 308,
      "outputs": []
    },
    {
      "cell_type": "code",
      "metadata": {
        "id": "JRmB5R3-zvNX"
      },
      "source": [
        "entrenamiento = pd.read_csv('data.csv')\r\n",
        "df=entrenamiento\r\n",
        "df['Month']=pd.to_datetime(df['Month'])\r\n",
        "df['anio']=df['Month'].dt.year\r\n",
        "df['mes']=df['Month'].dt.month\r\n",
        "#mes_cant_stage"
      ],
      "execution_count": 309,
      "outputs": []
    },
    {
      "cell_type": "code",
      "metadata": {
        "id": "Izw7KaQiyaSu"
      },
      "source": [
        "df['mes']=df['mes'].astype(str) "
      ],
      "execution_count": 310,
      "outputs": []
    },
    {
      "cell_type": "code",
      "metadata": {
        "id": "drsfCHBxspbQ"
      },
      "source": [
        "mesTrf=df.groupby(['Opportunity_ID','mes' ]).agg(totalTrf=('TRF','sum')).unstack().fillna(0)"
      ],
      "execution_count": 311,
      "outputs": []
    },
    {
      "cell_type": "code",
      "metadata": {
        "id": "_O1eYGFqyEA_"
      },
      "source": [
        "level0=mesTrf.columns.get_level_values(0)\n",
        "level1=mesTrf.columns.get_level_values(1)"
      ],
      "execution_count": 312,
      "outputs": []
    },
    {
      "cell_type": "code",
      "metadata": {
        "id": "qRla6lAdxnCQ"
      },
      "source": [
        "mesTrf.columns = level0 + '_' +  level1"
      ],
      "execution_count": 313,
      "outputs": []
    },
    {
      "cell_type": "code",
      "metadata": {
        "id": "ng2zk9q8y-Q_"
      },
      "source": [
        "mesTrf=mesTrf.reset_index() \n",
        " "
      ],
      "execution_count": 314,
      "outputs": []
    },
    {
      "cell_type": "code",
      "metadata": {
        "id": "AfTkGnV84Qx0",
        "colab": {
          "base_uri": "https://localhost:8080/",
          "height": 444
        },
        "outputId": "28396d5a-010d-4676-c662-065c018eef28"
      },
      "source": [
        "dfNew4=pd.merge(dfNew, mesTrf, on='Opportunity_ID' , how='inner')\n",
        "dfNew4"
      ],
      "execution_count": 315,
      "outputs": [
        {
          "output_type": "execute_result",
          "data": {
            "text/html": [
              "<div>\n",
              "<style scoped>\n",
              "    .dataframe tbody tr th:only-of-type {\n",
              "        vertical-align: middle;\n",
              "    }\n",
              "\n",
              "    .dataframe tbody tr th {\n",
              "        vertical-align: top;\n",
              "    }\n",
              "\n",
              "    .dataframe thead th {\n",
              "        text-align: right;\n",
              "    }\n",
              "</style>\n",
              "<table border=\"1\" class=\"dataframe\">\n",
              "  <thead>\n",
              "    <tr style=\"text-align: right;\">\n",
              "      <th></th>\n",
              "      <th>Opportunity_ID</th>\n",
              "      <th>totalamount</th>\n",
              "      <th>totalTrf</th>\n",
              "      <th>meanTrf</th>\n",
              "      <th>cantTrf</th>\n",
              "      <th>cantProducFamilias</th>\n",
              "      <th>maxTrf</th>\n",
              "      <th>meanDisPlannedStarAndPlannedEnd</th>\n",
              "      <th>meanTrfporTotalTrf</th>\n",
              "      <th>cantProducFamiliasporTotalTrf</th>\n",
              "      <th>Stage</th>\n",
              "      <th>meanEncodingTerritory</th>\n",
              "      <th>meanEncodingRegion</th>\n",
              "      <th>meanEncodingDelivery_Terms</th>\n",
              "      <th>totalTrf_1</th>\n",
              "      <th>totalTrf_10</th>\n",
              "      <th>totalTrf_11</th>\n",
              "      <th>totalTrf_12</th>\n",
              "      <th>totalTrf_2</th>\n",
              "      <th>totalTrf_3</th>\n",
              "      <th>totalTrf_4</th>\n",
              "      <th>totalTrf_5</th>\n",
              "      <th>totalTrf_6</th>\n",
              "      <th>totalTrf_7</th>\n",
              "      <th>totalTrf_8</th>\n",
              "      <th>totalTrf_9</th>\n",
              "    </tr>\n",
              "  </thead>\n",
              "  <tbody>\n",
              "    <tr>\n",
              "      <th>0</th>\n",
              "      <td>0</td>\n",
              "      <td>5272800.00</td>\n",
              "      <td>10</td>\n",
              "      <td>10.0</td>\n",
              "      <td>1</td>\n",
              "      <td>1</td>\n",
              "      <td>10</td>\n",
              "      <td>5184000.0</td>\n",
              "      <td>100.0</td>\n",
              "      <td>10</td>\n",
              "      <td>0</td>\n",
              "      <td>0.535927</td>\n",
              "      <td>0.463392</td>\n",
              "      <td>0.479801</td>\n",
              "      <td>0.0</td>\n",
              "      <td>0.0</td>\n",
              "      <td>0.0</td>\n",
              "      <td>0.0</td>\n",
              "      <td>0.0</td>\n",
              "      <td>0.0</td>\n",
              "      <td>0.0</td>\n",
              "      <td>10.0</td>\n",
              "      <td>0.0</td>\n",
              "      <td>0.0</td>\n",
              "      <td>0.0</td>\n",
              "      <td>0.0</td>\n",
              "    </tr>\n",
              "    <tr>\n",
              "      <th>1</th>\n",
              "      <td>1</td>\n",
              "      <td>48230.00</td>\n",
              "      <td>0</td>\n",
              "      <td>0.0</td>\n",
              "      <td>1</td>\n",
              "      <td>1</td>\n",
              "      <td>0</td>\n",
              "      <td>172800.0</td>\n",
              "      <td>0.0</td>\n",
              "      <td>0</td>\n",
              "      <td>1</td>\n",
              "      <td>0.535927</td>\n",
              "      <td>0.463392</td>\n",
              "      <td>0.479801</td>\n",
              "      <td>0.0</td>\n",
              "      <td>0.0</td>\n",
              "      <td>0.0</td>\n",
              "      <td>0.0</td>\n",
              "      <td>0.0</td>\n",
              "      <td>0.0</td>\n",
              "      <td>0.0</td>\n",
              "      <td>0.0</td>\n",
              "      <td>0.0</td>\n",
              "      <td>0.0</td>\n",
              "      <td>0.0</td>\n",
              "      <td>0.0</td>\n",
              "    </tr>\n",
              "    <tr>\n",
              "      <th>2</th>\n",
              "      <td>2</td>\n",
              "      <td>83865.60</td>\n",
              "      <td>0</td>\n",
              "      <td>0.0</td>\n",
              "      <td>1</td>\n",
              "      <td>1</td>\n",
              "      <td>0</td>\n",
              "      <td>0.0</td>\n",
              "      <td>0.0</td>\n",
              "      <td>0</td>\n",
              "      <td>1</td>\n",
              "      <td>0.632723</td>\n",
              "      <td>0.446166</td>\n",
              "      <td>0.547011</td>\n",
              "      <td>0.0</td>\n",
              "      <td>0.0</td>\n",
              "      <td>0.0</td>\n",
              "      <td>0.0</td>\n",
              "      <td>0.0</td>\n",
              "      <td>0.0</td>\n",
              "      <td>0.0</td>\n",
              "      <td>0.0</td>\n",
              "      <td>0.0</td>\n",
              "      <td>0.0</td>\n",
              "      <td>0.0</td>\n",
              "      <td>0.0</td>\n",
              "    </tr>\n",
              "    <tr>\n",
              "      <th>3</th>\n",
              "      <td>3</td>\n",
              "      <td>7421881.50</td>\n",
              "      <td>14</td>\n",
              "      <td>14.0</td>\n",
              "      <td>1</td>\n",
              "      <td>1</td>\n",
              "      <td>14</td>\n",
              "      <td>5011200.0</td>\n",
              "      <td>196.0</td>\n",
              "      <td>14</td>\n",
              "      <td>0</td>\n",
              "      <td>0.632723</td>\n",
              "      <td>0.446166</td>\n",
              "      <td>0.449874</td>\n",
              "      <td>0.0</td>\n",
              "      <td>0.0</td>\n",
              "      <td>0.0</td>\n",
              "      <td>0.0</td>\n",
              "      <td>14.0</td>\n",
              "      <td>0.0</td>\n",
              "      <td>0.0</td>\n",
              "      <td>0.0</td>\n",
              "      <td>0.0</td>\n",
              "      <td>0.0</td>\n",
              "      <td>0.0</td>\n",
              "      <td>0.0</td>\n",
              "    </tr>\n",
              "    <tr>\n",
              "      <th>4</th>\n",
              "      <td>4</td>\n",
              "      <td>13357192.50</td>\n",
              "      <td>25</td>\n",
              "      <td>25.0</td>\n",
              "      <td>1</td>\n",
              "      <td>1</td>\n",
              "      <td>25</td>\n",
              "      <td>2332800.0</td>\n",
              "      <td>625.0</td>\n",
              "      <td>25</td>\n",
              "      <td>0</td>\n",
              "      <td>0.632723</td>\n",
              "      <td>0.446166</td>\n",
              "      <td>0.449874</td>\n",
              "      <td>0.0</td>\n",
              "      <td>0.0</td>\n",
              "      <td>0.0</td>\n",
              "      <td>0.0</td>\n",
              "      <td>25.0</td>\n",
              "      <td>0.0</td>\n",
              "      <td>0.0</td>\n",
              "      <td>0.0</td>\n",
              "      <td>0.0</td>\n",
              "      <td>0.0</td>\n",
              "      <td>0.0</td>\n",
              "      <td>0.0</td>\n",
              "    </tr>\n",
              "    <tr>\n",
              "      <th>...</th>\n",
              "      <td>...</td>\n",
              "      <td>...</td>\n",
              "      <td>...</td>\n",
              "      <td>...</td>\n",
              "      <td>...</td>\n",
              "      <td>...</td>\n",
              "      <td>...</td>\n",
              "      <td>...</td>\n",
              "      <td>...</td>\n",
              "      <td>...</td>\n",
              "      <td>...</td>\n",
              "      <td>...</td>\n",
              "      <td>...</td>\n",
              "      <td>...</td>\n",
              "      <td>...</td>\n",
              "      <td>...</td>\n",
              "      <td>...</td>\n",
              "      <td>...</td>\n",
              "      <td>...</td>\n",
              "      <td>...</td>\n",
              "      <td>...</td>\n",
              "      <td>...</td>\n",
              "      <td>...</td>\n",
              "      <td>...</td>\n",
              "      <td>...</td>\n",
              "      <td>...</td>\n",
              "    </tr>\n",
              "    <tr>\n",
              "      <th>9786</th>\n",
              "      <td>12799</td>\n",
              "      <td>401700.00</td>\n",
              "      <td>1</td>\n",
              "      <td>1.0</td>\n",
              "      <td>1</td>\n",
              "      <td>1</td>\n",
              "      <td>1</td>\n",
              "      <td>1728000.0</td>\n",
              "      <td>1.0</td>\n",
              "      <td>1</td>\n",
              "      <td>1</td>\n",
              "      <td>0.388889</td>\n",
              "      <td>0.463392</td>\n",
              "      <td>0.479801</td>\n",
              "      <td>0.0</td>\n",
              "      <td>0.0</td>\n",
              "      <td>0.0</td>\n",
              "      <td>0.0</td>\n",
              "      <td>0.0</td>\n",
              "      <td>0.0</td>\n",
              "      <td>1.0</td>\n",
              "      <td>0.0</td>\n",
              "      <td>0.0</td>\n",
              "      <td>0.0</td>\n",
              "      <td>0.0</td>\n",
              "      <td>0.0</td>\n",
              "    </tr>\n",
              "    <tr>\n",
              "      <th>9787</th>\n",
              "      <td>12800</td>\n",
              "      <td>21332500.00</td>\n",
              "      <td>40</td>\n",
              "      <td>20.0</td>\n",
              "      <td>2</td>\n",
              "      <td>2</td>\n",
              "      <td>20</td>\n",
              "      <td>7603200.0</td>\n",
              "      <td>800.0</td>\n",
              "      <td>80</td>\n",
              "      <td>0</td>\n",
              "      <td>0.347490</td>\n",
              "      <td>0.446166</td>\n",
              "      <td>0.547011</td>\n",
              "      <td>0.0</td>\n",
              "      <td>40.0</td>\n",
              "      <td>0.0</td>\n",
              "      <td>0.0</td>\n",
              "      <td>0.0</td>\n",
              "      <td>0.0</td>\n",
              "      <td>0.0</td>\n",
              "      <td>0.0</td>\n",
              "      <td>0.0</td>\n",
              "      <td>0.0</td>\n",
              "      <td>0.0</td>\n",
              "      <td>0.0</td>\n",
              "    </tr>\n",
              "    <tr>\n",
              "      <th>9788</th>\n",
              "      <td>12801</td>\n",
              "      <td>299715.00</td>\n",
              "      <td>0</td>\n",
              "      <td>0.0</td>\n",
              "      <td>3</td>\n",
              "      <td>3</td>\n",
              "      <td>0</td>\n",
              "      <td>316800.0</td>\n",
              "      <td>0.0</td>\n",
              "      <td>0</td>\n",
              "      <td>1</td>\n",
              "      <td>0.805556</td>\n",
              "      <td>0.463392</td>\n",
              "      <td>0.479801</td>\n",
              "      <td>0.0</td>\n",
              "      <td>0.0</td>\n",
              "      <td>0.0</td>\n",
              "      <td>0.0</td>\n",
              "      <td>0.0</td>\n",
              "      <td>0.0</td>\n",
              "      <td>0.0</td>\n",
              "      <td>0.0</td>\n",
              "      <td>0.0</td>\n",
              "      <td>0.0</td>\n",
              "      <td>0.0</td>\n",
              "      <td>0.0</td>\n",
              "    </tr>\n",
              "    <tr>\n",
              "      <th>9789</th>\n",
              "      <td>12802</td>\n",
              "      <td>2346796.88</td>\n",
              "      <td>4</td>\n",
              "      <td>4.0</td>\n",
              "      <td>1</td>\n",
              "      <td>1</td>\n",
              "      <td>4</td>\n",
              "      <td>345600.0</td>\n",
              "      <td>16.0</td>\n",
              "      <td>4</td>\n",
              "      <td>0</td>\n",
              "      <td>0.347490</td>\n",
              "      <td>0.446166</td>\n",
              "      <td>0.547011</td>\n",
              "      <td>0.0</td>\n",
              "      <td>0.0</td>\n",
              "      <td>0.0</td>\n",
              "      <td>0.0</td>\n",
              "      <td>0.0</td>\n",
              "      <td>0.0</td>\n",
              "      <td>4.0</td>\n",
              "      <td>0.0</td>\n",
              "      <td>0.0</td>\n",
              "      <td>0.0</td>\n",
              "      <td>0.0</td>\n",
              "      <td>0.0</td>\n",
              "    </tr>\n",
              "    <tr>\n",
              "      <th>9790</th>\n",
              "      <td>12803</td>\n",
              "      <td>25603200.00</td>\n",
              "      <td>40</td>\n",
              "      <td>40.0</td>\n",
              "      <td>1</td>\n",
              "      <td>1</td>\n",
              "      <td>40</td>\n",
              "      <td>5270400.0</td>\n",
              "      <td>1600.0</td>\n",
              "      <td>40</td>\n",
              "      <td>0</td>\n",
              "      <td>0.347490</td>\n",
              "      <td>0.446166</td>\n",
              "      <td>0.547011</td>\n",
              "      <td>0.0</td>\n",
              "      <td>0.0</td>\n",
              "      <td>0.0</td>\n",
              "      <td>0.0</td>\n",
              "      <td>0.0</td>\n",
              "      <td>0.0</td>\n",
              "      <td>0.0</td>\n",
              "      <td>0.0</td>\n",
              "      <td>0.0</td>\n",
              "      <td>40.0</td>\n",
              "      <td>0.0</td>\n",
              "      <td>0.0</td>\n",
              "    </tr>\n",
              "  </tbody>\n",
              "</table>\n",
              "<p>9791 rows × 26 columns</p>\n",
              "</div>"
            ],
            "text/plain": [
              "      Opportunity_ID  totalamount  totalTrf  ...  totalTrf_7  totalTrf_8  totalTrf_9\n",
              "0                  0   5272800.00        10  ...         0.0         0.0         0.0\n",
              "1                  1     48230.00         0  ...         0.0         0.0         0.0\n",
              "2                  2     83865.60         0  ...         0.0         0.0         0.0\n",
              "3                  3   7421881.50        14  ...         0.0         0.0         0.0\n",
              "4                  4  13357192.50        25  ...         0.0         0.0         0.0\n",
              "...              ...          ...       ...  ...         ...         ...         ...\n",
              "9786           12799    401700.00         1  ...         0.0         0.0         0.0\n",
              "9787           12800  21332500.00        40  ...         0.0         0.0         0.0\n",
              "9788           12801    299715.00         0  ...         0.0         0.0         0.0\n",
              "9789           12802   2346796.88         4  ...         0.0         0.0         0.0\n",
              "9790           12803  25603200.00        40  ...        40.0         0.0         0.0\n",
              "\n",
              "[9791 rows x 26 columns]"
            ]
          },
          "metadata": {
            "tags": []
          },
          "execution_count": 315
        }
      ]
    },
    {
      "cell_type": "code",
      "metadata": {
        "id": "qyWtuSkixvx6"
      },
      "source": [
        "#guardo el df ya con sus features para usarlo \n",
        "dicAcumTrainAndTest['entrenamiento']=dfNew4"
      ],
      "execution_count": 316,
      "outputs": []
    },
    {
      "cell_type": "code",
      "metadata": {
        "colab": {
          "base_uri": "https://localhost:8080/"
        },
        "id": "8P7bAsNbzzbi",
        "outputId": "2a1941d6-0cba-41f2-c039-d64a467c9f92"
      },
      "source": [
        "X,y=modelo.splitTrainTarget(dfNew4)"
      ],
      "execution_count": 317,
      "outputs": [
        {
          "output_type": "stream",
          "text": [
            "las columnas del train son Index(['totalamount', 'totalTrf', 'meanTrf', 'cantTrf', 'cantProducFamilias',\n",
            "       'maxTrf', 'meanDisPlannedStarAndPlannedEnd', 'meanTrfporTotalTrf',\n",
            "       'cantProducFamiliasporTotalTrf', 'meanEncodingTerritory',\n",
            "       'meanEncodingRegion', 'meanEncodingDelivery_Terms', 'totalTrf_1',\n",
            "       'totalTrf_10', 'totalTrf_11', 'totalTrf_12', 'totalTrf_2', 'totalTrf_3',\n",
            "       'totalTrf_4', 'totalTrf_5', 'totalTrf_6', 'totalTrf_7', 'totalTrf_8',\n",
            "       'totalTrf_9'],\n",
            "      dtype='object') y del target son  Stage\n"
          ],
          "name": "stdout"
        }
      ]
    },
    {
      "cell_type": "code",
      "metadata": {
        "id": "I0C9yMSdzzbi"
      },
      "source": [
        " \n",
        "#el optimizado splitea con los kfold, por eso usamos X,y en el buscaMejorHiperparametroModeloKfold\n",
        "X_train, X_test, y_train, y_test=modelo.SplitTrainTest(X,y)"
      ],
      "execution_count": 318,
      "outputs": []
    },
    {
      "cell_type": "code",
      "metadata": {
        "colab": {
          "base_uri": "https://localhost:8080/",
          "height": 444
        },
        "id": "4r7s20PMzzbi",
        "outputId": "6e623b82-2851-48b5-e76a-f04f0a33880d"
      },
      "source": [
        "X_train"
      ],
      "execution_count": 319,
      "outputs": [
        {
          "output_type": "execute_result",
          "data": {
            "text/html": [
              "<div>\n",
              "<style scoped>\n",
              "    .dataframe tbody tr th:only-of-type {\n",
              "        vertical-align: middle;\n",
              "    }\n",
              "\n",
              "    .dataframe tbody tr th {\n",
              "        vertical-align: top;\n",
              "    }\n",
              "\n",
              "    .dataframe thead th {\n",
              "        text-align: right;\n",
              "    }\n",
              "</style>\n",
              "<table border=\"1\" class=\"dataframe\">\n",
              "  <thead>\n",
              "    <tr style=\"text-align: right;\">\n",
              "      <th></th>\n",
              "      <th>totalamount</th>\n",
              "      <th>totalTrf</th>\n",
              "      <th>meanTrf</th>\n",
              "      <th>cantTrf</th>\n",
              "      <th>cantProducFamilias</th>\n",
              "      <th>maxTrf</th>\n",
              "      <th>meanDisPlannedStarAndPlannedEnd</th>\n",
              "      <th>meanTrfporTotalTrf</th>\n",
              "      <th>cantProducFamiliasporTotalTrf</th>\n",
              "      <th>meanEncodingTerritory</th>\n",
              "      <th>meanEncodingRegion</th>\n",
              "      <th>meanEncodingDelivery_Terms</th>\n",
              "      <th>totalTrf_1</th>\n",
              "      <th>totalTrf_10</th>\n",
              "      <th>totalTrf_11</th>\n",
              "      <th>totalTrf_12</th>\n",
              "      <th>totalTrf_2</th>\n",
              "      <th>totalTrf_3</th>\n",
              "      <th>totalTrf_4</th>\n",
              "      <th>totalTrf_5</th>\n",
              "      <th>totalTrf_6</th>\n",
              "      <th>totalTrf_7</th>\n",
              "      <th>totalTrf_8</th>\n",
              "      <th>totalTrf_9</th>\n",
              "    </tr>\n",
              "  </thead>\n",
              "  <tbody>\n",
              "    <tr>\n",
              "      <th>2263</th>\n",
              "      <td>32050000.0</td>\n",
              "      <td>0</td>\n",
              "      <td>0.0</td>\n",
              "      <td>3</td>\n",
              "      <td>3</td>\n",
              "      <td>0</td>\n",
              "      <td>0.0</td>\n",
              "      <td>0.0</td>\n",
              "      <td>0</td>\n",
              "      <td>0.802326</td>\n",
              "      <td>0.684350</td>\n",
              "      <td>0.666667</td>\n",
              "      <td>0.0</td>\n",
              "      <td>0.0</td>\n",
              "      <td>0.0</td>\n",
              "      <td>0.0</td>\n",
              "      <td>0.0</td>\n",
              "      <td>0.0</td>\n",
              "      <td>0.0</td>\n",
              "      <td>0.0</td>\n",
              "      <td>0.0</td>\n",
              "      <td>0.0</td>\n",
              "      <td>0.0</td>\n",
              "      <td>0.0</td>\n",
              "    </tr>\n",
              "    <tr>\n",
              "      <th>9459</th>\n",
              "      <td>99450.0</td>\n",
              "      <td>0</td>\n",
              "      <td>0.0</td>\n",
              "      <td>1</td>\n",
              "      <td>1</td>\n",
              "      <td>0</td>\n",
              "      <td>86400.0</td>\n",
              "      <td>0.0</td>\n",
              "      <td>0</td>\n",
              "      <td>0.593750</td>\n",
              "      <td>0.463392</td>\n",
              "      <td>0.479801</td>\n",
              "      <td>0.0</td>\n",
              "      <td>0.0</td>\n",
              "      <td>0.0</td>\n",
              "      <td>0.0</td>\n",
              "      <td>0.0</td>\n",
              "      <td>0.0</td>\n",
              "      <td>0.0</td>\n",
              "      <td>0.0</td>\n",
              "      <td>0.0</td>\n",
              "      <td>0.0</td>\n",
              "      <td>0.0</td>\n",
              "      <td>0.0</td>\n",
              "    </tr>\n",
              "    <tr>\n",
              "      <th>7388</th>\n",
              "      <td>2827.5</td>\n",
              "      <td>0</td>\n",
              "      <td>0.0</td>\n",
              "      <td>1</td>\n",
              "      <td>1</td>\n",
              "      <td>0</td>\n",
              "      <td>0.0</td>\n",
              "      <td>0.0</td>\n",
              "      <td>0</td>\n",
              "      <td>0.548148</td>\n",
              "      <td>0.463392</td>\n",
              "      <td>0.479801</td>\n",
              "      <td>0.0</td>\n",
              "      <td>0.0</td>\n",
              "      <td>0.0</td>\n",
              "      <td>0.0</td>\n",
              "      <td>0.0</td>\n",
              "      <td>0.0</td>\n",
              "      <td>0.0</td>\n",
              "      <td>0.0</td>\n",
              "      <td>0.0</td>\n",
              "      <td>0.0</td>\n",
              "      <td>0.0</td>\n",
              "      <td>0.0</td>\n",
              "    </tr>\n",
              "    <tr>\n",
              "      <th>7033</th>\n",
              "      <td>1485160.0</td>\n",
              "      <td>3</td>\n",
              "      <td>1.5</td>\n",
              "      <td>2</td>\n",
              "      <td>2</td>\n",
              "      <td>3</td>\n",
              "      <td>0.0</td>\n",
              "      <td>4.5</td>\n",
              "      <td>6</td>\n",
              "      <td>0.632723</td>\n",
              "      <td>0.446166</td>\n",
              "      <td>0.547011</td>\n",
              "      <td>0.0</td>\n",
              "      <td>0.0</td>\n",
              "      <td>0.0</td>\n",
              "      <td>0.0</td>\n",
              "      <td>0.0</td>\n",
              "      <td>0.0</td>\n",
              "      <td>0.0</td>\n",
              "      <td>0.0</td>\n",
              "      <td>0.0</td>\n",
              "      <td>0.0</td>\n",
              "      <td>3.0</td>\n",
              "      <td>0.0</td>\n",
              "    </tr>\n",
              "    <tr>\n",
              "      <th>4740</th>\n",
              "      <td>81225.0</td>\n",
              "      <td>0</td>\n",
              "      <td>0.0</td>\n",
              "      <td>1</td>\n",
              "      <td>1</td>\n",
              "      <td>0</td>\n",
              "      <td>0.0</td>\n",
              "      <td>0.0</td>\n",
              "      <td>0</td>\n",
              "      <td>0.295165</td>\n",
              "      <td>0.463392</td>\n",
              "      <td>0.479801</td>\n",
              "      <td>0.0</td>\n",
              "      <td>0.0</td>\n",
              "      <td>0.0</td>\n",
              "      <td>0.0</td>\n",
              "      <td>0.0</td>\n",
              "      <td>0.0</td>\n",
              "      <td>0.0</td>\n",
              "      <td>0.0</td>\n",
              "      <td>0.0</td>\n",
              "      <td>0.0</td>\n",
              "      <td>0.0</td>\n",
              "      <td>0.0</td>\n",
              "    </tr>\n",
              "    <tr>\n",
              "      <th>...</th>\n",
              "      <td>...</td>\n",
              "      <td>...</td>\n",
              "      <td>...</td>\n",
              "      <td>...</td>\n",
              "      <td>...</td>\n",
              "      <td>...</td>\n",
              "      <td>...</td>\n",
              "      <td>...</td>\n",
              "      <td>...</td>\n",
              "      <td>...</td>\n",
              "      <td>...</td>\n",
              "      <td>...</td>\n",
              "      <td>...</td>\n",
              "      <td>...</td>\n",
              "      <td>...</td>\n",
              "      <td>...</td>\n",
              "      <td>...</td>\n",
              "      <td>...</td>\n",
              "      <td>...</td>\n",
              "      <td>...</td>\n",
              "      <td>...</td>\n",
              "      <td>...</td>\n",
              "      <td>...</td>\n",
              "      <td>...</td>\n",
              "    </tr>\n",
              "    <tr>\n",
              "      <th>9785</th>\n",
              "      <td>1307775.0</td>\n",
              "      <td>3</td>\n",
              "      <td>3.0</td>\n",
              "      <td>1</td>\n",
              "      <td>1</td>\n",
              "      <td>3</td>\n",
              "      <td>3974400.0</td>\n",
              "      <td>9.0</td>\n",
              "      <td>3</td>\n",
              "      <td>0.548148</td>\n",
              "      <td>0.463392</td>\n",
              "      <td>0.479801</td>\n",
              "      <td>0.0</td>\n",
              "      <td>0.0</td>\n",
              "      <td>0.0</td>\n",
              "      <td>0.0</td>\n",
              "      <td>0.0</td>\n",
              "      <td>0.0</td>\n",
              "      <td>0.0</td>\n",
              "      <td>0.0</td>\n",
              "      <td>0.0</td>\n",
              "      <td>0.0</td>\n",
              "      <td>3.0</td>\n",
              "      <td>0.0</td>\n",
              "    </tr>\n",
              "    <tr>\n",
              "      <th>7763</th>\n",
              "      <td>103125.0</td>\n",
              "      <td>0</td>\n",
              "      <td>0.0</td>\n",
              "      <td>1</td>\n",
              "      <td>1</td>\n",
              "      <td>0</td>\n",
              "      <td>345600.0</td>\n",
              "      <td>0.0</td>\n",
              "      <td>0</td>\n",
              "      <td>0.593750</td>\n",
              "      <td>0.463392</td>\n",
              "      <td>0.479801</td>\n",
              "      <td>0.0</td>\n",
              "      <td>0.0</td>\n",
              "      <td>0.0</td>\n",
              "      <td>0.0</td>\n",
              "      <td>0.0</td>\n",
              "      <td>0.0</td>\n",
              "      <td>0.0</td>\n",
              "      <td>0.0</td>\n",
              "      <td>0.0</td>\n",
              "      <td>0.0</td>\n",
              "      <td>0.0</td>\n",
              "      <td>0.0</td>\n",
              "    </tr>\n",
              "    <tr>\n",
              "      <th>5218</th>\n",
              "      <td>292410.0</td>\n",
              "      <td>1</td>\n",
              "      <td>1.0</td>\n",
              "      <td>1</td>\n",
              "      <td>1</td>\n",
              "      <td>1</td>\n",
              "      <td>1900800.0</td>\n",
              "      <td>1.0</td>\n",
              "      <td>1</td>\n",
              "      <td>0.417755</td>\n",
              "      <td>0.463392</td>\n",
              "      <td>0.479801</td>\n",
              "      <td>0.0</td>\n",
              "      <td>1.0</td>\n",
              "      <td>0.0</td>\n",
              "      <td>0.0</td>\n",
              "      <td>0.0</td>\n",
              "      <td>0.0</td>\n",
              "      <td>0.0</td>\n",
              "      <td>0.0</td>\n",
              "      <td>0.0</td>\n",
              "      <td>0.0</td>\n",
              "      <td>0.0</td>\n",
              "      <td>0.0</td>\n",
              "    </tr>\n",
              "    <tr>\n",
              "      <th>1346</th>\n",
              "      <td>326340.0</td>\n",
              "      <td>0</td>\n",
              "      <td>0.0</td>\n",
              "      <td>3</td>\n",
              "      <td>3</td>\n",
              "      <td>0</td>\n",
              "      <td>720000.0</td>\n",
              "      <td>0.0</td>\n",
              "      <td>0</td>\n",
              "      <td>0.802326</td>\n",
              "      <td>0.684350</td>\n",
              "      <td>0.666667</td>\n",
              "      <td>0.0</td>\n",
              "      <td>0.0</td>\n",
              "      <td>0.0</td>\n",
              "      <td>0.0</td>\n",
              "      <td>0.0</td>\n",
              "      <td>0.0</td>\n",
              "      <td>0.0</td>\n",
              "      <td>0.0</td>\n",
              "      <td>0.0</td>\n",
              "      <td>0.0</td>\n",
              "      <td>0.0</td>\n",
              "      <td>0.0</td>\n",
              "    </tr>\n",
              "    <tr>\n",
              "      <th>3582</th>\n",
              "      <td>3010000.0</td>\n",
              "      <td>0</td>\n",
              "      <td>0.0</td>\n",
              "      <td>1</td>\n",
              "      <td>1</td>\n",
              "      <td>0</td>\n",
              "      <td>0.0</td>\n",
              "      <td>0.0</td>\n",
              "      <td>0</td>\n",
              "      <td>0.802326</td>\n",
              "      <td>0.684350</td>\n",
              "      <td>0.547011</td>\n",
              "      <td>0.0</td>\n",
              "      <td>0.0</td>\n",
              "      <td>0.0</td>\n",
              "      <td>0.0</td>\n",
              "      <td>0.0</td>\n",
              "      <td>0.0</td>\n",
              "      <td>0.0</td>\n",
              "      <td>0.0</td>\n",
              "      <td>0.0</td>\n",
              "      <td>0.0</td>\n",
              "      <td>0.0</td>\n",
              "      <td>0.0</td>\n",
              "    </tr>\n",
              "  </tbody>\n",
              "</table>\n",
              "<p>6853 rows × 24 columns</p>\n",
              "</div>"
            ],
            "text/plain": [
              "      totalamount  totalTrf  meanTrf  ...  totalTrf_7  totalTrf_8  totalTrf_9\n",
              "2263   32050000.0         0      0.0  ...         0.0         0.0         0.0\n",
              "9459      99450.0         0      0.0  ...         0.0         0.0         0.0\n",
              "7388       2827.5         0      0.0  ...         0.0         0.0         0.0\n",
              "7033    1485160.0         3      1.5  ...         0.0         3.0         0.0\n",
              "4740      81225.0         0      0.0  ...         0.0         0.0         0.0\n",
              "...           ...       ...      ...  ...         ...         ...         ...\n",
              "9785    1307775.0         3      3.0  ...         0.0         3.0         0.0\n",
              "7763     103125.0         0      0.0  ...         0.0         0.0         0.0\n",
              "5218     292410.0         1      1.0  ...         0.0         0.0         0.0\n",
              "1346     326340.0         0      0.0  ...         0.0         0.0         0.0\n",
              "3582    3010000.0         0      0.0  ...         0.0         0.0         0.0\n",
              "\n",
              "[6853 rows x 24 columns]"
            ]
          },
          "metadata": {
            "tags": []
          },
          "execution_count": 319
        }
      ]
    },
    {
      "cell_type": "code",
      "metadata": {
        "colab": {
          "base_uri": "https://localhost:8080/"
        },
        "id": "XWToDLyCzzbj",
        "outputId": "87082feb-f0b5-44b3-cf0d-d74ca9d69545"
      },
      "source": [
        "#entrenamo y predecimos, y comparamos con el valor real y vemos su error\r\n",
        "modelo.errorSetEntrenamiento(  X_train,y_train,X_test,y_test) "
      ],
      "execution_count": 320,
      "outputs": [
        {
          "output_type": "stream",
          "text": [
            "RMSE: 0.406600\n"
          ],
          "name": "stdout"
        }
      ]
    },
    {
      "cell_type": "code",
      "metadata": {
        "colab": {
          "base_uri": "https://localhost:8080/",
          "height": 1000
        },
        "id": "_XpKFo3R2qYw",
        "outputId": "a99b70a8-3cc2-4d32-f7ca-1f46e6e821a3"
      },
      "source": [
        "modelo.featureImportancia( X_train )"
      ],
      "execution_count": 321,
      "outputs": [
        {
          "output_type": "stream",
          "text": [
            "Feature: 0, Score: 0.03319\n",
            "totalamount\n",
            "Feature: 1, Score: 0.27697\n",
            "totalTrf\n",
            "Feature: 2, Score: 0.12573\n",
            "meanTrf\n",
            "Feature: 3, Score: 0.01499\n",
            "cantTrf\n",
            "Feature: 4, Score: 0.01503\n",
            "cantProducFamilias\n",
            "Feature: 5, Score: 0.19716\n",
            "maxTrf\n",
            "Feature: 6, Score: 0.06925\n",
            "meanDisPlannedStarAndPlannedEnd\n",
            "Feature: 7, Score: 0.03812\n",
            "meanTrfporTotalTrf\n",
            "Feature: 8, Score: 0.07877\n",
            "cantProducFamiliasporTotalTrf\n",
            "Feature: 9, Score: 0.04204\n",
            "meanEncodingTerritory\n",
            "Feature: 10, Score: 0.04553\n",
            "meanEncodingRegion\n",
            "Feature: 11, Score: 0.01543\n",
            "meanEncodingDelivery_Terms\n",
            "Feature: 12, Score: 0.00217\n",
            "totalTrf_1\n",
            "Feature: 13, Score: 0.01165\n",
            "totalTrf_10\n",
            "Feature: 14, Score: 0.00344\n",
            "totalTrf_11\n",
            "Feature: 15, Score: 0.00381\n",
            "totalTrf_12\n",
            "Feature: 16, Score: 0.00281\n",
            "totalTrf_2\n",
            "Feature: 17, Score: 0.00546\n",
            "totalTrf_3\n",
            "Feature: 18, Score: 0.00273\n",
            "totalTrf_4\n",
            "Feature: 19, Score: 0.00518\n",
            "totalTrf_5\n",
            "Feature: 20, Score: 0.00276\n",
            "totalTrf_6\n",
            "Feature: 21, Score: 0.00255\n",
            "totalTrf_7\n",
            "Feature: 22, Score: 0.00000\n",
            "totalTrf_8\n",
            "Feature: 23, Score: 0.00521\n",
            "totalTrf_9\n"
          ],
          "name": "stdout"
        },
        {
          "output_type": "display_data",
          "data": {
            "image/png": "[encoded data removed]",
            "text/plain": [
              "<Figure size 432x288 with 1 Axes>"
            ]
          },
          "metadata": {
            "tags": [],
            "needs_background": "light"
          }
        }
      ]
    },
    {
      "cell_type": "markdown",
      "metadata": {
        "id": "scihRxAGzzbj"
      },
      "source": [
        "# aca vamos a entrenar y predecir con el test para subir a kaggle"
      ]
    },
    {
      "cell_type": "markdown",
      "metadata": {
        "id": "DZk3f3uv_Ozk"
      },
      "source": [
        "# TERRITORY"
      ]
    },
    {
      "cell_type": "code",
      "metadata": {
        "id": "xrUXg3cKzzbj"
      },
      "source": [
        "test=pd.read_csv('test.csv')"
      ],
      "execution_count": 322,
      "outputs": []
    },
    {
      "cell_type": "code",
      "metadata": {
        "colab": {
          "base_uri": "https://localhost:8080/",
          "height": 411
        },
        "id": "KOWlTw_yzzbj",
        "outputId": "998cdb4c-77ec-4ea1-ebcc-282a4746160a"
      },
      "source": [
        "testFeature=modelo.featureEngeenier(test)\r\n",
        "testFeature.head()"
      ],
      "execution_count": 323,
      "outputs": [
        {
          "output_type": "stream",
          "text": [
            "/usr/local/lib/python3.7/dist-packages/ipykernel_launcher.py:99: SettingWithCopyWarning: \n",
            "A value is trying to be set on a copy of a slice from a DataFrame.\n",
            "Try using .loc[row_indexer,col_indexer] = value instead\n",
            "\n",
            "See the caveats in the documentation: https://pandas.pydata.org/pandas-docs/stable/user_guide/indexing.html#returning-a-view-versus-a-copy\n",
            "/usr/local/lib/python3.7/dist-packages/ipykernel_launcher.py:100: SettingWithCopyWarning: \n",
            "A value is trying to be set on a copy of a slice from a DataFrame.\n",
            "Try using .loc[row_indexer,col_indexer] = value instead\n",
            "\n",
            "See the caveats in the documentation: https://pandas.pydata.org/pandas-docs/stable/user_guide/indexing.html#returning-a-view-versus-a-copy\n"
          ],
          "name": "stderr"
        },
        {
          "output_type": "execute_result",
          "data": {
            "text/html": [
              "<div>\n",
              "<style scoped>\n",
              "    .dataframe tbody tr th:only-of-type {\n",
              "        vertical-align: middle;\n",
              "    }\n",
              "\n",
              "    .dataframe tbody tr th {\n",
              "        vertical-align: top;\n",
              "    }\n",
              "\n",
              "    .dataframe thead th {\n",
              "        text-align: right;\n",
              "    }\n",
              "</style>\n",
              "<table border=\"1\" class=\"dataframe\">\n",
              "  <thead>\n",
              "    <tr style=\"text-align: right;\">\n",
              "      <th></th>\n",
              "      <th>Opportunity_ID</th>\n",
              "      <th>totalamount</th>\n",
              "      <th>totalTrf</th>\n",
              "      <th>meanTrf</th>\n",
              "      <th>cantTrf</th>\n",
              "      <th>cantProducFamilias</th>\n",
              "      <th>maxTrf</th>\n",
              "      <th>meanDisPlannedStarAndPlannedEnd</th>\n",
              "      <th>meanTrfporTotalTrf</th>\n",
              "      <th>cantProducFamiliasporTotalTrf</th>\n",
              "    </tr>\n",
              "  </thead>\n",
              "  <tbody>\n",
              "    <tr>\n",
              "      <th>0</th>\n",
              "      <td>10689</td>\n",
              "      <td>367419.0</td>\n",
              "      <td>0</td>\n",
              "      <td>0.0</td>\n",
              "      <td>3</td>\n",
              "      <td>3</td>\n",
              "      <td>0</td>\n",
              "      <td>2592000.0</td>\n",
              "      <td>0.0</td>\n",
              "      <td>0</td>\n",
              "    </tr>\n",
              "    <tr>\n",
              "      <th>1</th>\n",
              "      <td>10690</td>\n",
              "      <td>757783.5</td>\n",
              "      <td>1</td>\n",
              "      <td>0.2</td>\n",
              "      <td>5</td>\n",
              "      <td>5</td>\n",
              "      <td>1</td>\n",
              "      <td>2367360.0</td>\n",
              "      <td>0.2</td>\n",
              "      <td>5</td>\n",
              "    </tr>\n",
              "    <tr>\n",
              "      <th>2</th>\n",
              "      <td>10691</td>\n",
              "      <td>21037.5</td>\n",
              "      <td>0</td>\n",
              "      <td>0.0</td>\n",
              "      <td>1</td>\n",
              "      <td>1</td>\n",
              "      <td>0</td>\n",
              "      <td>0.0</td>\n",
              "      <td>0.0</td>\n",
              "      <td>0</td>\n",
              "    </tr>\n",
              "    <tr>\n",
              "      <th>3</th>\n",
              "      <td>10692</td>\n",
              "      <td>2169106.5</td>\n",
              "      <td>6</td>\n",
              "      <td>1.0</td>\n",
              "      <td>6</td>\n",
              "      <td>6</td>\n",
              "      <td>1</td>\n",
              "      <td>0.0</td>\n",
              "      <td>6.0</td>\n",
              "      <td>36</td>\n",
              "    </tr>\n",
              "    <tr>\n",
              "      <th>4</th>\n",
              "      <td>10693</td>\n",
              "      <td>5752.5</td>\n",
              "      <td>0</td>\n",
              "      <td>0.0</td>\n",
              "      <td>1</td>\n",
              "      <td>1</td>\n",
              "      <td>0</td>\n",
              "      <td>0.0</td>\n",
              "      <td>0.0</td>\n",
              "      <td>0</td>\n",
              "    </tr>\n",
              "  </tbody>\n",
              "</table>\n",
              "</div>"
            ],
            "text/plain": [
              "   Opportunity_ID  ...  cantProducFamiliasporTotalTrf\n",
              "0           10689  ...                              0\n",
              "1           10690  ...                              5\n",
              "2           10691  ...                              0\n",
              "3           10692  ...                             36\n",
              "4           10693  ...                              0\n",
              "\n",
              "[5 rows x 10 columns]"
            ]
          },
          "metadata": {
            "tags": []
          },
          "execution_count": 323
        }
      ]
    },
    {
      "cell_type": "code",
      "metadata": {
        "id": "cuTlZ9SQzvNK"
      },
      "source": [
        "#agrego columnas temporales\r\n",
        "ttest = pd.read_csv('test.csv')\r\n",
        "dft=ttest\r\n",
        "dft['Month']=pd.to_datetime(dft['Month'])\r\n",
        "dft['anio']=dft['Month'].dt.year\r\n",
        "dft['mes']=dft['Month'].dt.month\r\n",
        " "
      ],
      "execution_count": 324,
      "outputs": []
    },
    {
      "cell_type": "code",
      "metadata": {
        "id": "1n8Wch3a1GpM",
        "colab": {
          "base_uri": "https://localhost:8080/",
          "height": 424
        },
        "outputId": "22258cde-3714-4416-e3c9-a8543388a675"
      },
      "source": [
        "opMesTest=dft.groupby(['Opportunity_ID','mes']).agg(unificando=('mes','count')).reset_index()[['Opportunity_ID', \t'mes' \t]]\r\n",
        "opMesTest"
      ],
      "execution_count": 325,
      "outputs": [
        {
          "output_type": "execute_result",
          "data": {
            "text/html": [
              "<div>\n",
              "<style scoped>\n",
              "    .dataframe tbody tr th:only-of-type {\n",
              "        vertical-align: middle;\n",
              "    }\n",
              "\n",
              "    .dataframe tbody tr th {\n",
              "        vertical-align: top;\n",
              "    }\n",
              "\n",
              "    .dataframe thead th {\n",
              "        text-align: right;\n",
              "    }\n",
              "</style>\n",
              "<table border=\"1\" class=\"dataframe\">\n",
              "  <thead>\n",
              "    <tr style=\"text-align: right;\">\n",
              "      <th></th>\n",
              "      <th>Opportunity_ID</th>\n",
              "      <th>mes</th>\n",
              "    </tr>\n",
              "  </thead>\n",
              "  <tbody>\n",
              "    <tr>\n",
              "      <th>0</th>\n",
              "      <td>10689</td>\n",
              "      <td>5</td>\n",
              "    </tr>\n",
              "    <tr>\n",
              "      <th>1</th>\n",
              "      <td>10690</td>\n",
              "      <td>6</td>\n",
              "    </tr>\n",
              "    <tr>\n",
              "      <th>2</th>\n",
              "      <td>10691</td>\n",
              "      <td>10</td>\n",
              "    </tr>\n",
              "    <tr>\n",
              "      <th>3</th>\n",
              "      <td>10692</td>\n",
              "      <td>12</td>\n",
              "    </tr>\n",
              "    <tr>\n",
              "      <th>4</th>\n",
              "      <td>10693</td>\n",
              "      <td>5</td>\n",
              "    </tr>\n",
              "    <tr>\n",
              "      <th>...</th>\n",
              "      <td>...</td>\n",
              "      <td>...</td>\n",
              "    </tr>\n",
              "    <tr>\n",
              "      <th>1836</th>\n",
              "      <td>12364</td>\n",
              "      <td>5</td>\n",
              "    </tr>\n",
              "    <tr>\n",
              "      <th>1837</th>\n",
              "      <td>12365</td>\n",
              "      <td>10</td>\n",
              "    </tr>\n",
              "    <tr>\n",
              "      <th>1838</th>\n",
              "      <td>12366</td>\n",
              "      <td>10</td>\n",
              "    </tr>\n",
              "    <tr>\n",
              "      <th>1839</th>\n",
              "      <td>12367</td>\n",
              "      <td>8</td>\n",
              "    </tr>\n",
              "    <tr>\n",
              "      <th>1840</th>\n",
              "      <td>12368</td>\n",
              "      <td>10</td>\n",
              "    </tr>\n",
              "  </tbody>\n",
              "</table>\n",
              "<p>1841 rows × 2 columns</p>\n",
              "</div>"
            ],
            "text/plain": [
              "      Opportunity_ID  mes\n",
              "0              10689    5\n",
              "1              10690    6\n",
              "2              10691   10\n",
              "3              10692   12\n",
              "4              10693    5\n",
              "...              ...  ...\n",
              "1836           12364    5\n",
              "1837           12365   10\n",
              "1838           12366   10\n",
              "1839           12367    8\n",
              "1840           12368   10\n",
              "\n",
              "[1841 rows x 2 columns]"
            ]
          },
          "metadata": {
            "tags": []
          },
          "execution_count": 325
        }
      ]
    },
    {
      "cell_type": "code",
      "metadata": {
        "id": "saT5Tx2G1_JM"
      },
      "source": [
        ""
      ],
      "execution_count": 325,
      "outputs": []
    },
    {
      "cell_type": "code",
      "metadata": {
        "id": "Hkw51t5S2HM9"
      },
      "source": [
        "#mer=pd.merge(mes_cant_stage,opMesTest,on='mes',how='right')"
      ],
      "execution_count": 326,
      "outputs": []
    },
    {
      "cell_type": "code",
      "metadata": {
        "id": "ZjY3Lhyy2HM9"
      },
      "source": [
        "#mer=mer.astype(str)"
      ],
      "execution_count": 327,
      "outputs": []
    },
    {
      "cell_type": "code",
      "metadata": {
        "id": "sYjtCBML2HM-"
      },
      "source": [
        "#mer2=mer.groupby(['Opportunity_ID','mes']).agg({'cant_Closed_Lost_by_mes':'sum','cant_Closed_Won_by_mes':'sum'}).unstack().fillna(0)"
      ],
      "execution_count": 328,
      "outputs": []
    },
    {
      "cell_type": "code",
      "metadata": {
        "id": "bmfqYguZ2HM_"
      },
      "source": [
        "#level0=mer2.columns.get_level_values(0)\r\n",
        "#level1=mer2.columns.get_level_values(1)\r\n",
        " \r\n",
        "#mer2.columns = level0 + '_' + level1"
      ],
      "execution_count": 329,
      "outputs": []
    },
    {
      "cell_type": "code",
      "metadata": {
        "id": "Y7Oezt6w2HM_"
      },
      "source": [
        "#mer2=mer2.reset_index()"
      ],
      "execution_count": 330,
      "outputs": []
    },
    {
      "cell_type": "code",
      "metadata": {
        "id": "rXvK92z312GW"
      },
      "source": [
        "#mer2=mer2.astype(int)"
      ],
      "execution_count": 331,
      "outputs": []
    },
    {
      "cell_type": "code",
      "metadata": {
        "id": "8ihnm72O2YMM"
      },
      "source": [
        "# fin de agregar columnas temporales"
      ],
      "execution_count": 332,
      "outputs": []
    },
    {
      "cell_type": "code",
      "metadata": {
        "id": "L0d1V26wzzbk"
      },
      "source": [
        "def meanEncodingDejandoColumnaCategorica(columnsCategory):\r\n",
        "  \"\"\"devuelve un dataframe con el formato [columnscategory,meanencodingcategory]\r\n",
        "    es porque lo vamos a usar para hacer merge por su columna categorica\"\"\"\r\n",
        "  df = pd.read_csv('data.csv')\r\n",
        "  entrenamiento = pd.read_csv('data.csv')\r\n",
        "  df = df.replace('Closed Won', '1')\r\n",
        "  df = df.replace('Closed Lost', '0')\r\n",
        "  df = df[df['Stage'].isin(['0','1'])]\r\n",
        "  df.Stage = df.Stage.astype(int)\r\n",
        "  df = df.groupby([columnsCategory,'Opportunity_ID']).agg({'Stage':['sum','count']})\r\n",
        "  df = df.reset_index()\r\n",
        "  df1 = df\r\n",
        "  df1.columns = [columnsCategory,'Opportunity_ID','Stage_sum','Stage_count']\r\n",
        "  df1['Stage_sum'] = df1['Stage_sum'].apply(lambda x: 0 if x == 0 else 1)\r\n",
        "  df2 = df1.groupby([columnsCategory]).agg(meanEncodingTerritory = ('Stage_sum','mean'))\r\n",
        "  df2 = df2.reset_index()\r\n",
        "  agruparOportunity=entrenamiento.groupby(['Opportunity_ID',columnsCategory]).agg(cant=(columnsCategory,'count')).reset_index()\r\n",
        "  result=pd.merge(agruparOportunity,df2,on=columnsCategory,how='inner')\r\n",
        "  result.head()\r\n",
        "  del result['cant']\r\n",
        "  result2=result[[columnsCategory,'meanEncodingTerritory']].drop_duplicates()\r\n",
        "  return  result2"
      ],
      "execution_count": 333,
      "outputs": []
    },
    {
      "cell_type": "code",
      "metadata": {
        "colab": {
          "base_uri": "https://localhost:8080/",
          "height": 206
        },
        "id": "6dA9Pf1Pzzbk",
        "outputId": "fbb3331f-c7e7-414b-c44e-fa8061b1fcd7"
      },
      "source": [
        "dfMeanEncoding=meanEncodingDejandoColumnaCategorica(\"Territory\")\r\n",
        "dfMeanEncoding.head()"
      ],
      "execution_count": 334,
      "outputs": [
        {
          "output_type": "execute_result",
          "data": {
            "text/html": [
              "<div>\n",
              "<style scoped>\n",
              "    .dataframe tbody tr th:only-of-type {\n",
              "        vertical-align: middle;\n",
              "    }\n",
              "\n",
              "    .dataframe tbody tr th {\n",
              "        vertical-align: top;\n",
              "    }\n",
              "\n",
              "    .dataframe thead th {\n",
              "        text-align: right;\n",
              "    }\n",
              "</style>\n",
              "<table border=\"1\" class=\"dataframe\">\n",
              "  <thead>\n",
              "    <tr style=\"text-align: right;\">\n",
              "      <th></th>\n",
              "      <th>Territory</th>\n",
              "      <th>meanEncodingTerritory</th>\n",
              "    </tr>\n",
              "  </thead>\n",
              "  <tbody>\n",
              "    <tr>\n",
              "      <th>0</th>\n",
              "      <td>None</td>\n",
              "      <td>0.535927</td>\n",
              "    </tr>\n",
              "    <tr>\n",
              "      <th>1867</th>\n",
              "      <td>NW America</td>\n",
              "      <td>0.632723</td>\n",
              "    </tr>\n",
              "    <tr>\n",
              "      <th>2745</th>\n",
              "      <td>India</td>\n",
              "      <td>0.457227</td>\n",
              "    </tr>\n",
              "    <tr>\n",
              "      <th>3425</th>\n",
              "      <td>Italy</td>\n",
              "      <td>0.432692</td>\n",
              "    </tr>\n",
              "    <tr>\n",
              "      <th>3633</th>\n",
              "      <td>Germany</td>\n",
              "      <td>0.548148</td>\n",
              "    </tr>\n",
              "  </tbody>\n",
              "</table>\n",
              "</div>"
            ],
            "text/plain": [
              "       Territory  meanEncodingTerritory\n",
              "0           None               0.535927\n",
              "1867  NW America               0.632723\n",
              "2745       India               0.457227\n",
              "3425       Italy               0.432692\n",
              "3633     Germany               0.548148"
            ]
          },
          "metadata": {
            "tags": []
          },
          "execution_count": 334
        }
      ]
    },
    {
      "cell_type": "code",
      "metadata": {
        "colab": {
          "base_uri": "https://localhost:8080/",
          "height": 206
        },
        "id": "RL1PTBnGzzbl",
        "outputId": "51a5732d-3133-435e-d62a-24841f4162dd"
      },
      "source": [
        "testAux=test.groupby(['Opportunity_ID','Territory' ]).agg(cant=('Opportunity_ID','count')).reset_index()[['Opportunity_ID','Territory' ]]\r\n",
        "testAux.head()"
      ],
      "execution_count": 335,
      "outputs": [
        {
          "output_type": "execute_result",
          "data": {
            "text/html": [
              "<div>\n",
              "<style scoped>\n",
              "    .dataframe tbody tr th:only-of-type {\n",
              "        vertical-align: middle;\n",
              "    }\n",
              "\n",
              "    .dataframe tbody tr th {\n",
              "        vertical-align: top;\n",
              "    }\n",
              "\n",
              "    .dataframe thead th {\n",
              "        text-align: right;\n",
              "    }\n",
              "</style>\n",
              "<table border=\"1\" class=\"dataframe\">\n",
              "  <thead>\n",
              "    <tr style=\"text-align: right;\">\n",
              "      <th></th>\n",
              "      <th>Opportunity_ID</th>\n",
              "      <th>Territory</th>\n",
              "    </tr>\n",
              "  </thead>\n",
              "  <tbody>\n",
              "    <tr>\n",
              "      <th>0</th>\n",
              "      <td>10689</td>\n",
              "      <td>Germany</td>\n",
              "    </tr>\n",
              "    <tr>\n",
              "      <th>1</th>\n",
              "      <td>10690</td>\n",
              "      <td>Germany</td>\n",
              "    </tr>\n",
              "    <tr>\n",
              "      <th>2</th>\n",
              "      <td>10691</td>\n",
              "      <td>NE America</td>\n",
              "    </tr>\n",
              "    <tr>\n",
              "      <th>3</th>\n",
              "      <td>10692</td>\n",
              "      <td>NW America</td>\n",
              "    </tr>\n",
              "    <tr>\n",
              "      <th>4</th>\n",
              "      <td>10693</td>\n",
              "      <td>NW America</td>\n",
              "    </tr>\n",
              "  </tbody>\n",
              "</table>\n",
              "</div>"
            ],
            "text/plain": [
              "   Opportunity_ID   Territory\n",
              "0           10689     Germany\n",
              "1           10690     Germany\n",
              "2           10691  NE America\n",
              "3           10692  NW America\n",
              "4           10693  NW America"
            ]
          },
          "metadata": {
            "tags": []
          },
          "execution_count": 335
        }
      ]
    },
    {
      "cell_type": "code",
      "metadata": {
        "colab": {
          "base_uri": "https://localhost:8080/",
          "height": 424
        },
        "id": "9R4Gb4iZzzbm",
        "outputId": "6d4c26d8-7722-412f-df02-300ad3829c85"
      },
      "source": [
        "territories=pd.merge(testAux,dfMeanEncoding, on=\"Territory\", how='left') \r\n",
        "territories"
      ],
      "execution_count": 336,
      "outputs": [
        {
          "output_type": "execute_result",
          "data": {
            "text/html": [
              "<div>\n",
              "<style scoped>\n",
              "    .dataframe tbody tr th:only-of-type {\n",
              "        vertical-align: middle;\n",
              "    }\n",
              "\n",
              "    .dataframe tbody tr th {\n",
              "        vertical-align: top;\n",
              "    }\n",
              "\n",
              "    .dataframe thead th {\n",
              "        text-align: right;\n",
              "    }\n",
              "</style>\n",
              "<table border=\"1\" class=\"dataframe\">\n",
              "  <thead>\n",
              "    <tr style=\"text-align: right;\">\n",
              "      <th></th>\n",
              "      <th>Opportunity_ID</th>\n",
              "      <th>Territory</th>\n",
              "      <th>meanEncodingTerritory</th>\n",
              "    </tr>\n",
              "  </thead>\n",
              "  <tbody>\n",
              "    <tr>\n",
              "      <th>0</th>\n",
              "      <td>10689</td>\n",
              "      <td>Germany</td>\n",
              "      <td>0.548148</td>\n",
              "    </tr>\n",
              "    <tr>\n",
              "      <th>1</th>\n",
              "      <td>10690</td>\n",
              "      <td>Germany</td>\n",
              "      <td>0.548148</td>\n",
              "    </tr>\n",
              "    <tr>\n",
              "      <th>2</th>\n",
              "      <td>10691</td>\n",
              "      <td>NE America</td>\n",
              "      <td>0.347490</td>\n",
              "    </tr>\n",
              "    <tr>\n",
              "      <th>3</th>\n",
              "      <td>10692</td>\n",
              "      <td>NW America</td>\n",
              "      <td>0.632723</td>\n",
              "    </tr>\n",
              "    <tr>\n",
              "      <th>4</th>\n",
              "      <td>10693</td>\n",
              "      <td>NW America</td>\n",
              "      <td>0.632723</td>\n",
              "    </tr>\n",
              "    <tr>\n",
              "      <th>...</th>\n",
              "      <td>...</td>\n",
              "      <td>...</td>\n",
              "      <td>...</td>\n",
              "    </tr>\n",
              "    <tr>\n",
              "      <th>1562</th>\n",
              "      <td>12364</td>\n",
              "      <td>KSA</td>\n",
              "      <td>0.416667</td>\n",
              "    </tr>\n",
              "    <tr>\n",
              "      <th>1563</th>\n",
              "      <td>12365</td>\n",
              "      <td>SE America</td>\n",
              "      <td>0.367953</td>\n",
              "    </tr>\n",
              "    <tr>\n",
              "      <th>1564</th>\n",
              "      <td>12366</td>\n",
              "      <td>SE America</td>\n",
              "      <td>0.367953</td>\n",
              "    </tr>\n",
              "    <tr>\n",
              "      <th>1565</th>\n",
              "      <td>12367</td>\n",
              "      <td>NE America</td>\n",
              "      <td>0.347490</td>\n",
              "    </tr>\n",
              "    <tr>\n",
              "      <th>1566</th>\n",
              "      <td>12368</td>\n",
              "      <td>Belgium</td>\n",
              "      <td>0.569832</td>\n",
              "    </tr>\n",
              "  </tbody>\n",
              "</table>\n",
              "<p>1567 rows × 3 columns</p>\n",
              "</div>"
            ],
            "text/plain": [
              "      Opportunity_ID   Territory  meanEncodingTerritory\n",
              "0              10689     Germany               0.548148\n",
              "1              10690     Germany               0.548148\n",
              "2              10691  NE America               0.347490\n",
              "3              10692  NW America               0.632723\n",
              "4              10693  NW America               0.632723\n",
              "...              ...         ...                    ...\n",
              "1562           12364         KSA               0.416667\n",
              "1563           12365  SE America               0.367953\n",
              "1564           12366  SE America               0.367953\n",
              "1565           12367  NE America               0.347490\n",
              "1566           12368     Belgium               0.569832\n",
              "\n",
              "[1567 rows x 3 columns]"
            ]
          },
          "metadata": {
            "tags": []
          },
          "execution_count": 336
        }
      ]
    },
    {
      "cell_type": "code",
      "metadata": {
        "colab": {
          "base_uri": "https://localhost:8080/",
          "height": 478
        },
        "id": "KUuMgh8Kzzbm",
        "outputId": "cc8ee2ee-5f22-4d67-c1af-58aef3814da4"
      },
      "source": [
        " testFinal=pd.merge(testFeature,territories, on=\"Opportunity_ID\", how='inner') \r\n",
        " testFinal"
      ],
      "execution_count": 337,
      "outputs": [
        {
          "output_type": "execute_result",
          "data": {
            "text/html": [
              "<div>\n",
              "<style scoped>\n",
              "    .dataframe tbody tr th:only-of-type {\n",
              "        vertical-align: middle;\n",
              "    }\n",
              "\n",
              "    .dataframe tbody tr th {\n",
              "        vertical-align: top;\n",
              "    }\n",
              "\n",
              "    .dataframe thead th {\n",
              "        text-align: right;\n",
              "    }\n",
              "</style>\n",
              "<table border=\"1\" class=\"dataframe\">\n",
              "  <thead>\n",
              "    <tr style=\"text-align: right;\">\n",
              "      <th></th>\n",
              "      <th>Opportunity_ID</th>\n",
              "      <th>totalamount</th>\n",
              "      <th>totalTrf</th>\n",
              "      <th>meanTrf</th>\n",
              "      <th>cantTrf</th>\n",
              "      <th>cantProducFamilias</th>\n",
              "      <th>maxTrf</th>\n",
              "      <th>meanDisPlannedStarAndPlannedEnd</th>\n",
              "      <th>meanTrfporTotalTrf</th>\n",
              "      <th>cantProducFamiliasporTotalTrf</th>\n",
              "      <th>Territory</th>\n",
              "      <th>meanEncodingTerritory</th>\n",
              "    </tr>\n",
              "  </thead>\n",
              "  <tbody>\n",
              "    <tr>\n",
              "      <th>0</th>\n",
              "      <td>10689</td>\n",
              "      <td>367419.0</td>\n",
              "      <td>0</td>\n",
              "      <td>0.0</td>\n",
              "      <td>3</td>\n",
              "      <td>3</td>\n",
              "      <td>0</td>\n",
              "      <td>2592000.0</td>\n",
              "      <td>0.0</td>\n",
              "      <td>0</td>\n",
              "      <td>Germany</td>\n",
              "      <td>0.548148</td>\n",
              "    </tr>\n",
              "    <tr>\n",
              "      <th>1</th>\n",
              "      <td>10690</td>\n",
              "      <td>757783.5</td>\n",
              "      <td>1</td>\n",
              "      <td>0.2</td>\n",
              "      <td>5</td>\n",
              "      <td>5</td>\n",
              "      <td>1</td>\n",
              "      <td>2367360.0</td>\n",
              "      <td>0.2</td>\n",
              "      <td>5</td>\n",
              "      <td>Germany</td>\n",
              "      <td>0.548148</td>\n",
              "    </tr>\n",
              "    <tr>\n",
              "      <th>2</th>\n",
              "      <td>10691</td>\n",
              "      <td>21037.5</td>\n",
              "      <td>0</td>\n",
              "      <td>0.0</td>\n",
              "      <td>1</td>\n",
              "      <td>1</td>\n",
              "      <td>0</td>\n",
              "      <td>0.0</td>\n",
              "      <td>0.0</td>\n",
              "      <td>0</td>\n",
              "      <td>NE America</td>\n",
              "      <td>0.347490</td>\n",
              "    </tr>\n",
              "    <tr>\n",
              "      <th>3</th>\n",
              "      <td>10692</td>\n",
              "      <td>2169106.5</td>\n",
              "      <td>6</td>\n",
              "      <td>1.0</td>\n",
              "      <td>6</td>\n",
              "      <td>6</td>\n",
              "      <td>1</td>\n",
              "      <td>0.0</td>\n",
              "      <td>6.0</td>\n",
              "      <td>36</td>\n",
              "      <td>NW America</td>\n",
              "      <td>0.632723</td>\n",
              "    </tr>\n",
              "    <tr>\n",
              "      <th>4</th>\n",
              "      <td>10693</td>\n",
              "      <td>5752.5</td>\n",
              "      <td>0</td>\n",
              "      <td>0.0</td>\n",
              "      <td>1</td>\n",
              "      <td>1</td>\n",
              "      <td>0</td>\n",
              "      <td>0.0</td>\n",
              "      <td>0.0</td>\n",
              "      <td>0</td>\n",
              "      <td>NW America</td>\n",
              "      <td>0.632723</td>\n",
              "    </tr>\n",
              "    <tr>\n",
              "      <th>...</th>\n",
              "      <td>...</td>\n",
              "      <td>...</td>\n",
              "      <td>...</td>\n",
              "      <td>...</td>\n",
              "      <td>...</td>\n",
              "      <td>...</td>\n",
              "      <td>...</td>\n",
              "      <td>...</td>\n",
              "      <td>...</td>\n",
              "      <td>...</td>\n",
              "      <td>...</td>\n",
              "      <td>...</td>\n",
              "    </tr>\n",
              "    <tr>\n",
              "      <th>1562</th>\n",
              "      <td>12364</td>\n",
              "      <td>147750.0</td>\n",
              "      <td>0</td>\n",
              "      <td>0.0</td>\n",
              "      <td>2</td>\n",
              "      <td>2</td>\n",
              "      <td>0</td>\n",
              "      <td>777600.0</td>\n",
              "      <td>0.0</td>\n",
              "      <td>0</td>\n",
              "      <td>KSA</td>\n",
              "      <td>0.416667</td>\n",
              "    </tr>\n",
              "    <tr>\n",
              "      <th>1563</th>\n",
              "      <td>12365</td>\n",
              "      <td>45054.9</td>\n",
              "      <td>0</td>\n",
              "      <td>0.0</td>\n",
              "      <td>1</td>\n",
              "      <td>1</td>\n",
              "      <td>0</td>\n",
              "      <td>7862400.0</td>\n",
              "      <td>0.0</td>\n",
              "      <td>0</td>\n",
              "      <td>SE America</td>\n",
              "      <td>0.367953</td>\n",
              "    </tr>\n",
              "    <tr>\n",
              "      <th>1564</th>\n",
              "      <td>12366</td>\n",
              "      <td>100122.0</td>\n",
              "      <td>0</td>\n",
              "      <td>0.0</td>\n",
              "      <td>1</td>\n",
              "      <td>1</td>\n",
              "      <td>0</td>\n",
              "      <td>7862400.0</td>\n",
              "      <td>0.0</td>\n",
              "      <td>0</td>\n",
              "      <td>SE America</td>\n",
              "      <td>0.367953</td>\n",
              "    </tr>\n",
              "    <tr>\n",
              "      <th>1565</th>\n",
              "      <td>12367</td>\n",
              "      <td>143220.0</td>\n",
              "      <td>0</td>\n",
              "      <td>0.0</td>\n",
              "      <td>1</td>\n",
              "      <td>1</td>\n",
              "      <td>0</td>\n",
              "      <td>0.0</td>\n",
              "      <td>0.0</td>\n",
              "      <td>0</td>\n",
              "      <td>NE America</td>\n",
              "      <td>0.347490</td>\n",
              "    </tr>\n",
              "    <tr>\n",
              "      <th>1566</th>\n",
              "      <td>12368</td>\n",
              "      <td>871020.8</td>\n",
              "      <td>3</td>\n",
              "      <td>3.0</td>\n",
              "      <td>1</td>\n",
              "      <td>1</td>\n",
              "      <td>3</td>\n",
              "      <td>4579200.0</td>\n",
              "      <td>9.0</td>\n",
              "      <td>3</td>\n",
              "      <td>Belgium</td>\n",
              "      <td>0.569832</td>\n",
              "    </tr>\n",
              "  </tbody>\n",
              "</table>\n",
              "<p>1567 rows × 12 columns</p>\n",
              "</div>"
            ],
            "text/plain": [
              "      Opportunity_ID  totalamount  ...   Territory  meanEncodingTerritory\n",
              "0              10689     367419.0  ...     Germany               0.548148\n",
              "1              10690     757783.5  ...     Germany               0.548148\n",
              "2              10691      21037.5  ...  NE America               0.347490\n",
              "3              10692    2169106.5  ...  NW America               0.632723\n",
              "4              10693       5752.5  ...  NW America               0.632723\n",
              "...              ...          ...  ...         ...                    ...\n",
              "1562           12364     147750.0  ...         KSA               0.416667\n",
              "1563           12365      45054.9  ...  SE America               0.367953\n",
              "1564           12366     100122.0  ...  SE America               0.367953\n",
              "1565           12367     143220.0  ...  NE America               0.347490\n",
              "1566           12368     871020.8  ...     Belgium               0.569832\n",
              "\n",
              "[1567 rows x 12 columns]"
            ]
          },
          "metadata": {
            "tags": []
          },
          "execution_count": 337
        }
      ]
    },
    {
      "cell_type": "code",
      "metadata": {
        "id": "B64O4SpcAnVx"
      },
      "source": [
        ""
      ],
      "execution_count": 337,
      "outputs": []
    },
    {
      "cell_type": "markdown",
      "metadata": {
        "id": "x1OdGFz4Axur"
      },
      "source": [
        "# REGION"
      ]
    },
    {
      "cell_type": "code",
      "metadata": {
        "id": "lz6Ssfs5AoVb"
      },
      "source": [
        "def meanEncodingDejandoColumnaCategorica(columnsCategory):\r\n",
        "  \"\"\"devuelve un dataframe con el formato [columnscategory,meanencodingcategory]\r\n",
        "    es porque lo vamos a usar para hacer merge por su columna categorica\"\"\"\r\n",
        "  df = pd.read_csv('data.csv')\r\n",
        "  entrenamiento = pd.read_csv('data.csv')\r\n",
        "  df = df.replace('Closed Won', '1')\r\n",
        "  df = df.replace('Closed Lost', '0')\r\n",
        "  df = df[df['Stage'].isin(['0','1'])]\r\n",
        "  df.Stage = df.Stage.astype(int)\r\n",
        "  df = df.groupby([columnsCategory,'Opportunity_ID']).agg({'Stage':['sum','count']})\r\n",
        "  df = df.reset_index()\r\n",
        "  df1 = df\r\n",
        "  df1.columns = [columnsCategory,'Opportunity_ID','Stage_sum','Stage_count']\r\n",
        "  df1['Stage_sum'] = df1['Stage_sum'].apply(lambda x: 0 if x == 0 else 1)\r\n",
        "  df2 = df1.groupby([columnsCategory]).agg(meanEncodingRegion = ('Stage_sum','mean'))\r\n",
        "  df2 = df2.reset_index()\r\n",
        "  agruparOportunity=entrenamiento.groupby(['Opportunity_ID',columnsCategory]).agg(cant=(columnsCategory,'count')).reset_index()\r\n",
        "  result=pd.merge(agruparOportunity,df2,on=columnsCategory,how='inner')\r\n",
        "  result.head()\r\n",
        "  del result['cant']\r\n",
        "  result2=result[[columnsCategory,'meanEncodingRegion']].drop_duplicates()\r\n",
        "  return  result2"
      ],
      "execution_count": 338,
      "outputs": []
    },
    {
      "cell_type": "code",
      "metadata": {
        "colab": {
          "base_uri": "https://localhost:8080/",
          "height": 206
        },
        "id": "jI7IY1QrAoVd",
        "outputId": "7d5c831f-57b4-4af4-ff16-8e3e2468255c"
      },
      "source": [
        "dfMeanEncoding=meanEncodingDejandoColumnaCategorica(\"Region\")\r\n",
        "dfMeanEncoding.head()"
      ],
      "execution_count": 339,
      "outputs": [
        {
          "output_type": "execute_result",
          "data": {
            "text/html": [
              "<div>\n",
              "<style scoped>\n",
              "    .dataframe tbody tr th:only-of-type {\n",
              "        vertical-align: middle;\n",
              "    }\n",
              "\n",
              "    .dataframe tbody tr th {\n",
              "        vertical-align: top;\n",
              "    }\n",
              "\n",
              "    .dataframe thead th {\n",
              "        text-align: right;\n",
              "    }\n",
              "</style>\n",
              "<table border=\"1\" class=\"dataframe\">\n",
              "  <thead>\n",
              "    <tr style=\"text-align: right;\">\n",
              "      <th></th>\n",
              "      <th>Region</th>\n",
              "      <th>meanEncodingRegion</th>\n",
              "    </tr>\n",
              "  </thead>\n",
              "  <tbody>\n",
              "    <tr>\n",
              "      <th>0</th>\n",
              "      <td>EMEA</td>\n",
              "      <td>0.463392</td>\n",
              "    </tr>\n",
              "    <tr>\n",
              "      <th>3241</th>\n",
              "      <td>Americas</td>\n",
              "      <td>0.446166</td>\n",
              "    </tr>\n",
              "    <tr>\n",
              "      <th>5700</th>\n",
              "      <td>Japan</td>\n",
              "      <td>0.684350</td>\n",
              "    </tr>\n",
              "    <tr>\n",
              "      <th>7606</th>\n",
              "      <td>APAC</td>\n",
              "      <td>0.555556</td>\n",
              "    </tr>\n",
              "    <tr>\n",
              "      <th>9692</th>\n",
              "      <td>Middle East</td>\n",
              "      <td>0.239130</td>\n",
              "    </tr>\n",
              "  </tbody>\n",
              "</table>\n",
              "</div>"
            ],
            "text/plain": [
              "           Region  meanEncodingRegion\n",
              "0            EMEA            0.463392\n",
              "3241     Americas            0.446166\n",
              "5700        Japan            0.684350\n",
              "7606         APAC            0.555556\n",
              "9692  Middle East            0.239130"
            ]
          },
          "metadata": {
            "tags": []
          },
          "execution_count": 339
        }
      ]
    },
    {
      "cell_type": "code",
      "metadata": {
        "colab": {
          "base_uri": "https://localhost:8080/",
          "height": 206
        },
        "id": "ccXPiuagAoVf",
        "outputId": "d636e264-3e2d-47e9-9b32-8c63c857fa75"
      },
      "source": [
        "testAux=test.groupby(['Opportunity_ID','Region' ]).agg(cant=('Opportunity_ID','count')).reset_index()[['Opportunity_ID','Region' ]]\r\n",
        "testAux.head()"
      ],
      "execution_count": 340,
      "outputs": [
        {
          "output_type": "execute_result",
          "data": {
            "text/html": [
              "<div>\n",
              "<style scoped>\n",
              "    .dataframe tbody tr th:only-of-type {\n",
              "        vertical-align: middle;\n",
              "    }\n",
              "\n",
              "    .dataframe tbody tr th {\n",
              "        vertical-align: top;\n",
              "    }\n",
              "\n",
              "    .dataframe thead th {\n",
              "        text-align: right;\n",
              "    }\n",
              "</style>\n",
              "<table border=\"1\" class=\"dataframe\">\n",
              "  <thead>\n",
              "    <tr style=\"text-align: right;\">\n",
              "      <th></th>\n",
              "      <th>Opportunity_ID</th>\n",
              "      <th>Region</th>\n",
              "    </tr>\n",
              "  </thead>\n",
              "  <tbody>\n",
              "    <tr>\n",
              "      <th>0</th>\n",
              "      <td>10689</td>\n",
              "      <td>EMEA</td>\n",
              "    </tr>\n",
              "    <tr>\n",
              "      <th>1</th>\n",
              "      <td>10690</td>\n",
              "      <td>EMEA</td>\n",
              "    </tr>\n",
              "    <tr>\n",
              "      <th>2</th>\n",
              "      <td>10691</td>\n",
              "      <td>Americas</td>\n",
              "    </tr>\n",
              "    <tr>\n",
              "      <th>3</th>\n",
              "      <td>10692</td>\n",
              "      <td>Americas</td>\n",
              "    </tr>\n",
              "    <tr>\n",
              "      <th>4</th>\n",
              "      <td>10693</td>\n",
              "      <td>Americas</td>\n",
              "    </tr>\n",
              "  </tbody>\n",
              "</table>\n",
              "</div>"
            ],
            "text/plain": [
              "   Opportunity_ID    Region\n",
              "0           10689      EMEA\n",
              "1           10690      EMEA\n",
              "2           10691  Americas\n",
              "3           10692  Americas\n",
              "4           10693  Americas"
            ]
          },
          "metadata": {
            "tags": []
          },
          "execution_count": 340
        }
      ]
    },
    {
      "cell_type": "code",
      "metadata": {
        "colab": {
          "base_uri": "https://localhost:8080/",
          "height": 424
        },
        "id": "e2ICua7pAoVf",
        "outputId": "98bc3481-971c-4039-be4a-21c6b67795a2"
      },
      "source": [
        "territories=pd.merge(testAux,dfMeanEncoding, on=\"Region\", how='left') \r\n",
        "territories"
      ],
      "execution_count": 341,
      "outputs": [
        {
          "output_type": "execute_result",
          "data": {
            "text/html": [
              "<div>\n",
              "<style scoped>\n",
              "    .dataframe tbody tr th:only-of-type {\n",
              "        vertical-align: middle;\n",
              "    }\n",
              "\n",
              "    .dataframe tbody tr th {\n",
              "        vertical-align: top;\n",
              "    }\n",
              "\n",
              "    .dataframe thead th {\n",
              "        text-align: right;\n",
              "    }\n",
              "</style>\n",
              "<table border=\"1\" class=\"dataframe\">\n",
              "  <thead>\n",
              "    <tr style=\"text-align: right;\">\n",
              "      <th></th>\n",
              "      <th>Opportunity_ID</th>\n",
              "      <th>Region</th>\n",
              "      <th>meanEncodingRegion</th>\n",
              "    </tr>\n",
              "  </thead>\n",
              "  <tbody>\n",
              "    <tr>\n",
              "      <th>0</th>\n",
              "      <td>10689</td>\n",
              "      <td>EMEA</td>\n",
              "      <td>0.463392</td>\n",
              "    </tr>\n",
              "    <tr>\n",
              "      <th>1</th>\n",
              "      <td>10690</td>\n",
              "      <td>EMEA</td>\n",
              "      <td>0.463392</td>\n",
              "    </tr>\n",
              "    <tr>\n",
              "      <th>2</th>\n",
              "      <td>10691</td>\n",
              "      <td>Americas</td>\n",
              "      <td>0.446166</td>\n",
              "    </tr>\n",
              "    <tr>\n",
              "      <th>3</th>\n",
              "      <td>10692</td>\n",
              "      <td>Americas</td>\n",
              "      <td>0.446166</td>\n",
              "    </tr>\n",
              "    <tr>\n",
              "      <th>4</th>\n",
              "      <td>10693</td>\n",
              "      <td>Americas</td>\n",
              "      <td>0.446166</td>\n",
              "    </tr>\n",
              "    <tr>\n",
              "      <th>...</th>\n",
              "      <td>...</td>\n",
              "      <td>...</td>\n",
              "      <td>...</td>\n",
              "    </tr>\n",
              "    <tr>\n",
              "      <th>1562</th>\n",
              "      <td>12364</td>\n",
              "      <td>EMEA</td>\n",
              "      <td>0.463392</td>\n",
              "    </tr>\n",
              "    <tr>\n",
              "      <th>1563</th>\n",
              "      <td>12365</td>\n",
              "      <td>Americas</td>\n",
              "      <td>0.446166</td>\n",
              "    </tr>\n",
              "    <tr>\n",
              "      <th>1564</th>\n",
              "      <td>12366</td>\n",
              "      <td>Americas</td>\n",
              "      <td>0.446166</td>\n",
              "    </tr>\n",
              "    <tr>\n",
              "      <th>1565</th>\n",
              "      <td>12367</td>\n",
              "      <td>Americas</td>\n",
              "      <td>0.446166</td>\n",
              "    </tr>\n",
              "    <tr>\n",
              "      <th>1566</th>\n",
              "      <td>12368</td>\n",
              "      <td>EMEA</td>\n",
              "      <td>0.463392</td>\n",
              "    </tr>\n",
              "  </tbody>\n",
              "</table>\n",
              "<p>1567 rows × 3 columns</p>\n",
              "</div>"
            ],
            "text/plain": [
              "      Opportunity_ID    Region  meanEncodingRegion\n",
              "0              10689      EMEA            0.463392\n",
              "1              10690      EMEA            0.463392\n",
              "2              10691  Americas            0.446166\n",
              "3              10692  Americas            0.446166\n",
              "4              10693  Americas            0.446166\n",
              "...              ...       ...                 ...\n",
              "1562           12364      EMEA            0.463392\n",
              "1563           12365  Americas            0.446166\n",
              "1564           12366  Americas            0.446166\n",
              "1565           12367  Americas            0.446166\n",
              "1566           12368      EMEA            0.463392\n",
              "\n",
              "[1567 rows x 3 columns]"
            ]
          },
          "metadata": {
            "tags": []
          },
          "execution_count": 341
        }
      ]
    },
    {
      "cell_type": "code",
      "metadata": {
        "colab": {
          "base_uri": "https://localhost:8080/",
          "height": 478
        },
        "id": "DQHJZrsIAoVg",
        "outputId": "361c5af7-e27c-43a4-e740-7755d245be9f"
      },
      "source": [
        " testFinal=pd.merge(testFinal,territories, on=\"Opportunity_ID\", how='inner') \r\n",
        " testFinal"
      ],
      "execution_count": 342,
      "outputs": [
        {
          "output_type": "execute_result",
          "data": {
            "text/html": [
              "<div>\n",
              "<style scoped>\n",
              "    .dataframe tbody tr th:only-of-type {\n",
              "        vertical-align: middle;\n",
              "    }\n",
              "\n",
              "    .dataframe tbody tr th {\n",
              "        vertical-align: top;\n",
              "    }\n",
              "\n",
              "    .dataframe thead th {\n",
              "        text-align: right;\n",
              "    }\n",
              "</style>\n",
              "<table border=\"1\" class=\"dataframe\">\n",
              "  <thead>\n",
              "    <tr style=\"text-align: right;\">\n",
              "      <th></th>\n",
              "      <th>Opportunity_ID</th>\n",
              "      <th>totalamount</th>\n",
              "      <th>totalTrf</th>\n",
              "      <th>meanTrf</th>\n",
              "      <th>cantTrf</th>\n",
              "      <th>cantProducFamilias</th>\n",
              "      <th>maxTrf</th>\n",
              "      <th>meanDisPlannedStarAndPlannedEnd</th>\n",
              "      <th>meanTrfporTotalTrf</th>\n",
              "      <th>cantProducFamiliasporTotalTrf</th>\n",
              "      <th>Territory</th>\n",
              "      <th>meanEncodingTerritory</th>\n",
              "      <th>Region</th>\n",
              "      <th>meanEncodingRegion</th>\n",
              "    </tr>\n",
              "  </thead>\n",
              "  <tbody>\n",
              "    <tr>\n",
              "      <th>0</th>\n",
              "      <td>10689</td>\n",
              "      <td>367419.0</td>\n",
              "      <td>0</td>\n",
              "      <td>0.0</td>\n",
              "      <td>3</td>\n",
              "      <td>3</td>\n",
              "      <td>0</td>\n",
              "      <td>2592000.0</td>\n",
              "      <td>0.0</td>\n",
              "      <td>0</td>\n",
              "      <td>Germany</td>\n",
              "      <td>0.548148</td>\n",
              "      <td>EMEA</td>\n",
              "      <td>0.463392</td>\n",
              "    </tr>\n",
              "    <tr>\n",
              "      <th>1</th>\n",
              "      <td>10690</td>\n",
              "      <td>757783.5</td>\n",
              "      <td>1</td>\n",
              "      <td>0.2</td>\n",
              "      <td>5</td>\n",
              "      <td>5</td>\n",
              "      <td>1</td>\n",
              "      <td>2367360.0</td>\n",
              "      <td>0.2</td>\n",
              "      <td>5</td>\n",
              "      <td>Germany</td>\n",
              "      <td>0.548148</td>\n",
              "      <td>EMEA</td>\n",
              "      <td>0.463392</td>\n",
              "    </tr>\n",
              "    <tr>\n",
              "      <th>2</th>\n",
              "      <td>10691</td>\n",
              "      <td>21037.5</td>\n",
              "      <td>0</td>\n",
              "      <td>0.0</td>\n",
              "      <td>1</td>\n",
              "      <td>1</td>\n",
              "      <td>0</td>\n",
              "      <td>0.0</td>\n",
              "      <td>0.0</td>\n",
              "      <td>0</td>\n",
              "      <td>NE America</td>\n",
              "      <td>0.347490</td>\n",
              "      <td>Americas</td>\n",
              "      <td>0.446166</td>\n",
              "    </tr>\n",
              "    <tr>\n",
              "      <th>3</th>\n",
              "      <td>10692</td>\n",
              "      <td>2169106.5</td>\n",
              "      <td>6</td>\n",
              "      <td>1.0</td>\n",
              "      <td>6</td>\n",
              "      <td>6</td>\n",
              "      <td>1</td>\n",
              "      <td>0.0</td>\n",
              "      <td>6.0</td>\n",
              "      <td>36</td>\n",
              "      <td>NW America</td>\n",
              "      <td>0.632723</td>\n",
              "      <td>Americas</td>\n",
              "      <td>0.446166</td>\n",
              "    </tr>\n",
              "    <tr>\n",
              "      <th>4</th>\n",
              "      <td>10693</td>\n",
              "      <td>5752.5</td>\n",
              "      <td>0</td>\n",
              "      <td>0.0</td>\n",
              "      <td>1</td>\n",
              "      <td>1</td>\n",
              "      <td>0</td>\n",
              "      <td>0.0</td>\n",
              "      <td>0.0</td>\n",
              "      <td>0</td>\n",
              "      <td>NW America</td>\n",
              "      <td>0.632723</td>\n",
              "      <td>Americas</td>\n",
              "      <td>0.446166</td>\n",
              "    </tr>\n",
              "    <tr>\n",
              "      <th>...</th>\n",
              "      <td>...</td>\n",
              "      <td>...</td>\n",
              "      <td>...</td>\n",
              "      <td>...</td>\n",
              "      <td>...</td>\n",
              "      <td>...</td>\n",
              "      <td>...</td>\n",
              "      <td>...</td>\n",
              "      <td>...</td>\n",
              "      <td>...</td>\n",
              "      <td>...</td>\n",
              "      <td>...</td>\n",
              "      <td>...</td>\n",
              "      <td>...</td>\n",
              "    </tr>\n",
              "    <tr>\n",
              "      <th>1562</th>\n",
              "      <td>12364</td>\n",
              "      <td>147750.0</td>\n",
              "      <td>0</td>\n",
              "      <td>0.0</td>\n",
              "      <td>2</td>\n",
              "      <td>2</td>\n",
              "      <td>0</td>\n",
              "      <td>777600.0</td>\n",
              "      <td>0.0</td>\n",
              "      <td>0</td>\n",
              "      <td>KSA</td>\n",
              "      <td>0.416667</td>\n",
              "      <td>EMEA</td>\n",
              "      <td>0.463392</td>\n",
              "    </tr>\n",
              "    <tr>\n",
              "      <th>1563</th>\n",
              "      <td>12365</td>\n",
              "      <td>45054.9</td>\n",
              "      <td>0</td>\n",
              "      <td>0.0</td>\n",
              "      <td>1</td>\n",
              "      <td>1</td>\n",
              "      <td>0</td>\n",
              "      <td>7862400.0</td>\n",
              "      <td>0.0</td>\n",
              "      <td>0</td>\n",
              "      <td>SE America</td>\n",
              "      <td>0.367953</td>\n",
              "      <td>Americas</td>\n",
              "      <td>0.446166</td>\n",
              "    </tr>\n",
              "    <tr>\n",
              "      <th>1564</th>\n",
              "      <td>12366</td>\n",
              "      <td>100122.0</td>\n",
              "      <td>0</td>\n",
              "      <td>0.0</td>\n",
              "      <td>1</td>\n",
              "      <td>1</td>\n",
              "      <td>0</td>\n",
              "      <td>7862400.0</td>\n",
              "      <td>0.0</td>\n",
              "      <td>0</td>\n",
              "      <td>SE America</td>\n",
              "      <td>0.367953</td>\n",
              "      <td>Americas</td>\n",
              "      <td>0.446166</td>\n",
              "    </tr>\n",
              "    <tr>\n",
              "      <th>1565</th>\n",
              "      <td>12367</td>\n",
              "      <td>143220.0</td>\n",
              "      <td>0</td>\n",
              "      <td>0.0</td>\n",
              "      <td>1</td>\n",
              "      <td>1</td>\n",
              "      <td>0</td>\n",
              "      <td>0.0</td>\n",
              "      <td>0.0</td>\n",
              "      <td>0</td>\n",
              "      <td>NE America</td>\n",
              "      <td>0.347490</td>\n",
              "      <td>Americas</td>\n",
              "      <td>0.446166</td>\n",
              "    </tr>\n",
              "    <tr>\n",
              "      <th>1566</th>\n",
              "      <td>12368</td>\n",
              "      <td>871020.8</td>\n",
              "      <td>3</td>\n",
              "      <td>3.0</td>\n",
              "      <td>1</td>\n",
              "      <td>1</td>\n",
              "      <td>3</td>\n",
              "      <td>4579200.0</td>\n",
              "      <td>9.0</td>\n",
              "      <td>3</td>\n",
              "      <td>Belgium</td>\n",
              "      <td>0.569832</td>\n",
              "      <td>EMEA</td>\n",
              "      <td>0.463392</td>\n",
              "    </tr>\n",
              "  </tbody>\n",
              "</table>\n",
              "<p>1567 rows × 14 columns</p>\n",
              "</div>"
            ],
            "text/plain": [
              "      Opportunity_ID  totalamount  ...    Region  meanEncodingRegion\n",
              "0              10689     367419.0  ...      EMEA            0.463392\n",
              "1              10690     757783.5  ...      EMEA            0.463392\n",
              "2              10691      21037.5  ...  Americas            0.446166\n",
              "3              10692    2169106.5  ...  Americas            0.446166\n",
              "4              10693       5752.5  ...  Americas            0.446166\n",
              "...              ...          ...  ...       ...                 ...\n",
              "1562           12364     147750.0  ...      EMEA            0.463392\n",
              "1563           12365      45054.9  ...  Americas            0.446166\n",
              "1564           12366     100122.0  ...  Americas            0.446166\n",
              "1565           12367     143220.0  ...  Americas            0.446166\n",
              "1566           12368     871020.8  ...      EMEA            0.463392\n",
              "\n",
              "[1567 rows x 14 columns]"
            ]
          },
          "metadata": {
            "tags": []
          },
          "execution_count": 342
        }
      ]
    },
    {
      "cell_type": "code",
      "metadata": {
        "id": "duy-s63MAndB"
      },
      "source": [
        ""
      ],
      "execution_count": 342,
      "outputs": []
    },
    {
      "cell_type": "markdown",
      "metadata": {
        "id": "quXj4OT0I1hV"
      },
      "source": [
        "# Delivery_Terms"
      ]
    },
    {
      "cell_type": "code",
      "metadata": {
        "id": "TFvH3w4II1hq"
      },
      "source": [
        "def meanEncodingDejandoColumnaCategorica(columnsCategory):\r\n",
        "  \"\"\"devuelve un dataframe con el formato [columnscategory,meanencodingcategory]\r\n",
        "    es porque lo vamos a usar para hacer merge por su columna categorica\"\"\"\r\n",
        "  df = pd.read_csv('data.csv')\r\n",
        "  entrenamiento = pd.read_csv('data.csv')\r\n",
        "  df = df.replace('Closed Won', '1')\r\n",
        "  df = df.replace('Closed Lost', '0')\r\n",
        "  df = df[df['Stage'].isin(['0','1'])]\r\n",
        "  df.Stage = df.Stage.astype(int)\r\n",
        "  df = df.groupby([columnsCategory,'Opportunity_ID']).agg({'Stage':['sum','count']})\r\n",
        "  df = df.reset_index()\r\n",
        "  df1 = df\r\n",
        "  df1.columns = [columnsCategory,'Opportunity_ID','Stage_sum','Stage_count']\r\n",
        "  df1['Stage_sum'] = df1['Stage_sum'].apply(lambda x: 0 if x == 0 else 1)\r\n",
        "  df2 = df1.groupby([columnsCategory]).agg(meanEncodingDelivery_Terms = ('Stage_sum','mean'))\r\n",
        "  df2 = df2.reset_index()\r\n",
        "  agruparOportunity=entrenamiento.groupby(['Opportunity_ID',columnsCategory]).agg(cant=(columnsCategory,'count')).reset_index()\r\n",
        "  result=pd.merge(agruparOportunity,df2,on=columnsCategory,how='inner')\r\n",
        "  result.head()\r\n",
        "  del result['cant']\r\n",
        "  result2=result[[columnsCategory,'meanEncodingDelivery_Terms']].drop_duplicates()\r\n",
        "  return  result2"
      ],
      "execution_count": 343,
      "outputs": []
    },
    {
      "cell_type": "code",
      "metadata": {
        "colab": {
          "base_uri": "https://localhost:8080/",
          "height": 206
        },
        "id": "8EEhNSWII1hq",
        "outputId": "ee235e69-46d5-4510-a349-bc5e325ba6f7"
      },
      "source": [
        "dfMeanEncoding=meanEncodingDejandoColumnaCategorica(\"Delivery_Terms\")\r\n",
        "dfMeanEncoding.head()"
      ],
      "execution_count": 344,
      "outputs": [
        {
          "output_type": "execute_result",
          "data": {
            "text/html": [
              "<div>\n",
              "<style scoped>\n",
              "    .dataframe tbody tr th:only-of-type {\n",
              "        vertical-align: middle;\n",
              "    }\n",
              "\n",
              "    .dataframe tbody tr th {\n",
              "        vertical-align: top;\n",
              "    }\n",
              "\n",
              "    .dataframe thead th {\n",
              "        text-align: right;\n",
              "    }\n",
              "</style>\n",
              "<table border=\"1\" class=\"dataframe\">\n",
              "  <thead>\n",
              "    <tr style=\"text-align: right;\">\n",
              "      <th></th>\n",
              "      <th>Delivery_Terms</th>\n",
              "      <th>meanEncodingDelivery_Terms</th>\n",
              "    </tr>\n",
              "  </thead>\n",
              "  <tbody>\n",
              "    <tr>\n",
              "      <th>0</th>\n",
              "      <td>Delivery_Terms_2</td>\n",
              "      <td>0.479801</td>\n",
              "    </tr>\n",
              "    <tr>\n",
              "      <th>3221</th>\n",
              "      <td>Delivery_Terms_4</td>\n",
              "      <td>0.547011</td>\n",
              "    </tr>\n",
              "    <tr>\n",
              "      <th>6690</th>\n",
              "      <td>Delivery_Terms_1</td>\n",
              "      <td>0.449874</td>\n",
              "    </tr>\n",
              "    <tr>\n",
              "      <th>8694</th>\n",
              "      <td>Delivery_Terms_5</td>\n",
              "      <td>0.666667</td>\n",
              "    </tr>\n",
              "    <tr>\n",
              "      <th>9219</th>\n",
              "      <td>Delivery_Terms_8</td>\n",
              "      <td>0.570175</td>\n",
              "    </tr>\n",
              "  </tbody>\n",
              "</table>\n",
              "</div>"
            ],
            "text/plain": [
              "        Delivery_Terms  meanEncodingDelivery_Terms\n",
              "0     Delivery_Terms_2                    0.479801\n",
              "3221  Delivery_Terms_4                    0.547011\n",
              "6690  Delivery_Terms_1                    0.449874\n",
              "8694  Delivery_Terms_5                    0.666667\n",
              "9219  Delivery_Terms_8                    0.570175"
            ]
          },
          "metadata": {
            "tags": []
          },
          "execution_count": 344
        }
      ]
    },
    {
      "cell_type": "code",
      "metadata": {
        "colab": {
          "base_uri": "https://localhost:8080/",
          "height": 206
        },
        "id": "Zv9FCqhDI1hr",
        "outputId": "6787a5d7-c4da-4371-f9d8-e69700d566b9"
      },
      "source": [
        "testAux=test.groupby(['Opportunity_ID','Delivery_Terms' ]).agg(cant=('Opportunity_ID','count')).reset_index()[['Opportunity_ID','Delivery_Terms' ]]\r\n",
        "testAux.head()"
      ],
      "execution_count": 345,
      "outputs": [
        {
          "output_type": "execute_result",
          "data": {
            "text/html": [
              "<div>\n",
              "<style scoped>\n",
              "    .dataframe tbody tr th:only-of-type {\n",
              "        vertical-align: middle;\n",
              "    }\n",
              "\n",
              "    .dataframe tbody tr th {\n",
              "        vertical-align: top;\n",
              "    }\n",
              "\n",
              "    .dataframe thead th {\n",
              "        text-align: right;\n",
              "    }\n",
              "</style>\n",
              "<table border=\"1\" class=\"dataframe\">\n",
              "  <thead>\n",
              "    <tr style=\"text-align: right;\">\n",
              "      <th></th>\n",
              "      <th>Opportunity_ID</th>\n",
              "      <th>Delivery_Terms</th>\n",
              "    </tr>\n",
              "  </thead>\n",
              "  <tbody>\n",
              "    <tr>\n",
              "      <th>0</th>\n",
              "      <td>10689</td>\n",
              "      <td>Delivery_Terms_2</td>\n",
              "    </tr>\n",
              "    <tr>\n",
              "      <th>1</th>\n",
              "      <td>10690</td>\n",
              "      <td>Delivery_Terms_2</td>\n",
              "    </tr>\n",
              "    <tr>\n",
              "      <th>2</th>\n",
              "      <td>10691</td>\n",
              "      <td>Delivery_Terms_4</td>\n",
              "    </tr>\n",
              "    <tr>\n",
              "      <th>3</th>\n",
              "      <td>10692</td>\n",
              "      <td>Delivery_Terms_4</td>\n",
              "    </tr>\n",
              "    <tr>\n",
              "      <th>4</th>\n",
              "      <td>10693</td>\n",
              "      <td>Delivery_Terms_4</td>\n",
              "    </tr>\n",
              "  </tbody>\n",
              "</table>\n",
              "</div>"
            ],
            "text/plain": [
              "   Opportunity_ID    Delivery_Terms\n",
              "0           10689  Delivery_Terms_2\n",
              "1           10690  Delivery_Terms_2\n",
              "2           10691  Delivery_Terms_4\n",
              "3           10692  Delivery_Terms_4\n",
              "4           10693  Delivery_Terms_4"
            ]
          },
          "metadata": {
            "tags": []
          },
          "execution_count": 345
        }
      ]
    },
    {
      "cell_type": "code",
      "metadata": {
        "colab": {
          "base_uri": "https://localhost:8080/",
          "height": 424
        },
        "id": "uzoKP3CyI1hs",
        "outputId": "379ada9c-356a-48b5-ccb0-0d3a4f981773"
      },
      "source": [
        "territories=pd.merge(testAux,dfMeanEncoding, on=\"Delivery_Terms\", how='left') \r\n",
        "territories"
      ],
      "execution_count": 346,
      "outputs": [
        {
          "output_type": "execute_result",
          "data": {
            "text/html": [
              "<div>\n",
              "<style scoped>\n",
              "    .dataframe tbody tr th:only-of-type {\n",
              "        vertical-align: middle;\n",
              "    }\n",
              "\n",
              "    .dataframe tbody tr th {\n",
              "        vertical-align: top;\n",
              "    }\n",
              "\n",
              "    .dataframe thead th {\n",
              "        text-align: right;\n",
              "    }\n",
              "</style>\n",
              "<table border=\"1\" class=\"dataframe\">\n",
              "  <thead>\n",
              "    <tr style=\"text-align: right;\">\n",
              "      <th></th>\n",
              "      <th>Opportunity_ID</th>\n",
              "      <th>Delivery_Terms</th>\n",
              "      <th>meanEncodingDelivery_Terms</th>\n",
              "    </tr>\n",
              "  </thead>\n",
              "  <tbody>\n",
              "    <tr>\n",
              "      <th>0</th>\n",
              "      <td>10689</td>\n",
              "      <td>Delivery_Terms_2</td>\n",
              "      <td>0.479801</td>\n",
              "    </tr>\n",
              "    <tr>\n",
              "      <th>1</th>\n",
              "      <td>10690</td>\n",
              "      <td>Delivery_Terms_2</td>\n",
              "      <td>0.479801</td>\n",
              "    </tr>\n",
              "    <tr>\n",
              "      <th>2</th>\n",
              "      <td>10691</td>\n",
              "      <td>Delivery_Terms_4</td>\n",
              "      <td>0.547011</td>\n",
              "    </tr>\n",
              "    <tr>\n",
              "      <th>3</th>\n",
              "      <td>10692</td>\n",
              "      <td>Delivery_Terms_4</td>\n",
              "      <td>0.547011</td>\n",
              "    </tr>\n",
              "    <tr>\n",
              "      <th>4</th>\n",
              "      <td>10693</td>\n",
              "      <td>Delivery_Terms_4</td>\n",
              "      <td>0.547011</td>\n",
              "    </tr>\n",
              "    <tr>\n",
              "      <th>...</th>\n",
              "      <td>...</td>\n",
              "      <td>...</td>\n",
              "      <td>...</td>\n",
              "    </tr>\n",
              "    <tr>\n",
              "      <th>1562</th>\n",
              "      <td>12364</td>\n",
              "      <td>Delivery_Terms_7</td>\n",
              "      <td>0.527778</td>\n",
              "    </tr>\n",
              "    <tr>\n",
              "      <th>1563</th>\n",
              "      <td>12365</td>\n",
              "      <td>Delivery_Terms_4</td>\n",
              "      <td>0.547011</td>\n",
              "    </tr>\n",
              "    <tr>\n",
              "      <th>1564</th>\n",
              "      <td>12366</td>\n",
              "      <td>Delivery_Terms_4</td>\n",
              "      <td>0.547011</td>\n",
              "    </tr>\n",
              "    <tr>\n",
              "      <th>1565</th>\n",
              "      <td>12367</td>\n",
              "      <td>Delivery_Terms_4</td>\n",
              "      <td>0.547011</td>\n",
              "    </tr>\n",
              "    <tr>\n",
              "      <th>1566</th>\n",
              "      <td>12368</td>\n",
              "      <td>Delivery_Terms_2</td>\n",
              "      <td>0.479801</td>\n",
              "    </tr>\n",
              "  </tbody>\n",
              "</table>\n",
              "<p>1567 rows × 3 columns</p>\n",
              "</div>"
            ],
            "text/plain": [
              "      Opportunity_ID    Delivery_Terms  meanEncodingDelivery_Terms\n",
              "0              10689  Delivery_Terms_2                    0.479801\n",
              "1              10690  Delivery_Terms_2                    0.479801\n",
              "2              10691  Delivery_Terms_4                    0.547011\n",
              "3              10692  Delivery_Terms_4                    0.547011\n",
              "4              10693  Delivery_Terms_4                    0.547011\n",
              "...              ...               ...                         ...\n",
              "1562           12364  Delivery_Terms_7                    0.527778\n",
              "1563           12365  Delivery_Terms_4                    0.547011\n",
              "1564           12366  Delivery_Terms_4                    0.547011\n",
              "1565           12367  Delivery_Terms_4                    0.547011\n",
              "1566           12368  Delivery_Terms_2                    0.479801\n",
              "\n",
              "[1567 rows x 3 columns]"
            ]
          },
          "metadata": {
            "tags": []
          },
          "execution_count": 346
        }
      ]
    },
    {
      "cell_type": "code",
      "metadata": {
        "colab": {
          "base_uri": "https://localhost:8080/",
          "height": 478
        },
        "id": "5qsqckMlI1hs",
        "outputId": "49c8afda-5828-4f13-f816-2c2d5a7668a6"
      },
      "source": [
        " testFinal=pd.merge(testFinal,territories, on=\"Opportunity_ID\", how='inner') \r\n",
        " testFinal"
      ],
      "execution_count": 347,
      "outputs": [
        {
          "output_type": "execute_result",
          "data": {
            "text/html": [
              "<div>\n",
              "<style scoped>\n",
              "    .dataframe tbody tr th:only-of-type {\n",
              "        vertical-align: middle;\n",
              "    }\n",
              "\n",
              "    .dataframe tbody tr th {\n",
              "        vertical-align: top;\n",
              "    }\n",
              "\n",
              "    .dataframe thead th {\n",
              "        text-align: right;\n",
              "    }\n",
              "</style>\n",
              "<table border=\"1\" class=\"dataframe\">\n",
              "  <thead>\n",
              "    <tr style=\"text-align: right;\">\n",
              "      <th></th>\n",
              "      <th>Opportunity_ID</th>\n",
              "      <th>totalamount</th>\n",
              "      <th>totalTrf</th>\n",
              "      <th>meanTrf</th>\n",
              "      <th>cantTrf</th>\n",
              "      <th>cantProducFamilias</th>\n",
              "      <th>maxTrf</th>\n",
              "      <th>meanDisPlannedStarAndPlannedEnd</th>\n",
              "      <th>meanTrfporTotalTrf</th>\n",
              "      <th>cantProducFamiliasporTotalTrf</th>\n",
              "      <th>Territory</th>\n",
              "      <th>meanEncodingTerritory</th>\n",
              "      <th>Region</th>\n",
              "      <th>meanEncodingRegion</th>\n",
              "      <th>Delivery_Terms</th>\n",
              "      <th>meanEncodingDelivery_Terms</th>\n",
              "    </tr>\n",
              "  </thead>\n",
              "  <tbody>\n",
              "    <tr>\n",
              "      <th>0</th>\n",
              "      <td>10689</td>\n",
              "      <td>367419.0</td>\n",
              "      <td>0</td>\n",
              "      <td>0.0</td>\n",
              "      <td>3</td>\n",
              "      <td>3</td>\n",
              "      <td>0</td>\n",
              "      <td>2592000.0</td>\n",
              "      <td>0.0</td>\n",
              "      <td>0</td>\n",
              "      <td>Germany</td>\n",
              "      <td>0.548148</td>\n",
              "      <td>EMEA</td>\n",
              "      <td>0.463392</td>\n",
              "      <td>Delivery_Terms_2</td>\n",
              "      <td>0.479801</td>\n",
              "    </tr>\n",
              "    <tr>\n",
              "      <th>1</th>\n",
              "      <td>10690</td>\n",
              "      <td>757783.5</td>\n",
              "      <td>1</td>\n",
              "      <td>0.2</td>\n",
              "      <td>5</td>\n",
              "      <td>5</td>\n",
              "      <td>1</td>\n",
              "      <td>2367360.0</td>\n",
              "      <td>0.2</td>\n",
              "      <td>5</td>\n",
              "      <td>Germany</td>\n",
              "      <td>0.548148</td>\n",
              "      <td>EMEA</td>\n",
              "      <td>0.463392</td>\n",
              "      <td>Delivery_Terms_2</td>\n",
              "      <td>0.479801</td>\n",
              "    </tr>\n",
              "    <tr>\n",
              "      <th>2</th>\n",
              "      <td>10691</td>\n",
              "      <td>21037.5</td>\n",
              "      <td>0</td>\n",
              "      <td>0.0</td>\n",
              "      <td>1</td>\n",
              "      <td>1</td>\n",
              "      <td>0</td>\n",
              "      <td>0.0</td>\n",
              "      <td>0.0</td>\n",
              "      <td>0</td>\n",
              "      <td>NE America</td>\n",
              "      <td>0.347490</td>\n",
              "      <td>Americas</td>\n",
              "      <td>0.446166</td>\n",
              "      <td>Delivery_Terms_4</td>\n",
              "      <td>0.547011</td>\n",
              "    </tr>\n",
              "    <tr>\n",
              "      <th>3</th>\n",
              "      <td>10692</td>\n",
              "      <td>2169106.5</td>\n",
              "      <td>6</td>\n",
              "      <td>1.0</td>\n",
              "      <td>6</td>\n",
              "      <td>6</td>\n",
              "      <td>1</td>\n",
              "      <td>0.0</td>\n",
              "      <td>6.0</td>\n",
              "      <td>36</td>\n",
              "      <td>NW America</td>\n",
              "      <td>0.632723</td>\n",
              "      <td>Americas</td>\n",
              "      <td>0.446166</td>\n",
              "      <td>Delivery_Terms_4</td>\n",
              "      <td>0.547011</td>\n",
              "    </tr>\n",
              "    <tr>\n",
              "      <th>4</th>\n",
              "      <td>10693</td>\n",
              "      <td>5752.5</td>\n",
              "      <td>0</td>\n",
              "      <td>0.0</td>\n",
              "      <td>1</td>\n",
              "      <td>1</td>\n",
              "      <td>0</td>\n",
              "      <td>0.0</td>\n",
              "      <td>0.0</td>\n",
              "      <td>0</td>\n",
              "      <td>NW America</td>\n",
              "      <td>0.632723</td>\n",
              "      <td>Americas</td>\n",
              "      <td>0.446166</td>\n",
              "      <td>Delivery_Terms_4</td>\n",
              "      <td>0.547011</td>\n",
              "    </tr>\n",
              "    <tr>\n",
              "      <th>...</th>\n",
              "      <td>...</td>\n",
              "      <td>...</td>\n",
              "      <td>...</td>\n",
              "      <td>...</td>\n",
              "      <td>...</td>\n",
              "      <td>...</td>\n",
              "      <td>...</td>\n",
              "      <td>...</td>\n",
              "      <td>...</td>\n",
              "      <td>...</td>\n",
              "      <td>...</td>\n",
              "      <td>...</td>\n",
              "      <td>...</td>\n",
              "      <td>...</td>\n",
              "      <td>...</td>\n",
              "      <td>...</td>\n",
              "    </tr>\n",
              "    <tr>\n",
              "      <th>1562</th>\n",
              "      <td>12364</td>\n",
              "      <td>147750.0</td>\n",
              "      <td>0</td>\n",
              "      <td>0.0</td>\n",
              "      <td>2</td>\n",
              "      <td>2</td>\n",
              "      <td>0</td>\n",
              "      <td>777600.0</td>\n",
              "      <td>0.0</td>\n",
              "      <td>0</td>\n",
              "      <td>KSA</td>\n",
              "      <td>0.416667</td>\n",
              "      <td>EMEA</td>\n",
              "      <td>0.463392</td>\n",
              "      <td>Delivery_Terms_7</td>\n",
              "      <td>0.527778</td>\n",
              "    </tr>\n",
              "    <tr>\n",
              "      <th>1563</th>\n",
              "      <td>12365</td>\n",
              "      <td>45054.9</td>\n",
              "      <td>0</td>\n",
              "      <td>0.0</td>\n",
              "      <td>1</td>\n",
              "      <td>1</td>\n",
              "      <td>0</td>\n",
              "      <td>7862400.0</td>\n",
              "      <td>0.0</td>\n",
              "      <td>0</td>\n",
              "      <td>SE America</td>\n",
              "      <td>0.367953</td>\n",
              "      <td>Americas</td>\n",
              "      <td>0.446166</td>\n",
              "      <td>Delivery_Terms_4</td>\n",
              "      <td>0.547011</td>\n",
              "    </tr>\n",
              "    <tr>\n",
              "      <th>1564</th>\n",
              "      <td>12366</td>\n",
              "      <td>100122.0</td>\n",
              "      <td>0</td>\n",
              "      <td>0.0</td>\n",
              "      <td>1</td>\n",
              "      <td>1</td>\n",
              "      <td>0</td>\n",
              "      <td>7862400.0</td>\n",
              "      <td>0.0</td>\n",
              "      <td>0</td>\n",
              "      <td>SE America</td>\n",
              "      <td>0.367953</td>\n",
              "      <td>Americas</td>\n",
              "      <td>0.446166</td>\n",
              "      <td>Delivery_Terms_4</td>\n",
              "      <td>0.547011</td>\n",
              "    </tr>\n",
              "    <tr>\n",
              "      <th>1565</th>\n",
              "      <td>12367</td>\n",
              "      <td>143220.0</td>\n",
              "      <td>0</td>\n",
              "      <td>0.0</td>\n",
              "      <td>1</td>\n",
              "      <td>1</td>\n",
              "      <td>0</td>\n",
              "      <td>0.0</td>\n",
              "      <td>0.0</td>\n",
              "      <td>0</td>\n",
              "      <td>NE America</td>\n",
              "      <td>0.347490</td>\n",
              "      <td>Americas</td>\n",
              "      <td>0.446166</td>\n",
              "      <td>Delivery_Terms_4</td>\n",
              "      <td>0.547011</td>\n",
              "    </tr>\n",
              "    <tr>\n",
              "      <th>1566</th>\n",
              "      <td>12368</td>\n",
              "      <td>871020.8</td>\n",
              "      <td>3</td>\n",
              "      <td>3.0</td>\n",
              "      <td>1</td>\n",
              "      <td>1</td>\n",
              "      <td>3</td>\n",
              "      <td>4579200.0</td>\n",
              "      <td>9.0</td>\n",
              "      <td>3</td>\n",
              "      <td>Belgium</td>\n",
              "      <td>0.569832</td>\n",
              "      <td>EMEA</td>\n",
              "      <td>0.463392</td>\n",
              "      <td>Delivery_Terms_2</td>\n",
              "      <td>0.479801</td>\n",
              "    </tr>\n",
              "  </tbody>\n",
              "</table>\n",
              "<p>1567 rows × 16 columns</p>\n",
              "</div>"
            ],
            "text/plain": [
              "      Opportunity_ID  totalamount  ...    Delivery_Terms  meanEncodingDelivery_Terms\n",
              "0              10689     367419.0  ...  Delivery_Terms_2                    0.479801\n",
              "1              10690     757783.5  ...  Delivery_Terms_2                    0.479801\n",
              "2              10691      21037.5  ...  Delivery_Terms_4                    0.547011\n",
              "3              10692    2169106.5  ...  Delivery_Terms_4                    0.547011\n",
              "4              10693       5752.5  ...  Delivery_Terms_4                    0.547011\n",
              "...              ...          ...  ...               ...                         ...\n",
              "1562           12364     147750.0  ...  Delivery_Terms_7                    0.527778\n",
              "1563           12365      45054.9  ...  Delivery_Terms_4                    0.547011\n",
              "1564           12366     100122.0  ...  Delivery_Terms_4                    0.547011\n",
              "1565           12367     143220.0  ...  Delivery_Terms_4                    0.547011\n",
              "1566           12368     871020.8  ...  Delivery_Terms_2                    0.479801\n",
              "\n",
              "[1567 rows x 16 columns]"
            ]
          },
          "metadata": {
            "tags": []
          },
          "execution_count": 347
        }
      ]
    },
    {
      "cell_type": "markdown",
      "metadata": {
        "id": "l6oqdJ59M0oc"
      },
      "source": [
        "# Account_Owner"
      ]
    },
    {
      "cell_type": "code",
      "metadata": {
        "id": "0Rhz9U4sM0or"
      },
      "source": [
        "def meanEncodingDejandoColumnaCategorica(columnsCategory):\r\n",
        "  \"\"\"devuelve un dataframe con el formato [columnscategory,meanencodingcategory]\r\n",
        "    es porque lo vamos a usar para hacer merge por su columna categorica\"\"\"\r\n",
        "  df = pd.read_csv('data.csv')\r\n",
        "  entrenamiento = pd.read_csv('data.csv')\r\n",
        "  df = df.replace('Closed Won', '1')\r\n",
        "  df = df.replace('Closed Lost', '0')\r\n",
        "  df = df[df['Stage'].isin(['0','1'])]\r\n",
        "  df.Stage = df.Stage.astype(int)\r\n",
        "  df = df.groupby([columnsCategory,'Opportunity_ID']).agg({'Stage':['sum','count']})\r\n",
        "  df = df.reset_index()\r\n",
        "  df1 = df\r\n",
        "  df1.columns = [columnsCategory,'Opportunity_ID','Stage_sum','Stage_count']\r\n",
        "  df1['Stage_sum'] = df1['Stage_sum'].apply(lambda x: 0 if x == 0 else 1)\r\n",
        "  df2 = df1.groupby([columnsCategory]).agg(meanEncodingAccount_Owner = ('Stage_sum','mean'))\r\n",
        "  df2 = df2.reset_index()\r\n",
        "  agruparOportunity=entrenamiento.groupby(['Opportunity_ID',columnsCategory]).agg(cant=(columnsCategory,'count')).reset_index()\r\n",
        "  result=pd.merge(agruparOportunity,df2,on=columnsCategory,how='inner')\r\n",
        "  result.head()\r\n",
        "  del result['cant']\r\n",
        "  result2=result[[columnsCategory,'meanEncodingAccount_Owner']].drop_duplicates()\r\n",
        "  return  result2"
      ],
      "execution_count": 348,
      "outputs": []
    },
    {
      "cell_type": "code",
      "metadata": {
        "colab": {
          "base_uri": "https://localhost:8080/",
          "height": 206
        },
        "id": "-m4-OyjrM0os",
        "outputId": "d0d9256e-24f7-4be1-a8dc-73d3a6c09bee"
      },
      "source": [
        "dfMeanEncoding=meanEncodingDejandoColumnaCategorica(\"Account_Owner\")\r\n",
        "dfMeanEncoding.head()"
      ],
      "execution_count": 349,
      "outputs": [
        {
          "output_type": "execute_result",
          "data": {
            "text/html": [
              "<div>\n",
              "<style scoped>\n",
              "    .dataframe tbody tr th:only-of-type {\n",
              "        vertical-align: middle;\n",
              "    }\n",
              "\n",
              "    .dataframe tbody tr th {\n",
              "        vertical-align: top;\n",
              "    }\n",
              "\n",
              "    .dataframe thead th {\n",
              "        text-align: right;\n",
              "    }\n",
              "</style>\n",
              "<table border=\"1\" class=\"dataframe\">\n",
              "  <thead>\n",
              "    <tr style=\"text-align: right;\">\n",
              "      <th></th>\n",
              "      <th>Account_Owner</th>\n",
              "      <th>meanEncodingAccount_Owner</th>\n",
              "    </tr>\n",
              "  </thead>\n",
              "  <tbody>\n",
              "    <tr>\n",
              "      <th>0</th>\n",
              "      <td>Person_Name_51</td>\n",
              "      <td>0.314607</td>\n",
              "    </tr>\n",
              "    <tr>\n",
              "      <th>89</th>\n",
              "      <td>Person_Name_64</td>\n",
              "      <td>0.689320</td>\n",
              "    </tr>\n",
              "    <tr>\n",
              "      <th>505</th>\n",
              "      <td>Person_Name_8</td>\n",
              "      <td>0.571654</td>\n",
              "    </tr>\n",
              "    <tr>\n",
              "      <th>1140</th>\n",
              "      <td>Person_Name_50</td>\n",
              "      <td>0.633037</td>\n",
              "    </tr>\n",
              "    <tr>\n",
              "      <th>2158</th>\n",
              "      <td>Person_Name_60</td>\n",
              "      <td>0.288462</td>\n",
              "    </tr>\n",
              "  </tbody>\n",
              "</table>\n",
              "</div>"
            ],
            "text/plain": [
              "       Account_Owner  meanEncodingAccount_Owner\n",
              "0     Person_Name_51                   0.314607\n",
              "89    Person_Name_64                   0.689320\n",
              "505    Person_Name_8                   0.571654\n",
              "1140  Person_Name_50                   0.633037\n",
              "2158  Person_Name_60                   0.288462"
            ]
          },
          "metadata": {
            "tags": []
          },
          "execution_count": 349
        }
      ]
    },
    {
      "cell_type": "code",
      "metadata": {
        "colab": {
          "base_uri": "https://localhost:8080/",
          "height": 206
        },
        "id": "DhZB2cSDM0ot",
        "outputId": "24d16a32-f325-4603-fdf8-d67908dfda45"
      },
      "source": [
        "testAux=test.groupby(['Opportunity_ID','Account_Owner' ]).agg(cant=('Opportunity_ID','count')).reset_index()[['Opportunity_ID','Account_Owner' ]]\r\n",
        "testAux.head()"
      ],
      "execution_count": 350,
      "outputs": [
        {
          "output_type": "execute_result",
          "data": {
            "text/html": [
              "<div>\n",
              "<style scoped>\n",
              "    .dataframe tbody tr th:only-of-type {\n",
              "        vertical-align: middle;\n",
              "    }\n",
              "\n",
              "    .dataframe tbody tr th {\n",
              "        vertical-align: top;\n",
              "    }\n",
              "\n",
              "    .dataframe thead th {\n",
              "        text-align: right;\n",
              "    }\n",
              "</style>\n",
              "<table border=\"1\" class=\"dataframe\">\n",
              "  <thead>\n",
              "    <tr style=\"text-align: right;\">\n",
              "      <th></th>\n",
              "      <th>Opportunity_ID</th>\n",
              "      <th>Account_Owner</th>\n",
              "    </tr>\n",
              "  </thead>\n",
              "  <tbody>\n",
              "    <tr>\n",
              "      <th>0</th>\n",
              "      <td>10689</td>\n",
              "      <td>Person_Name_13</td>\n",
              "    </tr>\n",
              "    <tr>\n",
              "      <th>1</th>\n",
              "      <td>10690</td>\n",
              "      <td>Person_Name_13</td>\n",
              "    </tr>\n",
              "    <tr>\n",
              "      <th>2</th>\n",
              "      <td>10691</td>\n",
              "      <td>Person_Name_9</td>\n",
              "    </tr>\n",
              "    <tr>\n",
              "      <th>3</th>\n",
              "      <td>10692</td>\n",
              "      <td>Person_Name_8</td>\n",
              "    </tr>\n",
              "    <tr>\n",
              "      <th>4</th>\n",
              "      <td>10693</td>\n",
              "      <td>Person_Name_64</td>\n",
              "    </tr>\n",
              "  </tbody>\n",
              "</table>\n",
              "</div>"
            ],
            "text/plain": [
              "   Opportunity_ID   Account_Owner\n",
              "0           10689  Person_Name_13\n",
              "1           10690  Person_Name_13\n",
              "2           10691   Person_Name_9\n",
              "3           10692   Person_Name_8\n",
              "4           10693  Person_Name_64"
            ]
          },
          "metadata": {
            "tags": []
          },
          "execution_count": 350
        }
      ]
    },
    {
      "cell_type": "code",
      "metadata": {
        "id": "NUTe7C0pM0ot"
      },
      "source": [
        "#territories=pd.merge(testAux,dfMeanEncoding, on=\"Account_Owner\", how='left') \r\n",
        "#territories"
      ],
      "execution_count": 351,
      "outputs": []
    },
    {
      "cell_type": "code",
      "metadata": {
        "id": "MPwd0hw4M0ot"
      },
      "source": [
        " #testFinal=pd.merge(testFinal,territories, on=\"Opportunity_ID\", how='inner') \r\n",
        " #testFinal"
      ],
      "execution_count": 352,
      "outputs": []
    },
    {
      "cell_type": "code",
      "metadata": {
        "id": "pD9p6SrT7gDo"
      },
      "source": [
        "#agrego columnas men trf"
      ],
      "execution_count": 353,
      "outputs": []
    },
    {
      "cell_type": "code",
      "metadata": {
        "id": "sEZjbdQx7jJN"
      },
      "source": [
        ""
      ],
      "execution_count": 353,
      "outputs": []
    },
    {
      "cell_type": "code",
      "metadata": {
        "id": "V0G-Ef6m7jaW"
      },
      "source": [
        " \r\n",
        "df=test\r\n",
        "df['Month']=pd.to_datetime(df['Month'])\r\n",
        "df['anio']=df['Month'].dt.year\r\n",
        "df['mes']=df['Month'].dt.month\r\n",
        "#mes_cant_stage"
      ],
      "execution_count": 354,
      "outputs": []
    },
    {
      "cell_type": "code",
      "metadata": {
        "id": "jB70JspS7jaX"
      },
      "source": [
        "df['mes']=df['mes'].astype(str) "
      ],
      "execution_count": 355,
      "outputs": []
    },
    {
      "cell_type": "code",
      "metadata": {
        "id": "Ac1ad5bT7jaX"
      },
      "source": [
        "mesTrf=df.groupby(['Opportunity_ID','mes' ]).agg(totalTrf=('TRF','sum')).unstack().fillna(0)"
      ],
      "execution_count": 356,
      "outputs": []
    },
    {
      "cell_type": "code",
      "metadata": {
        "id": "wku5R9J-7jaX"
      },
      "source": [
        "level0=mesTrf.columns.get_level_values(0)\n",
        "level1=mesTrf.columns.get_level_values(1)"
      ],
      "execution_count": 357,
      "outputs": []
    },
    {
      "cell_type": "code",
      "metadata": {
        "id": "mEN3Hl9b7jaZ"
      },
      "source": [
        "mesTrf.columns = level0 + '_' +  level1"
      ],
      "execution_count": 358,
      "outputs": []
    },
    {
      "cell_type": "code",
      "metadata": {
        "id": "zyfnOcah7jaZ"
      },
      "source": [
        "mesTrf=mesTrf.reset_index() \n",
        " "
      ],
      "execution_count": 359,
      "outputs": []
    },
    {
      "cell_type": "code",
      "metadata": {
        "id": "qr3apt43A2DG",
        "colab": {
          "base_uri": "https://localhost:8080/",
          "height": 478
        },
        "outputId": "daefe042-83b0-48bd-c4eb-23cad0293bf6"
      },
      "source": [
        "testFinal=pd.merge(testFinal,mesTrf, on=\"Opportunity_ID\", how='inner') \r\n",
        "testFinal"
      ],
      "execution_count": 360,
      "outputs": [
        {
          "output_type": "execute_result",
          "data": {
            "text/html": [
              "<div>\n",
              "<style scoped>\n",
              "    .dataframe tbody tr th:only-of-type {\n",
              "        vertical-align: middle;\n",
              "    }\n",
              "\n",
              "    .dataframe tbody tr th {\n",
              "        vertical-align: top;\n",
              "    }\n",
              "\n",
              "    .dataframe thead th {\n",
              "        text-align: right;\n",
              "    }\n",
              "</style>\n",
              "<table border=\"1\" class=\"dataframe\">\n",
              "  <thead>\n",
              "    <tr style=\"text-align: right;\">\n",
              "      <th></th>\n",
              "      <th>Opportunity_ID</th>\n",
              "      <th>totalamount</th>\n",
              "      <th>totalTrf</th>\n",
              "      <th>meanTrf</th>\n",
              "      <th>cantTrf</th>\n",
              "      <th>cantProducFamilias</th>\n",
              "      <th>maxTrf</th>\n",
              "      <th>meanDisPlannedStarAndPlannedEnd</th>\n",
              "      <th>meanTrfporTotalTrf</th>\n",
              "      <th>cantProducFamiliasporTotalTrf</th>\n",
              "      <th>Territory</th>\n",
              "      <th>meanEncodingTerritory</th>\n",
              "      <th>Region</th>\n",
              "      <th>meanEncodingRegion</th>\n",
              "      <th>Delivery_Terms</th>\n",
              "      <th>meanEncodingDelivery_Terms</th>\n",
              "      <th>totalTrf_1</th>\n",
              "      <th>totalTrf_10</th>\n",
              "      <th>totalTrf_11</th>\n",
              "      <th>totalTrf_12</th>\n",
              "      <th>totalTrf_2</th>\n",
              "      <th>totalTrf_3</th>\n",
              "      <th>totalTrf_4</th>\n",
              "      <th>totalTrf_5</th>\n",
              "      <th>totalTrf_6</th>\n",
              "      <th>totalTrf_7</th>\n",
              "      <th>totalTrf_8</th>\n",
              "      <th>totalTrf_9</th>\n",
              "    </tr>\n",
              "  </thead>\n",
              "  <tbody>\n",
              "    <tr>\n",
              "      <th>0</th>\n",
              "      <td>10689</td>\n",
              "      <td>367419.0</td>\n",
              "      <td>0</td>\n",
              "      <td>0.0</td>\n",
              "      <td>3</td>\n",
              "      <td>3</td>\n",
              "      <td>0</td>\n",
              "      <td>2592000.0</td>\n",
              "      <td>0.0</td>\n",
              "      <td>0</td>\n",
              "      <td>Germany</td>\n",
              "      <td>0.548148</td>\n",
              "      <td>EMEA</td>\n",
              "      <td>0.463392</td>\n",
              "      <td>Delivery_Terms_2</td>\n",
              "      <td>0.479801</td>\n",
              "      <td>0.0</td>\n",
              "      <td>0.0</td>\n",
              "      <td>0.0</td>\n",
              "      <td>0.0</td>\n",
              "      <td>0.0</td>\n",
              "      <td>0.0</td>\n",
              "      <td>0.0</td>\n",
              "      <td>0.0</td>\n",
              "      <td>0.0</td>\n",
              "      <td>0.0</td>\n",
              "      <td>0.0</td>\n",
              "      <td>0.0</td>\n",
              "    </tr>\n",
              "    <tr>\n",
              "      <th>1</th>\n",
              "      <td>10690</td>\n",
              "      <td>757783.5</td>\n",
              "      <td>1</td>\n",
              "      <td>0.2</td>\n",
              "      <td>5</td>\n",
              "      <td>5</td>\n",
              "      <td>1</td>\n",
              "      <td>2367360.0</td>\n",
              "      <td>0.2</td>\n",
              "      <td>5</td>\n",
              "      <td>Germany</td>\n",
              "      <td>0.548148</td>\n",
              "      <td>EMEA</td>\n",
              "      <td>0.463392</td>\n",
              "      <td>Delivery_Terms_2</td>\n",
              "      <td>0.479801</td>\n",
              "      <td>0.0</td>\n",
              "      <td>0.0</td>\n",
              "      <td>0.0</td>\n",
              "      <td>0.0</td>\n",
              "      <td>0.0</td>\n",
              "      <td>0.0</td>\n",
              "      <td>0.0</td>\n",
              "      <td>0.0</td>\n",
              "      <td>1.0</td>\n",
              "      <td>0.0</td>\n",
              "      <td>0.0</td>\n",
              "      <td>0.0</td>\n",
              "    </tr>\n",
              "    <tr>\n",
              "      <th>2</th>\n",
              "      <td>10691</td>\n",
              "      <td>21037.5</td>\n",
              "      <td>0</td>\n",
              "      <td>0.0</td>\n",
              "      <td>1</td>\n",
              "      <td>1</td>\n",
              "      <td>0</td>\n",
              "      <td>0.0</td>\n",
              "      <td>0.0</td>\n",
              "      <td>0</td>\n",
              "      <td>NE America</td>\n",
              "      <td>0.347490</td>\n",
              "      <td>Americas</td>\n",
              "      <td>0.446166</td>\n",
              "      <td>Delivery_Terms_4</td>\n",
              "      <td>0.547011</td>\n",
              "      <td>0.0</td>\n",
              "      <td>0.0</td>\n",
              "      <td>0.0</td>\n",
              "      <td>0.0</td>\n",
              "      <td>0.0</td>\n",
              "      <td>0.0</td>\n",
              "      <td>0.0</td>\n",
              "      <td>0.0</td>\n",
              "      <td>0.0</td>\n",
              "      <td>0.0</td>\n",
              "      <td>0.0</td>\n",
              "      <td>0.0</td>\n",
              "    </tr>\n",
              "    <tr>\n",
              "      <th>3</th>\n",
              "      <td>10692</td>\n",
              "      <td>2169106.5</td>\n",
              "      <td>6</td>\n",
              "      <td>1.0</td>\n",
              "      <td>6</td>\n",
              "      <td>6</td>\n",
              "      <td>1</td>\n",
              "      <td>0.0</td>\n",
              "      <td>6.0</td>\n",
              "      <td>36</td>\n",
              "      <td>NW America</td>\n",
              "      <td>0.632723</td>\n",
              "      <td>Americas</td>\n",
              "      <td>0.446166</td>\n",
              "      <td>Delivery_Terms_4</td>\n",
              "      <td>0.547011</td>\n",
              "      <td>0.0</td>\n",
              "      <td>0.0</td>\n",
              "      <td>0.0</td>\n",
              "      <td>6.0</td>\n",
              "      <td>0.0</td>\n",
              "      <td>0.0</td>\n",
              "      <td>0.0</td>\n",
              "      <td>0.0</td>\n",
              "      <td>0.0</td>\n",
              "      <td>0.0</td>\n",
              "      <td>0.0</td>\n",
              "      <td>0.0</td>\n",
              "    </tr>\n",
              "    <tr>\n",
              "      <th>4</th>\n",
              "      <td>10693</td>\n",
              "      <td>5752.5</td>\n",
              "      <td>0</td>\n",
              "      <td>0.0</td>\n",
              "      <td>1</td>\n",
              "      <td>1</td>\n",
              "      <td>0</td>\n",
              "      <td>0.0</td>\n",
              "      <td>0.0</td>\n",
              "      <td>0</td>\n",
              "      <td>NW America</td>\n",
              "      <td>0.632723</td>\n",
              "      <td>Americas</td>\n",
              "      <td>0.446166</td>\n",
              "      <td>Delivery_Terms_4</td>\n",
              "      <td>0.547011</td>\n",
              "      <td>0.0</td>\n",
              "      <td>0.0</td>\n",
              "      <td>0.0</td>\n",
              "      <td>0.0</td>\n",
              "      <td>0.0</td>\n",
              "      <td>0.0</td>\n",
              "      <td>0.0</td>\n",
              "      <td>0.0</td>\n",
              "      <td>0.0</td>\n",
              "      <td>0.0</td>\n",
              "      <td>0.0</td>\n",
              "      <td>0.0</td>\n",
              "    </tr>\n",
              "    <tr>\n",
              "      <th>...</th>\n",
              "      <td>...</td>\n",
              "      <td>...</td>\n",
              "      <td>...</td>\n",
              "      <td>...</td>\n",
              "      <td>...</td>\n",
              "      <td>...</td>\n",
              "      <td>...</td>\n",
              "      <td>...</td>\n",
              "      <td>...</td>\n",
              "      <td>...</td>\n",
              "      <td>...</td>\n",
              "      <td>...</td>\n",
              "      <td>...</td>\n",
              "      <td>...</td>\n",
              "      <td>...</td>\n",
              "      <td>...</td>\n",
              "      <td>...</td>\n",
              "      <td>...</td>\n",
              "      <td>...</td>\n",
              "      <td>...</td>\n",
              "      <td>...</td>\n",
              "      <td>...</td>\n",
              "      <td>...</td>\n",
              "      <td>...</td>\n",
              "      <td>...</td>\n",
              "      <td>...</td>\n",
              "      <td>...</td>\n",
              "      <td>...</td>\n",
              "    </tr>\n",
              "    <tr>\n",
              "      <th>1562</th>\n",
              "      <td>12364</td>\n",
              "      <td>147750.0</td>\n",
              "      <td>0</td>\n",
              "      <td>0.0</td>\n",
              "      <td>2</td>\n",
              "      <td>2</td>\n",
              "      <td>0</td>\n",
              "      <td>777600.0</td>\n",
              "      <td>0.0</td>\n",
              "      <td>0</td>\n",
              "      <td>KSA</td>\n",
              "      <td>0.416667</td>\n",
              "      <td>EMEA</td>\n",
              "      <td>0.463392</td>\n",
              "      <td>Delivery_Terms_7</td>\n",
              "      <td>0.527778</td>\n",
              "      <td>0.0</td>\n",
              "      <td>0.0</td>\n",
              "      <td>0.0</td>\n",
              "      <td>0.0</td>\n",
              "      <td>0.0</td>\n",
              "      <td>0.0</td>\n",
              "      <td>0.0</td>\n",
              "      <td>0.0</td>\n",
              "      <td>0.0</td>\n",
              "      <td>0.0</td>\n",
              "      <td>0.0</td>\n",
              "      <td>0.0</td>\n",
              "    </tr>\n",
              "    <tr>\n",
              "      <th>1563</th>\n",
              "      <td>12365</td>\n",
              "      <td>45054.9</td>\n",
              "      <td>0</td>\n",
              "      <td>0.0</td>\n",
              "      <td>1</td>\n",
              "      <td>1</td>\n",
              "      <td>0</td>\n",
              "      <td>7862400.0</td>\n",
              "      <td>0.0</td>\n",
              "      <td>0</td>\n",
              "      <td>SE America</td>\n",
              "      <td>0.367953</td>\n",
              "      <td>Americas</td>\n",
              "      <td>0.446166</td>\n",
              "      <td>Delivery_Terms_4</td>\n",
              "      <td>0.547011</td>\n",
              "      <td>0.0</td>\n",
              "      <td>0.0</td>\n",
              "      <td>0.0</td>\n",
              "      <td>0.0</td>\n",
              "      <td>0.0</td>\n",
              "      <td>0.0</td>\n",
              "      <td>0.0</td>\n",
              "      <td>0.0</td>\n",
              "      <td>0.0</td>\n",
              "      <td>0.0</td>\n",
              "      <td>0.0</td>\n",
              "      <td>0.0</td>\n",
              "    </tr>\n",
              "    <tr>\n",
              "      <th>1564</th>\n",
              "      <td>12366</td>\n",
              "      <td>100122.0</td>\n",
              "      <td>0</td>\n",
              "      <td>0.0</td>\n",
              "      <td>1</td>\n",
              "      <td>1</td>\n",
              "      <td>0</td>\n",
              "      <td>7862400.0</td>\n",
              "      <td>0.0</td>\n",
              "      <td>0</td>\n",
              "      <td>SE America</td>\n",
              "      <td>0.367953</td>\n",
              "      <td>Americas</td>\n",
              "      <td>0.446166</td>\n",
              "      <td>Delivery_Terms_4</td>\n",
              "      <td>0.547011</td>\n",
              "      <td>0.0</td>\n",
              "      <td>0.0</td>\n",
              "      <td>0.0</td>\n",
              "      <td>0.0</td>\n",
              "      <td>0.0</td>\n",
              "      <td>0.0</td>\n",
              "      <td>0.0</td>\n",
              "      <td>0.0</td>\n",
              "      <td>0.0</td>\n",
              "      <td>0.0</td>\n",
              "      <td>0.0</td>\n",
              "      <td>0.0</td>\n",
              "    </tr>\n",
              "    <tr>\n",
              "      <th>1565</th>\n",
              "      <td>12367</td>\n",
              "      <td>143220.0</td>\n",
              "      <td>0</td>\n",
              "      <td>0.0</td>\n",
              "      <td>1</td>\n",
              "      <td>1</td>\n",
              "      <td>0</td>\n",
              "      <td>0.0</td>\n",
              "      <td>0.0</td>\n",
              "      <td>0</td>\n",
              "      <td>NE America</td>\n",
              "      <td>0.347490</td>\n",
              "      <td>Americas</td>\n",
              "      <td>0.446166</td>\n",
              "      <td>Delivery_Terms_4</td>\n",
              "      <td>0.547011</td>\n",
              "      <td>0.0</td>\n",
              "      <td>0.0</td>\n",
              "      <td>0.0</td>\n",
              "      <td>0.0</td>\n",
              "      <td>0.0</td>\n",
              "      <td>0.0</td>\n",
              "      <td>0.0</td>\n",
              "      <td>0.0</td>\n",
              "      <td>0.0</td>\n",
              "      <td>0.0</td>\n",
              "      <td>0.0</td>\n",
              "      <td>0.0</td>\n",
              "    </tr>\n",
              "    <tr>\n",
              "      <th>1566</th>\n",
              "      <td>12368</td>\n",
              "      <td>871020.8</td>\n",
              "      <td>3</td>\n",
              "      <td>3.0</td>\n",
              "      <td>1</td>\n",
              "      <td>1</td>\n",
              "      <td>3</td>\n",
              "      <td>4579200.0</td>\n",
              "      <td>9.0</td>\n",
              "      <td>3</td>\n",
              "      <td>Belgium</td>\n",
              "      <td>0.569832</td>\n",
              "      <td>EMEA</td>\n",
              "      <td>0.463392</td>\n",
              "      <td>Delivery_Terms_2</td>\n",
              "      <td>0.479801</td>\n",
              "      <td>0.0</td>\n",
              "      <td>3.0</td>\n",
              "      <td>0.0</td>\n",
              "      <td>0.0</td>\n",
              "      <td>0.0</td>\n",
              "      <td>0.0</td>\n",
              "      <td>0.0</td>\n",
              "      <td>0.0</td>\n",
              "      <td>0.0</td>\n",
              "      <td>0.0</td>\n",
              "      <td>0.0</td>\n",
              "      <td>0.0</td>\n",
              "    </tr>\n",
              "  </tbody>\n",
              "</table>\n",
              "<p>1567 rows × 28 columns</p>\n",
              "</div>"
            ],
            "text/plain": [
              "      Opportunity_ID  totalamount  totalTrf  ...  totalTrf_7  totalTrf_8  totalTrf_9\n",
              "0              10689     367419.0         0  ...         0.0         0.0         0.0\n",
              "1              10690     757783.5         1  ...         0.0         0.0         0.0\n",
              "2              10691      21037.5         0  ...         0.0         0.0         0.0\n",
              "3              10692    2169106.5         6  ...         0.0         0.0         0.0\n",
              "4              10693       5752.5         0  ...         0.0         0.0         0.0\n",
              "...              ...          ...       ...  ...         ...         ...         ...\n",
              "1562           12364     147750.0         0  ...         0.0         0.0         0.0\n",
              "1563           12365      45054.9         0  ...         0.0         0.0         0.0\n",
              "1564           12366     100122.0         0  ...         0.0         0.0         0.0\n",
              "1565           12367     143220.0         0  ...         0.0         0.0         0.0\n",
              "1566           12368     871020.8         3  ...         0.0         0.0         0.0\n",
              "\n",
              "[1567 rows x 28 columns]"
            ]
          },
          "metadata": {
            "tags": []
          },
          "execution_count": 360
        }
      ]
    },
    {
      "cell_type": "code",
      "metadata": {
        "id": "f1vGa7fQA2J7"
      },
      "source": [
        ""
      ],
      "execution_count": 360,
      "outputs": []
    },
    {
      "cell_type": "code",
      "metadata": {
        "id": "yXt9J0IvA2NB"
      },
      "source": [
        ""
      ],
      "execution_count": 360,
      "outputs": []
    },
    {
      "cell_type": "code",
      "metadata": {
        "id": "ggaugZNkA2QB"
      },
      "source": [
        ""
      ],
      "execution_count": 360,
      "outputs": []
    },
    {
      "cell_type": "code",
      "metadata": {
        "id": "lR33FxuXA2S7"
      },
      "source": [
        ""
      ],
      "execution_count": 360,
      "outputs": []
    },
    {
      "cell_type": "code",
      "metadata": {
        "id": "frxsSxaxzzbm"
      },
      "source": [
        "listColumns=testFinal.columns.to_list()\r\n",
        "listColumns.remove('Territory')\r\n",
        "listColumns.remove('Region')\r\n",
        "listColumns.remove('Delivery_Terms')\r\n",
        "#listColumns.remove('Account_Owner')\r\n",
        "listColumns.remove('Opportunity_ID')\r\n",
        "listColumns\r\n",
        "testFinal=testFinal[listColumns]"
      ],
      "execution_count": 361,
      "outputs": []
    },
    {
      "cell_type": "code",
      "metadata": {
        "id": "A84mCwkRzzbn"
      },
      "source": [
        "#X_train, y_test se sacan del df entrenamiento"
      ],
      "execution_count": 362,
      "outputs": []
    },
    {
      "cell_type": "code",
      "metadata": {
        "id": "t8oAk8IJAnit"
      },
      "source": [
        "testFinal=testFinal.fillna(0)"
      ],
      "execution_count": 363,
      "outputs": []
    },
    {
      "cell_type": "code",
      "metadata": {
        "id": "jP0Fe1EbopH7"
      },
      "source": [
        "#guardo el test para despues usarlo\n",
        "dicAcumTrainAndTest['test']=testFinal"
      ],
      "execution_count": 364,
      "outputs": []
    },
    {
      "cell_type": "code",
      "metadata": {
        "id": "qZT3RX0Uzzbo"
      },
      "source": [
        "prediccion=modelo.entrenarYPredecirWithTest(X_train,y_train,testFinal)"
      ],
      "execution_count": 365,
      "outputs": []
    },
    {
      "cell_type": "code",
      "metadata": {
        "colab": {
          "base_uri": "https://localhost:8080/"
        },
        "id": "e8e6sLMczzbo",
        "outputId": "b9e9d99d-9d1b-4a63-f5d9-425fd14257e8"
      },
      "source": [
        "len(prediccion)"
      ],
      "execution_count": 366,
      "outputs": [
        {
          "output_type": "execute_result",
          "data": {
            "text/plain": [
              "1567"
            ]
          },
          "metadata": {
            "tags": []
          },
          "execution_count": 366
        }
      ]
    },
    {
      "cell_type": "code",
      "metadata": {
        "id": "6vvb5U4izzbo"
      },
      "source": [
        ""
      ],
      "execution_count": 366,
      "outputs": []
    },
    {
      "cell_type": "code",
      "metadata": {
        "id": "B1IT6H86zzbo"
      },
      "source": [
        ""
      ],
      "execution_count": 366,
      "outputs": []
    },
    {
      "cell_type": "code",
      "metadata": {
        "id": "YrrHy4aKzzbo"
      },
      "source": [
        "\r\n"
      ],
      "execution_count": 366,
      "outputs": []
    },
    {
      "cell_type": "code",
      "metadata": {
        "id": "3s1eBUdU9Kbf"
      },
      "source": [
        ""
      ],
      "execution_count": 366,
      "outputs": []
    },
    {
      "cell_type": "markdown",
      "metadata": {
        "id": "NWGyknaJ-8oF"
      },
      "source": [
        "diccioanrio para guardar los dfkaggle de cada modelo para hacer ensamble"
      ]
    },
    {
      "cell_type": "code",
      "metadata": {
        "id": "xoJ1L53J_CfP"
      },
      "source": [
        "dicAcumulaDfKaggle={}"
      ],
      "execution_count": 367,
      "outputs": []
    },
    {
      "cell_type": "markdown",
      "metadata": {
        "id": "7_Cpw2aZO98N"
      },
      "source": [
        "# **ahora vamos a hacer del xgboost optimizado y ramdomforest optimizado"
      ]
    },
    {
      "cell_type": "code",
      "metadata": {
        "id": "oEh__ZHtzQA1"
      },
      "source": [
        "entrenamientoFeatures=dicAcumTrainAndTest.get('entrenamiento')"
      ],
      "execution_count": 368,
      "outputs": []
    },
    {
      "cell_type": "code",
      "metadata": {
        "id": "p-HbMII1zybQ"
      },
      "source": [
        "testFeatures=dicAcumTrainAndTest.get('test')"
      ],
      "execution_count": 369,
      "outputs": []
    },
    {
      "cell_type": "code",
      "metadata": {
        "colab": {
          "base_uri": "https://localhost:8080/"
        },
        "id": "qq-SIQQFzAtP",
        "outputId": "6c5e7cde-c8b6-4298-f9a9-da03269f7d3f"
      },
      "source": [
        "modelo=modelos.get('xgboostOptimo')\n",
        "\n",
        "#cargamos el modelo \n",
        "modelo=modelo\n",
        "print(modelo.nombre)"
      ],
      "execution_count": 370,
      "outputs": [
        {
          "output_type": "stream",
          "text": [
            "XGBOOSTopti\n"
          ],
          "name": "stdout"
        }
      ]
    },
    {
      "cell_type": "code",
      "metadata": {
        "colab": {
          "base_uri": "https://localhost:8080/"
        },
        "id": "J-hWX_bnPEp3",
        "outputId": "d5e730d6-afc4-4422-d4cd-7e52c384c8bd"
      },
      "source": [
        "X,Y=modelo.splitTrainTarget(entrenamientoFeatures)\n",
        "modelo.buscaMejorHiperparametroAndTrainModeloWithKfold(X,Y)\n",
        "prediccion=modelo.entrenarYPredecirWithTest(testFeatures) "
      ],
      "execution_count": 371,
      "outputs": [
        {
          "output_type": "stream",
          "text": [
            "las columnas del train son Index(['totalamount', 'totalTrf', 'meanTrf', 'cantTrf', 'cantProducFamilias',\n",
            "       'maxTrf', 'meanDisPlannedStarAndPlannedEnd', 'meanTrfporTotalTrf',\n",
            "       'cantProducFamiliasporTotalTrf', 'meanEncodingTerritory',\n",
            "       'meanEncodingRegion', 'meanEncodingDelivery_Terms', 'totalTrf_1',\n",
            "       'totalTrf_10', 'totalTrf_11', 'totalTrf_12', 'totalTrf_2', 'totalTrf_3',\n",
            "       'totalTrf_4', 'totalTrf_5', 'totalTrf_6', 'totalTrf_7', 'totalTrf_8',\n",
            "       'totalTrf_9'],\n",
            "      dtype='object') y del target son  Stage\n",
            "Fitting 3 folds for each of 5 candidates, totalling 15 fits\n"
          ],
          "name": "stdout"
        },
        {
          "output_type": "stream",
          "text": [
            "[Parallel(n_jobs=4)]: Using backend LokyBackend with 4 concurrent workers.\n",
            "[Parallel(n_jobs=4)]: Done  15 out of  15 | elapsed:   41.6s finished\n"
          ],
          "name": "stderr"
        },
        {
          "output_type": "stream",
          "text": [
            "\n",
            " Time taken: 0 hours 0 minutes and 47.44 seconds.\n",
            "\n",
            " All results:\n",
            "{'mean_fit_time': array([ 7.89322527, 13.3587652 , 12.33080888,  9.62396312,  9.23191571]), 'std_fit_time': array([0.17288332, 0.30228282, 0.15040562, 0.08139769, 0.75342472]), 'mean_score_time': array([0.03783607, 0.10782766, 0.14590565, 0.04293021, 0.06775816]), 'std_score_time': array([0.00290286, 0.00826791, 0.00642513, 0.00627933, 0.02299497]), 'param_subsample': masked_array(data=[1.0, 0.6, 0.8, 1.0, 0.8],\n",
            "             mask=[False, False, False, False, False],\n",
            "       fill_value='?',\n",
            "            dtype=object), 'param_min_child_weight': masked_array(data=[5, 1, 5, 5, 1],\n",
            "             mask=[False, False, False, False, False],\n",
            "       fill_value='?',\n",
            "            dtype=object), 'param_max_depth': masked_array(data=[3, 5, 5, 5, 4],\n",
            "             mask=[False, False, False, False, False],\n",
            "       fill_value='?',\n",
            "            dtype=object), 'param_gamma': masked_array(data=[5, 1.5, 1, 5, 1],\n",
            "             mask=[False, False, False, False, False],\n",
            "       fill_value='?',\n",
            "            dtype=object), 'param_colsample_bytree': masked_array(data=[1.0, 0.8, 0.8, 0.6, 1.0],\n",
            "             mask=[False, False, False, False, False],\n",
            "       fill_value='?',\n",
            "            dtype=object), 'params': [{'subsample': 1.0, 'min_child_weight': 5, 'max_depth': 3, 'gamma': 5, 'colsample_bytree': 1.0}, {'subsample': 0.6, 'min_child_weight': 1, 'max_depth': 5, 'gamma': 1.5, 'colsample_bytree': 0.8}, {'subsample': 0.8, 'min_child_weight': 5, 'max_depth': 5, 'gamma': 1, 'colsample_bytree': 0.8}, {'subsample': 1.0, 'min_child_weight': 5, 'max_depth': 5, 'gamma': 5, 'colsample_bytree': 0.6}, {'subsample': 0.8, 'min_child_weight': 1, 'max_depth': 4, 'gamma': 1, 'colsample_bytree': 1.0}], 'split0_test_score': array([-0.40830301, -0.38874998, -0.38659729, -0.40515152, -0.38925982]), 'split1_test_score': array([-0.41760855, -0.40644937, -0.40375263, -0.41680714, -0.40526038]), 'split2_test_score': array([-0.4129955 , -0.39831794, -0.39696497, -0.41045787, -0.39802094]), 'mean_test_score': array([-0.41296902, -0.3978391 , -0.39577163, -0.41080551, -0.39751371]), 'std_test_score': array([0.00379902, 0.00723368, 0.00705429, 0.00476473, 0.00654204]), 'rank_test_score': array([5, 3, 1, 4, 2], dtype=int32)}\n",
            "\n",
            " Best estimator:\n",
            "XGBRegressor(base_score=0.5, booster='gbtree', colsample_bylevel=1,\n",
            "             colsample_bynode=1, colsample_bytree=0.8, gamma=1,\n",
            "             importance_type='gain', learning_rate=0.05, max_delta_step=0,\n",
            "             max_depth=5, min_child_weight=5, missing=None, n_estimators=500,\n",
            "             n_jobs=1, nthread=None, objective='reg:squarederror',\n",
            "             random_state=0, reg_alpha=0, reg_lambda=1, scale_pos_weight=1,\n",
            "             seed=None, silent=None, subsample=0.8, verbosity=1)\n",
            "\n",
            " Best   3-fold search with 5 parameter combinations:\n",
            "-0.39577163029660767\n",
            "\n",
            " Best hyperparameters:\n",
            "{'subsample': 0.8, 'min_child_weight': 5, 'max_depth': 5, 'gamma': 1, 'colsample_bytree': 0.8}\n"
          ],
          "name": "stdout"
        }
      ]
    },
    {
      "cell_type": "code",
      "metadata": {
        "colab": {
          "base_uri": "https://localhost:8080/",
          "height": 17
        },
        "id": "Xzomfo1t1taM",
        "outputId": "380f6952-4a1b-4568-99d0-4b0941ee9885"
      },
      "source": [
        "dicAcumulaDfKaggle[modelo.nombre]=modelo.formarDfKaggle(prediccion)"
      ],
      "execution_count": 372,
      "outputs": [
        {
          "output_type": "display_data",
          "data": {
            "application/javascript": [
              "\n",
              "    async function download(id, filename, size) {\n",
              "      if (!google.colab.kernel.accessAllowed) {\n",
              "        return;\n",
              "      }\n",
              "      const div = document.createElement('div');\n",
              "      const label = document.createElement('label');\n",
              "      label.textContent = `Downloading \"${filename}\": `;\n",
              "      div.appendChild(label);\n",
              "      const progress = document.createElement('progress');\n",
              "      progress.max = size;\n",
              "      div.appendChild(progress);\n",
              "      document.body.appendChild(div);\n",
              "\n",
              "      const buffers = [];\n",
              "      let downloaded = 0;\n",
              "\n",
              "      const channel = await google.colab.kernel.comms.open(id);\n",
              "      // Send a message to notify the kernel that we're ready.\n",
              "      channel.send({})\n",
              "\n",
              "      for await (const message of channel.messages) {\n",
              "        // Send a message to notify the kernel that we're ready.\n",
              "        channel.send({})\n",
              "        if (message.buffers) {\n",
              "          for (const buffer of message.buffers) {\n",
              "            buffers.push(buffer);\n",
              "            downloaded += buffer.byteLength;\n",
              "            progress.value = downloaded;\n",
              "          }\n",
              "        }\n",
              "      }\n",
              "      const blob = new Blob(buffers, {type: 'application/binary'});\n",
              "      const a = document.createElement('a');\n",
              "      a.href = window.URL.createObjectURL(blob);\n",
              "      a.download = filename;\n",
              "      div.appendChild(a);\n",
              "      a.click();\n",
              "      div.remove();\n",
              "    }\n",
              "  "
            ],
            "text/plain": [
              "<IPython.core.display.Javascript object>"
            ]
          },
          "metadata": {
            "tags": []
          }
        },
        {
          "output_type": "display_data",
          "data": {
            "application/javascript": [
              "download(\"download_fc9d9c5e-5081-4a43-ac83-c1bd2a8fcfa2\", \"dfKaggle.csv\", 26104)"
            ],
            "text/plain": [
              "<IPython.core.display.Javascript object>"
            ]
          },
          "metadata": {
            "tags": []
          }
        }
      ]
    },
    {
      "cell_type": "markdown",
      "metadata": {
        "id": "bVN6w6AD8RNh"
      },
      "source": [
        "#ramdomoforestoptimo"
      ]
    },
    {
      "cell_type": "code",
      "metadata": {
        "id": "KYYP2GkJ8QWK"
      },
      "source": [
        ""
      ],
      "execution_count": 372,
      "outputs": []
    },
    {
      "cell_type": "code",
      "metadata": {
        "id": "14SmTusL8hrL"
      },
      "source": [
        "entrenamientoFeatures=dicAcumTrainAndTest.get('entrenamiento')"
      ],
      "execution_count": 373,
      "outputs": []
    },
    {
      "cell_type": "code",
      "metadata": {
        "id": "L_1fBBz88hrM"
      },
      "source": [
        "testFeatures=dicAcumTrainAndTest.get('test')"
      ],
      "execution_count": 374,
      "outputs": []
    },
    {
      "cell_type": "code",
      "metadata": {
        "colab": {
          "base_uri": "https://localhost:8080/"
        },
        "id": "J9v34v2e8hrN",
        "outputId": "1b85165f-9764-4920-cd1e-f02a1aea3f9f"
      },
      "source": [
        "modelo=modelos.get('RandomForestRegreOptimo')\n",
        "\n",
        "#cargamos el modelo \n",
        "modelo=modelo\n",
        "print(modelo.nombre)"
      ],
      "execution_count": 375,
      "outputs": [
        {
          "output_type": "stream",
          "text": [
            "RAMDOMOptimizado\n"
          ],
          "name": "stdout"
        }
      ]
    },
    {
      "cell_type": "code",
      "metadata": {
        "colab": {
          "base_uri": "https://localhost:8080/"
        },
        "id": "7ETtoSp68hrO",
        "outputId": "3dd54359-b9b6-48dc-9354-9b5d4c1b9eb3"
      },
      "source": [
        "X,Y=modelo.splitTrainTarget(entrenamientoFeatures)\n",
        "modelo.buscaMejorHiperparametroAndTrainModeloWithKfold(X,Y)\n",
        "prediccion=modelo.entrenarYPredecirWithTest(testFeatures) "
      ],
      "execution_count": 376,
      "outputs": [
        {
          "output_type": "stream",
          "text": [
            "las columnas del train son Index(['totalamount', 'totalTrf', 'meanTrf', 'cantTrf', 'cantProducFamilias',\n",
            "       'maxTrf', 'meanDisPlannedStarAndPlannedEnd', 'meanTrfporTotalTrf',\n",
            "       'cantProducFamiliasporTotalTrf', 'meanEncodingTerritory',\n",
            "       'meanEncodingRegion', 'meanEncodingDelivery_Terms', 'totalTrf_1',\n",
            "       'totalTrf_10', 'totalTrf_11', 'totalTrf_12', 'totalTrf_2', 'totalTrf_3',\n",
            "       'totalTrf_4', 'totalTrf_5', 'totalTrf_6', 'totalTrf_7', 'totalTrf_8',\n",
            "       'totalTrf_9'],\n",
            "      dtype='object') y del target son  Stage\n",
            "Fitting 3 folds for each of 5 candidates, totalling 15 fits\n"
          ],
          "name": "stdout"
        },
        {
          "output_type": "stream",
          "text": [
            "[Parallel(n_jobs=4)]: Using backend LokyBackend with 4 concurrent workers.\n",
            "[Parallel(n_jobs=4)]: Done  15 out of  15 | elapsed:   18.9s finished\n"
          ],
          "name": "stderr"
        },
        {
          "output_type": "stream",
          "text": [
            "\n",
            " Time taken: 0 hours 0 minutes and 28.41 seconds.\n",
            "\n",
            " All results:\n",
            "{'mean_fit_time': array([18.2193114 ,  0.57649255,  0.92674661,  0.53814848,  0.87893573]), 'std_fit_time': array([0.12327115, 0.10148576, 0.0972606 , 0.00467889, 0.01995728]), 'mean_score_time': array([0.62611159, 0.04378668, 0.04841638, 0.03185614, 0.04642089]), 'std_score_time': array([0.09834138, 0.0040175 , 0.00320854, 0.00339778, 0.00526073]), 'param_n_estimators': masked_array(data=[1000, 50, 50, 50, 50],\n",
            "             mask=[False, False, False, False, False],\n",
            "       fill_value='?',\n",
            "            dtype=object), 'param_min_samples_split': masked_array(data=[3, 4, 5, 5, 3],\n",
            "             mask=[False, False, False, False, False],\n",
            "       fill_value='?',\n",
            "            dtype=object), 'param_min_samples_leaf': masked_array(data=[2, 1, 2, 1, 1],\n",
            "             mask=[False, False, False, False, False],\n",
            "       fill_value='?',\n",
            "            dtype=object), 'param_max_features': masked_array(data=[10, 7, 7, 8, 7],\n",
            "             mask=[False, False, False, False, False],\n",
            "       fill_value='?',\n",
            "            dtype=object), 'param_max_depth': masked_array(data=[8, 5, 8, 3, 8],\n",
            "             mask=[False, False, False, False, False],\n",
            "       fill_value='?',\n",
            "            dtype=object), 'params': [{'n_estimators': 1000, 'min_samples_split': 3, 'min_samples_leaf': 2, 'max_features': 10, 'max_depth': 8}, {'n_estimators': 50, 'min_samples_split': 4, 'min_samples_leaf': 1, 'max_features': 7, 'max_depth': 5}, {'n_estimators': 50, 'min_samples_split': 5, 'min_samples_leaf': 2, 'max_features': 7, 'max_depth': 8}, {'n_estimators': 50, 'min_samples_split': 5, 'min_samples_leaf': 1, 'max_features': 8, 'max_depth': 3}, {'n_estimators': 50, 'min_samples_split': 3, 'min_samples_leaf': 1, 'max_features': 7, 'max_depth': 8}], 'split0_test_score': array([-0.38866465, -0.40625328, -0.3903029 , -0.4176784 , -0.3902506 ]), 'split1_test_score': array([-0.40362063, -0.41588779, -0.40515564, -0.42415077, -0.40466708]), 'split2_test_score': array([-0.39723372, -0.4113835 , -0.39934338, -0.4225551 , -0.39930685]), 'mean_test_score': array([-0.39650633, -0.41117486, -0.39826731, -0.42146142, -0.39807484]), 'std_test_score': array([0.00612738, 0.00393604, 0.00611116, 0.00275318, 0.00594963]), 'rank_test_score': array([1, 4, 3, 5, 2], dtype=int32)}\n",
            "\n",
            " Best estimator:\n",
            "RandomForestRegressor(bootstrap=True, ccp_alpha=0.0, criterion='mse',\n",
            "                      max_depth=8, max_features=10, max_leaf_nodes=None,\n",
            "                      max_samples=None, min_impurity_decrease=0.0,\n",
            "                      min_impurity_split=None, min_samples_leaf=2,\n",
            "                      min_samples_split=3, min_weight_fraction_leaf=0.0,\n",
            "                      n_estimators=1000, n_jobs=None, oob_score=False,\n",
            "                      random_state=1, verbose=0, warm_start=False)\n",
            "\n",
            " Best   3-fold search with 5 parameter combinations:\n",
            "-0.39650633251431283\n",
            "\n",
            " Best hyperparameters:\n",
            "{'n_estimators': 1000, 'min_samples_split': 3, 'min_samples_leaf': 2, 'max_features': 10, 'max_depth': 8}\n"
          ],
          "name": "stdout"
        }
      ]
    },
    {
      "cell_type": "code",
      "metadata": {
        "colab": {
          "base_uri": "https://localhost:8080/",
          "height": 17
        },
        "id": "CUi9PNN88hrP",
        "outputId": "7f0f8531-7d8f-47b0-b76a-15f8fd620cab"
      },
      "source": [
        "dicAcumulaDfKaggle[modelo.nombre]=modelo.formarDfKaggle(prediccion)"
      ],
      "execution_count": 377,
      "outputs": [
        {
          "output_type": "display_data",
          "data": {
            "application/javascript": [
              "\n",
              "    async function download(id, filename, size) {\n",
              "      if (!google.colab.kernel.accessAllowed) {\n",
              "        return;\n",
              "      }\n",
              "      const div = document.createElement('div');\n",
              "      const label = document.createElement('label');\n",
              "      label.textContent = `Downloading \"${filename}\": `;\n",
              "      div.appendChild(label);\n",
              "      const progress = document.createElement('progress');\n",
              "      progress.max = size;\n",
              "      div.appendChild(progress);\n",
              "      document.body.appendChild(div);\n",
              "\n",
              "      const buffers = [];\n",
              "      let downloaded = 0;\n",
              "\n",
              "      const channel = await google.colab.kernel.comms.open(id);\n",
              "      // Send a message to notify the kernel that we're ready.\n",
              "      channel.send({})\n",
              "\n",
              "      for await (const message of channel.messages) {\n",
              "        // Send a message to notify the kernel that we're ready.\n",
              "        channel.send({})\n",
              "        if (message.buffers) {\n",
              "          for (const buffer of message.buffers) {\n",
              "            buffers.push(buffer);\n",
              "            downloaded += buffer.byteLength;\n",
              "            progress.value = downloaded;\n",
              "          }\n",
              "        }\n",
              "      }\n",
              "      const blob = new Blob(buffers, {type: 'application/binary'});\n",
              "      const a = document.createElement('a');\n",
              "      a.href = window.URL.createObjectURL(blob);\n",
              "      a.download = filename;\n",
              "      div.appendChild(a);\n",
              "      a.click();\n",
              "      div.remove();\n",
              "    }\n",
              "  "
            ],
            "text/plain": [
              "<IPython.core.display.Javascript object>"
            ]
          },
          "metadata": {
            "tags": []
          }
        },
        {
          "output_type": "display_data",
          "data": {
            "application/javascript": [
              "download(\"download_98da37d2-8d06-430d-b2f8-0e9f7b711019\", \"dfKaggle.csv\", 39530)"
            ],
            "text/plain": [
              "<IPython.core.display.Javascript object>"
            ]
          },
          "metadata": {
            "tags": []
          }
        }
      ]
    },
    {
      "cell_type": "code",
      "metadata": {
        "colab": {
          "base_uri": "https://localhost:8080/",
          "height": 257
        },
        "id": "kn9XyYus-GxA",
        "outputId": "bfa93c53-fcd1-45ad-f31c-bab2f3561455"
      },
      "source": [
        "#vamos a ensamblar\n",
        "sumPrediction=0\n",
        "totalModelos=0\n",
        "for i in dicAcumulaDfKaggle:\n",
        "  totalModelos= totalModelos +1\n",
        "  sumPrediction =  sumPrediction+  dicAcumulaDfKaggle.get(i)['Target']\n",
        "\n",
        "print(totalModelos)\n",
        "print(sumPrediction)\n",
        "promedio=sumPrediction/totalModelos  \n",
        " \n",
        " \n",
        "#esta prediccion tiene error de aproximacion, por eso no subir este df al kaggle, ahora en la siguientes lineas lo arreglamo\n",
        "#eerror es que da mayor a 1 y vaces menor a 0 y la probabilida es entre 0 y 1\n",
        "prediccionFinal=modelo.formarDfKaggle( promedio )"
      ],
      "execution_count": 378,
      "outputs": [
        {
          "output_type": "stream",
          "text": [
            "2\n",
            "0       1.324333\n",
            "1       1.301657\n",
            "2       1.535569\n",
            "3       1.398481\n",
            "4       1.872951\n",
            "          ...   \n",
            "1562    1.555498\n",
            "1563    0.936946\n",
            "1564    0.497759\n",
            "1565    0.861729\n",
            "1566    0.119145\n",
            "Name: Target, Length: 1567, dtype: float64\n"
          ],
          "name": "stdout"
        },
        {
          "output_type": "display_data",
          "data": {
            "application/javascript": [
              "\n",
              "    async function download(id, filename, size) {\n",
              "      if (!google.colab.kernel.accessAllowed) {\n",
              "        return;\n",
              "      }\n",
              "      const div = document.createElement('div');\n",
              "      const label = document.createElement('label');\n",
              "      label.textContent = `Downloading \"${filename}\": `;\n",
              "      div.appendChild(label);\n",
              "      const progress = document.createElement('progress');\n",
              "      progress.max = size;\n",
              "      div.appendChild(progress);\n",
              "      document.body.appendChild(div);\n",
              "\n",
              "      const buffers = [];\n",
              "      let downloaded = 0;\n",
              "\n",
              "      const channel = await google.colab.kernel.comms.open(id);\n",
              "      // Send a message to notify the kernel that we're ready.\n",
              "      channel.send({})\n",
              "\n",
              "      for await (const message of channel.messages) {\n",
              "        // Send a message to notify the kernel that we're ready.\n",
              "        channel.send({})\n",
              "        if (message.buffers) {\n",
              "          for (const buffer of message.buffers) {\n",
              "            buffers.push(buffer);\n",
              "            downloaded += buffer.byteLength;\n",
              "            progress.value = downloaded;\n",
              "          }\n",
              "        }\n",
              "      }\n",
              "      const blob = new Blob(buffers, {type: 'application/binary'});\n",
              "      const a = document.createElement('a');\n",
              "      a.href = window.URL.createObjectURL(blob);\n",
              "      a.download = filename;\n",
              "      div.appendChild(a);\n",
              "      a.click();\n",
              "      div.remove();\n",
              "    }\n",
              "  "
            ],
            "text/plain": [
              "<IPython.core.display.Javascript object>"
            ]
          },
          "metadata": {
            "tags": []
          }
        },
        {
          "output_type": "display_data",
          "data": {
            "application/javascript": [
              "download(\"download_882a1f1a-ae86-439d-b614-867834472be8\", \"dfKaggle.csv\", 39590)"
            ],
            "text/plain": [
              "<IPython.core.display.Javascript object>"
            ]
          },
          "metadata": {
            "tags": []
          }
        }
      ]
    },
    {
      "cell_type": "code",
      "metadata": {
        "id": "Y-o0jSokIC3n"
      },
      "source": [
        "#aca arreglamos el error\n",
        "prediccionFinal['Target'] = (\n",
        "    np.select(\n",
        "        condlist=[prediccionFinal['Target'] > 1, prediccionFinal['Target'] < 0], \n",
        "        choicelist=[1, 0],\n",
        "        default=prediccionFinal['Target'] ))\n",
        "         "
      ],
      "execution_count": 379,
      "outputs": []
    },
    {
      "cell_type": "code",
      "metadata": {
        "colab": {
          "base_uri": "https://localhost:8080/",
          "height": 17
        },
        "id": "Jw4Id-LmPq8d",
        "outputId": "493654df-183c-423a-a5a7-88b7010d738b"
      },
      "source": [
        "#ahora si formamos el df a kaggle final\n",
        "prediccionFinal=modelo.formarDfKaggle( prediccionFinal['Target'] )"
      ],
      "execution_count": 381,
      "outputs": [
        {
          "output_type": "display_data",
          "data": {
            "application/javascript": [
              "\n",
              "    async function download(id, filename, size) {\n",
              "      if (!google.colab.kernel.accessAllowed) {\n",
              "        return;\n",
              "      }\n",
              "      const div = document.createElement('div');\n",
              "      const label = document.createElement('label');\n",
              "      label.textContent = `Downloading \"${filename}\": `;\n",
              "      div.appendChild(label);\n",
              "      const progress = document.createElement('progress');\n",
              "      progress.max = size;\n",
              "      div.appendChild(progress);\n",
              "      document.body.appendChild(div);\n",
              "\n",
              "      const buffers = [];\n",
              "      let downloaded = 0;\n",
              "\n",
              "      const channel = await google.colab.kernel.comms.open(id);\n",
              "      // Send a message to notify the kernel that we're ready.\n",
              "      channel.send({})\n",
              "\n",
              "      for await (const message of channel.messages) {\n",
              "        // Send a message to notify the kernel that we're ready.\n",
              "        channel.send({})\n",
              "        if (message.buffers) {\n",
              "          for (const buffer of message.buffers) {\n",
              "            buffers.push(buffer);\n",
              "            downloaded += buffer.byteLength;\n",
              "            progress.value = downloaded;\n",
              "          }\n",
              "        }\n",
              "      }\n",
              "      const blob = new Blob(buffers, {type: 'application/binary'});\n",
              "      const a = document.createElement('a');\n",
              "      a.href = window.URL.createObjectURL(blob);\n",
              "      a.download = filename;\n",
              "      div.appendChild(a);\n",
              "      a.click();\n",
              "      div.remove();\n",
              "    }\n",
              "  "
            ],
            "text/plain": [
              "<IPython.core.display.Javascript object>"
            ]
          },
          "metadata": {
            "tags": []
          }
        },
        {
          "output_type": "display_data",
          "data": {
            "application/javascript": [
              "download(\"download_534d699c-7f4f-480c-949b-527070369d53\", \"dfKaggle.csv\", 39251)"
            ],
            "text/plain": [
              "<IPython.core.display.Javascript object>"
            ]
          },
          "metadata": {
            "tags": []
          }
        }
      ]
    }
  ]
}