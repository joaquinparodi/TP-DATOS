{
  "nbformat": 4,
  "nbformat_minor": 0,
  "metadata": {
    "colab": {
      "name": "tp2_orga_full.ipynb",
      "provenance": [],
      "collapsed_sections": [],
      "include_colab_link": true
    },
    "kernelspec": {
      "name": "python3",
      "display_name": "Python 3"
    }
  },
  "cells": [
    {
      "cell_type": "markdown",
      "metadata": {
        "id": "view-in-github",
        "colab_type": "text"
      },
      "source": [
        "<a href=\"https://colab.research.google.com/github/joaquinparodi/TP1-DATOS/blob/main/tp2_orga_full_team_ultmate_version.ipynb\" target=\"_parent\"><img src=\"https://colab.research.google.com/assets/colab-badge.svg\" alt=\"Open In Colab\"/></a>"
      ]
    },
    {
      "cell_type": "code",
      "metadata": {
        "id": "BTDqJL94FYGe",
        "colab": {
          "base_uri": "https://localhost:8080/"
        },
        "outputId": "972e8d79-7e13-49f6-ae28-77b429c29688"
      },
      "source": [
        "# importacion general de librerias y de visualizacion (matplotlib y seaborn)\n",
        "!pip install ptitprince\n",
        "import ptitprince as pt\n",
        "import pandas as pd\n",
        "import numpy as np\n"
      ],
      "execution_count": 1,
      "outputs": [
        {
          "output_type": "stream",
          "text": [
            "Collecting ptitprince\n",
            "  Downloading https://files.pythonhosted.org/packages/4a/da/b7032999bc29a3974ac9c7939d56a669335966d8820356a723be978697fb/ptitprince-0.2.5.tar.gz\n",
            "Requirement already satisfied: seaborn>=0.10 in /usr/local/lib/python3.7/dist-packages (from ptitprince) (0.11.1)\n",
            "Requirement already satisfied: matplotlib in /usr/local/lib/python3.7/dist-packages (from ptitprince) (3.2.2)\n",
            "Requirement already satisfied: numpy>=1.13 in /usr/local/lib/python3.7/dist-packages (from ptitprince) (1.19.5)\n",
            "Requirement already satisfied: scipy in /usr/local/lib/python3.7/dist-packages (from ptitprince) (1.4.1)\n",
            "Collecting PyHamcrest>=1.9.0\n",
            "\u001b[?25l  Downloading https://files.pythonhosted.org/packages/40/16/e54cc65891f01cb62893540f44ffd3e8dab0a22443e1b438f1a9f5574bee/PyHamcrest-2.0.2-py3-none-any.whl (52kB)\n",
            "\u001b[K     |████████████████████████████████| 61kB 5.8MB/s \n",
            "\u001b[?25hRequirement already satisfied: cython in /usr/local/lib/python3.7/dist-packages (from ptitprince) (0.29.22)\n",
            "Requirement already satisfied: pandas>=0.23 in /usr/local/lib/python3.7/dist-packages (from seaborn>=0.10->ptitprince) (1.1.5)\n",
            "Requirement already satisfied: pyparsing!=2.0.4,!=2.1.2,!=2.1.6,>=2.0.1 in /usr/local/lib/python3.7/dist-packages (from matplotlib->ptitprince) (2.4.7)\n",
            "Requirement already satisfied: python-dateutil>=2.1 in /usr/local/lib/python3.7/dist-packages (from matplotlib->ptitprince) (2.8.1)\n",
            "Requirement already satisfied: cycler>=0.10 in /usr/local/lib/python3.7/dist-packages (from matplotlib->ptitprince) (0.10.0)\n",
            "Requirement already satisfied: kiwisolver>=1.0.1 in /usr/local/lib/python3.7/dist-packages (from matplotlib->ptitprince) (1.3.1)\n",
            "Requirement already satisfied: pytz>=2017.2 in /usr/local/lib/python3.7/dist-packages (from pandas>=0.23->seaborn>=0.10->ptitprince) (2018.9)\n",
            "Requirement already satisfied: six>=1.5 in /usr/local/lib/python3.7/dist-packages (from python-dateutil>=2.1->matplotlib->ptitprince) (1.15.0)\n",
            "Building wheels for collected packages: ptitprince\n",
            "  Building wheel for ptitprince (setup.py) ... \u001b[?25l\u001b[?25hdone\n",
            "  Created wheel for ptitprince: filename=ptitprince-0.2.5-cp37-none-any.whl size=8429 sha256=2c5ddd2d3ca41df12aaac2f4df81a5fa3ec3111f967a9a7e76994fb2a7f05d9f\n",
            "  Stored in directory: /root/.cache/pip/wheels/fb/c1/75/2ef8da161053bdf8e03f9a360f426accd4fac1ddf7f6ed0029\n",
            "Successfully built ptitprince\n",
            "Installing collected packages: PyHamcrest, ptitprince\n",
            "Successfully installed PyHamcrest-2.0.2 ptitprince-0.2.5\n"
          ],
          "name": "stdout"
        }
      ]
    },
    {
      "cell_type": "code",
      "metadata": {
        "id": "wtgYMgn_kuPz"
      },
      "source": [
        "import matplotlib.pylab as plt\n",
        "import seaborn as sns"
      ],
      "execution_count": 2,
      "outputs": []
    },
    {
      "cell_type": "code",
      "metadata": {
        "id": "_YKmqeTbfXHV"
      },
      "source": [
        "\n",
        "from datetime import datetime\n",
        "#para buscar los mejores hiperarametros\n",
        "from sklearn.model_selection import RandomizedSearchCV, GridSearchCV\n",
        " \n",
        "#con esto se hace kflod\n",
        "from sklearn.model_selection import StratifiedKFold"
      ],
      "execution_count": 3,
      "outputs": []
    },
    {
      "cell_type": "code",
      "metadata": {
        "id": "ycF5SnjfGj4I"
      },
      "source": [
        "from pydrive.auth import GoogleAuth\n",
        "from pydrive.drive import GoogleDrive\n",
        "from google.colab import auth\n",
        "from oauth2client.client import GoogleCredentials"
      ],
      "execution_count": 4,
      "outputs": []
    },
    {
      "cell_type": "code",
      "metadata": {
        "id": "QJbV2lDrGj-b"
      },
      "source": [
        "auth.authenticate_user()\n",
        "gauth = GoogleAuth()\n",
        "gauth.credentials = GoogleCredentials.get_application_default()\n",
        "drive = GoogleDrive(gauth)"
      ],
      "execution_count": 5,
      "outputs": []
    },
    {
      "cell_type": "code",
      "metadata": {
        "id": "67yYcLf_GyAO"
      },
      "source": [
        " \n",
        "id='1MfnxlPGSmr-i1up_2iKCkrBIMcDHomnK'\n",
        "downloaded = drive.CreateFile({'id': id})\n",
        "downloaded.GetContentFile('data.csv')"
      ],
      "execution_count": 6,
      "outputs": []
    },
    {
      "cell_type": "code",
      "metadata": {
        "id": "mWdphOAZwRLl"
      },
      "source": [
        "id='1kZt5ZN2eAyeNEIWLh6lGckgyDIxpHN4f'\r\n",
        "downloaded = drive.CreateFile({'id': id})\r\n",
        "downloaded.GetContentFile('test.csv')"
      ],
      "execution_count": 7,
      "outputs": []
    },
    {
      "cell_type": "code",
      "metadata": {
        "id": "Ia9MlRRywaD7"
      },
      "source": [
        "test=pd.read_csv('test.csv')"
      ],
      "execution_count": 8,
      "outputs": []
    },
    {
      "cell_type": "code",
      "metadata": {
        "id": "ExeDqCt3m4oE"
      },
      "source": [
        ""
      ],
      "execution_count": 8,
      "outputs": []
    },
    {
      "cell_type": "code",
      "metadata": {
        "id": "pFeCl82j8PtJ"
      },
      "source": [
        "import xgboost as xgb\r\n",
        "from sklearn.ensemble import RandomForestRegressor\r\n",
        "from sklearn.metrics import mean_squared_error\r\n",
        "from sklearn.neural_network import MLPRegressor\r\n",
        "from sklearn.datasets import make_regression\r\n",
        "from sklearn.model_selection import train_test_split\r\n",
        "from sklearn.preprocessing import Normalizer\r\n",
        "import pandas as pd\r\n",
        "import numpy as np\r\n",
        "import lightgbm as lgb\r\n",
        "%matplotlib inline\r\n",
        "import matplotlib.pyplot as plt\r\n",
        "from sklearn import tree"
      ],
      "execution_count": 9,
      "outputs": []
    },
    {
      "cell_type": "code",
      "metadata": {
        "id": "-ARI9_xsfmdX"
      },
      "source": [
        ""
      ],
      "execution_count": 531,
      "outputs": []
    },
    {
      "cell_type": "code",
      "metadata": {
        "id": "t4FMRGC3fv46"
      },
      "source": [
        "def timer(start_time=None):\n",
        "    if not start_time:\n",
        "        start_time = datetime.now()\n",
        "        return start_time\n",
        "    elif start_time:\n",
        "        thour, temp_sec = divmod((datetime.now() - start_time).total_seconds(), 3600)\n",
        "        tmin, tsec = divmod(temp_sec, 60)\n",
        "        print('\\n Time taken: %i hours %i minutes and %s seconds.' % (thour, tmin, round(tsec, 2)))\n"
      ],
      "execution_count": 532,
      "outputs": []
    },
    {
      "cell_type": "code",
      "metadata": {
        "id": "1Yavyvd9gEkE"
      },
      "source": [
        "\n",
        "\n"
      ],
      "execution_count": 532,
      "outputs": []
    },
    {
      "cell_type": "code",
      "metadata": {
        "id": "xN_pcwD4gI3o"
      },
      "source": [
        "#y_test = random_search.predict_proba(test)\n",
        "#results_df = pd.DataFrame(data={'id':test_df['id'], 'target':y_test[:,1]})\n",
        "#results_df.to_csv('submission-random-grid-search-xgb-porto-01.csv', index=False)\n"
      ],
      "execution_count": 533,
      "outputs": []
    },
    {
      "cell_type": "code",
      "metadata": {
        "id": "jEdxztOrd4Ge"
      },
      "source": [
        "class Modelo():\r\n",
        "  def __init__(self ):\r\n",
        "    pass\r\n",
        "\r\n",
        "\r\n",
        "\r\n",
        "  def splitTrainTarget(self,entrenamientoFeatureTarget):\r\n",
        "    #separo  mi dataframe en X= feature engineri e y= target\r\n",
        "    target='Stage'\r\n",
        "    listColumns=entrenamientoFeatureTarget.columns.to_list()\r\n",
        "    listColumns.remove('Stage')\r\n",
        "    listColumns.remove('Opportunity_ID')\r\n",
        "    listColumns\r\n",
        "    X,y=entrenamientoFeatureTarget[listColumns], entrenamientoFeatureTarget[target]\r\n",
        "    print(\"las columnas del train son {} y del target son  {}\".format(X.columns , y.name ))\r\n",
        "    return X,y\r\n",
        "\r\n",
        "  def SplitTrainTest(self,X,y):\r\n",
        "    from sklearn.model_selection import train_test_split\r\n",
        "\r\n",
        "    X_train, X_test, y_train, y_test = \\\r\n",
        "    train_test_split(X, y, test_size=0.3, random_state=123 )\r\n",
        "\r\n",
        "    return X_train, X_test, y_train, y_test\r\n",
        "\r\n",
        "\r\n",
        "  def entrenarYPredecirMismoSetEntrenamiento(self,X_train,y_train,X_test): \r\n",
        "    self.modelo.fit(X_train, y_train)\r\n",
        "    preds =  self.modelo.predict(X_test)\r\n",
        "    return preds\r\n",
        "\r\n",
        "  def errorSetEntrenamiento( self,X_train,y_train,X_test,y_test):\r\n",
        "     preds= self.entrenarYPredecirMismoSetEntrenamiento( X_train,y_train,X_test)\r\n",
        "     rmse = np.sqrt(mean_squared_error(y_test, preds))\r\n",
        "     print(\"RMSE: %f\" % (rmse)) \r\n",
        "\r\n",
        "\r\n",
        "\r\n",
        "  def entrenarYPredecirWithTest(self,X_train,y_train,dfFeaturestest):\r\n",
        "    \r\n",
        "    \r\n",
        "    dfFeaturestest=dfFeaturestest[X_train.columns.to_list()]\r\n",
        "    self.modelo.fit(X_train, y_train)\r\n",
        "    preds =  self.modelo.predict(dfFeaturestest)\r\n",
        "    return preds  \r\n",
        "\r\n",
        "  \r\n",
        "\r\n",
        "  def agregarTargetDfOriginal(self,entrenamiento,df):\r\n",
        "    #df es un dataframe ya agregado con features nuevos\r\n",
        "    #entrenamiento es el dataframe orginal sin procesar\r\n",
        "    target=entrenamiento[(entrenamiento['Stage']=='Closed Lost') | (entrenamiento['Stage']=='Closed Won')]\r\n",
        "    target=target[['Opportunity_ID','Stage']].groupby(['Opportunity_ID','Stage']).agg(total=('Stage','count')).reset_index()[['Opportunity_ID','Stage']]\r\n",
        "      \r\n",
        "    entrenamiento=pd.merge(df,target,on=\"Opportunity_ID\",how=\"inner\") \r\n",
        "    df=entrenamiento.replace(\"Closed Lost\", \"0\")\r\n",
        "    df=df.replace(\"Closed Won\", \"1\")\r\n",
        "  \r\n",
        "    return df\r\n",
        "\r\n",
        "  #feature engnerie\r\n",
        "  def featureEngeenier(self,df):\r\n",
        "    \"obsevar que df es el test original\"\r\n",
        "    #agregamos fecha \r\n",
        "    df['Month']=pd.to_datetime(df['Month'])\r\n",
        "    df['anio']=df['Month'].dt.year\r\n",
        "    df['mes']=df['Month'].dt.month\r\n",
        "    #agregamos columna totalamount\r\n",
        "    totalAmount=df.groupby(['Opportunity_ID' ]).agg(totalamount=('Total_Amount','sum'))\r\n",
        "    #agregamos total trf\r\n",
        "    totalTrf=df.groupby(['Opportunity_ID' ]).agg(totalTrf=('TRF','sum'))\r\n",
        "    #cantidad total de trf\r\n",
        "    cantTrf=df.groupby(['Opportunity_ID' ]).agg(cantTrf=('TRF','count'))\r\n",
        "    #agregamos mean trf\r\n",
        "    meanTrf=df.groupby(['Opportunity_ID' ]).agg(meanTrf=('TRF','mean'))\r\n",
        "    #agreamos el cantproductfamilia\r\n",
        "    cantProducFamilias=df[['Opportunity_ID','Product_Family']].groupby(['Opportunity_ID']).agg(cantProducFamilias=('Product_Family','count')) \r\n",
        "    #agregamos max trf\r\n",
        "    maxTrf=df.groupby(['Opportunity_ID' ]).agg(maxTrf=('TRF','max'))\r\n",
        "    #agreamos promedio entre distancia entre planned estar and planned end\r\n",
        "    df['Planned_Delivery_Start_Date'] =pd.to_datetime(df['Planned_Delivery_Start_Date'])\r\n",
        "    df['Planned_Delivery_End_Date'] =pd.to_datetime(df['Planned_Delivery_End_Date'])\r\n",
        "    df['disPlannedStarAndPlannedEnd']=df[ 'Planned_Delivery_End_Date' ]-  df[ 'Planned_Delivery_Start_Date' ]\r\n",
        "    df['disPlannedStarAndPlannedEnd']=df['disPlannedStarAndPlannedEnd'].dt.total_seconds().fillna(0)\r\n",
        "\r\n",
        "    meanDisPlannedStarAndPlannedEnd=df.groupby('Opportunity_ID').agg(meanDisPlannedStarAndPlannedEnd=('disPlannedStarAndPlannedEnd','mean'))\r\n",
        "\r\n",
        "    #cantidad de familiads de producto por dia de la semana que tiene cada idoprutnity\r\n",
        "    df['Day'] = pd.DatetimeIndex(df['Month']).day_name() # week day name\r\n",
        "    counta=df.groupby(['Opportunity_ID','Day','Product_Family']).agg(cantidadProductFamilyByDayOfWeek=('Product_Family','count'))\r\n",
        "    cantidadProductFamilyByDay=counta.groupby(['Opportunity_ID','Day']).agg(cantidadProductFamilyBy=('cantidadProductFamilyByDayOfWeek','sum')).unstack().fillna(0)\r\n",
        "    level0=cantidadProductFamilyByDay.columns.get_level_values(0)\r\n",
        "    level1=cantidadProductFamilyByDay.columns.get_level_values(1)\r\n",
        "    cantidadProductFamilyByDay.columns = level0 + '' +  level1\r\n",
        "\r\n",
        "    dfFeatureNew=pd.merge(totalAmount,totalTrf,on=\"Opportunity_ID\",how=\"inner\") \r\n",
        "    dfFeatureNew1=pd.merge(dfFeatureNew,meanTrf,on=\"Opportunity_ID\",how=\"inner\") \r\n",
        "    dfFeatureNew2=pd.merge(dfFeatureNew1,cantTrf,on=\"Opportunity_ID\",how=\"inner\") \r\n",
        "    dfFeatureNew2=pd.merge(dfFeatureNew2,maxTrf,on=\"Opportunity_ID\",how=\"inner\") \r\n",
        "    dfFeatureNew3=pd.merge(dfFeatureNew2,cantProducFamilias,on=\"Opportunity_ID\",how=\"inner\") \r\n",
        "    dfFeatureNew3=pd.merge(dfFeatureNew3,meanDisPlannedStarAndPlannedEnd,on=\"Opportunity_ID\",how=\"inner\")\r\n",
        "    dfFeatureNew3=pd.merge(dfFeatureNew3,cantidadProductFamilyByDay,on=\"Opportunity_ID\",how=\"inner\").reset_index()\r\n",
        "    \r\n",
        "    df=dfFeatureNew3[['Opportunity_ID','totalamount','totalTrf','meanTrf','cantTrf','cantProducFamilias','maxTrf','meanDisPlannedStarAndPlannedEnd' ]]\r\n",
        "\r\n",
        "\r\n",
        "    #agregamos productos\r\n",
        "\r\n",
        "    df['meanTrfporTotalTrf']=df['meanTrf']*df['totalTrf']\r\n",
        "    df['cantProducFamiliasporTotalTrf']=df['cantProducFamilias']*df['totalTrf']\r\n",
        "    \r\n",
        "    return df\r\n",
        "\r\n",
        "\r\n",
        "  def formarDfKaggle(self ,preds ):\r\n",
        "    test=pd.read_csv('test.csv')\r\n",
        "    testAux2=test.groupby(['Opportunity_ID','Territory' ]).agg(cant=('Opportunity_ID','count')).reset_index()[['Opportunity_ID' ]]\r\n",
        " \r\n",
        "    dfkaggle = pd.DataFrame( preds)\r\n",
        "    dfkaggle['Opportunity_ID']=testAux2['Opportunity_ID']\r\n",
        "    dfkaggle.columns=['Target','Opportunity_ID']\r\n",
        "    dfkaggle=dfkaggle[['Opportunity_ID','Target']]\r\n",
        "    \r\n",
        "    from google.colab import files\r\n",
        "    dfkaggle.to_csv('dfKaggle.csv', index=False) \r\n",
        "    files.download('dfKaggle.csv')\r\n",
        "    return dfkaggle\r\n",
        "\r\n",
        "  def featureImportancia(self,X_train):\r\n",
        "    # Gini importance\r\n",
        "    self.modelo.feature_importances_\r\n",
        "    # get importance\r\n",
        "    # summarize feature importance\r\n",
        "     \r\n",
        "    for i,v in enumerate(self.modelo.feature_importances_):\r\n",
        "      print('Feature: %0d, Score: %.5f' % (i,v))\r\n",
        "      print(X_train.columns.to_list()[i])\r\n",
        "    plt.bar(X_train.columns , self.modelo.feature_importances_)\r\n",
        "    plt.xlabel('Features')\r\n",
        "    plt.ylabel('Importancia')\r\n",
        "    plt.title('Importancia Features con RF')\r\n",
        "    plt.show()\r\n"
      ],
      "execution_count": 534,
      "outputs": []
    },
    {
      "cell_type": "code",
      "metadata": {
        "id": "OxQYQZGnVDjg"
      },
      "source": [
        "class RandomForestRegre(Modelo):\r\n",
        "  def __init__(self,hiperparametros):\r\n",
        "    super().__init__()\r\n",
        "    self.modelo= RandomForestRegressor(random_state=1,n_estimators=2000,max_depth = 9)\r\n",
        "    self.nombre='RAMDOM'\r\n",
        "\r\n",
        "\r\n",
        "class xgbosst(Modelo):\r\n",
        "  def __init__(self,hiperparametros):\r\n",
        "    super().__init__()\r\n",
        "    self.modelo= xgb.XGBRegressor(objective ='reg:squarederror', \r\n",
        "                colsample_bytree = 0.3, learning_rate = 0.05,\r\n",
        "                max_depth = 2, alpha = 10, n_estimators = 300)\r\n",
        "    self.nombre='XGBOOST'\r\n",
        "\r\n",
        "\r\n",
        "  # este polimorfismo es porque pedia el xgboost que y_train sea de tipo int\r\n",
        "  def entrenarYPredecirMismoSetEntrenamiento(self,X_train,y_train,X_test): \r\n",
        "    self.modelo.fit(X_train, y_train.astype(int))\r\n",
        "    preds =  self.modelo.predict(X_test)\r\n",
        "     \r\n",
        "    return preds\r\n",
        "\r\n",
        "  def errorSetEntrenamiento( self,X_train,y_train,X_test,y_test):\r\n",
        "    #aca la diferencia es que ytrain debe ser entero\r\n",
        "     \r\n",
        "    preds= self.entrenarYPredecirMismoSetEntrenamiento( X_train,y_train,X_test)\r\n",
        "    rmse = np.sqrt(mean_squared_error(y_test, preds))\r\n",
        "    print(\"RMSE: %f\" % (rmse))\r\n",
        "\r\n",
        "  def entrenarYPredecirWithTest(self,X_train,y_train,dfFeaturestest):\r\n",
        "     \r\n",
        "    dfFeaturestest=dfFeaturestest[X_train.columns.to_list()]\r\n",
        "    self.modelo.fit(X_train, y_train.astype(int))\r\n",
        "    preds =  self.modelo.predict(dfFeaturestest)\r\n",
        "    return preds  \r\n",
        "\r\n",
        "   \r\n",
        "\r\n",
        "\r\n",
        "class xgbosstOptimizado(Modelo):\r\n",
        "  def __init__(self,hiperparametros):\r\n",
        "    super().__init__()\r\n",
        "    self.modelo= xgb.XGBRegressor(objective ='reg:squarederror', \r\n",
        "                 learning_rate = 0.05,\r\n",
        "                  n_estimators = 500)\r\n",
        "    self.nombre='XGBOOSTopti'\r\n",
        "    self.columnas_X_train=0\r\n",
        "\r\n",
        "   \r\n",
        "\r\n",
        "  def entrenarYPredecirWithTest(self,dfFeaturestest,modelo):\r\n",
        "     \r\n",
        "    dfFeaturestest=dfFeaturestest[self.columnas_X_train]\r\n",
        "    \r\n",
        "    preds =  modelo.predict(dfFeaturestest)\r\n",
        "    return preds \r\n",
        "\r\n",
        "  def buscaMejorHiperparametroAndTrainModeloWithKfold(self,X,Y):\r\n",
        "    #esto devuelve un modelo ya entrenado.\r\n",
        "    #X es el train\r\n",
        "    #Y es la validacion\r\n",
        "    self.columnas_X_train = X.columns.to_list()\r\n",
        "     \r\n",
        "    # A parameter grid for XGBoost\r\n",
        "    params = {\r\n",
        "            'min_child_weight': [1, 5, 10],\r\n",
        "            'gamma': [0.5, 1, 1.5, 2, 5],\r\n",
        "            'subsample': [0.6, 0.8, 1.0],\r\n",
        "            'colsample_bytree': [0.6, 0.8, 1.0],\r\n",
        "            'max_depth': [3, 4, 5]\r\n",
        "            }\r\n",
        "\r\n",
        "\r\n",
        "    #https://scikit-learn.org/stable/modules/model_evaluation.html#scoring-parameter\r\n",
        "    folds = 3\r\n",
        "    param_comb = 5\r\n",
        "    #seteo cuantos folds va a tener el set entrendamiento (x_train y su x_validadcion, sus slpit al azar seteado por random_state)\r\n",
        "    skf = StratifiedKFold(n_splits=folds, shuffle = True, random_state = 1001)\r\n",
        "\r\n",
        "\r\n",
        "    #aca las combinaciones de los hiperametros. para buscar el mejor\r\n",
        "    #seteo el skf\r\n",
        "    random_search = RandomizedSearchCV(self.modelo, param_distributions=params, n_iter=param_comb, scoring='neg_root_mean_squared_error', n_jobs=4, cv=skf.split(X,Y), verbose=3, random_state=1001 )\r\n",
        "\r\n",
        "    # Here we go\r\n",
        "    start_time = timer(None) # timing starts from this point for \"start_time\" variable\r\n",
        "    #entreno y busco los mejores hiperparametros\r\n",
        "    random_search.fit(X, Y)\r\n",
        "    timer(start_time) # timing ends here for \"start_time\" variable\r\n",
        "\r\n",
        "\r\n",
        "\r\n",
        "    print('\\n All results:')\r\n",
        "    print(random_search.cv_results_)\r\n",
        "    print('\\n Best estimator:')\r\n",
        "    print(random_search.best_estimator_)\r\n",
        "    print('\\n Best   %d-fold search with %d parameter combinations:' % (folds, param_comb))\r\n",
        "    print(random_search.best_score_  )\r\n",
        "    print('\\n Best hyperparameters:')\r\n",
        "    print(random_search.best_params_)\r\n",
        "    results = pd.DataFrame(random_search.cv_results_)\r\n",
        "    results.to_csv('xgb-random-grid-search-results-01.csv', index=False) \r\n",
        "\r\n",
        "    #ahora el modelo que se va usar para predecir es el random_search , ya q tiene los mejores hiperparametros\r\n",
        "    random_search\r\n",
        "\r\n",
        "    return  random_search\r\n",
        "\r\n",
        "    \r\n",
        "\r\n",
        "class RandomForestRegreOptimizado(Modelo):\r\n",
        "  def __init__(self,hiperparametros):\r\n",
        "    super().__init__()\r\n",
        "    self.modelo= RandomForestRegressor(random_state=101 )\r\n",
        "    self.nombre='RAMDOMOptimizado'\r\n",
        "    self.columnas_X_train=0\r\n",
        "\r\n",
        "    \r\n",
        "\r\n",
        "\r\n",
        "  def entrenarYPredecirWithTest(self,dfFeaturestest,modelo):\r\n",
        "     \r\n",
        "    dfFeaturestest=dfFeaturestest[self.columnas_X_train]\r\n",
        "    \r\n",
        "    preds =  modelo.predict(dfFeaturestest)\r\n",
        "    return preds \r\n",
        "\r\n",
        "  def buscaMejorHiperparametroAndTrainModeloWithKfold(self,X,Y):\r\n",
        "      #esto devuelve un modelo ya entrenado.\r\n",
        "      #X es el train\r\n",
        "      #Y es la validacion\r\n",
        "      \r\n",
        "      self.columnas_X_train = X.columns.to_list()\r\n",
        "      # A parameter grid for XGBoost\r\n",
        "      params = {\r\n",
        "              'min_samples_leaf': [1, 2],\r\n",
        "              'min_samples_split': [2, 3, 4,5],\r\n",
        "              \r\n",
        "              'n_estimators': [ 500],\r\n",
        "              'max_depth': [3, 4, 5,8]\r\n",
        "              }\r\n",
        "\r\n",
        "\r\n",
        "      #https://scikit-learn.org/stable/modules/model_evaluation.html#scoring-parameter\r\n",
        "      folds = 3\r\n",
        "      param_comb = 4\r\n",
        "      #seteo cuantos folds va a tener el set entrendamiento (x_train y su x_validadcion, sus slpit al azar seteado por random_state)\r\n",
        "      skf = StratifiedKFold(n_splits=folds, shuffle = True, random_state = 1001)\r\n",
        "\r\n",
        "\r\n",
        "      #aca las combinaciones de los hiperametros. para buscar el mejor\r\n",
        "      #seteo el skf\r\n",
        "      random_search = RandomizedSearchCV(self.modelo, param_distributions=params, n_iter=param_comb, scoring='neg_root_mean_squared_error', n_jobs=4, cv=skf.split(X,Y), verbose=3, random_state=1001 )\r\n",
        "\r\n",
        "      # Here we go\r\n",
        "      start_time = timer(None) # timing starts from this point for \"start_time\" variable\r\n",
        "      #entreno y busco los mejores hiperparametros\r\n",
        "      random_search.fit(X, Y)\r\n",
        "      timer(start_time) # timing ends here for \"start_time\" variable\r\n",
        "\r\n",
        "\r\n",
        "\r\n",
        "      print('\\n All results:')\r\n",
        "      print(random_search.cv_results_)\r\n",
        "      print('\\n Best estimator:')\r\n",
        "      print(random_search.best_estimator_)\r\n",
        "      print('\\n Best   %d-fold search with %d parameter combinations:' % (folds, param_comb))\r\n",
        "      print(random_search.best_score_  )\r\n",
        "      print('\\n Best hyperparameters:')\r\n",
        "      print(random_search.best_params_)\r\n",
        "      results = pd.DataFrame(random_search.cv_results_)\r\n",
        "      results.to_csv('xgb-random-grid-search-results-01.csv', index=False) \r\n",
        "\r\n",
        "      #ahora el modelo que se va usar para predecir es el random_search , ya q tiene los mejores hiperparametros\r\n",
        "        \r\n",
        "\r\n",
        "      return  random_search\r\n",
        "\r\n",
        "\r\n",
        "class NeuralNetwork(Modelo):\r\n",
        "  def __init__(self,hiperparametros):\r\n",
        "    super().__init__()\r\n",
        "    self.modelo= MLPRegressor(hidden_layer_sizes=(50,50,50),learning_rate_init=0.1, activation='relu',random_state=1, max_iter=500)\r\n",
        "    self.nombre='Red Neuronal'\r\n",
        "\r\n",
        "  # este polimorfismo es porque pedia el xgboost que y_train sea de tipo int\r\n",
        "  def entrenarYPredecirMismoSetEntrenamiento(self,X_train,y_train,X_test):\r\n",
        "    X_train_normalizado = self.normalizar(X_train)\r\n",
        "    X_test_normalizado = self.normalizar(X_test)\r\n",
        "    self.modelo.fit(X_train_normalizado, y_train)\r\n",
        "    preds = self.modelo.predict(X_test_normalizado)\r\n",
        "    self.modelo = self.modelo\r\n",
        "\r\n",
        "    return preds\r\n",
        "\r\n",
        "  def errorSetEntrenamiento( self,X_train,y_train,X_test,y_test):\r\n",
        "    #aca la diferencia es que ytrain debe ser entero\r\n",
        "     \r\n",
        "    preds= self.entrenarYPredecirMismoSetEntrenamiento( X_train,y_train,X_test)\r\n",
        "    rmse = np.sqrt(mean_squared_error(y_test, preds))\r\n",
        "    print(\"RMSE: %f\" % (rmse))\r\n",
        "\r\n",
        "  def entrenarYPredecirWithTest(self,X_train,dfFeaturestest):\r\n",
        "    X_train_normalizado = self.normalizar(X_train)\r\n",
        "    dfFeaturestest=dfFeaturestest[X_train_normalizado.columns.to_list()]\r\n",
        "    # self.modelo.fit(X_train, y_train.astype(int))\r\n",
        "    preds =  self.modelo.predict(dfFeaturestest)\r\n",
        "    return preds\r\n",
        "\r\n",
        "  def normalizar(self, df):\r\n",
        "    transformer = Normalizer().fit(df) # fit does nothing.\r\n",
        "    Normalizer()\r\n",
        "    matrix = transformer.transform(df)\r\n",
        "    df_normalizado = pd.DataFrame(matrix)\r\n",
        "    df_normalizado.columns = df.columns.to_list()\r\n",
        "    return df_normalizado\r\n",
        "    \r\n",
        "  def featureImportancia(self,X_train):\r\n",
        "    print(\"Hola\")\r\n",
        "\r\n",
        "  \r\n",
        "\r\n",
        "class NeuralNetworkOptimizado(Modelo):\r\n",
        "  def __init__(self,hiperparametros):\r\n",
        "    super().__init__()\r\n",
        "    self.modelo= MLPRegressor(random_state=1, max_iter=500)\r\n",
        "    self.nombre='Red Neuronal Optimizada'\r\n",
        "    self.columnas_X_train = 0\r\n",
        "\r\n",
        "  # este polimorfismo es porque pedia el xgboost que y_train sea de tipo int\r\n",
        "  def entrenarYPredecirMismoSetEntrenamiento(self,X_train,y_train,X_test):\r\n",
        "    X_train_normalizado = self.normalizar(X_train)\r\n",
        "    X_test_normalizado = self.normalizar(X_test)\r\n",
        "    self.modelo.fit(X_train_normalizado, y_train)\r\n",
        "    preds = self.modelo.predict(X_test_normalizado)\r\n",
        "    self.modelo = self.modelo\r\n",
        "\r\n",
        "    return preds\r\n",
        "\r\n",
        "  def errorSetEntrenamiento( self,X_train,y_train,X_test,y_test):\r\n",
        "    #aca la diferencia es que ytrain debe ser entero\r\n",
        "     \r\n",
        "    preds= self.entrenarYPredecirMismoSetEntrenamiento( X_train,y_train,X_test)\r\n",
        "    rmse = np.sqrt(mean_squared_error(y_test, preds))\r\n",
        "    print(\"RMSE: %f\" % (rmse))\r\n",
        "\r\n",
        "  def entrenarYPredecirWithTest(self,dfFeaturestest, modelo):\r\n",
        "    dfFeaturestest=dfFeaturestest[self.columnas_X_train]\r\n",
        "    # self.modelo.fit(X_train, y_train.astype(int))\r\n",
        "    preds =  modelo.predict(dfFeaturestest)\r\n",
        "    return preds\r\n",
        "\r\n",
        "  def buscaMejorHiperparametroAndTrainModeloWithKfold(self,X,Y):\r\n",
        "    #esto devuelve un modelo ya entrenado.\r\n",
        "    #X es el train\r\n",
        "    #Y es la validacion\r\n",
        "    \r\n",
        "    self.columnas_X_train = X.columns.to_list()\r\n",
        "\r\n",
        "    # A parameter grid for NeuralNet\r\n",
        "    params = {'hidden_layer_sizes': [(50,50,50), (50,100,50), (100,1)],\r\n",
        "                'activation': ['relu'],\r\n",
        "                'alpha': [0.0001, 0.05],\r\n",
        "                'learning_rate_init': [0.1, 0.5],\r\n",
        "                'solver': ['adam']}\r\n",
        "\r\n",
        "\r\n",
        "    #https://scikit-learn.org/stable/modules/model_evaluation.html#scoring-parameter\r\n",
        "    folds = 3\r\n",
        "    param_comb = 5\r\n",
        "    #seteo cuantos folds va a tener el set entrendamiento (x_train y su x_validadcion, sus slpit al azar seteado por random_state)\r\n",
        "    skf = StratifiedKFold(n_splits=folds, shuffle = True, random_state = 1001)\r\n",
        "\r\n",
        "\r\n",
        "    #aca las combinaciones de los hiperametros. para buscar el mejor\r\n",
        "    #seteo el skf\r\n",
        "    random_search = RandomizedSearchCV(self.modelo, param_distributions=params, n_iter=param_comb, scoring='neg_root_mean_squared_error', n_jobs=4, cv=skf.split(X,Y), verbose=3, random_state=1001 )\r\n",
        "\r\n",
        "    # Here we go\r\n",
        "    start_time = timer(None) # timing starts from this point for \"start_time\" variable\r\n",
        "    #entreno y busco los mejores hiperparametros\r\n",
        "    random_search.fit(X, Y)\r\n",
        "    timer(start_time) # timing ends here for \"start_time\" variable\r\n",
        "\r\n",
        "\r\n",
        "\r\n",
        "    print('\\n All results:')\r\n",
        "    print(random_search.cv_results_)\r\n",
        "    print('\\n Best estimator:')\r\n",
        "    print(random_search.best_estimator_)\r\n",
        "    print('\\n Best   %d-fold search with %d parameter combinations:' % (folds, param_comb))\r\n",
        "    print(random_search.best_score_  )\r\n",
        "    print('\\n Best hyperparameters:')\r\n",
        "    print(random_search.best_params_)\r\n",
        "    results = pd.DataFrame(random_search.cv_results_)\r\n",
        "    results.to_csv('xgb-random-grid-search-results-01.csv', index=False) \r\n",
        "\r\n",
        "    #ahora el modelo que se va usar para predecir es el random_search , ya q tiene los mejores hiperparametros\r\n",
        "    #self.modelo= random_search\r\n",
        "\r\n",
        "    return  random_search\r\n",
        "\r\n",
        "\r\n",
        "  def normalizar(self, df):\r\n",
        "    transformer = Normalizer().fit(df) # fit does nothing.\r\n",
        "    Normalizer()\r\n",
        "    matrix = transformer.transform(df)\r\n",
        "    df_normalizado = pd.DataFrame(matrix)\r\n",
        "    df_normalizado.columns = df.columns.to_list()\r\n",
        "    return df_normalizado\r\n",
        "    \r\n",
        "  def featureImportancia(self,X_train):\r\n",
        "    print(\"Hola\")\r\n",
        "\r\n",
        "\r\n",
        "class lgbRegreOptimizado(Modelo):\r\n",
        "\r\n",
        "  def __init__(self,hiperparametros):\r\n",
        "    super().__init__()\r\n",
        "    self.modelo= lgb.LGBMRegressor(random_state=1 )\r\n",
        "    self.nombre='lgbOptimizado'\r\n",
        "    self.columnas_X_train=0\r\n",
        "\r\n",
        "\r\n",
        "  def entrenarYPredecirWithTest(self,dfFeaturestest,modelo):\r\n",
        "     \r\n",
        "    dfFeaturestest=dfFeaturestest[self.columnas_X_train]\r\n",
        "    \r\n",
        "    preds =  modelo.predict(dfFeaturestest)\r\n",
        "    return preds  \r\n",
        "\r\n",
        "  def buscaMejorHiperparametroAndTrainModeloWithKfold(self,X,Y):\r\n",
        "    #esto devuelve un modelo ya entrenado.\r\n",
        "    #X es el train\r\n",
        "    #Y es la validacion\r\n",
        "    \r\n",
        "    self.columnas_X_train = X.columns.to_list()\r\n",
        "     \r\n",
        "    # A parameter grid for XGBoost\r\n",
        "    params = {\r\n",
        "            'min_child_weight': [1, 5, 10],\r\n",
        "            'gamma': [0.5, 1, 1.5, 2, 5],\r\n",
        "            'subsample': [0.6, 0.8, 1.0],\r\n",
        "            'colsample_bytree': [0.6, 0.8, 1.0],\r\n",
        "            'max_depth': [3, 4, 5]\r\n",
        "            }\r\n",
        "\r\n",
        "\r\n",
        "    #https://scikit-learn.org/stable/modules/model_evaluation.html#scoring-parameter\r\n",
        "    folds = 3\r\n",
        "    param_comb = 5\r\n",
        "    #seteo cuantos folds va a tener el set entrendamiento (x_train y su x_validadcion, sus slpit al azar seteado por random_state)\r\n",
        "    skf = StratifiedKFold(n_splits=folds, shuffle = True, random_state = 1001)\r\n",
        "\r\n",
        "\r\n",
        "    #aca las combinaciones de los hiperametros. para buscar el mejor\r\n",
        "    #seteo el skf\r\n",
        "    random_search = RandomizedSearchCV(self.modelo, param_distributions=params, n_iter=param_comb, scoring='neg_root_mean_squared_error', n_jobs=4, cv=skf.split(X,Y), verbose=3, random_state=1001 )\r\n",
        "\r\n",
        "    # Here we go\r\n",
        "    start_time = timer(None) # timing starts from this point for \"start_time\" variable\r\n",
        "    #entreno y busco los mejores hiperparametros\r\n",
        "    random_search.fit(X, Y)\r\n",
        "    timer(start_time) # timing ends here for \"start_time\" variable\r\n",
        "\r\n",
        "\r\n",
        "\r\n",
        "    print('\\n All results:')\r\n",
        "    print(random_search.cv_results_)\r\n",
        "    print('\\n Best estimator:')\r\n",
        "    print(random_search.best_estimator_)\r\n",
        "    print('\\n Best   %d-fold search with %d parameter combinations:' % (folds, param_comb))\r\n",
        "    print(random_search.best_score_  )\r\n",
        "    print('\\n Best hyperparameters:')\r\n",
        "    print(random_search.best_params_)\r\n",
        "    results = pd.DataFrame(random_search.cv_results_)\r\n",
        "    results.to_csv('xgb-random-grid-search-results-01.csv', index=False) \r\n",
        "\r\n",
        "    #ahora el modelo que se va usar para predecir es el random_search , ya q tiene los mejores hiperparametros\r\n",
        "\r\n",
        "    return  random_search\r\n"
      ],
      "execution_count": 535,
      "outputs": []
    },
    {
      "cell_type": "code",
      "metadata": {
        "id": "K_DZbV2uEVMK"
      },
      "source": [
        ""
      ],
      "execution_count": 535,
      "outputs": []
    },
    {
      "cell_type": "code",
      "metadata": {
        "id": "OA27kmGGEUjE"
      },
      "source": [
        ""
      ],
      "execution_count": 535,
      "outputs": []
    },
    {
      "cell_type": "code",
      "metadata": {
        "id": "6oM9aFES_Kq6"
      },
      "source": [
        ""
      ],
      "execution_count": 535,
      "outputs": []
    },
    {
      "cell_type": "code",
      "metadata": {
        "id": "WLpcJXxH_KIx"
      },
      "source": [
        ""
      ],
      "execution_count": 535,
      "outputs": []
    },
    {
      "cell_type": "code",
      "metadata": {
        "id": "on-VR59lf05p"
      },
      "source": [
        ""
      ],
      "execution_count": 535,
      "outputs": []
    },
    {
      "cell_type": "code",
      "metadata": {
        "id": "ZEvRPXYzR63H"
      },
      "source": [
        " #para hacer el ensamble de modelos\n",
        " dicAcumulaDfKaggle={}\n",
        " #para guardar los dataframe train y test en la primer pasada\n",
        " dicAcumTrainAndTest={}"
      ],
      "execution_count": 536,
      "outputs": []
    },
    {
      "cell_type": "markdown",
      "metadata": {
        "id": "fXNyWRzJz4Wr"
      },
      "source": [
        "# XGBOOST - Joaquin"
      ]
    },
    {
      "cell_type": "code",
      "metadata": {
        "id": "_FxCDNiqzzbT"
      },
      "source": [
        "#1)Apertura\r\n",
        "entrenamiento = pd.read_csv('data.csv')\r\n",
        "df=entrenamiento "
      ],
      "execution_count": 537,
      "outputs": []
    },
    {
      "cell_type": "code",
      "metadata": {
        "colab": {
          "base_uri": "https://localhost:8080/"
        },
        "id": "0czVKEWXQhIH",
        "outputId": "2a92ef7b-28e4-4e1a-d084-adcd9185c1b3"
      },
      "source": [
        "entrenamiento.info()"
      ],
      "execution_count": 538,
      "outputs": [
        {
          "output_type": "stream",
          "text": [
            "<class 'pandas.core.frame.DataFrame'>\n",
            "RangeIndex: 16947 entries, 0 to 16946\n",
            "Data columns (total 52 columns):\n",
            " #   Column                              Non-Null Count  Dtype  \n",
            "---  ------                              --------------  -----  \n",
            " 0   ID                                  16947 non-null  int64  \n",
            " 1   Region                              16947 non-null  object \n",
            " 2   Territory                           16947 non-null  object \n",
            " 3   Pricing, Delivery_Terms_Quote_Appr  16947 non-null  int64  \n",
            " 4   Pricing, Delivery_Terms_Approved    16947 non-null  int64  \n",
            " 5   Bureaucratic_Code_0_Approval        16947 non-null  int64  \n",
            " 6   Bureaucratic_Code_0_Approved        16947 non-null  int64  \n",
            " 7   Submitted_for_Approval              16947 non-null  int64  \n",
            " 8   Bureaucratic_Code                   16947 non-null  object \n",
            " 9   Account_Created_Date                16947 non-null  object \n",
            " 10  Source                              16947 non-null  object \n",
            " 11  Billing_Country                     16947 non-null  object \n",
            " 12  Account_Name                        16947 non-null  object \n",
            " 13  Opportunity_Name                    16947 non-null  object \n",
            " 14  Opportunity_ID                      16947 non-null  int64  \n",
            " 15  Sales_Contract_No                   16947 non-null  object \n",
            " 16  Account_Owner                       16947 non-null  object \n",
            " 17  Opportunity_Owner                   16947 non-null  object \n",
            " 18  Account_Type                        16947 non-null  object \n",
            " 19  Opportunity_Type                    16947 non-null  object \n",
            " 20  Quote_Type                          16947 non-null  object \n",
            " 21  Delivery_Terms                      16947 non-null  object \n",
            " 22  Opportunity_Created_Date            16947 non-null  object \n",
            " 23  Brand                               16947 non-null  object \n",
            " 24  Product_Type                        16947 non-null  object \n",
            " 25  Size                                16947 non-null  object \n",
            " 26  Product_Category_B                  16947 non-null  object \n",
            " 27  Price                               16947 non-null  object \n",
            " 28  Currency                            16947 non-null  object \n",
            " 29  Last_Activity                       16947 non-null  object \n",
            " 30  Quote_Expiry_Date                   16947 non-null  object \n",
            " 31  Last_Modified_Date                  16947 non-null  object \n",
            " 32  Last_Modified_By                    16947 non-null  object \n",
            " 33  Product_Family                      16947 non-null  object \n",
            " 34  Product_Name                        16947 non-null  object \n",
            " 35  ASP_Currency                        16947 non-null  object \n",
            " 36  ASP                                 13738 non-null  float64\n",
            " 37  ASP_(converted)_Currency            16947 non-null  object \n",
            " 38  ASP_(converted)                     13738 non-null  float64\n",
            " 39  Planned_Delivery_Start_Date         16947 non-null  object \n",
            " 40  Planned_Delivery_End_Date           16947 non-null  object \n",
            " 41  Month                               16947 non-null  object \n",
            " 42  Delivery_Quarter                    16947 non-null  object \n",
            " 43  Delivery_Year                       16947 non-null  int64  \n",
            " 44  Actual_Delivery_Date                16947 non-null  object \n",
            " 45  TRF                                 16947 non-null  int64  \n",
            " 46  Total_Amount_Currency               16947 non-null  object \n",
            " 47  Total_Amount                        16888 non-null  float64\n",
            " 48  Total_Taxable_Amount_Currency       16947 non-null  object \n",
            " 49  Total_Taxable_Amount                16947 non-null  float64\n",
            " 50  Stage                               16947 non-null  object \n",
            " 51  Prod_Category_A                     16947 non-null  object \n",
            "dtypes: float64(4), int64(9), object(39)\n",
            "memory usage: 6.7+ MB\n"
          ],
          "name": "stdout"
        }
      ]
    },
    {
      "cell_type": "code",
      "metadata": {
        "id": "wgb2pZI5zzbf"
      },
      "source": [
        "random_state=1\r\n",
        "n_estimators=50\r\n",
        "#aca agregamos los hiperparametros que estamos probando\r\n",
        "Hiperparametros=[random_state ,n_estimators ]\r\n",
        "#por ahora no se usan los hirparametros, se setea dentro de las clase estos,\r\n",
        "#pero la idea es que se pueda setear desde afuera para probar"
      ],
      "execution_count": 539,
      "outputs": []
    },
    {
      "cell_type": "code",
      "metadata": {
        "id": "rgLHtpS5zzbf"
      },
      "source": [
        "modelosDic={\r\n",
        "         'ramdomForest': RandomForestRegre(Hiperparametros),\r\n",
        "         'xgboost':xgbosst(Hiperparametros),\r\n",
        "         'xgboostOptimo':xgbosstOptimizado(Hiperparametros),\r\n",
        "         'RandomForestRegreOptimo':RandomForestRegreOptimizado(Hiperparametros),\r\n",
        "         'neuralNetwork':NeuralNetwork(Hiperparametros),\r\n",
        "         'neuralNetworkOptimizado':NeuralNetworkOptimizado(Hiperparametros),\r\n",
        "         'lgbRegresionOptimizado':lgbRegreOptimizado(Hiperparametros)\r\n",
        "}"
      ],
      "execution_count": 540,
      "outputs": []
    },
    {
      "cell_type": "code",
      "metadata": {
        "colab": {
          "base_uri": "https://localhost:8080/",
          "height": 428
        },
        "id": "2VUDAZoVzzbg",
        "outputId": "73b78c40-8032-449d-c958-ae4e09416040"
      },
      "source": [
        "\r\n",
        "\r\n",
        "modelo=modelosDic.get('neuralNetwork')\r\n",
        "\r\n",
        "#cargamos el modelo \r\n",
        "modelo=modelo\r\n",
        "print(modelo.nombre)\r\n",
        "#hacemos feature engierine sobre el df original\r\n",
        "dfFeature=modelo.featureEngeenier(entrenamiento)\r\n",
        "dfFeature.head()\r\n",
        "#le agregamos el target\r\n",
        "dfFeatureWithTarget=modelo.agregarTargetDfOriginal(entrenamiento,dfFeature)\r\n",
        "dfFeatureWithTarget.head()"
      ],
      "execution_count": 541,
      "outputs": [
        {
          "output_type": "stream",
          "text": [
            "Red Neuronal\n"
          ],
          "name": "stdout"
        },
        {
          "output_type": "stream",
          "text": [
            "/usr/local/lib/python3.7/dist-packages/ipykernel_launcher.py:108: SettingWithCopyWarning: \n",
            "A value is trying to be set on a copy of a slice from a DataFrame.\n",
            "Try using .loc[row_indexer,col_indexer] = value instead\n",
            "\n",
            "See the caveats in the documentation: https://pandas.pydata.org/pandas-docs/stable/user_guide/indexing.html#returning-a-view-versus-a-copy\n",
            "/usr/local/lib/python3.7/dist-packages/ipykernel_launcher.py:109: SettingWithCopyWarning: \n",
            "A value is trying to be set on a copy of a slice from a DataFrame.\n",
            "Try using .loc[row_indexer,col_indexer] = value instead\n",
            "\n",
            "See the caveats in the documentation: https://pandas.pydata.org/pandas-docs/stable/user_guide/indexing.html#returning-a-view-versus-a-copy\n"
          ],
          "name": "stderr"
        },
        {
          "output_type": "execute_result",
          "data": {
            "text/html": [
              "<div>\n",
              "<style scoped>\n",
              "    .dataframe tbody tr th:only-of-type {\n",
              "        vertical-align: middle;\n",
              "    }\n",
              "\n",
              "    .dataframe tbody tr th {\n",
              "        vertical-align: top;\n",
              "    }\n",
              "\n",
              "    .dataframe thead th {\n",
              "        text-align: right;\n",
              "    }\n",
              "</style>\n",
              "<table border=\"1\" class=\"dataframe\">\n",
              "  <thead>\n",
              "    <tr style=\"text-align: right;\">\n",
              "      <th></th>\n",
              "      <th>Opportunity_ID</th>\n",
              "      <th>totalamount</th>\n",
              "      <th>totalTrf</th>\n",
              "      <th>meanTrf</th>\n",
              "      <th>cantTrf</th>\n",
              "      <th>cantProducFamilias</th>\n",
              "      <th>maxTrf</th>\n",
              "      <th>meanDisPlannedStarAndPlannedEnd</th>\n",
              "      <th>meanTrfporTotalTrf</th>\n",
              "      <th>cantProducFamiliasporTotalTrf</th>\n",
              "      <th>Stage</th>\n",
              "    </tr>\n",
              "  </thead>\n",
              "  <tbody>\n",
              "    <tr>\n",
              "      <th>0</th>\n",
              "      <td>0</td>\n",
              "      <td>5272800.0</td>\n",
              "      <td>10</td>\n",
              "      <td>10.0</td>\n",
              "      <td>1</td>\n",
              "      <td>1</td>\n",
              "      <td>10</td>\n",
              "      <td>5184000.0</td>\n",
              "      <td>100.0</td>\n",
              "      <td>10</td>\n",
              "      <td>0</td>\n",
              "    </tr>\n",
              "    <tr>\n",
              "      <th>1</th>\n",
              "      <td>1</td>\n",
              "      <td>48230.0</td>\n",
              "      <td>0</td>\n",
              "      <td>0.0</td>\n",
              "      <td>1</td>\n",
              "      <td>1</td>\n",
              "      <td>0</td>\n",
              "      <td>172800.0</td>\n",
              "      <td>0.0</td>\n",
              "      <td>0</td>\n",
              "      <td>1</td>\n",
              "    </tr>\n",
              "    <tr>\n",
              "      <th>2</th>\n",
              "      <td>2</td>\n",
              "      <td>83865.6</td>\n",
              "      <td>0</td>\n",
              "      <td>0.0</td>\n",
              "      <td>1</td>\n",
              "      <td>1</td>\n",
              "      <td>0</td>\n",
              "      <td>0.0</td>\n",
              "      <td>0.0</td>\n",
              "      <td>0</td>\n",
              "      <td>1</td>\n",
              "    </tr>\n",
              "    <tr>\n",
              "      <th>3</th>\n",
              "      <td>3</td>\n",
              "      <td>7421881.5</td>\n",
              "      <td>14</td>\n",
              "      <td>14.0</td>\n",
              "      <td>1</td>\n",
              "      <td>1</td>\n",
              "      <td>14</td>\n",
              "      <td>5011200.0</td>\n",
              "      <td>196.0</td>\n",
              "      <td>14</td>\n",
              "      <td>0</td>\n",
              "    </tr>\n",
              "    <tr>\n",
              "      <th>4</th>\n",
              "      <td>4</td>\n",
              "      <td>13357192.5</td>\n",
              "      <td>25</td>\n",
              "      <td>25.0</td>\n",
              "      <td>1</td>\n",
              "      <td>1</td>\n",
              "      <td>25</td>\n",
              "      <td>2332800.0</td>\n",
              "      <td>625.0</td>\n",
              "      <td>25</td>\n",
              "      <td>0</td>\n",
              "    </tr>\n",
              "  </tbody>\n",
              "</table>\n",
              "</div>"
            ],
            "text/plain": [
              "   Opportunity_ID  totalamount  ...  cantProducFamiliasporTotalTrf  Stage\n",
              "0               0    5272800.0  ...                             10      0\n",
              "1               1      48230.0  ...                              0      1\n",
              "2               2      83865.6  ...                              0      1\n",
              "3               3    7421881.5  ...                             14      0\n",
              "4               4   13357192.5  ...                             25      0\n",
              "\n",
              "[5 rows x 11 columns]"
            ]
          },
          "metadata": {
            "tags": []
          },
          "execution_count": 541
        }
      ]
    },
    {
      "cell_type": "markdown",
      "metadata": {
        "id": "kyq55xyF1IXD"
      },
      "source": [
        "#TERRITORY"
      ]
    },
    {
      "cell_type": "code",
      "metadata": {
        "colab": {
          "base_uri": "https://localhost:8080/"
        },
        "id": "yieCgaiC1nC6",
        "outputId": "a37327f9-e14c-4736-b13b-db6bd9f3d277"
      },
      "source": [
        "df = pd.read_csv('data.csv')\n",
        "df['Territory'].value_counts()"
      ],
      "execution_count": 542,
      "outputs": [
        {
          "output_type": "execute_result",
          "data": {
            "text/plain": [
              "None               4999\n",
              "Germany            1682\n",
              "NW America         1568\n",
              "Australia          1208\n",
              "India               809\n",
              "                   ... \n",
              "Czech Republic        1\n",
              "Croatia               1\n",
              "Egypt                 1\n",
              "Burma                 1\n",
              "Solomon Islands       1\n",
              "Name: Territory, Length: 76, dtype: int64"
            ]
          },
          "metadata": {
            "tags": []
          },
          "execution_count": 542
        }
      ]
    },
    {
      "cell_type": "code",
      "metadata": {
        "id": "hJFzZMi6zzbh"
      },
      "source": [
        "def agregarMeanEncoding(dfWithFeatureTarget,columnCategorica):\r\n",
        "  \"\"\"dfWithFeature es un df de formato ['Opportunity_ID', y columnas nuevas agregadas anteriormente,target]\r\n",
        "  se hace minencoding columancategoria, retorna un df con opportunity_id, meanencoding,columnas nuevas agregadas anteriormente\r\n",
        "      \"\"\"\r\n",
        "  df = pd.read_csv('data.csv')\r\n",
        "  entrenamiento = pd.read_csv('data.csv')\r\n",
        "  df = df.replace('Closed Won', '1')\r\n",
        "  df = df.replace('Closed Lost', '0')\r\n",
        "  df = df[df['Stage'].isin(['0','1'])]\r\n",
        "  df.Stage = df.Stage.astype(int)\r\n",
        "  df = df.groupby([columnCategorica,'Opportunity_ID']).agg({'Stage':['sum','count']})\r\n",
        "  df = df.reset_index()\r\n",
        "  df1 = df\r\n",
        "  df1.columns = [columnCategorica,'Opportunity_ID','Stage_sum','Stage_count']\r\n",
        "  df1['Stage_sum'] = df1['Stage_sum'].apply(lambda x: 0 if x == 0 else 1)\r\n",
        "  df2 = df1.groupby([columnCategorica]).agg(meanEncodingTerritory = ('Stage_sum','mean'))\r\n",
        "  df2 = df2.reset_index()\r\n",
        "  agruparOportunity=entrenamiento.groupby(['Opportunity_ID',columnCategorica]).agg(cant=(columnCategorica,'count')).reset_index()\r\n",
        "  result=pd.merge(agruparOportunity,df2,on=columnCategorica,how='inner')\r\n",
        "  #eliminamos columnas que no sirve, columncategorica porque la reemplazamos por el mean enconding, y cant que \r\n",
        "  #la usamos para unificar por oportunity_id \r\n",
        "  del result['cant']\r\n",
        "  del result['Territory']\r\n",
        "  result2=pd.merge(dfWithFeatureTarget, result, on='Opportunity_ID' , how='inner')\r\n",
        "  \r\n",
        "  dfWithFeatureTarget=result2\r\n",
        "  dfWithFeatureTarget.Stage = dfWithFeatureTarget.Stage.astype(int)\r\n",
        "  return dfWithFeatureTarget"
      ],
      "execution_count": 543,
      "outputs": []
    },
    {
      "cell_type": "code",
      "metadata": {
        "colab": {
          "base_uri": "https://localhost:8080/",
          "height": 226
        },
        "id": "wvxD6Cypzzbh",
        "outputId": "fdb9f916-7a84-4c71-9958-64090298f399"
      },
      "source": [
        "dfNew1=agregarMeanEncoding(dfFeatureWithTarget,'Territory')\r\n",
        "dfNew1.head()"
      ],
      "execution_count": 544,
      "outputs": [
        {
          "output_type": "execute_result",
          "data": {
            "text/html": [
              "<div>\n",
              "<style scoped>\n",
              "    .dataframe tbody tr th:only-of-type {\n",
              "        vertical-align: middle;\n",
              "    }\n",
              "\n",
              "    .dataframe tbody tr th {\n",
              "        vertical-align: top;\n",
              "    }\n",
              "\n",
              "    .dataframe thead th {\n",
              "        text-align: right;\n",
              "    }\n",
              "</style>\n",
              "<table border=\"1\" class=\"dataframe\">\n",
              "  <thead>\n",
              "    <tr style=\"text-align: right;\">\n",
              "      <th></th>\n",
              "      <th>Opportunity_ID</th>\n",
              "      <th>totalamount</th>\n",
              "      <th>totalTrf</th>\n",
              "      <th>meanTrf</th>\n",
              "      <th>cantTrf</th>\n",
              "      <th>cantProducFamilias</th>\n",
              "      <th>maxTrf</th>\n",
              "      <th>meanDisPlannedStarAndPlannedEnd</th>\n",
              "      <th>meanTrfporTotalTrf</th>\n",
              "      <th>cantProducFamiliasporTotalTrf</th>\n",
              "      <th>Stage</th>\n",
              "      <th>meanEncodingTerritory</th>\n",
              "    </tr>\n",
              "  </thead>\n",
              "  <tbody>\n",
              "    <tr>\n",
              "      <th>0</th>\n",
              "      <td>0</td>\n",
              "      <td>5272800.0</td>\n",
              "      <td>10</td>\n",
              "      <td>10.0</td>\n",
              "      <td>1</td>\n",
              "      <td>1</td>\n",
              "      <td>10</td>\n",
              "      <td>5184000.0</td>\n",
              "      <td>100.0</td>\n",
              "      <td>10</td>\n",
              "      <td>0</td>\n",
              "      <td>0.535927</td>\n",
              "    </tr>\n",
              "    <tr>\n",
              "      <th>1</th>\n",
              "      <td>1</td>\n",
              "      <td>48230.0</td>\n",
              "      <td>0</td>\n",
              "      <td>0.0</td>\n",
              "      <td>1</td>\n",
              "      <td>1</td>\n",
              "      <td>0</td>\n",
              "      <td>172800.0</td>\n",
              "      <td>0.0</td>\n",
              "      <td>0</td>\n",
              "      <td>1</td>\n",
              "      <td>0.535927</td>\n",
              "    </tr>\n",
              "    <tr>\n",
              "      <th>2</th>\n",
              "      <td>2</td>\n",
              "      <td>83865.6</td>\n",
              "      <td>0</td>\n",
              "      <td>0.0</td>\n",
              "      <td>1</td>\n",
              "      <td>1</td>\n",
              "      <td>0</td>\n",
              "      <td>0.0</td>\n",
              "      <td>0.0</td>\n",
              "      <td>0</td>\n",
              "      <td>1</td>\n",
              "      <td>0.632723</td>\n",
              "    </tr>\n",
              "    <tr>\n",
              "      <th>3</th>\n",
              "      <td>3</td>\n",
              "      <td>7421881.5</td>\n",
              "      <td>14</td>\n",
              "      <td>14.0</td>\n",
              "      <td>1</td>\n",
              "      <td>1</td>\n",
              "      <td>14</td>\n",
              "      <td>5011200.0</td>\n",
              "      <td>196.0</td>\n",
              "      <td>14</td>\n",
              "      <td>0</td>\n",
              "      <td>0.632723</td>\n",
              "    </tr>\n",
              "    <tr>\n",
              "      <th>4</th>\n",
              "      <td>4</td>\n",
              "      <td>13357192.5</td>\n",
              "      <td>25</td>\n",
              "      <td>25.0</td>\n",
              "      <td>1</td>\n",
              "      <td>1</td>\n",
              "      <td>25</td>\n",
              "      <td>2332800.0</td>\n",
              "      <td>625.0</td>\n",
              "      <td>25</td>\n",
              "      <td>0</td>\n",
              "      <td>0.632723</td>\n",
              "    </tr>\n",
              "  </tbody>\n",
              "</table>\n",
              "</div>"
            ],
            "text/plain": [
              "   Opportunity_ID  totalamount  ...  Stage  meanEncodingTerritory\n",
              "0               0    5272800.0  ...      0               0.535927\n",
              "1               1      48230.0  ...      1               0.535927\n",
              "2               2      83865.6  ...      1               0.632723\n",
              "3               3    7421881.5  ...      0               0.632723\n",
              "4               4   13357192.5  ...      0               0.632723\n",
              "\n",
              "[5 rows x 12 columns]"
            ]
          },
          "metadata": {
            "tags": []
          },
          "execution_count": 544
        }
      ]
    },
    {
      "cell_type": "markdown",
      "metadata": {
        "id": "d9F_Tv2Q2FHQ"
      },
      "source": [
        "#REGION"
      ]
    },
    {
      "cell_type": "code",
      "metadata": {
        "colab": {
          "base_uri": "https://localhost:8080/"
        },
        "id": "m83sohLN2FHf",
        "outputId": "9dcb90e3-e9eb-4041-b16f-2cdf6d6c3342"
      },
      "source": [
        "df = pd.read_csv('data.csv')\n",
        "df['Region'].value_counts()"
      ],
      "execution_count": 545,
      "outputs": [
        {
          "output_type": "execute_result",
          "data": {
            "text/plain": [
              "Japan          4892\n",
              "EMEA           4664\n",
              "Americas       3945\n",
              "APAC           3262\n",
              "Middle East     184\n",
              "Name: Region, dtype: int64"
            ]
          },
          "metadata": {
            "tags": []
          },
          "execution_count": 545
        }
      ]
    },
    {
      "cell_type": "code",
      "metadata": {
        "id": "c7jeOsP_2FHg"
      },
      "source": [
        "def agregarMeanEncoding(dfWithFeatureTarget,columnCategorica):\r\n",
        "  \"\"\"dfWithFeature es un df de formato ['Opportunity_ID', y columnas nuevas agregadas anteriormente,target]\r\n",
        "  se hace minencoding columancategoria, retorna un df con opportunity_id, meanencoding,columnas nuevas agregadas anteriormente\r\n",
        "      \"\"\"\r\n",
        "  df = pd.read_csv('data.csv')\r\n",
        "  entrenamiento = pd.read_csv('data.csv')\r\n",
        "  df = df.replace('Closed Won', '1')\r\n",
        "  df = df.replace('Closed Lost', '0')\r\n",
        "  df = df[df['Stage'].isin(['0','1'])]\r\n",
        "  df.Stage = df.Stage.astype(int)\r\n",
        "  df = df.groupby([columnCategorica,'Opportunity_ID']).agg({'Stage':['sum','count']})\r\n",
        "  df = df.reset_index()\r\n",
        "  df1 = df\r\n",
        "  df1.columns = [columnCategorica,'Opportunity_ID','Stage_sum','Stage_count']\r\n",
        "  df1['Stage_sum'] = df1['Stage_sum'].apply(lambda x: 0 if x == 0 else 1)\r\n",
        "  df2 = df1.groupby([columnCategorica]).agg(meanEncodingRegion = ('Stage_sum','mean'))\r\n",
        "  df2 = df2.reset_index()\r\n",
        "  agruparOportunity=entrenamiento.groupby(['Opportunity_ID',columnCategorica]).agg(cant=(columnCategorica,'count')).reset_index()\r\n",
        "  result=pd.merge(agruparOportunity,df2,on=columnCategorica,how='inner')\r\n",
        "  #eliminamos columnas que no sirve, columncategorica porque la reemplazamos por el mean enconding, y cant que \r\n",
        "  #la usamos para unificar por oportunity_id \r\n",
        "  del result['cant']\r\n",
        "  del result['Region']\r\n",
        "  result2=pd.merge(dfWithFeatureTarget, result, on='Opportunity_ID' , how='inner')\r\n",
        "  \r\n",
        "  dfWithFeatureTarget=result2\r\n",
        "  dfWithFeatureTarget.Stage = dfWithFeatureTarget.Stage.astype(int)\r\n",
        "  return dfWithFeatureTarget"
      ],
      "execution_count": 546,
      "outputs": []
    },
    {
      "cell_type": "code",
      "metadata": {
        "colab": {
          "base_uri": "https://localhost:8080/",
          "height": 206
        },
        "id": "3r6B9rtE2FHg",
        "outputId": "7e56e5c5-e98a-466a-ec32-bcf6c0b4977b"
      },
      "source": [
        "dfNew2=agregarMeanEncoding(dfFeatureWithTarget,'Region')\r\n",
        "dfNew2=dfNew2[['Opportunity_ID','meanEncodingRegion']]\r\n",
        "dfNew2.head()"
      ],
      "execution_count": 547,
      "outputs": [
        {
          "output_type": "execute_result",
          "data": {
            "text/html": [
              "<div>\n",
              "<style scoped>\n",
              "    .dataframe tbody tr th:only-of-type {\n",
              "        vertical-align: middle;\n",
              "    }\n",
              "\n",
              "    .dataframe tbody tr th {\n",
              "        vertical-align: top;\n",
              "    }\n",
              "\n",
              "    .dataframe thead th {\n",
              "        text-align: right;\n",
              "    }\n",
              "</style>\n",
              "<table border=\"1\" class=\"dataframe\">\n",
              "  <thead>\n",
              "    <tr style=\"text-align: right;\">\n",
              "      <th></th>\n",
              "      <th>Opportunity_ID</th>\n",
              "      <th>meanEncodingRegion</th>\n",
              "    </tr>\n",
              "  </thead>\n",
              "  <tbody>\n",
              "    <tr>\n",
              "      <th>0</th>\n",
              "      <td>0</td>\n",
              "      <td>0.463392</td>\n",
              "    </tr>\n",
              "    <tr>\n",
              "      <th>1</th>\n",
              "      <td>1</td>\n",
              "      <td>0.463392</td>\n",
              "    </tr>\n",
              "    <tr>\n",
              "      <th>2</th>\n",
              "      <td>2</td>\n",
              "      <td>0.446166</td>\n",
              "    </tr>\n",
              "    <tr>\n",
              "      <th>3</th>\n",
              "      <td>3</td>\n",
              "      <td>0.446166</td>\n",
              "    </tr>\n",
              "    <tr>\n",
              "      <th>4</th>\n",
              "      <td>4</td>\n",
              "      <td>0.446166</td>\n",
              "    </tr>\n",
              "  </tbody>\n",
              "</table>\n",
              "</div>"
            ],
            "text/plain": [
              "   Opportunity_ID  meanEncodingRegion\n",
              "0               0            0.463392\n",
              "1               1            0.463392\n",
              "2               2            0.446166\n",
              "3               3            0.446166\n",
              "4               4            0.446166"
            ]
          },
          "metadata": {
            "tags": []
          },
          "execution_count": 547
        }
      ]
    },
    {
      "cell_type": "code",
      "metadata": {
        "colab": {
          "base_uri": "https://localhost:8080/",
          "height": 226
        },
        "id": "YOYy-MXV4Qnf",
        "outputId": "f577951e-5bed-4202-8e62-0aa15472d601"
      },
      "source": [
        "dfNew=pd.merge(dfNew1, dfNew2, on='Opportunity_ID' , how='inner')\n",
        "dfNew.head()"
      ],
      "execution_count": 548,
      "outputs": [
        {
          "output_type": "execute_result",
          "data": {
            "text/html": [
              "<div>\n",
              "<style scoped>\n",
              "    .dataframe tbody tr th:only-of-type {\n",
              "        vertical-align: middle;\n",
              "    }\n",
              "\n",
              "    .dataframe tbody tr th {\n",
              "        vertical-align: top;\n",
              "    }\n",
              "\n",
              "    .dataframe thead th {\n",
              "        text-align: right;\n",
              "    }\n",
              "</style>\n",
              "<table border=\"1\" class=\"dataframe\">\n",
              "  <thead>\n",
              "    <tr style=\"text-align: right;\">\n",
              "      <th></th>\n",
              "      <th>Opportunity_ID</th>\n",
              "      <th>totalamount</th>\n",
              "      <th>totalTrf</th>\n",
              "      <th>meanTrf</th>\n",
              "      <th>cantTrf</th>\n",
              "      <th>cantProducFamilias</th>\n",
              "      <th>maxTrf</th>\n",
              "      <th>meanDisPlannedStarAndPlannedEnd</th>\n",
              "      <th>meanTrfporTotalTrf</th>\n",
              "      <th>cantProducFamiliasporTotalTrf</th>\n",
              "      <th>Stage</th>\n",
              "      <th>meanEncodingTerritory</th>\n",
              "      <th>meanEncodingRegion</th>\n",
              "    </tr>\n",
              "  </thead>\n",
              "  <tbody>\n",
              "    <tr>\n",
              "      <th>0</th>\n",
              "      <td>0</td>\n",
              "      <td>5272800.0</td>\n",
              "      <td>10</td>\n",
              "      <td>10.0</td>\n",
              "      <td>1</td>\n",
              "      <td>1</td>\n",
              "      <td>10</td>\n",
              "      <td>5184000.0</td>\n",
              "      <td>100.0</td>\n",
              "      <td>10</td>\n",
              "      <td>0</td>\n",
              "      <td>0.535927</td>\n",
              "      <td>0.463392</td>\n",
              "    </tr>\n",
              "    <tr>\n",
              "      <th>1</th>\n",
              "      <td>1</td>\n",
              "      <td>48230.0</td>\n",
              "      <td>0</td>\n",
              "      <td>0.0</td>\n",
              "      <td>1</td>\n",
              "      <td>1</td>\n",
              "      <td>0</td>\n",
              "      <td>172800.0</td>\n",
              "      <td>0.0</td>\n",
              "      <td>0</td>\n",
              "      <td>1</td>\n",
              "      <td>0.535927</td>\n",
              "      <td>0.463392</td>\n",
              "    </tr>\n",
              "    <tr>\n",
              "      <th>2</th>\n",
              "      <td>2</td>\n",
              "      <td>83865.6</td>\n",
              "      <td>0</td>\n",
              "      <td>0.0</td>\n",
              "      <td>1</td>\n",
              "      <td>1</td>\n",
              "      <td>0</td>\n",
              "      <td>0.0</td>\n",
              "      <td>0.0</td>\n",
              "      <td>0</td>\n",
              "      <td>1</td>\n",
              "      <td>0.632723</td>\n",
              "      <td>0.446166</td>\n",
              "    </tr>\n",
              "    <tr>\n",
              "      <th>3</th>\n",
              "      <td>3</td>\n",
              "      <td>7421881.5</td>\n",
              "      <td>14</td>\n",
              "      <td>14.0</td>\n",
              "      <td>1</td>\n",
              "      <td>1</td>\n",
              "      <td>14</td>\n",
              "      <td>5011200.0</td>\n",
              "      <td>196.0</td>\n",
              "      <td>14</td>\n",
              "      <td>0</td>\n",
              "      <td>0.632723</td>\n",
              "      <td>0.446166</td>\n",
              "    </tr>\n",
              "    <tr>\n",
              "      <th>4</th>\n",
              "      <td>4</td>\n",
              "      <td>13357192.5</td>\n",
              "      <td>25</td>\n",
              "      <td>25.0</td>\n",
              "      <td>1</td>\n",
              "      <td>1</td>\n",
              "      <td>25</td>\n",
              "      <td>2332800.0</td>\n",
              "      <td>625.0</td>\n",
              "      <td>25</td>\n",
              "      <td>0</td>\n",
              "      <td>0.632723</td>\n",
              "      <td>0.446166</td>\n",
              "    </tr>\n",
              "  </tbody>\n",
              "</table>\n",
              "</div>"
            ],
            "text/plain": [
              "   Opportunity_ID  totalamount  ...  meanEncodingTerritory  meanEncodingRegion\n",
              "0               0    5272800.0  ...               0.535927            0.463392\n",
              "1               1      48230.0  ...               0.535927            0.463392\n",
              "2               2      83865.6  ...               0.632723            0.446166\n",
              "3               3    7421881.5  ...               0.632723            0.446166\n",
              "4               4   13357192.5  ...               0.632723            0.446166\n",
              "\n",
              "[5 rows x 13 columns]"
            ]
          },
          "metadata": {
            "tags": []
          },
          "execution_count": 548
        }
      ]
    },
    {
      "cell_type": "markdown",
      "metadata": {
        "id": "AFklI4IqGqqx"
      },
      "source": [
        "#Delivery_Terms"
      ]
    },
    {
      "cell_type": "code",
      "metadata": {
        "colab": {
          "base_uri": "https://localhost:8080/"
        },
        "id": "w8csoxJcGqrB",
        "outputId": "7180b146-ddef-4d87-8a2a-918a6426574c"
      },
      "source": [
        "df = pd.read_csv('data.csv')\n",
        "df['Delivery_Terms'].value_counts()"
      ],
      "execution_count": 549,
      "outputs": [
        {
          "output_type": "execute_result",
          "data": {
            "text/plain": [
              "Delivery_Terms_4    7712\n",
              "Delivery_Terms_2    4633\n",
              "Delivery_Terms_1    2936\n",
              "Delivery_Terms_6     781\n",
              "Delivery_Terms_5     636\n",
              "Delivery_Terms_8     164\n",
              "Delivery_Terms_3      41\n",
              "Delivery_Terms_7      38\n",
              "Delivery_Terms_0       6\n",
              "Name: Delivery_Terms, dtype: int64"
            ]
          },
          "metadata": {
            "tags": []
          },
          "execution_count": 549
        }
      ]
    },
    {
      "cell_type": "code",
      "metadata": {
        "id": "dvKu__hQGqrC"
      },
      "source": [
        "def agregarMeanEncoding(dfWithFeatureTarget,columnCategorica):\r\n",
        "  \"\"\"dfWithFeature es un df de formato ['Opportunity_ID', y columnas nuevas agregadas anteriormente,target]\r\n",
        "  se hace minencoding columancategoria, retorna un df con opportunity_id, meanencoding,columnas nuevas agregadas anteriormente\r\n",
        "      \"\"\"\r\n",
        "  df = pd.read_csv('data.csv')\r\n",
        "  entrenamiento = pd.read_csv('data.csv')\r\n",
        "  df = df.replace('Closed Won', '1')\r\n",
        "  df = df.replace('Closed Lost', '0')\r\n",
        "  df = df[df['Stage'].isin(['0','1'])]\r\n",
        "  df.Stage = df.Stage.astype(int)\r\n",
        "  df = df.groupby([columnCategorica,'Opportunity_ID']).agg({'Stage':['sum','count']})\r\n",
        "  df = df.reset_index()\r\n",
        "  df1 = df\r\n",
        "  df1.columns = [columnCategorica,'Opportunity_ID','Stage_sum','Stage_count']\r\n",
        "  df1['Stage_sum'] = df1['Stage_sum'].apply(lambda x: 0 if x == 0 else 1)\r\n",
        "  df2 = df1.groupby([columnCategorica]).agg(meanEncodingDelivery_Terms = ('Stage_sum','mean'))\r\n",
        "  df2 = df2.reset_index()\r\n",
        "  agruparOportunity=entrenamiento.groupby(['Opportunity_ID',columnCategorica]).agg(cant=(columnCategorica,'count')).reset_index()\r\n",
        "  result=pd.merge(agruparOportunity,df2,on=columnCategorica,how='inner')\r\n",
        "  #eliminamos columnas que no sirve, columncategorica porque la reemplazamos por el mean enconding, y cant que \r\n",
        "  #la usamos para unificar por oportunity_id \r\n",
        "  del result['cant']\r\n",
        "  del result['Delivery_Terms']\r\n",
        "  result2=pd.merge(dfWithFeatureTarget, result, on='Opportunity_ID' , how='inner')\r\n",
        "  \r\n",
        "  dfWithFeatureTarget=result2\r\n",
        "  dfWithFeatureTarget.Stage = dfWithFeatureTarget.Stage.astype(int)\r\n",
        "  return dfWithFeatureTarget"
      ],
      "execution_count": 550,
      "outputs": []
    },
    {
      "cell_type": "code",
      "metadata": {
        "colab": {
          "base_uri": "https://localhost:8080/",
          "height": 206
        },
        "id": "N7vXeMtWGqrC",
        "outputId": "39dcb374-f9e5-437f-b112-8ea642aaae36"
      },
      "source": [
        "dfNew2=agregarMeanEncoding(dfFeatureWithTarget,'Delivery_Terms')\r\n",
        "dfNew2=dfNew2[['Opportunity_ID','meanEncodingDelivery_Terms']]\r\n",
        "dfNew2.head()"
      ],
      "execution_count": 551,
      "outputs": [
        {
          "output_type": "execute_result",
          "data": {
            "text/html": [
              "<div>\n",
              "<style scoped>\n",
              "    .dataframe tbody tr th:only-of-type {\n",
              "        vertical-align: middle;\n",
              "    }\n",
              "\n",
              "    .dataframe tbody tr th {\n",
              "        vertical-align: top;\n",
              "    }\n",
              "\n",
              "    .dataframe thead th {\n",
              "        text-align: right;\n",
              "    }\n",
              "</style>\n",
              "<table border=\"1\" class=\"dataframe\">\n",
              "  <thead>\n",
              "    <tr style=\"text-align: right;\">\n",
              "      <th></th>\n",
              "      <th>Opportunity_ID</th>\n",
              "      <th>meanEncodingDelivery_Terms</th>\n",
              "    </tr>\n",
              "  </thead>\n",
              "  <tbody>\n",
              "    <tr>\n",
              "      <th>0</th>\n",
              "      <td>0</td>\n",
              "      <td>0.479801</td>\n",
              "    </tr>\n",
              "    <tr>\n",
              "      <th>1</th>\n",
              "      <td>1</td>\n",
              "      <td>0.479801</td>\n",
              "    </tr>\n",
              "    <tr>\n",
              "      <th>2</th>\n",
              "      <td>2</td>\n",
              "      <td>0.547011</td>\n",
              "    </tr>\n",
              "    <tr>\n",
              "      <th>3</th>\n",
              "      <td>3</td>\n",
              "      <td>0.449874</td>\n",
              "    </tr>\n",
              "    <tr>\n",
              "      <th>4</th>\n",
              "      <td>4</td>\n",
              "      <td>0.449874</td>\n",
              "    </tr>\n",
              "  </tbody>\n",
              "</table>\n",
              "</div>"
            ],
            "text/plain": [
              "   Opportunity_ID  meanEncodingDelivery_Terms\n",
              "0               0                    0.479801\n",
              "1               1                    0.479801\n",
              "2               2                    0.547011\n",
              "3               3                    0.449874\n",
              "4               4                    0.449874"
            ]
          },
          "metadata": {
            "tags": []
          },
          "execution_count": 551
        }
      ]
    },
    {
      "cell_type": "code",
      "metadata": {
        "colab": {
          "base_uri": "https://localhost:8080/",
          "height": 226
        },
        "id": "uc64HuIxGqrD",
        "outputId": "eee22095-180f-4f8e-983a-15025527c1ce"
      },
      "source": [
        "dfNew=pd.merge(dfNew, dfNew2, on='Opportunity_ID' , how='inner')\n",
        "dfNew.head()"
      ],
      "execution_count": 552,
      "outputs": [
        {
          "output_type": "execute_result",
          "data": {
            "text/html": [
              "<div>\n",
              "<style scoped>\n",
              "    .dataframe tbody tr th:only-of-type {\n",
              "        vertical-align: middle;\n",
              "    }\n",
              "\n",
              "    .dataframe tbody tr th {\n",
              "        vertical-align: top;\n",
              "    }\n",
              "\n",
              "    .dataframe thead th {\n",
              "        text-align: right;\n",
              "    }\n",
              "</style>\n",
              "<table border=\"1\" class=\"dataframe\">\n",
              "  <thead>\n",
              "    <tr style=\"text-align: right;\">\n",
              "      <th></th>\n",
              "      <th>Opportunity_ID</th>\n",
              "      <th>totalamount</th>\n",
              "      <th>totalTrf</th>\n",
              "      <th>meanTrf</th>\n",
              "      <th>cantTrf</th>\n",
              "      <th>cantProducFamilias</th>\n",
              "      <th>maxTrf</th>\n",
              "      <th>meanDisPlannedStarAndPlannedEnd</th>\n",
              "      <th>meanTrfporTotalTrf</th>\n",
              "      <th>cantProducFamiliasporTotalTrf</th>\n",
              "      <th>Stage</th>\n",
              "      <th>meanEncodingTerritory</th>\n",
              "      <th>meanEncodingRegion</th>\n",
              "      <th>meanEncodingDelivery_Terms</th>\n",
              "    </tr>\n",
              "  </thead>\n",
              "  <tbody>\n",
              "    <tr>\n",
              "      <th>0</th>\n",
              "      <td>0</td>\n",
              "      <td>5272800.0</td>\n",
              "      <td>10</td>\n",
              "      <td>10.0</td>\n",
              "      <td>1</td>\n",
              "      <td>1</td>\n",
              "      <td>10</td>\n",
              "      <td>5184000.0</td>\n",
              "      <td>100.0</td>\n",
              "      <td>10</td>\n",
              "      <td>0</td>\n",
              "      <td>0.535927</td>\n",
              "      <td>0.463392</td>\n",
              "      <td>0.479801</td>\n",
              "    </tr>\n",
              "    <tr>\n",
              "      <th>1</th>\n",
              "      <td>1</td>\n",
              "      <td>48230.0</td>\n",
              "      <td>0</td>\n",
              "      <td>0.0</td>\n",
              "      <td>1</td>\n",
              "      <td>1</td>\n",
              "      <td>0</td>\n",
              "      <td>172800.0</td>\n",
              "      <td>0.0</td>\n",
              "      <td>0</td>\n",
              "      <td>1</td>\n",
              "      <td>0.535927</td>\n",
              "      <td>0.463392</td>\n",
              "      <td>0.479801</td>\n",
              "    </tr>\n",
              "    <tr>\n",
              "      <th>2</th>\n",
              "      <td>2</td>\n",
              "      <td>83865.6</td>\n",
              "      <td>0</td>\n",
              "      <td>0.0</td>\n",
              "      <td>1</td>\n",
              "      <td>1</td>\n",
              "      <td>0</td>\n",
              "      <td>0.0</td>\n",
              "      <td>0.0</td>\n",
              "      <td>0</td>\n",
              "      <td>1</td>\n",
              "      <td>0.632723</td>\n",
              "      <td>0.446166</td>\n",
              "      <td>0.547011</td>\n",
              "    </tr>\n",
              "    <tr>\n",
              "      <th>3</th>\n",
              "      <td>3</td>\n",
              "      <td>7421881.5</td>\n",
              "      <td>14</td>\n",
              "      <td>14.0</td>\n",
              "      <td>1</td>\n",
              "      <td>1</td>\n",
              "      <td>14</td>\n",
              "      <td>5011200.0</td>\n",
              "      <td>196.0</td>\n",
              "      <td>14</td>\n",
              "      <td>0</td>\n",
              "      <td>0.632723</td>\n",
              "      <td>0.446166</td>\n",
              "      <td>0.449874</td>\n",
              "    </tr>\n",
              "    <tr>\n",
              "      <th>4</th>\n",
              "      <td>4</td>\n",
              "      <td>13357192.5</td>\n",
              "      <td>25</td>\n",
              "      <td>25.0</td>\n",
              "      <td>1</td>\n",
              "      <td>1</td>\n",
              "      <td>25</td>\n",
              "      <td>2332800.0</td>\n",
              "      <td>625.0</td>\n",
              "      <td>25</td>\n",
              "      <td>0</td>\n",
              "      <td>0.632723</td>\n",
              "      <td>0.446166</td>\n",
              "      <td>0.449874</td>\n",
              "    </tr>\n",
              "  </tbody>\n",
              "</table>\n",
              "</div>"
            ],
            "text/plain": [
              "   Opportunity_ID  totalamount  ...  meanEncodingRegion  meanEncodingDelivery_Terms\n",
              "0               0    5272800.0  ...            0.463392                    0.479801\n",
              "1               1      48230.0  ...            0.463392                    0.479801\n",
              "2               2      83865.6  ...            0.446166                    0.547011\n",
              "3               3    7421881.5  ...            0.446166                    0.449874\n",
              "4               4   13357192.5  ...            0.446166                    0.449874\n",
              "\n",
              "[5 rows x 14 columns]"
            ]
          },
          "metadata": {
            "tags": []
          },
          "execution_count": 552
        }
      ]
    },
    {
      "cell_type": "code",
      "metadata": {
        "id": "KDbCfSB-4Qq4"
      },
      "source": [
        ""
      ],
      "execution_count": 552,
      "outputs": []
    },
    {
      "cell_type": "markdown",
      "metadata": {
        "id": "YDR5wV7RLxYv"
      },
      "source": [
        "#Account_Owner\n"
      ]
    },
    {
      "cell_type": "code",
      "metadata": {
        "id": "ZCaPLla_LxYx"
      },
      "source": [
        "#df = pd.read_csv('data.csv')\n",
        "#df['Account_Owner'].value_counts()"
      ],
      "execution_count": 553,
      "outputs": []
    },
    {
      "cell_type": "code",
      "metadata": {
        "id": "V0CE4XxrLxYz"
      },
      "source": [
        "def agregarMeanEncoding(dfWithFeatureTarget,columnCategorica):\r\n",
        "  \"\"\"dfWithFeature es un df de formato ['Opportunity_ID', y columnas nuevas agregadas anteriormente,target]\r\n",
        "  se hace minencoding columancategoria, retorna un df con opportunity_id, meanencoding,columnas nuevas agregadas anteriormente\r\n",
        "      \"\"\"\r\n",
        "  df = pd.read_csv('data.csv')\r\n",
        "  entrenamiento = pd.read_csv('data.csv')\r\n",
        "  df = df.replace('Closed Won', '1')\r\n",
        "  df = df.replace('Closed Lost', '0')\r\n",
        "  df = df[df['Stage'].isin(['0','1'])]\r\n",
        "  df.Stage = df.Stage.astype(int)\r\n",
        "  df = df.groupby([columnCategorica,'Opportunity_ID']).agg({'Stage':['sum','count']})\r\n",
        "  df = df.reset_index()\r\n",
        "  df1 = df\r\n",
        "  df1.columns = [columnCategorica,'Opportunity_ID','Stage_sum','Stage_count']\r\n",
        "  df1['Stage_sum'] = df1['Stage_sum'].apply(lambda x: 0 if x == 0 else 1)\r\n",
        "  df2 = df1.groupby([columnCategorica]).agg(meanEncodingAccount_Owner = ('Stage_sum','mean'))\r\n",
        "  df2 = df2.reset_index()\r\n",
        "  agruparOportunity=entrenamiento.groupby(['Opportunity_ID',columnCategorica]).agg(cant=(columnCategorica,'count')).reset_index()\r\n",
        "  result=pd.merge(agruparOportunity,df2,on=columnCategorica,how='inner')\r\n",
        "  #eliminamos columnas que no sirve, columncategorica porque la reemplazamos por el mean enconding, y cant que \r\n",
        "  #la usamos para unificar por oportunity_id \r\n",
        "  del result['cant']\r\n",
        "  del result['Account_Owner']\r\n",
        "  result2=pd.merge(dfWithFeatureTarget, result, on='Opportunity_ID' , how='inner')\r\n",
        "  \r\n",
        "  dfWithFeatureTarget=result2\r\n",
        "  dfWithFeatureTarget.Stage = dfWithFeatureTarget.Stage.astype(int)\r\n",
        "  return dfWithFeatureTarget"
      ],
      "execution_count": 554,
      "outputs": []
    },
    {
      "cell_type": "code",
      "metadata": {
        "id": "RgyLdZp4LxYz"
      },
      "source": [
        "#dfNew2=agregarMeanEncoding(dfFeatureWithTarget,'Account_Owner')\r\n",
        "#dfNew2=dfNew2[['Opportunity_ID','meanEncodingAccount_Owner']]\r\n",
        "#dfNew2.head()"
      ],
      "execution_count": 555,
      "outputs": []
    },
    {
      "cell_type": "code",
      "metadata": {
        "id": "agbX23pvLxY0"
      },
      "source": [
        "#dfNew=pd.merge(dfNew, dfNew2, on='Opportunity_ID' , how='inner')\n",
        "#dfNew.head()"
      ],
      "execution_count": 556,
      "outputs": []
    },
    {
      "cell_type": "code",
      "metadata": {
        "id": "pZrZaF_9wZF7"
      },
      "source": [
        "#mer2=mer2.astype(int)"
      ],
      "execution_count": 557,
      "outputs": []
    },
    {
      "cell_type": "code",
      "metadata": {
        "id": "mUMXBDc14Quo"
      },
      "source": [
        "#dfNew3=pd.merge(dfNew, mer2, on='Opportunity_ID' , how='inner')\r\n",
        "#dfNew3"
      ],
      "execution_count": 558,
      "outputs": []
    },
    {
      "cell_type": "code",
      "metadata": {
        "id": "7_5khxF-Ls45"
      },
      "source": [
        "#dfNew3.info()"
      ],
      "execution_count": 559,
      "outputs": []
    },
    {
      "cell_type": "code",
      "metadata": {
        "id": "CgPS05zoLtA0"
      },
      "source": [
        ""
      ],
      "execution_count": 559,
      "outputs": []
    },
    {
      "cell_type": "code",
      "metadata": {
        "id": "JRmB5R3-zvNX"
      },
      "source": [
        "entrenamiento = pd.read_csv('data.csv')\r\n",
        "df=entrenamiento\r\n",
        "df['Month']=pd.to_datetime(df['Month'])\r\n",
        "df['anio']=df['Month'].dt.year\r\n",
        "df['mes']=df['Month'].dt.month\r\n",
        "#mes_cant_stage"
      ],
      "execution_count": 560,
      "outputs": []
    },
    {
      "cell_type": "code",
      "metadata": {
        "id": "Izw7KaQiyaSu"
      },
      "source": [
        "df['mes']=df['mes'].astype(str) "
      ],
      "execution_count": 561,
      "outputs": []
    },
    {
      "cell_type": "code",
      "metadata": {
        "id": "drsfCHBxspbQ"
      },
      "source": [
        "mesTrf=df.groupby(['Opportunity_ID','mes' ]).agg(totalTrf=('TRF','sum')).unstack().fillna(0)"
      ],
      "execution_count": 562,
      "outputs": []
    },
    {
      "cell_type": "code",
      "metadata": {
        "id": "_O1eYGFqyEA_"
      },
      "source": [
        "level0=mesTrf.columns.get_level_values(0)\n",
        "level1=mesTrf.columns.get_level_values(1)"
      ],
      "execution_count": 563,
      "outputs": []
    },
    {
      "cell_type": "code",
      "metadata": {
        "id": "qRla6lAdxnCQ"
      },
      "source": [
        "mesTrf.columns = level0 + '_' +  level1"
      ],
      "execution_count": 564,
      "outputs": []
    },
    {
      "cell_type": "code",
      "metadata": {
        "id": "ng2zk9q8y-Q_"
      },
      "source": [
        "mesTrf=mesTrf.reset_index() \n",
        " "
      ],
      "execution_count": 565,
      "outputs": []
    },
    {
      "cell_type": "code",
      "metadata": {
        "id": "AfTkGnV84Qx0",
        "colab": {
          "base_uri": "https://localhost:8080/",
          "height": 444
        },
        "outputId": "3b2a30ba-7d5a-4322-d205-f30c16966397"
      },
      "source": [
        "dfNew4=pd.merge(dfNew, mesTrf, on='Opportunity_ID' , how='inner')\n",
        "dfNew4"
      ],
      "execution_count": 566,
      "outputs": [
        {
          "output_type": "execute_result",
          "data": {
            "text/html": [
              "<div>\n",
              "<style scoped>\n",
              "    .dataframe tbody tr th:only-of-type {\n",
              "        vertical-align: middle;\n",
              "    }\n",
              "\n",
              "    .dataframe tbody tr th {\n",
              "        vertical-align: top;\n",
              "    }\n",
              "\n",
              "    .dataframe thead th {\n",
              "        text-align: right;\n",
              "    }\n",
              "</style>\n",
              "<table border=\"1\" class=\"dataframe\">\n",
              "  <thead>\n",
              "    <tr style=\"text-align: right;\">\n",
              "      <th></th>\n",
              "      <th>Opportunity_ID</th>\n",
              "      <th>totalamount</th>\n",
              "      <th>totalTrf</th>\n",
              "      <th>meanTrf</th>\n",
              "      <th>cantTrf</th>\n",
              "      <th>cantProducFamilias</th>\n",
              "      <th>maxTrf</th>\n",
              "      <th>meanDisPlannedStarAndPlannedEnd</th>\n",
              "      <th>meanTrfporTotalTrf</th>\n",
              "      <th>cantProducFamiliasporTotalTrf</th>\n",
              "      <th>Stage</th>\n",
              "      <th>meanEncodingTerritory</th>\n",
              "      <th>meanEncodingRegion</th>\n",
              "      <th>meanEncodingDelivery_Terms</th>\n",
              "      <th>totalTrf_1</th>\n",
              "      <th>totalTrf_10</th>\n",
              "      <th>totalTrf_11</th>\n",
              "      <th>totalTrf_12</th>\n",
              "      <th>totalTrf_2</th>\n",
              "      <th>totalTrf_3</th>\n",
              "      <th>totalTrf_4</th>\n",
              "      <th>totalTrf_5</th>\n",
              "      <th>totalTrf_6</th>\n",
              "      <th>totalTrf_7</th>\n",
              "      <th>totalTrf_8</th>\n",
              "      <th>totalTrf_9</th>\n",
              "    </tr>\n",
              "  </thead>\n",
              "  <tbody>\n",
              "    <tr>\n",
              "      <th>0</th>\n",
              "      <td>0</td>\n",
              "      <td>5272800.00</td>\n",
              "      <td>10</td>\n",
              "      <td>10.0</td>\n",
              "      <td>1</td>\n",
              "      <td>1</td>\n",
              "      <td>10</td>\n",
              "      <td>5184000.0</td>\n",
              "      <td>100.0</td>\n",
              "      <td>10</td>\n",
              "      <td>0</td>\n",
              "      <td>0.535927</td>\n",
              "      <td>0.463392</td>\n",
              "      <td>0.479801</td>\n",
              "      <td>0.0</td>\n",
              "      <td>0.0</td>\n",
              "      <td>0.0</td>\n",
              "      <td>0.0</td>\n",
              "      <td>0.0</td>\n",
              "      <td>0.0</td>\n",
              "      <td>0.0</td>\n",
              "      <td>10.0</td>\n",
              "      <td>0.0</td>\n",
              "      <td>0.0</td>\n",
              "      <td>0.0</td>\n",
              "      <td>0.0</td>\n",
              "    </tr>\n",
              "    <tr>\n",
              "      <th>1</th>\n",
              "      <td>1</td>\n",
              "      <td>48230.00</td>\n",
              "      <td>0</td>\n",
              "      <td>0.0</td>\n",
              "      <td>1</td>\n",
              "      <td>1</td>\n",
              "      <td>0</td>\n",
              "      <td>172800.0</td>\n",
              "      <td>0.0</td>\n",
              "      <td>0</td>\n",
              "      <td>1</td>\n",
              "      <td>0.535927</td>\n",
              "      <td>0.463392</td>\n",
              "      <td>0.479801</td>\n",
              "      <td>0.0</td>\n",
              "      <td>0.0</td>\n",
              "      <td>0.0</td>\n",
              "      <td>0.0</td>\n",
              "      <td>0.0</td>\n",
              "      <td>0.0</td>\n",
              "      <td>0.0</td>\n",
              "      <td>0.0</td>\n",
              "      <td>0.0</td>\n",
              "      <td>0.0</td>\n",
              "      <td>0.0</td>\n",
              "      <td>0.0</td>\n",
              "    </tr>\n",
              "    <tr>\n",
              "      <th>2</th>\n",
              "      <td>2</td>\n",
              "      <td>83865.60</td>\n",
              "      <td>0</td>\n",
              "      <td>0.0</td>\n",
              "      <td>1</td>\n",
              "      <td>1</td>\n",
              "      <td>0</td>\n",
              "      <td>0.0</td>\n",
              "      <td>0.0</td>\n",
              "      <td>0</td>\n",
              "      <td>1</td>\n",
              "      <td>0.632723</td>\n",
              "      <td>0.446166</td>\n",
              "      <td>0.547011</td>\n",
              "      <td>0.0</td>\n",
              "      <td>0.0</td>\n",
              "      <td>0.0</td>\n",
              "      <td>0.0</td>\n",
              "      <td>0.0</td>\n",
              "      <td>0.0</td>\n",
              "      <td>0.0</td>\n",
              "      <td>0.0</td>\n",
              "      <td>0.0</td>\n",
              "      <td>0.0</td>\n",
              "      <td>0.0</td>\n",
              "      <td>0.0</td>\n",
              "    </tr>\n",
              "    <tr>\n",
              "      <th>3</th>\n",
              "      <td>3</td>\n",
              "      <td>7421881.50</td>\n",
              "      <td>14</td>\n",
              "      <td>14.0</td>\n",
              "      <td>1</td>\n",
              "      <td>1</td>\n",
              "      <td>14</td>\n",
              "      <td>5011200.0</td>\n",
              "      <td>196.0</td>\n",
              "      <td>14</td>\n",
              "      <td>0</td>\n",
              "      <td>0.632723</td>\n",
              "      <td>0.446166</td>\n",
              "      <td>0.449874</td>\n",
              "      <td>0.0</td>\n",
              "      <td>0.0</td>\n",
              "      <td>0.0</td>\n",
              "      <td>0.0</td>\n",
              "      <td>14.0</td>\n",
              "      <td>0.0</td>\n",
              "      <td>0.0</td>\n",
              "      <td>0.0</td>\n",
              "      <td>0.0</td>\n",
              "      <td>0.0</td>\n",
              "      <td>0.0</td>\n",
              "      <td>0.0</td>\n",
              "    </tr>\n",
              "    <tr>\n",
              "      <th>4</th>\n",
              "      <td>4</td>\n",
              "      <td>13357192.50</td>\n",
              "      <td>25</td>\n",
              "      <td>25.0</td>\n",
              "      <td>1</td>\n",
              "      <td>1</td>\n",
              "      <td>25</td>\n",
              "      <td>2332800.0</td>\n",
              "      <td>625.0</td>\n",
              "      <td>25</td>\n",
              "      <td>0</td>\n",
              "      <td>0.632723</td>\n",
              "      <td>0.446166</td>\n",
              "      <td>0.449874</td>\n",
              "      <td>0.0</td>\n",
              "      <td>0.0</td>\n",
              "      <td>0.0</td>\n",
              "      <td>0.0</td>\n",
              "      <td>25.0</td>\n",
              "      <td>0.0</td>\n",
              "      <td>0.0</td>\n",
              "      <td>0.0</td>\n",
              "      <td>0.0</td>\n",
              "      <td>0.0</td>\n",
              "      <td>0.0</td>\n",
              "      <td>0.0</td>\n",
              "    </tr>\n",
              "    <tr>\n",
              "      <th>...</th>\n",
              "      <td>...</td>\n",
              "      <td>...</td>\n",
              "      <td>...</td>\n",
              "      <td>...</td>\n",
              "      <td>...</td>\n",
              "      <td>...</td>\n",
              "      <td>...</td>\n",
              "      <td>...</td>\n",
              "      <td>...</td>\n",
              "      <td>...</td>\n",
              "      <td>...</td>\n",
              "      <td>...</td>\n",
              "      <td>...</td>\n",
              "      <td>...</td>\n",
              "      <td>...</td>\n",
              "      <td>...</td>\n",
              "      <td>...</td>\n",
              "      <td>...</td>\n",
              "      <td>...</td>\n",
              "      <td>...</td>\n",
              "      <td>...</td>\n",
              "      <td>...</td>\n",
              "      <td>...</td>\n",
              "      <td>...</td>\n",
              "      <td>...</td>\n",
              "      <td>...</td>\n",
              "    </tr>\n",
              "    <tr>\n",
              "      <th>9786</th>\n",
              "      <td>12799</td>\n",
              "      <td>401700.00</td>\n",
              "      <td>1</td>\n",
              "      <td>1.0</td>\n",
              "      <td>1</td>\n",
              "      <td>1</td>\n",
              "      <td>1</td>\n",
              "      <td>1728000.0</td>\n",
              "      <td>1.0</td>\n",
              "      <td>1</td>\n",
              "      <td>1</td>\n",
              "      <td>0.388889</td>\n",
              "      <td>0.463392</td>\n",
              "      <td>0.479801</td>\n",
              "      <td>0.0</td>\n",
              "      <td>0.0</td>\n",
              "      <td>0.0</td>\n",
              "      <td>0.0</td>\n",
              "      <td>0.0</td>\n",
              "      <td>0.0</td>\n",
              "      <td>1.0</td>\n",
              "      <td>0.0</td>\n",
              "      <td>0.0</td>\n",
              "      <td>0.0</td>\n",
              "      <td>0.0</td>\n",
              "      <td>0.0</td>\n",
              "    </tr>\n",
              "    <tr>\n",
              "      <th>9787</th>\n",
              "      <td>12800</td>\n",
              "      <td>21332500.00</td>\n",
              "      <td>40</td>\n",
              "      <td>20.0</td>\n",
              "      <td>2</td>\n",
              "      <td>2</td>\n",
              "      <td>20</td>\n",
              "      <td>7603200.0</td>\n",
              "      <td>800.0</td>\n",
              "      <td>80</td>\n",
              "      <td>0</td>\n",
              "      <td>0.347490</td>\n",
              "      <td>0.446166</td>\n",
              "      <td>0.547011</td>\n",
              "      <td>0.0</td>\n",
              "      <td>40.0</td>\n",
              "      <td>0.0</td>\n",
              "      <td>0.0</td>\n",
              "      <td>0.0</td>\n",
              "      <td>0.0</td>\n",
              "      <td>0.0</td>\n",
              "      <td>0.0</td>\n",
              "      <td>0.0</td>\n",
              "      <td>0.0</td>\n",
              "      <td>0.0</td>\n",
              "      <td>0.0</td>\n",
              "    </tr>\n",
              "    <tr>\n",
              "      <th>9788</th>\n",
              "      <td>12801</td>\n",
              "      <td>299715.00</td>\n",
              "      <td>0</td>\n",
              "      <td>0.0</td>\n",
              "      <td>3</td>\n",
              "      <td>3</td>\n",
              "      <td>0</td>\n",
              "      <td>316800.0</td>\n",
              "      <td>0.0</td>\n",
              "      <td>0</td>\n",
              "      <td>1</td>\n",
              "      <td>0.805556</td>\n",
              "      <td>0.463392</td>\n",
              "      <td>0.479801</td>\n",
              "      <td>0.0</td>\n",
              "      <td>0.0</td>\n",
              "      <td>0.0</td>\n",
              "      <td>0.0</td>\n",
              "      <td>0.0</td>\n",
              "      <td>0.0</td>\n",
              "      <td>0.0</td>\n",
              "      <td>0.0</td>\n",
              "      <td>0.0</td>\n",
              "      <td>0.0</td>\n",
              "      <td>0.0</td>\n",
              "      <td>0.0</td>\n",
              "    </tr>\n",
              "    <tr>\n",
              "      <th>9789</th>\n",
              "      <td>12802</td>\n",
              "      <td>2346796.88</td>\n",
              "      <td>4</td>\n",
              "      <td>4.0</td>\n",
              "      <td>1</td>\n",
              "      <td>1</td>\n",
              "      <td>4</td>\n",
              "      <td>345600.0</td>\n",
              "      <td>16.0</td>\n",
              "      <td>4</td>\n",
              "      <td>0</td>\n",
              "      <td>0.347490</td>\n",
              "      <td>0.446166</td>\n",
              "      <td>0.547011</td>\n",
              "      <td>0.0</td>\n",
              "      <td>0.0</td>\n",
              "      <td>0.0</td>\n",
              "      <td>0.0</td>\n",
              "      <td>0.0</td>\n",
              "      <td>0.0</td>\n",
              "      <td>4.0</td>\n",
              "      <td>0.0</td>\n",
              "      <td>0.0</td>\n",
              "      <td>0.0</td>\n",
              "      <td>0.0</td>\n",
              "      <td>0.0</td>\n",
              "    </tr>\n",
              "    <tr>\n",
              "      <th>9790</th>\n",
              "      <td>12803</td>\n",
              "      <td>25603200.00</td>\n",
              "      <td>40</td>\n",
              "      <td>40.0</td>\n",
              "      <td>1</td>\n",
              "      <td>1</td>\n",
              "      <td>40</td>\n",
              "      <td>5270400.0</td>\n",
              "      <td>1600.0</td>\n",
              "      <td>40</td>\n",
              "      <td>0</td>\n",
              "      <td>0.347490</td>\n",
              "      <td>0.446166</td>\n",
              "      <td>0.547011</td>\n",
              "      <td>0.0</td>\n",
              "      <td>0.0</td>\n",
              "      <td>0.0</td>\n",
              "      <td>0.0</td>\n",
              "      <td>0.0</td>\n",
              "      <td>0.0</td>\n",
              "      <td>0.0</td>\n",
              "      <td>0.0</td>\n",
              "      <td>0.0</td>\n",
              "      <td>40.0</td>\n",
              "      <td>0.0</td>\n",
              "      <td>0.0</td>\n",
              "    </tr>\n",
              "  </tbody>\n",
              "</table>\n",
              "<p>9791 rows × 26 columns</p>\n",
              "</div>"
            ],
            "text/plain": [
              "      Opportunity_ID  totalamount  totalTrf  ...  totalTrf_7  totalTrf_8  totalTrf_9\n",
              "0                  0   5272800.00        10  ...         0.0         0.0         0.0\n",
              "1                  1     48230.00         0  ...         0.0         0.0         0.0\n",
              "2                  2     83865.60         0  ...         0.0         0.0         0.0\n",
              "3                  3   7421881.50        14  ...         0.0         0.0         0.0\n",
              "4                  4  13357192.50        25  ...         0.0         0.0         0.0\n",
              "...              ...          ...       ...  ...         ...         ...         ...\n",
              "9786           12799    401700.00         1  ...         0.0         0.0         0.0\n",
              "9787           12800  21332500.00        40  ...         0.0         0.0         0.0\n",
              "9788           12801    299715.00         0  ...         0.0         0.0         0.0\n",
              "9789           12802   2346796.88         4  ...         0.0         0.0         0.0\n",
              "9790           12803  25603200.00        40  ...        40.0         0.0         0.0\n",
              "\n",
              "[9791 rows x 26 columns]"
            ]
          },
          "metadata": {
            "tags": []
          },
          "execution_count": 566
        }
      ]
    },
    {
      "cell_type": "code",
      "metadata": {
        "id": "qyWtuSkixvx6"
      },
      "source": [
        "#guardo el df ya con sus features para usarlo \n",
        "dicAcumTrainAndTest['entrenamiento']=dfNew4"
      ],
      "execution_count": 567,
      "outputs": []
    },
    {
      "cell_type": "code",
      "metadata": {
        "colab": {
          "base_uri": "https://localhost:8080/"
        },
        "id": "8P7bAsNbzzbi",
        "outputId": "ade0c3bb-5bc9-47f4-af90-2ad5b216ca61"
      },
      "source": [
        "X,y=modelo.splitTrainTarget(dfNew4)"
      ],
      "execution_count": 568,
      "outputs": [
        {
          "output_type": "stream",
          "text": [
            "las columnas del train son Index(['totalamount', 'totalTrf', 'meanTrf', 'cantTrf', 'cantProducFamilias',\n",
            "       'maxTrf', 'meanDisPlannedStarAndPlannedEnd', 'meanTrfporTotalTrf',\n",
            "       'cantProducFamiliasporTotalTrf', 'meanEncodingTerritory',\n",
            "       'meanEncodingRegion', 'meanEncodingDelivery_Terms', 'totalTrf_1',\n",
            "       'totalTrf_10', 'totalTrf_11', 'totalTrf_12', 'totalTrf_2', 'totalTrf_3',\n",
            "       'totalTrf_4', 'totalTrf_5', 'totalTrf_6', 'totalTrf_7', 'totalTrf_8',\n",
            "       'totalTrf_9'],\n",
            "      dtype='object') y del target son  Stage\n"
          ],
          "name": "stdout"
        }
      ]
    },
    {
      "cell_type": "code",
      "metadata": {
        "id": "I0C9yMSdzzbi"
      },
      "source": [
        " #el optimizado splitea con los kfold, por eso usamos X,y en el buscaMejorHiperparametroModeloKfold\n",
        "X_train, X_test, y_train, y_test=modelo.SplitTrainTest(X,y)"
      ],
      "execution_count": 569,
      "outputs": []
    },
    {
      "cell_type": "code",
      "metadata": {
        "colab": {
          "base_uri": "https://localhost:8080/"
        },
        "id": "XWToDLyCzzbj",
        "outputId": "605c97fb-b24d-42f1-9aba-c3cc49203e95"
      },
      "source": [
        "#entrenamo y predecimos, y comparamos con el valor real y vemos su error\r\n",
        "modelo.errorSetEntrenamiento(X_train,y_train,X_test,y_test) "
      ],
      "execution_count": 570,
      "outputs": [
        {
          "output_type": "stream",
          "text": [
            "RMSE: 0.478510\n"
          ],
          "name": "stdout"
        }
      ]
    },
    {
      "cell_type": "code",
      "metadata": {
        "colab": {
          "base_uri": "https://localhost:8080/",
          "height": 444
        },
        "id": "4r7s20PMzzbi",
        "outputId": "2110e15b-f282-4c71-f695-40c6ef752d90"
      },
      "source": [
        "X_train"
      ],
      "execution_count": 571,
      "outputs": [
        {
          "output_type": "execute_result",
          "data": {
            "text/html": [
              "<div>\n",
              "<style scoped>\n",
              "    .dataframe tbody tr th:only-of-type {\n",
              "        vertical-align: middle;\n",
              "    }\n",
              "\n",
              "    .dataframe tbody tr th {\n",
              "        vertical-align: top;\n",
              "    }\n",
              "\n",
              "    .dataframe thead th {\n",
              "        text-align: right;\n",
              "    }\n",
              "</style>\n",
              "<table border=\"1\" class=\"dataframe\">\n",
              "  <thead>\n",
              "    <tr style=\"text-align: right;\">\n",
              "      <th></th>\n",
              "      <th>totalamount</th>\n",
              "      <th>totalTrf</th>\n",
              "      <th>meanTrf</th>\n",
              "      <th>cantTrf</th>\n",
              "      <th>cantProducFamilias</th>\n",
              "      <th>maxTrf</th>\n",
              "      <th>meanDisPlannedStarAndPlannedEnd</th>\n",
              "      <th>meanTrfporTotalTrf</th>\n",
              "      <th>cantProducFamiliasporTotalTrf</th>\n",
              "      <th>meanEncodingTerritory</th>\n",
              "      <th>meanEncodingRegion</th>\n",
              "      <th>meanEncodingDelivery_Terms</th>\n",
              "      <th>totalTrf_1</th>\n",
              "      <th>totalTrf_10</th>\n",
              "      <th>totalTrf_11</th>\n",
              "      <th>totalTrf_12</th>\n",
              "      <th>totalTrf_2</th>\n",
              "      <th>totalTrf_3</th>\n",
              "      <th>totalTrf_4</th>\n",
              "      <th>totalTrf_5</th>\n",
              "      <th>totalTrf_6</th>\n",
              "      <th>totalTrf_7</th>\n",
              "      <th>totalTrf_8</th>\n",
              "      <th>totalTrf_9</th>\n",
              "    </tr>\n",
              "  </thead>\n",
              "  <tbody>\n",
              "    <tr>\n",
              "      <th>2263</th>\n",
              "      <td>32050000.0</td>\n",
              "      <td>0</td>\n",
              "      <td>0.0</td>\n",
              "      <td>3</td>\n",
              "      <td>3</td>\n",
              "      <td>0</td>\n",
              "      <td>0.0</td>\n",
              "      <td>0.0</td>\n",
              "      <td>0</td>\n",
              "      <td>0.802326</td>\n",
              "      <td>0.684350</td>\n",
              "      <td>0.666667</td>\n",
              "      <td>0.0</td>\n",
              "      <td>0.0</td>\n",
              "      <td>0.0</td>\n",
              "      <td>0.0</td>\n",
              "      <td>0.0</td>\n",
              "      <td>0.0</td>\n",
              "      <td>0.0</td>\n",
              "      <td>0.0</td>\n",
              "      <td>0.0</td>\n",
              "      <td>0.0</td>\n",
              "      <td>0.0</td>\n",
              "      <td>0.0</td>\n",
              "    </tr>\n",
              "    <tr>\n",
              "      <th>9459</th>\n",
              "      <td>99450.0</td>\n",
              "      <td>0</td>\n",
              "      <td>0.0</td>\n",
              "      <td>1</td>\n",
              "      <td>1</td>\n",
              "      <td>0</td>\n",
              "      <td>86400.0</td>\n",
              "      <td>0.0</td>\n",
              "      <td>0</td>\n",
              "      <td>0.593750</td>\n",
              "      <td>0.463392</td>\n",
              "      <td>0.479801</td>\n",
              "      <td>0.0</td>\n",
              "      <td>0.0</td>\n",
              "      <td>0.0</td>\n",
              "      <td>0.0</td>\n",
              "      <td>0.0</td>\n",
              "      <td>0.0</td>\n",
              "      <td>0.0</td>\n",
              "      <td>0.0</td>\n",
              "      <td>0.0</td>\n",
              "      <td>0.0</td>\n",
              "      <td>0.0</td>\n",
              "      <td>0.0</td>\n",
              "    </tr>\n",
              "    <tr>\n",
              "      <th>7388</th>\n",
              "      <td>2827.5</td>\n",
              "      <td>0</td>\n",
              "      <td>0.0</td>\n",
              "      <td>1</td>\n",
              "      <td>1</td>\n",
              "      <td>0</td>\n",
              "      <td>0.0</td>\n",
              "      <td>0.0</td>\n",
              "      <td>0</td>\n",
              "      <td>0.548148</td>\n",
              "      <td>0.463392</td>\n",
              "      <td>0.479801</td>\n",
              "      <td>0.0</td>\n",
              "      <td>0.0</td>\n",
              "      <td>0.0</td>\n",
              "      <td>0.0</td>\n",
              "      <td>0.0</td>\n",
              "      <td>0.0</td>\n",
              "      <td>0.0</td>\n",
              "      <td>0.0</td>\n",
              "      <td>0.0</td>\n",
              "      <td>0.0</td>\n",
              "      <td>0.0</td>\n",
              "      <td>0.0</td>\n",
              "    </tr>\n",
              "    <tr>\n",
              "      <th>7033</th>\n",
              "      <td>1485160.0</td>\n",
              "      <td>3</td>\n",
              "      <td>1.5</td>\n",
              "      <td>2</td>\n",
              "      <td>2</td>\n",
              "      <td>3</td>\n",
              "      <td>0.0</td>\n",
              "      <td>4.5</td>\n",
              "      <td>6</td>\n",
              "      <td>0.632723</td>\n",
              "      <td>0.446166</td>\n",
              "      <td>0.547011</td>\n",
              "      <td>0.0</td>\n",
              "      <td>0.0</td>\n",
              "      <td>0.0</td>\n",
              "      <td>0.0</td>\n",
              "      <td>0.0</td>\n",
              "      <td>0.0</td>\n",
              "      <td>0.0</td>\n",
              "      <td>0.0</td>\n",
              "      <td>0.0</td>\n",
              "      <td>0.0</td>\n",
              "      <td>3.0</td>\n",
              "      <td>0.0</td>\n",
              "    </tr>\n",
              "    <tr>\n",
              "      <th>4740</th>\n",
              "      <td>81225.0</td>\n",
              "      <td>0</td>\n",
              "      <td>0.0</td>\n",
              "      <td>1</td>\n",
              "      <td>1</td>\n",
              "      <td>0</td>\n",
              "      <td>0.0</td>\n",
              "      <td>0.0</td>\n",
              "      <td>0</td>\n",
              "      <td>0.295165</td>\n",
              "      <td>0.463392</td>\n",
              "      <td>0.479801</td>\n",
              "      <td>0.0</td>\n",
              "      <td>0.0</td>\n",
              "      <td>0.0</td>\n",
              "      <td>0.0</td>\n",
              "      <td>0.0</td>\n",
              "      <td>0.0</td>\n",
              "      <td>0.0</td>\n",
              "      <td>0.0</td>\n",
              "      <td>0.0</td>\n",
              "      <td>0.0</td>\n",
              "      <td>0.0</td>\n",
              "      <td>0.0</td>\n",
              "    </tr>\n",
              "    <tr>\n",
              "      <th>...</th>\n",
              "      <td>...</td>\n",
              "      <td>...</td>\n",
              "      <td>...</td>\n",
              "      <td>...</td>\n",
              "      <td>...</td>\n",
              "      <td>...</td>\n",
              "      <td>...</td>\n",
              "      <td>...</td>\n",
              "      <td>...</td>\n",
              "      <td>...</td>\n",
              "      <td>...</td>\n",
              "      <td>...</td>\n",
              "      <td>...</td>\n",
              "      <td>...</td>\n",
              "      <td>...</td>\n",
              "      <td>...</td>\n",
              "      <td>...</td>\n",
              "      <td>...</td>\n",
              "      <td>...</td>\n",
              "      <td>...</td>\n",
              "      <td>...</td>\n",
              "      <td>...</td>\n",
              "      <td>...</td>\n",
              "      <td>...</td>\n",
              "    </tr>\n",
              "    <tr>\n",
              "      <th>9785</th>\n",
              "      <td>1307775.0</td>\n",
              "      <td>3</td>\n",
              "      <td>3.0</td>\n",
              "      <td>1</td>\n",
              "      <td>1</td>\n",
              "      <td>3</td>\n",
              "      <td>3974400.0</td>\n",
              "      <td>9.0</td>\n",
              "      <td>3</td>\n",
              "      <td>0.548148</td>\n",
              "      <td>0.463392</td>\n",
              "      <td>0.479801</td>\n",
              "      <td>0.0</td>\n",
              "      <td>0.0</td>\n",
              "      <td>0.0</td>\n",
              "      <td>0.0</td>\n",
              "      <td>0.0</td>\n",
              "      <td>0.0</td>\n",
              "      <td>0.0</td>\n",
              "      <td>0.0</td>\n",
              "      <td>0.0</td>\n",
              "      <td>0.0</td>\n",
              "      <td>3.0</td>\n",
              "      <td>0.0</td>\n",
              "    </tr>\n",
              "    <tr>\n",
              "      <th>7763</th>\n",
              "      <td>103125.0</td>\n",
              "      <td>0</td>\n",
              "      <td>0.0</td>\n",
              "      <td>1</td>\n",
              "      <td>1</td>\n",
              "      <td>0</td>\n",
              "      <td>345600.0</td>\n",
              "      <td>0.0</td>\n",
              "      <td>0</td>\n",
              "      <td>0.593750</td>\n",
              "      <td>0.463392</td>\n",
              "      <td>0.479801</td>\n",
              "      <td>0.0</td>\n",
              "      <td>0.0</td>\n",
              "      <td>0.0</td>\n",
              "      <td>0.0</td>\n",
              "      <td>0.0</td>\n",
              "      <td>0.0</td>\n",
              "      <td>0.0</td>\n",
              "      <td>0.0</td>\n",
              "      <td>0.0</td>\n",
              "      <td>0.0</td>\n",
              "      <td>0.0</td>\n",
              "      <td>0.0</td>\n",
              "    </tr>\n",
              "    <tr>\n",
              "      <th>5218</th>\n",
              "      <td>292410.0</td>\n",
              "      <td>1</td>\n",
              "      <td>1.0</td>\n",
              "      <td>1</td>\n",
              "      <td>1</td>\n",
              "      <td>1</td>\n",
              "      <td>1900800.0</td>\n",
              "      <td>1.0</td>\n",
              "      <td>1</td>\n",
              "      <td>0.417755</td>\n",
              "      <td>0.463392</td>\n",
              "      <td>0.479801</td>\n",
              "      <td>0.0</td>\n",
              "      <td>1.0</td>\n",
              "      <td>0.0</td>\n",
              "      <td>0.0</td>\n",
              "      <td>0.0</td>\n",
              "      <td>0.0</td>\n",
              "      <td>0.0</td>\n",
              "      <td>0.0</td>\n",
              "      <td>0.0</td>\n",
              "      <td>0.0</td>\n",
              "      <td>0.0</td>\n",
              "      <td>0.0</td>\n",
              "    </tr>\n",
              "    <tr>\n",
              "      <th>1346</th>\n",
              "      <td>326340.0</td>\n",
              "      <td>0</td>\n",
              "      <td>0.0</td>\n",
              "      <td>3</td>\n",
              "      <td>3</td>\n",
              "      <td>0</td>\n",
              "      <td>720000.0</td>\n",
              "      <td>0.0</td>\n",
              "      <td>0</td>\n",
              "      <td>0.802326</td>\n",
              "      <td>0.684350</td>\n",
              "      <td>0.666667</td>\n",
              "      <td>0.0</td>\n",
              "      <td>0.0</td>\n",
              "      <td>0.0</td>\n",
              "      <td>0.0</td>\n",
              "      <td>0.0</td>\n",
              "      <td>0.0</td>\n",
              "      <td>0.0</td>\n",
              "      <td>0.0</td>\n",
              "      <td>0.0</td>\n",
              "      <td>0.0</td>\n",
              "      <td>0.0</td>\n",
              "      <td>0.0</td>\n",
              "    </tr>\n",
              "    <tr>\n",
              "      <th>3582</th>\n",
              "      <td>3010000.0</td>\n",
              "      <td>0</td>\n",
              "      <td>0.0</td>\n",
              "      <td>1</td>\n",
              "      <td>1</td>\n",
              "      <td>0</td>\n",
              "      <td>0.0</td>\n",
              "      <td>0.0</td>\n",
              "      <td>0</td>\n",
              "      <td>0.802326</td>\n",
              "      <td>0.684350</td>\n",
              "      <td>0.547011</td>\n",
              "      <td>0.0</td>\n",
              "      <td>0.0</td>\n",
              "      <td>0.0</td>\n",
              "      <td>0.0</td>\n",
              "      <td>0.0</td>\n",
              "      <td>0.0</td>\n",
              "      <td>0.0</td>\n",
              "      <td>0.0</td>\n",
              "      <td>0.0</td>\n",
              "      <td>0.0</td>\n",
              "      <td>0.0</td>\n",
              "      <td>0.0</td>\n",
              "    </tr>\n",
              "  </tbody>\n",
              "</table>\n",
              "<p>6853 rows × 24 columns</p>\n",
              "</div>"
            ],
            "text/plain": [
              "      totalamount  totalTrf  meanTrf  ...  totalTrf_7  totalTrf_8  totalTrf_9\n",
              "2263   32050000.0         0      0.0  ...         0.0         0.0         0.0\n",
              "9459      99450.0         0      0.0  ...         0.0         0.0         0.0\n",
              "7388       2827.5         0      0.0  ...         0.0         0.0         0.0\n",
              "7033    1485160.0         3      1.5  ...         0.0         3.0         0.0\n",
              "4740      81225.0         0      0.0  ...         0.0         0.0         0.0\n",
              "...           ...       ...      ...  ...         ...         ...         ...\n",
              "9785    1307775.0         3      3.0  ...         0.0         3.0         0.0\n",
              "7763     103125.0         0      0.0  ...         0.0         0.0         0.0\n",
              "5218     292410.0         1      1.0  ...         0.0         0.0         0.0\n",
              "1346     326340.0         0      0.0  ...         0.0         0.0         0.0\n",
              "3582    3010000.0         0      0.0  ...         0.0         0.0         0.0\n",
              "\n",
              "[6853 rows x 24 columns]"
            ]
          },
          "metadata": {
            "tags": []
          },
          "execution_count": 571
        }
      ]
    },
    {
      "cell_type": "code",
      "metadata": {
        "colab": {
          "base_uri": "https://localhost:8080/"
        },
        "id": "_XpKFo3R2qYw",
        "outputId": "aa5236bb-335e-43bc-af79-fb81263dbef1"
      },
      "source": [
        "modelo.featureImportancia( X_train )"
      ],
      "execution_count": 572,
      "outputs": [
        {
          "output_type": "stream",
          "text": [
            "Hola\n"
          ],
          "name": "stdout"
        }
      ]
    },
    {
      "cell_type": "markdown",
      "metadata": {
        "id": "scihRxAGzzbj"
      },
      "source": [
        "# aca vamos a entrenar y predecir con el test para subir a kaggle"
      ]
    },
    {
      "cell_type": "markdown",
      "metadata": {
        "id": "DZk3f3uv_Ozk"
      },
      "source": [
        "# TERRITORY"
      ]
    },
    {
      "cell_type": "code",
      "metadata": {
        "id": "xrUXg3cKzzbj"
      },
      "source": [
        "test=pd.read_csv('test.csv')"
      ],
      "execution_count": 573,
      "outputs": []
    },
    {
      "cell_type": "code",
      "metadata": {
        "colab": {
          "base_uri": "https://localhost:8080/",
          "height": 410
        },
        "id": "KOWlTw_yzzbj",
        "outputId": "1722f379-8ff1-4412-dd33-83f385bf7333"
      },
      "source": [
        "testFeature=modelo.featureEngeenier(test)\r\n",
        "testFeature.head()"
      ],
      "execution_count": 574,
      "outputs": [
        {
          "output_type": "stream",
          "text": [
            "/usr/local/lib/python3.7/dist-packages/ipykernel_launcher.py:108: SettingWithCopyWarning: \n",
            "A value is trying to be set on a copy of a slice from a DataFrame.\n",
            "Try using .loc[row_indexer,col_indexer] = value instead\n",
            "\n",
            "See the caveats in the documentation: https://pandas.pydata.org/pandas-docs/stable/user_guide/indexing.html#returning-a-view-versus-a-copy\n",
            "/usr/local/lib/python3.7/dist-packages/ipykernel_launcher.py:109: SettingWithCopyWarning: \n",
            "A value is trying to be set on a copy of a slice from a DataFrame.\n",
            "Try using .loc[row_indexer,col_indexer] = value instead\n",
            "\n",
            "See the caveats in the documentation: https://pandas.pydata.org/pandas-docs/stable/user_guide/indexing.html#returning-a-view-versus-a-copy\n"
          ],
          "name": "stderr"
        },
        {
          "output_type": "execute_result",
          "data": {
            "text/html": [
              "<div>\n",
              "<style scoped>\n",
              "    .dataframe tbody tr th:only-of-type {\n",
              "        vertical-align: middle;\n",
              "    }\n",
              "\n",
              "    .dataframe tbody tr th {\n",
              "        vertical-align: top;\n",
              "    }\n",
              "\n",
              "    .dataframe thead th {\n",
              "        text-align: right;\n",
              "    }\n",
              "</style>\n",
              "<table border=\"1\" class=\"dataframe\">\n",
              "  <thead>\n",
              "    <tr style=\"text-align: right;\">\n",
              "      <th></th>\n",
              "      <th>Opportunity_ID</th>\n",
              "      <th>totalamount</th>\n",
              "      <th>totalTrf</th>\n",
              "      <th>meanTrf</th>\n",
              "      <th>cantTrf</th>\n",
              "      <th>cantProducFamilias</th>\n",
              "      <th>maxTrf</th>\n",
              "      <th>meanDisPlannedStarAndPlannedEnd</th>\n",
              "      <th>meanTrfporTotalTrf</th>\n",
              "      <th>cantProducFamiliasporTotalTrf</th>\n",
              "    </tr>\n",
              "  </thead>\n",
              "  <tbody>\n",
              "    <tr>\n",
              "      <th>0</th>\n",
              "      <td>10689</td>\n",
              "      <td>367419.0</td>\n",
              "      <td>0</td>\n",
              "      <td>0.0</td>\n",
              "      <td>3</td>\n",
              "      <td>3</td>\n",
              "      <td>0</td>\n",
              "      <td>2592000.0</td>\n",
              "      <td>0.0</td>\n",
              "      <td>0</td>\n",
              "    </tr>\n",
              "    <tr>\n",
              "      <th>1</th>\n",
              "      <td>10690</td>\n",
              "      <td>757783.5</td>\n",
              "      <td>1</td>\n",
              "      <td>0.2</td>\n",
              "      <td>5</td>\n",
              "      <td>5</td>\n",
              "      <td>1</td>\n",
              "      <td>2367360.0</td>\n",
              "      <td>0.2</td>\n",
              "      <td>5</td>\n",
              "    </tr>\n",
              "    <tr>\n",
              "      <th>2</th>\n",
              "      <td>10691</td>\n",
              "      <td>21037.5</td>\n",
              "      <td>0</td>\n",
              "      <td>0.0</td>\n",
              "      <td>1</td>\n",
              "      <td>1</td>\n",
              "      <td>0</td>\n",
              "      <td>0.0</td>\n",
              "      <td>0.0</td>\n",
              "      <td>0</td>\n",
              "    </tr>\n",
              "    <tr>\n",
              "      <th>3</th>\n",
              "      <td>10692</td>\n",
              "      <td>2169106.5</td>\n",
              "      <td>6</td>\n",
              "      <td>1.0</td>\n",
              "      <td>6</td>\n",
              "      <td>6</td>\n",
              "      <td>1</td>\n",
              "      <td>0.0</td>\n",
              "      <td>6.0</td>\n",
              "      <td>36</td>\n",
              "    </tr>\n",
              "    <tr>\n",
              "      <th>4</th>\n",
              "      <td>10693</td>\n",
              "      <td>5752.5</td>\n",
              "      <td>0</td>\n",
              "      <td>0.0</td>\n",
              "      <td>1</td>\n",
              "      <td>1</td>\n",
              "      <td>0</td>\n",
              "      <td>0.0</td>\n",
              "      <td>0.0</td>\n",
              "      <td>0</td>\n",
              "    </tr>\n",
              "  </tbody>\n",
              "</table>\n",
              "</div>"
            ],
            "text/plain": [
              "   Opportunity_ID  ...  cantProducFamiliasporTotalTrf\n",
              "0           10689  ...                              0\n",
              "1           10690  ...                              5\n",
              "2           10691  ...                              0\n",
              "3           10692  ...                             36\n",
              "4           10693  ...                              0\n",
              "\n",
              "[5 rows x 10 columns]"
            ]
          },
          "metadata": {
            "tags": []
          },
          "execution_count": 574
        }
      ]
    },
    {
      "cell_type": "code",
      "metadata": {
        "id": "cuTlZ9SQzvNK"
      },
      "source": [
        "#agrego columnas temporales\r\n",
        "ttest = pd.read_csv('test.csv')\r\n",
        "dft=ttest\r\n",
        "dft['Month']=pd.to_datetime(dft['Month'])\r\n",
        "dft['anio']=dft['Month'].dt.year\r\n",
        "dft['mes']=dft['Month'].dt.month\r\n",
        " "
      ],
      "execution_count": 575,
      "outputs": []
    },
    {
      "cell_type": "code",
      "metadata": {
        "id": "1n8Wch3a1GpM",
        "colab": {
          "base_uri": "https://localhost:8080/",
          "height": 424
        },
        "outputId": "8e2c208b-403c-4c24-868c-ac914e9a0e93"
      },
      "source": [
        "opMesTest=dft.groupby(['Opportunity_ID','mes']).agg(unificando=('mes','count')).reset_index()[['Opportunity_ID', \t'mes' \t]]\r\n",
        "opMesTest"
      ],
      "execution_count": 576,
      "outputs": [
        {
          "output_type": "execute_result",
          "data": {
            "text/html": [
              "<div>\n",
              "<style scoped>\n",
              "    .dataframe tbody tr th:only-of-type {\n",
              "        vertical-align: middle;\n",
              "    }\n",
              "\n",
              "    .dataframe tbody tr th {\n",
              "        vertical-align: top;\n",
              "    }\n",
              "\n",
              "    .dataframe thead th {\n",
              "        text-align: right;\n",
              "    }\n",
              "</style>\n",
              "<table border=\"1\" class=\"dataframe\">\n",
              "  <thead>\n",
              "    <tr style=\"text-align: right;\">\n",
              "      <th></th>\n",
              "      <th>Opportunity_ID</th>\n",
              "      <th>mes</th>\n",
              "    </tr>\n",
              "  </thead>\n",
              "  <tbody>\n",
              "    <tr>\n",
              "      <th>0</th>\n",
              "      <td>10689</td>\n",
              "      <td>5</td>\n",
              "    </tr>\n",
              "    <tr>\n",
              "      <th>1</th>\n",
              "      <td>10690</td>\n",
              "      <td>6</td>\n",
              "    </tr>\n",
              "    <tr>\n",
              "      <th>2</th>\n",
              "      <td>10691</td>\n",
              "      <td>10</td>\n",
              "    </tr>\n",
              "    <tr>\n",
              "      <th>3</th>\n",
              "      <td>10692</td>\n",
              "      <td>12</td>\n",
              "    </tr>\n",
              "    <tr>\n",
              "      <th>4</th>\n",
              "      <td>10693</td>\n",
              "      <td>5</td>\n",
              "    </tr>\n",
              "    <tr>\n",
              "      <th>...</th>\n",
              "      <td>...</td>\n",
              "      <td>...</td>\n",
              "    </tr>\n",
              "    <tr>\n",
              "      <th>1836</th>\n",
              "      <td>12364</td>\n",
              "      <td>5</td>\n",
              "    </tr>\n",
              "    <tr>\n",
              "      <th>1837</th>\n",
              "      <td>12365</td>\n",
              "      <td>10</td>\n",
              "    </tr>\n",
              "    <tr>\n",
              "      <th>1838</th>\n",
              "      <td>12366</td>\n",
              "      <td>10</td>\n",
              "    </tr>\n",
              "    <tr>\n",
              "      <th>1839</th>\n",
              "      <td>12367</td>\n",
              "      <td>8</td>\n",
              "    </tr>\n",
              "    <tr>\n",
              "      <th>1840</th>\n",
              "      <td>12368</td>\n",
              "      <td>10</td>\n",
              "    </tr>\n",
              "  </tbody>\n",
              "</table>\n",
              "<p>1841 rows × 2 columns</p>\n",
              "</div>"
            ],
            "text/plain": [
              "      Opportunity_ID  mes\n",
              "0              10689    5\n",
              "1              10690    6\n",
              "2              10691   10\n",
              "3              10692   12\n",
              "4              10693    5\n",
              "...              ...  ...\n",
              "1836           12364    5\n",
              "1837           12365   10\n",
              "1838           12366   10\n",
              "1839           12367    8\n",
              "1840           12368   10\n",
              "\n",
              "[1841 rows x 2 columns]"
            ]
          },
          "metadata": {
            "tags": []
          },
          "execution_count": 576
        }
      ]
    },
    {
      "cell_type": "code",
      "metadata": {
        "id": "saT5Tx2G1_JM"
      },
      "source": [
        ""
      ],
      "execution_count": 576,
      "outputs": []
    },
    {
      "cell_type": "code",
      "metadata": {
        "id": "Hkw51t5S2HM9"
      },
      "source": [
        "#mer=pd.merge(mes_cant_stage,opMesTest,on='mes',how='right')"
      ],
      "execution_count": 577,
      "outputs": []
    },
    {
      "cell_type": "code",
      "metadata": {
        "id": "ZjY3Lhyy2HM9"
      },
      "source": [
        "#mer=mer.astype(str)"
      ],
      "execution_count": 578,
      "outputs": []
    },
    {
      "cell_type": "code",
      "metadata": {
        "id": "sYjtCBML2HM-"
      },
      "source": [
        "#mer2=mer.groupby(['Opportunity_ID','mes']).agg({'cant_Closed_Lost_by_mes':'sum','cant_Closed_Won_by_mes':'sum'}).unstack().fillna(0)"
      ],
      "execution_count": 579,
      "outputs": []
    },
    {
      "cell_type": "code",
      "metadata": {
        "id": "bmfqYguZ2HM_"
      },
      "source": [
        "#level0=mer2.columns.get_level_values(0)\r\n",
        "#level1=mer2.columns.get_level_values(1)\r\n",
        " \r\n",
        "#mer2.columns = level0 + '_' + level1"
      ],
      "execution_count": 580,
      "outputs": []
    },
    {
      "cell_type": "code",
      "metadata": {
        "id": "Y7Oezt6w2HM_"
      },
      "source": [
        "#mer2=mer2.reset_index()"
      ],
      "execution_count": 581,
      "outputs": []
    },
    {
      "cell_type": "code",
      "metadata": {
        "id": "rXvK92z312GW"
      },
      "source": [
        "#mer2=mer2.astype(int)"
      ],
      "execution_count": 582,
      "outputs": []
    },
    {
      "cell_type": "code",
      "metadata": {
        "id": "8ihnm72O2YMM"
      },
      "source": [
        "# fin de agregar columnas temporales"
      ],
      "execution_count": 583,
      "outputs": []
    },
    {
      "cell_type": "code",
      "metadata": {
        "id": "L0d1V26wzzbk"
      },
      "source": [
        "def meanEncodingDejandoColumnaCategorica(columnsCategory):\r\n",
        "  \"\"\"devuelve un dataframe con el formato [columnscategory,meanencodingcategory]\r\n",
        "    es porque lo vamos a usar para hacer merge por su columna categorica\"\"\"\r\n",
        "  df = pd.read_csv('data.csv')\r\n",
        "  entrenamiento = pd.read_csv('data.csv')\r\n",
        "  df = df.replace('Closed Won', '1')\r\n",
        "  df = df.replace('Closed Lost', '0')\r\n",
        "  df = df[df['Stage'].isin(['0','1'])]\r\n",
        "  df.Stage = df.Stage.astype(int)\r\n",
        "  df = df.groupby([columnsCategory,'Opportunity_ID']).agg({'Stage':['sum','count']})\r\n",
        "  df = df.reset_index()\r\n",
        "  df1 = df\r\n",
        "  df1.columns = [columnsCategory,'Opportunity_ID','Stage_sum','Stage_count']\r\n",
        "  df1['Stage_sum'] = df1['Stage_sum'].apply(lambda x: 0 if x == 0 else 1)\r\n",
        "  df2 = df1.groupby([columnsCategory]).agg(meanEncodingTerritory = ('Stage_sum','mean'))\r\n",
        "  df2 = df2.reset_index()\r\n",
        "  agruparOportunity=entrenamiento.groupby(['Opportunity_ID',columnsCategory]).agg(cant=(columnsCategory,'count')).reset_index()\r\n",
        "  result=pd.merge(agruparOportunity,df2,on=columnsCategory,how='inner')\r\n",
        "  result.head()\r\n",
        "  del result['cant']\r\n",
        "  result2=result[[columnsCategory,'meanEncodingTerritory']].drop_duplicates()\r\n",
        "  return  result2"
      ],
      "execution_count": 584,
      "outputs": []
    },
    {
      "cell_type": "code",
      "metadata": {
        "colab": {
          "base_uri": "https://localhost:8080/",
          "height": 206
        },
        "id": "6dA9Pf1Pzzbk",
        "outputId": "ba686202-3220-4f1c-c047-bf31ca1ff5e0"
      },
      "source": [
        "dfMeanEncoding=meanEncodingDejandoColumnaCategorica(\"Territory\")\r\n",
        "dfMeanEncoding.head()"
      ],
      "execution_count": 585,
      "outputs": [
        {
          "output_type": "execute_result",
          "data": {
            "text/html": [
              "<div>\n",
              "<style scoped>\n",
              "    .dataframe tbody tr th:only-of-type {\n",
              "        vertical-align: middle;\n",
              "    }\n",
              "\n",
              "    .dataframe tbody tr th {\n",
              "        vertical-align: top;\n",
              "    }\n",
              "\n",
              "    .dataframe thead th {\n",
              "        text-align: right;\n",
              "    }\n",
              "</style>\n",
              "<table border=\"1\" class=\"dataframe\">\n",
              "  <thead>\n",
              "    <tr style=\"text-align: right;\">\n",
              "      <th></th>\n",
              "      <th>Territory</th>\n",
              "      <th>meanEncodingTerritory</th>\n",
              "    </tr>\n",
              "  </thead>\n",
              "  <tbody>\n",
              "    <tr>\n",
              "      <th>0</th>\n",
              "      <td>None</td>\n",
              "      <td>0.535927</td>\n",
              "    </tr>\n",
              "    <tr>\n",
              "      <th>1867</th>\n",
              "      <td>NW America</td>\n",
              "      <td>0.632723</td>\n",
              "    </tr>\n",
              "    <tr>\n",
              "      <th>2745</th>\n",
              "      <td>India</td>\n",
              "      <td>0.457227</td>\n",
              "    </tr>\n",
              "    <tr>\n",
              "      <th>3425</th>\n",
              "      <td>Italy</td>\n",
              "      <td>0.432692</td>\n",
              "    </tr>\n",
              "    <tr>\n",
              "      <th>3633</th>\n",
              "      <td>Germany</td>\n",
              "      <td>0.548148</td>\n",
              "    </tr>\n",
              "  </tbody>\n",
              "</table>\n",
              "</div>"
            ],
            "text/plain": [
              "       Territory  meanEncodingTerritory\n",
              "0           None               0.535927\n",
              "1867  NW America               0.632723\n",
              "2745       India               0.457227\n",
              "3425       Italy               0.432692\n",
              "3633     Germany               0.548148"
            ]
          },
          "metadata": {
            "tags": []
          },
          "execution_count": 585
        }
      ]
    },
    {
      "cell_type": "code",
      "metadata": {
        "colab": {
          "base_uri": "https://localhost:8080/",
          "height": 206
        },
        "id": "RL1PTBnGzzbl",
        "outputId": "2a28eca7-212b-4b8c-f2a2-a478627334c5"
      },
      "source": [
        "testAux=test.groupby(['Opportunity_ID','Territory' ]).agg(cant=('Opportunity_ID','count')).reset_index()[['Opportunity_ID','Territory' ]]\r\n",
        "testAux.head()"
      ],
      "execution_count": 586,
      "outputs": [
        {
          "output_type": "execute_result",
          "data": {
            "text/html": [
              "<div>\n",
              "<style scoped>\n",
              "    .dataframe tbody tr th:only-of-type {\n",
              "        vertical-align: middle;\n",
              "    }\n",
              "\n",
              "    .dataframe tbody tr th {\n",
              "        vertical-align: top;\n",
              "    }\n",
              "\n",
              "    .dataframe thead th {\n",
              "        text-align: right;\n",
              "    }\n",
              "</style>\n",
              "<table border=\"1\" class=\"dataframe\">\n",
              "  <thead>\n",
              "    <tr style=\"text-align: right;\">\n",
              "      <th></th>\n",
              "      <th>Opportunity_ID</th>\n",
              "      <th>Territory</th>\n",
              "    </tr>\n",
              "  </thead>\n",
              "  <tbody>\n",
              "    <tr>\n",
              "      <th>0</th>\n",
              "      <td>10689</td>\n",
              "      <td>Germany</td>\n",
              "    </tr>\n",
              "    <tr>\n",
              "      <th>1</th>\n",
              "      <td>10690</td>\n",
              "      <td>Germany</td>\n",
              "    </tr>\n",
              "    <tr>\n",
              "      <th>2</th>\n",
              "      <td>10691</td>\n",
              "      <td>NE America</td>\n",
              "    </tr>\n",
              "    <tr>\n",
              "      <th>3</th>\n",
              "      <td>10692</td>\n",
              "      <td>NW America</td>\n",
              "    </tr>\n",
              "    <tr>\n",
              "      <th>4</th>\n",
              "      <td>10693</td>\n",
              "      <td>NW America</td>\n",
              "    </tr>\n",
              "  </tbody>\n",
              "</table>\n",
              "</div>"
            ],
            "text/plain": [
              "   Opportunity_ID   Territory\n",
              "0           10689     Germany\n",
              "1           10690     Germany\n",
              "2           10691  NE America\n",
              "3           10692  NW America\n",
              "4           10693  NW America"
            ]
          },
          "metadata": {
            "tags": []
          },
          "execution_count": 586
        }
      ]
    },
    {
      "cell_type": "code",
      "metadata": {
        "colab": {
          "base_uri": "https://localhost:8080/",
          "height": 424
        },
        "id": "9R4Gb4iZzzbm",
        "outputId": "e8beb78f-488d-4400-b443-e3ff05d27c26"
      },
      "source": [
        "territories=pd.merge(testAux,dfMeanEncoding, on=\"Territory\", how='left') \r\n",
        "territories"
      ],
      "execution_count": 587,
      "outputs": [
        {
          "output_type": "execute_result",
          "data": {
            "text/html": [
              "<div>\n",
              "<style scoped>\n",
              "    .dataframe tbody tr th:only-of-type {\n",
              "        vertical-align: middle;\n",
              "    }\n",
              "\n",
              "    .dataframe tbody tr th {\n",
              "        vertical-align: top;\n",
              "    }\n",
              "\n",
              "    .dataframe thead th {\n",
              "        text-align: right;\n",
              "    }\n",
              "</style>\n",
              "<table border=\"1\" class=\"dataframe\">\n",
              "  <thead>\n",
              "    <tr style=\"text-align: right;\">\n",
              "      <th></th>\n",
              "      <th>Opportunity_ID</th>\n",
              "      <th>Territory</th>\n",
              "      <th>meanEncodingTerritory</th>\n",
              "    </tr>\n",
              "  </thead>\n",
              "  <tbody>\n",
              "    <tr>\n",
              "      <th>0</th>\n",
              "      <td>10689</td>\n",
              "      <td>Germany</td>\n",
              "      <td>0.548148</td>\n",
              "    </tr>\n",
              "    <tr>\n",
              "      <th>1</th>\n",
              "      <td>10690</td>\n",
              "      <td>Germany</td>\n",
              "      <td>0.548148</td>\n",
              "    </tr>\n",
              "    <tr>\n",
              "      <th>2</th>\n",
              "      <td>10691</td>\n",
              "      <td>NE America</td>\n",
              "      <td>0.347490</td>\n",
              "    </tr>\n",
              "    <tr>\n",
              "      <th>3</th>\n",
              "      <td>10692</td>\n",
              "      <td>NW America</td>\n",
              "      <td>0.632723</td>\n",
              "    </tr>\n",
              "    <tr>\n",
              "      <th>4</th>\n",
              "      <td>10693</td>\n",
              "      <td>NW America</td>\n",
              "      <td>0.632723</td>\n",
              "    </tr>\n",
              "    <tr>\n",
              "      <th>...</th>\n",
              "      <td>...</td>\n",
              "      <td>...</td>\n",
              "      <td>...</td>\n",
              "    </tr>\n",
              "    <tr>\n",
              "      <th>1562</th>\n",
              "      <td>12364</td>\n",
              "      <td>KSA</td>\n",
              "      <td>0.416667</td>\n",
              "    </tr>\n",
              "    <tr>\n",
              "      <th>1563</th>\n",
              "      <td>12365</td>\n",
              "      <td>SE America</td>\n",
              "      <td>0.367953</td>\n",
              "    </tr>\n",
              "    <tr>\n",
              "      <th>1564</th>\n",
              "      <td>12366</td>\n",
              "      <td>SE America</td>\n",
              "      <td>0.367953</td>\n",
              "    </tr>\n",
              "    <tr>\n",
              "      <th>1565</th>\n",
              "      <td>12367</td>\n",
              "      <td>NE America</td>\n",
              "      <td>0.347490</td>\n",
              "    </tr>\n",
              "    <tr>\n",
              "      <th>1566</th>\n",
              "      <td>12368</td>\n",
              "      <td>Belgium</td>\n",
              "      <td>0.569832</td>\n",
              "    </tr>\n",
              "  </tbody>\n",
              "</table>\n",
              "<p>1567 rows × 3 columns</p>\n",
              "</div>"
            ],
            "text/plain": [
              "      Opportunity_ID   Territory  meanEncodingTerritory\n",
              "0              10689     Germany               0.548148\n",
              "1              10690     Germany               0.548148\n",
              "2              10691  NE America               0.347490\n",
              "3              10692  NW America               0.632723\n",
              "4              10693  NW America               0.632723\n",
              "...              ...         ...                    ...\n",
              "1562           12364         KSA               0.416667\n",
              "1563           12365  SE America               0.367953\n",
              "1564           12366  SE America               0.367953\n",
              "1565           12367  NE America               0.347490\n",
              "1566           12368     Belgium               0.569832\n",
              "\n",
              "[1567 rows x 3 columns]"
            ]
          },
          "metadata": {
            "tags": []
          },
          "execution_count": 587
        }
      ]
    },
    {
      "cell_type": "code",
      "metadata": {
        "colab": {
          "base_uri": "https://localhost:8080/",
          "height": 479
        },
        "id": "KUuMgh8Kzzbm",
        "outputId": "4c692b86-f5df-4256-e5cb-9c4e0aa25279"
      },
      "source": [
        " testFinal=pd.merge(testFeature,territories, on=\"Opportunity_ID\", how='inner') \r\n",
        " testFinal"
      ],
      "execution_count": 588,
      "outputs": [
        {
          "output_type": "execute_result",
          "data": {
            "text/html": [
              "<div>\n",
              "<style scoped>\n",
              "    .dataframe tbody tr th:only-of-type {\n",
              "        vertical-align: middle;\n",
              "    }\n",
              "\n",
              "    .dataframe tbody tr th {\n",
              "        vertical-align: top;\n",
              "    }\n",
              "\n",
              "    .dataframe thead th {\n",
              "        text-align: right;\n",
              "    }\n",
              "</style>\n",
              "<table border=\"1\" class=\"dataframe\">\n",
              "  <thead>\n",
              "    <tr style=\"text-align: right;\">\n",
              "      <th></th>\n",
              "      <th>Opportunity_ID</th>\n",
              "      <th>totalamount</th>\n",
              "      <th>totalTrf</th>\n",
              "      <th>meanTrf</th>\n",
              "      <th>cantTrf</th>\n",
              "      <th>cantProducFamilias</th>\n",
              "      <th>maxTrf</th>\n",
              "      <th>meanDisPlannedStarAndPlannedEnd</th>\n",
              "      <th>meanTrfporTotalTrf</th>\n",
              "      <th>cantProducFamiliasporTotalTrf</th>\n",
              "      <th>Territory</th>\n",
              "      <th>meanEncodingTerritory</th>\n",
              "    </tr>\n",
              "  </thead>\n",
              "  <tbody>\n",
              "    <tr>\n",
              "      <th>0</th>\n",
              "      <td>10689</td>\n",
              "      <td>367419.0</td>\n",
              "      <td>0</td>\n",
              "      <td>0.0</td>\n",
              "      <td>3</td>\n",
              "      <td>3</td>\n",
              "      <td>0</td>\n",
              "      <td>2592000.0</td>\n",
              "      <td>0.0</td>\n",
              "      <td>0</td>\n",
              "      <td>Germany</td>\n",
              "      <td>0.548148</td>\n",
              "    </tr>\n",
              "    <tr>\n",
              "      <th>1</th>\n",
              "      <td>10690</td>\n",
              "      <td>757783.5</td>\n",
              "      <td>1</td>\n",
              "      <td>0.2</td>\n",
              "      <td>5</td>\n",
              "      <td>5</td>\n",
              "      <td>1</td>\n",
              "      <td>2367360.0</td>\n",
              "      <td>0.2</td>\n",
              "      <td>5</td>\n",
              "      <td>Germany</td>\n",
              "      <td>0.548148</td>\n",
              "    </tr>\n",
              "    <tr>\n",
              "      <th>2</th>\n",
              "      <td>10691</td>\n",
              "      <td>21037.5</td>\n",
              "      <td>0</td>\n",
              "      <td>0.0</td>\n",
              "      <td>1</td>\n",
              "      <td>1</td>\n",
              "      <td>0</td>\n",
              "      <td>0.0</td>\n",
              "      <td>0.0</td>\n",
              "      <td>0</td>\n",
              "      <td>NE America</td>\n",
              "      <td>0.347490</td>\n",
              "    </tr>\n",
              "    <tr>\n",
              "      <th>3</th>\n",
              "      <td>10692</td>\n",
              "      <td>2169106.5</td>\n",
              "      <td>6</td>\n",
              "      <td>1.0</td>\n",
              "      <td>6</td>\n",
              "      <td>6</td>\n",
              "      <td>1</td>\n",
              "      <td>0.0</td>\n",
              "      <td>6.0</td>\n",
              "      <td>36</td>\n",
              "      <td>NW America</td>\n",
              "      <td>0.632723</td>\n",
              "    </tr>\n",
              "    <tr>\n",
              "      <th>4</th>\n",
              "      <td>10693</td>\n",
              "      <td>5752.5</td>\n",
              "      <td>0</td>\n",
              "      <td>0.0</td>\n",
              "      <td>1</td>\n",
              "      <td>1</td>\n",
              "      <td>0</td>\n",
              "      <td>0.0</td>\n",
              "      <td>0.0</td>\n",
              "      <td>0</td>\n",
              "      <td>NW America</td>\n",
              "      <td>0.632723</td>\n",
              "    </tr>\n",
              "    <tr>\n",
              "      <th>...</th>\n",
              "      <td>...</td>\n",
              "      <td>...</td>\n",
              "      <td>...</td>\n",
              "      <td>...</td>\n",
              "      <td>...</td>\n",
              "      <td>...</td>\n",
              "      <td>...</td>\n",
              "      <td>...</td>\n",
              "      <td>...</td>\n",
              "      <td>...</td>\n",
              "      <td>...</td>\n",
              "      <td>...</td>\n",
              "    </tr>\n",
              "    <tr>\n",
              "      <th>1562</th>\n",
              "      <td>12364</td>\n",
              "      <td>147750.0</td>\n",
              "      <td>0</td>\n",
              "      <td>0.0</td>\n",
              "      <td>2</td>\n",
              "      <td>2</td>\n",
              "      <td>0</td>\n",
              "      <td>777600.0</td>\n",
              "      <td>0.0</td>\n",
              "      <td>0</td>\n",
              "      <td>KSA</td>\n",
              "      <td>0.416667</td>\n",
              "    </tr>\n",
              "    <tr>\n",
              "      <th>1563</th>\n",
              "      <td>12365</td>\n",
              "      <td>45054.9</td>\n",
              "      <td>0</td>\n",
              "      <td>0.0</td>\n",
              "      <td>1</td>\n",
              "      <td>1</td>\n",
              "      <td>0</td>\n",
              "      <td>7862400.0</td>\n",
              "      <td>0.0</td>\n",
              "      <td>0</td>\n",
              "      <td>SE America</td>\n",
              "      <td>0.367953</td>\n",
              "    </tr>\n",
              "    <tr>\n",
              "      <th>1564</th>\n",
              "      <td>12366</td>\n",
              "      <td>100122.0</td>\n",
              "      <td>0</td>\n",
              "      <td>0.0</td>\n",
              "      <td>1</td>\n",
              "      <td>1</td>\n",
              "      <td>0</td>\n",
              "      <td>7862400.0</td>\n",
              "      <td>0.0</td>\n",
              "      <td>0</td>\n",
              "      <td>SE America</td>\n",
              "      <td>0.367953</td>\n",
              "    </tr>\n",
              "    <tr>\n",
              "      <th>1565</th>\n",
              "      <td>12367</td>\n",
              "      <td>143220.0</td>\n",
              "      <td>0</td>\n",
              "      <td>0.0</td>\n",
              "      <td>1</td>\n",
              "      <td>1</td>\n",
              "      <td>0</td>\n",
              "      <td>0.0</td>\n",
              "      <td>0.0</td>\n",
              "      <td>0</td>\n",
              "      <td>NE America</td>\n",
              "      <td>0.347490</td>\n",
              "    </tr>\n",
              "    <tr>\n",
              "      <th>1566</th>\n",
              "      <td>12368</td>\n",
              "      <td>871020.8</td>\n",
              "      <td>3</td>\n",
              "      <td>3.0</td>\n",
              "      <td>1</td>\n",
              "      <td>1</td>\n",
              "      <td>3</td>\n",
              "      <td>4579200.0</td>\n",
              "      <td>9.0</td>\n",
              "      <td>3</td>\n",
              "      <td>Belgium</td>\n",
              "      <td>0.569832</td>\n",
              "    </tr>\n",
              "  </tbody>\n",
              "</table>\n",
              "<p>1567 rows × 12 columns</p>\n",
              "</div>"
            ],
            "text/plain": [
              "      Opportunity_ID  totalamount  ...   Territory  meanEncodingTerritory\n",
              "0              10689     367419.0  ...     Germany               0.548148\n",
              "1              10690     757783.5  ...     Germany               0.548148\n",
              "2              10691      21037.5  ...  NE America               0.347490\n",
              "3              10692    2169106.5  ...  NW America               0.632723\n",
              "4              10693       5752.5  ...  NW America               0.632723\n",
              "...              ...          ...  ...         ...                    ...\n",
              "1562           12364     147750.0  ...         KSA               0.416667\n",
              "1563           12365      45054.9  ...  SE America               0.367953\n",
              "1564           12366     100122.0  ...  SE America               0.367953\n",
              "1565           12367     143220.0  ...  NE America               0.347490\n",
              "1566           12368     871020.8  ...     Belgium               0.569832\n",
              "\n",
              "[1567 rows x 12 columns]"
            ]
          },
          "metadata": {
            "tags": []
          },
          "execution_count": 588
        }
      ]
    },
    {
      "cell_type": "code",
      "metadata": {
        "id": "B64O4SpcAnVx"
      },
      "source": [
        ""
      ],
      "execution_count": 588,
      "outputs": []
    },
    {
      "cell_type": "markdown",
      "metadata": {
        "id": "x1OdGFz4Axur"
      },
      "source": [
        "# REGION"
      ]
    },
    {
      "cell_type": "code",
      "metadata": {
        "id": "lz6Ssfs5AoVb"
      },
      "source": [
        "def meanEncodingDejandoColumnaCategorica(columnsCategory):\r\n",
        "  \"\"\"devuelve un dataframe con el formato [columnscategory,meanencodingcategory]\r\n",
        "    es porque lo vamos a usar para hacer merge por su columna categorica\"\"\"\r\n",
        "  df = pd.read_csv('data.csv')\r\n",
        "  entrenamiento = pd.read_csv('data.csv')\r\n",
        "  df = df.replace('Closed Won', '1')\r\n",
        "  df = df.replace('Closed Lost', '0')\r\n",
        "  df = df[df['Stage'].isin(['0','1'])]\r\n",
        "  df.Stage = df.Stage.astype(int)\r\n",
        "  df = df.groupby([columnsCategory,'Opportunity_ID']).agg({'Stage':['sum','count']})\r\n",
        "  df = df.reset_index()\r\n",
        "  df1 = df\r\n",
        "  df1.columns = [columnsCategory,'Opportunity_ID','Stage_sum','Stage_count']\r\n",
        "  df1['Stage_sum'] = df1['Stage_sum'].apply(lambda x: 0 if x == 0 else 1)\r\n",
        "  df2 = df1.groupby([columnsCategory]).agg(meanEncodingRegion = ('Stage_sum','mean'))\r\n",
        "  df2 = df2.reset_index()\r\n",
        "  agruparOportunity=entrenamiento.groupby(['Opportunity_ID',columnsCategory]).agg(cant=(columnsCategory,'count')).reset_index()\r\n",
        "  result=pd.merge(agruparOportunity,df2,on=columnsCategory,how='inner')\r\n",
        "  result.head()\r\n",
        "  del result['cant']\r\n",
        "  result2=result[[columnsCategory,'meanEncodingRegion']].drop_duplicates()\r\n",
        "  return  result2"
      ],
      "execution_count": 589,
      "outputs": []
    },
    {
      "cell_type": "code",
      "metadata": {
        "colab": {
          "base_uri": "https://localhost:8080/",
          "height": 206
        },
        "id": "jI7IY1QrAoVd",
        "outputId": "e4b39293-df72-46a0-89ac-8e2e70e70b07"
      },
      "source": [
        "dfMeanEncoding=meanEncodingDejandoColumnaCategorica(\"Region\")\r\n",
        "dfMeanEncoding.head()"
      ],
      "execution_count": 590,
      "outputs": [
        {
          "output_type": "execute_result",
          "data": {
            "text/html": [
              "<div>\n",
              "<style scoped>\n",
              "    .dataframe tbody tr th:only-of-type {\n",
              "        vertical-align: middle;\n",
              "    }\n",
              "\n",
              "    .dataframe tbody tr th {\n",
              "        vertical-align: top;\n",
              "    }\n",
              "\n",
              "    .dataframe thead th {\n",
              "        text-align: right;\n",
              "    }\n",
              "</style>\n",
              "<table border=\"1\" class=\"dataframe\">\n",
              "  <thead>\n",
              "    <tr style=\"text-align: right;\">\n",
              "      <th></th>\n",
              "      <th>Region</th>\n",
              "      <th>meanEncodingRegion</th>\n",
              "    </tr>\n",
              "  </thead>\n",
              "  <tbody>\n",
              "    <tr>\n",
              "      <th>0</th>\n",
              "      <td>EMEA</td>\n",
              "      <td>0.463392</td>\n",
              "    </tr>\n",
              "    <tr>\n",
              "      <th>3241</th>\n",
              "      <td>Americas</td>\n",
              "      <td>0.446166</td>\n",
              "    </tr>\n",
              "    <tr>\n",
              "      <th>5700</th>\n",
              "      <td>Japan</td>\n",
              "      <td>0.684350</td>\n",
              "    </tr>\n",
              "    <tr>\n",
              "      <th>7606</th>\n",
              "      <td>APAC</td>\n",
              "      <td>0.555556</td>\n",
              "    </tr>\n",
              "    <tr>\n",
              "      <th>9692</th>\n",
              "      <td>Middle East</td>\n",
              "      <td>0.239130</td>\n",
              "    </tr>\n",
              "  </tbody>\n",
              "</table>\n",
              "</div>"
            ],
            "text/plain": [
              "           Region  meanEncodingRegion\n",
              "0            EMEA            0.463392\n",
              "3241     Americas            0.446166\n",
              "5700        Japan            0.684350\n",
              "7606         APAC            0.555556\n",
              "9692  Middle East            0.239130"
            ]
          },
          "metadata": {
            "tags": []
          },
          "execution_count": 590
        }
      ]
    },
    {
      "cell_type": "code",
      "metadata": {
        "colab": {
          "base_uri": "https://localhost:8080/",
          "height": 206
        },
        "id": "ccXPiuagAoVf",
        "outputId": "cf90f37b-7c58-46f9-e728-895f94896cd8"
      },
      "source": [
        "testAux=test.groupby(['Opportunity_ID','Region' ]).agg(cant=('Opportunity_ID','count')).reset_index()[['Opportunity_ID','Region' ]]\r\n",
        "testAux.head()"
      ],
      "execution_count": 591,
      "outputs": [
        {
          "output_type": "execute_result",
          "data": {
            "text/html": [
              "<div>\n",
              "<style scoped>\n",
              "    .dataframe tbody tr th:only-of-type {\n",
              "        vertical-align: middle;\n",
              "    }\n",
              "\n",
              "    .dataframe tbody tr th {\n",
              "        vertical-align: top;\n",
              "    }\n",
              "\n",
              "    .dataframe thead th {\n",
              "        text-align: right;\n",
              "    }\n",
              "</style>\n",
              "<table border=\"1\" class=\"dataframe\">\n",
              "  <thead>\n",
              "    <tr style=\"text-align: right;\">\n",
              "      <th></th>\n",
              "      <th>Opportunity_ID</th>\n",
              "      <th>Region</th>\n",
              "    </tr>\n",
              "  </thead>\n",
              "  <tbody>\n",
              "    <tr>\n",
              "      <th>0</th>\n",
              "      <td>10689</td>\n",
              "      <td>EMEA</td>\n",
              "    </tr>\n",
              "    <tr>\n",
              "      <th>1</th>\n",
              "      <td>10690</td>\n",
              "      <td>EMEA</td>\n",
              "    </tr>\n",
              "    <tr>\n",
              "      <th>2</th>\n",
              "      <td>10691</td>\n",
              "      <td>Americas</td>\n",
              "    </tr>\n",
              "    <tr>\n",
              "      <th>3</th>\n",
              "      <td>10692</td>\n",
              "      <td>Americas</td>\n",
              "    </tr>\n",
              "    <tr>\n",
              "      <th>4</th>\n",
              "      <td>10693</td>\n",
              "      <td>Americas</td>\n",
              "    </tr>\n",
              "  </tbody>\n",
              "</table>\n",
              "</div>"
            ],
            "text/plain": [
              "   Opportunity_ID    Region\n",
              "0           10689      EMEA\n",
              "1           10690      EMEA\n",
              "2           10691  Americas\n",
              "3           10692  Americas\n",
              "4           10693  Americas"
            ]
          },
          "metadata": {
            "tags": []
          },
          "execution_count": 591
        }
      ]
    },
    {
      "cell_type": "code",
      "metadata": {
        "colab": {
          "base_uri": "https://localhost:8080/",
          "height": 424
        },
        "id": "e2ICua7pAoVf",
        "outputId": "1c1e9a79-f30b-46d1-c1a6-e4a08b33a462"
      },
      "source": [
        "territories=pd.merge(testAux,dfMeanEncoding, on=\"Region\", how='left') \r\n",
        "territories"
      ],
      "execution_count": 592,
      "outputs": [
        {
          "output_type": "execute_result",
          "data": {
            "text/html": [
              "<div>\n",
              "<style scoped>\n",
              "    .dataframe tbody tr th:only-of-type {\n",
              "        vertical-align: middle;\n",
              "    }\n",
              "\n",
              "    .dataframe tbody tr th {\n",
              "        vertical-align: top;\n",
              "    }\n",
              "\n",
              "    .dataframe thead th {\n",
              "        text-align: right;\n",
              "    }\n",
              "</style>\n",
              "<table border=\"1\" class=\"dataframe\">\n",
              "  <thead>\n",
              "    <tr style=\"text-align: right;\">\n",
              "      <th></th>\n",
              "      <th>Opportunity_ID</th>\n",
              "      <th>Region</th>\n",
              "      <th>meanEncodingRegion</th>\n",
              "    </tr>\n",
              "  </thead>\n",
              "  <tbody>\n",
              "    <tr>\n",
              "      <th>0</th>\n",
              "      <td>10689</td>\n",
              "      <td>EMEA</td>\n",
              "      <td>0.463392</td>\n",
              "    </tr>\n",
              "    <tr>\n",
              "      <th>1</th>\n",
              "      <td>10690</td>\n",
              "      <td>EMEA</td>\n",
              "      <td>0.463392</td>\n",
              "    </tr>\n",
              "    <tr>\n",
              "      <th>2</th>\n",
              "      <td>10691</td>\n",
              "      <td>Americas</td>\n",
              "      <td>0.446166</td>\n",
              "    </tr>\n",
              "    <tr>\n",
              "      <th>3</th>\n",
              "      <td>10692</td>\n",
              "      <td>Americas</td>\n",
              "      <td>0.446166</td>\n",
              "    </tr>\n",
              "    <tr>\n",
              "      <th>4</th>\n",
              "      <td>10693</td>\n",
              "      <td>Americas</td>\n",
              "      <td>0.446166</td>\n",
              "    </tr>\n",
              "    <tr>\n",
              "      <th>...</th>\n",
              "      <td>...</td>\n",
              "      <td>...</td>\n",
              "      <td>...</td>\n",
              "    </tr>\n",
              "    <tr>\n",
              "      <th>1562</th>\n",
              "      <td>12364</td>\n",
              "      <td>EMEA</td>\n",
              "      <td>0.463392</td>\n",
              "    </tr>\n",
              "    <tr>\n",
              "      <th>1563</th>\n",
              "      <td>12365</td>\n",
              "      <td>Americas</td>\n",
              "      <td>0.446166</td>\n",
              "    </tr>\n",
              "    <tr>\n",
              "      <th>1564</th>\n",
              "      <td>12366</td>\n",
              "      <td>Americas</td>\n",
              "      <td>0.446166</td>\n",
              "    </tr>\n",
              "    <tr>\n",
              "      <th>1565</th>\n",
              "      <td>12367</td>\n",
              "      <td>Americas</td>\n",
              "      <td>0.446166</td>\n",
              "    </tr>\n",
              "    <tr>\n",
              "      <th>1566</th>\n",
              "      <td>12368</td>\n",
              "      <td>EMEA</td>\n",
              "      <td>0.463392</td>\n",
              "    </tr>\n",
              "  </tbody>\n",
              "</table>\n",
              "<p>1567 rows × 3 columns</p>\n",
              "</div>"
            ],
            "text/plain": [
              "      Opportunity_ID    Region  meanEncodingRegion\n",
              "0              10689      EMEA            0.463392\n",
              "1              10690      EMEA            0.463392\n",
              "2              10691  Americas            0.446166\n",
              "3              10692  Americas            0.446166\n",
              "4              10693  Americas            0.446166\n",
              "...              ...       ...                 ...\n",
              "1562           12364      EMEA            0.463392\n",
              "1563           12365  Americas            0.446166\n",
              "1564           12366  Americas            0.446166\n",
              "1565           12367  Americas            0.446166\n",
              "1566           12368      EMEA            0.463392\n",
              "\n",
              "[1567 rows x 3 columns]"
            ]
          },
          "metadata": {
            "tags": []
          },
          "execution_count": 592
        }
      ]
    },
    {
      "cell_type": "code",
      "metadata": {
        "colab": {
          "base_uri": "https://localhost:8080/",
          "height": 479
        },
        "id": "DQHJZrsIAoVg",
        "outputId": "e7f9eb8b-9e13-4ca0-d2b2-a8bcd669bf46"
      },
      "source": [
        " testFinal=pd.merge(testFinal,territories, on=\"Opportunity_ID\", how='inner') \r\n",
        " testFinal"
      ],
      "execution_count": 593,
      "outputs": [
        {
          "output_type": "execute_result",
          "data": {
            "text/html": [
              "<div>\n",
              "<style scoped>\n",
              "    .dataframe tbody tr th:only-of-type {\n",
              "        vertical-align: middle;\n",
              "    }\n",
              "\n",
              "    .dataframe tbody tr th {\n",
              "        vertical-align: top;\n",
              "    }\n",
              "\n",
              "    .dataframe thead th {\n",
              "        text-align: right;\n",
              "    }\n",
              "</style>\n",
              "<table border=\"1\" class=\"dataframe\">\n",
              "  <thead>\n",
              "    <tr style=\"text-align: right;\">\n",
              "      <th></th>\n",
              "      <th>Opportunity_ID</th>\n",
              "      <th>totalamount</th>\n",
              "      <th>totalTrf</th>\n",
              "      <th>meanTrf</th>\n",
              "      <th>cantTrf</th>\n",
              "      <th>cantProducFamilias</th>\n",
              "      <th>maxTrf</th>\n",
              "      <th>meanDisPlannedStarAndPlannedEnd</th>\n",
              "      <th>meanTrfporTotalTrf</th>\n",
              "      <th>cantProducFamiliasporTotalTrf</th>\n",
              "      <th>Territory</th>\n",
              "      <th>meanEncodingTerritory</th>\n",
              "      <th>Region</th>\n",
              "      <th>meanEncodingRegion</th>\n",
              "    </tr>\n",
              "  </thead>\n",
              "  <tbody>\n",
              "    <tr>\n",
              "      <th>0</th>\n",
              "      <td>10689</td>\n",
              "      <td>367419.0</td>\n",
              "      <td>0</td>\n",
              "      <td>0.0</td>\n",
              "      <td>3</td>\n",
              "      <td>3</td>\n",
              "      <td>0</td>\n",
              "      <td>2592000.0</td>\n",
              "      <td>0.0</td>\n",
              "      <td>0</td>\n",
              "      <td>Germany</td>\n",
              "      <td>0.548148</td>\n",
              "      <td>EMEA</td>\n",
              "      <td>0.463392</td>\n",
              "    </tr>\n",
              "    <tr>\n",
              "      <th>1</th>\n",
              "      <td>10690</td>\n",
              "      <td>757783.5</td>\n",
              "      <td>1</td>\n",
              "      <td>0.2</td>\n",
              "      <td>5</td>\n",
              "      <td>5</td>\n",
              "      <td>1</td>\n",
              "      <td>2367360.0</td>\n",
              "      <td>0.2</td>\n",
              "      <td>5</td>\n",
              "      <td>Germany</td>\n",
              "      <td>0.548148</td>\n",
              "      <td>EMEA</td>\n",
              "      <td>0.463392</td>\n",
              "    </tr>\n",
              "    <tr>\n",
              "      <th>2</th>\n",
              "      <td>10691</td>\n",
              "      <td>21037.5</td>\n",
              "      <td>0</td>\n",
              "      <td>0.0</td>\n",
              "      <td>1</td>\n",
              "      <td>1</td>\n",
              "      <td>0</td>\n",
              "      <td>0.0</td>\n",
              "      <td>0.0</td>\n",
              "      <td>0</td>\n",
              "      <td>NE America</td>\n",
              "      <td>0.347490</td>\n",
              "      <td>Americas</td>\n",
              "      <td>0.446166</td>\n",
              "    </tr>\n",
              "    <tr>\n",
              "      <th>3</th>\n",
              "      <td>10692</td>\n",
              "      <td>2169106.5</td>\n",
              "      <td>6</td>\n",
              "      <td>1.0</td>\n",
              "      <td>6</td>\n",
              "      <td>6</td>\n",
              "      <td>1</td>\n",
              "      <td>0.0</td>\n",
              "      <td>6.0</td>\n",
              "      <td>36</td>\n",
              "      <td>NW America</td>\n",
              "      <td>0.632723</td>\n",
              "      <td>Americas</td>\n",
              "      <td>0.446166</td>\n",
              "    </tr>\n",
              "    <tr>\n",
              "      <th>4</th>\n",
              "      <td>10693</td>\n",
              "      <td>5752.5</td>\n",
              "      <td>0</td>\n",
              "      <td>0.0</td>\n",
              "      <td>1</td>\n",
              "      <td>1</td>\n",
              "      <td>0</td>\n",
              "      <td>0.0</td>\n",
              "      <td>0.0</td>\n",
              "      <td>0</td>\n",
              "      <td>NW America</td>\n",
              "      <td>0.632723</td>\n",
              "      <td>Americas</td>\n",
              "      <td>0.446166</td>\n",
              "    </tr>\n",
              "    <tr>\n",
              "      <th>...</th>\n",
              "      <td>...</td>\n",
              "      <td>...</td>\n",
              "      <td>...</td>\n",
              "      <td>...</td>\n",
              "      <td>...</td>\n",
              "      <td>...</td>\n",
              "      <td>...</td>\n",
              "      <td>...</td>\n",
              "      <td>...</td>\n",
              "      <td>...</td>\n",
              "      <td>...</td>\n",
              "      <td>...</td>\n",
              "      <td>...</td>\n",
              "      <td>...</td>\n",
              "    </tr>\n",
              "    <tr>\n",
              "      <th>1562</th>\n",
              "      <td>12364</td>\n",
              "      <td>147750.0</td>\n",
              "      <td>0</td>\n",
              "      <td>0.0</td>\n",
              "      <td>2</td>\n",
              "      <td>2</td>\n",
              "      <td>0</td>\n",
              "      <td>777600.0</td>\n",
              "      <td>0.0</td>\n",
              "      <td>0</td>\n",
              "      <td>KSA</td>\n",
              "      <td>0.416667</td>\n",
              "      <td>EMEA</td>\n",
              "      <td>0.463392</td>\n",
              "    </tr>\n",
              "    <tr>\n",
              "      <th>1563</th>\n",
              "      <td>12365</td>\n",
              "      <td>45054.9</td>\n",
              "      <td>0</td>\n",
              "      <td>0.0</td>\n",
              "      <td>1</td>\n",
              "      <td>1</td>\n",
              "      <td>0</td>\n",
              "      <td>7862400.0</td>\n",
              "      <td>0.0</td>\n",
              "      <td>0</td>\n",
              "      <td>SE America</td>\n",
              "      <td>0.367953</td>\n",
              "      <td>Americas</td>\n",
              "      <td>0.446166</td>\n",
              "    </tr>\n",
              "    <tr>\n",
              "      <th>1564</th>\n",
              "      <td>12366</td>\n",
              "      <td>100122.0</td>\n",
              "      <td>0</td>\n",
              "      <td>0.0</td>\n",
              "      <td>1</td>\n",
              "      <td>1</td>\n",
              "      <td>0</td>\n",
              "      <td>7862400.0</td>\n",
              "      <td>0.0</td>\n",
              "      <td>0</td>\n",
              "      <td>SE America</td>\n",
              "      <td>0.367953</td>\n",
              "      <td>Americas</td>\n",
              "      <td>0.446166</td>\n",
              "    </tr>\n",
              "    <tr>\n",
              "      <th>1565</th>\n",
              "      <td>12367</td>\n",
              "      <td>143220.0</td>\n",
              "      <td>0</td>\n",
              "      <td>0.0</td>\n",
              "      <td>1</td>\n",
              "      <td>1</td>\n",
              "      <td>0</td>\n",
              "      <td>0.0</td>\n",
              "      <td>0.0</td>\n",
              "      <td>0</td>\n",
              "      <td>NE America</td>\n",
              "      <td>0.347490</td>\n",
              "      <td>Americas</td>\n",
              "      <td>0.446166</td>\n",
              "    </tr>\n",
              "    <tr>\n",
              "      <th>1566</th>\n",
              "      <td>12368</td>\n",
              "      <td>871020.8</td>\n",
              "      <td>3</td>\n",
              "      <td>3.0</td>\n",
              "      <td>1</td>\n",
              "      <td>1</td>\n",
              "      <td>3</td>\n",
              "      <td>4579200.0</td>\n",
              "      <td>9.0</td>\n",
              "      <td>3</td>\n",
              "      <td>Belgium</td>\n",
              "      <td>0.569832</td>\n",
              "      <td>EMEA</td>\n",
              "      <td>0.463392</td>\n",
              "    </tr>\n",
              "  </tbody>\n",
              "</table>\n",
              "<p>1567 rows × 14 columns</p>\n",
              "</div>"
            ],
            "text/plain": [
              "      Opportunity_ID  totalamount  ...    Region  meanEncodingRegion\n",
              "0              10689     367419.0  ...      EMEA            0.463392\n",
              "1              10690     757783.5  ...      EMEA            0.463392\n",
              "2              10691      21037.5  ...  Americas            0.446166\n",
              "3              10692    2169106.5  ...  Americas            0.446166\n",
              "4              10693       5752.5  ...  Americas            0.446166\n",
              "...              ...          ...  ...       ...                 ...\n",
              "1562           12364     147750.0  ...      EMEA            0.463392\n",
              "1563           12365      45054.9  ...  Americas            0.446166\n",
              "1564           12366     100122.0  ...  Americas            0.446166\n",
              "1565           12367     143220.0  ...  Americas            0.446166\n",
              "1566           12368     871020.8  ...      EMEA            0.463392\n",
              "\n",
              "[1567 rows x 14 columns]"
            ]
          },
          "metadata": {
            "tags": []
          },
          "execution_count": 593
        }
      ]
    },
    {
      "cell_type": "code",
      "metadata": {
        "id": "duy-s63MAndB"
      },
      "source": [
        ""
      ],
      "execution_count": 593,
      "outputs": []
    },
    {
      "cell_type": "markdown",
      "metadata": {
        "id": "quXj4OT0I1hV"
      },
      "source": [
        "# Delivery_Terms"
      ]
    },
    {
      "cell_type": "code",
      "metadata": {
        "id": "TFvH3w4II1hq"
      },
      "source": [
        "def meanEncodingDejandoColumnaCategorica(columnsCategory):\r\n",
        "  \"\"\"devuelve un dataframe con el formato [columnscategory,meanencodingcategory]\r\n",
        "    es porque lo vamos a usar para hacer merge por su columna categorica\"\"\"\r\n",
        "  df = pd.read_csv('data.csv')\r\n",
        "  entrenamiento = pd.read_csv('data.csv')\r\n",
        "  df = df.replace('Closed Won', '1')\r\n",
        "  df = df.replace('Closed Lost', '0')\r\n",
        "  df = df[df['Stage'].isin(['0','1'])]\r\n",
        "  df.Stage = df.Stage.astype(int)\r\n",
        "  df = df.groupby([columnsCategory,'Opportunity_ID']).agg({'Stage':['sum','count']})\r\n",
        "  df = df.reset_index()\r\n",
        "  df1 = df\r\n",
        "  df1.columns = [columnsCategory,'Opportunity_ID','Stage_sum','Stage_count']\r\n",
        "  df1['Stage_sum'] = df1['Stage_sum'].apply(lambda x: 0 if x == 0 else 1)\r\n",
        "  df2 = df1.groupby([columnsCategory]).agg(meanEncodingDelivery_Terms = ('Stage_sum','mean'))\r\n",
        "  df2 = df2.reset_index()\r\n",
        "  agruparOportunity=entrenamiento.groupby(['Opportunity_ID',columnsCategory]).agg(cant=(columnsCategory,'count')).reset_index()\r\n",
        "  result=pd.merge(agruparOportunity,df2,on=columnsCategory,how='inner')\r\n",
        "  result.head()\r\n",
        "  del result['cant']\r\n",
        "  result2=result[[columnsCategory,'meanEncodingDelivery_Terms']].drop_duplicates()\r\n",
        "  return  result2"
      ],
      "execution_count": 594,
      "outputs": []
    },
    {
      "cell_type": "code",
      "metadata": {
        "colab": {
          "base_uri": "https://localhost:8080/",
          "height": 206
        },
        "id": "8EEhNSWII1hq",
        "outputId": "392ceba1-12c0-4cde-a2f4-4bdf53ad823c"
      },
      "source": [
        "dfMeanEncoding=meanEncodingDejandoColumnaCategorica(\"Delivery_Terms\")\r\n",
        "dfMeanEncoding.head()"
      ],
      "execution_count": 595,
      "outputs": [
        {
          "output_type": "execute_result",
          "data": {
            "text/html": [
              "<div>\n",
              "<style scoped>\n",
              "    .dataframe tbody tr th:only-of-type {\n",
              "        vertical-align: middle;\n",
              "    }\n",
              "\n",
              "    .dataframe tbody tr th {\n",
              "        vertical-align: top;\n",
              "    }\n",
              "\n",
              "    .dataframe thead th {\n",
              "        text-align: right;\n",
              "    }\n",
              "</style>\n",
              "<table border=\"1\" class=\"dataframe\">\n",
              "  <thead>\n",
              "    <tr style=\"text-align: right;\">\n",
              "      <th></th>\n",
              "      <th>Delivery_Terms</th>\n",
              "      <th>meanEncodingDelivery_Terms</th>\n",
              "    </tr>\n",
              "  </thead>\n",
              "  <tbody>\n",
              "    <tr>\n",
              "      <th>0</th>\n",
              "      <td>Delivery_Terms_2</td>\n",
              "      <td>0.479801</td>\n",
              "    </tr>\n",
              "    <tr>\n",
              "      <th>3221</th>\n",
              "      <td>Delivery_Terms_4</td>\n",
              "      <td>0.547011</td>\n",
              "    </tr>\n",
              "    <tr>\n",
              "      <th>6690</th>\n",
              "      <td>Delivery_Terms_1</td>\n",
              "      <td>0.449874</td>\n",
              "    </tr>\n",
              "    <tr>\n",
              "      <th>8694</th>\n",
              "      <td>Delivery_Terms_5</td>\n",
              "      <td>0.666667</td>\n",
              "    </tr>\n",
              "    <tr>\n",
              "      <th>9219</th>\n",
              "      <td>Delivery_Terms_8</td>\n",
              "      <td>0.570175</td>\n",
              "    </tr>\n",
              "  </tbody>\n",
              "</table>\n",
              "</div>"
            ],
            "text/plain": [
              "        Delivery_Terms  meanEncodingDelivery_Terms\n",
              "0     Delivery_Terms_2                    0.479801\n",
              "3221  Delivery_Terms_4                    0.547011\n",
              "6690  Delivery_Terms_1                    0.449874\n",
              "8694  Delivery_Terms_5                    0.666667\n",
              "9219  Delivery_Terms_8                    0.570175"
            ]
          },
          "metadata": {
            "tags": []
          },
          "execution_count": 595
        }
      ]
    },
    {
      "cell_type": "code",
      "metadata": {
        "colab": {
          "base_uri": "https://localhost:8080/",
          "height": 206
        },
        "id": "Zv9FCqhDI1hr",
        "outputId": "706f0fda-086f-4d50-d72c-7fcbace7958d"
      },
      "source": [
        "testAux=test.groupby(['Opportunity_ID','Delivery_Terms' ]).agg(cant=('Opportunity_ID','count')).reset_index()[['Opportunity_ID','Delivery_Terms' ]]\r\n",
        "testAux.head()"
      ],
      "execution_count": 596,
      "outputs": [
        {
          "output_type": "execute_result",
          "data": {
            "text/html": [
              "<div>\n",
              "<style scoped>\n",
              "    .dataframe tbody tr th:only-of-type {\n",
              "        vertical-align: middle;\n",
              "    }\n",
              "\n",
              "    .dataframe tbody tr th {\n",
              "        vertical-align: top;\n",
              "    }\n",
              "\n",
              "    .dataframe thead th {\n",
              "        text-align: right;\n",
              "    }\n",
              "</style>\n",
              "<table border=\"1\" class=\"dataframe\">\n",
              "  <thead>\n",
              "    <tr style=\"text-align: right;\">\n",
              "      <th></th>\n",
              "      <th>Opportunity_ID</th>\n",
              "      <th>Delivery_Terms</th>\n",
              "    </tr>\n",
              "  </thead>\n",
              "  <tbody>\n",
              "    <tr>\n",
              "      <th>0</th>\n",
              "      <td>10689</td>\n",
              "      <td>Delivery_Terms_2</td>\n",
              "    </tr>\n",
              "    <tr>\n",
              "      <th>1</th>\n",
              "      <td>10690</td>\n",
              "      <td>Delivery_Terms_2</td>\n",
              "    </tr>\n",
              "    <tr>\n",
              "      <th>2</th>\n",
              "      <td>10691</td>\n",
              "      <td>Delivery_Terms_4</td>\n",
              "    </tr>\n",
              "    <tr>\n",
              "      <th>3</th>\n",
              "      <td>10692</td>\n",
              "      <td>Delivery_Terms_4</td>\n",
              "    </tr>\n",
              "    <tr>\n",
              "      <th>4</th>\n",
              "      <td>10693</td>\n",
              "      <td>Delivery_Terms_4</td>\n",
              "    </tr>\n",
              "  </tbody>\n",
              "</table>\n",
              "</div>"
            ],
            "text/plain": [
              "   Opportunity_ID    Delivery_Terms\n",
              "0           10689  Delivery_Terms_2\n",
              "1           10690  Delivery_Terms_2\n",
              "2           10691  Delivery_Terms_4\n",
              "3           10692  Delivery_Terms_4\n",
              "4           10693  Delivery_Terms_4"
            ]
          },
          "metadata": {
            "tags": []
          },
          "execution_count": 596
        }
      ]
    },
    {
      "cell_type": "code",
      "metadata": {
        "colab": {
          "base_uri": "https://localhost:8080/",
          "height": 424
        },
        "id": "uzoKP3CyI1hs",
        "outputId": "54cb3160-aa47-431b-a687-b4a5fcfafe94"
      },
      "source": [
        "territories=pd.merge(testAux,dfMeanEncoding, on=\"Delivery_Terms\", how='left') \r\n",
        "territories"
      ],
      "execution_count": 597,
      "outputs": [
        {
          "output_type": "execute_result",
          "data": {
            "text/html": [
              "<div>\n",
              "<style scoped>\n",
              "    .dataframe tbody tr th:only-of-type {\n",
              "        vertical-align: middle;\n",
              "    }\n",
              "\n",
              "    .dataframe tbody tr th {\n",
              "        vertical-align: top;\n",
              "    }\n",
              "\n",
              "    .dataframe thead th {\n",
              "        text-align: right;\n",
              "    }\n",
              "</style>\n",
              "<table border=\"1\" class=\"dataframe\">\n",
              "  <thead>\n",
              "    <tr style=\"text-align: right;\">\n",
              "      <th></th>\n",
              "      <th>Opportunity_ID</th>\n",
              "      <th>Delivery_Terms</th>\n",
              "      <th>meanEncodingDelivery_Terms</th>\n",
              "    </tr>\n",
              "  </thead>\n",
              "  <tbody>\n",
              "    <tr>\n",
              "      <th>0</th>\n",
              "      <td>10689</td>\n",
              "      <td>Delivery_Terms_2</td>\n",
              "      <td>0.479801</td>\n",
              "    </tr>\n",
              "    <tr>\n",
              "      <th>1</th>\n",
              "      <td>10690</td>\n",
              "      <td>Delivery_Terms_2</td>\n",
              "      <td>0.479801</td>\n",
              "    </tr>\n",
              "    <tr>\n",
              "      <th>2</th>\n",
              "      <td>10691</td>\n",
              "      <td>Delivery_Terms_4</td>\n",
              "      <td>0.547011</td>\n",
              "    </tr>\n",
              "    <tr>\n",
              "      <th>3</th>\n",
              "      <td>10692</td>\n",
              "      <td>Delivery_Terms_4</td>\n",
              "      <td>0.547011</td>\n",
              "    </tr>\n",
              "    <tr>\n",
              "      <th>4</th>\n",
              "      <td>10693</td>\n",
              "      <td>Delivery_Terms_4</td>\n",
              "      <td>0.547011</td>\n",
              "    </tr>\n",
              "    <tr>\n",
              "      <th>...</th>\n",
              "      <td>...</td>\n",
              "      <td>...</td>\n",
              "      <td>...</td>\n",
              "    </tr>\n",
              "    <tr>\n",
              "      <th>1562</th>\n",
              "      <td>12364</td>\n",
              "      <td>Delivery_Terms_7</td>\n",
              "      <td>0.527778</td>\n",
              "    </tr>\n",
              "    <tr>\n",
              "      <th>1563</th>\n",
              "      <td>12365</td>\n",
              "      <td>Delivery_Terms_4</td>\n",
              "      <td>0.547011</td>\n",
              "    </tr>\n",
              "    <tr>\n",
              "      <th>1564</th>\n",
              "      <td>12366</td>\n",
              "      <td>Delivery_Terms_4</td>\n",
              "      <td>0.547011</td>\n",
              "    </tr>\n",
              "    <tr>\n",
              "      <th>1565</th>\n",
              "      <td>12367</td>\n",
              "      <td>Delivery_Terms_4</td>\n",
              "      <td>0.547011</td>\n",
              "    </tr>\n",
              "    <tr>\n",
              "      <th>1566</th>\n",
              "      <td>12368</td>\n",
              "      <td>Delivery_Terms_2</td>\n",
              "      <td>0.479801</td>\n",
              "    </tr>\n",
              "  </tbody>\n",
              "</table>\n",
              "<p>1567 rows × 3 columns</p>\n",
              "</div>"
            ],
            "text/plain": [
              "      Opportunity_ID    Delivery_Terms  meanEncodingDelivery_Terms\n",
              "0              10689  Delivery_Terms_2                    0.479801\n",
              "1              10690  Delivery_Terms_2                    0.479801\n",
              "2              10691  Delivery_Terms_4                    0.547011\n",
              "3              10692  Delivery_Terms_4                    0.547011\n",
              "4              10693  Delivery_Terms_4                    0.547011\n",
              "...              ...               ...                         ...\n",
              "1562           12364  Delivery_Terms_7                    0.527778\n",
              "1563           12365  Delivery_Terms_4                    0.547011\n",
              "1564           12366  Delivery_Terms_4                    0.547011\n",
              "1565           12367  Delivery_Terms_4                    0.547011\n",
              "1566           12368  Delivery_Terms_2                    0.479801\n",
              "\n",
              "[1567 rows x 3 columns]"
            ]
          },
          "metadata": {
            "tags": []
          },
          "execution_count": 597
        }
      ]
    },
    {
      "cell_type": "code",
      "metadata": {
        "colab": {
          "base_uri": "https://localhost:8080/",
          "height": 479
        },
        "id": "5qsqckMlI1hs",
        "outputId": "f38f8e32-58e2-47fd-a460-e89927fbbe87"
      },
      "source": [
        " testFinal=pd.merge(testFinal,territories, on=\"Opportunity_ID\", how='inner') \r\n",
        " testFinal"
      ],
      "execution_count": 598,
      "outputs": [
        {
          "output_type": "execute_result",
          "data": {
            "text/html": [
              "<div>\n",
              "<style scoped>\n",
              "    .dataframe tbody tr th:only-of-type {\n",
              "        vertical-align: middle;\n",
              "    }\n",
              "\n",
              "    .dataframe tbody tr th {\n",
              "        vertical-align: top;\n",
              "    }\n",
              "\n",
              "    .dataframe thead th {\n",
              "        text-align: right;\n",
              "    }\n",
              "</style>\n",
              "<table border=\"1\" class=\"dataframe\">\n",
              "  <thead>\n",
              "    <tr style=\"text-align: right;\">\n",
              "      <th></th>\n",
              "      <th>Opportunity_ID</th>\n",
              "      <th>totalamount</th>\n",
              "      <th>totalTrf</th>\n",
              "      <th>meanTrf</th>\n",
              "      <th>cantTrf</th>\n",
              "      <th>cantProducFamilias</th>\n",
              "      <th>maxTrf</th>\n",
              "      <th>meanDisPlannedStarAndPlannedEnd</th>\n",
              "      <th>meanTrfporTotalTrf</th>\n",
              "      <th>cantProducFamiliasporTotalTrf</th>\n",
              "      <th>Territory</th>\n",
              "      <th>meanEncodingTerritory</th>\n",
              "      <th>Region</th>\n",
              "      <th>meanEncodingRegion</th>\n",
              "      <th>Delivery_Terms</th>\n",
              "      <th>meanEncodingDelivery_Terms</th>\n",
              "    </tr>\n",
              "  </thead>\n",
              "  <tbody>\n",
              "    <tr>\n",
              "      <th>0</th>\n",
              "      <td>10689</td>\n",
              "      <td>367419.0</td>\n",
              "      <td>0</td>\n",
              "      <td>0.0</td>\n",
              "      <td>3</td>\n",
              "      <td>3</td>\n",
              "      <td>0</td>\n",
              "      <td>2592000.0</td>\n",
              "      <td>0.0</td>\n",
              "      <td>0</td>\n",
              "      <td>Germany</td>\n",
              "      <td>0.548148</td>\n",
              "      <td>EMEA</td>\n",
              "      <td>0.463392</td>\n",
              "      <td>Delivery_Terms_2</td>\n",
              "      <td>0.479801</td>\n",
              "    </tr>\n",
              "    <tr>\n",
              "      <th>1</th>\n",
              "      <td>10690</td>\n",
              "      <td>757783.5</td>\n",
              "      <td>1</td>\n",
              "      <td>0.2</td>\n",
              "      <td>5</td>\n",
              "      <td>5</td>\n",
              "      <td>1</td>\n",
              "      <td>2367360.0</td>\n",
              "      <td>0.2</td>\n",
              "      <td>5</td>\n",
              "      <td>Germany</td>\n",
              "      <td>0.548148</td>\n",
              "      <td>EMEA</td>\n",
              "      <td>0.463392</td>\n",
              "      <td>Delivery_Terms_2</td>\n",
              "      <td>0.479801</td>\n",
              "    </tr>\n",
              "    <tr>\n",
              "      <th>2</th>\n",
              "      <td>10691</td>\n",
              "      <td>21037.5</td>\n",
              "      <td>0</td>\n",
              "      <td>0.0</td>\n",
              "      <td>1</td>\n",
              "      <td>1</td>\n",
              "      <td>0</td>\n",
              "      <td>0.0</td>\n",
              "      <td>0.0</td>\n",
              "      <td>0</td>\n",
              "      <td>NE America</td>\n",
              "      <td>0.347490</td>\n",
              "      <td>Americas</td>\n",
              "      <td>0.446166</td>\n",
              "      <td>Delivery_Terms_4</td>\n",
              "      <td>0.547011</td>\n",
              "    </tr>\n",
              "    <tr>\n",
              "      <th>3</th>\n",
              "      <td>10692</td>\n",
              "      <td>2169106.5</td>\n",
              "      <td>6</td>\n",
              "      <td>1.0</td>\n",
              "      <td>6</td>\n",
              "      <td>6</td>\n",
              "      <td>1</td>\n",
              "      <td>0.0</td>\n",
              "      <td>6.0</td>\n",
              "      <td>36</td>\n",
              "      <td>NW America</td>\n",
              "      <td>0.632723</td>\n",
              "      <td>Americas</td>\n",
              "      <td>0.446166</td>\n",
              "      <td>Delivery_Terms_4</td>\n",
              "      <td>0.547011</td>\n",
              "    </tr>\n",
              "    <tr>\n",
              "      <th>4</th>\n",
              "      <td>10693</td>\n",
              "      <td>5752.5</td>\n",
              "      <td>0</td>\n",
              "      <td>0.0</td>\n",
              "      <td>1</td>\n",
              "      <td>1</td>\n",
              "      <td>0</td>\n",
              "      <td>0.0</td>\n",
              "      <td>0.0</td>\n",
              "      <td>0</td>\n",
              "      <td>NW America</td>\n",
              "      <td>0.632723</td>\n",
              "      <td>Americas</td>\n",
              "      <td>0.446166</td>\n",
              "      <td>Delivery_Terms_4</td>\n",
              "      <td>0.547011</td>\n",
              "    </tr>\n",
              "    <tr>\n",
              "      <th>...</th>\n",
              "      <td>...</td>\n",
              "      <td>...</td>\n",
              "      <td>...</td>\n",
              "      <td>...</td>\n",
              "      <td>...</td>\n",
              "      <td>...</td>\n",
              "      <td>...</td>\n",
              "      <td>...</td>\n",
              "      <td>...</td>\n",
              "      <td>...</td>\n",
              "      <td>...</td>\n",
              "      <td>...</td>\n",
              "      <td>...</td>\n",
              "      <td>...</td>\n",
              "      <td>...</td>\n",
              "      <td>...</td>\n",
              "    </tr>\n",
              "    <tr>\n",
              "      <th>1562</th>\n",
              "      <td>12364</td>\n",
              "      <td>147750.0</td>\n",
              "      <td>0</td>\n",
              "      <td>0.0</td>\n",
              "      <td>2</td>\n",
              "      <td>2</td>\n",
              "      <td>0</td>\n",
              "      <td>777600.0</td>\n",
              "      <td>0.0</td>\n",
              "      <td>0</td>\n",
              "      <td>KSA</td>\n",
              "      <td>0.416667</td>\n",
              "      <td>EMEA</td>\n",
              "      <td>0.463392</td>\n",
              "      <td>Delivery_Terms_7</td>\n",
              "      <td>0.527778</td>\n",
              "    </tr>\n",
              "    <tr>\n",
              "      <th>1563</th>\n",
              "      <td>12365</td>\n",
              "      <td>45054.9</td>\n",
              "      <td>0</td>\n",
              "      <td>0.0</td>\n",
              "      <td>1</td>\n",
              "      <td>1</td>\n",
              "      <td>0</td>\n",
              "      <td>7862400.0</td>\n",
              "      <td>0.0</td>\n",
              "      <td>0</td>\n",
              "      <td>SE America</td>\n",
              "      <td>0.367953</td>\n",
              "      <td>Americas</td>\n",
              "      <td>0.446166</td>\n",
              "      <td>Delivery_Terms_4</td>\n",
              "      <td>0.547011</td>\n",
              "    </tr>\n",
              "    <tr>\n",
              "      <th>1564</th>\n",
              "      <td>12366</td>\n",
              "      <td>100122.0</td>\n",
              "      <td>0</td>\n",
              "      <td>0.0</td>\n",
              "      <td>1</td>\n",
              "      <td>1</td>\n",
              "      <td>0</td>\n",
              "      <td>7862400.0</td>\n",
              "      <td>0.0</td>\n",
              "      <td>0</td>\n",
              "      <td>SE America</td>\n",
              "      <td>0.367953</td>\n",
              "      <td>Americas</td>\n",
              "      <td>0.446166</td>\n",
              "      <td>Delivery_Terms_4</td>\n",
              "      <td>0.547011</td>\n",
              "    </tr>\n",
              "    <tr>\n",
              "      <th>1565</th>\n",
              "      <td>12367</td>\n",
              "      <td>143220.0</td>\n",
              "      <td>0</td>\n",
              "      <td>0.0</td>\n",
              "      <td>1</td>\n",
              "      <td>1</td>\n",
              "      <td>0</td>\n",
              "      <td>0.0</td>\n",
              "      <td>0.0</td>\n",
              "      <td>0</td>\n",
              "      <td>NE America</td>\n",
              "      <td>0.347490</td>\n",
              "      <td>Americas</td>\n",
              "      <td>0.446166</td>\n",
              "      <td>Delivery_Terms_4</td>\n",
              "      <td>0.547011</td>\n",
              "    </tr>\n",
              "    <tr>\n",
              "      <th>1566</th>\n",
              "      <td>12368</td>\n",
              "      <td>871020.8</td>\n",
              "      <td>3</td>\n",
              "      <td>3.0</td>\n",
              "      <td>1</td>\n",
              "      <td>1</td>\n",
              "      <td>3</td>\n",
              "      <td>4579200.0</td>\n",
              "      <td>9.0</td>\n",
              "      <td>3</td>\n",
              "      <td>Belgium</td>\n",
              "      <td>0.569832</td>\n",
              "      <td>EMEA</td>\n",
              "      <td>0.463392</td>\n",
              "      <td>Delivery_Terms_2</td>\n",
              "      <td>0.479801</td>\n",
              "    </tr>\n",
              "  </tbody>\n",
              "</table>\n",
              "<p>1567 rows × 16 columns</p>\n",
              "</div>"
            ],
            "text/plain": [
              "      Opportunity_ID  totalamount  ...    Delivery_Terms  meanEncodingDelivery_Terms\n",
              "0              10689     367419.0  ...  Delivery_Terms_2                    0.479801\n",
              "1              10690     757783.5  ...  Delivery_Terms_2                    0.479801\n",
              "2              10691      21037.5  ...  Delivery_Terms_4                    0.547011\n",
              "3              10692    2169106.5  ...  Delivery_Terms_4                    0.547011\n",
              "4              10693       5752.5  ...  Delivery_Terms_4                    0.547011\n",
              "...              ...          ...  ...               ...                         ...\n",
              "1562           12364     147750.0  ...  Delivery_Terms_7                    0.527778\n",
              "1563           12365      45054.9  ...  Delivery_Terms_4                    0.547011\n",
              "1564           12366     100122.0  ...  Delivery_Terms_4                    0.547011\n",
              "1565           12367     143220.0  ...  Delivery_Terms_4                    0.547011\n",
              "1566           12368     871020.8  ...  Delivery_Terms_2                    0.479801\n",
              "\n",
              "[1567 rows x 16 columns]"
            ]
          },
          "metadata": {
            "tags": []
          },
          "execution_count": 598
        }
      ]
    },
    {
      "cell_type": "markdown",
      "metadata": {
        "id": "l6oqdJ59M0oc"
      },
      "source": [
        "# Account_Owner"
      ]
    },
    {
      "cell_type": "code",
      "metadata": {
        "id": "0Rhz9U4sM0or"
      },
      "source": [
        "def meanEncodingDejandoColumnaCategorica(columnsCategory):\r\n",
        "  \"\"\"devuelve un dataframe con el formato [columnscategory,meanencodingcategory]\r\n",
        "    es porque lo vamos a usar para hacer merge por su columna categorica\"\"\"\r\n",
        "  df = pd.read_csv('data.csv')\r\n",
        "  entrenamiento = pd.read_csv('data.csv')\r\n",
        "  df = df.replace('Closed Won', '1')\r\n",
        "  df = df.replace('Closed Lost', '0')\r\n",
        "  df = df[df['Stage'].isin(['0','1'])]\r\n",
        "  df.Stage = df.Stage.astype(int)\r\n",
        "  df = df.groupby([columnsCategory,'Opportunity_ID']).agg({'Stage':['sum','count']})\r\n",
        "  df = df.reset_index()\r\n",
        "  df1 = df\r\n",
        "  df1.columns = [columnsCategory,'Opportunity_ID','Stage_sum','Stage_count']\r\n",
        "  df1['Stage_sum'] = df1['Stage_sum'].apply(lambda x: 0 if x == 0 else 1)\r\n",
        "  df2 = df1.groupby([columnsCategory]).agg(meanEncodingAccount_Owner = ('Stage_sum','mean'))\r\n",
        "  df2 = df2.reset_index()\r\n",
        "  agruparOportunity=entrenamiento.groupby(['Opportunity_ID',columnsCategory]).agg(cant=(columnsCategory,'count')).reset_index()\r\n",
        "  result=pd.merge(agruparOportunity,df2,on=columnsCategory,how='inner')\r\n",
        "  result.head()\r\n",
        "  del result['cant']\r\n",
        "  result2=result[[columnsCategory,'meanEncodingAccount_Owner']].drop_duplicates()\r\n",
        "  return  result2"
      ],
      "execution_count": 599,
      "outputs": []
    },
    {
      "cell_type": "code",
      "metadata": {
        "colab": {
          "base_uri": "https://localhost:8080/",
          "height": 206
        },
        "id": "-m4-OyjrM0os",
        "outputId": "b8463967-5018-4489-eef5-42a5a09d71ce"
      },
      "source": [
        "dfMeanEncoding=meanEncodingDejandoColumnaCategorica(\"Account_Owner\")\r\n",
        "dfMeanEncoding.head()"
      ],
      "execution_count": 600,
      "outputs": [
        {
          "output_type": "execute_result",
          "data": {
            "text/html": [
              "<div>\n",
              "<style scoped>\n",
              "    .dataframe tbody tr th:only-of-type {\n",
              "        vertical-align: middle;\n",
              "    }\n",
              "\n",
              "    .dataframe tbody tr th {\n",
              "        vertical-align: top;\n",
              "    }\n",
              "\n",
              "    .dataframe thead th {\n",
              "        text-align: right;\n",
              "    }\n",
              "</style>\n",
              "<table border=\"1\" class=\"dataframe\">\n",
              "  <thead>\n",
              "    <tr style=\"text-align: right;\">\n",
              "      <th></th>\n",
              "      <th>Account_Owner</th>\n",
              "      <th>meanEncodingAccount_Owner</th>\n",
              "    </tr>\n",
              "  </thead>\n",
              "  <tbody>\n",
              "    <tr>\n",
              "      <th>0</th>\n",
              "      <td>Person_Name_51</td>\n",
              "      <td>0.314607</td>\n",
              "    </tr>\n",
              "    <tr>\n",
              "      <th>89</th>\n",
              "      <td>Person_Name_64</td>\n",
              "      <td>0.689320</td>\n",
              "    </tr>\n",
              "    <tr>\n",
              "      <th>505</th>\n",
              "      <td>Person_Name_8</td>\n",
              "      <td>0.571654</td>\n",
              "    </tr>\n",
              "    <tr>\n",
              "      <th>1140</th>\n",
              "      <td>Person_Name_50</td>\n",
              "      <td>0.633037</td>\n",
              "    </tr>\n",
              "    <tr>\n",
              "      <th>2158</th>\n",
              "      <td>Person_Name_60</td>\n",
              "      <td>0.288462</td>\n",
              "    </tr>\n",
              "  </tbody>\n",
              "</table>\n",
              "</div>"
            ],
            "text/plain": [
              "       Account_Owner  meanEncodingAccount_Owner\n",
              "0     Person_Name_51                   0.314607\n",
              "89    Person_Name_64                   0.689320\n",
              "505    Person_Name_8                   0.571654\n",
              "1140  Person_Name_50                   0.633037\n",
              "2158  Person_Name_60                   0.288462"
            ]
          },
          "metadata": {
            "tags": []
          },
          "execution_count": 600
        }
      ]
    },
    {
      "cell_type": "code",
      "metadata": {
        "colab": {
          "base_uri": "https://localhost:8080/",
          "height": 206
        },
        "id": "DhZB2cSDM0ot",
        "outputId": "3f03d3a3-306e-4551-dd5d-18da4b4c5dc5"
      },
      "source": [
        "testAux=test.groupby(['Opportunity_ID','Account_Owner' ]).agg(cant=('Opportunity_ID','count')).reset_index()[['Opportunity_ID','Account_Owner' ]]\r\n",
        "testAux.head()"
      ],
      "execution_count": 601,
      "outputs": [
        {
          "output_type": "execute_result",
          "data": {
            "text/html": [
              "<div>\n",
              "<style scoped>\n",
              "    .dataframe tbody tr th:only-of-type {\n",
              "        vertical-align: middle;\n",
              "    }\n",
              "\n",
              "    .dataframe tbody tr th {\n",
              "        vertical-align: top;\n",
              "    }\n",
              "\n",
              "    .dataframe thead th {\n",
              "        text-align: right;\n",
              "    }\n",
              "</style>\n",
              "<table border=\"1\" class=\"dataframe\">\n",
              "  <thead>\n",
              "    <tr style=\"text-align: right;\">\n",
              "      <th></th>\n",
              "      <th>Opportunity_ID</th>\n",
              "      <th>Account_Owner</th>\n",
              "    </tr>\n",
              "  </thead>\n",
              "  <tbody>\n",
              "    <tr>\n",
              "      <th>0</th>\n",
              "      <td>10689</td>\n",
              "      <td>Person_Name_13</td>\n",
              "    </tr>\n",
              "    <tr>\n",
              "      <th>1</th>\n",
              "      <td>10690</td>\n",
              "      <td>Person_Name_13</td>\n",
              "    </tr>\n",
              "    <tr>\n",
              "      <th>2</th>\n",
              "      <td>10691</td>\n",
              "      <td>Person_Name_9</td>\n",
              "    </tr>\n",
              "    <tr>\n",
              "      <th>3</th>\n",
              "      <td>10692</td>\n",
              "      <td>Person_Name_8</td>\n",
              "    </tr>\n",
              "    <tr>\n",
              "      <th>4</th>\n",
              "      <td>10693</td>\n",
              "      <td>Person_Name_64</td>\n",
              "    </tr>\n",
              "  </tbody>\n",
              "</table>\n",
              "</div>"
            ],
            "text/plain": [
              "   Opportunity_ID   Account_Owner\n",
              "0           10689  Person_Name_13\n",
              "1           10690  Person_Name_13\n",
              "2           10691   Person_Name_9\n",
              "3           10692   Person_Name_8\n",
              "4           10693  Person_Name_64"
            ]
          },
          "metadata": {
            "tags": []
          },
          "execution_count": 601
        }
      ]
    },
    {
      "cell_type": "code",
      "metadata": {
        "id": "NUTe7C0pM0ot"
      },
      "source": [
        "#territories=pd.merge(testAux,dfMeanEncoding, on=\"Account_Owner\", how='left') \r\n",
        "#territories"
      ],
      "execution_count": 602,
      "outputs": []
    },
    {
      "cell_type": "code",
      "metadata": {
        "id": "MPwd0hw4M0ot"
      },
      "source": [
        " #testFinal=pd.merge(testFinal,territories, on=\"Opportunity_ID\", how='inner') \r\n",
        " #testFinal"
      ],
      "execution_count": 603,
      "outputs": []
    },
    {
      "cell_type": "code",
      "metadata": {
        "id": "pD9p6SrT7gDo"
      },
      "source": [
        "#agrego columnas men trf"
      ],
      "execution_count": 604,
      "outputs": []
    },
    {
      "cell_type": "code",
      "metadata": {
        "id": "sEZjbdQx7jJN"
      },
      "source": [
        ""
      ],
      "execution_count": 604,
      "outputs": []
    },
    {
      "cell_type": "code",
      "metadata": {
        "id": "V0G-Ef6m7jaW"
      },
      "source": [
        " \r\n",
        "df=test\r\n",
        "df['Month']=pd.to_datetime(df['Month'])\r\n",
        "df['anio']=df['Month'].dt.year\r\n",
        "df['mes']=df['Month'].dt.month\r\n",
        "#mes_cant_stage"
      ],
      "execution_count": 605,
      "outputs": []
    },
    {
      "cell_type": "code",
      "metadata": {
        "id": "jB70JspS7jaX"
      },
      "source": [
        "df['mes']=df['mes'].astype(str) "
      ],
      "execution_count": 606,
      "outputs": []
    },
    {
      "cell_type": "code",
      "metadata": {
        "id": "Ac1ad5bT7jaX"
      },
      "source": [
        "mesTrf=df.groupby(['Opportunity_ID','mes' ]).agg(totalTrf=('TRF','sum')).unstack().fillna(0)"
      ],
      "execution_count": 607,
      "outputs": []
    },
    {
      "cell_type": "code",
      "metadata": {
        "id": "wku5R9J-7jaX"
      },
      "source": [
        "level0=mesTrf.columns.get_level_values(0)\n",
        "level1=mesTrf.columns.get_level_values(1)"
      ],
      "execution_count": 608,
      "outputs": []
    },
    {
      "cell_type": "code",
      "metadata": {
        "id": "mEN3Hl9b7jaZ"
      },
      "source": [
        "mesTrf.columns = level0 + '_' +  level1"
      ],
      "execution_count": 609,
      "outputs": []
    },
    {
      "cell_type": "code",
      "metadata": {
        "id": "zyfnOcah7jaZ"
      },
      "source": [
        "mesTrf=mesTrf.reset_index() \n",
        " "
      ],
      "execution_count": 610,
      "outputs": []
    },
    {
      "cell_type": "code",
      "metadata": {
        "id": "qr3apt43A2DG",
        "colab": {
          "base_uri": "https://localhost:8080/",
          "height": 479
        },
        "outputId": "14e26110-4134-4ae8-a173-3b0c5bacb029"
      },
      "source": [
        "testFinal=pd.merge(testFinal,mesTrf, on=\"Opportunity_ID\", how='inner') \r\n",
        "testFinal"
      ],
      "execution_count": 611,
      "outputs": [
        {
          "output_type": "execute_result",
          "data": {
            "text/html": [
              "<div>\n",
              "<style scoped>\n",
              "    .dataframe tbody tr th:only-of-type {\n",
              "        vertical-align: middle;\n",
              "    }\n",
              "\n",
              "    .dataframe tbody tr th {\n",
              "        vertical-align: top;\n",
              "    }\n",
              "\n",
              "    .dataframe thead th {\n",
              "        text-align: right;\n",
              "    }\n",
              "</style>\n",
              "<table border=\"1\" class=\"dataframe\">\n",
              "  <thead>\n",
              "    <tr style=\"text-align: right;\">\n",
              "      <th></th>\n",
              "      <th>Opportunity_ID</th>\n",
              "      <th>totalamount</th>\n",
              "      <th>totalTrf</th>\n",
              "      <th>meanTrf</th>\n",
              "      <th>cantTrf</th>\n",
              "      <th>cantProducFamilias</th>\n",
              "      <th>maxTrf</th>\n",
              "      <th>meanDisPlannedStarAndPlannedEnd</th>\n",
              "      <th>meanTrfporTotalTrf</th>\n",
              "      <th>cantProducFamiliasporTotalTrf</th>\n",
              "      <th>Territory</th>\n",
              "      <th>meanEncodingTerritory</th>\n",
              "      <th>Region</th>\n",
              "      <th>meanEncodingRegion</th>\n",
              "      <th>Delivery_Terms</th>\n",
              "      <th>meanEncodingDelivery_Terms</th>\n",
              "      <th>totalTrf_1</th>\n",
              "      <th>totalTrf_10</th>\n",
              "      <th>totalTrf_11</th>\n",
              "      <th>totalTrf_12</th>\n",
              "      <th>totalTrf_2</th>\n",
              "      <th>totalTrf_3</th>\n",
              "      <th>totalTrf_4</th>\n",
              "      <th>totalTrf_5</th>\n",
              "      <th>totalTrf_6</th>\n",
              "      <th>totalTrf_7</th>\n",
              "      <th>totalTrf_8</th>\n",
              "      <th>totalTrf_9</th>\n",
              "    </tr>\n",
              "  </thead>\n",
              "  <tbody>\n",
              "    <tr>\n",
              "      <th>0</th>\n",
              "      <td>10689</td>\n",
              "      <td>367419.0</td>\n",
              "      <td>0</td>\n",
              "      <td>0.0</td>\n",
              "      <td>3</td>\n",
              "      <td>3</td>\n",
              "      <td>0</td>\n",
              "      <td>2592000.0</td>\n",
              "      <td>0.0</td>\n",
              "      <td>0</td>\n",
              "      <td>Germany</td>\n",
              "      <td>0.548148</td>\n",
              "      <td>EMEA</td>\n",
              "      <td>0.463392</td>\n",
              "      <td>Delivery_Terms_2</td>\n",
              "      <td>0.479801</td>\n",
              "      <td>0.0</td>\n",
              "      <td>0.0</td>\n",
              "      <td>0.0</td>\n",
              "      <td>0.0</td>\n",
              "      <td>0.0</td>\n",
              "      <td>0.0</td>\n",
              "      <td>0.0</td>\n",
              "      <td>0.0</td>\n",
              "      <td>0.0</td>\n",
              "      <td>0.0</td>\n",
              "      <td>0.0</td>\n",
              "      <td>0.0</td>\n",
              "    </tr>\n",
              "    <tr>\n",
              "      <th>1</th>\n",
              "      <td>10690</td>\n",
              "      <td>757783.5</td>\n",
              "      <td>1</td>\n",
              "      <td>0.2</td>\n",
              "      <td>5</td>\n",
              "      <td>5</td>\n",
              "      <td>1</td>\n",
              "      <td>2367360.0</td>\n",
              "      <td>0.2</td>\n",
              "      <td>5</td>\n",
              "      <td>Germany</td>\n",
              "      <td>0.548148</td>\n",
              "      <td>EMEA</td>\n",
              "      <td>0.463392</td>\n",
              "      <td>Delivery_Terms_2</td>\n",
              "      <td>0.479801</td>\n",
              "      <td>0.0</td>\n",
              "      <td>0.0</td>\n",
              "      <td>0.0</td>\n",
              "      <td>0.0</td>\n",
              "      <td>0.0</td>\n",
              "      <td>0.0</td>\n",
              "      <td>0.0</td>\n",
              "      <td>0.0</td>\n",
              "      <td>1.0</td>\n",
              "      <td>0.0</td>\n",
              "      <td>0.0</td>\n",
              "      <td>0.0</td>\n",
              "    </tr>\n",
              "    <tr>\n",
              "      <th>2</th>\n",
              "      <td>10691</td>\n",
              "      <td>21037.5</td>\n",
              "      <td>0</td>\n",
              "      <td>0.0</td>\n",
              "      <td>1</td>\n",
              "      <td>1</td>\n",
              "      <td>0</td>\n",
              "      <td>0.0</td>\n",
              "      <td>0.0</td>\n",
              "      <td>0</td>\n",
              "      <td>NE America</td>\n",
              "      <td>0.347490</td>\n",
              "      <td>Americas</td>\n",
              "      <td>0.446166</td>\n",
              "      <td>Delivery_Terms_4</td>\n",
              "      <td>0.547011</td>\n",
              "      <td>0.0</td>\n",
              "      <td>0.0</td>\n",
              "      <td>0.0</td>\n",
              "      <td>0.0</td>\n",
              "      <td>0.0</td>\n",
              "      <td>0.0</td>\n",
              "      <td>0.0</td>\n",
              "      <td>0.0</td>\n",
              "      <td>0.0</td>\n",
              "      <td>0.0</td>\n",
              "      <td>0.0</td>\n",
              "      <td>0.0</td>\n",
              "    </tr>\n",
              "    <tr>\n",
              "      <th>3</th>\n",
              "      <td>10692</td>\n",
              "      <td>2169106.5</td>\n",
              "      <td>6</td>\n",
              "      <td>1.0</td>\n",
              "      <td>6</td>\n",
              "      <td>6</td>\n",
              "      <td>1</td>\n",
              "      <td>0.0</td>\n",
              "      <td>6.0</td>\n",
              "      <td>36</td>\n",
              "      <td>NW America</td>\n",
              "      <td>0.632723</td>\n",
              "      <td>Americas</td>\n",
              "      <td>0.446166</td>\n",
              "      <td>Delivery_Terms_4</td>\n",
              "      <td>0.547011</td>\n",
              "      <td>0.0</td>\n",
              "      <td>0.0</td>\n",
              "      <td>0.0</td>\n",
              "      <td>6.0</td>\n",
              "      <td>0.0</td>\n",
              "      <td>0.0</td>\n",
              "      <td>0.0</td>\n",
              "      <td>0.0</td>\n",
              "      <td>0.0</td>\n",
              "      <td>0.0</td>\n",
              "      <td>0.0</td>\n",
              "      <td>0.0</td>\n",
              "    </tr>\n",
              "    <tr>\n",
              "      <th>4</th>\n",
              "      <td>10693</td>\n",
              "      <td>5752.5</td>\n",
              "      <td>0</td>\n",
              "      <td>0.0</td>\n",
              "      <td>1</td>\n",
              "      <td>1</td>\n",
              "      <td>0</td>\n",
              "      <td>0.0</td>\n",
              "      <td>0.0</td>\n",
              "      <td>0</td>\n",
              "      <td>NW America</td>\n",
              "      <td>0.632723</td>\n",
              "      <td>Americas</td>\n",
              "      <td>0.446166</td>\n",
              "      <td>Delivery_Terms_4</td>\n",
              "      <td>0.547011</td>\n",
              "      <td>0.0</td>\n",
              "      <td>0.0</td>\n",
              "      <td>0.0</td>\n",
              "      <td>0.0</td>\n",
              "      <td>0.0</td>\n",
              "      <td>0.0</td>\n",
              "      <td>0.0</td>\n",
              "      <td>0.0</td>\n",
              "      <td>0.0</td>\n",
              "      <td>0.0</td>\n",
              "      <td>0.0</td>\n",
              "      <td>0.0</td>\n",
              "    </tr>\n",
              "    <tr>\n",
              "      <th>...</th>\n",
              "      <td>...</td>\n",
              "      <td>...</td>\n",
              "      <td>...</td>\n",
              "      <td>...</td>\n",
              "      <td>...</td>\n",
              "      <td>...</td>\n",
              "      <td>...</td>\n",
              "      <td>...</td>\n",
              "      <td>...</td>\n",
              "      <td>...</td>\n",
              "      <td>...</td>\n",
              "      <td>...</td>\n",
              "      <td>...</td>\n",
              "      <td>...</td>\n",
              "      <td>...</td>\n",
              "      <td>...</td>\n",
              "      <td>...</td>\n",
              "      <td>...</td>\n",
              "      <td>...</td>\n",
              "      <td>...</td>\n",
              "      <td>...</td>\n",
              "      <td>...</td>\n",
              "      <td>...</td>\n",
              "      <td>...</td>\n",
              "      <td>...</td>\n",
              "      <td>...</td>\n",
              "      <td>...</td>\n",
              "      <td>...</td>\n",
              "    </tr>\n",
              "    <tr>\n",
              "      <th>1562</th>\n",
              "      <td>12364</td>\n",
              "      <td>147750.0</td>\n",
              "      <td>0</td>\n",
              "      <td>0.0</td>\n",
              "      <td>2</td>\n",
              "      <td>2</td>\n",
              "      <td>0</td>\n",
              "      <td>777600.0</td>\n",
              "      <td>0.0</td>\n",
              "      <td>0</td>\n",
              "      <td>KSA</td>\n",
              "      <td>0.416667</td>\n",
              "      <td>EMEA</td>\n",
              "      <td>0.463392</td>\n",
              "      <td>Delivery_Terms_7</td>\n",
              "      <td>0.527778</td>\n",
              "      <td>0.0</td>\n",
              "      <td>0.0</td>\n",
              "      <td>0.0</td>\n",
              "      <td>0.0</td>\n",
              "      <td>0.0</td>\n",
              "      <td>0.0</td>\n",
              "      <td>0.0</td>\n",
              "      <td>0.0</td>\n",
              "      <td>0.0</td>\n",
              "      <td>0.0</td>\n",
              "      <td>0.0</td>\n",
              "      <td>0.0</td>\n",
              "    </tr>\n",
              "    <tr>\n",
              "      <th>1563</th>\n",
              "      <td>12365</td>\n",
              "      <td>45054.9</td>\n",
              "      <td>0</td>\n",
              "      <td>0.0</td>\n",
              "      <td>1</td>\n",
              "      <td>1</td>\n",
              "      <td>0</td>\n",
              "      <td>7862400.0</td>\n",
              "      <td>0.0</td>\n",
              "      <td>0</td>\n",
              "      <td>SE America</td>\n",
              "      <td>0.367953</td>\n",
              "      <td>Americas</td>\n",
              "      <td>0.446166</td>\n",
              "      <td>Delivery_Terms_4</td>\n",
              "      <td>0.547011</td>\n",
              "      <td>0.0</td>\n",
              "      <td>0.0</td>\n",
              "      <td>0.0</td>\n",
              "      <td>0.0</td>\n",
              "      <td>0.0</td>\n",
              "      <td>0.0</td>\n",
              "      <td>0.0</td>\n",
              "      <td>0.0</td>\n",
              "      <td>0.0</td>\n",
              "      <td>0.0</td>\n",
              "      <td>0.0</td>\n",
              "      <td>0.0</td>\n",
              "    </tr>\n",
              "    <tr>\n",
              "      <th>1564</th>\n",
              "      <td>12366</td>\n",
              "      <td>100122.0</td>\n",
              "      <td>0</td>\n",
              "      <td>0.0</td>\n",
              "      <td>1</td>\n",
              "      <td>1</td>\n",
              "      <td>0</td>\n",
              "      <td>7862400.0</td>\n",
              "      <td>0.0</td>\n",
              "      <td>0</td>\n",
              "      <td>SE America</td>\n",
              "      <td>0.367953</td>\n",
              "      <td>Americas</td>\n",
              "      <td>0.446166</td>\n",
              "      <td>Delivery_Terms_4</td>\n",
              "      <td>0.547011</td>\n",
              "      <td>0.0</td>\n",
              "      <td>0.0</td>\n",
              "      <td>0.0</td>\n",
              "      <td>0.0</td>\n",
              "      <td>0.0</td>\n",
              "      <td>0.0</td>\n",
              "      <td>0.0</td>\n",
              "      <td>0.0</td>\n",
              "      <td>0.0</td>\n",
              "      <td>0.0</td>\n",
              "      <td>0.0</td>\n",
              "      <td>0.0</td>\n",
              "    </tr>\n",
              "    <tr>\n",
              "      <th>1565</th>\n",
              "      <td>12367</td>\n",
              "      <td>143220.0</td>\n",
              "      <td>0</td>\n",
              "      <td>0.0</td>\n",
              "      <td>1</td>\n",
              "      <td>1</td>\n",
              "      <td>0</td>\n",
              "      <td>0.0</td>\n",
              "      <td>0.0</td>\n",
              "      <td>0</td>\n",
              "      <td>NE America</td>\n",
              "      <td>0.347490</td>\n",
              "      <td>Americas</td>\n",
              "      <td>0.446166</td>\n",
              "      <td>Delivery_Terms_4</td>\n",
              "      <td>0.547011</td>\n",
              "      <td>0.0</td>\n",
              "      <td>0.0</td>\n",
              "      <td>0.0</td>\n",
              "      <td>0.0</td>\n",
              "      <td>0.0</td>\n",
              "      <td>0.0</td>\n",
              "      <td>0.0</td>\n",
              "      <td>0.0</td>\n",
              "      <td>0.0</td>\n",
              "      <td>0.0</td>\n",
              "      <td>0.0</td>\n",
              "      <td>0.0</td>\n",
              "    </tr>\n",
              "    <tr>\n",
              "      <th>1566</th>\n",
              "      <td>12368</td>\n",
              "      <td>871020.8</td>\n",
              "      <td>3</td>\n",
              "      <td>3.0</td>\n",
              "      <td>1</td>\n",
              "      <td>1</td>\n",
              "      <td>3</td>\n",
              "      <td>4579200.0</td>\n",
              "      <td>9.0</td>\n",
              "      <td>3</td>\n",
              "      <td>Belgium</td>\n",
              "      <td>0.569832</td>\n",
              "      <td>EMEA</td>\n",
              "      <td>0.463392</td>\n",
              "      <td>Delivery_Terms_2</td>\n",
              "      <td>0.479801</td>\n",
              "      <td>0.0</td>\n",
              "      <td>3.0</td>\n",
              "      <td>0.0</td>\n",
              "      <td>0.0</td>\n",
              "      <td>0.0</td>\n",
              "      <td>0.0</td>\n",
              "      <td>0.0</td>\n",
              "      <td>0.0</td>\n",
              "      <td>0.0</td>\n",
              "      <td>0.0</td>\n",
              "      <td>0.0</td>\n",
              "      <td>0.0</td>\n",
              "    </tr>\n",
              "  </tbody>\n",
              "</table>\n",
              "<p>1567 rows × 28 columns</p>\n",
              "</div>"
            ],
            "text/plain": [
              "      Opportunity_ID  totalamount  totalTrf  ...  totalTrf_7  totalTrf_8  totalTrf_9\n",
              "0              10689     367419.0         0  ...         0.0         0.0         0.0\n",
              "1              10690     757783.5         1  ...         0.0         0.0         0.0\n",
              "2              10691      21037.5         0  ...         0.0         0.0         0.0\n",
              "3              10692    2169106.5         6  ...         0.0         0.0         0.0\n",
              "4              10693       5752.5         0  ...         0.0         0.0         0.0\n",
              "...              ...          ...       ...  ...         ...         ...         ...\n",
              "1562           12364     147750.0         0  ...         0.0         0.0         0.0\n",
              "1563           12365      45054.9         0  ...         0.0         0.0         0.0\n",
              "1564           12366     100122.0         0  ...         0.0         0.0         0.0\n",
              "1565           12367     143220.0         0  ...         0.0         0.0         0.0\n",
              "1566           12368     871020.8         3  ...         0.0         0.0         0.0\n",
              "\n",
              "[1567 rows x 28 columns]"
            ]
          },
          "metadata": {
            "tags": []
          },
          "execution_count": 611
        }
      ]
    },
    {
      "cell_type": "code",
      "metadata": {
        "id": "f1vGa7fQA2J7"
      },
      "source": [
        ""
      ],
      "execution_count": 611,
      "outputs": []
    },
    {
      "cell_type": "code",
      "metadata": {
        "id": "yXt9J0IvA2NB"
      },
      "source": [
        ""
      ],
      "execution_count": 611,
      "outputs": []
    },
    {
      "cell_type": "code",
      "metadata": {
        "id": "ggaugZNkA2QB"
      },
      "source": [
        ""
      ],
      "execution_count": 611,
      "outputs": []
    },
    {
      "cell_type": "code",
      "metadata": {
        "id": "lR33FxuXA2S7"
      },
      "source": [
        ""
      ],
      "execution_count": 611,
      "outputs": []
    },
    {
      "cell_type": "code",
      "metadata": {
        "id": "frxsSxaxzzbm"
      },
      "source": [
        "listColumns=testFinal.columns.to_list()\r\n",
        "listColumns.remove('Territory')\r\n",
        "listColumns.remove('Region')\r\n",
        "listColumns.remove('Delivery_Terms')\r\n",
        "#listColumns.remove('Account_Owner')\r\n",
        "listColumns.remove('Opportunity_ID')\r\n",
        "listColumns\r\n",
        "testFinal=testFinal[listColumns]"
      ],
      "execution_count": 612,
      "outputs": []
    },
    {
      "cell_type": "code",
      "metadata": {
        "id": "A84mCwkRzzbn"
      },
      "source": [
        "#X_train, y_test se sacan del df entrenamiento"
      ],
      "execution_count": 613,
      "outputs": []
    },
    {
      "cell_type": "code",
      "metadata": {
        "id": "t8oAk8IJAnit"
      },
      "source": [
        "testFinal=testFinal.fillna(0)"
      ],
      "execution_count": 614,
      "outputs": []
    },
    {
      "cell_type": "code",
      "metadata": {
        "id": "jP0Fe1EbopH7"
      },
      "source": [
        "#guardo el test para despues usarlo\n",
        "dicAcumTrainAndTest['test']=testFinal"
      ],
      "execution_count": 615,
      "outputs": []
    },
    {
      "cell_type": "code",
      "metadata": {
        "id": "qZT3RX0Uzzbo"
      },
      "source": [
        "prediccion=modelo.entrenarYPredecirWithTest(X_train,testFinal)"
      ],
      "execution_count": 616,
      "outputs": []
    },
    {
      "cell_type": "code",
      "metadata": {
        "colab": {
          "base_uri": "https://localhost:8080/"
        },
        "id": "e8e6sLMczzbo",
        "outputId": "e546601c-89a4-4122-ca1b-df54f9ed2dc9"
      },
      "source": [
        "len(prediccion)"
      ],
      "execution_count": 617,
      "outputs": [
        {
          "output_type": "execute_result",
          "data": {
            "text/plain": [
              "1567"
            ]
          },
          "metadata": {
            "tags": []
          },
          "execution_count": 617
        }
      ]
    },
    {
      "cell_type": "code",
      "metadata": {
        "id": "3s1eBUdU9Kbf"
      },
      "source": [
        " "
      ],
      "execution_count": 617,
      "outputs": []
    },
    {
      "cell_type": "markdown",
      "metadata": {
        "id": "NWGyknaJ-8oF"
      },
      "source": [
        "diccioanrio para guardar los dfkaggle de cada modelo para hacer ensamble"
      ]
    },
    {
      "cell_type": "code",
      "metadata": {
        "id": "xoJ1L53J_CfP"
      },
      "source": [
        "dicAcumulaDfKaggle={}\r\n"
      ],
      "execution_count": 618,
      "outputs": []
    },
    {
      "cell_type": "code",
      "metadata": {
        "id": "oEh__ZHtzQA1"
      },
      "source": [
        "entrenamientoFeatures=dicAcumTrainAndTest.get('entrenamiento')"
      ],
      "execution_count": 619,
      "outputs": []
    },
    {
      "cell_type": "code",
      "metadata": {
        "id": "p-HbMII1zybQ"
      },
      "source": [
        "testFeatures=dicAcumTrainAndTest.get('test')"
      ],
      "execution_count": 620,
      "outputs": []
    },
    {
      "cell_type": "code",
      "metadata": {
        "colab": {
          "base_uri": "https://localhost:8080/"
        },
        "id": "Mb0soIvUiBLd",
        "outputId": "9b78a11e-95f7-4e82-8ef2-ffd5d70aa116"
      },
      "source": [
        "X,Y=modelo.splitTrainTarget(entrenamientoFeatures)"
      ],
      "execution_count": 621,
      "outputs": [
        {
          "output_type": "stream",
          "text": [
            "las columnas del train son Index(['totalamount', 'totalTrf', 'meanTrf', 'cantTrf', 'cantProducFamilias',\n",
            "       'maxTrf', 'meanDisPlannedStarAndPlannedEnd', 'meanTrfporTotalTrf',\n",
            "       'cantProducFamiliasporTotalTrf', 'meanEncodingTerritory',\n",
            "       'meanEncodingRegion', 'meanEncodingDelivery_Terms', 'totalTrf_1',\n",
            "       'totalTrf_10', 'totalTrf_11', 'totalTrf_12', 'totalTrf_2', 'totalTrf_3',\n",
            "       'totalTrf_4', 'totalTrf_5', 'totalTrf_6', 'totalTrf_7', 'totalTrf_8',\n",
            "       'totalTrf_9'],\n",
            "      dtype='object') y del target son  Stage\n"
          ],
          "name": "stdout"
        }
      ]
    },
    {
      "cell_type": "code",
      "metadata": {
        "id": "jOtybyUE0Kvl"
      },
      "source": [
        ""
      ],
      "execution_count": 621,
      "outputs": []
    },
    {
      "cell_type": "code",
      "metadata": {
        "id": "fGFCW6y34mf0"
      },
      "source": [
        ""
      ],
      "execution_count": 621,
      "outputs": []
    },
    {
      "cell_type": "markdown",
      "metadata": {
        "id": "fq4Gcat74-Eu"
      },
      "source": [
        "# este diccionario salio del feature seleccion, que esta al final del notebook"
      ]
    },
    {
      "cell_type": "code",
      "metadata": {
        "id": "Z71wb13LzV2o"
      },
      "source": [
        "dicColumnasModelos={'RAMDOMOptimizado': ['totalTrf',\r\n",
        "  'totalamount',\r\n",
        "  'meanTrf',\r\n",
        "  'cantTrf',\r\n",
        "  'cantProducFamilias',\r\n",
        "  'maxTrf',\r\n",
        "  'meanDisPlannedStarAndPlannedEnd',\r\n",
        "  'meanTrfporTotalTrf',\r\n",
        "  'cantProducFamiliasporTotalTrf',\r\n",
        "  'meanEncodingTerritory',\r\n",
        "  'meanEncodingRegion',\r\n",
        "  'meanEncodingDelivery_Terms',\r\n",
        "  'totalTrf_10',\r\n",
        "  'totalTrf_7'],\r\n",
        " 'lgbOptimizado': ['totalTrf',\r\n",
        "  'totalamount',\r\n",
        "  'meanTrf',\r\n",
        "  'cantTrf',\r\n",
        "  'meanDisPlannedStarAndPlannedEnd',\r\n",
        "  'meanTrfporTotalTrf',\r\n",
        "  'meanEncodingTerritory',\r\n",
        "  'meanEncodingRegion',\r\n",
        "  'meanEncodingDelivery_Terms',\r\n",
        "  'totalTrf_1',\r\n",
        "  'totalTrf_3'],\r\n",
        " 'xgboostOptimo': ['totalTrf',\r\n",
        "  'totalamount',\r\n",
        "  'meanTrf',\r\n",
        "  'cantTrf',\r\n",
        "  'cantProducFamilias',\r\n",
        "  'meanDisPlannedStarAndPlannedEnd',\r\n",
        "  'cantProducFamiliasporTotalTrf',\r\n",
        "  'meanEncodingTerritory',\r\n",
        "  'meanEncodingRegion',\r\n",
        "  'meanEncodingDelivery_Terms',\r\n",
        "  'totalTrf_1']}"
      ],
      "execution_count": 622,
      "outputs": []
    },
    {
      "cell_type": "markdown",
      "metadata": {
        "id": "7_Cpw2aZO98N"
      },
      "source": [
        "# **ahora vamos a hacer del xgboost optimizado y ramdomforest optimizado"
      ]
    },
    {
      "cell_type": "markdown",
      "metadata": {
        "id": "4QwlbIwzVDro"
      },
      "source": [
        "RED NEURONAL OPTIMIZADA"
      ]
    },
    {
      "cell_type": "code",
      "metadata": {
        "id": "JmJaGI-ELdrx"
      },
      "source": [
        "# modelo=modelosDic.get('neuralNetworkOptimizado')\r\n",
        "\r\n",
        "# #cargamos el modelo \r\n",
        "# modelo=modelo\r\n",
        "# print(modelo.nombre)"
      ],
      "execution_count": 623,
      "outputs": []
    },
    {
      "cell_type": "code",
      "metadata": {
        "id": "SPBdoFVaLdoa"
      },
      "source": [
        "# X,Y=modelo.splitTrainTarget(entrenamientoFeatures)\r\n",
        "# model = modelo.buscaMejorHiperparametroAndTrainModeloWithKfold(X,Y)\r\n",
        "# prediccion=modelo.entrenarYPredecirWithTest(testFeatures, model) "
      ],
      "execution_count": 624,
      "outputs": []
    },
    {
      "cell_type": "code",
      "metadata": {
        "id": "x5Bpanj2U3qZ"
      },
      "source": [
        "# dicAcumulaDfKaggle[modelo.nombre]=modelo.formarDfKaggle(prediccion)"
      ],
      "execution_count": 625,
      "outputs": []
    },
    {
      "cell_type": "markdown",
      "metadata": {
        "id": "ffX8OodWU4WG"
      },
      "source": [
        "LGB Regresion OPTIMIZADO"
      ]
    },
    {
      "cell_type": "code",
      "metadata": {
        "colab": {
          "base_uri": "https://localhost:8080/"
        },
        "id": "LOPpiWg7TK3N",
        "outputId": "47bbfba3-9bd9-4d3a-ab1b-839bf696d72e"
      },
      "source": [
        "modelo=modelosDic.get('lgbRegresionOptimizado')\r\n",
        "\r\n",
        "#cargamos el modelo \r\n",
        "modelo=modelo\r\n",
        "print(modelo.nombre)\r\n"
      ],
      "execution_count": 626,
      "outputs": [
        {
          "output_type": "stream",
          "text": [
            "lgbOptimizado\n"
          ],
          "name": "stdout"
        }
      ]
    },
    {
      "cell_type": "code",
      "metadata": {
        "colab": {
          "base_uri": "https://localhost:8080/"
        },
        "id": "nlL22pMtLxAp",
        "outputId": "e8d2075a-f718-486f-99f3-75095098fbf8"
      },
      "source": [
        "#X,Y=modelo.splitTrainTarget(entrenamientoFeatures)\r\n",
        "bestColumnas=dicColumnasModelos.get('lgbOptimizado')\r\n",
        "model = modelo.buscaMejorHiperparametroAndTrainModeloWithKfold(X[bestColumnas],Y)\r\n",
        "prediccion=modelo.entrenarYPredecirWithTest(testFeatures[bestColumnas], model) "
      ],
      "execution_count": 627,
      "outputs": [
        {
          "output_type": "stream",
          "text": [
            "Fitting 3 folds for each of 5 candidates, totalling 15 fits\n"
          ],
          "name": "stdout"
        },
        {
          "output_type": "stream",
          "text": [
            "[Parallel(n_jobs=4)]: Using backend LokyBackend with 4 concurrent workers.\n"
          ],
          "name": "stderr"
        },
        {
          "output_type": "stream",
          "text": [
            "\n",
            " Time taken: 0 hours 0 minutes and 3.57 seconds.\n",
            "\n",
            " All results:\n",
            "{'mean_fit_time': array([0.18329891, 0.22603242, 0.26764258, 0.20079358, 0.19908683]), 'std_fit_time': array([0.04861922, 0.04206097, 0.07894156, 0.05562509, 0.05106094]), 'mean_score_time': array([0.04207341, 0.05781555, 0.07615932, 0.06133739, 0.02930148]), 'std_score_time': array([0.01781464, 0.03282869, 0.00743097, 0.02368868, 0.01086456]), 'param_subsample': masked_array(data=[1.0, 0.6, 0.8, 1.0, 0.8],\n",
            "             mask=[False, False, False, False, False],\n",
            "       fill_value='?',\n",
            "            dtype=object), 'param_min_child_weight': masked_array(data=[5, 1, 5, 5, 1],\n",
            "             mask=[False, False, False, False, False],\n",
            "       fill_value='?',\n",
            "            dtype=object), 'param_max_depth': masked_array(data=[3, 5, 5, 5, 4],\n",
            "             mask=[False, False, False, False, False],\n",
            "       fill_value='?',\n",
            "            dtype=object), 'param_gamma': masked_array(data=[5, 1.5, 1, 5, 1],\n",
            "             mask=[False, False, False, False, False],\n",
            "       fill_value='?',\n",
            "            dtype=object), 'param_colsample_bytree': masked_array(data=[1.0, 0.8, 0.8, 0.6, 1.0],\n",
            "             mask=[False, False, False, False, False],\n",
            "       fill_value='?',\n",
            "            dtype=object), 'params': [{'subsample': 1.0, 'min_child_weight': 5, 'max_depth': 3, 'gamma': 5, 'colsample_bytree': 1.0}, {'subsample': 0.6, 'min_child_weight': 1, 'max_depth': 5, 'gamma': 1.5, 'colsample_bytree': 0.8}, {'subsample': 0.8, 'min_child_weight': 5, 'max_depth': 5, 'gamma': 1, 'colsample_bytree': 0.8}, {'subsample': 1.0, 'min_child_weight': 5, 'max_depth': 5, 'gamma': 5, 'colsample_bytree': 0.6}, {'subsample': 0.8, 'min_child_weight': 1, 'max_depth': 4, 'gamma': 1, 'colsample_bytree': 1.0}], 'split0_test_score': array([-0.39258357, -0.38557297, -0.38557297, -0.38726452, -0.38736322]), 'split1_test_score': array([-0.40900299, -0.40184373, -0.40184373, -0.40321384, -0.40387556]), 'split2_test_score': array([-0.40031477, -0.39466591, -0.39466591, -0.39512495, -0.39634646]), 'mean_test_score': array([-0.40063378, -0.39402754, -0.39402754, -0.3952011 , -0.39586175]), 'std_test_score': array([0.00670699, 0.00665783, 0.00665783, 0.00651151, 0.00674984]), 'rank_test_score': array([5, 1, 1, 3, 4], dtype=int32)}\n",
            "\n",
            " Best estimator:\n",
            "LGBMRegressor(boosting_type='gbdt', class_weight=None, colsample_bytree=0.8,\n",
            "              gamma=1.5, importance_type='split', learning_rate=0.1,\n",
            "              max_depth=5, min_child_samples=20, min_child_weight=1,\n",
            "              min_split_gain=0.0, n_estimators=100, n_jobs=-1, num_leaves=31,\n",
            "              objective=None, random_state=1, reg_alpha=0.0, reg_lambda=0.0,\n",
            "              silent=True, subsample=0.6, subsample_for_bin=200000,\n",
            "              subsample_freq=0)\n",
            "\n",
            " Best   3-fold search with 5 parameter combinations:\n",
            "-0.3940275393619226\n",
            "\n",
            " Best hyperparameters:\n",
            "{'subsample': 0.6, 'min_child_weight': 1, 'max_depth': 5, 'gamma': 1.5, 'colsample_bytree': 0.8}\n"
          ],
          "name": "stdout"
        },
        {
          "output_type": "stream",
          "text": [
            "[Parallel(n_jobs=4)]: Done  15 out of  15 | elapsed:    3.4s finished\n"
          ],
          "name": "stderr"
        }
      ]
    },
    {
      "cell_type": "code",
      "metadata": {
        "colab": {
          "base_uri": "https://localhost:8080/",
          "height": 34
        },
        "id": "AcXDEkE_U02Y",
        "outputId": "88e4ff55-3743-4ab3-b524-5747d34ba969"
      },
      "source": [
        "dicAcumulaDfKaggle[modelo.nombre]=modelo.formarDfKaggle(prediccion)"
      ],
      "execution_count": 628,
      "outputs": [
        {
          "output_type": "display_data",
          "data": {
            "application/javascript": [
              "\n",
              "    async function download(id, filename, size) {\n",
              "      if (!google.colab.kernel.accessAllowed) {\n",
              "        return;\n",
              "      }\n",
              "      const div = document.createElement('div');\n",
              "      const label = document.createElement('label');\n",
              "      label.textContent = `Downloading \"${filename}\": `;\n",
              "      div.appendChild(label);\n",
              "      const progress = document.createElement('progress');\n",
              "      progress.max = size;\n",
              "      div.appendChild(progress);\n",
              "      document.body.appendChild(div);\n",
              "\n",
              "      const buffers = [];\n",
              "      let downloaded = 0;\n",
              "\n",
              "      const channel = await google.colab.kernel.comms.open(id);\n",
              "      // Send a message to notify the kernel that we're ready.\n",
              "      channel.send({})\n",
              "\n",
              "      for await (const message of channel.messages) {\n",
              "        // Send a message to notify the kernel that we're ready.\n",
              "        channel.send({})\n",
              "        if (message.buffers) {\n",
              "          for (const buffer of message.buffers) {\n",
              "            buffers.push(buffer);\n",
              "            downloaded += buffer.byteLength;\n",
              "            progress.value = downloaded;\n",
              "          }\n",
              "        }\n",
              "      }\n",
              "      const blob = new Blob(buffers, {type: 'application/binary'});\n",
              "      const a = document.createElement('a');\n",
              "      a.href = window.URL.createObjectURL(blob);\n",
              "      a.download = filename;\n",
              "      div.appendChild(a);\n",
              "      a.click();\n",
              "      div.remove();\n",
              "    }\n",
              "  "
            ],
            "text/plain": [
              "<IPython.core.display.Javascript object>"
            ]
          },
          "metadata": {
            "tags": []
          }
        },
        {
          "output_type": "display_data",
          "data": {
            "application/javascript": [
              "download(\"download_b859c20e-959f-4bf5-886f-d519c6406d45\", \"dfKaggle.csv\", 39591)"
            ],
            "text/plain": [
              "<IPython.core.display.Javascript object>"
            ]
          },
          "metadata": {
            "tags": []
          }
        }
      ]
    },
    {
      "cell_type": "markdown",
      "metadata": {
        "id": "OAQjIG_qVIt0"
      },
      "source": [
        "xGBOOST OPTIMIZADO"
      ]
    },
    {
      "cell_type": "code",
      "metadata": {
        "colab": {
          "base_uri": "https://localhost:8080/"
        },
        "id": "qq-SIQQFzAtP",
        "outputId": "c8ebc40f-ede9-4bfa-c921-b1b89a38d1c1"
      },
      "source": [
        "modelo=modelosDic.get('xgboostOptimo')\n",
        "\n",
        "#cargamos el modelo \n",
        "modelo=modelo\n",
        "print(modelo.nombre)"
      ],
      "execution_count": 629,
      "outputs": [
        {
          "output_type": "stream",
          "text": [
            "XGBOOSTopti\n"
          ],
          "name": "stdout"
        }
      ]
    },
    {
      "cell_type": "code",
      "metadata": {
        "colab": {
          "base_uri": "https://localhost:8080/"
        },
        "id": "J-hWX_bnPEp3",
        "outputId": "8af6c727-9f42-4ad5-a3b4-de4608c552d4"
      },
      "source": [
        "#X,Y=modelo.splitTrainTarget(entrenamientoFeatures)\n",
        "bestColumnas=dicColumnasModelos.get('xgboostOptimo')\n",
        "model=modelo.buscaMejorHiperparametroAndTrainModeloWithKfold(X[bestColumnas],Y)\n",
        "prediccion=modelo.entrenarYPredecirWithTest(testFeatures[bestColumnas],model) "
      ],
      "execution_count": 630,
      "outputs": [
        {
          "output_type": "stream",
          "text": [
            "Fitting 3 folds for each of 5 candidates, totalling 15 fits\n"
          ],
          "name": "stdout"
        },
        {
          "output_type": "stream",
          "text": [
            "[Parallel(n_jobs=4)]: Using backend LokyBackend with 4 concurrent workers.\n",
            "[Parallel(n_jobs=4)]: Done  15 out of  15 | elapsed:   25.7s finished\n"
          ],
          "name": "stderr"
        },
        {
          "output_type": "stream",
          "text": [
            "\n",
            " Time taken: 0 hours 0 minutes and 29.61 seconds.\n",
            "\n",
            " All results:\n",
            "{'mean_fit_time': array([5.08707778, 7.69261821, 7.36905487, 6.4853553 , 5.71816969]), 'std_fit_time': array([0.15784401, 0.14702339, 0.19530486, 0.02768628, 0.37851674]), 'mean_score_time': array([0.03205729, 0.10041459, 0.15074595, 0.03570708, 0.08227475]), 'std_score_time': array([0.00510152, 0.00302787, 0.01129709, 0.00296892, 0.03629032]), 'param_subsample': masked_array(data=[1.0, 0.6, 0.8, 1.0, 0.8],\n",
            "             mask=[False, False, False, False, False],\n",
            "       fill_value='?',\n",
            "            dtype=object), 'param_min_child_weight': masked_array(data=[5, 1, 5, 5, 1],\n",
            "             mask=[False, False, False, False, False],\n",
            "       fill_value='?',\n",
            "            dtype=object), 'param_max_depth': masked_array(data=[3, 5, 5, 5, 4],\n",
            "             mask=[False, False, False, False, False],\n",
            "       fill_value='?',\n",
            "            dtype=object), 'param_gamma': masked_array(data=[5, 1.5, 1, 5, 1],\n",
            "             mask=[False, False, False, False, False],\n",
            "       fill_value='?',\n",
            "            dtype=object), 'param_colsample_bytree': masked_array(data=[1.0, 0.8, 0.8, 0.6, 1.0],\n",
            "             mask=[False, False, False, False, False],\n",
            "       fill_value='?',\n",
            "            dtype=object), 'params': [{'subsample': 1.0, 'min_child_weight': 5, 'max_depth': 3, 'gamma': 5, 'colsample_bytree': 1.0}, {'subsample': 0.6, 'min_child_weight': 1, 'max_depth': 5, 'gamma': 1.5, 'colsample_bytree': 0.8}, {'subsample': 0.8, 'min_child_weight': 5, 'max_depth': 5, 'gamma': 1, 'colsample_bytree': 0.8}, {'subsample': 1.0, 'min_child_weight': 5, 'max_depth': 5, 'gamma': 5, 'colsample_bytree': 0.6}, {'subsample': 0.8, 'min_child_weight': 1, 'max_depth': 4, 'gamma': 1, 'colsample_bytree': 1.0}], 'split0_test_score': array([-0.40830301, -0.38797567, -0.38600523, -0.4054702 , -0.38817673]), 'split1_test_score': array([-0.41752574, -0.40618177, -0.40356243, -0.4162628 , -0.40453449]), 'split2_test_score': array([-0.4129955 , -0.39634988, -0.39461943, -0.41096611, -0.39661818]), 'mean_test_score': array([-0.41294142, -0.39683577, -0.39472903, -0.4108997 , -0.39644313]), 'std_test_score': array([0.00376536, 0.00744055, 0.00716811, 0.00440631, 0.00667917]), 'rank_test_score': array([5, 3, 1, 4, 2], dtype=int32)}\n",
            "\n",
            " Best estimator:\n",
            "XGBRegressor(base_score=0.5, booster='gbtree', colsample_bylevel=1,\n",
            "             colsample_bynode=1, colsample_bytree=0.8, gamma=1,\n",
            "             importance_type='gain', learning_rate=0.05, max_delta_step=0,\n",
            "             max_depth=5, min_child_weight=5, missing=None, n_estimators=500,\n",
            "             n_jobs=1, nthread=None, objective='reg:squarederror',\n",
            "             random_state=0, reg_alpha=0, reg_lambda=1, scale_pos_weight=1,\n",
            "             seed=None, silent=None, subsample=0.8, verbosity=1)\n",
            "\n",
            " Best   3-fold search with 5 parameter combinations:\n",
            "-0.394729030651412\n",
            "\n",
            " Best hyperparameters:\n",
            "{'subsample': 0.8, 'min_child_weight': 5, 'max_depth': 5, 'gamma': 1, 'colsample_bytree': 0.8}\n"
          ],
          "name": "stdout"
        }
      ]
    },
    {
      "cell_type": "code",
      "metadata": {
        "colab": {
          "base_uri": "https://localhost:8080/",
          "height": 34
        },
        "id": "Xzomfo1t1taM",
        "outputId": "97a3b87f-b89c-4743-f672-32814efbcebe"
      },
      "source": [
        "dicAcumulaDfKaggle[modelo.nombre]=modelo.formarDfKaggle(prediccion)"
      ],
      "execution_count": 631,
      "outputs": [
        {
          "output_type": "display_data",
          "data": {
            "application/javascript": [
              "\n",
              "    async function download(id, filename, size) {\n",
              "      if (!google.colab.kernel.accessAllowed) {\n",
              "        return;\n",
              "      }\n",
              "      const div = document.createElement('div');\n",
              "      const label = document.createElement('label');\n",
              "      label.textContent = `Downloading \"${filename}\": `;\n",
              "      div.appendChild(label);\n",
              "      const progress = document.createElement('progress');\n",
              "      progress.max = size;\n",
              "      div.appendChild(progress);\n",
              "      document.body.appendChild(div);\n",
              "\n",
              "      const buffers = [];\n",
              "      let downloaded = 0;\n",
              "\n",
              "      const channel = await google.colab.kernel.comms.open(id);\n",
              "      // Send a message to notify the kernel that we're ready.\n",
              "      channel.send({})\n",
              "\n",
              "      for await (const message of channel.messages) {\n",
              "        // Send a message to notify the kernel that we're ready.\n",
              "        channel.send({})\n",
              "        if (message.buffers) {\n",
              "          for (const buffer of message.buffers) {\n",
              "            buffers.push(buffer);\n",
              "            downloaded += buffer.byteLength;\n",
              "            progress.value = downloaded;\n",
              "          }\n",
              "        }\n",
              "      }\n",
              "      const blob = new Blob(buffers, {type: 'application/binary'});\n",
              "      const a = document.createElement('a');\n",
              "      a.href = window.URL.createObjectURL(blob);\n",
              "      a.download = filename;\n",
              "      div.appendChild(a);\n",
              "      a.click();\n",
              "      div.remove();\n",
              "    }\n",
              "  "
            ],
            "text/plain": [
              "<IPython.core.display.Javascript object>"
            ]
          },
          "metadata": {
            "tags": []
          }
        },
        {
          "output_type": "display_data",
          "data": {
            "application/javascript": [
              "download(\"download_8a512de8-96e9-472a-82cf-500504cf73ff\", \"dfKaggle.csv\", 26050)"
            ],
            "text/plain": [
              "<IPython.core.display.Javascript object>"
            ]
          },
          "metadata": {
            "tags": []
          }
        }
      ]
    },
    {
      "cell_type": "markdown",
      "metadata": {
        "id": "bVN6w6AD8RNh"
      },
      "source": [
        "#ramdomoforestoptimo"
      ]
    },
    {
      "cell_type": "code",
      "metadata": {
        "colab": {
          "base_uri": "https://localhost:8080/"
        },
        "id": "J9v34v2e8hrN",
        "outputId": "595ad0ac-7144-4860-f588-36b9042bf71d"
      },
      "source": [
        "modelo=modelosDic.get('RandomForestRegreOptimo')\n",
        "\n",
        "#cargamos el modelo \n",
        "modelo=modelo\n",
        "print(modelo.nombre)"
      ],
      "execution_count": 632,
      "outputs": [
        {
          "output_type": "stream",
          "text": [
            "RAMDOMOptimizado\n"
          ],
          "name": "stdout"
        }
      ]
    },
    {
      "cell_type": "code",
      "metadata": {
        "colab": {
          "base_uri": "https://localhost:8080/"
        },
        "id": "7ETtoSp68hrO",
        "outputId": "6ae593a1-0592-4793-8a38-8ef4860ee5a9"
      },
      "source": [
        "#X,Y=modelo.splitTrainTarget(entrenamientoFeatures)\n",
        "bestColumnas=dicColumnasModelos.get('RAMDOMOptimizado')\n",
        "model=modelo.buscaMejorHiperparametroAndTrainModeloWithKfold(X[bestColumnas],Y)\n",
        "prediccion=modelo.entrenarYPredecirWithTest(testFeatures[bestColumnas],model) \n"
      ],
      "execution_count": 633,
      "outputs": [
        {
          "output_type": "stream",
          "text": [
            "Fitting 3 folds for each of 4 candidates, totalling 12 fits\n"
          ],
          "name": "stdout"
        },
        {
          "output_type": "stream",
          "text": [
            "[Parallel(n_jobs=4)]: Using backend LokyBackend with 4 concurrent workers.\n",
            "[Parallel(n_jobs=4)]: Done  10 out of  12 | elapsed:   39.8s remaining:    8.0s\n",
            "[Parallel(n_jobs=4)]: Done  12 out of  12 | elapsed:   40.8s finished\n"
          ],
          "name": "stderr"
        },
        {
          "output_type": "stream",
          "text": [
            "\n",
            " Time taken: 0 hours 0 minutes and 50.75 seconds.\n",
            "\n",
            " All results:\n",
            "{'mean_fit_time': array([12.16040881, 12.24153479, 16.48052359,  9.81559738]), 'std_fit_time': array([0.03156039, 0.02069761, 0.74036213, 0.6682255 ]), 'mean_score_time': array([0.34807197, 0.33929825, 0.35957837, 0.21730812]), 'std_score_time': array([0.06020285, 0.01379032, 0.12445913, 0.04937013]), 'param_n_estimators': masked_array(data=[500, 500, 500, 500],\n",
            "             mask=[False, False, False, False],\n",
            "       fill_value='?',\n",
            "            dtype=object), 'param_min_samples_split': masked_array(data=[5, 3, 4, 5],\n",
            "             mask=[False, False, False, False],\n",
            "       fill_value='?',\n",
            "            dtype=object), 'param_min_samples_leaf': masked_array(data=[2, 1, 2, 2],\n",
            "             mask=[False, False, False, False],\n",
            "       fill_value='?',\n",
            "            dtype=object), 'param_max_depth': masked_array(data=[5, 5, 8, 4],\n",
            "             mask=[False, False, False, False],\n",
            "       fill_value='?',\n",
            "            dtype=object), 'params': [{'n_estimators': 500, 'min_samples_split': 5, 'min_samples_leaf': 2, 'max_depth': 5}, {'n_estimators': 500, 'min_samples_split': 3, 'min_samples_leaf': 1, 'max_depth': 5}, {'n_estimators': 500, 'min_samples_split': 4, 'min_samples_leaf': 2, 'max_depth': 8}, {'n_estimators': 500, 'min_samples_split': 5, 'min_samples_leaf': 2, 'max_depth': 4}], 'split0_test_score': array([-0.40015374, -0.40020092, -0.38775806, -0.40751916]), 'split1_test_score': array([-0.41556787, -0.41553613, -0.40319378, -0.42094209]), 'split2_test_score': array([-0.40618595, -0.40624929, -0.39604694, -0.4133888 ]), 'mean_test_score': array([-0.40730252, -0.40732878, -0.39566626, -0.41395002]), 'std_test_score': array([0.00634213, 0.00630694, 0.00630735, 0.00549424]), 'rank_test_score': array([2, 3, 1, 4], dtype=int32)}\n",
            "\n",
            " Best estimator:\n",
            "RandomForestRegressor(bootstrap=True, ccp_alpha=0.0, criterion='mse',\n",
            "                      max_depth=8, max_features='auto', max_leaf_nodes=None,\n",
            "                      max_samples=None, min_impurity_decrease=0.0,\n",
            "                      min_impurity_split=None, min_samples_leaf=2,\n",
            "                      min_samples_split=4, min_weight_fraction_leaf=0.0,\n",
            "                      n_estimators=500, n_jobs=None, oob_score=False,\n",
            "                      random_state=101, verbose=0, warm_start=False)\n",
            "\n",
            " Best   3-fold search with 4 parameter combinations:\n",
            "-0.39566625994878035\n",
            "\n",
            " Best hyperparameters:\n",
            "{'n_estimators': 500, 'min_samples_split': 4, 'min_samples_leaf': 2, 'max_depth': 8}\n"
          ],
          "name": "stdout"
        }
      ]
    },
    {
      "cell_type": "code",
      "metadata": {
        "colab": {
          "base_uri": "https://localhost:8080/",
          "height": 17
        },
        "id": "CUi9PNN88hrP",
        "outputId": "17cd7fd0-ed4b-4b7b-f494-bc65551b78f3"
      },
      "source": [
        "dicAcumulaDfKaggle[modelo.nombre]=modelo.formarDfKaggle(prediccion)"
      ],
      "execution_count": 634,
      "outputs": [
        {
          "output_type": "display_data",
          "data": {
            "application/javascript": [
              "\n",
              "    async function download(id, filename, size) {\n",
              "      if (!google.colab.kernel.accessAllowed) {\n",
              "        return;\n",
              "      }\n",
              "      const div = document.createElement('div');\n",
              "      const label = document.createElement('label');\n",
              "      label.textContent = `Downloading \"${filename}\": `;\n",
              "      div.appendChild(label);\n",
              "      const progress = document.createElement('progress');\n",
              "      progress.max = size;\n",
              "      div.appendChild(progress);\n",
              "      document.body.appendChild(div);\n",
              "\n",
              "      const buffers = [];\n",
              "      let downloaded = 0;\n",
              "\n",
              "      const channel = await google.colab.kernel.comms.open(id);\n",
              "      // Send a message to notify the kernel that we're ready.\n",
              "      channel.send({})\n",
              "\n",
              "      for await (const message of channel.messages) {\n",
              "        // Send a message to notify the kernel that we're ready.\n",
              "        channel.send({})\n",
              "        if (message.buffers) {\n",
              "          for (const buffer of message.buffers) {\n",
              "            buffers.push(buffer);\n",
              "            downloaded += buffer.byteLength;\n",
              "            progress.value = downloaded;\n",
              "          }\n",
              "        }\n",
              "      }\n",
              "      const blob = new Blob(buffers, {type: 'application/binary'});\n",
              "      const a = document.createElement('a');\n",
              "      a.href = window.URL.createObjectURL(blob);\n",
              "      a.download = filename;\n",
              "      div.appendChild(a);\n",
              "      a.click();\n",
              "      div.remove();\n",
              "    }\n",
              "  "
            ],
            "text/plain": [
              "<IPython.core.display.Javascript object>"
            ]
          },
          "metadata": {
            "tags": []
          }
        },
        {
          "output_type": "display_data",
          "data": {
            "application/javascript": [
              "download(\"download_c1aa1d9d-cbe1-48f4-a39b-d9ba54a22500\", \"dfKaggle.csv\", 39620)"
            ],
            "text/plain": [
              "<IPython.core.display.Javascript object>"
            ]
          },
          "metadata": {
            "tags": []
          }
        }
      ]
    },
    {
      "cell_type": "code",
      "metadata": {
        "colab": {
          "base_uri": "https://localhost:8080/",
          "height": 256
        },
        "id": "kn9XyYus-GxA",
        "outputId": "8c85971e-4b9a-493a-ce63-2c75e0958d3b"
      },
      "source": [
        "#vamos a ensamblar\n",
        "sumPrediction=0\n",
        "totalModelos=0\n",
        "for i in dicAcumulaDfKaggle:\n",
        "  totalModelos= totalModelos +1\n",
        "  sumPrediction =  sumPrediction+  dicAcumulaDfKaggle.get(i)['Target']\n",
        "\n",
        "print(totalModelos)\n",
        "print(sumPrediction)\n",
        "promedio=sumPrediction/totalModelos  \n",
        " \n",
        " \n",
        "#esta prediccion tiene error de aproximacion, por eso no subir este df al kaggle, ahora en la siguientes lineas lo arreglamo\n",
        "#eerror es que da mayor a 1 y vaces menor a 0 y la probabilida es entre 0 y 1\n",
        "prediccionFinal=modelo.formarDfKaggle( promedio )"
      ],
      "execution_count": 635,
      "outputs": [
        {
          "output_type": "stream",
          "text": [
            "3\n",
            "0       1.799284\n",
            "1       1.773957\n",
            "2       2.308747\n",
            "3       1.949758\n",
            "4       2.876152\n",
            "          ...   \n",
            "1562    2.415099\n",
            "1563    1.493872\n",
            "1564    0.615037\n",
            "1565    1.218270\n",
            "1566    0.251293\n",
            "Name: Target, Length: 1567, dtype: float64\n"
          ],
          "name": "stdout"
        },
        {
          "output_type": "display_data",
          "data": {
            "application/javascript": [
              "\n",
              "    async function download(id, filename, size) {\n",
              "      if (!google.colab.kernel.accessAllowed) {\n",
              "        return;\n",
              "      }\n",
              "      const div = document.createElement('div');\n",
              "      const label = document.createElement('label');\n",
              "      label.textContent = `Downloading \"${filename}\": `;\n",
              "      div.appendChild(label);\n",
              "      const progress = document.createElement('progress');\n",
              "      progress.max = size;\n",
              "      div.appendChild(progress);\n",
              "      document.body.appendChild(div);\n",
              "\n",
              "      const buffers = [];\n",
              "      let downloaded = 0;\n",
              "\n",
              "      const channel = await google.colab.kernel.comms.open(id);\n",
              "      // Send a message to notify the kernel that we're ready.\n",
              "      channel.send({})\n",
              "\n",
              "      for await (const message of channel.messages) {\n",
              "        // Send a message to notify the kernel that we're ready.\n",
              "        channel.send({})\n",
              "        if (message.buffers) {\n",
              "          for (const buffer of message.buffers) {\n",
              "            buffers.push(buffer);\n",
              "            downloaded += buffer.byteLength;\n",
              "            progress.value = downloaded;\n",
              "          }\n",
              "        }\n",
              "      }\n",
              "      const blob = new Blob(buffers, {type: 'application/binary'});\n",
              "      const a = document.createElement('a');\n",
              "      a.href = window.URL.createObjectURL(blob);\n",
              "      a.download = filename;\n",
              "      div.appendChild(a);\n",
              "      a.click();\n",
              "      div.remove();\n",
              "    }\n",
              "  "
            ],
            "text/plain": [
              "<IPython.core.display.Javascript object>"
            ]
          },
          "metadata": {
            "tags": []
          }
        },
        {
          "output_type": "display_data",
          "data": {
            "application/javascript": [
              "download(\"download_c14e13d9-5a1d-4ac6-adf3-f1abf0ae24c7\", \"dfKaggle.csv\", 39576)"
            ],
            "text/plain": [
              "<IPython.core.display.Javascript object>"
            ]
          },
          "metadata": {
            "tags": []
          }
        }
      ]
    },
    {
      "cell_type": "code",
      "metadata": {
        "id": "Y-o0jSokIC3n"
      },
      "source": [
        "#aca arreglamos el error\n",
        "prediccionFinal['Target'] = (\n",
        "    np.select(\n",
        "        condlist=[prediccionFinal['Target'] > 1, prediccionFinal['Target'] < 0], \n",
        "        choicelist=[1, 0],\n",
        "        default=prediccionFinal['Target'] ))\n",
        "         "
      ],
      "execution_count": 636,
      "outputs": []
    },
    {
      "cell_type": "code",
      "metadata": {
        "colab": {
          "base_uri": "https://localhost:8080/"
        },
        "id": "LPHNK5ltW_bR",
        "outputId": "5d71e925-e00d-44aa-a88d-6c3a9eaaa43b"
      },
      "source": [
        "prediccionFinal[\"Target\"].max()"
      ],
      "execution_count": 637,
      "outputs": [
        {
          "output_type": "execute_result",
          "data": {
            "text/plain": [
              "1.0"
            ]
          },
          "metadata": {
            "tags": []
          },
          "execution_count": 637
        }
      ]
    },
    {
      "cell_type": "code",
      "metadata": {
        "colab": {
          "base_uri": "https://localhost:8080/",
          "height": 17
        },
        "id": "Jw4Id-LmPq8d",
        "outputId": "d3fe55c8-df76-4cdd-f62a-824a3ab0e5f7"
      },
      "source": [
        "#ahora si formamos el df a kaggle final\n",
        "prediccionFinal=modelo.formarDfKaggle( prediccionFinal['Target'] )"
      ],
      "execution_count": 638,
      "outputs": [
        {
          "output_type": "display_data",
          "data": {
            "application/javascript": [
              "\n",
              "    async function download(id, filename, size) {\n",
              "      if (!google.colab.kernel.accessAllowed) {\n",
              "        return;\n",
              "      }\n",
              "      const div = document.createElement('div');\n",
              "      const label = document.createElement('label');\n",
              "      label.textContent = `Downloading \"${filename}\": `;\n",
              "      div.appendChild(label);\n",
              "      const progress = document.createElement('progress');\n",
              "      progress.max = size;\n",
              "      div.appendChild(progress);\n",
              "      document.body.appendChild(div);\n",
              "\n",
              "      const buffers = [];\n",
              "      let downloaded = 0;\n",
              "\n",
              "      const channel = await google.colab.kernel.comms.open(id);\n",
              "      // Send a message to notify the kernel that we're ready.\n",
              "      channel.send({})\n",
              "\n",
              "      for await (const message of channel.messages) {\n",
              "        // Send a message to notify the kernel that we're ready.\n",
              "        channel.send({})\n",
              "        if (message.buffers) {\n",
              "          for (const buffer of message.buffers) {\n",
              "            buffers.push(buffer);\n",
              "            downloaded += buffer.byteLength;\n",
              "            progress.value = downloaded;\n",
              "          }\n",
              "        }\n",
              "      }\n",
              "      const blob = new Blob(buffers, {type: 'application/binary'});\n",
              "      const a = document.createElement('a');\n",
              "      a.href = window.URL.createObjectURL(blob);\n",
              "      a.download = filename;\n",
              "      div.appendChild(a);\n",
              "      a.click();\n",
              "      div.remove();\n",
              "    }\n",
              "  "
            ],
            "text/plain": [
              "<IPython.core.display.Javascript object>"
            ]
          },
          "metadata": {
            "tags": []
          }
        },
        {
          "output_type": "display_data",
          "data": {
            "application/javascript": [
              "download(\"download_d34b10dc-19ad-40fc-81ed-4ef138d93ed1\", \"dfKaggle.csv\", 39190)"
            ],
            "text/plain": [
              "<IPython.core.display.Javascript object>"
            ]
          },
          "metadata": {
            "tags": []
          }
        }
      ]
    },
    {
      "cell_type": "code",
      "metadata": {
        "colab": {
          "base_uri": "https://localhost:8080/",
          "height": 424
        },
        "id": "nx7grrfx4MFz",
        "outputId": "f4ab31c9-501a-4aac-8bae-613741d0244c"
      },
      "source": [
        "prediccionFinal"
      ],
      "execution_count": 639,
      "outputs": [
        {
          "output_type": "execute_result",
          "data": {
            "text/html": [
              "<div>\n",
              "<style scoped>\n",
              "    .dataframe tbody tr th:only-of-type {\n",
              "        vertical-align: middle;\n",
              "    }\n",
              "\n",
              "    .dataframe tbody tr th {\n",
              "        vertical-align: top;\n",
              "    }\n",
              "\n",
              "    .dataframe thead th {\n",
              "        text-align: right;\n",
              "    }\n",
              "</style>\n",
              "<table border=\"1\" class=\"dataframe\">\n",
              "  <thead>\n",
              "    <tr style=\"text-align: right;\">\n",
              "      <th></th>\n",
              "      <th>Opportunity_ID</th>\n",
              "      <th>Target</th>\n",
              "    </tr>\n",
              "  </thead>\n",
              "  <tbody>\n",
              "    <tr>\n",
              "      <th>0</th>\n",
              "      <td>10689</td>\n",
              "      <td>0.599761</td>\n",
              "    </tr>\n",
              "    <tr>\n",
              "      <th>1</th>\n",
              "      <td>10690</td>\n",
              "      <td>0.591319</td>\n",
              "    </tr>\n",
              "    <tr>\n",
              "      <th>2</th>\n",
              "      <td>10691</td>\n",
              "      <td>0.769582</td>\n",
              "    </tr>\n",
              "    <tr>\n",
              "      <th>3</th>\n",
              "      <td>10692</td>\n",
              "      <td>0.649919</td>\n",
              "    </tr>\n",
              "    <tr>\n",
              "      <th>4</th>\n",
              "      <td>10693</td>\n",
              "      <td>0.958717</td>\n",
              "    </tr>\n",
              "    <tr>\n",
              "      <th>...</th>\n",
              "      <td>...</td>\n",
              "      <td>...</td>\n",
              "    </tr>\n",
              "    <tr>\n",
              "      <th>1562</th>\n",
              "      <td>12364</td>\n",
              "      <td>0.805033</td>\n",
              "    </tr>\n",
              "    <tr>\n",
              "      <th>1563</th>\n",
              "      <td>12365</td>\n",
              "      <td>0.497957</td>\n",
              "    </tr>\n",
              "    <tr>\n",
              "      <th>1564</th>\n",
              "      <td>12366</td>\n",
              "      <td>0.205012</td>\n",
              "    </tr>\n",
              "    <tr>\n",
              "      <th>1565</th>\n",
              "      <td>12367</td>\n",
              "      <td>0.406090</td>\n",
              "    </tr>\n",
              "    <tr>\n",
              "      <th>1566</th>\n",
              "      <td>12368</td>\n",
              "      <td>0.083764</td>\n",
              "    </tr>\n",
              "  </tbody>\n",
              "</table>\n",
              "<p>1567 rows × 2 columns</p>\n",
              "</div>"
            ],
            "text/plain": [
              "      Opportunity_ID    Target\n",
              "0              10689  0.599761\n",
              "1              10690  0.591319\n",
              "2              10691  0.769582\n",
              "3              10692  0.649919\n",
              "4              10693  0.958717\n",
              "...              ...       ...\n",
              "1562           12364  0.805033\n",
              "1563           12365  0.497957\n",
              "1564           12366  0.205012\n",
              "1565           12367  0.406090\n",
              "1566           12368  0.083764\n",
              "\n",
              "[1567 rows x 2 columns]"
            ]
          },
          "metadata": {
            "tags": []
          },
          "execution_count": 639
        }
      ]
    },
    {
      "cell_type": "code",
      "metadata": {
        "id": "Uv13_oWM43u1"
      },
      "source": [
        ""
      ],
      "execution_count": 639,
      "outputs": []
    },
    {
      "cell_type": "code",
      "metadata": {
        "id": "WTra3UaH4qgk",
        "colab": {
          "base_uri": "https://localhost:8080/",
          "height": 209
        },
        "outputId": "5334da8a-e792-4895-f29b-ba43a8de0db1"
      },
      "source": [
        "# esto no es necesario correrlo, porque ya nos dio\r\n",
        "#los mejores features, lo guardamos oen el diccionario\r\n",
        "d"
      ],
      "execution_count": 640,
      "outputs": [
        {
          "output_type": "error",
          "ename": "NameError",
          "evalue": "ignored",
          "traceback": [
            "\u001b[0;31m---------------------------------------------------------------------------\u001b[0m",
            "\u001b[0;31mNameError\u001b[0m                                 Traceback (most recent call last)",
            "\u001b[0;32m<ipython-input-640-76b123d191cb>\u001b[0m in \u001b[0;36m<module>\u001b[0;34m()\u001b[0m\n\u001b[1;32m      1\u001b[0m \u001b[0;31m# esto no es necesario correrlo, porque ya nos dio\u001b[0m\u001b[0;34m\u001b[0m\u001b[0;34m\u001b[0m\u001b[0;34m\u001b[0m\u001b[0m\n\u001b[1;32m      2\u001b[0m \u001b[0;31m#los mejores features, lo guardamos oen el diccionario\u001b[0m\u001b[0;34m\u001b[0m\u001b[0;34m\u001b[0m\u001b[0;34m\u001b[0m\u001b[0m\n\u001b[0;32m----> 3\u001b[0;31m \u001b[0md\u001b[0m\u001b[0;34m\u001b[0m\u001b[0;34m\u001b[0m\u001b[0m\n\u001b[0m",
            "\u001b[0;31mNameError\u001b[0m: name 'd' is not defined"
          ]
        }
      ]
    },
    {
      "cell_type": "markdown",
      "metadata": {
        "id": "slfK1XlIzoFK"
      },
      "source": [
        "# vamos a hacer un seleccion feature para elegir los mejores columnas"
      ]
    },
    {
      "cell_type": "code",
      "metadata": {
        "id": "hyjjDm92zu-a"
      },
      "source": [
        "modelosDic={\r\n",
        "         \r\n",
        "         'xgboostOptimo':xgbosstOptimizado(Hiperparametros),\r\n",
        "         'RandomForestRegreOptimo':RandomForestRegreOptimizado(Hiperparametros),\r\n",
        "          \r\n",
        "         'lgbRegresionOptimizado':lgbRegreOptimizado(Hiperparametros)\r\n",
        "}\r\n",
        " "
      ],
      "execution_count": null,
      "outputs": []
    },
    {
      "cell_type": "code",
      "metadata": {
        "id": "RK_ItKVfzmgh"
      },
      "source": [
        "dicColumnasModelos={}\r\n",
        "for nombreModelo in modelosDic:\r\n",
        "  columnas=X.columns.to_list()\r\n",
        "  columnas.remove('totalTrf') \r\n",
        "  modelo=modelosDic[nombreModelo]\r\n",
        "  scoreMaximo=5\r\n",
        "  acumTheBestColumns.clear()\r\n",
        "  acumTheBestColumns=['totalTrf']\r\n",
        "  \r\n",
        "  \r\n",
        "  \r\n",
        "  for columna in columnas:\r\n",
        "    print(columna)\r\n",
        "    acumTheBestColumns.append(columna)\r\n",
        "    model=modelo.buscaMejorHiperparametroAndTrainModeloWithKfold( X[acumTheBestColumns],Y)\r\n",
        "    score=model.best_score_ \r\n",
        "    if(scoreMaximo> -1*float( score)):\r\n",
        "        scoreMaximo=-1*score\r\n",
        "        print(\"  mejoro el score de\" ,score , \"se agrega la columna\",columna)\r\n",
        "    else:\r\n",
        "        acumTheBestColumns.remove(columna)  \r\n",
        "        print(\"no mejoro el score de\" ,score , \"se elimina la columna\",columna)\r\n",
        "  dicColumnasModelos[modelo.nombre]=acumTheBestColumns   \r\n",
        "  print(\"lasmejores fueron columnas de \", nombreModelo,\" que acumulo \", acumTheBestColumns)"
      ],
      "execution_count": null,
      "outputs": []
    },
    {
      "cell_type": "code",
      "metadata": {
        "id": "ov6bXgl_x1lo"
      },
      "source": [
        "#resultado de las mejores columnas en los siguientes modelos\r\n",
        "#lasmejores fueron columnas de  xgboostOptimo  que acumulo  ['totalTrf', 'totalamount', 'meanTrf', 'cantTrf', 'cantProducFamilias', 'meanDisPlannedStarAndPlannedEnd', 'cantProducFamiliasporTotalTrf', 'meanEncodingTerritory', 'meanEncodingRegion', 'meanEncodingDelivery_Terms', 'totalTrf_1']\r\n",
        "#lasmejores fueron columnas de  lgbRegresionOptimizado  que acumulo  ['totalTrf', 'totalamount', 'meanTrf', 'cantTrf', 'meanDisPlannedStarAndPlannedEnd', 'meanTrfporTotalTrf', 'meanEncodingTerritory', 'meanEncodingRegion', 'meanEncodingDelivery_Terms', 'totalTrf_1', 'totalTrf_3']\r\n",
        "#lasmejores fueron columnas de  RandomForestRegreOptimo  que acumulo  ['totalTrf', 'totalamount', 'meanTrf', 'cantTrf', 'cantProducFamilias', 'maxTrf', 'meanDisPlannedStarAndPlannedEnd', 'meanTrfporTotalTrf', 'cantProducFamiliasporTotalTrf', 'meanEncodingTerritory', 'meanEncodingRegion', 'meanEncodingDelivery_Terms', 'totalTrf_10', 'totalTrf_7']\r\n",
        "\r\n",
        "\r\n",
        "#{'RAMDOMOptimizado': ['totalTrf',\r\n",
        "#  'totalamount',\r\n",
        "#  'meanTrf',\r\n",
        "#  'cantTrf',\r\n",
        "#  'cantProducFamilias',\r\n",
        "#  'maxTrf',\r\n",
        "#  'meanDisPlannedStarAndPlannedEnd',\r\n",
        "#  'meanTrfporTotalTrf',\r\n",
        "#  'cantProducFamiliasporTotalTrf',\r\n",
        "#  'meanEncodingTerritory',\r\n",
        "#  'meanEncodingRegion',\r\n",
        "#  'meanEncodingDelivery_Terms',\r\n",
        "#  'totalTrf_10',\r\n",
        "#  'totalTrf_7'],\r\n",
        "# 'lgbOptimizado': ['totalTrf',\r\n",
        "#  'totalamount',\r\n",
        "#  'meanTrf',\r\n",
        "#  'cantTrf',\r\n",
        "#  'meanDisPlannedStarAndPlannedEnd',\r\n",
        "#  'meanTrfporTotalTrf',\r\n",
        "#  'meanEncodingTerritory',\r\n",
        "#  'meanEncodingRegion',\r\n",
        "#  'meanEncodingDelivery_Terms',\r\n",
        "#  'totalTrf_1',\r\n",
        "#  'totalTrf_3'],\r\n",
        "# 'xgboostOptimo': ['totalTrf',\r\n",
        "#  'totalamount',\r\n",
        "#  'meanTrf',\r\n",
        "#  'cantTrf',\r\n",
        "#  'cantProducFamilias',\r\n",
        "#  'meanDisPlannedStarAndPlannedEnd',\r\n",
        "#  'cantProducFamiliasporTotalTrf',\r\n",
        "#  'meanEncodingTerritory',\r\n",
        "#  'meanEncodingRegion',\r\n",
        "#  'meanEncodingDelivery_Terms',\r\n",
        "#  'totalTrf_1']}"
      ],
      "execution_count": null,
      "outputs": []
    }
  ]
}