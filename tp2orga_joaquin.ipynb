{
  "nbformat": 4,
  "nbformat_minor": 0,
  "metadata": {
    "colab": {
      "name": "tp2orga_joaquin.ipynb",
      "provenance": [],
      "collapsed_sections": [],
      "include_colab_link": true
    },
    "kernelspec": {
      "name": "python3",
      "display_name": "Python 3"
    }
  },
  "cells": [
    {
      "cell_type": "markdown",
      "metadata": {
        "id": "view-in-github",
        "colab_type": "text"
      },
      "source": [
        "<a href=\"https://colab.research.google.com/github/joaquinparodi/TP1-DATOS/blob/main/tp2orga_joaquin.ipynb\" target=\"_parent\"><img src=\"https://colab.research.google.com/assets/colab-badge.svg\" alt=\"Open In Colab\"/></a>"
      ]
    },
    {
      "cell_type": "code",
      "metadata": {
        "id": "BTDqJL94FYGe",
        "colab": {
          "base_uri": "https://localhost:8080/"
        },
        "outputId": "9441c407-e5da-43e3-bbca-c2f137a76aa0"
      },
      "source": [
        "# importacion general de librerias y de visualizacion (matplotlib y seaborn)\n",
        "!pip install ptitprince\n",
        "import ptitprince as pt\n",
        "import pandas as pd\n",
        "import numpy as np\n"
      ],
      "execution_count": 1,
      "outputs": [
        {
          "output_type": "stream",
          "text": [
            "Collecting ptitprince\n",
            "  Downloading https://files.pythonhosted.org/packages/4a/da/b7032999bc29a3974ac9c7939d56a669335966d8820356a723be978697fb/ptitprince-0.2.5.tar.gz\n",
            "Requirement already satisfied: seaborn>=0.10 in /usr/local/lib/python3.6/dist-packages (from ptitprince) (0.11.1)\n",
            "Requirement already satisfied: matplotlib in /usr/local/lib/python3.6/dist-packages (from ptitprince) (3.2.2)\n",
            "Requirement already satisfied: numpy>=1.13 in /usr/local/lib/python3.6/dist-packages (from ptitprince) (1.19.5)\n",
            "Requirement already satisfied: scipy in /usr/local/lib/python3.6/dist-packages (from ptitprince) (1.4.1)\n",
            "Collecting PyHamcrest>=1.9.0\n",
            "\u001b[?25l  Downloading https://files.pythonhosted.org/packages/40/16/e54cc65891f01cb62893540f44ffd3e8dab0a22443e1b438f1a9f5574bee/PyHamcrest-2.0.2-py3-none-any.whl (52kB)\n",
            "\u001b[K     |████████████████████████████████| 61kB 2.7MB/s \n",
            "\u001b[?25hRequirement already satisfied: cython in /usr/local/lib/python3.6/dist-packages (from ptitprince) (0.29.21)\n",
            "Requirement already satisfied: pandas>=0.23 in /usr/local/lib/python3.6/dist-packages (from seaborn>=0.10->ptitprince) (1.1.5)\n",
            "Requirement already satisfied: cycler>=0.10 in /usr/local/lib/python3.6/dist-packages (from matplotlib->ptitprince) (0.10.0)\n",
            "Requirement already satisfied: pyparsing!=2.0.4,!=2.1.2,!=2.1.6,>=2.0.1 in /usr/local/lib/python3.6/dist-packages (from matplotlib->ptitprince) (2.4.7)\n",
            "Requirement already satisfied: python-dateutil>=2.1 in /usr/local/lib/python3.6/dist-packages (from matplotlib->ptitprince) (2.8.1)\n",
            "Requirement already satisfied: kiwisolver>=1.0.1 in /usr/local/lib/python3.6/dist-packages (from matplotlib->ptitprince) (1.3.1)\n",
            "Requirement already satisfied: pytz>=2017.2 in /usr/local/lib/python3.6/dist-packages (from pandas>=0.23->seaborn>=0.10->ptitprince) (2018.9)\n",
            "Requirement already satisfied: six in /usr/local/lib/python3.6/dist-packages (from cycler>=0.10->matplotlib->ptitprince) (1.15.0)\n",
            "Building wheels for collected packages: ptitprince\n",
            "  Building wheel for ptitprince (setup.py) ... \u001b[?25l\u001b[?25hdone\n",
            "  Created wheel for ptitprince: filename=ptitprince-0.2.5-cp36-none-any.whl size=8428 sha256=3ea7476f1ece944b0b1e70b709567e60e46b4cd0d9061cb71f95b290c0693953\n",
            "  Stored in directory: /root/.cache/pip/wheels/fb/c1/75/2ef8da161053bdf8e03f9a360f426accd4fac1ddf7f6ed0029\n",
            "Successfully built ptitprince\n",
            "Installing collected packages: PyHamcrest, ptitprince\n",
            "Successfully installed PyHamcrest-2.0.2 ptitprince-0.2.5\n"
          ],
          "name": "stdout"
        }
      ]
    },
    {
      "cell_type": "code",
      "metadata": {
        "id": "wtgYMgn_kuPz"
      },
      "source": [
        "import matplotlib.pylab as plt\n",
        "import seaborn as sns"
      ],
      "execution_count": 2,
      "outputs": []
    },
    {
      "cell_type": "code",
      "metadata": {
        "id": "ycF5SnjfGj4I"
      },
      "source": [
        "from pydrive.auth import GoogleAuth\n",
        "from pydrive.drive import GoogleDrive\n",
        "from google.colab import auth\n",
        "from oauth2client.client import GoogleCredentials"
      ],
      "execution_count": 3,
      "outputs": []
    },
    {
      "cell_type": "code",
      "metadata": {
        "id": "QJbV2lDrGj-b"
      },
      "source": [
        "auth.authenticate_user()\n",
        "gauth = GoogleAuth()\n",
        "gauth.credentials = GoogleCredentials.get_application_default()\n",
        "drive = GoogleDrive(gauth)"
      ],
      "execution_count": 4,
      "outputs": []
    },
    {
      "cell_type": "code",
      "metadata": {
        "id": "67yYcLf_GyAO"
      },
      "source": [
        " \n",
        "id='1MfnxlPGSmr-i1up_2iKCkrBIMcDHomnK'\n",
        "downloaded = drive.CreateFile({'id': id})\n",
        "downloaded.GetContentFile('data.csv')"
      ],
      "execution_count": 5,
      "outputs": []
    },
    {
      "cell_type": "code",
      "metadata": {
        "id": "mWdphOAZwRLl"
      },
      "source": [
        "id='1kZt5ZN2eAyeNEIWLh6lGckgyDIxpHN4f'\r\n",
        "downloaded = drive.CreateFile({'id': id})\r\n",
        "downloaded.GetContentFile('test.csv')"
      ],
      "execution_count": 6,
      "outputs": []
    },
    {
      "cell_type": "code",
      "metadata": {
        "id": "Ia9MlRRywaD7"
      },
      "source": [
        "test=pd.read_csv('test.csv')"
      ],
      "execution_count": 9,
      "outputs": []
    },
    {
      "cell_type": "code",
      "metadata": {
        "id": "pFeCl82j8PtJ"
      },
      "source": [
        "import xgboost as xgb\r\n",
        "from sklearn.ensemble import RandomForestRegressor\r\n",
        "from sklearn.metrics import mean_squared_error\r\n",
        "import pandas as pd\r\n",
        "import numpy as np\r\n",
        "%matplotlib inline\r\n",
        "import matplotlib.pyplot as plt\r\n",
        "from sklearn import tree"
      ],
      "execution_count": 192,
      "outputs": []
    },
    {
      "cell_type": "code",
      "metadata": {
        "id": "jEdxztOrd4Ge"
      },
      "source": [
        "class Modelo():\r\n",
        "  def __init__(self ):\r\n",
        "    pass\r\n",
        "\r\n",
        "\r\n",
        "\r\n",
        "  def splitTrainTarget(self,entrenamientoFeatureTarget):\r\n",
        "    #separo  mi dataframe en X= feature engineri e y= target\r\n",
        "    X,y=entrenamientoFeatureTarget.iloc[:,1:-1], entrenamientoFeatureTarget.iloc[:,-1]\r\n",
        "    print(\"las columnas del train son {} y del target son  {}\".format(X.columns , y.name ))\r\n",
        "    return X,y\r\n",
        "\r\n",
        "  def SplitTrainTest(self,X,y):\r\n",
        "    from sklearn.model_selection import train_test_split\r\n",
        "\r\n",
        "    X_train, X_test, y_train, y_test = \\\r\n",
        "    train_test_split(X, y, test_size=0.2, random_state=123)\r\n",
        "\r\n",
        "    return X_train, X_test, y_train, y_test\r\n",
        "\r\n",
        "\r\n",
        "  def entrenarYPredecirMismoSetEntrenamiento(self,X_train,y_train,X_test): \r\n",
        "    self.modelo.fit(X_train, y_train)\r\n",
        "    preds =  self.modelo.predict(X_test)\r\n",
        "    return preds\r\n",
        "\r\n",
        "  def errorSetEntrenamiento( self,X_train,y_train,X_test,y_test):\r\n",
        "     preds= self.entrenarYPredecirMismoSetEntrenamiento( X_train,y_train,X_test)\r\n",
        "     rmse = np.sqrt(mean_squared_error(y_test, preds))\r\n",
        "     print(\"RMSE: %f\" % (rmse)) \r\n",
        "\r\n",
        "\r\n",
        "\r\n",
        "  def entrenarYPredecirWithTest(self,X_train,y_train,dfFeaturestest):\r\n",
        "    listaColumnas=dfTestFeature.columns.to_list()\r\n",
        "    listaColumnas.remove('Opportunity_ID')\r\n",
        "    dfFeaturestest=dfFeaturestest[listaColumnas] \r\n",
        "    #se elemina esa columan porque sino hay overfittin\r\n",
        "    self.modelo.fit(X_train, y_train)\r\n",
        "    preds =  self.modelo.predict(dfFeaturestest)\r\n",
        "    return preds  \r\n",
        "\r\n",
        "  \r\n",
        "\r\n",
        "  def agregarTargetDfOriginal(self,entrenamiento,df):\r\n",
        "    #df es un dataframe ya agregado con features nuevos\r\n",
        "    #entrenamiento es el dataframe orginal sin procesar\r\n",
        "    target=entrenamiento[(entrenamiento['Stage']=='Closed Lost') | (entrenamiento['Stage']=='Closed Won')]\r\n",
        "    target=target[['Opportunity_ID','Stage']].groupby(['Opportunity_ID','Stage']).agg(total=('Stage','count')).reset_index()[['Opportunity_ID','Stage']]\r\n",
        "      \r\n",
        "    entrenamiento=pd.merge(df,target,on=\"Opportunity_ID\",how=\"inner\") \r\n",
        "    df=entrenamiento.replace(\"Closed Lost\", \"0\")\r\n",
        "    df=df.replace(\"Closed Won\", \"1\")\r\n",
        "  \r\n",
        "    return df\r\n",
        "\r\n",
        "  #feature engnerie\r\n",
        "  def featureEngeenier(self,df):\r\n",
        "    #agregamos fecha \r\n",
        "    df['Month']=pd.to_datetime(df['Month'])\r\n",
        "    df['anio']=df['Month'].dt.year\r\n",
        "    df['mes']=df['Month'].dt.month\r\n",
        "    #agregamos columna totalamount\r\n",
        "    totalAmount=df.groupby(['Opportunity_ID' ]).agg(totalamount=('Total_Amount','sum'))\r\n",
        "    #agregamos total trf\r\n",
        "    totalTrf=df.groupby(['Opportunity_ID' ]).agg(totalTrf=('TRF','sum'))\r\n",
        "    dfFeatureNew=pd.merge(totalAmount,totalTrf,on=\"Opportunity_ID\",how=\"inner\").reset_index()\r\n",
        "\r\n",
        "    df=dfFeatureNew[['Opportunity_ID','totalamount','totalTrf']]\r\n",
        "    \r\n",
        "    return df\r\n",
        "\r\n",
        "\r\n",
        "  def formarDfKaggle(self,testWithFeature,preds ):\r\n",
        "    dfkaggle = pd.DataFrame( preds)\r\n",
        "    dfkaggle['Opportunity_ID']=testWithFeature['Opportunity_ID']\r\n",
        "    dfkaggle.columns=['Target','Opportunity_ID']\r\n",
        "    dfkaggle=dfkaggle[['Opportunity_ID','Target']]\r\n",
        "    \r\n",
        "    from google.colab import files\r\n",
        "    dfkaggle.to_csv('dfKaggle.csv', index=False) \r\n",
        "    files.download('dfKaggle.csv')\r\n",
        "   \r\n",
        "  def featureImportancia(self,X_train):\r\n",
        "    # Gini importance\r\n",
        "    self.modelo.feature_importances_\r\n",
        "    plt.bar(X_train.columns, self.modelo.feature_importances_)\r\n",
        "    plt.xlabel('Features')\r\n",
        "    plt.ylabel('Importancia')\r\n",
        "    plt.title('Importancia Features con RF')\r\n",
        "    plt.show()\r\n"
      ],
      "execution_count": 11,
      "outputs": []
    },
    {
      "cell_type": "code",
      "metadata": {
        "id": "OxQYQZGnVDjg"
      },
      "source": [
        "class RandomForestRegre(Modelo):\r\n",
        "  def __init__(self,hiperparametros):\r\n",
        "    super().__init__()\r\n",
        "    self.modelo= RandomForestRegressor(random_state=1,n_estimators=20)\r\n",
        "\r\n",
        "\r\n",
        "class xgbosst(Modelo):\r\n",
        "  def __init__(self,hiperparametros):\r\n",
        "    super().__init__()\r\n",
        "    self.modelo= xgb.XGBRegressor(objective ='reg:squarederror', \r\n",
        "                colsample_bytree = 0.3, learning_rate = 0.1,\r\n",
        "                max_depth = 3, alpha = 10, n_estimators = 1000)\r\n",
        "  \r\n",
        "\r\n",
        "\r\n",
        "  # este polimorfismo es porque pedia el xgboost que y_train sea de tipo int\r\n",
        "  def entrenarYPredecirMismoSetEntrenamiento(self,X_train,y_train,X_test): \r\n",
        "    self.modelo.fit(X_train, y_train.astype(int))\r\n",
        "    preds =  self.modelo.predict(X_test)\r\n",
        "     \r\n",
        "    return preds\r\n",
        "\r\n",
        "  def errorSetEntrenamiento( self,X_train,y_train,X_test,y_test):\r\n",
        "    #aca la diferencia es que ytrain debe ser entero\r\n",
        "     \r\n",
        "    preds= self.entrenarYPredecirMismoSetEntrenamiento( X_train,y_train,X_test)\r\n",
        "    rmse = np.sqrt(mean_squared_error(y_test, preds))\r\n",
        "    print(\"RMSE: %f\" % (rmse))\r\n",
        "\r\n",
        "  def entrenarYPredecirWithTest(self,X_train,y_train,dfFeaturestest):\r\n",
        "    listaColumnas=dfTestFeature.columns.to_list()\r\n",
        "    listaColumnas.remove('Opportunity_ID')\r\n",
        "    dfFeaturestest=dfFeaturestest[listaColumnas] \r\n",
        "    #se elemina esa columan porque sino hay overfittin\r\n",
        "    self.modelo.fit(X_train, y_train.astype(int))\r\n",
        "    preds =  self.modelo.predict(dfFeaturestest)\r\n",
        "    return preds  \r\n"
      ],
      "execution_count": 279,
      "outputs": []
    },
    {
      "cell_type": "code",
      "metadata": {
        "id": "GFSXGWcwd5n2"
      },
      "source": [
        "#1)Apertura\r\n",
        "entrenamiento = pd.read_csv('data.csv')\r\n",
        "df=entrenamiento "
      ],
      "execution_count": 280,
      "outputs": []
    },
    {
      "cell_type": "code",
      "metadata": {
        "id": "-qjr5CJgxTuA"
      },
      "source": [
        "random_state=1\r\n",
        "n_estimators=20\r\n",
        "#aca agregamos los hiperparametros que estamos probando\r\n",
        "Hiperparametros=[random_state ,n_estimators ]\r\n",
        "#por ahora no se usan los hirparametros, se setea dentro de las clase estos,\r\n",
        "#pero la idea es que se pueda setear desde afuera para probar"
      ],
      "execution_count": 281,
      "outputs": []
    },
    {
      "cell_type": "code",
      "metadata": {
        "id": "AMAUX3H2rEVK"
      },
      "source": [
        "modelos={\r\n",
        "         'ramdomForest': RandomForestRegre(Hiperparametros),\r\n",
        "         'xgboost':xgbosst(Hiperparametros)\r\n",
        "}"
      ],
      "execution_count": 282,
      "outputs": []
    },
    {
      "cell_type": "code",
      "metadata": {
        "colab": {
          "base_uri": "https://localhost:8080/",
          "height": 206
        },
        "id": "lNfcK7hOcbPv",
        "outputId": "69ee8f04-aa31-45d9-f4d4-cbd1625e266d"
      },
      "source": [
        "\r\n",
        "\r\n",
        "modelo=modelos.get('xgboost')\r\n",
        "#cargamos el modelo \r\n",
        "modelo=modelo\r\n",
        "#hacemos feature engierine sobre el df original\r\n",
        "dfFeature=modelo.featureEngeenier(entrenamiento)\r\n",
        "dfFeature.head()\r\n",
        "#le agregamos el target\r\n",
        "dfFeatureWithTarget=modelo.agregarTargetDfOriginal(entrenamiento,dfFeature)\r\n",
        "dfFeatureWithTarget.head()"
      ],
      "execution_count": 283,
      "outputs": [
        {
          "output_type": "execute_result",
          "data": {
            "text/html": [
              "<div>\n",
              "<style scoped>\n",
              "    .dataframe tbody tr th:only-of-type {\n",
              "        vertical-align: middle;\n",
              "    }\n",
              "\n",
              "    .dataframe tbody tr th {\n",
              "        vertical-align: top;\n",
              "    }\n",
              "\n",
              "    .dataframe thead th {\n",
              "        text-align: right;\n",
              "    }\n",
              "</style>\n",
              "<table border=\"1\" class=\"dataframe\">\n",
              "  <thead>\n",
              "    <tr style=\"text-align: right;\">\n",
              "      <th></th>\n",
              "      <th>Opportunity_ID</th>\n",
              "      <th>totalamount</th>\n",
              "      <th>totalTrf</th>\n",
              "      <th>Stage</th>\n",
              "    </tr>\n",
              "  </thead>\n",
              "  <tbody>\n",
              "    <tr>\n",
              "      <th>0</th>\n",
              "      <td>0</td>\n",
              "      <td>5272800.0</td>\n",
              "      <td>10</td>\n",
              "      <td>0</td>\n",
              "    </tr>\n",
              "    <tr>\n",
              "      <th>1</th>\n",
              "      <td>1</td>\n",
              "      <td>48230.0</td>\n",
              "      <td>0</td>\n",
              "      <td>1</td>\n",
              "    </tr>\n",
              "    <tr>\n",
              "      <th>2</th>\n",
              "      <td>2</td>\n",
              "      <td>83865.6</td>\n",
              "      <td>0</td>\n",
              "      <td>1</td>\n",
              "    </tr>\n",
              "    <tr>\n",
              "      <th>3</th>\n",
              "      <td>3</td>\n",
              "      <td>7421881.5</td>\n",
              "      <td>14</td>\n",
              "      <td>0</td>\n",
              "    </tr>\n",
              "    <tr>\n",
              "      <th>4</th>\n",
              "      <td>4</td>\n",
              "      <td>13357192.5</td>\n",
              "      <td>25</td>\n",
              "      <td>0</td>\n",
              "    </tr>\n",
              "  </tbody>\n",
              "</table>\n",
              "</div>"
            ],
            "text/plain": [
              "   Opportunity_ID  totalamount  totalTrf Stage\n",
              "0               0    5272800.0        10     0\n",
              "1               1      48230.0         0     1\n",
              "2               2      83865.6         0     1\n",
              "3               3    7421881.5        14     0\n",
              "4               4   13357192.5        25     0"
            ]
          },
          "metadata": {
            "tags": []
          },
          "execution_count": 283
        }
      ]
    },
    {
      "cell_type": "code",
      "metadata": {
        "id": "3DLFSTR08_AK"
      },
      "source": [
        "df=entrenamiento \r\n",
        "df = df.replace('Closed Won', '1')\r\n",
        "df = df.replace('Closed Lost', '0')\r\n",
        "df = df[df['Stage'].isin(['0','1'])]\r\n",
        "df.Stage = df.Stage.astype(int)\r\n",
        "df = df.groupby(['Territory','Opportunity_ID']).agg({'Stage':['sum','count']})\r\n",
        "df = df.reset_index()\r\n",
        "df1 = df\r\n",
        "df1.columns = ['Territory','Opportunity_ID','Stage_sum','Stage_count']\r\n",
        "df1['Stage_sum'] = df1['Stage_sum'].apply(lambda x: 0 if x == 0 else 1)\r\n",
        "df2 = df1.groupby(['Territory']).agg(meanEncodingTerritory = ('Stage_sum','mean'))\r\n",
        "df2 = df2.reset_index()\r\n",
        "agruparOportunity=entrenamiento.groupby(['Opportunity_ID','Territory']).agg(cant=('Territory','count')).reset_index()\r\n",
        "result=pd.merge(agruparOportunity,df2,on='Territory',how='inner')\r\n",
        "result.head()\r\n",
        "del result['cant']\r\n",
        " \r\n",
        "result2=pd.merge(dfFeatureWithTarget, result, on='Opportunity_ID' , how='inner')\r\n",
        "del result2['Territory']\r\n",
        " \r\n",
        "dfFeatureWithTarget=result2\r\n",
        "dfFeatureWithTarget.Stage = dfFeatureWithTarget.Stage.astype(int)"
      ],
      "execution_count": 284,
      "outputs": []
    },
    {
      "cell_type": "code",
      "metadata": {
        "id": "ohyyPVZ7-uCZ"
      },
      "source": [
        "\r\n",
        "dfFeatureWithTarget=dfFeatureWithTarget[['Opportunity_ID', \t'totalamount', \t'totalTrf', \t \t'meanEncodingTerritory','Stage']]"
      ],
      "execution_count": 285,
      "outputs": []
    },
    {
      "cell_type": "code",
      "metadata": {
        "id": "LkP7PHcoEbH3",
        "outputId": "cf9515d1-23fa-41e8-c36f-f6a7f430e912",
        "colab": {
          "base_uri": "https://localhost:8080/",
          "height": 423
        }
      },
      "source": [
        "dfFeatureWithTarget"
      ],
      "execution_count": 286,
      "outputs": [
        {
          "output_type": "execute_result",
          "data": {
            "text/html": [
              "<div>\n",
              "<style scoped>\n",
              "    .dataframe tbody tr th:only-of-type {\n",
              "        vertical-align: middle;\n",
              "    }\n",
              "\n",
              "    .dataframe tbody tr th {\n",
              "        vertical-align: top;\n",
              "    }\n",
              "\n",
              "    .dataframe thead th {\n",
              "        text-align: right;\n",
              "    }\n",
              "</style>\n",
              "<table border=\"1\" class=\"dataframe\">\n",
              "  <thead>\n",
              "    <tr style=\"text-align: right;\">\n",
              "      <th></th>\n",
              "      <th>Opportunity_ID</th>\n",
              "      <th>totalamount</th>\n",
              "      <th>totalTrf</th>\n",
              "      <th>meanEncodingTerritory</th>\n",
              "      <th>Stage</th>\n",
              "    </tr>\n",
              "  </thead>\n",
              "  <tbody>\n",
              "    <tr>\n",
              "      <th>0</th>\n",
              "      <td>0</td>\n",
              "      <td>5272800.00</td>\n",
              "      <td>10</td>\n",
              "      <td>0.535927</td>\n",
              "      <td>0</td>\n",
              "    </tr>\n",
              "    <tr>\n",
              "      <th>1</th>\n",
              "      <td>1</td>\n",
              "      <td>48230.00</td>\n",
              "      <td>0</td>\n",
              "      <td>0.535927</td>\n",
              "      <td>1</td>\n",
              "    </tr>\n",
              "    <tr>\n",
              "      <th>2</th>\n",
              "      <td>2</td>\n",
              "      <td>83865.60</td>\n",
              "      <td>0</td>\n",
              "      <td>0.632723</td>\n",
              "      <td>1</td>\n",
              "    </tr>\n",
              "    <tr>\n",
              "      <th>3</th>\n",
              "      <td>3</td>\n",
              "      <td>7421881.50</td>\n",
              "      <td>14</td>\n",
              "      <td>0.632723</td>\n",
              "      <td>0</td>\n",
              "    </tr>\n",
              "    <tr>\n",
              "      <th>4</th>\n",
              "      <td>4</td>\n",
              "      <td>13357192.50</td>\n",
              "      <td>25</td>\n",
              "      <td>0.632723</td>\n",
              "      <td>0</td>\n",
              "    </tr>\n",
              "    <tr>\n",
              "      <th>...</th>\n",
              "      <td>...</td>\n",
              "      <td>...</td>\n",
              "      <td>...</td>\n",
              "      <td>...</td>\n",
              "      <td>...</td>\n",
              "    </tr>\n",
              "    <tr>\n",
              "      <th>9786</th>\n",
              "      <td>12799</td>\n",
              "      <td>401700.00</td>\n",
              "      <td>1</td>\n",
              "      <td>0.388889</td>\n",
              "      <td>1</td>\n",
              "    </tr>\n",
              "    <tr>\n",
              "      <th>9787</th>\n",
              "      <td>12800</td>\n",
              "      <td>21332500.00</td>\n",
              "      <td>40</td>\n",
              "      <td>0.347490</td>\n",
              "      <td>0</td>\n",
              "    </tr>\n",
              "    <tr>\n",
              "      <th>9788</th>\n",
              "      <td>12801</td>\n",
              "      <td>299715.00</td>\n",
              "      <td>0</td>\n",
              "      <td>0.805556</td>\n",
              "      <td>1</td>\n",
              "    </tr>\n",
              "    <tr>\n",
              "      <th>9789</th>\n",
              "      <td>12802</td>\n",
              "      <td>2346796.88</td>\n",
              "      <td>4</td>\n",
              "      <td>0.347490</td>\n",
              "      <td>0</td>\n",
              "    </tr>\n",
              "    <tr>\n",
              "      <th>9790</th>\n",
              "      <td>12803</td>\n",
              "      <td>25603200.00</td>\n",
              "      <td>40</td>\n",
              "      <td>0.347490</td>\n",
              "      <td>0</td>\n",
              "    </tr>\n",
              "  </tbody>\n",
              "</table>\n",
              "<p>9791 rows × 5 columns</p>\n",
              "</div>"
            ],
            "text/plain": [
              "      Opportunity_ID  totalamount  totalTrf  meanEncodingTerritory  Stage\n",
              "0                  0   5272800.00        10               0.535927      0\n",
              "1                  1     48230.00         0               0.535927      1\n",
              "2                  2     83865.60         0               0.632723      1\n",
              "3                  3   7421881.50        14               0.632723      0\n",
              "4                  4  13357192.50        25               0.632723      0\n",
              "...              ...          ...       ...                    ...    ...\n",
              "9786           12799    401700.00         1               0.388889      1\n",
              "9787           12800  21332500.00        40               0.347490      0\n",
              "9788           12801    299715.00         0               0.805556      1\n",
              "9789           12802   2346796.88         4               0.347490      0\n",
              "9790           12803  25603200.00        40               0.347490      0\n",
              "\n",
              "[9791 rows x 5 columns]"
            ]
          },
          "metadata": {
            "tags": []
          },
          "execution_count": 286
        }
      ]
    },
    {
      "cell_type": "markdown",
      "metadata": {
        "id": "Oda0ekmjTU_4"
      },
      "source": [
        ""
      ]
    },
    {
      "cell_type": "markdown",
      "metadata": {
        "id": "0wtbpo15fbn8"
      },
      "source": [
        "aca vamos a entrenar y testear con el mismo dataframe original, asi vemos\r\n",
        "que error nos da"
      ]
    },
    {
      "cell_type": "code",
      "metadata": {
        "colab": {
          "base_uri": "https://localhost:8080/"
        },
        "id": "9V0OhO_efbHk",
        "outputId": "566fcae9-5d4c-4e40-b084-7ff491128350"
      },
      "source": [
        "X,y=modelo.splitTrainTarget(dfFeatureWithTarget)"
      ],
      "execution_count": 287,
      "outputs": [
        {
          "output_type": "stream",
          "text": [
            "las columnas del train son Index(['totalamount', 'totalTrf', 'meanEncodingTerritory'], dtype='object') y del target son  Stage\n"
          ],
          "name": "stdout"
        }
      ]
    },
    {
      "cell_type": "code",
      "metadata": {
        "id": "1xRLp2fthr31"
      },
      "source": [
        "#separamos para entrenar (X_train, y_train) y para predecir (y_train) y su prediccion real(y_test)\r\n",
        "X_train, X_test, y_train, y_test=modelo.SplitTrainTest(X,y)"
      ],
      "execution_count": 288,
      "outputs": []
    },
    {
      "cell_type": "code",
      "metadata": {
        "id": "v-Lu_931-i-Y",
        "outputId": "1e72a71f-0b6b-4736-953b-724f7b876baf",
        "colab": {
          "base_uri": "https://localhost:8080/"
        }
      },
      "source": [
        "dfFeatureWithTarget.dtypes"
      ],
      "execution_count": 289,
      "outputs": [
        {
          "output_type": "execute_result",
          "data": {
            "text/plain": [
              "Opportunity_ID             int64\n",
              "totalamount              float64\n",
              "totalTrf                   int64\n",
              "meanEncodingTerritory    float64\n",
              "Stage                      int64\n",
              "dtype: object"
            ]
          },
          "metadata": {
            "tags": []
          },
          "execution_count": 289
        }
      ]
    },
    {
      "cell_type": "code",
      "metadata": {
        "id": "Evsb8B8EEvkM"
      },
      "source": [
        " "
      ],
      "execution_count": 159,
      "outputs": []
    },
    {
      "cell_type": "code",
      "metadata": {
        "colab": {
          "base_uri": "https://localhost:8080/"
        },
        "id": "vcdZ981Ki1H5",
        "outputId": "0eb4cf25-f125-4167-bab7-dad46c303dfe"
      },
      "source": [
        "#entrenamo y predecimos, y comparamos con el valor real y vemos su error\r\n",
        "modelo.errorSetEntrenamiento(  X_train,y_train,X_test,y_test) \r\n",
        "     "
      ],
      "execution_count": 290,
      "outputs": [
        {
          "output_type": "stream",
          "text": [
            "RMSE: 0.421715\n"
          ],
          "name": "stdout"
        }
      ]
    },
    {
      "cell_type": "markdown",
      "metadata": {
        "id": "hCP6QbCUknKA"
      },
      "source": [
        "aca vamos a entrenar y predecir con el test para subir a kaggle"
      ]
    },
    {
      "cell_type": "code",
      "metadata": {
        "id": "kOp___KhAMTf",
        "outputId": "d8ff16b0-c6b1-4935-bb4f-e38ec6363603",
        "colab": {
          "base_uri": "https://localhost:8080/",
          "height": 423
        }
      },
      "source": [
        "df=entrenamiento \r\n",
        "df = df.replace('Closed Won', '1')\r\n",
        "df = df.replace('Closed Lost', '0')\r\n",
        "df = df[df['Stage'].isin(['0','1'])]\r\n",
        "df.Stage = df.Stage.astype(int)\r\n",
        "df = df.groupby(['Territory','Opportunity_ID']).agg({'Stage':['sum','count']})\r\n",
        "df = df.reset_index()\r\n",
        "df1 = df\r\n",
        "df1.columns = ['Territory','Opportunity_ID','Stage_sum','Stage_count']\r\n",
        "df1['Stage_sum'] = df1['Stage_sum'].apply(lambda x: 0 if x == 0 else 1)\r\n",
        "df2 = df1.groupby(['Territory']).agg(meanEncodingTerritory = ('Stage_sum','mean'))\r\n",
        "df2 = df2.reset_index()\r\n",
        "agruparOportunity=entrenamiento.groupby(['Opportunity_ID','Territory']).agg(cant=('Territory','count')).reset_index()\r\n",
        "result=pd.merge(agruparOportunity,df2,on='Territory',how='inner')\r\n",
        "result.head()\r\n",
        "del result['cant']\r\n",
        "result"
      ],
      "execution_count": 293,
      "outputs": [
        {
          "output_type": "execute_result",
          "data": {
            "text/html": [
              "<div>\n",
              "<style scoped>\n",
              "    .dataframe tbody tr th:only-of-type {\n",
              "        vertical-align: middle;\n",
              "    }\n",
              "\n",
              "    .dataframe tbody tr th {\n",
              "        vertical-align: top;\n",
              "    }\n",
              "\n",
              "    .dataframe thead th {\n",
              "        text-align: right;\n",
              "    }\n",
              "</style>\n",
              "<table border=\"1\" class=\"dataframe\">\n",
              "  <thead>\n",
              "    <tr style=\"text-align: right;\">\n",
              "      <th></th>\n",
              "      <th>Opportunity_ID</th>\n",
              "      <th>Territory</th>\n",
              "      <th>meanEncodingTerritory</th>\n",
              "    </tr>\n",
              "  </thead>\n",
              "  <tbody>\n",
              "    <tr>\n",
              "      <th>0</th>\n",
              "      <td>0</td>\n",
              "      <td>None</td>\n",
              "      <td>0.535927</td>\n",
              "    </tr>\n",
              "    <tr>\n",
              "      <th>1</th>\n",
              "      <td>1</td>\n",
              "      <td>None</td>\n",
              "      <td>0.535927</td>\n",
              "    </tr>\n",
              "    <tr>\n",
              "      <th>2</th>\n",
              "      <td>8</td>\n",
              "      <td>None</td>\n",
              "      <td>0.535927</td>\n",
              "    </tr>\n",
              "    <tr>\n",
              "      <th>3</th>\n",
              "      <td>9</td>\n",
              "      <td>None</td>\n",
              "      <td>0.535927</td>\n",
              "    </tr>\n",
              "    <tr>\n",
              "      <th>4</th>\n",
              "      <td>10</td>\n",
              "      <td>None</td>\n",
              "      <td>0.535927</td>\n",
              "    </tr>\n",
              "    <tr>\n",
              "      <th>...</th>\n",
              "      <td>...</td>\n",
              "      <td>...</td>\n",
              "      <td>...</td>\n",
              "    </tr>\n",
              "    <tr>\n",
              "      <th>9834</th>\n",
              "      <td>10218</td>\n",
              "      <td>Oman</td>\n",
              "      <td>0.000000</td>\n",
              "    </tr>\n",
              "    <tr>\n",
              "      <th>9835</th>\n",
              "      <td>10419</td>\n",
              "      <td>Oman</td>\n",
              "      <td>0.000000</td>\n",
              "    </tr>\n",
              "    <tr>\n",
              "      <th>9836</th>\n",
              "      <td>7447</td>\n",
              "      <td>Burma</td>\n",
              "      <td>0.000000</td>\n",
              "    </tr>\n",
              "    <tr>\n",
              "      <th>9837</th>\n",
              "      <td>8677</td>\n",
              "      <td>Slovenia</td>\n",
              "      <td>1.000000</td>\n",
              "    </tr>\n",
              "    <tr>\n",
              "      <th>9838</th>\n",
              "      <td>12391</td>\n",
              "      <td>Egypt</td>\n",
              "      <td>0.000000</td>\n",
              "    </tr>\n",
              "  </tbody>\n",
              "</table>\n",
              "<p>9839 rows × 3 columns</p>\n",
              "</div>"
            ],
            "text/plain": [
              "      Opportunity_ID Territory  meanEncodingTerritory\n",
              "0                  0      None               0.535927\n",
              "1                  1      None               0.535927\n",
              "2                  8      None               0.535927\n",
              "3                  9      None               0.535927\n",
              "4                 10      None               0.535927\n",
              "...              ...       ...                    ...\n",
              "9834           10218      Oman               0.000000\n",
              "9835           10419      Oman               0.000000\n",
              "9836            7447     Burma               0.000000\n",
              "9837            8677  Slovenia               1.000000\n",
              "9838           12391     Egypt               0.000000\n",
              "\n",
              "[9839 rows x 3 columns]"
            ]
          },
          "metadata": {
            "tags": []
          },
          "execution_count": 293
        }
      ]
    },
    {
      "cell_type": "code",
      "metadata": {
        "id": "cXNNjhcfAgoA",
        "outputId": "61cd8a35-7031-44e4-e474-29abddc41fcc",
        "colab": {
          "base_uri": "https://localhost:8080/"
        }
      },
      "source": [
        "result2=result[['Territory','meanEncodingTerritory']].drop_duplicates()\r\n",
        "result2.value_counts()"
      ],
      "execution_count": 294,
      "outputs": [
        {
          "output_type": "execute_result",
          "data": {
            "text/plain": [
              "Territory    meanEncodingTerritory\n",
              "Vietnam      0.365854                 1\n",
              "Denmark      0.500000                 1\n",
              "Estonia      0.800000                 1\n",
              "France       0.295165                 1\n",
              "Georgia      0.000000                 1\n",
              "                                     ..\n",
              "Philippines  0.320988                 1\n",
              "Poland       0.279070                 1\n",
              "Portugal     0.469388                 1\n",
              "Romania      0.000000                 1\n",
              "Albania      0.000000                 1\n",
              "Length: 75, dtype: int64"
            ]
          },
          "metadata": {
            "tags": []
          },
          "execution_count": 294
        }
      ]
    },
    {
      "cell_type": "code",
      "metadata": {
        "id": "BZ-kj6jj__H2"
      },
      "source": [
        "test=pd.read_csv('test.csv')\r\n",
        "test=pd.merge(test,result2,on='Territory', how='inner')"
      ],
      "execution_count": 295,
      "outputs": []
    },
    {
      "cell_type": "code",
      "metadata": {
        "id": "1UQmSLdJBNCj",
        "outputId": "f4d6bd3b-efd7-422b-88e9-18c238c9b9c5",
        "colab": {
          "base_uri": "https://localhost:8080/"
        }
      },
      "source": [
        "test.info()"
      ],
      "execution_count": 296,
      "outputs": [
        {
          "output_type": "stream",
          "text": [
            "<class 'pandas.core.frame.DataFrame'>\n",
            "Int64Index: 2545 entries, 0 to 2544\n",
            "Data columns (total 52 columns):\n",
            " #   Column                              Non-Null Count  Dtype  \n",
            "---  ------                              --------------  -----  \n",
            " 0   ID                                  2545 non-null   int64  \n",
            " 1   Region                              2545 non-null   object \n",
            " 2   Territory                           2545 non-null   object \n",
            " 3   Pricing, Delivery_Terms_Quote_Appr  2545 non-null   int64  \n",
            " 4   Pricing, Delivery_Terms_Approved    2545 non-null   int64  \n",
            " 5   Bureaucratic_Code_0_Approval        2545 non-null   int64  \n",
            " 6   Bureaucratic_Code_0_Approved        2545 non-null   int64  \n",
            " 7   Submitted_for_Approval              2545 non-null   int64  \n",
            " 8   Bureaucratic_Code                   2545 non-null   object \n",
            " 9   Account_Created_Date                2545 non-null   object \n",
            " 10  Source                              2545 non-null   object \n",
            " 11  Billing_Country                     2545 non-null   object \n",
            " 12  Account_Name                        2545 non-null   object \n",
            " 13  Opportunity_Name                    2545 non-null   object \n",
            " 14  Opportunity_ID                      2545 non-null   int64  \n",
            " 15  Sales_Contract_No                   2545 non-null   object \n",
            " 16  Account_Owner                       2545 non-null   object \n",
            " 17  Opportunity_Owner                   2545 non-null   object \n",
            " 18  Account_Type                        2545 non-null   object \n",
            " 19  Opportunity_Type                    2545 non-null   object \n",
            " 20  Quote_Type                          2545 non-null   object \n",
            " 21  Delivery_Terms                      2545 non-null   object \n",
            " 22  Opportunity_Created_Date            2545 non-null   object \n",
            " 23  Brand                               2545 non-null   object \n",
            " 24  Product_Type                        2545 non-null   object \n",
            " 25  Size                                2545 non-null   object \n",
            " 26  Product_Category_B                  2545 non-null   object \n",
            " 27  Price                               2545 non-null   object \n",
            " 28  Currency                            2545 non-null   object \n",
            " 29  Last_Activity                       2545 non-null   object \n",
            " 30  Quote_Expiry_Date                   2545 non-null   object \n",
            " 31  Last_Modified_Date                  2545 non-null   object \n",
            " 32  Last_Modified_By                    2545 non-null   object \n",
            " 33  Product_Family                      2545 non-null   object \n",
            " 34  Product_Name                        2545 non-null   object \n",
            " 35  ASP_Currency                        2545 non-null   object \n",
            " 36  ASP                                 2461 non-null   float64\n",
            " 37  ASP_(converted)_Currency            2545 non-null   object \n",
            " 38  ASP_(converted)                     2461 non-null   float64\n",
            " 39  Planned_Delivery_Start_Date         2545 non-null   object \n",
            " 40  Planned_Delivery_End_Date           2545 non-null   object \n",
            " 41  Month                               2545 non-null   object \n",
            " 42  Delivery_Quarter                    2545 non-null   object \n",
            " 43  Delivery_Year                       2545 non-null   int64  \n",
            " 44  Actual_Delivery_Date                2545 non-null   object \n",
            " 45  TRF                                 2545 non-null   int64  \n",
            " 46  Total_Amount_Currency               2545 non-null   object \n",
            " 47  Total_Amount                        2545 non-null   float64\n",
            " 48  Total_Taxable_Amount_Currency       2545 non-null   object \n",
            " 49  Total_Taxable_Amount                2545 non-null   float64\n",
            " 50  Prod_Category_A                     2545 non-null   object \n",
            " 51  meanEncodingTerritory               2545 non-null   float64\n",
            "dtypes: float64(5), int64(9), object(38)\n",
            "memory usage: 1.0+ MB\n"
          ],
          "name": "stdout"
        }
      ]
    },
    {
      "cell_type": "code",
      "metadata": {
        "id": "42IzbS6tLx1G",
        "outputId": "fbb46add-a7f8-4993-9e88-19167f3f5182",
        "colab": {
          "base_uri": "https://localhost:8080/"
        }
      },
      "source": [
        " len(test['Territory'].value_counts())"
      ],
      "execution_count": 297,
      "outputs": [
        {
          "output_type": "execute_result",
          "data": {
            "text/plain": [
              "44"
            ]
          },
          "metadata": {
            "tags": []
          },
          "execution_count": 297
        }
      ]
    },
    {
      "cell_type": "code",
      "metadata": {
        "id": "dNDjIOf9N6yE",
        "outputId": "303f1834-e233-425f-8bf0-6d7a51d71d80",
        "colab": {
          "base_uri": "https://localhost:8080/"
        }
      },
      "source": [
        " len(result2['Territory'].value_counts())"
      ],
      "execution_count": 298,
      "outputs": [
        {
          "output_type": "execute_result",
          "data": {
            "text/plain": [
              "75"
            ]
          },
          "metadata": {
            "tags": []
          },
          "execution_count": 298
        }
      ]
    },
    {
      "cell_type": "code",
      "metadata": {
        "id": "qcQ6bnfEOLO9",
        "outputId": "072dd403-37bc-4244-d1d9-5afd53581f81",
        "colab": {
          "base_uri": "https://localhost:8080/",
          "height": 423
        }
      },
      "source": [
        "algo=test.groupby(['Opportunity_ID','Territory' ]).agg(cant=('Opportunity_ID','count')).reset_index()\r\n",
        "algo"
      ],
      "execution_count": 302,
      "outputs": [
        {
          "output_type": "execute_result",
          "data": {
            "text/html": [
              "<div>\n",
              "<style scoped>\n",
              "    .dataframe tbody tr th:only-of-type {\n",
              "        vertical-align: middle;\n",
              "    }\n",
              "\n",
              "    .dataframe tbody tr th {\n",
              "        vertical-align: top;\n",
              "    }\n",
              "\n",
              "    .dataframe thead th {\n",
              "        text-align: right;\n",
              "    }\n",
              "</style>\n",
              "<table border=\"1\" class=\"dataframe\">\n",
              "  <thead>\n",
              "    <tr style=\"text-align: right;\">\n",
              "      <th></th>\n",
              "      <th>Opportunity_ID</th>\n",
              "      <th>Territory</th>\n",
              "      <th>cant</th>\n",
              "    </tr>\n",
              "  </thead>\n",
              "  <tbody>\n",
              "    <tr>\n",
              "      <th>0</th>\n",
              "      <td>10689</td>\n",
              "      <td>Germany</td>\n",
              "      <td>3</td>\n",
              "    </tr>\n",
              "    <tr>\n",
              "      <th>1</th>\n",
              "      <td>10690</td>\n",
              "      <td>Germany</td>\n",
              "      <td>5</td>\n",
              "    </tr>\n",
              "    <tr>\n",
              "      <th>2</th>\n",
              "      <td>10691</td>\n",
              "      <td>NE America</td>\n",
              "      <td>1</td>\n",
              "    </tr>\n",
              "    <tr>\n",
              "      <th>3</th>\n",
              "      <td>10692</td>\n",
              "      <td>NW America</td>\n",
              "      <td>6</td>\n",
              "    </tr>\n",
              "    <tr>\n",
              "      <th>4</th>\n",
              "      <td>10693</td>\n",
              "      <td>NW America</td>\n",
              "      <td>1</td>\n",
              "    </tr>\n",
              "    <tr>\n",
              "      <th>...</th>\n",
              "      <td>...</td>\n",
              "      <td>...</td>\n",
              "      <td>...</td>\n",
              "    </tr>\n",
              "    <tr>\n",
              "      <th>1562</th>\n",
              "      <td>12364</td>\n",
              "      <td>KSA</td>\n",
              "      <td>2</td>\n",
              "    </tr>\n",
              "    <tr>\n",
              "      <th>1563</th>\n",
              "      <td>12365</td>\n",
              "      <td>SE America</td>\n",
              "      <td>1</td>\n",
              "    </tr>\n",
              "    <tr>\n",
              "      <th>1564</th>\n",
              "      <td>12366</td>\n",
              "      <td>SE America</td>\n",
              "      <td>1</td>\n",
              "    </tr>\n",
              "    <tr>\n",
              "      <th>1565</th>\n",
              "      <td>12367</td>\n",
              "      <td>NE America</td>\n",
              "      <td>1</td>\n",
              "    </tr>\n",
              "    <tr>\n",
              "      <th>1566</th>\n",
              "      <td>12368</td>\n",
              "      <td>Belgium</td>\n",
              "      <td>1</td>\n",
              "    </tr>\n",
              "  </tbody>\n",
              "</table>\n",
              "<p>1567 rows × 3 columns</p>\n",
              "</div>"
            ],
            "text/plain": [
              "      Opportunity_ID   Territory  cant\n",
              "0              10689     Germany     3\n",
              "1              10690     Germany     5\n",
              "2              10691  NE America     1\n",
              "3              10692  NW America     6\n",
              "4              10693  NW America     1\n",
              "...              ...         ...   ...\n",
              "1562           12364         KSA     2\n",
              "1563           12365  SE America     1\n",
              "1564           12366  SE America     1\n",
              "1565           12367  NE America     1\n",
              "1566           12368     Belgium     1\n",
              "\n",
              "[1567 rows x 3 columns]"
            ]
          },
          "metadata": {
            "tags": []
          },
          "execution_count": 302
        }
      ]
    },
    {
      "cell_type": "code",
      "metadata": {
        "id": "0HvnjCZQB-qN"
      },
      "source": [
        "test=pd.read_csv('test.csv')\r\n",
        "df=test"
      ],
      "execution_count": 300,
      "outputs": []
    },
    {
      "cell_type": "code",
      "metadata": {
        "id": "VXXmQ6UgOKL1"
      },
      "source": [
        ""
      ],
      "execution_count": null,
      "outputs": []
    },
    {
      "cell_type": "code",
      "metadata": {
        "id": "WC6OEbUUMFLO"
      },
      "source": [
        "territories=pd.merge(algo,result2, on=\"Territory\", how='left') \r\n",
        "territories=territories.groupby('Opportunity_ID').agg(meanEncodingTerritory=('meanEncodingTerritory','mean')).reset_index()\r\n"
      ],
      "execution_count": 304,
      "outputs": []
    },
    {
      "cell_type": "code",
      "metadata": {
        "id": "fLarj-VqB3nN"
      },
      "source": [
        " \r\n",
        "df['Month']=pd.to_datetime(df['Month'])\r\n",
        "df['anio']=df['Month'].dt.year\r\n",
        "df['mes']=df['Month'].dt.month\r\n",
        "#agregamos columna totalamount\r\n",
        "totalAmount=df.groupby(['Opportunity_ID' ]).agg(totalamount=('Total_Amount','sum'))\r\n",
        "#agregamos total trf\r\n",
        "totalTrf=df.groupby(['Opportunity_ID' ]).agg(totalTrf=('TRF','sum'))\r\n",
        "dfFeatureNew=pd.merge(totalAmount,totalTrf,on=\"Opportunity_ID\",how=\"inner\").reset_index()\r\n",
        "dfFeatureNew \r\n",
        "\r\n",
        "dfFeatureNew=pd.merge(dfFeatureNew,territories,on='Opportunity_ID',how='inner')\r\n",
        "dfFeatureNew=dfFeatureNew.fillna(0)\r\n",
        "dfFeatureNew=dfFeatureNew[['Opportunity_ID','totalamount','totalTrf','meanEncodingTerritory']]\r\n"
      ],
      "execution_count": 305,
      "outputs": []
    },
    {
      "cell_type": "code",
      "metadata": {
        "colab": {
          "base_uri": "https://localhost:8080/"
        },
        "id": "WqqYLybXe62K",
        "outputId": "bd018e62-bd0f-450b-bfff-ac407c4d07af"
      },
      "source": [
        "dfFeatureNew.info()\r\n",
        "#dfTestFeature=modelo.featureEngeenier(test)\r\n",
        "#dfTestFeature.head()"
      ],
      "execution_count": 306,
      "outputs": [
        {
          "output_type": "stream",
          "text": [
            "<class 'pandas.core.frame.DataFrame'>\n",
            "Int64Index: 1567 entries, 0 to 1566\n",
            "Data columns (total 4 columns):\n",
            " #   Column                 Non-Null Count  Dtype  \n",
            "---  ------                 --------------  -----  \n",
            " 0   Opportunity_ID         1567 non-null   int64  \n",
            " 1   totalamount            1567 non-null   float64\n",
            " 2   totalTrf               1567 non-null   int64  \n",
            " 3   meanEncodingTerritory  1567 non-null   float64\n",
            "dtypes: float64(2), int64(2)\n",
            "memory usage: 61.2 KB\n"
          ],
          "name": "stdout"
        }
      ]
    },
    {
      "cell_type": "code",
      "metadata": {
        "id": "H-BqHDZaENT5",
        "outputId": "f801427c-bf4d-444a-b4ab-ed3f04f74438",
        "colab": {
          "base_uri": "https://localhost:8080/",
          "height": 423
        }
      },
      "source": [
        "X_train"
      ],
      "execution_count": 307,
      "outputs": [
        {
          "output_type": "execute_result",
          "data": {
            "text/html": [
              "<div>\n",
              "<style scoped>\n",
              "    .dataframe tbody tr th:only-of-type {\n",
              "        vertical-align: middle;\n",
              "    }\n",
              "\n",
              "    .dataframe tbody tr th {\n",
              "        vertical-align: top;\n",
              "    }\n",
              "\n",
              "    .dataframe thead th {\n",
              "        text-align: right;\n",
              "    }\n",
              "</style>\n",
              "<table border=\"1\" class=\"dataframe\">\n",
              "  <thead>\n",
              "    <tr style=\"text-align: right;\">\n",
              "      <th></th>\n",
              "      <th>totalamount</th>\n",
              "      <th>totalTrf</th>\n",
              "      <th>meanEncodingTerritory</th>\n",
              "    </tr>\n",
              "  </thead>\n",
              "  <tbody>\n",
              "    <tr>\n",
              "      <th>6509</th>\n",
              "      <td>323212.5</td>\n",
              "      <td>0</td>\n",
              "      <td>0.813953</td>\n",
              "    </tr>\n",
              "    <tr>\n",
              "      <th>6914</th>\n",
              "      <td>463600.0</td>\n",
              "      <td>0</td>\n",
              "      <td>0.535927</td>\n",
              "    </tr>\n",
              "    <tr>\n",
              "      <th>2464</th>\n",
              "      <td>1679730.0</td>\n",
              "      <td>5</td>\n",
              "      <td>0.593750</td>\n",
              "    </tr>\n",
              "    <tr>\n",
              "      <th>913</th>\n",
              "      <td>498771.0</td>\n",
              "      <td>1</td>\n",
              "      <td>0.367953</td>\n",
              "    </tr>\n",
              "    <tr>\n",
              "      <th>4986</th>\n",
              "      <td>52126.0</td>\n",
              "      <td>0</td>\n",
              "      <td>0.379310</td>\n",
              "    </tr>\n",
              "    <tr>\n",
              "      <th>...</th>\n",
              "      <td>...</td>\n",
              "      <td>...</td>\n",
              "      <td>...</td>\n",
              "    </tr>\n",
              "    <tr>\n",
              "      <th>9785</th>\n",
              "      <td>1307775.0</td>\n",
              "      <td>3</td>\n",
              "      <td>0.548148</td>\n",
              "    </tr>\n",
              "    <tr>\n",
              "      <th>7763</th>\n",
              "      <td>103125.0</td>\n",
              "      <td>0</td>\n",
              "      <td>0.593750</td>\n",
              "    </tr>\n",
              "    <tr>\n",
              "      <th>5218</th>\n",
              "      <td>292410.0</td>\n",
              "      <td>1</td>\n",
              "      <td>0.417755</td>\n",
              "    </tr>\n",
              "    <tr>\n",
              "      <th>1346</th>\n",
              "      <td>326340.0</td>\n",
              "      <td>0</td>\n",
              "      <td>0.802326</td>\n",
              "    </tr>\n",
              "    <tr>\n",
              "      <th>3582</th>\n",
              "      <td>3010000.0</td>\n",
              "      <td>0</td>\n",
              "      <td>0.802326</td>\n",
              "    </tr>\n",
              "  </tbody>\n",
              "</table>\n",
              "<p>7832 rows × 3 columns</p>\n",
              "</div>"
            ],
            "text/plain": [
              "      totalamount  totalTrf  meanEncodingTerritory\n",
              "6509     323212.5         0               0.813953\n",
              "6914     463600.0         0               0.535927\n",
              "2464    1679730.0         5               0.593750\n",
              "913      498771.0         1               0.367953\n",
              "4986      52126.0         0               0.379310\n",
              "...           ...       ...                    ...\n",
              "9785    1307775.0         3               0.548148\n",
              "7763     103125.0         0               0.593750\n",
              "5218     292410.0         1               0.417755\n",
              "1346     326340.0         0               0.802326\n",
              "3582    3010000.0         0               0.802326\n",
              "\n",
              "[7832 rows x 3 columns]"
            ]
          },
          "metadata": {
            "tags": []
          },
          "execution_count": 307
        }
      ]
    },
    {
      "cell_type": "code",
      "metadata": {
        "id": "3FJQ3bmwEP8X",
        "outputId": "0c3e454d-031d-4c45-bcf3-7c78110ad511",
        "colab": {
          "base_uri": "https://localhost:8080/"
        }
      },
      "source": [
        "y_train"
      ],
      "execution_count": 308,
      "outputs": [
        {
          "output_type": "execute_result",
          "data": {
            "text/plain": [
              "6509    1\n",
              "6914    1\n",
              "2464    0\n",
              "913     0\n",
              "4986    1\n",
              "       ..\n",
              "9785    0\n",
              "7763    1\n",
              "5218    0\n",
              "1346    1\n",
              "3582    0\n",
              "Name: Stage, Length: 7832, dtype: int64"
            ]
          },
          "metadata": {
            "tags": []
          },
          "execution_count": 308
        }
      ]
    },
    {
      "cell_type": "code",
      "metadata": {
        "id": "PaMhHiuJFgRl",
        "outputId": "f1f9a678-ce57-45ec-e284-af193891c55a",
        "colab": {
          "base_uri": "https://localhost:8080/",
          "height": 423
        }
      },
      "source": [
        "dfFeatureNew[['totalamount' ,\t'totalTrf', \t'meanEncodingTerritory']]"
      ],
      "execution_count": 309,
      "outputs": [
        {
          "output_type": "execute_result",
          "data": {
            "text/html": [
              "<div>\n",
              "<style scoped>\n",
              "    .dataframe tbody tr th:only-of-type {\n",
              "        vertical-align: middle;\n",
              "    }\n",
              "\n",
              "    .dataframe tbody tr th {\n",
              "        vertical-align: top;\n",
              "    }\n",
              "\n",
              "    .dataframe thead th {\n",
              "        text-align: right;\n",
              "    }\n",
              "</style>\n",
              "<table border=\"1\" class=\"dataframe\">\n",
              "  <thead>\n",
              "    <tr style=\"text-align: right;\">\n",
              "      <th></th>\n",
              "      <th>totalamount</th>\n",
              "      <th>totalTrf</th>\n",
              "      <th>meanEncodingTerritory</th>\n",
              "    </tr>\n",
              "  </thead>\n",
              "  <tbody>\n",
              "    <tr>\n",
              "      <th>0</th>\n",
              "      <td>367419.0</td>\n",
              "      <td>0</td>\n",
              "      <td>0.548148</td>\n",
              "    </tr>\n",
              "    <tr>\n",
              "      <th>1</th>\n",
              "      <td>757783.5</td>\n",
              "      <td>1</td>\n",
              "      <td>0.548148</td>\n",
              "    </tr>\n",
              "    <tr>\n",
              "      <th>2</th>\n",
              "      <td>21037.5</td>\n",
              "      <td>0</td>\n",
              "      <td>0.347490</td>\n",
              "    </tr>\n",
              "    <tr>\n",
              "      <th>3</th>\n",
              "      <td>2169106.5</td>\n",
              "      <td>6</td>\n",
              "      <td>0.632723</td>\n",
              "    </tr>\n",
              "    <tr>\n",
              "      <th>4</th>\n",
              "      <td>5752.5</td>\n",
              "      <td>0</td>\n",
              "      <td>0.632723</td>\n",
              "    </tr>\n",
              "    <tr>\n",
              "      <th>...</th>\n",
              "      <td>...</td>\n",
              "      <td>...</td>\n",
              "      <td>...</td>\n",
              "    </tr>\n",
              "    <tr>\n",
              "      <th>1562</th>\n",
              "      <td>147750.0</td>\n",
              "      <td>0</td>\n",
              "      <td>0.416667</td>\n",
              "    </tr>\n",
              "    <tr>\n",
              "      <th>1563</th>\n",
              "      <td>45054.9</td>\n",
              "      <td>0</td>\n",
              "      <td>0.367953</td>\n",
              "    </tr>\n",
              "    <tr>\n",
              "      <th>1564</th>\n",
              "      <td>100122.0</td>\n",
              "      <td>0</td>\n",
              "      <td>0.367953</td>\n",
              "    </tr>\n",
              "    <tr>\n",
              "      <th>1565</th>\n",
              "      <td>143220.0</td>\n",
              "      <td>0</td>\n",
              "      <td>0.347490</td>\n",
              "    </tr>\n",
              "    <tr>\n",
              "      <th>1566</th>\n",
              "      <td>871020.8</td>\n",
              "      <td>3</td>\n",
              "      <td>0.569832</td>\n",
              "    </tr>\n",
              "  </tbody>\n",
              "</table>\n",
              "<p>1567 rows × 3 columns</p>\n",
              "</div>"
            ],
            "text/plain": [
              "      totalamount  totalTrf  meanEncodingTerritory\n",
              "0        367419.0         0               0.548148\n",
              "1        757783.5         1               0.548148\n",
              "2         21037.5         0               0.347490\n",
              "3       2169106.5         6               0.632723\n",
              "4          5752.5         0               0.632723\n",
              "...           ...       ...                    ...\n",
              "1562     147750.0         0               0.416667\n",
              "1563      45054.9         0               0.367953\n",
              "1564     100122.0         0               0.367953\n",
              "1565     143220.0         0               0.347490\n",
              "1566     871020.8         3               0.569832\n",
              "\n",
              "[1567 rows x 3 columns]"
            ]
          },
          "metadata": {
            "tags": []
          },
          "execution_count": 309
        }
      ]
    },
    {
      "cell_type": "code",
      "metadata": {
        "id": "C8eBQbkBG496",
        "outputId": "cb390403-b6b8-4434-9eaf-747c9c833693",
        "colab": {
          "base_uri": "https://localhost:8080/",
          "height": 423
        }
      },
      "source": [
        "listaColumnas=dfFeatureNew.columns.to_list()\r\n",
        "listaColumnas.remove('Opportunity_ID')\r\n",
        "dfFeaturestest=dfFeatureNew[listaColumnas] \r\n",
        "#totalamount \ttotalTrf \tmeanEncodingTerritory\r\n",
        "dfFeaturestest"
      ],
      "execution_count": 310,
      "outputs": [
        {
          "output_type": "execute_result",
          "data": {
            "text/html": [
              "<div>\n",
              "<style scoped>\n",
              "    .dataframe tbody tr th:only-of-type {\n",
              "        vertical-align: middle;\n",
              "    }\n",
              "\n",
              "    .dataframe tbody tr th {\n",
              "        vertical-align: top;\n",
              "    }\n",
              "\n",
              "    .dataframe thead th {\n",
              "        text-align: right;\n",
              "    }\n",
              "</style>\n",
              "<table border=\"1\" class=\"dataframe\">\n",
              "  <thead>\n",
              "    <tr style=\"text-align: right;\">\n",
              "      <th></th>\n",
              "      <th>totalamount</th>\n",
              "      <th>totalTrf</th>\n",
              "      <th>meanEncodingTerritory</th>\n",
              "    </tr>\n",
              "  </thead>\n",
              "  <tbody>\n",
              "    <tr>\n",
              "      <th>0</th>\n",
              "      <td>367419.0</td>\n",
              "      <td>0</td>\n",
              "      <td>0.548148</td>\n",
              "    </tr>\n",
              "    <tr>\n",
              "      <th>1</th>\n",
              "      <td>757783.5</td>\n",
              "      <td>1</td>\n",
              "      <td>0.548148</td>\n",
              "    </tr>\n",
              "    <tr>\n",
              "      <th>2</th>\n",
              "      <td>21037.5</td>\n",
              "      <td>0</td>\n",
              "      <td>0.347490</td>\n",
              "    </tr>\n",
              "    <tr>\n",
              "      <th>3</th>\n",
              "      <td>2169106.5</td>\n",
              "      <td>6</td>\n",
              "      <td>0.632723</td>\n",
              "    </tr>\n",
              "    <tr>\n",
              "      <th>4</th>\n",
              "      <td>5752.5</td>\n",
              "      <td>0</td>\n",
              "      <td>0.632723</td>\n",
              "    </tr>\n",
              "    <tr>\n",
              "      <th>...</th>\n",
              "      <td>...</td>\n",
              "      <td>...</td>\n",
              "      <td>...</td>\n",
              "    </tr>\n",
              "    <tr>\n",
              "      <th>1562</th>\n",
              "      <td>147750.0</td>\n",
              "      <td>0</td>\n",
              "      <td>0.416667</td>\n",
              "    </tr>\n",
              "    <tr>\n",
              "      <th>1563</th>\n",
              "      <td>45054.9</td>\n",
              "      <td>0</td>\n",
              "      <td>0.367953</td>\n",
              "    </tr>\n",
              "    <tr>\n",
              "      <th>1564</th>\n",
              "      <td>100122.0</td>\n",
              "      <td>0</td>\n",
              "      <td>0.367953</td>\n",
              "    </tr>\n",
              "    <tr>\n",
              "      <th>1565</th>\n",
              "      <td>143220.0</td>\n",
              "      <td>0</td>\n",
              "      <td>0.347490</td>\n",
              "    </tr>\n",
              "    <tr>\n",
              "      <th>1566</th>\n",
              "      <td>871020.8</td>\n",
              "      <td>3</td>\n",
              "      <td>0.569832</td>\n",
              "    </tr>\n",
              "  </tbody>\n",
              "</table>\n",
              "<p>1567 rows × 3 columns</p>\n",
              "</div>"
            ],
            "text/plain": [
              "      totalamount  totalTrf  meanEncodingTerritory\n",
              "0        367419.0         0               0.548148\n",
              "1        757783.5         1               0.548148\n",
              "2         21037.5         0               0.347490\n",
              "3       2169106.5         6               0.632723\n",
              "4          5752.5         0               0.632723\n",
              "...           ...       ...                    ...\n",
              "1562     147750.0         0               0.416667\n",
              "1563      45054.9         0               0.367953\n",
              "1564     100122.0         0               0.367953\n",
              "1565     143220.0         0               0.347490\n",
              "1566     871020.8         3               0.569832\n",
              "\n",
              "[1567 rows x 3 columns]"
            ]
          },
          "metadata": {
            "tags": []
          },
          "execution_count": 310
        }
      ]
    },
    {
      "cell_type": "code",
      "metadata": {
        "id": "GgrQ_9BTFQd0"
      },
      "source": [
        "listaColumnas=dfFeatureNew.columns.to_list()\r\n",
        "listaColumnas.remove('Opportunity_ID')\r\n",
        "dfFeaturestest=dfFeatureNew[listaColumnas] \r\n",
        "#se elemina esa columan porque sino hay overfittin\r\n",
        "xgb2=xgb.XGBRegressor(objective ='reg:squarederror', \r\n",
        "                colsample_bytree = 0.3, learning_rate = 0.1,\r\n",
        "                max_depth = 3, alpha = 10, n_estimators = 1000)\r\n",
        "  \r\n",
        "xgb2.fit(X_train, y_train.astype(int))\r\n",
        "preds =  xgb2.predict(dfFeaturestest)"
      ],
      "execution_count": 311,
      "outputs": []
    },
    {
      "cell_type": "code",
      "metadata": {
        "id": "ELTrmErSIIwR",
        "outputId": "6c127489-af9d-4bd0-f90a-dfb586e5c48b",
        "colab": {
          "base_uri": "https://localhost:8080/"
        }
      },
      "source": [
        "len(preds)"
      ],
      "execution_count": 312,
      "outputs": [
        {
          "output_type": "execute_result",
          "data": {
            "text/plain": [
              "1567"
            ]
          },
          "metadata": {
            "tags": []
          },
          "execution_count": 312
        }
      ]
    },
    {
      "cell_type": "code",
      "metadata": {
        "id": "MJT7zZqzP9hL"
      },
      "source": [
        ""
      ],
      "execution_count": null,
      "outputs": []
    },
    {
      "cell_type": "code",
      "metadata": {
        "colab": {
          "base_uri": "https://localhost:8080/",
          "height": 368
        },
        "id": "A6v2tngmlq30",
        "outputId": "8e51d88e-d90e-47c4-bb8c-ef742ced110f"
      },
      "source": [
        "#prediccion=modelo.entrenarYPredecirWithTest(X_train,y_train,dfFeatureNew)\r\n",
        "#prediccion"
      ],
      "execution_count": 177,
      "outputs": [
        {
          "output_type": "error",
          "ename": "ValueError",
          "evalue": "ignored",
          "traceback": [
            "\u001b[0;31m---------------------------------------------------------------------------\u001b[0m",
            "\u001b[0;31mValueError\u001b[0m                                Traceback (most recent call last)",
            "\u001b[0;32m<ipython-input-177-92df45893c1d>\u001b[0m in \u001b[0;36m<module>\u001b[0;34m()\u001b[0m\n\u001b[0;32m----> 1\u001b[0;31m \u001b[0mprediccion\u001b[0m\u001b[0;34m=\u001b[0m\u001b[0mmodelo\u001b[0m\u001b[0;34m.\u001b[0m\u001b[0mentrenarYPredecirWithTest\u001b[0m\u001b[0;34m(\u001b[0m\u001b[0mX_train\u001b[0m\u001b[0;34m,\u001b[0m\u001b[0my_train\u001b[0m\u001b[0;34m,\u001b[0m\u001b[0mdfFeatureNew\u001b[0m\u001b[0;34m)\u001b[0m\u001b[0;34m\u001b[0m\u001b[0;34m\u001b[0m\u001b[0m\n\u001b[0m\u001b[1;32m      2\u001b[0m \u001b[0mprediccion\u001b[0m\u001b[0;34m\u001b[0m\u001b[0;34m\u001b[0m\u001b[0m\n",
            "\u001b[0;32m<ipython-input-12-c39d6b6b4d99>\u001b[0m in \u001b[0;36mentrenarYPredecirWithTest\u001b[0;34m(self, X_train, y_train, dfFeaturestest)\u001b[0m\n\u001b[1;32m     34\u001b[0m     \u001b[0;31m#se elemina esa columan porque sino hay overfittin\u001b[0m\u001b[0;34m\u001b[0m\u001b[0;34m\u001b[0m\u001b[0;34m\u001b[0m\u001b[0m\n\u001b[1;32m     35\u001b[0m     \u001b[0mself\u001b[0m\u001b[0;34m.\u001b[0m\u001b[0mmodelo\u001b[0m\u001b[0;34m.\u001b[0m\u001b[0mfit\u001b[0m\u001b[0;34m(\u001b[0m\u001b[0mX_train\u001b[0m\u001b[0;34m,\u001b[0m \u001b[0my_train\u001b[0m\u001b[0;34m.\u001b[0m\u001b[0mastype\u001b[0m\u001b[0;34m(\u001b[0m\u001b[0mint\u001b[0m\u001b[0;34m)\u001b[0m\u001b[0;34m)\u001b[0m\u001b[0;34m\u001b[0m\u001b[0;34m\u001b[0m\u001b[0m\n\u001b[0;32m---> 36\u001b[0;31m     \u001b[0mpreds\u001b[0m \u001b[0;34m=\u001b[0m  \u001b[0mself\u001b[0m\u001b[0;34m.\u001b[0m\u001b[0mmodelo\u001b[0m\u001b[0;34m.\u001b[0m\u001b[0mpredict\u001b[0m\u001b[0;34m(\u001b[0m\u001b[0mdfFeaturestest\u001b[0m\u001b[0;34m)\u001b[0m\u001b[0;34m\u001b[0m\u001b[0;34m\u001b[0m\u001b[0m\n\u001b[0m\u001b[1;32m     37\u001b[0m     \u001b[0;32mreturn\u001b[0m \u001b[0mpreds\u001b[0m\u001b[0;34m\u001b[0m\u001b[0;34m\u001b[0m\u001b[0m\n",
            "\u001b[0;32m/usr/local/lib/python3.6/dist-packages/xgboost/sklearn.py\u001b[0m in \u001b[0;36mpredict\u001b[0;34m(self, data, output_margin, ntree_limit, validate_features)\u001b[0m\n\u001b[1;32m    454\u001b[0m                                           \u001b[0moutput_margin\u001b[0m\u001b[0;34m=\u001b[0m\u001b[0moutput_margin\u001b[0m\u001b[0;34m,\u001b[0m\u001b[0;34m\u001b[0m\u001b[0;34m\u001b[0m\u001b[0m\n\u001b[1;32m    455\u001b[0m                                           \u001b[0mntree_limit\u001b[0m\u001b[0;34m=\u001b[0m\u001b[0mntree_limit\u001b[0m\u001b[0;34m,\u001b[0m\u001b[0;34m\u001b[0m\u001b[0;34m\u001b[0m\u001b[0m\n\u001b[0;32m--> 456\u001b[0;31m                                           validate_features=validate_features)\n\u001b[0m\u001b[1;32m    457\u001b[0m \u001b[0;34m\u001b[0m\u001b[0m\n\u001b[1;32m    458\u001b[0m     \u001b[0;32mdef\u001b[0m \u001b[0mapply\u001b[0m\u001b[0;34m(\u001b[0m\u001b[0mself\u001b[0m\u001b[0;34m,\u001b[0m \u001b[0mX\u001b[0m\u001b[0;34m,\u001b[0m \u001b[0mntree_limit\u001b[0m\u001b[0;34m=\u001b[0m\u001b[0;36m0\u001b[0m\u001b[0;34m)\u001b[0m\u001b[0;34m:\u001b[0m\u001b[0;34m\u001b[0m\u001b[0;34m\u001b[0m\u001b[0m\n",
            "\u001b[0;32m/usr/local/lib/python3.6/dist-packages/xgboost/core.py\u001b[0m in \u001b[0;36mpredict\u001b[0;34m(self, data, output_margin, ntree_limit, pred_leaf, pred_contribs, approx_contribs, pred_interactions, validate_features)\u001b[0m\n\u001b[1;32m   1282\u001b[0m \u001b[0;34m\u001b[0m\u001b[0m\n\u001b[1;32m   1283\u001b[0m         \u001b[0;32mif\u001b[0m \u001b[0mvalidate_features\u001b[0m\u001b[0;34m:\u001b[0m\u001b[0;34m\u001b[0m\u001b[0;34m\u001b[0m\u001b[0m\n\u001b[0;32m-> 1284\u001b[0;31m             \u001b[0mself\u001b[0m\u001b[0;34m.\u001b[0m\u001b[0m_validate_features\u001b[0m\u001b[0;34m(\u001b[0m\u001b[0mdata\u001b[0m\u001b[0;34m)\u001b[0m\u001b[0;34m\u001b[0m\u001b[0;34m\u001b[0m\u001b[0m\n\u001b[0m\u001b[1;32m   1285\u001b[0m \u001b[0;34m\u001b[0m\u001b[0m\n\u001b[1;32m   1286\u001b[0m         \u001b[0mlength\u001b[0m \u001b[0;34m=\u001b[0m \u001b[0mc_bst_ulong\u001b[0m\u001b[0;34m(\u001b[0m\u001b[0;34m)\u001b[0m\u001b[0;34m\u001b[0m\u001b[0;34m\u001b[0m\u001b[0m\n",
            "\u001b[0;32m/usr/local/lib/python3.6/dist-packages/xgboost/core.py\u001b[0m in \u001b[0;36m_validate_features\u001b[0;34m(self, data)\u001b[0m\n\u001b[1;32m   1688\u001b[0m \u001b[0;34m\u001b[0m\u001b[0m\n\u001b[1;32m   1689\u001b[0m                 raise ValueError(msg.format(self.feature_names,\n\u001b[0;32m-> 1690\u001b[0;31m                                             data.feature_names))\n\u001b[0m\u001b[1;32m   1691\u001b[0m \u001b[0;34m\u001b[0m\u001b[0m\n\u001b[1;32m   1692\u001b[0m     \u001b[0;32mdef\u001b[0m \u001b[0mget_split_value_histogram\u001b[0m\u001b[0;34m(\u001b[0m\u001b[0mself\u001b[0m\u001b[0;34m,\u001b[0m \u001b[0mfeature\u001b[0m\u001b[0;34m,\u001b[0m \u001b[0mfmap\u001b[0m\u001b[0;34m=\u001b[0m\u001b[0;34m''\u001b[0m\u001b[0;34m,\u001b[0m \u001b[0mbins\u001b[0m\u001b[0;34m=\u001b[0m\u001b[0;32mNone\u001b[0m\u001b[0;34m,\u001b[0m \u001b[0mas_pandas\u001b[0m\u001b[0;34m=\u001b[0m\u001b[0;32mTrue\u001b[0m\u001b[0;34m)\u001b[0m\u001b[0;34m:\u001b[0m\u001b[0;34m\u001b[0m\u001b[0;34m\u001b[0m\u001b[0m\n",
            "\u001b[0;31mValueError\u001b[0m: feature_names mismatch: ['totalamount', 'totalTrf', 'meanEncodingTerritory'] ['totalamount', 'totalTrf']\nexpected meanEncodingTerritory in input data"
          ]
        }
      ]
    },
    {
      "cell_type": "code",
      "metadata": {
        "id": "eGDl5k2bJXSz",
        "outputId": "b7de11ef-58bd-4286-c4a0-bcdb8df15eff",
        "colab": {
          "base_uri": "https://localhost:8080/"
        }
      },
      "source": [
        "test.info()"
      ],
      "execution_count": 313,
      "outputs": [
        {
          "output_type": "stream",
          "text": [
            "<class 'pandas.core.frame.DataFrame'>\n",
            "RangeIndex: 2551 entries, 0 to 2550\n",
            "Data columns (total 53 columns):\n",
            " #   Column                              Non-Null Count  Dtype         \n",
            "---  ------                              --------------  -----         \n",
            " 0   ID                                  2551 non-null   int64         \n",
            " 1   Region                              2551 non-null   object        \n",
            " 2   Territory                           2551 non-null   object        \n",
            " 3   Pricing, Delivery_Terms_Quote_Appr  2551 non-null   int64         \n",
            " 4   Pricing, Delivery_Terms_Approved    2551 non-null   int64         \n",
            " 5   Bureaucratic_Code_0_Approval        2551 non-null   int64         \n",
            " 6   Bureaucratic_Code_0_Approved        2551 non-null   int64         \n",
            " 7   Submitted_for_Approval              2551 non-null   int64         \n",
            " 8   Bureaucratic_Code                   2551 non-null   object        \n",
            " 9   Account_Created_Date                2551 non-null   object        \n",
            " 10  Source                              2551 non-null   object        \n",
            " 11  Billing_Country                     2551 non-null   object        \n",
            " 12  Account_Name                        2551 non-null   object        \n",
            " 13  Opportunity_Name                    2551 non-null   object        \n",
            " 14  Opportunity_ID                      2551 non-null   int64         \n",
            " 15  Sales_Contract_No                   2551 non-null   object        \n",
            " 16  Account_Owner                       2551 non-null   object        \n",
            " 17  Opportunity_Owner                   2551 non-null   object        \n",
            " 18  Account_Type                        2551 non-null   object        \n",
            " 19  Opportunity_Type                    2551 non-null   object        \n",
            " 20  Quote_Type                          2551 non-null   object        \n",
            " 21  Delivery_Terms                      2551 non-null   object        \n",
            " 22  Opportunity_Created_Date            2551 non-null   object        \n",
            " 23  Brand                               2551 non-null   object        \n",
            " 24  Product_Type                        2551 non-null   object        \n",
            " 25  Size                                2551 non-null   object        \n",
            " 26  Product_Category_B                  2551 non-null   object        \n",
            " 27  Price                               2551 non-null   object        \n",
            " 28  Currency                            2551 non-null   object        \n",
            " 29  Last_Activity                       2551 non-null   object        \n",
            " 30  Quote_Expiry_Date                   2551 non-null   object        \n",
            " 31  Last_Modified_Date                  2551 non-null   object        \n",
            " 32  Last_Modified_By                    2551 non-null   object        \n",
            " 33  Product_Family                      2551 non-null   object        \n",
            " 34  Product_Name                        2551 non-null   object        \n",
            " 35  ASP_Currency                        2551 non-null   object        \n",
            " 36  ASP                                 2467 non-null   float64       \n",
            " 37  ASP_(converted)_Currency            2551 non-null   object        \n",
            " 38  ASP_(converted)                     2467 non-null   float64       \n",
            " 39  Planned_Delivery_Start_Date         2551 non-null   object        \n",
            " 40  Planned_Delivery_End_Date           2551 non-null   object        \n",
            " 41  Month                               2551 non-null   datetime64[ns]\n",
            " 42  Delivery_Quarter                    2551 non-null   object        \n",
            " 43  Delivery_Year                       2551 non-null   int64         \n",
            " 44  Actual_Delivery_Date                2551 non-null   object        \n",
            " 45  TRF                                 2551 non-null   int64         \n",
            " 46  Total_Amount_Currency               2551 non-null   object        \n",
            " 47  Total_Amount                        2551 non-null   float64       \n",
            " 48  Total_Taxable_Amount_Currency       2551 non-null   object        \n",
            " 49  Total_Taxable_Amount                2551 non-null   float64       \n",
            " 50  Prod_Category_A                     2551 non-null   object        \n",
            " 51  anio                                2551 non-null   int64         \n",
            " 52  mes                                 2551 non-null   int64         \n",
            "dtypes: datetime64[ns](1), float64(4), int64(11), object(37)\n",
            "memory usage: 1.0+ MB\n"
          ],
          "name": "stdout"
        }
      ]
    },
    {
      "cell_type": "code",
      "metadata": {
        "id": "h0ayN4lWIcNK",
        "outputId": "1f2d712a-0e0f-495c-bf96-ca7eff2ca13c",
        "colab": {
          "base_uri": "https://localhost:8080/"
        }
      },
      "source": [
        "territories.info()"
      ],
      "execution_count": 264,
      "outputs": [
        {
          "output_type": "stream",
          "text": [
            "<class 'pandas.core.frame.DataFrame'>\n",
            "RangeIndex: 1567 entries, 0 to 1566\n",
            "Data columns (total 2 columns):\n",
            " #   Column                 Non-Null Count  Dtype  \n",
            "---  ------                 --------------  -----  \n",
            " 0   Opportunity_ID         1567 non-null   int64  \n",
            " 1   meanEncodingTerritory  1563 non-null   float64\n",
            "dtypes: float64(1), int64(1)\n",
            "memory usage: 24.6 KB\n"
          ],
          "name": "stdout"
        }
      ]
    },
    {
      "cell_type": "code",
      "metadata": {
        "id": "kazATXjkITrn",
        "outputId": "129be3aa-d601-403c-959a-11adb72b435d",
        "colab": {
          "base_uri": "https://localhost:8080/",
          "height": 17
        }
      },
      "source": [
        "dfkaggle = pd.DataFrame( preds)\r\n",
        "dfkaggle['Opportunity_ID']=territories['Opportunity_ID']\r\n",
        "dfkaggle.columns=['Target','Opportunity_ID']\r\n",
        "dfkaggle=dfkaggle[['Opportunity_ID','Target']]\r\n",
        "    \r\n",
        "from google.colab import files\r\n",
        "dfkaggle.to_csv('dfKaggle.csv', index=False) \r\n",
        "files.download('dfKaggle.csv')"
      ],
      "execution_count": 314,
      "outputs": [
        {
          "output_type": "display_data",
          "data": {
            "application/javascript": [
              "\n",
              "    async function download(id, filename, size) {\n",
              "      if (!google.colab.kernel.accessAllowed) {\n",
              "        return;\n",
              "      }\n",
              "      const div = document.createElement('div');\n",
              "      const label = document.createElement('label');\n",
              "      label.textContent = `Downloading \"${filename}\": `;\n",
              "      div.appendChild(label);\n",
              "      const progress = document.createElement('progress');\n",
              "      progress.max = size;\n",
              "      div.appendChild(progress);\n",
              "      document.body.appendChild(div);\n",
              "\n",
              "      const buffers = [];\n",
              "      let downloaded = 0;\n",
              "\n",
              "      const channel = await google.colab.kernel.comms.open(id);\n",
              "      // Send a message to notify the kernel that we're ready.\n",
              "      channel.send({})\n",
              "\n",
              "      for await (const message of channel.messages) {\n",
              "        // Send a message to notify the kernel that we're ready.\n",
              "        channel.send({})\n",
              "        if (message.buffers) {\n",
              "          for (const buffer of message.buffers) {\n",
              "            buffers.push(buffer);\n",
              "            downloaded += buffer.byteLength;\n",
              "            progress.value = downloaded;\n",
              "          }\n",
              "        }\n",
              "      }\n",
              "      const blob = new Blob(buffers, {type: 'application/binary'});\n",
              "      const a = document.createElement('a');\n",
              "      a.href = window.URL.createObjectURL(blob);\n",
              "      a.download = filename;\n",
              "      div.appendChild(a);\n",
              "      a.click();\n",
              "      div.remove();\n",
              "    }\n",
              "  "
            ],
            "text/plain": [
              "<IPython.core.display.Javascript object>"
            ]
          },
          "metadata": {
            "tags": []
          }
        },
        {
          "output_type": "display_data",
          "data": {
            "application/javascript": [
              "download(\"download_138c1602-cccd-4ffe-a5df-847f08651649\", \"dfKaggle.csv\", 25982)"
            ],
            "text/plain": [
              "<IPython.core.display.Javascript object>"
            ]
          },
          "metadata": {
            "tags": []
          }
        }
      ]
    },
    {
      "cell_type": "code",
      "metadata": {
        "colab": {
          "base_uri": "https://localhost:8080/",
          "height": 17
        },
        "id": "Zj3qRh7Lmzzh",
        "outputId": "133727e0-9331-4678-ac00-2f5d42d340e2"
      },
      "source": [
        "modelo.formarDfKaggle(dfTestFeature,prediccion)"
      ],
      "execution_count": 195,
      "outputs": [
        {
          "output_type": "display_data",
          "data": {
            "application/javascript": [
              "\n",
              "    async function download(id, filename, size) {\n",
              "      if (!google.colab.kernel.accessAllowed) {\n",
              "        return;\n",
              "      }\n",
              "      const div = document.createElement('div');\n",
              "      const label = document.createElement('label');\n",
              "      label.textContent = `Downloading \"${filename}\": `;\n",
              "      div.appendChild(label);\n",
              "      const progress = document.createElement('progress');\n",
              "      progress.max = size;\n",
              "      div.appendChild(progress);\n",
              "      document.body.appendChild(div);\n",
              "\n",
              "      const buffers = [];\n",
              "      let downloaded = 0;\n",
              "\n",
              "      const channel = await google.colab.kernel.comms.open(id);\n",
              "      // Send a message to notify the kernel that we're ready.\n",
              "      channel.send({})\n",
              "\n",
              "      for await (const message of channel.messages) {\n",
              "        // Send a message to notify the kernel that we're ready.\n",
              "        channel.send({})\n",
              "        if (message.buffers) {\n",
              "          for (const buffer of message.buffers) {\n",
              "            buffers.push(buffer);\n",
              "            downloaded += buffer.byteLength;\n",
              "            progress.value = downloaded;\n",
              "          }\n",
              "        }\n",
              "      }\n",
              "      const blob = new Blob(buffers, {type: 'application/binary'});\n",
              "      const a = document.createElement('a');\n",
              "      a.href = window.URL.createObjectURL(blob);\n",
              "      a.download = filename;\n",
              "      div.appendChild(a);\n",
              "      a.click();\n",
              "      div.remove();\n",
              "    }\n",
              "  "
            ],
            "text/plain": [
              "<IPython.core.display.Javascript object>"
            ]
          },
          "metadata": {
            "tags": []
          }
        },
        {
          "output_type": "display_data",
          "data": {
            "application/javascript": [
              "download(\"download_7a8a6805-4aca-4d61-a5bb-be34957e6320\", \"dfKaggle.csv\", 28813)"
            ],
            "text/plain": [
              "<IPython.core.display.Javascript object>"
            ]
          },
          "metadata": {
            "tags": []
          }
        }
      ]
    },
    {
      "cell_type": "code",
      "metadata": {
        "colab": {
          "base_uri": "https://localhost:8080/",
          "height": 295
        },
        "id": "bh_v60WMwuLu",
        "outputId": "c007afec-cdd7-40d6-c0eb-2ca2866fa224"
      },
      "source": [
        "modelo.featureImportancia( X_train)"
      ],
      "execution_count": 23,
      "outputs": [
        {
          "output_type": "display_data",
          "data": {
            "image/png": "[encoded data removed]",
            "text/plain": [
              "<Figure size 432x288 with 1 Axes>"
            ]
          },
          "metadata": {
            "tags": [],
            "needs_background": "light"
          }
        }
      ]
    },
    {
      "cell_type": "code",
      "metadata": {
        "id": "Snm7Ff8M0n4_"
      },
      "source": [
        ""
      ],
      "execution_count": 23,
      "outputs": []
    },
    {
      "cell_type": "code",
      "metadata": {
        "id": "u0n7sy4d0n9Y"
      },
      "source": [
        ""
      ],
      "execution_count": 23,
      "outputs": []
    },
    {
      "cell_type": "code",
      "metadata": {
        "id": "NoTbuKxs1Fbj"
      },
      "source": [
        ""
      ],
      "execution_count": 23,
      "outputs": []
    },
    {
      "cell_type": "code",
      "metadata": {
        "id": "2bpQRln_1Ffd"
      },
      "source": [
        ""
      ],
      "execution_count": 23,
      "outputs": []
    },
    {
      "cell_type": "code",
      "metadata": {
        "id": "xHDpSI0X0oBS"
      },
      "source": [
        ""
      ],
      "execution_count": 45,
      "outputs": []
    },
    {
      "cell_type": "code",
      "metadata": {
        "id": "nUDQ7_lJvbrh",
        "colab": {
          "base_uri": "https://localhost:8080/",
          "height": 206
        },
        "outputId": "541914c0-68ee-4844-85ce-10e76914dff5"
      },
      "source": [
        "dfentrenami=entrenamiento[['Opportunity_ID','Territory','Stage']]\n",
        "dfentrenami.head(5)"
      ],
      "execution_count": 66,
      "outputs": [
        {
          "output_type": "execute_result",
          "data": {
            "text/html": [
              "<div>\n",
              "<style scoped>\n",
              "    .dataframe tbody tr th:only-of-type {\n",
              "        vertical-align: middle;\n",
              "    }\n",
              "\n",
              "    .dataframe tbody tr th {\n",
              "        vertical-align: top;\n",
              "    }\n",
              "\n",
              "    .dataframe thead th {\n",
              "        text-align: right;\n",
              "    }\n",
              "</style>\n",
              "<table border=\"1\" class=\"dataframe\">\n",
              "  <thead>\n",
              "    <tr style=\"text-align: right;\">\n",
              "      <th></th>\n",
              "      <th>Opportunity_ID</th>\n",
              "      <th>Territory</th>\n",
              "      <th>Stage</th>\n",
              "    </tr>\n",
              "  </thead>\n",
              "  <tbody>\n",
              "    <tr>\n",
              "      <th>0</th>\n",
              "      <td>0</td>\n",
              "      <td>None</td>\n",
              "      <td>Closed Lost</td>\n",
              "    </tr>\n",
              "    <tr>\n",
              "      <th>1</th>\n",
              "      <td>1</td>\n",
              "      <td>None</td>\n",
              "      <td>Closed Won</td>\n",
              "    </tr>\n",
              "    <tr>\n",
              "      <th>2</th>\n",
              "      <td>2</td>\n",
              "      <td>NW America</td>\n",
              "      <td>Closed Won</td>\n",
              "    </tr>\n",
              "    <tr>\n",
              "      <th>3</th>\n",
              "      <td>3</td>\n",
              "      <td>NW America</td>\n",
              "      <td>Closed Lost</td>\n",
              "    </tr>\n",
              "    <tr>\n",
              "      <th>4</th>\n",
              "      <td>4</td>\n",
              "      <td>NW America</td>\n",
              "      <td>Closed Lost</td>\n",
              "    </tr>\n",
              "  </tbody>\n",
              "</table>\n",
              "</div>"
            ],
            "text/plain": [
              "   Opportunity_ID   Territory        Stage\n",
              "0               0        None  Closed Lost\n",
              "1               1        None   Closed Won\n",
              "2               2  NW America   Closed Won\n",
              "3               3  NW America  Closed Lost\n",
              "4               4  NW America  Closed Lost"
            ]
          },
          "metadata": {
            "tags": []
          },
          "execution_count": 66
        }
      ]
    },
    {
      "cell_type": "code",
      "metadata": {
        "id": "PX3lku59v2Xf",
        "colab": {
          "base_uri": "https://localhost:8080/",
          "height": 423
        },
        "outputId": "156ef1f9-e642-40a3-d3bd-463878c53c01"
      },
      "source": [
        "df = dfentrenami.replace('Closed Won', '1')\n",
        "df = df.replace('Closed Lost', '0')\n",
        "df"
      ],
      "execution_count": 67,
      "outputs": [
        {
          "output_type": "execute_result",
          "data": {
            "text/html": [
              "<div>\n",
              "<style scoped>\n",
              "    .dataframe tbody tr th:only-of-type {\n",
              "        vertical-align: middle;\n",
              "    }\n",
              "\n",
              "    .dataframe tbody tr th {\n",
              "        vertical-align: top;\n",
              "    }\n",
              "\n",
              "    .dataframe thead th {\n",
              "        text-align: right;\n",
              "    }\n",
              "</style>\n",
              "<table border=\"1\" class=\"dataframe\">\n",
              "  <thead>\n",
              "    <tr style=\"text-align: right;\">\n",
              "      <th></th>\n",
              "      <th>Opportunity_ID</th>\n",
              "      <th>Territory</th>\n",
              "      <th>Stage</th>\n",
              "    </tr>\n",
              "  </thead>\n",
              "  <tbody>\n",
              "    <tr>\n",
              "      <th>0</th>\n",
              "      <td>0</td>\n",
              "      <td>None</td>\n",
              "      <td>0</td>\n",
              "    </tr>\n",
              "    <tr>\n",
              "      <th>1</th>\n",
              "      <td>1</td>\n",
              "      <td>None</td>\n",
              "      <td>1</td>\n",
              "    </tr>\n",
              "    <tr>\n",
              "      <th>2</th>\n",
              "      <td>2</td>\n",
              "      <td>NW America</td>\n",
              "      <td>1</td>\n",
              "    </tr>\n",
              "    <tr>\n",
              "      <th>3</th>\n",
              "      <td>3</td>\n",
              "      <td>NW America</td>\n",
              "      <td>0</td>\n",
              "    </tr>\n",
              "    <tr>\n",
              "      <th>4</th>\n",
              "      <td>4</td>\n",
              "      <td>NW America</td>\n",
              "      <td>0</td>\n",
              "    </tr>\n",
              "    <tr>\n",
              "      <th>...</th>\n",
              "      <td>...</td>\n",
              "      <td>...</td>\n",
              "      <td>...</td>\n",
              "    </tr>\n",
              "    <tr>\n",
              "      <th>16942</th>\n",
              "      <td>12801</td>\n",
              "      <td>Austria</td>\n",
              "      <td>1</td>\n",
              "    </tr>\n",
              "    <tr>\n",
              "      <th>16943</th>\n",
              "      <td>12801</td>\n",
              "      <td>Austria</td>\n",
              "      <td>1</td>\n",
              "    </tr>\n",
              "    <tr>\n",
              "      <th>16944</th>\n",
              "      <td>12801</td>\n",
              "      <td>Austria</td>\n",
              "      <td>1</td>\n",
              "    </tr>\n",
              "    <tr>\n",
              "      <th>16945</th>\n",
              "      <td>12802</td>\n",
              "      <td>NE America</td>\n",
              "      <td>0</td>\n",
              "    </tr>\n",
              "    <tr>\n",
              "      <th>16946</th>\n",
              "      <td>12803</td>\n",
              "      <td>NE America</td>\n",
              "      <td>0</td>\n",
              "    </tr>\n",
              "  </tbody>\n",
              "</table>\n",
              "<p>16947 rows × 3 columns</p>\n",
              "</div>"
            ],
            "text/plain": [
              "       Opportunity_ID   Territory Stage\n",
              "0                   0        None     0\n",
              "1                   1        None     1\n",
              "2                   2  NW America     1\n",
              "3                   3  NW America     0\n",
              "4                   4  NW America     0\n",
              "...               ...         ...   ...\n",
              "16942           12801     Austria     1\n",
              "16943           12801     Austria     1\n",
              "16944           12801     Austria     1\n",
              "16945           12802  NE America     0\n",
              "16946           12803  NE America     0\n",
              "\n",
              "[16947 rows x 3 columns]"
            ]
          },
          "metadata": {
            "tags": []
          },
          "execution_count": 67
        }
      ]
    },
    {
      "cell_type": "code",
      "metadata": {
        "id": "QQtsbErn7HJx",
        "outputId": "96bb4b2f-33bd-48e5-c488-47385c16a83b",
        "colab": {
          "base_uri": "https://localhost:8080/"
        }
      },
      "source": [
        "df = df[df['Stage'].isin(['0','1'])]\r\n",
        "df.Stage = df.Stage.astype(int)\r\n",
        "df = df.groupby(['Territory','Opportunity_ID']).agg({'Stage':['sum','count']})\r\n",
        "df = df.reset_index()\r\n",
        "df1 = df\r\n",
        "df1.columns = ['Territory','Opportunity_ID','Stage_sum','Stage_count']\r\n",
        "df1['Stage_sum'] = df1['Stage_sum'].apply(lambda x: 0 if x == 0 else 1)\r\n",
        "df2 = df1.groupby(['Territory']).agg(meanEncodingTerritory = ('Stage_sum','mean'))\r\n",
        "df2 = df2.reset_index()\r\n",
        "agruparOportunity=entrenamiento.groupby(['Opportunity_ID','Territory']).agg(cant=('Territory','count')).reset_index()\r\n",
        "result=pd.merge(agruparOportunity,df2,on='Territory',how='inner')\r\n",
        "result.head()\r\n",
        "del result['cant']\r\n",
        " \r\n",
        "\r\n"
      ],
      "execution_count": 68,
      "outputs": [
        {
          "output_type": "stream",
          "text": [
            "/usr/local/lib/python3.6/dist-packages/pandas/core/generic.py:5170: SettingWithCopyWarning: \n",
            "A value is trying to be set on a copy of a slice from a DataFrame.\n",
            "Try using .loc[row_indexer,col_indexer] = value instead\n",
            "\n",
            "See the caveats in the documentation: https://pandas.pydata.org/pandas-docs/stable/user_guide/indexing.html#returning-a-view-versus-a-copy\n",
            "  self[name] = value\n"
          ],
          "name": "stderr"
        }
      ]
    },
    {
      "cell_type": "code",
      "metadata": {
        "id": "uYG5VB3P7eyj",
        "outputId": "e5b411d1-df83-4c28-9db3-599aaddad827",
        "colab": {
          "base_uri": "https://localhost:8080/",
          "height": 423
        }
      },
      "source": [
        "result"
      ],
      "execution_count": 69,
      "outputs": [
        {
          "output_type": "execute_result",
          "data": {
            "text/html": [
              "<div>\n",
              "<style scoped>\n",
              "    .dataframe tbody tr th:only-of-type {\n",
              "        vertical-align: middle;\n",
              "    }\n",
              "\n",
              "    .dataframe tbody tr th {\n",
              "        vertical-align: top;\n",
              "    }\n",
              "\n",
              "    .dataframe thead th {\n",
              "        text-align: right;\n",
              "    }\n",
              "</style>\n",
              "<table border=\"1\" class=\"dataframe\">\n",
              "  <thead>\n",
              "    <tr style=\"text-align: right;\">\n",
              "      <th></th>\n",
              "      <th>Opportunity_ID</th>\n",
              "      <th>Territory</th>\n",
              "      <th>meanEncodingTerritory</th>\n",
              "    </tr>\n",
              "  </thead>\n",
              "  <tbody>\n",
              "    <tr>\n",
              "      <th>0</th>\n",
              "      <td>0</td>\n",
              "      <td>None</td>\n",
              "      <td>0.535927</td>\n",
              "    </tr>\n",
              "    <tr>\n",
              "      <th>1</th>\n",
              "      <td>1</td>\n",
              "      <td>None</td>\n",
              "      <td>0.535927</td>\n",
              "    </tr>\n",
              "    <tr>\n",
              "      <th>2</th>\n",
              "      <td>8</td>\n",
              "      <td>None</td>\n",
              "      <td>0.535927</td>\n",
              "    </tr>\n",
              "    <tr>\n",
              "      <th>3</th>\n",
              "      <td>9</td>\n",
              "      <td>None</td>\n",
              "      <td>0.535927</td>\n",
              "    </tr>\n",
              "    <tr>\n",
              "      <th>4</th>\n",
              "      <td>10</td>\n",
              "      <td>None</td>\n",
              "      <td>0.535927</td>\n",
              "    </tr>\n",
              "    <tr>\n",
              "      <th>...</th>\n",
              "      <td>...</td>\n",
              "      <td>...</td>\n",
              "      <td>...</td>\n",
              "    </tr>\n",
              "    <tr>\n",
              "      <th>9834</th>\n",
              "      <td>10218</td>\n",
              "      <td>Oman</td>\n",
              "      <td>0.000000</td>\n",
              "    </tr>\n",
              "    <tr>\n",
              "      <th>9835</th>\n",
              "      <td>10419</td>\n",
              "      <td>Oman</td>\n",
              "      <td>0.000000</td>\n",
              "    </tr>\n",
              "    <tr>\n",
              "      <th>9836</th>\n",
              "      <td>7447</td>\n",
              "      <td>Burma</td>\n",
              "      <td>0.000000</td>\n",
              "    </tr>\n",
              "    <tr>\n",
              "      <th>9837</th>\n",
              "      <td>8677</td>\n",
              "      <td>Slovenia</td>\n",
              "      <td>1.000000</td>\n",
              "    </tr>\n",
              "    <tr>\n",
              "      <th>9838</th>\n",
              "      <td>12391</td>\n",
              "      <td>Egypt</td>\n",
              "      <td>0.000000</td>\n",
              "    </tr>\n",
              "  </tbody>\n",
              "</table>\n",
              "<p>9839 rows × 3 columns</p>\n",
              "</div>"
            ],
            "text/plain": [
              "      Opportunity_ID Territory  meanEncodingTerritory\n",
              "0                  0      None               0.535927\n",
              "1                  1      None               0.535927\n",
              "2                  8      None               0.535927\n",
              "3                  9      None               0.535927\n",
              "4                 10      None               0.535927\n",
              "...              ...       ...                    ...\n",
              "9834           10218      Oman               0.000000\n",
              "9835           10419      Oman               0.000000\n",
              "9836            7447     Burma               0.000000\n",
              "9837            8677  Slovenia               1.000000\n",
              "9838           12391     Egypt               0.000000\n",
              "\n",
              "[9839 rows x 3 columns]"
            ]
          },
          "metadata": {
            "tags": []
          },
          "execution_count": 69
        }
      ]
    },
    {
      "cell_type": "code",
      "metadata": {
        "id": "gzw2lkm88uOp"
      },
      "source": [
        "del result['Opportunity_ID']"
      ],
      "execution_count": null,
      "outputs": []
    },
    {
      "cell_type": "code",
      "metadata": {
        "id": "rkpLeCVuwcMV",
        "colab": {
          "base_uri": "https://localhost:8080/",
          "height": 423
        },
        "outputId": "59b6256f-149c-4661-e089-13a3fd6d7e22"
      },
      "source": [
        "df = df[df['Stage'].isin(['0','1'])]\n",
        "df"
      ],
      "execution_count": 50,
      "outputs": [
        {
          "output_type": "execute_result",
          "data": {
            "text/html": [
              "<div>\n",
              "<style scoped>\n",
              "    .dataframe tbody tr th:only-of-type {\n",
              "        vertical-align: middle;\n",
              "    }\n",
              "\n",
              "    .dataframe tbody tr th {\n",
              "        vertical-align: top;\n",
              "    }\n",
              "\n",
              "    .dataframe thead th {\n",
              "        text-align: right;\n",
              "    }\n",
              "</style>\n",
              "<table border=\"1\" class=\"dataframe\">\n",
              "  <thead>\n",
              "    <tr style=\"text-align: right;\">\n",
              "      <th></th>\n",
              "      <th>Opportunity_ID</th>\n",
              "      <th>Territory</th>\n",
              "      <th>Stage</th>\n",
              "    </tr>\n",
              "  </thead>\n",
              "  <tbody>\n",
              "    <tr>\n",
              "      <th>0</th>\n",
              "      <td>0</td>\n",
              "      <td>None</td>\n",
              "      <td>0</td>\n",
              "    </tr>\n",
              "    <tr>\n",
              "      <th>1</th>\n",
              "      <td>1</td>\n",
              "      <td>None</td>\n",
              "      <td>1</td>\n",
              "    </tr>\n",
              "    <tr>\n",
              "      <th>2</th>\n",
              "      <td>2</td>\n",
              "      <td>NW America</td>\n",
              "      <td>1</td>\n",
              "    </tr>\n",
              "    <tr>\n",
              "      <th>3</th>\n",
              "      <td>3</td>\n",
              "      <td>NW America</td>\n",
              "      <td>0</td>\n",
              "    </tr>\n",
              "    <tr>\n",
              "      <th>4</th>\n",
              "      <td>4</td>\n",
              "      <td>NW America</td>\n",
              "      <td>0</td>\n",
              "    </tr>\n",
              "    <tr>\n",
              "      <th>...</th>\n",
              "      <td>...</td>\n",
              "      <td>...</td>\n",
              "      <td>...</td>\n",
              "    </tr>\n",
              "    <tr>\n",
              "      <th>16942</th>\n",
              "      <td>12801</td>\n",
              "      <td>Austria</td>\n",
              "      <td>1</td>\n",
              "    </tr>\n",
              "    <tr>\n",
              "      <th>16943</th>\n",
              "      <td>12801</td>\n",
              "      <td>Austria</td>\n",
              "      <td>1</td>\n",
              "    </tr>\n",
              "    <tr>\n",
              "      <th>16944</th>\n",
              "      <td>12801</td>\n",
              "      <td>Austria</td>\n",
              "      <td>1</td>\n",
              "    </tr>\n",
              "    <tr>\n",
              "      <th>16945</th>\n",
              "      <td>12802</td>\n",
              "      <td>NE America</td>\n",
              "      <td>0</td>\n",
              "    </tr>\n",
              "    <tr>\n",
              "      <th>16946</th>\n",
              "      <td>12803</td>\n",
              "      <td>NE America</td>\n",
              "      <td>0</td>\n",
              "    </tr>\n",
              "  </tbody>\n",
              "</table>\n",
              "<p>16883 rows × 3 columns</p>\n",
              "</div>"
            ],
            "text/plain": [
              "       Opportunity_ID   Territory Stage\n",
              "0                   0        None     0\n",
              "1                   1        None     1\n",
              "2                   2  NW America     1\n",
              "3                   3  NW America     0\n",
              "4                   4  NW America     0\n",
              "...               ...         ...   ...\n",
              "16942           12801     Austria     1\n",
              "16943           12801     Austria     1\n",
              "16944           12801     Austria     1\n",
              "16945           12802  NE America     0\n",
              "16946           12803  NE America     0\n",
              "\n",
              "[16883 rows x 3 columns]"
            ]
          },
          "metadata": {
            "tags": []
          },
          "execution_count": 50
        }
      ]
    },
    {
      "cell_type": "code",
      "metadata": {
        "id": "D__-Xyb6zIAs",
        "colab": {
          "base_uri": "https://localhost:8080/"
        },
        "outputId": "da2778d6-8e4e-46b9-c49a-a7616765daf6"
      },
      "source": [
        "df.Stage = df.Stage.astype(int)"
      ],
      "execution_count": 51,
      "outputs": [
        {
          "output_type": "stream",
          "text": [
            "/usr/local/lib/python3.6/dist-packages/pandas/core/generic.py:5170: SettingWithCopyWarning: \n",
            "A value is trying to be set on a copy of a slice from a DataFrame.\n",
            "Try using .loc[row_indexer,col_indexer] = value instead\n",
            "\n",
            "See the caveats in the documentation: https://pandas.pydata.org/pandas-docs/stable/user_guide/indexing.html#returning-a-view-versus-a-copy\n",
            "  self[name] = value\n"
          ],
          "name": "stderr"
        }
      ]
    },
    {
      "cell_type": "code",
      "metadata": {
        "id": "7RHb-ujjxJuh",
        "colab": {
          "base_uri": "https://localhost:8080/",
          "height": 455
        },
        "outputId": "eac1b5a1-432b-4da3-e707-75fb5bd66e62"
      },
      "source": [
        "df = df.groupby(['Territory','Opportunity_ID']).agg({'Stage':['sum','count']})\n",
        "df = df.reset_index()\n",
        "df"
      ],
      "execution_count": 52,
      "outputs": [
        {
          "output_type": "execute_result",
          "data": {
            "text/html": [
              "<div>\n",
              "<style scoped>\n",
              "    .dataframe tbody tr th:only-of-type {\n",
              "        vertical-align: middle;\n",
              "    }\n",
              "\n",
              "    .dataframe tbody tr th {\n",
              "        vertical-align: top;\n",
              "    }\n",
              "\n",
              "    .dataframe thead tr th {\n",
              "        text-align: left;\n",
              "    }\n",
              "</style>\n",
              "<table border=\"1\" class=\"dataframe\">\n",
              "  <thead>\n",
              "    <tr>\n",
              "      <th></th>\n",
              "      <th>Territory</th>\n",
              "      <th>Opportunity_ID</th>\n",
              "      <th colspan=\"2\" halign=\"left\">Stage</th>\n",
              "    </tr>\n",
              "    <tr>\n",
              "      <th></th>\n",
              "      <th></th>\n",
              "      <th></th>\n",
              "      <th>sum</th>\n",
              "      <th>count</th>\n",
              "    </tr>\n",
              "  </thead>\n",
              "  <tbody>\n",
              "    <tr>\n",
              "      <th>0</th>\n",
              "      <td>Albania</td>\n",
              "      <td>6766</td>\n",
              "      <td>0</td>\n",
              "      <td>1</td>\n",
              "    </tr>\n",
              "    <tr>\n",
              "      <th>1</th>\n",
              "      <td>Albania</td>\n",
              "      <td>6848</td>\n",
              "      <td>0</td>\n",
              "      <td>1</td>\n",
              "    </tr>\n",
              "    <tr>\n",
              "      <th>2</th>\n",
              "      <td>Armenia</td>\n",
              "      <td>3323</td>\n",
              "      <td>0</td>\n",
              "      <td>2</td>\n",
              "    </tr>\n",
              "    <tr>\n",
              "      <th>3</th>\n",
              "      <td>Australia</td>\n",
              "      <td>271</td>\n",
              "      <td>1</td>\n",
              "      <td>1</td>\n",
              "    </tr>\n",
              "    <tr>\n",
              "      <th>4</th>\n",
              "      <td>Australia</td>\n",
              "      <td>272</td>\n",
              "      <td>1</td>\n",
              "      <td>1</td>\n",
              "    </tr>\n",
              "    <tr>\n",
              "      <th>...</th>\n",
              "      <td>...</td>\n",
              "      <td>...</td>\n",
              "      <td>...</td>\n",
              "      <td>...</td>\n",
              "    </tr>\n",
              "    <tr>\n",
              "      <th>9786</th>\n",
              "      <td>Vietnam</td>\n",
              "      <td>8728</td>\n",
              "      <td>0</td>\n",
              "      <td>1</td>\n",
              "    </tr>\n",
              "    <tr>\n",
              "      <th>9787</th>\n",
              "      <td>Vietnam</td>\n",
              "      <td>8867</td>\n",
              "      <td>2</td>\n",
              "      <td>2</td>\n",
              "    </tr>\n",
              "    <tr>\n",
              "      <th>9788</th>\n",
              "      <td>Vietnam</td>\n",
              "      <td>8972</td>\n",
              "      <td>3</td>\n",
              "      <td>3</td>\n",
              "    </tr>\n",
              "    <tr>\n",
              "      <th>9789</th>\n",
              "      <td>Vietnam</td>\n",
              "      <td>9026</td>\n",
              "      <td>1</td>\n",
              "      <td>1</td>\n",
              "    </tr>\n",
              "    <tr>\n",
              "      <th>9790</th>\n",
              "      <td>Vietnam</td>\n",
              "      <td>9869</td>\n",
              "      <td>1</td>\n",
              "      <td>1</td>\n",
              "    </tr>\n",
              "  </tbody>\n",
              "</table>\n",
              "<p>9791 rows × 4 columns</p>\n",
              "</div>"
            ],
            "text/plain": [
              "      Territory Opportunity_ID Stage      \n",
              "                                 sum count\n",
              "0       Albania           6766     0     1\n",
              "1       Albania           6848     0     1\n",
              "2       Armenia           3323     0     2\n",
              "3     Australia            271     1     1\n",
              "4     Australia            272     1     1\n",
              "...         ...            ...   ...   ...\n",
              "9786    Vietnam           8728     0     1\n",
              "9787    Vietnam           8867     2     2\n",
              "9788    Vietnam           8972     3     3\n",
              "9789    Vietnam           9026     1     1\n",
              "9790    Vietnam           9869     1     1\n",
              "\n",
              "[9791 rows x 4 columns]"
            ]
          },
          "metadata": {
            "tags": []
          },
          "execution_count": 52
        }
      ]
    },
    {
      "cell_type": "code",
      "metadata": {
        "id": "RYiN4p9n1MkY",
        "colab": {
          "base_uri": "https://localhost:8080/"
        },
        "outputId": "2acf6d99-fa3c-4650-aedc-4332f0204050"
      },
      "source": [
        "df1 = df\n",
        "df1.info()"
      ],
      "execution_count": 53,
      "outputs": [
        {
          "output_type": "stream",
          "text": [
            "<class 'pandas.core.frame.DataFrame'>\n",
            "RangeIndex: 9791 entries, 0 to 9790\n",
            "Data columns (total 4 columns):\n",
            " #   Column              Non-Null Count  Dtype \n",
            "---  ------              --------------  ----- \n",
            " 0   (Territory, )       9791 non-null   object\n",
            " 1   (Opportunity_ID, )  9791 non-null   int64 \n",
            " 2   (Stage, sum)        9791 non-null   int64 \n",
            " 3   (Stage, count)      9791 non-null   int64 \n",
            "dtypes: int64(3), object(1)\n",
            "memory usage: 306.1+ KB\n"
          ],
          "name": "stdout"
        }
      ]
    },
    {
      "cell_type": "code",
      "metadata": {
        "id": "9P0JbyOf2ZJ1",
        "colab": {
          "base_uri": "https://localhost:8080/",
          "height": 423
        },
        "outputId": "81ffa649-82fd-4ccb-ffa9-bb16cdeda5f4"
      },
      "source": [
        "df1.columns = ['Territory','Opportunity_ID','Stage_sum','Stage_count']\n",
        "df1"
      ],
      "execution_count": 54,
      "outputs": [
        {
          "output_type": "execute_result",
          "data": {
            "text/html": [
              "<div>\n",
              "<style scoped>\n",
              "    .dataframe tbody tr th:only-of-type {\n",
              "        vertical-align: middle;\n",
              "    }\n",
              "\n",
              "    .dataframe tbody tr th {\n",
              "        vertical-align: top;\n",
              "    }\n",
              "\n",
              "    .dataframe thead th {\n",
              "        text-align: right;\n",
              "    }\n",
              "</style>\n",
              "<table border=\"1\" class=\"dataframe\">\n",
              "  <thead>\n",
              "    <tr style=\"text-align: right;\">\n",
              "      <th></th>\n",
              "      <th>Territory</th>\n",
              "      <th>Opportunity_ID</th>\n",
              "      <th>Stage_sum</th>\n",
              "      <th>Stage_count</th>\n",
              "    </tr>\n",
              "  </thead>\n",
              "  <tbody>\n",
              "    <tr>\n",
              "      <th>0</th>\n",
              "      <td>Albania</td>\n",
              "      <td>6766</td>\n",
              "      <td>0</td>\n",
              "      <td>1</td>\n",
              "    </tr>\n",
              "    <tr>\n",
              "      <th>1</th>\n",
              "      <td>Albania</td>\n",
              "      <td>6848</td>\n",
              "      <td>0</td>\n",
              "      <td>1</td>\n",
              "    </tr>\n",
              "    <tr>\n",
              "      <th>2</th>\n",
              "      <td>Armenia</td>\n",
              "      <td>3323</td>\n",
              "      <td>0</td>\n",
              "      <td>2</td>\n",
              "    </tr>\n",
              "    <tr>\n",
              "      <th>3</th>\n",
              "      <td>Australia</td>\n",
              "      <td>271</td>\n",
              "      <td>1</td>\n",
              "      <td>1</td>\n",
              "    </tr>\n",
              "    <tr>\n",
              "      <th>4</th>\n",
              "      <td>Australia</td>\n",
              "      <td>272</td>\n",
              "      <td>1</td>\n",
              "      <td>1</td>\n",
              "    </tr>\n",
              "    <tr>\n",
              "      <th>...</th>\n",
              "      <td>...</td>\n",
              "      <td>...</td>\n",
              "      <td>...</td>\n",
              "      <td>...</td>\n",
              "    </tr>\n",
              "    <tr>\n",
              "      <th>9786</th>\n",
              "      <td>Vietnam</td>\n",
              "      <td>8728</td>\n",
              "      <td>0</td>\n",
              "      <td>1</td>\n",
              "    </tr>\n",
              "    <tr>\n",
              "      <th>9787</th>\n",
              "      <td>Vietnam</td>\n",
              "      <td>8867</td>\n",
              "      <td>2</td>\n",
              "      <td>2</td>\n",
              "    </tr>\n",
              "    <tr>\n",
              "      <th>9788</th>\n",
              "      <td>Vietnam</td>\n",
              "      <td>8972</td>\n",
              "      <td>3</td>\n",
              "      <td>3</td>\n",
              "    </tr>\n",
              "    <tr>\n",
              "      <th>9789</th>\n",
              "      <td>Vietnam</td>\n",
              "      <td>9026</td>\n",
              "      <td>1</td>\n",
              "      <td>1</td>\n",
              "    </tr>\n",
              "    <tr>\n",
              "      <th>9790</th>\n",
              "      <td>Vietnam</td>\n",
              "      <td>9869</td>\n",
              "      <td>1</td>\n",
              "      <td>1</td>\n",
              "    </tr>\n",
              "  </tbody>\n",
              "</table>\n",
              "<p>9791 rows × 4 columns</p>\n",
              "</div>"
            ],
            "text/plain": [
              "      Territory  Opportunity_ID  Stage_sum  Stage_count\n",
              "0       Albania            6766          0            1\n",
              "1       Albania            6848          0            1\n",
              "2       Armenia            3323          0            2\n",
              "3     Australia             271          1            1\n",
              "4     Australia             272          1            1\n",
              "...         ...             ...        ...          ...\n",
              "9786    Vietnam            8728          0            1\n",
              "9787    Vietnam            8867          2            2\n",
              "9788    Vietnam            8972          3            3\n",
              "9789    Vietnam            9026          1            1\n",
              "9790    Vietnam            9869          1            1\n",
              "\n",
              "[9791 rows x 4 columns]"
            ]
          },
          "metadata": {
            "tags": []
          },
          "execution_count": 54
        }
      ]
    },
    {
      "cell_type": "code",
      "metadata": {
        "id": "0xABO3Qr1Pr7",
        "colab": {
          "base_uri": "https://localhost:8080/",
          "height": 423
        },
        "outputId": "b28e3d50-bdea-449b-cada-2b7fee0dea57"
      },
      "source": [
        "df1['Stage_sum'] = df1['Stage_sum'].apply(lambda x: 0 if x == 0 else 1)\n",
        "df1"
      ],
      "execution_count": 55,
      "outputs": [
        {
          "output_type": "execute_result",
          "data": {
            "text/html": [
              "<div>\n",
              "<style scoped>\n",
              "    .dataframe tbody tr th:only-of-type {\n",
              "        vertical-align: middle;\n",
              "    }\n",
              "\n",
              "    .dataframe tbody tr th {\n",
              "        vertical-align: top;\n",
              "    }\n",
              "\n",
              "    .dataframe thead th {\n",
              "        text-align: right;\n",
              "    }\n",
              "</style>\n",
              "<table border=\"1\" class=\"dataframe\">\n",
              "  <thead>\n",
              "    <tr style=\"text-align: right;\">\n",
              "      <th></th>\n",
              "      <th>Territory</th>\n",
              "      <th>Opportunity_ID</th>\n",
              "      <th>Stage_sum</th>\n",
              "      <th>Stage_count</th>\n",
              "    </tr>\n",
              "  </thead>\n",
              "  <tbody>\n",
              "    <tr>\n",
              "      <th>0</th>\n",
              "      <td>Albania</td>\n",
              "      <td>6766</td>\n",
              "      <td>0</td>\n",
              "      <td>1</td>\n",
              "    </tr>\n",
              "    <tr>\n",
              "      <th>1</th>\n",
              "      <td>Albania</td>\n",
              "      <td>6848</td>\n",
              "      <td>0</td>\n",
              "      <td>1</td>\n",
              "    </tr>\n",
              "    <tr>\n",
              "      <th>2</th>\n",
              "      <td>Armenia</td>\n",
              "      <td>3323</td>\n",
              "      <td>0</td>\n",
              "      <td>2</td>\n",
              "    </tr>\n",
              "    <tr>\n",
              "      <th>3</th>\n",
              "      <td>Australia</td>\n",
              "      <td>271</td>\n",
              "      <td>1</td>\n",
              "      <td>1</td>\n",
              "    </tr>\n",
              "    <tr>\n",
              "      <th>4</th>\n",
              "      <td>Australia</td>\n",
              "      <td>272</td>\n",
              "      <td>1</td>\n",
              "      <td>1</td>\n",
              "    </tr>\n",
              "    <tr>\n",
              "      <th>...</th>\n",
              "      <td>...</td>\n",
              "      <td>...</td>\n",
              "      <td>...</td>\n",
              "      <td>...</td>\n",
              "    </tr>\n",
              "    <tr>\n",
              "      <th>9786</th>\n",
              "      <td>Vietnam</td>\n",
              "      <td>8728</td>\n",
              "      <td>0</td>\n",
              "      <td>1</td>\n",
              "    </tr>\n",
              "    <tr>\n",
              "      <th>9787</th>\n",
              "      <td>Vietnam</td>\n",
              "      <td>8867</td>\n",
              "      <td>1</td>\n",
              "      <td>2</td>\n",
              "    </tr>\n",
              "    <tr>\n",
              "      <th>9788</th>\n",
              "      <td>Vietnam</td>\n",
              "      <td>8972</td>\n",
              "      <td>1</td>\n",
              "      <td>3</td>\n",
              "    </tr>\n",
              "    <tr>\n",
              "      <th>9789</th>\n",
              "      <td>Vietnam</td>\n",
              "      <td>9026</td>\n",
              "      <td>1</td>\n",
              "      <td>1</td>\n",
              "    </tr>\n",
              "    <tr>\n",
              "      <th>9790</th>\n",
              "      <td>Vietnam</td>\n",
              "      <td>9869</td>\n",
              "      <td>1</td>\n",
              "      <td>1</td>\n",
              "    </tr>\n",
              "  </tbody>\n",
              "</table>\n",
              "<p>9791 rows × 4 columns</p>\n",
              "</div>"
            ],
            "text/plain": [
              "      Territory  Opportunity_ID  Stage_sum  Stage_count\n",
              "0       Albania            6766          0            1\n",
              "1       Albania            6848          0            1\n",
              "2       Armenia            3323          0            2\n",
              "3     Australia             271          1            1\n",
              "4     Australia             272          1            1\n",
              "...         ...             ...        ...          ...\n",
              "9786    Vietnam            8728          0            1\n",
              "9787    Vietnam            8867          1            2\n",
              "9788    Vietnam            8972          1            3\n",
              "9789    Vietnam            9026          1            1\n",
              "9790    Vietnam            9869          1            1\n",
              "\n",
              "[9791 rows x 4 columns]"
            ]
          },
          "metadata": {
            "tags": []
          },
          "execution_count": 55
        }
      ]
    },
    {
      "cell_type": "code",
      "metadata": {
        "id": "NG1GR3Gh21yL",
        "colab": {
          "base_uri": "https://localhost:8080/",
          "height": 423
        },
        "outputId": "73c88793-f3ac-4fc0-de30-881dd8da6dad"
      },
      "source": [
        "df2 = df1.groupby(['Territory']).agg(meanEncodingTerritory = ('Stage_sum','mean'))\n",
        "df2 = df2.reset_index()\n",
        "df2"
      ],
      "execution_count": 56,
      "outputs": [
        {
          "output_type": "execute_result",
          "data": {
            "text/html": [
              "<div>\n",
              "<style scoped>\n",
              "    .dataframe tbody tr th:only-of-type {\n",
              "        vertical-align: middle;\n",
              "    }\n",
              "\n",
              "    .dataframe tbody tr th {\n",
              "        vertical-align: top;\n",
              "    }\n",
              "\n",
              "    .dataframe thead th {\n",
              "        text-align: right;\n",
              "    }\n",
              "</style>\n",
              "<table border=\"1\" class=\"dataframe\">\n",
              "  <thead>\n",
              "    <tr style=\"text-align: right;\">\n",
              "      <th></th>\n",
              "      <th>Territory</th>\n",
              "      <th>meanEncodingTerritory</th>\n",
              "    </tr>\n",
              "  </thead>\n",
              "  <tbody>\n",
              "    <tr>\n",
              "      <th>0</th>\n",
              "      <td>Albania</td>\n",
              "      <td>0.000000</td>\n",
              "    </tr>\n",
              "    <tr>\n",
              "      <th>1</th>\n",
              "      <td>Armenia</td>\n",
              "      <td>0.000000</td>\n",
              "    </tr>\n",
              "    <tr>\n",
              "      <th>2</th>\n",
              "      <td>Australia</td>\n",
              "      <td>0.663778</td>\n",
              "    </tr>\n",
              "    <tr>\n",
              "      <th>3</th>\n",
              "      <td>Austria</td>\n",
              "      <td>0.805556</td>\n",
              "    </tr>\n",
              "    <tr>\n",
              "      <th>4</th>\n",
              "      <td>Belarus</td>\n",
              "      <td>0.000000</td>\n",
              "    </tr>\n",
              "    <tr>\n",
              "      <th>...</th>\n",
              "      <td>...</td>\n",
              "      <td>...</td>\n",
              "    </tr>\n",
              "    <tr>\n",
              "      <th>70</th>\n",
              "      <td>UAE (Dubai)</td>\n",
              "      <td>0.071429</td>\n",
              "    </tr>\n",
              "    <tr>\n",
              "      <th>71</th>\n",
              "      <td>UAE (Others)</td>\n",
              "      <td>1.000000</td>\n",
              "    </tr>\n",
              "    <tr>\n",
              "      <th>72</th>\n",
              "      <td>Ukraine</td>\n",
              "      <td>0.000000</td>\n",
              "    </tr>\n",
              "    <tr>\n",
              "      <th>73</th>\n",
              "      <td>United Kingdom</td>\n",
              "      <td>0.390351</td>\n",
              "    </tr>\n",
              "    <tr>\n",
              "      <th>74</th>\n",
              "      <td>Vietnam</td>\n",
              "      <td>0.365854</td>\n",
              "    </tr>\n",
              "  </tbody>\n",
              "</table>\n",
              "<p>75 rows × 2 columns</p>\n",
              "</div>"
            ],
            "text/plain": [
              "         Territory  meanEncodingTerritory\n",
              "0          Albania               0.000000\n",
              "1          Armenia               0.000000\n",
              "2        Australia               0.663778\n",
              "3          Austria               0.805556\n",
              "4          Belarus               0.000000\n",
              "..             ...                    ...\n",
              "70     UAE (Dubai)               0.071429\n",
              "71    UAE (Others)               1.000000\n",
              "72         Ukraine               0.000000\n",
              "73  United Kingdom               0.390351\n",
              "74         Vietnam               0.365854\n",
              "\n",
              "[75 rows x 2 columns]"
            ]
          },
          "metadata": {
            "tags": []
          },
          "execution_count": 56
        }
      ]
    },
    {
      "cell_type": "code",
      "metadata": {
        "id": "0pZEtbtW5aNL"
      },
      "source": [
        "agruparOportunity=entrenamiento.groupby(['Opportunity_ID','Territory']).agg(cant=('Territory','count')).reset_index()\r\n",
        "result=pd.merge(agruparOportunity,df2,on='Territory',how='inner')\r\n",
        "result.head()\r\n",
        "del result['cant']\r\n",
        "del result['Territory']"
      ],
      "execution_count": 59,
      "outputs": []
    },
    {
      "cell_type": "code",
      "metadata": {
        "id": "fLu2dSf46hoX",
        "outputId": "7c5250fe-5b7e-4ab2-ad5d-cf32ca4b1555",
        "colab": {
          "base_uri": "https://localhost:8080/",
          "height": 423
        }
      },
      "source": [
        "result"
      ],
      "execution_count": 60,
      "outputs": [
        {
          "output_type": "execute_result",
          "data": {
            "text/html": [
              "<div>\n",
              "<style scoped>\n",
              "    .dataframe tbody tr th:only-of-type {\n",
              "        vertical-align: middle;\n",
              "    }\n",
              "\n",
              "    .dataframe tbody tr th {\n",
              "        vertical-align: top;\n",
              "    }\n",
              "\n",
              "    .dataframe thead th {\n",
              "        text-align: right;\n",
              "    }\n",
              "</style>\n",
              "<table border=\"1\" class=\"dataframe\">\n",
              "  <thead>\n",
              "    <tr style=\"text-align: right;\">\n",
              "      <th></th>\n",
              "      <th>Opportunity_ID</th>\n",
              "      <th>meanEncodingTerritory</th>\n",
              "    </tr>\n",
              "  </thead>\n",
              "  <tbody>\n",
              "    <tr>\n",
              "      <th>0</th>\n",
              "      <td>0</td>\n",
              "      <td>0.535927</td>\n",
              "    </tr>\n",
              "    <tr>\n",
              "      <th>1</th>\n",
              "      <td>1</td>\n",
              "      <td>0.535927</td>\n",
              "    </tr>\n",
              "    <tr>\n",
              "      <th>2</th>\n",
              "      <td>8</td>\n",
              "      <td>0.535927</td>\n",
              "    </tr>\n",
              "    <tr>\n",
              "      <th>3</th>\n",
              "      <td>9</td>\n",
              "      <td>0.535927</td>\n",
              "    </tr>\n",
              "    <tr>\n",
              "      <th>4</th>\n",
              "      <td>10</td>\n",
              "      <td>0.535927</td>\n",
              "    </tr>\n",
              "    <tr>\n",
              "      <th>...</th>\n",
              "      <td>...</td>\n",
              "      <td>...</td>\n",
              "    </tr>\n",
              "    <tr>\n",
              "      <th>9834</th>\n",
              "      <td>10218</td>\n",
              "      <td>0.000000</td>\n",
              "    </tr>\n",
              "    <tr>\n",
              "      <th>9835</th>\n",
              "      <td>10419</td>\n",
              "      <td>0.000000</td>\n",
              "    </tr>\n",
              "    <tr>\n",
              "      <th>9836</th>\n",
              "      <td>7447</td>\n",
              "      <td>0.000000</td>\n",
              "    </tr>\n",
              "    <tr>\n",
              "      <th>9837</th>\n",
              "      <td>8677</td>\n",
              "      <td>1.000000</td>\n",
              "    </tr>\n",
              "    <tr>\n",
              "      <th>9838</th>\n",
              "      <td>12391</td>\n",
              "      <td>0.000000</td>\n",
              "    </tr>\n",
              "  </tbody>\n",
              "</table>\n",
              "<p>9839 rows × 2 columns</p>\n",
              "</div>"
            ],
            "text/plain": [
              "      Opportunity_ID  meanEncodingTerritory\n",
              "0                  0               0.535927\n",
              "1                  1               0.535927\n",
              "2                  8               0.535927\n",
              "3                  9               0.535927\n",
              "4                 10               0.535927\n",
              "...              ...                    ...\n",
              "9834           10218               0.000000\n",
              "9835           10419               0.000000\n",
              "9836            7447               0.000000\n",
              "9837            8677               1.000000\n",
              "9838           12391               0.000000\n",
              "\n",
              "[9839 rows x 2 columns]"
            ]
          },
          "metadata": {
            "tags": []
          },
          "execution_count": 60
        }
      ]
    },
    {
      "cell_type": "code",
      "metadata": {
        "id": "JwhScGPY55ZL"
      },
      "source": [
        ""
      ],
      "execution_count": 58,
      "outputs": []
    }
  ]
}