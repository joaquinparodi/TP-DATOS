{
  "nbformat": 4,
  "nbformat_minor": 0,
  "metadata": {
    "colab": {
      "name": "tp2orga_joaquin.ipynb",
      "provenance": [],
      "collapsed_sections": [],
      "include_colab_link": true
    },
    "kernelspec": {
      "name": "python3",
      "display_name": "Python 3"
    }
  },
  "cells": [
    {
      "cell_type": "markdown",
      "metadata": {
        "id": "view-in-github",
        "colab_type": "text"
      },
      "source": [
        "<a href=\"https://colab.research.google.com/github/joaquinparodi/TP1-DATOS/blob/main/tp2orga_joaquin.ipynb\" target=\"_parent\"><img src=\"https://colab.research.google.com/assets/colab-badge.svg\" alt=\"Open In Colab\"/></a>"
      ]
    },
    {
      "cell_type": "code",
      "metadata": {
        "id": "BTDqJL94FYGe",
        "colab": {
          "base_uri": "https://localhost:8080/"
        },
        "outputId": "5c08edce-efff-44a7-b1d6-d18275ab7f5e"
      },
      "source": [
        "# importacion general de librerias y de visualizacion (matplotlib y seaborn)\n",
        "!pip install ptitprince\n",
        "import ptitprince as pt\n",
        "import pandas as pd\n",
        "import numpy as np\n"
      ],
      "execution_count": null,
      "outputs": [
        {
          "output_type": "stream",
          "text": [
            "Requirement already satisfied: ptitprince in /usr/local/lib/python3.6/dist-packages (0.2.5)\n",
            "Requirement already satisfied: numpy>=1.13 in /usr/local/lib/python3.6/dist-packages (from ptitprince) (1.19.5)\n",
            "Requirement already satisfied: PyHamcrest>=1.9.0 in /usr/local/lib/python3.6/dist-packages (from ptitprince) (2.0.2)\n",
            "Requirement already satisfied: seaborn>=0.10 in /usr/local/lib/python3.6/dist-packages (from ptitprince) (0.11.1)\n",
            "Requirement already satisfied: matplotlib in /usr/local/lib/python3.6/dist-packages (from ptitprince) (3.2.2)\n",
            "Requirement already satisfied: scipy in /usr/local/lib/python3.6/dist-packages (from ptitprince) (1.4.1)\n",
            "Requirement already satisfied: cython in /usr/local/lib/python3.6/dist-packages (from ptitprince) (0.29.21)\n",
            "Requirement already satisfied: pandas>=0.23 in /usr/local/lib/python3.6/dist-packages (from seaborn>=0.10->ptitprince) (1.1.5)\n",
            "Requirement already satisfied: python-dateutil>=2.1 in /usr/local/lib/python3.6/dist-packages (from matplotlib->ptitprince) (2.8.1)\n",
            "Requirement already satisfied: pyparsing!=2.0.4,!=2.1.2,!=2.1.6,>=2.0.1 in /usr/local/lib/python3.6/dist-packages (from matplotlib->ptitprince) (2.4.7)\n",
            "Requirement already satisfied: kiwisolver>=1.0.1 in /usr/local/lib/python3.6/dist-packages (from matplotlib->ptitprince) (1.3.1)\n",
            "Requirement already satisfied: cycler>=0.10 in /usr/local/lib/python3.6/dist-packages (from matplotlib->ptitprince) (0.10.0)\n",
            "Requirement already satisfied: pytz>=2017.2 in /usr/local/lib/python3.6/dist-packages (from pandas>=0.23->seaborn>=0.10->ptitprince) (2018.9)\n",
            "Requirement already satisfied: six>=1.5 in /usr/local/lib/python3.6/dist-packages (from python-dateutil>=2.1->matplotlib->ptitprince) (1.15.0)\n"
          ],
          "name": "stdout"
        }
      ]
    },
    {
      "cell_type": "code",
      "metadata": {
        "id": "wtgYMgn_kuPz"
      },
      "source": [
        "import matplotlib.pylab as plt\n",
        "import seaborn as sns"
      ],
      "execution_count": null,
      "outputs": []
    },
    {
      "cell_type": "code",
      "metadata": {
        "id": "ycF5SnjfGj4I"
      },
      "source": [
        "from pydrive.auth import GoogleAuth\n",
        "from pydrive.drive import GoogleDrive\n",
        "from google.colab import auth\n",
        "from oauth2client.client import GoogleCredentials"
      ],
      "execution_count": null,
      "outputs": []
    },
    {
      "cell_type": "code",
      "metadata": {
        "id": "QJbV2lDrGj-b"
      },
      "source": [
        "auth.authenticate_user()\n",
        "gauth = GoogleAuth()\n",
        "gauth.credentials = GoogleCredentials.get_application_default()\n",
        "drive = GoogleDrive(gauth)"
      ],
      "execution_count": null,
      "outputs": []
    },
    {
      "cell_type": "code",
      "metadata": {
        "id": "67yYcLf_GyAO"
      },
      "source": [
        " \n",
        "id='1MfnxlPGSmr-i1up_2iKCkrBIMcDHomnK'\n",
        "downloaded = drive.CreateFile({'id': id})\n",
        "downloaded.GetContentFile('data.csv')"
      ],
      "execution_count": null,
      "outputs": []
    },
    {
      "cell_type": "code",
      "metadata": {
        "id": "mWdphOAZwRLl"
      },
      "source": [
        "id='1kZt5ZN2eAyeNEIWLh6lGckgyDIxpHN4f'\r\n",
        "downloaded = drive.CreateFile({'id': id})\r\n",
        "downloaded.GetContentFile('test.csv')"
      ],
      "execution_count": null,
      "outputs": []
    },
    {
      "cell_type": "code",
      "metadata": {
        "id": "Ia9MlRRywaD7"
      },
      "source": [
        "test=pd.read_csv('test.csv')"
      ],
      "execution_count": null,
      "outputs": []
    },
    {
      "cell_type": "code",
      "metadata": {
        "id": "pFeCl82j8PtJ"
      },
      "source": [
        "import xgboost as xgb\r\n",
        "from sklearn.ensemble import RandomForestRegressor\r\n",
        "from sklearn.metrics import mean_squared_error\r\n",
        "import pandas as pd\r\n",
        "import numpy as np\r\n",
        "%matplotlib inline\r\n",
        "import matplotlib.pyplot as plt\r\n",
        "from sklearn import tree"
      ],
      "execution_count": null,
      "outputs": []
    },
    {
      "cell_type": "code",
      "metadata": {
        "id": "jEdxztOrd4Ge"
      },
      "source": [
        "class Modelo():\r\n",
        "  def __init__(self ):\r\n",
        "    pass\r\n",
        "\r\n",
        "\r\n",
        "\r\n",
        "  def splitTrainTarget(self,entrenamientoFeatureTarget):\r\n",
        "    #separo  mi dataframe en X= feature engineri e y= target\r\n",
        "    X,y=entrenamientoFeatureTarget.iloc[:,1:-1], entrenamientoFeatureTarget.iloc[:,-1]\r\n",
        "    print(\"las columnas del train son {} y del target son  {}\".format(X.columns , y.name ))\r\n",
        "    return X,y\r\n",
        "\r\n",
        "  def SplitTrainTest(self,X,y):\r\n",
        "    from sklearn.model_selection import train_test_split\r\n",
        "\r\n",
        "    X_train, X_test, y_train, y_test = \\\r\n",
        "    train_test_split(X, y, test_size=0.2, random_state=123)\r\n",
        "\r\n",
        "    return X_train, X_test, y_train, y_test\r\n",
        "\r\n",
        "\r\n",
        "  def entrenarYPredecirMismoSetEntrenamiento(self,X_train,y_train,X_test): \r\n",
        "    self.modelo.fit(X_train, y_train)\r\n",
        "    preds =  self.modelo.predict(X_test)\r\n",
        "    return preds\r\n",
        "\r\n",
        "  def errorSetEntrenamiento( self,X_train,y_train,X_test,y_test):\r\n",
        "     preds= self.entrenarYPredecirMismoSetEntrenamiento( X_train,y_train,X_test)\r\n",
        "     rmse = np.sqrt(mean_squared_error(y_test, preds))\r\n",
        "     print(\"RMSE: %f\" % (rmse)) \r\n",
        "\r\n",
        "\r\n",
        "\r\n",
        "  def entrenarYPredecirWithTest(self,X_train,y_train,dfFeaturestest):\r\n",
        "    listaColumnas=dfTestFeature.columns.to_list()\r\n",
        "    listaColumnas.remove('Opportunity_ID')\r\n",
        "    dfFeaturestest=dfFeaturestest[listaColumnas] \r\n",
        "    #se elemina esa columan porque sino hay overfittin\r\n",
        "    self.modelo.fit(X_train, y_train)\r\n",
        "    preds =  self.modelo.predict(dfFeaturestest)\r\n",
        "    return preds  \r\n",
        "\r\n",
        "  \r\n",
        "\r\n",
        "  def agregarTargetDfOriginal(self,entrenamiento,df):\r\n",
        "    #df es un dataframe ya agregado con features nuevos\r\n",
        "    #entrenamiento es el dataframe orginal sin procesar\r\n",
        "    target=entrenamiento[(entrenamiento['Stage']=='Closed Lost') | (entrenamiento['Stage']=='Closed Won')]\r\n",
        "    target=target[['Opportunity_ID','Stage']].groupby(['Opportunity_ID','Stage']).agg(total=('Stage','count')).reset_index()[['Opportunity_ID','Stage']]\r\n",
        "      \r\n",
        "    entrenamiento=pd.merge(df,target,on=\"Opportunity_ID\",how=\"inner\") \r\n",
        "    df=entrenamiento.replace(\"Closed Lost\", \"0\")\r\n",
        "    df=df.replace(\"Closed Won\", \"1\")\r\n",
        "  \r\n",
        "    return df\r\n",
        "\r\n",
        "  #feature engnerie\r\n",
        "  def featureEngeenier(self,df):\r\n",
        "    #agregamos fecha \r\n",
        "    df['Month']=pd.to_datetime(df['Month'])\r\n",
        "    df['anio']=df['Month'].dt.year\r\n",
        "    df['mes']=df['Month'].dt.month\r\n",
        "    #agregamos columna totalamount\r\n",
        "    totalAmount=df.groupby(['Opportunity_ID' ]).agg(totalamount=('Total_Amount','sum'))\r\n",
        "    #agregamos total trf\r\n",
        "    totalTrf=df.groupby(['Opportunity_ID' ]).agg(totalTrf=('TRF','sum'))\r\n",
        "    dfFeatureNew=pd.merge(totalAmount,totalTrf,on=\"Opportunity_ID\",how=\"inner\").reset_index()\r\n",
        "\r\n",
        "    df=dfFeatureNew[['Opportunity_ID','totalamount','totalTrf']]\r\n",
        "    \r\n",
        "    return df\r\n",
        "\r\n",
        "\r\n",
        "  def formarDfKaggle(self,testWithFeature,preds ):\r\n",
        "    dfkaggle = pd.DataFrame( preds)\r\n",
        "    dfkaggle['Opportunity_ID']=testWithFeature['Opportunity_ID']\r\n",
        "    dfkaggle.columns=['Target','Opportunity_ID']\r\n",
        "    dfkaggle=dfkaggle[['Opportunity_ID','Target']]\r\n",
        "    \r\n",
        "    from google.colab import files\r\n",
        "    dfkaggle.to_csv('dfKaggle.csv', index=False) \r\n",
        "    files.download('dfKaggle.csv')\r\n",
        "   \r\n",
        "  def featureImportancia(self,X_train):\r\n",
        "    # Gini importance\r\n",
        "    self.modelo.feature_importances_\r\n",
        "    plt.bar(X_train.columns, self.modelo.feature_importances_)\r\n",
        "    plt.xlabel('Features')\r\n",
        "    plt.ylabel('Importancia')\r\n",
        "    plt.title('Importancia Features con RF')\r\n",
        "    plt.show()\r\n"
      ],
      "execution_count": null,
      "outputs": []
    },
    {
      "cell_type": "code",
      "metadata": {
        "id": "OxQYQZGnVDjg"
      },
      "source": [
        "class RandomForestRegre(Modelo):\r\n",
        "  def __init__(self,hiperparametros):\r\n",
        "    super().__init__()\r\n",
        "    self.modelo= RandomForestRegressor(random_state=1,n_estimators=20)\r\n",
        "\r\n",
        "\r\n",
        "class xgbosst(Modelo):\r\n",
        "  def __init__(self,hiperparametros):\r\n",
        "    super().__init__()\r\n",
        "    self.modelo= xgb.XGBRegressor(objective ='reg:squarederror', \r\n",
        "                colsample_bytree = 0.3, learning_rate = 0.1,\r\n",
        "                max_depth = 2, alpha = 10, n_estimators = 10)\r\n",
        "  \r\n",
        "\r\n",
        "\r\n",
        "  # este polimorfismo es porque pedia el xgboost que y_train sea de tipo int\r\n",
        "  def entrenarYPredecirMismoSetEntrenamiento(self,X_train,y_train,X_test): \r\n",
        "    self.modelo.fit(X_train, y_train.astype(int))\r\n",
        "    preds =  self.modelo.predict(X_test)\r\n",
        "     \r\n",
        "    return preds\r\n",
        "\r\n",
        "  def errorSetEntrenamiento( self,X_train,y_train,X_test,y_test):\r\n",
        "    #aca la diferencia es que ytrain debe ser entero\r\n",
        "     \r\n",
        "    preds= self.entrenarYPredecirMismoSetEntrenamiento( X_train,y_train,X_test)\r\n",
        "    rmse = np.sqrt(mean_squared_error(y_test, preds))\r\n",
        "    print(\"RMSE: %f\" % (rmse))\r\n",
        "\r\n",
        "  def entrenarYPredecirWithTest(self,X_train,y_train,dfFeaturestest):\r\n",
        "    listaColumnas=dfTestFeature.columns.to_list()\r\n",
        "    listaColumnas.remove('Opportunity_ID')\r\n",
        "    dfFeaturestest=dfFeaturestest[listaColumnas] \r\n",
        "    #se elemina esa columan porque sino hay overfittin\r\n",
        "    self.modelo.fit(X_train, y_train.astype(int))\r\n",
        "    preds =  self.modelo.predict(dfFeaturestest)\r\n",
        "    return preds  \r\n"
      ],
      "execution_count": null,
      "outputs": []
    },
    {
      "cell_type": "code",
      "metadata": {
        "id": "GFSXGWcwd5n2"
      },
      "source": [
        "#1)Apertura\r\n",
        "entrenamiento = pd.read_csv('data.csv')\r\n",
        " "
      ],
      "execution_count": null,
      "outputs": []
    },
    {
      "cell_type": "code",
      "metadata": {
        "id": "-qjr5CJgxTuA"
      },
      "source": [
        "random_state=1\r\n",
        "n_estimators=20\r\n",
        "#aca agregamos los hiperparametros que estamos probando\r\n",
        "Hiperparametros=[random_state ,n_estimators ]\r\n",
        "#por ahora no se usan los hirparametros, se setea dentro de las clase estos,\r\n",
        "#pero la idea es que se pueda setear desde afuera para probar"
      ],
      "execution_count": null,
      "outputs": []
    },
    {
      "cell_type": "code",
      "metadata": {
        "id": "AMAUX3H2rEVK"
      },
      "source": [
        "modelos={\r\n",
        "         'ramdomForest': RandomForestRegre(Hiperparametros),\r\n",
        "         'xgboost':xgbosst(Hiperparametros)\r\n",
        "}"
      ],
      "execution_count": null,
      "outputs": []
    },
    {
      "cell_type": "code",
      "metadata": {
        "colab": {
          "base_uri": "https://localhost:8080/",
          "height": 195
        },
        "id": "lNfcK7hOcbPv",
        "outputId": "95c3926e-3435-4057-f34e-6d59a1bb82cd"
      },
      "source": [
        "\r\n",
        "\r\n",
        "modelo=modelos.get('xgboost')\r\n",
        "#cargamos el modelo \r\n",
        "modelo=modelo\r\n",
        "#hacemos feature engierine sobre el df original\r\n",
        "dfFeature=modelo.featureEngeenier(entrenamiento)\r\n",
        "dfFeature.head()\r\n",
        "#le agregamos el target\r\n",
        "dfFeatureWithTarget=modelo.agregarTargetDfOriginal(entrenamiento,dfFeature)\r\n",
        "dfFeatureWithTarget.head()"
      ],
      "execution_count": null,
      "outputs": [
        {
          "output_type": "execute_result",
          "data": {
            "text/html": [
              "<div>\n",
              "<style scoped>\n",
              "    .dataframe tbody tr th:only-of-type {\n",
              "        vertical-align: middle;\n",
              "    }\n",
              "\n",
              "    .dataframe tbody tr th {\n",
              "        vertical-align: top;\n",
              "    }\n",
              "\n",
              "    .dataframe thead th {\n",
              "        text-align: right;\n",
              "    }\n",
              "</style>\n",
              "<table border=\"1\" class=\"dataframe\">\n",
              "  <thead>\n",
              "    <tr style=\"text-align: right;\">\n",
              "      <th></th>\n",
              "      <th>Opportunity_ID</th>\n",
              "      <th>totalamount</th>\n",
              "      <th>totalTrf</th>\n",
              "      <th>Stage</th>\n",
              "    </tr>\n",
              "  </thead>\n",
              "  <tbody>\n",
              "    <tr>\n",
              "      <th>0</th>\n",
              "      <td>0</td>\n",
              "      <td>5272800.0</td>\n",
              "      <td>10</td>\n",
              "      <td>0</td>\n",
              "    </tr>\n",
              "    <tr>\n",
              "      <th>1</th>\n",
              "      <td>1</td>\n",
              "      <td>48230.0</td>\n",
              "      <td>0</td>\n",
              "      <td>1</td>\n",
              "    </tr>\n",
              "    <tr>\n",
              "      <th>2</th>\n",
              "      <td>2</td>\n",
              "      <td>83865.6</td>\n",
              "      <td>0</td>\n",
              "      <td>1</td>\n",
              "    </tr>\n",
              "    <tr>\n",
              "      <th>3</th>\n",
              "      <td>3</td>\n",
              "      <td>7421881.5</td>\n",
              "      <td>14</td>\n",
              "      <td>0</td>\n",
              "    </tr>\n",
              "    <tr>\n",
              "      <th>4</th>\n",
              "      <td>4</td>\n",
              "      <td>13357192.5</td>\n",
              "      <td>25</td>\n",
              "      <td>0</td>\n",
              "    </tr>\n",
              "  </tbody>\n",
              "</table>\n",
              "</div>"
            ],
            "text/plain": [
              "   Opportunity_ID  totalamount  totalTrf Stage\n",
              "0               0    5272800.0        10     0\n",
              "1               1      48230.0         0     1\n",
              "2               2      83865.6         0     1\n",
              "3               3    7421881.5        14     0\n",
              "4               4   13357192.5        25     0"
            ]
          },
          "metadata": {
            "tags": []
          },
          "execution_count": 35
        }
      ]
    },
    {
      "cell_type": "markdown",
      "metadata": {
        "id": "0wtbpo15fbn8"
      },
      "source": [
        "aca vamos a entrenar y testear con el mismo dataframe original, asi vemos\r\n",
        "que error nos da"
      ]
    },
    {
      "cell_type": "code",
      "metadata": {
        "colab": {
          "base_uri": "https://localhost:8080/"
        },
        "id": "9V0OhO_efbHk",
        "outputId": "3878b40d-0bb6-4e32-b68a-642507421ba4"
      },
      "source": [
        "X,y=modelo.splitTrainTarget(dfFeatureWithTarget)"
      ],
      "execution_count": null,
      "outputs": [
        {
          "output_type": "stream",
          "text": [
            "las columnas del train son Index(['totalamount', 'totalTrf'], dtype='object') y del target son  Stage\n"
          ],
          "name": "stdout"
        }
      ]
    },
    {
      "cell_type": "code",
      "metadata": {
        "id": "1xRLp2fthr31"
      },
      "source": [
        "#separamos para entrenar (X_train, y_train) y para predecir (y_train) y su prediccion real(y_test)\r\n",
        "X_train, X_test, y_train, y_test=modelo.SplitTrainTest(X,y)"
      ],
      "execution_count": null,
      "outputs": []
    },
    {
      "cell_type": "code",
      "metadata": {
        "colab": {
          "base_uri": "https://localhost:8080/"
        },
        "id": "vcdZ981Ki1H5",
        "outputId": "b5c99243-8098-4107-b68a-ee28f4a7be6f"
      },
      "source": [
        "#entrenamo y predecimos, y comparamos con el valor real y vemos su error\r\n",
        "modelo.errorSetEntrenamiento(  X_train,y_train,X_test,y_test) \r\n",
        "     "
      ],
      "execution_count": null,
      "outputs": [
        {
          "output_type": "stream",
          "text": [
            "RMSE: 0.455257\n"
          ],
          "name": "stdout"
        }
      ]
    },
    {
      "cell_type": "markdown",
      "metadata": {
        "id": "hCP6QbCUknKA"
      },
      "source": [
        "aca vamos a entrenar y predecir con el test para subir a kaggle"
      ]
    },
    {
      "cell_type": "code",
      "metadata": {
        "colab": {
          "base_uri": "https://localhost:8080/",
          "height": 195
        },
        "id": "WqqYLybXe62K",
        "outputId": "3ea67be2-d4fa-43c7-9e2b-00f10d062330"
      },
      "source": [
        "test=pd.read_csv('test.csv')\r\n",
        "dfTestFeature=modelo.featureEngeenier(test)\r\n",
        "dfTestFeature.head()"
      ],
      "execution_count": null,
      "outputs": [
        {
          "output_type": "execute_result",
          "data": {
            "text/html": [
              "<div>\n",
              "<style scoped>\n",
              "    .dataframe tbody tr th:only-of-type {\n",
              "        vertical-align: middle;\n",
              "    }\n",
              "\n",
              "    .dataframe tbody tr th {\n",
              "        vertical-align: top;\n",
              "    }\n",
              "\n",
              "    .dataframe thead th {\n",
              "        text-align: right;\n",
              "    }\n",
              "</style>\n",
              "<table border=\"1\" class=\"dataframe\">\n",
              "  <thead>\n",
              "    <tr style=\"text-align: right;\">\n",
              "      <th></th>\n",
              "      <th>Opportunity_ID</th>\n",
              "      <th>totalamount</th>\n",
              "      <th>totalTrf</th>\n",
              "    </tr>\n",
              "  </thead>\n",
              "  <tbody>\n",
              "    <tr>\n",
              "      <th>0</th>\n",
              "      <td>10689</td>\n",
              "      <td>367419.0</td>\n",
              "      <td>0</td>\n",
              "    </tr>\n",
              "    <tr>\n",
              "      <th>1</th>\n",
              "      <td>10690</td>\n",
              "      <td>757783.5</td>\n",
              "      <td>1</td>\n",
              "    </tr>\n",
              "    <tr>\n",
              "      <th>2</th>\n",
              "      <td>10691</td>\n",
              "      <td>21037.5</td>\n",
              "      <td>0</td>\n",
              "    </tr>\n",
              "    <tr>\n",
              "      <th>3</th>\n",
              "      <td>10692</td>\n",
              "      <td>2169106.5</td>\n",
              "      <td>6</td>\n",
              "    </tr>\n",
              "    <tr>\n",
              "      <th>4</th>\n",
              "      <td>10693</td>\n",
              "      <td>5752.5</td>\n",
              "      <td>0</td>\n",
              "    </tr>\n",
              "  </tbody>\n",
              "</table>\n",
              "</div>"
            ],
            "text/plain": [
              "   Opportunity_ID  totalamount  totalTrf\n",
              "0           10689     367419.0         0\n",
              "1           10690     757783.5         1\n",
              "2           10691      21037.5         0\n",
              "3           10692    2169106.5         6\n",
              "4           10693       5752.5         0"
            ]
          },
          "metadata": {
            "tags": []
          },
          "execution_count": 39
        }
      ]
    },
    {
      "cell_type": "code",
      "metadata": {
        "colab": {
          "base_uri": "https://localhost:8080/"
        },
        "id": "A6v2tngmlq30",
        "outputId": "24ed68f0-b3a6-4b9c-eb32-bc54019c32df"
      },
      "source": [
        "prediccion=modelo.entrenarYPredecirWithTest(X_train,y_train,dfTestFeature)\r\n",
        "prediccion"
      ],
      "execution_count": null,
      "outputs": [
        {
          "output_type": "execute_result",
          "data": {
            "text/plain": [
              "array([0.534768  , 0.39591077, 0.6522572 , ..., 0.6522572 , 0.55602616,\n",
              "       0.3828056 ], dtype=float32)"
            ]
          },
          "metadata": {
            "tags": []
          },
          "execution_count": 40
        }
      ]
    },
    {
      "cell_type": "code",
      "metadata": {
        "colab": {
          "base_uri": "https://localhost:8080/",
          "height": 17
        },
        "id": "Zj3qRh7Lmzzh",
        "outputId": "e34734aa-8e99-46d9-877d-e441753cbb29"
      },
      "source": [
        "modelo.formarDfKaggle(dfTestFeature,prediccion)"
      ],
      "execution_count": null,
      "outputs": [
        {
          "output_type": "display_data",
          "data": {
            "application/javascript": [
              "\n",
              "    async function download(id, filename, size) {\n",
              "      if (!google.colab.kernel.accessAllowed) {\n",
              "        return;\n",
              "      }\n",
              "      const div = document.createElement('div');\n",
              "      const label = document.createElement('label');\n",
              "      label.textContent = `Downloading \"${filename}\": `;\n",
              "      div.appendChild(label);\n",
              "      const progress = document.createElement('progress');\n",
              "      progress.max = size;\n",
              "      div.appendChild(progress);\n",
              "      document.body.appendChild(div);\n",
              "\n",
              "      const buffers = [];\n",
              "      let downloaded = 0;\n",
              "\n",
              "      const channel = await google.colab.kernel.comms.open(id);\n",
              "      // Send a message to notify the kernel that we're ready.\n",
              "      channel.send({})\n",
              "\n",
              "      for await (const message of channel.messages) {\n",
              "        // Send a message to notify the kernel that we're ready.\n",
              "        channel.send({})\n",
              "        if (message.buffers) {\n",
              "          for (const buffer of message.buffers) {\n",
              "            buffers.push(buffer);\n",
              "            downloaded += buffer.byteLength;\n",
              "            progress.value = downloaded;\n",
              "          }\n",
              "        }\n",
              "      }\n",
              "      const blob = new Blob(buffers, {type: 'application/binary'});\n",
              "      const a = document.createElement('a');\n",
              "      a.href = window.URL.createObjectURL(blob);\n",
              "      a.download = filename;\n",
              "      div.appendChild(a);\n",
              "      a.click();\n",
              "      div.remove();\n",
              "    }\n",
              "  "
            ],
            "text/plain": [
              "<IPython.core.display.Javascript object>"
            ]
          },
          "metadata": {
            "tags": []
          }
        },
        {
          "output_type": "display_data",
          "data": {
            "application/javascript": [
              "download(\"download_957cb9e7-5865-4e62-a596-ab45aeabd243\", \"dfKaggle.csv\", 25707)"
            ],
            "text/plain": [
              "<IPython.core.display.Javascript object>"
            ]
          },
          "metadata": {
            "tags": []
          }
        }
      ]
    },
    {
      "cell_type": "code",
      "metadata": {
        "colab": {
          "base_uri": "https://localhost:8080/",
          "height": 295
        },
        "id": "bh_v60WMwuLu",
        "outputId": "d69dfdee-ca38-483a-92bd-b6cb7aeb1229"
      },
      "source": [
        "modelo.featureImportancia( X_train)"
      ],
      "execution_count": null,
      "outputs": [
        {
          "output_type": "display_data",
          "data": {
            "image/png": "[encoded data removed]",
            "text/plain": [
              "<Figure size 432x288 with 1 Axes>"
            ]
          },
          "metadata": {
            "tags": [],
            "needs_background": "light"
          }
        }
      ]
    },
    {
      "cell_type": "code",
      "metadata": {
        "id": "Snm7Ff8M0n4_"
      },
      "source": [
        ""
      ],
      "execution_count": null,
      "outputs": []
    },
    {
      "cell_type": "code",
      "metadata": {
        "id": "u0n7sy4d0n9Y"
      },
      "source": [
        ""
      ],
      "execution_count": null,
      "outputs": []
    },
    {
      "cell_type": "code",
      "metadata": {
        "id": "NoTbuKxs1Fbj"
      },
      "source": [
        ""
      ],
      "execution_count": null,
      "outputs": []
    },
    {
      "cell_type": "code",
      "metadata": {
        "id": "2bpQRln_1Ffd"
      },
      "source": [
        ""
      ],
      "execution_count": null,
      "outputs": []
    },
    {
      "cell_type": "code",
      "metadata": {
        "id": "xHDpSI0X0oBS"
      },
      "source": [
        ""
      ],
      "execution_count": null,
      "outputs": []
    },
    {
      "cell_type": "code",
      "metadata": {
        "id": "nUDQ7_lJvbrh",
        "colab": {
          "base_uri": "https://localhost:8080/",
          "height": 195
        },
        "outputId": "299802d0-f25b-4cbb-843d-b5d881d75112"
      },
      "source": [
        "dfentrenami=entrenamiento[['Opportunity_ID','Territory','Stage']]\n",
        "dfentrenami.head(5)"
      ],
      "execution_count": null,
      "outputs": [
        {
          "output_type": "execute_result",
          "data": {
            "text/html": [
              "<div>\n",
              "<style scoped>\n",
              "    .dataframe tbody tr th:only-of-type {\n",
              "        vertical-align: middle;\n",
              "    }\n",
              "\n",
              "    .dataframe tbody tr th {\n",
              "        vertical-align: top;\n",
              "    }\n",
              "\n",
              "    .dataframe thead th {\n",
              "        text-align: right;\n",
              "    }\n",
              "</style>\n",
              "<table border=\"1\" class=\"dataframe\">\n",
              "  <thead>\n",
              "    <tr style=\"text-align: right;\">\n",
              "      <th></th>\n",
              "      <th>Opportunity_ID</th>\n",
              "      <th>Territory</th>\n",
              "      <th>Stage</th>\n",
              "    </tr>\n",
              "  </thead>\n",
              "  <tbody>\n",
              "    <tr>\n",
              "      <th>0</th>\n",
              "      <td>0</td>\n",
              "      <td>None</td>\n",
              "      <td>Closed Lost</td>\n",
              "    </tr>\n",
              "    <tr>\n",
              "      <th>1</th>\n",
              "      <td>1</td>\n",
              "      <td>None</td>\n",
              "      <td>Closed Won</td>\n",
              "    </tr>\n",
              "    <tr>\n",
              "      <th>2</th>\n",
              "      <td>2</td>\n",
              "      <td>NW America</td>\n",
              "      <td>Closed Won</td>\n",
              "    </tr>\n",
              "    <tr>\n",
              "      <th>3</th>\n",
              "      <td>3</td>\n",
              "      <td>NW America</td>\n",
              "      <td>Closed Lost</td>\n",
              "    </tr>\n",
              "    <tr>\n",
              "      <th>4</th>\n",
              "      <td>4</td>\n",
              "      <td>NW America</td>\n",
              "      <td>Closed Lost</td>\n",
              "    </tr>\n",
              "  </tbody>\n",
              "</table>\n",
              "</div>"
            ],
            "text/plain": [
              "   Opportunity_ID   Territory        Stage\n",
              "0               0        None  Closed Lost\n",
              "1               1        None   Closed Won\n",
              "2               2  NW America   Closed Won\n",
              "3               3  NW America  Closed Lost\n",
              "4               4  NW America  Closed Lost"
            ]
          },
          "metadata": {
            "tags": []
          },
          "execution_count": 109
        }
      ]
    },
    {
      "cell_type": "code",
      "metadata": {
        "id": "PX3lku59v2Xf",
        "colab": {
          "base_uri": "https://localhost:8080/",
          "height": 402
        },
        "outputId": "9294e57a-0b1e-46f8-c870-d0591dad76a1"
      },
      "source": [
        "df = dfentrenami.replace('Closed Won', '1')\n",
        "df = df.replace('Closed Lost', '0')\n",
        "df"
      ],
      "execution_count": null,
      "outputs": [
        {
          "output_type": "execute_result",
          "data": {
            "text/html": [
              "<div>\n",
              "<style scoped>\n",
              "    .dataframe tbody tr th:only-of-type {\n",
              "        vertical-align: middle;\n",
              "    }\n",
              "\n",
              "    .dataframe tbody tr th {\n",
              "        vertical-align: top;\n",
              "    }\n",
              "\n",
              "    .dataframe thead th {\n",
              "        text-align: right;\n",
              "    }\n",
              "</style>\n",
              "<table border=\"1\" class=\"dataframe\">\n",
              "  <thead>\n",
              "    <tr style=\"text-align: right;\">\n",
              "      <th></th>\n",
              "      <th>Opportunity_ID</th>\n",
              "      <th>Territory</th>\n",
              "      <th>Stage</th>\n",
              "    </tr>\n",
              "  </thead>\n",
              "  <tbody>\n",
              "    <tr>\n",
              "      <th>0</th>\n",
              "      <td>0</td>\n",
              "      <td>None</td>\n",
              "      <td>0</td>\n",
              "    </tr>\n",
              "    <tr>\n",
              "      <th>1</th>\n",
              "      <td>1</td>\n",
              "      <td>None</td>\n",
              "      <td>1</td>\n",
              "    </tr>\n",
              "    <tr>\n",
              "      <th>2</th>\n",
              "      <td>2</td>\n",
              "      <td>NW America</td>\n",
              "      <td>1</td>\n",
              "    </tr>\n",
              "    <tr>\n",
              "      <th>3</th>\n",
              "      <td>3</td>\n",
              "      <td>NW America</td>\n",
              "      <td>0</td>\n",
              "    </tr>\n",
              "    <tr>\n",
              "      <th>4</th>\n",
              "      <td>4</td>\n",
              "      <td>NW America</td>\n",
              "      <td>0</td>\n",
              "    </tr>\n",
              "    <tr>\n",
              "      <th>...</th>\n",
              "      <td>...</td>\n",
              "      <td>...</td>\n",
              "      <td>...</td>\n",
              "    </tr>\n",
              "    <tr>\n",
              "      <th>16942</th>\n",
              "      <td>12801</td>\n",
              "      <td>Austria</td>\n",
              "      <td>1</td>\n",
              "    </tr>\n",
              "    <tr>\n",
              "      <th>16943</th>\n",
              "      <td>12801</td>\n",
              "      <td>Austria</td>\n",
              "      <td>1</td>\n",
              "    </tr>\n",
              "    <tr>\n",
              "      <th>16944</th>\n",
              "      <td>12801</td>\n",
              "      <td>Austria</td>\n",
              "      <td>1</td>\n",
              "    </tr>\n",
              "    <tr>\n",
              "      <th>16945</th>\n",
              "      <td>12802</td>\n",
              "      <td>NE America</td>\n",
              "      <td>0</td>\n",
              "    </tr>\n",
              "    <tr>\n",
              "      <th>16946</th>\n",
              "      <td>12803</td>\n",
              "      <td>NE America</td>\n",
              "      <td>0</td>\n",
              "    </tr>\n",
              "  </tbody>\n",
              "</table>\n",
              "<p>16947 rows × 3 columns</p>\n",
              "</div>"
            ],
            "text/plain": [
              "       Opportunity_ID   Territory Stage\n",
              "0                   0        None     0\n",
              "1                   1        None     1\n",
              "2                   2  NW America     1\n",
              "3                   3  NW America     0\n",
              "4                   4  NW America     0\n",
              "...               ...         ...   ...\n",
              "16942           12801     Austria     1\n",
              "16943           12801     Austria     1\n",
              "16944           12801     Austria     1\n",
              "16945           12802  NE America     0\n",
              "16946           12803  NE America     0\n",
              "\n",
              "[16947 rows x 3 columns]"
            ]
          },
          "metadata": {
            "tags": []
          },
          "execution_count": 110
        }
      ]
    },
    {
      "cell_type": "code",
      "metadata": {
        "id": "0nC57r5zy3MY",
        "colab": {
          "base_uri": "https://localhost:8080/"
        },
        "outputId": "774be163-0f12-47ee-a060-886447ad96fa"
      },
      "source": [
        "df.Stage.value_counts()"
      ],
      "execution_count": null,
      "outputs": [
        {
          "output_type": "execute_result",
          "data": {
            "text/plain": [
              "1                9533\n",
              "0                7350\n",
              "Proposal           35\n",
              "Negotiation        18\n",
              "Qualification      11\n",
              "Name: Stage, dtype: int64"
            ]
          },
          "metadata": {
            "tags": []
          },
          "execution_count": 111
        }
      ]
    },
    {
      "cell_type": "code",
      "metadata": {
        "id": "GaGhat5TwsBg",
        "colab": {
          "base_uri": "https://localhost:8080/"
        },
        "outputId": "a19b18b6-89b1-4ea3-c1dc-fed267d8201b"
      },
      "source": [
        "df.info()"
      ],
      "execution_count": null,
      "outputs": [
        {
          "output_type": "stream",
          "text": [
            "<class 'pandas.core.frame.DataFrame'>\n",
            "RangeIndex: 16947 entries, 0 to 16946\n",
            "Data columns (total 3 columns):\n",
            " #   Column          Non-Null Count  Dtype \n",
            "---  ------          --------------  ----- \n",
            " 0   Opportunity_ID  16947 non-null  int64 \n",
            " 1   Territory       16947 non-null  object\n",
            " 2   Stage           16947 non-null  object\n",
            "dtypes: int64(1), object(2)\n",
            "memory usage: 397.3+ KB\n"
          ],
          "name": "stdout"
        }
      ]
    },
    {
      "cell_type": "code",
      "metadata": {
        "id": "rkpLeCVuwcMV",
        "colab": {
          "base_uri": "https://localhost:8080/",
          "height": 402
        },
        "outputId": "3de43632-e44a-4d80-ca3d-c7c392667eeb"
      },
      "source": [
        "df = df[df['Stage'].isin(['0','1'])]\n",
        "df"
      ],
      "execution_count": null,
      "outputs": [
        {
          "output_type": "execute_result",
          "data": {
            "text/html": [
              "<div>\n",
              "<style scoped>\n",
              "    .dataframe tbody tr th:only-of-type {\n",
              "        vertical-align: middle;\n",
              "    }\n",
              "\n",
              "    .dataframe tbody tr th {\n",
              "        vertical-align: top;\n",
              "    }\n",
              "\n",
              "    .dataframe thead th {\n",
              "        text-align: right;\n",
              "    }\n",
              "</style>\n",
              "<table border=\"1\" class=\"dataframe\">\n",
              "  <thead>\n",
              "    <tr style=\"text-align: right;\">\n",
              "      <th></th>\n",
              "      <th>Opportunity_ID</th>\n",
              "      <th>Territory</th>\n",
              "      <th>Stage</th>\n",
              "    </tr>\n",
              "  </thead>\n",
              "  <tbody>\n",
              "    <tr>\n",
              "      <th>0</th>\n",
              "      <td>0</td>\n",
              "      <td>None</td>\n",
              "      <td>0</td>\n",
              "    </tr>\n",
              "    <tr>\n",
              "      <th>1</th>\n",
              "      <td>1</td>\n",
              "      <td>None</td>\n",
              "      <td>1</td>\n",
              "    </tr>\n",
              "    <tr>\n",
              "      <th>2</th>\n",
              "      <td>2</td>\n",
              "      <td>NW America</td>\n",
              "      <td>1</td>\n",
              "    </tr>\n",
              "    <tr>\n",
              "      <th>3</th>\n",
              "      <td>3</td>\n",
              "      <td>NW America</td>\n",
              "      <td>0</td>\n",
              "    </tr>\n",
              "    <tr>\n",
              "      <th>4</th>\n",
              "      <td>4</td>\n",
              "      <td>NW America</td>\n",
              "      <td>0</td>\n",
              "    </tr>\n",
              "    <tr>\n",
              "      <th>...</th>\n",
              "      <td>...</td>\n",
              "      <td>...</td>\n",
              "      <td>...</td>\n",
              "    </tr>\n",
              "    <tr>\n",
              "      <th>16942</th>\n",
              "      <td>12801</td>\n",
              "      <td>Austria</td>\n",
              "      <td>1</td>\n",
              "    </tr>\n",
              "    <tr>\n",
              "      <th>16943</th>\n",
              "      <td>12801</td>\n",
              "      <td>Austria</td>\n",
              "      <td>1</td>\n",
              "    </tr>\n",
              "    <tr>\n",
              "      <th>16944</th>\n",
              "      <td>12801</td>\n",
              "      <td>Austria</td>\n",
              "      <td>1</td>\n",
              "    </tr>\n",
              "    <tr>\n",
              "      <th>16945</th>\n",
              "      <td>12802</td>\n",
              "      <td>NE America</td>\n",
              "      <td>0</td>\n",
              "    </tr>\n",
              "    <tr>\n",
              "      <th>16946</th>\n",
              "      <td>12803</td>\n",
              "      <td>NE America</td>\n",
              "      <td>0</td>\n",
              "    </tr>\n",
              "  </tbody>\n",
              "</table>\n",
              "<p>16883 rows × 3 columns</p>\n",
              "</div>"
            ],
            "text/plain": [
              "       Opportunity_ID   Territory Stage\n",
              "0                   0        None     0\n",
              "1                   1        None     1\n",
              "2                   2  NW America     1\n",
              "3                   3  NW America     0\n",
              "4                   4  NW America     0\n",
              "...               ...         ...   ...\n",
              "16942           12801     Austria     1\n",
              "16943           12801     Austria     1\n",
              "16944           12801     Austria     1\n",
              "16945           12802  NE America     0\n",
              "16946           12803  NE America     0\n",
              "\n",
              "[16883 rows x 3 columns]"
            ]
          },
          "metadata": {
            "tags": []
          },
          "execution_count": 113
        }
      ]
    },
    {
      "cell_type": "code",
      "metadata": {
        "id": "D__-Xyb6zIAs",
        "colab": {
          "base_uri": "https://localhost:8080/"
        },
        "outputId": "db77202f-972e-47c4-ac6a-e76b29cf91e9"
      },
      "source": [
        "df.Stage = df.Stage.astype(int)"
      ],
      "execution_count": null,
      "outputs": [
        {
          "output_type": "stream",
          "text": [
            "/usr/local/lib/python3.6/dist-packages/pandas/core/generic.py:5170: SettingWithCopyWarning: \n",
            "A value is trying to be set on a copy of a slice from a DataFrame.\n",
            "Try using .loc[row_indexer,col_indexer] = value instead\n",
            "\n",
            "See the caveats in the documentation: https://pandas.pydata.org/pandas-docs/stable/user_guide/indexing.html#returning-a-view-versus-a-copy\n",
            "  self[name] = value\n"
          ],
          "name": "stderr"
        }
      ]
    },
    {
      "cell_type": "code",
      "metadata": {
        "id": "7RHb-ujjxJuh",
        "colab": {
          "base_uri": "https://localhost:8080/",
          "height": 431
        },
        "outputId": "c95a4eab-4309-4efe-ca42-cea0b938e058"
      },
      "source": [
        "df = df.groupby(['Territory','Opportunity_ID']).agg({'Stage':['sum','count']})\n",
        "df = df.reset_index()\n",
        "df"
      ],
      "execution_count": null,
      "outputs": [
        {
          "output_type": "execute_result",
          "data": {
            "text/html": [
              "<div>\n",
              "<style scoped>\n",
              "    .dataframe tbody tr th:only-of-type {\n",
              "        vertical-align: middle;\n",
              "    }\n",
              "\n",
              "    .dataframe tbody tr th {\n",
              "        vertical-align: top;\n",
              "    }\n",
              "\n",
              "    .dataframe thead tr th {\n",
              "        text-align: left;\n",
              "    }\n",
              "</style>\n",
              "<table border=\"1\" class=\"dataframe\">\n",
              "  <thead>\n",
              "    <tr>\n",
              "      <th></th>\n",
              "      <th>Territory</th>\n",
              "      <th>Opportunity_ID</th>\n",
              "      <th colspan=\"2\" halign=\"left\">Stage</th>\n",
              "    </tr>\n",
              "    <tr>\n",
              "      <th></th>\n",
              "      <th></th>\n",
              "      <th></th>\n",
              "      <th>sum</th>\n",
              "      <th>count</th>\n",
              "    </tr>\n",
              "  </thead>\n",
              "  <tbody>\n",
              "    <tr>\n",
              "      <th>0</th>\n",
              "      <td>Albania</td>\n",
              "      <td>6766</td>\n",
              "      <td>0</td>\n",
              "      <td>1</td>\n",
              "    </tr>\n",
              "    <tr>\n",
              "      <th>1</th>\n",
              "      <td>Albania</td>\n",
              "      <td>6848</td>\n",
              "      <td>0</td>\n",
              "      <td>1</td>\n",
              "    </tr>\n",
              "    <tr>\n",
              "      <th>2</th>\n",
              "      <td>Armenia</td>\n",
              "      <td>3323</td>\n",
              "      <td>0</td>\n",
              "      <td>2</td>\n",
              "    </tr>\n",
              "    <tr>\n",
              "      <th>3</th>\n",
              "      <td>Australia</td>\n",
              "      <td>271</td>\n",
              "      <td>1</td>\n",
              "      <td>1</td>\n",
              "    </tr>\n",
              "    <tr>\n",
              "      <th>4</th>\n",
              "      <td>Australia</td>\n",
              "      <td>272</td>\n",
              "      <td>1</td>\n",
              "      <td>1</td>\n",
              "    </tr>\n",
              "    <tr>\n",
              "      <th>...</th>\n",
              "      <td>...</td>\n",
              "      <td>...</td>\n",
              "      <td>...</td>\n",
              "      <td>...</td>\n",
              "    </tr>\n",
              "    <tr>\n",
              "      <th>9786</th>\n",
              "      <td>Vietnam</td>\n",
              "      <td>8728</td>\n",
              "      <td>0</td>\n",
              "      <td>1</td>\n",
              "    </tr>\n",
              "    <tr>\n",
              "      <th>9787</th>\n",
              "      <td>Vietnam</td>\n",
              "      <td>8867</td>\n",
              "      <td>2</td>\n",
              "      <td>2</td>\n",
              "    </tr>\n",
              "    <tr>\n",
              "      <th>9788</th>\n",
              "      <td>Vietnam</td>\n",
              "      <td>8972</td>\n",
              "      <td>3</td>\n",
              "      <td>3</td>\n",
              "    </tr>\n",
              "    <tr>\n",
              "      <th>9789</th>\n",
              "      <td>Vietnam</td>\n",
              "      <td>9026</td>\n",
              "      <td>1</td>\n",
              "      <td>1</td>\n",
              "    </tr>\n",
              "    <tr>\n",
              "      <th>9790</th>\n",
              "      <td>Vietnam</td>\n",
              "      <td>9869</td>\n",
              "      <td>1</td>\n",
              "      <td>1</td>\n",
              "    </tr>\n",
              "  </tbody>\n",
              "</table>\n",
              "<p>9791 rows × 4 columns</p>\n",
              "</div>"
            ],
            "text/plain": [
              "      Territory Opportunity_ID Stage      \n",
              "                                 sum count\n",
              "0       Albania           6766     0     1\n",
              "1       Albania           6848     0     1\n",
              "2       Armenia           3323     0     2\n",
              "3     Australia            271     1     1\n",
              "4     Australia            272     1     1\n",
              "...         ...            ...   ...   ...\n",
              "9786    Vietnam           8728     0     1\n",
              "9787    Vietnam           8867     2     2\n",
              "9788    Vietnam           8972     3     3\n",
              "9789    Vietnam           9026     1     1\n",
              "9790    Vietnam           9869     1     1\n",
              "\n",
              "[9791 rows x 4 columns]"
            ]
          },
          "metadata": {
            "tags": []
          },
          "execution_count": 115
        }
      ]
    },
    {
      "cell_type": "code",
      "metadata": {
        "id": "RYiN4p9n1MkY",
        "colab": {
          "base_uri": "https://localhost:8080/"
        },
        "outputId": "498901ab-f19a-4445-ff9d-c80837694752"
      },
      "source": [
        "df1 = df\n",
        "df1.info()"
      ],
      "execution_count": null,
      "outputs": [
        {
          "output_type": "stream",
          "text": [
            "<class 'pandas.core.frame.DataFrame'>\n",
            "RangeIndex: 9791 entries, 0 to 9790\n",
            "Data columns (total 4 columns):\n",
            " #   Column              Non-Null Count  Dtype \n",
            "---  ------              --------------  ----- \n",
            " 0   (Territory, )       9791 non-null   object\n",
            " 1   (Opportunity_ID, )  9791 non-null   int64 \n",
            " 2   (Stage, sum)        9791 non-null   int64 \n",
            " 3   (Stage, count)      9791 non-null   int64 \n",
            "dtypes: int64(3), object(1)\n",
            "memory usage: 306.1+ KB\n"
          ],
          "name": "stdout"
        }
      ]
    },
    {
      "cell_type": "code",
      "metadata": {
        "id": "9P0JbyOf2ZJ1",
        "colab": {
          "base_uri": "https://localhost:8080/",
          "height": 402
        },
        "outputId": "4ea12193-b386-4b05-c9cc-2cc808fb422a"
      },
      "source": [
        "df1.columns = ['Territory','Opportunity_ID','Stage_sum','Stage_count']\n",
        "df1"
      ],
      "execution_count": null,
      "outputs": [
        {
          "output_type": "execute_result",
          "data": {
            "text/html": [
              "<div>\n",
              "<style scoped>\n",
              "    .dataframe tbody tr th:only-of-type {\n",
              "        vertical-align: middle;\n",
              "    }\n",
              "\n",
              "    .dataframe tbody tr th {\n",
              "        vertical-align: top;\n",
              "    }\n",
              "\n",
              "    .dataframe thead th {\n",
              "        text-align: right;\n",
              "    }\n",
              "</style>\n",
              "<table border=\"1\" class=\"dataframe\">\n",
              "  <thead>\n",
              "    <tr style=\"text-align: right;\">\n",
              "      <th></th>\n",
              "      <th>Territory</th>\n",
              "      <th>Opportunity_ID</th>\n",
              "      <th>Stage_sum</th>\n",
              "      <th>Stage_count</th>\n",
              "    </tr>\n",
              "  </thead>\n",
              "  <tbody>\n",
              "    <tr>\n",
              "      <th>0</th>\n",
              "      <td>Albania</td>\n",
              "      <td>6766</td>\n",
              "      <td>0</td>\n",
              "      <td>1</td>\n",
              "    </tr>\n",
              "    <tr>\n",
              "      <th>1</th>\n",
              "      <td>Albania</td>\n",
              "      <td>6848</td>\n",
              "      <td>0</td>\n",
              "      <td>1</td>\n",
              "    </tr>\n",
              "    <tr>\n",
              "      <th>2</th>\n",
              "      <td>Armenia</td>\n",
              "      <td>3323</td>\n",
              "      <td>0</td>\n",
              "      <td>2</td>\n",
              "    </tr>\n",
              "    <tr>\n",
              "      <th>3</th>\n",
              "      <td>Australia</td>\n",
              "      <td>271</td>\n",
              "      <td>1</td>\n",
              "      <td>1</td>\n",
              "    </tr>\n",
              "    <tr>\n",
              "      <th>4</th>\n",
              "      <td>Australia</td>\n",
              "      <td>272</td>\n",
              "      <td>1</td>\n",
              "      <td>1</td>\n",
              "    </tr>\n",
              "    <tr>\n",
              "      <th>...</th>\n",
              "      <td>...</td>\n",
              "      <td>...</td>\n",
              "      <td>...</td>\n",
              "      <td>...</td>\n",
              "    </tr>\n",
              "    <tr>\n",
              "      <th>9786</th>\n",
              "      <td>Vietnam</td>\n",
              "      <td>8728</td>\n",
              "      <td>0</td>\n",
              "      <td>1</td>\n",
              "    </tr>\n",
              "    <tr>\n",
              "      <th>9787</th>\n",
              "      <td>Vietnam</td>\n",
              "      <td>8867</td>\n",
              "      <td>2</td>\n",
              "      <td>2</td>\n",
              "    </tr>\n",
              "    <tr>\n",
              "      <th>9788</th>\n",
              "      <td>Vietnam</td>\n",
              "      <td>8972</td>\n",
              "      <td>3</td>\n",
              "      <td>3</td>\n",
              "    </tr>\n",
              "    <tr>\n",
              "      <th>9789</th>\n",
              "      <td>Vietnam</td>\n",
              "      <td>9026</td>\n",
              "      <td>1</td>\n",
              "      <td>1</td>\n",
              "    </tr>\n",
              "    <tr>\n",
              "      <th>9790</th>\n",
              "      <td>Vietnam</td>\n",
              "      <td>9869</td>\n",
              "      <td>1</td>\n",
              "      <td>1</td>\n",
              "    </tr>\n",
              "  </tbody>\n",
              "</table>\n",
              "<p>9791 rows × 4 columns</p>\n",
              "</div>"
            ],
            "text/plain": [
              "      Territory  Opportunity_ID  Stage_sum  Stage_count\n",
              "0       Albania            6766          0            1\n",
              "1       Albania            6848          0            1\n",
              "2       Armenia            3323          0            2\n",
              "3     Australia             271          1            1\n",
              "4     Australia             272          1            1\n",
              "...         ...             ...        ...          ...\n",
              "9786    Vietnam            8728          0            1\n",
              "9787    Vietnam            8867          2            2\n",
              "9788    Vietnam            8972          3            3\n",
              "9789    Vietnam            9026          1            1\n",
              "9790    Vietnam            9869          1            1\n",
              "\n",
              "[9791 rows x 4 columns]"
            ]
          },
          "metadata": {
            "tags": []
          },
          "execution_count": 124
        }
      ]
    },
    {
      "cell_type": "code",
      "metadata": {
        "id": "0xABO3Qr1Pr7",
        "colab": {
          "base_uri": "https://localhost:8080/",
          "height": 402
        },
        "outputId": "081674c1-22d5-4c83-e4d2-91d61b320ad1"
      },
      "source": [
        "df1['Stage_sum'] = df1['Stage_sum'].apply(lambda x: 0 if x == 0 else 1)\n",
        "df1"
      ],
      "execution_count": null,
      "outputs": [
        {
          "output_type": "execute_result",
          "data": {
            "text/html": [
              "<div>\n",
              "<style scoped>\n",
              "    .dataframe tbody tr th:only-of-type {\n",
              "        vertical-align: middle;\n",
              "    }\n",
              "\n",
              "    .dataframe tbody tr th {\n",
              "        vertical-align: top;\n",
              "    }\n",
              "\n",
              "    .dataframe thead th {\n",
              "        text-align: right;\n",
              "    }\n",
              "</style>\n",
              "<table border=\"1\" class=\"dataframe\">\n",
              "  <thead>\n",
              "    <tr style=\"text-align: right;\">\n",
              "      <th></th>\n",
              "      <th>Territory</th>\n",
              "      <th>Opportunity_ID</th>\n",
              "      <th>Stage_sum</th>\n",
              "      <th>Stage_count</th>\n",
              "    </tr>\n",
              "  </thead>\n",
              "  <tbody>\n",
              "    <tr>\n",
              "      <th>0</th>\n",
              "      <td>Albania</td>\n",
              "      <td>6766</td>\n",
              "      <td>0</td>\n",
              "      <td>1</td>\n",
              "    </tr>\n",
              "    <tr>\n",
              "      <th>1</th>\n",
              "      <td>Albania</td>\n",
              "      <td>6848</td>\n",
              "      <td>0</td>\n",
              "      <td>1</td>\n",
              "    </tr>\n",
              "    <tr>\n",
              "      <th>2</th>\n",
              "      <td>Armenia</td>\n",
              "      <td>3323</td>\n",
              "      <td>0</td>\n",
              "      <td>2</td>\n",
              "    </tr>\n",
              "    <tr>\n",
              "      <th>3</th>\n",
              "      <td>Australia</td>\n",
              "      <td>271</td>\n",
              "      <td>1</td>\n",
              "      <td>1</td>\n",
              "    </tr>\n",
              "    <tr>\n",
              "      <th>4</th>\n",
              "      <td>Australia</td>\n",
              "      <td>272</td>\n",
              "      <td>1</td>\n",
              "      <td>1</td>\n",
              "    </tr>\n",
              "    <tr>\n",
              "      <th>...</th>\n",
              "      <td>...</td>\n",
              "      <td>...</td>\n",
              "      <td>...</td>\n",
              "      <td>...</td>\n",
              "    </tr>\n",
              "    <tr>\n",
              "      <th>9786</th>\n",
              "      <td>Vietnam</td>\n",
              "      <td>8728</td>\n",
              "      <td>0</td>\n",
              "      <td>1</td>\n",
              "    </tr>\n",
              "    <tr>\n",
              "      <th>9787</th>\n",
              "      <td>Vietnam</td>\n",
              "      <td>8867</td>\n",
              "      <td>1</td>\n",
              "      <td>2</td>\n",
              "    </tr>\n",
              "    <tr>\n",
              "      <th>9788</th>\n",
              "      <td>Vietnam</td>\n",
              "      <td>8972</td>\n",
              "      <td>1</td>\n",
              "      <td>3</td>\n",
              "    </tr>\n",
              "    <tr>\n",
              "      <th>9789</th>\n",
              "      <td>Vietnam</td>\n",
              "      <td>9026</td>\n",
              "      <td>1</td>\n",
              "      <td>1</td>\n",
              "    </tr>\n",
              "    <tr>\n",
              "      <th>9790</th>\n",
              "      <td>Vietnam</td>\n",
              "      <td>9869</td>\n",
              "      <td>1</td>\n",
              "      <td>1</td>\n",
              "    </tr>\n",
              "  </tbody>\n",
              "</table>\n",
              "<p>9791 rows × 4 columns</p>\n",
              "</div>"
            ],
            "text/plain": [
              "      Territory  Opportunity_ID  Stage_sum  Stage_count\n",
              "0       Albania            6766          0            1\n",
              "1       Albania            6848          0            1\n",
              "2       Armenia            3323          0            2\n",
              "3     Australia             271          1            1\n",
              "4     Australia             272          1            1\n",
              "...         ...             ...        ...          ...\n",
              "9786    Vietnam            8728          0            1\n",
              "9787    Vietnam            8867          1            2\n",
              "9788    Vietnam            8972          1            3\n",
              "9789    Vietnam            9026          1            1\n",
              "9790    Vietnam            9869          1            1\n",
              "\n",
              "[9791 rows x 4 columns]"
            ]
          },
          "metadata": {
            "tags": []
          },
          "execution_count": 125
        }
      ]
    },
    {
      "cell_type": "code",
      "metadata": {
        "id": "NG1GR3Gh21yL",
        "colab": {
          "base_uri": "https://localhost:8080/",
          "height": 402
        },
        "outputId": "b254e2bd-00a5-42e4-81c2-8d1c7e3b71a4"
      },
      "source": [
        "df2 = df1.groupby(['Territory']).agg(promedio = ('Stage_sum','mean'))\n",
        "df2 = df2.reset_index()\n",
        "df2"
      ],
      "execution_count": null,
      "outputs": [
        {
          "output_type": "execute_result",
          "data": {
            "text/html": [
              "<div>\n",
              "<style scoped>\n",
              "    .dataframe tbody tr th:only-of-type {\n",
              "        vertical-align: middle;\n",
              "    }\n",
              "\n",
              "    .dataframe tbody tr th {\n",
              "        vertical-align: top;\n",
              "    }\n",
              "\n",
              "    .dataframe thead th {\n",
              "        text-align: right;\n",
              "    }\n",
              "</style>\n",
              "<table border=\"1\" class=\"dataframe\">\n",
              "  <thead>\n",
              "    <tr style=\"text-align: right;\">\n",
              "      <th></th>\n",
              "      <th>Territory</th>\n",
              "      <th>promedio</th>\n",
              "    </tr>\n",
              "  </thead>\n",
              "  <tbody>\n",
              "    <tr>\n",
              "      <th>0</th>\n",
              "      <td>Albania</td>\n",
              "      <td>0.000000</td>\n",
              "    </tr>\n",
              "    <tr>\n",
              "      <th>1</th>\n",
              "      <td>Armenia</td>\n",
              "      <td>0.000000</td>\n",
              "    </tr>\n",
              "    <tr>\n",
              "      <th>2</th>\n",
              "      <td>Australia</td>\n",
              "      <td>0.663778</td>\n",
              "    </tr>\n",
              "    <tr>\n",
              "      <th>3</th>\n",
              "      <td>Austria</td>\n",
              "      <td>0.805556</td>\n",
              "    </tr>\n",
              "    <tr>\n",
              "      <th>4</th>\n",
              "      <td>Belarus</td>\n",
              "      <td>0.000000</td>\n",
              "    </tr>\n",
              "    <tr>\n",
              "      <th>...</th>\n",
              "      <td>...</td>\n",
              "      <td>...</td>\n",
              "    </tr>\n",
              "    <tr>\n",
              "      <th>70</th>\n",
              "      <td>UAE (Dubai)</td>\n",
              "      <td>0.071429</td>\n",
              "    </tr>\n",
              "    <tr>\n",
              "      <th>71</th>\n",
              "      <td>UAE (Others)</td>\n",
              "      <td>1.000000</td>\n",
              "    </tr>\n",
              "    <tr>\n",
              "      <th>72</th>\n",
              "      <td>Ukraine</td>\n",
              "      <td>0.000000</td>\n",
              "    </tr>\n",
              "    <tr>\n",
              "      <th>73</th>\n",
              "      <td>United Kingdom</td>\n",
              "      <td>0.390351</td>\n",
              "    </tr>\n",
              "    <tr>\n",
              "      <th>74</th>\n",
              "      <td>Vietnam</td>\n",
              "      <td>0.365854</td>\n",
              "    </tr>\n",
              "  </tbody>\n",
              "</table>\n",
              "<p>75 rows × 2 columns</p>\n",
              "</div>"
            ],
            "text/plain": [
              "         Territory  promedio\n",
              "0          Albania  0.000000\n",
              "1          Armenia  0.000000\n",
              "2        Australia  0.663778\n",
              "3          Austria  0.805556\n",
              "4          Belarus  0.000000\n",
              "..             ...       ...\n",
              "70     UAE (Dubai)  0.071429\n",
              "71    UAE (Others)  1.000000\n",
              "72         Ukraine  0.000000\n",
              "73  United Kingdom  0.390351\n",
              "74         Vietnam  0.365854\n",
              "\n",
              "[75 rows x 2 columns]"
            ]
          },
          "metadata": {
            "tags": []
          },
          "execution_count": 129
        }
      ]
    }
  ]
}