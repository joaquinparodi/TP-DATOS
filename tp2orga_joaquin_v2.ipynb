{
  "nbformat": 4,
  "nbformat_minor": 0,
  "metadata": {
    "colab": {
      "name": " tp2orga_joaquin_v2.ipynb",
      "provenance": [],
      "collapsed_sections": [],
      "include_colab_link": true
    },
    "kernelspec": {
      "name": "python3",
      "display_name": "Python 3"
    }
  },
  "cells": [
    {
      "cell_type": "markdown",
      "metadata": {
        "id": "view-in-github",
        "colab_type": "text"
      },
      "source": [
        "<a href=\"https://colab.research.google.com/github/joaquinparodi/TP1-DATOS/blob/main/tp2orga_joaquin_v2.ipynb\" target=\"_parent\"><img src=\"https://colab.research.google.com/assets/colab-badge.svg\" alt=\"Open In Colab\"/></a>"
      ]
    },
    {
      "cell_type": "code",
      "metadata": {
        "id": "BTDqJL94FYGe",
        "colab": {
          "base_uri": "https://localhost:8080/"
        },
        "outputId": "9441c407-e5da-43e3-bbca-c2f137a76aa0"
      },
      "source": [
        "# importacion general de librerias y de visualizacion (matplotlib y seaborn)\n",
        "!pip install ptitprince\n",
        "import ptitprince as pt\n",
        "import pandas as pd\n",
        "import numpy as np\n"
      ],
      "execution_count": null,
      "outputs": [
        {
          "output_type": "stream",
          "text": [
            "Collecting ptitprince\n",
            "  Downloading https://files.pythonhosted.org/packages/4a/da/b7032999bc29a3974ac9c7939d56a669335966d8820356a723be978697fb/ptitprince-0.2.5.tar.gz\n",
            "Requirement already satisfied: seaborn>=0.10 in /usr/local/lib/python3.6/dist-packages (from ptitprince) (0.11.1)\n",
            "Requirement already satisfied: matplotlib in /usr/local/lib/python3.6/dist-packages (from ptitprince) (3.2.2)\n",
            "Requirement already satisfied: numpy>=1.13 in /usr/local/lib/python3.6/dist-packages (from ptitprince) (1.19.5)\n",
            "Requirement already satisfied: scipy in /usr/local/lib/python3.6/dist-packages (from ptitprince) (1.4.1)\n",
            "Collecting PyHamcrest>=1.9.0\n",
            "\u001b[?25l  Downloading https://files.pythonhosted.org/packages/40/16/e54cc65891f01cb62893540f44ffd3e8dab0a22443e1b438f1a9f5574bee/PyHamcrest-2.0.2-py3-none-any.whl (52kB)\n",
            "\u001b[K     |████████████████████████████████| 61kB 2.7MB/s \n",
            "\u001b[?25hRequirement already satisfied: cython in /usr/local/lib/python3.6/dist-packages (from ptitprince) (0.29.21)\n",
            "Requirement already satisfied: pandas>=0.23 in /usr/local/lib/python3.6/dist-packages (from seaborn>=0.10->ptitprince) (1.1.5)\n",
            "Requirement already satisfied: cycler>=0.10 in /usr/local/lib/python3.6/dist-packages (from matplotlib->ptitprince) (0.10.0)\n",
            "Requirement already satisfied: pyparsing!=2.0.4,!=2.1.2,!=2.1.6,>=2.0.1 in /usr/local/lib/python3.6/dist-packages (from matplotlib->ptitprince) (2.4.7)\n",
            "Requirement already satisfied: python-dateutil>=2.1 in /usr/local/lib/python3.6/dist-packages (from matplotlib->ptitprince) (2.8.1)\n",
            "Requirement already satisfied: kiwisolver>=1.0.1 in /usr/local/lib/python3.6/dist-packages (from matplotlib->ptitprince) (1.3.1)\n",
            "Requirement already satisfied: pytz>=2017.2 in /usr/local/lib/python3.6/dist-packages (from pandas>=0.23->seaborn>=0.10->ptitprince) (2018.9)\n",
            "Requirement already satisfied: six in /usr/local/lib/python3.6/dist-packages (from cycler>=0.10->matplotlib->ptitprince) (1.15.0)\n",
            "Building wheels for collected packages: ptitprince\n",
            "  Building wheel for ptitprince (setup.py) ... \u001b[?25l\u001b[?25hdone\n",
            "  Created wheel for ptitprince: filename=ptitprince-0.2.5-cp36-none-any.whl size=8428 sha256=3ea7476f1ece944b0b1e70b709567e60e46b4cd0d9061cb71f95b290c0693953\n",
            "  Stored in directory: /root/.cache/pip/wheels/fb/c1/75/2ef8da161053bdf8e03f9a360f426accd4fac1ddf7f6ed0029\n",
            "Successfully built ptitprince\n",
            "Installing collected packages: PyHamcrest, ptitprince\n",
            "Successfully installed PyHamcrest-2.0.2 ptitprince-0.2.5\n"
          ],
          "name": "stdout"
        }
      ]
    },
    {
      "cell_type": "code",
      "metadata": {
        "id": "wtgYMgn_kuPz"
      },
      "source": [
        "import matplotlib.pylab as plt\n",
        "import seaborn as sns"
      ],
      "execution_count": null,
      "outputs": []
    },
    {
      "cell_type": "code",
      "metadata": {
        "id": "ycF5SnjfGj4I"
      },
      "source": [
        "from pydrive.auth import GoogleAuth\n",
        "from pydrive.drive import GoogleDrive\n",
        "from google.colab import auth\n",
        "from oauth2client.client import GoogleCredentials"
      ],
      "execution_count": null,
      "outputs": []
    },
    {
      "cell_type": "code",
      "metadata": {
        "id": "QJbV2lDrGj-b"
      },
      "source": [
        "auth.authenticate_user()\n",
        "gauth = GoogleAuth()\n",
        "gauth.credentials = GoogleCredentials.get_application_default()\n",
        "drive = GoogleDrive(gauth)"
      ],
      "execution_count": null,
      "outputs": []
    },
    {
      "cell_type": "code",
      "metadata": {
        "id": "67yYcLf_GyAO"
      },
      "source": [
        " \n",
        "id='1MfnxlPGSmr-i1up_2iKCkrBIMcDHomnK'\n",
        "downloaded = drive.CreateFile({'id': id})\n",
        "downloaded.GetContentFile('data.csv')"
      ],
      "execution_count": null,
      "outputs": []
    },
    {
      "cell_type": "code",
      "metadata": {
        "id": "mWdphOAZwRLl"
      },
      "source": [
        "id='1kZt5ZN2eAyeNEIWLh6lGckgyDIxpHN4f'\r\n",
        "downloaded = drive.CreateFile({'id': id})\r\n",
        "downloaded.GetContentFile('test.csv')"
      ],
      "execution_count": null,
      "outputs": []
    },
    {
      "cell_type": "code",
      "metadata": {
        "id": "Ia9MlRRywaD7"
      },
      "source": [
        "test=pd.read_csv('test.csv')"
      ],
      "execution_count": null,
      "outputs": []
    },
    {
      "cell_type": "code",
      "metadata": {
        "id": "pFeCl82j8PtJ"
      },
      "source": [
        "import xgboost as xgb\r\n",
        "from sklearn.ensemble import RandomForestRegressor\r\n",
        "from sklearn.metrics import mean_squared_error\r\n",
        "import pandas as pd\r\n",
        "import numpy as np\r\n",
        "%matplotlib inline\r\n",
        "import matplotlib.pyplot as plt\r\n",
        "from sklearn import tree"
      ],
      "execution_count": null,
      "outputs": []
    },
    {
      "cell_type": "code",
      "metadata": {
        "id": "jEdxztOrd4Ge"
      },
      "source": [
        "class Modelo():\r\n",
        "  def __init__(self ):\r\n",
        "    pass\r\n",
        "\r\n",
        "\r\n",
        "\r\n",
        "  def splitTrainTarget(self,entrenamientoFeatureTarget):\r\n",
        "    #separo  mi dataframe en X= feature engineri e y= target\r\n",
        "    target='Stage'\r\n",
        "    listColumns=dfNew.columns.to_list()\r\n",
        "    listColumns.remove('Stage')\r\n",
        "    listColumns.remove('Opportunity_ID')\r\n",
        "    listColumns\r\n",
        "    X,y=entrenamientoFeatureTarget[listColumns], entrenamientoFeatureTarget[target]\r\n",
        "    print(\"las columnas del train son {} y del target son  {}\".format(X.columns , y.name ))\r\n",
        "    return X,y\r\n",
        "\r\n",
        "  def SplitTrainTest(self,X,y):\r\n",
        "    from sklearn.model_selection import train_test_split\r\n",
        "\r\n",
        "    X_train, X_test, y_train, y_test = \\\r\n",
        "    train_test_split(X, y, test_size=0.2, random_state=123)\r\n",
        "\r\n",
        "    return X_train, X_test, y_train, y_test\r\n",
        "\r\n",
        "\r\n",
        "  def entrenarYPredecirMismoSetEntrenamiento(self,X_train,y_train,X_test): \r\n",
        "    self.modelo.fit(X_train, y_train)\r\n",
        "    preds =  self.modelo.predict(X_test)\r\n",
        "    return preds\r\n",
        "\r\n",
        "  def errorSetEntrenamiento( self,X_train,y_train,X_test,y_test):\r\n",
        "     preds= self.entrenarYPredecirMismoSetEntrenamiento( X_train,y_train,X_test)\r\n",
        "     rmse = np.sqrt(mean_squared_error(y_test, preds))\r\n",
        "     print(\"RMSE: %f\" % (rmse)) \r\n",
        "\r\n",
        "\r\n",
        "\r\n",
        "  def entrenarYPredecirWithTest(self,X_train,y_train,dfFeaturestest):\r\n",
        "    \r\n",
        "    \r\n",
        "    dfFeaturestest=dfFeaturestest[X_train.columns.to_list()]\r\n",
        "    self.modelo.fit(X_train, y_train)\r\n",
        "    preds =  self.modelo.predict(dfFeaturestest)\r\n",
        "    return preds  \r\n",
        "\r\n",
        "  \r\n",
        "\r\n",
        "  def agregarTargetDfOriginal(self,entrenamiento,df):\r\n",
        "    #df es un dataframe ya agregado con features nuevos\r\n",
        "    #entrenamiento es el dataframe orginal sin procesar\r\n",
        "    target=entrenamiento[(entrenamiento['Stage']=='Closed Lost') | (entrenamiento['Stage']=='Closed Won')]\r\n",
        "    target=target[['Opportunity_ID','Stage']].groupby(['Opportunity_ID','Stage']).agg(total=('Stage','count')).reset_index()[['Opportunity_ID','Stage']]\r\n",
        "      \r\n",
        "    entrenamiento=pd.merge(df,target,on=\"Opportunity_ID\",how=\"inner\") \r\n",
        "    df=entrenamiento.replace(\"Closed Lost\", \"0\")\r\n",
        "    df=df.replace(\"Closed Won\", \"1\")\r\n",
        "  \r\n",
        "    return df\r\n",
        "\r\n",
        "  #feature engnerie\r\n",
        "  def featureEngeenier(self,df):\r\n",
        "    \"obsevar que df es el test original\"\r\n",
        "    #agregamos fecha \r\n",
        "    df['Month']=pd.to_datetime(df['Month'])\r\n",
        "    df['anio']=df['Month'].dt.year\r\n",
        "    df['mes']=df['Month'].dt.month\r\n",
        "    #agregamos columna totalamount\r\n",
        "    totalAmount=df.groupby(['Opportunity_ID' ]).agg(totalamount=('Total_Amount','sum'))\r\n",
        "    #agregamos total trf\r\n",
        "    totalTrf=df.groupby(['Opportunity_ID' ]).agg(totalTrf=('TRF','sum'))\r\n",
        "    dfFeatureNew=pd.merge(totalAmount,totalTrf,on=\"Opportunity_ID\",how=\"inner\").reset_index()\r\n",
        "\r\n",
        "    df=dfFeatureNew[['Opportunity_ID','totalamount','totalTrf']]\r\n",
        "    \r\n",
        "    return df\r\n",
        "\r\n",
        "\r\n",
        "  def formarDfKaggle(self ,preds ):\r\n",
        "    test=pd.read_csv('test.csv')\r\n",
        "    testAux2=test.groupby(['Opportunity_ID','Territory' ]).agg(cant=('Opportunity_ID','count')).reset_index()[['Opportunity_ID' ]]\r\n",
        " \r\n",
        "    dfkaggle = pd.DataFrame( preds)\r\n",
        "    dfkaggle['Opportunity_ID']=testAux2['Opportunity_ID']\r\n",
        "    dfkaggle.columns=['Target','Opportunity_ID']\r\n",
        "    dfkaggle=dfkaggle[['Opportunity_ID','Target']]\r\n",
        "    \r\n",
        "    from google.colab import files\r\n",
        "    dfkaggle.to_csv('dfKaggle.csv', index=False) \r\n",
        "    files.download('dfKaggle.csv')\r\n",
        "   \r\n",
        "  def featureImportancia(self,X_train):\r\n",
        "    # Gini importance\r\n",
        "    self.modelo.feature_importances_\r\n",
        "    plt.bar(X_train.columns, self.modelo.feature_importances_)\r\n",
        "    plt.xlabel('Features')\r\n",
        "    plt.ylabel('Importancia')\r\n",
        "    plt.title('Importancia Features con RF')\r\n",
        "    plt.show()\r\n"
      ],
      "execution_count": null,
      "outputs": []
    },
    {
      "cell_type": "code",
      "metadata": {
        "id": "OxQYQZGnVDjg"
      },
      "source": [
        "class RandomForestRegre(Modelo):\r\n",
        "  def __init__(self,hiperparametros):\r\n",
        "    super().__init__()\r\n",
        "    self.modelo= RandomForestRegressor(random_state=1,n_estimators=20)\r\n",
        "\r\n",
        "\r\n",
        "class xgbosst(Modelo):\r\n",
        "  def __init__(self,hiperparametros):\r\n",
        "    super().__init__()\r\n",
        "    self.modelo= xgb.XGBRegressor(objective ='reg:squarederror', \r\n",
        "                colsample_bytree = 0.3, learning_rate = 0.1,\r\n",
        "                max_depth = 2, alpha = 10, n_estimators = 500)\r\n",
        "  \r\n",
        "\r\n",
        "\r\n",
        "  # este polimorfismo es porque pedia el xgboost que y_train sea de tipo int\r\n",
        "  def entrenarYPredecirMismoSetEntrenamiento(self,X_train,y_train,X_test): \r\n",
        "    self.modelo.fit(X_train, y_train.astype(int))\r\n",
        "    preds =  self.modelo.predict(X_test)\r\n",
        "     \r\n",
        "    return preds\r\n",
        "\r\n",
        "  def errorSetEntrenamiento( self,X_train,y_train,X_test,y_test):\r\n",
        "    #aca la diferencia es que ytrain debe ser entero\r\n",
        "     \r\n",
        "    preds= self.entrenarYPredecirMismoSetEntrenamiento( X_train,y_train,X_test)\r\n",
        "    rmse = np.sqrt(mean_squared_error(y_test, preds))\r\n",
        "    print(\"RMSE: %f\" % (rmse))\r\n",
        "\r\n",
        "  def entrenarYPredecirWithTest(self,X_train,y_train,dfFeaturestest):\r\n",
        "     \r\n",
        "    dfFeaturestest=dfFeaturestest[X_train.columns.to_list()]\r\n",
        "    self.modelo.fit(X_train, y_train.astype(int))\r\n",
        "    preds =  self.modelo.predict(dfFeaturestest)\r\n",
        "    return preds  \r\n"
      ],
      "execution_count": null,
      "outputs": []
    },
    {
      "cell_type": "code",
      "metadata": {
        "id": "GFSXGWcwd5n2"
      },
      "source": [
        "#1)Apertura\r\n",
        "entrenamiento = pd.read_csv('data.csv')\r\n",
        "df=entrenamiento "
      ],
      "execution_count": null,
      "outputs": []
    },
    {
      "cell_type": "code",
      "metadata": {
        "id": "-qjr5CJgxTuA"
      },
      "source": [
        "random_state=1\r\n",
        "n_estimators=20\r\n",
        "#aca agregamos los hiperparametros que estamos probando\r\n",
        "Hiperparametros=[random_state ,n_estimators ]\r\n",
        "#por ahora no se usan los hirparametros, se setea dentro de las clase estos,\r\n",
        "#pero la idea es que se pueda setear desde afuera para probar"
      ],
      "execution_count": null,
      "outputs": []
    },
    {
      "cell_type": "code",
      "metadata": {
        "id": "AMAUX3H2rEVK"
      },
      "source": [
        "modelos={\r\n",
        "         'ramdomForest': RandomForestRegre(Hiperparametros),\r\n",
        "         'xgboost':xgbosst(Hiperparametros)\r\n",
        "}"
      ],
      "execution_count": null,
      "outputs": []
    },
    {
      "cell_type": "code",
      "metadata": {
        "colab": {
          "base_uri": "https://localhost:8080/",
          "height": 206
        },
        "id": "lNfcK7hOcbPv",
        "outputId": "f985cfa8-2f95-42b3-c715-cba75c5c2e36"
      },
      "source": [
        "\r\n",
        "\r\n",
        "modelo=modelos.get('xgboost')\r\n",
        "#cargamos el modelo \r\n",
        "modelo=modelo\r\n",
        "#hacemos feature engierine sobre el df original\r\n",
        "dfFeature=modelo.featureEngeenier(entrenamiento)\r\n",
        "dfFeature.head()\r\n",
        "#le agregamos el target\r\n",
        "dfFeatureWithTarget=modelo.agregarTargetDfOriginal(entrenamiento,dfFeature)\r\n",
        "dfFeatureWithTarget.head()"
      ],
      "execution_count": null,
      "outputs": [
        {
          "output_type": "execute_result",
          "data": {
            "text/html": [
              "<div>\n",
              "<style scoped>\n",
              "    .dataframe tbody tr th:only-of-type {\n",
              "        vertical-align: middle;\n",
              "    }\n",
              "\n",
              "    .dataframe tbody tr th {\n",
              "        vertical-align: top;\n",
              "    }\n",
              "\n",
              "    .dataframe thead th {\n",
              "        text-align: right;\n",
              "    }\n",
              "</style>\n",
              "<table border=\"1\" class=\"dataframe\">\n",
              "  <thead>\n",
              "    <tr style=\"text-align: right;\">\n",
              "      <th></th>\n",
              "      <th>Opportunity_ID</th>\n",
              "      <th>totalamount</th>\n",
              "      <th>totalTrf</th>\n",
              "      <th>Stage</th>\n",
              "    </tr>\n",
              "  </thead>\n",
              "  <tbody>\n",
              "    <tr>\n",
              "      <th>0</th>\n",
              "      <td>0</td>\n",
              "      <td>5272800.0</td>\n",
              "      <td>10</td>\n",
              "      <td>0</td>\n",
              "    </tr>\n",
              "    <tr>\n",
              "      <th>1</th>\n",
              "      <td>1</td>\n",
              "      <td>48230.0</td>\n",
              "      <td>0</td>\n",
              "      <td>1</td>\n",
              "    </tr>\n",
              "    <tr>\n",
              "      <th>2</th>\n",
              "      <td>2</td>\n",
              "      <td>83865.6</td>\n",
              "      <td>0</td>\n",
              "      <td>1</td>\n",
              "    </tr>\n",
              "    <tr>\n",
              "      <th>3</th>\n",
              "      <td>3</td>\n",
              "      <td>7421881.5</td>\n",
              "      <td>14</td>\n",
              "      <td>0</td>\n",
              "    </tr>\n",
              "    <tr>\n",
              "      <th>4</th>\n",
              "      <td>4</td>\n",
              "      <td>13357192.5</td>\n",
              "      <td>25</td>\n",
              "      <td>0</td>\n",
              "    </tr>\n",
              "  </tbody>\n",
              "</table>\n",
              "</div>"
            ],
            "text/plain": [
              "   Opportunity_ID  totalamount  totalTrf Stage\n",
              "0               0    5272800.0        10     0\n",
              "1               1      48230.0         0     1\n",
              "2               2      83865.6         0     1\n",
              "3               3    7421881.5        14     0\n",
              "4               4   13357192.5        25     0"
            ]
          },
          "metadata": {
            "tags": []
          },
          "execution_count": 796
        }
      ]
    },
    {
      "cell_type": "code",
      "metadata": {
        "id": "HX_M3gSx3xi2"
      },
      "source": [
        "def agregarMeanEncoding(dfWithFeatureTarget,columnCategorica):\r\n",
        "  \"\"\"dfWithFeature es un df de formato ['Opportunity_ID', y columnas nuevas agregadas anteriormente,target]\r\n",
        "  se hace minencoding columancategoria, retorna un df con opportunity_id, meanencoding,columnas nuevas agregadas anteriormente\r\n",
        "      \"\"\"\r\n",
        "  df = pd.read_csv('data.csv')\r\n",
        "  entrenamiento = pd.read_csv('data.csv')\r\n",
        "  df = df.replace('Closed Won', '1')\r\n",
        "  df = df.replace('Closed Lost', '0')\r\n",
        "  df = df[df['Stage'].isin(['0','1'])]\r\n",
        "  df.Stage = df.Stage.astype(int)\r\n",
        "  df = df.groupby([columnCategorica,'Opportunity_ID']).agg({'Stage':['sum','count']})\r\n",
        "  df = df.reset_index()\r\n",
        "  df1 = df\r\n",
        "  df1.columns = [columnCategorica,'Opportunity_ID','Stage_sum','Stage_count']\r\n",
        "  df1['Stage_sum'] = df1['Stage_sum'].apply(lambda x: 0 if x == 0 else 1)\r\n",
        "  df2 = df1.groupby([columnCategorica]).agg(meanEncodingTerritory = ('Stage_sum','mean'))\r\n",
        "  df2 = df2.reset_index()\r\n",
        "  agruparOportunity=entrenamiento.groupby(['Opportunity_ID',columnCategorica]).agg(cant=(columnCategorica,'count')).reset_index()\r\n",
        "  result=pd.merge(agruparOportunity,df2,on=columnCategorica,how='inner')\r\n",
        "  #eliminamos columnas que no sirve, columncategorica porque la reemplazamos por el mean enconding, y cant que \r\n",
        "  #la usamos para unificar por oportunity_id \r\n",
        "  del result['cant']\r\n",
        "  del result['Territory']\r\n",
        "  result2=pd.merge(dfWithFeatureTarget, result, on='Opportunity_ID' , how='inner')\r\n",
        "  \r\n",
        "  dfWithFeatureTarget=result2\r\n",
        "  dfWithFeatureTarget.Stage = dfWithFeatureTarget.Stage.astype(int)\r\n",
        "  return dfWithFeatureTarget"
      ],
      "execution_count": null,
      "outputs": []
    },
    {
      "cell_type": "code",
      "metadata": {
        "colab": {
          "base_uri": "https://localhost:8080/",
          "height": 206
        },
        "id": "ZT0Kq_wD55jd",
        "outputId": "1266008e-57b2-48f3-c975-7e48a47a6ce2"
      },
      "source": [
        "dfNew=agregarMeanEncoding(dfFeatureWithTarget,'Territory')\r\n",
        "dfNew.head()"
      ],
      "execution_count": null,
      "outputs": [
        {
          "output_type": "execute_result",
          "data": {
            "text/html": [
              "<div>\n",
              "<style scoped>\n",
              "    .dataframe tbody tr th:only-of-type {\n",
              "        vertical-align: middle;\n",
              "    }\n",
              "\n",
              "    .dataframe tbody tr th {\n",
              "        vertical-align: top;\n",
              "    }\n",
              "\n",
              "    .dataframe thead th {\n",
              "        text-align: right;\n",
              "    }\n",
              "</style>\n",
              "<table border=\"1\" class=\"dataframe\">\n",
              "  <thead>\n",
              "    <tr style=\"text-align: right;\">\n",
              "      <th></th>\n",
              "      <th>Opportunity_ID</th>\n",
              "      <th>totalamount</th>\n",
              "      <th>totalTrf</th>\n",
              "      <th>Stage</th>\n",
              "      <th>meanEncodingTerritory</th>\n",
              "    </tr>\n",
              "  </thead>\n",
              "  <tbody>\n",
              "    <tr>\n",
              "      <th>0</th>\n",
              "      <td>0</td>\n",
              "      <td>5272800.0</td>\n",
              "      <td>10</td>\n",
              "      <td>0</td>\n",
              "      <td>0.535927</td>\n",
              "    </tr>\n",
              "    <tr>\n",
              "      <th>1</th>\n",
              "      <td>1</td>\n",
              "      <td>48230.0</td>\n",
              "      <td>0</td>\n",
              "      <td>1</td>\n",
              "      <td>0.535927</td>\n",
              "    </tr>\n",
              "    <tr>\n",
              "      <th>2</th>\n",
              "      <td>2</td>\n",
              "      <td>83865.6</td>\n",
              "      <td>0</td>\n",
              "      <td>1</td>\n",
              "      <td>0.632723</td>\n",
              "    </tr>\n",
              "    <tr>\n",
              "      <th>3</th>\n",
              "      <td>3</td>\n",
              "      <td>7421881.5</td>\n",
              "      <td>14</td>\n",
              "      <td>0</td>\n",
              "      <td>0.632723</td>\n",
              "    </tr>\n",
              "    <tr>\n",
              "      <th>4</th>\n",
              "      <td>4</td>\n",
              "      <td>13357192.5</td>\n",
              "      <td>25</td>\n",
              "      <td>0</td>\n",
              "      <td>0.632723</td>\n",
              "    </tr>\n",
              "  </tbody>\n",
              "</table>\n",
              "</div>"
            ],
            "text/plain": [
              "   Opportunity_ID  totalamount  totalTrf  Stage  meanEncodingTerritory\n",
              "0               0    5272800.0        10      0               0.535927\n",
              "1               1      48230.0         0      1               0.535927\n",
              "2               2      83865.6         0      1               0.632723\n",
              "3               3    7421881.5        14      0               0.632723\n",
              "4               4   13357192.5        25      0               0.632723"
            ]
          },
          "metadata": {
            "tags": []
          },
          "execution_count": 798
        }
      ]
    },
    {
      "cell_type": "code",
      "metadata": {
        "colab": {
          "base_uri": "https://localhost:8080/"
        },
        "id": "YayVZcFN_CEF",
        "outputId": "868a744b-dd55-4dc4-cbe2-06e418651f8e"
      },
      "source": [
        "X,y=modelo.splitTrainTarget(dfNew)"
      ],
      "execution_count": null,
      "outputs": [
        {
          "output_type": "stream",
          "text": [
            "las columnas del train son Index(['totalamount', 'totalTrf', 'meanEncodingTerritory'], dtype='object') y del target son  Stage\n"
          ],
          "name": "stdout"
        }
      ]
    },
    {
      "cell_type": "code",
      "metadata": {
        "id": "EEpCLBou_ToG"
      },
      "source": [
        "X_train, X_test, y_train, y_test=modelo.SplitTrainTest(X,y)"
      ],
      "execution_count": null,
      "outputs": []
    },
    {
      "cell_type": "code",
      "metadata": {
        "colab": {
          "base_uri": "https://localhost:8080/",
          "height": 423
        },
        "id": "0b7mpRqTM2VH",
        "outputId": "278cdd04-e9f3-4093-b513-f6f24fca60be"
      },
      "source": [
        "X_train"
      ],
      "execution_count": null,
      "outputs": [
        {
          "output_type": "execute_result",
          "data": {
            "text/html": [
              "<div>\n",
              "<style scoped>\n",
              "    .dataframe tbody tr th:only-of-type {\n",
              "        vertical-align: middle;\n",
              "    }\n",
              "\n",
              "    .dataframe tbody tr th {\n",
              "        vertical-align: top;\n",
              "    }\n",
              "\n",
              "    .dataframe thead th {\n",
              "        text-align: right;\n",
              "    }\n",
              "</style>\n",
              "<table border=\"1\" class=\"dataframe\">\n",
              "  <thead>\n",
              "    <tr style=\"text-align: right;\">\n",
              "      <th></th>\n",
              "      <th>totalamount</th>\n",
              "      <th>totalTrf</th>\n",
              "      <th>meanEncodingTerritory</th>\n",
              "    </tr>\n",
              "  </thead>\n",
              "  <tbody>\n",
              "    <tr>\n",
              "      <th>6509</th>\n",
              "      <td>323212.5</td>\n",
              "      <td>0</td>\n",
              "      <td>0.813953</td>\n",
              "    </tr>\n",
              "    <tr>\n",
              "      <th>6914</th>\n",
              "      <td>463600.0</td>\n",
              "      <td>0</td>\n",
              "      <td>0.535927</td>\n",
              "    </tr>\n",
              "    <tr>\n",
              "      <th>2464</th>\n",
              "      <td>1679730.0</td>\n",
              "      <td>5</td>\n",
              "      <td>0.593750</td>\n",
              "    </tr>\n",
              "    <tr>\n",
              "      <th>913</th>\n",
              "      <td>498771.0</td>\n",
              "      <td>1</td>\n",
              "      <td>0.367953</td>\n",
              "    </tr>\n",
              "    <tr>\n",
              "      <th>4986</th>\n",
              "      <td>52126.0</td>\n",
              "      <td>0</td>\n",
              "      <td>0.379310</td>\n",
              "    </tr>\n",
              "    <tr>\n",
              "      <th>...</th>\n",
              "      <td>...</td>\n",
              "      <td>...</td>\n",
              "      <td>...</td>\n",
              "    </tr>\n",
              "    <tr>\n",
              "      <th>9785</th>\n",
              "      <td>1307775.0</td>\n",
              "      <td>3</td>\n",
              "      <td>0.548148</td>\n",
              "    </tr>\n",
              "    <tr>\n",
              "      <th>7763</th>\n",
              "      <td>103125.0</td>\n",
              "      <td>0</td>\n",
              "      <td>0.593750</td>\n",
              "    </tr>\n",
              "    <tr>\n",
              "      <th>5218</th>\n",
              "      <td>292410.0</td>\n",
              "      <td>1</td>\n",
              "      <td>0.417755</td>\n",
              "    </tr>\n",
              "    <tr>\n",
              "      <th>1346</th>\n",
              "      <td>326340.0</td>\n",
              "      <td>0</td>\n",
              "      <td>0.802326</td>\n",
              "    </tr>\n",
              "    <tr>\n",
              "      <th>3582</th>\n",
              "      <td>3010000.0</td>\n",
              "      <td>0</td>\n",
              "      <td>0.802326</td>\n",
              "    </tr>\n",
              "  </tbody>\n",
              "</table>\n",
              "<p>7832 rows × 3 columns</p>\n",
              "</div>"
            ],
            "text/plain": [
              "      totalamount  totalTrf  meanEncodingTerritory\n",
              "6509     323212.5         0               0.813953\n",
              "6914     463600.0         0               0.535927\n",
              "2464    1679730.0         5               0.593750\n",
              "913      498771.0         1               0.367953\n",
              "4986      52126.0         0               0.379310\n",
              "...           ...       ...                    ...\n",
              "9785    1307775.0         3               0.548148\n",
              "7763     103125.0         0               0.593750\n",
              "5218     292410.0         1               0.417755\n",
              "1346     326340.0         0               0.802326\n",
              "3582    3010000.0         0               0.802326\n",
              "\n",
              "[7832 rows x 3 columns]"
            ]
          },
          "metadata": {
            "tags": []
          },
          "execution_count": 801
        }
      ]
    },
    {
      "cell_type": "code",
      "metadata": {
        "colab": {
          "base_uri": "https://localhost:8080/"
        },
        "id": "mfTKkk-h_tWB",
        "outputId": "e3bdce11-7754-4a87-8070-0bfb715fca45"
      },
      "source": [
        "#entrenamo y predecimos, y comparamos con el valor real y vemos su error\r\n",
        "modelo.errorSetEntrenamiento(  X_train,y_train,X_test,y_test) "
      ],
      "execution_count": null,
      "outputs": [
        {
          "output_type": "stream",
          "text": [
            "RMSE: 0.419838\n"
          ],
          "name": "stdout"
        }
      ]
    },
    {
      "cell_type": "markdown",
      "metadata": {
        "id": "PtwFYExZAMXo"
      },
      "source": [
        "# aca vamos a entrenar y predecir con el test para subir a kaggle"
      ]
    },
    {
      "cell_type": "code",
      "metadata": {
        "id": "EzKYmGYmUCJ5"
      },
      "source": [
        "test=pd.read_csv('test.csv')"
      ],
      "execution_count": null,
      "outputs": []
    },
    {
      "cell_type": "code",
      "metadata": {
        "id": "fNKAbDD9IPVG",
        "colab": {
          "base_uri": "https://localhost:8080/",
          "height": 206
        },
        "outputId": "7c25cf2b-a810-4461-be12-599d0d09397d"
      },
      "source": [
        "testFeature=modelo.featureEngeenier(test)\r\n",
        "testFeature.head()"
      ],
      "execution_count": null,
      "outputs": [
        {
          "output_type": "execute_result",
          "data": {
            "text/html": [
              "<div>\n",
              "<style scoped>\n",
              "    .dataframe tbody tr th:only-of-type {\n",
              "        vertical-align: middle;\n",
              "    }\n",
              "\n",
              "    .dataframe tbody tr th {\n",
              "        vertical-align: top;\n",
              "    }\n",
              "\n",
              "    .dataframe thead th {\n",
              "        text-align: right;\n",
              "    }\n",
              "</style>\n",
              "<table border=\"1\" class=\"dataframe\">\n",
              "  <thead>\n",
              "    <tr style=\"text-align: right;\">\n",
              "      <th></th>\n",
              "      <th>Opportunity_ID</th>\n",
              "      <th>totalamount</th>\n",
              "      <th>totalTrf</th>\n",
              "    </tr>\n",
              "  </thead>\n",
              "  <tbody>\n",
              "    <tr>\n",
              "      <th>0</th>\n",
              "      <td>10689</td>\n",
              "      <td>367419.0</td>\n",
              "      <td>0</td>\n",
              "    </tr>\n",
              "    <tr>\n",
              "      <th>1</th>\n",
              "      <td>10690</td>\n",
              "      <td>757783.5</td>\n",
              "      <td>1</td>\n",
              "    </tr>\n",
              "    <tr>\n",
              "      <th>2</th>\n",
              "      <td>10691</td>\n",
              "      <td>21037.5</td>\n",
              "      <td>0</td>\n",
              "    </tr>\n",
              "    <tr>\n",
              "      <th>3</th>\n",
              "      <td>10692</td>\n",
              "      <td>2169106.5</td>\n",
              "      <td>6</td>\n",
              "    </tr>\n",
              "    <tr>\n",
              "      <th>4</th>\n",
              "      <td>10693</td>\n",
              "      <td>5752.5</td>\n",
              "      <td>0</td>\n",
              "    </tr>\n",
              "  </tbody>\n",
              "</table>\n",
              "</div>"
            ],
            "text/plain": [
              "   Opportunity_ID  totalamount  totalTrf\n",
              "0           10689     367419.0         0\n",
              "1           10690     757783.5         1\n",
              "2           10691      21037.5         0\n",
              "3           10692    2169106.5         6\n",
              "4           10693       5752.5         0"
            ]
          },
          "metadata": {
            "tags": []
          },
          "execution_count": 804
        }
      ]
    },
    {
      "cell_type": "code",
      "metadata": {
        "id": "sITRSKzHA_xc"
      },
      "source": [
        "def meanEncodingDejandoColumnaCategorica(columnsCategory):\r\n",
        "  \"\"\"devuelve un dataframe con el formato [columnscategory,meanencodingcategory]\r\n",
        "    es porque lo vamos a usar para hacer merge por su columna categorica\"\"\"\r\n",
        "  df = pd.read_csv('data.csv')\r\n",
        "  entrenamiento = pd.read_csv('data.csv')\r\n",
        "  df = df.replace('Closed Won', '1')\r\n",
        "  df = df.replace('Closed Lost', '0')\r\n",
        "  df = df[df['Stage'].isin(['0','1'])]\r\n",
        "  df.Stage = df.Stage.astype(int)\r\n",
        "  df = df.groupby([columnsCategory,'Opportunity_ID']).agg({'Stage':['sum','count']})\r\n",
        "  df = df.reset_index()\r\n",
        "  df1 = df\r\n",
        "  df1.columns = [columnsCategory,'Opportunity_ID','Stage_sum','Stage_count']\r\n",
        "  df1['Stage_sum'] = df1['Stage_sum'].apply(lambda x: 0 if x == 0 else 1)\r\n",
        "  df2 = df1.groupby([columnsCategory]).agg(meanEncodingTerritory = ('Stage_sum','mean'))\r\n",
        "  df2 = df2.reset_index()\r\n",
        "  agruparOportunity=entrenamiento.groupby(['Opportunity_ID',columnsCategory]).agg(cant=(columnsCategory,'count')).reset_index()\r\n",
        "  result=pd.merge(agruparOportunity,df2,on=columnsCategory,how='inner')\r\n",
        "  result.head()\r\n",
        "  del result['cant']\r\n",
        "  result2=result[[columnsCategory,'meanEncodingTerritory']].drop_duplicates()\r\n",
        "  return  result2"
      ],
      "execution_count": null,
      "outputs": []
    },
    {
      "cell_type": "code",
      "metadata": {
        "colab": {
          "base_uri": "https://localhost:8080/",
          "height": 206
        },
        "id": "6sU0DgJaDXZ9",
        "outputId": "4623eb91-0836-451b-fddd-744c8050c3e1"
      },
      "source": [
        "dfMeanEncoding=meanEncodingDejandoColumnaCategorica(\"Territory\")\r\n",
        "dfMeanEncoding.head()"
      ],
      "execution_count": null,
      "outputs": [
        {
          "output_type": "execute_result",
          "data": {
            "text/html": [
              "<div>\n",
              "<style scoped>\n",
              "    .dataframe tbody tr th:only-of-type {\n",
              "        vertical-align: middle;\n",
              "    }\n",
              "\n",
              "    .dataframe tbody tr th {\n",
              "        vertical-align: top;\n",
              "    }\n",
              "\n",
              "    .dataframe thead th {\n",
              "        text-align: right;\n",
              "    }\n",
              "</style>\n",
              "<table border=\"1\" class=\"dataframe\">\n",
              "  <thead>\n",
              "    <tr style=\"text-align: right;\">\n",
              "      <th></th>\n",
              "      <th>Territory</th>\n",
              "      <th>meanEncodingTerritory</th>\n",
              "    </tr>\n",
              "  </thead>\n",
              "  <tbody>\n",
              "    <tr>\n",
              "      <th>0</th>\n",
              "      <td>None</td>\n",
              "      <td>0.535927</td>\n",
              "    </tr>\n",
              "    <tr>\n",
              "      <th>1867</th>\n",
              "      <td>NW America</td>\n",
              "      <td>0.632723</td>\n",
              "    </tr>\n",
              "    <tr>\n",
              "      <th>2745</th>\n",
              "      <td>India</td>\n",
              "      <td>0.457227</td>\n",
              "    </tr>\n",
              "    <tr>\n",
              "      <th>3425</th>\n",
              "      <td>Italy</td>\n",
              "      <td>0.432692</td>\n",
              "    </tr>\n",
              "    <tr>\n",
              "      <th>3633</th>\n",
              "      <td>Germany</td>\n",
              "      <td>0.548148</td>\n",
              "    </tr>\n",
              "  </tbody>\n",
              "</table>\n",
              "</div>"
            ],
            "text/plain": [
              "       Territory  meanEncodingTerritory\n",
              "0           None               0.535927\n",
              "1867  NW America               0.632723\n",
              "2745       India               0.457227\n",
              "3425       Italy               0.432692\n",
              "3633     Germany               0.548148"
            ]
          },
          "metadata": {
            "tags": []
          },
          "execution_count": 806
        }
      ]
    },
    {
      "cell_type": "code",
      "metadata": {
        "id": "LslFfiRwS_UF"
      },
      "source": [
        ""
      ],
      "execution_count": null,
      "outputs": []
    },
    {
      "cell_type": "code",
      "metadata": {
        "colab": {
          "base_uri": "https://localhost:8080/",
          "height": 206
        },
        "id": "x_LDypccEjZg",
        "outputId": "8ddef53a-6b63-4f06-e263-09a22c879ec5"
      },
      "source": [
        "testAux=test.groupby(['Opportunity_ID','Territory' ]).agg(cant=('Opportunity_ID','count')).reset_index()[['Opportunity_ID','Territory' ]]\r\n",
        "testAux.head()"
      ],
      "execution_count": null,
      "outputs": [
        {
          "output_type": "execute_result",
          "data": {
            "text/html": [
              "<div>\n",
              "<style scoped>\n",
              "    .dataframe tbody tr th:only-of-type {\n",
              "        vertical-align: middle;\n",
              "    }\n",
              "\n",
              "    .dataframe tbody tr th {\n",
              "        vertical-align: top;\n",
              "    }\n",
              "\n",
              "    .dataframe thead th {\n",
              "        text-align: right;\n",
              "    }\n",
              "</style>\n",
              "<table border=\"1\" class=\"dataframe\">\n",
              "  <thead>\n",
              "    <tr style=\"text-align: right;\">\n",
              "      <th></th>\n",
              "      <th>Opportunity_ID</th>\n",
              "      <th>Territory</th>\n",
              "    </tr>\n",
              "  </thead>\n",
              "  <tbody>\n",
              "    <tr>\n",
              "      <th>0</th>\n",
              "      <td>10689</td>\n",
              "      <td>Germany</td>\n",
              "    </tr>\n",
              "    <tr>\n",
              "      <th>1</th>\n",
              "      <td>10690</td>\n",
              "      <td>Germany</td>\n",
              "    </tr>\n",
              "    <tr>\n",
              "      <th>2</th>\n",
              "      <td>10691</td>\n",
              "      <td>NE America</td>\n",
              "    </tr>\n",
              "    <tr>\n",
              "      <th>3</th>\n",
              "      <td>10692</td>\n",
              "      <td>NW America</td>\n",
              "    </tr>\n",
              "    <tr>\n",
              "      <th>4</th>\n",
              "      <td>10693</td>\n",
              "      <td>NW America</td>\n",
              "    </tr>\n",
              "  </tbody>\n",
              "</table>\n",
              "</div>"
            ],
            "text/plain": [
              "   Opportunity_ID   Territory\n",
              "0           10689     Germany\n",
              "1           10690     Germany\n",
              "2           10691  NE America\n",
              "3           10692  NW America\n",
              "4           10693  NW America"
            ]
          },
          "metadata": {
            "tags": []
          },
          "execution_count": 807
        }
      ]
    },
    {
      "cell_type": "code",
      "metadata": {
        "colab": {
          "base_uri": "https://localhost:8080/",
          "height": 423
        },
        "id": "9-z9Jw9sGZmn",
        "outputId": "f04b0c3a-275e-4232-e563-c717dc079c24"
      },
      "source": [
        "territories=pd.merge(testAux,dfMeanEncoding, on=\"Territory\", how='left') \r\n",
        "territories"
      ],
      "execution_count": null,
      "outputs": [
        {
          "output_type": "execute_result",
          "data": {
            "text/html": [
              "<div>\n",
              "<style scoped>\n",
              "    .dataframe tbody tr th:only-of-type {\n",
              "        vertical-align: middle;\n",
              "    }\n",
              "\n",
              "    .dataframe tbody tr th {\n",
              "        vertical-align: top;\n",
              "    }\n",
              "\n",
              "    .dataframe thead th {\n",
              "        text-align: right;\n",
              "    }\n",
              "</style>\n",
              "<table border=\"1\" class=\"dataframe\">\n",
              "  <thead>\n",
              "    <tr style=\"text-align: right;\">\n",
              "      <th></th>\n",
              "      <th>Opportunity_ID</th>\n",
              "      <th>Territory</th>\n",
              "      <th>meanEncodingTerritory</th>\n",
              "    </tr>\n",
              "  </thead>\n",
              "  <tbody>\n",
              "    <tr>\n",
              "      <th>0</th>\n",
              "      <td>10689</td>\n",
              "      <td>Germany</td>\n",
              "      <td>0.548148</td>\n",
              "    </tr>\n",
              "    <tr>\n",
              "      <th>1</th>\n",
              "      <td>10690</td>\n",
              "      <td>Germany</td>\n",
              "      <td>0.548148</td>\n",
              "    </tr>\n",
              "    <tr>\n",
              "      <th>2</th>\n",
              "      <td>10691</td>\n",
              "      <td>NE America</td>\n",
              "      <td>0.347490</td>\n",
              "    </tr>\n",
              "    <tr>\n",
              "      <th>3</th>\n",
              "      <td>10692</td>\n",
              "      <td>NW America</td>\n",
              "      <td>0.632723</td>\n",
              "    </tr>\n",
              "    <tr>\n",
              "      <th>4</th>\n",
              "      <td>10693</td>\n",
              "      <td>NW America</td>\n",
              "      <td>0.632723</td>\n",
              "    </tr>\n",
              "    <tr>\n",
              "      <th>...</th>\n",
              "      <td>...</td>\n",
              "      <td>...</td>\n",
              "      <td>...</td>\n",
              "    </tr>\n",
              "    <tr>\n",
              "      <th>1562</th>\n",
              "      <td>12364</td>\n",
              "      <td>KSA</td>\n",
              "      <td>0.416667</td>\n",
              "    </tr>\n",
              "    <tr>\n",
              "      <th>1563</th>\n",
              "      <td>12365</td>\n",
              "      <td>SE America</td>\n",
              "      <td>0.367953</td>\n",
              "    </tr>\n",
              "    <tr>\n",
              "      <th>1564</th>\n",
              "      <td>12366</td>\n",
              "      <td>SE America</td>\n",
              "      <td>0.367953</td>\n",
              "    </tr>\n",
              "    <tr>\n",
              "      <th>1565</th>\n",
              "      <td>12367</td>\n",
              "      <td>NE America</td>\n",
              "      <td>0.347490</td>\n",
              "    </tr>\n",
              "    <tr>\n",
              "      <th>1566</th>\n",
              "      <td>12368</td>\n",
              "      <td>Belgium</td>\n",
              "      <td>0.569832</td>\n",
              "    </tr>\n",
              "  </tbody>\n",
              "</table>\n",
              "<p>1567 rows × 3 columns</p>\n",
              "</div>"
            ],
            "text/plain": [
              "      Opportunity_ID   Territory  meanEncodingTerritory\n",
              "0              10689     Germany               0.548148\n",
              "1              10690     Germany               0.548148\n",
              "2              10691  NE America               0.347490\n",
              "3              10692  NW America               0.632723\n",
              "4              10693  NW America               0.632723\n",
              "...              ...         ...                    ...\n",
              "1562           12364         KSA               0.416667\n",
              "1563           12365  SE America               0.367953\n",
              "1564           12366  SE America               0.367953\n",
              "1565           12367  NE America               0.347490\n",
              "1566           12368     Belgium               0.569832\n",
              "\n",
              "[1567 rows x 3 columns]"
            ]
          },
          "metadata": {
            "tags": []
          },
          "execution_count": 808
        }
      ]
    },
    {
      "cell_type": "code",
      "metadata": {
        "colab": {
          "base_uri": "https://localhost:8080/",
          "height": 423
        },
        "id": "5bH7bFlvJk0T",
        "outputId": "db07beae-5f9b-4e02-b975-b5111f2e4d57"
      },
      "source": [
        " testFinal=pd.merge(testFeature,territories, on=\"Opportunity_ID\", how='inner') \r\n",
        " testFinal"
      ],
      "execution_count": null,
      "outputs": [
        {
          "output_type": "execute_result",
          "data": {
            "text/html": [
              "<div>\n",
              "<style scoped>\n",
              "    .dataframe tbody tr th:only-of-type {\n",
              "        vertical-align: middle;\n",
              "    }\n",
              "\n",
              "    .dataframe tbody tr th {\n",
              "        vertical-align: top;\n",
              "    }\n",
              "\n",
              "    .dataframe thead th {\n",
              "        text-align: right;\n",
              "    }\n",
              "</style>\n",
              "<table border=\"1\" class=\"dataframe\">\n",
              "  <thead>\n",
              "    <tr style=\"text-align: right;\">\n",
              "      <th></th>\n",
              "      <th>Opportunity_ID</th>\n",
              "      <th>totalamount</th>\n",
              "      <th>totalTrf</th>\n",
              "      <th>Territory</th>\n",
              "      <th>meanEncodingTerritory</th>\n",
              "    </tr>\n",
              "  </thead>\n",
              "  <tbody>\n",
              "    <tr>\n",
              "      <th>0</th>\n",
              "      <td>10689</td>\n",
              "      <td>367419.0</td>\n",
              "      <td>0</td>\n",
              "      <td>Germany</td>\n",
              "      <td>0.548148</td>\n",
              "    </tr>\n",
              "    <tr>\n",
              "      <th>1</th>\n",
              "      <td>10690</td>\n",
              "      <td>757783.5</td>\n",
              "      <td>1</td>\n",
              "      <td>Germany</td>\n",
              "      <td>0.548148</td>\n",
              "    </tr>\n",
              "    <tr>\n",
              "      <th>2</th>\n",
              "      <td>10691</td>\n",
              "      <td>21037.5</td>\n",
              "      <td>0</td>\n",
              "      <td>NE America</td>\n",
              "      <td>0.347490</td>\n",
              "    </tr>\n",
              "    <tr>\n",
              "      <th>3</th>\n",
              "      <td>10692</td>\n",
              "      <td>2169106.5</td>\n",
              "      <td>6</td>\n",
              "      <td>NW America</td>\n",
              "      <td>0.632723</td>\n",
              "    </tr>\n",
              "    <tr>\n",
              "      <th>4</th>\n",
              "      <td>10693</td>\n",
              "      <td>5752.5</td>\n",
              "      <td>0</td>\n",
              "      <td>NW America</td>\n",
              "      <td>0.632723</td>\n",
              "    </tr>\n",
              "    <tr>\n",
              "      <th>...</th>\n",
              "      <td>...</td>\n",
              "      <td>...</td>\n",
              "      <td>...</td>\n",
              "      <td>...</td>\n",
              "      <td>...</td>\n",
              "    </tr>\n",
              "    <tr>\n",
              "      <th>1562</th>\n",
              "      <td>12364</td>\n",
              "      <td>147750.0</td>\n",
              "      <td>0</td>\n",
              "      <td>KSA</td>\n",
              "      <td>0.416667</td>\n",
              "    </tr>\n",
              "    <tr>\n",
              "      <th>1563</th>\n",
              "      <td>12365</td>\n",
              "      <td>45054.9</td>\n",
              "      <td>0</td>\n",
              "      <td>SE America</td>\n",
              "      <td>0.367953</td>\n",
              "    </tr>\n",
              "    <tr>\n",
              "      <th>1564</th>\n",
              "      <td>12366</td>\n",
              "      <td>100122.0</td>\n",
              "      <td>0</td>\n",
              "      <td>SE America</td>\n",
              "      <td>0.367953</td>\n",
              "    </tr>\n",
              "    <tr>\n",
              "      <th>1565</th>\n",
              "      <td>12367</td>\n",
              "      <td>143220.0</td>\n",
              "      <td>0</td>\n",
              "      <td>NE America</td>\n",
              "      <td>0.347490</td>\n",
              "    </tr>\n",
              "    <tr>\n",
              "      <th>1566</th>\n",
              "      <td>12368</td>\n",
              "      <td>871020.8</td>\n",
              "      <td>3</td>\n",
              "      <td>Belgium</td>\n",
              "      <td>0.569832</td>\n",
              "    </tr>\n",
              "  </tbody>\n",
              "</table>\n",
              "<p>1567 rows × 5 columns</p>\n",
              "</div>"
            ],
            "text/plain": [
              "      Opportunity_ID  totalamount  totalTrf   Territory  meanEncodingTerritory\n",
              "0              10689     367419.0         0     Germany               0.548148\n",
              "1              10690     757783.5         1     Germany               0.548148\n",
              "2              10691      21037.5         0  NE America               0.347490\n",
              "3              10692    2169106.5         6  NW America               0.632723\n",
              "4              10693       5752.5         0  NW America               0.632723\n",
              "...              ...          ...       ...         ...                    ...\n",
              "1562           12364     147750.0         0         KSA               0.416667\n",
              "1563           12365      45054.9         0  SE America               0.367953\n",
              "1564           12366     100122.0         0  SE America               0.367953\n",
              "1565           12367     143220.0         0  NE America               0.347490\n",
              "1566           12368     871020.8         3     Belgium               0.569832\n",
              "\n",
              "[1567 rows x 5 columns]"
            ]
          },
          "metadata": {
            "tags": []
          },
          "execution_count": 809
        }
      ]
    },
    {
      "cell_type": "code",
      "metadata": {
        "id": "PmP4OclMKpSQ"
      },
      "source": [
        "columnsCategoria=\"Territory\"\r\n",
        "\r\n",
        "listColumns=testFinal.columns.to_list()\r\n",
        "listColumns.remove(columnsCategoria)\r\n",
        "listColumns.remove('Opportunity_ID')\r\n",
        "listColumns\r\n",
        "testFinal=testFinal[listColumns]"
      ],
      "execution_count": null,
      "outputs": []
    },
    {
      "cell_type": "code",
      "metadata": {
        "id": "Yz5_hS22Lv4T"
      },
      "source": [
        "#X_train, y_test se sacan del df entrenamiento"
      ],
      "execution_count": null,
      "outputs": []
    },
    {
      "cell_type": "code",
      "metadata": {
        "colab": {
          "base_uri": "https://localhost:8080/",
          "height": 423
        },
        "id": "BwwK5vObNosy",
        "outputId": "db63b939-1736-4320-d6ad-d0404c9fcc77"
      },
      "source": [
        "X_train"
      ],
      "execution_count": null,
      "outputs": [
        {
          "output_type": "execute_result",
          "data": {
            "text/html": [
              "<div>\n",
              "<style scoped>\n",
              "    .dataframe tbody tr th:only-of-type {\n",
              "        vertical-align: middle;\n",
              "    }\n",
              "\n",
              "    .dataframe tbody tr th {\n",
              "        vertical-align: top;\n",
              "    }\n",
              "\n",
              "    .dataframe thead th {\n",
              "        text-align: right;\n",
              "    }\n",
              "</style>\n",
              "<table border=\"1\" class=\"dataframe\">\n",
              "  <thead>\n",
              "    <tr style=\"text-align: right;\">\n",
              "      <th></th>\n",
              "      <th>totalamount</th>\n",
              "      <th>totalTrf</th>\n",
              "      <th>meanEncodingTerritory</th>\n",
              "    </tr>\n",
              "  </thead>\n",
              "  <tbody>\n",
              "    <tr>\n",
              "      <th>6509</th>\n",
              "      <td>323212.5</td>\n",
              "      <td>0</td>\n",
              "      <td>0.813953</td>\n",
              "    </tr>\n",
              "    <tr>\n",
              "      <th>6914</th>\n",
              "      <td>463600.0</td>\n",
              "      <td>0</td>\n",
              "      <td>0.535927</td>\n",
              "    </tr>\n",
              "    <tr>\n",
              "      <th>2464</th>\n",
              "      <td>1679730.0</td>\n",
              "      <td>5</td>\n",
              "      <td>0.593750</td>\n",
              "    </tr>\n",
              "    <tr>\n",
              "      <th>913</th>\n",
              "      <td>498771.0</td>\n",
              "      <td>1</td>\n",
              "      <td>0.367953</td>\n",
              "    </tr>\n",
              "    <tr>\n",
              "      <th>4986</th>\n",
              "      <td>52126.0</td>\n",
              "      <td>0</td>\n",
              "      <td>0.379310</td>\n",
              "    </tr>\n",
              "    <tr>\n",
              "      <th>...</th>\n",
              "      <td>...</td>\n",
              "      <td>...</td>\n",
              "      <td>...</td>\n",
              "    </tr>\n",
              "    <tr>\n",
              "      <th>9785</th>\n",
              "      <td>1307775.0</td>\n",
              "      <td>3</td>\n",
              "      <td>0.548148</td>\n",
              "    </tr>\n",
              "    <tr>\n",
              "      <th>7763</th>\n",
              "      <td>103125.0</td>\n",
              "      <td>0</td>\n",
              "      <td>0.593750</td>\n",
              "    </tr>\n",
              "    <tr>\n",
              "      <th>5218</th>\n",
              "      <td>292410.0</td>\n",
              "      <td>1</td>\n",
              "      <td>0.417755</td>\n",
              "    </tr>\n",
              "    <tr>\n",
              "      <th>1346</th>\n",
              "      <td>326340.0</td>\n",
              "      <td>0</td>\n",
              "      <td>0.802326</td>\n",
              "    </tr>\n",
              "    <tr>\n",
              "      <th>3582</th>\n",
              "      <td>3010000.0</td>\n",
              "      <td>0</td>\n",
              "      <td>0.802326</td>\n",
              "    </tr>\n",
              "  </tbody>\n",
              "</table>\n",
              "<p>7832 rows × 3 columns</p>\n",
              "</div>"
            ],
            "text/plain": [
              "      totalamount  totalTrf  meanEncodingTerritory\n",
              "6509     323212.5         0               0.813953\n",
              "6914     463600.0         0               0.535927\n",
              "2464    1679730.0         5               0.593750\n",
              "913      498771.0         1               0.367953\n",
              "4986      52126.0         0               0.379310\n",
              "...           ...       ...                    ...\n",
              "9785    1307775.0         3               0.548148\n",
              "7763     103125.0         0               0.593750\n",
              "5218     292410.0         1               0.417755\n",
              "1346     326340.0         0               0.802326\n",
              "3582    3010000.0         0               0.802326\n",
              "\n",
              "[7832 rows x 3 columns]"
            ]
          },
          "metadata": {
            "tags": []
          },
          "execution_count": 812
        }
      ]
    },
    {
      "cell_type": "code",
      "metadata": {
        "colab": {
          "base_uri": "https://localhost:8080/"
        },
        "id": "RebNOIuxNveb",
        "outputId": "afaf60ec-4f70-4022-ad00-6d83f15c59b9"
      },
      "source": [
        "y_train"
      ],
      "execution_count": null,
      "outputs": [
        {
          "output_type": "execute_result",
          "data": {
            "text/plain": [
              "6509    1\n",
              "6914    1\n",
              "2464    0\n",
              "913     0\n",
              "4986    1\n",
              "       ..\n",
              "9785    0\n",
              "7763    1\n",
              "5218    0\n",
              "1346    1\n",
              "3582    0\n",
              "Name: Stage, Length: 7832, dtype: int64"
            ]
          },
          "metadata": {
            "tags": []
          },
          "execution_count": 813
        }
      ]
    },
    {
      "cell_type": "code",
      "metadata": {
        "colab": {
          "base_uri": "https://localhost:8080/",
          "height": 423
        },
        "id": "IU89EiMVMmtp",
        "outputId": "dfc7f162-1004-4bfe-9259-23411feb1823"
      },
      "source": [
        "testFinal"
      ],
      "execution_count": null,
      "outputs": [
        {
          "output_type": "execute_result",
          "data": {
            "text/html": [
              "<div>\n",
              "<style scoped>\n",
              "    .dataframe tbody tr th:only-of-type {\n",
              "        vertical-align: middle;\n",
              "    }\n",
              "\n",
              "    .dataframe tbody tr th {\n",
              "        vertical-align: top;\n",
              "    }\n",
              "\n",
              "    .dataframe thead th {\n",
              "        text-align: right;\n",
              "    }\n",
              "</style>\n",
              "<table border=\"1\" class=\"dataframe\">\n",
              "  <thead>\n",
              "    <tr style=\"text-align: right;\">\n",
              "      <th></th>\n",
              "      <th>totalamount</th>\n",
              "      <th>totalTrf</th>\n",
              "      <th>meanEncodingTerritory</th>\n",
              "    </tr>\n",
              "  </thead>\n",
              "  <tbody>\n",
              "    <tr>\n",
              "      <th>0</th>\n",
              "      <td>367419.0</td>\n",
              "      <td>0</td>\n",
              "      <td>0.548148</td>\n",
              "    </tr>\n",
              "    <tr>\n",
              "      <th>1</th>\n",
              "      <td>757783.5</td>\n",
              "      <td>1</td>\n",
              "      <td>0.548148</td>\n",
              "    </tr>\n",
              "    <tr>\n",
              "      <th>2</th>\n",
              "      <td>21037.5</td>\n",
              "      <td>0</td>\n",
              "      <td>0.347490</td>\n",
              "    </tr>\n",
              "    <tr>\n",
              "      <th>3</th>\n",
              "      <td>2169106.5</td>\n",
              "      <td>6</td>\n",
              "      <td>0.632723</td>\n",
              "    </tr>\n",
              "    <tr>\n",
              "      <th>4</th>\n",
              "      <td>5752.5</td>\n",
              "      <td>0</td>\n",
              "      <td>0.632723</td>\n",
              "    </tr>\n",
              "    <tr>\n",
              "      <th>...</th>\n",
              "      <td>...</td>\n",
              "      <td>...</td>\n",
              "      <td>...</td>\n",
              "    </tr>\n",
              "    <tr>\n",
              "      <th>1562</th>\n",
              "      <td>147750.0</td>\n",
              "      <td>0</td>\n",
              "      <td>0.416667</td>\n",
              "    </tr>\n",
              "    <tr>\n",
              "      <th>1563</th>\n",
              "      <td>45054.9</td>\n",
              "      <td>0</td>\n",
              "      <td>0.367953</td>\n",
              "    </tr>\n",
              "    <tr>\n",
              "      <th>1564</th>\n",
              "      <td>100122.0</td>\n",
              "      <td>0</td>\n",
              "      <td>0.367953</td>\n",
              "    </tr>\n",
              "    <tr>\n",
              "      <th>1565</th>\n",
              "      <td>143220.0</td>\n",
              "      <td>0</td>\n",
              "      <td>0.347490</td>\n",
              "    </tr>\n",
              "    <tr>\n",
              "      <th>1566</th>\n",
              "      <td>871020.8</td>\n",
              "      <td>3</td>\n",
              "      <td>0.569832</td>\n",
              "    </tr>\n",
              "  </tbody>\n",
              "</table>\n",
              "<p>1567 rows × 3 columns</p>\n",
              "</div>"
            ],
            "text/plain": [
              "      totalamount  totalTrf  meanEncodingTerritory\n",
              "0        367419.0         0               0.548148\n",
              "1        757783.5         1               0.548148\n",
              "2         21037.5         0               0.347490\n",
              "3       2169106.5         6               0.632723\n",
              "4          5752.5         0               0.632723\n",
              "...           ...       ...                    ...\n",
              "1562     147750.0         0               0.416667\n",
              "1563      45054.9         0               0.367953\n",
              "1564     100122.0         0               0.367953\n",
              "1565     143220.0         0               0.347490\n",
              "1566     871020.8         3               0.569832\n",
              "\n",
              "[1567 rows x 3 columns]"
            ]
          },
          "metadata": {
            "tags": []
          },
          "execution_count": 814
        }
      ]
    },
    {
      "cell_type": "code",
      "metadata": {
        "id": "XqctymtZJlK7"
      },
      "source": [
        "prediccion=modelo.entrenarYPredecirWithTest(X_train,y_train,testFinal)"
      ],
      "execution_count": null,
      "outputs": []
    },
    {
      "cell_type": "code",
      "metadata": {
        "id": "KPrGKGNiEVTg",
        "colab": {
          "base_uri": "https://localhost:8080/"
        },
        "outputId": "197b9c0a-25c9-4491-fc44-54fc28779986"
      },
      "source": [
        "len(prediccion)"
      ],
      "execution_count": null,
      "outputs": [
        {
          "output_type": "execute_result",
          "data": {
            "text/plain": [
              "1567"
            ]
          },
          "metadata": {
            "tags": []
          },
          "execution_count": 816
        }
      ]
    },
    {
      "cell_type": "code",
      "metadata": {
        "id": "VXXmQ6UgOKL1"
      },
      "source": [
        ""
      ],
      "execution_count": null,
      "outputs": []
    },
    {
      "cell_type": "code",
      "metadata": {
        "id": "MJT7zZqzP9hL"
      },
      "source": [
        ""
      ],
      "execution_count": null,
      "outputs": []
    },
    {
      "cell_type": "code",
      "metadata": {
        "colab": {
          "base_uri": "https://localhost:8080/",
          "height": 17
        },
        "id": "Zj3qRh7Lmzzh",
        "outputId": "f2021952-f955-4354-c223-8e900a483746"
      },
      "source": [
        "#se pasa testFinal porque posee\r\n",
        "modelo.formarDfKaggle(  prediccion)"
      ],
      "execution_count": null,
      "outputs": [
        {
          "output_type": "display_data",
          "data": {
            "application/javascript": [
              "\n",
              "    async function download(id, filename, size) {\n",
              "      if (!google.colab.kernel.accessAllowed) {\n",
              "        return;\n",
              "      }\n",
              "      const div = document.createElement('div');\n",
              "      const label = document.createElement('label');\n",
              "      label.textContent = `Downloading \"${filename}\": `;\n",
              "      div.appendChild(label);\n",
              "      const progress = document.createElement('progress');\n",
              "      progress.max = size;\n",
              "      div.appendChild(progress);\n",
              "      document.body.appendChild(div);\n",
              "\n",
              "      const buffers = [];\n",
              "      let downloaded = 0;\n",
              "\n",
              "      const channel = await google.colab.kernel.comms.open(id);\n",
              "      // Send a message to notify the kernel that we're ready.\n",
              "      channel.send({})\n",
              "\n",
              "      for await (const message of channel.messages) {\n",
              "        // Send a message to notify the kernel that we're ready.\n",
              "        channel.send({})\n",
              "        if (message.buffers) {\n",
              "          for (const buffer of message.buffers) {\n",
              "            buffers.push(buffer);\n",
              "            downloaded += buffer.byteLength;\n",
              "            progress.value = downloaded;\n",
              "          }\n",
              "        }\n",
              "      }\n",
              "      const blob = new Blob(buffers, {type: 'application/binary'});\n",
              "      const a = document.createElement('a');\n",
              "      a.href = window.URL.createObjectURL(blob);\n",
              "      a.download = filename;\n",
              "      div.appendChild(a);\n",
              "      a.click();\n",
              "      div.remove();\n",
              "    }\n",
              "  "
            ],
            "text/plain": [
              "<IPython.core.display.Javascript object>"
            ]
          },
          "metadata": {
            "tags": []
          }
        },
        {
          "output_type": "display_data",
          "data": {
            "application/javascript": [
              "download(\"download_c653082c-ba9f-4383-a4e2-e5d559c00344\", \"dfKaggle.csv\", 26024)"
            ],
            "text/plain": [
              "<IPython.core.display.Javascript object>"
            ]
          },
          "metadata": {
            "tags": []
          }
        }
      ]
    },
    {
      "cell_type": "code",
      "metadata": {
        "colab": {
          "base_uri": "https://localhost:8080/",
          "height": 295
        },
        "id": "bh_v60WMwuLu",
        "outputId": "1cdfa3bc-6d8d-4676-b05c-92a28ae29316"
      },
      "source": [
        "modelo.featureImportancia( X_train)"
      ],
      "execution_count": null,
      "outputs": [
        {
          "output_type": "display_data",
          "data": {
            "image/png": "[encoded data removed]",
            "text/plain": [
              "<Figure size 432x288 with 1 Axes>"
            ]
          },
          "metadata": {
            "tags": [],
            "needs_background": "light"
          }
        }
      ]
    },
    {
      "cell_type": "code",
      "metadata": {
        "id": "Snm7Ff8M0n4_"
      },
      "source": [
        ""
      ],
      "execution_count": null,
      "outputs": []
    },
    {
      "cell_type": "code",
      "metadata": {
        "id": "smtQYKtjWaWh"
      },
      "source": [
        ""
      ],
      "execution_count": null,
      "outputs": []
    },
    {
      "cell_type": "markdown",
      "metadata": {
        "id": "ZfnJI7RCWdyK"
      },
      "source": [
        "# **AHORA VAMOS A PROBAR CON RANDOM FOREST**"
      ]
    },
    {
      "cell_type": "code",
      "metadata": {
        "id": "IhpjpdTjWaal"
      },
      "source": [
        ""
      ],
      "execution_count": null,
      "outputs": []
    },
    {
      "cell_type": "code",
      "metadata": {
        "id": "A7c-ZVKUWadB"
      },
      "source": [
        ""
      ],
      "execution_count": null,
      "outputs": []
    },
    {
      "cell_type": "code",
      "metadata": {
        "id": "kO2YVdJQWbM1"
      },
      "source": [
        "#1)Apertura\r\n",
        "entrenamiento = pd.read_csv('data.csv')\r\n",
        "df=entrenamiento "
      ],
      "execution_count": null,
      "outputs": []
    },
    {
      "cell_type": "code",
      "metadata": {
        "id": "WvjMgdY8WbM2"
      },
      "source": [
        "random_state=1\r\n",
        "n_estimators=20\r\n",
        "#aca agregamos los hiperparametros que estamos probando\r\n",
        "Hiperparametros=[random_state ,n_estimators ]\r\n",
        "#por ahora no se usan los hirparametros, se setea dentro de las clase estos,\r\n",
        "#pero la idea es que se pueda setear desde afuera para probar"
      ],
      "execution_count": null,
      "outputs": []
    },
    {
      "cell_type": "code",
      "metadata": {
        "id": "0R8ns3-EWbM2"
      },
      "source": [
        "modelos={\r\n",
        "         'ramdomForest': RandomForestRegre(Hiperparametros),\r\n",
        "         'xgboost':xgbosst(Hiperparametros)\r\n",
        "}"
      ],
      "execution_count": null,
      "outputs": []
    },
    {
      "cell_type": "code",
      "metadata": {
        "colab": {
          "base_uri": "https://localhost:8080/",
          "height": 206
        },
        "id": "oV8e5WpWWbM2",
        "outputId": "fcb9544b-8d93-4b77-b09d-89ba061ad40a"
      },
      "source": [
        "\r\n",
        "\r\n",
        "modelo=modelos.get('ramdomForest')\r\n",
        "#cargamos el modelo \r\n",
        "modelo=modelo\r\n",
        "#hacemos feature engierine sobre el df original\r\n",
        "dfFeature=modelo.featureEngeenier(entrenamiento)\r\n",
        "dfFeature.head()\r\n",
        "#le agregamos el target\r\n",
        "dfFeatureWithTarget=modelo.agregarTargetDfOriginal(entrenamiento,dfFeature)\r\n",
        "dfFeatureWithTarget.head()"
      ],
      "execution_count": null,
      "outputs": [
        {
          "output_type": "execute_result",
          "data": {
            "text/html": [
              "<div>\n",
              "<style scoped>\n",
              "    .dataframe tbody tr th:only-of-type {\n",
              "        vertical-align: middle;\n",
              "    }\n",
              "\n",
              "    .dataframe tbody tr th {\n",
              "        vertical-align: top;\n",
              "    }\n",
              "\n",
              "    .dataframe thead th {\n",
              "        text-align: right;\n",
              "    }\n",
              "</style>\n",
              "<table border=\"1\" class=\"dataframe\">\n",
              "  <thead>\n",
              "    <tr style=\"text-align: right;\">\n",
              "      <th></th>\n",
              "      <th>Opportunity_ID</th>\n",
              "      <th>totalamount</th>\n",
              "      <th>totalTrf</th>\n",
              "      <th>Stage</th>\n",
              "    </tr>\n",
              "  </thead>\n",
              "  <tbody>\n",
              "    <tr>\n",
              "      <th>0</th>\n",
              "      <td>0</td>\n",
              "      <td>5272800.0</td>\n",
              "      <td>10</td>\n",
              "      <td>0</td>\n",
              "    </tr>\n",
              "    <tr>\n",
              "      <th>1</th>\n",
              "      <td>1</td>\n",
              "      <td>48230.0</td>\n",
              "      <td>0</td>\n",
              "      <td>1</td>\n",
              "    </tr>\n",
              "    <tr>\n",
              "      <th>2</th>\n",
              "      <td>2</td>\n",
              "      <td>83865.6</td>\n",
              "      <td>0</td>\n",
              "      <td>1</td>\n",
              "    </tr>\n",
              "    <tr>\n",
              "      <th>3</th>\n",
              "      <td>3</td>\n",
              "      <td>7421881.5</td>\n",
              "      <td>14</td>\n",
              "      <td>0</td>\n",
              "    </tr>\n",
              "    <tr>\n",
              "      <th>4</th>\n",
              "      <td>4</td>\n",
              "      <td>13357192.5</td>\n",
              "      <td>25</td>\n",
              "      <td>0</td>\n",
              "    </tr>\n",
              "  </tbody>\n",
              "</table>\n",
              "</div>"
            ],
            "text/plain": [
              "   Opportunity_ID  totalamount  totalTrf Stage\n",
              "0               0    5272800.0        10     0\n",
              "1               1      48230.0         0     1\n",
              "2               2      83865.6         0     1\n",
              "3               3    7421881.5        14     0\n",
              "4               4   13357192.5        25     0"
            ]
          },
          "metadata": {
            "tags": []
          },
          "execution_count": 822
        }
      ]
    },
    {
      "cell_type": "code",
      "metadata": {
        "id": "6BNhanycWbM3"
      },
      "source": [
        "def agregarMeanEncoding(dfWithFeatureTarget,columnCategorica):\r\n",
        "  \"\"\"dfWithFeature es un df de formato ['Opportunity_ID', y columnas nuevas agregadas anteriormente,target]\r\n",
        "  se hace minencoding columancategoria, retorna un df con opportunity_id, meanencoding,columnas nuevas agregadas anteriormente\r\n",
        "      \"\"\"\r\n",
        "  df = pd.read_csv('data.csv')\r\n",
        "  entrenamiento = pd.read_csv('data.csv')\r\n",
        "  df = df.replace('Closed Won', '1')\r\n",
        "  df = df.replace('Closed Lost', '0')\r\n",
        "  df = df[df['Stage'].isin(['0','1'])]\r\n",
        "  df.Stage = df.Stage.astype(int)\r\n",
        "  df = df.groupby([columnCategorica,'Opportunity_ID']).agg({'Stage':['sum','count']})\r\n",
        "  df = df.reset_index()\r\n",
        "  df1 = df\r\n",
        "  df1.columns = [columnCategorica,'Opportunity_ID','Stage_sum','Stage_count']\r\n",
        "  df1['Stage_sum'] = df1['Stage_sum'].apply(lambda x: 0 if x == 0 else 1)\r\n",
        "  df2 = df1.groupby([columnCategorica]).agg(meanEncodingTerritory = ('Stage_sum','mean'))\r\n",
        "  df2 = df2.reset_index()\r\n",
        "  agruparOportunity=entrenamiento.groupby(['Opportunity_ID',columnCategorica]).agg(cant=(columnCategorica,'count')).reset_index()\r\n",
        "  result=pd.merge(agruparOportunity,df2,on=columnCategorica,how='inner')\r\n",
        "  #eliminamos columnas que no sirve, columncategorica porque la reemplazamos por el mean enconding, y cant que \r\n",
        "  #la usamos para unificar por oportunity_id \r\n",
        "  del result['cant']\r\n",
        "  del result['Territory']\r\n",
        "  result2=pd.merge(dfWithFeatureTarget, result, on='Opportunity_ID' , how='inner')\r\n",
        "  \r\n",
        "  dfWithFeatureTarget=result2\r\n",
        "  dfWithFeatureTarget.Stage = dfWithFeatureTarget.Stage.astype(int)\r\n",
        "  return dfWithFeatureTarget"
      ],
      "execution_count": null,
      "outputs": []
    },
    {
      "cell_type": "code",
      "metadata": {
        "colab": {
          "base_uri": "https://localhost:8080/",
          "height": 206
        },
        "id": "S5bFVKHqWbM3",
        "outputId": "b11cf598-4a0f-469a-d9b2-91cb07836de9"
      },
      "source": [
        "dfNew=agregarMeanEncoding(dfFeatureWithTarget,'Territory')\r\n",
        "dfNew.head()"
      ],
      "execution_count": null,
      "outputs": [
        {
          "output_type": "execute_result",
          "data": {
            "text/html": [
              "<div>\n",
              "<style scoped>\n",
              "    .dataframe tbody tr th:only-of-type {\n",
              "        vertical-align: middle;\n",
              "    }\n",
              "\n",
              "    .dataframe tbody tr th {\n",
              "        vertical-align: top;\n",
              "    }\n",
              "\n",
              "    .dataframe thead th {\n",
              "        text-align: right;\n",
              "    }\n",
              "</style>\n",
              "<table border=\"1\" class=\"dataframe\">\n",
              "  <thead>\n",
              "    <tr style=\"text-align: right;\">\n",
              "      <th></th>\n",
              "      <th>Opportunity_ID</th>\n",
              "      <th>totalamount</th>\n",
              "      <th>totalTrf</th>\n",
              "      <th>Stage</th>\n",
              "      <th>meanEncodingTerritory</th>\n",
              "    </tr>\n",
              "  </thead>\n",
              "  <tbody>\n",
              "    <tr>\n",
              "      <th>0</th>\n",
              "      <td>0</td>\n",
              "      <td>5272800.0</td>\n",
              "      <td>10</td>\n",
              "      <td>0</td>\n",
              "      <td>0.535927</td>\n",
              "    </tr>\n",
              "    <tr>\n",
              "      <th>1</th>\n",
              "      <td>1</td>\n",
              "      <td>48230.0</td>\n",
              "      <td>0</td>\n",
              "      <td>1</td>\n",
              "      <td>0.535927</td>\n",
              "    </tr>\n",
              "    <tr>\n",
              "      <th>2</th>\n",
              "      <td>2</td>\n",
              "      <td>83865.6</td>\n",
              "      <td>0</td>\n",
              "      <td>1</td>\n",
              "      <td>0.632723</td>\n",
              "    </tr>\n",
              "    <tr>\n",
              "      <th>3</th>\n",
              "      <td>3</td>\n",
              "      <td>7421881.5</td>\n",
              "      <td>14</td>\n",
              "      <td>0</td>\n",
              "      <td>0.632723</td>\n",
              "    </tr>\n",
              "    <tr>\n",
              "      <th>4</th>\n",
              "      <td>4</td>\n",
              "      <td>13357192.5</td>\n",
              "      <td>25</td>\n",
              "      <td>0</td>\n",
              "      <td>0.632723</td>\n",
              "    </tr>\n",
              "  </tbody>\n",
              "</table>\n",
              "</div>"
            ],
            "text/plain": [
              "   Opportunity_ID  totalamount  totalTrf  Stage  meanEncodingTerritory\n",
              "0               0    5272800.0        10      0               0.535927\n",
              "1               1      48230.0         0      1               0.535927\n",
              "2               2      83865.6         0      1               0.632723\n",
              "3               3    7421881.5        14      0               0.632723\n",
              "4               4   13357192.5        25      0               0.632723"
            ]
          },
          "metadata": {
            "tags": []
          },
          "execution_count": 824
        }
      ]
    },
    {
      "cell_type": "code",
      "metadata": {
        "colab": {
          "base_uri": "https://localhost:8080/"
        },
        "id": "zWATw6bdWbM3",
        "outputId": "14d1ad64-42f4-4f10-9bfb-c2d6a70e4fe6"
      },
      "source": [
        "X,y=modelo.splitTrainTarget(dfNew)"
      ],
      "execution_count": null,
      "outputs": [
        {
          "output_type": "stream",
          "text": [
            "las columnas del train son Index(['totalamount', 'totalTrf', 'meanEncodingTerritory'], dtype='object') y del target son  Stage\n"
          ],
          "name": "stdout"
        }
      ]
    },
    {
      "cell_type": "code",
      "metadata": {
        "id": "bAcIuY7jWbM3"
      },
      "source": [
        "X_train, X_test, y_train, y_test=modelo.SplitTrainTest(X,y)"
      ],
      "execution_count": null,
      "outputs": []
    },
    {
      "cell_type": "code",
      "metadata": {
        "colab": {
          "base_uri": "https://localhost:8080/",
          "height": 423
        },
        "id": "SvFrpqETWbM5",
        "outputId": "40930af8-6249-4fe7-daaa-f88a4cdc719b"
      },
      "source": [
        "X_train"
      ],
      "execution_count": null,
      "outputs": [
        {
          "output_type": "execute_result",
          "data": {
            "text/html": [
              "<div>\n",
              "<style scoped>\n",
              "    .dataframe tbody tr th:only-of-type {\n",
              "        vertical-align: middle;\n",
              "    }\n",
              "\n",
              "    .dataframe tbody tr th {\n",
              "        vertical-align: top;\n",
              "    }\n",
              "\n",
              "    .dataframe thead th {\n",
              "        text-align: right;\n",
              "    }\n",
              "</style>\n",
              "<table border=\"1\" class=\"dataframe\">\n",
              "  <thead>\n",
              "    <tr style=\"text-align: right;\">\n",
              "      <th></th>\n",
              "      <th>totalamount</th>\n",
              "      <th>totalTrf</th>\n",
              "      <th>meanEncodingTerritory</th>\n",
              "    </tr>\n",
              "  </thead>\n",
              "  <tbody>\n",
              "    <tr>\n",
              "      <th>6509</th>\n",
              "      <td>323212.5</td>\n",
              "      <td>0</td>\n",
              "      <td>0.813953</td>\n",
              "    </tr>\n",
              "    <tr>\n",
              "      <th>6914</th>\n",
              "      <td>463600.0</td>\n",
              "      <td>0</td>\n",
              "      <td>0.535927</td>\n",
              "    </tr>\n",
              "    <tr>\n",
              "      <th>2464</th>\n",
              "      <td>1679730.0</td>\n",
              "      <td>5</td>\n",
              "      <td>0.593750</td>\n",
              "    </tr>\n",
              "    <tr>\n",
              "      <th>913</th>\n",
              "      <td>498771.0</td>\n",
              "      <td>1</td>\n",
              "      <td>0.367953</td>\n",
              "    </tr>\n",
              "    <tr>\n",
              "      <th>4986</th>\n",
              "      <td>52126.0</td>\n",
              "      <td>0</td>\n",
              "      <td>0.379310</td>\n",
              "    </tr>\n",
              "    <tr>\n",
              "      <th>...</th>\n",
              "      <td>...</td>\n",
              "      <td>...</td>\n",
              "      <td>...</td>\n",
              "    </tr>\n",
              "    <tr>\n",
              "      <th>9785</th>\n",
              "      <td>1307775.0</td>\n",
              "      <td>3</td>\n",
              "      <td>0.548148</td>\n",
              "    </tr>\n",
              "    <tr>\n",
              "      <th>7763</th>\n",
              "      <td>103125.0</td>\n",
              "      <td>0</td>\n",
              "      <td>0.593750</td>\n",
              "    </tr>\n",
              "    <tr>\n",
              "      <th>5218</th>\n",
              "      <td>292410.0</td>\n",
              "      <td>1</td>\n",
              "      <td>0.417755</td>\n",
              "    </tr>\n",
              "    <tr>\n",
              "      <th>1346</th>\n",
              "      <td>326340.0</td>\n",
              "      <td>0</td>\n",
              "      <td>0.802326</td>\n",
              "    </tr>\n",
              "    <tr>\n",
              "      <th>3582</th>\n",
              "      <td>3010000.0</td>\n",
              "      <td>0</td>\n",
              "      <td>0.802326</td>\n",
              "    </tr>\n",
              "  </tbody>\n",
              "</table>\n",
              "<p>7832 rows × 3 columns</p>\n",
              "</div>"
            ],
            "text/plain": [
              "      totalamount  totalTrf  meanEncodingTerritory\n",
              "6509     323212.5         0               0.813953\n",
              "6914     463600.0         0               0.535927\n",
              "2464    1679730.0         5               0.593750\n",
              "913      498771.0         1               0.367953\n",
              "4986      52126.0         0               0.379310\n",
              "...           ...       ...                    ...\n",
              "9785    1307775.0         3               0.548148\n",
              "7763     103125.0         0               0.593750\n",
              "5218     292410.0         1               0.417755\n",
              "1346     326340.0         0               0.802326\n",
              "3582    3010000.0         0               0.802326\n",
              "\n",
              "[7832 rows x 3 columns]"
            ]
          },
          "metadata": {
            "tags": []
          },
          "execution_count": 827
        }
      ]
    },
    {
      "cell_type": "code",
      "metadata": {
        "colab": {
          "base_uri": "https://localhost:8080/"
        },
        "id": "h-t8-eCRWbM5",
        "outputId": "79236753-8e4d-4221-d470-6556f27a3165"
      },
      "source": [
        "#entrenamo y predecimos, y comparamos con el valor real y vemos su error\r\n",
        "modelo.errorSetEntrenamiento(  X_train,y_train,X_test,y_test) "
      ],
      "execution_count": null,
      "outputs": [
        {
          "output_type": "stream",
          "text": [
            "RMSE: 0.467078\n"
          ],
          "name": "stdout"
        }
      ]
    },
    {
      "cell_type": "markdown",
      "metadata": {
        "id": "-WsjAD_PWbM5"
      },
      "source": [
        "# aca vamos a entrenar y predecir con el test para subir a kaggle"
      ]
    },
    {
      "cell_type": "code",
      "metadata": {
        "id": "LRA5HslDWbM5"
      },
      "source": [
        "test=pd.read_csv('test.csv')"
      ],
      "execution_count": null,
      "outputs": []
    },
    {
      "cell_type": "code",
      "metadata": {
        "colab": {
          "base_uri": "https://localhost:8080/",
          "height": 206
        },
        "id": "D0sd7XniWbM5",
        "outputId": "020f4c8a-b873-4adf-a6bf-ed6cb07f7183"
      },
      "source": [
        "testFeature=modelo.featureEngeenier(test)\r\n",
        "testFeature.head()"
      ],
      "execution_count": null,
      "outputs": [
        {
          "output_type": "execute_result",
          "data": {
            "text/html": [
              "<div>\n",
              "<style scoped>\n",
              "    .dataframe tbody tr th:only-of-type {\n",
              "        vertical-align: middle;\n",
              "    }\n",
              "\n",
              "    .dataframe tbody tr th {\n",
              "        vertical-align: top;\n",
              "    }\n",
              "\n",
              "    .dataframe thead th {\n",
              "        text-align: right;\n",
              "    }\n",
              "</style>\n",
              "<table border=\"1\" class=\"dataframe\">\n",
              "  <thead>\n",
              "    <tr style=\"text-align: right;\">\n",
              "      <th></th>\n",
              "      <th>Opportunity_ID</th>\n",
              "      <th>totalamount</th>\n",
              "      <th>totalTrf</th>\n",
              "    </tr>\n",
              "  </thead>\n",
              "  <tbody>\n",
              "    <tr>\n",
              "      <th>0</th>\n",
              "      <td>10689</td>\n",
              "      <td>367419.0</td>\n",
              "      <td>0</td>\n",
              "    </tr>\n",
              "    <tr>\n",
              "      <th>1</th>\n",
              "      <td>10690</td>\n",
              "      <td>757783.5</td>\n",
              "      <td>1</td>\n",
              "    </tr>\n",
              "    <tr>\n",
              "      <th>2</th>\n",
              "      <td>10691</td>\n",
              "      <td>21037.5</td>\n",
              "      <td>0</td>\n",
              "    </tr>\n",
              "    <tr>\n",
              "      <th>3</th>\n",
              "      <td>10692</td>\n",
              "      <td>2169106.5</td>\n",
              "      <td>6</td>\n",
              "    </tr>\n",
              "    <tr>\n",
              "      <th>4</th>\n",
              "      <td>10693</td>\n",
              "      <td>5752.5</td>\n",
              "      <td>0</td>\n",
              "    </tr>\n",
              "  </tbody>\n",
              "</table>\n",
              "</div>"
            ],
            "text/plain": [
              "   Opportunity_ID  totalamount  totalTrf\n",
              "0           10689     367419.0         0\n",
              "1           10690     757783.5         1\n",
              "2           10691      21037.5         0\n",
              "3           10692    2169106.5         6\n",
              "4           10693       5752.5         0"
            ]
          },
          "metadata": {
            "tags": []
          },
          "execution_count": 830
        }
      ]
    },
    {
      "cell_type": "code",
      "metadata": {
        "id": "ZeHDOLozWbM5"
      },
      "source": [
        "def meanEncodingDejandoColumnaCategorica(columnsCategory):\r\n",
        "  \"\"\"devuelve un dataframe con el formato [columnscategory,meanencodingcategory]\r\n",
        "    es porque lo vamos a usar para hacer merge por su columna categorica\"\"\"\r\n",
        "  df = pd.read_csv('data.csv')\r\n",
        "  entrenamiento = pd.read_csv('data.csv')\r\n",
        "  df = df.replace('Closed Won', '1')\r\n",
        "  df = df.replace('Closed Lost', '0')\r\n",
        "  df = df[df['Stage'].isin(['0','1'])]\r\n",
        "  df.Stage = df.Stage.astype(int)\r\n",
        "  df = df.groupby([columnsCategory,'Opportunity_ID']).agg({'Stage':['sum','count']})\r\n",
        "  df = df.reset_index()\r\n",
        "  df1 = df\r\n",
        "  df1.columns = [columnsCategory,'Opportunity_ID','Stage_sum','Stage_count']\r\n",
        "  df1['Stage_sum'] = df1['Stage_sum'].apply(lambda x: 0 if x == 0 else 1)\r\n",
        "  df2 = df1.groupby([columnsCategory]).agg(meanEncodingTerritory = ('Stage_sum','mean'))\r\n",
        "  df2 = df2.reset_index()\r\n",
        "  agruparOportunity=entrenamiento.groupby(['Opportunity_ID',columnsCategory]).agg(cant=(columnsCategory,'count')).reset_index()\r\n",
        "  result=pd.merge(agruparOportunity,df2,on=columnsCategory,how='inner')\r\n",
        "  result.head()\r\n",
        "  del result['cant']\r\n",
        "  result2=result[[columnsCategory,'meanEncodingTerritory']].drop_duplicates()\r\n",
        "  return  result2"
      ],
      "execution_count": null,
      "outputs": []
    },
    {
      "cell_type": "code",
      "metadata": {
        "colab": {
          "base_uri": "https://localhost:8080/",
          "height": 206
        },
        "id": "ckxgt0D4WbM6",
        "outputId": "c5f2f935-f4eb-41c6-ae0c-424c9ced5150"
      },
      "source": [
        "dfMeanEncoding=meanEncodingDejandoColumnaCategorica(\"Territory\")\r\n",
        "dfMeanEncoding.head()"
      ],
      "execution_count": null,
      "outputs": [
        {
          "output_type": "execute_result",
          "data": {
            "text/html": [
              "<div>\n",
              "<style scoped>\n",
              "    .dataframe tbody tr th:only-of-type {\n",
              "        vertical-align: middle;\n",
              "    }\n",
              "\n",
              "    .dataframe tbody tr th {\n",
              "        vertical-align: top;\n",
              "    }\n",
              "\n",
              "    .dataframe thead th {\n",
              "        text-align: right;\n",
              "    }\n",
              "</style>\n",
              "<table border=\"1\" class=\"dataframe\">\n",
              "  <thead>\n",
              "    <tr style=\"text-align: right;\">\n",
              "      <th></th>\n",
              "      <th>Territory</th>\n",
              "      <th>meanEncodingTerritory</th>\n",
              "    </tr>\n",
              "  </thead>\n",
              "  <tbody>\n",
              "    <tr>\n",
              "      <th>0</th>\n",
              "      <td>None</td>\n",
              "      <td>0.535927</td>\n",
              "    </tr>\n",
              "    <tr>\n",
              "      <th>1867</th>\n",
              "      <td>NW America</td>\n",
              "      <td>0.632723</td>\n",
              "    </tr>\n",
              "    <tr>\n",
              "      <th>2745</th>\n",
              "      <td>India</td>\n",
              "      <td>0.457227</td>\n",
              "    </tr>\n",
              "    <tr>\n",
              "      <th>3425</th>\n",
              "      <td>Italy</td>\n",
              "      <td>0.432692</td>\n",
              "    </tr>\n",
              "    <tr>\n",
              "      <th>3633</th>\n",
              "      <td>Germany</td>\n",
              "      <td>0.548148</td>\n",
              "    </tr>\n",
              "  </tbody>\n",
              "</table>\n",
              "</div>"
            ],
            "text/plain": [
              "       Territory  meanEncodingTerritory\n",
              "0           None               0.535927\n",
              "1867  NW America               0.632723\n",
              "2745       India               0.457227\n",
              "3425       Italy               0.432692\n",
              "3633     Germany               0.548148"
            ]
          },
          "metadata": {
            "tags": []
          },
          "execution_count": 832
        }
      ]
    },
    {
      "cell_type": "code",
      "metadata": {
        "colab": {
          "base_uri": "https://localhost:8080/",
          "height": 206
        },
        "id": "Xwf8JW6YWbM6",
        "outputId": "4b361875-8b81-40aa-f52e-343a1de3d768"
      },
      "source": [
        "testAux=test.groupby(['Opportunity_ID','Territory' ]).agg(cant=('Opportunity_ID','count')).reset_index()[['Opportunity_ID','Territory' ]]\r\n",
        "testAux.head()"
      ],
      "execution_count": null,
      "outputs": [
        {
          "output_type": "execute_result",
          "data": {
            "text/html": [
              "<div>\n",
              "<style scoped>\n",
              "    .dataframe tbody tr th:only-of-type {\n",
              "        vertical-align: middle;\n",
              "    }\n",
              "\n",
              "    .dataframe tbody tr th {\n",
              "        vertical-align: top;\n",
              "    }\n",
              "\n",
              "    .dataframe thead th {\n",
              "        text-align: right;\n",
              "    }\n",
              "</style>\n",
              "<table border=\"1\" class=\"dataframe\">\n",
              "  <thead>\n",
              "    <tr style=\"text-align: right;\">\n",
              "      <th></th>\n",
              "      <th>Opportunity_ID</th>\n",
              "      <th>Territory</th>\n",
              "    </tr>\n",
              "  </thead>\n",
              "  <tbody>\n",
              "    <tr>\n",
              "      <th>0</th>\n",
              "      <td>10689</td>\n",
              "      <td>Germany</td>\n",
              "    </tr>\n",
              "    <tr>\n",
              "      <th>1</th>\n",
              "      <td>10690</td>\n",
              "      <td>Germany</td>\n",
              "    </tr>\n",
              "    <tr>\n",
              "      <th>2</th>\n",
              "      <td>10691</td>\n",
              "      <td>NE America</td>\n",
              "    </tr>\n",
              "    <tr>\n",
              "      <th>3</th>\n",
              "      <td>10692</td>\n",
              "      <td>NW America</td>\n",
              "    </tr>\n",
              "    <tr>\n",
              "      <th>4</th>\n",
              "      <td>10693</td>\n",
              "      <td>NW America</td>\n",
              "    </tr>\n",
              "  </tbody>\n",
              "</table>\n",
              "</div>"
            ],
            "text/plain": [
              "   Opportunity_ID   Territory\n",
              "0           10689     Germany\n",
              "1           10690     Germany\n",
              "2           10691  NE America\n",
              "3           10692  NW America\n",
              "4           10693  NW America"
            ]
          },
          "metadata": {
            "tags": []
          },
          "execution_count": 833
        }
      ]
    },
    {
      "cell_type": "code",
      "metadata": {
        "colab": {
          "base_uri": "https://localhost:8080/",
          "height": 423
        },
        "id": "74Nq7U5tWbM6",
        "outputId": "0421310e-5e3c-48f0-d0f5-39295031ab6c"
      },
      "source": [
        "territories=pd.merge(testAux,dfMeanEncoding, on=\"Territory\", how='left') \r\n",
        "territories"
      ],
      "execution_count": null,
      "outputs": [
        {
          "output_type": "execute_result",
          "data": {
            "text/html": [
              "<div>\n",
              "<style scoped>\n",
              "    .dataframe tbody tr th:only-of-type {\n",
              "        vertical-align: middle;\n",
              "    }\n",
              "\n",
              "    .dataframe tbody tr th {\n",
              "        vertical-align: top;\n",
              "    }\n",
              "\n",
              "    .dataframe thead th {\n",
              "        text-align: right;\n",
              "    }\n",
              "</style>\n",
              "<table border=\"1\" class=\"dataframe\">\n",
              "  <thead>\n",
              "    <tr style=\"text-align: right;\">\n",
              "      <th></th>\n",
              "      <th>Opportunity_ID</th>\n",
              "      <th>Territory</th>\n",
              "      <th>meanEncodingTerritory</th>\n",
              "    </tr>\n",
              "  </thead>\n",
              "  <tbody>\n",
              "    <tr>\n",
              "      <th>0</th>\n",
              "      <td>10689</td>\n",
              "      <td>Germany</td>\n",
              "      <td>0.548148</td>\n",
              "    </tr>\n",
              "    <tr>\n",
              "      <th>1</th>\n",
              "      <td>10690</td>\n",
              "      <td>Germany</td>\n",
              "      <td>0.548148</td>\n",
              "    </tr>\n",
              "    <tr>\n",
              "      <th>2</th>\n",
              "      <td>10691</td>\n",
              "      <td>NE America</td>\n",
              "      <td>0.347490</td>\n",
              "    </tr>\n",
              "    <tr>\n",
              "      <th>3</th>\n",
              "      <td>10692</td>\n",
              "      <td>NW America</td>\n",
              "      <td>0.632723</td>\n",
              "    </tr>\n",
              "    <tr>\n",
              "      <th>4</th>\n",
              "      <td>10693</td>\n",
              "      <td>NW America</td>\n",
              "      <td>0.632723</td>\n",
              "    </tr>\n",
              "    <tr>\n",
              "      <th>...</th>\n",
              "      <td>...</td>\n",
              "      <td>...</td>\n",
              "      <td>...</td>\n",
              "    </tr>\n",
              "    <tr>\n",
              "      <th>1562</th>\n",
              "      <td>12364</td>\n",
              "      <td>KSA</td>\n",
              "      <td>0.416667</td>\n",
              "    </tr>\n",
              "    <tr>\n",
              "      <th>1563</th>\n",
              "      <td>12365</td>\n",
              "      <td>SE America</td>\n",
              "      <td>0.367953</td>\n",
              "    </tr>\n",
              "    <tr>\n",
              "      <th>1564</th>\n",
              "      <td>12366</td>\n",
              "      <td>SE America</td>\n",
              "      <td>0.367953</td>\n",
              "    </tr>\n",
              "    <tr>\n",
              "      <th>1565</th>\n",
              "      <td>12367</td>\n",
              "      <td>NE America</td>\n",
              "      <td>0.347490</td>\n",
              "    </tr>\n",
              "    <tr>\n",
              "      <th>1566</th>\n",
              "      <td>12368</td>\n",
              "      <td>Belgium</td>\n",
              "      <td>0.569832</td>\n",
              "    </tr>\n",
              "  </tbody>\n",
              "</table>\n",
              "<p>1567 rows × 3 columns</p>\n",
              "</div>"
            ],
            "text/plain": [
              "      Opportunity_ID   Territory  meanEncodingTerritory\n",
              "0              10689     Germany               0.548148\n",
              "1              10690     Germany               0.548148\n",
              "2              10691  NE America               0.347490\n",
              "3              10692  NW America               0.632723\n",
              "4              10693  NW America               0.632723\n",
              "...              ...         ...                    ...\n",
              "1562           12364         KSA               0.416667\n",
              "1563           12365  SE America               0.367953\n",
              "1564           12366  SE America               0.367953\n",
              "1565           12367  NE America               0.347490\n",
              "1566           12368     Belgium               0.569832\n",
              "\n",
              "[1567 rows x 3 columns]"
            ]
          },
          "metadata": {
            "tags": []
          },
          "execution_count": 834
        }
      ]
    },
    {
      "cell_type": "code",
      "metadata": {
        "colab": {
          "base_uri": "https://localhost:8080/",
          "height": 423
        },
        "id": "EL9LbmbPWbM6",
        "outputId": "b6aa74c5-225f-43b7-e2b4-d1760597ddf5"
      },
      "source": [
        " testFinal=pd.merge(testFeature,territories, on=\"Opportunity_ID\", how='inner') \r\n",
        " testFinal"
      ],
      "execution_count": null,
      "outputs": [
        {
          "output_type": "execute_result",
          "data": {
            "text/html": [
              "<div>\n",
              "<style scoped>\n",
              "    .dataframe tbody tr th:only-of-type {\n",
              "        vertical-align: middle;\n",
              "    }\n",
              "\n",
              "    .dataframe tbody tr th {\n",
              "        vertical-align: top;\n",
              "    }\n",
              "\n",
              "    .dataframe thead th {\n",
              "        text-align: right;\n",
              "    }\n",
              "</style>\n",
              "<table border=\"1\" class=\"dataframe\">\n",
              "  <thead>\n",
              "    <tr style=\"text-align: right;\">\n",
              "      <th></th>\n",
              "      <th>Opportunity_ID</th>\n",
              "      <th>totalamount</th>\n",
              "      <th>totalTrf</th>\n",
              "      <th>Territory</th>\n",
              "      <th>meanEncodingTerritory</th>\n",
              "    </tr>\n",
              "  </thead>\n",
              "  <tbody>\n",
              "    <tr>\n",
              "      <th>0</th>\n",
              "      <td>10689</td>\n",
              "      <td>367419.0</td>\n",
              "      <td>0</td>\n",
              "      <td>Germany</td>\n",
              "      <td>0.548148</td>\n",
              "    </tr>\n",
              "    <tr>\n",
              "      <th>1</th>\n",
              "      <td>10690</td>\n",
              "      <td>757783.5</td>\n",
              "      <td>1</td>\n",
              "      <td>Germany</td>\n",
              "      <td>0.548148</td>\n",
              "    </tr>\n",
              "    <tr>\n",
              "      <th>2</th>\n",
              "      <td>10691</td>\n",
              "      <td>21037.5</td>\n",
              "      <td>0</td>\n",
              "      <td>NE America</td>\n",
              "      <td>0.347490</td>\n",
              "    </tr>\n",
              "    <tr>\n",
              "      <th>3</th>\n",
              "      <td>10692</td>\n",
              "      <td>2169106.5</td>\n",
              "      <td>6</td>\n",
              "      <td>NW America</td>\n",
              "      <td>0.632723</td>\n",
              "    </tr>\n",
              "    <tr>\n",
              "      <th>4</th>\n",
              "      <td>10693</td>\n",
              "      <td>5752.5</td>\n",
              "      <td>0</td>\n",
              "      <td>NW America</td>\n",
              "      <td>0.632723</td>\n",
              "    </tr>\n",
              "    <tr>\n",
              "      <th>...</th>\n",
              "      <td>...</td>\n",
              "      <td>...</td>\n",
              "      <td>...</td>\n",
              "      <td>...</td>\n",
              "      <td>...</td>\n",
              "    </tr>\n",
              "    <tr>\n",
              "      <th>1562</th>\n",
              "      <td>12364</td>\n",
              "      <td>147750.0</td>\n",
              "      <td>0</td>\n",
              "      <td>KSA</td>\n",
              "      <td>0.416667</td>\n",
              "    </tr>\n",
              "    <tr>\n",
              "      <th>1563</th>\n",
              "      <td>12365</td>\n",
              "      <td>45054.9</td>\n",
              "      <td>0</td>\n",
              "      <td>SE America</td>\n",
              "      <td>0.367953</td>\n",
              "    </tr>\n",
              "    <tr>\n",
              "      <th>1564</th>\n",
              "      <td>12366</td>\n",
              "      <td>100122.0</td>\n",
              "      <td>0</td>\n",
              "      <td>SE America</td>\n",
              "      <td>0.367953</td>\n",
              "    </tr>\n",
              "    <tr>\n",
              "      <th>1565</th>\n",
              "      <td>12367</td>\n",
              "      <td>143220.0</td>\n",
              "      <td>0</td>\n",
              "      <td>NE America</td>\n",
              "      <td>0.347490</td>\n",
              "    </tr>\n",
              "    <tr>\n",
              "      <th>1566</th>\n",
              "      <td>12368</td>\n",
              "      <td>871020.8</td>\n",
              "      <td>3</td>\n",
              "      <td>Belgium</td>\n",
              "      <td>0.569832</td>\n",
              "    </tr>\n",
              "  </tbody>\n",
              "</table>\n",
              "<p>1567 rows × 5 columns</p>\n",
              "</div>"
            ],
            "text/plain": [
              "      Opportunity_ID  totalamount  totalTrf   Territory  meanEncodingTerritory\n",
              "0              10689     367419.0         0     Germany               0.548148\n",
              "1              10690     757783.5         1     Germany               0.548148\n",
              "2              10691      21037.5         0  NE America               0.347490\n",
              "3              10692    2169106.5         6  NW America               0.632723\n",
              "4              10693       5752.5         0  NW America               0.632723\n",
              "...              ...          ...       ...         ...                    ...\n",
              "1562           12364     147750.0         0         KSA               0.416667\n",
              "1563           12365      45054.9         0  SE America               0.367953\n",
              "1564           12366     100122.0         0  SE America               0.367953\n",
              "1565           12367     143220.0         0  NE America               0.347490\n",
              "1566           12368     871020.8         3     Belgium               0.569832\n",
              "\n",
              "[1567 rows x 5 columns]"
            ]
          },
          "metadata": {
            "tags": []
          },
          "execution_count": 835
        }
      ]
    },
    {
      "cell_type": "code",
      "metadata": {
        "id": "djxwCys7WbM6"
      },
      "source": [
        "columnsCategoria=\"Territory\"\r\n",
        "\r\n",
        "listColumns=testFinal.columns.to_list()\r\n",
        "listColumns.remove(columnsCategoria)\r\n",
        "listColumns.remove('Opportunity_ID')\r\n",
        "listColumns\r\n",
        "testFinal=testFinal[listColumns]"
      ],
      "execution_count": null,
      "outputs": []
    },
    {
      "cell_type": "code",
      "metadata": {
        "id": "513zyMCAWbM7"
      },
      "source": [
        "#X_train, y_test se sacan del df entrenamiento"
      ],
      "execution_count": null,
      "outputs": []
    },
    {
      "cell_type": "code",
      "metadata": {
        "colab": {
          "base_uri": "https://localhost:8080/",
          "height": 423
        },
        "id": "0Aa3uiZTWbM7",
        "outputId": "0b214c62-9479-49d3-ba0b-e61f87a031eb"
      },
      "source": [
        "X_train"
      ],
      "execution_count": null,
      "outputs": [
        {
          "output_type": "execute_result",
          "data": {
            "text/html": [
              "<div>\n",
              "<style scoped>\n",
              "    .dataframe tbody tr th:only-of-type {\n",
              "        vertical-align: middle;\n",
              "    }\n",
              "\n",
              "    .dataframe tbody tr th {\n",
              "        vertical-align: top;\n",
              "    }\n",
              "\n",
              "    .dataframe thead th {\n",
              "        text-align: right;\n",
              "    }\n",
              "</style>\n",
              "<table border=\"1\" class=\"dataframe\">\n",
              "  <thead>\n",
              "    <tr style=\"text-align: right;\">\n",
              "      <th></th>\n",
              "      <th>totalamount</th>\n",
              "      <th>totalTrf</th>\n",
              "      <th>meanEncodingTerritory</th>\n",
              "    </tr>\n",
              "  </thead>\n",
              "  <tbody>\n",
              "    <tr>\n",
              "      <th>6509</th>\n",
              "      <td>323212.5</td>\n",
              "      <td>0</td>\n",
              "      <td>0.813953</td>\n",
              "    </tr>\n",
              "    <tr>\n",
              "      <th>6914</th>\n",
              "      <td>463600.0</td>\n",
              "      <td>0</td>\n",
              "      <td>0.535927</td>\n",
              "    </tr>\n",
              "    <tr>\n",
              "      <th>2464</th>\n",
              "      <td>1679730.0</td>\n",
              "      <td>5</td>\n",
              "      <td>0.593750</td>\n",
              "    </tr>\n",
              "    <tr>\n",
              "      <th>913</th>\n",
              "      <td>498771.0</td>\n",
              "      <td>1</td>\n",
              "      <td>0.367953</td>\n",
              "    </tr>\n",
              "    <tr>\n",
              "      <th>4986</th>\n",
              "      <td>52126.0</td>\n",
              "      <td>0</td>\n",
              "      <td>0.379310</td>\n",
              "    </tr>\n",
              "    <tr>\n",
              "      <th>...</th>\n",
              "      <td>...</td>\n",
              "      <td>...</td>\n",
              "      <td>...</td>\n",
              "    </tr>\n",
              "    <tr>\n",
              "      <th>9785</th>\n",
              "      <td>1307775.0</td>\n",
              "      <td>3</td>\n",
              "      <td>0.548148</td>\n",
              "    </tr>\n",
              "    <tr>\n",
              "      <th>7763</th>\n",
              "      <td>103125.0</td>\n",
              "      <td>0</td>\n",
              "      <td>0.593750</td>\n",
              "    </tr>\n",
              "    <tr>\n",
              "      <th>5218</th>\n",
              "      <td>292410.0</td>\n",
              "      <td>1</td>\n",
              "      <td>0.417755</td>\n",
              "    </tr>\n",
              "    <tr>\n",
              "      <th>1346</th>\n",
              "      <td>326340.0</td>\n",
              "      <td>0</td>\n",
              "      <td>0.802326</td>\n",
              "    </tr>\n",
              "    <tr>\n",
              "      <th>3582</th>\n",
              "      <td>3010000.0</td>\n",
              "      <td>0</td>\n",
              "      <td>0.802326</td>\n",
              "    </tr>\n",
              "  </tbody>\n",
              "</table>\n",
              "<p>7832 rows × 3 columns</p>\n",
              "</div>"
            ],
            "text/plain": [
              "      totalamount  totalTrf  meanEncodingTerritory\n",
              "6509     323212.5         0               0.813953\n",
              "6914     463600.0         0               0.535927\n",
              "2464    1679730.0         5               0.593750\n",
              "913      498771.0         1               0.367953\n",
              "4986      52126.0         0               0.379310\n",
              "...           ...       ...                    ...\n",
              "9785    1307775.0         3               0.548148\n",
              "7763     103125.0         0               0.593750\n",
              "5218     292410.0         1               0.417755\n",
              "1346     326340.0         0               0.802326\n",
              "3582    3010000.0         0               0.802326\n",
              "\n",
              "[7832 rows x 3 columns]"
            ]
          },
          "metadata": {
            "tags": []
          },
          "execution_count": 838
        }
      ]
    },
    {
      "cell_type": "code",
      "metadata": {
        "colab": {
          "base_uri": "https://localhost:8080/"
        },
        "id": "U_xSWx8CWbM7",
        "outputId": "3285ee8a-797e-4550-ed0f-496374323586"
      },
      "source": [
        "y_train"
      ],
      "execution_count": null,
      "outputs": [
        {
          "output_type": "execute_result",
          "data": {
            "text/plain": [
              "6509    1\n",
              "6914    1\n",
              "2464    0\n",
              "913     0\n",
              "4986    1\n",
              "       ..\n",
              "9785    0\n",
              "7763    1\n",
              "5218    0\n",
              "1346    1\n",
              "3582    0\n",
              "Name: Stage, Length: 7832, dtype: int64"
            ]
          },
          "metadata": {
            "tags": []
          },
          "execution_count": 839
        }
      ]
    },
    {
      "cell_type": "code",
      "metadata": {
        "colab": {
          "base_uri": "https://localhost:8080/",
          "height": 423
        },
        "id": "M2jvRoMoWbM7",
        "outputId": "bc632b7f-6b4e-414a-c711-a155193d1a5b"
      },
      "source": [
        "testFinal"
      ],
      "execution_count": null,
      "outputs": [
        {
          "output_type": "execute_result",
          "data": {
            "text/html": [
              "<div>\n",
              "<style scoped>\n",
              "    .dataframe tbody tr th:only-of-type {\n",
              "        vertical-align: middle;\n",
              "    }\n",
              "\n",
              "    .dataframe tbody tr th {\n",
              "        vertical-align: top;\n",
              "    }\n",
              "\n",
              "    .dataframe thead th {\n",
              "        text-align: right;\n",
              "    }\n",
              "</style>\n",
              "<table border=\"1\" class=\"dataframe\">\n",
              "  <thead>\n",
              "    <tr style=\"text-align: right;\">\n",
              "      <th></th>\n",
              "      <th>totalamount</th>\n",
              "      <th>totalTrf</th>\n",
              "      <th>meanEncodingTerritory</th>\n",
              "    </tr>\n",
              "  </thead>\n",
              "  <tbody>\n",
              "    <tr>\n",
              "      <th>0</th>\n",
              "      <td>367419.0</td>\n",
              "      <td>0</td>\n",
              "      <td>0.548148</td>\n",
              "    </tr>\n",
              "    <tr>\n",
              "      <th>1</th>\n",
              "      <td>757783.5</td>\n",
              "      <td>1</td>\n",
              "      <td>0.548148</td>\n",
              "    </tr>\n",
              "    <tr>\n",
              "      <th>2</th>\n",
              "      <td>21037.5</td>\n",
              "      <td>0</td>\n",
              "      <td>0.347490</td>\n",
              "    </tr>\n",
              "    <tr>\n",
              "      <th>3</th>\n",
              "      <td>2169106.5</td>\n",
              "      <td>6</td>\n",
              "      <td>0.632723</td>\n",
              "    </tr>\n",
              "    <tr>\n",
              "      <th>4</th>\n",
              "      <td>5752.5</td>\n",
              "      <td>0</td>\n",
              "      <td>0.632723</td>\n",
              "    </tr>\n",
              "    <tr>\n",
              "      <th>...</th>\n",
              "      <td>...</td>\n",
              "      <td>...</td>\n",
              "      <td>...</td>\n",
              "    </tr>\n",
              "    <tr>\n",
              "      <th>1562</th>\n",
              "      <td>147750.0</td>\n",
              "      <td>0</td>\n",
              "      <td>0.416667</td>\n",
              "    </tr>\n",
              "    <tr>\n",
              "      <th>1563</th>\n",
              "      <td>45054.9</td>\n",
              "      <td>0</td>\n",
              "      <td>0.367953</td>\n",
              "    </tr>\n",
              "    <tr>\n",
              "      <th>1564</th>\n",
              "      <td>100122.0</td>\n",
              "      <td>0</td>\n",
              "      <td>0.367953</td>\n",
              "    </tr>\n",
              "    <tr>\n",
              "      <th>1565</th>\n",
              "      <td>143220.0</td>\n",
              "      <td>0</td>\n",
              "      <td>0.347490</td>\n",
              "    </tr>\n",
              "    <tr>\n",
              "      <th>1566</th>\n",
              "      <td>871020.8</td>\n",
              "      <td>3</td>\n",
              "      <td>0.569832</td>\n",
              "    </tr>\n",
              "  </tbody>\n",
              "</table>\n",
              "<p>1567 rows × 3 columns</p>\n",
              "</div>"
            ],
            "text/plain": [
              "      totalamount  totalTrf  meanEncodingTerritory\n",
              "0        367419.0         0               0.548148\n",
              "1        757783.5         1               0.548148\n",
              "2         21037.5         0               0.347490\n",
              "3       2169106.5         6               0.632723\n",
              "4          5752.5         0               0.632723\n",
              "...           ...       ...                    ...\n",
              "1562     147750.0         0               0.416667\n",
              "1563      45054.9         0               0.367953\n",
              "1564     100122.0         0               0.367953\n",
              "1565     143220.0         0               0.347490\n",
              "1566     871020.8         3               0.569832\n",
              "\n",
              "[1567 rows x 3 columns]"
            ]
          },
          "metadata": {
            "tags": []
          },
          "execution_count": 840
        }
      ]
    },
    {
      "cell_type": "code",
      "metadata": {
        "id": "ENgA9jIsWuBU"
      },
      "source": [
        "testFinal=testFinal.fillna(0)"
      ],
      "execution_count": null,
      "outputs": []
    },
    {
      "cell_type": "code",
      "metadata": {
        "id": "uwqTadw9WbM7"
      },
      "source": [
        "prediccion=modelo.entrenarYPredecirWithTest(X_train,y_train,testFinal)"
      ],
      "execution_count": null,
      "outputs": []
    },
    {
      "cell_type": "code",
      "metadata": {
        "colab": {
          "base_uri": "https://localhost:8080/",
          "height": 17
        },
        "id": "VKQN-YmMWbM7",
        "outputId": "1978ff67-b2ce-462c-a338-4b196216f554"
      },
      "source": [
        "#se pasa testFinal porque posee\r\n",
        "modelo.formarDfKaggle(  prediccion)"
      ],
      "execution_count": null,
      "outputs": [
        {
          "output_type": "display_data",
          "data": {
            "application/javascript": [
              "\n",
              "    async function download(id, filename, size) {\n",
              "      if (!google.colab.kernel.accessAllowed) {\n",
              "        return;\n",
              "      }\n",
              "      const div = document.createElement('div');\n",
              "      const label = document.createElement('label');\n",
              "      label.textContent = `Downloading \"${filename}\": `;\n",
              "      div.appendChild(label);\n",
              "      const progress = document.createElement('progress');\n",
              "      progress.max = size;\n",
              "      div.appendChild(progress);\n",
              "      document.body.appendChild(div);\n",
              "\n",
              "      const buffers = [];\n",
              "      let downloaded = 0;\n",
              "\n",
              "      const channel = await google.colab.kernel.comms.open(id);\n",
              "      // Send a message to notify the kernel that we're ready.\n",
              "      channel.send({})\n",
              "\n",
              "      for await (const message of channel.messages) {\n",
              "        // Send a message to notify the kernel that we're ready.\n",
              "        channel.send({})\n",
              "        if (message.buffers) {\n",
              "          for (const buffer of message.buffers) {\n",
              "            buffers.push(buffer);\n",
              "            downloaded += buffer.byteLength;\n",
              "            progress.value = downloaded;\n",
              "          }\n",
              "        }\n",
              "      }\n",
              "      const blob = new Blob(buffers, {type: 'application/binary'});\n",
              "      const a = document.createElement('a');\n",
              "      a.href = window.URL.createObjectURL(blob);\n",
              "      a.download = filename;\n",
              "      div.appendChild(a);\n",
              "      a.click();\n",
              "      div.remove();\n",
              "    }\n",
              "  "
            ],
            "text/plain": [
              "<IPython.core.display.Javascript object>"
            ]
          },
          "metadata": {
            "tags": []
          }
        },
        {
          "output_type": "display_data",
          "data": {
            "application/javascript": [
              "download(\"download_ff05d48c-2554-4d96-9aa2-454af401b521\", \"dfKaggle.csv\", 17436)"
            ],
            "text/plain": [
              "<IPython.core.display.Javascript object>"
            ]
          },
          "metadata": {
            "tags": []
          }
        }
      ]
    },
    {
      "cell_type": "code",
      "metadata": {
        "id": "zHeazAmAWbM8"
      },
      "source": [
        "modelo.featureImportancia( X_train)"
      ],
      "execution_count": null,
      "outputs": []
    },
    {
      "cell_type": "code",
      "metadata": {
        "id": "F7F1s9R6WagE"
      },
      "source": [
        ""
      ],
      "execution_count": null,
      "outputs": []
    },
    {
      "cell_type": "code",
      "metadata": {
        "id": "oG7FAEHsWajN"
      },
      "source": [
        ""
      ],
      "execution_count": null,
      "outputs": []
    },
    {
      "cell_type": "code",
      "metadata": {
        "id": "u0n7sy4d0n9Y"
      },
      "source": [
        ""
      ],
      "execution_count": null,
      "outputs": []
    },
    {
      "cell_type": "code",
      "metadata": {
        "id": "NoTbuKxs1Fbj"
      },
      "source": [
        ""
      ],
      "execution_count": null,
      "outputs": []
    },
    {
      "cell_type": "code",
      "metadata": {
        "id": "2bpQRln_1Ffd"
      },
      "source": [
        ""
      ],
      "execution_count": null,
      "outputs": []
    },
    {
      "cell_type": "code",
      "metadata": {
        "id": "xHDpSI0X0oBS"
      },
      "source": [
        ""
      ],
      "execution_count": null,
      "outputs": []
    },
    {
      "cell_type": "code",
      "metadata": {
        "id": "JwhScGPY55ZL"
      },
      "source": [
        ""
      ],
      "execution_count": null,
      "outputs": []
    }
  ]
}